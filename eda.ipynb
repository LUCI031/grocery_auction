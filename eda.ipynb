{
 "cells": [
  {
   "cell_type": "markdown",
   "metadata": {},
   "source": [
    "# Introduction\n",
    "\n",
    "-주제: 농수산물 별 물가 상승 정도 분석 및 경매 가격 분석 시각화\n",
    "-목표: 데이터 분석 프로젝트 진행, 시각화로 포트폴리오 만들기\n",
    "-기간: 22/07/25 ~ 22/08/05\n",
    "-팀원: 이진규\n",
    "-데이터: 서울열린데이터광장 : 농수산물 경매 정보 (http://data.seoul.go.kr/dataList/OA-2662/S/1/datasetView.do#)\n",
    "\n",
    "## column info\n",
    "\n",
    "값 | 의미\n",
    "---|:---:|\n",
    "`prd` | 품목명, 카테고리별로 전처리 |\n",
    "`scale` | 판매 단위 (kg) |\n",
    "`price` | 판매 가격 (₩) |\n",
    "`reg_date` | 등록일 |\n",
    "`new_class` | 상품 등급, 1이 가장 높음 |\n",
    "`price_kg` | kg 당 가격 |\n",
    "`state` | 도단위, 해외는 수입 |\n",
    "`city` | 시단위, 해외는 국가명 |"
   ]
  },
  {
   "cell_type": "markdown",
   "metadata": {},
   "source": [
    "## Initialize"
   ]
  },
  {
   "cell_type": "code",
   "execution_count": 81,
   "metadata": {},
   "outputs": [],
   "source": [
    "import pandas as pd\n",
    "import numpy as np\n",
    "import matplotlib.pyplot as plt\n",
    "import seaborn as sns\n",
    "import re\n",
    "pd.options.display.float_format = '{:.5f}'.format"
   ]
  },
  {
   "cell_type": "code",
   "execution_count": 82,
   "metadata": {},
   "outputs": [],
   "source": [
    "df2101 = pd.read_csv(\"/Users/luci031/Downloads/auction/data_proceed/202101_proceed.csv\")\n",
    "df2102 = pd.read_csv(\"/Users/luci031/Downloads/auction/data_proceed/202102_proceed.csv\")\n",
    "df2103 = pd.read_csv(\"/Users/luci031/Downloads/auction/data_proceed/202103_proceed.csv\")\n",
    "df2104 = pd.read_csv(\"/Users/luci031/Downloads/auction/data_proceed/202104_proceed.csv\")\n",
    "df2105 = pd.read_csv(\"/Users/luci031/Downloads/auction/data_proceed/202105_proceed.csv\")\n",
    "df2106 = pd.read_csv(\"/Users/luci031/Downloads/auction/data_proceed/202106_proceed.csv\")\n",
    "df2107 = pd.read_csv(\"/Users/luci031/Downloads/auction/data_proceed/202107_proceed.csv\")\n",
    "df2108 = pd.read_csv(\"/Users/luci031/Downloads/auction/data_proceed/202108_proceed.csv\")\n",
    "df2109 = pd.read_csv(\"/Users/luci031/Downloads/auction/data_proceed/202109_proceed.csv\")\n",
    "df2110 = pd.read_csv(\"/Users/luci031/Downloads/auction/data_proceed/202110_proceed.csv\")\n",
    "df2111 = pd.read_csv(\"/Users/luci031/Downloads/auction/data_proceed/202111_proceed.csv\")\n",
    "df2112 = pd.read_csv(\"/Users/luci031/Downloads/auction/data_proceed/202112_proceed.csv\")\n",
    "df2201 = pd.read_csv(\"/Users/luci031/Downloads/auction/data_proceed/202201_proceed.csv\")\n",
    "df2202 = pd.read_csv(\"/Users/luci031/Downloads/auction/data_proceed/202202_proceed.csv\")\n",
    "df2203 = pd.read_csv(\"/Users/luci031/Downloads/auction/data_proceed/202203_proceed.csv\")\n",
    "df2204 = pd.read_csv(\"/Users/luci031/Downloads/auction/data_proceed/202204_proceed.csv\")\n",
    "df2205 = pd.read_csv(\"/Users/luci031/Downloads/auction/data_proceed/202205_proceed.csv\")\n",
    "df2206 = pd.read_csv(\"/Users/luci031/Downloads/auction/data_proceed/202206_proceed.csv\")\n",
    "df_lst = [df2101,df2102,df2103,df2104,df2105,df2106,df2107,df2108,df2109,df2110,df2111,df2112,df2201,df2202,df2203,df2204,df2205,df2206]"
   ]
  },
  {
   "cell_type": "markdown",
   "metadata": {},
   "source": [
    "## Pre-processing"
   ]
  },
  {
   "cell_type": "code",
   "execution_count": 83,
   "metadata": {},
   "outputs": [],
   "source": [
    "# 데이터 전처리\n",
    "for df in df_lst:\n",
    "    df.reset_index(inplace=True,drop=True)\n",
    "    df.drop(columns=['Unnamed: 0'],inplace=True)"
   ]
  },
  {
   "cell_type": "code",
   "execution_count": 84,
   "metadata": {},
   "outputs": [],
   "source": [
    "# 모든 데이터 통합\n",
    "df = df2101\n",
    "for dfs in df_lst[1:]:\n",
    "    df = pd.concat([df,dfs])\n",
    "df.reset_index(inplace=True,drop=True)"
   ]
  },
  {
   "cell_type": "code",
   "execution_count": 85,
   "metadata": {},
   "outputs": [
    {
     "data": {
      "text/plain": [
       "prd          0\n",
       "scale        0\n",
       "price        0\n",
       "eco          0\n",
       "reg_date     0\n",
       "new_class    0\n",
       "price_kg     0\n",
       "state        0\n",
       "city         0\n",
       "dtype: int64"
      ]
     },
     "execution_count": 85,
     "metadata": {},
     "output_type": "execute_result"
    }
   ],
   "source": [
    "# 기존 데이터의 전처리가 완료된 상태기 때문에 null값 없음\n",
    "df.isnull().sum()"
   ]
  },
  {
   "cell_type": "code",
   "execution_count": 86,
   "metadata": {},
   "outputs": [],
   "source": [
    "# scale 값이 0인 이상치 발견하여 삭제\n",
    "df.drop(df[df['scale']==0].index,inplace=True)"
   ]
  },
  {
   "cell_type": "code",
   "execution_count": 87,
   "metadata": {},
   "outputs": [],
   "source": [
    "# reg_date datetime format으로 변경\n",
    "df['reg_date'] = pd.to_datetime(df['reg_date'])"
   ]
  },
  {
   "cell_type": "markdown",
   "metadata": {},
   "source": [
    "# EDA"
   ]
  },
  {
   "cell_type": "markdown",
   "metadata": {},
   "source": [
    "## Basic Info"
   ]
  },
  {
   "cell_type": "code",
   "execution_count": 88,
   "metadata": {},
   "outputs": [
    {
     "name": "stdout",
     "output_type": "stream",
     "text": [
      "<class 'pandas.core.frame.DataFrame'>\n",
      "Int64Index: 11141586 entries, 0 to 11141588\n",
      "Data columns (total 9 columns):\n",
      " #   Column     Dtype         \n",
      "---  ------     -----         \n",
      " 0   prd        object        \n",
      " 1   scale      float64       \n",
      " 2   price      int64         \n",
      " 3   eco        object        \n",
      " 4   reg_date   datetime64[ns]\n",
      " 5   new_class  int64         \n",
      " 6   price_kg   float64       \n",
      " 7   state      object        \n",
      " 8   city       object        \n",
      "dtypes: datetime64[ns](1), float64(2), int64(2), object(4)\n",
      "memory usage: 850.0+ MB\n"
     ]
    }
   ],
   "source": [
    "df.info()"
   ]
  },
  {
   "cell_type": "code",
   "execution_count": 89,
   "metadata": {},
   "outputs": [
    {
     "data": {
      "text/html": [
       "<div>\n",
       "<style scoped>\n",
       "    .dataframe tbody tr th:only-of-type {\n",
       "        vertical-align: middle;\n",
       "    }\n",
       "\n",
       "    .dataframe tbody tr th {\n",
       "        vertical-align: top;\n",
       "    }\n",
       "\n",
       "    .dataframe thead th {\n",
       "        text-align: right;\n",
       "    }\n",
       "</style>\n",
       "<table border=\"1\" class=\"dataframe\">\n",
       "  <thead>\n",
       "    <tr style=\"text-align: right;\">\n",
       "      <th></th>\n",
       "      <th>scale</th>\n",
       "      <th>price</th>\n",
       "      <th>new_class</th>\n",
       "      <th>price_kg</th>\n",
       "    </tr>\n",
       "  </thead>\n",
       "  <tbody>\n",
       "    <tr>\n",
       "      <th>count</th>\n",
       "      <td>11141586.00000</td>\n",
       "      <td>11141586.00000</td>\n",
       "      <td>11141586.00000</td>\n",
       "      <td>11141586.00000</td>\n",
       "    </tr>\n",
       "    <tr>\n",
       "      <th>mean</th>\n",
       "      <td>8.45508</td>\n",
       "      <td>23027.53212</td>\n",
       "      <td>1.56489</td>\n",
       "      <td>4375.88803</td>\n",
       "    </tr>\n",
       "    <tr>\n",
       "      <th>std</th>\n",
       "      <td>120.89900</td>\n",
       "      <td>108435.25502</td>\n",
       "      <td>1.67264</td>\n",
       "      <td>25900.33197</td>\n",
       "    </tr>\n",
       "    <tr>\n",
       "      <th>min</th>\n",
       "      <td>0.02000</td>\n",
       "      <td>500.00000</td>\n",
       "      <td>1.00000</td>\n",
       "      <td>0.40000</td>\n",
       "    </tr>\n",
       "    <tr>\n",
       "      <th>25%</th>\n",
       "      <td>3.00000</td>\n",
       "      <td>8000.00000</td>\n",
       "      <td>1.00000</td>\n",
       "      <td>1600.00000</td>\n",
       "    </tr>\n",
       "    <tr>\n",
       "      <th>50%</th>\n",
       "      <td>5.00000</td>\n",
       "      <td>15000.00000</td>\n",
       "      <td>1.00000</td>\n",
       "      <td>2857.14000</td>\n",
       "    </tr>\n",
       "    <tr>\n",
       "      <th>75%</th>\n",
       "      <td>10.00000</td>\n",
       "      <td>27000.00000</td>\n",
       "      <td>1.00000</td>\n",
       "      <td>5222.22000</td>\n",
       "    </tr>\n",
       "    <tr>\n",
       "      <th>max</th>\n",
       "      <td>18000.00000</td>\n",
       "      <td>99999999.00000</td>\n",
       "      <td>9.00000</td>\n",
       "      <td>49999999.50000</td>\n",
       "    </tr>\n",
       "  </tbody>\n",
       "</table>\n",
       "</div>"
      ],
      "text/plain": [
       "               scale          price      new_class       price_kg\n",
       "count 11141586.00000 11141586.00000 11141586.00000 11141586.00000\n",
       "mean         8.45508    23027.53212        1.56489     4375.88803\n",
       "std        120.89900   108435.25502        1.67264    25900.33197\n",
       "min          0.02000      500.00000        1.00000        0.40000\n",
       "25%          3.00000     8000.00000        1.00000     1600.00000\n",
       "50%          5.00000    15000.00000        1.00000     2857.14000\n",
       "75%         10.00000    27000.00000        1.00000     5222.22000\n",
       "max      18000.00000 99999999.00000        9.00000 49999999.50000"
      ]
     },
     "execution_count": 89,
     "metadata": {},
     "output_type": "execute_result"
    }
   ],
   "source": [
    "df.describe()"
   ]
  },
  {
   "cell_type": "code",
   "execution_count": 92,
   "metadata": {},
   "outputs": [
    {
     "data": {
      "text/html": [
       "<div>\n",
       "<style scoped>\n",
       "    .dataframe tbody tr th:only-of-type {\n",
       "        vertical-align: middle;\n",
       "    }\n",
       "\n",
       "    .dataframe tbody tr th {\n",
       "        vertical-align: top;\n",
       "    }\n",
       "\n",
       "    .dataframe thead th {\n",
       "        text-align: right;\n",
       "    }\n",
       "</style>\n",
       "<table border=\"1\" class=\"dataframe\">\n",
       "  <thead>\n",
       "    <tr style=\"text-align: right;\">\n",
       "      <th></th>\n",
       "      <th>scale</th>\n",
       "      <th>price</th>\n",
       "      <th>new_class</th>\n",
       "      <th>price_kg</th>\n",
       "    </tr>\n",
       "  </thead>\n",
       "  <tbody>\n",
       "    <tr>\n",
       "      <th>scale</th>\n",
       "      <td>1.00000</td>\n",
       "      <td>0.46682</td>\n",
       "      <td>-0.00314</td>\n",
       "      <td>-0.00446</td>\n",
       "    </tr>\n",
       "    <tr>\n",
       "      <th>price</th>\n",
       "      <td>0.46682</td>\n",
       "      <td>1.00000</td>\n",
       "      <td>-0.01486</td>\n",
       "      <td>0.67270</td>\n",
       "    </tr>\n",
       "    <tr>\n",
       "      <th>new_class</th>\n",
       "      <td>-0.00314</td>\n",
       "      <td>-0.01486</td>\n",
       "      <td>1.00000</td>\n",
       "      <td>-0.01181</td>\n",
       "    </tr>\n",
       "    <tr>\n",
       "      <th>price_kg</th>\n",
       "      <td>-0.00446</td>\n",
       "      <td>0.67270</td>\n",
       "      <td>-0.01181</td>\n",
       "      <td>1.00000</td>\n",
       "    </tr>\n",
       "  </tbody>\n",
       "</table>\n",
       "</div>"
      ],
      "text/plain": [
       "             scale    price  new_class  price_kg\n",
       "scale      1.00000  0.46682   -0.00314  -0.00446\n",
       "price      0.46682  1.00000   -0.01486   0.67270\n",
       "new_class -0.00314 -0.01486    1.00000  -0.01181\n",
       "price_kg  -0.00446  0.67270   -0.01181   1.00000"
      ]
     },
     "execution_count": 92,
     "metadata": {},
     "output_type": "execute_result"
    }
   ],
   "source": [
    "# 상관관계 탐색\n",
    "# scale과 price가 상관관계가 꽤 있지만 생각보다 크진 않다\n",
    "df.corr()"
   ]
  },
  {
   "cell_type": "code",
   "execution_count": 91,
   "metadata": {},
   "outputs": [
    {
     "data": {
      "text/plain": [
       "24649.526548672566"
      ]
     },
     "execution_count": 91,
     "metadata": {},
     "output_type": "execute_result"
    }
   ],
   "source": [
    "# 평균적인 거래량은 약 24600건\n",
    "df.groupby(['reg_date']).count()['prd'].mean()"
   ]
  },
  {
   "cell_type": "markdown",
   "metadata": {},
   "source": [
    "## Column 별 탐색"
   ]
  },
  {
   "cell_type": "markdown",
   "metadata": {},
   "source": [
    "### prd"
   ]
  },
  {
   "cell_type": "code",
   "execution_count": 98,
   "metadata": {},
   "outputs": [
    {
     "name": "stdout",
     "output_type": "stream",
     "text": [
      "품목 수 : 207\n"
     ]
    }
   ],
   "source": [
    "print('product infor')\n",
    "print(f\"품목 수 : {len(df['prd'].unique())}\")\n"
   ]
  },
  {
   "cell_type": "code",
   "execution_count": null,
   "metadata": {},
   "outputs": [],
   "source": []
  }
 ],
 "metadata": {
  "kernelspec": {
   "display_name": "Python 3.8.13 ('yds')",
   "language": "python",
   "name": "python3"
  },
  "language_info": {
   "codemirror_mode": {
    "name": "ipython",
    "version": 3
   },
   "file_extension": ".py",
   "mimetype": "text/x-python",
   "name": "python",
   "nbconvert_exporter": "python",
   "pygments_lexer": "ipython3",
   "version": "3.8.13"
  },
  "orig_nbformat": 4,
  "vscode": {
   "interpreter": {
    "hash": "edd2e1eeac16ba0124adb27271db416cf5b91db76e0734afe4505ea0738c76e5"
   }
  }
 },
 "nbformat": 4,
 "nbformat_minor": 2
}
