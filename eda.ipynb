{
 "cells": [
  {
   "cell_type": "markdown",
   "metadata": {},
   "source": [
    "# Introduction\n",
    "\n",
    "- 주제: 농수산물 별 물가 상승 정도 분석 및 경매 가격 분석 시각화\n",
    "- 목표: 데이터 분석 프로젝트 진행, 시각화로 포트폴리오 만들기\n",
    "- 기간: 22/07/25 ~ 22/08/05\n",
    "- 팀원: 이진규\n",
    "- 데이터: 서울열린데이터광장 : 농수산물 경매 정보 (http://data.seoul.go.kr/dataList/OA-2662/S/1/datasetView.do#)\n",
    "\n",
    "## column info\n",
    "\n",
    "값 | 의미\n",
    "---|:---:|\n",
    "`prd` | 품목명, 카테고리별로 전처리 |\n",
    "`scale` | 판매 단위 (kg) |\n",
    "`price` | 판매 가격 (₩) |\n",
    "`reg_date` | 등록일 |\n",
    "`new_class` | 상품 등급, 1이 가장 높음 |\n",
    "`price_kg` | kg 당 가격 |\n",
    "`state` | 도단위, 해외는 수입 |\n",
    "`city` | 시단위, 해외는 국가명 |"
   ]
  },
  {
   "cell_type": "markdown",
   "metadata": {},
   "source": [
    "## Initialize"
   ]
  },
  {
   "cell_type": "code",
   "execution_count": 1,
   "metadata": {},
   "outputs": [
    {
     "name": "stdout",
     "output_type": "stream",
     "text": [
      "['AppleGothic']\n"
     ]
    }
   ],
   "source": [
    "import pandas as pd\n",
    "import numpy as np\n",
    "import matplotlib.pyplot as plt\n",
    "import seaborn as sns\n",
    "import re\n",
    "pd.options.display.float_format = '{:.5f}'.format\n",
    "data = \"/Users/luci031/Desktop/Coding/g_auction\"\n",
    "\n",
    "# matplotlib 폰트설정\n",
    "plt.rc('font', family='AppleGothic') # For MacOS\n",
    "# plt.rc('font', family='NanumGothic') # For Windows\n",
    "print(plt.rcParams['font.family'])\n",
    "\n",
    "%matplotlib inline\n",
    "# 브라우저에서 바로 이미지를 그린다.\n",
    "\n",
    "plt.rcParams['axes.unicode_minus'] = False"
   ]
  },
  {
   "cell_type": "code",
   "execution_count": 2,
   "metadata": {},
   "outputs": [],
   "source": [
    "# 데이터 불러오기\n",
    "df_lst = []\n",
    "for i in range(1,19):\n",
    "    if i < 13:\n",
    "        if i < 10:\n",
    "            name = \"df210\"+str(i)\n",
    "            df_name = \"20210\"+str(i)\n",
    "        else:\n",
    "            name = \"df21\"+str(i)\n",
    "            df_name = \"2021\"+str(i)\n",
    "    else:\n",
    "        a = i%12\n",
    "        name = \"df220\"+str(a)\n",
    "        df_name = \"20220\"+str(a)\n",
    "    name = pd.read_csv(data+\"/data_proceed/\"+df_name+\"_proceed.csv\")\n",
    "    df_lst.append(name)\n"
   ]
  },
  {
   "cell_type": "code",
   "execution_count": 3,
   "metadata": {},
   "outputs": [],
   "source": [
    "# 보기 옵션\n",
    "pd.set_option('display.max_rows', 30)\n",
    "# pd.reset_option('display.max_rows')"
   ]
  },
  {
   "cell_type": "markdown",
   "metadata": {},
   "source": [
    "## Pre-processing"
   ]
  },
  {
   "cell_type": "code",
   "execution_count": 4,
   "metadata": {},
   "outputs": [],
   "source": [
    "# 데이터 전처리\n",
    "for df in df_lst:\n",
    "    df.reset_index(inplace=True,drop=True)\n",
    "    df.drop(columns=['Unnamed: 0'],inplace=True)"
   ]
  },
  {
   "cell_type": "code",
   "execution_count": 5,
   "metadata": {},
   "outputs": [],
   "source": [
    "# 모든 데이터 통합\n",
    "df = df_lst[0]\n",
    "for dfs in df_lst[1:]:\n",
    "    df = pd.concat([df,dfs])\n",
    "df.reset_index(inplace=True,drop=True)"
   ]
  },
  {
   "cell_type": "code",
   "execution_count": 6,
   "metadata": {},
   "outputs": [
    {
     "data": {
      "text/plain": [
       "prd          0\n",
       "scale        0\n",
       "price        0\n",
       "eco          0\n",
       "reg_date     0\n",
       "new_class    0\n",
       "price_kg     0\n",
       "state        0\n",
       "city         0\n",
       "dtype: int64"
      ]
     },
     "execution_count": 6,
     "metadata": {},
     "output_type": "execute_result"
    }
   ],
   "source": [
    "# 기존 데이터의 전처리가 완료된 상태기 때문에 null값 없음\n",
    "df.isnull().sum()"
   ]
  },
  {
   "cell_type": "code",
   "execution_count": 7,
   "metadata": {},
   "outputs": [],
   "source": [
    "# scale 값이 0인 이상치 발견하여 삭제\n",
    "df.drop(df[df['scale']==0].index,inplace=True)"
   ]
  },
  {
   "cell_type": "code",
   "execution_count": 8,
   "metadata": {},
   "outputs": [],
   "source": [
    "# reg_date datetime format으로 변경\n",
    "df['reg_date'] = pd.to_datetime(df['reg_date'])"
   ]
  },
  {
   "cell_type": "markdown",
   "metadata": {},
   "source": [
    "# EDA"
   ]
  },
  {
   "cell_type": "markdown",
   "metadata": {},
   "source": [
    "## Basic Info"
   ]
  },
  {
   "cell_type": "code",
   "execution_count": 9,
   "metadata": {},
   "outputs": [
    {
     "name": "stdout",
     "output_type": "stream",
     "text": [
      "<class 'pandas.core.frame.DataFrame'>\n",
      "Int64Index: 11141586 entries, 0 to 11141588\n",
      "Data columns (total 9 columns):\n",
      " #   Column     Dtype         \n",
      "---  ------     -----         \n",
      " 0   prd        object        \n",
      " 1   scale      float64       \n",
      " 2   price      int64         \n",
      " 3   eco        object        \n",
      " 4   reg_date   datetime64[ns]\n",
      " 5   new_class  int64         \n",
      " 6   price_kg   float64       \n",
      " 7   state      object        \n",
      " 8   city       object        \n",
      "dtypes: datetime64[ns](1), float64(2), int64(2), object(4)\n",
      "memory usage: 850.0+ MB\n"
     ]
    }
   ],
   "source": [
    "df.info()"
   ]
  },
  {
   "cell_type": "code",
   "execution_count": 10,
   "metadata": {},
   "outputs": [
    {
     "data": {
      "text/html": [
       "<div>\n",
       "<style scoped>\n",
       "    .dataframe tbody tr th:only-of-type {\n",
       "        vertical-align: middle;\n",
       "    }\n",
       "\n",
       "    .dataframe tbody tr th {\n",
       "        vertical-align: top;\n",
       "    }\n",
       "\n",
       "    .dataframe thead th {\n",
       "        text-align: right;\n",
       "    }\n",
       "</style>\n",
       "<table border=\"1\" class=\"dataframe\">\n",
       "  <thead>\n",
       "    <tr style=\"text-align: right;\">\n",
       "      <th></th>\n",
       "      <th>scale</th>\n",
       "      <th>price</th>\n",
       "      <th>new_class</th>\n",
       "      <th>price_kg</th>\n",
       "    </tr>\n",
       "  </thead>\n",
       "  <tbody>\n",
       "    <tr>\n",
       "      <th>count</th>\n",
       "      <td>11141586.00000</td>\n",
       "      <td>11141586.00000</td>\n",
       "      <td>11141586.00000</td>\n",
       "      <td>11141586.00000</td>\n",
       "    </tr>\n",
       "    <tr>\n",
       "      <th>mean</th>\n",
       "      <td>8.45508</td>\n",
       "      <td>23027.53212</td>\n",
       "      <td>1.56489</td>\n",
       "      <td>4375.88803</td>\n",
       "    </tr>\n",
       "    <tr>\n",
       "      <th>std</th>\n",
       "      <td>120.89900</td>\n",
       "      <td>108435.25502</td>\n",
       "      <td>1.67264</td>\n",
       "      <td>25900.33197</td>\n",
       "    </tr>\n",
       "    <tr>\n",
       "      <th>min</th>\n",
       "      <td>0.02000</td>\n",
       "      <td>500.00000</td>\n",
       "      <td>1.00000</td>\n",
       "      <td>0.40000</td>\n",
       "    </tr>\n",
       "    <tr>\n",
       "      <th>25%</th>\n",
       "      <td>3.00000</td>\n",
       "      <td>8000.00000</td>\n",
       "      <td>1.00000</td>\n",
       "      <td>1600.00000</td>\n",
       "    </tr>\n",
       "    <tr>\n",
       "      <th>50%</th>\n",
       "      <td>5.00000</td>\n",
       "      <td>15000.00000</td>\n",
       "      <td>1.00000</td>\n",
       "      <td>2857.14000</td>\n",
       "    </tr>\n",
       "    <tr>\n",
       "      <th>75%</th>\n",
       "      <td>10.00000</td>\n",
       "      <td>27000.00000</td>\n",
       "      <td>1.00000</td>\n",
       "      <td>5222.22000</td>\n",
       "    </tr>\n",
       "    <tr>\n",
       "      <th>max</th>\n",
       "      <td>18000.00000</td>\n",
       "      <td>99999999.00000</td>\n",
       "      <td>9.00000</td>\n",
       "      <td>49999999.50000</td>\n",
       "    </tr>\n",
       "  </tbody>\n",
       "</table>\n",
       "</div>"
      ],
      "text/plain": [
       "               scale          price      new_class       price_kg\n",
       "count 11141586.00000 11141586.00000 11141586.00000 11141586.00000\n",
       "mean         8.45508    23027.53212        1.56489     4375.88803\n",
       "std        120.89900   108435.25502        1.67264    25900.33197\n",
       "min          0.02000      500.00000        1.00000        0.40000\n",
       "25%          3.00000     8000.00000        1.00000     1600.00000\n",
       "50%          5.00000    15000.00000        1.00000     2857.14000\n",
       "75%         10.00000    27000.00000        1.00000     5222.22000\n",
       "max      18000.00000 99999999.00000        9.00000 49999999.50000"
      ]
     },
     "execution_count": 10,
     "metadata": {},
     "output_type": "execute_result"
    }
   ],
   "source": [
    "df.describe()"
   ]
  },
  {
   "cell_type": "code",
   "execution_count": 11,
   "metadata": {},
   "outputs": [
    {
     "data": {
      "text/html": [
       "<div>\n",
       "<style scoped>\n",
       "    .dataframe tbody tr th:only-of-type {\n",
       "        vertical-align: middle;\n",
       "    }\n",
       "\n",
       "    .dataframe tbody tr th {\n",
       "        vertical-align: top;\n",
       "    }\n",
       "\n",
       "    .dataframe thead th {\n",
       "        text-align: right;\n",
       "    }\n",
       "</style>\n",
       "<table border=\"1\" class=\"dataframe\">\n",
       "  <thead>\n",
       "    <tr style=\"text-align: right;\">\n",
       "      <th></th>\n",
       "      <th>scale</th>\n",
       "      <th>price</th>\n",
       "      <th>new_class</th>\n",
       "      <th>price_kg</th>\n",
       "    </tr>\n",
       "  </thead>\n",
       "  <tbody>\n",
       "    <tr>\n",
       "      <th>scale</th>\n",
       "      <td>1.00000</td>\n",
       "      <td>0.46682</td>\n",
       "      <td>-0.00314</td>\n",
       "      <td>-0.00446</td>\n",
       "    </tr>\n",
       "    <tr>\n",
       "      <th>price</th>\n",
       "      <td>0.46682</td>\n",
       "      <td>1.00000</td>\n",
       "      <td>-0.01486</td>\n",
       "      <td>0.67270</td>\n",
       "    </tr>\n",
       "    <tr>\n",
       "      <th>new_class</th>\n",
       "      <td>-0.00314</td>\n",
       "      <td>-0.01486</td>\n",
       "      <td>1.00000</td>\n",
       "      <td>-0.01181</td>\n",
       "    </tr>\n",
       "    <tr>\n",
       "      <th>price_kg</th>\n",
       "      <td>-0.00446</td>\n",
       "      <td>0.67270</td>\n",
       "      <td>-0.01181</td>\n",
       "      <td>1.00000</td>\n",
       "    </tr>\n",
       "  </tbody>\n",
       "</table>\n",
       "</div>"
      ],
      "text/plain": [
       "             scale    price  new_class  price_kg\n",
       "scale      1.00000  0.46682   -0.00314  -0.00446\n",
       "price      0.46682  1.00000   -0.01486   0.67270\n",
       "new_class -0.00314 -0.01486    1.00000  -0.01181\n",
       "price_kg  -0.00446  0.67270   -0.01181   1.00000"
      ]
     },
     "execution_count": 11,
     "metadata": {},
     "output_type": "execute_result"
    }
   ],
   "source": [
    "# 상관관계 탐색\n",
    "# scale과 price가 상관관계가 꽤 있지만 생각보다 크진 않다 (price_kg는 price로부터 생성된 계산값이기 때문에 논외)\n",
    "df.corr()"
   ]
  },
  {
   "cell_type": "code",
   "execution_count": 12,
   "metadata": {},
   "outputs": [],
   "source": [
    "# 날짜별 데이터 분포 탐색\n",
    "counter = df.groupby(['reg_date']).count()"
   ]
  },
  {
   "cell_type": "code",
   "execution_count": 13,
   "metadata": {},
   "outputs": [],
   "source": [
    "# 거래가 1개 뿐인 날짜 발견 -> 전체 목록에서 삭제 -> 이후 다시 불러오기\n",
    "df.drop(df[df['reg_date']=='2021-04-18'].index,inplace=True)\n",
    "counter = df.groupby(['reg_date']).count()"
   ]
  },
  {
   "cell_type": "code",
   "execution_count": 39,
   "metadata": {},
   "outputs": [
    {
     "data": {
      "text/plain": [
       "count     451.00000\n",
       "mean    24703.68514\n",
       "std      9808.83866\n",
       "min       501.00000\n",
       "25%     17996.00000\n",
       "50%     20959.00000\n",
       "75%     34268.00000\n",
       "max     50852.00000\n",
       "Name: prd, dtype: float64"
      ]
     },
     "execution_count": 39,
     "metadata": {},
     "output_type": "execute_result"
    }
   ],
   "source": [
    "# 일자별 거래량\n",
    "df.groupby(['reg_date'])['prd'].count().describe()"
   ]
  },
  {
   "cell_type": "code",
   "execution_count": 44,
   "metadata": {},
   "outputs": [
    {
     "data": {
      "text/html": [
       "<div>\n",
       "<style scoped>\n",
       "    .dataframe tbody tr th:only-of-type {\n",
       "        vertical-align: middle;\n",
       "    }\n",
       "\n",
       "    .dataframe tbody tr th {\n",
       "        vertical-align: top;\n",
       "    }\n",
       "\n",
       "    .dataframe thead th {\n",
       "        text-align: right;\n",
       "    }\n",
       "</style>\n",
       "<table border=\"1\" class=\"dataframe\">\n",
       "  <thead>\n",
       "    <tr style=\"text-align: right;\">\n",
       "      <th></th>\n",
       "      <th>prd</th>\n",
       "      <th>scale</th>\n",
       "      <th>price</th>\n",
       "      <th>eco</th>\n",
       "      <th>new_class</th>\n",
       "      <th>price_kg</th>\n",
       "      <th>state</th>\n",
       "      <th>city</th>\n",
       "    </tr>\n",
       "    <tr>\n",
       "      <th>reg_date</th>\n",
       "      <th></th>\n",
       "      <th></th>\n",
       "      <th></th>\n",
       "      <th></th>\n",
       "      <th></th>\n",
       "      <th></th>\n",
       "      <th></th>\n",
       "      <th></th>\n",
       "    </tr>\n",
       "  </thead>\n",
       "  <tbody>\n",
       "    <tr>\n",
       "      <th>2021-06-28</th>\n",
       "      <td>501</td>\n",
       "      <td>501</td>\n",
       "      <td>501</td>\n",
       "      <td>501</td>\n",
       "      <td>501</td>\n",
       "      <td>501</td>\n",
       "      <td>501</td>\n",
       "      <td>501</td>\n",
       "    </tr>\n",
       "    <tr>\n",
       "      <th>2022-06-20</th>\n",
       "      <td>50852</td>\n",
       "      <td>50852</td>\n",
       "      <td>50852</td>\n",
       "      <td>50852</td>\n",
       "      <td>50852</td>\n",
       "      <td>50852</td>\n",
       "      <td>50852</td>\n",
       "      <td>50852</td>\n",
       "    </tr>\n",
       "  </tbody>\n",
       "</table>\n",
       "</div>"
      ],
      "text/plain": [
       "              prd  scale  price    eco  new_class  price_kg  state   city\n",
       "reg_date                                                                 \n",
       "2021-06-28    501    501    501    501        501       501    501    501\n",
       "2022-06-20  50852  50852  50852  50852      50852     50852  50852  50852"
      ]
     },
     "execution_count": 44,
     "metadata": {},
     "output_type": "execute_result"
    }
   ],
   "source": [
    "# 가장 거래량이 많은 날은 22년 6월 20일\n",
    "# 거래량이 적은 날은 21년 6월 20일\n",
    "c = df.groupby(['reg_date']).count()\n",
    "c[(c['prd']==50852) | (c['prd']==501)]"
   ]
  },
  {
   "cell_type": "code",
   "execution_count": 51,
   "metadata": {},
   "outputs": [
    {
     "data": {
      "image/png": "[encoded data removed]",
      "text/plain": [
       "<Figure size 2160x432 with 1 Axes>"
      ]
     },
     "metadata": {
      "needs_background": "light"
     },
     "output_type": "display_data"
    }
   ],
   "source": [
    "# 일자별 데이터 분포 1\n",
    "# 평균적으로 15000~25000 건 사이의 거래가 이루어짐\n",
    "plt.figure(figsize=(30,6))\n",
    "plt.hist(c['prd'],bins=50)\n",
    "plt.show()"
   ]
  },
  {
   "cell_type": "code",
   "execution_count": 53,
   "metadata": {},
   "outputs": [
    {
     "data": {
      "image/png": "[encoded data removed]",
      "text/plain": [
       "<Figure size 2160x432 with 1 Axes>"
      ]
     },
     "metadata": {
      "needs_background": "light"
     },
     "output_type": "display_data"
    }
   ],
   "source": [
    "# 일자별 데이터 분포 2\n",
    "# 데이터 양의 차이로 22년 거래가 상대적으로 더 많은 것 확인\n",
    "# 주기적으로 거래량이 작은 날짜 확인 필요\n",
    "plt.figure(figsize=(30,6))\n",
    "plt.plot(c['prd'])\n",
    "plt.show()"
   ]
  },
  {
   "cell_type": "code",
   "execution_count": 67,
   "metadata": {},
   "outputs": [
    {
     "data": {
      "text/plain": [
       "[Timestamp('2021-02-25 00:00:00'),\n",
       " Timestamp('2021-04-08 00:00:00'),\n",
       " Timestamp('2021-04-14 00:00:00'),\n",
       " Timestamp('2021-05-11 00:00:00'),\n",
       " Timestamp('2021-05-31 00:00:00'),\n",
       " Timestamp('2021-06-11 00:00:00'),\n",
       " Timestamp('2021-06-21 00:00:00'),\n",
       " Timestamp('2021-06-22 00:00:00'),\n",
       " Timestamp('2021-06-23 00:00:00'),\n",
       " Timestamp('2021-06-28 00:00:00'),\n",
       " Timestamp('2021-08-07 00:00:00'),\n",
       " Timestamp('2021-09-14 00:00:00'),\n",
       " Timestamp('2021-09-20 00:00:00'),\n",
       " Timestamp('2021-09-24 00:00:00'),\n",
       " Timestamp('2021-10-18 00:00:00'),\n",
       " Timestamp('2021-11-08 00:00:00'),\n",
       " Timestamp('2021-12-31 00:00:00'),\n",
       " Timestamp('2022-01-31 00:00:00')]"
      ]
     },
     "execution_count": 67,
     "metadata": {},
     "output_type": "execute_result"
    }
   ],
   "source": [
    "# 공휴일 등의 날짜는 아닌 듯\n",
    "days = c[c['prd']<=10000].index.tolist()\n",
    "days"
   ]
  },
  {
   "cell_type": "code",
   "execution_count": 71,
   "metadata": {},
   "outputs": [
    {
     "data": {
      "text/plain": [
       "defaultdict(int, {'목': 2, '수': 2, '화': 3, '월': 7, '금': 3, '토': 1})"
      ]
     },
     "execution_count": 71,
     "metadata": {},
     "output_type": "execute_result"
    }
   ],
   "source": [
    "# 일별로 확인 결과, \n",
    "from collections import defaultdict as d\n",
    "week = ['월','화','수','목','금','토','일']\n",
    "lst = d(int)\n",
    "for day in days:\n",
    "    a = week[day.weekday()]\n",
    "    lst[a] += 1\n",
    "\n",
    "# 상대적으로 월요일이 많긴 하나, 도드라질 정도는 아님\n",
    "lst"
   ]
  },
  {
   "cell_type": "markdown",
   "metadata": {},
   "source": [
    "## Column 별 탐색"
   ]
  },
  {
   "cell_type": "markdown",
   "metadata": {},
   "source": [
    "### 연속형 데이터 탐색 (Scale,Price,New_class,Price_kg)"
   ]
  },
  {
   "cell_type": "code",
   "execution_count": 17,
   "metadata": {},
   "outputs": [
    {
     "data": {
      "text/html": [
       "<div>\n",
       "<style scoped>\n",
       "    .dataframe tbody tr th:only-of-type {\n",
       "        vertical-align: middle;\n",
       "    }\n",
       "\n",
       "    .dataframe tbody tr th {\n",
       "        vertical-align: top;\n",
       "    }\n",
       "\n",
       "    .dataframe thead th {\n",
       "        text-align: right;\n",
       "    }\n",
       "</style>\n",
       "<table border=\"1\" class=\"dataframe\">\n",
       "  <thead>\n",
       "    <tr style=\"text-align: right;\">\n",
       "      <th></th>\n",
       "      <th>scale</th>\n",
       "      <th>price</th>\n",
       "      <th>new_class</th>\n",
       "      <th>price_kg</th>\n",
       "    </tr>\n",
       "  </thead>\n",
       "  <tbody>\n",
       "    <tr>\n",
       "      <th>count</th>\n",
       "      <td>11141585.00000</td>\n",
       "      <td>11141585.00000</td>\n",
       "      <td>11141585.00000</td>\n",
       "      <td>11141585.00000</td>\n",
       "    </tr>\n",
       "    <tr>\n",
       "      <th>mean</th>\n",
       "      <td>8.45508</td>\n",
       "      <td>23027.53253</td>\n",
       "      <td>1.56489</td>\n",
       "      <td>4375.88826</td>\n",
       "    </tr>\n",
       "    <tr>\n",
       "      <th>std</th>\n",
       "      <td>120.89901</td>\n",
       "      <td>108435.25988</td>\n",
       "      <td>1.67264</td>\n",
       "      <td>25900.33312</td>\n",
       "    </tr>\n",
       "    <tr>\n",
       "      <th>min</th>\n",
       "      <td>0.02000</td>\n",
       "      <td>500.00000</td>\n",
       "      <td>1.00000</td>\n",
       "      <td>0.40000</td>\n",
       "    </tr>\n",
       "    <tr>\n",
       "      <th>25%</th>\n",
       "      <td>3.00000</td>\n",
       "      <td>8000.00000</td>\n",
       "      <td>1.00000</td>\n",
       "      <td>1600.00000</td>\n",
       "    </tr>\n",
       "    <tr>\n",
       "      <th>50%</th>\n",
       "      <td>5.00000</td>\n",
       "      <td>15000.00000</td>\n",
       "      <td>1.00000</td>\n",
       "      <td>2857.14000</td>\n",
       "    </tr>\n",
       "    <tr>\n",
       "      <th>75%</th>\n",
       "      <td>10.00000</td>\n",
       "      <td>27000.00000</td>\n",
       "      <td>1.00000</td>\n",
       "      <td>5222.22000</td>\n",
       "    </tr>\n",
       "    <tr>\n",
       "      <th>max</th>\n",
       "      <td>18000.00000</td>\n",
       "      <td>99999999.00000</td>\n",
       "      <td>9.00000</td>\n",
       "      <td>49999999.50000</td>\n",
       "    </tr>\n",
       "  </tbody>\n",
       "</table>\n",
       "</div>"
      ],
      "text/plain": [
       "               scale          price      new_class       price_kg\n",
       "count 11141585.00000 11141585.00000 11141585.00000 11141585.00000\n",
       "mean         8.45508    23027.53253        1.56489     4375.88826\n",
       "std        120.89901   108435.25988        1.67264    25900.33312\n",
       "min          0.02000      500.00000        1.00000        0.40000\n",
       "25%          3.00000     8000.00000        1.00000     1600.00000\n",
       "50%          5.00000    15000.00000        1.00000     2857.14000\n",
       "75%         10.00000    27000.00000        1.00000     5222.22000\n",
       "max      18000.00000 99999999.00000        9.00000 49999999.50000"
      ]
     },
     "execution_count": 17,
     "metadata": {},
     "output_type": "execute_result"
    }
   ],
   "source": [
    "# 대략적인 데이터 정보\n",
    "df.describe()"
   ]
  },
  {
   "cell_type": "code",
   "execution_count": 18,
   "metadata": {},
   "outputs": [],
   "source": [
    "# price_kg 비율이 35만원 이상 차이나는 값들 -> 이상치라 판단하고 제거\n",
    "df.drop(df[df['price_kg']>=350000].index,inplace=True)"
   ]
  },
  {
   "cell_type": "code",
   "execution_count": 38,
   "metadata": {},
   "outputs": [
    {
     "data": {
      "text/html": [
       "<div>\n",
       "<style scoped>\n",
       "    .dataframe tbody tr th:only-of-type {\n",
       "        vertical-align: middle;\n",
       "    }\n",
       "\n",
       "    .dataframe tbody tr th {\n",
       "        vertical-align: top;\n",
       "    }\n",
       "\n",
       "    .dataframe thead th {\n",
       "        text-align: right;\n",
       "    }\n",
       "</style>\n",
       "<table border=\"1\" class=\"dataframe\">\n",
       "  <thead>\n",
       "    <tr style=\"text-align: right;\">\n",
       "      <th></th>\n",
       "      <th>prd</th>\n",
       "      <th>scale</th>\n",
       "      <th>price</th>\n",
       "      <th>eco</th>\n",
       "      <th>reg_date</th>\n",
       "      <th>new_class</th>\n",
       "      <th>price_kg</th>\n",
       "      <th>state</th>\n",
       "      <th>city</th>\n",
       "    </tr>\n",
       "  </thead>\n",
       "  <tbody>\n",
       "    <tr>\n",
       "      <th>4881600</th>\n",
       "      <td>무</td>\n",
       "      <td>18000.00000</td>\n",
       "      <td>11000000</td>\n",
       "      <td>normal</td>\n",
       "      <td>2021-11-06</td>\n",
       "      <td>1</td>\n",
       "      <td>611.11000</td>\n",
       "      <td>전북</td>\n",
       "      <td>부안</td>\n",
       "    </tr>\n",
       "    <tr>\n",
       "      <th>4884303</th>\n",
       "      <td>무</td>\n",
       "      <td>10000.00000</td>\n",
       "      <td>2500000</td>\n",
       "      <td>normal</td>\n",
       "      <td>2021-11-26</td>\n",
       "      <td>1</td>\n",
       "      <td>250.00000</td>\n",
       "      <td>충남</td>\n",
       "      <td>서산</td>\n",
       "    </tr>\n",
       "    <tr>\n",
       "      <th>4884301</th>\n",
       "      <td>무</td>\n",
       "      <td>10000.00000</td>\n",
       "      <td>6500000</td>\n",
       "      <td>normal</td>\n",
       "      <td>2021-11-26</td>\n",
       "      <td>1</td>\n",
       "      <td>650.00000</td>\n",
       "      <td>전남</td>\n",
       "      <td>영암</td>\n",
       "    </tr>\n",
       "    <tr>\n",
       "      <th>4884300</th>\n",
       "      <td>무</td>\n",
       "      <td>10000.00000</td>\n",
       "      <td>3370000</td>\n",
       "      <td>normal</td>\n",
       "      <td>2021-11-26</td>\n",
       "      <td>1</td>\n",
       "      <td>337.00000</td>\n",
       "      <td>전북</td>\n",
       "      <td>부안</td>\n",
       "    </tr>\n",
       "    <tr>\n",
       "      <th>4884299</th>\n",
       "      <td>무</td>\n",
       "      <td>10000.00000</td>\n",
       "      <td>8510000</td>\n",
       "      <td>normal</td>\n",
       "      <td>2021-11-26</td>\n",
       "      <td>1</td>\n",
       "      <td>851.00000</td>\n",
       "      <td>전북</td>\n",
       "      <td>부안</td>\n",
       "    </tr>\n",
       "    <tr>\n",
       "      <th>4884298</th>\n",
       "      <td>무</td>\n",
       "      <td>10000.00000</td>\n",
       "      <td>8770000</td>\n",
       "      <td>normal</td>\n",
       "      <td>2021-11-26</td>\n",
       "      <td>1</td>\n",
       "      <td>877.00000</td>\n",
       "      <td>전북</td>\n",
       "      <td>부안</td>\n",
       "    </tr>\n",
       "    <tr>\n",
       "      <th>4884297</th>\n",
       "      <td>무</td>\n",
       "      <td>10000.00000</td>\n",
       "      <td>4030000</td>\n",
       "      <td>normal</td>\n",
       "      <td>2021-11-26</td>\n",
       "      <td>1</td>\n",
       "      <td>403.00000</td>\n",
       "      <td>전남</td>\n",
       "      <td>영암</td>\n",
       "    </tr>\n",
       "    <tr>\n",
       "      <th>5516730</th>\n",
       "      <td>무</td>\n",
       "      <td>10000.00000</td>\n",
       "      <td>1690000</td>\n",
       "      <td>normal</td>\n",
       "      <td>2021-12-10</td>\n",
       "      <td>1</td>\n",
       "      <td>169.00000</td>\n",
       "      <td>전북</td>\n",
       "      <td>고창</td>\n",
       "    </tr>\n",
       "    <tr>\n",
       "      <th>4884296</th>\n",
       "      <td>무</td>\n",
       "      <td>10000.00000</td>\n",
       "      <td>3880000</td>\n",
       "      <td>normal</td>\n",
       "      <td>2021-11-26</td>\n",
       "      <td>1</td>\n",
       "      <td>388.00000</td>\n",
       "      <td>전북</td>\n",
       "      <td>부안</td>\n",
       "    </tr>\n",
       "    <tr>\n",
       "      <th>4884295</th>\n",
       "      <td>무</td>\n",
       "      <td>10000.00000</td>\n",
       "      <td>2660000</td>\n",
       "      <td>normal</td>\n",
       "      <td>2021-11-26</td>\n",
       "      <td>1</td>\n",
       "      <td>266.00000</td>\n",
       "      <td>전북</td>\n",
       "      <td>부안</td>\n",
       "    </tr>\n",
       "  </tbody>\n",
       "</table>\n",
       "</div>"
      ],
      "text/plain": [
       "        prd       scale     price     eco   reg_date  new_class  price_kg  \\\n",
       "4881600   무 18000.00000  11000000  normal 2021-11-06          1 611.11000   \n",
       "4884303   무 10000.00000   2500000  normal 2021-11-26          1 250.00000   \n",
       "4884301   무 10000.00000   6500000  normal 2021-11-26          1 650.00000   \n",
       "4884300   무 10000.00000   3370000  normal 2021-11-26          1 337.00000   \n",
       "4884299   무 10000.00000   8510000  normal 2021-11-26          1 851.00000   \n",
       "4884298   무 10000.00000   8770000  normal 2021-11-26          1 877.00000   \n",
       "4884297   무 10000.00000   4030000  normal 2021-11-26          1 403.00000   \n",
       "5516730   무 10000.00000   1690000  normal 2021-12-10          1 169.00000   \n",
       "4884296   무 10000.00000   3880000  normal 2021-11-26          1 388.00000   \n",
       "4884295   무 10000.00000   2660000  normal 2021-11-26          1 266.00000   \n",
       "\n",
       "        state city  \n",
       "4881600    전북   부안  \n",
       "4884303    충남   서산  \n",
       "4884301    전남   영암  \n",
       "4884300    전북   부안  \n",
       "4884299    전북   부안  \n",
       "4884298    전북   부안  \n",
       "4884297    전남   영암  \n",
       "5516730    전북   고창  \n",
       "4884296    전북   부안  \n",
       "4884295    전북   부안  "
      ]
     },
     "execution_count": 38,
     "metadata": {},
     "output_type": "execute_result"
    }
   ],
   "source": [
    "# scale TOP 10\n",
    "df.sort_values('scale', ascending=False).head(10)"
   ]
  },
  {
   "cell_type": "code",
   "execution_count": null,
   "metadata": {},
   "outputs": [],
   "source": [
    "# price TOP 10"
   ]
  },
  {
   "cell_type": "code",
   "execution_count": 37,
   "metadata": {},
   "outputs": [
    {
     "data": {
      "text/html": [
       "<div>\n",
       "<style scoped>\n",
       "    .dataframe tbody tr th:only-of-type {\n",
       "        vertical-align: middle;\n",
       "    }\n",
       "\n",
       "    .dataframe tbody tr th {\n",
       "        vertical-align: top;\n",
       "    }\n",
       "\n",
       "    .dataframe thead th {\n",
       "        text-align: right;\n",
       "    }\n",
       "</style>\n",
       "<table border=\"1\" class=\"dataframe\">\n",
       "  <thead>\n",
       "    <tr style=\"text-align: right;\">\n",
       "      <th></th>\n",
       "      <th>prd</th>\n",
       "      <th>percent</th>\n",
       "    </tr>\n",
       "    <tr>\n",
       "      <th>new_class</th>\n",
       "      <th></th>\n",
       "      <th></th>\n",
       "    </tr>\n",
       "  </thead>\n",
       "  <tbody>\n",
       "    <tr>\n",
       "      <th>1</th>\n",
       "      <td>8930294</td>\n",
       "      <td>0.80154</td>\n",
       "    </tr>\n",
       "    <tr>\n",
       "      <th>2</th>\n",
       "      <td>1138002</td>\n",
       "      <td>0.10214</td>\n",
       "    </tr>\n",
       "    <tr>\n",
       "      <th>3</th>\n",
       "      <td>489919</td>\n",
       "      <td>0.04397</td>\n",
       "    </tr>\n",
       "    <tr>\n",
       "      <th>4</th>\n",
       "      <td>47363</td>\n",
       "      <td>0.00425</td>\n",
       "    </tr>\n",
       "    <tr>\n",
       "      <th>5</th>\n",
       "      <td>51337</td>\n",
       "      <td>0.00461</td>\n",
       "    </tr>\n",
       "    <tr>\n",
       "      <th>6</th>\n",
       "      <td>12316</td>\n",
       "      <td>0.00111</td>\n",
       "    </tr>\n",
       "    <tr>\n",
       "      <th>7</th>\n",
       "      <td>4413</td>\n",
       "      <td>0.00040</td>\n",
       "    </tr>\n",
       "    <tr>\n",
       "      <th>8</th>\n",
       "      <td>1338</td>\n",
       "      <td>0.00012</td>\n",
       "    </tr>\n",
       "    <tr>\n",
       "      <th>9</th>\n",
       "      <td>466380</td>\n",
       "      <td>0.04186</td>\n",
       "    </tr>\n",
       "  </tbody>\n",
       "</table>\n",
       "</div>"
      ],
      "text/plain": [
       "               prd  percent\n",
       "new_class                  \n",
       "1          8930294  0.80154\n",
       "2          1138002  0.10214\n",
       "3           489919  0.04397\n",
       "4            47363  0.00425\n",
       "5            51337  0.00461\n",
       "6            12316  0.00111\n",
       "7             4413  0.00040\n",
       "8             1338  0.00012\n",
       "9           466380  0.04186"
      ]
     },
     "execution_count": 37,
     "metadata": {},
     "output_type": "execute_result"
    }
   ],
   "source": [
    "# class 분포\n",
    "class_count = df.groupby(['new_class']).count()\n",
    "class_count['percent'] = class_count['prd']/len(df)\n",
    "class_count[['prd','percent']]"
   ]
  },
  {
   "cell_type": "markdown",
   "metadata": {},
   "source": [
    "**결과**\n",
    "- Scale\n",
    "    - 평균적인 거래량은 약 8.455 kg\n",
    "    - 최소 거래량은 0.02 kg 짜리 거래 (느타리버섯, 깻잎)\n",
    "    - 최대 1회 거래량은 18톤 가량의 '무' 거래\n",
    "- Price (Price_kg)\n",
    "    - 최대 거래 금액은 99999999원 -> 이상 거래라 판단하고 확인 진행\n",
    "    - 확인 결과, kg 당 금액이 35만원 이상의 거래의 경우 이상치라 판단, 삭제\n",
    "    - 평균적인 거래 금액은 약 22800원\n",
    "    - 최소 거래 금액을 500원으로 전처리 했기 때문에 500원\n",
    "    - 최대 거래 금액은 15000000원의 '무' 거래, 10톤 거래되었음\n",
    "- New_class\n",
    "    - 평균적인 등급은 약 1.56 등급, 1급이 가장 높은 등급임을 감안하면 품질이 전체적으로 좋은 편\n",
    "    - 전체적인 분포 및 표준편차로 봤을 때 1등급이 가장 많음 (80% 가량)"
   ]
  },
  {
   "cell_type": "code",
   "execution_count": 20,
   "metadata": {},
   "outputs": [
    {
     "data": {
      "text/html": [
       "<div>\n",
       "<style scoped>\n",
       "    .dataframe tbody tr th:only-of-type {\n",
       "        vertical-align: middle;\n",
       "    }\n",
       "\n",
       "    .dataframe tbody tr th {\n",
       "        vertical-align: top;\n",
       "    }\n",
       "\n",
       "    .dataframe thead th {\n",
       "        text-align: right;\n",
       "    }\n",
       "</style>\n",
       "<table border=\"1\" class=\"dataframe\">\n",
       "  <thead>\n",
       "    <tr style=\"text-align: right;\">\n",
       "      <th></th>\n",
       "      <th>prd</th>\n",
       "      <th>scale</th>\n",
       "      <th>price</th>\n",
       "      <th>eco</th>\n",
       "      <th>reg_date</th>\n",
       "      <th>new_class</th>\n",
       "      <th>price_kg</th>\n",
       "      <th>state</th>\n",
       "      <th>city</th>\n",
       "    </tr>\n",
       "  </thead>\n",
       "  <tbody>\n",
       "    <tr>\n",
       "      <th>4882522</th>\n",
       "      <td>무</td>\n",
       "      <td>10000.00000</td>\n",
       "      <td>15000000</td>\n",
       "      <td>normal</td>\n",
       "      <td>2021-11-18</td>\n",
       "      <td>1</td>\n",
       "      <td>1500.00000</td>\n",
       "      <td>전남</td>\n",
       "      <td>무안</td>\n",
       "    </tr>\n",
       "  </tbody>\n",
       "</table>\n",
       "</div>"
      ],
      "text/plain": [
       "        prd       scale     price     eco   reg_date  new_class   price_kg  \\\n",
       "4882522   무 10000.00000  15000000  normal 2021-11-18          1 1500.00000   \n",
       "\n",
       "        state city  \n",
       "4882522    전남   무안  "
      ]
     },
     "execution_count": 20,
     "metadata": {},
     "output_type": "execute_result"
    }
   ],
   "source": [
    "df[df['price']==15000000]"
   ]
  },
  {
   "cell_type": "markdown",
   "metadata": {},
   "source": [
    "### prd"
   ]
  },
  {
   "cell_type": "code",
   "execution_count": 21,
   "metadata": {},
   "outputs": [
    {
     "data": {
      "text/plain": [
       "207"
      ]
     },
     "execution_count": 21,
     "metadata": {},
     "output_type": "execute_result"
    }
   ],
   "source": [
    "# 품목 수\n",
    "len(df['prd'].unique())\n"
   ]
  },
  {
   "cell_type": "code",
   "execution_count": 22,
   "metadata": {},
   "outputs": [
    {
     "data": {
      "text/html": [
       "<div>\n",
       "<style scoped>\n",
       "    .dataframe tbody tr th:only-of-type {\n",
       "        vertical-align: middle;\n",
       "    }\n",
       "\n",
       "    .dataframe tbody tr th {\n",
       "        vertical-align: top;\n",
       "    }\n",
       "\n",
       "    .dataframe thead th {\n",
       "        text-align: right;\n",
       "    }\n",
       "</style>\n",
       "<table border=\"1\" class=\"dataframe\">\n",
       "  <thead>\n",
       "    <tr style=\"text-align: right;\">\n",
       "      <th></th>\n",
       "      <th>scale</th>\n",
       "      <th>price</th>\n",
       "      <th>eco</th>\n",
       "      <th>reg_date</th>\n",
       "      <th>new_class</th>\n",
       "      <th>price_kg</th>\n",
       "      <th>state</th>\n",
       "      <th>city</th>\n",
       "    </tr>\n",
       "    <tr>\n",
       "      <th>prd</th>\n",
       "      <th></th>\n",
       "      <th></th>\n",
       "      <th></th>\n",
       "      <th></th>\n",
       "      <th></th>\n",
       "      <th></th>\n",
       "      <th></th>\n",
       "      <th></th>\n",
       "    </tr>\n",
       "  </thead>\n",
       "  <tbody>\n",
       "    <tr>\n",
       "      <th>딸기</th>\n",
       "      <td>872399</td>\n",
       "      <td>872399</td>\n",
       "      <td>872399</td>\n",
       "      <td>872399</td>\n",
       "      <td>872399</td>\n",
       "      <td>872399</td>\n",
       "      <td>872399</td>\n",
       "      <td>872399</td>\n",
       "    </tr>\n",
       "    <tr>\n",
       "      <th>버섯</th>\n",
       "      <td>850523</td>\n",
       "      <td>850523</td>\n",
       "      <td>850523</td>\n",
       "      <td>850523</td>\n",
       "      <td>850523</td>\n",
       "      <td>850523</td>\n",
       "      <td>850523</td>\n",
       "      <td>850523</td>\n",
       "    </tr>\n",
       "    <tr>\n",
       "      <th>오이</th>\n",
       "      <td>611242</td>\n",
       "      <td>611242</td>\n",
       "      <td>611242</td>\n",
       "      <td>611242</td>\n",
       "      <td>611242</td>\n",
       "      <td>611242</td>\n",
       "      <td>611242</td>\n",
       "      <td>611242</td>\n",
       "    </tr>\n",
       "    <tr>\n",
       "      <th>토마토</th>\n",
       "      <td>574963</td>\n",
       "      <td>574963</td>\n",
       "      <td>574963</td>\n",
       "      <td>574963</td>\n",
       "      <td>574963</td>\n",
       "      <td>574963</td>\n",
       "      <td>574963</td>\n",
       "      <td>574963</td>\n",
       "    </tr>\n",
       "    <tr>\n",
       "      <th>참외</th>\n",
       "      <td>505725</td>\n",
       "      <td>505725</td>\n",
       "      <td>505725</td>\n",
       "      <td>505725</td>\n",
       "      <td>505725</td>\n",
       "      <td>505725</td>\n",
       "      <td>505725</td>\n",
       "      <td>505725</td>\n",
       "    </tr>\n",
       "    <tr>\n",
       "      <th>호박</th>\n",
       "      <td>427460</td>\n",
       "      <td>427460</td>\n",
       "      <td>427460</td>\n",
       "      <td>427460</td>\n",
       "      <td>427460</td>\n",
       "      <td>427460</td>\n",
       "      <td>427460</td>\n",
       "      <td>427460</td>\n",
       "    </tr>\n",
       "    <tr>\n",
       "      <th>고추</th>\n",
       "      <td>425037</td>\n",
       "      <td>425037</td>\n",
       "      <td>425037</td>\n",
       "      <td>425037</td>\n",
       "      <td>425037</td>\n",
       "      <td>425037</td>\n",
       "      <td>425037</td>\n",
       "      <td>425037</td>\n",
       "    </tr>\n",
       "    <tr>\n",
       "      <th>깻잎</th>\n",
       "      <td>406619</td>\n",
       "      <td>406619</td>\n",
       "      <td>406619</td>\n",
       "      <td>406619</td>\n",
       "      <td>406619</td>\n",
       "      <td>406619</td>\n",
       "      <td>406619</td>\n",
       "      <td>406619</td>\n",
       "    </tr>\n",
       "    <tr>\n",
       "      <th>양채류</th>\n",
       "      <td>376880</td>\n",
       "      <td>376880</td>\n",
       "      <td>376880</td>\n",
       "      <td>376880</td>\n",
       "      <td>376880</td>\n",
       "      <td>376880</td>\n",
       "      <td>376880</td>\n",
       "      <td>376880</td>\n",
       "    </tr>\n",
       "    <tr>\n",
       "      <th>상추</th>\n",
       "      <td>320189</td>\n",
       "      <td>320189</td>\n",
       "      <td>320189</td>\n",
       "      <td>320189</td>\n",
       "      <td>320189</td>\n",
       "      <td>320189</td>\n",
       "      <td>320189</td>\n",
       "      <td>320189</td>\n",
       "    </tr>\n",
       "  </tbody>\n",
       "</table>\n",
       "</div>"
      ],
      "text/plain": [
       "      scale   price     eco  reg_date  new_class  price_kg   state    city\n",
       "prd                                                                       \n",
       "딸기   872399  872399  872399    872399     872399    872399  872399  872399\n",
       "버섯   850523  850523  850523    850523     850523    850523  850523  850523\n",
       "오이   611242  611242  611242    611242     611242    611242  611242  611242\n",
       "토마토  574963  574963  574963    574963     574963    574963  574963  574963\n",
       "참외   505725  505725  505725    505725     505725    505725  505725  505725\n",
       "호박   427460  427460  427460    427460     427460    427460  427460  427460\n",
       "고추   425037  425037  425037    425037     425037    425037  425037  425037\n",
       "깻잎   406619  406619  406619    406619     406619    406619  406619  406619\n",
       "양채류  376880  376880  376880    376880     376880    376880  376880  376880\n",
       "상추   320189  320189  320189    320189     320189    320189  320189  320189"
      ]
     },
     "execution_count": 22,
     "metadata": {},
     "output_type": "execute_result"
    }
   ],
   "source": [
    "# 물품별 판매건수 TOP 10\n",
    "prd_sold = df.groupby(['prd']).count()\n",
    "prd_sold.sort_values('scale', ascending=False).head(10)\n"
   ]
  },
  {
   "cell_type": "code",
   "execution_count": null,
   "metadata": {},
   "outputs": [],
   "source": []
  },
  {
   "cell_type": "code",
   "execution_count": 23,
   "metadata": {},
   "outputs": [
    {
     "data": {
      "image/png": "[encoded data removed]",
      "text/plain": [
       "<Figure size 2160x360 with 1 Axes>"
      ]
     },
     "metadata": {
      "needs_background": "light"
     },
     "output_type": "display_data"
    },
    {
     "name": "stdout",
     "output_type": "stream",
     "text": [
      "Product 종류 수: 207\n",
      "Product 최대 거래수: 872399\n",
      "Product 최소 거래수: 50\n"
     ]
    }
   ],
   "source": [
    "# 하스토그램을 이용해 Store를 시각화하여 품목들의 거래량 분포 확인\n",
    "plt.figure(figsize=(30,5))\n",
    "sns.histplot(df['prd'], bins=45)\n",
    "plt.title(\"product list\", size=20)\n",
    "plt.xticks(rotation=90)\n",
    "plt.show()\n",
    "\n",
    "# 명확한 숫자를 확인하기 위해 수치를 출력\n",
    "print(f\"Product 종류 수: {len(df['prd'].unique())}\")\n",
    "print(f\"Product 최대 거래수: {df['prd'].value_counts().max()}\")\n",
    "print(f\"Product 최소 거래수: {df['prd'].value_counts().min()}\")"
   ]
  },
  {
   "cell_type": "code",
   "execution_count": 24,
   "metadata": {},
   "outputs": [],
   "source": [
    "# 품목별 판매량, 판매 가격 확인\n",
    "# prd_sales = df.groupby(['prd']).agg(['sum','mean','max','min'])\n",
    "# prd_sales\n",
    "# plt.figure(figsize = (30,5))\n",
    "# sns.histplot(prd_sales)\n",
    "# plt.title(\"product sales\", size=20)\n",
    "# plt.xticks(rotation=90)\n",
    "# plt.show()\n",
    "\n",
    "# print('-Scale-')\n",
    "# print(f\"Product 평균 거래 무게: {prd_sales['scale'].mean()}\")\n",
    "# print(f\"Product 최소 거래 무게: {prd_sales['scale'].min()}\")\n",
    "# print(f\"Product 최대 거래 무게: {prd_sales['scale'].max()}\")\n",
    "# print('-Price')\n",
    "# print(f\"Product 평균 거래 가격: {prd_sales['price'].mean()}\")\n",
    "# print(f\"Product 최소 거래 가격: {prd_sales['price'].min()}\")\n",
    "# print(f\"Product 최대 거래 가격: {prd_sales['price'].max()}\")"
   ]
  },
  {
   "cell_type": "code",
   "execution_count": null,
   "metadata": {},
   "outputs": [],
   "source": []
  }
 ],
 "metadata": {
  "kernelspec": {
   "display_name": "Python 3.8.13 ('yds')",
   "language": "python",
   "name": "python3"
  },
  "language_info": {
   "codemirror_mode": {
    "name": "ipython",
    "version": 3
   },
   "file_extension": ".py",
   "mimetype": "text/x-python",
   "name": "python",
   "nbconvert_exporter": "python",
   "pygments_lexer": "ipython3",
   "version": "3.8.13"
  },
  "orig_nbformat": 4,
  "vscode": {
   "interpreter": {
    "hash": "edd2e1eeac16ba0124adb27271db416cf5b91db76e0734afe4505ea0738c76e5"
   }
  }
 },
 "nbformat": 4,
 "nbformat_minor": 2
}
