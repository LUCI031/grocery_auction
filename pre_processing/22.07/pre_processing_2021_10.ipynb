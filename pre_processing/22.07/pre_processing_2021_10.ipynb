{
  "cells": [
    {
      "cell_type": "markdown",
      "metadata": {
        "id": "uhJXKN_71HKz"
      },
      "source": [
        "# 개요"
      ]
    },
    {
      "cell_type": "markdown",
      "metadata": {
        "id": "T02KSzGz1iMO"
      },
      "source": [
        "# Prepare"
      ]
    },
    {
      "cell_type": "markdown",
      "metadata": {
        "id": "bfqE9z4W1JQh"
      },
      "source": [
        "# 1. 초기 세팅"
      ]
    },
    {
      "cell_type": "markdown",
      "metadata": {
        "id": "fG4uSp2B1Ph7"
      },
      "source": [
        "## Library & data load"
      ]
    },
    {
      "cell_type": "code",
      "execution_count": 45,
      "metadata": {
        "id": "c2zXAOvOq96i"
      },
      "outputs": [],
      "source": [
        "import pandas as pd\n",
        "import numpy as np\n",
        "import matplotlib.pyplot as plt\n",
        "import seaborn as sns\n",
        "import re"
      ]
    },
    {
      "cell_type": "code",
      "execution_count": 46,
      "metadata": {
        "id": "N6-se2jYrHsw"
      },
      "outputs": [],
      "source": [
        "# 처리용 df와 오리지널 버전 남겨놓음\n",
        "df = pd.read_csv(\"/Users/luci031/Downloads/auction/data_origin/auction_202110.csv\",encoding='euc_kr')\n",
        "org_df = pd.read_csv(\"/Users/luci031/Downloads/auction/data_origin/auction_202110.csv\",encoding='euc_kr')"
      ]
    },
    {
      "cell_type": "markdown",
      "metadata": {
        "id": "yINECbV-4eRb"
      },
      "source": [
        "# Pre-Processing"
      ]
    },
    {
      "cell_type": "markdown",
      "metadata": {
        "id": "OJuFufVP2War"
      },
      "source": [
        "## Basic info"
      ]
    },
    {
      "cell_type": "code",
      "execution_count": 47,
      "metadata": {
        "colab": {
          "base_uri": "https://localhost:8080/",
          "height": 206
        },
        "id": "EE8feVlFr0To",
        "outputId": "cb918bf3-bd0b-4f09-fd92-73d8670996c9"
      },
      "outputs": [
        {
          "data": {
            "text/html": [
              "<div>\n",
              "<style scoped>\n",
              "    .dataframe tbody tr th:only-of-type {\n",
              "        vertical-align: middle;\n",
              "    }\n",
              "\n",
              "    .dataframe tbody tr th {\n",
              "        vertical-align: top;\n",
              "    }\n",
              "\n",
              "    .dataframe thead th {\n",
              "        text-align: right;\n",
              "    }\n",
              "</style>\n",
              "<table border=\"1\" class=\"dataframe\">\n",
              "  <thead>\n",
              "    <tr style=\"text-align: right;\">\n",
              "      <th></th>\n",
              "      <th>품목명</th>\n",
              "      <th>단위</th>\n",
              "      <th>등급</th>\n",
              "      <th>가격</th>\n",
              "      <th>산지</th>\n",
              "      <th>친환경구분</th>\n",
              "      <th>입력일</th>\n",
              "    </tr>\n",
              "  </thead>\n",
              "  <tbody>\n",
              "    <tr>\n",
              "      <th>0</th>\n",
              "      <td>[버섯]팽이버섯</td>\n",
              "      <td>5kg</td>\n",
              "      <td>특(1등)</td>\n",
              "      <td>5500</td>\n",
              "      <td>경북 청도군</td>\n",
              "      <td>무농약</td>\n",
              "      <td>20210930</td>\n",
              "    </tr>\n",
              "    <tr>\n",
              "      <th>1</th>\n",
              "      <td>[버섯]팽이버섯</td>\n",
              "      <td>5kg</td>\n",
              "      <td>특(1등)</td>\n",
              "      <td>4000</td>\n",
              "      <td>전남 무안군</td>\n",
              "      <td>무농약</td>\n",
              "      <td>20210930</td>\n",
              "    </tr>\n",
              "    <tr>\n",
              "      <th>2</th>\n",
              "      <td>[버섯]팽이버섯</td>\n",
              "      <td>5kg</td>\n",
              "      <td>특(1등)</td>\n",
              "      <td>10000</td>\n",
              "      <td>경북 청도군</td>\n",
              "      <td>우수농산물</td>\n",
              "      <td>20210930</td>\n",
              "    </tr>\n",
              "    <tr>\n",
              "      <th>3</th>\n",
              "      <td>[버섯]팽이버섯</td>\n",
              "      <td>5kg</td>\n",
              "      <td>상(2등)</td>\n",
              "      <td>5000</td>\n",
              "      <td>전남 나주시</td>\n",
              "      <td>우수농산물</td>\n",
              "      <td>20210930</td>\n",
              "    </tr>\n",
              "    <tr>\n",
              "      <th>4</th>\n",
              "      <td>[버섯]팽이버섯</td>\n",
              "      <td>5kg</td>\n",
              "      <td>특(1등)</td>\n",
              "      <td>8000</td>\n",
              "      <td>경북 청도군</td>\n",
              "      <td>우수농산물</td>\n",
              "      <td>20210930</td>\n",
              "    </tr>\n",
              "  </tbody>\n",
              "</table>\n",
              "</div>"
            ],
            "text/plain": [
              "        품목명   단위     등급     가격      산지  친환경구분       입력일\n",
              "0  [버섯]팽이버섯  5kg  특(1등)   5500  경북 청도군    무농약  20210930\n",
              "1  [버섯]팽이버섯  5kg  특(1등)   4000  전남 무안군    무농약  20210930\n",
              "2  [버섯]팽이버섯  5kg  특(1등)  10000  경북 청도군  우수농산물  20210930\n",
              "3  [버섯]팽이버섯  5kg  상(2등)   5000  전남 나주시  우수농산물  20210930\n",
              "4  [버섯]팽이버섯  5kg  특(1등)   8000  경북 청도군  우수농산물  20210930"
            ]
          },
          "execution_count": 47,
          "metadata": {},
          "output_type": "execute_result"
        }
      ],
      "source": [
        "df.head()"
      ]
    },
    {
      "cell_type": "code",
      "execution_count": 48,
      "metadata": {
        "colab": {
          "base_uri": "https://localhost:8080/"
        },
        "id": "Jf03xK1D1p5Z",
        "outputId": "7cc5158f-76c4-4ca6-e80a-cd60949c1049"
      },
      "outputs": [
        {
          "name": "stdout",
          "output_type": "stream",
          "text": [
            "<class 'pandas.core.frame.DataFrame'>\n",
            "RangeIndex: 510896 entries, 0 to 510895\n",
            "Data columns (total 7 columns):\n",
            " #   Column  Non-Null Count   Dtype \n",
            "---  ------  --------------   ----- \n",
            " 0   품목명     510896 non-null  object\n",
            " 1   단위      510896 non-null  object\n",
            " 2   등급      510896 non-null  object\n",
            " 3   가격      510896 non-null  int64 \n",
            " 4   산지      509829 non-null  object\n",
            " 5   친환경구분   510896 non-null  object\n",
            " 6   입력일     510896 non-null  int64 \n",
            "dtypes: int64(2), object(5)\n",
            "memory usage: 27.3+ MB\n"
          ]
        }
      ],
      "source": [
        "df.info()"
      ]
    },
    {
      "cell_type": "code",
      "execution_count": 49,
      "metadata": {
        "colab": {
          "base_uri": "https://localhost:8080/"
        },
        "id": "R3-Xng6M1om2",
        "outputId": "0071ee93-3ebe-436d-910b-aa30c7356468"
      },
      "outputs": [
        {
          "data": {
            "text/plain": [
              "품목명         0\n",
              "단위          0\n",
              "등급          0\n",
              "가격          0\n",
              "산지       1067\n",
              "친환경구분       0\n",
              "입력일         0\n",
              "dtype: int64"
            ]
          },
          "execution_count": 49,
          "metadata": {},
          "output_type": "execute_result"
        }
      ],
      "source": [
        "# 산지 제외하고는 결측치 없는 것으로 확인\n",
        "df.isnull().sum()"
      ]
    },
    {
      "cell_type": "markdown",
      "metadata": {
        "id": "KiwEMLgv-7KL"
      },
      "source": [
        "- 결측치 처리"
      ]
    },
    {
      "cell_type": "code",
      "execution_count": 50,
      "metadata": {
        "id": "y52OV6yt-60b"
      },
      "outputs": [],
      "source": [
        "###\n",
        "# 양이 많지 않으므로 결측치 제거\n",
        "df = df.dropna(axis=0)"
      ]
    },
    {
      "cell_type": "markdown",
      "metadata": {
        "id": "tWVdZUXv7njQ"
      },
      "source": [
        "- 영문명으로 전환"
      ]
    },
    {
      "cell_type": "code",
      "execution_count": 51,
      "metadata": {
        "id": "Cpc_wblh4oLI"
      },
      "outputs": [],
      "source": [
        "df = df.rename(columns = {'품목명':'prd',\n",
        "                          '단위':'scale','등급':'class',\n",
        "                          '가격':'price',\n",
        "                          '산지':'origin',\n",
        "                          '친환경구분':'eco',\n",
        "                          '입력일':'reg_date'})"
      ]
    },
    {
      "cell_type": "markdown",
      "metadata": {
        "id": "6raN15sn8XwE"
      },
      "source": [
        "## column 별 정보"
      ]
    },
    {
      "cell_type": "markdown",
      "metadata": {
        "id": "9blCj1BqBKl9"
      },
      "source": [
        "### class"
      ]
    },
    {
      "cell_type": "code",
      "execution_count": 52,
      "metadata": {
        "colab": {
          "base_uri": "https://localhost:8080/"
        },
        "id": "trRf-DfuBNBL",
        "outputId": "017ef00e-f7ca-476c-e44a-a847d4881695"
      },
      "outputs": [
        {
          "data": {
            "text/plain": [
              "Index(['특(1등)', '상(2등)', '보통(3등)', '9등(등외)', '없음', '4등', '5등', '6등', '7등',\n",
              "       '8등'],\n",
              "      dtype='object')"
            ]
          },
          "execution_count": 52,
          "metadata": {},
          "output_type": "execute_result"
        }
      ],
      "source": [
        "# 이름 모두 영어로 변경\n",
        "# 9등과 없음 모두 9로 변경\n",
        "df['class'].value_counts().index"
      ]
    },
    {
      "cell_type": "code",
      "execution_count": 53,
      "metadata": {
        "id": "Y9aTlhUSBfU9"
      },
      "outputs": [],
      "source": [
        "df111 = pd.DataFrame([['특(1등)', 1], ['상(2등)',2], ['보통(3등)',3], ['9등(등외)',9], ['없음',9], ['5등',5], ['4등',4], ['6등',6], ['7등',7],['8등',8]],columns=['class','new_class'])"
      ]
    },
    {
      "cell_type": "code",
      "execution_count": 54,
      "metadata": {
        "id": "N4LG6ClLC4II"
      },
      "outputs": [],
      "source": [
        "df2 = df.merge(df111)\n",
        "df2 = df2.drop(columns='class')"
      ]
    },
    {
      "cell_type": "code",
      "execution_count": 55,
      "metadata": {
        "colab": {
          "base_uri": "https://localhost:8080/",
          "height": 423
        },
        "id": "w_BncYpbDQGg",
        "outputId": "6482608e-5fcd-4b4d-b921-e720dec1a560"
      },
      "outputs": [
        {
          "data": {
            "text/html": [
              "<div>\n",
              "<style scoped>\n",
              "    .dataframe tbody tr th:only-of-type {\n",
              "        vertical-align: middle;\n",
              "    }\n",
              "\n",
              "    .dataframe tbody tr th {\n",
              "        vertical-align: top;\n",
              "    }\n",
              "\n",
              "    .dataframe thead th {\n",
              "        text-align: right;\n",
              "    }\n",
              "</style>\n",
              "<table border=\"1\" class=\"dataframe\">\n",
              "  <thead>\n",
              "    <tr style=\"text-align: right;\">\n",
              "      <th></th>\n",
              "      <th>prd</th>\n",
              "      <th>scale</th>\n",
              "      <th>price</th>\n",
              "      <th>origin</th>\n",
              "      <th>eco</th>\n",
              "      <th>reg_date</th>\n",
              "      <th>new_class</th>\n",
              "    </tr>\n",
              "  </thead>\n",
              "  <tbody>\n",
              "    <tr>\n",
              "      <th>0</th>\n",
              "      <td>[버섯]팽이버섯</td>\n",
              "      <td>5kg</td>\n",
              "      <td>5500</td>\n",
              "      <td>경북 청도군</td>\n",
              "      <td>무농약</td>\n",
              "      <td>20210930</td>\n",
              "      <td>1</td>\n",
              "    </tr>\n",
              "    <tr>\n",
              "      <th>1</th>\n",
              "      <td>[버섯]팽이버섯</td>\n",
              "      <td>5kg</td>\n",
              "      <td>4000</td>\n",
              "      <td>전남 무안군</td>\n",
              "      <td>무농약</td>\n",
              "      <td>20210930</td>\n",
              "      <td>1</td>\n",
              "    </tr>\n",
              "    <tr>\n",
              "      <th>2</th>\n",
              "      <td>[버섯]팽이버섯</td>\n",
              "      <td>5kg</td>\n",
              "      <td>10000</td>\n",
              "      <td>경북 청도군</td>\n",
              "      <td>우수농산물</td>\n",
              "      <td>20210930</td>\n",
              "      <td>1</td>\n",
              "    </tr>\n",
              "    <tr>\n",
              "      <th>3</th>\n",
              "      <td>[버섯]팽이버섯</td>\n",
              "      <td>5kg</td>\n",
              "      <td>8000</td>\n",
              "      <td>경북 청도군</td>\n",
              "      <td>우수농산물</td>\n",
              "      <td>20210930</td>\n",
              "      <td>1</td>\n",
              "    </tr>\n",
              "    <tr>\n",
              "      <th>4</th>\n",
              "      <td>[버섯]팽이버섯</td>\n",
              "      <td>5kg</td>\n",
              "      <td>9500</td>\n",
              "      <td>경북 청도군</td>\n",
              "      <td>우수농산물</td>\n",
              "      <td>20210930</td>\n",
              "      <td>1</td>\n",
              "    </tr>\n",
              "    <tr>\n",
              "      <th>...</th>\n",
              "      <td>...</td>\n",
              "      <td>...</td>\n",
              "      <td>...</td>\n",
              "      <td>...</td>\n",
              "      <td>...</td>\n",
              "      <td>...</td>\n",
              "      <td>...</td>\n",
              "    </tr>\n",
              "    <tr>\n",
              "      <th>509824</th>\n",
              "      <td>[호박]늙은호박</td>\n",
              "      <td>10kg</td>\n",
              "      <td>800</td>\n",
              "      <td>전남 해남군</td>\n",
              "      <td>일반</td>\n",
              "      <td>20211029</td>\n",
              "      <td>8</td>\n",
              "    </tr>\n",
              "    <tr>\n",
              "      <th>509825</th>\n",
              "      <td>[감자]감자(감자)</td>\n",
              "      <td>20kg</td>\n",
              "      <td>28000</td>\n",
              "      <td>강원 홍천군</td>\n",
              "      <td>일반</td>\n",
              "      <td>20211030</td>\n",
              "      <td>8</td>\n",
              "    </tr>\n",
              "    <tr>\n",
              "      <th>509826</th>\n",
              "      <td>[감자]감자(감자)</td>\n",
              "      <td>20kg</td>\n",
              "      <td>25000</td>\n",
              "      <td>강원 홍천군</td>\n",
              "      <td>일반</td>\n",
              "      <td>20211030</td>\n",
              "      <td>8</td>\n",
              "    </tr>\n",
              "    <tr>\n",
              "      <th>509827</th>\n",
              "      <td>[감자]감자(감자)</td>\n",
              "      <td>20kg</td>\n",
              "      <td>24000</td>\n",
              "      <td>강원 홍천군</td>\n",
              "      <td>일반</td>\n",
              "      <td>20211030</td>\n",
              "      <td>8</td>\n",
              "    </tr>\n",
              "    <tr>\n",
              "      <th>509828</th>\n",
              "      <td>[양파]양파(일반)</td>\n",
              "      <td>15kg</td>\n",
              "      <td>12500</td>\n",
              "      <td>전남 무안군</td>\n",
              "      <td>일반</td>\n",
              "      <td>20211030</td>\n",
              "      <td>8</td>\n",
              "    </tr>\n",
              "  </tbody>\n",
              "</table>\n",
              "<p>509829 rows × 7 columns</p>\n",
              "</div>"
            ],
            "text/plain": [
              "               prd scale  price  origin    eco  reg_date  new_class\n",
              "0         [버섯]팽이버섯   5kg   5500  경북 청도군    무농약  20210930          1\n",
              "1         [버섯]팽이버섯   5kg   4000  전남 무안군    무농약  20210930          1\n",
              "2         [버섯]팽이버섯   5kg  10000  경북 청도군  우수농산물  20210930          1\n",
              "3         [버섯]팽이버섯   5kg   8000  경북 청도군  우수농산물  20210930          1\n",
              "4         [버섯]팽이버섯   5kg   9500  경북 청도군  우수농산물  20210930          1\n",
              "...            ...   ...    ...     ...    ...       ...        ...\n",
              "509824    [호박]늙은호박  10kg    800  전남 해남군     일반  20211029          8\n",
              "509825  [감자]감자(감자)  20kg  28000  강원 홍천군     일반  20211030          8\n",
              "509826  [감자]감자(감자)  20kg  25000  강원 홍천군     일반  20211030          8\n",
              "509827  [감자]감자(감자)  20kg  24000  강원 홍천군     일반  20211030          8\n",
              "509828  [양파]양파(일반)  15kg  12500  전남 무안군     일반  20211030          8\n",
              "\n",
              "[509829 rows x 7 columns]"
            ]
          },
          "execution_count": 55,
          "metadata": {},
          "output_type": "execute_result"
        }
      ],
      "source": [
        "df2"
      ]
    },
    {
      "cell_type": "markdown",
      "metadata": {
        "id": "6QhhnXfKWiQL"
      },
      "source": [
        "### eco"
      ]
    },
    {
      "cell_type": "code",
      "execution_count": 56,
      "metadata": {
        "id": "XPNdAWmbWWjy"
      },
      "outputs": [],
      "source": [
        "# 영문명으로 전환\n",
        "# 전환기 -> 유기농 재배로 전환중\n",
        "df2.loc[df2[\"eco\"]==\"일반\",\"eco\"] = \"normal\"\n",
        "df2.loc[df2[\"eco\"]==\"우수농산물\",\"eco\"] = \"\bgood_prd\"\n",
        "df2.loc[df2[\"eco\"]==\"무농약\",\"eco\"] = \"\becofriendly\"\n",
        "df2.loc[df2[\"eco\"]==\"유기농\",\"eco\"] = \"organic\"\n",
        "df2.loc[df2[\"eco\"]==\"품질인증\",\"eco\"] = \"certified\"\n",
        "df2.loc[df2[\"eco\"]==\"전환기\",\"eco\"] = \"ing\""
      ]
    },
    {
      "cell_type": "code",
      "execution_count": 57,
      "metadata": {
        "colab": {
          "base_uri": "https://localhost:8080/",
          "height": 423
        },
        "id": "SFs64qIjYPqG",
        "outputId": "e1d18001-8e23-4db4-c367-d91e111bf6af"
      },
      "outputs": [
        {
          "data": {
            "text/html": [
              "<div>\n",
              "<style scoped>\n",
              "    .dataframe tbody tr th:only-of-type {\n",
              "        vertical-align: middle;\n",
              "    }\n",
              "\n",
              "    .dataframe tbody tr th {\n",
              "        vertical-align: top;\n",
              "    }\n",
              "\n",
              "    .dataframe thead th {\n",
              "        text-align: right;\n",
              "    }\n",
              "</style>\n",
              "<table border=\"1\" class=\"dataframe\">\n",
              "  <thead>\n",
              "    <tr style=\"text-align: right;\">\n",
              "      <th></th>\n",
              "      <th>prd</th>\n",
              "      <th>scale</th>\n",
              "      <th>price</th>\n",
              "      <th>origin</th>\n",
              "      <th>eco</th>\n",
              "      <th>reg_date</th>\n",
              "      <th>new_class</th>\n",
              "    </tr>\n",
              "  </thead>\n",
              "  <tbody>\n",
              "    <tr>\n",
              "      <th>0</th>\n",
              "      <td>[버섯]팽이버섯</td>\n",
              "      <td>5kg</td>\n",
              "      <td>5500</td>\n",
              "      <td>경북 청도군</td>\n",
              "      <td>\becofriendly</td>\n",
              "      <td>20210930</td>\n",
              "      <td>1</td>\n",
              "    </tr>\n",
              "    <tr>\n",
              "      <th>1</th>\n",
              "      <td>[버섯]팽이버섯</td>\n",
              "      <td>5kg</td>\n",
              "      <td>4000</td>\n",
              "      <td>전남 무안군</td>\n",
              "      <td>\becofriendly</td>\n",
              "      <td>20210930</td>\n",
              "      <td>1</td>\n",
              "    </tr>\n",
              "    <tr>\n",
              "      <th>2</th>\n",
              "      <td>[버섯]팽이버섯</td>\n",
              "      <td>5kg</td>\n",
              "      <td>10000</td>\n",
              "      <td>경북 청도군</td>\n",
              "      <td>\bgood_prd</td>\n",
              "      <td>20210930</td>\n",
              "      <td>1</td>\n",
              "    </tr>\n",
              "    <tr>\n",
              "      <th>3</th>\n",
              "      <td>[버섯]팽이버섯</td>\n",
              "      <td>5kg</td>\n",
              "      <td>8000</td>\n",
              "      <td>경북 청도군</td>\n",
              "      <td>\bgood_prd</td>\n",
              "      <td>20210930</td>\n",
              "      <td>1</td>\n",
              "    </tr>\n",
              "    <tr>\n",
              "      <th>4</th>\n",
              "      <td>[버섯]팽이버섯</td>\n",
              "      <td>5kg</td>\n",
              "      <td>9500</td>\n",
              "      <td>경북 청도군</td>\n",
              "      <td>\bgood_prd</td>\n",
              "      <td>20210930</td>\n",
              "      <td>1</td>\n",
              "    </tr>\n",
              "    <tr>\n",
              "      <th>...</th>\n",
              "      <td>...</td>\n",
              "      <td>...</td>\n",
              "      <td>...</td>\n",
              "      <td>...</td>\n",
              "      <td>...</td>\n",
              "      <td>...</td>\n",
              "      <td>...</td>\n",
              "    </tr>\n",
              "    <tr>\n",
              "      <th>509824</th>\n",
              "      <td>[호박]늙은호박</td>\n",
              "      <td>10kg</td>\n",
              "      <td>800</td>\n",
              "      <td>전남 해남군</td>\n",
              "      <td>normal</td>\n",
              "      <td>20211029</td>\n",
              "      <td>8</td>\n",
              "    </tr>\n",
              "    <tr>\n",
              "      <th>509825</th>\n",
              "      <td>[감자]감자(감자)</td>\n",
              "      <td>20kg</td>\n",
              "      <td>28000</td>\n",
              "      <td>강원 홍천군</td>\n",
              "      <td>normal</td>\n",
              "      <td>20211030</td>\n",
              "      <td>8</td>\n",
              "    </tr>\n",
              "    <tr>\n",
              "      <th>509826</th>\n",
              "      <td>[감자]감자(감자)</td>\n",
              "      <td>20kg</td>\n",
              "      <td>25000</td>\n",
              "      <td>강원 홍천군</td>\n",
              "      <td>normal</td>\n",
              "      <td>20211030</td>\n",
              "      <td>8</td>\n",
              "    </tr>\n",
              "    <tr>\n",
              "      <th>509827</th>\n",
              "      <td>[감자]감자(감자)</td>\n",
              "      <td>20kg</td>\n",
              "      <td>24000</td>\n",
              "      <td>강원 홍천군</td>\n",
              "      <td>normal</td>\n",
              "      <td>20211030</td>\n",
              "      <td>8</td>\n",
              "    </tr>\n",
              "    <tr>\n",
              "      <th>509828</th>\n",
              "      <td>[양파]양파(일반)</td>\n",
              "      <td>15kg</td>\n",
              "      <td>12500</td>\n",
              "      <td>전남 무안군</td>\n",
              "      <td>normal</td>\n",
              "      <td>20211030</td>\n",
              "      <td>8</td>\n",
              "    </tr>\n",
              "  </tbody>\n",
              "</table>\n",
              "<p>509829 rows × 7 columns</p>\n",
              "</div>"
            ],
            "text/plain": [
              "               prd scale  price  origin           eco  reg_date  new_class\n",
              "0         [버섯]팽이버섯   5kg   5500  경북 청도군  \becofriendly  20210930          1\n",
              "1         [버섯]팽이버섯   5kg   4000  전남 무안군  \becofriendly  20210930          1\n",
              "2         [버섯]팽이버섯   5kg  10000  경북 청도군     \bgood_prd  20210930          1\n",
              "3         [버섯]팽이버섯   5kg   8000  경북 청도군     \bgood_prd  20210930          1\n",
              "4         [버섯]팽이버섯   5kg   9500  경북 청도군     \bgood_prd  20210930          1\n",
              "...            ...   ...    ...     ...           ...       ...        ...\n",
              "509824    [호박]늙은호박  10kg    800  전남 해남군        normal  20211029          8\n",
              "509825  [감자]감자(감자)  20kg  28000  강원 홍천군        normal  20211030          8\n",
              "509826  [감자]감자(감자)  20kg  25000  강원 홍천군        normal  20211030          8\n",
              "509827  [감자]감자(감자)  20kg  24000  강원 홍천군        normal  20211030          8\n",
              "509828  [양파]양파(일반)  15kg  12500  전남 무안군        normal  20211030          8\n",
              "\n",
              "[509829 rows x 7 columns]"
            ]
          },
          "execution_count": 57,
          "metadata": {},
          "output_type": "execute_result"
        }
      ],
      "source": [
        "df2"
      ]
    },
    {
      "cell_type": "markdown",
      "metadata": {
        "id": "ffhjwT57YNLh"
      },
      "source": [
        "### reg_date"
      ]
    },
    {
      "cell_type": "code",
      "execution_count": 58,
      "metadata": {
        "id": "0xEJoswCYUiR"
      },
      "outputs": [],
      "source": [
        "df2['reg_date'] = df2['reg_date'].astype('str')"
      ]
    },
    {
      "cell_type": "code",
      "execution_count": 59,
      "metadata": {
        "id": "7eMsOdHaqa7H"
      },
      "outputs": [],
      "source": [
        "df2['reg_date'] = pd.to_datetime(df2['reg_date'].astype('str'),format='%Y%m%d')"
      ]
    },
    {
      "cell_type": "code",
      "execution_count": 60,
      "metadata": {
        "colab": {
          "base_uri": "https://localhost:8080/",
          "height": 423
        },
        "id": "4OJlA07go6Vm",
        "outputId": "775611cd-2a30-4603-90e5-ac782aea1678"
      },
      "outputs": [
        {
          "data": {
            "text/html": [
              "<div>\n",
              "<style scoped>\n",
              "    .dataframe tbody tr th:only-of-type {\n",
              "        vertical-align: middle;\n",
              "    }\n",
              "\n",
              "    .dataframe tbody tr th {\n",
              "        vertical-align: top;\n",
              "    }\n",
              "\n",
              "    .dataframe thead th {\n",
              "        text-align: right;\n",
              "    }\n",
              "</style>\n",
              "<table border=\"1\" class=\"dataframe\">\n",
              "  <thead>\n",
              "    <tr style=\"text-align: right;\">\n",
              "      <th></th>\n",
              "      <th>prd</th>\n",
              "      <th>scale</th>\n",
              "      <th>price</th>\n",
              "      <th>origin</th>\n",
              "      <th>eco</th>\n",
              "      <th>reg_date</th>\n",
              "      <th>new_class</th>\n",
              "    </tr>\n",
              "  </thead>\n",
              "  <tbody>\n",
              "    <tr>\n",
              "      <th>0</th>\n",
              "      <td>[버섯]팽이버섯</td>\n",
              "      <td>5kg</td>\n",
              "      <td>5500</td>\n",
              "      <td>경북 청도군</td>\n",
              "      <td>\becofriendly</td>\n",
              "      <td>2021-09-30</td>\n",
              "      <td>1</td>\n",
              "    </tr>\n",
              "    <tr>\n",
              "      <th>1</th>\n",
              "      <td>[버섯]팽이버섯</td>\n",
              "      <td>5kg</td>\n",
              "      <td>4000</td>\n",
              "      <td>전남 무안군</td>\n",
              "      <td>\becofriendly</td>\n",
              "      <td>2021-09-30</td>\n",
              "      <td>1</td>\n",
              "    </tr>\n",
              "    <tr>\n",
              "      <th>2</th>\n",
              "      <td>[버섯]팽이버섯</td>\n",
              "      <td>5kg</td>\n",
              "      <td>10000</td>\n",
              "      <td>경북 청도군</td>\n",
              "      <td>\bgood_prd</td>\n",
              "      <td>2021-09-30</td>\n",
              "      <td>1</td>\n",
              "    </tr>\n",
              "    <tr>\n",
              "      <th>3</th>\n",
              "      <td>[버섯]팽이버섯</td>\n",
              "      <td>5kg</td>\n",
              "      <td>8000</td>\n",
              "      <td>경북 청도군</td>\n",
              "      <td>\bgood_prd</td>\n",
              "      <td>2021-09-30</td>\n",
              "      <td>1</td>\n",
              "    </tr>\n",
              "    <tr>\n",
              "      <th>4</th>\n",
              "      <td>[버섯]팽이버섯</td>\n",
              "      <td>5kg</td>\n",
              "      <td>9500</td>\n",
              "      <td>경북 청도군</td>\n",
              "      <td>\bgood_prd</td>\n",
              "      <td>2021-09-30</td>\n",
              "      <td>1</td>\n",
              "    </tr>\n",
              "    <tr>\n",
              "      <th>...</th>\n",
              "      <td>...</td>\n",
              "      <td>...</td>\n",
              "      <td>...</td>\n",
              "      <td>...</td>\n",
              "      <td>...</td>\n",
              "      <td>...</td>\n",
              "      <td>...</td>\n",
              "    </tr>\n",
              "    <tr>\n",
              "      <th>509824</th>\n",
              "      <td>[호박]늙은호박</td>\n",
              "      <td>10kg</td>\n",
              "      <td>800</td>\n",
              "      <td>전남 해남군</td>\n",
              "      <td>normal</td>\n",
              "      <td>2021-10-29</td>\n",
              "      <td>8</td>\n",
              "    </tr>\n",
              "    <tr>\n",
              "      <th>509825</th>\n",
              "      <td>[감자]감자(감자)</td>\n",
              "      <td>20kg</td>\n",
              "      <td>28000</td>\n",
              "      <td>강원 홍천군</td>\n",
              "      <td>normal</td>\n",
              "      <td>2021-10-30</td>\n",
              "      <td>8</td>\n",
              "    </tr>\n",
              "    <tr>\n",
              "      <th>509826</th>\n",
              "      <td>[감자]감자(감자)</td>\n",
              "      <td>20kg</td>\n",
              "      <td>25000</td>\n",
              "      <td>강원 홍천군</td>\n",
              "      <td>normal</td>\n",
              "      <td>2021-10-30</td>\n",
              "      <td>8</td>\n",
              "    </tr>\n",
              "    <tr>\n",
              "      <th>509827</th>\n",
              "      <td>[감자]감자(감자)</td>\n",
              "      <td>20kg</td>\n",
              "      <td>24000</td>\n",
              "      <td>강원 홍천군</td>\n",
              "      <td>normal</td>\n",
              "      <td>2021-10-30</td>\n",
              "      <td>8</td>\n",
              "    </tr>\n",
              "    <tr>\n",
              "      <th>509828</th>\n",
              "      <td>[양파]양파(일반)</td>\n",
              "      <td>15kg</td>\n",
              "      <td>12500</td>\n",
              "      <td>전남 무안군</td>\n",
              "      <td>normal</td>\n",
              "      <td>2021-10-30</td>\n",
              "      <td>8</td>\n",
              "    </tr>\n",
              "  </tbody>\n",
              "</table>\n",
              "<p>509829 rows × 7 columns</p>\n",
              "</div>"
            ],
            "text/plain": [
              "               prd scale  price  origin           eco   reg_date  new_class\n",
              "0         [버섯]팽이버섯   5kg   5500  경북 청도군  \becofriendly 2021-09-30          1\n",
              "1         [버섯]팽이버섯   5kg   4000  전남 무안군  \becofriendly 2021-09-30          1\n",
              "2         [버섯]팽이버섯   5kg  10000  경북 청도군     \bgood_prd 2021-09-30          1\n",
              "3         [버섯]팽이버섯   5kg   8000  경북 청도군     \bgood_prd 2021-09-30          1\n",
              "4         [버섯]팽이버섯   5kg   9500  경북 청도군     \bgood_prd 2021-09-30          1\n",
              "...            ...   ...    ...     ...           ...        ...        ...\n",
              "509824    [호박]늙은호박  10kg    800  전남 해남군        normal 2021-10-29          8\n",
              "509825  [감자]감자(감자)  20kg  28000  강원 홍천군        normal 2021-10-30          8\n",
              "509826  [감자]감자(감자)  20kg  25000  강원 홍천군        normal 2021-10-30          8\n",
              "509827  [감자]감자(감자)  20kg  24000  강원 홍천군        normal 2021-10-30          8\n",
              "509828  [양파]양파(일반)  15kg  12500  전남 무안군        normal 2021-10-30          8\n",
              "\n",
              "[509829 rows x 7 columns]"
            ]
          },
          "execution_count": 60,
          "metadata": {},
          "output_type": "execute_result"
        }
      ],
      "source": [
        "df2"
      ]
    },
    {
      "cell_type": "markdown",
      "metadata": {
        "id": "VN8Eana_Dbbl"
      },
      "source": [
        "### price"
      ]
    },
    {
      "cell_type": "code",
      "execution_count": 61,
      "metadata": {
        "id": "oZbejw0vewmJ"
      },
      "outputs": [],
      "source": [
        "# 계산을 위해 scale 값 미리 변경\n",
        "# 현재 값들은 string이므로 float 형태로 변환할 필요가 있음\n",
        "# 몇몇 이상치 처리도 진행\n",
        "def scale_checker(scale):\n",
        "  if scale.startswith('.')==True:\n",
        "    return format(float('0'+scale[:-2]),'.2f')\n",
        "  else:\n",
        "    return format(float((scale[:-2])),'.2f')\n",
        "df2['scale'] = df2['scale'].apply(scale_checker)\n",
        "df2['scale'] = df2['scale'].astype('float')\n",
        "# df2['scale'] = format(round(df2['scale'].apply(pd.to_numeric),2),'.2f')"
      ]
    },
    {
      "cell_type": "code",
      "execution_count": 62,
      "metadata": {},
      "outputs": [
        {
          "data": {
            "text/plain": [
              "array([     5.  ,      4.  ,     16.  ,     15.  ,     10.  ,     17.  ,\n",
              "           19.  ,     14.  ,     18.  ,      8.  ,      7.  ,     11.  ,\n",
              "           13.  ,      6.  ,     12.  ,      9.  ,      2.  ,      1.5 ,\n",
              "            4.5 ,      2.5 ,      3.  ,      0.5 ,      0.2 ,      1.  ,\n",
              "           20.  ,      4.8 ,      1.8 ,      1.2 ,      0.4 ,      3.6 ,\n",
              "            3.5 ,      0.3 ,      0.09,      6.5 ,      7.5 ,      0.1 ,\n",
              "           21.  ,    211.  ,     10.01,     20.01,      0.7 ,      0.8 ,\n",
              "           11.5 ,      2.01,      4.01,      2.6 ,      3.8 ,      8.6 ,\n",
              "            8.01,      9.6 ,     10.4 ,     25.  ,      5.1 ,      2.3 ,\n",
              "            2.4 ,      0.25,      0.15,      0.06,      0.05,      2.7 ,\n",
              "            3.4 ,      2.9 ,      4.6 ,      3.1 ,      4.9 ,      2.8 ,\n",
              "            5.8 ,     14.5 ,     13.5 ,      5.2 ,      0.12,      0.6 ,\n",
              "           22.  ,      5.5 ,      4.2 ,      5.3 ,      3.2 ,    500.  ,\n",
              "            5.6 ,     24.  ,     18.01,     10.5 ,     12.7 ,     23.  ,\n",
              "            3.3 ,      5.9 ,     14.4 ,      9.5 ,      9.9 ,      8.8 ,\n",
              "            8.5 ,      4.4 ,      8.2 ,      0.03,     15.01,      9.3 ,\n",
              "          109.  ,      7.6 ,      3.7 ,      6.1 ,      3.62,     11.6 ,\n",
              "            2.1 ,      4.7 ,      8.3 ,      0.9 ,      1.6 ,      0.17,\n",
              "            0.01,     10.8 ,     13.2 ,      6.4 ,     26.  ,      5.01,\n",
              "           11.9 ,     17.2 ,     10.2 ,    110.  ,      3.9 ,     10.9 ,\n",
              "            9.4 ,      0.16,  10000.  ,      0.75,      2.2 ,      6.2 ,\n",
              "          100.  ,     12.5 ,      9.2 ,      4.3 ,      0.72,      0.56,\n",
              "           33.  ,      5.7 ,      7.4 ,     32.  ,     30.  ,      1.12,\n",
              "           75.  ,     17.5 ,      1.7 ,      6.9 ,      6.3 , 100000.  ,\n",
              "            5.4 ,     72.5 ,     76.4 ,     69.7 ,      7.2 ,   6000.  ,\n",
              "            3.72,      6.8 ,      7.3 ,      6.7 ,     10.6 ,      7.8 ,\n",
              "            8.9 ,     21.5 ,     11.8 ,      7.7 ,      8.56,      0.07,\n",
              "            1.9 ,     22.5 ,     16.5 ,      1.4 ,      9.1 ,     12.2 ,\n",
              "            8.4 ,     42.  ,      0.89,      3.56,      1.1 ,     10.3 ,\n",
              "           15.2 ,     11.4 ,     16.23,      1.3 ,      0.78,     80.1 ,\n",
              "           68.7 ,     77.9 ,    754.  ,     15.5 ,      6.6 ,     51.  ,\n",
              "           81.3 ,     75.6 ,     67.5 ,     28.  ])"
            ]
          },
          "execution_count": 62,
          "metadata": {},
          "output_type": "execute_result"
        }
      ],
      "source": [
        "df2['scale'].unique()"
      ]
    },
    {
      "cell_type": "code",
      "execution_count": 63,
      "metadata": {
        "colab": {
          "base_uri": "https://localhost:8080/"
        },
        "id": "S_OXk_iDDaxM",
        "outputId": "df40b3b5-b8d5-4609-b1d1-d940826ff6bf"
      },
      "outputs": [
        {
          "data": {
            "text/plain": [
              "count     509829.00000\n",
              "mean       23970.24567\n",
              "std       137487.92397\n",
              "min            5.00000\n",
              "25%         8500.00000\n",
              "50%        15000.00000\n",
              "75%        26400.00000\n",
              "max     60507000.00000\n",
              "Name: price, dtype: float64"
            ]
          },
          "execution_count": 63,
          "metadata": {},
          "output_type": "execute_result"
        }
      ],
      "source": [
        "# 1원짜리 거래 발견, 너무 거래값이 작은 값들은 삭제\n",
        "pd.options.display.float_format = '{:.5f}'.format\n",
        "df2['price'].describe()"
      ]
    },
    {
      "cell_type": "code",
      "execution_count": 64,
      "metadata": {
        "id": "PQrLwgHPVsHs"
      },
      "outputs": [],
      "source": [
        "df2 = df2.drop(df2[df2['price']<500].index)"
      ]
    },
    {
      "cell_type": "code",
      "execution_count": 65,
      "metadata": {
        "colab": {
          "base_uri": "https://localhost:8080/",
          "height": 423
        },
        "id": "h8uaY01ADasA",
        "outputId": "228f08e1-3d13-41cf-ae61-c672904e5fc6"
      },
      "outputs": [
        {
          "data": {
            "text/html": [
              "<div>\n",
              "<style scoped>\n",
              "    .dataframe tbody tr th:only-of-type {\n",
              "        vertical-align: middle;\n",
              "    }\n",
              "\n",
              "    .dataframe tbody tr th {\n",
              "        vertical-align: top;\n",
              "    }\n",
              "\n",
              "    .dataframe thead th {\n",
              "        text-align: right;\n",
              "    }\n",
              "</style>\n",
              "<table border=\"1\" class=\"dataframe\">\n",
              "  <thead>\n",
              "    <tr style=\"text-align: right;\">\n",
              "      <th></th>\n",
              "      <th>prd</th>\n",
              "      <th>scale</th>\n",
              "      <th>price</th>\n",
              "      <th>origin</th>\n",
              "      <th>eco</th>\n",
              "      <th>reg_date</th>\n",
              "      <th>new_class</th>\n",
              "    </tr>\n",
              "  </thead>\n",
              "  <tbody>\n",
              "    <tr>\n",
              "      <th>0</th>\n",
              "      <td>[버섯]팽이버섯</td>\n",
              "      <td>5.00000</td>\n",
              "      <td>5500</td>\n",
              "      <td>경북 청도군</td>\n",
              "      <td>\becofriendly</td>\n",
              "      <td>2021-09-30</td>\n",
              "      <td>1</td>\n",
              "    </tr>\n",
              "    <tr>\n",
              "      <th>1</th>\n",
              "      <td>[버섯]팽이버섯</td>\n",
              "      <td>5.00000</td>\n",
              "      <td>4000</td>\n",
              "      <td>전남 무안군</td>\n",
              "      <td>\becofriendly</td>\n",
              "      <td>2021-09-30</td>\n",
              "      <td>1</td>\n",
              "    </tr>\n",
              "    <tr>\n",
              "      <th>2</th>\n",
              "      <td>[버섯]팽이버섯</td>\n",
              "      <td>5.00000</td>\n",
              "      <td>10000</td>\n",
              "      <td>경북 청도군</td>\n",
              "      <td>\bgood_prd</td>\n",
              "      <td>2021-09-30</td>\n",
              "      <td>1</td>\n",
              "    </tr>\n",
              "    <tr>\n",
              "      <th>3</th>\n",
              "      <td>[버섯]팽이버섯</td>\n",
              "      <td>5.00000</td>\n",
              "      <td>8000</td>\n",
              "      <td>경북 청도군</td>\n",
              "      <td>\bgood_prd</td>\n",
              "      <td>2021-09-30</td>\n",
              "      <td>1</td>\n",
              "    </tr>\n",
              "    <tr>\n",
              "      <th>4</th>\n",
              "      <td>[버섯]팽이버섯</td>\n",
              "      <td>5.00000</td>\n",
              "      <td>9500</td>\n",
              "      <td>경북 청도군</td>\n",
              "      <td>\bgood_prd</td>\n",
              "      <td>2021-09-30</td>\n",
              "      <td>1</td>\n",
              "    </tr>\n",
              "    <tr>\n",
              "      <th>...</th>\n",
              "      <td>...</td>\n",
              "      <td>...</td>\n",
              "      <td>...</td>\n",
              "      <td>...</td>\n",
              "      <td>...</td>\n",
              "      <td>...</td>\n",
              "      <td>...</td>\n",
              "    </tr>\n",
              "    <tr>\n",
              "      <th>509824</th>\n",
              "      <td>[호박]늙은호박</td>\n",
              "      <td>10.00000</td>\n",
              "      <td>800</td>\n",
              "      <td>전남 해남군</td>\n",
              "      <td>normal</td>\n",
              "      <td>2021-10-29</td>\n",
              "      <td>8</td>\n",
              "    </tr>\n",
              "    <tr>\n",
              "      <th>509825</th>\n",
              "      <td>[감자]감자(감자)</td>\n",
              "      <td>20.00000</td>\n",
              "      <td>28000</td>\n",
              "      <td>강원 홍천군</td>\n",
              "      <td>normal</td>\n",
              "      <td>2021-10-30</td>\n",
              "      <td>8</td>\n",
              "    </tr>\n",
              "    <tr>\n",
              "      <th>509826</th>\n",
              "      <td>[감자]감자(감자)</td>\n",
              "      <td>20.00000</td>\n",
              "      <td>25000</td>\n",
              "      <td>강원 홍천군</td>\n",
              "      <td>normal</td>\n",
              "      <td>2021-10-30</td>\n",
              "      <td>8</td>\n",
              "    </tr>\n",
              "    <tr>\n",
              "      <th>509827</th>\n",
              "      <td>[감자]감자(감자)</td>\n",
              "      <td>20.00000</td>\n",
              "      <td>24000</td>\n",
              "      <td>강원 홍천군</td>\n",
              "      <td>normal</td>\n",
              "      <td>2021-10-30</td>\n",
              "      <td>8</td>\n",
              "    </tr>\n",
              "    <tr>\n",
              "      <th>509828</th>\n",
              "      <td>[양파]양파(일반)</td>\n",
              "      <td>15.00000</td>\n",
              "      <td>12500</td>\n",
              "      <td>전남 무안군</td>\n",
              "      <td>normal</td>\n",
              "      <td>2021-10-30</td>\n",
              "      <td>8</td>\n",
              "    </tr>\n",
              "  </tbody>\n",
              "</table>\n",
              "<p>509154 rows × 7 columns</p>\n",
              "</div>"
            ],
            "text/plain": [
              "               prd    scale  price  origin           eco   reg_date  new_class\n",
              "0         [버섯]팽이버섯  5.00000   5500  경북 청도군  \becofriendly 2021-09-30          1\n",
              "1         [버섯]팽이버섯  5.00000   4000  전남 무안군  \becofriendly 2021-09-30          1\n",
              "2         [버섯]팽이버섯  5.00000  10000  경북 청도군     \bgood_prd 2021-09-30          1\n",
              "3         [버섯]팽이버섯  5.00000   8000  경북 청도군     \bgood_prd 2021-09-30          1\n",
              "4         [버섯]팽이버섯  5.00000   9500  경북 청도군     \bgood_prd 2021-09-30          1\n",
              "...            ...      ...    ...     ...           ...        ...        ...\n",
              "509824    [호박]늙은호박 10.00000    800  전남 해남군        normal 2021-10-29          8\n",
              "509825  [감자]감자(감자) 20.00000  28000  강원 홍천군        normal 2021-10-30          8\n",
              "509826  [감자]감자(감자) 20.00000  25000  강원 홍천군        normal 2021-10-30          8\n",
              "509827  [감자]감자(감자) 20.00000  24000  강원 홍천군        normal 2021-10-30          8\n",
              "509828  [양파]양파(일반) 15.00000  12500  전남 무안군        normal 2021-10-30          8\n",
              "\n",
              "[509154 rows x 7 columns]"
            ]
          },
          "execution_count": 65,
          "metadata": {},
          "output_type": "execute_result"
        }
      ],
      "source": [
        "df2"
      ]
    },
    {
      "cell_type": "code",
      "execution_count": 66,
      "metadata": {
        "id": "13Js-KtTBZB5"
      },
      "outputs": [],
      "source": [
        "# kg 당 가격 생성\n",
        "\n",
        "df2['price_kg'] = round((df2['price']/df2['scale']),2)"
      ]
    },
    {
      "cell_type": "markdown",
      "metadata": {
        "id": "FJ4jjRUQ8cB3"
      },
      "source": [
        "### prd\n",
        "- 품목명 정리\n",
        "- 품목 종류 정리"
      ]
    },
    {
      "cell_type": "code",
      "execution_count": 67,
      "metadata": {
        "colab": {
          "base_uri": "https://localhost:8080/"
        },
        "id": "pymqNuDt8qqS",
        "outputId": "1506a365-b491-4b16-f40f-4d63980bc22f"
      },
      "outputs": [
        {
          "data": {
            "text/plain": [
              "[오이]백다다기                11668\n",
              "[호박]애호박                 10245\n",
              "[깻잎]깻잎                   7854\n",
              "[시금치]시금치                 6253\n",
              "[가지]가지                   5724\n",
              "                        ...  \n",
              "[빨간양배추(루비볼)]빨간양배추(일반        1\n",
              "[마늘]깐마늘 한지                  1\n",
              "[감귤]한라봉                     1\n",
              "[기타양채]적오크림                  1\n",
              "[사과]사과(콘티)                  1\n",
              "Name: prd, Length: 1444, dtype: int64"
            ]
          },
          "execution_count": 67,
          "metadata": {},
          "output_type": "execute_result"
        }
      ],
      "source": [
        "# 대부분 [상품 종류]상품명 으로 정리되어 있는걸 알 수 있음\n",
        "df2['prd'].value_counts()"
      ]
    },
    {
      "cell_type": "code",
      "execution_count": 68,
      "metadata": {
        "id": "EKmhi36getHp"
      },
      "outputs": [],
      "source": [
        "# 정리를 위해 상품명 삭제\n",
        "def prd_sort(words):\n",
        "  p = re.compile('[ㄱ-힣]+')\n",
        "  word = re.search(p,words)\n",
        "  return word.group()\n",
        "\n",
        "df2['prd'] = df2['prd'].apply(prd_sort)"
      ]
    },
    {
      "cell_type": "code",
      "execution_count": 69,
      "metadata": {
        "id": "mlsCXSXMekGg"
      },
      "outputs": [],
      "source": [
        "# 기타 품목 삭제\n",
        "df2 = df2.drop(df2[df2['prd']=='기타'].index)"
      ]
    },
    {
      "cell_type": "code",
      "execution_count": 70,
      "metadata": {
        "id": "fZ8b4ETrDv5n"
      },
      "outputs": [],
      "source": [
        "# 국산,수입산,깐,기타 삭제\n",
        "def prd_sort2(words):\n",
        "  p = re.compile('[^국산수입깐기타]+')\n",
        "  word = re.search(p,str(words))\n",
        "  return word.group()\n",
        "\n",
        "df2[\"prd\"] = df2[\"prd\"].apply(prd_sort2)\n"
      ]
    },
    {
      "cell_type": "code",
      "execution_count": 71,
      "metadata": {
        "colab": {
          "base_uri": "https://localhost:8080/"
        },
        "id": "0UO78EhtVlgj",
        "outputId": "08424baf-f96a-4573-d9fc-c6f751228e63"
      },
      "outputs": [
        {
          "name": "stdout",
          "output_type": "stream",
          "text": [
            "가리비 \n",
            "가물치 가오리 가오리채 가자미 가지 각굴 갈치 감 감귤 감말랭이 감자 갑오징어 갑오징어몸통 갑오징어살 갓 \n",
            "강낭콩 개조개 건고구마순 건고추 게 게지 겨자 고 고구마 고구마순 고둥 고들빼 고등어 고추 고추잎 \n",
            "곤달비 곤드레나물 골뱅이 곶감 과실류 과일 과일류 과채 과채류 굴 귤 그레이프푸룻 근대 근채류 깻잎 \n",
            "꼬막 꼴뚜 꽁치 꽈리고추 낙지 냉이 논우렁이 눈볼대 느 다래 단감 달래 닭새우 당귀 당근 \n",
            "대구 대구고니 대구머리 대구포 대추 대파 더덕 덟은감 도다리 도라지 도토리 돗나물 동백하새우 동부콩 동자개 \n",
            "동죽 두류 두리안 딸 땅콩 떫은감 라임 람부탄 레몬 리치 마 마늘 만가닥 맛 망고 \n",
            "매생이 머위대 메 메론 명태 명태곤니 명태알 명태포 모과 모시조개 무 무순 무우 무청 무화과 \n",
            "문어 문어바지락 물가자미 미꾸라지 미나리 미더덕 민들레 민물새우 민어 바나나 바지락 박 밤 방울토마토 방풍 \n",
            "방풍나물 배 배추 백새우 백합 뱀장어 버섯 버섯류 병어 복숭아 복어 봄동배추 봉지굴 부세 부지갱이 \n",
            "부추 붉은고추 붕어 붕장어 브로커리 브로코리 블루베리 비단멍게 비름 비트 빈스 빨간양배추 삐틀이 사과 삼 \n",
            "삼치 상추 새꼬막 새송이 새싹 새우 새우살 새조개 샐러리 생강 생고추 석류 선인장열매 세러리 셀러리 \n",
            "소라 속새 숙주나물 순무 숫꽃게 시금치 실파 쌈채류 쑥 쑥갓 아귀 아보카도 아보카드 아스파라가스 아스파라거스 \n",
            "아욱 알 알배 암꽃게 야자 야콘 양배추 양상추 양송이 양채 양채류 양파 얼갈이 얼갈이배추 여주 \n",
            "연근 연어 연어살 열무 염고등어 엽경채류 엽채 엽채류 오렌지 오만둥이 오이 오징어 오징어몸통 오징어원양 오징어채 \n",
            "옥 완두콩 용과 우렁 우렁쉥이 우렁이 유채 으름 은어 은행 임연 잉어 자두 자몽 재첩 \n",
            "적근대 적새우 적채 전복 전어 절단 절단낙지 젓새우 중하 쪽파 쭈꾸미 참나물 참다래 참외 참조 \n",
            "채소 청경채 청어 총각무 취나물 치커리 칠게 칼라후라워 칼리플라워 칼리후라워 케일 코다리명태 코라비 코코넛 콜라비 \n",
            "콩 콩나물 키위 키조개 키조개날개 토란 토란대 토마토 파 파세리 파인애플 파프리카 팥 패류 팽이 \n",
            "팽이버섯 포도 포장바지락 표고 표고버섯 풋고추 풋옥 피망 피뿔고동 피조개 해파리 향나물 향신료 호두 호박 \n",
            "호박잎 홍고추 홍어 홍합 활복오징어 "
          ]
        }
      ],
      "source": [
        "# 몇몇 품목들 정리가 필요\n",
        "a = sorted(df2['prd'].unique())\n",
        "for i in range(len(a)):\n",
        "  if i%15 != 0:\n",
        "    print(a[i],end=' ')\n",
        "  else:\n",
        "    print(a[i],end=' ')\n",
        "    print()"
      ]
    },
    {
      "cell_type": "code",
      "execution_count": 72,
      "metadata": {
        "id": "M2625eg87yCq"
      },
      "outputs": [],
      "source": [
        "### 예시\n",
        "# df2[(df2['prd']=='유채') & (df2['price']==4500)]['prd'].unique()\n",
        "# df2[df2['prd']=='유채']['prd'].unique()"
      ]
    },
    {
      "cell_type": "code",
      "execution_count": 73,
      "metadata": {
        "colab": {
          "base_uri": "https://localhost:8080/"
        },
        "id": "ExIoekH2gcM_",
        "outputId": "5cad26ac-a57e-42b5-85da-19e3591a3493"
      },
      "outputs": [],
      "source": [
        "### 원래 단어 뭐였는지 검색\n",
        "# org_df[org_df['품목명'].str.contains('\u001d느')]['품목명'].unique()"
      ]
    },
    {
      "cell_type": "code",
      "execution_count": 74,
      "metadata": {
        "colab": {
          "base_uri": "https://localhost:8080/",
          "height": 81
        },
        "id": "2uOc31XjjPFL",
        "outputId": "50529553-d06f-4dc6-8759-a11736220df6"
      },
      "outputs": [],
      "source": [
        "### 현재 이름 검색\n",
        "# df2[df2['prd']=='느']"
      ]
    },
    {
      "cell_type": "code",
      "execution_count": 75,
      "metadata": {
        "id": "gbBBjoDqIjR1"
      },
      "outputs": [],
      "source": [
        "###\n",
        "# JG\n",
        "\n",
        "# 고 -> 고수로 변경\n",
        "df2.loc[df2[\"prd\"]==\"고\",\"prd\"] = \"고수\"\n",
        "# 과실류, 과일류, 과채, 채소 -> 과채류로 통합\n",
        "df2.loc[df2[\"prd\"]==\"과실류\",\"prd\"] = \"과채류\"\n",
        "df2.loc[df2[\"prd\"]==\"과일류\",\"prd\"] = \"과채류\"\n",
        "df2.loc[df2[\"prd\"]==\"과일야채류\",\"prd\"] = \"과채류\"\n",
        "df2.loc[df2[\"prd\"]==\"과일과채류\",\"prd\"] = \"과채류\"\n",
        "df2.loc[df2[\"prd\"]==\"과일\",\"prd\"] = \"과채류\"\n",
        "df2.loc[df2[\"prd\"]==\"과채\",\"prd\"] = \"과채류\"\n",
        "df2.loc[df2[\"prd\"]==\"채소\",\"prd\"] = \"과채류\"\n",
        "# 고들빼 -> 고들빼기로 변경\n",
        "df2.loc[df2[\"prd\"]==\"고들빼\",\"prd\"] = \"고들빼기\"\n",
        "# 꼴뚜 -> 꼴두기로 변경\n",
        "df2.loc[df2[\"prd\"]==\"꼴뚜\",\"prd\"] = \"꼴뚜기\"\n",
        "# 그레이프푸룻 -> 자몽으로 통합\n",
        "df2.loc[df2[\"prd\"]==\"그레이프푸룻\",\"prd\"] = \"자몽\"\n",
        "\n",
        "# 느 -> 느타리버섯으로 통합\n",
        "df2.loc[df2[\"prd\"]==\"느\",\"prd\"] = \"느타리버섯\"\n",
        "\n",
        "# 대구 관련 품목들 정리\n",
        "df2.loc[df2[\"prd\"]==\"대구고니\",\"prd\"] = \"대구\"\n",
        "df2.loc[df2[\"prd\"]==\"대구머리\",\"prd\"] = \"대구\"\n",
        "df2.loc[df2[\"prd\"]==\"대구포\",\"prd\"] = \"대구\"\n",
        "# 듀리안 -> 두리안으로 통합\n",
        "df2.loc[df2[\"prd\"]==\"듀리안\",\"prd\"] = \"두리안\"\n",
        "# 딸 -> 딸기로 변경\n",
        "df2.loc[df2[\"prd\"]==\"딸\",\"prd\"] = \"딸기\"\n",
        "\n",
        "# 만가닥 -> 만가닥버섯으로 변경\n",
        "df2.loc[df2[\"prd\"]==\"만가닥\",\"prd\"] = \"만가닥버섯\"\n",
        "# 맛 -> 맛조개로 변경\n",
        "df2.loc[df2[\"prd\"]==\"맛\",\"prd\"] = \"맛조개\"\n",
        "# 망고스턴 -> 망고스틴으로 수정\n",
        "df2.loc[df2[\"prd\"]==\"망고스턴\",\"prd\"] = \"망고스틴\"\n",
        "# 메 -> 메기로 변경\n",
        "df2.loc[df2[\"prd\"]==\"메\",\"prd\"] = \"메기\"\n",
        "# 명태 관련 품목들 정리\n",
        "df2.loc[df2[\"prd\"]==\"명태곤니\",\"prd\"] = \"명태\"\n",
        "df2.loc[df2[\"prd\"]==\"명태알\",\"prd\"] = \"명태\"\n",
        "df2.loc[df2[\"prd\"]==\"명태포\",\"prd\"] = \"명태\"\n",
        "df2.loc[df2[\"prd\"]==\"코다리명태\",\"prd\"] = \"명태\"\n",
        "# 무우 -> 무로 통합\n",
        "df2.loc[df2[\"prd\"]==\"무우\",\"prd\"] = \"무\"\n",
        "\n",
        "# 방풍 -> 방풍나물로 통합\n",
        "df2.loc[df2[\"prd\"]==\"방풍\",\"prd\"] = \"방풍나물\"\n",
        "# 버섯류 -> 버섯으로 변경\n",
        "df2.loc[df2[\"prd\"]==\"버섯\",\"prd\"] = \"버섯\"\n",
        "# 벗,버찌 -> 체리로 통합\n",
        "df2.loc[df2[\"prd\"]==\"벗\",\"prd\"] = \"체리\"\n",
        "df2.loc[df2[\"prd\"]==\"버찌\",\"prd\"] = \"체리\"\n",
        "df2.loc[df2[\"prd\"]==\"벗찌\",\"prd\"] = \"체리\"\n",
        "# 브로커리, 브로코리 -> 브로콜리로 통합\n",
        "df2.loc[df2[\"prd\"]==\"브로커리\",\"prd\"] = \"브로콜리\"\n",
        "df2.loc[df2[\"prd\"]==\"브로코리\",\"prd\"] = \"브로콜리\"\n",
        "\n",
        "# 삼 -> 수삼으로 변경\n",
        "df2.loc[df2[\"prd\"]==\"삼\",\"prd\"] = \"수삼\"\n",
        "# 새우살 -> 새우로 변경\n",
        "df2.loc[df2[\"prd\"]==\"새우살\",\"prd\"] = \"새우\"\n",
        "# 세러리, 셀러리 -> 샐러리로 통합\n",
        "df2.loc[df2[\"prd\"]==\"세러리\",\"prd\"] = \"샐러리\"\n",
        "df2.loc[df2[\"prd\"]==\"셀러리\",\"prd\"] = \"샐러리\"\n",
        "# 생고추 -> 고추로 통합\n",
        "df2.loc[df2[\"prd\"]==\"생고추\",\"prd\"] = \"고추\"\n",
        "\n",
        "# 아보카드 -> 아보카도로 변경\n",
        "df2.loc[df2[\"prd\"]==\"아보카드\",\"prd\"] = \"아보카도\"\n",
        "# 아스파라가스 -> 아스파라거스로 변경\n",
        "df2.loc[df2[\"prd\"]==\"아스파라가스\",\"prd\"] = \"아스파라거스\"\n",
        "# 알 -> 알타리무로 변경\n",
        "df2.loc[df2[\"prd\"]==\"알\",\"prd\"] = \"알타리무\"\n",
        "# 알배 -> 알배기로 변경\n",
        "df2.loc[df2[\"prd\"]==\"알배\",\"prd\"] = \"알배기\"\n",
        "# 양채 -> 양채류로 통합\n",
        "df2.loc[df2[\"prd\"]==\"양채\",\"prd\"] = \"양채류\"\n",
        "# 얼갈이 -> 얼갈이배추로 통합\n",
        "df2.loc[df2[\"prd\"]==\"얼갈이\",\"prd\"] = \"얼갈이배추\"\n",
        "# 엽채류, 엽채 -> 엽경채류로 통합\n",
        "df2.loc[df2[\"prd\"]==\"엽채류\",\"prd\"] = \"엽경채류\"\n",
        "df2.loc[df2[\"prd\"]==\"엽채\",\"prd\"] = \"엽경채류\"\n",
        "# 오징어 관련 품목들 정리\n",
        "df2.loc[df2[\"prd\"]==\"오징어다리\",\"prd\"] = \"오징어\"\n",
        "df2.loc[df2[\"prd\"]==\"오징어원양\",\"prd\"] = \"오징어\"\n",
        "df2.loc[df2[\"prd\"]==\"오징어채\",\"prd\"] = \"오징어\"\n",
        "df2.loc[df2[\"prd\"]==\"활복오징어\",\"prd\"] = \"오징어\"\n",
        "df2.loc[df2[\"prd\"]==\"오징어채원양\",\"prd\"] = \"오징어\"\n",
        "df2.loc[df2[\"prd\"]==\"갑오징어살\",\"prd\"] = \"오징어\"\n",
        "df2.loc[df2[\"prd\"]==\"갑오징어몸통\",\"prd\"] = \"오징어\"\n",
        "# 옥, 풋옥 -> 옥수수로 정리\n",
        "df2.loc[df2[\"prd\"]==\"옥\",\"prd\"] = \"옥수수\"\n",
        "df2.loc[df2[\"prd\"]==\"풋옥\",\"prd\"] = \"옥수수\"\n",
        "# 임연 -> 임연수어로 정리\n",
        "df2.loc[df2[\"prd\"]==\"임연\",\"prd\"] = \"임연수어\"\n",
        "\n",
        "\n",
        "# 절단 -> 절단쭈꾸미 -> 쭈꾸미로 정리\n",
        "df2.loc[df2[\"prd\"]==\"절단\",\"prd\"] = \"쭈꾸미\"\n",
        "# 조개살 -> 조개로 정리\n",
        "df2.loc[df2[\"prd\"]==\"조개살\",\"prd\"] = \"조개\"\n",
        "\n",
        "# 참조 -> 참조기로 정리\n",
        "df2.loc[df2[\"prd\"]==\"참조\",\"prd\"] = \"참조기\"\n",
        "\n",
        "# 칼라후라워,칼리플라워, 칼리후라워 -> 컬리플라워로 통합\n",
        "df2.loc[df2[\"prd\"]==\"칼라후라워\",\"prd\"] = \"컬리플라워\"\n",
        "df2.loc[df2[\"prd\"]==\"칼리플라워\",\"prd\"] = \"컬리플라워\"\n",
        "df2.loc[df2[\"prd\"]==\"칼리후라워\",\"prd\"] = \"컬리플라워\"\n",
        "# 코라비 -> 콜라비로 통합\n",
        "df2.loc[df2[\"prd\"]==\"코라비\",\"prd\"] = \"콜라비\"\n",
        "# 키조개날개 -> 키조개로 통합\n",
        "df2.loc[df2[\"prd\"]==\"키조개날개\",\"prd\"] = \"키조개\"\n",
        "\n",
        "# 팽이 -> 팽이버섯으로 통합\n",
        "df2.loc[df2[\"prd\"]==\"팽이\",\"prd\"] = \"팽이버섯\"\n",
        "# 파세리 -> 파슬리로 변경\n",
        "df2.loc[df2[\"prd\"]==\"파세리\",\"prd\"] = \"파슬리\"\n",
        "# 표고 -> 표고버섯으로 통합\n",
        "df2.loc[df2[\"prd\"]==\"표고\",\"prd\"] = \"표고버섯\"\n",
        "# 포장바지락 -> 바지락으로 변경\n",
        "df2.loc[df2[\"prd\"]==\"포장바지락\",\"prd\"] = \"바지락\"\n",
        "\n",
        "### 일단 여기까지 실행\n",
        "# JY\n",
        "#각굴 -> 굴로 통합\n",
        "df2.loc[df2[\"prd\"]==\"각굴\",\"prd\"] = \"굴\"\n",
        "#가오리채 -> 가오리로 통합\n",
        "df2.loc[df2[\"prd\"]==\"가오리채\",\"prd\"] = \"가오리\"\n",
        "# 게지 -> 키조개로 통합\n",
        "df2.loc[df2[\"prd\"]==\"게지\",\"prd\"] = \"키조개\"\n",
        "#고 -> 고구마로 통합\n",
        "df2.loc[df2[\"prd\"]==\"고\",\"prd\"] = \"고구마\"\n",
        "#꼴뚜 -> 꼴뚜기로 통합\n",
        "df2.loc[df2[\"prd\"]==\"꼴뚜\",\"prd\"] = \"꼴뚜기\"\n",
        "#돗나물 -> 돌나물로 통합\n",
        "df2.loc[df2[\"prd\"]==\"돗나물\",\"prd\"] = \"돌나물\"\n",
        "#레드쉬 -> 레디쉬로 통합\n",
        "df2.loc[df2[\"prd\"]==\"레드쉬\",\"prd\"] = \"레디쉬\"\n",
        "#만가닥 -> 만가닥버섯으로 통합\n",
        "df2.loc[df2[\"prd\"]==\"만가닥\",\"prd\"] = \"만가닥버섯\"\n",
        "#메 -> 메기로 통합\n",
        "df2.loc[df2[\"prd\"]==\"메\",\"prd\"] = \"메기\"\n",
        "#봄동 -> 봄동배추로 통합\n",
        "df2.loc[df2[\"prd\"]==\"봄동\",\"prd\"] = \"봄동배추\"\n",
        "#봉지굴 -> 굴로 통합\n",
        "df2.loc[df2[\"prd\"]==\"봉지굴\",\"prd\"] = \"굴\"\n",
        "#박 -> 수박으로 통합\n",
        "df2.loc[df2[\"prd\"]==\"박\",\"prd\"] = \"수박\"\n",
        "#백조 -> 조기로 통합 \n",
        "df2.loc[df2[\"prd\"]==\"백조\",\"prd\"] = \"조기\"\n",
        "#벅굴 -> 벚굴로 통합\n",
        "df2.loc[df2[\"prd\"]==\"벅굴\",\"prd\"] = \"벚굴\"\n",
        "#비 -> 비타민으로 통합\n",
        "df2.loc[df2[\"prd\"]==\"비\",\"prd\"] = \"비타민\"\n",
        "#빈스 -> 콩으로 통합\n",
        "df2.loc[df2[\"prd\"]==\"빈스\",\"prd\"] = \"콩\"\n",
        "#삐틀이 -> 고둥으로 통합\n",
        "df2.loc[df2[\"prd\"]==\"삐틀이\",\"prd\"] = \"고둥\"\n",
        "#새송이 -> 새송이버섯으로 통합\n",
        "df2.loc[df2[\"prd\"]==\"새송이\",\"prd\"] = \"새송이버섯\"\n",
        "#세트 -> 과채류로 통합\n",
        "df2.loc[df2[\"prd\"]==\"세트\",\"prd\"] = \"과채류\"\n",
        "#알 -> 알로애로 통합\n",
        "df2.loc[df2[\"prd\"]==\"알\",\"prd\"] = \"알로에\"\n",
        "#엄나무 -> 음나무로 통합\n",
        "df2.loc[df2[\"prd\"]==\"엄나무\",\"prd\"] = \"음나무\"\n",
        "#염고등어 -> 고등어로 통합\n",
        "df2.loc[df2[\"prd\"]==\"염고등어\",\"prd\"] = \"고등어\"\n",
        "#오만둥이 -> 미더덕으로 통합\n",
        "df2.loc[df2[\"prd\"]==\"오만둥이\",\"prd\"] = \"미더덕\"\n",
        "#오징어 관련 품목들 정리\n",
        "df2.loc[df2[\"prd\"]==\"선동오징어\",\"prd\"] = \"오징어\"\n",
        "df2.loc[df2[\"prd\"]==\"오징어몸통\",\"prd\"] = \"오징어\"\n",
        "#우렁쉥이 -> 멍게로 통합\n",
        "df2.loc[df2[\"prd\"]==\"우렁쉥이\",\"prd\"] = \"멍게\"\n",
        "#우뭇가시리 -> 우뭇가사리로 통합\n",
        "df2.loc[df2[\"prd\"]==\"우뭇가시리\",\"prd\"] = \"우뭇가사리\"\n",
        "#적채 -> 적양배추로 통합\n",
        "df2.loc[df2[\"prd\"]==\"적채\",\"prd\"] = \"적양배추\"\n",
        "#절단낙지 -> 낙지로 통합\n",
        "df2.loc[df2[\"prd\"]==\"절단낙지\",\"prd\"] = \"낙지\"\n",
        "#조 -> 조개로 통합\n",
        "df2.loc[df2[\"prd\"]==\"조\",\"prd\"] = \"조개\"\n",
        "#청어원양 -> 청어로 통합\n",
        "df2.loc[df2[\"prd\"]==\"청어원양\",\"prd\"] = \"청어\"\n",
        "#키조개꼭지 -> 키조개로 통합\n",
        "df2.loc[df2[\"prd\"]==\"키조개꼭지\",\"prd\"] = \"키조개\"\n",
        "\n",
        "# 암꽃게, 숫꽃게 -> 꽃게로 통합\n",
        "df2.loc[df2[\"prd\"]==\"암꽃게\",\"prd\"] = \"꽃게\"\n",
        "df2.loc[df2[\"prd\"]==\"숫꽃게\",\"prd\"] = \"꽃게\"\n",
        "# 우렁 -> 우렁이로 통합\n",
        "df2.loc[df2[\"prd\"]==\"우렁\",\"prd\"] = \"우렁이\"\n",
        "# 알로애 -> 알로에로 변경\n",
        "df2.loc[df2[\"prd\"]==\"알로애\",\"prd\"] = \"알로에\"\n",
        "# 피마자잎 -> 피마자로 변경\n",
        "df2.loc[df2[\"prd\"]==\"피미자잎\",\"prd\"] = \"피마자\"\n",
        "# 식용허브 -> 허브로 변경\n",
        "df2.loc[df2[\"prd\"]==\"식용허브\",\"prd\"] = \"허브\"\n",
        "# 선인장열매 -> 선인장으로 변경\n",
        "df2.loc[df2[\"prd\"]==\"선인장열매\",\"prd\"] = \"선인장\"\n",
        "# 쌈추 -> 쌈채류로 변경\n",
        "df2.loc[df2[\"prd\"]==\"쌈추\",\"prd\"] = \"쌈채류\"\n",
        "# 덟은감 -> 감으로 변경\n",
        "df2.loc[df2[\"prd\"]==\"덟은감\",\"prd\"] = \"감\"\n",
        "# 피뿔고동 -> 고둥으로 변경\n",
        "df2.loc[df2[\"prd\"]==\"피뿔고동\",\"prd\"] = \"고둥\"\n",
        "# 꼬시래 -> 꼬시래기으로 변경\n",
        "df2.loc[df2[\"prd\"]==\"꼬시래\",\"prd\"] = \"꼬시래기\"\n",
        "# 연어살 -> 연어로 변경\n",
        "df2.loc[df2[\"prd\"]==\"연어살\",\"prd\"] = \"연어\"\n",
        "# 비단멍게 -> 멍게로 변경\n",
        "df2.loc[df2[\"prd\"]==\"비단멍게\",\"prd\"] = \"멍게\"\n",
        "# 물가자미 -> 가자미로 변경\n",
        "df2.loc[df2[\"prd\"]==\"물가자미\",\"prd\"] = \"가자미\"\n",
        "# 조미제품 삭제\n",
        "df2.drop(df2[df2['prd']=='조미제품'].index,inplace=True)\n",
        "df2.drop(df2[df2['prd']=='어류원양'].index,inplace=True)"
      ]
    },
    {
      "cell_type": "code",
      "execution_count": 76,
      "metadata": {},
      "outputs": [
        {
          "data": {
            "text/plain": [
              "array([], dtype=object)"
            ]
          },
          "execution_count": 76,
          "metadata": {},
          "output_type": "execute_result"
        }
      ],
      "source": [
        "# 기존 products 리스트와 비교\n",
        "ex_prd = pd.read_csv(\"../products.csv\")\n",
        "df2[~df2['prd'].isin(ex_prd['prd'])]['prd'].unique()"
      ]
    },
    {
      "cell_type": "code",
      "execution_count": 77,
      "metadata": {},
      "outputs": [
        {
          "name": "stderr",
          "output_type": "stream",
          "text": [
            "/var/folders/nq/s4zx76p53d11lnr0t1dxpxh00000gn/T/ipykernel_2444/2619460125.py:4: FutureWarning: The frame.append method is deprecated and will be removed from pandas in a future version. Use pandas.concat instead.\n",
            "  products = ex_prd.append(new_prd,ignore_index=True)\n"
          ]
        }
      ],
      "source": [
        "# 물품 리스트 최신화\n",
        "new_prd = pd.DataFrame(df2['prd'].unique(),columns=['prd'])\n",
        "# products = ex_prd.append(new_prd[~new_prd['prd'].isin(ex_prd['prd'])],ignore_index=True)\n",
        "products = ex_prd.append(new_prd,ignore_index=True)"
      ]
    },
    {
      "cell_type": "code",
      "execution_count": 78,
      "metadata": {},
      "outputs": [],
      "source": [
        "products.drop(columns=['Unnamed: 0'],inplace=True)\n",
        "products.drop_duplicates(inplace=True)\n",
        "products.reset_index(inplace=True,drop=True)"
      ]
    },
    {
      "cell_type": "code",
      "execution_count": 79,
      "metadata": {},
      "outputs": [],
      "source": [
        "# 다음 작업을 위해 저장\n",
        "products.to_csv('../products.csv')"
      ]
    },
    {
      "cell_type": "code",
      "execution_count": 80,
      "metadata": {
        "colab": {
          "base_uri": "https://localhost:8080/",
          "height": 300
        },
        "id": "CxbMB3I59tCZ",
        "outputId": "d29f9bba-e828-4319-9402-7dc24ba1778b"
      },
      "outputs": [
        {
          "data": {
            "text/html": [
              "<div>\n",
              "<style scoped>\n",
              "    .dataframe tbody tr th:only-of-type {\n",
              "        vertical-align: middle;\n",
              "    }\n",
              "\n",
              "    .dataframe tbody tr th {\n",
              "        vertical-align: top;\n",
              "    }\n",
              "\n",
              "    .dataframe thead th {\n",
              "        text-align: right;\n",
              "    }\n",
              "</style>\n",
              "<table border=\"1\" class=\"dataframe\">\n",
              "  <thead>\n",
              "    <tr style=\"text-align: right;\">\n",
              "      <th></th>\n",
              "      <th>prd</th>\n",
              "    </tr>\n",
              "  </thead>\n",
              "  <tbody>\n",
              "    <tr>\n",
              "      <th>count</th>\n",
              "      <td>234.00000</td>\n",
              "    </tr>\n",
              "    <tr>\n",
              "      <th>mean</th>\n",
              "      <td>2175.61111</td>\n",
              "    </tr>\n",
              "    <tr>\n",
              "      <th>std</th>\n",
              "      <td>5361.22014</td>\n",
              "    </tr>\n",
              "    <tr>\n",
              "      <th>min</th>\n",
              "      <td>1.00000</td>\n",
              "    </tr>\n",
              "    <tr>\n",
              "      <th>25%</th>\n",
              "      <td>15.25000</td>\n",
              "    </tr>\n",
              "    <tr>\n",
              "      <th>50%</th>\n",
              "      <td>114.50000</td>\n",
              "    </tr>\n",
              "    <tr>\n",
              "      <th>75%</th>\n",
              "      <td>1216.50000</td>\n",
              "    </tr>\n",
              "    <tr>\n",
              "      <th>max</th>\n",
              "      <td>36914.00000</td>\n",
              "    </tr>\n",
              "  </tbody>\n",
              "</table>\n",
              "</div>"
            ],
            "text/plain": [
              "              prd\n",
              "count   234.00000\n",
              "mean   2175.61111\n",
              "std    5361.22014\n",
              "min       1.00000\n",
              "25%      15.25000\n",
              "50%     114.50000\n",
              "75%    1216.50000\n",
              "max   36914.00000"
            ]
          },
          "execution_count": 80,
          "metadata": {},
          "output_type": "execute_result"
        }
      ],
      "source": [
        "# 전체 거래량과 품목량\n",
        "# 비교를 위해 분포 파악\n",
        "# 거래량이 너무 적은 품목은 삭제할 필요성이 있음\n",
        "\n",
        "prd_lst = (df2['prd'].value_counts()).to_frame()\n",
        "prd_lst.describe()"
      ]
    },
    {
      "cell_type": "code",
      "execution_count": 81,
      "metadata": {
        "id": "_qhAf86UEoSv"
      },
      "outputs": [],
      "source": [
        "# 50개 미만 품목은 비교가 힘드므로 삭제\n",
        "# 줄어든 종류만 남기기\n",
        "\n",
        "prd_lst = prd_lst[prd_lst['prd']>=50]\n",
        "prd_lst.reset_index(inplace=True)\n",
        "prd_lst = prd_lst.rename(columns = {'index':'prd','prd':'count'})"
      ]
    },
    {
      "cell_type": "code",
      "execution_count": 82,
      "metadata": {
        "colab": {
          "base_uri": "https://localhost:8080/"
        },
        "id": "WZfTHQDe-jTG",
        "outputId": "7e713769-2413-4b10-db9d-348498e24708"
      },
      "outputs": [
        {
          "data": {
            "text/plain": [
              "버섯     36914\n",
              "호박     26488\n",
              "고추     25941\n",
              "감      24258\n",
              "오이     22781\n",
              "       ...  \n",
              "동죽        56\n",
              "곶감        56\n",
              "도라지       54\n",
              "건고추       52\n",
              "야콘        50\n",
              "Name: prd, Length: 145, dtype: int64"
            ]
          },
          "execution_count": 82,
          "metadata": {},
          "output_type": "execute_result"
        }
      ],
      "source": [
        "df3 = df2.merge(prd_lst)\n",
        "df3[df3['count']>=50]['prd'].value_counts()"
      ]
    },
    {
      "cell_type": "code",
      "execution_count": 83,
      "metadata": {
        "id": "OnwYlUyTEJdF"
      },
      "outputs": [],
      "source": [
        "# 줄어든 것 확인했으므로 count column은 삭제\n",
        "df3 = df3.drop(columns='count')"
      ]
    },
    {
      "cell_type": "markdown",
      "metadata": {
        "id": "jPcICeSResYh"
      },
      "source": [
        "### scale"
      ]
    },
    {
      "cell_type": "code",
      "execution_count": 84,
      "metadata": {
        "colab": {
          "base_uri": "https://localhost:8080/"
        },
        "id": "4KZLpXuYYTZx",
        "outputId": "f59c1146-fdb9-4483-81a3-a0f51dd08904"
      },
      "outputs": [
        {
          "data": {
            "text/plain": [
              "array([    5.  ,     4.  ,    16.  ,    15.  ,    10.  ,    17.  ,\n",
              "          19.  ,    14.  ,    18.  ,     8.  ,     7.  ,    11.  ,\n",
              "          13.  ,     6.  ,    12.  ,     9.  ,     2.  ,     1.5 ,\n",
              "           1.  ,     0.12,     0.3 ,     0.5 ,     0.6 ,     3.  ,\n",
              "           2.5 ,    20.  ,    21.  ,     0.03,     0.2 ,     1.2 ,\n",
              "           1.8 ,     0.15,     0.17,    24.  ,    22.  ,     4.5 ,\n",
              "          23.  ,     3.5 ,     0.56,     8.5 ,     3.6 ,     6.5 ,\n",
              "           7.5 ,     3.72,     2.6 ,    14.4 ,     9.5 ,     2.7 ,\n",
              "           2.8 ,     3.8 ,     0.25,     5.5 ,     2.3 ,     4.8 ,\n",
              "           0.7 ,     9.6 ,     1.6 ,     0.4 ,    26.  ,    25.  ,\n",
              "           2.4 ,     4.2 ,     5.3 ,     3.3 ,     3.4 ,     0.1 ,\n",
              "           3.7 ,     6.1 ,     3.62,    11.6 ,     4.6 ,     4.7 ,\n",
              "           3.1 ,     7.6 ,     2.9 ,    11.9 ,    10.2 ,     3.9 ,\n",
              "           9.3 ,     3.2 ,    11.5 ,    12.5 ,     5.1 ,    10.9 ,\n",
              "           2.1 ,     2.2 ,    13.5 ,     7.4 ,     5.7 ,     5.2 ,\n",
              "           7.8 ,     8.9 ,     8.8 ,     9.2 ,    10.5 ,    10.8 ,\n",
              "           5.8 ,    11.8 ,    10.01,     6.8 ,     6.4 ,     0.09,\n",
              "           0.05,     0.9 ,     0.16,   211.  ,    20.01,    18.01,\n",
              "           5.6 ,    51.  ,     0.8 ,     2.01,     4.01,     8.6 ,\n",
              "           8.2 ,     0.75,    12.7 ,     9.9 ,     8.3 ,     7.7 ,\n",
              "           8.56,     9.4 ,     8.01,   109.  ,     5.01,   110.  ,\n",
              "          10.4 ,    13.2 ,    33.  ,    32.  ,    30.  ,     7.3 ,\n",
              "           4.9 ,     5.9 ,     4.4 ,     6.2 ,     4.3 ,     1.7 ,\n",
              "           6.9 ,     6.3 ,     5.4 ,     7.2 ,     6.7 ,    10.6 ,\n",
              "           6.6 ,     0.72,     1.12,   500.  ,    17.2 ,    14.5 ,\n",
              "       10000.  ,   100.  ,  6000.  ,    75.  ,    28.  ,    15.01,\n",
              "          21.5 ,    16.5 ,    22.5 ,     1.4 ,     1.9 ,     1.3 ,\n",
              "           1.1 ,     0.78,    17.5 ,     0.89,     3.56,   754.  ,\n",
              "          42.  ])"
            ]
          },
          "execution_count": 84,
          "metadata": {},
          "output_type": "execute_result"
        }
      ],
      "source": [
        "np.set_printoptions(precision=2, suppress=True)\n",
        "df3['scale'].unique()"
      ]
    },
    {
      "cell_type": "code",
      "execution_count": 87,
      "metadata": {
        "colab": {
          "base_uri": "https://localhost:8080/",
          "height": 1000
        },
        "id": "-43K_jyN92IZ",
        "outputId": "7b3e92a5-a0eb-4b09-bc6c-36948c74b860"
      },
      "outputs": [
        {
          "data": {
            "text/plain": [
              "array(['오이', '토마토', '호박', '대추', '무', '미나리', '바지락'], dtype=object)"
            ]
          },
          "execution_count": 87,
          "metadata": {},
          "output_type": "execute_result"
        }
      ],
      "source": [
        "# 50kg 이상 거래된 건들 이상치라 판단하고 확인 진행\n",
        "df3[df3['scale']>=50]['prd'].unique()"
      ]
    },
    {
      "cell_type": "code",
      "execution_count": 111,
      "metadata": {
        "id": "v1EZDKB59dJp"
      },
      "outputs": [],
      "source": [
        "# 스케일 오표기된 항목 수정\n",
        "# 이상치 항목 삭제\n",
        "df3 = df3.drop(df3[(df3['scale']>=50)].index)"
      ]
    },
    {
      "cell_type": "code",
      "execution_count": 112,
      "metadata": {},
      "outputs": [
        {
          "data": {
            "text/html": [
              "<div>\n",
              "<style scoped>\n",
              "    .dataframe tbody tr th:only-of-type {\n",
              "        vertical-align: middle;\n",
              "    }\n",
              "\n",
              "    .dataframe tbody tr th {\n",
              "        vertical-align: top;\n",
              "    }\n",
              "\n",
              "    .dataframe thead th {\n",
              "        text-align: right;\n",
              "    }\n",
              "</style>\n",
              "<table border=\"1\" class=\"dataframe\">\n",
              "  <thead>\n",
              "    <tr style=\"text-align: right;\">\n",
              "      <th></th>\n",
              "      <th>prd</th>\n",
              "      <th>scale</th>\n",
              "      <th>price</th>\n",
              "      <th>origin</th>\n",
              "      <th>eco</th>\n",
              "      <th>reg_date</th>\n",
              "      <th>new_class</th>\n",
              "      <th>price_kg</th>\n",
              "    </tr>\n",
              "  </thead>\n",
              "  <tbody>\n",
              "  </tbody>\n",
              "</table>\n",
              "</div>"
            ],
            "text/plain": [
              "Empty DataFrame\n",
              "Columns: [prd, scale, price, origin, eco, reg_date, new_class, price_kg]\n",
              "Index: []"
            ]
          },
          "execution_count": 112,
          "metadata": {},
          "output_type": "execute_result"
        }
      ],
      "source": [
        "df3[df3['scale']>=50]"
      ]
    },
    {
      "cell_type": "markdown",
      "metadata": {
        "id": "5I9D6wZCWDhi"
      },
      "source": [
        "### origin"
      ]
    },
    {
      "cell_type": "code",
      "execution_count": 113,
      "metadata": {
        "colab": {
          "base_uri": "https://localhost:8080/"
        },
        "id": "pI0Ezwn-VgXP",
        "outputId": "8d8f9387-01cb-4c3a-a3c9-e521b970aafb"
      },
      "outputs": [
        {
          "data": {
            "text/plain": [
              "array(['경북 청도군', '전남 무안군', '전남 나주시', '전남 함평군', '수입산 중국', '충남 홍성군',\n",
              "       '충남 예산군', '경기 화성시', '충북 옥천군', '경기 평택시', '충남 당진시', '경기 용인시',\n",
              "       '충북 충주시', '충북 괴산군', '전남 구례군', '경기 여주시', '충남 청양군', '충북 음성군',\n",
              "       '경기 의왕시', '전남 해남군', '경기 양평군', '충남 보령시', '강원 홍천군', '경기 안성시',\n",
              "       '충남 아산시', '강원 인제군', '강원 춘천시', '충남 서산시', '강원 양양군', '강원 영월군',\n",
              "       '경기 광주시', '경기 이천시', '세종시', '충남 부여군', '경북 상주시', '충남 천안시', '충북 청주시',\n",
              "       '경북 성주군', '전남 담양군', '경북 문경시', '경북 김천시', '경남 함양군', '전남 여수시',\n",
              "       '청주시 상당구', '충북 청원군', '청주시 흥덕구', '전북 정읍시', '중국', '강원 평창군', '경기 성남시',\n",
              "       '경기 파주시', '전북 고창군', '전남 장흥군', '충남 논산시', '전남 보성군', '경기 포천시',\n",
              "       '충남 서천군', '제주 제주시', '인천 강화군', '세종', '강원 화천군', '충남 공주시', '경남 산청군',\n",
              "       '전북 부안군', '경남 의령군', '전남 장성군', '충북 영동군', '전북 군산시', '경기 의정부시',\n",
              "       '충북 보은군', '전남 고흥군', '경기 가평군', '강원 철원군', '경기 양주시', '경북 예천군', '기타외국',\n",
              "       '경남 진주시', '경남 창녕군', '충북 증평군', '강원 횡성군', '충북 진천군', '경기 고양시',\n",
              "       '강원 원주시', '경기 남양주시', '경기 연천군', '충남 금산군', '전북 김제시', '강원 고성군',\n",
              "       '경기 김포시', '경북 의성군', '충북 충주시 가금면', '경북 영주시 순흥면', '충북', '경북 영주시 안정면',\n",
              "       '경북', '대구 북구', '경북 영천시', '전북 무주군', '경북 청송군', '경북 영주시 단산면',\n",
              "       '경북 안동시', '경북 경산시', '경북 군위군', '경기도 고양시', '경기 구리시', '서울 송파구',\n",
              "       '경기도 여주군', '경기 오산시', '경기 하남시', '서울 강동구', '서울 강서구', '경기 여주군',\n",
              "       '경기 양주군', '서울시 송파구', '경기도 김포시', '경기도 파주시', '경기 고양시 덕양구', '경기 포천군',\n",
              "       '경기 포천시 영중면', '경남 고성군', '서울시 양천구', '경남 하동군', '경기 고양시일산구',\n",
              "       '경기 김포시 고촌면', '경기 남양주', '서울 강남구', '서울 도봉구', '경북 경주시', '성남시 중원구',\n",
              "       '경기 양평군 양동면', '강원 양구군', '광주 남구', '광주 광산구', '전남 영암군', '경남 밀양시',\n",
              "       '전남 화순군', '충북 제천시', '강원', '충북 충주시 살미면', '제주 서귀포시', '전남 진도군', '칠레',\n",
              "       '수입산 미국', '수입산 칠레', '미국', '필리핀', '페루', '제주 북제주군', '경기', '전북 익산시',\n",
              "       '인천', '경기도 부천시', '전남 광양시', '경기도 양주군', '서울시 강서구', '강원도 홍천군',\n",
              "       '전남 곡성군', '경북 영주시', '전북 장수군', '경북 영천시 고경면', '경북 영주시 부석면', '경북 포항시',\n",
              "       '강원 강릉시', '경남 거창군', '경북 봉화군', '강원 정선군', '대구 달성군', '강원 삼척시',\n",
              "       '경북 문경시 가은읍', '경남', '전북 완주군', '경북 고령군', '전북 진안군', '경기도 이천시',\n",
              "       '서울 중구', '전북 무주군 무풍면', '전북', '충남 태안군', '경북 안동시 길안면', '서울특별시 강남구',\n",
              "       '대구 동구', '인천시 계양구', '경기 시흥시', '충남 논산시 성동면', '경기도 안성시',\n",
              "       '전북 익산시 망성면', '성남시 분당구', '강원 태백시', '세종 세종시', '충남 논산시 양촌면',\n",
              "       '전라북도 익산시', '충남 논산시 연무읍', '충남 논산시 강경읍', '경기 광명시', '충남 계룡시',\n",
              "       '충남 논산시 상월면', '서울 중랑구', '경기도 광명시', '경기 의정부', '충남 논산시 가야곡면', '충남',\n",
              "       '전북 남원시', '강원도 철원군', '경기도 시흥시', '경북 영덕군 영해면 3', '강원도 횡성군',\n",
              "       '서울 양천구', '경기 고양시덕양구', '경북 김천시 조마면', '전남', '전남 담양군 무정면',\n",
              "       '경북 영주시 장수면', '경북 영주시 문수면', '충북 제천시 금성면', '전북 정읍시 감곡면', '대전시 중구',\n",
              "       '충남 연기군', '대전 동구', '경북 구미시', '전남 순천시', '경기 이천시 대월면', '경기 안성시 고삼면',\n",
              "       '전북 임실군', '광주 서구', '광주 북구', '경남 창원시 의창구', '인천 계양구', '경기 부천시',\n",
              "       '서울 광진구', '경남 창원시', '대전 서구', '경남 함안군', '광주 동구', '경남 김해시', '경남 사천시',\n",
              "       '경남 마산시', '서울 영등포', '경기 안성시 양성면', '경기 용인시 원삼면', '경북 칠곡군',\n",
              "       '충북 음성군 맹동면', '경기 용인시 구성읍', '전남 신안군', '서울 은평구', '서울시 은평구',\n",
              "       '경북 영덕군', '경남 남해군', '포항시 북구', '전남 목포시', '서울 동대문구', '부산시 강서구', '호주',\n",
              "       '수입산 페루', '대전 대덕구', '전북 전주시', '인천 남동구', '강원 강릉시 강동면', '강원 강릉시 왕산면',\n",
              "       '강원도 정선군', '강원도 태백시', '강원도 평창군', '강원도 강릉시', '강원도 춘천시', '경기도 광주군',\n",
              "       '경기도 양평군', '강원 평창군 봉평면', '경남 합천군', '경북 영양군', '경북/문경시',\n",
              "       '전남 무안군 몽탄면', '충남 서산시 고북면', '경북/상주시', '경남 밀양시 무안면', '서울', '대구 남구',\n",
              "       '경기도 동두천시', '서울시 도봉구', '수입산 호주', '수입산 남아공산', '오스트레일', '남아프리카',\n",
              "       '남아프리카공화국', '오스트레일리아', '베트남', '경기도 평택시', '경기 포천시 영북면', '경기 가평군 북면',\n",
              "       '경기 안산시', '경기 미금시', '충남 천안시 북면', '충북 음성군 생극면', '강원 철원군 김화읍',\n",
              "       '충남 천안시 동면', '강원 영월군 북면', '충남 부여군 장암면', '대전 유성구', '청주시 청원구',\n",
              "       '전남 고흥군 도화면', '제주', '충남 아산시 도고면', '제주도 제주시', '경기도 포천군', '뉴질랜드',\n",
              "       '제주특별자치도 제주', '제주 서귀포', '경기 용인시 모현면', '전남 영광군', '대구', '수입산 뉴질랜드',\n",
              "       '수입산 필리핀', '경기 수원시', '전남 강진군', '경기도 화성군', '경기 광주시 퇴촌면',\n",
              "       '전북 고창군 부안면', '강원 양양군 서면', '강원 횡성군 둔내면', '강원 횡성군 안흥면', '인천 남구',\n",
              "       '타이', '경기도 하남시', '인천광역시 남구', '인천시 부평구', '경기 안양시', '인천 부평구',\n",
              "       '경기도 남양주시', '인천 미추홀', '강원도 철원', '경남 진주시 금곡면', '경남 진주시 대곡면',\n",
              "       '경기 남양주시 화도읍', '충남 천안시 서북구', '인천시 강화군', '충북 영동군 황간면', '경기도 안산시',\n",
              "       '충북 영동군 학산면', '강원 홍천군 남면', '충남 홍성군 은하면', '경기 이천시 모가면',\n",
              "       '경기 의왕시 초평로 1', '충남 아산시 인주면', '강원 원주시 부론면', '강원 삼척시 가곡면',\n",
              "       '강원 영월군 중동면', '경남 밀양시 단장면', '강원 홍천군 내면', '광주', '강원 정선군 화암면',\n",
              "       '광주시 남구', '광주 광주', '광주시 광산구', '전남 나주시 공산면', '강원 영월군 김삿갓면',\n",
              "       '전라북도 김제시', '강원 정선군 정선읍', '경기 여주시 북내면', '충남 공주시 신풍면', '광주시 서구',\n",
              "       '경기 여주시 가남면', '인천 미추홀구', '경남 통영시', '부산 강서구', '부산 중구', '일본',\n",
              "       '수입산 일본', '강원도 화천군', '인천 강화군 불은면', '경기 양주시 백석읍', '서울 구로구',\n",
              "       '경남 의령군 화정면', '경기 양주시 광적면', '충남 부여군 규암면', '경남 고성군 영오면', '부산',\n",
              "       '충남 공주시 정안면', '부산광역시 강서구', '부산 동구', '부산광역시', '전북 남원시 산동면',\n",
              "       '인천 강화군 교동면', '경기 안성시 일죽면', '경기 안성시 금광면', '경남 거제시', '전주시 덕진구',\n",
              "       '서울 동대문', '제주도 서귀포시', '제주 남제주군', '제주 서귀포시(2)', '제주특별자치도 서귀',\n",
              "       '서울특별시', '제주 남제주', '충북 단양군', '부산 사상구', '강원도 인제군', '경기 평택시 고덕면',\n",
              "       '경기 고양시 일산동구', '전남 여수시 돌산읍', '전라북도 전주시', '전라북도 완주군', '경기 평택시 서탄면',\n",
              "       '경기 평택시 안중읍', '전북 남원시 금지면', '충남 보령시 웅천읍', '충남 태안군 남면', '청주시 서원구',\n",
              "       '충남 태안군 태안읍', '경기 광주시 초월면', '경기 광주시 남종면', '전북 고창군 신림면',\n",
              "       '강원 고성군 간성읍', '멕시코', '우즈베키스탄', '수입산 베트남', '전남 나주시 산포면',\n",
              "       '경북 고령군 다산면', '충남 당진시 신평면', '경북 의성군 신평면', '전라북도 순창군', '전북 순창군',\n",
              "       '전남 완도군', '충남 보령시 남포면', '경기 남양주시 조안면', '경기 남양주시 와부읍', '경기 양주시 장흥면',\n",
              "       '강원 홍천군 내촌면', '경기도 연천군', '경기 양평군 강상면', '경남 창원시 동읍', '경남 창원시 대산면',\n",
              "       '경남 창녕군 부곡면', '경남 양산시', '경북 김천시 감문면', '충남 부여군 세도면', '충북 청주시 없음',\n",
              "       '강원 평창군 진부면', '경기 이천시 장호원읍', '제주 서귀포시 표선면', '경남 밀양시 청도면',\n",
              "       '전남 영암군 금정면', '전남 곡성군 오곡면', '전남 곡성군 석곡면', '경북 성주군 벽진면', '수입산 멕시코',\n",
              "       '태국', '수입산 태국', '브라질', '수입산 브라질', '경기 남양주시 진건읍', '전북 고창군 무장면',\n",
              "       '경북 경주시 감포읍', '전남 곡성군 겸면', '경기 동두천시', '강원 춘천시 남산면', '전북 고창군 대산면',\n",
              "       '전남 신안군 압해면', '부천시 오정구', '인천 서구', '전남 나주시 노안면', '경기 부천시오정구',\n",
              "       '전주시 완산구', '전북 김제시 금산면', '에콰도르', '코스타리카', '콜롬비아', '에쿠아도르', '에콰돌',\n",
              "       '수입산 코스타리카', '수입산 에콰도르', '인도네시아', '수입산 과테말라', '수입산 콜롬비아', '과테말라',\n",
              "       '수입산 인도네시아', '우크라이나', '전남 순천시 서면', '충남 예산군 덕산면', '충북 음성군 삼성면',\n",
              "       '경북 포항시남구', '세종 특별자치시', '서울시 중랑구', '전남 나주시 반남면', '전남 나주시 봉황면',\n",
              "       '전남 나주시 동강면', '제주 제주시(2)', '세종특별자치시', '강원도 영월군', '강원 정선군 임계면',\n",
              "       '강원 평창군 대관령면', '충북청주시상당구', '충북 단양군 어상천면', '경북 울진군', '충북 청원군 미원면',\n",
              "       '강원 속초시', '강원 춘천시 신북읍', '충북 진천군 이월면', '국내산', '수입 세네갈', '수입 기타',\n",
              "       '전북 군산', '제주 제주도', '전남 목포(무안)', '수입 러시아', '수입 미국', '수입 중국',\n",
              "       '수입 칠레', '수입 페루', '포클랜드', '수입 아르헨티나', '수입 베트남', '경남 통영', '전남 여수',\n",
              "       '경남 마산(고성,진해)', '경남 삼천포', '경남 남해', '충남 당진', '전남 강진', '전남 고흥(나로도)',\n",
              "       '전남 순천(광양)', '수입 노르웨이', '수입 타이', '충남 장항(서천)', '충남 서산', '전남 영광',\n",
              "       '전북 부안', '전북 고창', '경남 거제(장승포)', '수입 말레이지아', '경기 인천'], dtype=object)"
            ]
          },
          "execution_count": 113,
          "metadata": {},
          "output_type": "execute_result"
        }
      ],
      "source": [
        "# 도,시, 국산, 수입 표기 분류 필요\n",
        "df3['origin'].unique()"
      ]
    },
    {
      "cell_type": "code",
      "execution_count": 114,
      "metadata": {
        "colab": {
          "base_uri": "https://localhost:8080/",
          "height": 423
        },
        "id": "rvX1g3c_Ll2C",
        "outputId": "56330691-579b-46aa-b24a-046112748253"
      },
      "outputs": [
        {
          "data": {
            "text/html": [
              "<div>\n",
              "<style scoped>\n",
              "    .dataframe tbody tr th:only-of-type {\n",
              "        vertical-align: middle;\n",
              "    }\n",
              "\n",
              "    .dataframe tbody tr th {\n",
              "        vertical-align: top;\n",
              "    }\n",
              "\n",
              "    .dataframe thead th {\n",
              "        text-align: right;\n",
              "    }\n",
              "</style>\n",
              "<table border=\"1\" class=\"dataframe\">\n",
              "  <thead>\n",
              "    <tr style=\"text-align: right;\">\n",
              "      <th></th>\n",
              "      <th>prd</th>\n",
              "      <th>scale</th>\n",
              "      <th>price</th>\n",
              "      <th>origin</th>\n",
              "      <th>eco</th>\n",
              "      <th>reg_date</th>\n",
              "      <th>new_class</th>\n",
              "      <th>price_kg</th>\n",
              "      <th>0</th>\n",
              "      <th>1</th>\n",
              "      <th>2</th>\n",
              "      <th>3</th>\n",
              "    </tr>\n",
              "  </thead>\n",
              "  <tbody>\n",
              "    <tr>\n",
              "      <th>0</th>\n",
              "      <td>버섯</td>\n",
              "      <td>5.00000</td>\n",
              "      <td>5500</td>\n",
              "      <td>경북 청도군</td>\n",
              "      <td>\becofriendly</td>\n",
              "      <td>2021-09-30</td>\n",
              "      <td>1</td>\n",
              "      <td>1100.00000</td>\n",
              "      <td>경북</td>\n",
              "      <td>청도군</td>\n",
              "      <td>NaN</td>\n",
              "      <td>NaN</td>\n",
              "    </tr>\n",
              "    <tr>\n",
              "      <th>1</th>\n",
              "      <td>버섯</td>\n",
              "      <td>5.00000</td>\n",
              "      <td>4000</td>\n",
              "      <td>전남 무안군</td>\n",
              "      <td>\becofriendly</td>\n",
              "      <td>2021-09-30</td>\n",
              "      <td>1</td>\n",
              "      <td>800.00000</td>\n",
              "      <td>전남</td>\n",
              "      <td>무안군</td>\n",
              "      <td>NaN</td>\n",
              "      <td>NaN</td>\n",
              "    </tr>\n",
              "    <tr>\n",
              "      <th>2</th>\n",
              "      <td>버섯</td>\n",
              "      <td>5.00000</td>\n",
              "      <td>10000</td>\n",
              "      <td>경북 청도군</td>\n",
              "      <td>\bgood_prd</td>\n",
              "      <td>2021-09-30</td>\n",
              "      <td>1</td>\n",
              "      <td>2000.00000</td>\n",
              "      <td>경북</td>\n",
              "      <td>청도군</td>\n",
              "      <td>NaN</td>\n",
              "      <td>NaN</td>\n",
              "    </tr>\n",
              "    <tr>\n",
              "      <th>3</th>\n",
              "      <td>버섯</td>\n",
              "      <td>5.00000</td>\n",
              "      <td>8000</td>\n",
              "      <td>경북 청도군</td>\n",
              "      <td>\bgood_prd</td>\n",
              "      <td>2021-09-30</td>\n",
              "      <td>1</td>\n",
              "      <td>1600.00000</td>\n",
              "      <td>경북</td>\n",
              "      <td>청도군</td>\n",
              "      <td>NaN</td>\n",
              "      <td>NaN</td>\n",
              "    </tr>\n",
              "    <tr>\n",
              "      <th>4</th>\n",
              "      <td>버섯</td>\n",
              "      <td>5.00000</td>\n",
              "      <td>9500</td>\n",
              "      <td>경북 청도군</td>\n",
              "      <td>\bgood_prd</td>\n",
              "      <td>2021-09-30</td>\n",
              "      <td>1</td>\n",
              "      <td>1900.00000</td>\n",
              "      <td>경북</td>\n",
              "      <td>청도군</td>\n",
              "      <td>NaN</td>\n",
              "      <td>NaN</td>\n",
              "    </tr>\n",
              "    <tr>\n",
              "      <th>...</th>\n",
              "      <td>...</td>\n",
              "      <td>...</td>\n",
              "      <td>...</td>\n",
              "      <td>...</td>\n",
              "      <td>...</td>\n",
              "      <td>...</td>\n",
              "      <td>...</td>\n",
              "      <td>...</td>\n",
              "      <td>...</td>\n",
              "      <td>...</td>\n",
              "      <td>...</td>\n",
              "      <td>...</td>\n",
              "    </tr>\n",
              "    <tr>\n",
              "      <th>507900</th>\n",
              "      <td>동백하새우</td>\n",
              "      <td>8.00000</td>\n",
              "      <td>145000</td>\n",
              "      <td>국내산</td>\n",
              "      <td>normal</td>\n",
              "      <td>2021-10-30</td>\n",
              "      <td>3</td>\n",
              "      <td>18125.00000</td>\n",
              "      <td>국내산</td>\n",
              "      <td>NaN</td>\n",
              "      <td>NaN</td>\n",
              "      <td>NaN</td>\n",
              "    </tr>\n",
              "    <tr>\n",
              "      <th>507901</th>\n",
              "      <td>동백하새우</td>\n",
              "      <td>8.00000</td>\n",
              "      <td>165000</td>\n",
              "      <td>국내산</td>\n",
              "      <td>normal</td>\n",
              "      <td>2021-10-30</td>\n",
              "      <td>3</td>\n",
              "      <td>20625.00000</td>\n",
              "      <td>국내산</td>\n",
              "      <td>NaN</td>\n",
              "      <td>NaN</td>\n",
              "      <td>NaN</td>\n",
              "    </tr>\n",
              "    <tr>\n",
              "      <th>507902</th>\n",
              "      <td>동백하새우</td>\n",
              "      <td>8.00000</td>\n",
              "      <td>100000</td>\n",
              "      <td>국내산</td>\n",
              "      <td>normal</td>\n",
              "      <td>2021-10-30</td>\n",
              "      <td>3</td>\n",
              "      <td>12500.00000</td>\n",
              "      <td>국내산</td>\n",
              "      <td>NaN</td>\n",
              "      <td>NaN</td>\n",
              "      <td>NaN</td>\n",
              "    </tr>\n",
              "    <tr>\n",
              "      <th>507903</th>\n",
              "      <td>동백하새우</td>\n",
              "      <td>8.00000</td>\n",
              "      <td>170000</td>\n",
              "      <td>국내산</td>\n",
              "      <td>normal</td>\n",
              "      <td>2021-10-30</td>\n",
              "      <td>3</td>\n",
              "      <td>21250.00000</td>\n",
              "      <td>국내산</td>\n",
              "      <td>NaN</td>\n",
              "      <td>NaN</td>\n",
              "      <td>NaN</td>\n",
              "    </tr>\n",
              "    <tr>\n",
              "      <th>507904</th>\n",
              "      <td>동백하새우</td>\n",
              "      <td>8.00000</td>\n",
              "      <td>175000</td>\n",
              "      <td>국내산</td>\n",
              "      <td>normal</td>\n",
              "      <td>2021-10-30</td>\n",
              "      <td>3</td>\n",
              "      <td>21875.00000</td>\n",
              "      <td>국내산</td>\n",
              "      <td>NaN</td>\n",
              "      <td>NaN</td>\n",
              "      <td>NaN</td>\n",
              "    </tr>\n",
              "  </tbody>\n",
              "</table>\n",
              "<p>507711 rows × 12 columns</p>\n",
              "</div>"
            ],
            "text/plain": [
              "          prd   scale   price  origin           eco   reg_date  new_class  \\\n",
              "0          버섯 5.00000    5500  경북 청도군  \becofriendly 2021-09-30          1   \n",
              "1          버섯 5.00000    4000  전남 무안군  \becofriendly 2021-09-30          1   \n",
              "2          버섯 5.00000   10000  경북 청도군     \bgood_prd 2021-09-30          1   \n",
              "3          버섯 5.00000    8000  경북 청도군     \bgood_prd 2021-09-30          1   \n",
              "4          버섯 5.00000    9500  경북 청도군     \bgood_prd 2021-09-30          1   \n",
              "...       ...     ...     ...     ...           ...        ...        ...   \n",
              "507900  동백하새우 8.00000  145000     국내산        normal 2021-10-30          3   \n",
              "507901  동백하새우 8.00000  165000     국내산        normal 2021-10-30          3   \n",
              "507902  동백하새우 8.00000  100000     국내산        normal 2021-10-30          3   \n",
              "507903  동백하새우 8.00000  170000     국내산        normal 2021-10-30          3   \n",
              "507904  동백하새우 8.00000  175000     국내산        normal 2021-10-30          3   \n",
              "\n",
              "          price_kg    0    1    2    3  \n",
              "0       1100.00000   경북  청도군  NaN  NaN  \n",
              "1        800.00000   전남  무안군  NaN  NaN  \n",
              "2       2000.00000   경북  청도군  NaN  NaN  \n",
              "3       1600.00000   경북  청도군  NaN  NaN  \n",
              "4       1900.00000   경북  청도군  NaN  NaN  \n",
              "...            ...  ...  ...  ...  ...  \n",
              "507900 18125.00000  국내산  NaN  NaN  NaN  \n",
              "507901 20625.00000  국내산  NaN  NaN  NaN  \n",
              "507902 12500.00000  국내산  NaN  NaN  NaN  \n",
              "507903 21250.00000  국내산  NaN  NaN  NaN  \n",
              "507904 21875.00000  국내산  NaN  NaN  NaN  \n",
              "\n",
              "[507711 rows x 12 columns]"
            ]
          },
          "execution_count": 114,
          "metadata": {},
          "output_type": "execute_result"
        }
      ],
      "source": [
        "# 해당 조건에 맞는 값 추출\n",
        "\n",
        "splits = df3['origin'].str.split(' ')\n",
        "cacul = splits.apply(lambda x: pd.Series(x))\n",
        "df66 = pd.merge(df3,cacul, left_index=True, right_index=True, how='inner')\n",
        "df66"
      ]
    },
    {
      "cell_type": "code",
      "execution_count": 115,
      "metadata": {
        "id": "NVkmVZ7ip9-N"
      },
      "outputs": [],
      "source": [
        "# 세부 카테고리 정리 (state, city 편집 시 여기서 시작)\n",
        "\n",
        "df4 = df66.rename(columns = {0:'state',1:'city'})\n",
        "\n",
        "# 2,3은 필요없는 정보이므로 삭제\n",
        "df4 = df4.drop(columns=[2,3])"
      ]
    },
    {
      "cell_type": "code",
      "execution_count": 116,
      "metadata": {
        "colab": {
          "base_uri": "https://localhost:8080/"
        },
        "id": "JcsSUlI_27J3",
        "outputId": "817067e6-2645-4c9c-c86f-047b1471bb9b"
      },
      "outputs": [
        {
          "data": {
            "text/plain": [
              "array(['경북', '전남', '수입산', '충남', '경기', '충북', '강원', '세종시', '경남', '청주시',\n",
              "       '전북', '중국', '제주', '인천', '세종', '기타외국', '대구', '경기도', '서울', '서울시',\n",
              "       '성남시', '광주', '칠레', '미국', '필리핀', '페루', '강원도', '서울특별시', '인천시',\n",
              "       '전라북도', '대전시', '대전', '포항시', '부산시', '호주', '경북/문경시', '경북/상주시',\n",
              "       '오스트레일', '남아프리카', '남아프리카공화국', '오스트레일리아', '베트남', '제주도', '뉴질랜드',\n",
              "       '제주특별자치도', '타이', '인천광역시', '광주시', '부산', '일본', '부산광역시', '전주시', '멕시코',\n",
              "       '우즈베키스탄', '태국', '브라질', '부천시', '에콰도르', '코스타리카', '콜롬비아', '에쿠아도르',\n",
              "       '에콰돌', '인도네시아', '과테말라', '우크라이나', '세종특별자치시', '충북청주시상당구', '국내산',\n",
              "       '수입', '포클랜드'], dtype=object)"
            ]
          },
          "execution_count": 116,
          "metadata": {},
          "output_type": "execute_result"
        }
      ],
      "source": [
        "df4['state'].unique()"
      ]
    },
    {
      "cell_type": "code",
      "execution_count": 117,
      "metadata": {
        "id": "SsvDFEbgqQjD"
      },
      "outputs": [],
      "source": [
        "# 시,도 제거\n",
        "def name_sort(words):\n",
        "  p = re.compile('[^시도]+')\n",
        "  word = re.search(p,str(words))\n",
        "  return word.group()\n",
        "\n",
        "df4[\"state\"] = df4[\"state\"].apply(name_sort)\n",
        "\n",
        "# 오타도 제거\n",
        "\n",
        "def name_sort2(words):\n",
        "  p = re.compile('[^\\t]+')\n",
        "  word = re.search(p,words)\n",
        "  return word.group()\n",
        "\n",
        "df4[\"state\"] = df4[\"state\"].apply(name_sort2)"
      ]
    },
    {
      "cell_type": "code",
      "execution_count": 118,
      "metadata": {
        "colab": {
          "base_uri": "https://localhost:8080/"
        },
        "id": "JeybBf_fqhqh",
        "outputId": "b5542367-86fe-4c6e-deab-f28f7d1ce6f5"
      },
      "outputs": [
        {
          "data": {
            "text/plain": [
              "array(['경북', '전남', '수입산', '충남', '경기', '충북', '강원', '세종', '경남', '청주', '전북',\n",
              "       '중국', '제주', '인천', '기타외국', '대구', '서울', '성남', '광주', '칠레', '미국',\n",
              "       '필리핀', '페루', '서울특별', '전라북', '대전', '포항', '부산', '호주', '경북/문경',\n",
              "       '경북/상주', '오스트레일', '남아프리카', '남아프리카공화국', '오스트레일리아', '베트남', '뉴질랜드',\n",
              "       '제주특별자치', '타이', '인천광역', '일본', '부산광역', '전주', '멕', '우즈베키스탄', '태국',\n",
              "       '브라질', '부천', '에콰', '코스타리카', '콜롬비아', '에쿠아', '에콰돌', '인', '과테말라',\n",
              "       '우크라이나', '세종특별자치', '충북청주', '국내산', '수입', '포클랜드'], dtype=object)"
            ]
          },
          "execution_count": 118,
          "metadata": {},
          "output_type": "execute_result"
        }
      ],
      "source": [
        "df4[\"state\"].unique()"
      ]
    },
    {
      "cell_type": "code",
      "execution_count": 119,
      "metadata": {
        "id": "FDUnVy0e1br6"
      },
      "outputs": [],
      "source": [
        "# state\n",
        "# 특이케이스 제거\n",
        "\n",
        "# 국내\n",
        "df4.loc[df4[\"state\"]==\"국내산\",\"city\"] = \"미상\"\n",
        "df4.loc[df4[\"state\"]==\"국내산\",\"state\"] = \"국산\"\n",
        "df4.loc[df4[\"state\"]==\"원양산\",\"city\"] = \"미상\"\n",
        "\n",
        "## 도단위\n",
        "df4.loc[df4[\"state\"]==\"충청북\",\"state\"] = \"충북\"\n",
        "df4.loc[df4[\"state\"]==\"충청남\",\"state\"] = \"충남\"\n",
        "df4.loc[df4[\"state\"]==\"전라북\",\"state\"] = \"전북\"\n",
        "df4.loc[df4[\"state\"]==\"전라남\",\"state\"] = \"전남\"\n",
        "df4.loc[df4[\"state\"]==\"경상북\",\"state\"] = \"경북\"\n",
        "df4.loc[df4[\"state\"]==\"경상남\",\"state\"] = \"경남\"\n",
        "\n",
        "## 시단위\n",
        "### 광역시\n",
        "\n",
        "df4.loc[df4[\"state\"]==\"대전\",\"city\"] = \"대전\"\n",
        "df4.loc[df4[\"state\"]==\"대구\",\"city\"] = \"대구\"\n",
        "df4.loc[df4[\"state\"]==\"서울특별\",\"city\"] = \"서울\"\n",
        "df4.loc[df4[\"state\"]==\"서울특별\",\"state\"] = \"서울\"\n",
        "df4.loc[df4[\"state\"]==\"인천광역\",\"city\"] = \"인천\"\n",
        "df4.loc[df4[\"state\"]==\"인천광역\",\"state\"] = \"인천\"\n",
        "df4.loc[df4[\"state\"]==\"부산\",\"city\"] = \"부산\"\n",
        "df4.loc[df4[\"state\"]==\"부산광역\",\"city\"] = \"부산\"\n",
        "df4.loc[df4[\"state\"]==\"부산광역\",\"state\"] = \"부산\"\n",
        "df4.loc[df4[\"state\"]==\"가락동\",\"city\"] = \"서울\"\n",
        "df4.loc[df4[\"state\"]==\"가락동\",\"state\"] = \"서울\"\n",
        "df4.loc[df4[\"state\"]==\"세종\",\"city\"] = \"세종\"\n",
        "df4.loc[df4[\"state\"]==\"세종특별자치\",\"city\"] = \"세종\"\n",
        "df4.loc[df4[\"state\"]==\"세종특별자치\",\"state\"] = \"세종\"\n",
        "df4.loc[df4[\"state\"]==\"대전\",\"city\"] = \"대전\"\n",
        "df4.loc[df4[\"state\"]==\"제주\",\"city\"] = \"제주\"\n",
        "df4.loc[df4[\"state\"]==\"제주특별자치\",\"city\"] = \"제주\"\n",
        "df4.loc[df4[\"state\"]==\"제주특별자치\",\"state\"] = \"제주\"\n",
        "df4.loc[df4[\"state\"]==\"제주특별자\",\"city\"] = \"제주\"\n",
        "df4.loc[df4[\"state\"]==\"제주특별자\",\"state\"] = \"제주\"\n",
        "df4.loc[df4[\"state\"]==\"제주/서귀포\",\"city\"] = \"제주\"\n",
        "df4.loc[df4[\"state\"]==\"제주/서귀포\",\"state\"] = \"제주\"\n",
        "df4.loc[df4[\"state\"]==\"세종\",\"city\"] = \"세종\"\n",
        "df4.loc[df4[\"state\"]==\"울산\",\"city\"] = \"울산\"\n",
        "df4.loc[df4[\"state\"]==\"울산\",\"state\"] = \"울산\"\n",
        "\n",
        "### 일반시\n",
        "df4.loc[df4[\"state\"]==\"성남\",\"city\"] = \"성남\"\n",
        "df4.loc[df4[\"state\"]==\"성남\",\"state\"] = \"경기\"\n",
        "df4.loc[df4[\"state\"]==\"전주\",\"city\"] = \"전주\"\n",
        "df4.loc[df4[\"state\"]==\"전주\",\"state\"] = \"전북\"\n",
        "df4.loc[df4[\"state\"]==\"청주\",\"city\"] = \"청주\"\n",
        "df4.loc[df4[\"state\"]==\"청주\",\"state\"] = \"충북\"\n",
        "df4.loc[df4[\"state\"]==\"수원\",\"city\"] = \"수원\"\n",
        "df4.loc[df4[\"state\"]==\"수원\",\"state\"] = \"경기\"\n",
        "df4.loc[df4[\"state\"]==\"부천\",\"city\"] = \"부천\"\n",
        "df4.loc[df4[\"state\"]==\"부천\",\"state\"] = \"경기\"\n",
        "df4.loc[df4[\"state\"]==\"경기고양\",\"city\"] = \"고양\"\n",
        "df4.loc[df4[\"state\"]==\"경기고양\",\"state\"] = \"경기\"\n",
        "df4.loc[df4[\"state\"]==\"충북청주\",\"city\"] = \"청주\"\n",
        "df4.loc[df4[\"state\"]==\"충북청주\",\"state\"] = \"충북\"\n",
        "df4.loc[df4[\"state\"]==\"전북전주\",\"city\"] = \"전주\"\n",
        "df4.loc[df4[\"state\"]==\"전북전주\",\"state\"] = \"전북\"\n",
        "df4.loc[df4[\"state\"]==\"경북/문경\",\"city\"] = \"문경\"\n",
        "df4.loc[df4[\"state\"]==\"경북/문경\",\"state\"] = \"경북\"\n",
        "df4.loc[df4[\"state\"]==\"포항\",\"city\"] = \"포항\"\n",
        "df4.loc[df4[\"state\"]==\"포항\",\"state\"] = \"경북\"\n",
        "df4.loc[df4[\"state\"]==\"경북/안동\",\"city\"] = \"안동\"\n",
        "df4.loc[df4[\"state\"]==\"경북/안동\",\"state\"] = \"경북\"\n",
        "df4.loc[df4[\"state\"]==\"전남/무안군\",\"city\"] = \"전남\"\n",
        "df4.loc[df4[\"state\"]==\"전남/무안군\",\"state\"] = \"무안\"\n",
        "df4.loc[df4[\"state\"]==\"경북/구미\",\"city\"] = \"구미\"\n",
        "df4.loc[df4[\"state\"]==\"경북/구미\",\"state\"] = \"경북\"\n",
        "df4.loc[df4[\"state\"]==\"경북/상주\",\"city\"] = \"상주\"\n",
        "df4.loc[df4[\"state\"]==\"경북/상주\",\"state\"] = \"경북\"\n",
        "df4.loc[df4[\"state\"]==\"경북/영천\",\"city\"] = \"영천\"\n",
        "df4.loc[df4[\"state\"]==\"경북/영천\",\"state\"] = \"경북\"\n",
        "df4.loc[df4[\"state\"]==\"경남/합천군\",\"city\"] = \"합천\"\n",
        "df4.loc[df4[\"state\"]==\"경남/합천군\",\"state\"] = \"경남\"\n",
        "df4.loc[df4[\"state\"]==\"무안\",\"state\"] = \"전남\"\n",
        "df4.loc[df4[\"state\"]==\"서해안\",\"city\"] = \"미상\"\n",
        "df4.loc[df4[\"state\"]==\"서해안\",\"state\"] = \"국산\"\n",
        "\n",
        "\n",
        "# 외국\n",
        "## 아시아\n",
        "df4.loc[df4[\"state\"]==\"칠레\",\"city\"] = \"칠레\"\n",
        "df4.loc[df4[\"state\"]==\"칠레\",\"state\"] = \"수입\"\n",
        "df4.loc[df4[\"state\"]==\"일본\",\"city\"] = \"일본\"\n",
        "df4.loc[df4[\"state\"]==\"일본\",\"state\"] = \"수입\"\n",
        "df4.loc[df4[\"state\"]==\"베트남\",\"city\"] = \"베트남\"\n",
        "df4.loc[df4[\"state\"]==\"베트남\",\"state\"] = \"수입\"\n",
        "df4.loc[df4[\"state\"]==\"우즈베크\",\"city\"] = \"우즈베키스탄\"\n",
        "df4.loc[df4[\"state\"]==\"우즈베크\",\"state\"] = \"수입\"\n",
        "df4.loc[df4[\"state\"]==\"이스라엘\",\"city\"] = \"이스라엘\"\n",
        "df4.loc[df4[\"state\"]==\"이스라엘\",\"state\"] = \"수입\"\n",
        "df4.loc[df4[\"state\"]==\"터키\",\"city\"] = \"터키\"\n",
        "df4.loc[df4[\"state\"]==\"터키\",\"state\"] = \"수입\"\n",
        "df4.loc[df4[\"state\"]==\"중국\",\"city\"] = \"중국\"\n",
        "df4.loc[df4[\"state\"]==\"중국\",\"state\"] = \"수입\"\n",
        "df4.loc[df4[\"state\"]==\"타이\",\"city\"] = \"태국\"\n",
        "df4.loc[df4[\"state\"]==\"타이\",\"state\"] = \"수입\"\n",
        "df4.loc[df4[\"state\"]==\"태국\",\"city\"] = \"태국\"\n",
        "df4.loc[df4[\"state\"]==\"태국\",\"state\"] = \"수입\"\n",
        "df4.loc[df4[\"state\"]==\"필리핀\",\"city\"] = \"필리핀\"\n",
        "df4.loc[df4[\"state\"]==\"필리핀\",\"state\"] = \"수입\"\n",
        "df4.loc[df4[\"state\"]==\"우즈베키스탄\",\"city\"] = \"우즈베키스탄\"\n",
        "df4.loc[df4[\"state\"]==\"우즈베키스탄\",\"state\"] = \"수입\"\n",
        "df4.loc[df4[\"state\"]==\"대만\",\"city\"] = \"대만\"\n",
        "df4.loc[df4[\"state\"]==\"대만\",\"state\"] = \"수입\"\n",
        "df4.loc[df4[\"state\"]==\"베트남\",\"city\"] = \"베트남\"\n",
        "df4.loc[df4[\"state\"]==\"베트남\",\"state\"] = \"수입\"\n",
        "df4.loc[df4[\"state\"]==\"이란\",\"city\"] = \"이란\"\n",
        "df4.loc[df4[\"state\"]==\"이란\",\"state\"] = \"수입\"\n",
        "df4.loc[df4[\"state\"]==\"러\",\"city\"] = \"러시아\"\n",
        "df4.loc[df4[\"state\"]==\"러\",\"state\"] = \"수입\"\n",
        "df4.loc[(df4[\"state\"]==\"인\")&(df4[\"origin\"]==\"인도네시아\"),\"city\"] = \"인도네시아\"\n",
        "df4.loc[(df4[\"state\"]==\"인\")&(df4[\"origin\"]==\"인도네시아\"),\"state\"] = \"수입\"\n",
        "df4.loc[(df4[\"state\"]==\"인\")&(df4[\"origin\"]==\"인도\"),\"city\"] = \"인도\"\n",
        "df4.loc[(df4[\"state\"]==\"인\")&(df4[\"origin\"]==\"인도\"),\"state\"] = \"수입\"\n",
        "\n",
        "## 아메리카\n",
        "\n",
        "df4.loc[df4[\"state\"]==\"캘리포니아\",\"city\"] = \"미국\"\n",
        "df4.loc[df4[\"state\"]==\"캘리포니아\",\"state\"] = \"수입\"\n",
        "df4.loc[df4[\"state\"]==\"포클랜드\",\"city\"] = \"영국\"\n",
        "df4.loc[df4[\"state\"]==\"포클랜드\",\"state\"] = \"수입\"\n",
        "df4.loc[df4[\"state\"]==\"콜롬비아\",\"city\"] = \"콜롬비아\"\n",
        "df4.loc[df4[\"state\"]==\"콜롬비아\",\"state\"] = \"수입\"\n",
        "df4.loc[df4[\"state\"]==\"에콰\",\"city\"] = \"에콰도르\"\n",
        "df4.loc[df4[\"state\"]==\"에콰\",\"state\"] = \"수입\"\n",
        "df4.loc[df4[\"state\"]==\"에쿠아\",\"city\"] = \"에콰도르\"\n",
        "df4.loc[df4[\"state\"]==\"에쿠아\",\"state\"] = \"수입\"\n",
        "df4.loc[df4[\"state\"]==\"에콰돌\",\"city\"] = \"에콰도르\"\n",
        "df4.loc[df4[\"state\"]==\"에콰돌\",\"state\"] = \"수입\"\n",
        "df4.loc[df4[\"state\"]==\"과테말라\",\"city\"] = \"과테말라\"\n",
        "df4.loc[df4[\"state\"]==\"과테말라\",\"state\"] = \"수입\"\n",
        "df4.loc[df4[\"state\"]==\"코스타리카\",\"city\"] = \"코스타리카\"\n",
        "df4.loc[df4[\"state\"]==\"코스타리카\",\"state\"] = \"수입\"\n",
        "df4.loc[df4[\"state\"]==\"멕\",\"city\"] = \"멕시코\"\n",
        "df4.loc[df4[\"state\"]==\"멕\",\"state\"] = \"수입\"\n",
        "df4.loc[df4[\"state\"]==\"페루\",\"city\"] = \"페루\"\n",
        "df4.loc[df4[\"state\"]==\"페루\",\"state\"] = \"수입\"\n",
        "df4.loc[df4[\"state\"]==\"미국\",\"city\"] = \"미국\"\n",
        "df4.loc[df4[\"state\"]==\"미국\",\"state\"] = \"수입\"\n",
        "df4.loc[df4[\"state\"]==\"아르헨티나\",\"city\"] = \"아르헨티나\"\n",
        "df4.loc[df4[\"state\"]==\"아르헨티나\",\"state\"] = \"수입\"\n",
        "df4.loc[df4[\"state\"]==\"브라질\",\"city\"] = \"브라질\"\n",
        "df4.loc[df4[\"state\"]==\"브라질\",\"state\"] = \"수입\"\n",
        "\n",
        "## 유럽\n",
        "df4.loc[df4[\"state\"]==\"스페인\",\"city\"] = \"스페인\"\n",
        "df4.loc[df4[\"state\"]==\"스페인\",\"state\"] = \"수입\"\n",
        "df4.loc[df4[\"state\"]==\"우크라이나\",\"city\"] = \"우크라이나\"\n",
        "df4.loc[df4[\"state\"]==\"우크라이나\",\"state\"] = \"수입\"\n",
        "df4.loc[df4[\"state\"]==\"이탈리아\",\"city\"] = \"이탈리아\"\n",
        "df4.loc[df4[\"state\"]==\"이탈리아\",\"state\"] = \"수입\"\n",
        "df4.loc[df4[\"state\"]==\"불가리아\",\"city\"] = \"불가리아\"\n",
        "df4.loc[df4[\"state\"]==\"불가리아\",\"state\"] = \"수입\"\n",
        "\n",
        "## 아프리카\n",
        "df4.loc[df4[\"state\"]==\"남아프리카\",\"city\"] = \"남아공\"\n",
        "df4.loc[df4[\"state\"]==\"남아프리카\",\"state\"] = \"수입\"\n",
        "df4.loc[df4[\"state\"]==\"남아프리카공화국\",\"city\"] = \"남아공\"\n",
        "df4.loc[df4[\"state\"]==\"남아프리카공화국\",\"state\"] = \"수입\"\n",
        "df4.loc[df4[\"state\"]==\"수입남아프리카공화국\",\"city\"] = \"남아공\"\n",
        "df4.loc[df4[\"state\"]==\"수입남아프리카공화국\",\"state\"] = \"수입\"\n",
        "\n",
        "\n",
        "## 오세아니아\n",
        "df4.loc[df4[\"state\"]==\"뉴질랜드\",\"city\"] = \"뉴질랜드\"\n",
        "df4.loc[df4[\"state\"]==\"뉴질랜드\",\"state\"] = \"수입\"\n",
        "df4.loc[df4[\"state\"]==\"오스트레일\",\"city\"] = \"호주\"\n",
        "df4.loc[df4[\"state\"]==\"오스트레일\",\"state\"] = \"수입\"\n",
        "df4.loc[df4[\"state\"]==\"오스트레일리아\",\"city\"] = \"호주\"\n",
        "df4.loc[df4[\"state\"]==\"오스트레일리아\",\"state\"] = \"수입\"\n",
        "df4.loc[df4[\"state\"]==\"호주\",\"city\"] = \"호주\"\n",
        "df4.loc[df4[\"state\"]==\"호주\",\"state\"] = \"수입\"\n",
        "df4.loc[df4[\"state\"]==\"통가\",\"city\"] = \"통가\"\n",
        "df4.loc[df4[\"state\"]==\"통가\",\"state\"] = \"수입\"\n",
        "df4.loc[df4[\"state\"]==\"뉴칼레\",\"city\"] = \"뉴칼레도니아\"\n",
        "df4.loc[df4[\"state\"]==\"뉴칼레\",\"state\"] = \"수입\"\n",
        "df4.loc[df4[\"state\"]==\"뉴\",\"city\"] = \"뉴칼레도니아\"\n",
        "df4.loc[df4[\"state\"]==\"뉴\",\"state\"] = \"수입\"\n",
        "df4.loc[df4[\"state\"]==\"누벨칼레\",\"city\"] = \"뉴칼레도니아\"\n",
        "df4.loc[df4[\"state\"]==\"누벨칼레\",\"state\"] = \"수입\"\n",
        "# 기타\n",
        "df4.loc[df4[\"state\"]==\"수입산\",\"state\"] = \"수입\"\n",
        "df4.loc[df4[\"state\"]==\"기타외국\",\"city\"] = \"미상\"\n",
        "df4.loc[df4[\"state\"]==\"기타외국\",\"state\"] = \"수입\""
      ]
    },
    {
      "cell_type": "code",
      "execution_count": 120,
      "metadata": {
        "colab": {
          "base_uri": "https://localhost:8080/",
          "height": 49
        },
        "id": "3MmvwTRy-BEj",
        "outputId": "cb62e40c-926f-4fdf-c3bf-a44c828d7052"
      },
      "outputs": [
        {
          "data": {
            "text/html": [
              "<div>\n",
              "<style scoped>\n",
              "    .dataframe tbody tr th:only-of-type {\n",
              "        vertical-align: middle;\n",
              "    }\n",
              "\n",
              "    .dataframe tbody tr th {\n",
              "        vertical-align: top;\n",
              "    }\n",
              "\n",
              "    .dataframe thead th {\n",
              "        text-align: right;\n",
              "    }\n",
              "</style>\n",
              "<table border=\"1\" class=\"dataframe\">\n",
              "  <thead>\n",
              "    <tr style=\"text-align: right;\">\n",
              "      <th></th>\n",
              "      <th>prd</th>\n",
              "      <th>scale</th>\n",
              "      <th>price</th>\n",
              "      <th>origin</th>\n",
              "      <th>eco</th>\n",
              "      <th>reg_date</th>\n",
              "      <th>new_class</th>\n",
              "      <th>price_kg</th>\n",
              "      <th>state</th>\n",
              "      <th>city</th>\n",
              "    </tr>\n",
              "  </thead>\n",
              "  <tbody>\n",
              "  </tbody>\n",
              "</table>\n",
              "</div>"
            ],
            "text/plain": [
              "Empty DataFrame\n",
              "Columns: [prd, scale, price, origin, eco, reg_date, new_class, price_kg, state, city]\n",
              "Index: []"
            ]
          },
          "execution_count": 120,
          "metadata": {},
          "output_type": "execute_result"
        }
      ],
      "source": [
        "df4[df4['state']=='서해안']"
      ]
    },
    {
      "cell_type": "code",
      "execution_count": 121,
      "metadata": {
        "colab": {
          "base_uri": "https://localhost:8080/"
        },
        "id": "bPMNH6Fz9laX",
        "outputId": "c7ea6abb-e318-4350-9eea-394a56796052"
      },
      "outputs": [
        {
          "data": {
            "text/plain": [
              "array(['경북', '전남', '수입', '충남', '경기', '충북', '강원', '세종', '경남', '전북', '제주',\n",
              "       '인천', '대구', '서울', '광주', '대전', '부산', '국산'], dtype=object)"
            ]
          },
          "execution_count": 121,
          "metadata": {},
          "output_type": "execute_result"
        }
      ],
      "source": [
        "df4['state'].unique()"
      ]
    },
    {
      "cell_type": "code",
      "execution_count": 122,
      "metadata": {
        "id": "Ih5vw324J-Ed"
      },
      "outputs": [],
      "source": [
        "# city\n",
        "# 우선 결측치 제거\n",
        "df4.loc[df4[\"city\"].isnull(),\"city\"] = \"미상\""
      ]
    },
    {
      "cell_type": "code",
      "execution_count": 123,
      "metadata": {
        "id": "cXY3uABaKSty"
      },
      "outputs": [],
      "source": [
        "# 이후 시,군 등 제거\n",
        "def name_sort(words):\n",
        "  p = re.compile('[^시군]+')\n",
        "  word = re.search(p,words)\n",
        "  return word.group()\n",
        "\n",
        "df4[\"city\"] = df4[\"city\"].apply(name_sort)"
      ]
    },
    {
      "cell_type": "code",
      "execution_count": 124,
      "metadata": {
        "id": "QuyWFOs1R7yP"
      },
      "outputs": [],
      "source": [
        "# \\t 도 제거\n",
        "def name_sort2(words):\n",
        "  p = re.compile('[^\\t]+')\n",
        "  word = re.search(p,words)\n",
        "  return word.group()\n",
        "\n",
        "df4[\"city\"] = df4[\"city\"].apply(name_sort2)"
      ]
    },
    {
      "cell_type": "code",
      "execution_count": 125,
      "metadata": {
        "colab": {
          "base_uri": "https://localhost:8080/"
        },
        "id": "szJvb99ySEPR",
        "outputId": "97ca859c-e684-45b0-f3d0-488abdd6cedf"
      },
      "outputs": [
        {
          "data": {
            "text/plain": [
              "array(['청도', '무안', '나주', '함평', '중국', '홍성', '예산', '화성', '옥천', '평택', '당진',\n",
              "       '용인', '충주', '괴산', '구례', '여주', '청양', '음성', '의왕', '해남', '양평', '보령',\n",
              "       '홍천', '안성', '아산', '인제', '춘천', '서산', '양양', '영월', '광주', '이천', '세종',\n",
              "       '부여', '상주', '천안', '청주', '성주', '담양', '문경', '김천', '함양', '여수', '청원',\n",
              "       '정읍', '평창', '성남', '파주', '고창', '장흥', '논산', '보성', '포천', '서천', '제주',\n",
              "       '강화', '화천', '공주', '산청', '부안', '의령', '장성', '영동', '산', '의정부', '보은',\n",
              "       '고흥', '가평', '철원', '양주', '예천', '미상', '진주', '창녕', '증평', '횡성', '진천',\n",
              "       '고양', '원주', '남양주', '연천', '금산', '김제', '고성', '김포', '의성', '영주', '대구',\n",
              "       '영천', '무주', '청송', '안동', '경산', '위', '구리', '송파구', '오산', '하남', '강동구',\n",
              "       '강서구', '양천구', '하동', '강남구', '도봉구', '경주', '양구', '남구', '광산구', '영암',\n",
              "       '밀양', '화순', '제천', '진도', '칠레', '미국', '필리핀', '페루', '익산', '부천', '광양',\n",
              "       '곡성', '장수', '포항', '강릉', '거창', '봉화', '정선', '삼척', '완주', '고령', '진안',\n",
              "       '중구', '태안', '서울', '계양구', '흥', '태백', '광명', '계룡', '중랑구', '남원', '영덕',\n",
              "       '대전', '연기', '구미', '순천', '임실', '서구', '북구', '창원', '광진구', '함안', '동구',\n",
              "       '김해', '사천', '마산', '영등포', '칠곡', '신안', '은평구', '남해', '목포', '동대문구',\n",
              "       '부산', '호주', '전주', '남동구', '합천', '영양', '동두천', '남아공산', '남아공', '베트남',\n",
              "       '안산', '미금', '뉴질랜드', '영광', '수원', '강진', '태국', '인천', '부평구', '안양',\n",
              "       '미추홀', '미추홀구', '통영', '일본', '구로구', '거제', '동대문', '단양', '멕', '우즈베키스탄',\n",
              "       '순창', '완도', '양산', '브라질', '에콰도르', '코스타리카', '콜롬비아', '인도네', '과테말라',\n",
              "       '우크라이나', '울진', '속초', '세네갈', '기타', '목포(무안)', '러', '영국', '아르헨티나',\n",
              "       '마산(고성,진해)', '삼천포', '고흥(나로도)', '순천(광양)', '노르웨이', '타이', '장항(서천)',\n",
              "       '거제(장승포)', '말레이지아'], dtype=object)"
            ]
          },
          "execution_count": 125,
          "metadata": {},
          "output_type": "execute_result"
        }
      ],
      "source": [
        "df4['city'].unique()"
      ]
    },
    {
      "cell_type": "code",
      "execution_count": 129,
      "metadata": {
        "id": "MrIoC_BDQ_ic"
      },
      "outputs": [],
      "source": [
        "# 나머지 케이스 정리\n",
        "\n",
        "# 국내\n",
        "df4.loc[df4[\"city\"]==\"기타\",\"city\"] = \"미상\"\n",
        "## 일반시\n",
        "df4.loc[df4[\"city\"]==\"위\",\"city\"] = \"군위\"\n",
        "df4.loc[df4[\"city\"]==\"고흥(나로도)\",\"city\"] = \"고흥\"\n",
        "df4.loc[df4[\"city\"]==\"산\",\"city\"] = \"군산\"\n",
        "df4.loc[df4[\"city\"]==\"장항(서천)\",\"city\"] = \"서천\"\n",
        "df4.loc[df4[\"city\"]==\"삼천포\",\"city\"] = \"사천\"\n",
        "df4.loc[df4[\"city\"]==\"삼천포\",\"city\"] = \"사천\"\n",
        "df4.loc[df4[\"city\"]==\"순천(광양)\",\"city\"] = \"순천\"\n",
        "df4.loc[df4[\"city\"]==\"대천(보령)\",\"city\"] = \"보령\"\n",
        "df4.loc[df4[\"city\"]==\"대천(보령)\",\"city\"] = \"보령\"\n",
        "df4.loc[df4[\"city\"]==\"화성(평택)\",\"city\"] = \"화성\"\n",
        "df4.loc[df4[\"city\"]==\"흥\",\"city\"] = \"시흥\"\n",
        "df4.loc[df4[\"city\"]==\"목포(무안)\",\"city\"] = \"목포\"\n",
        "df4.loc[df4[\"city\"]==\"목포(무안)\",\"state\"] = \"전남\"\n",
        "df4.loc[df4[\"city\"]==\"보성(벌교)\",\"city\"] = \"보성\"\n",
        "df4.loc[df4[\"city\"]==\"울진(후포)\",\"city\"] = \"울진\"\n",
        "df4.loc[df4[\"city\"]==\"논\",\"city\"] = \"논산\"\n",
        "df4.loc[df4[\"city\"]==\"논\",\"city\"] = \"논산\"\n",
        "df4.loc[df4[\"city\"]==\"순\",\"city\"] = \"순창\"\n",
        "df4.loc[df4[\"city\"]==\"익\",\"city\"] = \"익산\"\n",
        "df4.loc[df4[\"city\"]==\"미금\",\"city\"] = \"성남\"\n",
        "df4.loc[df4[\"city\"]==\"주문진\",\"city\"] = \"강릉\"\n",
        "df4.loc[df4[\"city\"]==\"전남\",\"city\"] = \"무안\"\n",
        "df4.loc[df4[\"city\"]==\"장\",\"city\"] = \"장수\"\n",
        "df4.loc[df4[\"city\"]==\"거제(장승포)\",\"city\"] = \"거제\"\n",
        "df4.loc[(df4[\"city\"]==\"완\")&(df4[\"state\"]==\"전북\"),\"city\"] = \"완주\"\n",
        "df4.loc[(df4[\"state\"]==\"전북\")&(df4[\"city\"]==\"남\"),\"city\"] = \"남원\"\n",
        "df4.loc[(df4['prd']==\"호박\") & (df4['state']=='전북'),\"city\"] = \"전주\"\n",
        "## 광역시\n",
        "df4.loc[df4[\"city\"]==\"강서구\",\"city\"] = \"서울\"\n",
        "df4.loc[df4[\"city\"]==\"은평구\",\"city\"] = \"서울\"\n",
        "df4.loc[df4[\"city\"]==\"강동구\",\"city\"] = \"서울\"\n",
        "df4.loc[df4[\"city\"]==\"마포구\",\"city\"] = \"서울\"\n",
        "df4.loc[df4[\"city\"]==\"중구\",\"city\"] = \"서울\"\n",
        "df4.loc[df4[\"city\"]==\"송파구\",\"city\"] = \"서울\"\n",
        "df4.loc[df4[\"city\"]==\"도봉구\",\"city\"] = \"서울\"\n",
        "df4.loc[df4[\"city\"]==\"중랑구\",\"city\"] = \"서울\"\n",
        "df4.loc[df4[\"city\"]==\"양천구\",\"city\"] = \"서울\"\n",
        "df4.loc[df4[\"city\"]==\"성동구\",\"city\"] = \"서울\"\n",
        "df4.loc[df4[\"city\"]==\"강남구\",\"city\"] = \"서울\"\n",
        "df4.loc[df4[\"city\"]==\"동대문구\",\"city\"] = \"서울\"\n",
        "df4.loc[df4[\"city\"]==\"영등포구\",\"city\"] = \"서울\"\n",
        "df4.loc[df4[\"city\"]==\"영등포\",\"city\"] = \"서울\"\n",
        "df4.loc[df4[\"city\"]==\"서초구\",\"city\"] = \"서울\"\n",
        "df4.loc[df4[\"city\"]==\"구로구\",\"city\"] = \"서울\"\n",
        "df4.loc[df4[\"city\"]==\"동대문\",\"city\"] = \"서울\"\n",
        "df4.loc[df4[\"city\"]==\"금천구\",\"city\"] = \"서울\"\n",
        "df4.loc[df4[\"city\"]==\"동작구\",\"city\"] = \"서울\"\n",
        "df4.loc[df4[\"city\"]==\"용산구\",\"city\"] = \"서울\"\n",
        "df4.loc[df4[\"city\"]==\"광진구\",\"city\"] = \"서울\"\n",
        "\n",
        "df4.loc[df4[\"city\"]==\"광산구\",\"city\"] = \"광주\"\n",
        "df4.loc[(df4[\"state\"]==\"광주\")&(df4[\"city\"]==\"남구\"),\"city\"] = \"광주\"\n",
        "df4.loc[(df4[\"state\"]==\"광주\")&(df4[\"city\"]==\"북구\"),\"city\"] = \"광주\"\n",
        "df4.loc[(df4[\"state\"]==\"광주\")&(df4[\"city\"]==\"서구\"),\"city\"] = \"광주\"\n",
        "df4.loc[df4[\"city\"]==\"동구\",\"city\"] = \"광주\"\n",
        "df4.loc[(df4[\"state\"]==\"인천\")&(df4[\"city\"]==\"남구\"),\"city\"] = \"인천\"\n",
        "df4.loc[(df4[\"state\"]==\"인천\")&(df4[\"city\"]==\"서구\"),\"city\"] = \"인천\"\n",
        "df4.loc[df4[\"city\"]==\"미추홀\",\"city\"] = \"인천\"\n",
        "df4.loc[df4[\"city\"]==\"부평구\",\"city\"] = \"인천\"\n",
        "df4.loc[df4[\"city\"]==\"남동구\",\"city\"] = \"인천\"\n",
        "df4.loc[df4[\"city\"]==\"미추홀구\",\"city\"] = \"인천\"\n",
        "df4.loc[df4[\"city\"]==\"계양구\",\"city\"] = \"인천\"\n",
        "df4.loc[df4[\"city\"]==\"마산(고성,진해)\",\"city\"] = \"창원\"\n",
        "df4.loc[(df4[\"state\"]==\"부산\")&(df4[\"city\"]==\"북구\"),\"city\"] = \"부산\"\n",
        "df4.loc[df4[\"city\"]==\"오포\",\"city\"] = \"부산\"\n",
        "df4.loc[df4[\"city\"]==\"부산진\",\"city\"] = \"부산\"\n",
        "df4.loc[df4[\"city\"]==\"사상구\",\"city\"] = \"부산\"\n",
        "df4.loc[df4[\"city\"]==\"부산진구\",\"city\"] = \"부산\"\n",
        "df4.loc[df4[\"city\"]==\"북제주\",\"city\"] = \"제주\"\n",
        "df4.loc[df4[\"city\"]==\"남제주\",\"city\"] = \"제주\"\n",
        "\n",
        "# 해외\n",
        "## 아시아\n",
        "df4.loc[df4[\"city\"]==\"러\",\"city\"] = \"러시아\"\n",
        "df4.loc[df4[\"city\"]==\"말레이지아\",\"city\"] = \"말레이시아\"\n",
        "df4.loc[df4[\"city\"]==\"타이\",\"city\"] = \"태국\"\n",
        "df4.loc[df4[\"city\"]==\"인도네\",\"city\"] = \"인도네시아\"\n",
        "## 아메리카\n",
        "df4.loc[df4[\"city\"]==\"멕\",\"city\"] = \"멕시코\"\n",
        "## 아프리카\n",
        "df4.loc[df4[\"city\"]==\"남아공산\",\"city\"] = \"남아공\"\n",
        "## 유럽\n",
        "## 오세아니아"
      ]
    },
    {
      "cell_type": "code",
      "execution_count": 130,
      "metadata": {},
      "outputs": [
        {
          "data": {
            "text/html": [
              "<div>\n",
              "<style scoped>\n",
              "    .dataframe tbody tr th:only-of-type {\n",
              "        vertical-align: middle;\n",
              "    }\n",
              "\n",
              "    .dataframe tbody tr th {\n",
              "        vertical-align: top;\n",
              "    }\n",
              "\n",
              "    .dataframe thead th {\n",
              "        text-align: right;\n",
              "    }\n",
              "</style>\n",
              "<table border=\"1\" class=\"dataframe\">\n",
              "  <thead>\n",
              "    <tr style=\"text-align: right;\">\n",
              "      <th></th>\n",
              "      <th>prd</th>\n",
              "      <th>scale</th>\n",
              "      <th>price</th>\n",
              "      <th>origin</th>\n",
              "      <th>eco</th>\n",
              "      <th>reg_date</th>\n",
              "      <th>new_class</th>\n",
              "      <th>price_kg</th>\n",
              "      <th>state</th>\n",
              "      <th>city</th>\n",
              "    </tr>\n",
              "  </thead>\n",
              "  <tbody>\n",
              "  </tbody>\n",
              "</table>\n",
              "</div>"
            ],
            "text/plain": [
              "Empty DataFrame\n",
              "Columns: [prd, scale, price, origin, eco, reg_date, new_class, price_kg, state, city]\n",
              "Index: []"
            ]
          },
          "execution_count": 130,
          "metadata": {},
          "output_type": "execute_result"
        }
      ],
      "source": [
        "df4[df4[\"city\"]==\"완\"]"
      ]
    },
    {
      "cell_type": "code",
      "execution_count": 131,
      "metadata": {},
      "outputs": [
        {
          "data": {
            "text/plain": [
              "array(['우크라이나'], dtype=object)"
            ]
          },
          "execution_count": 131,
          "metadata": {},
          "output_type": "execute_result"
        }
      ],
      "source": [
        "# 기존 city 리스트와 비교\n",
        "ex_city = pd.read_csv(\"../cities.csv\")\n",
        "df4[~df4['city'].isin(ex_city['city'])]['city'].unique()"
      ]
    },
    {
      "cell_type": "code",
      "execution_count": 132,
      "metadata": {},
      "outputs": [
        {
          "name": "stderr",
          "output_type": "stream",
          "text": [
            "/var/folders/nq/s4zx76p53d11lnr0t1dxpxh00000gn/T/ipykernel_2444/1856950528.py:3: FutureWarning: The frame.append method is deprecated and will be removed from pandas in a future version. Use pandas.concat instead.\n",
            "  cities = ex_city.append(new_city,ignore_index=True)\n"
          ]
        }
      ],
      "source": [
        "# 리스트 최신화\n",
        "new_city = pd.DataFrame(df4['city'].unique(),columns=['city'])\n",
        "cities = ex_city.append(new_city,ignore_index=True)"
      ]
    },
    {
      "cell_type": "code",
      "execution_count": 133,
      "metadata": {},
      "outputs": [],
      "source": [
        "cities.drop(columns=['Unnamed: 0'],inplace=True)\n",
        "cities.drop_duplicates(inplace=True)\n",
        "cities.reset_index(inplace=True,drop=True)"
      ]
    },
    {
      "cell_type": "code",
      "execution_count": 134,
      "metadata": {},
      "outputs": [],
      "source": [
        "cities.to_csv('../cities.csv')"
      ]
    },
    {
      "cell_type": "code",
      "execution_count": 135,
      "metadata": {
        "id": "vi6fJirdV7Gz"
      },
      "outputs": [],
      "source": [
        "# 처리 완료하였으니 df4는 백업으로 두고 df5 활용\n",
        "df5 = df4.drop(columns='origin')"
      ]
    },
    {
      "cell_type": "markdown",
      "metadata": {
        "id": "CoWdniywxHwf"
      },
      "source": [
        "# 전처리 결과"
      ]
    },
    {
      "cell_type": "markdown",
      "metadata": {
        "id": "t709mbs6xMkS"
      },
      "source": [
        "# 파일 저장"
      ]
    },
    {
      "cell_type": "code",
      "execution_count": 137,
      "metadata": {
        "id": "tEfggl4M5rFG"
      },
      "outputs": [],
      "source": [
        "df5.to_csv('../data_proceed/202110_proceed.csv')"
      ]
    }
  ],
  "metadata": {
    "colab": {
      "collapsed_sections": [],
      "name": "pre_processing_2022_06.ipynb",
      "provenance": [],
      "toc_visible": true
    },
    "kernelspec": {
      "display_name": "Python 3.8.13 ('yds')",
      "language": "python",
      "name": "python3"
    },
    "language_info": {
      "codemirror_mode": {
        "name": "ipython",
        "version": 3
      },
      "file_extension": ".py",
      "mimetype": "text/x-python",
      "name": "python",
      "nbconvert_exporter": "python",
      "pygments_lexer": "ipython3",
      "version": "3.8.13"
    },
    "vscode": {
      "interpreter": {
        "hash": "edd2e1eeac16ba0124adb27271db416cf5b91db76e0734afe4505ea0738c76e5"
      }
    }
  },
  "nbformat": 4,
  "nbformat_minor": 0
}
