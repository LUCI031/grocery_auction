{
  "cells": [
    {
      "cell_type": "markdown",
      "metadata": {
        "id": "uhJXKN_71HKz"
      },
      "source": [
        "# 개요"
      ]
    },
    {
      "cell_type": "markdown",
      "metadata": {
        "id": "T02KSzGz1iMO"
      },
      "source": [
        "# Prepare"
      ]
    },
    {
      "cell_type": "markdown",
      "metadata": {
        "id": "bfqE9z4W1JQh"
      },
      "source": [
        "# 1. 초기 세팅"
      ]
    },
    {
      "cell_type": "markdown",
      "metadata": {
        "id": "fG4uSp2B1Ph7"
      },
      "source": [
        "## Library & data load"
      ]
    },
    {
      "cell_type": "code",
      "execution_count": 1,
      "metadata": {
        "id": "c2zXAOvOq96i"
      },
      "outputs": [],
      "source": [
        "import pandas as pd\n",
        "import numpy as np\n",
        "import matplotlib.pyplot as plt\n",
        "import seaborn as sns\n",
        "import re"
      ]
    },
    {
      "cell_type": "code",
      "execution_count": 2,
      "metadata": {
        "id": "N6-se2jYrHsw"
      },
      "outputs": [],
      "source": [
        "# 처리용 df와 오리지널 버전 남겨놓음\n",
        "df = pd.read_csv(\"/Users/luci031/Downloads/auction/data_origin/auction_202201.csv\",encoding='euc_kr')\n",
        "org_df = pd.read_csv(\"/Users/luci031/Downloads/auction/data_origin/auction_202201.csv\",encoding='euc_kr')"
      ]
    },
    {
      "cell_type": "markdown",
      "metadata": {
        "id": "yINECbV-4eRb"
      },
      "source": [
        "# Pre-Processing"
      ]
    },
    {
      "cell_type": "markdown",
      "metadata": {
        "id": "OJuFufVP2War"
      },
      "source": [
        "## Basic info"
      ]
    },
    {
      "cell_type": "code",
      "execution_count": 3,
      "metadata": {
        "colab": {
          "base_uri": "https://localhost:8080/",
          "height": 206
        },
        "id": "EE8feVlFr0To",
        "outputId": "cb918bf3-bd0b-4f09-fd92-73d8670996c9"
      },
      "outputs": [
        {
          "data": {
            "text/html": [
              "<div>\n",
              "<style scoped>\n",
              "    .dataframe tbody tr th:only-of-type {\n",
              "        vertical-align: middle;\n",
              "    }\n",
              "\n",
              "    .dataframe tbody tr th {\n",
              "        vertical-align: top;\n",
              "    }\n",
              "\n",
              "    .dataframe thead th {\n",
              "        text-align: right;\n",
              "    }\n",
              "</style>\n",
              "<table border=\"1\" class=\"dataframe\">\n",
              "  <thead>\n",
              "    <tr style=\"text-align: right;\">\n",
              "      <th></th>\n",
              "      <th>품목명</th>\n",
              "      <th>단위</th>\n",
              "      <th>등급</th>\n",
              "      <th>가격</th>\n",
              "      <th>산지</th>\n",
              "      <th>친환경구분</th>\n",
              "      <th>입력일</th>\n",
              "    </tr>\n",
              "  </thead>\n",
              "  <tbody>\n",
              "    <tr>\n",
              "      <th>0</th>\n",
              "      <td>[감귤]감귤(기타)</td>\n",
              "      <td>5kg</td>\n",
              "      <td>4등</td>\n",
              "      <td>5000</td>\n",
              "      <td>제주</td>\n",
              "      <td>일반</td>\n",
              "      <td>20220103</td>\n",
              "    </tr>\n",
              "    <tr>\n",
              "      <th>1</th>\n",
              "      <td>[감귤]감귤(기타)</td>\n",
              "      <td>5kg</td>\n",
              "      <td>6등</td>\n",
              "      <td>4500</td>\n",
              "      <td>제주</td>\n",
              "      <td>일반</td>\n",
              "      <td>20220103</td>\n",
              "    </tr>\n",
              "    <tr>\n",
              "      <th>2</th>\n",
              "      <td>[감귤]감귤(기타)</td>\n",
              "      <td>5kg</td>\n",
              "      <td>상(2등)</td>\n",
              "      <td>7000</td>\n",
              "      <td>제주특별자치도 서귀</td>\n",
              "      <td>일반</td>\n",
              "      <td>20220103</td>\n",
              "    </tr>\n",
              "    <tr>\n",
              "      <th>3</th>\n",
              "      <td>[감귤]감귤(기타)</td>\n",
              "      <td>5kg</td>\n",
              "      <td>특(1등)</td>\n",
              "      <td>5000</td>\n",
              "      <td>제주 서귀포시</td>\n",
              "      <td>일반</td>\n",
              "      <td>20220103</td>\n",
              "    </tr>\n",
              "    <tr>\n",
              "      <th>4</th>\n",
              "      <td>[감귤]감귤(기타)</td>\n",
              "      <td>5kg</td>\n",
              "      <td>6등</td>\n",
              "      <td>4500</td>\n",
              "      <td>제주</td>\n",
              "      <td>일반</td>\n",
              "      <td>20220103</td>\n",
              "    </tr>\n",
              "  </tbody>\n",
              "</table>\n",
              "</div>"
            ],
            "text/plain": [
              "          품목명   단위     등급    가격          산지 친환경구분       입력일\n",
              "0  [감귤]감귤(기타)  5kg     4등  5000          제주    일반  20220103\n",
              "1  [감귤]감귤(기타)  5kg     6등  4500          제주    일반  20220103\n",
              "2  [감귤]감귤(기타)  5kg  상(2등)  7000  제주특별자치도 서귀    일반  20220103\n",
              "3  [감귤]감귤(기타)  5kg  특(1등)  5000     제주 서귀포시    일반  20220103\n",
              "4  [감귤]감귤(기타)  5kg     6등  4500          제주    일반  20220103"
            ]
          },
          "execution_count": 3,
          "metadata": {},
          "output_type": "execute_result"
        }
      ],
      "source": [
        "df.head()"
      ]
    },
    {
      "cell_type": "code",
      "execution_count": 4,
      "metadata": {
        "colab": {
          "base_uri": "https://localhost:8080/"
        },
        "id": "Jf03xK1D1p5Z",
        "outputId": "7cc5158f-76c4-4ca6-e80a-cd60949c1049"
      },
      "outputs": [
        {
          "name": "stdout",
          "output_type": "stream",
          "text": [
            "<class 'pandas.core.frame.DataFrame'>\n",
            "RangeIndex: 850239 entries, 0 to 850238\n",
            "Data columns (total 7 columns):\n",
            " #   Column  Non-Null Count   Dtype \n",
            "---  ------  --------------   ----- \n",
            " 0   품목명     850239 non-null  object\n",
            " 1   단위      850239 non-null  object\n",
            " 2   등급      850239 non-null  object\n",
            " 3   가격      850239 non-null  int64 \n",
            " 4   산지      849038 non-null  object\n",
            " 5   친환경구분   850239 non-null  object\n",
            " 6   입력일     850239 non-null  int64 \n",
            "dtypes: int64(2), object(5)\n",
            "memory usage: 45.4+ MB\n"
          ]
        }
      ],
      "source": [
        "df.info()"
      ]
    },
    {
      "cell_type": "code",
      "execution_count": 5,
      "metadata": {
        "colab": {
          "base_uri": "https://localhost:8080/"
        },
        "id": "R3-Xng6M1om2",
        "outputId": "0071ee93-3ebe-436d-910b-aa30c7356468"
      },
      "outputs": [
        {
          "data": {
            "text/plain": [
              "품목명         0\n",
              "단위          0\n",
              "등급          0\n",
              "가격          0\n",
              "산지       1201\n",
              "친환경구분       0\n",
              "입력일         0\n",
              "dtype: int64"
            ]
          },
          "execution_count": 5,
          "metadata": {},
          "output_type": "execute_result"
        }
      ],
      "source": [
        "# 산지 제외하고는 결측치 없는 것으로 확인\n",
        "df.isnull().sum()"
      ]
    },
    {
      "cell_type": "markdown",
      "metadata": {
        "id": "KiwEMLgv-7KL"
      },
      "source": [
        "- 결측치 처리"
      ]
    },
    {
      "cell_type": "code",
      "execution_count": 6,
      "metadata": {
        "id": "y52OV6yt-60b"
      },
      "outputs": [],
      "source": [
        "###\n",
        "# 양이 많지 않으므로 결측치 제거\n",
        "df = df.dropna(axis=0)"
      ]
    },
    {
      "cell_type": "markdown",
      "metadata": {
        "id": "tWVdZUXv7njQ"
      },
      "source": [
        "- 영문명으로 전환"
      ]
    },
    {
      "cell_type": "code",
      "execution_count": 7,
      "metadata": {
        "id": "Cpc_wblh4oLI"
      },
      "outputs": [],
      "source": [
        "df = df.rename(columns = {'품목명':'prd',\n",
        "                          '단위':'scale','등급':'class',\n",
        "                          '가격':'price',\n",
        "                          '산지':'origin',\n",
        "                          '친환경구분':'eco',\n",
        "                          '입력일':'reg_date'})"
      ]
    },
    {
      "cell_type": "markdown",
      "metadata": {
        "id": "6raN15sn8XwE"
      },
      "source": [
        "## column 별 정보"
      ]
    },
    {
      "cell_type": "markdown",
      "metadata": {
        "id": "9blCj1BqBKl9"
      },
      "source": [
        "### class"
      ]
    },
    {
      "cell_type": "code",
      "execution_count": 8,
      "metadata": {
        "colab": {
          "base_uri": "https://localhost:8080/"
        },
        "id": "trRf-DfuBNBL",
        "outputId": "017ef00e-f7ca-476c-e44a-a847d4881695"
      },
      "outputs": [
        {
          "data": {
            "text/plain": [
              "Index(['특(1등)', '상(2등)', '보통(3등)', '9등(등외)', '없음', '4등', '5등', '6등', '7등',\n",
              "       '8등'],\n",
              "      dtype='object')"
            ]
          },
          "execution_count": 8,
          "metadata": {},
          "output_type": "execute_result"
        }
      ],
      "source": [
        "# 이름 모두 영어로 변경\n",
        "# 9등과 없음 모두 9로 변경\n",
        "df['class'].value_counts().index"
      ]
    },
    {
      "cell_type": "code",
      "execution_count": 9,
      "metadata": {
        "id": "Y9aTlhUSBfU9"
      },
      "outputs": [],
      "source": [
        "df111 = pd.DataFrame([['특(1등)', 1], ['상(2등)',2], ['보통(3등)',3], ['9등(등외)',9], ['없음',9], ['5등',5], ['4등',4], ['6등',6], ['7등',7],['8등',8]],columns=['class','new_class'])"
      ]
    },
    {
      "cell_type": "code",
      "execution_count": 10,
      "metadata": {
        "id": "N4LG6ClLC4II"
      },
      "outputs": [],
      "source": [
        "df2 = df.merge(df111)\n",
        "df2 = df2.drop(columns='class')"
      ]
    },
    {
      "cell_type": "code",
      "execution_count": 11,
      "metadata": {
        "colab": {
          "base_uri": "https://localhost:8080/",
          "height": 423
        },
        "id": "w_BncYpbDQGg",
        "outputId": "6482608e-5fcd-4b4d-b921-e720dec1a560"
      },
      "outputs": [
        {
          "data": {
            "text/html": [
              "<div>\n",
              "<style scoped>\n",
              "    .dataframe tbody tr th:only-of-type {\n",
              "        vertical-align: middle;\n",
              "    }\n",
              "\n",
              "    .dataframe tbody tr th {\n",
              "        vertical-align: top;\n",
              "    }\n",
              "\n",
              "    .dataframe thead th {\n",
              "        text-align: right;\n",
              "    }\n",
              "</style>\n",
              "<table border=\"1\" class=\"dataframe\">\n",
              "  <thead>\n",
              "    <tr style=\"text-align: right;\">\n",
              "      <th></th>\n",
              "      <th>prd</th>\n",
              "      <th>scale</th>\n",
              "      <th>price</th>\n",
              "      <th>origin</th>\n",
              "      <th>eco</th>\n",
              "      <th>reg_date</th>\n",
              "      <th>new_class</th>\n",
              "    </tr>\n",
              "  </thead>\n",
              "  <tbody>\n",
              "    <tr>\n",
              "      <th>0</th>\n",
              "      <td>[감귤]감귤(기타)</td>\n",
              "      <td>5kg</td>\n",
              "      <td>5000</td>\n",
              "      <td>제주</td>\n",
              "      <td>일반</td>\n",
              "      <td>20220103</td>\n",
              "      <td>4</td>\n",
              "    </tr>\n",
              "    <tr>\n",
              "      <th>1</th>\n",
              "      <td>[토마토]대저토마토</td>\n",
              "      <td>2.5kg</td>\n",
              "      <td>18000</td>\n",
              "      <td>경남 김해시</td>\n",
              "      <td>일반</td>\n",
              "      <td>20220103</td>\n",
              "      <td>4</td>\n",
              "    </tr>\n",
              "    <tr>\n",
              "      <th>2</th>\n",
              "      <td>[토마토]대저토마토</td>\n",
              "      <td>2.5kg</td>\n",
              "      <td>11000</td>\n",
              "      <td>경남 김해시</td>\n",
              "      <td>일반</td>\n",
              "      <td>20220103</td>\n",
              "      <td>4</td>\n",
              "    </tr>\n",
              "    <tr>\n",
              "      <th>3</th>\n",
              "      <td>[토마토]완숙토마토</td>\n",
              "      <td>5kg</td>\n",
              "      <td>12000</td>\n",
              "      <td>전남 화순군</td>\n",
              "      <td>일반</td>\n",
              "      <td>20220103</td>\n",
              "      <td>4</td>\n",
              "    </tr>\n",
              "    <tr>\n",
              "      <th>4</th>\n",
              "      <td>[토마토]완숙토마토</td>\n",
              "      <td>5kg</td>\n",
              "      <td>13000</td>\n",
              "      <td>전남 화순군</td>\n",
              "      <td>일반</td>\n",
              "      <td>20220103</td>\n",
              "      <td>4</td>\n",
              "    </tr>\n",
              "    <tr>\n",
              "      <th>...</th>\n",
              "      <td>...</td>\n",
              "      <td>...</td>\n",
              "      <td>...</td>\n",
              "      <td>...</td>\n",
              "      <td>...</td>\n",
              "      <td>...</td>\n",
              "      <td>...</td>\n",
              "    </tr>\n",
              "    <tr>\n",
              "      <th>849033</th>\n",
              "      <td>[토마토]대저토마토</td>\n",
              "      <td>2.5kg</td>\n",
              "      <td>4500</td>\n",
              "      <td>경남 김해시</td>\n",
              "      <td>일반</td>\n",
              "      <td>20220128</td>\n",
              "      <td>8</td>\n",
              "    </tr>\n",
              "    <tr>\n",
              "      <th>849034</th>\n",
              "      <td>[토마토]대저토마토</td>\n",
              "      <td>2.5kg</td>\n",
              "      <td>12000</td>\n",
              "      <td>부산 강서구</td>\n",
              "      <td>일반</td>\n",
              "      <td>20220129</td>\n",
              "      <td>8</td>\n",
              "    </tr>\n",
              "    <tr>\n",
              "      <th>849035</th>\n",
              "      <td>[토마토]대저토마토</td>\n",
              "      <td>2.5kg</td>\n",
              "      <td>9000</td>\n",
              "      <td>경남 김해시</td>\n",
              "      <td>일반</td>\n",
              "      <td>20220130</td>\n",
              "      <td>8</td>\n",
              "    </tr>\n",
              "    <tr>\n",
              "      <th>849036</th>\n",
              "      <td>[토마토]대저토마토</td>\n",
              "      <td>2.5kg</td>\n",
              "      <td>11000</td>\n",
              "      <td>부산 강서구</td>\n",
              "      <td>일반</td>\n",
              "      <td>20220130</td>\n",
              "      <td>8</td>\n",
              "    </tr>\n",
              "    <tr>\n",
              "      <th>849037</th>\n",
              "      <td>[토마토]대저토마토</td>\n",
              "      <td>2.5kg</td>\n",
              "      <td>4000</td>\n",
              "      <td>경남 김해시</td>\n",
              "      <td>일반</td>\n",
              "      <td>20220130</td>\n",
              "      <td>8</td>\n",
              "    </tr>\n",
              "  </tbody>\n",
              "</table>\n",
              "<p>849038 rows × 7 columns</p>\n",
              "</div>"
            ],
            "text/plain": [
              "               prd  scale  price  origin eco  reg_date  new_class\n",
              "0       [감귤]감귤(기타)    5kg   5000      제주  일반  20220103          4\n",
              "1       [토마토]대저토마토  2.5kg  18000  경남 김해시  일반  20220103          4\n",
              "2       [토마토]대저토마토  2.5kg  11000  경남 김해시  일반  20220103          4\n",
              "3       [토마토]완숙토마토    5kg  12000  전남 화순군  일반  20220103          4\n",
              "4       [토마토]완숙토마토    5kg  13000  전남 화순군  일반  20220103          4\n",
              "...            ...    ...    ...     ...  ..       ...        ...\n",
              "849033  [토마토]대저토마토  2.5kg   4500  경남 김해시  일반  20220128          8\n",
              "849034  [토마토]대저토마토  2.5kg  12000  부산 강서구  일반  20220129          8\n",
              "849035  [토마토]대저토마토  2.5kg   9000  경남 김해시  일반  20220130          8\n",
              "849036  [토마토]대저토마토  2.5kg  11000  부산 강서구  일반  20220130          8\n",
              "849037  [토마토]대저토마토  2.5kg   4000  경남 김해시  일반  20220130          8\n",
              "\n",
              "[849038 rows x 7 columns]"
            ]
          },
          "execution_count": 11,
          "metadata": {},
          "output_type": "execute_result"
        }
      ],
      "source": [
        "df2"
      ]
    },
    {
      "cell_type": "markdown",
      "metadata": {
        "id": "6QhhnXfKWiQL"
      },
      "source": [
        "### eco"
      ]
    },
    {
      "cell_type": "code",
      "execution_count": 12,
      "metadata": {
        "id": "XPNdAWmbWWjy"
      },
      "outputs": [],
      "source": [
        "# 영문명으로 전환\n",
        "# 전환기 -> 유기농 재배로 전환중\n",
        "df2.loc[df2[\"eco\"]==\"일반\",\"eco\"] = \"normal\"\n",
        "df2.loc[df2[\"eco\"]==\"우수농산물\",\"eco\"] = \"\bgood_prd\"\n",
        "df2.loc[df2[\"eco\"]==\"무농약\",\"eco\"] = \"\becofriendly\"\n",
        "df2.loc[df2[\"eco\"]==\"유기농\",\"eco\"] = \"organic\"\n",
        "df2.loc[df2[\"eco\"]==\"품질인증\",\"eco\"] = \"certified\"\n",
        "df2.loc[df2[\"eco\"]==\"전환기\",\"eco\"] = \"ing\""
      ]
    },
    {
      "cell_type": "code",
      "execution_count": 13,
      "metadata": {
        "colab": {
          "base_uri": "https://localhost:8080/",
          "height": 423
        },
        "id": "SFs64qIjYPqG",
        "outputId": "e1d18001-8e23-4db4-c367-d91e111bf6af"
      },
      "outputs": [
        {
          "data": {
            "text/html": [
              "<div>\n",
              "<style scoped>\n",
              "    .dataframe tbody tr th:only-of-type {\n",
              "        vertical-align: middle;\n",
              "    }\n",
              "\n",
              "    .dataframe tbody tr th {\n",
              "        vertical-align: top;\n",
              "    }\n",
              "\n",
              "    .dataframe thead th {\n",
              "        text-align: right;\n",
              "    }\n",
              "</style>\n",
              "<table border=\"1\" class=\"dataframe\">\n",
              "  <thead>\n",
              "    <tr style=\"text-align: right;\">\n",
              "      <th></th>\n",
              "      <th>prd</th>\n",
              "      <th>scale</th>\n",
              "      <th>price</th>\n",
              "      <th>origin</th>\n",
              "      <th>eco</th>\n",
              "      <th>reg_date</th>\n",
              "      <th>new_class</th>\n",
              "    </tr>\n",
              "  </thead>\n",
              "  <tbody>\n",
              "    <tr>\n",
              "      <th>0</th>\n",
              "      <td>[감귤]감귤(기타)</td>\n",
              "      <td>5kg</td>\n",
              "      <td>5000</td>\n",
              "      <td>제주</td>\n",
              "      <td>normal</td>\n",
              "      <td>20220103</td>\n",
              "      <td>4</td>\n",
              "    </tr>\n",
              "    <tr>\n",
              "      <th>1</th>\n",
              "      <td>[토마토]대저토마토</td>\n",
              "      <td>2.5kg</td>\n",
              "      <td>18000</td>\n",
              "      <td>경남 김해시</td>\n",
              "      <td>normal</td>\n",
              "      <td>20220103</td>\n",
              "      <td>4</td>\n",
              "    </tr>\n",
              "    <tr>\n",
              "      <th>2</th>\n",
              "      <td>[토마토]대저토마토</td>\n",
              "      <td>2.5kg</td>\n",
              "      <td>11000</td>\n",
              "      <td>경남 김해시</td>\n",
              "      <td>normal</td>\n",
              "      <td>20220103</td>\n",
              "      <td>4</td>\n",
              "    </tr>\n",
              "    <tr>\n",
              "      <th>3</th>\n",
              "      <td>[토마토]완숙토마토</td>\n",
              "      <td>5kg</td>\n",
              "      <td>12000</td>\n",
              "      <td>전남 화순군</td>\n",
              "      <td>normal</td>\n",
              "      <td>20220103</td>\n",
              "      <td>4</td>\n",
              "    </tr>\n",
              "    <tr>\n",
              "      <th>4</th>\n",
              "      <td>[토마토]완숙토마토</td>\n",
              "      <td>5kg</td>\n",
              "      <td>13000</td>\n",
              "      <td>전남 화순군</td>\n",
              "      <td>normal</td>\n",
              "      <td>20220103</td>\n",
              "      <td>4</td>\n",
              "    </tr>\n",
              "    <tr>\n",
              "      <th>...</th>\n",
              "      <td>...</td>\n",
              "      <td>...</td>\n",
              "      <td>...</td>\n",
              "      <td>...</td>\n",
              "      <td>...</td>\n",
              "      <td>...</td>\n",
              "      <td>...</td>\n",
              "    </tr>\n",
              "    <tr>\n",
              "      <th>849033</th>\n",
              "      <td>[토마토]대저토마토</td>\n",
              "      <td>2.5kg</td>\n",
              "      <td>4500</td>\n",
              "      <td>경남 김해시</td>\n",
              "      <td>normal</td>\n",
              "      <td>20220128</td>\n",
              "      <td>8</td>\n",
              "    </tr>\n",
              "    <tr>\n",
              "      <th>849034</th>\n",
              "      <td>[토마토]대저토마토</td>\n",
              "      <td>2.5kg</td>\n",
              "      <td>12000</td>\n",
              "      <td>부산 강서구</td>\n",
              "      <td>normal</td>\n",
              "      <td>20220129</td>\n",
              "      <td>8</td>\n",
              "    </tr>\n",
              "    <tr>\n",
              "      <th>849035</th>\n",
              "      <td>[토마토]대저토마토</td>\n",
              "      <td>2.5kg</td>\n",
              "      <td>9000</td>\n",
              "      <td>경남 김해시</td>\n",
              "      <td>normal</td>\n",
              "      <td>20220130</td>\n",
              "      <td>8</td>\n",
              "    </tr>\n",
              "    <tr>\n",
              "      <th>849036</th>\n",
              "      <td>[토마토]대저토마토</td>\n",
              "      <td>2.5kg</td>\n",
              "      <td>11000</td>\n",
              "      <td>부산 강서구</td>\n",
              "      <td>normal</td>\n",
              "      <td>20220130</td>\n",
              "      <td>8</td>\n",
              "    </tr>\n",
              "    <tr>\n",
              "      <th>849037</th>\n",
              "      <td>[토마토]대저토마토</td>\n",
              "      <td>2.5kg</td>\n",
              "      <td>4000</td>\n",
              "      <td>경남 김해시</td>\n",
              "      <td>normal</td>\n",
              "      <td>20220130</td>\n",
              "      <td>8</td>\n",
              "    </tr>\n",
              "  </tbody>\n",
              "</table>\n",
              "<p>849038 rows × 7 columns</p>\n",
              "</div>"
            ],
            "text/plain": [
              "               prd  scale  price  origin     eco  reg_date  new_class\n",
              "0       [감귤]감귤(기타)    5kg   5000      제주  normal  20220103          4\n",
              "1       [토마토]대저토마토  2.5kg  18000  경남 김해시  normal  20220103          4\n",
              "2       [토마토]대저토마토  2.5kg  11000  경남 김해시  normal  20220103          4\n",
              "3       [토마토]완숙토마토    5kg  12000  전남 화순군  normal  20220103          4\n",
              "4       [토마토]완숙토마토    5kg  13000  전남 화순군  normal  20220103          4\n",
              "...            ...    ...    ...     ...     ...       ...        ...\n",
              "849033  [토마토]대저토마토  2.5kg   4500  경남 김해시  normal  20220128          8\n",
              "849034  [토마토]대저토마토  2.5kg  12000  부산 강서구  normal  20220129          8\n",
              "849035  [토마토]대저토마토  2.5kg   9000  경남 김해시  normal  20220130          8\n",
              "849036  [토마토]대저토마토  2.5kg  11000  부산 강서구  normal  20220130          8\n",
              "849037  [토마토]대저토마토  2.5kg   4000  경남 김해시  normal  20220130          8\n",
              "\n",
              "[849038 rows x 7 columns]"
            ]
          },
          "execution_count": 13,
          "metadata": {},
          "output_type": "execute_result"
        }
      ],
      "source": [
        "df2"
      ]
    },
    {
      "cell_type": "markdown",
      "metadata": {
        "id": "ffhjwT57YNLh"
      },
      "source": [
        "### reg_date"
      ]
    },
    {
      "cell_type": "code",
      "execution_count": 14,
      "metadata": {
        "id": "0xEJoswCYUiR"
      },
      "outputs": [],
      "source": [
        "df2['reg_date'] = df2['reg_date'].astype('str')"
      ]
    },
    {
      "cell_type": "code",
      "execution_count": 15,
      "metadata": {
        "id": "7eMsOdHaqa7H"
      },
      "outputs": [],
      "source": [
        "df2['reg_date'] = pd.to_datetime(df2['reg_date'].astype('str'),format='%Y%m%d')"
      ]
    },
    {
      "cell_type": "code",
      "execution_count": 16,
      "metadata": {
        "colab": {
          "base_uri": "https://localhost:8080/",
          "height": 423
        },
        "id": "4OJlA07go6Vm",
        "outputId": "775611cd-2a30-4603-90e5-ac782aea1678"
      },
      "outputs": [
        {
          "data": {
            "text/html": [
              "<div>\n",
              "<style scoped>\n",
              "    .dataframe tbody tr th:only-of-type {\n",
              "        vertical-align: middle;\n",
              "    }\n",
              "\n",
              "    .dataframe tbody tr th {\n",
              "        vertical-align: top;\n",
              "    }\n",
              "\n",
              "    .dataframe thead th {\n",
              "        text-align: right;\n",
              "    }\n",
              "</style>\n",
              "<table border=\"1\" class=\"dataframe\">\n",
              "  <thead>\n",
              "    <tr style=\"text-align: right;\">\n",
              "      <th></th>\n",
              "      <th>prd</th>\n",
              "      <th>scale</th>\n",
              "      <th>price</th>\n",
              "      <th>origin</th>\n",
              "      <th>eco</th>\n",
              "      <th>reg_date</th>\n",
              "      <th>new_class</th>\n",
              "    </tr>\n",
              "  </thead>\n",
              "  <tbody>\n",
              "    <tr>\n",
              "      <th>0</th>\n",
              "      <td>[감귤]감귤(기타)</td>\n",
              "      <td>5kg</td>\n",
              "      <td>5000</td>\n",
              "      <td>제주</td>\n",
              "      <td>normal</td>\n",
              "      <td>2022-01-03</td>\n",
              "      <td>4</td>\n",
              "    </tr>\n",
              "    <tr>\n",
              "      <th>1</th>\n",
              "      <td>[토마토]대저토마토</td>\n",
              "      <td>2.5kg</td>\n",
              "      <td>18000</td>\n",
              "      <td>경남 김해시</td>\n",
              "      <td>normal</td>\n",
              "      <td>2022-01-03</td>\n",
              "      <td>4</td>\n",
              "    </tr>\n",
              "    <tr>\n",
              "      <th>2</th>\n",
              "      <td>[토마토]대저토마토</td>\n",
              "      <td>2.5kg</td>\n",
              "      <td>11000</td>\n",
              "      <td>경남 김해시</td>\n",
              "      <td>normal</td>\n",
              "      <td>2022-01-03</td>\n",
              "      <td>4</td>\n",
              "    </tr>\n",
              "    <tr>\n",
              "      <th>3</th>\n",
              "      <td>[토마토]완숙토마토</td>\n",
              "      <td>5kg</td>\n",
              "      <td>12000</td>\n",
              "      <td>전남 화순군</td>\n",
              "      <td>normal</td>\n",
              "      <td>2022-01-03</td>\n",
              "      <td>4</td>\n",
              "    </tr>\n",
              "    <tr>\n",
              "      <th>4</th>\n",
              "      <td>[토마토]완숙토마토</td>\n",
              "      <td>5kg</td>\n",
              "      <td>13000</td>\n",
              "      <td>전남 화순군</td>\n",
              "      <td>normal</td>\n",
              "      <td>2022-01-03</td>\n",
              "      <td>4</td>\n",
              "    </tr>\n",
              "    <tr>\n",
              "      <th>...</th>\n",
              "      <td>...</td>\n",
              "      <td>...</td>\n",
              "      <td>...</td>\n",
              "      <td>...</td>\n",
              "      <td>...</td>\n",
              "      <td>...</td>\n",
              "      <td>...</td>\n",
              "    </tr>\n",
              "    <tr>\n",
              "      <th>849033</th>\n",
              "      <td>[토마토]대저토마토</td>\n",
              "      <td>2.5kg</td>\n",
              "      <td>4500</td>\n",
              "      <td>경남 김해시</td>\n",
              "      <td>normal</td>\n",
              "      <td>2022-01-28</td>\n",
              "      <td>8</td>\n",
              "    </tr>\n",
              "    <tr>\n",
              "      <th>849034</th>\n",
              "      <td>[토마토]대저토마토</td>\n",
              "      <td>2.5kg</td>\n",
              "      <td>12000</td>\n",
              "      <td>부산 강서구</td>\n",
              "      <td>normal</td>\n",
              "      <td>2022-01-29</td>\n",
              "      <td>8</td>\n",
              "    </tr>\n",
              "    <tr>\n",
              "      <th>849035</th>\n",
              "      <td>[토마토]대저토마토</td>\n",
              "      <td>2.5kg</td>\n",
              "      <td>9000</td>\n",
              "      <td>경남 김해시</td>\n",
              "      <td>normal</td>\n",
              "      <td>2022-01-30</td>\n",
              "      <td>8</td>\n",
              "    </tr>\n",
              "    <tr>\n",
              "      <th>849036</th>\n",
              "      <td>[토마토]대저토마토</td>\n",
              "      <td>2.5kg</td>\n",
              "      <td>11000</td>\n",
              "      <td>부산 강서구</td>\n",
              "      <td>normal</td>\n",
              "      <td>2022-01-30</td>\n",
              "      <td>8</td>\n",
              "    </tr>\n",
              "    <tr>\n",
              "      <th>849037</th>\n",
              "      <td>[토마토]대저토마토</td>\n",
              "      <td>2.5kg</td>\n",
              "      <td>4000</td>\n",
              "      <td>경남 김해시</td>\n",
              "      <td>normal</td>\n",
              "      <td>2022-01-30</td>\n",
              "      <td>8</td>\n",
              "    </tr>\n",
              "  </tbody>\n",
              "</table>\n",
              "<p>849038 rows × 7 columns</p>\n",
              "</div>"
            ],
            "text/plain": [
              "               prd  scale  price  origin     eco   reg_date  new_class\n",
              "0       [감귤]감귤(기타)    5kg   5000      제주  normal 2022-01-03          4\n",
              "1       [토마토]대저토마토  2.5kg  18000  경남 김해시  normal 2022-01-03          4\n",
              "2       [토마토]대저토마토  2.5kg  11000  경남 김해시  normal 2022-01-03          4\n",
              "3       [토마토]완숙토마토    5kg  12000  전남 화순군  normal 2022-01-03          4\n",
              "4       [토마토]완숙토마토    5kg  13000  전남 화순군  normal 2022-01-03          4\n",
              "...            ...    ...    ...     ...     ...        ...        ...\n",
              "849033  [토마토]대저토마토  2.5kg   4500  경남 김해시  normal 2022-01-28          8\n",
              "849034  [토마토]대저토마토  2.5kg  12000  부산 강서구  normal 2022-01-29          8\n",
              "849035  [토마토]대저토마토  2.5kg   9000  경남 김해시  normal 2022-01-30          8\n",
              "849036  [토마토]대저토마토  2.5kg  11000  부산 강서구  normal 2022-01-30          8\n",
              "849037  [토마토]대저토마토  2.5kg   4000  경남 김해시  normal 2022-01-30          8\n",
              "\n",
              "[849038 rows x 7 columns]"
            ]
          },
          "execution_count": 16,
          "metadata": {},
          "output_type": "execute_result"
        }
      ],
      "source": [
        "df2"
      ]
    },
    {
      "cell_type": "markdown",
      "metadata": {
        "id": "VN8Eana_Dbbl"
      },
      "source": [
        "### price"
      ]
    },
    {
      "cell_type": "code",
      "execution_count": 17,
      "metadata": {
        "id": "oZbejw0vewmJ"
      },
      "outputs": [],
      "source": [
        "# 계산을 위해 scale 값 미리 변경\n",
        "# 현재 값들은 string이므로 float 형태로 변환할 필요가 있음\n",
        "# 몇몇 이상치 처리도 진행\n",
        "def scale_checker(scale):\n",
        "  if scale.startswith('.')==True:\n",
        "    return format(float('0'+scale[:-2]),'.2f')\n",
        "  else:\n",
        "    return format(float((scale[:-2])),'.2f')\n",
        "df2['scale'] = df2['scale'].apply(scale_checker)\n",
        "df2['scale'] = df2['scale'].astype('float')\n",
        "# df2['scale'] = format(round(df2['scale'].apply(pd.to_numeric),2),'.2f')"
      ]
    },
    {
      "cell_type": "code",
      "execution_count": 18,
      "metadata": {},
      "outputs": [
        {
          "data": {
            "text/plain": [
              "array([5.000e+00, 2.500e+00, 3.000e+00, 1.000e+01, 8.000e+00, 6.000e+00,\n",
              "       2.000e+00, 1.200e+01, 5.000e-01, 1.000e+00, 2.000e+01, 1.800e+01,\n",
              "       9.000e+00, 1.500e+01, 4.000e+00, 1.500e+00, 2.700e+00, 1.400e+01,\n",
              "       1.100e+01, 1.300e+01, 7.000e+00, 3.500e+00, 8.500e+00, 1.600e+01,\n",
              "       1.600e-01, 2.500e-01, 2.000e-01, 5.010e+00, 1.050e+01, 2.240e+01,\n",
              "       1.450e+01, 4.000e-01, 3.700e+00, 1.250e+01, 2.800e+01, 1.350e+01,\n",
              "       6.500e+00, 3.600e+00, 2.500e+01, 3.800e+00, 5.400e+00, 2.400e+01,\n",
              "       7.500e+00, 2.430e+01, 1.160e+01, 4.100e+00, 1.620e+01, 2.900e+00,\n",
              "       1.180e+01, 4.230e+01, 1.500e-01, 1.600e+00, 9.300e+00, 1.071e+02,\n",
              "       4.600e+00, 3.800e+01, 9.500e+00, 3.060e+01, 5.500e+00, 1.150e+01,\n",
              "       2.400e+00, 8.100e+01, 8.700e+01, 7.900e+00, 7.500e+01, 4.500e+00,\n",
              "       3.200e+00, 1.840e+01, 5.600e+00, 2.160e+01, 8.300e+01, 6.400e+00,\n",
              "       4.900e+00, 5.000e-02, 8.000e-01, 3.000e-01, 7.000e-01, 5.200e+00,\n",
              "       8.600e+00, 8.200e+00, 1.800e+00, 7.300e+00, 6.900e+00, 2.100e+00,\n",
              "       2.100e+01, 5.700e+00, 3.900e+01, 6.300e-01, 5.800e+00, 1.040e+01,\n",
              "       9.800e+00, 1.650e+01, 1.000e-01, 1.700e+01, 1.900e+01, 1.200e+00,\n",
              "       1.680e+01, 1.120e+01, 1.280e+01, 9.600e+00, 1.960e+01, 1.750e+01,\n",
              "       1.530e+01, 1.550e+01, 1.375e+01, 1.125e+01, 9.000e-01, 1.440e+01,\n",
              "       6.000e-01, 1.010e+00, 1.000e-02, 6.000e-02, 1.001e+01, 8.000e-02,\n",
              "       7.000e-02, 2.200e+01, 7.500e-01, 3.000e+01, 1.000e+04, 2.300e+01,\n",
              "       1.300e+00, 2.600e+01, 4.800e+00, 7.600e+00, 2.800e+00, 3.200e+01,\n",
              "       1.370e+01, 1.340e+01, 1.320e+01, 3.000e-02, 8.010e+00, 4.400e+00,\n",
              "       3.300e+00, 5.900e+00, 6.700e+00, 3.100e+00, 1.200e+02, 3.500e+01,\n",
              "       2.300e+00, 1.560e+01, 6.800e+00, 5.900e-01, 1.200e-01, 1.700e-01,\n",
              "       8.800e+00, 1.720e+01, 1.100e+00, 2.600e+00, 1.170e+01, 1.890e+01,\n",
              "       2.200e+00, 2.220e+01, 1.610e+01, 1.260e+01, 8.400e+00, 1.080e+01,\n",
              "       7.700e+00, 1.400e+00, 1.700e+00, 6.200e+00, 1.900e+00, 5.300e+00,\n",
              "       4.700e+00, 3.400e+00, 2.010e+00, 1.100e+02, 1.980e+01, 1.740e+01,\n",
              "       4.300e+00, 8.700e+00, 3.690e+01, 1.480e+00, 7.200e+00, 8.100e+00,\n",
              "       9.100e+00, 2.080e+01, 2.170e+01, 1.225e+01, 3.500e-01, 4.200e+00,\n",
              "       7.800e+00, 2.700e+01, 7.250e+00, 1.580e+01, 6.550e+01, 6.750e+01,\n",
              "       6.800e+01, 6.700e+01, 4.450e+01, 4.850e+01, 5.250e+01, 3.300e+01,\n",
              "       2.900e+01, 3.100e+01, 1.820e+01, 1.470e+01, 1.540e+01, 1.590e+01,\n",
              "       2.310e+00, 8.300e+00, 1.615e+01, 3.870e+01, 1.570e+01, 5.100e+00,\n",
              "       2.250e+01, 1.920e+01, 9.200e+00, 5.100e+01, 3.900e+00, 8.050e+01,\n",
              "       7.700e+01, 7.900e+01, 3.400e+01, 3.240e+01, 4.200e+01, 5.600e-01,\n",
              "       4.000e+01, 1.723e+01, 1.950e+01, 7.100e+00, 2.050e+01, 3.330e+01,\n",
              "       1.290e+01, 2.880e+01, 4.680e+01, 1.880e+01, 1.725e+01, 6.300e+00,\n",
              "       2.010e+02, 5.200e-01, 2.750e+01, 6.600e+00, 1.190e+01, 1.230e+01,\n",
              "       3.150e+01, 1.270e+01, 1.390e+01, 5.000e+01, 1.020e+01, 2.040e+01,\n",
              "       2.450e+01, 2.940e+01, 1.024e+01, 7.400e+00, 1.010e+02, 2.150e+01,\n",
              "       1.550e+02, 3.600e+01, 6.050e+01, 6.500e+01, 7.200e+01, 4.050e+01,\n",
              "       2.350e+01, 7.300e+01, 2.550e+01, 7.850e+01, 8.000e+01, 2.320e+01,\n",
              "       1.078e+01, 1.890e+00, 5.700e+01, 6.300e+01, 3.350e+01])"
            ]
          },
          "execution_count": 18,
          "metadata": {},
          "output_type": "execute_result"
        }
      ],
      "source": [
        "df2['scale'].unique()"
      ]
    },
    {
      "cell_type": "code",
      "execution_count": 19,
      "metadata": {
        "colab": {
          "base_uri": "https://localhost:8080/"
        },
        "id": "S_OXk_iDDaxM",
        "outputId": "df40b3b5-b8d5-4609-b1d1-d940826ff6bf"
      },
      "outputs": [
        {
          "data": {
            "text/plain": [
              "count     849038.00000\n",
              "mean       29663.49695\n",
              "std        56985.79607\n",
              "min           30.00000\n",
              "25%        11000.00000\n",
              "50%        21000.00000\n",
              "75%        35500.00000\n",
              "max     29699100.00000\n",
              "Name: price, dtype: float64"
            ]
          },
          "execution_count": 19,
          "metadata": {},
          "output_type": "execute_result"
        }
      ],
      "source": [
        "# 1원짜리 거래 발견, 너무 거래값이 작은 값들은 삭제\n",
        "pd.options.display.float_format = '{:.5f}'.format\n",
        "df2['price'].describe()"
      ]
    },
    {
      "cell_type": "code",
      "execution_count": 20,
      "metadata": {
        "id": "PQrLwgHPVsHs"
      },
      "outputs": [],
      "source": [
        "df2 = df2.drop(df2[df2['price']<500].index)"
      ]
    },
    {
      "cell_type": "code",
      "execution_count": 21,
      "metadata": {
        "colab": {
          "base_uri": "https://localhost:8080/",
          "height": 423
        },
        "id": "h8uaY01ADasA",
        "outputId": "228f08e1-3d13-41cf-ae61-c672904e5fc6"
      },
      "outputs": [
        {
          "data": {
            "text/html": [
              "<div>\n",
              "<style scoped>\n",
              "    .dataframe tbody tr th:only-of-type {\n",
              "        vertical-align: middle;\n",
              "    }\n",
              "\n",
              "    .dataframe tbody tr th {\n",
              "        vertical-align: top;\n",
              "    }\n",
              "\n",
              "    .dataframe thead th {\n",
              "        text-align: right;\n",
              "    }\n",
              "</style>\n",
              "<table border=\"1\" class=\"dataframe\">\n",
              "  <thead>\n",
              "    <tr style=\"text-align: right;\">\n",
              "      <th></th>\n",
              "      <th>prd</th>\n",
              "      <th>scale</th>\n",
              "      <th>price</th>\n",
              "      <th>origin</th>\n",
              "      <th>eco</th>\n",
              "      <th>reg_date</th>\n",
              "      <th>new_class</th>\n",
              "    </tr>\n",
              "  </thead>\n",
              "  <tbody>\n",
              "    <tr>\n",
              "      <th>0</th>\n",
              "      <td>[감귤]감귤(기타)</td>\n",
              "      <td>5.00000</td>\n",
              "      <td>5000</td>\n",
              "      <td>제주</td>\n",
              "      <td>normal</td>\n",
              "      <td>2022-01-03</td>\n",
              "      <td>4</td>\n",
              "    </tr>\n",
              "    <tr>\n",
              "      <th>1</th>\n",
              "      <td>[토마토]대저토마토</td>\n",
              "      <td>2.50000</td>\n",
              "      <td>18000</td>\n",
              "      <td>경남 김해시</td>\n",
              "      <td>normal</td>\n",
              "      <td>2022-01-03</td>\n",
              "      <td>4</td>\n",
              "    </tr>\n",
              "    <tr>\n",
              "      <th>2</th>\n",
              "      <td>[토마토]대저토마토</td>\n",
              "      <td>2.50000</td>\n",
              "      <td>11000</td>\n",
              "      <td>경남 김해시</td>\n",
              "      <td>normal</td>\n",
              "      <td>2022-01-03</td>\n",
              "      <td>4</td>\n",
              "    </tr>\n",
              "    <tr>\n",
              "      <th>3</th>\n",
              "      <td>[토마토]완숙토마토</td>\n",
              "      <td>5.00000</td>\n",
              "      <td>12000</td>\n",
              "      <td>전남 화순군</td>\n",
              "      <td>normal</td>\n",
              "      <td>2022-01-03</td>\n",
              "      <td>4</td>\n",
              "    </tr>\n",
              "    <tr>\n",
              "      <th>4</th>\n",
              "      <td>[토마토]완숙토마토</td>\n",
              "      <td>5.00000</td>\n",
              "      <td>13000</td>\n",
              "      <td>전남 화순군</td>\n",
              "      <td>normal</td>\n",
              "      <td>2022-01-03</td>\n",
              "      <td>4</td>\n",
              "    </tr>\n",
              "    <tr>\n",
              "      <th>...</th>\n",
              "      <td>...</td>\n",
              "      <td>...</td>\n",
              "      <td>...</td>\n",
              "      <td>...</td>\n",
              "      <td>...</td>\n",
              "      <td>...</td>\n",
              "      <td>...</td>\n",
              "    </tr>\n",
              "    <tr>\n",
              "      <th>849033</th>\n",
              "      <td>[토마토]대저토마토</td>\n",
              "      <td>2.50000</td>\n",
              "      <td>4500</td>\n",
              "      <td>경남 김해시</td>\n",
              "      <td>normal</td>\n",
              "      <td>2022-01-28</td>\n",
              "      <td>8</td>\n",
              "    </tr>\n",
              "    <tr>\n",
              "      <th>849034</th>\n",
              "      <td>[토마토]대저토마토</td>\n",
              "      <td>2.50000</td>\n",
              "      <td>12000</td>\n",
              "      <td>부산 강서구</td>\n",
              "      <td>normal</td>\n",
              "      <td>2022-01-29</td>\n",
              "      <td>8</td>\n",
              "    </tr>\n",
              "    <tr>\n",
              "      <th>849035</th>\n",
              "      <td>[토마토]대저토마토</td>\n",
              "      <td>2.50000</td>\n",
              "      <td>9000</td>\n",
              "      <td>경남 김해시</td>\n",
              "      <td>normal</td>\n",
              "      <td>2022-01-30</td>\n",
              "      <td>8</td>\n",
              "    </tr>\n",
              "    <tr>\n",
              "      <th>849036</th>\n",
              "      <td>[토마토]대저토마토</td>\n",
              "      <td>2.50000</td>\n",
              "      <td>11000</td>\n",
              "      <td>부산 강서구</td>\n",
              "      <td>normal</td>\n",
              "      <td>2022-01-30</td>\n",
              "      <td>8</td>\n",
              "    </tr>\n",
              "    <tr>\n",
              "      <th>849037</th>\n",
              "      <td>[토마토]대저토마토</td>\n",
              "      <td>2.50000</td>\n",
              "      <td>4000</td>\n",
              "      <td>경남 김해시</td>\n",
              "      <td>normal</td>\n",
              "      <td>2022-01-30</td>\n",
              "      <td>8</td>\n",
              "    </tr>\n",
              "  </tbody>\n",
              "</table>\n",
              "<p>848640 rows × 7 columns</p>\n",
              "</div>"
            ],
            "text/plain": [
              "               prd   scale  price  origin     eco   reg_date  new_class\n",
              "0       [감귤]감귤(기타) 5.00000   5000      제주  normal 2022-01-03          4\n",
              "1       [토마토]대저토마토 2.50000  18000  경남 김해시  normal 2022-01-03          4\n",
              "2       [토마토]대저토마토 2.50000  11000  경남 김해시  normal 2022-01-03          4\n",
              "3       [토마토]완숙토마토 5.00000  12000  전남 화순군  normal 2022-01-03          4\n",
              "4       [토마토]완숙토마토 5.00000  13000  전남 화순군  normal 2022-01-03          4\n",
              "...            ...     ...    ...     ...     ...        ...        ...\n",
              "849033  [토마토]대저토마토 2.50000   4500  경남 김해시  normal 2022-01-28          8\n",
              "849034  [토마토]대저토마토 2.50000  12000  부산 강서구  normal 2022-01-29          8\n",
              "849035  [토마토]대저토마토 2.50000   9000  경남 김해시  normal 2022-01-30          8\n",
              "849036  [토마토]대저토마토 2.50000  11000  부산 강서구  normal 2022-01-30          8\n",
              "849037  [토마토]대저토마토 2.50000   4000  경남 김해시  normal 2022-01-30          8\n",
              "\n",
              "[848640 rows x 7 columns]"
            ]
          },
          "execution_count": 21,
          "metadata": {},
          "output_type": "execute_result"
        }
      ],
      "source": [
        "df2"
      ]
    },
    {
      "cell_type": "code",
      "execution_count": 22,
      "metadata": {
        "id": "13Js-KtTBZB5"
      },
      "outputs": [],
      "source": [
        "# kg 당 가격 생성\n",
        "\n",
        "df2['price_kg'] = round((df2['price']/df2['scale']),2)"
      ]
    },
    {
      "cell_type": "markdown",
      "metadata": {
        "id": "FJ4jjRUQ8cB3"
      },
      "source": [
        "### prd\n",
        "- 품목명 정리\n",
        "- 품목 종류 정리"
      ]
    },
    {
      "cell_type": "code",
      "execution_count": 23,
      "metadata": {
        "colab": {
          "base_uri": "https://localhost:8080/"
        },
        "id": "pymqNuDt8qqS",
        "outputId": "1506a365-b491-4b16-f40f-4d63980bc22f"
      },
      "outputs": [
        {
          "data": {
            "text/plain": [
              "[딸기]설향                37059\n",
              "[딸기]설향(딸기)            31607\n",
              "[오이]백다다기              18470\n",
              "[시금치]시금치              16477\n",
              "[깻잎]깻잎                15515\n",
              "                      ...  \n",
              "[양파]양파(수입)                1\n",
              "[고구마순(줄기)]고구마순(일반)        1\n",
              "[기타수산동물수입]기타수산동물수입        1\n",
              "[절단 쭈꾸미수입]절단 쭈꾸미수입        1\n",
              "[상추]상추(적상추)               1\n",
              "Name: prd, Length: 1198, dtype: int64"
            ]
          },
          "execution_count": 23,
          "metadata": {},
          "output_type": "execute_result"
        }
      ],
      "source": [
        "# 대부분 [상품 종류]상품명 으로 정리되어 있는걸 알 수 있음\n",
        "df2['prd'].value_counts()"
      ]
    },
    {
      "cell_type": "code",
      "execution_count": 24,
      "metadata": {
        "id": "EKmhi36getHp"
      },
      "outputs": [],
      "source": [
        "# 정리를 위해 상품명 삭제\n",
        "def prd_sort(words):\n",
        "  p = re.compile('[ㄱ-힣]+')\n",
        "  word = re.search(p,words)\n",
        "  return word.group()\n",
        "\n",
        "df2['prd'] = df2['prd'].apply(prd_sort)"
      ]
    },
    {
      "cell_type": "code",
      "execution_count": 25,
      "metadata": {
        "id": "mlsCXSXMekGg"
      },
      "outputs": [],
      "source": [
        "# 기타 품목 삭제\n",
        "df2 = df2.drop(df2[df2['prd']=='기타'].index)"
      ]
    },
    {
      "cell_type": "code",
      "execution_count": 26,
      "metadata": {
        "id": "fZ8b4ETrDv5n"
      },
      "outputs": [],
      "source": [
        "# 국산,수입산,깐,기타 삭제\n",
        "def prd_sort2(words):\n",
        "  p = re.compile('[^국산수입깐기타]+')\n",
        "  word = re.search(p,str(words))\n",
        "  return word.group()\n",
        "\n",
        "df2[\"prd\"] = df2[\"prd\"].apply(prd_sort2)\n"
      ]
    },
    {
      "cell_type": "code",
      "execution_count": 27,
      "metadata": {
        "colab": {
          "base_uri": "https://localhost:8080/"
        },
        "id": "0UO78EhtVlgj",
        "outputId": "08424baf-f96a-4573-d9fc-c6f751228e63"
      },
      "outputs": [
        {
          "name": "stdout",
          "output_type": "stream",
          "text": [
            "가리비 \n",
            "가물치 가오리 가오리채 가자미 가지 각굴 갈치 감 감귤 감말랭이 감자 갑오징어 갓 개조개 건고추 \n",
            "건채류 게 게지 겨자 고 고구마 고구마순 고둥 고등어 고사리 고추 곤달비 골뱅이 곶감 과실류 \n",
            "과일 과일류 과채류 굴 귤 그레이프푸룻 근대 근채류 금감 김 깻잎 꼬막 꼴뚜 꽁치 꽈리고추 \n",
            "낙지 냉이 넙치 논우렁이 농어 눈볼대 느 다래 단감 달래 닭새우 당귀 당근 대구 대구머리 \n",
            "대구포 대추 대파 대하 더덕 덟은감 도다리 도라지 돗나물 동물 동자개 동죽 두류 두릅 두리안 \n",
            "딸 땅콩 떫은감 라임 람부탄 레몬 리치 마 마늘 만가닥 만감 맛 망고 매생이 머위대 \n",
            "메 메론 명태 명태곤니 명태알 명태포 모시조개 모자반 무 무순 무우 무청 무화과 문어 문어바지락 \n",
            "미꾸라지 미나리 미더덕 미역 민들레 민물새우 민어 바나나 바지락 박 밤 방울토마토 방풍 방풍나물 배 \n",
            "배추 백새우 백합 뱀장어 버섯 버섯류 버찌 벗 병어 보리 볼락 봄동 봄동배추 봉지굴 부세 \n",
            "부지갱이 부추 붉은고추 붕어 붕장어 브로커리 브로코리 블루베리 비트 빈스 빨간양배추 사과 삼 삼치 상추 \n",
            "새꼬막 새송이 새싹 새우 새우살 새조개 샐러리 생강 생고추 서대 석류 세러리 세트 셀러리 소라 \n",
            "속새 숙주나물 숫꽃게 시금치 쌈채류 쑥갓 씀바귀 아귀 아로니아 아보카도 아보카드 아스파라거스 아욱 알 알배 \n",
            "야콘 양배추 양상추 양송이 양채 양채류 양파 얼갈이 얼갈이배추 연근 연어 열무 염고등어 엽경채류 엽채 \n",
            "엽채류 오렌지 오만둥이 오이 오징어 오징어몸통 오징어원양 오징어채 완두콩 용과 우렁 우렁쉥이 우렁이 우뭇가시리 유채 \n",
            "은어 은행 임연 잉어 자라 자몽 재첩 적근대 적새우 적채 전복 절단 절단낙지 젓새우 중하 \n",
            "쪽파 쭈꾸미 참나물 참다래 참돔 참외 참조 채소 청경채 청어 체리 총각무 취나물 치커리 칠게 \n",
            "칼라후라워 칼리플라워 칼리후라워 케일 코다리명태 코라비 코코넛 콜라비 콩 콩나물 키위 키조개 키조개꼭지 키조개날개 토란 \n",
            "토마토 톳 파 파래 파래김 파세리 파인애플 파프리카 팥 팽이 팽이버섯 포도 포장바지락 표고 표고버섯 \n",
            "풋고추 피망 피조개 해삼 해파리 향나물 향어 호박 홍고추 홍어 홍합 활복오징어 "
          ]
        }
      ],
      "source": [
        "# 몇몇 품목들 정리가 필요\n",
        "a = sorted(df2['prd'].unique())\n",
        "for i in range(len(a)):\n",
        "  if i%15 != 0:\n",
        "    print(a[i],end=' ')\n",
        "  else:\n",
        "    print(a[i],end=' ')\n",
        "    print()"
      ]
    },
    {
      "cell_type": "code",
      "execution_count": 28,
      "metadata": {
        "id": "M2625eg87yCq"
      },
      "outputs": [],
      "source": [
        "### 예시\n",
        "# df2[(df2['prd']=='유채') & (df2['price']==4500)]['prd'].unique()\n",
        "# df2[df2['prd']=='유채']['prd'].unique()"
      ]
    },
    {
      "cell_type": "code",
      "execution_count": 29,
      "metadata": {
        "colab": {
          "base_uri": "https://localhost:8080/"
        },
        "id": "ExIoekH2gcM_",
        "outputId": "5cad26ac-a57e-42b5-85da-19e3591a3493"
      },
      "outputs": [],
      "source": [
        "### 원래 단어 뭐였는지 검색\n",
        "# org_df[org_df['품목명'].str.contains('\u001d느')]['품목명'].unique()"
      ]
    },
    {
      "cell_type": "code",
      "execution_count": 30,
      "metadata": {
        "colab": {
          "base_uri": "https://localhost:8080/",
          "height": 81
        },
        "id": "2uOc31XjjPFL",
        "outputId": "50529553-d06f-4dc6-8759-a11736220df6"
      },
      "outputs": [],
      "source": [
        "### 현재 이름 검색\n",
        "# df2[df2['prd']=='느']"
      ]
    },
    {
      "cell_type": "code",
      "execution_count": 34,
      "metadata": {
        "id": "gbBBjoDqIjR1"
      },
      "outputs": [],
      "source": [
        "###\n",
        "# JG\n",
        "\n",
        "# 고 -> 고수로 변경\n",
        "df2.loc[df2[\"prd\"]==\"고\",\"prd\"] = \"고수\"\n",
        "# 과실류, 과일류, 과채, 채소 -> 과채류로 통합\n",
        "df2.loc[df2[\"prd\"]==\"과실류\",\"prd\"] = \"과채류\"\n",
        "df2.loc[df2[\"prd\"]==\"과일류\",\"prd\"] = \"과채류\"\n",
        "df2.loc[df2[\"prd\"]==\"과일야채류\",\"prd\"] = \"과채류\"\n",
        "df2.loc[df2[\"prd\"]==\"과일과채류\",\"prd\"] = \"과채류\"\n",
        "df2.loc[df2[\"prd\"]==\"과일\",\"prd\"] = \"과채류\"\n",
        "df2.loc[df2[\"prd\"]==\"과채\",\"prd\"] = \"과채류\"\n",
        "df2.loc[df2[\"prd\"]==\"채소\",\"prd\"] = \"과채류\"\n",
        "# 고들빼 -> 고들빼기로 변경\n",
        "df2.loc[df2[\"prd\"]==\"고들빼\",\"prd\"] = \"고들빼기\"\n",
        "# 꼴뚜 -> 꼴두기로 변경\n",
        "df2.loc[df2[\"prd\"]==\"꼴뚜\",\"prd\"] = \"꼴뚜기\"\n",
        "# 그레이프푸룻 -> 자몽으로 통합\n",
        "df2.loc[df2[\"prd\"]==\"그레이프푸룻\",\"prd\"] = \"자몽\"\n",
        "\n",
        "# 느 -> 느타리버섯으로 통합\n",
        "df2.loc[df2[\"prd\"]==\"느\",\"prd\"] = \"느타리버섯\"\n",
        "\n",
        "# 대구 관련 품목들 정리\n",
        "df2.loc[df2[\"prd\"]==\"대구고니\",\"prd\"] = \"대구\"\n",
        "df2.loc[df2[\"prd\"]==\"대구머리\",\"prd\"] = \"대구\"\n",
        "df2.loc[df2[\"prd\"]==\"대구포\",\"prd\"] = \"대구\"\n",
        "df2.loc[df2[\"prd\"]==\"대구알\",\"prd\"] = \"대구\"\n",
        "# 듀리안 -> 두리안으로 통합\n",
        "df2.loc[df2[\"prd\"]==\"듀리안\",\"prd\"] = \"두리안\"\n",
        "# 딸 -> 딸기로 변경\n",
        "df2.loc[df2[\"prd\"]==\"딸\",\"prd\"] = \"딸기\"\n",
        "\n",
        "# 만가닥 -> 만가닥버섯으로 변경\n",
        "df2.loc[df2[\"prd\"]==\"만가닥\",\"prd\"] = \"만가닥버섯\"\n",
        "# 맛 -> 맛조개로 변경\n",
        "df2.loc[df2[\"prd\"]==\"맛\",\"prd\"] = \"맛조개\"\n",
        "# 망고스턴 -> 망고스틴으로 수정\n",
        "df2.loc[df2[\"prd\"]==\"망고스턴\",\"prd\"] = \"망고스틴\"\n",
        "# 메 -> 메기로 변경\n",
        "df2.loc[df2[\"prd\"]==\"메\",\"prd\"] = \"메기\"\n",
        "# 명태 관련 품목들 정리\n",
        "df2.loc[df2[\"prd\"]==\"명태곤니\",\"prd\"] = \"명태\"\n",
        "df2.loc[df2[\"prd\"]==\"명태알\",\"prd\"] = \"명태\"\n",
        "df2.loc[df2[\"prd\"]==\"명태포\",\"prd\"] = \"명태\"\n",
        "df2.loc[df2[\"prd\"]==\"코다리명태\",\"prd\"] = \"명태\"\n",
        "# 무우 -> 무로 통합\n",
        "df2.loc[df2[\"prd\"]==\"무우\",\"prd\"] = \"무\"\n",
        "\n",
        "# 방풍 -> 방풍나물로 통합\n",
        "df2.loc[df2[\"prd\"]==\"방풍\",\"prd\"] = \"방풍나물\"\n",
        "# 버섯류 -> 버섯으로 변경\n",
        "df2.loc[df2[\"prd\"]==\"버섯\",\"prd\"] = \"버섯\"\n",
        "# 벗,버찌 -> 체리로 통합\n",
        "df2.loc[df2[\"prd\"]==\"벗\",\"prd\"] = \"체리\"\n",
        "df2.loc[df2[\"prd\"]==\"버찌\",\"prd\"] = \"체리\"\n",
        "df2.loc[df2[\"prd\"]==\"벗찌\",\"prd\"] = \"체리\"\n",
        "# 브로커리, 브로코리 -> 브로콜리로 통합\n",
        "df2.loc[df2[\"prd\"]==\"브로커리\",\"prd\"] = \"브로콜리\"\n",
        "df2.loc[df2[\"prd\"]==\"브로코리\",\"prd\"] = \"브로콜리\"\n",
        "\n",
        "# 삼 -> 수삼으로 변경\n",
        "df2.loc[df2[\"prd\"]==\"삼\",\"prd\"] = \"수삼\"\n",
        "# 새우살 -> 새우로 변경\n",
        "df2.loc[df2[\"prd\"]==\"새우살\",\"prd\"] = \"새우\"\n",
        "# 세러리, 셀러리 -> 샐러리로 통합\n",
        "df2.loc[df2[\"prd\"]==\"세러리\",\"prd\"] = \"샐러리\"\n",
        "df2.loc[df2[\"prd\"]==\"셀러리\",\"prd\"] = \"샐러리\"\n",
        "# 생고추 -> 고추로 통합\n",
        "df2.loc[df2[\"prd\"]==\"생고추\",\"prd\"] = \"고추\"\n",
        "\n",
        "# 아보카드 -> 아보카도로 변경\n",
        "df2.loc[df2[\"prd\"]==\"아보카드\",\"prd\"] = \"아보카도\"\n",
        "# 아스파라가스 -> 아스파라거스로 변경\n",
        "df2.loc[df2[\"prd\"]==\"아스파라가스\",\"prd\"] = \"아스파라거스\"\n",
        "# 알 -> 알타리무로 변경\n",
        "df2.loc[df2[\"prd\"]==\"알\",\"prd\"] = \"알타리무\"\n",
        "# 알배 -> 알배기로 변경\n",
        "df2.loc[df2[\"prd\"]==\"알배\",\"prd\"] = \"알배기\"\n",
        "# 양채 -> 양채류로 통합\n",
        "df2.loc[df2[\"prd\"]==\"양채\",\"prd\"] = \"양채류\"\n",
        "# 얼갈이 -> 얼갈이배추로 통합\n",
        "df2.loc[df2[\"prd\"]==\"얼갈이\",\"prd\"] = \"얼갈이배추\"\n",
        "# 엽채류, 엽채 -> 엽경채류로 통합\n",
        "df2.loc[df2[\"prd\"]==\"엽채류\",\"prd\"] = \"엽경채류\"\n",
        "df2.loc[df2[\"prd\"]==\"엽채\",\"prd\"] = \"엽경채류\"\n",
        "# 오징어 관련 품목들 정리\n",
        "df2.loc[df2[\"prd\"]==\"오징어다리\",\"prd\"] = \"오징어\"\n",
        "df2.loc[df2[\"prd\"]==\"오징어원양\",\"prd\"] = \"오징어\"\n",
        "df2.loc[df2[\"prd\"]==\"오징어채\",\"prd\"] = \"오징어\"\n",
        "df2.loc[df2[\"prd\"]==\"활복오징어\",\"prd\"] = \"오징어\"\n",
        "df2.loc[df2[\"prd\"]==\"오징어채원양\",\"prd\"] = \"오징어\"\n",
        "df2.loc[df2[\"prd\"]==\"갑오징어살\",\"prd\"] = \"오징어\"\n",
        "df2.loc[df2[\"prd\"]==\"갑오징어몸통\",\"prd\"] = \"오징어\"\n",
        "# 옥, 풋옥 -> 옥수수로 정리\n",
        "df2.loc[df2[\"prd\"]==\"옥\",\"prd\"] = \"옥수수\"\n",
        "df2.loc[df2[\"prd\"]==\"풋옥\",\"prd\"] = \"옥수수\"\n",
        "# 임연 -> 임연수어로 정리\n",
        "df2.loc[df2[\"prd\"]==\"임연\",\"prd\"] = \"임연수어\"\n",
        "\n",
        "\n",
        "# 절단 -> 절단쭈꾸미 -> 쭈꾸미로 정리\n",
        "df2.loc[df2[\"prd\"]==\"절단\",\"prd\"] = \"쭈꾸미\"\n",
        "# 조개살 -> 조개로 정리\n",
        "df2.loc[df2[\"prd\"]==\"조개살\",\"prd\"] = \"조개\"\n",
        "\n",
        "# 참조 -> 참조기로 정리\n",
        "df2.loc[df2[\"prd\"]==\"참조\",\"prd\"] = \"참조기\"\n",
        "\n",
        "# 칼라후라워,칼리플라워, 칼리후라워 -> 컬리플라워로 통합\n",
        "df2.loc[df2[\"prd\"]==\"칼라후라워\",\"prd\"] = \"컬리플라워\"\n",
        "df2.loc[df2[\"prd\"]==\"칼리플라워\",\"prd\"] = \"컬리플라워\"\n",
        "df2.loc[df2[\"prd\"]==\"칼리후라워\",\"prd\"] = \"컬리플라워\"\n",
        "# 코라비 -> 콜라비로 통합\n",
        "df2.loc[df2[\"prd\"]==\"코라비\",\"prd\"] = \"콜라비\"\n",
        "# 키조개날개 -> 키조개로 통합\n",
        "df2.loc[df2[\"prd\"]==\"키조개날개\",\"prd\"] = \"키조개\"\n",
        "\n",
        "# 팽이 -> 팽이버섯으로 통합\n",
        "df2.loc[df2[\"prd\"]==\"팽이\",\"prd\"] = \"팽이버섯\"\n",
        "# 파세리 -> 파슬리로 변경\n",
        "df2.loc[df2[\"prd\"]==\"파세리\",\"prd\"] = \"파슬리\"\n",
        "# 표고 -> 표고버섯으로 통합\n",
        "df2.loc[df2[\"prd\"]==\"표고\",\"prd\"] = \"표고버섯\"\n",
        "# 포장바지락 -> 바지락으로 변경\n",
        "df2.loc[df2[\"prd\"]==\"포장바지락\",\"prd\"] = \"바지락\"\n",
        "\n",
        "### 일단 여기까지 실행\n",
        "# JY\n",
        "#각굴 -> 굴로 통합\n",
        "df2.loc[df2[\"prd\"]==\"각굴\",\"prd\"] = \"굴\"\n",
        "#가오리채 -> 가오리로 통합\n",
        "df2.loc[df2[\"prd\"]==\"가오리채\",\"prd\"] = \"가오리\"\n",
        "# 게지 -> 키조개로 통합\n",
        "df2.loc[df2[\"prd\"]==\"게지\",\"prd\"] = \"키조개\"\n",
        "#고 -> 고구마로 통합\n",
        "df2.loc[df2[\"prd\"]==\"고\",\"prd\"] = \"고구마\"\n",
        "#꼴뚜 -> 꼴뚜기로 통합\n",
        "df2.loc[df2[\"prd\"]==\"꼴뚜\",\"prd\"] = \"꼴뚜기\"\n",
        "#돗나물 -> 돌나물로 통합\n",
        "df2.loc[df2[\"prd\"]==\"돗나물\",\"prd\"] = \"돌나물\"\n",
        "#레드쉬 -> 레디쉬로 통합\n",
        "df2.loc[df2[\"prd\"]==\"레드쉬\",\"prd\"] = \"레디쉬\"\n",
        "#만가닥 -> 만가닥버섯으로 통합\n",
        "df2.loc[df2[\"prd\"]==\"만가닥\",\"prd\"] = \"만가닥버섯\"\n",
        "#메 -> 메기로 통합\n",
        "df2.loc[df2[\"prd\"]==\"메\",\"prd\"] = \"메기\"\n",
        "#봄동 -> 봄동배추로 통합\n",
        "df2.loc[df2[\"prd\"]==\"봄동\",\"prd\"] = \"봄동배추\"\n",
        "#봉지굴 -> 굴로 통합\n",
        "df2.loc[df2[\"prd\"]==\"봉지굴\",\"prd\"] = \"굴\"\n",
        "#박 -> 수박으로 통합\n",
        "df2.loc[df2[\"prd\"]==\"박\",\"prd\"] = \"수박\"\n",
        "#백조 -> 조기로 통합 \n",
        "df2.loc[df2[\"prd\"]==\"백조\",\"prd\"] = \"조기\"\n",
        "#벅굴 -> 벚굴로 통합\n",
        "df2.loc[df2[\"prd\"]==\"벅굴\",\"prd\"] = \"벚굴\"\n",
        "#비 -> 비타민으로 통합\n",
        "df2.loc[df2[\"prd\"]==\"비\",\"prd\"] = \"비타민\"\n",
        "#빈스 -> 콩으로 통합\n",
        "df2.loc[df2[\"prd\"]==\"빈스\",\"prd\"] = \"콩\"\n",
        "#삐틀이 -> 고둥으로 통합\n",
        "df2.loc[df2[\"prd\"]==\"삐틀이\",\"prd\"] = \"고둥\"\n",
        "#새송이 -> 새송이버섯으로 통합\n",
        "df2.loc[df2[\"prd\"]==\"새송이\",\"prd\"] = \"새송이버섯\"\n",
        "#세트 -> 과채류로 통합\n",
        "df2.loc[df2[\"prd\"]==\"세트\",\"prd\"] = \"과채류\"\n",
        "#알 -> 알로애로 통합\n",
        "df2.loc[df2[\"prd\"]==\"알\",\"prd\"] = \"알로에\"\n",
        "#엄나무 -> 음나무로 통합\n",
        "df2.loc[df2[\"prd\"]==\"엄나무\",\"prd\"] = \"음나무\"\n",
        "#염고등어 -> 고등어로 통합\n",
        "df2.loc[df2[\"prd\"]==\"염고등어\",\"prd\"] = \"고등어\"\n",
        "#오만둥이 -> 미더덕으로 통합\n",
        "df2.loc[df2[\"prd\"]==\"오만둥이\",\"prd\"] = \"미더덕\"\n",
        "#오징어 관련 품목들 정리\n",
        "df2.loc[df2[\"prd\"]==\"선동오징어\",\"prd\"] = \"오징어\"\n",
        "df2.loc[df2[\"prd\"]==\"오징어몸통\",\"prd\"] = \"오징어\"\n",
        "#우렁쉥이 -> 멍게로 통합\n",
        "df2.loc[df2[\"prd\"]==\"우렁쉥이\",\"prd\"] = \"멍게\"\n",
        "#우뭇가시리 -> 우뭇가사리로 통합\n",
        "df2.loc[df2[\"prd\"]==\"우뭇가시리\",\"prd\"] = \"우뭇가사리\"\n",
        "#적채 -> 적양배추로 통합\n",
        "df2.loc[df2[\"prd\"]==\"적채\",\"prd\"] = \"적양배추\"\n",
        "#절단낙지 -> 낙지로 통합\n",
        "df2.loc[df2[\"prd\"]==\"절단낙지\",\"prd\"] = \"낙지\"\n",
        "#조 -> 조개로 통합\n",
        "df2.loc[df2[\"prd\"]==\"조\",\"prd\"] = \"조개\"\n",
        "#청어원양 -> 청어로 통합\n",
        "df2.loc[df2[\"prd\"]==\"청어원양\",\"prd\"] = \"청어\"\n",
        "#키조개꼭지 -> 키조개로 통합\n",
        "df2.loc[df2[\"prd\"]==\"키조개꼭지\",\"prd\"] = \"키조개\"\n",
        "\n",
        "# 암꽃게, 숫꽃게 -> 꽃게로 통합\n",
        "df2.loc[df2[\"prd\"]==\"암꽃게\",\"prd\"] = \"꽃게\"\n",
        "df2.loc[df2[\"prd\"]==\"숫꽃게\",\"prd\"] = \"꽃게\"\n",
        "# 우렁 -> 우렁이로 통합\n",
        "df2.loc[df2[\"prd\"]==\"우렁\",\"prd\"] = \"우렁이\"\n",
        "# 알로애 -> 알로에로 변경\n",
        "df2.loc[df2[\"prd\"]==\"알로애\",\"prd\"] = \"알로에\"\n",
        "# 피마자잎 -> 피마자로 변경\n",
        "df2.loc[df2[\"prd\"]==\"피미자잎\",\"prd\"] = \"피마자\"\n",
        "# 식용허브 -> 허브로 변경\n",
        "df2.loc[df2[\"prd\"]==\"식용허브\",\"prd\"] = \"허브\"\n",
        "# 선인장열매 -> 선인장으로 변경\n",
        "df2.loc[df2[\"prd\"]==\"선인장열매\",\"prd\"] = \"선인장\"\n",
        "# 쌈추 -> 쌈채류로 변경\n",
        "df2.loc[df2[\"prd\"]==\"쌈추\",\"prd\"] = \"쌈채류\"\n",
        "# 덟은감 -> 감으로 변경\n",
        "df2.loc[df2[\"prd\"]==\"덟은감\",\"prd\"] = \"감\"\n",
        "# 피뿔고동 -> 고둥으로 변경\n",
        "df2.loc[df2[\"prd\"]==\"피뿔고동\",\"prd\"] = \"고둥\"\n",
        "# 꼬시래 -> 꼬시래기으로 변경\n",
        "df2.loc[df2[\"prd\"]==\"꼬시래\",\"prd\"] = \"꼬시래기\"\n",
        "# 연어살 -> 연어로 변경\n",
        "df2.loc[df2[\"prd\"]==\"연어살\",\"prd\"] = \"연어\"\n",
        "# 비단멍게 -> 멍게로 변경\n",
        "df2.loc[df2[\"prd\"]==\"비단멍게\",\"prd\"] = \"멍게\"\n",
        "# 물가자미 -> 가자미로 변경\n",
        "df2.loc[df2[\"prd\"]==\"물가자미\",\"prd\"] = \"가자미\"\n",
        "# 물메 -> 메기로 변경\n",
        "df2.loc[df2[\"prd\"]==\"물메\",\"prd\"] = \"메기\"\n",
        "# 붉은메 -> 메기로 변경\n",
        "df2.loc[df2[\"prd\"]==\"붉은메\",\"prd\"] = \"메기\"\n",
        "# 조미제품 삭제\n",
        "df2.drop(df2[df2['prd']=='조미제품'].index,inplace=True)\n",
        "df2.drop(df2[df2['prd']=='어류원양'].index,inplace=True)\n",
        "df2.drop(df2[df2['prd']=='동물'].index,inplace=True)"
      ]
    },
    {
      "cell_type": "code",
      "execution_count": 35,
      "metadata": {},
      "outputs": [
        {
          "data": {
            "text/plain": [
              "array(['볼락', '넙치', '대하'], dtype=object)"
            ]
          },
          "execution_count": 35,
          "metadata": {},
          "output_type": "execute_result"
        }
      ],
      "source": [
        "# 기존 products 리스트와 비교\n",
        "ex_prd = pd.read_csv(\"../products.csv\")\n",
        "df2[~df2['prd'].isin(ex_prd['prd'])]['prd'].unique()"
      ]
    },
    {
      "cell_type": "code",
      "execution_count": 36,
      "metadata": {},
      "outputs": [
        {
          "name": "stderr",
          "output_type": "stream",
          "text": [
            "/var/folders/nq/s4zx76p53d11lnr0t1dxpxh00000gn/T/ipykernel_3342/2619460125.py:4: FutureWarning: The frame.append method is deprecated and will be removed from pandas in a future version. Use pandas.concat instead.\n",
            "  products = ex_prd.append(new_prd,ignore_index=True)\n"
          ]
        }
      ],
      "source": [
        "# 물품 리스트 최신화\n",
        "new_prd = pd.DataFrame(df2['prd'].unique(),columns=['prd'])\n",
        "# products = ex_prd.append(new_prd[~new_prd['prd'].isin(ex_prd['prd'])],ignore_index=True)\n",
        "products = ex_prd.append(new_prd,ignore_index=True)"
      ]
    },
    {
      "cell_type": "code",
      "execution_count": 37,
      "metadata": {},
      "outputs": [],
      "source": [
        "products.drop(columns=['Unnamed: 0'],inplace=True)\n",
        "products.drop_duplicates(inplace=True)\n",
        "products.reset_index(inplace=True,drop=True)"
      ]
    },
    {
      "cell_type": "code",
      "execution_count": 38,
      "metadata": {},
      "outputs": [],
      "source": [
        "# 다음 작업을 위해 저장\n",
        "products.to_csv('../products.csv')"
      ]
    },
    {
      "cell_type": "code",
      "execution_count": 39,
      "metadata": {
        "colab": {
          "base_uri": "https://localhost:8080/",
          "height": 300
        },
        "id": "CxbMB3I59tCZ",
        "outputId": "d29f9bba-e828-4319-9402-7dc24ba1778b"
      },
      "outputs": [
        {
          "data": {
            "text/html": [
              "<div>\n",
              "<style scoped>\n",
              "    .dataframe tbody tr th:only-of-type {\n",
              "        vertical-align: middle;\n",
              "    }\n",
              "\n",
              "    .dataframe tbody tr th {\n",
              "        vertical-align: top;\n",
              "    }\n",
              "\n",
              "    .dataframe thead th {\n",
              "        text-align: right;\n",
              "    }\n",
              "</style>\n",
              "<table border=\"1\" class=\"dataframe\">\n",
              "  <thead>\n",
              "    <tr style=\"text-align: right;\">\n",
              "      <th></th>\n",
              "      <th>prd</th>\n",
              "    </tr>\n",
              "  </thead>\n",
              "  <tbody>\n",
              "    <tr>\n",
              "      <th>count</th>\n",
              "      <td>232.00000</td>\n",
              "    </tr>\n",
              "    <tr>\n",
              "      <th>mean</th>\n",
              "      <td>3657.61638</td>\n",
              "    </tr>\n",
              "    <tr>\n",
              "      <th>std</th>\n",
              "      <td>11157.58161</td>\n",
              "    </tr>\n",
              "    <tr>\n",
              "      <th>min</th>\n",
              "      <td>1.00000</td>\n",
              "    </tr>\n",
              "    <tr>\n",
              "      <th>25%</th>\n",
              "      <td>11.00000</td>\n",
              "    </tr>\n",
              "    <tr>\n",
              "      <th>50%</th>\n",
              "      <td>165.50000</td>\n",
              "    </tr>\n",
              "    <tr>\n",
              "      <th>75%</th>\n",
              "      <td>1663.00000</td>\n",
              "    </tr>\n",
              "    <tr>\n",
              "      <th>max</th>\n",
              "      <td>108284.00000</td>\n",
              "    </tr>\n",
              "  </tbody>\n",
              "</table>\n",
              "</div>"
            ],
            "text/plain": [
              "               prd\n",
              "count    232.00000\n",
              "mean    3657.61638\n",
              "std    11157.58161\n",
              "min        1.00000\n",
              "25%       11.00000\n",
              "50%      165.50000\n",
              "75%     1663.00000\n",
              "max   108284.00000"
            ]
          },
          "execution_count": 39,
          "metadata": {},
          "output_type": "execute_result"
        }
      ],
      "source": [
        "# 전체 거래량과 품목량\n",
        "# 비교를 위해 분포 파악\n",
        "# 거래량이 너무 적은 품목은 삭제할 필요성이 있음\n",
        "\n",
        "prd_lst = (df2['prd'].value_counts()).to_frame()\n",
        "prd_lst.describe()"
      ]
    },
    {
      "cell_type": "code",
      "execution_count": 40,
      "metadata": {
        "id": "_qhAf86UEoSv"
      },
      "outputs": [],
      "source": [
        "# 50개 미만 품목은 비교가 힘드므로 삭제\n",
        "# 줄어든 종류만 남기기\n",
        "\n",
        "prd_lst = prd_lst[prd_lst['prd']>=50]\n",
        "prd_lst.reset_index(inplace=True)\n",
        "prd_lst = prd_lst.rename(columns = {'index':'prd','prd':'count'})"
      ]
    },
    {
      "cell_type": "code",
      "execution_count": 41,
      "metadata": {
        "colab": {
          "base_uri": "https://localhost:8080/"
        },
        "id": "WZfTHQDe-jTG",
        "outputId": "7e713769-2413-4b10-db9d-348498e24708"
      },
      "outputs": [
        {
          "data": {
            "text/plain": [
              "딸기     108284\n",
              "버섯      77352\n",
              "감귤      55410\n",
              "오이      36492\n",
              "시금치     35152\n",
              "        ...  \n",
              "도라지        62\n",
              "아귀         61\n",
              "개조개        56\n",
              "금감         51\n",
              "재첩         51\n",
              "Name: prd, Length: 144, dtype: int64"
            ]
          },
          "execution_count": 41,
          "metadata": {},
          "output_type": "execute_result"
        }
      ],
      "source": [
        "df3 = df2.merge(prd_lst)\n",
        "df3[df3['count']>=50]['prd'].value_counts()"
      ]
    },
    {
      "cell_type": "code",
      "execution_count": 42,
      "metadata": {
        "id": "OnwYlUyTEJdF"
      },
      "outputs": [],
      "source": [
        "# 줄어든 것 확인했으므로 count column은 삭제\n",
        "df3 = df3.drop(columns='count')"
      ]
    },
    {
      "cell_type": "markdown",
      "metadata": {
        "id": "jPcICeSResYh"
      },
      "source": [
        "### scale"
      ]
    },
    {
      "cell_type": "code",
      "execution_count": 43,
      "metadata": {
        "colab": {
          "base_uri": "https://localhost:8080/"
        },
        "id": "4KZLpXuYYTZx",
        "outputId": "f59c1146-fdb9-4483-81a3-a0f51dd08904"
      },
      "outputs": [
        {
          "data": {
            "text/plain": [
              "array([    5.  ,     3.  ,    10.  ,     4.  ,     9.  ,     2.  ,\n",
              "           2.5 ,     0.8 ,     1.  ,     1.2 ,    12.  ,     8.  ,\n",
              "           9.6 ,     1.5 ,     6.  ,     4.8 ,    13.  ,     4.5 ,\n",
              "           3.8 ,     4.7 ,     0.5 ,     0.7 ,     0.3 ,     2.8 ,\n",
              "           0.4 ,     1.6 ,    20.  ,    14.  ,     7.  ,    87.  ,\n",
              "          18.  ,     0.2 ,     8.01,    17.  ,    16.  ,    15.  ,\n",
              "          10.01,    19.  ,    11.  ,    21.  ,    23.  ,     0.15,\n",
              "           0.12,     0.17,     0.6 ,    22.  ,     1.7 ,     0.03,\n",
              "          24.  ,     0.25,    27.  ,     2.7 ,     6.5 ,     1.01,\n",
              "           0.75,     1.4 ,     2.01,     1.48,     0.9 ,    10.5 ,\n",
              "           0.05,     0.1 ,     1.8 ,     0.08,     0.07,     5.5 ,\n",
              "           7.5 ,     9.5 ,   110.  ,     3.5 ,     8.5 ,    19.5 ,\n",
              "          20.5 ,    15.5 ,    14.5 ,    12.5 ,    38.  ,    11.5 ,\n",
              "          81.  ,     7.9 ,    75.  ,    83.  ,    39.  ,    13.5 ,\n",
              "           8.3 ,     5.9 ,    34.  ,    11.6 ,    10.4 ,     6.6 ,\n",
              "          12.3 ,     3.7 ,     3.6 ,     5.4 ,     9.3 ,     4.6 ,\n",
              "           2.4 ,     3.2 ,     4.9 ,     8.8 ,    11.7 ,    16.5 ,\n",
              "           4.3 ,     5.3 ,     2.9 ,     3.3 ,     5.7 ,    17.5 ,\n",
              "           7.6 ,    13.9 ,     5.6 ,     8.7 ,     0.52,     6.9 ,\n",
              "           1.3 ,    51.  ,     5.01,     0.16,    25.  ,    42.  ,\n",
              "          22.4 ,    24.3 ,     4.1 ,    16.2 ,    42.3 ,    30.6 ,\n",
              "          18.4 ,    21.6 ,     6.4 ,    19.6 ,    15.3 ,    13.75,\n",
              "          11.25,    14.4 ,    12.8 ,    16.8 ,    13.7 ,    13.4 ,\n",
              "          13.2 ,     2.3 ,    15.6 ,    17.2 ,     1.1 ,    18.9 ,\n",
              "           2.2 ,    22.2 ,    16.1 ,    12.6 ,     8.4 ,    10.8 ,\n",
              "           2.1 ,     3.1 ,     1.9 ,     2.6 ,     3.4 ,    36.9 ,\n",
              "           9.8 ,    20.8 ,    21.7 ,    17.4 ,    12.25,     7.8 ,\n",
              "           7.25,    15.8 ,     7.2 ,    18.2 ,    14.7 ,    15.4 ,\n",
              "          15.9 ,    16.15,    28.  ,    38.7 ,    15.7 ,    22.5 ,\n",
              "          19.2 ,     9.2 ,     3.9 ,    32.4 ,    33.3 ,    12.9 ,\n",
              "          28.8 ,    46.8 ,    18.8 ,    17.25,    11.9 ,     4.2 ,\n",
              "          32.  ,    31.5 ,    11.2 ,    10.2 ,    20.4 ,    24.5 ,\n",
              "          29.4 ,    10.24,    36.  ,    23.2 ,    30.  ,    40.  ,\n",
              "       10000.  ,   201.  ,    19.8 ,     8.1 ,     9.1 ,    27.5 ,\n",
              "          29.  ,   107.1 ,   155.  ,     8.6 ,     8.2 ,     7.3 ,\n",
              "           6.2 ,     7.7 ,    11.8 ,    12.7 ,     0.56,   120.  ,\n",
              "           5.8 ,   101.  ,     4.4 ,     6.7 ,     6.8 ,     5.2 ,\n",
              "           5.1 ,     7.1 ,     6.3 ,     7.4 ,     2.31,     0.63,\n",
              "           0.59,    50.  ,     0.35,    10.78,    26.  ,    17.23,\n",
              "          35.  ,     1.89,    21.5 ])"
            ]
          },
          "execution_count": 43,
          "metadata": {},
          "output_type": "execute_result"
        }
      ],
      "source": [
        "np.set_printoptions(precision=2, suppress=True)\n",
        "df3['scale'].unique()"
      ]
    },
    {
      "cell_type": "code",
      "execution_count": 46,
      "metadata": {},
      "outputs": [
        {
          "data": {
            "text/html": [
              "<div>\n",
              "<style scoped>\n",
              "    .dataframe tbody tr th:only-of-type {\n",
              "        vertical-align: middle;\n",
              "    }\n",
              "\n",
              "    .dataframe tbody tr th {\n",
              "        vertical-align: top;\n",
              "    }\n",
              "\n",
              "    .dataframe thead th {\n",
              "        text-align: right;\n",
              "    }\n",
              "</style>\n",
              "<table border=\"1\" class=\"dataframe\">\n",
              "  <thead>\n",
              "    <tr style=\"text-align: right;\">\n",
              "      <th></th>\n",
              "      <th>prd</th>\n",
              "      <th>scale</th>\n",
              "      <th>price</th>\n",
              "      <th>origin</th>\n",
              "      <th>eco</th>\n",
              "      <th>reg_date</th>\n",
              "      <th>new_class</th>\n",
              "      <th>price_kg</th>\n",
              "    </tr>\n",
              "  </thead>\n",
              "  <tbody>\n",
              "    <tr>\n",
              "      <th>117476</th>\n",
              "      <td>호박</td>\n",
              "      <td>87.00000</td>\n",
              "      <td>25500</td>\n",
              "      <td>경남 진주시</td>\n",
              "      <td>normal</td>\n",
              "      <td>2022-01-25</td>\n",
              "      <td>2</td>\n",
              "      <td>293.10000</td>\n",
              "    </tr>\n",
              "    <tr>\n",
              "      <th>117479</th>\n",
              "      <td>호박</td>\n",
              "      <td>87.00000</td>\n",
              "      <td>28000</td>\n",
              "      <td>경남 진주시</td>\n",
              "      <td>normal</td>\n",
              "      <td>2022-01-25</td>\n",
              "      <td>2</td>\n",
              "      <td>321.84000</td>\n",
              "    </tr>\n",
              "    <tr>\n",
              "      <th>117488</th>\n",
              "      <td>호박</td>\n",
              "      <td>87.00000</td>\n",
              "      <td>25500</td>\n",
              "      <td>경남 진주시</td>\n",
              "      <td>normal</td>\n",
              "      <td>2022-01-25</td>\n",
              "      <td>2</td>\n",
              "      <td>293.10000</td>\n",
              "    </tr>\n",
              "    <tr>\n",
              "      <th>132508</th>\n",
              "      <td>호박</td>\n",
              "      <td>87.00000</td>\n",
              "      <td>31000</td>\n",
              "      <td>경남 진주시</td>\n",
              "      <td>normal</td>\n",
              "      <td>2022-01-25</td>\n",
              "      <td>1</td>\n",
              "      <td>356.32000</td>\n",
              "    </tr>\n",
              "    <tr>\n",
              "      <th>132524</th>\n",
              "      <td>호박</td>\n",
              "      <td>87.00000</td>\n",
              "      <td>31000</td>\n",
              "      <td>경남 진주시</td>\n",
              "      <td>normal</td>\n",
              "      <td>2022-01-25</td>\n",
              "      <td>1</td>\n",
              "      <td>356.32000</td>\n",
              "    </tr>\n",
              "    <tr>\n",
              "      <th>...</th>\n",
              "      <td>...</td>\n",
              "      <td>...</td>\n",
              "      <td>...</td>\n",
              "      <td>...</td>\n",
              "      <td>...</td>\n",
              "      <td>...</td>\n",
              "      <td>...</td>\n",
              "      <td>...</td>\n",
              "    </tr>\n",
              "    <tr>\n",
              "      <th>765374</th>\n",
              "      <td>파</td>\n",
              "      <td>101.00000</td>\n",
              "      <td>106000</td>\n",
              "      <td>충남 아산시</td>\n",
              "      <td>normal</td>\n",
              "      <td>2022-01-30</td>\n",
              "      <td>1</td>\n",
              "      <td>1049.50000</td>\n",
              "    </tr>\n",
              "    <tr>\n",
              "      <th>765396</th>\n",
              "      <td>파</td>\n",
              "      <td>101.00000</td>\n",
              "      <td>93000</td>\n",
              "      <td>충남 아산시</td>\n",
              "      <td>normal</td>\n",
              "      <td>2022-01-30</td>\n",
              "      <td>1</td>\n",
              "      <td>920.79000</td>\n",
              "    </tr>\n",
              "    <tr>\n",
              "      <th>765554</th>\n",
              "      <td>파</td>\n",
              "      <td>101.00000</td>\n",
              "      <td>93000</td>\n",
              "      <td>충남 아산시</td>\n",
              "      <td>normal</td>\n",
              "      <td>2022-01-30</td>\n",
              "      <td>1</td>\n",
              "      <td>920.79000</td>\n",
              "    </tr>\n",
              "    <tr>\n",
              "      <th>765627</th>\n",
              "      <td>파</td>\n",
              "      <td>101.00000</td>\n",
              "      <td>92000</td>\n",
              "      <td>충남 아산시</td>\n",
              "      <td>normal</td>\n",
              "      <td>2022-01-30</td>\n",
              "      <td>1</td>\n",
              "      <td>910.89000</td>\n",
              "    </tr>\n",
              "    <tr>\n",
              "      <th>812874</th>\n",
              "      <td>다래</td>\n",
              "      <td>50.00000</td>\n",
              "      <td>36000</td>\n",
              "      <td>제주 제주시</td>\n",
              "      <td>normal</td>\n",
              "      <td>2022-01-28</td>\n",
              "      <td>1</td>\n",
              "      <td>720.00000</td>\n",
              "    </tr>\n",
              "  </tbody>\n",
              "</table>\n",
              "<p>97 rows × 8 columns</p>\n",
              "</div>"
            ],
            "text/plain": [
              "       prd     scale   price  origin     eco   reg_date  new_class   price_kg\n",
              "117476  호박  87.00000   25500  경남 진주시  normal 2022-01-25          2  293.10000\n",
              "117479  호박  87.00000   28000  경남 진주시  normal 2022-01-25          2  321.84000\n",
              "117488  호박  87.00000   25500  경남 진주시  normal 2022-01-25          2  293.10000\n",
              "132508  호박  87.00000   31000  경남 진주시  normal 2022-01-25          1  356.32000\n",
              "132524  호박  87.00000   31000  경남 진주시  normal 2022-01-25          1  356.32000\n",
              "...     ..       ...     ...     ...     ...        ...        ...        ...\n",
              "765374   파 101.00000  106000  충남 아산시  normal 2022-01-30          1 1049.50000\n",
              "765396   파 101.00000   93000  충남 아산시  normal 2022-01-30          1  920.79000\n",
              "765554   파 101.00000   93000  충남 아산시  normal 2022-01-30          1  920.79000\n",
              "765627   파 101.00000   92000  충남 아산시  normal 2022-01-30          1  910.89000\n",
              "812874  다래  50.00000   36000  제주 제주시  normal 2022-01-28          1  720.00000\n",
              "\n",
              "[97 rows x 8 columns]"
            ]
          },
          "execution_count": 46,
          "metadata": {},
          "output_type": "execute_result"
        }
      ],
      "source": [
        "df3[df3['scale']>=50]"
      ]
    },
    {
      "cell_type": "code",
      "execution_count": 44,
      "metadata": {
        "colab": {
          "base_uri": "https://localhost:8080/",
          "height": 1000
        },
        "id": "-43K_jyN92IZ",
        "outputId": "7b3e92a5-a0eb-4b09-bc6c-36948c74b860"
      },
      "outputs": [
        {
          "data": {
            "text/plain": [
              "array(['호박', '오이', '피망', '사과', '무', '배', '양상추', '파', '다래'], dtype=object)"
            ]
          },
          "execution_count": 44,
          "metadata": {},
          "output_type": "execute_result"
        }
      ],
      "source": [
        "# 50kg 이상 거래된 건들 이상치라 판단하고 확인 진행\n",
        "df3[df3['scale']>=50]['prd'].unique()"
      ]
    },
    {
      "cell_type": "code",
      "execution_count": 72,
      "metadata": {},
      "outputs": [
        {
          "data": {
            "text/html": [
              "<div>\n",
              "<style scoped>\n",
              "    .dataframe tbody tr th:only-of-type {\n",
              "        vertical-align: middle;\n",
              "    }\n",
              "\n",
              "    .dataframe tbody tr th {\n",
              "        vertical-align: top;\n",
              "    }\n",
              "\n",
              "    .dataframe thead th {\n",
              "        text-align: right;\n",
              "    }\n",
              "</style>\n",
              "<table border=\"1\" class=\"dataframe\">\n",
              "  <thead>\n",
              "    <tr style=\"text-align: right;\">\n",
              "      <th></th>\n",
              "      <th>prd</th>\n",
              "      <th>scale</th>\n",
              "      <th>price</th>\n",
              "      <th>origin</th>\n",
              "      <th>eco</th>\n",
              "      <th>reg_date</th>\n",
              "      <th>new_class</th>\n",
              "      <th>price_kg</th>\n",
              "    </tr>\n",
              "  </thead>\n",
              "  <tbody>\n",
              "    <tr>\n",
              "      <th>812874</th>\n",
              "      <td>다래</td>\n",
              "      <td>50.00000</td>\n",
              "      <td>36000</td>\n",
              "      <td>제주 제주시</td>\n",
              "      <td>normal</td>\n",
              "      <td>2022-01-28</td>\n",
              "      <td>1</td>\n",
              "      <td>720.00000</td>\n",
              "    </tr>\n",
              "  </tbody>\n",
              "</table>\n",
              "</div>"
            ],
            "text/plain": [
              "       prd    scale  price  origin     eco   reg_date  new_class  price_kg\n",
              "812874  다래 50.00000  36000  제주 제주시  normal 2022-01-28          1 720.00000"
            ]
          },
          "execution_count": 72,
          "metadata": {},
          "output_type": "execute_result"
        }
      ],
      "source": [
        "df3[(df3['prd']=='다래')&(df3['scale']>=50)]"
      ]
    },
    {
      "cell_type": "code",
      "execution_count": 73,
      "metadata": {
        "id": "v1EZDKB59dJp"
      },
      "outputs": [],
      "source": [
        "# 스케일 오표기된 항목 수정\n",
        "# 호박,피망,파 이상치 아닌 것으로 확인\n",
        "# 무는 201kg 짜리 거래만 가격이 이상하므로 삭제\n",
        "# 이상치 항목 삭제\n",
        "df3 = df3.drop(df3[(df3['scale']>=50)&(df3['prd']=='오이')].index)\n",
        "df3 = df3.drop(df3[(df3['scale']>=50)&(df3['prd']=='사과')].index)\n",
        "df3 = df3.drop(df3[(df3['scale']==201)&(df3['prd']=='무')].index)\n",
        "df3 = df3.drop(df3[(df3['scale']>=50)&(df3['prd']=='배')].index)\n",
        "df3 = df3.drop(df3[(df3['scale']>=50)&(df3['prd']=='양상추')].index)\n",
        "df3 = df3.drop(df3[(df3['scale']>=50)&(df3['prd']=='다래')].index)"
      ]
    },
    {
      "cell_type": "code",
      "execution_count": 74,
      "metadata": {},
      "outputs": [
        {
          "data": {
            "text/html": [
              "<div>\n",
              "<style scoped>\n",
              "    .dataframe tbody tr th:only-of-type {\n",
              "        vertical-align: middle;\n",
              "    }\n",
              "\n",
              "    .dataframe tbody tr th {\n",
              "        vertical-align: top;\n",
              "    }\n",
              "\n",
              "    .dataframe thead th {\n",
              "        text-align: right;\n",
              "    }\n",
              "</style>\n",
              "<table border=\"1\" class=\"dataframe\">\n",
              "  <thead>\n",
              "    <tr style=\"text-align: right;\">\n",
              "      <th></th>\n",
              "      <th>prd</th>\n",
              "      <th>scale</th>\n",
              "      <th>price</th>\n",
              "      <th>origin</th>\n",
              "      <th>eco</th>\n",
              "      <th>reg_date</th>\n",
              "      <th>new_class</th>\n",
              "      <th>price_kg</th>\n",
              "    </tr>\n",
              "  </thead>\n",
              "  <tbody>\n",
              "    <tr>\n",
              "      <th>117476</th>\n",
              "      <td>호박</td>\n",
              "      <td>87.00000</td>\n",
              "      <td>25500</td>\n",
              "      <td>경남 진주시</td>\n",
              "      <td>normal</td>\n",
              "      <td>2022-01-25</td>\n",
              "      <td>2</td>\n",
              "      <td>293.10000</td>\n",
              "    </tr>\n",
              "    <tr>\n",
              "      <th>117479</th>\n",
              "      <td>호박</td>\n",
              "      <td>87.00000</td>\n",
              "      <td>28000</td>\n",
              "      <td>경남 진주시</td>\n",
              "      <td>normal</td>\n",
              "      <td>2022-01-25</td>\n",
              "      <td>2</td>\n",
              "      <td>321.84000</td>\n",
              "    </tr>\n",
              "    <tr>\n",
              "      <th>117488</th>\n",
              "      <td>호박</td>\n",
              "      <td>87.00000</td>\n",
              "      <td>25500</td>\n",
              "      <td>경남 진주시</td>\n",
              "      <td>normal</td>\n",
              "      <td>2022-01-25</td>\n",
              "      <td>2</td>\n",
              "      <td>293.10000</td>\n",
              "    </tr>\n",
              "    <tr>\n",
              "      <th>132508</th>\n",
              "      <td>호박</td>\n",
              "      <td>87.00000</td>\n",
              "      <td>31000</td>\n",
              "      <td>경남 진주시</td>\n",
              "      <td>normal</td>\n",
              "      <td>2022-01-25</td>\n",
              "      <td>1</td>\n",
              "      <td>356.32000</td>\n",
              "    </tr>\n",
              "    <tr>\n",
              "      <th>132524</th>\n",
              "      <td>호박</td>\n",
              "      <td>87.00000</td>\n",
              "      <td>31000</td>\n",
              "      <td>경남 진주시</td>\n",
              "      <td>normal</td>\n",
              "      <td>2022-01-25</td>\n",
              "      <td>1</td>\n",
              "      <td>356.32000</td>\n",
              "    </tr>\n",
              "    <tr>\n",
              "      <th>...</th>\n",
              "      <td>...</td>\n",
              "      <td>...</td>\n",
              "      <td>...</td>\n",
              "      <td>...</td>\n",
              "      <td>...</td>\n",
              "      <td>...</td>\n",
              "      <td>...</td>\n",
              "      <td>...</td>\n",
              "    </tr>\n",
              "    <tr>\n",
              "      <th>765082</th>\n",
              "      <td>파</td>\n",
              "      <td>101.00000</td>\n",
              "      <td>98000</td>\n",
              "      <td>충남 아산시</td>\n",
              "      <td>normal</td>\n",
              "      <td>2022-01-30</td>\n",
              "      <td>1</td>\n",
              "      <td>970.30000</td>\n",
              "    </tr>\n",
              "    <tr>\n",
              "      <th>765374</th>\n",
              "      <td>파</td>\n",
              "      <td>101.00000</td>\n",
              "      <td>106000</td>\n",
              "      <td>충남 아산시</td>\n",
              "      <td>normal</td>\n",
              "      <td>2022-01-30</td>\n",
              "      <td>1</td>\n",
              "      <td>1049.50000</td>\n",
              "    </tr>\n",
              "    <tr>\n",
              "      <th>765396</th>\n",
              "      <td>파</td>\n",
              "      <td>101.00000</td>\n",
              "      <td>93000</td>\n",
              "      <td>충남 아산시</td>\n",
              "      <td>normal</td>\n",
              "      <td>2022-01-30</td>\n",
              "      <td>1</td>\n",
              "      <td>920.79000</td>\n",
              "    </tr>\n",
              "    <tr>\n",
              "      <th>765554</th>\n",
              "      <td>파</td>\n",
              "      <td>101.00000</td>\n",
              "      <td>93000</td>\n",
              "      <td>충남 아산시</td>\n",
              "      <td>normal</td>\n",
              "      <td>2022-01-30</td>\n",
              "      <td>1</td>\n",
              "      <td>920.79000</td>\n",
              "    </tr>\n",
              "    <tr>\n",
              "      <th>765627</th>\n",
              "      <td>파</td>\n",
              "      <td>101.00000</td>\n",
              "      <td>92000</td>\n",
              "      <td>충남 아산시</td>\n",
              "      <td>normal</td>\n",
              "      <td>2022-01-30</td>\n",
              "      <td>1</td>\n",
              "      <td>910.89000</td>\n",
              "    </tr>\n",
              "  </tbody>\n",
              "</table>\n",
              "<p>83 rows × 8 columns</p>\n",
              "</div>"
            ],
            "text/plain": [
              "       prd     scale   price  origin     eco   reg_date  new_class   price_kg\n",
              "117476  호박  87.00000   25500  경남 진주시  normal 2022-01-25          2  293.10000\n",
              "117479  호박  87.00000   28000  경남 진주시  normal 2022-01-25          2  321.84000\n",
              "117488  호박  87.00000   25500  경남 진주시  normal 2022-01-25          2  293.10000\n",
              "132508  호박  87.00000   31000  경남 진주시  normal 2022-01-25          1  356.32000\n",
              "132524  호박  87.00000   31000  경남 진주시  normal 2022-01-25          1  356.32000\n",
              "...     ..       ...     ...     ...     ...        ...        ...        ...\n",
              "765082   파 101.00000   98000  충남 아산시  normal 2022-01-30          1  970.30000\n",
              "765374   파 101.00000  106000  충남 아산시  normal 2022-01-30          1 1049.50000\n",
              "765396   파 101.00000   93000  충남 아산시  normal 2022-01-30          1  920.79000\n",
              "765554   파 101.00000   93000  충남 아산시  normal 2022-01-30          1  920.79000\n",
              "765627   파 101.00000   92000  충남 아산시  normal 2022-01-30          1  910.89000\n",
              "\n",
              "[83 rows x 8 columns]"
            ]
          },
          "execution_count": 74,
          "metadata": {},
          "output_type": "execute_result"
        }
      ],
      "source": [
        "df3[df3['scale']>=50]"
      ]
    },
    {
      "cell_type": "markdown",
      "metadata": {
        "id": "5I9D6wZCWDhi"
      },
      "source": [
        "### origin"
      ]
    },
    {
      "cell_type": "code",
      "execution_count": 75,
      "metadata": {
        "colab": {
          "base_uri": "https://localhost:8080/"
        },
        "id": "pI0Ezwn-VgXP",
        "outputId": "8d8f9387-01cb-4c3a-a3c9-e521b970aafb"
      },
      "outputs": [
        {
          "data": {
            "text/plain": [
              "array(['제주', '제주 북제주군', '제주특별자치도 서귀', '제주 서귀포시(2)', '제주 제주시', '제주 서귀포시',\n",
              "       '제주 남제주군', '경남 산청군', '제주도 서귀포시', '제주도 제주시', '경남 사천시', '경남 진주시',\n",
              "       '전남 나주시', '충남 예산군', '제주 서귀포', '전남 여수시', '전남 고흥군', '경기 안성시',\n",
              "       '서울 영등포구', '전남 장흥군', '전남 무안군', '전남 완도군', '경북 성주군', '충남 공주시',\n",
              "       '경남 함안군', '서울특별시 강남구', '경남 하동군', '전남 담양군', '경남 양산시', '서울시 강서구',\n",
              "       '전남 함평군', '제주시 한경면', '충북 충주시', '서울 중구', '경남 김해시', '전남 화순군',\n",
              "       '경남 고성군', '경남 창원시', '인천 강화군', '전남 광양시', '부산', '전북', '경기 파주시',\n",
              "       '부산 강서구', '경기 이천시 모가면', '부산 오포군', '전남', '경북 경주시', '경북 문경시',\n",
              "       '충북 진천군', '경남 남해군', '경기 여주시', '전북 진안군', '전북 정읍시', '경북 상주시',\n",
              "       '전북 장수군', '부산 부산진구', '경남 밀양시', '충남 부여군', '전북 남원시', '전남 순천시',\n",
              "       '충남 당진시', '경기', '충남', '강원 철원군', '경기 김포시', '전북 익산시', '강원 춘천시',\n",
              "       '전남 영암군', '강원 속초시', '전북 김제시', '전남 보성군', '충남 논산시', '경기 평택시',\n",
              "       '충남 청양군', '전남 해남군', '경남 창녕군', '광주 광산구', '경기 용인시', '경북 김천시',\n",
              "       '전남 강진군', '경기 화성시', '충남 서천군', '강원 횡성군', '세종 세종시', '충남 보령시',\n",
              "       '전남 영광군', '전남 장성군', '경남 창원시 의창구', '강원 고성군', '전북 부안군', '충남 홍성군',\n",
              "       '강원 양구군', '경기 오산시', '경기 이천시', '충북 음성군', '경남 합천군', '경기 가평군',\n",
              "       '광주 북구', '광주 서구', '강원 평창군', '전북 무주군', '경남 함양군', '전북 군산시', '강원',\n",
              "       '경북 안동시', '전북 임실군', '강원도 철원군', '경북 청도군', '부산시 강서구', '경기 양주시',\n",
              "       '경남 사천시 곤명면', '충남 논산시 성동면', '전라북도 남원시', '인천시 강화군', '충남 서산시',\n",
              "       '충남 금산군', '충남 부여군 세도면', '서귀포시 대정읍', '충남 천안시', '경기도 여주군', '전북 고창군',\n",
              "       '경기도 이천시', '전라북도 익산시', '경기 안성시 양성면', '강원 원주시', '전북 김제시 황산면',\n",
              "       '전남 해남군 황산면', '충북 청원군', '전북 완주군', '충남 아산시', '충남 태안군', '미등록', '서울',\n",
              "       '경남 거제시', '경남 진주시 금곡면', '충북 청주시', '경남', '전남 구례군', '경기도 평택시',\n",
              "       '경남 의령군', '경남 고성군 영오면', '충남 공주시 이인면', '전남 고흥군 점암면', '경기 광주시',\n",
              "       '전남 신안군', '수입산 뉴칼레도니아', '수입산 통가', '통가', '뉴칼레도니아', '경북 예천군',\n",
              "       '경기 여주군', '강원 홍천군', '누벨칼레도니', '경기 양평군', '강원도 양구군', '경북 영주시',\n",
              "       '뉴질랜드', '전남 곡성군', '수입산 뉴질랜드', '경북', '경북 영주시 장수면', '충북 증평군',\n",
              "       '충남 서산시 부석면', '광주 광주', '경상남도 창원시', '경남 함안군 칠북면', '경남 하동군 적량면',\n",
              "       '대구', '경남 창원시 동읍', '경남 밀양시 단장면', '경남 창원시 북면', '경남 김해시 진영읍',\n",
              "       '경남 밀양시 초동면', '청주시 상당구', '청주시 흥덕구', '강원 양양군', '경기 포천시', '중국',\n",
              "       '강원 영월군', '강원 태백시', '강원 동해시', '경기 수원시', '경기 연천군', '전북 순창군',\n",
              "       '수입산 중국', '강원 화천군', '세종시', '경기도 시흥시', '강원 인제군', '충북 괴산군', '충북 영동군',\n",
              "       '경기 의왕시', '경기 고양시', '경기 시흥시', '경기 하남시', '경기 성남시', '경기 의정부시',\n",
              "       '충북 보은군', '경기 남양주시', '서울 송파구', '경남 거창군', '경북 고령군', '경기도 하남시',\n",
              "       '수입산 이집트', '전북 익산시 금마면', '전북 익산시 망성면', '충청남도 논산시', '전북 익산시 오산면',\n",
              "       '수입산 미국', '수입산 칠레', '세종', '전북 전주시', '충남 논산시 부적면', '서울 강동구',\n",
              "       '서울 동대문구', '경기 구리시', '서울 양천구', '경기 광명시', '경북 경산시', '대구 동구',\n",
              "       '서울 중랑구', '서울 도봉구', '충북 제천시', '경북 영양군', '강원 강릉시', '경남 마산시',\n",
              "       '경북 봉화군', '경북 구미시', '강원도 홍천군', '강원 정선군', '강원도 평창군', '전남 신안군 비금면',\n",
              "       '경남 밀양시 무안면', '대구 달성군', '전북 고창군 상하면', '경북 영덕군', '전남 진도군', '전남/고흥군',\n",
              "       '경북 영천시', '경북 의성군', '대전', '대전 동구', '대전 서구', '대전 대덕구', '대전 유성구',\n",
              "       '전주시 완산구', '충남 논산시 가야곡면', '광주시 광산구', '대전 대전', '전남 곡성군 겸면',\n",
              "       '수입산 필리핀', '경남 함안군 함안면', '경북/문경시', '대구 중구', '전라북도 완주군', '광주 남구',\n",
              "       '전남 나주시 공산면', '인천', '광주시 남구', '인천 미추홀구', '인천 남구', '인천 남동구',\n",
              "       '인천광역시 남구', '경남 마산 회원구', '경남 창원시 성산구', '경북 포항시', '전남 목포시',\n",
              "       '경기도 고양시', '경기도 파주시', '인천시 계양구', '서울시 은평구', '서울 은평구', '경기 고양시 덕양구',\n",
              "       '경기 고양시덕양구', '충북 음성군 맹동면', '포항시 북구', '경기도 김포시', '경기도 광명시',\n",
              "       '경북 포항시북구', '충북 진천군 이월면', '경기 고양시일산구', '서울시 도봉구', '성남시 중원구',\n",
              "       '서울시 양천구', '서울 강서구', '경기도 남양주시', '경북 청송군', '충북', '충북 단양군',\n",
              "       '경북 문경시 가은읍', '경북 영주시 부석면', '경북 영천시 고경면', '강원도 정선군', '경북 영주시 안정면',\n",
              "       '경북 영주시 단산면', '대구 북구', '부산 기장군', '경북 군위군', '강원도 강릉시', '경기도 양평군',\n",
              "       '강원 삼척시', '충북 옥천군', '충남 서산시 팔봉면', '경북 영주시 순흥면', '전라북도 장수군',\n",
              "       '충북 충주시 산척면', '충남 예산군 오가면', '가락동', '경기 포천군', '충북 충주시 가금면',\n",
              "       '강원 삼척시 가곡면', '경기 안성시 일죽면', '광주', '성남시 분당구', '충북 충주시 노은면',\n",
              "       '제주시 애월읍', '경기 안산시', '경남 산청군 신안면', '제주 제주시(2)', '경북 상주시 공검면',\n",
              "       '경북 청도군 각북면', '제주시 구좌읍', '전북 익산시 여산면', '인천 부평구', '인천시 부평구',\n",
              "       '경기 남양주', '강원 철원군 김화읍', '경기 남양주시 화도읍', '강원 홍천군 남면', '충남 천안시 서북구',\n",
              "       '경기 의왕시 초평로 1', '베트남', '수입산 베트남', '제주시 한림읍', '전남 순천시 서면',\n",
              "       '전남 순천시 낙안면', '전남 순천시 승주읍', '경기 의정부', '서울 동대문', '대구 남구',\n",
              "       '경기 여주시 가남읍', '경기 이천시 장호원읍', '경기 안성시 서운면', '충남 연기군', '경기 평택시 현덕면',\n",
              "       '경기도 안성시', '경기 평택시 안중읍', '경기 평택시 고덕면', '세종 특별자치시', '경기 이천시 설성면',\n",
              "       '수원시 권선구', '경기 평택시 서탄면', '경기 여주시 가남면', '전남 광양시 다압면', '경기 안성시 고삼면',\n",
              "       '충남 아산시 도고면', '충남 천안시 풍세면', '전남 나주시 봉황면', '충청남도 아산시', '페루', '미국',\n",
              "       '수입산 페루', '필리핀', '경북 상주시 화남면', '칠레', '경남 남해군 상주면', '경남 창녕군 남지읍',\n",
              "       '광주시 서구', '경기 화성시 태안읍', '충남 논산시 양촌면', '경기 김포시 양촌면', '충남 당진시 순성면',\n",
              "       '경기도 화성군', '경기 양평군 강상면', '경기 양평군 지제면', '울산 북구', '경기 양주군',\n",
              "       '경남 진주시 지수면', '충남 금산군 진산면', '울산 남구', '울산 울주군', '강원도 횡성군',\n",
              "       '전남 담양군 무정면', '경북 김천시 조마면', '충북 음성군 감곡면', '충북 음성군 생극면',\n",
              "       '경북 김천시 남면', '대구시 달성군', '대만', '경기도 부천시', '수입산 대만', '경기도 양주군',\n",
              "       '경기도 의정부시', '경기 용인시 모현면', '멕시코', '충남 논산시 연무읍', '충남 계룡시',\n",
              "       '충남 논산시 상월면', '충남 당진시 신평면', '경남 마산시합포구', '전남 광양시 진상면',\n",
              "       '전남 나주시 노안면', '전주시 덕진구', '경남 밀양시 청도면', '경기도 광주군', '과테말라', '에콰도르',\n",
              "       '코스타리카', '콜롬비아', '에쿠아도르', '에콰돌', '수입산 과테말라', '수입산 에콰도르',\n",
              "       '수입산 코스타리카', '수입산 콜롬비아', '이스라엘', '경북 포항시남구', '경기도 연천군', '전북전주시완산구',\n",
              "       '충북청주시상당구', '경기 부천시', '서울 강남구', '수입 베트남\\t', '수입 에콰도르\\t',\n",
              "       '수입 말레이지아\\t', '수입 인도\\t', '수입 러시아\\t', '수입 아르헨티나\\t', '수입산 이란', '이란',\n",
              "       '수입산 멕시코', '충북 증평군 증평읍', '경기도 포천군', '수입산 호주', '오스트레일', '호주',\n",
              "       '수입산 아르헨티나', '아르헨티나', '태국', '캄보디아', '수입산 태국', '타이', '수입산 캄보디아',\n",
              "       '수입산 이스라엘', '국내산\\t', '수입 중국\\t', '충남 서산\\t', '충남 장항(서천)\\t',\n",
              "       '전북 군산\\t', '전남 여수\\t', '경남 남해\\t', '경남 마산(고성,진해)', '경남 삼천포\\t',\n",
              "       '경남 통영\\t', '전남 고흥(나로도)\\t', '전남 순천(광양)\\t', '수입 노르웨이\\t', '수입 네덜란드\\t',\n",
              "       '수입 세네갈\\t', '수입 기타\\t', '제주 제주도\\t', '수입 칠레\\t', '전북 부안\\t', '경기 인천\\t',\n",
              "       '수입 일본\\t', '수입 미국\\t', '제주 서귀포\\t', '전남 장흥\\t', '전남 강진\\t', '수입 바레인\\t',\n",
              "       '전남 완도\\t', '수입 페루\\t', '포클랜드\\t', '수입 대만\\t'], dtype=object)"
            ]
          },
          "execution_count": 75,
          "metadata": {},
          "output_type": "execute_result"
        }
      ],
      "source": [
        "# 도,시, 국산, 수입 표기 분류 필요\n",
        "df3['origin'].unique()"
      ]
    },
    {
      "cell_type": "code",
      "execution_count": 76,
      "metadata": {
        "colab": {
          "base_uri": "https://localhost:8080/",
          "height": 423
        },
        "id": "rvX1g3c_Ll2C",
        "outputId": "56330691-579b-46aa-b24a-046112748253"
      },
      "outputs": [
        {
          "data": {
            "text/html": [
              "<div>\n",
              "<style scoped>\n",
              "    .dataframe tbody tr th:only-of-type {\n",
              "        vertical-align: middle;\n",
              "    }\n",
              "\n",
              "    .dataframe tbody tr th {\n",
              "        vertical-align: top;\n",
              "    }\n",
              "\n",
              "    .dataframe thead th {\n",
              "        text-align: right;\n",
              "    }\n",
              "</style>\n",
              "<table border=\"1\" class=\"dataframe\">\n",
              "  <thead>\n",
              "    <tr style=\"text-align: right;\">\n",
              "      <th></th>\n",
              "      <th>prd</th>\n",
              "      <th>scale</th>\n",
              "      <th>price</th>\n",
              "      <th>origin</th>\n",
              "      <th>eco</th>\n",
              "      <th>reg_date</th>\n",
              "      <th>new_class</th>\n",
              "      <th>price_kg</th>\n",
              "      <th>0</th>\n",
              "      <th>1</th>\n",
              "      <th>2</th>\n",
              "      <th>3</th>\n",
              "    </tr>\n",
              "  </thead>\n",
              "  <tbody>\n",
              "    <tr>\n",
              "      <th>0</th>\n",
              "      <td>감귤</td>\n",
              "      <td>5.00000</td>\n",
              "      <td>5000</td>\n",
              "      <td>제주</td>\n",
              "      <td>normal</td>\n",
              "      <td>2022-01-03</td>\n",
              "      <td>4</td>\n",
              "      <td>1000.00000</td>\n",
              "      <td>제주</td>\n",
              "      <td>NaN</td>\n",
              "      <td>NaN</td>\n",
              "      <td>NaN</td>\n",
              "    </tr>\n",
              "    <tr>\n",
              "      <th>1</th>\n",
              "      <td>감귤</td>\n",
              "      <td>5.00000</td>\n",
              "      <td>8000</td>\n",
              "      <td>제주</td>\n",
              "      <td>normal</td>\n",
              "      <td>2022-01-03</td>\n",
              "      <td>4</td>\n",
              "      <td>1600.00000</td>\n",
              "      <td>제주</td>\n",
              "      <td>NaN</td>\n",
              "      <td>NaN</td>\n",
              "      <td>NaN</td>\n",
              "    </tr>\n",
              "    <tr>\n",
              "      <th>2</th>\n",
              "      <td>감귤</td>\n",
              "      <td>5.00000</td>\n",
              "      <td>7500</td>\n",
              "      <td>제주</td>\n",
              "      <td>normal</td>\n",
              "      <td>2022-01-03</td>\n",
              "      <td>4</td>\n",
              "      <td>1500.00000</td>\n",
              "      <td>제주</td>\n",
              "      <td>NaN</td>\n",
              "      <td>NaN</td>\n",
              "      <td>NaN</td>\n",
              "    </tr>\n",
              "    <tr>\n",
              "      <th>3</th>\n",
              "      <td>감귤</td>\n",
              "      <td>5.00000</td>\n",
              "      <td>7500</td>\n",
              "      <td>제주 북제주군</td>\n",
              "      <td>normal</td>\n",
              "      <td>2022-01-03</td>\n",
              "      <td>4</td>\n",
              "      <td>1500.00000</td>\n",
              "      <td>제주</td>\n",
              "      <td>북제주군</td>\n",
              "      <td>NaN</td>\n",
              "      <td>NaN</td>\n",
              "    </tr>\n",
              "    <tr>\n",
              "      <th>4</th>\n",
              "      <td>감귤</td>\n",
              "      <td>5.00000</td>\n",
              "      <td>8500</td>\n",
              "      <td>제주</td>\n",
              "      <td>normal</td>\n",
              "      <td>2022-01-03</td>\n",
              "      <td>4</td>\n",
              "      <td>1700.00000</td>\n",
              "      <td>제주</td>\n",
              "      <td>NaN</td>\n",
              "      <td>NaN</td>\n",
              "      <td>NaN</td>\n",
              "    </tr>\n",
              "    <tr>\n",
              "      <th>...</th>\n",
              "      <td>...</td>\n",
              "      <td>...</td>\n",
              "      <td>...</td>\n",
              "      <td>...</td>\n",
              "      <td>...</td>\n",
              "      <td>...</td>\n",
              "      <td>...</td>\n",
              "      <td>...</td>\n",
              "      <td>...</td>\n",
              "      <td>...</td>\n",
              "      <td>...</td>\n",
              "      <td>...</td>\n",
              "    </tr>\n",
              "    <tr>\n",
              "      <th>847457</th>\n",
              "      <td>파래김</td>\n",
              "      <td>5.00000</td>\n",
              "      <td>9000</td>\n",
              "      <td>전남 고흥(나로도)\\t</td>\n",
              "      <td>normal</td>\n",
              "      <td>2022-01-28</td>\n",
              "      <td>3</td>\n",
              "      <td>1800.00000</td>\n",
              "      <td>전남</td>\n",
              "      <td>고흥(나로도)\\t</td>\n",
              "      <td>NaN</td>\n",
              "      <td>NaN</td>\n",
              "    </tr>\n",
              "    <tr>\n",
              "      <th>847458</th>\n",
              "      <td>파래김</td>\n",
              "      <td>5.00000</td>\n",
              "      <td>8000</td>\n",
              "      <td>전남 고흥(나로도)\\t</td>\n",
              "      <td>normal</td>\n",
              "      <td>2022-01-29</td>\n",
              "      <td>3</td>\n",
              "      <td>1600.00000</td>\n",
              "      <td>전남</td>\n",
              "      <td>고흥(나로도)\\t</td>\n",
              "      <td>NaN</td>\n",
              "      <td>NaN</td>\n",
              "    </tr>\n",
              "    <tr>\n",
              "      <th>847459</th>\n",
              "      <td>파래김</td>\n",
              "      <td>5.00000</td>\n",
              "      <td>7000</td>\n",
              "      <td>전남 고흥(나로도)\\t</td>\n",
              "      <td>normal</td>\n",
              "      <td>2022-01-30</td>\n",
              "      <td>3</td>\n",
              "      <td>1400.00000</td>\n",
              "      <td>전남</td>\n",
              "      <td>고흥(나로도)\\t</td>\n",
              "      <td>NaN</td>\n",
              "      <td>NaN</td>\n",
              "    </tr>\n",
              "    <tr>\n",
              "      <th>847460</th>\n",
              "      <td>파래김</td>\n",
              "      <td>5.00000</td>\n",
              "      <td>5000</td>\n",
              "      <td>전남 고흥(나로도)\\t</td>\n",
              "      <td>normal</td>\n",
              "      <td>2022-01-31</td>\n",
              "      <td>3</td>\n",
              "      <td>1000.00000</td>\n",
              "      <td>전남</td>\n",
              "      <td>고흥(나로도)\\t</td>\n",
              "      <td>NaN</td>\n",
              "      <td>NaN</td>\n",
              "    </tr>\n",
              "    <tr>\n",
              "      <th>847461</th>\n",
              "      <td>파래김</td>\n",
              "      <td>5.00000</td>\n",
              "      <td>5000</td>\n",
              "      <td>전남 고흥(나로도)\\t</td>\n",
              "      <td>normal</td>\n",
              "      <td>2022-01-31</td>\n",
              "      <td>3</td>\n",
              "      <td>1000.00000</td>\n",
              "      <td>전남</td>\n",
              "      <td>고흥(나로도)\\t</td>\n",
              "      <td>NaN</td>\n",
              "      <td>NaN</td>\n",
              "    </tr>\n",
              "  </tbody>\n",
              "</table>\n",
              "<p>847448 rows × 12 columns</p>\n",
              "</div>"
            ],
            "text/plain": [
              "        prd   scale  price        origin     eco   reg_date  new_class  \\\n",
              "0        감귤 5.00000   5000            제주  normal 2022-01-03          4   \n",
              "1        감귤 5.00000   8000            제주  normal 2022-01-03          4   \n",
              "2        감귤 5.00000   7500            제주  normal 2022-01-03          4   \n",
              "3        감귤 5.00000   7500       제주 북제주군  normal 2022-01-03          4   \n",
              "4        감귤 5.00000   8500            제주  normal 2022-01-03          4   \n",
              "...     ...     ...    ...           ...     ...        ...        ...   \n",
              "847457  파래김 5.00000   9000  전남 고흥(나로도)\\t  normal 2022-01-28          3   \n",
              "847458  파래김 5.00000   8000  전남 고흥(나로도)\\t  normal 2022-01-29          3   \n",
              "847459  파래김 5.00000   7000  전남 고흥(나로도)\\t  normal 2022-01-30          3   \n",
              "847460  파래김 5.00000   5000  전남 고흥(나로도)\\t  normal 2022-01-31          3   \n",
              "847461  파래김 5.00000   5000  전남 고흥(나로도)\\t  normal 2022-01-31          3   \n",
              "\n",
              "         price_kg   0          1    2    3  \n",
              "0      1000.00000  제주        NaN  NaN  NaN  \n",
              "1      1600.00000  제주        NaN  NaN  NaN  \n",
              "2      1500.00000  제주        NaN  NaN  NaN  \n",
              "3      1500.00000  제주       북제주군  NaN  NaN  \n",
              "4      1700.00000  제주        NaN  NaN  NaN  \n",
              "...           ...  ..        ...  ...  ...  \n",
              "847457 1800.00000  전남  고흥(나로도)\\t  NaN  NaN  \n",
              "847458 1600.00000  전남  고흥(나로도)\\t  NaN  NaN  \n",
              "847459 1400.00000  전남  고흥(나로도)\\t  NaN  NaN  \n",
              "847460 1000.00000  전남  고흥(나로도)\\t  NaN  NaN  \n",
              "847461 1000.00000  전남  고흥(나로도)\\t  NaN  NaN  \n",
              "\n",
              "[847448 rows x 12 columns]"
            ]
          },
          "execution_count": 76,
          "metadata": {},
          "output_type": "execute_result"
        }
      ],
      "source": [
        "# 해당 조건에 맞는 값 추출\n",
        "\n",
        "splits = df3['origin'].str.split(' ')\n",
        "cacul = splits.apply(lambda x: pd.Series(x))\n",
        "df66 = pd.merge(df3,cacul, left_index=True, right_index=True, how='inner')\n",
        "df66"
      ]
    },
    {
      "cell_type": "code",
      "execution_count": 77,
      "metadata": {
        "id": "NVkmVZ7ip9-N"
      },
      "outputs": [],
      "source": [
        "# 세부 카테고리 정리 (state, city 편집 시 여기서 시작)\n",
        "\n",
        "df4 = df66.rename(columns = {0:'state',1:'city'})\n",
        "\n",
        "# 2,3은 필요없는 정보이므로 삭제\n",
        "df4 = df4.drop(columns=[2,3])"
      ]
    },
    {
      "cell_type": "code",
      "execution_count": 78,
      "metadata": {
        "colab": {
          "base_uri": "https://localhost:8080/"
        },
        "id": "JcsSUlI_27J3",
        "outputId": "817067e6-2645-4c9c-c86f-047b1471bb9b"
      },
      "outputs": [
        {
          "data": {
            "text/plain": [
              "array(['제주', '제주특별자치도', '경남', '제주도', '전남', '충남', '경기', '서울', '경북',\n",
              "       '서울특별시', '서울시', '제주시', '충북', '인천', '부산', '전북', '강원', '광주', '세종',\n",
              "       '강원도', '부산시', '전라북도', '인천시', '서귀포시', '경기도', '미등록', '수입산', '통가',\n",
              "       '뉴칼레도니아', '누벨칼레도니', '뉴질랜드', '경상남도', '대구', '청주시', '중국', '세종시',\n",
              "       '충청남도', '전남/고흥군', '대전', '전주시', '광주시', '경북/문경시', '인천광역시', '포항시',\n",
              "       '성남시', '가락동', '베트남', '수원시', '페루', '미국', '필리핀', '칠레', '울산', '대구시',\n",
              "       '대만', '멕시코', '과테말라', '에콰도르', '코스타리카', '콜롬비아', '에쿠아도르', '에콰돌',\n",
              "       '이스라엘', '전북전주시완산구', '충북청주시상당구', '수입', '이란', '오스트레일', '호주', '아르헨티나',\n",
              "       '태국', '캄보디아', '타이', '국내산\\t', '포클랜드\\t'], dtype=object)"
            ]
          },
          "execution_count": 78,
          "metadata": {},
          "output_type": "execute_result"
        }
      ],
      "source": [
        "df4['state'].unique()"
      ]
    },
    {
      "cell_type": "code",
      "execution_count": 79,
      "metadata": {
        "id": "SsvDFEbgqQjD"
      },
      "outputs": [],
      "source": [
        "# 시,도 제거\n",
        "def name_sort(words):\n",
        "  p = re.compile('[^시도]+')\n",
        "  word = re.search(p,str(words))\n",
        "  return word.group()\n",
        "\n",
        "df4[\"state\"] = df4[\"state\"].apply(name_sort)\n",
        "\n",
        "# 오타도 제거\n",
        "\n",
        "def name_sort2(words):\n",
        "  p = re.compile('[^\\t]+')\n",
        "  word = re.search(p,words)\n",
        "  return word.group()\n",
        "\n",
        "df4[\"state\"] = df4[\"state\"].apply(name_sort2)"
      ]
    },
    {
      "cell_type": "code",
      "execution_count": 80,
      "metadata": {
        "colab": {
          "base_uri": "https://localhost:8080/"
        },
        "id": "JeybBf_fqhqh",
        "outputId": "b5542367-86fe-4c6e-deab-f28f7d1ce6f5"
      },
      "outputs": [
        {
          "data": {
            "text/plain": [
              "array(['제주', '제주특별자치', '경남', '전남', '충남', '경기', '서울', '경북', '서울특별', '충북',\n",
              "       '인천', '부산', '전북', '강원', '광주', '세종', '전라북', '서귀포', '미등록', '수입산',\n",
              "       '통가', '뉴칼레', '누벨칼레', '뉴질랜드', '경상남', '대구', '청주', '중국', '충청남',\n",
              "       '전남/고흥군', '대전', '전주', '경북/문경', '인천광역', '포항', '성남', '가락동', '베트남',\n",
              "       '수원', '페루', '미국', '필리핀', '칠레', '울산', '대만', '멕', '과테말라', '에콰',\n",
              "       '코스타리카', '콜롬비아', '에쿠아', '에콰돌', '이스라엘', '전북전주', '충북청주', '수입', '이란',\n",
              "       '오스트레일', '호주', '아르헨티나', '태국', '캄보디아', '타이', '국내산', '포클랜드'],\n",
              "      dtype=object)"
            ]
          },
          "execution_count": 80,
          "metadata": {},
          "output_type": "execute_result"
        }
      ],
      "source": [
        "df4[\"state\"].unique()"
      ]
    },
    {
      "cell_type": "code",
      "execution_count": 87,
      "metadata": {
        "id": "FDUnVy0e1br6"
      },
      "outputs": [],
      "source": [
        "# state\n",
        "# 특이케이스 제거\n",
        "\n",
        "# 국내\n",
        "df4.loc[df4[\"state\"]==\"국내산\",\"city\"] = \"미상\"\n",
        "df4.loc[df4[\"state\"]==\"국내산\",\"state\"] = \"국산\"\n",
        "df4.loc[df4[\"state\"]==\"원양산\",\"city\"] = \"미상\"\n",
        "\n",
        "## 도단위\n",
        "df4.loc[df4[\"state\"]==\"충청북\",\"state\"] = \"충북\"\n",
        "df4.loc[df4[\"state\"]==\"충청남\",\"state\"] = \"충남\"\n",
        "df4.loc[df4[\"state\"]==\"전라북\",\"state\"] = \"전북\"\n",
        "df4.loc[df4[\"state\"]==\"전라남\",\"state\"] = \"전남\"\n",
        "df4.loc[df4[\"state\"]==\"경상북\",\"state\"] = \"경북\"\n",
        "df4.loc[df4[\"state\"]==\"경상남\",\"state\"] = \"경남\"\n",
        "\n",
        "## 시단위\n",
        "### 광역시\n",
        "\n",
        "df4.loc[df4[\"state\"]==\"대전\",\"city\"] = \"대전\"\n",
        "df4.loc[df4[\"state\"]==\"대구\",\"city\"] = \"대구\"\n",
        "df4.loc[df4[\"state\"]==\"서울특별\",\"city\"] = \"서울\"\n",
        "df4.loc[df4[\"state\"]==\"서울특별\",\"state\"] = \"서울\"\n",
        "df4.loc[df4[\"state\"]==\"인천광역\",\"city\"] = \"인천\"\n",
        "df4.loc[df4[\"state\"]==\"인천광역\",\"state\"] = \"인천\"\n",
        "df4.loc[df4[\"state\"]==\"부산\",\"city\"] = \"부산\"\n",
        "df4.loc[df4[\"state\"]==\"부산광역\",\"city\"] = \"부산\"\n",
        "df4.loc[df4[\"state\"]==\"부산광역\",\"state\"] = \"부산\"\n",
        "df4.loc[df4[\"state\"]==\"가락동\",\"city\"] = \"서울\"\n",
        "df4.loc[df4[\"state\"]==\"가락동\",\"state\"] = \"서울\"\n",
        "df4.loc[df4[\"state\"]==\"세종\",\"city\"] = \"세종\"\n",
        "df4.loc[df4[\"state\"]==\"세종특별자치\",\"city\"] = \"세종\"\n",
        "df4.loc[df4[\"state\"]==\"세종특별자치\",\"state\"] = \"세종\"\n",
        "df4.loc[df4[\"state\"]==\"대전\",\"city\"] = \"대전\"\n",
        "df4.loc[df4[\"state\"]==\"제주\",\"city\"] = \"제주\"\n",
        "df4.loc[df4[\"state\"]==\"제주특별자치\",\"city\"] = \"제주\"\n",
        "df4.loc[df4[\"state\"]==\"제주특별자치\",\"state\"] = \"제주\"\n",
        "df4.loc[df4[\"state\"]==\"제주특별자\",\"city\"] = \"제주\"\n",
        "df4.loc[df4[\"state\"]==\"제주특별자\",\"state\"] = \"제주\"\n",
        "df4.loc[df4[\"state\"]==\"제주/서귀포\",\"city\"] = \"제주\"\n",
        "df4.loc[df4[\"state\"]==\"제주/서귀포\",\"state\"] = \"제주\"\n",
        "df4.loc[df4[\"state\"]==\"서귀포\",\"city\"] = \"제주\"\n",
        "df4.loc[df4[\"state\"]==\"서귀포\",\"state\"] = \"제주\"\n",
        "df4.loc[df4[\"state\"]==\"세종\",\"city\"] = \"세종\"\n",
        "df4.loc[df4[\"state\"]==\"울산\",\"city\"] = \"울산\"\n",
        "df4.loc[df4[\"state\"]==\"울산\",\"state\"] = \"울산\"\n",
        "\n",
        "### 일반시\n",
        "df4.loc[df4[\"state\"]==\"성남\",\"city\"] = \"성남\"\n",
        "df4.loc[df4[\"state\"]==\"성남\",\"state\"] = \"경기\"\n",
        "df4.loc[df4[\"state\"]==\"전주\",\"city\"] = \"전주\"\n",
        "df4.loc[df4[\"state\"]==\"전주\",\"state\"] = \"전북\"\n",
        "df4.loc[df4[\"state\"]==\"청주\",\"city\"] = \"청주\"\n",
        "df4.loc[df4[\"state\"]==\"청주\",\"state\"] = \"충북\"\n",
        "df4.loc[df4[\"state\"]==\"수원\",\"city\"] = \"수원\"\n",
        "df4.loc[df4[\"state\"]==\"수원\",\"state\"] = \"경기\"\n",
        "df4.loc[df4[\"state\"]==\"부천\",\"city\"] = \"부천\"\n",
        "df4.loc[df4[\"state\"]==\"부천\",\"state\"] = \"경기\"\n",
        "df4.loc[df4[\"state\"]==\"경기고양\",\"city\"] = \"고양\"\n",
        "df4.loc[df4[\"state\"]==\"경기고양\",\"state\"] = \"경기\"\n",
        "df4.loc[df4[\"state\"]==\"충북청주\",\"city\"] = \"청주\"\n",
        "df4.loc[df4[\"state\"]==\"충북청주\",\"state\"] = \"충북\"\n",
        "df4.loc[df4[\"state\"]==\"전북전주\",\"city\"] = \"전주\"\n",
        "df4.loc[df4[\"state\"]==\"전북전주\",\"state\"] = \"전북\"\n",
        "df4.loc[df4[\"state\"]==\"경북/문경\",\"city\"] = \"문경\"\n",
        "df4.loc[df4[\"state\"]==\"경북/문경\",\"state\"] = \"경북\"\n",
        "df4.loc[df4[\"state\"]==\"포항\",\"city\"] = \"포항\"\n",
        "df4.loc[df4[\"state\"]==\"포항\",\"state\"] = \"경북\"\n",
        "df4.loc[df4[\"state\"]==\"경북/안동\",\"city\"] = \"안동\"\n",
        "df4.loc[df4[\"state\"]==\"경북/안동\",\"state\"] = \"경북\"\n",
        "df4.loc[df4[\"state\"]==\"전남/무안군\",\"city\"] = \"전남\"\n",
        "df4.loc[df4[\"state\"]==\"전남/무안군\",\"state\"] = \"무안\"\n",
        "df4.loc[df4[\"state\"]==\"경북/구미\",\"city\"] = \"구미\"\n",
        "df4.loc[df4[\"state\"]==\"경북/구미\",\"state\"] = \"경북\"\n",
        "df4.loc[df4[\"state\"]==\"경북/상주\",\"city\"] = \"상주\"\n",
        "df4.loc[df4[\"state\"]==\"경북/상주\",\"state\"] = \"경북\"\n",
        "df4.loc[df4[\"state\"]==\"경북/영천\",\"city\"] = \"영천\"\n",
        "df4.loc[df4[\"state\"]==\"경북/영천\",\"state\"] = \"경북\"\n",
        "df4.loc[df4[\"state\"]==\"경남/합천군\",\"city\"] = \"합천\"\n",
        "df4.loc[df4[\"state\"]==\"경남/합천군\",\"state\"] = \"경남\"\n",
        "df4.loc[df4[\"state\"]==\"전남/고흥군\",\"city\"] = \"고흥\"\n",
        "df4.loc[df4[\"state\"]==\"전남/고흥군\",\"state\"] = \"전남\"\n",
        "df4.loc[df4[\"state\"]==\"무안\",\"state\"] = \"전남\"\n",
        "df4.loc[df4[\"state\"]==\"서해안\",\"city\"] = \"미상\"\n",
        "df4.loc[df4[\"state\"]==\"서해안\",\"state\"] = \"국산\"\n",
        "df4.loc[df4[\"state\"]==\"남해안\",\"city\"] = \"미상\"\n",
        "df4.loc[df4[\"state\"]==\"남해안\",\"state\"] = \"국산\"\n",
        "\n",
        "\n",
        "# 외국\n",
        "## 아시아\n",
        "df4.loc[df4[\"state\"]==\"칠레\",\"city\"] = \"칠레\"\n",
        "df4.loc[df4[\"state\"]==\"칠레\",\"state\"] = \"수입\"\n",
        "df4.loc[df4[\"state\"]==\"일본\",\"city\"] = \"일본\"\n",
        "df4.loc[df4[\"state\"]==\"일본\",\"state\"] = \"수입\"\n",
        "df4.loc[df4[\"state\"]==\"베트남\",\"city\"] = \"베트남\"\n",
        "df4.loc[df4[\"state\"]==\"베트남\",\"state\"] = \"수입\"\n",
        "df4.loc[df4[\"state\"]==\"우즈베크\",\"city\"] = \"우즈베키스탄\"\n",
        "df4.loc[df4[\"state\"]==\"우즈베크\",\"state\"] = \"수입\"\n",
        "df4.loc[df4[\"state\"]==\"이스라엘\",\"city\"] = \"이스라엘\"\n",
        "df4.loc[df4[\"state\"]==\"이스라엘\",\"state\"] = \"수입\"\n",
        "df4.loc[df4[\"state\"]==\"터키\",\"city\"] = \"터키\"\n",
        "df4.loc[df4[\"state\"]==\"터키\",\"state\"] = \"수입\"\n",
        "df4.loc[df4[\"state\"]==\"중국\",\"city\"] = \"중국\"\n",
        "df4.loc[df4[\"state\"]==\"중국\",\"state\"] = \"수입\"\n",
        "df4.loc[df4[\"state\"]==\"타이\",\"city\"] = \"태국\"\n",
        "df4.loc[df4[\"state\"]==\"타이\",\"state\"] = \"수입\"\n",
        "df4.loc[df4[\"state\"]==\"태국\",\"city\"] = \"태국\"\n",
        "df4.loc[df4[\"state\"]==\"태국\",\"state\"] = \"수입\"\n",
        "df4.loc[df4[\"state\"]==\"필리핀\",\"city\"] = \"필리핀\"\n",
        "df4.loc[df4[\"state\"]==\"필리핀\",\"state\"] = \"수입\"\n",
        "df4.loc[df4[\"state\"]==\"우즈베키스탄\",\"city\"] = \"우즈베키스탄\"\n",
        "df4.loc[df4[\"state\"]==\"우즈베키스탄\",\"state\"] = \"수입\"\n",
        "df4.loc[df4[\"state\"]==\"대만\",\"city\"] = \"대만\"\n",
        "df4.loc[df4[\"state\"]==\"대만\",\"state\"] = \"수입\"\n",
        "df4.loc[df4[\"state\"]==\"베트남\",\"city\"] = \"베트남\"\n",
        "df4.loc[df4[\"state\"]==\"베트남\",\"state\"] = \"수입\"\n",
        "df4.loc[df4[\"state\"]==\"이란\",\"city\"] = \"이란\"\n",
        "df4.loc[df4[\"state\"]==\"이란\",\"state\"] = \"수입\"\n",
        "df4.loc[df4[\"state\"]==\"러\",\"city\"] = \"러시아\"\n",
        "df4.loc[df4[\"state\"]==\"러\",\"state\"] = \"수입\"\n",
        "df4.loc[df4[\"state\"]==\"캄보디아\",\"city\"] = \"캄보디아\"\n",
        "df4.loc[df4[\"state\"]==\"캄보디아\",\"state\"] = \"수입\"\n",
        "df4.loc[(df4[\"state\"]==\"인\")&(df4[\"origin\"]==\"인도네시아\"),\"city\"] = \"인도네시아\"\n",
        "df4.loc[(df4[\"state\"]==\"인\")&(df4[\"origin\"]==\"인도네시아\"),\"state\"] = \"수입\"\n",
        "df4.loc[(df4[\"state\"]==\"인\")&(df4[\"origin\"]==\"인도\"),\"city\"] = \"인도\"\n",
        "df4.loc[(df4[\"state\"]==\"인\")&(df4[\"origin\"]==\"인도\"),\"state\"] = \"수입\"\n",
        "\n",
        "## 아메리카\n",
        "\n",
        "df4.loc[df4[\"state\"]==\"캘리포니아\",\"city\"] = \"미국\"\n",
        "df4.loc[df4[\"state\"]==\"캘리포니아\",\"state\"] = \"수입\"\n",
        "df4.loc[df4[\"state\"]==\"포클랜드\",\"city\"] = \"영국\"\n",
        "df4.loc[df4[\"state\"]==\"포클랜드\",\"state\"] = \"수입\"\n",
        "df4.loc[df4[\"state\"]==\"콜롬비아\",\"city\"] = \"콜롬비아\"\n",
        "df4.loc[df4[\"state\"]==\"콜롬비아\",\"state\"] = \"수입\"\n",
        "df4.loc[df4[\"state\"]==\"에콰\",\"city\"] = \"에콰도르\"\n",
        "df4.loc[df4[\"state\"]==\"에콰\",\"state\"] = \"수입\"\n",
        "df4.loc[df4[\"state\"]==\"에쿠아\",\"city\"] = \"에콰도르\"\n",
        "df4.loc[df4[\"state\"]==\"에쿠아\",\"state\"] = \"수입\"\n",
        "df4.loc[df4[\"state\"]==\"에콰돌\",\"city\"] = \"에콰도르\"\n",
        "df4.loc[df4[\"state\"]==\"에콰돌\",\"state\"] = \"수입\"\n",
        "df4.loc[df4[\"state\"]==\"과테말라\",\"city\"] = \"과테말라\"\n",
        "df4.loc[df4[\"state\"]==\"과테말라\",\"state\"] = \"수입\"\n",
        "df4.loc[df4[\"state\"]==\"코스타리카\",\"city\"] = \"코스타리카\"\n",
        "df4.loc[df4[\"state\"]==\"코스타리카\",\"state\"] = \"수입\"\n",
        "df4.loc[df4[\"state\"]==\"멕\",\"city\"] = \"멕시코\"\n",
        "df4.loc[df4[\"state\"]==\"멕\",\"state\"] = \"수입\"\n",
        "df4.loc[df4[\"state\"]==\"페루\",\"city\"] = \"페루\"\n",
        "df4.loc[df4[\"state\"]==\"페루\",\"state\"] = \"수입\"\n",
        "df4.loc[df4[\"state\"]==\"미국\",\"city\"] = \"미국\"\n",
        "df4.loc[df4[\"state\"]==\"미국\",\"state\"] = \"수입\"\n",
        "df4.loc[df4[\"state\"]==\"아르헨티나\",\"city\"] = \"아르헨티나\"\n",
        "df4.loc[df4[\"state\"]==\"아르헨티나\",\"state\"] = \"수입\"\n",
        "df4.loc[df4[\"state\"]==\"브라질\",\"city\"] = \"브라질\"\n",
        "df4.loc[df4[\"state\"]==\"브라질\",\"state\"] = \"수입\"\n",
        "\n",
        "## 유럽\n",
        "df4.loc[df4[\"state\"]==\"스페인\",\"city\"] = \"스페인\"\n",
        "df4.loc[df4[\"state\"]==\"스페인\",\"state\"] = \"수입\"\n",
        "df4.loc[df4[\"state\"]==\"우크라이나\",\"city\"] = \"우크라이나\"\n",
        "df4.loc[df4[\"state\"]==\"우크라이나\",\"state\"] = \"수입\"\n",
        "df4.loc[df4[\"state\"]==\"이탈리아\",\"city\"] = \"이탈리아\"\n",
        "df4.loc[df4[\"state\"]==\"이탈리아\",\"state\"] = \"수입\"\n",
        "df4.loc[df4[\"state\"]==\"불가리아\",\"city\"] = \"불가리아\"\n",
        "df4.loc[df4[\"state\"]==\"불가리아\",\"state\"] = \"수입\"\n",
        "\n",
        "## 아프리카\n",
        "df4.loc[df4[\"state\"]==\"남아프리카\",\"city\"] = \"남아공\"\n",
        "df4.loc[df4[\"state\"]==\"남아프리카\",\"state\"] = \"수입\"\n",
        "df4.loc[df4[\"state\"]==\"남아프리카공화국\",\"city\"] = \"남아공\"\n",
        "df4.loc[df4[\"state\"]==\"남아프리카공화국\",\"state\"] = \"수입\"\n",
        "df4.loc[df4[\"state\"]==\"수입남아프리카공화국\",\"city\"] = \"남아공\"\n",
        "df4.loc[df4[\"state\"]==\"수입남아프리카공화국\",\"state\"] = \"수입\"\n",
        "\n",
        "\n",
        "## 오세아니아\n",
        "df4.loc[df4[\"state\"]==\"뉴질랜드\",\"city\"] = \"뉴질랜드\"\n",
        "df4.loc[df4[\"state\"]==\"뉴질랜드\",\"state\"] = \"수입\"\n",
        "df4.loc[df4[\"state\"]==\"오스트레일\",\"city\"] = \"호주\"\n",
        "df4.loc[df4[\"state\"]==\"오스트레일\",\"state\"] = \"수입\"\n",
        "df4.loc[df4[\"state\"]==\"오스트레일리아\",\"city\"] = \"호주\"\n",
        "df4.loc[df4[\"state\"]==\"오스트레일리아\",\"state\"] = \"수입\"\n",
        "df4.loc[df4[\"state\"]==\"호주\",\"city\"] = \"호주\"\n",
        "df4.loc[df4[\"state\"]==\"호주\",\"state\"] = \"수입\"\n",
        "df4.loc[df4[\"state\"]==\"통가\",\"city\"] = \"통가\"\n",
        "df4.loc[df4[\"state\"]==\"통가\",\"state\"] = \"수입\"\n",
        "df4.loc[df4[\"state\"]==\"뉴칼레\",\"city\"] = \"뉴칼레도니아\"\n",
        "df4.loc[df4[\"state\"]==\"뉴칼레\",\"state\"] = \"수입\"\n",
        "df4.loc[df4[\"state\"]==\"뉴\",\"city\"] = \"뉴칼레도니아\"\n",
        "df4.loc[df4[\"state\"]==\"뉴\",\"state\"] = \"수입\"\n",
        "df4.loc[df4[\"state\"]==\"누벨칼레\",\"city\"] = \"뉴칼레도니아\"\n",
        "df4.loc[df4[\"state\"]==\"누벨칼레\",\"state\"] = \"수입\"\n",
        "# 기타\n",
        "df4.loc[df4[\"state\"]==\"수입산\",\"state\"] = \"수입\"\n",
        "df4.loc[df4[\"state\"]==\"기타외국\",\"city\"] = \"미상\"\n",
        "df4.loc[df4[\"state\"]==\"기타외국\",\"state\"] = \"수입\"\n",
        "df4.drop(df4[df4[\"state\"]==\"미등록\"].index,inplace=True)"
      ]
    },
    {
      "cell_type": "code",
      "execution_count": 88,
      "metadata": {
        "colab": {
          "base_uri": "https://localhost:8080/"
        },
        "id": "bPMNH6Fz9laX",
        "outputId": "c7ea6abb-e318-4350-9eea-394a56796052"
      },
      "outputs": [
        {
          "data": {
            "text/plain": [
              "array(['제주', '경남', '전남', '충남', '경기', '서울', '경북', '충북', '인천', '부산', '전북',\n",
              "       '강원', '광주', '세종', '수입', '대구', '대전', '울산', '국산'], dtype=object)"
            ]
          },
          "execution_count": 88,
          "metadata": {},
          "output_type": "execute_result"
        }
      ],
      "source": [
        "df4['state'].unique()"
      ]
    },
    {
      "cell_type": "code",
      "execution_count": 89,
      "metadata": {
        "id": "Ih5vw324J-Ed"
      },
      "outputs": [],
      "source": [
        "# city\n",
        "# 우선 결측치 제거\n",
        "df4.loc[df4[\"city\"].isnull(),\"city\"] = \"미상\""
      ]
    },
    {
      "cell_type": "code",
      "execution_count": 90,
      "metadata": {
        "id": "cXY3uABaKSty"
      },
      "outputs": [],
      "source": [
        "# 이후 시,군 등 제거\n",
        "def name_sort(words):\n",
        "  p = re.compile('[^시군]+')\n",
        "  word = re.search(p,words)\n",
        "  return word.group()\n",
        "\n",
        "df4[\"city\"] = df4[\"city\"].apply(name_sort)"
      ]
    },
    {
      "cell_type": "code",
      "execution_count": 91,
      "metadata": {
        "id": "QuyWFOs1R7yP"
      },
      "outputs": [],
      "source": [
        "# \\t 도 제거\n",
        "def name_sort2(words):\n",
        "  p = re.compile('[^\\t]+')\n",
        "  word = re.search(p,words)\n",
        "  return word.group()\n",
        "\n",
        "df4[\"city\"] = df4[\"city\"].apply(name_sort2)"
      ]
    },
    {
      "cell_type": "code",
      "execution_count": 92,
      "metadata": {
        "colab": {
          "base_uri": "https://localhost:8080/"
        },
        "id": "szJvb99ySEPR",
        "outputId": "97ca859c-e684-45b0-f3d0-488abdd6cedf"
      },
      "outputs": [
        {
          "data": {
            "text/plain": [
              "array(['제주', '산청', '사천', '진주', '나주', '예산', '여수', '고흥', '안성', '영등포구', '장흥',\n",
              "       '무안', '완도', '성주', '공주', '함안', '서울', '하동', '담양', '양산', '강서구', '함평',\n",
              "       '충주', '중구', '김해', '화순', '고성', '창원', '강화', '광양', '부산', '미상', '파주',\n",
              "       '이천', '경주', '문경', '진천', '남해', '여주', '진안', '정읍', '상주', '장수', '밀양',\n",
              "       '부여', '남원', '순천', '당진', '철원', '김포', '익산', '춘천', '영암', '속초', '김제',\n",
              "       '보성', '논산', '평택', '청양', '해남', '창녕', '광산구', '용인', '김천', '강진', '화성',\n",
              "       '서천', '횡성', '세종', '보령', '영광', '장성', '부안', '홍성', '양구', '오산', '음성',\n",
              "       '합천', '가평', '북구', '서구', '평창', '무주', '함양', '산', '안동', '임실', '청도',\n",
              "       '양주', '서산', '금산', '천안', '고창', '원주', '청원', '완주', '아산', '태안', '거제',\n",
              "       '청주', '구례', '의령', '광주', '신안', '뉴칼레도니아', '통가', '예천', '홍천', '양평',\n",
              "       '영주', '뉴질랜드', '곡성', '증평', '대구', '양양', '포천', '중국', '영월', '태백', '동해',\n",
              "       '수원', '연천', '순창', '화천', '흥', '인제', '괴산', '영동', '의왕', '고양', '하남',\n",
              "       '성남', '의정부', '보은', '남양주', '송파구', '거창', '고령', '이집트', '미국', '칠레',\n",
              "       '전주', '강동구', '동대문구', '구리', '양천구', '광명', '경산', '중랑구', '도봉구', '제천',\n",
              "       '영양', '강릉', '마산', '봉화', '구미', '정선', '영덕', '진도', '영천', '의성', '대전',\n",
              "       '필리핀', '남구', '미추홀구', '남동구', '인천', '포항', '목포', '계양구', '은평구', '청송',\n",
              "       '단양', '위', '삼척', '옥천', '안산', '부평구', '베트남', '동대문', '연기', '페루', '울산',\n",
              "       '대만', '부천', '멕', '계룡', '과테말라', '에콰도르', '코스타리카', '콜롬비아', '이스라엘',\n",
              "       '강남구', '말레이지아', '인도', '러', '아르헨티나', '이란', '호주', '태국', '캄보디아',\n",
              "       '장항(서천)', '마산(고성,진해)', '삼천포', '통영', '고흥(나로도)', '순천(광양)', '노르웨이',\n",
              "       '네덜란드', '세네갈', '기타', '일본', '바레인', '영국'], dtype=object)"
            ]
          },
          "execution_count": 92,
          "metadata": {},
          "output_type": "execute_result"
        }
      ],
      "source": [
        "df4['city'].unique()"
      ]
    },
    {
      "cell_type": "code",
      "execution_count": 93,
      "metadata": {
        "id": "MrIoC_BDQ_ic"
      },
      "outputs": [],
      "source": [
        "# 나머지 케이스 정리\n",
        "\n",
        "# 국내\n",
        "df4.loc[df4[\"city\"]==\"기타\",\"city\"] = \"미상\"\n",
        "## 일반시\n",
        "df4.loc[df4[\"city\"]==\"위\",\"city\"] = \"군위\"\n",
        "df4.loc[df4[\"city\"]==\"고흥(나로도)\",\"city\"] = \"고흥\"\n",
        "df4.loc[df4[\"city\"]==\"산\",\"city\"] = \"군산\"\n",
        "df4.loc[df4[\"city\"]==\"장항(서천)\",\"city\"] = \"서천\"\n",
        "df4.loc[df4[\"city\"]==\"삼천포\",\"city\"] = \"사천\"\n",
        "df4.loc[df4[\"city\"]==\"삼천포\",\"city\"] = \"사천\"\n",
        "df4.loc[df4[\"city\"]==\"순천(광양)\",\"city\"] = \"순천\"\n",
        "df4.loc[df4[\"city\"]==\"대천(보령)\",\"city\"] = \"보령\"\n",
        "df4.loc[df4[\"city\"]==\"대천(보령)\",\"city\"] = \"보령\"\n",
        "df4.loc[df4[\"city\"]==\"화성(평택)\",\"city\"] = \"화성\"\n",
        "df4.loc[df4[\"city\"]==\"흥\",\"city\"] = \"시흥\"\n",
        "df4.loc[df4[\"city\"]==\"목포(무안)\",\"city\"] = \"목포\"\n",
        "df4.loc[df4[\"city\"]==\"목포(무안)\",\"state\"] = \"전남\"\n",
        "df4.loc[df4[\"city\"]==\"보성(벌교)\",\"city\"] = \"보성\"\n",
        "df4.loc[df4[\"city\"]==\"울진(후포)\",\"city\"] = \"울진\"\n",
        "df4.loc[df4[\"city\"]==\"논\",\"city\"] = \"논산\"\n",
        "df4.loc[df4[\"city\"]==\"논\",\"city\"] = \"논산\"\n",
        "df4.loc[df4[\"city\"]==\"순\",\"city\"] = \"순창\"\n",
        "df4.loc[df4[\"city\"]==\"익\",\"city\"] = \"익산\"\n",
        "df4.loc[df4[\"city\"]==\"미금\",\"city\"] = \"성남\"\n",
        "df4.loc[df4[\"city\"]==\"주문진\",\"city\"] = \"강릉\"\n",
        "df4.loc[df4[\"city\"]==\"전남\",\"city\"] = \"무안\"\n",
        "df4.loc[df4[\"city\"]==\"장\",\"city\"] = \"장수\"\n",
        "df4.loc[df4[\"city\"]==\"거제(장승포)\",\"city\"] = \"거제\"\n",
        "df4.loc[(df4[\"city\"]==\"완\")&(df4[\"state\"]==\"전북\"),\"city\"] = \"완주\"\n",
        "df4.loc[(df4[\"state\"]==\"전북\")&(df4[\"city\"]==\"남\"),\"city\"] = \"남원\"\n",
        "df4.loc[(df4['prd']==\"호박\") & (df4['state']=='전북'),\"city\"] = \"전주\"\n",
        "## 광역시\n",
        "df4.loc[df4[\"city\"]==\"강서구\",\"city\"] = \"서울\"\n",
        "df4.loc[df4[\"city\"]==\"은평구\",\"city\"] = \"서울\"\n",
        "df4.loc[df4[\"city\"]==\"강동구\",\"city\"] = \"서울\"\n",
        "df4.loc[df4[\"city\"]==\"마포구\",\"city\"] = \"서울\"\n",
        "df4.loc[df4[\"city\"]==\"중구\",\"city\"] = \"서울\"\n",
        "df4.loc[df4[\"city\"]==\"송파구\",\"city\"] = \"서울\"\n",
        "df4.loc[df4[\"city\"]==\"도봉구\",\"city\"] = \"서울\"\n",
        "df4.loc[df4[\"city\"]==\"중랑구\",\"city\"] = \"서울\"\n",
        "df4.loc[df4[\"city\"]==\"양천구\",\"city\"] = \"서울\"\n",
        "df4.loc[df4[\"city\"]==\"성동구\",\"city\"] = \"서울\"\n",
        "df4.loc[df4[\"city\"]==\"강남구\",\"city\"] = \"서울\"\n",
        "df4.loc[df4[\"city\"]==\"동대문구\",\"city\"] = \"서울\"\n",
        "df4.loc[df4[\"city\"]==\"영등포구\",\"city\"] = \"서울\"\n",
        "df4.loc[df4[\"city\"]==\"영등포\",\"city\"] = \"서울\"\n",
        "df4.loc[df4[\"city\"]==\"서초구\",\"city\"] = \"서울\"\n",
        "df4.loc[df4[\"city\"]==\"구로구\",\"city\"] = \"서울\"\n",
        "df4.loc[df4[\"city\"]==\"동대문\",\"city\"] = \"서울\"\n",
        "df4.loc[df4[\"city\"]==\"금천구\",\"city\"] = \"서울\"\n",
        "df4.loc[df4[\"city\"]==\"동작구\",\"city\"] = \"서울\"\n",
        "df4.loc[df4[\"city\"]==\"용산구\",\"city\"] = \"서울\"\n",
        "df4.loc[df4[\"city\"]==\"광진구\",\"city\"] = \"서울\"\n",
        "df4.loc[df4[\"city\"]==\"종로구\",\"city\"] = \"서울\"\n",
        "\n",
        "df4.loc[df4[\"city\"]==\"광산구\",\"city\"] = \"광주\"\n",
        "df4.loc[(df4[\"state\"]==\"광주\")&(df4[\"city\"]==\"남구\"),\"city\"] = \"광주\"\n",
        "df4.loc[(df4[\"state\"]==\"광주\")&(df4[\"city\"]==\"북구\"),\"city\"] = \"광주\"\n",
        "df4.loc[(df4[\"state\"]==\"광주\")&(df4[\"city\"]==\"서구\"),\"city\"] = \"광주\"\n",
        "df4.loc[df4[\"city\"]==\"동구\",\"city\"] = \"광주\"\n",
        "df4.loc[(df4[\"state\"]==\"인천\")&(df4[\"city\"]==\"남구\"),\"city\"] = \"인천\"\n",
        "df4.loc[(df4[\"state\"]==\"인천\")&(df4[\"city\"]==\"서구\"),\"city\"] = \"인천\"\n",
        "df4.loc[df4[\"city\"]==\"미추홀\",\"city\"] = \"인천\"\n",
        "df4.loc[df4[\"city\"]==\"부평구\",\"city\"] = \"인천\"\n",
        "df4.loc[df4[\"city\"]==\"남동구\",\"city\"] = \"인천\"\n",
        "df4.loc[df4[\"city\"]==\"미추홀구\",\"city\"] = \"인천\"\n",
        "df4.loc[df4[\"city\"]==\"계양구\",\"city\"] = \"인천\"\n",
        "df4.loc[df4[\"city\"]==\"마산(고성,진해)\",\"city\"] = \"창원\"\n",
        "df4.loc[(df4[\"state\"]==\"부산\")&(df4[\"city\"]==\"북구\"),\"city\"] = \"부산\"\n",
        "df4.loc[df4[\"city\"]==\"오포\",\"city\"] = \"부산\"\n",
        "df4.loc[df4[\"city\"]==\"부산진\",\"city\"] = \"부산\"\n",
        "df4.loc[df4[\"city\"]==\"사상구\",\"city\"] = \"부산\"\n",
        "df4.loc[df4[\"city\"]==\"부산진구\",\"city\"] = \"부산\"\n",
        "df4.loc[df4[\"city\"]==\"북제주\",\"city\"] = \"제주\"\n",
        "df4.loc[df4[\"city\"]==\"남제주\",\"city\"] = \"제주\"\n",
        "\n",
        "# 해외\n",
        "## 아시아\n",
        "df4.loc[df4[\"city\"]==\"러\",\"city\"] = \"러시아\"\n",
        "df4.loc[df4[\"city\"]==\"말레이지아\",\"city\"] = \"말레이시아\"\n",
        "df4.loc[df4[\"city\"]==\"타이\",\"city\"] = \"태국\"\n",
        "df4.loc[df4[\"city\"]==\"인도네\",\"city\"] = \"인도네시아\"\n",
        "df4.loc[df4[\"city\"]==\"사우디\",\"city\"] = \"사우디아라비아\"\n",
        "## 아메리카\n",
        "df4.loc[df4[\"city\"]==\"멕\",\"city\"] = \"멕시코\"\n",
        "## 아프리카\n",
        "df4.loc[df4[\"city\"]==\"남아공산\",\"city\"] = \"남아공\"\n",
        "## 유럽\n",
        "## 오세아니아"
      ]
    },
    {
      "cell_type": "code",
      "execution_count": 94,
      "metadata": {},
      "outputs": [
        {
          "data": {
            "text/plain": [
              "array(['네덜란드'], dtype=object)"
            ]
          },
          "execution_count": 94,
          "metadata": {},
          "output_type": "execute_result"
        }
      ],
      "source": [
        "# 기존 city 리스트와 비교\n",
        "ex_city = pd.read_csv(\"../cities.csv\")\n",
        "df4[~df4['city'].isin(ex_city['city'])]['city'].unique()"
      ]
    },
    {
      "cell_type": "code",
      "execution_count": 95,
      "metadata": {},
      "outputs": [
        {
          "name": "stderr",
          "output_type": "stream",
          "text": [
            "/var/folders/nq/s4zx76p53d11lnr0t1dxpxh00000gn/T/ipykernel_3342/1856950528.py:3: FutureWarning: The frame.append method is deprecated and will be removed from pandas in a future version. Use pandas.concat instead.\n",
            "  cities = ex_city.append(new_city,ignore_index=True)\n"
          ]
        }
      ],
      "source": [
        "# 리스트 최신화\n",
        "new_city = pd.DataFrame(df4['city'].unique(),columns=['city'])\n",
        "cities = ex_city.append(new_city,ignore_index=True)"
      ]
    },
    {
      "cell_type": "code",
      "execution_count": 96,
      "metadata": {},
      "outputs": [],
      "source": [
        "cities.drop(columns=['Unnamed: 0'],inplace=True)\n",
        "cities.drop_duplicates(inplace=True)\n",
        "cities.reset_index(inplace=True,drop=True)"
      ]
    },
    {
      "cell_type": "code",
      "execution_count": 97,
      "metadata": {},
      "outputs": [],
      "source": [
        "cities.to_csv('../cities.csv')"
      ]
    },
    {
      "cell_type": "code",
      "execution_count": 98,
      "metadata": {
        "id": "vi6fJirdV7Gz"
      },
      "outputs": [],
      "source": [
        "# 처리 완료하였으니 df4는 백업으로 두고 df5 활용\n",
        "df5 = df4.drop(columns='origin')"
      ]
    },
    {
      "cell_type": "markdown",
      "metadata": {
        "id": "CoWdniywxHwf"
      },
      "source": [
        "# 전처리 결과"
      ]
    },
    {
      "cell_type": "markdown",
      "metadata": {
        "id": "t709mbs6xMkS"
      },
      "source": [
        "# 파일 저장"
      ]
    },
    {
      "cell_type": "code",
      "execution_count": 99,
      "metadata": {
        "id": "tEfggl4M5rFG"
      },
      "outputs": [],
      "source": [
        "df5.to_csv('../data_proceed/202201_proceed.csv')"
      ]
    }
  ],
  "metadata": {
    "colab": {
      "collapsed_sections": [],
      "name": "pre_processing_2022_06.ipynb",
      "provenance": [],
      "toc_visible": true
    },
    "kernelspec": {
      "display_name": "Python 3.8.13 ('yds')",
      "language": "python",
      "name": "python3"
    },
    "language_info": {
      "codemirror_mode": {
        "name": "ipython",
        "version": 3
      },
      "file_extension": ".py",
      "mimetype": "text/x-python",
      "name": "python",
      "nbconvert_exporter": "python",
      "pygments_lexer": "ipython3",
      "version": "3.8.13"
    },
    "vscode": {
      "interpreter": {
        "hash": "edd2e1eeac16ba0124adb27271db416cf5b91db76e0734afe4505ea0738c76e5"
      }
    }
  },
  "nbformat": 4,
  "nbformat_minor": 0
}
