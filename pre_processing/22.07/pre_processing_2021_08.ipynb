{
  "cells": [
    {
      "cell_type": "markdown",
      "metadata": {
        "id": "uhJXKN_71HKz"
      },
      "source": [
        "# 개요"
      ]
    },
    {
      "cell_type": "markdown",
      "metadata": {
        "id": "T02KSzGz1iMO"
      },
      "source": [
        "# Prepare"
      ]
    },
    {
      "cell_type": "markdown",
      "metadata": {
        "id": "bfqE9z4W1JQh"
      },
      "source": [
        "# 1. 초기 세팅"
      ]
    },
    {
      "cell_type": "markdown",
      "metadata": {
        "id": "fG4uSp2B1Ph7"
      },
      "source": [
        "## Library & data load"
      ]
    },
    {
      "cell_type": "code",
      "execution_count": 1,
      "metadata": {
        "id": "c2zXAOvOq96i"
      },
      "outputs": [],
      "source": [
        "import pandas as pd\n",
        "import numpy as np\n",
        "import matplotlib.pyplot as plt\n",
        "import seaborn as sns\n",
        "import re"
      ]
    },
    {
      "cell_type": "code",
      "execution_count": 2,
      "metadata": {
        "id": "N6-se2jYrHsw"
      },
      "outputs": [],
      "source": [
        "# 처리용 df와 오리지널 버전 남겨놓음\n",
        "df = pd.read_csv(\"/Users/luci031/Downloads/auction/data_origin/auction_202108.csv\",encoding='euc_kr')\n",
        "org_df = pd.read_csv(\"/Users/luci031/Downloads/auction/data_origin/auction_202108.csv\",encoding='euc_kr')"
      ]
    },
    {
      "cell_type": "markdown",
      "metadata": {
        "id": "yINECbV-4eRb"
      },
      "source": [
        "# Pre-Processing"
      ]
    },
    {
      "cell_type": "markdown",
      "metadata": {
        "id": "OJuFufVP2War"
      },
      "source": [
        "## Basic info"
      ]
    },
    {
      "cell_type": "code",
      "execution_count": 3,
      "metadata": {
        "colab": {
          "base_uri": "https://localhost:8080/",
          "height": 206
        },
        "id": "EE8feVlFr0To",
        "outputId": "cb918bf3-bd0b-4f09-fd92-73d8670996c9"
      },
      "outputs": [
        {
          "data": {
            "text/html": [
              "<div>\n",
              "<style scoped>\n",
              "    .dataframe tbody tr th:only-of-type {\n",
              "        vertical-align: middle;\n",
              "    }\n",
              "\n",
              "    .dataframe tbody tr th {\n",
              "        vertical-align: top;\n",
              "    }\n",
              "\n",
              "    .dataframe thead th {\n",
              "        text-align: right;\n",
              "    }\n",
              "</style>\n",
              "<table border=\"1\" class=\"dataframe\">\n",
              "  <thead>\n",
              "    <tr style=\"text-align: right;\">\n",
              "      <th></th>\n",
              "      <th>품목명</th>\n",
              "      <th>단위</th>\n",
              "      <th>등급</th>\n",
              "      <th>가격</th>\n",
              "      <th>산지</th>\n",
              "      <th>친환경구분</th>\n",
              "      <th>입력일</th>\n",
              "    </tr>\n",
              "  </thead>\n",
              "  <tbody>\n",
              "    <tr>\n",
              "      <th>0</th>\n",
              "      <td>[복숭아]복숭아(황도)</td>\n",
              "      <td>2.5kg</td>\n",
              "      <td>특(1등)</td>\n",
              "      <td>5500</td>\n",
              "      <td>충북 음성군</td>\n",
              "      <td>일반</td>\n",
              "      <td>20210731</td>\n",
              "    </tr>\n",
              "    <tr>\n",
              "      <th>1</th>\n",
              "      <td>[복숭아]복숭아(황도)</td>\n",
              "      <td>4.5kg</td>\n",
              "      <td>특(1등)</td>\n",
              "      <td>15000</td>\n",
              "      <td>충북 영동군</td>\n",
              "      <td>일반</td>\n",
              "      <td>20210731</td>\n",
              "    </tr>\n",
              "    <tr>\n",
              "      <th>2</th>\n",
              "      <td>[복숭아]복숭아(황도)</td>\n",
              "      <td>4.5kg</td>\n",
              "      <td>특(1등)</td>\n",
              "      <td>21000</td>\n",
              "      <td>충북 영동군</td>\n",
              "      <td>일반</td>\n",
              "      <td>20210731</td>\n",
              "    </tr>\n",
              "    <tr>\n",
              "      <th>3</th>\n",
              "      <td>[복숭아]복숭아(황도)</td>\n",
              "      <td>3kg</td>\n",
              "      <td>특(1등)</td>\n",
              "      <td>17000</td>\n",
              "      <td>충북 영동군</td>\n",
              "      <td>일반</td>\n",
              "      <td>20210731</td>\n",
              "    </tr>\n",
              "    <tr>\n",
              "      <th>4</th>\n",
              "      <td>[복숭아]복숭아(황도)</td>\n",
              "      <td>4.5kg</td>\n",
              "      <td>특(1등)</td>\n",
              "      <td>16000</td>\n",
              "      <td>경북 의성군</td>\n",
              "      <td>일반</td>\n",
              "      <td>20210731</td>\n",
              "    </tr>\n",
              "  </tbody>\n",
              "</table>\n",
              "</div>"
            ],
            "text/plain": [
              "            품목명     단위     등급     가격      산지 친환경구분       입력일\n",
              "0  [복숭아]복숭아(황도)  2.5kg  특(1등)   5500  충북 음성군    일반  20210731\n",
              "1  [복숭아]복숭아(황도)  4.5kg  특(1등)  15000  충북 영동군    일반  20210731\n",
              "2  [복숭아]복숭아(황도)  4.5kg  특(1등)  21000  충북 영동군    일반  20210731\n",
              "3  [복숭아]복숭아(황도)    3kg  특(1등)  17000  충북 영동군    일반  20210731\n",
              "4  [복숭아]복숭아(황도)  4.5kg  특(1등)  16000  경북 의성군    일반  20210731"
            ]
          },
          "execution_count": 3,
          "metadata": {},
          "output_type": "execute_result"
        }
      ],
      "source": [
        "df.head()"
      ]
    },
    {
      "cell_type": "code",
      "execution_count": 4,
      "metadata": {
        "colab": {
          "base_uri": "https://localhost:8080/"
        },
        "id": "Jf03xK1D1p5Z",
        "outputId": "7cc5158f-76c4-4ca6-e80a-cd60949c1049"
      },
      "outputs": [
        {
          "name": "stdout",
          "output_type": "stream",
          "text": [
            "<class 'pandas.core.frame.DataFrame'>\n",
            "RangeIndex: 537840 entries, 0 to 537839\n",
            "Data columns (total 7 columns):\n",
            " #   Column  Non-Null Count   Dtype \n",
            "---  ------  --------------   ----- \n",
            " 0   품목명     537840 non-null  object\n",
            " 1   단위      537840 non-null  object\n",
            " 2   등급      537840 non-null  object\n",
            " 3   가격      537840 non-null  int64 \n",
            " 4   산지      536542 non-null  object\n",
            " 5   친환경구분   537840 non-null  object\n",
            " 6   입력일     537840 non-null  int64 \n",
            "dtypes: int64(2), object(5)\n",
            "memory usage: 28.7+ MB\n"
          ]
        }
      ],
      "source": [
        "df.info()"
      ]
    },
    {
      "cell_type": "code",
      "execution_count": 5,
      "metadata": {
        "colab": {
          "base_uri": "https://localhost:8080/"
        },
        "id": "R3-Xng6M1om2",
        "outputId": "0071ee93-3ebe-436d-910b-aa30c7356468"
      },
      "outputs": [
        {
          "data": {
            "text/plain": [
              "품목명         0\n",
              "단위          0\n",
              "등급          0\n",
              "가격          0\n",
              "산지       1298\n",
              "친환경구분       0\n",
              "입력일         0\n",
              "dtype: int64"
            ]
          },
          "execution_count": 5,
          "metadata": {},
          "output_type": "execute_result"
        }
      ],
      "source": [
        "# 산지 제외하고는 결측치 없는 것으로 확인\n",
        "df.isnull().sum()"
      ]
    },
    {
      "cell_type": "markdown",
      "metadata": {
        "id": "KiwEMLgv-7KL"
      },
      "source": [
        "- 결측치 처리"
      ]
    },
    {
      "cell_type": "code",
      "execution_count": 6,
      "metadata": {
        "id": "y52OV6yt-60b"
      },
      "outputs": [],
      "source": [
        "###\n",
        "# 양이 많지 않으므로 결측치 제거\n",
        "df = df.dropna(axis=0)"
      ]
    },
    {
      "cell_type": "markdown",
      "metadata": {
        "id": "tWVdZUXv7njQ"
      },
      "source": [
        "- 영문명으로 전환"
      ]
    },
    {
      "cell_type": "code",
      "execution_count": 7,
      "metadata": {
        "id": "Cpc_wblh4oLI"
      },
      "outputs": [],
      "source": [
        "df = df.rename(columns = {'품목명':'prd',\n",
        "                          '단위':'scale','등급':'class',\n",
        "                          '가격':'price',\n",
        "                          '산지':'origin',\n",
        "                          '친환경구분':'eco',\n",
        "                          '입력일':'reg_date'})"
      ]
    },
    {
      "cell_type": "markdown",
      "metadata": {
        "id": "6raN15sn8XwE"
      },
      "source": [
        "## column 별 정보"
      ]
    },
    {
      "cell_type": "markdown",
      "metadata": {
        "id": "9blCj1BqBKl9"
      },
      "source": [
        "### class"
      ]
    },
    {
      "cell_type": "code",
      "execution_count": 8,
      "metadata": {
        "colab": {
          "base_uri": "https://localhost:8080/"
        },
        "id": "trRf-DfuBNBL",
        "outputId": "017ef00e-f7ca-476c-e44a-a847d4881695"
      },
      "outputs": [
        {
          "data": {
            "text/plain": [
              "Index(['특(1등)', '상(2등)', '9등(등외)', '보통(3등)', '없음', '5등', '4등', '6등', '7등',\n",
              "       '8등'],\n",
              "      dtype='object')"
            ]
          },
          "execution_count": 8,
          "metadata": {},
          "output_type": "execute_result"
        }
      ],
      "source": [
        "# 이름 모두 영어로 변경\n",
        "# 9등과 없음 모두 9로 변경\n",
        "df['class'].value_counts().index"
      ]
    },
    {
      "cell_type": "code",
      "execution_count": 9,
      "metadata": {
        "id": "Y9aTlhUSBfU9"
      },
      "outputs": [],
      "source": [
        "df111 = pd.DataFrame([['특(1등)', 1], ['상(2등)',2], ['보통(3등)',3], ['9등(등외)',9], ['없음',9], ['5등',5], ['4등',4], ['6등',6], ['7등',7],['8등',8]],columns=['class','new_class'])"
      ]
    },
    {
      "cell_type": "code",
      "execution_count": 10,
      "metadata": {
        "id": "N4LG6ClLC4II"
      },
      "outputs": [],
      "source": [
        "df2 = df.merge(df111)\n",
        "df2 = df2.drop(columns='class')"
      ]
    },
    {
      "cell_type": "code",
      "execution_count": 11,
      "metadata": {
        "colab": {
          "base_uri": "https://localhost:8080/",
          "height": 423
        },
        "id": "w_BncYpbDQGg",
        "outputId": "6482608e-5fcd-4b4d-b921-e720dec1a560"
      },
      "outputs": [
        {
          "data": {
            "text/html": [
              "<div>\n",
              "<style scoped>\n",
              "    .dataframe tbody tr th:only-of-type {\n",
              "        vertical-align: middle;\n",
              "    }\n",
              "\n",
              "    .dataframe tbody tr th {\n",
              "        vertical-align: top;\n",
              "    }\n",
              "\n",
              "    .dataframe thead th {\n",
              "        text-align: right;\n",
              "    }\n",
              "</style>\n",
              "<table border=\"1\" class=\"dataframe\">\n",
              "  <thead>\n",
              "    <tr style=\"text-align: right;\">\n",
              "      <th></th>\n",
              "      <th>prd</th>\n",
              "      <th>scale</th>\n",
              "      <th>price</th>\n",
              "      <th>origin</th>\n",
              "      <th>eco</th>\n",
              "      <th>reg_date</th>\n",
              "      <th>new_class</th>\n",
              "    </tr>\n",
              "  </thead>\n",
              "  <tbody>\n",
              "    <tr>\n",
              "      <th>0</th>\n",
              "      <td>[복숭아]복숭아(황도)</td>\n",
              "      <td>2.5kg</td>\n",
              "      <td>5500</td>\n",
              "      <td>충북 음성군</td>\n",
              "      <td>일반</td>\n",
              "      <td>20210731</td>\n",
              "      <td>1</td>\n",
              "    </tr>\n",
              "    <tr>\n",
              "      <th>1</th>\n",
              "      <td>[복숭아]복숭아(황도)</td>\n",
              "      <td>4.5kg</td>\n",
              "      <td>15000</td>\n",
              "      <td>충북 영동군</td>\n",
              "      <td>일반</td>\n",
              "      <td>20210731</td>\n",
              "      <td>1</td>\n",
              "    </tr>\n",
              "    <tr>\n",
              "      <th>2</th>\n",
              "      <td>[복숭아]복숭아(황도)</td>\n",
              "      <td>4.5kg</td>\n",
              "      <td>21000</td>\n",
              "      <td>충북 영동군</td>\n",
              "      <td>일반</td>\n",
              "      <td>20210731</td>\n",
              "      <td>1</td>\n",
              "    </tr>\n",
              "    <tr>\n",
              "      <th>3</th>\n",
              "      <td>[복숭아]복숭아(황도)</td>\n",
              "      <td>3kg</td>\n",
              "      <td>17000</td>\n",
              "      <td>충북 영동군</td>\n",
              "      <td>일반</td>\n",
              "      <td>20210731</td>\n",
              "      <td>1</td>\n",
              "    </tr>\n",
              "    <tr>\n",
              "      <th>4</th>\n",
              "      <td>[복숭아]복숭아(황도)</td>\n",
              "      <td>4.5kg</td>\n",
              "      <td>16000</td>\n",
              "      <td>경북 의성군</td>\n",
              "      <td>일반</td>\n",
              "      <td>20210731</td>\n",
              "      <td>1</td>\n",
              "    </tr>\n",
              "    <tr>\n",
              "      <th>...</th>\n",
              "      <td>...</td>\n",
              "      <td>...</td>\n",
              "      <td>...</td>\n",
              "      <td>...</td>\n",
              "      <td>...</td>\n",
              "      <td>...</td>\n",
              "      <td>...</td>\n",
              "    </tr>\n",
              "    <tr>\n",
              "      <th>536537</th>\n",
              "      <td>[자두]자두(추희)</td>\n",
              "      <td>5kg</td>\n",
              "      <td>17000</td>\n",
              "      <td>충북 충주시</td>\n",
              "      <td>일반</td>\n",
              "      <td>20210827</td>\n",
              "      <td>8</td>\n",
              "    </tr>\n",
              "    <tr>\n",
              "      <th>536538</th>\n",
              "      <td>[양파]양파(일반)</td>\n",
              "      <td>15kg</td>\n",
              "      <td>10800</td>\n",
              "      <td>전남 무안군</td>\n",
              "      <td>일반</td>\n",
              "      <td>20210828</td>\n",
              "      <td>8</td>\n",
              "    </tr>\n",
              "    <tr>\n",
              "      <th>536539</th>\n",
              "      <td>[기타과채]기타과채(감자)</td>\n",
              "      <td>20kg</td>\n",
              "      <td>27000</td>\n",
              "      <td>강원 홍천군</td>\n",
              "      <td>일반</td>\n",
              "      <td>20210830</td>\n",
              "      <td>8</td>\n",
              "    </tr>\n",
              "    <tr>\n",
              "      <th>536540</th>\n",
              "      <td>[양파]양파(일반)</td>\n",
              "      <td>15kg</td>\n",
              "      <td>10500</td>\n",
              "      <td>전남 무안군</td>\n",
              "      <td>일반</td>\n",
              "      <td>20210830</td>\n",
              "      <td>8</td>\n",
              "    </tr>\n",
              "    <tr>\n",
              "      <th>536541</th>\n",
              "      <td>[기타과채]기타과채(감자)</td>\n",
              "      <td>20kg</td>\n",
              "      <td>26000</td>\n",
              "      <td>강원 홍천군</td>\n",
              "      <td>일반</td>\n",
              "      <td>20210831</td>\n",
              "      <td>8</td>\n",
              "    </tr>\n",
              "  </tbody>\n",
              "</table>\n",
              "<p>536542 rows × 7 columns</p>\n",
              "</div>"
            ],
            "text/plain": [
              "                   prd  scale  price  origin eco  reg_date  new_class\n",
              "0         [복숭아]복숭아(황도)  2.5kg   5500  충북 음성군  일반  20210731          1\n",
              "1         [복숭아]복숭아(황도)  4.5kg  15000  충북 영동군  일반  20210731          1\n",
              "2         [복숭아]복숭아(황도)  4.5kg  21000  충북 영동군  일반  20210731          1\n",
              "3         [복숭아]복숭아(황도)    3kg  17000  충북 영동군  일반  20210731          1\n",
              "4         [복숭아]복숭아(황도)  4.5kg  16000  경북 의성군  일반  20210731          1\n",
              "...                ...    ...    ...     ...  ..       ...        ...\n",
              "536537      [자두]자두(추희)    5kg  17000  충북 충주시  일반  20210827          8\n",
              "536538      [양파]양파(일반)   15kg  10800  전남 무안군  일반  20210828          8\n",
              "536539  [기타과채]기타과채(감자)   20kg  27000  강원 홍천군  일반  20210830          8\n",
              "536540      [양파]양파(일반)   15kg  10500  전남 무안군  일반  20210830          8\n",
              "536541  [기타과채]기타과채(감자)   20kg  26000  강원 홍천군  일반  20210831          8\n",
              "\n",
              "[536542 rows x 7 columns]"
            ]
          },
          "execution_count": 11,
          "metadata": {},
          "output_type": "execute_result"
        }
      ],
      "source": [
        "df2"
      ]
    },
    {
      "cell_type": "markdown",
      "metadata": {
        "id": "6QhhnXfKWiQL"
      },
      "source": [
        "### eco"
      ]
    },
    {
      "cell_type": "code",
      "execution_count": 12,
      "metadata": {
        "id": "XPNdAWmbWWjy"
      },
      "outputs": [],
      "source": [
        "# 영문명으로 전환\n",
        "# 전환기 -> 유기농 재배로 전환중\n",
        "df2.loc[df2[\"eco\"]==\"일반\",\"eco\"] = \"normal\"\n",
        "df2.loc[df2[\"eco\"]==\"우수농산물\",\"eco\"] = \"\bgood_prd\"\n",
        "df2.loc[df2[\"eco\"]==\"무농약\",\"eco\"] = \"\becofriendly\"\n",
        "df2.loc[df2[\"eco\"]==\"유기농\",\"eco\"] = \"organic\"\n",
        "df2.loc[df2[\"eco\"]==\"품질인증\",\"eco\"] = \"certified\"\n",
        "df2.loc[df2[\"eco\"]==\"전환기\",\"eco\"] = \"ing\""
      ]
    },
    {
      "cell_type": "code",
      "execution_count": 13,
      "metadata": {
        "colab": {
          "base_uri": "https://localhost:8080/",
          "height": 423
        },
        "id": "SFs64qIjYPqG",
        "outputId": "e1d18001-8e23-4db4-c367-d91e111bf6af"
      },
      "outputs": [
        {
          "data": {
            "text/html": [
              "<div>\n",
              "<style scoped>\n",
              "    .dataframe tbody tr th:only-of-type {\n",
              "        vertical-align: middle;\n",
              "    }\n",
              "\n",
              "    .dataframe tbody tr th {\n",
              "        vertical-align: top;\n",
              "    }\n",
              "\n",
              "    .dataframe thead th {\n",
              "        text-align: right;\n",
              "    }\n",
              "</style>\n",
              "<table border=\"1\" class=\"dataframe\">\n",
              "  <thead>\n",
              "    <tr style=\"text-align: right;\">\n",
              "      <th></th>\n",
              "      <th>prd</th>\n",
              "      <th>scale</th>\n",
              "      <th>price</th>\n",
              "      <th>origin</th>\n",
              "      <th>eco</th>\n",
              "      <th>reg_date</th>\n",
              "      <th>new_class</th>\n",
              "    </tr>\n",
              "  </thead>\n",
              "  <tbody>\n",
              "    <tr>\n",
              "      <th>0</th>\n",
              "      <td>[복숭아]복숭아(황도)</td>\n",
              "      <td>2.5kg</td>\n",
              "      <td>5500</td>\n",
              "      <td>충북 음성군</td>\n",
              "      <td>normal</td>\n",
              "      <td>20210731</td>\n",
              "      <td>1</td>\n",
              "    </tr>\n",
              "    <tr>\n",
              "      <th>1</th>\n",
              "      <td>[복숭아]복숭아(황도)</td>\n",
              "      <td>4.5kg</td>\n",
              "      <td>15000</td>\n",
              "      <td>충북 영동군</td>\n",
              "      <td>normal</td>\n",
              "      <td>20210731</td>\n",
              "      <td>1</td>\n",
              "    </tr>\n",
              "    <tr>\n",
              "      <th>2</th>\n",
              "      <td>[복숭아]복숭아(황도)</td>\n",
              "      <td>4.5kg</td>\n",
              "      <td>21000</td>\n",
              "      <td>충북 영동군</td>\n",
              "      <td>normal</td>\n",
              "      <td>20210731</td>\n",
              "      <td>1</td>\n",
              "    </tr>\n",
              "    <tr>\n",
              "      <th>3</th>\n",
              "      <td>[복숭아]복숭아(황도)</td>\n",
              "      <td>3kg</td>\n",
              "      <td>17000</td>\n",
              "      <td>충북 영동군</td>\n",
              "      <td>normal</td>\n",
              "      <td>20210731</td>\n",
              "      <td>1</td>\n",
              "    </tr>\n",
              "    <tr>\n",
              "      <th>4</th>\n",
              "      <td>[복숭아]복숭아(황도)</td>\n",
              "      <td>4.5kg</td>\n",
              "      <td>16000</td>\n",
              "      <td>경북 의성군</td>\n",
              "      <td>normal</td>\n",
              "      <td>20210731</td>\n",
              "      <td>1</td>\n",
              "    </tr>\n",
              "    <tr>\n",
              "      <th>...</th>\n",
              "      <td>...</td>\n",
              "      <td>...</td>\n",
              "      <td>...</td>\n",
              "      <td>...</td>\n",
              "      <td>...</td>\n",
              "      <td>...</td>\n",
              "      <td>...</td>\n",
              "    </tr>\n",
              "    <tr>\n",
              "      <th>536537</th>\n",
              "      <td>[자두]자두(추희)</td>\n",
              "      <td>5kg</td>\n",
              "      <td>17000</td>\n",
              "      <td>충북 충주시</td>\n",
              "      <td>normal</td>\n",
              "      <td>20210827</td>\n",
              "      <td>8</td>\n",
              "    </tr>\n",
              "    <tr>\n",
              "      <th>536538</th>\n",
              "      <td>[양파]양파(일반)</td>\n",
              "      <td>15kg</td>\n",
              "      <td>10800</td>\n",
              "      <td>전남 무안군</td>\n",
              "      <td>normal</td>\n",
              "      <td>20210828</td>\n",
              "      <td>8</td>\n",
              "    </tr>\n",
              "    <tr>\n",
              "      <th>536539</th>\n",
              "      <td>[기타과채]기타과채(감자)</td>\n",
              "      <td>20kg</td>\n",
              "      <td>27000</td>\n",
              "      <td>강원 홍천군</td>\n",
              "      <td>normal</td>\n",
              "      <td>20210830</td>\n",
              "      <td>8</td>\n",
              "    </tr>\n",
              "    <tr>\n",
              "      <th>536540</th>\n",
              "      <td>[양파]양파(일반)</td>\n",
              "      <td>15kg</td>\n",
              "      <td>10500</td>\n",
              "      <td>전남 무안군</td>\n",
              "      <td>normal</td>\n",
              "      <td>20210830</td>\n",
              "      <td>8</td>\n",
              "    </tr>\n",
              "    <tr>\n",
              "      <th>536541</th>\n",
              "      <td>[기타과채]기타과채(감자)</td>\n",
              "      <td>20kg</td>\n",
              "      <td>26000</td>\n",
              "      <td>강원 홍천군</td>\n",
              "      <td>normal</td>\n",
              "      <td>20210831</td>\n",
              "      <td>8</td>\n",
              "    </tr>\n",
              "  </tbody>\n",
              "</table>\n",
              "<p>536542 rows × 7 columns</p>\n",
              "</div>"
            ],
            "text/plain": [
              "                   prd  scale  price  origin     eco  reg_date  new_class\n",
              "0         [복숭아]복숭아(황도)  2.5kg   5500  충북 음성군  normal  20210731          1\n",
              "1         [복숭아]복숭아(황도)  4.5kg  15000  충북 영동군  normal  20210731          1\n",
              "2         [복숭아]복숭아(황도)  4.5kg  21000  충북 영동군  normal  20210731          1\n",
              "3         [복숭아]복숭아(황도)    3kg  17000  충북 영동군  normal  20210731          1\n",
              "4         [복숭아]복숭아(황도)  4.5kg  16000  경북 의성군  normal  20210731          1\n",
              "...                ...    ...    ...     ...     ...       ...        ...\n",
              "536537      [자두]자두(추희)    5kg  17000  충북 충주시  normal  20210827          8\n",
              "536538      [양파]양파(일반)   15kg  10800  전남 무안군  normal  20210828          8\n",
              "536539  [기타과채]기타과채(감자)   20kg  27000  강원 홍천군  normal  20210830          8\n",
              "536540      [양파]양파(일반)   15kg  10500  전남 무안군  normal  20210830          8\n",
              "536541  [기타과채]기타과채(감자)   20kg  26000  강원 홍천군  normal  20210831          8\n",
              "\n",
              "[536542 rows x 7 columns]"
            ]
          },
          "execution_count": 13,
          "metadata": {},
          "output_type": "execute_result"
        }
      ],
      "source": [
        "df2"
      ]
    },
    {
      "cell_type": "markdown",
      "metadata": {
        "id": "ffhjwT57YNLh"
      },
      "source": [
        "### reg_date"
      ]
    },
    {
      "cell_type": "code",
      "execution_count": 14,
      "metadata": {
        "id": "0xEJoswCYUiR"
      },
      "outputs": [],
      "source": [
        "df2['reg_date'] = df2['reg_date'].astype('str')"
      ]
    },
    {
      "cell_type": "code",
      "execution_count": 15,
      "metadata": {
        "id": "7eMsOdHaqa7H"
      },
      "outputs": [],
      "source": [
        "df2['reg_date'] = pd.to_datetime(df2['reg_date'].astype('str'),format='%Y%m%d')"
      ]
    },
    {
      "cell_type": "code",
      "execution_count": 16,
      "metadata": {
        "colab": {
          "base_uri": "https://localhost:8080/",
          "height": 423
        },
        "id": "4OJlA07go6Vm",
        "outputId": "775611cd-2a30-4603-90e5-ac782aea1678"
      },
      "outputs": [
        {
          "data": {
            "text/html": [
              "<div>\n",
              "<style scoped>\n",
              "    .dataframe tbody tr th:only-of-type {\n",
              "        vertical-align: middle;\n",
              "    }\n",
              "\n",
              "    .dataframe tbody tr th {\n",
              "        vertical-align: top;\n",
              "    }\n",
              "\n",
              "    .dataframe thead th {\n",
              "        text-align: right;\n",
              "    }\n",
              "</style>\n",
              "<table border=\"1\" class=\"dataframe\">\n",
              "  <thead>\n",
              "    <tr style=\"text-align: right;\">\n",
              "      <th></th>\n",
              "      <th>prd</th>\n",
              "      <th>scale</th>\n",
              "      <th>price</th>\n",
              "      <th>origin</th>\n",
              "      <th>eco</th>\n",
              "      <th>reg_date</th>\n",
              "      <th>new_class</th>\n",
              "    </tr>\n",
              "  </thead>\n",
              "  <tbody>\n",
              "    <tr>\n",
              "      <th>0</th>\n",
              "      <td>[복숭아]복숭아(황도)</td>\n",
              "      <td>2.5kg</td>\n",
              "      <td>5500</td>\n",
              "      <td>충북 음성군</td>\n",
              "      <td>normal</td>\n",
              "      <td>2021-07-31</td>\n",
              "      <td>1</td>\n",
              "    </tr>\n",
              "    <tr>\n",
              "      <th>1</th>\n",
              "      <td>[복숭아]복숭아(황도)</td>\n",
              "      <td>4.5kg</td>\n",
              "      <td>15000</td>\n",
              "      <td>충북 영동군</td>\n",
              "      <td>normal</td>\n",
              "      <td>2021-07-31</td>\n",
              "      <td>1</td>\n",
              "    </tr>\n",
              "    <tr>\n",
              "      <th>2</th>\n",
              "      <td>[복숭아]복숭아(황도)</td>\n",
              "      <td>4.5kg</td>\n",
              "      <td>21000</td>\n",
              "      <td>충북 영동군</td>\n",
              "      <td>normal</td>\n",
              "      <td>2021-07-31</td>\n",
              "      <td>1</td>\n",
              "    </tr>\n",
              "    <tr>\n",
              "      <th>3</th>\n",
              "      <td>[복숭아]복숭아(황도)</td>\n",
              "      <td>3kg</td>\n",
              "      <td>17000</td>\n",
              "      <td>충북 영동군</td>\n",
              "      <td>normal</td>\n",
              "      <td>2021-07-31</td>\n",
              "      <td>1</td>\n",
              "    </tr>\n",
              "    <tr>\n",
              "      <th>4</th>\n",
              "      <td>[복숭아]복숭아(황도)</td>\n",
              "      <td>4.5kg</td>\n",
              "      <td>16000</td>\n",
              "      <td>경북 의성군</td>\n",
              "      <td>normal</td>\n",
              "      <td>2021-07-31</td>\n",
              "      <td>1</td>\n",
              "    </tr>\n",
              "    <tr>\n",
              "      <th>...</th>\n",
              "      <td>...</td>\n",
              "      <td>...</td>\n",
              "      <td>...</td>\n",
              "      <td>...</td>\n",
              "      <td>...</td>\n",
              "      <td>...</td>\n",
              "      <td>...</td>\n",
              "    </tr>\n",
              "    <tr>\n",
              "      <th>536537</th>\n",
              "      <td>[자두]자두(추희)</td>\n",
              "      <td>5kg</td>\n",
              "      <td>17000</td>\n",
              "      <td>충북 충주시</td>\n",
              "      <td>normal</td>\n",
              "      <td>2021-08-27</td>\n",
              "      <td>8</td>\n",
              "    </tr>\n",
              "    <tr>\n",
              "      <th>536538</th>\n",
              "      <td>[양파]양파(일반)</td>\n",
              "      <td>15kg</td>\n",
              "      <td>10800</td>\n",
              "      <td>전남 무안군</td>\n",
              "      <td>normal</td>\n",
              "      <td>2021-08-28</td>\n",
              "      <td>8</td>\n",
              "    </tr>\n",
              "    <tr>\n",
              "      <th>536539</th>\n",
              "      <td>[기타과채]기타과채(감자)</td>\n",
              "      <td>20kg</td>\n",
              "      <td>27000</td>\n",
              "      <td>강원 홍천군</td>\n",
              "      <td>normal</td>\n",
              "      <td>2021-08-30</td>\n",
              "      <td>8</td>\n",
              "    </tr>\n",
              "    <tr>\n",
              "      <th>536540</th>\n",
              "      <td>[양파]양파(일반)</td>\n",
              "      <td>15kg</td>\n",
              "      <td>10500</td>\n",
              "      <td>전남 무안군</td>\n",
              "      <td>normal</td>\n",
              "      <td>2021-08-30</td>\n",
              "      <td>8</td>\n",
              "    </tr>\n",
              "    <tr>\n",
              "      <th>536541</th>\n",
              "      <td>[기타과채]기타과채(감자)</td>\n",
              "      <td>20kg</td>\n",
              "      <td>26000</td>\n",
              "      <td>강원 홍천군</td>\n",
              "      <td>normal</td>\n",
              "      <td>2021-08-31</td>\n",
              "      <td>8</td>\n",
              "    </tr>\n",
              "  </tbody>\n",
              "</table>\n",
              "<p>536542 rows × 7 columns</p>\n",
              "</div>"
            ],
            "text/plain": [
              "                   prd  scale  price  origin     eco   reg_date  new_class\n",
              "0         [복숭아]복숭아(황도)  2.5kg   5500  충북 음성군  normal 2021-07-31          1\n",
              "1         [복숭아]복숭아(황도)  4.5kg  15000  충북 영동군  normal 2021-07-31          1\n",
              "2         [복숭아]복숭아(황도)  4.5kg  21000  충북 영동군  normal 2021-07-31          1\n",
              "3         [복숭아]복숭아(황도)    3kg  17000  충북 영동군  normal 2021-07-31          1\n",
              "4         [복숭아]복숭아(황도)  4.5kg  16000  경북 의성군  normal 2021-07-31          1\n",
              "...                ...    ...    ...     ...     ...        ...        ...\n",
              "536537      [자두]자두(추희)    5kg  17000  충북 충주시  normal 2021-08-27          8\n",
              "536538      [양파]양파(일반)   15kg  10800  전남 무안군  normal 2021-08-28          8\n",
              "536539  [기타과채]기타과채(감자)   20kg  27000  강원 홍천군  normal 2021-08-30          8\n",
              "536540      [양파]양파(일반)   15kg  10500  전남 무안군  normal 2021-08-30          8\n",
              "536541  [기타과채]기타과채(감자)   20kg  26000  강원 홍천군  normal 2021-08-31          8\n",
              "\n",
              "[536542 rows x 7 columns]"
            ]
          },
          "execution_count": 16,
          "metadata": {},
          "output_type": "execute_result"
        }
      ],
      "source": [
        "df2"
      ]
    },
    {
      "cell_type": "markdown",
      "metadata": {
        "id": "VN8Eana_Dbbl"
      },
      "source": [
        "### price"
      ]
    },
    {
      "cell_type": "code",
      "execution_count": 17,
      "metadata": {
        "id": "oZbejw0vewmJ"
      },
      "outputs": [],
      "source": [
        "# 계산을 위해 scale 값 미리 변경\n",
        "# 현재 값들은 string이므로 float 형태로 변환할 필요가 있음\n",
        "# 몇몇 이상치 처리도 진행\n",
        "def scale_checker(scale):\n",
        "  if scale.startswith('.')==True:\n",
        "    return format(float('0'+scale[:-2]),'.2f')\n",
        "  else:\n",
        "    return format(float((scale[:-2])),'.2f')\n",
        "df2['scale'] = df2['scale'].apply(scale_checker)\n",
        "df2['scale'] = df2['scale'].astype('float')\n",
        "# df2['scale'] = format(round(df2['scale'].apply(pd.to_numeric),2),'.2f')"
      ]
    },
    {
      "cell_type": "code",
      "execution_count": 18,
      "metadata": {},
      "outputs": [
        {
          "data": {
            "text/plain": [
              "array([2.500e+00, 4.500e+00, 3.000e+00, 4.000e+00, 1.500e+00, 1.000e+01,\n",
              "       5.000e+00, 2.000e+00, 5.000e-01, 2.000e-01, 9.500e+00, 8.000e+00,\n",
              "       7.000e+00, 1.100e+01, 9.000e+00, 6.000e+00, 1.000e+00, 2.000e+01,\n",
              "       1.800e+01, 4.000e-01, 8.500e+00, 6.500e+00, 1.200e+01, 9.200e+00,\n",
              "       1.500e+01, 3.500e+00, 5.500e+00, 1.700e+01, 1.900e+01, 1.400e+01,\n",
              "       1.600e+01, 1.300e+01, 2.400e+00, 3.200e+00, 2.800e+00, 3.600e+00,\n",
              "       3.800e+00, 3.300e+00, 4.200e+00, 8.000e+01, 9.000e-02, 7.500e+00,\n",
              "       1.000e-01, 2.001e+01, 2.100e+01, 1.001e+01, 1.150e+01, 2.010e+00,\n",
              "       4.010e+00, 8.600e+00, 8.010e+00, 1.200e+00, 8.000e-01, 3.400e+00,\n",
              "       4.600e+00, 3.900e+00, 3.000e-01, 7.800e+00, 6.000e-01, 2.500e-01,\n",
              "       6.000e-02, 1.500e-01, 5.000e-02, 2.200e+00, 2.100e+00, 2.600e+00,\n",
              "       1.800e+00, 1.420e+01, 1.350e+01, 5.200e+00, 7.000e-01, 1.450e+01,\n",
              "       4.800e+00, 1.300e+00, 8.400e+00, 1.600e+00, 1.050e+01, 1.040e+01,\n",
              "       9.600e+00, 2.700e+00, 9.800e+00, 1.720e+01, 1.200e-01, 1.002e+01,\n",
              "       7.500e-01, 8.700e+01, 3.700e+00, 2.300e+00, 4.700e+00, 2.200e+01,\n",
              "       7.600e+00, 2.000e+02, 9.000e-01, 5.300e+00, 1.080e+01, 3.720e+00,\n",
              "       2.250e+00, 5.600e+00, 8.200e+00, 5.700e+00, 4.300e+00, 1.230e+01,\n",
              "       1.000e-02, 1.400e+00, 3.100e+00, 2.900e+00, 2.400e+01, 5.800e+00,\n",
              "       2.500e+01, 8.160e+00, 4.900e+00, 6.800e+00, 1.130e+01, 3.000e-02,\n",
              "       1.550e+01, 4.600e+01, 7.850e+01, 7.800e+01, 7.750e+01, 7.550e+01,\n",
              "       7.500e+01, 7.350e+01, 7.300e+01, 7.050e+01, 7.000e+01, 6.850e+01,\n",
              "       6.550e+01, 6.450e+01, 3.010e+00, 8.300e+00, 7.700e+00, 9.400e+00,\n",
              "       2.600e+01, 6.600e+00, 1.700e-01, 7.400e+00, 9.700e+00, 6.100e+00,\n",
              "       6.400e+00, 2.300e+01, 8.100e+00, 1.430e+01, 5.900e+00, 9.300e+00,\n",
              "       1.700e+00, 1.250e+02, 4.400e+00, 7.200e+00, 7.100e+00, 3.000e+01,\n",
              "       6.300e+00, 8.700e+00, 1.180e+01, 5.400e+01, 1.540e+01, 5.000e+01,\n",
              "       1.020e+01, 4.800e+01, 1.070e+01, 6.700e+00, 1.250e+01, 4.100e+01,\n",
              "       1.501e+01, 7.580e+00, 1.060e+01, 4.000e+01, 6.900e+00, 1.600e-01,\n",
              "       3.540e+00, 6.200e+00, 1.110e+01, 8.900e+00, 8.800e+00, 1.290e+01,\n",
              "       6.000e+01, 7.000e-02, 5.400e+00, 1.900e+00, 5.100e+00, 2.150e+01,\n",
              "       2.250e+01, 6.100e+01, 1.750e+01])"
            ]
          },
          "execution_count": 18,
          "metadata": {},
          "output_type": "execute_result"
        }
      ],
      "source": [
        "df2['scale'].unique()"
      ]
    },
    {
      "cell_type": "code",
      "execution_count": 19,
      "metadata": {
        "colab": {
          "base_uri": "https://localhost:8080/"
        },
        "id": "S_OXk_iDDaxM",
        "outputId": "df40b3b5-b8d5-4609-b1d1-d940826ff6bf"
      },
      "outputs": [
        {
          "data": {
            "text/plain": [
              "count     536542.00000\n",
              "mean       20456.60556\n",
              "std        46501.86621\n",
              "min            3.00000\n",
              "25%         8500.00000\n",
              "50%        14500.00000\n",
              "75%        24000.00000\n",
              "max     25008500.00000\n",
              "Name: price, dtype: float64"
            ]
          },
          "execution_count": 19,
          "metadata": {},
          "output_type": "execute_result"
        }
      ],
      "source": [
        "# 1원짜리 거래 발견, 너무 거래값이 작은 값들은 삭제\n",
        "pd.options.display.float_format = '{:.5f}'.format\n",
        "df2['price'].describe()"
      ]
    },
    {
      "cell_type": "code",
      "execution_count": 20,
      "metadata": {
        "id": "PQrLwgHPVsHs"
      },
      "outputs": [],
      "source": [
        "df2 = df2.drop(df2[df2['price']<500].index)"
      ]
    },
    {
      "cell_type": "code",
      "execution_count": 21,
      "metadata": {
        "colab": {
          "base_uri": "https://localhost:8080/",
          "height": 423
        },
        "id": "h8uaY01ADasA",
        "outputId": "228f08e1-3d13-41cf-ae61-c672904e5fc6"
      },
      "outputs": [
        {
          "data": {
            "text/html": [
              "<div>\n",
              "<style scoped>\n",
              "    .dataframe tbody tr th:only-of-type {\n",
              "        vertical-align: middle;\n",
              "    }\n",
              "\n",
              "    .dataframe tbody tr th {\n",
              "        vertical-align: top;\n",
              "    }\n",
              "\n",
              "    .dataframe thead th {\n",
              "        text-align: right;\n",
              "    }\n",
              "</style>\n",
              "<table border=\"1\" class=\"dataframe\">\n",
              "  <thead>\n",
              "    <tr style=\"text-align: right;\">\n",
              "      <th></th>\n",
              "      <th>prd</th>\n",
              "      <th>scale</th>\n",
              "      <th>price</th>\n",
              "      <th>origin</th>\n",
              "      <th>eco</th>\n",
              "      <th>reg_date</th>\n",
              "      <th>new_class</th>\n",
              "    </tr>\n",
              "  </thead>\n",
              "  <tbody>\n",
              "    <tr>\n",
              "      <th>0</th>\n",
              "      <td>[복숭아]복숭아(황도)</td>\n",
              "      <td>2.50000</td>\n",
              "      <td>5500</td>\n",
              "      <td>충북 음성군</td>\n",
              "      <td>normal</td>\n",
              "      <td>2021-07-31</td>\n",
              "      <td>1</td>\n",
              "    </tr>\n",
              "    <tr>\n",
              "      <th>1</th>\n",
              "      <td>[복숭아]복숭아(황도)</td>\n",
              "      <td>4.50000</td>\n",
              "      <td>15000</td>\n",
              "      <td>충북 영동군</td>\n",
              "      <td>normal</td>\n",
              "      <td>2021-07-31</td>\n",
              "      <td>1</td>\n",
              "    </tr>\n",
              "    <tr>\n",
              "      <th>2</th>\n",
              "      <td>[복숭아]복숭아(황도)</td>\n",
              "      <td>4.50000</td>\n",
              "      <td>21000</td>\n",
              "      <td>충북 영동군</td>\n",
              "      <td>normal</td>\n",
              "      <td>2021-07-31</td>\n",
              "      <td>1</td>\n",
              "    </tr>\n",
              "    <tr>\n",
              "      <th>3</th>\n",
              "      <td>[복숭아]복숭아(황도)</td>\n",
              "      <td>3.00000</td>\n",
              "      <td>17000</td>\n",
              "      <td>충북 영동군</td>\n",
              "      <td>normal</td>\n",
              "      <td>2021-07-31</td>\n",
              "      <td>1</td>\n",
              "    </tr>\n",
              "    <tr>\n",
              "      <th>4</th>\n",
              "      <td>[복숭아]복숭아(황도)</td>\n",
              "      <td>4.50000</td>\n",
              "      <td>16000</td>\n",
              "      <td>경북 의성군</td>\n",
              "      <td>normal</td>\n",
              "      <td>2021-07-31</td>\n",
              "      <td>1</td>\n",
              "    </tr>\n",
              "    <tr>\n",
              "      <th>...</th>\n",
              "      <td>...</td>\n",
              "      <td>...</td>\n",
              "      <td>...</td>\n",
              "      <td>...</td>\n",
              "      <td>...</td>\n",
              "      <td>...</td>\n",
              "      <td>...</td>\n",
              "    </tr>\n",
              "    <tr>\n",
              "      <th>536537</th>\n",
              "      <td>[자두]자두(추희)</td>\n",
              "      <td>5.00000</td>\n",
              "      <td>17000</td>\n",
              "      <td>충북 충주시</td>\n",
              "      <td>normal</td>\n",
              "      <td>2021-08-27</td>\n",
              "      <td>8</td>\n",
              "    </tr>\n",
              "    <tr>\n",
              "      <th>536538</th>\n",
              "      <td>[양파]양파(일반)</td>\n",
              "      <td>15.00000</td>\n",
              "      <td>10800</td>\n",
              "      <td>전남 무안군</td>\n",
              "      <td>normal</td>\n",
              "      <td>2021-08-28</td>\n",
              "      <td>8</td>\n",
              "    </tr>\n",
              "    <tr>\n",
              "      <th>536539</th>\n",
              "      <td>[기타과채]기타과채(감자)</td>\n",
              "      <td>20.00000</td>\n",
              "      <td>27000</td>\n",
              "      <td>강원 홍천군</td>\n",
              "      <td>normal</td>\n",
              "      <td>2021-08-30</td>\n",
              "      <td>8</td>\n",
              "    </tr>\n",
              "    <tr>\n",
              "      <th>536540</th>\n",
              "      <td>[양파]양파(일반)</td>\n",
              "      <td>15.00000</td>\n",
              "      <td>10500</td>\n",
              "      <td>전남 무안군</td>\n",
              "      <td>normal</td>\n",
              "      <td>2021-08-30</td>\n",
              "      <td>8</td>\n",
              "    </tr>\n",
              "    <tr>\n",
              "      <th>536541</th>\n",
              "      <td>[기타과채]기타과채(감자)</td>\n",
              "      <td>20.00000</td>\n",
              "      <td>26000</td>\n",
              "      <td>강원 홍천군</td>\n",
              "      <td>normal</td>\n",
              "      <td>2021-08-31</td>\n",
              "      <td>8</td>\n",
              "    </tr>\n",
              "  </tbody>\n",
              "</table>\n",
              "<p>536069 rows × 7 columns</p>\n",
              "</div>"
            ],
            "text/plain": [
              "                   prd    scale  price  origin     eco   reg_date  new_class\n",
              "0         [복숭아]복숭아(황도)  2.50000   5500  충북 음성군  normal 2021-07-31          1\n",
              "1         [복숭아]복숭아(황도)  4.50000  15000  충북 영동군  normal 2021-07-31          1\n",
              "2         [복숭아]복숭아(황도)  4.50000  21000  충북 영동군  normal 2021-07-31          1\n",
              "3         [복숭아]복숭아(황도)  3.00000  17000  충북 영동군  normal 2021-07-31          1\n",
              "4         [복숭아]복숭아(황도)  4.50000  16000  경북 의성군  normal 2021-07-31          1\n",
              "...                ...      ...    ...     ...     ...        ...        ...\n",
              "536537      [자두]자두(추희)  5.00000  17000  충북 충주시  normal 2021-08-27          8\n",
              "536538      [양파]양파(일반) 15.00000  10800  전남 무안군  normal 2021-08-28          8\n",
              "536539  [기타과채]기타과채(감자) 20.00000  27000  강원 홍천군  normal 2021-08-30          8\n",
              "536540      [양파]양파(일반) 15.00000  10500  전남 무안군  normal 2021-08-30          8\n",
              "536541  [기타과채]기타과채(감자) 20.00000  26000  강원 홍천군  normal 2021-08-31          8\n",
              "\n",
              "[536069 rows x 7 columns]"
            ]
          },
          "execution_count": 21,
          "metadata": {},
          "output_type": "execute_result"
        }
      ],
      "source": [
        "df2"
      ]
    },
    {
      "cell_type": "code",
      "execution_count": 22,
      "metadata": {
        "id": "13Js-KtTBZB5"
      },
      "outputs": [],
      "source": [
        "# kg 당 가격 생성\n",
        "\n",
        "df2['price_kg'] = round((df2['price']/df2['scale']),2)"
      ]
    },
    {
      "cell_type": "markdown",
      "metadata": {
        "id": "FJ4jjRUQ8cB3"
      },
      "source": [
        "### prd\n",
        "- 품목명 정리\n",
        "- 품목 종류 정리"
      ]
    },
    {
      "cell_type": "code",
      "execution_count": 23,
      "metadata": {
        "colab": {
          "base_uri": "https://localhost:8080/"
        },
        "id": "pymqNuDt8qqS",
        "outputId": "1506a365-b491-4b16-f40f-4d63980bc22f"
      },
      "outputs": [
        {
          "data": {
            "text/plain": [
              "[오이]백다다기          15036\n",
              "[호박]애호박            8924\n",
              "[깻잎]깻잎             7490\n",
              "[복숭아]황도            5460\n",
              "[가지]가지             5222\n",
              "                  ...  \n",
              "[포도]네오마스캇             1\n",
              "[파]쪽파(단)              1\n",
              "[속새]속새(일반)            1\n",
              "[실파]실파(기타)            1\n",
              "[기타새우수입]기타새우수입        1\n",
              "Name: prd, Length: 1492, dtype: int64"
            ]
          },
          "execution_count": 23,
          "metadata": {},
          "output_type": "execute_result"
        }
      ],
      "source": [
        "# 대부분 [상품 종류]상품명 으로 정리되어 있는걸 알 수 있음\n",
        "df2['prd'].value_counts()"
      ]
    },
    {
      "cell_type": "code",
      "execution_count": 24,
      "metadata": {
        "id": "EKmhi36getHp"
      },
      "outputs": [],
      "source": [
        "# 정리를 위해 상품명 삭제\n",
        "def prd_sort(words):\n",
        "  p = re.compile('[ㄱ-힣]+')\n",
        "  word = re.search(p,words)\n",
        "  return word.group()\n",
        "\n",
        "df2['prd'] = df2['prd'].apply(prd_sort)"
      ]
    },
    {
      "cell_type": "code",
      "execution_count": 25,
      "metadata": {
        "id": "mlsCXSXMekGg"
      },
      "outputs": [],
      "source": [
        "# 기타 품목 삭제\n",
        "df2 = df2.drop(df2[df2['prd']=='기타'].index)"
      ]
    },
    {
      "cell_type": "code",
      "execution_count": 26,
      "metadata": {
        "id": "fZ8b4ETrDv5n"
      },
      "outputs": [],
      "source": [
        "# 국산,수입산,깐,기타 삭제\n",
        "def prd_sort2(words):\n",
        "  p = re.compile('[^국산수입깐기타]+')\n",
        "  word = re.search(p,str(words))\n",
        "  return word.group()\n",
        "\n",
        "df2[\"prd\"] = df2[\"prd\"].apply(prd_sort2)\n"
      ]
    },
    {
      "cell_type": "code",
      "execution_count": 27,
      "metadata": {
        "colab": {
          "base_uri": "https://localhost:8080/"
        },
        "id": "0UO78EhtVlgj",
        "outputId": "08424baf-f96a-4573-d9fc-c6f751228e63"
      },
      "outputs": [
        {
          "name": "stdout",
          "output_type": "stream",
          "text": [
            "가리비 \n",
            "가물치 가오리 가오리채 가자미 가지 갈치 감 감귤 감자 갑오징어 갓 강낭콩 개조개 건고구마순 건고추 \n",
            "게 게지 겨자 고 고구마 고구마순 고둥 고들빼 고등어 고추 고추잎 곤달비 곤드레나물 골뱅이 과실류 \n",
            "과일 과일류 과채 과채류 굴 귤 그레이프푸룻 근대 근채류 깻잎 꼴뚜 꽁치 꽈리고추 낙지 논우렁이 \n",
            "눈볼대 느 다래 단감 달래 닭새우 당귀 당근 대구 대구포 대추 대파 더덕 도다리 도라지 \n",
            "동부콩 동자개 동죽 두류 두릅 두리안 듀리안 딸 땅콩 라임 람부탄 레몬 리치 마늘 만가닥 \n",
            "맛 망고 망고스턴 망고스틴 매생이 머위대 메 메론 명태 명태곤니 명태알 명태포 모시조개 목이 무 \n",
            "무순 무우 무화과 문어 문어바지락 미꾸라지 미나리 미더덕 민들레 민물새우 민어 바나나 바지락 박 밤 \n",
            "방울토마토 방풍 방풍나물 배 배추 백새우 백합 뱀장어 버섯 버섯류 버찌 벗 병어 복숭아 부세 \n",
            "부지갱이 부추 붉은고추 붕어 붕장어 브로커리 브로코리 블루베리 비 비름 비트 빈스 빨간양배추 삐틀이 사과 \n",
            "삼 삼치 상추 새꼬막 새송이 새싹 새우 새우살 새조개 샐러리 생강 생고추 석류 선동오징어 선인장열매 \n",
            "세러리 셀러리 소라 속새 숙주나물 숫꽃게 시금치 실파 쌈채류 쌈추 쑥갓 아귀 아로니아 아보카도 아보카드 \n",
            "아스파라가스 아스파라거스 아욱 알 알배 양배추 양상추 양송이 양채 양채류 양파 어류 얼갈이 얼갈이배추 여주 \n",
            "연근 연어 열무 염고등어 엽경채류 엽채 엽채류 오렌지 오만둥이 오이 오징어 오징어몸통 오징어채 옥 완두콩 \n",
            "용과 우렁쉥이 우렁이 유채 임연 자두 자몽 재첩 적겨자 적근대 적새우 적채 전복 절단 절단낙지 \n",
            "조 조개살 중하 쪽파 쭈꾸미 참나물 참다래 참당귀 참외 참조 채소 천도복숭아 청경채 청어 체리 \n",
            "총각무 취나물 치커리 칠게 칼라후라워 칼리플라워 칼리후라워 케일 코라비 코코넛 콩 콩나물 키위 키조개 키조개날개 \n",
            "토란 토란대 토마토 파 파세리 파인애플 파프리카 패류 팽이 팽이버섯 포도 포장바지락 표고 표고버섯 풋고추 \n",
            "풋옥 피망 피조개 해파리 향신료 호박 호박잎 홍고추 홍어 홍합 활복오징어 "
          ]
        }
      ],
      "source": [
        "# 몇몇 품목들 정리가 필요\n",
        "a = sorted(df2['prd'].unique())\n",
        "for i in range(len(a)):\n",
        "  if i%15 != 0:\n",
        "    print(a[i],end=' ')\n",
        "  else:\n",
        "    print(a[i],end=' ')\n",
        "    print()"
      ]
    },
    {
      "cell_type": "code",
      "execution_count": 28,
      "metadata": {
        "id": "M2625eg87yCq"
      },
      "outputs": [],
      "source": [
        "### 예시\n",
        "# df2[(df2['prd']=='유채') & (df2['price']==4500)]['prd'].unique()\n",
        "# df2[df2['prd']=='유채']['prd'].unique()"
      ]
    },
    {
      "cell_type": "code",
      "execution_count": 29,
      "metadata": {
        "colab": {
          "base_uri": "https://localhost:8080/"
        },
        "id": "ExIoekH2gcM_",
        "outputId": "5cad26ac-a57e-42b5-85da-19e3591a3493"
      },
      "outputs": [],
      "source": [
        "### 원래 단어 뭐였는지 검색\n",
        "# org_df[org_df['품목명'].str.contains('\u001d느')]['품목명'].unique()"
      ]
    },
    {
      "cell_type": "code",
      "execution_count": 30,
      "metadata": {
        "colab": {
          "base_uri": "https://localhost:8080/",
          "height": 81
        },
        "id": "2uOc31XjjPFL",
        "outputId": "50529553-d06f-4dc6-8759-a11736220df6"
      },
      "outputs": [],
      "source": [
        "### 현재 이름 검색\n",
        "# df2[df2['prd']=='느']"
      ]
    },
    {
      "cell_type": "code",
      "execution_count": 33,
      "metadata": {
        "id": "gbBBjoDqIjR1"
      },
      "outputs": [],
      "source": [
        "###\n",
        "# JG\n",
        "\n",
        "# 고 -> 고수로 변경\n",
        "df2.loc[df2[\"prd\"]==\"고\",\"prd\"] = \"고수\"\n",
        "# 과실류, 과일류, 과채, 채소 -> 과채류로 통합\n",
        "df2.loc[df2[\"prd\"]==\"과실류\",\"prd\"] = \"과채류\"\n",
        "df2.loc[df2[\"prd\"]==\"과일류\",\"prd\"] = \"과채류\"\n",
        "df2.loc[df2[\"prd\"]==\"과일야채류\",\"prd\"] = \"과채류\"\n",
        "df2.loc[df2[\"prd\"]==\"과일과채류\",\"prd\"] = \"과채류\"\n",
        "df2.loc[df2[\"prd\"]==\"과일\",\"prd\"] = \"과채류\"\n",
        "df2.loc[df2[\"prd\"]==\"과채\",\"prd\"] = \"과채류\"\n",
        "df2.loc[df2[\"prd\"]==\"채소\",\"prd\"] = \"과채류\"\n",
        "# 고들빼 -> 고들빼기로 변경\n",
        "df2.loc[df2[\"prd\"]==\"고들빼\",\"prd\"] = \"고들빼기\"\n",
        "# 꼴뚜 -> 꼴두기로 변경\n",
        "df2.loc[df2[\"prd\"]==\"꼴뚜\",\"prd\"] = \"꼴뚜기\"\n",
        "# 그레이프푸룻 -> 자몽으로 통합\n",
        "df2.loc[df2[\"prd\"]==\"그레이프푸룻\",\"prd\"] = \"자몽\"\n",
        "\n",
        "# 느 -> 느타리버섯으로 통합\n",
        "df2.loc[df2[\"prd\"]==\"느\",\"prd\"] = \"느타리버섯\"\n",
        "\n",
        "# 대구 관련 품목들 정리\n",
        "df2.loc[df2[\"prd\"]==\"대구고니\",\"prd\"] = \"대구\"\n",
        "df2.loc[df2[\"prd\"]==\"대구머리\",\"prd\"] = \"대구\"\n",
        "df2.loc[df2[\"prd\"]==\"대구포\",\"prd\"] = \"대구\"\n",
        "# 듀리안 -> 두리안으로 통합\n",
        "df2.loc[df2[\"prd\"]==\"듀리안\",\"prd\"] = \"두리안\"\n",
        "# 딸 -> 딸기로 변경\n",
        "df2.loc[df2[\"prd\"]==\"딸\",\"prd\"] = \"딸기\"\n",
        "\n",
        "# 만가닥 -> 만가닥버섯으로 변경\n",
        "df2.loc[df2[\"prd\"]==\"만가닥\",\"prd\"] = \"만가닥버섯\"\n",
        "# 맛 -> 맛조개로 변경\n",
        "df2.loc[df2[\"prd\"]==\"맛\",\"prd\"] = \"맛조개\"\n",
        "# 망고스턴 -> 망고스틴으로 수정\n",
        "df2.loc[df2[\"prd\"]==\"망고스턴\",\"prd\"] = \"망고스틴\"\n",
        "# 메 -> 메기로 변경\n",
        "df2.loc[df2[\"prd\"]==\"메\",\"prd\"] = \"메기\"\n",
        "# 명태 관련 품목들 정리\n",
        "df2.loc[df2[\"prd\"]==\"명태곤니\",\"prd\"] = \"명태\"\n",
        "df2.loc[df2[\"prd\"]==\"명태알\",\"prd\"] = \"명태\"\n",
        "df2.loc[df2[\"prd\"]==\"명태포\",\"prd\"] = \"명태\"\n",
        "# 무우 -> 무로 통합\n",
        "df2.loc[df2[\"prd\"]==\"무우\",\"prd\"] = \"무\"\n",
        "\n",
        "# 방풍 -> 방풍나물로 통합\n",
        "df2.loc[df2[\"prd\"]==\"방풍\",\"prd\"] = \"방풍나물\"\n",
        "# 버섯류 -> 버섯으로 변경\n",
        "df2.loc[df2[\"prd\"]==\"버섯\",\"prd\"] = \"버섯\"\n",
        "# 벗,버찌 -> 체리로 통합\n",
        "df2.loc[df2[\"prd\"]==\"벗\",\"prd\"] = \"체리\"\n",
        "df2.loc[df2[\"prd\"]==\"버찌\",\"prd\"] = \"체리\"\n",
        "df2.loc[df2[\"prd\"]==\"벗찌\",\"prd\"] = \"체리\"\n",
        "# 브로커리, 브로코리 -> 브로콜리로 통합\n",
        "df2.loc[df2[\"prd\"]==\"브로커리\",\"prd\"] = \"브로콜리\"\n",
        "df2.loc[df2[\"prd\"]==\"브로코리\",\"prd\"] = \"브로콜리\"\n",
        "\n",
        "# 삼 -> 수삼으로 변경\n",
        "df2.loc[df2[\"prd\"]==\"삼\",\"prd\"] = \"수삼\"\n",
        "# 새우살 -> 새우로 변경\n",
        "df2.loc[df2[\"prd\"]==\"새우살\",\"prd\"] = \"새우\"\n",
        "# 세러리, 셀러리 -> 샐러리로 통합\n",
        "df2.loc[df2[\"prd\"]==\"세러리\",\"prd\"] = \"샐러리\"\n",
        "df2.loc[df2[\"prd\"]==\"셀러리\",\"prd\"] = \"샐러리\"\n",
        "# 생고추 -> 고추로 통합\n",
        "df2.loc[df2[\"prd\"]==\"생고추\",\"prd\"] = \"고추\"\n",
        "\n",
        "# 아보카드 -> 아보카도로 변경\n",
        "df2.loc[df2[\"prd\"]==\"아보카드\",\"prd\"] = \"아보카도\"\n",
        "# 아스파라가스 -> 아스파라거스로 변경\n",
        "df2.loc[df2[\"prd\"]==\"아스파라가스\",\"prd\"] = \"아스파라거스\"\n",
        "# 알 -> 알타리무로 변경\n",
        "df2.loc[df2[\"prd\"]==\"알\",\"prd\"] = \"알타리무\"\n",
        "# 알배 -> 알배기로 변경\n",
        "df2.loc[df2[\"prd\"]==\"알배\",\"prd\"] = \"알배기\"\n",
        "# 양채 -> 양채류로 통합\n",
        "df2.loc[df2[\"prd\"]==\"양채\",\"prd\"] = \"양채류\"\n",
        "# 얼갈이 -> 얼갈이배추로 통합\n",
        "df2.loc[df2[\"prd\"]==\"얼갈이\",\"prd\"] = \"얼갈이배추\"\n",
        "# 엽채류, 엽채 -> 엽경채류로 통합\n",
        "df2.loc[df2[\"prd\"]==\"엽채류\",\"prd\"] = \"엽경채류\"\n",
        "df2.loc[df2[\"prd\"]==\"엽채\",\"prd\"] = \"엽경채류\"\n",
        "# 오징어 관련 품목들 정리\n",
        "df2.loc[df2[\"prd\"]==\"오징어다리\",\"prd\"] = \"오징어\"\n",
        "df2.loc[df2[\"prd\"]==\"오징어원양\",\"prd\"] = \"오징어\"\n",
        "df2.loc[df2[\"prd\"]==\"오징어채\",\"prd\"] = \"오징어\"\n",
        "df2.loc[df2[\"prd\"]==\"활복오징어\",\"prd\"] = \"오징어\"\n",
        "df2.loc[df2[\"prd\"]==\"오징어채원양\",\"prd\"] = \"오징어\"\n",
        "df2.loc[df2[\"prd\"]==\"갑오징어살\",\"prd\"] = \"오징어\"\n",
        "# 옥, 풋옥 -> 옥수수로 정리\n",
        "df2.loc[df2[\"prd\"]==\"옥\",\"prd\"] = \"옥수수\"\n",
        "df2.loc[df2[\"prd\"]==\"풋옥\",\"prd\"] = \"옥수수\"\n",
        "# 임연 -> 임연수어로 정리\n",
        "df2.loc[df2[\"prd\"]==\"임연\",\"prd\"] = \"임연수어\"\n",
        "\n",
        "\n",
        "# 절단 -> 절단쭈꾸미 -> 쭈꾸미로 정리\n",
        "df2.loc[df2[\"prd\"]==\"절단\",\"prd\"] = \"쭈꾸미\"\n",
        "# 조개살 -> 조개로 정리\n",
        "df2.loc[df2[\"prd\"]==\"조개살\",\"prd\"] = \"조개\"\n",
        "\n",
        "# 참조 -> 참조기로 정리\n",
        "df2.loc[df2[\"prd\"]==\"참조\",\"prd\"] = \"참조기\"\n",
        "\n",
        "# 칼라후라워,칼리플라워, 칼리후라워 -> 컬리플라워로 통합\n",
        "df2.loc[df2[\"prd\"]==\"칼라후라워\",\"prd\"] = \"컬리플라워\"\n",
        "df2.loc[df2[\"prd\"]==\"칼리플라워\",\"prd\"] = \"컬리플라워\"\n",
        "df2.loc[df2[\"prd\"]==\"칼리후라워\",\"prd\"] = \"컬리플라워\"\n",
        "# 코라비 -> 콜라비로 통합\n",
        "df2.loc[df2[\"prd\"]==\"코라비\",\"prd\"] = \"콜라비\"\n",
        "# 키조개날개 -> 키조개로 통합\n",
        "df2.loc[df2[\"prd\"]==\"키조개날개\",\"prd\"] = \"키조개\"\n",
        "\n",
        "# 팽이 -> 팽이버섯으로 통합\n",
        "df2.loc[df2[\"prd\"]==\"팽이\",\"prd\"] = \"팽이버섯\"\n",
        "# 파세리 -> 파슬리로 변경\n",
        "df2.loc[df2[\"prd\"]==\"파세리\",\"prd\"] = \"파슬리\"\n",
        "# 표고 -> 표고버섯으로 통합\n",
        "df2.loc[df2[\"prd\"]==\"표고\",\"prd\"] = \"표고버섯\"\n",
        "# 포장바지락 -> 바지락으로 변경\n",
        "df2.loc[df2[\"prd\"]==\"포장바지락\",\"prd\"] = \"바지락\"\n",
        "\n",
        "### 일단 여기까지 실행\n",
        "# JY\n",
        "#각굴 -> 굴로 통합\n",
        "df2.loc[df2[\"prd\"]==\"각굴\",\"prd\"] = \"굴\"\n",
        "#가오리채 -> 가오리로 통합\n",
        "df2.loc[df2[\"prd\"]==\"가오리채\",\"prd\"] = \"가오리\"\n",
        "# 게지 -> 키조개로 통합\n",
        "df2.loc[df2[\"prd\"]==\"게지\",\"prd\"] = \"키조개\"\n",
        "#고 -> 고구마로 통합\n",
        "df2.loc[df2[\"prd\"]==\"고\",\"prd\"] = \"고구마\"\n",
        "#꼴뚜 -> 꼴뚜기로 통합\n",
        "df2.loc[df2[\"prd\"]==\"꼴뚜\",\"prd\"] = \"꼴뚜기\"\n",
        "#돗나물 -> 돌나물로 통합\n",
        "df2.loc[df2[\"prd\"]==\"돗나물\",\"prd\"] = \"돌나물\"\n",
        "#레드쉬 -> 레디쉬로 통합\n",
        "df2.loc[df2[\"prd\"]==\"레드쉬\",\"prd\"] = \"레디쉬\"\n",
        "#만가닥 -> 만가닥버섯으로 통합\n",
        "df2.loc[df2[\"prd\"]==\"만가닥\",\"prd\"] = \"만가닥버섯\"\n",
        "#메 -> 메기로 통합\n",
        "df2.loc[df2[\"prd\"]==\"메\",\"prd\"] = \"메기\"\n",
        "#봄동 -> 봄동배추로 통합\n",
        "df2.loc[df2[\"prd\"]==\"봄동\",\"prd\"] = \"봄동배추\"\n",
        "#봉지굴 -> 굴로 통합\n",
        "df2.loc[df2[\"prd\"]==\"봉지굴\",\"prd\"] = \"굴\"\n",
        "#박 -> 수박으로 통합\n",
        "df2.loc[df2[\"prd\"]==\"박\",\"prd\"] = \"수박\"\n",
        "#백조 -> 조기로 통합 \n",
        "df2.loc[df2[\"prd\"]==\"백조\",\"prd\"] = \"조기\"\n",
        "#벅굴 -> 벚굴로 통합\n",
        "df2.loc[df2[\"prd\"]==\"벅굴\",\"prd\"] = \"벚굴\"\n",
        "#비 -> 비타민으로 통합\n",
        "df2.loc[df2[\"prd\"]==\"비\",\"prd\"] = \"비타민\"\n",
        "#빈스 -> 콩으로 통합\n",
        "df2.loc[df2[\"prd\"]==\"빈스\",\"prd\"] = \"콩\"\n",
        "#삐틀이 -> 고둥으로 통합\n",
        "df2.loc[df2[\"prd\"]==\"삐틀이\",\"prd\"] = \"고둥\"\n",
        "#새송이 -> 새송이버섯으로 통합\n",
        "df2.loc[df2[\"prd\"]==\"새송이\",\"prd\"] = \"새송이버섯\"\n",
        "#세트 -> 과채류로 통합\n",
        "df2.loc[df2[\"prd\"]==\"세트\",\"prd\"] = \"과채류\"\n",
        "#알 -> 알로애로 통합\n",
        "df2.loc[df2[\"prd\"]==\"알\",\"prd\"] = \"알로에\"\n",
        "#엄나무 -> 음나무로 통합\n",
        "df2.loc[df2[\"prd\"]==\"엄나무\",\"prd\"] = \"음나무\"\n",
        "#염고등어 -> 고등어로 통합\n",
        "df2.loc[df2[\"prd\"]==\"염고등어\",\"prd\"] = \"고등어\"\n",
        "#오만둥이 -> 미더덕으로 통합\n",
        "df2.loc[df2[\"prd\"]==\"오만둥이\",\"prd\"] = \"미더덕\"\n",
        "#오징어 관련 품목들 정리\n",
        "df2.loc[df2[\"prd\"]==\"선동오징어\",\"prd\"] = \"오징어\"\n",
        "df2.loc[df2[\"prd\"]==\"오징어몸통\",\"prd\"] = \"오징어\"\n",
        "#우렁쉥이 -> 멍게로 통합\n",
        "df2.loc[df2[\"prd\"]==\"우렁쉥이\",\"prd\"] = \"멍게\"\n",
        "#우뭇가시리 -> 우뭇가사리로 통합\n",
        "df2.loc[df2[\"prd\"]==\"우뭇가시리\",\"prd\"] = \"우뭇가사리\"\n",
        "#적채 -> 적양배추로 통합\n",
        "df2.loc[df2[\"prd\"]==\"적채\",\"prd\"] = \"적양배추\"\n",
        "#절단낙지 -> 낙지로 통합\n",
        "df2.loc[df2[\"prd\"]==\"절단낙지\",\"prd\"] = \"낙지\"\n",
        "#조 -> 조개로 통합\n",
        "df2.loc[df2[\"prd\"]==\"조\",\"prd\"] = \"조개\"\n",
        "#청어원양 -> 청어로 통합\n",
        "df2.loc[df2[\"prd\"]==\"청어원양\",\"prd\"] = \"청어\"\n",
        "#키조개꼭지 -> 키조개로 통합\n",
        "df2.loc[df2[\"prd\"]==\"키조개꼭지\",\"prd\"] = \"키조개\"\n",
        "\n",
        "# 암꽃게, 숫꽃게 -> 꽃게로 통합\n",
        "df2.loc[df2[\"prd\"]==\"암꽃게\",\"prd\"] = \"꽃게\"\n",
        "df2.loc[df2[\"prd\"]==\"숫꽃게\",\"prd\"] = \"꽃게\"\n",
        "# 우렁 -> 우렁이로 통합\n",
        "df2.loc[df2[\"prd\"]==\"우렁\",\"prd\"] = \"우렁이\"\n",
        "# 알로애 -> 알로에로 변경\n",
        "df2.loc[df2[\"prd\"]==\"알로애\",\"prd\"] = \"알로에\"\n",
        "# 피마자잎 -> 피마자로 변경\n",
        "df2.loc[df2[\"prd\"]==\"피미자잎\",\"prd\"] = \"피마자\"\n",
        "# 식용허브 -> 허브로 변경\n",
        "df2.loc[df2[\"prd\"]==\"식용허브\",\"prd\"] = \"허브\"\n",
        "# 선인장열매 -> 선인장으로 변경\n",
        "df2.loc[df2[\"prd\"]==\"선인장열매\",\"prd\"] = \"선인장\"\n",
        "# 쌈추 -> 쌈채류로 변경\n",
        "df2.loc[df2[\"prd\"]==\"쌈추\",\"prd\"] = \"쌈채류\"\n",
        "# 조미제품 삭제\n",
        "df2.drop(df2[df2['prd']=='조미제품'].index,inplace=True)\n",
        "df2.drop(df2[df2['prd']=='어류원양'].index,inplace=True)"
      ]
    },
    {
      "cell_type": "code",
      "execution_count": 34,
      "metadata": {},
      "outputs": [
        {
          "data": {
            "text/plain": [
              "array(['토란대', '선인장'], dtype=object)"
            ]
          },
          "execution_count": 34,
          "metadata": {},
          "output_type": "execute_result"
        }
      ],
      "source": [
        "# 기존 products 리스트와 비교\n",
        "ex_prd = pd.read_csv(\"../products.csv\")\n",
        "df2[~df2['prd'].isin(ex_prd['prd'])]['prd'].unique()"
      ]
    },
    {
      "cell_type": "code",
      "execution_count": 35,
      "metadata": {},
      "outputs": [
        {
          "name": "stderr",
          "output_type": "stream",
          "text": [
            "/var/folders/nq/s4zx76p53d11lnr0t1dxpxh00000gn/T/ipykernel_2048/2619460125.py:4: FutureWarning: The frame.append method is deprecated and will be removed from pandas in a future version. Use pandas.concat instead.\n",
            "  products = ex_prd.append(new_prd,ignore_index=True)\n"
          ]
        }
      ],
      "source": [
        "# 물품 리스트 최신화\n",
        "new_prd = pd.DataFrame(df2['prd'].unique(),columns=['prd'])\n",
        "# products = ex_prd.append(new_prd[~new_prd['prd'].isin(ex_prd['prd'])],ignore_index=True)\n",
        "products = ex_prd.append(new_prd,ignore_index=True)"
      ]
    },
    {
      "cell_type": "code",
      "execution_count": 36,
      "metadata": {},
      "outputs": [],
      "source": [
        "products.drop(columns=['Unnamed: 0'],inplace=True)\n",
        "products.drop_duplicates(inplace=True)\n",
        "products.reset_index(inplace=True,drop=True)"
      ]
    },
    {
      "cell_type": "code",
      "execution_count": 37,
      "metadata": {},
      "outputs": [],
      "source": [
        "# 다음 작업을 위해 저장\n",
        "products.to_csv('../products.csv')"
      ]
    },
    {
      "cell_type": "code",
      "execution_count": 38,
      "metadata": {
        "colab": {
          "base_uri": "https://localhost:8080/",
          "height": 300
        },
        "id": "CxbMB3I59tCZ",
        "outputId": "d29f9bba-e828-4319-9402-7dc24ba1778b"
      },
      "outputs": [
        {
          "data": {
            "text/html": [
              "<div>\n",
              "<style scoped>\n",
              "    .dataframe tbody tr th:only-of-type {\n",
              "        vertical-align: middle;\n",
              "    }\n",
              "\n",
              "    .dataframe tbody tr th {\n",
              "        vertical-align: top;\n",
              "    }\n",
              "\n",
              "    .dataframe thead th {\n",
              "        text-align: right;\n",
              "    }\n",
              "</style>\n",
              "<table border=\"1\" class=\"dataframe\">\n",
              "  <thead>\n",
              "    <tr style=\"text-align: right;\">\n",
              "      <th></th>\n",
              "      <th>prd</th>\n",
              "    </tr>\n",
              "  </thead>\n",
              "  <tbody>\n",
              "    <tr>\n",
              "      <th>count</th>\n",
              "      <td>219.00000</td>\n",
              "    </tr>\n",
              "    <tr>\n",
              "      <th>mean</th>\n",
              "      <td>2447.44292</td>\n",
              "    </tr>\n",
              "    <tr>\n",
              "      <th>std</th>\n",
              "      <td>7793.83156</td>\n",
              "    </tr>\n",
              "    <tr>\n",
              "      <th>min</th>\n",
              "      <td>1.00000</td>\n",
              "    </tr>\n",
              "    <tr>\n",
              "      <th>25%</th>\n",
              "      <td>11.50000</td>\n",
              "    </tr>\n",
              "    <tr>\n",
              "      <th>50%</th>\n",
              "      <td>79.00000</td>\n",
              "    </tr>\n",
              "    <tr>\n",
              "      <th>75%</th>\n",
              "      <td>944.50000</td>\n",
              "    </tr>\n",
              "    <tr>\n",
              "      <th>max</th>\n",
              "      <td>87126.00000</td>\n",
              "    </tr>\n",
              "  </tbody>\n",
              "</table>\n",
              "</div>"
            ],
            "text/plain": [
              "              prd\n",
              "count   219.00000\n",
              "mean   2447.44292\n",
              "std    7793.83156\n",
              "min       1.00000\n",
              "25%      11.50000\n",
              "50%      79.00000\n",
              "75%     944.50000\n",
              "max   87126.00000"
            ]
          },
          "execution_count": 38,
          "metadata": {},
          "output_type": "execute_result"
        }
      ],
      "source": [
        "# 전체 거래량과 품목량\n",
        "# 비교를 위해 분포 파악\n",
        "# 거래량이 너무 적은 품목은 삭제할 필요성이 있음\n",
        "\n",
        "prd_lst = (df2['prd'].value_counts()).to_frame()\n",
        "prd_lst.describe()"
      ]
    },
    {
      "cell_type": "code",
      "execution_count": 39,
      "metadata": {
        "id": "_qhAf86UEoSv"
      },
      "outputs": [],
      "source": [
        "# 50개 미만 품목은 비교가 힘드므로 삭제\n",
        "# 줄어든 종류만 남기기\n",
        "\n",
        "prd_lst = prd_lst[prd_lst['prd']>=50]\n",
        "prd_lst.reset_index(inplace=True)\n",
        "prd_lst = prd_lst.rename(columns = {'index':'prd','prd':'count'})"
      ]
    },
    {
      "cell_type": "code",
      "execution_count": 40,
      "metadata": {
        "colab": {
          "base_uri": "https://localhost:8080/"
        },
        "id": "WZfTHQDe-jTG",
        "outputId": "7e713769-2413-4b10-db9d-348498e24708"
      },
      "outputs": [
        {
          "data": {
            "text/plain": [
              "복숭아    87126\n",
              "오이     31462\n",
              "고추     31333\n",
              "버섯     31036\n",
              "호박     23716\n",
              "       ...  \n",
              "중하        51\n",
              "키위        51\n",
              "대추        51\n",
              "백합        50\n",
              "갈치        50\n",
              "Name: prd, Length: 128, dtype: int64"
            ]
          },
          "execution_count": 40,
          "metadata": {},
          "output_type": "execute_result"
        }
      ],
      "source": [
        "df3 = df2.merge(prd_lst)\n",
        "df3[df3['count']>=50]['prd'].value_counts()"
      ]
    },
    {
      "cell_type": "code",
      "execution_count": 41,
      "metadata": {
        "id": "OnwYlUyTEJdF"
      },
      "outputs": [],
      "source": [
        "# 줄어든 것 확인했으므로 count column은 삭제\n",
        "df3 = df3.drop(columns='count')"
      ]
    },
    {
      "cell_type": "markdown",
      "metadata": {
        "id": "jPcICeSResYh"
      },
      "source": [
        "### scale"
      ]
    },
    {
      "cell_type": "code",
      "execution_count": 42,
      "metadata": {
        "colab": {
          "base_uri": "https://localhost:8080/"
        },
        "id": "4KZLpXuYYTZx",
        "outputId": "f59c1146-fdb9-4483-81a3-a0f51dd08904"
      },
      "outputs": [
        {
          "data": {
            "text/plain": [
              "array([  2.5 ,   4.5 ,   3.  ,   4.  ,   1.5 ,  10.  ,   5.  ,   2.  ,\n",
              "        14.5 ,   1.8 ,   3.5 ,   1.  ,   6.  ,   8.  ,   5.5 ,   2.3 ,\n",
              "        10.5 ,   9.  ,   7.  ,   1.2 ,   4.6 ,   0.5 ,   0.2 ,   0.3 ,\n",
              "         9.5 ,  11.  ,   7.5 ,  13.  ,  12.  ,  10.8 ,   7.2 ,  10.7 ,\n",
              "         8.5 ,   3.6 ,   3.7 ,   3.72, 125.  ,   2.2 ,  20.  ,  14.  ,\n",
              "        18.  ,   4.8 ,   1.3 ,  15.  ,   0.4 ,   9.6 ,   7.7 ,  14.3 ,\n",
              "         4.4 ,  17.  ,  15.4 ,   0.7 ,   3.3 ,   3.4 ,   4.7 ,  26.  ,\n",
              "        21.  ,  30.  ,   6.5 ,   9.2 ,   3.8 ,   3.9 ,   0.1 ,   7.8 ,\n",
              "         8.4 ,   2.7 ,   2.4 ,   9.8 ,   2.1 ,   7.6 ,   2.8 ,   2.25,\n",
              "         5.7 ,   4.3 ,  12.3 ,   3.2 ,   2.9 ,   6.8 ,  11.3 ,   9.4 ,\n",
              "         8.6 ,   7.4 ,   6.1 ,   6.4 ,   8.1 ,   5.9 ,   1.7 ,   2.6 ,\n",
              "         6.3 ,   8.7 ,  11.8 ,   5.2 ,  12.5 ,   4.9 ,   6.7 ,   3.1 ,\n",
              "         6.9 ,   5.8 ,   4.2 ,   6.2 ,  11.1 ,   5.3 ,   8.9 ,  10.2 ,\n",
              "         8.8 ,   7.1 ,  11.5 ,   1.4 ,  19.  ,  16.  ,  23.  ,  25.  ,\n",
              "        22.  ,  24.  ,  41.  ,   5.6 ,   0.09,   7.58,   0.25,   0.15,\n",
              "         0.05,   0.9 ,   0.8 ,   0.6 ,  20.01,  10.01,  10.02,  54.  ,\n",
              "         8.2 ,   2.01,   4.01,   1.6 ,   0.75,   8.16,   3.01,   6.6 ,\n",
              "         9.3 ,   8.3 ,  12.9 ,   8.01,  87.  ,  80.  ,   9.7 ,  10.4 ,\n",
              "        48.  , 200.  ,  10.6 ,   0.16,   3.54,  50.  ,  17.2 ,  14.2 ,\n",
              "        13.5 ,  15.01,   0.12,   0.03,   0.17,   5.1 ,   1.9 ,  21.5 ,\n",
              "        22.5 ])"
            ]
          },
          "execution_count": 42,
          "metadata": {},
          "output_type": "execute_result"
        }
      ],
      "source": [
        "np.set_printoptions(precision=2, suppress=True)\n",
        "df3['scale'].unique()"
      ]
    },
    {
      "cell_type": "code",
      "execution_count": 47,
      "metadata": {
        "colab": {
          "base_uri": "https://localhost:8080/",
          "height": 1000
        },
        "id": "-43K_jyN92IZ",
        "outputId": "7b3e92a5-a0eb-4b09-bc6c-36948c74b860"
      },
      "outputs": [
        {
          "data": {
            "text/html": [
              "<div>\n",
              "<style scoped>\n",
              "    .dataframe tbody tr th:only-of-type {\n",
              "        vertical-align: middle;\n",
              "    }\n",
              "\n",
              "    .dataframe tbody tr th {\n",
              "        vertical-align: top;\n",
              "    }\n",
              "\n",
              "    .dataframe thead th {\n",
              "        text-align: right;\n",
              "    }\n",
              "</style>\n",
              "<table border=\"1\" class=\"dataframe\">\n",
              "  <thead>\n",
              "    <tr style=\"text-align: right;\">\n",
              "      <th></th>\n",
              "      <th>prd</th>\n",
              "      <th>scale</th>\n",
              "      <th>price</th>\n",
              "      <th>origin</th>\n",
              "      <th>eco</th>\n",
              "      <th>reg_date</th>\n",
              "      <th>new_class</th>\n",
              "      <th>price_kg</th>\n",
              "    </tr>\n",
              "  </thead>\n",
              "  <tbody>\n",
              "    <tr>\n",
              "      <th>97671</th>\n",
              "      <td>블루베리</td>\n",
              "      <td>125.00000</td>\n",
              "      <td>26000</td>\n",
              "      <td>미국</td>\n",
              "      <td>normal</td>\n",
              "      <td>2021-08-14</td>\n",
              "      <td>1</td>\n",
              "      <td>208.00000</td>\n",
              "    </tr>\n",
              "    <tr>\n",
              "      <th>259796</th>\n",
              "      <td>자두</td>\n",
              "      <td>54.00000</td>\n",
              "      <td>13000</td>\n",
              "      <td>전남 순천시</td>\n",
              "      <td>normal</td>\n",
              "      <td>2021-08-18</td>\n",
              "      <td>1</td>\n",
              "      <td>240.74000</td>\n",
              "    </tr>\n",
              "    <tr>\n",
              "      <th>405961</th>\n",
              "      <td>고구마순</td>\n",
              "      <td>200.00000</td>\n",
              "      <td>1300</td>\n",
              "      <td>충남 예산군</td>\n",
              "      <td>normal</td>\n",
              "      <td>2021-08-05</td>\n",
              "      <td>1</td>\n",
              "      <td>6.50000</td>\n",
              "    </tr>\n",
              "    <tr>\n",
              "      <th>405962</th>\n",
              "      <td>고구마순</td>\n",
              "      <td>200.00000</td>\n",
              "      <td>1350</td>\n",
              "      <td>충남 예산군</td>\n",
              "      <td>normal</td>\n",
              "      <td>2021-08-05</td>\n",
              "      <td>1</td>\n",
              "      <td>6.75000</td>\n",
              "    </tr>\n",
              "    <tr>\n",
              "      <th>405964</th>\n",
              "      <td>고구마순</td>\n",
              "      <td>200.00000</td>\n",
              "      <td>1200</td>\n",
              "      <td>충남 예산군</td>\n",
              "      <td>normal</td>\n",
              "      <td>2021-08-05</td>\n",
              "      <td>1</td>\n",
              "      <td>6.00000</td>\n",
              "    </tr>\n",
              "    <tr>\n",
              "      <th>405965</th>\n",
              "      <td>고구마순</td>\n",
              "      <td>200.00000</td>\n",
              "      <td>1250</td>\n",
              "      <td>충남 예산군</td>\n",
              "      <td>normal</td>\n",
              "      <td>2021-08-05</td>\n",
              "      <td>1</td>\n",
              "      <td>6.25000</td>\n",
              "    </tr>\n",
              "    <tr>\n",
              "      <th>448158</th>\n",
              "      <td>당근</td>\n",
              "      <td>50.00000</td>\n",
              "      <td>35000</td>\n",
              "      <td>부산 기장군</td>\n",
              "      <td>normal</td>\n",
              "      <td>2021-08-24</td>\n",
              "      <td>1</td>\n",
              "      <td>700.00000</td>\n",
              "    </tr>\n",
              "    <tr>\n",
              "      <th>448654</th>\n",
              "      <td>당근</td>\n",
              "      <td>50.00000</td>\n",
              "      <td>31500</td>\n",
              "      <td>부산 기장군</td>\n",
              "      <td>normal</td>\n",
              "      <td>2021-08-24</td>\n",
              "      <td>2</td>\n",
              "      <td>630.00000</td>\n",
              "    </tr>\n",
              "    <tr>\n",
              "      <th>448809</th>\n",
              "      <td>당근</td>\n",
              "      <td>50.00000</td>\n",
              "      <td>25500</td>\n",
              "      <td>부산 기장군</td>\n",
              "      <td>normal</td>\n",
              "      <td>2021-08-24</td>\n",
              "      <td>3</td>\n",
              "      <td>510.00000</td>\n",
              "    </tr>\n",
              "  </tbody>\n",
              "</table>\n",
              "</div>"
            ],
            "text/plain": [
              "         prd     scale  price  origin     eco   reg_date  new_class  price_kg\n",
              "97671   블루베리 125.00000  26000      미국  normal 2021-08-14          1 208.00000\n",
              "259796    자두  54.00000  13000  전남 순천시  normal 2021-08-18          1 240.74000\n",
              "405961  고구마순 200.00000   1300  충남 예산군  normal 2021-08-05          1   6.50000\n",
              "405962  고구마순 200.00000   1350  충남 예산군  normal 2021-08-05          1   6.75000\n",
              "405964  고구마순 200.00000   1200  충남 예산군  normal 2021-08-05          1   6.00000\n",
              "405965  고구마순 200.00000   1250  충남 예산군  normal 2021-08-05          1   6.25000\n",
              "448158    당근  50.00000  35000  부산 기장군  normal 2021-08-24          1 700.00000\n",
              "448654    당근  50.00000  31500  부산 기장군  normal 2021-08-24          2 630.00000\n",
              "448809    당근  50.00000  25500  부산 기장군  normal 2021-08-24          3 510.00000"
            ]
          },
          "execution_count": 47,
          "metadata": {},
          "output_type": "execute_result"
        }
      ],
      "source": [
        "# 50kg 이상 거래된 건들 이상치라 판단하고 확인 진행\n",
        "df3[df3['scale']>=50]"
      ]
    },
    {
      "cell_type": "code",
      "execution_count": 48,
      "metadata": {
        "id": "v1EZDKB59dJp"
      },
      "outputs": [],
      "source": [
        "# 스케일 오표기된 항목 수정\n",
        "\n",
        "# 이상치 항목 삭제\n",
        "df3 = df3.drop(df3[(df3['scale']>=50)].index)"
      ]
    },
    {
      "cell_type": "code",
      "execution_count": 49,
      "metadata": {},
      "outputs": [
        {
          "data": {
            "text/html": [
              "<div>\n",
              "<style scoped>\n",
              "    .dataframe tbody tr th:only-of-type {\n",
              "        vertical-align: middle;\n",
              "    }\n",
              "\n",
              "    .dataframe tbody tr th {\n",
              "        vertical-align: top;\n",
              "    }\n",
              "\n",
              "    .dataframe thead th {\n",
              "        text-align: right;\n",
              "    }\n",
              "</style>\n",
              "<table border=\"1\" class=\"dataframe\">\n",
              "  <thead>\n",
              "    <tr style=\"text-align: right;\">\n",
              "      <th></th>\n",
              "      <th>prd</th>\n",
              "      <th>scale</th>\n",
              "      <th>price</th>\n",
              "      <th>origin</th>\n",
              "      <th>eco</th>\n",
              "      <th>reg_date</th>\n",
              "      <th>new_class</th>\n",
              "      <th>price_kg</th>\n",
              "    </tr>\n",
              "  </thead>\n",
              "  <tbody>\n",
              "  </tbody>\n",
              "</table>\n",
              "</div>"
            ],
            "text/plain": [
              "Empty DataFrame\n",
              "Columns: [prd, scale, price, origin, eco, reg_date, new_class, price_kg]\n",
              "Index: []"
            ]
          },
          "execution_count": 49,
          "metadata": {},
          "output_type": "execute_result"
        }
      ],
      "source": [
        "df3[df3['scale']>=50]"
      ]
    },
    {
      "cell_type": "markdown",
      "metadata": {
        "id": "5I9D6wZCWDhi"
      },
      "source": [
        "### origin"
      ]
    },
    {
      "cell_type": "code",
      "execution_count": 50,
      "metadata": {
        "colab": {
          "base_uri": "https://localhost:8080/"
        },
        "id": "pI0Ezwn-VgXP",
        "outputId": "8d8f9387-01cb-4c3a-a3c9-e521b970aafb"
      },
      "outputs": [
        {
          "data": {
            "text/plain": [
              "array(['충북 음성군', '충북 영동군', '경북 의성군', '충북 충주시', '전북 남원시', '전북 임실군',\n",
              "       '경북 영천시', '경북 경산시', '대구 동구', '경북 영주시', '경기 이천시', '충북 충주시 가금면',\n",
              "       '강원 원주시', '충북 괴산군', '경북 김천시', '경북 성주군', '경북 안동시', '전남 곡성군',\n",
              "       '대구 북구', '강원 화천군', '전라북도 남원시', '경북 상주시', '경북', '경북 청도군', '경북 칠곡군',\n",
              "       '경기 여주시', '충북 옥천군', '경북 예천군', '충북 제천시', '경남 창녕군', '충북',\n",
              "       '경북 영주시 단산면', '경기 안성시', '경기 가평군 가평읍', '강원 춘천시', '경북 문경시',\n",
              "       '청주시 청원구', '경북 영덕군', '충남 논산시', '강원 양구군', '경남 진주시', '서울시 강서구',\n",
              "       '충북 청주시 상당구', '경기 가평군', '충남 서산시', '경기 여주군', '경북 영주시 순흥면', '강원 평창군',\n",
              "       '강원 홍천군', '경북 문경시 가은읍', '강원 횡성군', '충북 청주시', '강원', '제주 서귀포시', '경남',\n",
              "       '충남 당진시', '전북 무주군', '경북 군위군', '충남 천안시', '충남 부여군', '강원도 철원군',\n",
              "       '경북 청송군', '경기 포천시', '서울 강동구', '경기 구리시', '서울 송파구', '경기 하남시',\n",
              "       '경기 오산시', '강원 철원군', '경기 양평군', '경기 광주시', '경기 양주시', '경기 연천군',\n",
              "       '경기 양주군', '경기도 고양시', '경기도 여주군', '경기 고양시', '경기 파주시', '경기 양평군 양동면',\n",
              "       '경기', '경기 고양시일산구', '경기 고양시 덕양구', '경기 여주시 대신면', '경기도 파주시', '경기 평택시',\n",
              "       '경기 남양주시', '경기 포천군', '경기도 김포시', '경기 평택시 고덕면', '서울시 양천구', '서울 강서구',\n",
              "       '경기 김포시', '충남 예산군', '경기도 광명시', '경남 밀양시', '경남 하동군', '전남 나주시',\n",
              "       '충남 금산군', '전남 무안군', '경남 함안군', '충남 태안군', '광주 남구', '강원 인제군',\n",
              "       '전남 순천시', '전남 영암군', '경기 용인시', '수입산 중국', '중국', '부산시 강서구', '뉴질랜드',\n",
              "       '전남 장흥군', '경기 화성시', '충북 진천군', '전북 고창군', '충남 당진시 석문면', '충남 서천군',\n",
              "       '경기 화성시 장안면', '전남 영광군', '미국', '수입산 미국', '경남 함양군', '전남 담양군',\n",
              "       '충남 청양군', '충남 공주시', '충남 아산시', '충북 영동군 학산면', '필리핀', '충북 증평군',\n",
              "       '전남 고흥군', '인천 옹진군', '칠레', '경남 김해시', '수입산 칠레', '경남 의령군', '경기 광명시',\n",
              "       '경기도 양평군', '제주 제주시', '경기도 안성시', '경기도 부천시', '전남 광양시', '강원 삼척시',\n",
              "       '경기 성남시', '인천 강화군', '경기 용인시 남사면', '충남 홍성군', '충남 보령시', '경남 밀양시 단장면',\n",
              "       '강원 고성군', '광주 북구', '경북 안동시 길안면', '경남 거창군', '경북 봉화군', '경북 영천시 화남면',\n",
              "       '경북 포항시', '충북 보은군', '경북 영주시 부석면', '충북 괴산군 장연면', '전북 장수군',\n",
              "       '충북 단양군 어상천면', '강원 정선군', '충남', '전북', '대구 달성군', '전라북도 장수군',\n",
              "       '성남시 중원구', '전북 익산시', '전북 부안군', '강원 강릉시', '서울 양천구', '서울 중랑구',\n",
              "       '성남시 분당구', '전북 완주군', '세종 세종시', '강원 태백시', '충남 논산시 양촌면',\n",
              "       '전북 익산시 망성면', '인천시 계양구', '경북 영양군', '강원도 홍천군', '충남 계룡시', '전라북도 익산시',\n",
              "       '충남 논산시 가야곡면', '경기 의정부시', '충남 논산시 연무읍', '강원 영월군', '경기 이천시 율면',\n",
              "       '세종', '경기도 시흥시', '경기 안성시 양성면', '경남 합천군', '경기 시흥시', '강원 영월군 중동면',\n",
              "       '경기 안산시', '충남 논산시 성동면', '전라북도 익', '경기 고양시덕양구', '충남 논산시 강경읍',\n",
              "       '충남 논산시 상월면', '인천 계양구', '전남 함평군', '경북 김천시 조마면', '전남 장성군',\n",
              "       '경북 김천시 농소면', '경기 양주시 장흥면', '전남 화순군', '경기 의정부', '전남 보성군', '광주 광산구',\n",
              "       '전남 해남군', '광주 서구', '경남 고성군', '경남 거제시', '충북 청원군', '경기 부천시',\n",
              "       '전북 정읍시', '강원도 횡성군', '충북 단양군', '경남 합천군 가야면', '강원도 양구군', '전북 진안군',\n",
              "       '경북 고령군', '전북 진안군 동향면', '강원 홍천군 내촌면', '전북 진안군 백운면', '경기 포천시 영북면',\n",
              "       '광주시 서구', '서울 은평구', '경기 고양시 일산동구', '서울시 은평구', '기타외국', '서울 동대문구',\n",
              "       '경기도 포천군', '서울 도봉구', '경기 성남시중원구', '서울 중구', '서울', '페루', '수입산 페루',\n",
              "       '수입산 콜롬비아', '대만', '태국', '경북 포항시남구', '강원 횡성군 둔내면', '강원도 삼척시',\n",
              "       '강원도 평창군', '강원도 태백시', '제주도 제주시', '강원 평창군 봉평면', '경기도 광주군', '경기 의왕시',\n",
              "       '강원 정선군 임계면', '전남 신안군', '경북/문경시', '부산 강서구', '경북 구미시', '경북/상주시',\n",
              "       '전남 목포시', '전남 강진군', '경북/안동시', '경북 김천시 감문면', '전남 진도군', '경기도 동두천시',\n",
              "       '경기도 양주군', '수입산 호주', '호주', '오스트레일', '오스트레일리아', '남아프리카공화국',\n",
              "       '수입산 남아공산', '대전 서구', '전북 김제시', '경기 이천시 대월면', '경기 안성시 고삼면',\n",
              "       '강원 철원군 김화읍', '충남 부여군 임천면', '경기 가평군 북면', '강원 홍천군 서석면', '강원 홍천군 내면',\n",
              "       '경기 포천시 내촌면', '강원도 춘천시', '전주시 완산구', '강원 영월군 북면', '강원 홍천군 서면',\n",
              "       '충북 음성군 생극면', '경기 양주시 광적면', '전북 전주시', '충북청주시상당구', '청주시 상당구',\n",
              "       '강원 영월군 김삿갓면', '전남 여수시', '충북 청주시 없음', '수입산 베트남', '베트남', '제주도 서귀포시',\n",
              "       '인천시 강화군', '충북 충주시 노은면', '경북 문경시 산양면', '경북 상주시 공검면', '경기도 남양주시',\n",
              "       '경북 문경시 문경읍', '전남 구례군', '경기 이천시 설성면', '충남 아산시 도고면', '전북 순창군', '제주',\n",
              "       '콜롬비아', '경기 용인시 모현면', '전남 고흥군 도화면', '제주 북제주군', '수입산 뉴질랜드',\n",
              "       '강원 속초시', '경남 창원시', '경기 수원시', '경남 사천시', '강원도 화천군', '경기도 화성군',\n",
              "       '강원 양양군', '경남 남해군', '전주시 덕진구', '경남 산청군', '수입산 필리핀', '인천',\n",
              "       '인천시 부평구', '인천 남구', '인천광역시 남구', '경기도 하남시', '인천 미추홀', '인천 부평구',\n",
              "       '경기 남양주', '강원도 철원', '경기 화성시 송산면', '서울특별시 동대문구', '경기도 안산시', '대전 동구',\n",
              "       '멕시코', '충남 천안시 서북구', '경기 안양시', '충북 영동군 황간면', '가락동', '경북 경산시 압량면',\n",
              "       '경북 경산시 남산면', '경북 상주시 모동면', '강원 정선군 화암면', '경남 진주시 금곡면', '경기도 연천군',\n",
              "       '강원 삼척시 가곡면', '경기 여주시 북내면', '강원도 영월군', '강원도 인제군', '광주시 남구',\n",
              "       '인천 미추홀구', '인천 남동구', '강원 화천군 하남면', '충북 청주시흥덕구', '강원 홍천군 화촌면',\n",
              "       '전남 함평군 나산면', '경남 사천시 사천읍', '경기 양주시 백석읍', '경북 영주시 장수면', '광주',\n",
              "       '경북 영주시 평은면', '부산 동구', '부산광역시 강서구', '전남 신안군 안좌면', '충남 천안시 광덕면',\n",
              "       '충남 당진시 신평면', '충남 부여군 장암면', '경기 양주시 남면', '충북 음성군 맹동면',\n",
              "       '강원 횡성군 안흥면', '경기 파주시 적성면', '경기 동두천시 동두천', '경기 안성시 일죽면',\n",
              "       '경기 안성시 금광면', '제주 서귀포시(2)', '제주 남제주군', '제주특별자치도 서귀', '제주 제주시 구좌읍',\n",
              "       '대전 유성구', '제주 서귀포', '강원 평창군 진부면', '충남 서산시 부석면', '충북 제천시 봉양읍',\n",
              "       '강원 강릉시 강동면', '전라북도 완주군', '광주 광주', '울산 남구', '타이', '전남 나주시 산포면',\n",
              "       '강원 철원군 서면', '경기 용인시 처인구', '강원 태백시 황지동', '경기 동두천시', '전남 나주시 공산면',\n",
              "       '경기 남양주시 와부읍', '경기 남양주시 진건읍', '경북 고령군 다산면', '경기 남양주시 조안면',\n",
              "       '광주시 광산구', '경남 진주시 대곡면', '경기 양평군 강상면', '부산 기장군', '경남 양산시', '부산 북구',\n",
              "       '경남 창원시 의창구', '부산시 기장군', '경기 이천시 장호원읍', '경기고양시일산구', '경기 고양시 일산',\n",
              "       '강원도 강릉시', '수입산 멕시코', '충남 서산시 팔봉면', '대구', '대구시 달성군', '브라질',\n",
              "       '수입산 태국', '경북 경주시 감포읍', '전북 익산시 금마면', '경북 경주시', '전남', '전북 남원시 금지면',\n",
              "       '전남 곡성군 겸면', '전북 정읍시 감곡면', '충남 청양군 정산면', '충남 공주시 계룡면',\n",
              "       '전남 영암군 금정면', '전남 곡성군 고달면', '강원 강릉시 왕산면', '강원도 정선군', '강원 평창군 대관령면',\n",
              "       '경남 산청군 신안면', '전남 영암군 삼호읍', '전남 신안군 압해면', '부천시 오정구', '인천 서구',\n",
              "       '경기 부천시오정구', '전남 나주시 노안면', '전북 김제시 금산면', '과테말라', '에콰도르', '코스타리카',\n",
              "       '에쿠아도르', '에콰돌', '수입산 코스타리카', '수입산 에콰도르', '수입산 과테말라', '인도네시아',\n",
              "       '수입산 인도네시아', '인천시 남동구', '경기도 평택시', '세종 특별자치시', '충청남도 아산시',\n",
              "       '충남 연기군', '경북 울진군', '강원 삼척시 원덕읍', '청주시 흥덕구', '세종시', '남아프리카',\n",
              "       '강원 홍천군 남면', '경기 의왕시 초평로 1', '경기 이천시 모가면', '수입 중국', '수입 베트남',\n",
              "       '수입 타이', '국내산', '수입 노르웨이', '수입 러시아', '수입 영국', '전남 순천(광양)',\n",
              "       '전남 보성(벌교)', '경남 마산(고성,진해)', '경남 통영', '전남 여수', '충남 태안', '수입 기타',\n",
              "       '수입 페루', '경북 울진(후포)', '전북 군산', '충남 장항(서천)', '충남 서산', '경남 삼천포',\n",
              "       '전북 부안', '경남 남해', '경기 인천', '전남 강진', '수입 미국', '경기 강화', '수입 세네갈',\n",
              "       '제주 제주도'], dtype=object)"
            ]
          },
          "execution_count": 50,
          "metadata": {},
          "output_type": "execute_result"
        }
      ],
      "source": [
        "# 도,시, 국산, 수입 표기 분류 필요\n",
        "df3['origin'].unique()"
      ]
    },
    {
      "cell_type": "code",
      "execution_count": 51,
      "metadata": {
        "colab": {
          "base_uri": "https://localhost:8080/",
          "height": 423
        },
        "id": "rvX1g3c_Ll2C",
        "outputId": "56330691-579b-46aa-b24a-046112748253"
      },
      "outputs": [
        {
          "data": {
            "text/html": [
              "<div>\n",
              "<style scoped>\n",
              "    .dataframe tbody tr th:only-of-type {\n",
              "        vertical-align: middle;\n",
              "    }\n",
              "\n",
              "    .dataframe tbody tr th {\n",
              "        vertical-align: top;\n",
              "    }\n",
              "\n",
              "    .dataframe thead th {\n",
              "        text-align: right;\n",
              "    }\n",
              "</style>\n",
              "<table border=\"1\" class=\"dataframe\">\n",
              "  <thead>\n",
              "    <tr style=\"text-align: right;\">\n",
              "      <th></th>\n",
              "      <th>prd</th>\n",
              "      <th>scale</th>\n",
              "      <th>price</th>\n",
              "      <th>origin</th>\n",
              "      <th>eco</th>\n",
              "      <th>reg_date</th>\n",
              "      <th>new_class</th>\n",
              "      <th>price_kg</th>\n",
              "      <th>0</th>\n",
              "      <th>1</th>\n",
              "      <th>2</th>\n",
              "      <th>3</th>\n",
              "    </tr>\n",
              "  </thead>\n",
              "  <tbody>\n",
              "    <tr>\n",
              "      <th>0</th>\n",
              "      <td>복숭아</td>\n",
              "      <td>2.50000</td>\n",
              "      <td>5500</td>\n",
              "      <td>충북 음성군</td>\n",
              "      <td>normal</td>\n",
              "      <td>2021-07-31</td>\n",
              "      <td>1</td>\n",
              "      <td>2200.00000</td>\n",
              "      <td>충북</td>\n",
              "      <td>음성군</td>\n",
              "      <td>NaN</td>\n",
              "      <td>NaN</td>\n",
              "    </tr>\n",
              "    <tr>\n",
              "      <th>1</th>\n",
              "      <td>복숭아</td>\n",
              "      <td>4.50000</td>\n",
              "      <td>15000</td>\n",
              "      <td>충북 영동군</td>\n",
              "      <td>normal</td>\n",
              "      <td>2021-07-31</td>\n",
              "      <td>1</td>\n",
              "      <td>3333.33000</td>\n",
              "      <td>충북</td>\n",
              "      <td>영동군</td>\n",
              "      <td>NaN</td>\n",
              "      <td>NaN</td>\n",
              "    </tr>\n",
              "    <tr>\n",
              "      <th>2</th>\n",
              "      <td>복숭아</td>\n",
              "      <td>4.50000</td>\n",
              "      <td>21000</td>\n",
              "      <td>충북 영동군</td>\n",
              "      <td>normal</td>\n",
              "      <td>2021-07-31</td>\n",
              "      <td>1</td>\n",
              "      <td>4666.67000</td>\n",
              "      <td>충북</td>\n",
              "      <td>영동군</td>\n",
              "      <td>NaN</td>\n",
              "      <td>NaN</td>\n",
              "    </tr>\n",
              "    <tr>\n",
              "      <th>3</th>\n",
              "      <td>복숭아</td>\n",
              "      <td>3.00000</td>\n",
              "      <td>17000</td>\n",
              "      <td>충북 영동군</td>\n",
              "      <td>normal</td>\n",
              "      <td>2021-07-31</td>\n",
              "      <td>1</td>\n",
              "      <td>5666.67000</td>\n",
              "      <td>충북</td>\n",
              "      <td>영동군</td>\n",
              "      <td>NaN</td>\n",
              "      <td>NaN</td>\n",
              "    </tr>\n",
              "    <tr>\n",
              "      <th>4</th>\n",
              "      <td>복숭아</td>\n",
              "      <td>4.50000</td>\n",
              "      <td>16000</td>\n",
              "      <td>경북 의성군</td>\n",
              "      <td>normal</td>\n",
              "      <td>2021-07-31</td>\n",
              "      <td>1</td>\n",
              "      <td>3555.56000</td>\n",
              "      <td>경북</td>\n",
              "      <td>의성군</td>\n",
              "      <td>NaN</td>\n",
              "      <td>NaN</td>\n",
              "    </tr>\n",
              "    <tr>\n",
              "      <th>...</th>\n",
              "      <td>...</td>\n",
              "      <td>...</td>\n",
              "      <td>...</td>\n",
              "      <td>...</td>\n",
              "      <td>...</td>\n",
              "      <td>...</td>\n",
              "      <td>...</td>\n",
              "      <td>...</td>\n",
              "      <td>...</td>\n",
              "      <td>...</td>\n",
              "      <td>...</td>\n",
              "      <td>...</td>\n",
              "    </tr>\n",
              "    <tr>\n",
              "      <th>534755</th>\n",
              "      <td>갈치</td>\n",
              "      <td>10.00000</td>\n",
              "      <td>30000</td>\n",
              "      <td>국내산</td>\n",
              "      <td>normal</td>\n",
              "      <td>2021-08-30</td>\n",
              "      <td>3</td>\n",
              "      <td>3000.00000</td>\n",
              "      <td>국내산</td>\n",
              "      <td>NaN</td>\n",
              "      <td>NaN</td>\n",
              "      <td>NaN</td>\n",
              "    </tr>\n",
              "    <tr>\n",
              "      <th>534756</th>\n",
              "      <td>갈치</td>\n",
              "      <td>10.00000</td>\n",
              "      <td>310000</td>\n",
              "      <td>국내산</td>\n",
              "      <td>normal</td>\n",
              "      <td>2021-08-31</td>\n",
              "      <td>3</td>\n",
              "      <td>31000.00000</td>\n",
              "      <td>국내산</td>\n",
              "      <td>NaN</td>\n",
              "      <td>NaN</td>\n",
              "      <td>NaN</td>\n",
              "    </tr>\n",
              "    <tr>\n",
              "      <th>534757</th>\n",
              "      <td>갈치</td>\n",
              "      <td>10.00000</td>\n",
              "      <td>210100</td>\n",
              "      <td>국내산</td>\n",
              "      <td>normal</td>\n",
              "      <td>2021-08-31</td>\n",
              "      <td>3</td>\n",
              "      <td>21010.00000</td>\n",
              "      <td>국내산</td>\n",
              "      <td>NaN</td>\n",
              "      <td>NaN</td>\n",
              "      <td>NaN</td>\n",
              "    </tr>\n",
              "    <tr>\n",
              "      <th>534758</th>\n",
              "      <td>갈치</td>\n",
              "      <td>7.00000</td>\n",
              "      <td>50000</td>\n",
              "      <td>수입 세네갈</td>\n",
              "      <td>normal</td>\n",
              "      <td>2021-08-31</td>\n",
              "      <td>3</td>\n",
              "      <td>7142.86000</td>\n",
              "      <td>수입</td>\n",
              "      <td>세네갈</td>\n",
              "      <td>NaN</td>\n",
              "      <td>NaN</td>\n",
              "    </tr>\n",
              "    <tr>\n",
              "      <th>534759</th>\n",
              "      <td>갈치</td>\n",
              "      <td>7.00000</td>\n",
              "      <td>64000</td>\n",
              "      <td>수입 세네갈</td>\n",
              "      <td>normal</td>\n",
              "      <td>2021-08-31</td>\n",
              "      <td>3</td>\n",
              "      <td>9142.86000</td>\n",
              "      <td>수입</td>\n",
              "      <td>세네갈</td>\n",
              "      <td>NaN</td>\n",
              "      <td>NaN</td>\n",
              "    </tr>\n",
              "  </tbody>\n",
              "</table>\n",
              "<p>534747 rows × 12 columns</p>\n",
              "</div>"
            ],
            "text/plain": [
              "        prd    scale   price  origin     eco   reg_date  new_class  \\\n",
              "0       복숭아  2.50000    5500  충북 음성군  normal 2021-07-31          1   \n",
              "1       복숭아  4.50000   15000  충북 영동군  normal 2021-07-31          1   \n",
              "2       복숭아  4.50000   21000  충북 영동군  normal 2021-07-31          1   \n",
              "3       복숭아  3.00000   17000  충북 영동군  normal 2021-07-31          1   \n",
              "4       복숭아  4.50000   16000  경북 의성군  normal 2021-07-31          1   \n",
              "...     ...      ...     ...     ...     ...        ...        ...   \n",
              "534755   갈치 10.00000   30000     국내산  normal 2021-08-30          3   \n",
              "534756   갈치 10.00000  310000     국내산  normal 2021-08-31          3   \n",
              "534757   갈치 10.00000  210100     국내산  normal 2021-08-31          3   \n",
              "534758   갈치  7.00000   50000  수입 세네갈  normal 2021-08-31          3   \n",
              "534759   갈치  7.00000   64000  수입 세네갈  normal 2021-08-31          3   \n",
              "\n",
              "          price_kg    0    1    2    3  \n",
              "0       2200.00000   충북  음성군  NaN  NaN  \n",
              "1       3333.33000   충북  영동군  NaN  NaN  \n",
              "2       4666.67000   충북  영동군  NaN  NaN  \n",
              "3       5666.67000   충북  영동군  NaN  NaN  \n",
              "4       3555.56000   경북  의성군  NaN  NaN  \n",
              "...            ...  ...  ...  ...  ...  \n",
              "534755  3000.00000  국내산  NaN  NaN  NaN  \n",
              "534756 31000.00000  국내산  NaN  NaN  NaN  \n",
              "534757 21010.00000  국내산  NaN  NaN  NaN  \n",
              "534758  7142.86000   수입  세네갈  NaN  NaN  \n",
              "534759  9142.86000   수입  세네갈  NaN  NaN  \n",
              "\n",
              "[534747 rows x 12 columns]"
            ]
          },
          "execution_count": 51,
          "metadata": {},
          "output_type": "execute_result"
        }
      ],
      "source": [
        "# 해당 조건에 맞는 값 추출\n",
        "\n",
        "splits = df3['origin'].str.split(' ')\n",
        "cacul = splits.apply(lambda x: pd.Series(x))\n",
        "df66 = pd.merge(df3,cacul, left_index=True, right_index=True, how='inner')\n",
        "df66"
      ]
    },
    {
      "cell_type": "code",
      "execution_count": 52,
      "metadata": {
        "id": "NVkmVZ7ip9-N"
      },
      "outputs": [],
      "source": [
        "# 세부 카테고리 정리 (state, city 편집 시 여기서 시작)\n",
        "\n",
        "df4 = df66.rename(columns = {0:'state',1:'city'})\n",
        "\n",
        "# 2,3은 필요없는 정보이므로 삭제\n",
        "df4 = df4.drop(columns=[2,3])"
      ]
    },
    {
      "cell_type": "code",
      "execution_count": 53,
      "metadata": {
        "colab": {
          "base_uri": "https://localhost:8080/"
        },
        "id": "JcsSUlI_27J3",
        "outputId": "817067e6-2645-4c9c-c86f-047b1471bb9b"
      },
      "outputs": [
        {
          "data": {
            "text/plain": [
              "array(['충북', '경북', '전북', '대구', '경기', '강원', '전남', '전라북도', '경남', '청주시',\n",
              "       '충남', '서울시', '제주', '강원도', '서울', '경기도', '광주', '수입산', '중국', '부산시',\n",
              "       '뉴질랜드', '미국', '필리핀', '인천', '칠레', '성남시', '세종', '인천시', '광주시', '기타외국',\n",
              "       '페루', '대만', '태국', '제주도', '경북/문경시', '부산', '경북/상주시', '경북/안동시', '호주',\n",
              "       '오스트레일', '오스트레일리아', '남아프리카공화국', '대전', '전주시', '충북청주시상당구', '베트남',\n",
              "       '콜롬비아', '인천광역시', '서울특별시', '멕시코', '가락동', '부산광역시', '제주특별자치도', '울산',\n",
              "       '타이', '경기고양시일산구', '대구시', '브라질', '부천시', '과테말라', '에콰도르', '코스타리카',\n",
              "       '에쿠아도르', '에콰돌', '인도네시아', '충청남도', '세종시', '남아프리카', '수입', '국내산'],\n",
              "      dtype=object)"
            ]
          },
          "execution_count": 53,
          "metadata": {},
          "output_type": "execute_result"
        }
      ],
      "source": [
        "df4['state'].unique()"
      ]
    },
    {
      "cell_type": "code",
      "execution_count": 54,
      "metadata": {
        "id": "SsvDFEbgqQjD"
      },
      "outputs": [],
      "source": [
        "# 시,도 제거\n",
        "def name_sort(words):\n",
        "  p = re.compile('[^시도]+')\n",
        "  word = re.search(p,str(words))\n",
        "  return word.group()\n",
        "\n",
        "df4[\"state\"] = df4[\"state\"].apply(name_sort)\n",
        "\n",
        "# 오타도 제거\n",
        "\n",
        "def name_sort2(words):\n",
        "  p = re.compile('[^\\t]+')\n",
        "  word = re.search(p,words)\n",
        "  return word.group()\n",
        "\n",
        "df4[\"state\"] = df4[\"state\"].apply(name_sort2)"
      ]
    },
    {
      "cell_type": "code",
      "execution_count": 55,
      "metadata": {
        "colab": {
          "base_uri": "https://localhost:8080/"
        },
        "id": "JeybBf_fqhqh",
        "outputId": "b5542367-86fe-4c6e-deab-f28f7d1ce6f5"
      },
      "outputs": [
        {
          "data": {
            "text/plain": [
              "array(['충북', '경북', '전북', '대구', '경기', '강원', '전남', '전라북', '경남', '청주', '충남',\n",
              "       '서울', '제주', '광주', '수입산', '중국', '부산', '뉴질랜드', '미국', '필리핀', '인천',\n",
              "       '칠레', '성남', '세종', '기타외국', '페루', '대만', '태국', '경북/문경', '경북/상주',\n",
              "       '경북/안동', '호주', '오스트레일', '오스트레일리아', '남아프리카공화국', '대전', '전주', '충북청주',\n",
              "       '베트남', '콜롬비아', '인천광역', '서울특별', '멕', '가락동', '부산광역', '제주특별자치', '울산',\n",
              "       '타이', '경기고양', '브라질', '부천', '과테말라', '에콰', '코스타리카', '에쿠아', '에콰돌',\n",
              "       '인', '충청남', '남아프리카', '수입', '국내산'], dtype=object)"
            ]
          },
          "execution_count": 55,
          "metadata": {},
          "output_type": "execute_result"
        }
      ],
      "source": [
        "df4[\"state\"].unique()"
      ]
    },
    {
      "cell_type": "code",
      "execution_count": 56,
      "metadata": {
        "id": "FDUnVy0e1br6"
      },
      "outputs": [],
      "source": [
        "# state\n",
        "# 특이케이스 제거\n",
        "\n",
        "# 국내\n",
        "df4.loc[df4[\"state\"]==\"국내산\",\"city\"] = \"미상\"\n",
        "df4.loc[df4[\"state\"]==\"국내산\",\"state\"] = \"국산\"\n",
        "df4.loc[df4[\"state\"]==\"원양산\",\"city\"] = \"미상\"\n",
        "\n",
        "## 도단위\n",
        "df4.loc[df4[\"state\"]==\"충청북\",\"state\"] = \"충북\"\n",
        "df4.loc[df4[\"state\"]==\"충청남\",\"state\"] = \"충남\"\n",
        "df4.loc[df4[\"state\"]==\"전라북\",\"state\"] = \"전북\"\n",
        "df4.loc[df4[\"state\"]==\"전라남\",\"state\"] = \"전남\"\n",
        "df4.loc[df4[\"state\"]==\"경상북\",\"state\"] = \"경북\"\n",
        "df4.loc[df4[\"state\"]==\"경상남\",\"state\"] = \"경남\"\n",
        "\n",
        "## 시단위\n",
        "### 광역시\n",
        "\n",
        "df4.loc[df4[\"state\"]==\"대전\",\"city\"] = \"대전\"\n",
        "df4.loc[df4[\"state\"]==\"대구\",\"city\"] = \"대구\"\n",
        "df4.loc[df4[\"state\"]==\"서울특별\",\"city\"] = \"서울\"\n",
        "df4.loc[df4[\"state\"]==\"서울특별\",\"state\"] = \"서울\"\n",
        "df4.loc[df4[\"state\"]==\"인천광역\",\"city\"] = \"인천\"\n",
        "df4.loc[df4[\"state\"]==\"인천광역\",\"state\"] = \"인천\"\n",
        "df4.loc[df4[\"state\"]==\"부산\",\"city\"] = \"부산\"\n",
        "df4.loc[df4[\"state\"]==\"부산광역\",\"city\"] = \"부산\"\n",
        "df4.loc[df4[\"state\"]==\"부산광역\",\"state\"] = \"부산\"\n",
        "df4.loc[df4[\"state\"]==\"가락동\",\"city\"] = \"서울\"\n",
        "df4.loc[df4[\"state\"]==\"가락동\",\"state\"] = \"서울\"\n",
        "df4.loc[df4[\"state\"]==\"세종\",\"city\"] = \"세종\"\n",
        "df4.loc[df4[\"state\"]==\"대전\",\"city\"] = \"대전\"\n",
        "df4.loc[df4[\"state\"]==\"제주\",\"city\"] = \"제주\"\n",
        "df4.loc[df4[\"state\"]==\"제주특별자치\",\"city\"] = \"제주\"\n",
        "df4.loc[df4[\"state\"]==\"제주특별자치\",\"state\"] = \"제주\"\n",
        "df4.loc[df4[\"state\"]==\"제주특별자\",\"city\"] = \"제주\"\n",
        "df4.loc[df4[\"state\"]==\"제주특별자\",\"state\"] = \"제주\"\n",
        "df4.loc[df4[\"state\"]==\"제주/서귀포\",\"city\"] = \"제주\"\n",
        "df4.loc[df4[\"state\"]==\"제주/서귀포\",\"state\"] = \"제주\"\n",
        "df4.loc[df4[\"state\"]==\"세종\",\"city\"] = \"세종\"\n",
        "df4.loc[df4[\"state\"]==\"울산\",\"city\"] = \"울산\"\n",
        "df4.loc[df4[\"state\"]==\"울산\",\"state\"] = \"울산\"\n",
        "\n",
        "### 일반시\n",
        "df4.loc[df4[\"state\"]==\"성남\",\"city\"] = \"성남\"\n",
        "df4.loc[df4[\"state\"]==\"성남\",\"state\"] = \"경기\"\n",
        "df4.loc[df4[\"state\"]==\"전주\",\"city\"] = \"전주\"\n",
        "df4.loc[df4[\"state\"]==\"전주\",\"state\"] = \"전북\"\n",
        "df4.loc[df4[\"state\"]==\"청주\",\"city\"] = \"청주\"\n",
        "df4.loc[df4[\"state\"]==\"청주\",\"state\"] = \"충북\"\n",
        "df4.loc[df4[\"state\"]==\"수원\",\"city\"] = \"수원\"\n",
        "df4.loc[df4[\"state\"]==\"수원\",\"state\"] = \"경기\"\n",
        "df4.loc[df4[\"state\"]==\"부천\",\"city\"] = \"부천\"\n",
        "df4.loc[df4[\"state\"]==\"부천\",\"state\"] = \"경기\"\n",
        "df4.loc[df4[\"state\"]==\"경기고양\",\"city\"] = \"고양\"\n",
        "df4.loc[df4[\"state\"]==\"경기고양\",\"state\"] = \"경기\"\n",
        "df4.loc[df4[\"state\"]==\"충북청주\",\"city\"] = \"청주\"\n",
        "df4.loc[df4[\"state\"]==\"충북청주\",\"state\"] = \"충북\"\n",
        "df4.loc[df4[\"state\"]==\"전북전주\",\"city\"] = \"전주\"\n",
        "df4.loc[df4[\"state\"]==\"전북전주\",\"state\"] = \"전북\"\n",
        "df4.loc[df4[\"state\"]==\"경북/문경\",\"city\"] = \"문경\"\n",
        "df4.loc[df4[\"state\"]==\"경북/문경\",\"state\"] = \"경북\"\n",
        "df4.loc[df4[\"state\"]==\"포항\",\"city\"] = \"포항\"\n",
        "df4.loc[df4[\"state\"]==\"포항\",\"state\"] = \"경북\"\n",
        "df4.loc[df4[\"state\"]==\"경북/안동\",\"city\"] = \"안동\"\n",
        "df4.loc[df4[\"state\"]==\"경북/안동\",\"state\"] = \"경북\"\n",
        "df4.loc[df4[\"state\"]==\"전남/무안군\",\"city\"] = \"전남\"\n",
        "df4.loc[df4[\"state\"]==\"전남/무안군\",\"state\"] = \"무안\"\n",
        "df4.loc[df4[\"state\"]==\"경북/구미\",\"city\"] = \"구미\"\n",
        "df4.loc[df4[\"state\"]==\"경북/구미\",\"state\"] = \"경북\"\n",
        "df4.loc[df4[\"state\"]==\"경북/상주\",\"city\"] = \"상주\"\n",
        "df4.loc[df4[\"state\"]==\"경북/상주\",\"state\"] = \"경북\"\n",
        "df4.loc[df4[\"state\"]==\"무안\",\"state\"] = \"전남\"\n",
        "\n",
        "\n",
        "# 외국\n",
        "## 아시아\n",
        "df4.loc[df4[\"state\"]==\"칠레\",\"city\"] = \"칠레\"\n",
        "df4.loc[df4[\"state\"]==\"칠레\",\"state\"] = \"수입\"\n",
        "df4.loc[df4[\"state\"]==\"일본\",\"city\"] = \"일본\"\n",
        "df4.loc[df4[\"state\"]==\"일본\",\"state\"] = \"수입\"\n",
        "df4.loc[df4[\"state\"]==\"베트남\",\"city\"] = \"베트남\"\n",
        "df4.loc[df4[\"state\"]==\"베트남\",\"state\"] = \"수입\"\n",
        "df4.loc[df4[\"state\"]==\"우즈베크\",\"city\"] = \"우즈베키스탄\"\n",
        "df4.loc[df4[\"state\"]==\"우즈베크\",\"state\"] = \"수입\"\n",
        "df4.loc[df4[\"state\"]==\"이스라엘\",\"city\"] = \"이스라엘\"\n",
        "df4.loc[df4[\"state\"]==\"이스라엘\",\"state\"] = \"수입\"\n",
        "df4.loc[df4[\"state\"]==\"터키\",\"city\"] = \"터키\"\n",
        "df4.loc[df4[\"state\"]==\"터키\",\"state\"] = \"수입\"\n",
        "df4.loc[df4[\"state\"]==\"중국\",\"city\"] = \"중국\"\n",
        "df4.loc[df4[\"state\"]==\"중국\",\"state\"] = \"수입\"\n",
        "df4.loc[df4[\"state\"]==\"타이\",\"city\"] = \"태국\"\n",
        "df4.loc[df4[\"state\"]==\"타이\",\"state\"] = \"수입\"\n",
        "df4.loc[df4[\"state\"]==\"태국\",\"city\"] = \"태국\"\n",
        "df4.loc[df4[\"state\"]==\"태국\",\"state\"] = \"수입\"\n",
        "df4.loc[df4[\"state\"]==\"필리핀\",\"city\"] = \"필리핀\"\n",
        "df4.loc[df4[\"state\"]==\"필리핀\",\"state\"] = \"수입\"\n",
        "df4.loc[df4[\"state\"]==\"우즈베키스탄\",\"city\"] = \"우즈베키스탄\"\n",
        "df4.loc[df4[\"state\"]==\"우즈베키스탄\",\"state\"] = \"수입\"\n",
        "df4.loc[df4[\"state\"]==\"대만\",\"city\"] = \"대만\"\n",
        "df4.loc[df4[\"state\"]==\"대만\",\"state\"] = \"수입\"\n",
        "df4.loc[df4[\"state\"]==\"베트남\",\"city\"] = \"베트남\"\n",
        "df4.loc[df4[\"state\"]==\"베트남\",\"state\"] = \"수입\"\n",
        "df4.loc[df4[\"state\"]==\"이란\",\"city\"] = \"이란\"\n",
        "df4.loc[df4[\"state\"]==\"이란\",\"state\"] = \"수입\"\n",
        "df4.loc[df4[\"state\"]==\"러\",\"city\"] = \"러시아\"\n",
        "df4.loc[df4[\"state\"]==\"러\",\"state\"] = \"수입\"\n",
        "df4.loc[(df4[\"state\"]==\"인\")&(df4[\"origin\"]==\"인도네시아\"),\"city\"] = \"인도네시아\"\n",
        "df4.loc[(df4[\"state\"]==\"인\")&(df4[\"origin\"]==\"인도네시아\"),\"state\"] = \"수입\"\n",
        "df4.loc[(df4[\"state\"]==\"인\")&(df4[\"origin\"]==\"인도\"),\"city\"] = \"인도\"\n",
        "df4.loc[(df4[\"state\"]==\"인\")&(df4[\"origin\"]==\"인도\"),\"state\"] = \"수입\"\n",
        "\n",
        "## 아메리카\n",
        "\n",
        "df4.loc[df4[\"state\"]==\"캘리포니아\",\"city\"] = \"미국\"\n",
        "df4.loc[df4[\"state\"]==\"캘리포니아\",\"state\"] = \"수입\"\n",
        "df4.loc[df4[\"state\"]==\"포클랜드\",\"city\"] = \"영국\"\n",
        "df4.loc[df4[\"state\"]==\"포클랜드\",\"state\"] = \"수입\"\n",
        "df4.loc[df4[\"state\"]==\"콜롬비아\",\"city\"] = \"콜롬비아\"\n",
        "df4.loc[df4[\"state\"]==\"콜롬비아\",\"state\"] = \"수입\"\n",
        "df4.loc[df4[\"state\"]==\"에콰\",\"city\"] = \"에콰도르\"\n",
        "df4.loc[df4[\"state\"]==\"에콰\",\"state\"] = \"수입\"\n",
        "df4.loc[df4[\"state\"]==\"에쿠아\",\"city\"] = \"에콰도르\"\n",
        "df4.loc[df4[\"state\"]==\"에쿠아\",\"state\"] = \"수입\"\n",
        "df4.loc[df4[\"state\"]==\"에콰돌\",\"city\"] = \"에콰도르\"\n",
        "df4.loc[df4[\"state\"]==\"에콰돌\",\"state\"] = \"수입\"\n",
        "df4.loc[df4[\"state\"]==\"과테말라\",\"city\"] = \"과테말라\"\n",
        "df4.loc[df4[\"state\"]==\"과테말라\",\"state\"] = \"수입\"\n",
        "df4.loc[df4[\"state\"]==\"코스타리카\",\"city\"] = \"코스타리카\"\n",
        "df4.loc[df4[\"state\"]==\"코스타리카\",\"state\"] = \"수입\"\n",
        "df4.loc[df4[\"state\"]==\"멕\",\"city\"] = \"멕시코\"\n",
        "df4.loc[df4[\"state\"]==\"멕\",\"state\"] = \"수입\"\n",
        "df4.loc[df4[\"state\"]==\"페루\",\"city\"] = \"페루\"\n",
        "df4.loc[df4[\"state\"]==\"페루\",\"state\"] = \"수입\"\n",
        "df4.loc[df4[\"state\"]==\"미국\",\"city\"] = \"미국\"\n",
        "df4.loc[df4[\"state\"]==\"미국\",\"state\"] = \"수입\"\n",
        "df4.loc[df4[\"state\"]==\"아르헨티나\",\"city\"] = \"아르헨티나\"\n",
        "df4.loc[df4[\"state\"]==\"아르헨티나\",\"state\"] = \"수입\"\n",
        "df4.loc[df4[\"state\"]==\"브라질\",\"city\"] = \"브라질\"\n",
        "df4.loc[df4[\"state\"]==\"브라질\",\"state\"] = \"수입\"\n",
        "\n",
        "## 유럽\n",
        "df4.loc[df4[\"state\"]==\"스페인\",\"city\"] = \"스페인\"\n",
        "df4.loc[df4[\"state\"]==\"스페인\",\"state\"] = \"수입\"\n",
        "df4.loc[df4[\"state\"]==\"우크라이나\",\"city\"] = \"우크라이나\"\n",
        "df4.loc[df4[\"state\"]==\"우크라이나\",\"state\"] = \"수입\"\n",
        "df4.loc[df4[\"state\"]==\"이탈리아\",\"city\"] = \"이탈리아\"\n",
        "df4.loc[df4[\"state\"]==\"이탈리아\",\"state\"] = \"수입\"\n",
        "df4.loc[df4[\"state\"]==\"불가리아\",\"city\"] = \"불가리아\"\n",
        "df4.loc[df4[\"state\"]==\"불가리아\",\"state\"] = \"수입\"\n",
        "\n",
        "## 아프리카\n",
        "df4.loc[df4[\"state\"]==\"남아프리카\",\"city\"] = \"남아공\"\n",
        "df4.loc[df4[\"state\"]==\"남아프리카\",\"state\"] = \"수입\"\n",
        "df4.loc[df4[\"state\"]==\"남아프리카공화국\",\"city\"] = \"남아공\"\n",
        "df4.loc[df4[\"state\"]==\"남아프리카공화국\",\"state\"] = \"수입\"\n",
        "df4.loc[df4[\"state\"]==\"수입남아프리카공화국\",\"city\"] = \"남아공\"\n",
        "df4.loc[df4[\"state\"]==\"수입남아프리카공화국\",\"state\"] = \"수입\"\n",
        "\n",
        "\n",
        "## 오세아니아\n",
        "df4.loc[df4[\"state\"]==\"뉴질랜드\",\"city\"] = \"뉴질랜드\"\n",
        "df4.loc[df4[\"state\"]==\"뉴질랜드\",\"state\"] = \"수입\"\n",
        "df4.loc[df4[\"state\"]==\"오스트레일\",\"city\"] = \"호주\"\n",
        "df4.loc[df4[\"state\"]==\"오스트레일\",\"state\"] = \"수입\"\n",
        "df4.loc[df4[\"state\"]==\"오스트레일리아\",\"city\"] = \"호주\"\n",
        "df4.loc[df4[\"state\"]==\"오스트레일리아\",\"state\"] = \"수입\"\n",
        "df4.loc[df4[\"state\"]==\"호주\",\"city\"] = \"호주\"\n",
        "df4.loc[df4[\"state\"]==\"호주\",\"state\"] = \"수입\"\n",
        "df4.loc[df4[\"state\"]==\"통가\",\"city\"] = \"통가\"\n",
        "df4.loc[df4[\"state\"]==\"통가\",\"state\"] = \"수입\"\n",
        "df4.loc[df4[\"state\"]==\"뉴칼레\",\"city\"] = \"뉴칼레도니아\"\n",
        "df4.loc[df4[\"state\"]==\"뉴칼레\",\"state\"] = \"수입\"\n",
        "df4.loc[df4[\"state\"]==\"뉴\",\"city\"] = \"뉴칼레도니아\"\n",
        "df4.loc[df4[\"state\"]==\"뉴\",\"state\"] = \"수입\"\n",
        "df4.loc[df4[\"state\"]==\"누벨칼레\",\"city\"] = \"뉴칼레도니아\"\n",
        "df4.loc[df4[\"state\"]==\"누벨칼레\",\"state\"] = \"수입\"\n",
        "# 기타\n",
        "df4.loc[df4[\"state\"]==\"수입산\",\"state\"] = \"수입\"\n",
        "df4.loc[df4[\"state\"]==\"기타외국\",\"city\"] = \"미상\"\n",
        "df4.loc[df4[\"state\"]==\"기타외국\",\"state\"] = \"수입\""
      ]
    },
    {
      "cell_type": "code",
      "execution_count": 57,
      "metadata": {
        "colab": {
          "base_uri": "https://localhost:8080/",
          "height": 49
        },
        "id": "3MmvwTRy-BEj",
        "outputId": "cb62e40c-926f-4fdf-c3bf-a44c828d7052"
      },
      "outputs": [
        {
          "data": {
            "text/html": [
              "<div>\n",
              "<style scoped>\n",
              "    .dataframe tbody tr th:only-of-type {\n",
              "        vertical-align: middle;\n",
              "    }\n",
              "\n",
              "    .dataframe tbody tr th {\n",
              "        vertical-align: top;\n",
              "    }\n",
              "\n",
              "    .dataframe thead th {\n",
              "        text-align: right;\n",
              "    }\n",
              "</style>\n",
              "<table border=\"1\" class=\"dataframe\">\n",
              "  <thead>\n",
              "    <tr style=\"text-align: right;\">\n",
              "      <th></th>\n",
              "      <th>prd</th>\n",
              "      <th>scale</th>\n",
              "      <th>price</th>\n",
              "      <th>origin</th>\n",
              "      <th>eco</th>\n",
              "      <th>reg_date</th>\n",
              "      <th>new_class</th>\n",
              "      <th>price_kg</th>\n",
              "      <th>state</th>\n",
              "      <th>city</th>\n",
              "    </tr>\n",
              "  </thead>\n",
              "  <tbody>\n",
              "  </tbody>\n",
              "</table>\n",
              "</div>"
            ],
            "text/plain": [
              "Empty DataFrame\n",
              "Columns: [prd, scale, price, origin, eco, reg_date, new_class, price_kg, state, city]\n",
              "Index: []"
            ]
          },
          "execution_count": 57,
          "metadata": {},
          "output_type": "execute_result"
        }
      ],
      "source": [
        "df4[df4['state']=='nan']"
      ]
    },
    {
      "cell_type": "code",
      "execution_count": 58,
      "metadata": {
        "colab": {
          "base_uri": "https://localhost:8080/"
        },
        "id": "bPMNH6Fz9laX",
        "outputId": "c7ea6abb-e318-4350-9eea-394a56796052"
      },
      "outputs": [
        {
          "data": {
            "text/plain": [
              "array(['충북', '경북', '전북', '대구', '경기', '강원', '전남', '경남', '충남', '서울', '제주',\n",
              "       '광주', '수입', '부산', '인천', '세종', '대전', '울산', '국산'], dtype=object)"
            ]
          },
          "execution_count": 58,
          "metadata": {},
          "output_type": "execute_result"
        }
      ],
      "source": [
        "df4['state'].unique()"
      ]
    },
    {
      "cell_type": "code",
      "execution_count": 59,
      "metadata": {
        "id": "Ih5vw324J-Ed"
      },
      "outputs": [],
      "source": [
        "# city\n",
        "# 우선 결측치 제거\n",
        "df4.loc[df4[\"city\"].isnull(),\"city\"] = \"미상\""
      ]
    },
    {
      "cell_type": "code",
      "execution_count": 60,
      "metadata": {
        "id": "cXY3uABaKSty"
      },
      "outputs": [],
      "source": [
        "# 이후 시,군 등 제거\n",
        "def name_sort(words):\n",
        "  p = re.compile('[^시군]+')\n",
        "  word = re.search(p,words)\n",
        "  return word.group()\n",
        "\n",
        "df4[\"city\"] = df4[\"city\"].apply(name_sort)"
      ]
    },
    {
      "cell_type": "code",
      "execution_count": 61,
      "metadata": {
        "id": "QuyWFOs1R7yP"
      },
      "outputs": [],
      "source": [
        "# \\t 도 제거\n",
        "def name_sort2(words):\n",
        "  p = re.compile('[^\\t]+')\n",
        "  word = re.search(p,words)\n",
        "  return word.group()\n",
        "\n",
        "df4[\"city\"] = df4[\"city\"].apply(name_sort2)"
      ]
    },
    {
      "cell_type": "code",
      "execution_count": 62,
      "metadata": {
        "colab": {
          "base_uri": "https://localhost:8080/"
        },
        "id": "szJvb99ySEPR",
        "outputId": "97ca859c-e684-45b0-f3d0-488abdd6cedf"
      },
      "outputs": [
        {
          "data": {
            "text/plain": [
              "array(['음성', '영동', '의성', '충주', '남원', '임실', '영천', '경산', '대구', '영주', '이천',\n",
              "       '원주', '괴산', '김천', '성주', '안동', '곡성', '화천', '상주', '미상', '청도', '칠곡',\n",
              "       '여주', '옥천', '예천', '제천', '창녕', '안성', '가평', '춘천', '문경', '청주', '영덕',\n",
              "       '논산', '양구', '진주', '강서구', '서산', '평창', '홍천', '횡성', '제주', '당진', '무주',\n",
              "       '위', '천안', '부여', '철원', '청송', '포천', '강동구', '구리', '송파구', '하남', '오산',\n",
              "       '양평', '광주', '양주', '연천', '고양', '파주', '평택', '남양주', '김포', '양천구', '예산',\n",
              "       '광명', '밀양', '하동', '나주', '금산', '무안', '함안', '태안', '남구', '인제', '순천',\n",
              "       '영암', '용인', '중국', '부산', '뉴질랜드', '장흥', '화성', '진천', '고창', '서천', '영광',\n",
              "       '미국', '함양', '담양', '청양', '공주', '아산', '필리핀', '증평', '고흥', '옹진', '칠레',\n",
              "       '김해', '의령', '부천', '광양', '삼척', '성남', '강화', '홍성', '보령', '고성', '북구',\n",
              "       '거창', '봉화', '포항', '보은', '장수', '단양', '정선', '익산', '부안', '강릉', '중랑구',\n",
              "       '완주', '세종', '태백', '계양구', '영양', '계룡', '의정부', '영월', '흥', '합천', '안산',\n",
              "       '익', '함평', '장성', '화순', '보성', '광산구', '해남', '서구', '거제', '청원', '정읍',\n",
              "       '진안', '고령', '은평구', '동대문구', '도봉구', '중구', '페루', '콜롬비아', '대만', '태국',\n",
              "       '의왕', '신안', '구미', '목포', '강진', '진도', '동두천', '호주', '남아공', '남아공산',\n",
              "       '대전', '김제', '전주', '여수', '베트남', '구례', '순창', '속초', '창원', '수원', '사천',\n",
              "       '양양', '남해', '산청', '부평구', '인천', '미추홀', '서울', '멕', '안양', '미추홀구',\n",
              "       '남동구', '울산', '양산', '브라질', '경주', '과테말라', '에콰도르', '코스타리카', '인도네',\n",
              "       '연기', '울진', '타이', '노르웨이', '러', '영국', '순천(광양)', '보성(벌교)',\n",
              "       '마산(고성,진해)', '통영', '기타', '울진(후포)', '산', '장항(서천)', '삼천포', '세네갈'],\n",
              "      dtype=object)"
            ]
          },
          "execution_count": 62,
          "metadata": {},
          "output_type": "execute_result"
        }
      ],
      "source": [
        "df4['city'].unique()"
      ]
    },
    {
      "cell_type": "code",
      "execution_count": 63,
      "metadata": {
        "id": "MrIoC_BDQ_ic"
      },
      "outputs": [],
      "source": [
        "# 나머지 케이스 정리\n",
        "\n",
        "# 국내\n",
        "df4.loc[df4[\"city\"]==\"기타\",\"city\"] = \"미상\"\n",
        "## 일반시\n",
        "df4.loc[df4[\"city\"]==\"위\",\"city\"] = \"군위\"\n",
        "df4.loc[df4[\"city\"]==\"고흥(나로도)\",\"city\"] = \"고흥\"\n",
        "df4.loc[df4[\"city\"]==\"산\",\"city\"] = \"군산\"\n",
        "df4.loc[df4[\"city\"]==\"장항(서천)\",\"city\"] = \"서천\"\n",
        "df4.loc[df4[\"city\"]==\"삼천포\",\"city\"] = \"사천\"\n",
        "df4.loc[df4[\"city\"]==\"삼천포\",\"city\"] = \"사천\"\n",
        "df4.loc[df4[\"city\"]==\"순천(광양)\",\"city\"] = \"순천\"\n",
        "df4.loc[df4[\"city\"]==\"대천(보령)\",\"city\"] = \"보령\"\n",
        "df4.loc[df4[\"city\"]==\"대천(보령)\",\"city\"] = \"보령\"\n",
        "df4.loc[df4[\"city\"]==\"화성(평택)\",\"city\"] = \"화성\"\n",
        "df4.loc[df4[\"city\"]==\"흥\",\"city\"] = \"시흥\"\n",
        "df4.loc[df4[\"city\"]==\"목포(무안)\",\"city\"] = \"목포\"\n",
        "df4.loc[df4[\"city\"]==\"목포(무안)\",\"state\"] = \"전남\"\n",
        "df4.loc[df4[\"city\"]==\"보성(벌교)\",\"city\"] = \"보성\"\n",
        "df4.loc[df4[\"city\"]==\"울진(후포)\",\"city\"] = \"울진\"\n",
        "df4.loc[df4[\"city\"]==\"논\",\"city\"] = \"논산\"\n",
        "df4.loc[df4[\"city\"]==\"논\",\"city\"] = \"논산\"\n",
        "df4.loc[df4[\"city\"]==\"순\",\"city\"] = \"순창\"\n",
        "df4.loc[df4[\"city\"]==\"익\",\"city\"] = \"익산\"\n",
        "df4.loc[df4[\"city\"]==\"미금\",\"city\"] = \"성남\"\n",
        "df4.loc[df4[\"city\"]==\"주문진\",\"city\"] = \"강릉\"\n",
        "df4.loc[df4[\"city\"]==\"전남\",\"city\"] = \"무안\"\n",
        "df4.loc[(df4[\"state\"]==\"전북\")&(df4[\"city\"]==\"남\"),\"city\"] = \"남원\"\n",
        "df4.loc[(df4['prd']==\"호박\") & (df4['state']=='전북'),\"city\"] = \"전주\"\n",
        "## 광역시\n",
        "df4.loc[df4[\"city\"]==\"강서구\",\"city\"] = \"서울\"\n",
        "df4.loc[df4[\"city\"]==\"은평구\",\"city\"] = \"서울\"\n",
        "df4.loc[df4[\"city\"]==\"강동구\",\"city\"] = \"서울\"\n",
        "df4.loc[df4[\"city\"]==\"마포구\",\"city\"] = \"서울\"\n",
        "df4.loc[df4[\"city\"]==\"중구\",\"city\"] = \"서울\"\n",
        "df4.loc[df4[\"city\"]==\"송파구\",\"city\"] = \"서울\"\n",
        "df4.loc[df4[\"city\"]==\"도봉구\",\"city\"] = \"서울\"\n",
        "df4.loc[df4[\"city\"]==\"중랑구\",\"city\"] = \"서울\"\n",
        "df4.loc[df4[\"city\"]==\"양천구\",\"city\"] = \"서울\"\n",
        "df4.loc[df4[\"city\"]==\"성동구\",\"city\"] = \"서울\"\n",
        "df4.loc[df4[\"city\"]==\"강남구\",\"city\"] = \"서울\"\n",
        "df4.loc[df4[\"city\"]==\"동대문구\",\"city\"] = \"서울\"\n",
        "df4.loc[df4[\"city\"]==\"영등포구\",\"city\"] = \"서울\"\n",
        "df4.loc[df4[\"city\"]==\"영등포\",\"city\"] = \"서울\"\n",
        "df4.loc[df4[\"city\"]==\"서초구\",\"city\"] = \"서울\"\n",
        "df4.loc[df4[\"city\"]==\"구로구\",\"city\"] = \"서울\"\n",
        "df4.loc[df4[\"city\"]==\"동대문\",\"city\"] = \"서울\"\n",
        "df4.loc[df4[\"city\"]==\"금천구\",\"city\"] = \"서울\"\n",
        "df4.loc[df4[\"city\"]==\"동작구\",\"city\"] = \"서울\"\n",
        "df4.loc[df4[\"city\"]==\"용산구\",\"city\"] = \"서울\"\n",
        "\n",
        "df4.loc[df4[\"city\"]==\"광산구\",\"city\"] = \"광주\"\n",
        "df4.loc[(df4[\"state\"]==\"광주\")&(df4[\"city\"]==\"남구\"),\"city\"] = \"광주\"\n",
        "df4.loc[(df4[\"state\"]==\"광주\")&(df4[\"city\"]==\"북구\"),\"city\"] = \"광주\"\n",
        "df4.loc[(df4[\"state\"]==\"광주\")&(df4[\"city\"]==\"서구\"),\"city\"] = \"광주\"\n",
        "df4.loc[df4[\"city\"]==\"동구\",\"city\"] = \"광주\"\n",
        "df4.loc[(df4[\"state\"]==\"인천\")&(df4[\"city\"]==\"남구\"),\"city\"] = \"인천\"\n",
        "df4.loc[(df4[\"state\"]==\"인천\")&(df4[\"city\"]==\"서구\"),\"city\"] = \"인천\"\n",
        "df4.loc[df4[\"city\"]==\"미추홀\",\"city\"] = \"인천\"\n",
        "df4.loc[df4[\"city\"]==\"부평구\",\"city\"] = \"인천\"\n",
        "df4.loc[df4[\"city\"]==\"남동구\",\"city\"] = \"인천\"\n",
        "df4.loc[df4[\"city\"]==\"미추홀구\",\"city\"] = \"인천\"\n",
        "df4.loc[df4[\"city\"]==\"계양구\",\"city\"] = \"인천\"\n",
        "df4.loc[df4[\"city\"]==\"마산(고성,진해)\",\"city\"] = \"창원\"\n",
        "df4.loc[(df4[\"state\"]==\"부산\")&(df4[\"city\"]==\"북구\"),\"city\"] = \"부산\"\n",
        "df4.loc[df4[\"city\"]==\"오포\",\"city\"] = \"부산\"\n",
        "df4.loc[df4[\"city\"]==\"부산진\",\"city\"] = \"부산\"\n",
        "df4.loc[df4[\"city\"]==\"사상구\",\"city\"] = \"부산\"\n",
        "df4.loc[df4[\"city\"]==\"부산진구\",\"city\"] = \"부산\"\n",
        "df4.loc[df4[\"city\"]==\"북제주\",\"city\"] = \"제주\"\n",
        "df4.loc[df4[\"city\"]==\"남제주\",\"city\"] = \"제주\"\n",
        "\n",
        "# 해외\n",
        "## 아시아\n",
        "df4.loc[df4[\"city\"]==\"러\",\"city\"] = \"러시아\"\n",
        "df4.loc[df4[\"city\"]==\"말레이지아\",\"city\"] = \"말레이시아\"\n",
        "df4.loc[df4[\"city\"]==\"타이\",\"city\"] = \"태국\"\n",
        "df4.loc[df4[\"city\"]==\"인도네\",\"city\"] = \"인도네시아\"\n",
        "## 아메리카\n",
        "df4.loc[df4[\"city\"]==\"멕\",\"city\"] = \"멕시코\"\n",
        "## 아프리카\n",
        "df4.loc[df4[\"city\"]==\"남아공산\",\"city\"] = \"남아공\"\n",
        "## 유럽\n",
        "## 오세아니아"
      ]
    },
    {
      "cell_type": "code",
      "execution_count": 64,
      "metadata": {},
      "outputs": [
        {
          "data": {
            "text/plain": [
              "array([], dtype=object)"
            ]
          },
          "execution_count": 64,
          "metadata": {},
          "output_type": "execute_result"
        }
      ],
      "source": [
        "# 기존 city 리스트와 비교\n",
        "ex_city = pd.read_csv(\"../cities.csv\")\n",
        "df4[~df4['city'].isin(ex_city['city'])]['city'].unique()"
      ]
    },
    {
      "cell_type": "code",
      "execution_count": 65,
      "metadata": {},
      "outputs": [
        {
          "name": "stderr",
          "output_type": "stream",
          "text": [
            "/var/folders/nq/s4zx76p53d11lnr0t1dxpxh00000gn/T/ipykernel_2048/1856950528.py:3: FutureWarning: The frame.append method is deprecated and will be removed from pandas in a future version. Use pandas.concat instead.\n",
            "  cities = ex_city.append(new_city,ignore_index=True)\n"
          ]
        }
      ],
      "source": [
        "# 리스트 최신화\n",
        "new_city = pd.DataFrame(df4['city'].unique(),columns=['city'])\n",
        "cities = ex_city.append(new_city,ignore_index=True)"
      ]
    },
    {
      "cell_type": "code",
      "execution_count": 66,
      "metadata": {},
      "outputs": [],
      "source": [
        "cities.drop(columns=['Unnamed: 0'],inplace=True)\n",
        "cities.drop_duplicates(inplace=True)\n",
        "cities.reset_index(inplace=True,drop=True)"
      ]
    },
    {
      "cell_type": "code",
      "execution_count": 67,
      "metadata": {},
      "outputs": [],
      "source": [
        "cities.to_csv('../cities.csv')"
      ]
    },
    {
      "cell_type": "code",
      "execution_count": 68,
      "metadata": {
        "id": "vi6fJirdV7Gz"
      },
      "outputs": [],
      "source": [
        "# 처리 완료하였으니 df4는 백업으로 두고 df5 활용\n",
        "df5 = df4.drop(columns='origin')"
      ]
    },
    {
      "cell_type": "markdown",
      "metadata": {
        "id": "CoWdniywxHwf"
      },
      "source": [
        "# 전처리 결과"
      ]
    },
    {
      "cell_type": "markdown",
      "metadata": {
        "id": "t709mbs6xMkS"
      },
      "source": [
        "# 파일 저장"
      ]
    },
    {
      "cell_type": "code",
      "execution_count": 69,
      "metadata": {
        "id": "tEfggl4M5rFG"
      },
      "outputs": [],
      "source": [
        "df5.to_csv('../data_proceed/202108_proceed.csv')"
      ]
    }
  ],
  "metadata": {
    "colab": {
      "collapsed_sections": [],
      "name": "pre_processing_2022_06.ipynb",
      "provenance": [],
      "toc_visible": true
    },
    "kernelspec": {
      "display_name": "Python 3.8.13 ('yds')",
      "language": "python",
      "name": "python3"
    },
    "language_info": {
      "codemirror_mode": {
        "name": "ipython",
        "version": 3
      },
      "file_extension": ".py",
      "mimetype": "text/x-python",
      "name": "python",
      "nbconvert_exporter": "python",
      "pygments_lexer": "ipython3",
      "version": "3.8.13"
    },
    "vscode": {
      "interpreter": {
        "hash": "edd2e1eeac16ba0124adb27271db416cf5b91db76e0734afe4505ea0738c76e5"
      }
    }
  },
  "nbformat": 4,
  "nbformat_minor": 0
}
