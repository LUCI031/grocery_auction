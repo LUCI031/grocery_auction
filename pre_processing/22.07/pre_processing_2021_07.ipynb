{
  "cells": [
    {
      "cell_type": "markdown",
      "metadata": {
        "id": "uhJXKN_71HKz"
      },
      "source": [
        "# 개요"
      ]
    },
    {
      "cell_type": "markdown",
      "metadata": {
        "id": "T02KSzGz1iMO"
      },
      "source": [
        "# Prepare"
      ]
    },
    {
      "cell_type": "markdown",
      "metadata": {
        "id": "bfqE9z4W1JQh"
      },
      "source": [
        "# 1. 초기 세팅"
      ]
    },
    {
      "cell_type": "markdown",
      "metadata": {
        "id": "fG4uSp2B1Ph7"
      },
      "source": [
        "## Library & data load"
      ]
    },
    {
      "cell_type": "code",
      "execution_count": 77,
      "metadata": {
        "id": "c2zXAOvOq96i"
      },
      "outputs": [],
      "source": [
        "import pandas as pd\n",
        "import numpy as np\n",
        "import matplotlib.pyplot as plt\n",
        "import seaborn as sns\n",
        "import re"
      ]
    },
    {
      "cell_type": "code",
      "execution_count": 78,
      "metadata": {
        "id": "N6-se2jYrHsw"
      },
      "outputs": [],
      "source": [
        "# 처리용 df와 오리지널 버전 남겨놓음\n",
        "df = pd.read_csv(\"/Users/luci031/Downloads/auction/data_origin/auction_202107.csv\",encoding='euc_kr')\n",
        "org_df = pd.read_csv(\"/Users/luci031/Downloads/auction/data_origin/auction_202107.csv\",encoding='euc_kr')"
      ]
    },
    {
      "cell_type": "markdown",
      "metadata": {
        "id": "yINECbV-4eRb"
      },
      "source": [
        "# Pre-Processing"
      ]
    },
    {
      "cell_type": "markdown",
      "metadata": {
        "id": "OJuFufVP2War"
      },
      "source": [
        "## Basic info"
      ]
    },
    {
      "cell_type": "code",
      "execution_count": 79,
      "metadata": {
        "colab": {
          "base_uri": "https://localhost:8080/",
          "height": 206
        },
        "id": "EE8feVlFr0To",
        "outputId": "cb918bf3-bd0b-4f09-fd92-73d8670996c9"
      },
      "outputs": [
        {
          "data": {
            "text/html": [
              "<div>\n",
              "<style scoped>\n",
              "    .dataframe tbody tr th:only-of-type {\n",
              "        vertical-align: middle;\n",
              "    }\n",
              "\n",
              "    .dataframe tbody tr th {\n",
              "        vertical-align: top;\n",
              "    }\n",
              "\n",
              "    .dataframe thead th {\n",
              "        text-align: right;\n",
              "    }\n",
              "</style>\n",
              "<table border=\"1\" class=\"dataframe\">\n",
              "  <thead>\n",
              "    <tr style=\"text-align: right;\">\n",
              "      <th></th>\n",
              "      <th>품목명</th>\n",
              "      <th>단위</th>\n",
              "      <th>등급</th>\n",
              "      <th>가격</th>\n",
              "      <th>산지</th>\n",
              "      <th>친환경구분</th>\n",
              "      <th>입력일</th>\n",
              "    </tr>\n",
              "  </thead>\n",
              "  <tbody>\n",
              "    <tr>\n",
              "      <th>0</th>\n",
              "      <td>[수박]꿀수박(꼭지절단)</td>\n",
              "      <td>8kg</td>\n",
              "      <td>특(1등)</td>\n",
              "      <td>9300</td>\n",
              "      <td>전북 고창군</td>\n",
              "      <td>일반</td>\n",
              "      <td>20210630</td>\n",
              "    </tr>\n",
              "    <tr>\n",
              "      <th>1</th>\n",
              "      <td>[수박]꿀수박(꼭지절단)</td>\n",
              "      <td>7kg</td>\n",
              "      <td>특(1등)</td>\n",
              "      <td>8200</td>\n",
              "      <td>전북 고창군</td>\n",
              "      <td>일반</td>\n",
              "      <td>20210630</td>\n",
              "    </tr>\n",
              "    <tr>\n",
              "      <th>2</th>\n",
              "      <td>[수박]꿀수박(꼭지절단)</td>\n",
              "      <td>7kg</td>\n",
              "      <td>특(1등)</td>\n",
              "      <td>8000</td>\n",
              "      <td>전북 고창군</td>\n",
              "      <td>일반</td>\n",
              "      <td>20210630</td>\n",
              "    </tr>\n",
              "    <tr>\n",
              "      <th>3</th>\n",
              "      <td>[수박]꿀수박(꼭지절단)</td>\n",
              "      <td>7kg</td>\n",
              "      <td>특(1등)</td>\n",
              "      <td>7700</td>\n",
              "      <td>전북 고창군</td>\n",
              "      <td>일반</td>\n",
              "      <td>20210630</td>\n",
              "    </tr>\n",
              "    <tr>\n",
              "      <th>4</th>\n",
              "      <td>[수박]꿀수박(꼭지절단)</td>\n",
              "      <td>6kg</td>\n",
              "      <td>특(1등)</td>\n",
              "      <td>6900</td>\n",
              "      <td>전북 고창군</td>\n",
              "      <td>일반</td>\n",
              "      <td>20210630</td>\n",
              "    </tr>\n",
              "  </tbody>\n",
              "</table>\n",
              "</div>"
            ],
            "text/plain": [
              "             품목명   단위     등급    가격      산지 친환경구분       입력일\n",
              "0  [수박]꿀수박(꼭지절단)  8kg  특(1등)  9300  전북 고창군    일반  20210630\n",
              "1  [수박]꿀수박(꼭지절단)  7kg  특(1등)  8200  전북 고창군    일반  20210630\n",
              "2  [수박]꿀수박(꼭지절단)  7kg  특(1등)  8000  전북 고창군    일반  20210630\n",
              "3  [수박]꿀수박(꼭지절단)  7kg  특(1등)  7700  전북 고창군    일반  20210630\n",
              "4  [수박]꿀수박(꼭지절단)  6kg  특(1등)  6900  전북 고창군    일반  20210630"
            ]
          },
          "execution_count": 79,
          "metadata": {},
          "output_type": "execute_result"
        }
      ],
      "source": [
        "df.head()"
      ]
    },
    {
      "cell_type": "code",
      "execution_count": 80,
      "metadata": {
        "colab": {
          "base_uri": "https://localhost:8080/"
        },
        "id": "Jf03xK1D1p5Z",
        "outputId": "7cc5158f-76c4-4ca6-e80a-cd60949c1049"
      },
      "outputs": [
        {
          "name": "stdout",
          "output_type": "stream",
          "text": [
            "<class 'pandas.core.frame.DataFrame'>\n",
            "RangeIndex: 604827 entries, 0 to 604826\n",
            "Data columns (total 7 columns):\n",
            " #   Column  Non-Null Count   Dtype \n",
            "---  ------  --------------   ----- \n",
            " 0   품목명     604827 non-null  object\n",
            " 1   단위      604827 non-null  object\n",
            " 2   등급      604827 non-null  object\n",
            " 3   가격      604827 non-null  int64 \n",
            " 4   산지      602920 non-null  object\n",
            " 5   친환경구분   604827 non-null  object\n",
            " 6   입력일     604827 non-null  int64 \n",
            "dtypes: int64(2), object(5)\n",
            "memory usage: 32.3+ MB\n"
          ]
        }
      ],
      "source": [
        "df.info()"
      ]
    },
    {
      "cell_type": "code",
      "execution_count": 81,
      "metadata": {
        "colab": {
          "base_uri": "https://localhost:8080/"
        },
        "id": "R3-Xng6M1om2",
        "outputId": "0071ee93-3ebe-436d-910b-aa30c7356468"
      },
      "outputs": [
        {
          "data": {
            "text/plain": [
              "품목명         0\n",
              "단위          0\n",
              "등급          0\n",
              "가격          0\n",
              "산지       1907\n",
              "친환경구분       0\n",
              "입력일         0\n",
              "dtype: int64"
            ]
          },
          "execution_count": 81,
          "metadata": {},
          "output_type": "execute_result"
        }
      ],
      "source": [
        "# 산지 제외하고는 결측치 없는 것으로 확인\n",
        "df.isnull().sum()"
      ]
    },
    {
      "cell_type": "markdown",
      "metadata": {
        "id": "KiwEMLgv-7KL"
      },
      "source": [
        "- 결측치 처리"
      ]
    },
    {
      "cell_type": "code",
      "execution_count": 82,
      "metadata": {
        "id": "y52OV6yt-60b"
      },
      "outputs": [],
      "source": [
        "###\n",
        "# 양이 많지 않으므로 결측치 제거\n",
        "df = df.dropna(axis=0)"
      ]
    },
    {
      "cell_type": "markdown",
      "metadata": {
        "id": "tWVdZUXv7njQ"
      },
      "source": [
        "- 영문명으로 전환"
      ]
    },
    {
      "cell_type": "code",
      "execution_count": 83,
      "metadata": {
        "id": "Cpc_wblh4oLI"
      },
      "outputs": [],
      "source": [
        "df = df.rename(columns = {'품목명':'prd',\n",
        "                          '단위':'scale','등급':'class',\n",
        "                          '가격':'price',\n",
        "                          '산지':'origin',\n",
        "                          '친환경구분':'eco',\n",
        "                          '입력일':'reg_date'})"
      ]
    },
    {
      "cell_type": "markdown",
      "metadata": {
        "id": "6raN15sn8XwE"
      },
      "source": [
        "## column 별 정보"
      ]
    },
    {
      "cell_type": "markdown",
      "metadata": {
        "id": "9blCj1BqBKl9"
      },
      "source": [
        "### class"
      ]
    },
    {
      "cell_type": "code",
      "execution_count": 84,
      "metadata": {
        "colab": {
          "base_uri": "https://localhost:8080/"
        },
        "id": "trRf-DfuBNBL",
        "outputId": "017ef00e-f7ca-476c-e44a-a847d4881695"
      },
      "outputs": [
        {
          "data": {
            "text/plain": [
              "Index(['특(1등)', '상(2등)', '9등(등외)', '보통(3등)', '없음', '4등', '5등', '6등', '7등',\n",
              "       '8등'],\n",
              "      dtype='object')"
            ]
          },
          "execution_count": 84,
          "metadata": {},
          "output_type": "execute_result"
        }
      ],
      "source": [
        "# 이름 모두 영어로 변경\n",
        "# 9등과 없음 모두 9로 변경\n",
        "df['class'].value_counts().index"
      ]
    },
    {
      "cell_type": "code",
      "execution_count": 85,
      "metadata": {
        "id": "Y9aTlhUSBfU9"
      },
      "outputs": [],
      "source": [
        "df111 = pd.DataFrame([['특(1등)', 1], ['상(2등)',2], ['보통(3등)',3], ['9등(등외)',9], ['없음',9], ['5등',5], ['4등',4], ['6등',6], ['7등',7],['8등',8]],columns=['class','new_class'])"
      ]
    },
    {
      "cell_type": "code",
      "execution_count": 86,
      "metadata": {
        "id": "N4LG6ClLC4II"
      },
      "outputs": [],
      "source": [
        "df2 = df.merge(df111)\n",
        "df2 = df2.drop(columns='class')"
      ]
    },
    {
      "cell_type": "code",
      "execution_count": 87,
      "metadata": {
        "colab": {
          "base_uri": "https://localhost:8080/",
          "height": 423
        },
        "id": "w_BncYpbDQGg",
        "outputId": "6482608e-5fcd-4b4d-b921-e720dec1a560"
      },
      "outputs": [
        {
          "data": {
            "text/html": [
              "<div>\n",
              "<style scoped>\n",
              "    .dataframe tbody tr th:only-of-type {\n",
              "        vertical-align: middle;\n",
              "    }\n",
              "\n",
              "    .dataframe tbody tr th {\n",
              "        vertical-align: top;\n",
              "    }\n",
              "\n",
              "    .dataframe thead th {\n",
              "        text-align: right;\n",
              "    }\n",
              "</style>\n",
              "<table border=\"1\" class=\"dataframe\">\n",
              "  <thead>\n",
              "    <tr style=\"text-align: right;\">\n",
              "      <th></th>\n",
              "      <th>prd</th>\n",
              "      <th>scale</th>\n",
              "      <th>price</th>\n",
              "      <th>origin</th>\n",
              "      <th>eco</th>\n",
              "      <th>reg_date</th>\n",
              "      <th>new_class</th>\n",
              "    </tr>\n",
              "  </thead>\n",
              "  <tbody>\n",
              "    <tr>\n",
              "      <th>0</th>\n",
              "      <td>[수박]꿀수박(꼭지절단)</td>\n",
              "      <td>8kg</td>\n",
              "      <td>9300</td>\n",
              "      <td>전북 고창군</td>\n",
              "      <td>일반</td>\n",
              "      <td>20210630</td>\n",
              "      <td>1</td>\n",
              "    </tr>\n",
              "    <tr>\n",
              "      <th>1</th>\n",
              "      <td>[수박]꿀수박(꼭지절단)</td>\n",
              "      <td>7kg</td>\n",
              "      <td>8200</td>\n",
              "      <td>전북 고창군</td>\n",
              "      <td>일반</td>\n",
              "      <td>20210630</td>\n",
              "      <td>1</td>\n",
              "    </tr>\n",
              "    <tr>\n",
              "      <th>2</th>\n",
              "      <td>[수박]꿀수박(꼭지절단)</td>\n",
              "      <td>7kg</td>\n",
              "      <td>8000</td>\n",
              "      <td>전북 고창군</td>\n",
              "      <td>일반</td>\n",
              "      <td>20210630</td>\n",
              "      <td>1</td>\n",
              "    </tr>\n",
              "    <tr>\n",
              "      <th>3</th>\n",
              "      <td>[수박]꿀수박(꼭지절단)</td>\n",
              "      <td>7kg</td>\n",
              "      <td>7700</td>\n",
              "      <td>전북 고창군</td>\n",
              "      <td>일반</td>\n",
              "      <td>20210630</td>\n",
              "      <td>1</td>\n",
              "    </tr>\n",
              "    <tr>\n",
              "      <th>4</th>\n",
              "      <td>[수박]꿀수박(꼭지절단)</td>\n",
              "      <td>6kg</td>\n",
              "      <td>6900</td>\n",
              "      <td>전북 고창군</td>\n",
              "      <td>일반</td>\n",
              "      <td>20210630</td>\n",
              "      <td>1</td>\n",
              "    </tr>\n",
              "    <tr>\n",
              "      <th>...</th>\n",
              "      <td>...</td>\n",
              "      <td>...</td>\n",
              "      <td>...</td>\n",
              "      <td>...</td>\n",
              "      <td>...</td>\n",
              "      <td>...</td>\n",
              "      <td>...</td>\n",
              "    </tr>\n",
              "    <tr>\n",
              "      <th>602915</th>\n",
              "      <td>[양파]양파(일반)</td>\n",
              "      <td>15kg</td>\n",
              "      <td>6300</td>\n",
              "      <td>전남 무안군</td>\n",
              "      <td>일반</td>\n",
              "      <td>20210727</td>\n",
              "      <td>8</td>\n",
              "    </tr>\n",
              "    <tr>\n",
              "      <th>602916</th>\n",
              "      <td>[양파]양파(일반)</td>\n",
              "      <td>15kg</td>\n",
              "      <td>6500</td>\n",
              "      <td>전남 무안군</td>\n",
              "      <td>일반</td>\n",
              "      <td>20210728</td>\n",
              "      <td>8</td>\n",
              "    </tr>\n",
              "    <tr>\n",
              "      <th>602917</th>\n",
              "      <td>[양파]양파(일반)</td>\n",
              "      <td>15kg</td>\n",
              "      <td>6300</td>\n",
              "      <td>전남 무안군</td>\n",
              "      <td>일반</td>\n",
              "      <td>20210729</td>\n",
              "      <td>8</td>\n",
              "    </tr>\n",
              "    <tr>\n",
              "      <th>602918</th>\n",
              "      <td>[자두]자두(후무사)</td>\n",
              "      <td>5kg</td>\n",
              "      <td>15000</td>\n",
              "      <td>경북 김천시</td>\n",
              "      <td>일반</td>\n",
              "      <td>20210729</td>\n",
              "      <td>8</td>\n",
              "    </tr>\n",
              "    <tr>\n",
              "      <th>602919</th>\n",
              "      <td>[메론]메론</td>\n",
              "      <td>8kg</td>\n",
              "      <td>36000</td>\n",
              "      <td>충북 음성군</td>\n",
              "      <td>일반</td>\n",
              "      <td>20210730</td>\n",
              "      <td>8</td>\n",
              "    </tr>\n",
              "  </tbody>\n",
              "</table>\n",
              "<p>602920 rows × 7 columns</p>\n",
              "</div>"
            ],
            "text/plain": [
              "                  prd scale  price  origin eco  reg_date  new_class\n",
              "0       [수박]꿀수박(꼭지절단)   8kg   9300  전북 고창군  일반  20210630          1\n",
              "1       [수박]꿀수박(꼭지절단)   7kg   8200  전북 고창군  일반  20210630          1\n",
              "2       [수박]꿀수박(꼭지절단)   7kg   8000  전북 고창군  일반  20210630          1\n",
              "3       [수박]꿀수박(꼭지절단)   7kg   7700  전북 고창군  일반  20210630          1\n",
              "4       [수박]꿀수박(꼭지절단)   6kg   6900  전북 고창군  일반  20210630          1\n",
              "...               ...   ...    ...     ...  ..       ...        ...\n",
              "602915     [양파]양파(일반)  15kg   6300  전남 무안군  일반  20210727          8\n",
              "602916     [양파]양파(일반)  15kg   6500  전남 무안군  일반  20210728          8\n",
              "602917     [양파]양파(일반)  15kg   6300  전남 무안군  일반  20210729          8\n",
              "602918    [자두]자두(후무사)   5kg  15000  경북 김천시  일반  20210729          8\n",
              "602919         [메론]메론   8kg  36000  충북 음성군  일반  20210730          8\n",
              "\n",
              "[602920 rows x 7 columns]"
            ]
          },
          "execution_count": 87,
          "metadata": {},
          "output_type": "execute_result"
        }
      ],
      "source": [
        "df2"
      ]
    },
    {
      "cell_type": "markdown",
      "metadata": {
        "id": "6QhhnXfKWiQL"
      },
      "source": [
        "### eco"
      ]
    },
    {
      "cell_type": "code",
      "execution_count": 88,
      "metadata": {
        "id": "XPNdAWmbWWjy"
      },
      "outputs": [],
      "source": [
        "# 영문명으로 전환\n",
        "# 전환기 -> 유기농 재배로 전환중\n",
        "df2.loc[df2[\"eco\"]==\"일반\",\"eco\"] = \"normal\"\n",
        "df2.loc[df2[\"eco\"]==\"우수농산물\",\"eco\"] = \"\bgood_prd\"\n",
        "df2.loc[df2[\"eco\"]==\"무농약\",\"eco\"] = \"\becofriendly\"\n",
        "df2.loc[df2[\"eco\"]==\"유기농\",\"eco\"] = \"organic\"\n",
        "df2.loc[df2[\"eco\"]==\"품질인증\",\"eco\"] = \"certified\"\n",
        "df2.loc[df2[\"eco\"]==\"전환기\",\"eco\"] = \"ing\""
      ]
    },
    {
      "cell_type": "code",
      "execution_count": 89,
      "metadata": {
        "colab": {
          "base_uri": "https://localhost:8080/",
          "height": 423
        },
        "id": "SFs64qIjYPqG",
        "outputId": "e1d18001-8e23-4db4-c367-d91e111bf6af"
      },
      "outputs": [
        {
          "data": {
            "text/html": [
              "<div>\n",
              "<style scoped>\n",
              "    .dataframe tbody tr th:only-of-type {\n",
              "        vertical-align: middle;\n",
              "    }\n",
              "\n",
              "    .dataframe tbody tr th {\n",
              "        vertical-align: top;\n",
              "    }\n",
              "\n",
              "    .dataframe thead th {\n",
              "        text-align: right;\n",
              "    }\n",
              "</style>\n",
              "<table border=\"1\" class=\"dataframe\">\n",
              "  <thead>\n",
              "    <tr style=\"text-align: right;\">\n",
              "      <th></th>\n",
              "      <th>prd</th>\n",
              "      <th>scale</th>\n",
              "      <th>price</th>\n",
              "      <th>origin</th>\n",
              "      <th>eco</th>\n",
              "      <th>reg_date</th>\n",
              "      <th>new_class</th>\n",
              "    </tr>\n",
              "  </thead>\n",
              "  <tbody>\n",
              "    <tr>\n",
              "      <th>0</th>\n",
              "      <td>[수박]꿀수박(꼭지절단)</td>\n",
              "      <td>8kg</td>\n",
              "      <td>9300</td>\n",
              "      <td>전북 고창군</td>\n",
              "      <td>normal</td>\n",
              "      <td>20210630</td>\n",
              "      <td>1</td>\n",
              "    </tr>\n",
              "    <tr>\n",
              "      <th>1</th>\n",
              "      <td>[수박]꿀수박(꼭지절단)</td>\n",
              "      <td>7kg</td>\n",
              "      <td>8200</td>\n",
              "      <td>전북 고창군</td>\n",
              "      <td>normal</td>\n",
              "      <td>20210630</td>\n",
              "      <td>1</td>\n",
              "    </tr>\n",
              "    <tr>\n",
              "      <th>2</th>\n",
              "      <td>[수박]꿀수박(꼭지절단)</td>\n",
              "      <td>7kg</td>\n",
              "      <td>8000</td>\n",
              "      <td>전북 고창군</td>\n",
              "      <td>normal</td>\n",
              "      <td>20210630</td>\n",
              "      <td>1</td>\n",
              "    </tr>\n",
              "    <tr>\n",
              "      <th>3</th>\n",
              "      <td>[수박]꿀수박(꼭지절단)</td>\n",
              "      <td>7kg</td>\n",
              "      <td>7700</td>\n",
              "      <td>전북 고창군</td>\n",
              "      <td>normal</td>\n",
              "      <td>20210630</td>\n",
              "      <td>1</td>\n",
              "    </tr>\n",
              "    <tr>\n",
              "      <th>4</th>\n",
              "      <td>[수박]꿀수박(꼭지절단)</td>\n",
              "      <td>6kg</td>\n",
              "      <td>6900</td>\n",
              "      <td>전북 고창군</td>\n",
              "      <td>normal</td>\n",
              "      <td>20210630</td>\n",
              "      <td>1</td>\n",
              "    </tr>\n",
              "    <tr>\n",
              "      <th>...</th>\n",
              "      <td>...</td>\n",
              "      <td>...</td>\n",
              "      <td>...</td>\n",
              "      <td>...</td>\n",
              "      <td>...</td>\n",
              "      <td>...</td>\n",
              "      <td>...</td>\n",
              "    </tr>\n",
              "    <tr>\n",
              "      <th>602915</th>\n",
              "      <td>[양파]양파(일반)</td>\n",
              "      <td>15kg</td>\n",
              "      <td>6300</td>\n",
              "      <td>전남 무안군</td>\n",
              "      <td>normal</td>\n",
              "      <td>20210727</td>\n",
              "      <td>8</td>\n",
              "    </tr>\n",
              "    <tr>\n",
              "      <th>602916</th>\n",
              "      <td>[양파]양파(일반)</td>\n",
              "      <td>15kg</td>\n",
              "      <td>6500</td>\n",
              "      <td>전남 무안군</td>\n",
              "      <td>normal</td>\n",
              "      <td>20210728</td>\n",
              "      <td>8</td>\n",
              "    </tr>\n",
              "    <tr>\n",
              "      <th>602917</th>\n",
              "      <td>[양파]양파(일반)</td>\n",
              "      <td>15kg</td>\n",
              "      <td>6300</td>\n",
              "      <td>전남 무안군</td>\n",
              "      <td>normal</td>\n",
              "      <td>20210729</td>\n",
              "      <td>8</td>\n",
              "    </tr>\n",
              "    <tr>\n",
              "      <th>602918</th>\n",
              "      <td>[자두]자두(후무사)</td>\n",
              "      <td>5kg</td>\n",
              "      <td>15000</td>\n",
              "      <td>경북 김천시</td>\n",
              "      <td>normal</td>\n",
              "      <td>20210729</td>\n",
              "      <td>8</td>\n",
              "    </tr>\n",
              "    <tr>\n",
              "      <th>602919</th>\n",
              "      <td>[메론]메론</td>\n",
              "      <td>8kg</td>\n",
              "      <td>36000</td>\n",
              "      <td>충북 음성군</td>\n",
              "      <td>normal</td>\n",
              "      <td>20210730</td>\n",
              "      <td>8</td>\n",
              "    </tr>\n",
              "  </tbody>\n",
              "</table>\n",
              "<p>602920 rows × 7 columns</p>\n",
              "</div>"
            ],
            "text/plain": [
              "                  prd scale  price  origin     eco  reg_date  new_class\n",
              "0       [수박]꿀수박(꼭지절단)   8kg   9300  전북 고창군  normal  20210630          1\n",
              "1       [수박]꿀수박(꼭지절단)   7kg   8200  전북 고창군  normal  20210630          1\n",
              "2       [수박]꿀수박(꼭지절단)   7kg   8000  전북 고창군  normal  20210630          1\n",
              "3       [수박]꿀수박(꼭지절단)   7kg   7700  전북 고창군  normal  20210630          1\n",
              "4       [수박]꿀수박(꼭지절단)   6kg   6900  전북 고창군  normal  20210630          1\n",
              "...               ...   ...    ...     ...     ...       ...        ...\n",
              "602915     [양파]양파(일반)  15kg   6300  전남 무안군  normal  20210727          8\n",
              "602916     [양파]양파(일반)  15kg   6500  전남 무안군  normal  20210728          8\n",
              "602917     [양파]양파(일반)  15kg   6300  전남 무안군  normal  20210729          8\n",
              "602918    [자두]자두(후무사)   5kg  15000  경북 김천시  normal  20210729          8\n",
              "602919         [메론]메론   8kg  36000  충북 음성군  normal  20210730          8\n",
              "\n",
              "[602920 rows x 7 columns]"
            ]
          },
          "execution_count": 89,
          "metadata": {},
          "output_type": "execute_result"
        }
      ],
      "source": [
        "df2"
      ]
    },
    {
      "cell_type": "markdown",
      "metadata": {
        "id": "ffhjwT57YNLh"
      },
      "source": [
        "### reg_date"
      ]
    },
    {
      "cell_type": "code",
      "execution_count": 90,
      "metadata": {
        "id": "0xEJoswCYUiR"
      },
      "outputs": [],
      "source": [
        "df2['reg_date'] = df2['reg_date'].astype('str')"
      ]
    },
    {
      "cell_type": "code",
      "execution_count": 91,
      "metadata": {
        "id": "7eMsOdHaqa7H"
      },
      "outputs": [],
      "source": [
        "df2['reg_date'] = pd.to_datetime(df2['reg_date'].astype('str'),format='%Y%m%d')"
      ]
    },
    {
      "cell_type": "code",
      "execution_count": 92,
      "metadata": {
        "colab": {
          "base_uri": "https://localhost:8080/",
          "height": 423
        },
        "id": "4OJlA07go6Vm",
        "outputId": "775611cd-2a30-4603-90e5-ac782aea1678"
      },
      "outputs": [
        {
          "data": {
            "text/html": [
              "<div>\n",
              "<style scoped>\n",
              "    .dataframe tbody tr th:only-of-type {\n",
              "        vertical-align: middle;\n",
              "    }\n",
              "\n",
              "    .dataframe tbody tr th {\n",
              "        vertical-align: top;\n",
              "    }\n",
              "\n",
              "    .dataframe thead th {\n",
              "        text-align: right;\n",
              "    }\n",
              "</style>\n",
              "<table border=\"1\" class=\"dataframe\">\n",
              "  <thead>\n",
              "    <tr style=\"text-align: right;\">\n",
              "      <th></th>\n",
              "      <th>prd</th>\n",
              "      <th>scale</th>\n",
              "      <th>price</th>\n",
              "      <th>origin</th>\n",
              "      <th>eco</th>\n",
              "      <th>reg_date</th>\n",
              "      <th>new_class</th>\n",
              "    </tr>\n",
              "  </thead>\n",
              "  <tbody>\n",
              "    <tr>\n",
              "      <th>0</th>\n",
              "      <td>[수박]꿀수박(꼭지절단)</td>\n",
              "      <td>8kg</td>\n",
              "      <td>9300</td>\n",
              "      <td>전북 고창군</td>\n",
              "      <td>normal</td>\n",
              "      <td>2021-06-30</td>\n",
              "      <td>1</td>\n",
              "    </tr>\n",
              "    <tr>\n",
              "      <th>1</th>\n",
              "      <td>[수박]꿀수박(꼭지절단)</td>\n",
              "      <td>7kg</td>\n",
              "      <td>8200</td>\n",
              "      <td>전북 고창군</td>\n",
              "      <td>normal</td>\n",
              "      <td>2021-06-30</td>\n",
              "      <td>1</td>\n",
              "    </tr>\n",
              "    <tr>\n",
              "      <th>2</th>\n",
              "      <td>[수박]꿀수박(꼭지절단)</td>\n",
              "      <td>7kg</td>\n",
              "      <td>8000</td>\n",
              "      <td>전북 고창군</td>\n",
              "      <td>normal</td>\n",
              "      <td>2021-06-30</td>\n",
              "      <td>1</td>\n",
              "    </tr>\n",
              "    <tr>\n",
              "      <th>3</th>\n",
              "      <td>[수박]꿀수박(꼭지절단)</td>\n",
              "      <td>7kg</td>\n",
              "      <td>7700</td>\n",
              "      <td>전북 고창군</td>\n",
              "      <td>normal</td>\n",
              "      <td>2021-06-30</td>\n",
              "      <td>1</td>\n",
              "    </tr>\n",
              "    <tr>\n",
              "      <th>4</th>\n",
              "      <td>[수박]꿀수박(꼭지절단)</td>\n",
              "      <td>6kg</td>\n",
              "      <td>6900</td>\n",
              "      <td>전북 고창군</td>\n",
              "      <td>normal</td>\n",
              "      <td>2021-06-30</td>\n",
              "      <td>1</td>\n",
              "    </tr>\n",
              "    <tr>\n",
              "      <th>...</th>\n",
              "      <td>...</td>\n",
              "      <td>...</td>\n",
              "      <td>...</td>\n",
              "      <td>...</td>\n",
              "      <td>...</td>\n",
              "      <td>...</td>\n",
              "      <td>...</td>\n",
              "    </tr>\n",
              "    <tr>\n",
              "      <th>602915</th>\n",
              "      <td>[양파]양파(일반)</td>\n",
              "      <td>15kg</td>\n",
              "      <td>6300</td>\n",
              "      <td>전남 무안군</td>\n",
              "      <td>normal</td>\n",
              "      <td>2021-07-27</td>\n",
              "      <td>8</td>\n",
              "    </tr>\n",
              "    <tr>\n",
              "      <th>602916</th>\n",
              "      <td>[양파]양파(일반)</td>\n",
              "      <td>15kg</td>\n",
              "      <td>6500</td>\n",
              "      <td>전남 무안군</td>\n",
              "      <td>normal</td>\n",
              "      <td>2021-07-28</td>\n",
              "      <td>8</td>\n",
              "    </tr>\n",
              "    <tr>\n",
              "      <th>602917</th>\n",
              "      <td>[양파]양파(일반)</td>\n",
              "      <td>15kg</td>\n",
              "      <td>6300</td>\n",
              "      <td>전남 무안군</td>\n",
              "      <td>normal</td>\n",
              "      <td>2021-07-29</td>\n",
              "      <td>8</td>\n",
              "    </tr>\n",
              "    <tr>\n",
              "      <th>602918</th>\n",
              "      <td>[자두]자두(후무사)</td>\n",
              "      <td>5kg</td>\n",
              "      <td>15000</td>\n",
              "      <td>경북 김천시</td>\n",
              "      <td>normal</td>\n",
              "      <td>2021-07-29</td>\n",
              "      <td>8</td>\n",
              "    </tr>\n",
              "    <tr>\n",
              "      <th>602919</th>\n",
              "      <td>[메론]메론</td>\n",
              "      <td>8kg</td>\n",
              "      <td>36000</td>\n",
              "      <td>충북 음성군</td>\n",
              "      <td>normal</td>\n",
              "      <td>2021-07-30</td>\n",
              "      <td>8</td>\n",
              "    </tr>\n",
              "  </tbody>\n",
              "</table>\n",
              "<p>602920 rows × 7 columns</p>\n",
              "</div>"
            ],
            "text/plain": [
              "                  prd scale  price  origin     eco   reg_date  new_class\n",
              "0       [수박]꿀수박(꼭지절단)   8kg   9300  전북 고창군  normal 2021-06-30          1\n",
              "1       [수박]꿀수박(꼭지절단)   7kg   8200  전북 고창군  normal 2021-06-30          1\n",
              "2       [수박]꿀수박(꼭지절단)   7kg   8000  전북 고창군  normal 2021-06-30          1\n",
              "3       [수박]꿀수박(꼭지절단)   7kg   7700  전북 고창군  normal 2021-06-30          1\n",
              "4       [수박]꿀수박(꼭지절단)   6kg   6900  전북 고창군  normal 2021-06-30          1\n",
              "...               ...   ...    ...     ...     ...        ...        ...\n",
              "602915     [양파]양파(일반)  15kg   6300  전남 무안군  normal 2021-07-27          8\n",
              "602916     [양파]양파(일반)  15kg   6500  전남 무안군  normal 2021-07-28          8\n",
              "602917     [양파]양파(일반)  15kg   6300  전남 무안군  normal 2021-07-29          8\n",
              "602918    [자두]자두(후무사)   5kg  15000  경북 김천시  normal 2021-07-29          8\n",
              "602919         [메론]메론   8kg  36000  충북 음성군  normal 2021-07-30          8\n",
              "\n",
              "[602920 rows x 7 columns]"
            ]
          },
          "execution_count": 92,
          "metadata": {},
          "output_type": "execute_result"
        }
      ],
      "source": [
        "df2"
      ]
    },
    {
      "cell_type": "markdown",
      "metadata": {
        "id": "VN8Eana_Dbbl"
      },
      "source": [
        "### price"
      ]
    },
    {
      "cell_type": "code",
      "execution_count": 93,
      "metadata": {
        "id": "oZbejw0vewmJ"
      },
      "outputs": [],
      "source": [
        "# 계산을 위해 scale 값 미리 변경\n",
        "# 현재 값들은 string이므로 float 형태로 변환할 필요가 있음\n",
        "# 몇몇 이상치 처리도 진행\n",
        "def scale_checker(scale):\n",
        "  if scale.startswith('.')==True:\n",
        "    return format(float('0'+scale[:-2]),'.2f')\n",
        "  else:\n",
        "    return format(float((scale[:-2])),'.2f')\n",
        "df2['scale'] = df2['scale'].apply(scale_checker)\n",
        "df2['scale'] = df2['scale'].astype('float')\n",
        "# df2['scale'] = format(round(df2['scale'].apply(pd.to_numeric),2),'.2f')"
      ]
    },
    {
      "cell_type": "code",
      "execution_count": 94,
      "metadata": {},
      "outputs": [
        {
          "data": {
            "text/plain": [
              "array([  8.  ,   7.  ,   6.  ,   9.  ,   4.  ,  10.  ,   5.  ,  12.  ,\n",
              "        11.  ,   3.  ,  13.  ,  20.  ,  18.  ,  17.  ,  15.  ,  16.  ,\n",
              "        14.  ,  19.  ,   2.  ,  22.  ,  21.  ,   3.6 ,   2.4 ,   3.2 ,\n",
              "         2.8 ,   2.6 ,   5.2 ,   3.5 ,   0.5 ,   1.  ,   0.2 ,   0.4 ,\n",
              "         7.5 ,   0.1 ,   1.5 ,   0.6 ,   1.2 ,   4.5 ,   5.8 ,   5.6 ,\n",
              "         0.3 ,   0.7 ,   0.8 ,  11.5 ,   8.2 ,   8.6 ,   2.7 ,   8.01,\n",
              "        10.4 ,   9.6 ,   2.25,   3.7 ,   3.3 ,   8.5 ,   3.4 ,   0.25,\n",
              "         0.05,   0.01,   6.4 ,   4.2 ,   0.06,   0.15,  26.  ,   3.8 ,\n",
              "         1.8 ,  13.5 ,   2.5 ,   2.9 ,   2.2 ,  25.  ,  24.  ,  23.  ,\n",
              "        15.01,  20.01,  10.01,  41.  ,   5.5 ,   6.5 ,   1.6 ,   9.4 ,\n",
              "         4.4 ,   4.8 ,   5.7 ,   4.7 ,   7.8 ,   7.6 ,   1.3 ,   0.9 ,\n",
              "         0.12,   7.2 ,   1.7 ,   5.4 ,   6.73,  12.7 ,   4.6 ,   7.4 ,\n",
              "         9.5 , 109.  ,   3.9 ,   8.16,   8.9 ,   6.6 ,   0.03,   6.8 ,\n",
              "         1.9 ,   7.3 ,   2.3 ,   4.3 ,  11.7 ,   8.8 ,  28.  ,  27.  ,\n",
              "         5.1 ,  30.  ,   9.8 ,  12.5 ,   1.4 ,  11.4 ,   6.3 ,  14.2 ,\n",
              "         0.17,   2.1 ,   1.25,   6.2 ,   3.1 ,   4.9 ,   5.9 ,  10.7 ,\n",
              "         9.7 ,   7.9 ,   6.1 ,   8.4 ,  10.6 ,   2.01,  11.6 ,  45.  ,\n",
              "       110.  ,   4.01,   0.75,   9.2 ,   5.3 ,  11.2 ,   9.3 ,   3.85,\n",
              "        10.2 ,   9.1 ,  10.5 ,  58.  ,   0.09,  19.6 ,  10.8 ,  78.  ,\n",
              "        70.5 ,  47.  ,  72.  ,  67.  ,  72.5 , 108.  ,  17.2 ,   6.7 ,\n",
              "       200.  ,  12.3 ,   0.16,   8.7 ,   7.7 ,  60.  ,  10.9 ,   0.07,\n",
              "        21.5 ,  36.  ,  22.5 ,   1.1 ,  15.4 ,  16.5 ,  59.  ,  82.  ,\n",
              "        38.  ,  74.  ,  76.  ,  66.5 ,  59.5 ,  67.5 ,  30.5 ,  62.  ,\n",
              "        68.5 , 315.  ,  15.6 , 141.  ,  32.5 ,  33.  ,  38.5 ,  32.  ,\n",
              "        58.5 ,  52.5 ,  51.5 ,  51.  ,  49.  ,  27.5 ,  43.5 ,  41.5 ,\n",
              "        37.  ,  79.5 ,  80.  ,  80.5 ,  81.  ,  83.  ,  77.  ,  75.5 ,\n",
              "        73.  ,  70.  ,  69.  ,  85.5 ,  86.5 ,  88.  ,  15.5 ,  66.  ,\n",
              "        23.5 ,  83.5 ,  79.  ,  77.5 ,  76.5 ,  68.  ,  42.  ,  34.5 ,\n",
              "        11.8 ,  53.  ])"
            ]
          },
          "execution_count": 94,
          "metadata": {},
          "output_type": "execute_result"
        }
      ],
      "source": [
        "df2['scale'].unique()"
      ]
    },
    {
      "cell_type": "code",
      "execution_count": 95,
      "metadata": {
        "colab": {
          "base_uri": "https://localhost:8080/"
        },
        "id": "S_OXk_iDDaxM",
        "outputId": "df40b3b5-b8d5-4609-b1d1-d940826ff6bf"
      },
      "outputs": [
        {
          "data": {
            "text/plain": [
              "count     602920.00000\n",
              "mean       17752.13368\n",
              "std       145018.12128\n",
              "min           50.00000\n",
              "25%         6700.00000\n",
              "50%        12000.00000\n",
              "75%        20000.00000\n",
              "max     80007800.00000\n",
              "Name: price, dtype: float64"
            ]
          },
          "execution_count": 95,
          "metadata": {},
          "output_type": "execute_result"
        }
      ],
      "source": [
        "# 1원짜리 거래 발견, 너무 거래값이 작은 값들은 삭제\n",
        "pd.options.display.float_format = '{:.5f}'.format\n",
        "df2['price'].describe()"
      ]
    },
    {
      "cell_type": "code",
      "execution_count": 96,
      "metadata": {
        "id": "PQrLwgHPVsHs"
      },
      "outputs": [],
      "source": [
        "df2 = df2.drop(df2[df2['price']<500].index)"
      ]
    },
    {
      "cell_type": "code",
      "execution_count": 97,
      "metadata": {
        "colab": {
          "base_uri": "https://localhost:8080/",
          "height": 423
        },
        "id": "h8uaY01ADasA",
        "outputId": "228f08e1-3d13-41cf-ae61-c672904e5fc6"
      },
      "outputs": [
        {
          "data": {
            "text/html": [
              "<div>\n",
              "<style scoped>\n",
              "    .dataframe tbody tr th:only-of-type {\n",
              "        vertical-align: middle;\n",
              "    }\n",
              "\n",
              "    .dataframe tbody tr th {\n",
              "        vertical-align: top;\n",
              "    }\n",
              "\n",
              "    .dataframe thead th {\n",
              "        text-align: right;\n",
              "    }\n",
              "</style>\n",
              "<table border=\"1\" class=\"dataframe\">\n",
              "  <thead>\n",
              "    <tr style=\"text-align: right;\">\n",
              "      <th></th>\n",
              "      <th>prd</th>\n",
              "      <th>scale</th>\n",
              "      <th>price</th>\n",
              "      <th>origin</th>\n",
              "      <th>eco</th>\n",
              "      <th>reg_date</th>\n",
              "      <th>new_class</th>\n",
              "    </tr>\n",
              "  </thead>\n",
              "  <tbody>\n",
              "    <tr>\n",
              "      <th>0</th>\n",
              "      <td>[수박]꿀수박(꼭지절단)</td>\n",
              "      <td>8.00000</td>\n",
              "      <td>9300</td>\n",
              "      <td>전북 고창군</td>\n",
              "      <td>normal</td>\n",
              "      <td>2021-06-30</td>\n",
              "      <td>1</td>\n",
              "    </tr>\n",
              "    <tr>\n",
              "      <th>1</th>\n",
              "      <td>[수박]꿀수박(꼭지절단)</td>\n",
              "      <td>7.00000</td>\n",
              "      <td>8200</td>\n",
              "      <td>전북 고창군</td>\n",
              "      <td>normal</td>\n",
              "      <td>2021-06-30</td>\n",
              "      <td>1</td>\n",
              "    </tr>\n",
              "    <tr>\n",
              "      <th>2</th>\n",
              "      <td>[수박]꿀수박(꼭지절단)</td>\n",
              "      <td>7.00000</td>\n",
              "      <td>8000</td>\n",
              "      <td>전북 고창군</td>\n",
              "      <td>normal</td>\n",
              "      <td>2021-06-30</td>\n",
              "      <td>1</td>\n",
              "    </tr>\n",
              "    <tr>\n",
              "      <th>3</th>\n",
              "      <td>[수박]꿀수박(꼭지절단)</td>\n",
              "      <td>7.00000</td>\n",
              "      <td>7700</td>\n",
              "      <td>전북 고창군</td>\n",
              "      <td>normal</td>\n",
              "      <td>2021-06-30</td>\n",
              "      <td>1</td>\n",
              "    </tr>\n",
              "    <tr>\n",
              "      <th>4</th>\n",
              "      <td>[수박]꿀수박(꼭지절단)</td>\n",
              "      <td>6.00000</td>\n",
              "      <td>6900</td>\n",
              "      <td>전북 고창군</td>\n",
              "      <td>normal</td>\n",
              "      <td>2021-06-30</td>\n",
              "      <td>1</td>\n",
              "    </tr>\n",
              "    <tr>\n",
              "      <th>...</th>\n",
              "      <td>...</td>\n",
              "      <td>...</td>\n",
              "      <td>...</td>\n",
              "      <td>...</td>\n",
              "      <td>...</td>\n",
              "      <td>...</td>\n",
              "      <td>...</td>\n",
              "    </tr>\n",
              "    <tr>\n",
              "      <th>602915</th>\n",
              "      <td>[양파]양파(일반)</td>\n",
              "      <td>15.00000</td>\n",
              "      <td>6300</td>\n",
              "      <td>전남 무안군</td>\n",
              "      <td>normal</td>\n",
              "      <td>2021-07-27</td>\n",
              "      <td>8</td>\n",
              "    </tr>\n",
              "    <tr>\n",
              "      <th>602916</th>\n",
              "      <td>[양파]양파(일반)</td>\n",
              "      <td>15.00000</td>\n",
              "      <td>6500</td>\n",
              "      <td>전남 무안군</td>\n",
              "      <td>normal</td>\n",
              "      <td>2021-07-28</td>\n",
              "      <td>8</td>\n",
              "    </tr>\n",
              "    <tr>\n",
              "      <th>602917</th>\n",
              "      <td>[양파]양파(일반)</td>\n",
              "      <td>15.00000</td>\n",
              "      <td>6300</td>\n",
              "      <td>전남 무안군</td>\n",
              "      <td>normal</td>\n",
              "      <td>2021-07-29</td>\n",
              "      <td>8</td>\n",
              "    </tr>\n",
              "    <tr>\n",
              "      <th>602918</th>\n",
              "      <td>[자두]자두(후무사)</td>\n",
              "      <td>5.00000</td>\n",
              "      <td>15000</td>\n",
              "      <td>경북 김천시</td>\n",
              "      <td>normal</td>\n",
              "      <td>2021-07-29</td>\n",
              "      <td>8</td>\n",
              "    </tr>\n",
              "    <tr>\n",
              "      <th>602919</th>\n",
              "      <td>[메론]메론</td>\n",
              "      <td>8.00000</td>\n",
              "      <td>36000</td>\n",
              "      <td>충북 음성군</td>\n",
              "      <td>normal</td>\n",
              "      <td>2021-07-30</td>\n",
              "      <td>8</td>\n",
              "    </tr>\n",
              "  </tbody>\n",
              "</table>\n",
              "<p>601584 rows × 7 columns</p>\n",
              "</div>"
            ],
            "text/plain": [
              "                  prd    scale  price  origin     eco   reg_date  new_class\n",
              "0       [수박]꿀수박(꼭지절단)  8.00000   9300  전북 고창군  normal 2021-06-30          1\n",
              "1       [수박]꿀수박(꼭지절단)  7.00000   8200  전북 고창군  normal 2021-06-30          1\n",
              "2       [수박]꿀수박(꼭지절단)  7.00000   8000  전북 고창군  normal 2021-06-30          1\n",
              "3       [수박]꿀수박(꼭지절단)  7.00000   7700  전북 고창군  normal 2021-06-30          1\n",
              "4       [수박]꿀수박(꼭지절단)  6.00000   6900  전북 고창군  normal 2021-06-30          1\n",
              "...               ...      ...    ...     ...     ...        ...        ...\n",
              "602915     [양파]양파(일반) 15.00000   6300  전남 무안군  normal 2021-07-27          8\n",
              "602916     [양파]양파(일반) 15.00000   6500  전남 무안군  normal 2021-07-28          8\n",
              "602917     [양파]양파(일반) 15.00000   6300  전남 무안군  normal 2021-07-29          8\n",
              "602918    [자두]자두(후무사)  5.00000  15000  경북 김천시  normal 2021-07-29          8\n",
              "602919         [메론]메론  8.00000  36000  충북 음성군  normal 2021-07-30          8\n",
              "\n",
              "[601584 rows x 7 columns]"
            ]
          },
          "execution_count": 97,
          "metadata": {},
          "output_type": "execute_result"
        }
      ],
      "source": [
        "df2"
      ]
    },
    {
      "cell_type": "code",
      "execution_count": 98,
      "metadata": {
        "id": "13Js-KtTBZB5"
      },
      "outputs": [],
      "source": [
        "# kg 당 가격 생성\n",
        "\n",
        "df2['price_kg'] = round((df2['price']/df2['scale']),2)"
      ]
    },
    {
      "cell_type": "markdown",
      "metadata": {
        "id": "FJ4jjRUQ8cB3"
      },
      "source": [
        "### prd\n",
        "- 품목명 정리\n",
        "- 품목 종류 정리"
      ]
    },
    {
      "cell_type": "code",
      "execution_count": 99,
      "metadata": {
        "colab": {
          "base_uri": "https://localhost:8080/"
        },
        "id": "pymqNuDt8qqS",
        "outputId": "1506a365-b491-4b16-f40f-4d63980bc22f"
      },
      "outputs": [
        {
          "data": {
            "text/plain": [
              "[오이]백다다기       20436\n",
              "[깻잎]깻잎          7214\n",
              "[호박]애호박         6438\n",
              "[가지]가지          5507\n",
              "[토마토]토마토        5234\n",
              "               ...  \n",
              "[귤]귤               1\n",
              "[양상추]통로메인          1\n",
              "[상추]상추(적상추)        1\n",
              "[적겨자]적겨자           1\n",
              "[피망]피망             1\n",
              "Name: prd, Length: 1588, dtype: int64"
            ]
          },
          "execution_count": 99,
          "metadata": {},
          "output_type": "execute_result"
        }
      ],
      "source": [
        "# 대부분 [상품 종류]상품명 으로 정리되어 있는걸 알 수 있음\n",
        "df2['prd'].value_counts()"
      ]
    },
    {
      "cell_type": "code",
      "execution_count": 100,
      "metadata": {
        "id": "EKmhi36getHp"
      },
      "outputs": [],
      "source": [
        "# 정리를 위해 상품명 삭제\n",
        "def prd_sort(words):\n",
        "  p = re.compile('[ㄱ-힣]+')\n",
        "  word = re.search(p,words)\n",
        "  return word.group()\n",
        "\n",
        "df2['prd'] = df2['prd'].apply(prd_sort)"
      ]
    },
    {
      "cell_type": "code",
      "execution_count": 101,
      "metadata": {
        "id": "mlsCXSXMekGg"
      },
      "outputs": [],
      "source": [
        "# 기타 품목 삭제\n",
        "df2 = df2.drop(df2[df2['prd']=='기타'].index)"
      ]
    },
    {
      "cell_type": "code",
      "execution_count": 102,
      "metadata": {
        "id": "fZ8b4ETrDv5n"
      },
      "outputs": [],
      "source": [
        "# 국산,수입산,깐,기타 삭제\n",
        "def prd_sort2(words):\n",
        "  p = re.compile('[^국산수입깐기타]+')\n",
        "  word = re.search(p,str(words))\n",
        "  return word.group()\n",
        "\n",
        "df2[\"prd\"] = df2[\"prd\"].apply(prd_sort2)\n"
      ]
    },
    {
      "cell_type": "code",
      "execution_count": 103,
      "metadata": {
        "colab": {
          "base_uri": "https://localhost:8080/"
        },
        "id": "0UO78EhtVlgj",
        "outputId": "08424baf-f96a-4573-d9fc-c6f751228e63"
      },
      "outputs": [
        {
          "name": "stdout",
          "output_type": "stream",
          "text": [
            "가리비 \n",
            "가물치 가오리 가자미 가지 갈치 감 감귤 감자 갑오징어 갑오징어살 갓 강낭콩 개조개 건고구마순 건고추 \n",
            "게 게지 겨자 고 고구마 고구마순 고둥 고들빼 고등어 고사리 고추 고추잎 곤달비 곤드레나물 골뱅이 \n",
            "과실류 과일 과일류 과채 굴 귤 그레이프푸룻 근대 근채류 깻잎 꼴뚜 꽁치 꽈리고추 낙지 노루궁뎅이버섯 \n",
            "논우렁이 눈볼대 느 다래 닭새우 당귀 당근 대구 대구포 대파 더덕 도라지 도토리 동부콩 동자개 \n",
            "동죽 두류 두릅 두리안 딸 라임 람부탄 레몬 리치 마늘 만가닥 맛 망고 망고스턴 망고스틴 \n",
            "매생이 매실 머위대 메 메론 명태 명태곤니 명태알 명태포 모시조개 목이 무 무순 무우 무화과 \n",
            "문어 문어바지락 미꾸라지 미나리 미더덕 민들레 민물새우 바나나 바지락 박 밤 방울토마토 방풍 방풍나물 배 \n",
            "배추 백새우 백합 뱀장어 버섯 버섯류 버찌 벗 병어 복숭아 부세 부지갱이 부추 붉은고추 붕어 \n",
            "붕장어 브로커리 브로코리 블루베리 비 비름 비트 빈스 빨간양배추 삐틀이 사과 살구 삼 삼치 상어 \n",
            "상추 새꼬막 새송이 새싹 새우 새우살 새조개 샐러리 생강 생고추 선동오징어 세러리 셀러리 소라 속새 \n",
            "숙주나물 숫꽃게 시금치 식용허브 실파 쌈채류 쑥갓 아귀 아로니아 아보카도 아보카드 아스파라가스 아스파라거스 아욱 알 \n",
            "알배 암꽃게 양배추 양상추 양송이 양채 양채류 양파 얼갈이 얼갈이배추 여주 연어 열무 염고등어 엽경채류 \n",
            "엽채 엽채류 오렌지 오만둥이 오이 오징어 오징어몸통 오징어채 옥 완두콩 용과 우렁쉥이 유채 임연 잉어 \n",
            "자두 자몽 재첩 적겨자 적근대 적새우 적채 전복 절단 절단낙지 중하 질경이 쪽파 쭈꾸미 참깨 \n",
            "참나물 참다래 참당귀 참외 참조 채소 천도복숭아 청경채 청어 체리 총각무 취나물 치커리 칠게 칼라후라워 \n",
            "칼리플라워 칼리후라워 케일 코라비 코코넛 콜라비 콩 콩나물 키위 키조개 키조개꼭지 키조개날개 토마토 파 파세리 \n",
            "파인애플 파프리카 패류 팽이 팽이버섯 포도 포장바지락 표고 표고버섯 풋고추 풋옥 피망 피조개 해삼 해파리 \n",
            "향신료 호박 호박잎 홍고추 홍어 홍합 활복오징어 "
          ]
        }
      ],
      "source": [
        "# 몇몇 품목들 정리가 필요\n",
        "a = sorted(df2['prd'].unique())\n",
        "for i in range(len(a)):\n",
        "  if i%15 != 0:\n",
        "    print(a[i],end=' ')\n",
        "  else:\n",
        "    print(a[i],end=' ')\n",
        "    print()"
      ]
    },
    {
      "cell_type": "code",
      "execution_count": 104,
      "metadata": {
        "id": "M2625eg87yCq"
      },
      "outputs": [],
      "source": [
        "### 예시\n",
        "# df2[(df2['prd']=='유채') & (df2['price']==4500)]['prd'].unique()\n",
        "# df2[df2['prd']=='유채']['prd'].unique()"
      ]
    },
    {
      "cell_type": "code",
      "execution_count": 105,
      "metadata": {
        "colab": {
          "base_uri": "https://localhost:8080/"
        },
        "id": "ExIoekH2gcM_",
        "outputId": "5cad26ac-a57e-42b5-85da-19e3591a3493"
      },
      "outputs": [],
      "source": [
        "### 원래 단어 뭐였는지 검색\n",
        "# org_df[org_df['품목명'].str.contains('\u001d느')]['품목명'].unique()"
      ]
    },
    {
      "cell_type": "code",
      "execution_count": 106,
      "metadata": {
        "colab": {
          "base_uri": "https://localhost:8080/",
          "height": 81
        },
        "id": "2uOc31XjjPFL",
        "outputId": "50529553-d06f-4dc6-8759-a11736220df6"
      },
      "outputs": [],
      "source": [
        "### 현재 이름 검색\n",
        "# df2[df2['prd']=='느']"
      ]
    },
    {
      "cell_type": "code",
      "execution_count": 107,
      "metadata": {
        "id": "gbBBjoDqIjR1"
      },
      "outputs": [],
      "source": [
        "###\n",
        "# JG\n",
        "\n",
        "# 고 -> 고수로 변경\n",
        "df2.loc[df2[\"prd\"]==\"고\",\"prd\"] = \"고수\"\n",
        "# 과실류, 과일류, 과채, 채소 -> 과채류로 통합\n",
        "df2.loc[df2[\"prd\"]==\"과실류\",\"prd\"] = \"과채류\"\n",
        "df2.loc[df2[\"prd\"]==\"과일류\",\"prd\"] = \"과채류\"\n",
        "df2.loc[df2[\"prd\"]==\"과일야채류\",\"prd\"] = \"과채류\"\n",
        "df2.loc[df2[\"prd\"]==\"과일과채류\",\"prd\"] = \"과채류\"\n",
        "df2.loc[df2[\"prd\"]==\"과일\",\"prd\"] = \"과채류\"\n",
        "df2.loc[df2[\"prd\"]==\"과채\",\"prd\"] = \"과채류\"\n",
        "df2.loc[df2[\"prd\"]==\"채소\",\"prd\"] = \"과채류\"\n",
        "# 고들빼 -> 고들빼기로 변경\n",
        "df2.loc[df2[\"prd\"]==\"고들빼\",\"prd\"] = \"고들빼기\"\n",
        "# 꼴뚜 -> 꼴두기로 변경\n",
        "df2.loc[df2[\"prd\"]==\"꼴뚜\",\"prd\"] = \"꼴뚜기\"\n",
        "# 그레이프푸룻 -> 자몽으로 통합\n",
        "df2.loc[df2[\"prd\"]==\"그레이프푸룻\",\"prd\"] = \"자몽\"\n",
        "\n",
        "# 느 -> 느타리버섯으로 통합\n",
        "df2.loc[df2[\"prd\"]==\"느\",\"prd\"] = \"느타리버섯\"\n",
        "\n",
        "# 대구 관련 품목들 정리\n",
        "df2.loc[df2[\"prd\"]==\"대구고니\",\"prd\"] = \"대구\"\n",
        "df2.loc[df2[\"prd\"]==\"대구머리\",\"prd\"] = \"대구\"\n",
        "df2.loc[df2[\"prd\"]==\"대구포\",\"prd\"] = \"대구\"\n",
        "# 듀리안 -> 두리안으로 통합\n",
        "df2.loc[df2[\"prd\"]==\"듀리안\",\"prd\"] = \"두리안\"\n",
        "# 딸 -> 딸기로 변경\n",
        "df2.loc[df2[\"prd\"]==\"딸\",\"prd\"] = \"딸기\"\n",
        "\n",
        "# 만가닥 -> 만가닥버섯으로 변경\n",
        "df2.loc[df2[\"prd\"]==\"만가닥\",\"prd\"] = \"만가닥버섯\"\n",
        "# 맛 -> 맛조개로 변경\n",
        "df2.loc[df2[\"prd\"]==\"맛\",\"prd\"] = \"맛조개\"\n",
        "# 망고스턴 -> 망고스틴으로 수정\n",
        "df2.loc[df2[\"prd\"]==\"망고스턴\",\"prd\"] = \"망고스틴\"\n",
        "# 메 -> 메기로 변경\n",
        "df2.loc[df2[\"prd\"]==\"메\",\"prd\"] = \"메기\"\n",
        "# 명태 관련 품목들 정리\n",
        "df2.loc[df2[\"prd\"]==\"명태곤니\",\"prd\"] = \"명태\"\n",
        "df2.loc[df2[\"prd\"]==\"명태알\",\"prd\"] = \"명태\"\n",
        "df2.loc[df2[\"prd\"]==\"명태포\",\"prd\"] = \"명태\"\n",
        "# 무우 -> 무로 통합\n",
        "df2.loc[df2[\"prd\"]==\"무우\",\"prd\"] = \"무\"\n",
        "\n",
        "# 방풍 -> 방풍나물로 통합\n",
        "df2.loc[df2[\"prd\"]==\"방풍\",\"prd\"] = \"방풍나물\"\n",
        "# 버섯류 -> 버섯으로 변경\n",
        "df2.loc[df2[\"prd\"]==\"버섯\",\"prd\"] = \"버섯\"\n",
        "# 벗,버찌 -> 체리로 통합\n",
        "df2.loc[df2[\"prd\"]==\"벗\",\"prd\"] = \"체리\"\n",
        "df2.loc[df2[\"prd\"]==\"버찌\",\"prd\"] = \"체리\"\n",
        "df2.loc[df2[\"prd\"]==\"벗찌\",\"prd\"] = \"체리\"\n",
        "# 브로커리, 브로코리 -> 브로콜리로 통합\n",
        "df2.loc[df2[\"prd\"]==\"브로커리\",\"prd\"] = \"브로콜리\"\n",
        "df2.loc[df2[\"prd\"]==\"브로코리\",\"prd\"] = \"브로콜리\"\n",
        "\n",
        "# 삼 -> 수삼으로 변경\n",
        "df2.loc[df2[\"prd\"]==\"삼\",\"prd\"] = \"수삼\"\n",
        "# 새우살 -> 새우로 변경\n",
        "df2.loc[df2[\"prd\"]==\"새우살\",\"prd\"] = \"새우\"\n",
        "# 세러리, 셀러리 -> 샐러리로 통합\n",
        "df2.loc[df2[\"prd\"]==\"세러리\",\"prd\"] = \"샐러리\"\n",
        "df2.loc[df2[\"prd\"]==\"셀러리\",\"prd\"] = \"샐러리\"\n",
        "# 생고추 -> 고추로 통합\n",
        "df2.loc[df2[\"prd\"]==\"생고추\",\"prd\"] = \"고추\"\n",
        "\n",
        "# 아보카드 -> 아보카도로 변경\n",
        "df2.loc[df2[\"prd\"]==\"아보카드\",\"prd\"] = \"아보카도\"\n",
        "# 아스파라가스 -> 아스파라거스로 변경\n",
        "df2.loc[df2[\"prd\"]==\"아스파라가스\",\"prd\"] = \"아스파라거스\"\n",
        "# 알 -> 알타리무로 변경\n",
        "df2.loc[df2[\"prd\"]==\"알\",\"prd\"] = \"알타리무\"\n",
        "# 알배 -> 알배기로 변경\n",
        "df2.loc[df2[\"prd\"]==\"알배\",\"prd\"] = \"알배기\"\n",
        "# 양채 -> 양채류로 통합\n",
        "df2.loc[df2[\"prd\"]==\"양채\",\"prd\"] = \"양채류\"\n",
        "# 얼갈이 -> 얼갈이배추로 통합\n",
        "df2.loc[df2[\"prd\"]==\"얼갈이\",\"prd\"] = \"얼갈이배추\"\n",
        "# 엽채류, 엽채 -> 엽경채류로 통합\n",
        "df2.loc[df2[\"prd\"]==\"엽채류\",\"prd\"] = \"엽경채류\"\n",
        "df2.loc[df2[\"prd\"]==\"엽채\",\"prd\"] = \"엽경채류\"\n",
        "# 오징어 관련 품목들 정리\n",
        "df2.loc[df2[\"prd\"]==\"오징어다리\",\"prd\"] = \"오징어\"\n",
        "df2.loc[df2[\"prd\"]==\"오징어원양\",\"prd\"] = \"오징어\"\n",
        "df2.loc[df2[\"prd\"]==\"오징어채\",\"prd\"] = \"오징어\"\n",
        "df2.loc[df2[\"prd\"]==\"활복오징어\",\"prd\"] = \"오징어\"\n",
        "df2.loc[df2[\"prd\"]==\"오징어채원양\",\"prd\"] = \"오징어\"\n",
        "df2.loc[df2[\"prd\"]==\"갑오징어살\",\"prd\"] = \"오징어\"\n",
        "# 옥, 풋옥 -> 옥수수로 정리\n",
        "df2.loc[df2[\"prd\"]==\"옥\",\"prd\"] = \"옥수수\"\n",
        "df2.loc[df2[\"prd\"]==\"풋옥\",\"prd\"] = \"옥수수\"\n",
        "# 임연 -> 임연수어로 정리\n",
        "df2.loc[df2[\"prd\"]==\"임연\",\"prd\"] = \"임연수어\"\n",
        "\n",
        "\n",
        "# 절단 -> 절단쭈꾸미 -> 쭈꾸미로 정리\n",
        "df2.loc[df2[\"prd\"]==\"절단\",\"prd\"] = \"쭈꾸미\"\n",
        "# 조개살 -> 조개로 정리\n",
        "df2.loc[df2[\"prd\"]==\"조개살\",\"prd\"] = \"조개\"\n",
        "\n",
        "# 참조 -> 참조기로 정리\n",
        "df2.loc[df2[\"prd\"]==\"참조\",\"prd\"] = \"참조기\"\n",
        "\n",
        "# 칼라후라워,칼리플라워, 칼리후라워 -> 컬리플라워로 통합\n",
        "df2.loc[df2[\"prd\"]==\"칼라후라워\",\"prd\"] = \"컬리플라워\"\n",
        "df2.loc[df2[\"prd\"]==\"칼리플라워\",\"prd\"] = \"컬리플라워\"\n",
        "df2.loc[df2[\"prd\"]==\"칼리후라워\",\"prd\"] = \"컬리플라워\"\n",
        "# 코라비 -> 콜라비로 통합\n",
        "df2.loc[df2[\"prd\"]==\"코라비\",\"prd\"] = \"콜라비\"\n",
        "# 키조개날개 -> 키조개로 통합\n",
        "df2.loc[df2[\"prd\"]==\"키조개날개\",\"prd\"] = \"키조개\"\n",
        "\n",
        "# 팽이 -> 팽이버섯으로 통합\n",
        "df2.loc[df2[\"prd\"]==\"팽이\",\"prd\"] = \"팽이버섯\"\n",
        "# 파세리 -> 파슬리로 변경\n",
        "df2.loc[df2[\"prd\"]==\"파세리\",\"prd\"] = \"파슬리\"\n",
        "# 표고 -> 표고버섯으로 통합\n",
        "df2.loc[df2[\"prd\"]==\"표고\",\"prd\"] = \"표고버섯\"\n",
        "# 포장바지락 -> 바지락으로 변경\n",
        "df2.loc[df2[\"prd\"]==\"포장바지락\",\"prd\"] = \"바지락\"\n",
        "\n",
        "### 일단 여기까지 실행\n",
        "# JY\n",
        "#각굴 -> 굴로 통합\n",
        "df2.loc[df2[\"prd\"]==\"각굴\",\"prd\"] = \"굴\"\n",
        "#가오리채 -> 가오리로 통합\n",
        "df2.loc[df2[\"prd\"]==\"가오리채\",\"prd\"] = \"가오리\"\n",
        "# 게지 -> 키조개로 통합\n",
        "df2.loc[df2[\"prd\"]==\"게지\",\"prd\"] = \"키조개\"\n",
        "#고 -> 고구마로 통합\n",
        "df2.loc[df2[\"prd\"]==\"고\",\"prd\"] = \"고구마\"\n",
        "#꼴뚜 -> 꼴뚜기로 통합\n",
        "df2.loc[df2[\"prd\"]==\"꼴뚜\",\"prd\"] = \"꼴뚜기\"\n",
        "#돗나물 -> 돌나물로 통합\n",
        "df2.loc[df2[\"prd\"]==\"돗나물\",\"prd\"] = \"돌나물\"\n",
        "#레드쉬 -> 레디쉬로 통합\n",
        "df2.loc[df2[\"prd\"]==\"레드쉬\",\"prd\"] = \"레디쉬\"\n",
        "#만가닥 -> 만가닥버섯으로 통합\n",
        "df2.loc[df2[\"prd\"]==\"만가닥\",\"prd\"] = \"만가닥버섯\"\n",
        "#메 -> 메기로 통합\n",
        "df2.loc[df2[\"prd\"]==\"메\",\"prd\"] = \"메기\"\n",
        "#봄동 -> 봄동배추로 통합\n",
        "df2.loc[df2[\"prd\"]==\"봄동\",\"prd\"] = \"봄동배추\"\n",
        "#봉지굴 -> 굴로 통합\n",
        "df2.loc[df2[\"prd\"]==\"봉지굴\",\"prd\"] = \"굴\"\n",
        "#박 -> 수박으로 통합\n",
        "df2.loc[df2[\"prd\"]==\"박\",\"prd\"] = \"수박\"\n",
        "#백조 -> 조기로 통합 \n",
        "df2.loc[df2[\"prd\"]==\"백조\",\"prd\"] = \"조기\"\n",
        "#벅굴 -> 벚굴로 통합\n",
        "df2.loc[df2[\"prd\"]==\"벅굴\",\"prd\"] = \"벚굴\"\n",
        "#비 -> 비타민으로 통합\n",
        "df2.loc[df2[\"prd\"]==\"비\",\"prd\"] = \"비타민\"\n",
        "#빈스 -> 콩으로 통합\n",
        "df2.loc[df2[\"prd\"]==\"빈스\",\"prd\"] = \"콩\"\n",
        "#삐틀이 -> 고둥으로 통합\n",
        "df2.loc[df2[\"prd\"]==\"삐틀이\",\"prd\"] = \"고둥\"\n",
        "#새송이 -> 새송이버섯으로 통합\n",
        "df2.loc[df2[\"prd\"]==\"새송이\",\"prd\"] = \"새송이버섯\"\n",
        "#세트 -> 과채류로 통합\n",
        "df2.loc[df2[\"prd\"]==\"세트\",\"prd\"] = \"과채류\"\n",
        "#알 -> 알로애로 통합\n",
        "df2.loc[df2[\"prd\"]==\"알\",\"prd\"] = \"알로에\"\n",
        "#엄나무 -> 음나무로 통합\n",
        "df2.loc[df2[\"prd\"]==\"엄나무\",\"prd\"] = \"음나무\"\n",
        "#염고등어 -> 고등어로 통합\n",
        "df2.loc[df2[\"prd\"]==\"염고등어\",\"prd\"] = \"고등어\"\n",
        "#오만둥이 -> 미더덕으로 통합\n",
        "df2.loc[df2[\"prd\"]==\"오만둥이\",\"prd\"] = \"미더덕\"\n",
        "#오징어 관련 품목들 정리\n",
        "df2.loc[df2[\"prd\"]==\"선동오징어\",\"prd\"] = \"오징어\"\n",
        "df2.loc[df2[\"prd\"]==\"오징어몸통\",\"prd\"] = \"오징어\"\n",
        "#우렁쉥이 -> 멍게로 통합\n",
        "df2.loc[df2[\"prd\"]==\"우렁쉥이\",\"prd\"] = \"멍게\"\n",
        "#우뭇가시리 -> 우뭇가사리로 통합\n",
        "df2.loc[df2[\"prd\"]==\"우뭇가시리\",\"prd\"] = \"우뭇가사리\"\n",
        "#적채 -> 적양배추로 통합\n",
        "df2.loc[df2[\"prd\"]==\"적채\",\"prd\"] = \"적양배추\"\n",
        "#절단낙지 -> 낙지로 통합\n",
        "df2.loc[df2[\"prd\"]==\"절단낙지\",\"prd\"] = \"낙지\"\n",
        "#조 -> 조개로 통합\n",
        "df2.loc[df2[\"prd\"]==\"조\",\"prd\"] = \"조개\"\n",
        "#청어원양 -> 청어로 통합\n",
        "df2.loc[df2[\"prd\"]==\"청어원양\",\"prd\"] = \"청어\"\n",
        "#키조개꼭지 -> 키조개로 통합\n",
        "df2.loc[df2[\"prd\"]==\"키조개꼭지\",\"prd\"] = \"키조개\"\n",
        "\n",
        "# 암꽃게, 숫꽃게 -> 꽃게로 통합\n",
        "df2.loc[df2[\"prd\"]==\"암꽃게\",\"prd\"] = \"꽃게\"\n",
        "df2.loc[df2[\"prd\"]==\"숫꽃게\",\"prd\"] = \"꽃게\"\n",
        "# 우렁 -> 우렁이로 통합\n",
        "df2.loc[df2[\"prd\"]==\"우렁\",\"prd\"] = \"우렁이\"\n",
        "# 알로애 -> 알로에로 변경\n",
        "df2.loc[df2[\"prd\"]==\"알로애\",\"prd\"] = \"알로에\"\n",
        "# 피마자잎 -> 피마자로 변경\n",
        "df2.loc[df2[\"prd\"]==\"피미자잎\",\"prd\"] = \"피마자\"\n",
        "# 식용허브 -> 허브로 변경\n",
        "df2.loc[df2[\"prd\"]==\"식용허브\",\"prd\"] = \"허브\"\n",
        "# 조미제품 삭제\n",
        "df2.drop(df2[df2['prd']=='조미제품'].index,inplace=True)\n",
        "df2.drop(df2[df2['prd']=='어류원양'].index,inplace=True)"
      ]
    },
    {
      "cell_type": "code",
      "execution_count": 108,
      "metadata": {},
      "outputs": [
        {
          "data": {
            "text/plain": [
              "array([], dtype=object)"
            ]
          },
          "execution_count": 108,
          "metadata": {},
          "output_type": "execute_result"
        }
      ],
      "source": [
        "# 기존 products 리스트와 비교\n",
        "ex_prd = pd.read_csv(\"../products.csv\")\n",
        "df2[~df2['prd'].isin(ex_prd['prd'])]['prd'].unique()"
      ]
    },
    {
      "cell_type": "code",
      "execution_count": 109,
      "metadata": {},
      "outputs": [
        {
          "name": "stderr",
          "output_type": "stream",
          "text": [
            "/var/folders/nq/s4zx76p53d11lnr0t1dxpxh00000gn/T/ipykernel_1598/2619460125.py:4: FutureWarning: The frame.append method is deprecated and will be removed from pandas in a future version. Use pandas.concat instead.\n",
            "  products = ex_prd.append(new_prd,ignore_index=True)\n"
          ]
        }
      ],
      "source": [
        "# 물품 리스트 최신화\n",
        "new_prd = pd.DataFrame(df2['prd'].unique(),columns=['prd'])\n",
        "# products = ex_prd.append(new_prd[~new_prd['prd'].isin(ex_prd['prd'])],ignore_index=True)\n",
        "products = ex_prd.append(new_prd,ignore_index=True)"
      ]
    },
    {
      "cell_type": "code",
      "execution_count": 110,
      "metadata": {},
      "outputs": [],
      "source": [
        "products.drop(columns=['Unnamed: 0'],inplace=True)\n",
        "products.drop_duplicates(inplace=True)\n",
        "products.reset_index(inplace=True,drop=True)"
      ]
    },
    {
      "cell_type": "code",
      "execution_count": 111,
      "metadata": {},
      "outputs": [],
      "source": [
        "# 다음 작업을 위해 저장\n",
        "products.to_csv('../products.csv')"
      ]
    },
    {
      "cell_type": "code",
      "execution_count": 112,
      "metadata": {
        "colab": {
          "base_uri": "https://localhost:8080/",
          "height": 300
        },
        "id": "CxbMB3I59tCZ",
        "outputId": "d29f9bba-e828-4319-9402-7dc24ba1778b"
      },
      "outputs": [
        {
          "data": {
            "text/html": [
              "<div>\n",
              "<style scoped>\n",
              "    .dataframe tbody tr th:only-of-type {\n",
              "        vertical-align: middle;\n",
              "    }\n",
              "\n",
              "    .dataframe tbody tr th {\n",
              "        vertical-align: top;\n",
              "    }\n",
              "\n",
              "    .dataframe thead th {\n",
              "        text-align: right;\n",
              "    }\n",
              "</style>\n",
              "<table border=\"1\" class=\"dataframe\">\n",
              "  <thead>\n",
              "    <tr style=\"text-align: right;\">\n",
              "      <th></th>\n",
              "      <th>prd</th>\n",
              "    </tr>\n",
              "  </thead>\n",
              "  <tbody>\n",
              "    <tr>\n",
              "      <th>count</th>\n",
              "      <td>216.00000</td>\n",
              "    </tr>\n",
              "    <tr>\n",
              "      <th>mean</th>\n",
              "      <td>2784.57870</td>\n",
              "    </tr>\n",
              "    <tr>\n",
              "      <th>std</th>\n",
              "      <td>8437.41097</td>\n",
              "    </tr>\n",
              "    <tr>\n",
              "      <th>min</th>\n",
              "      <td>1.00000</td>\n",
              "    </tr>\n",
              "    <tr>\n",
              "      <th>25%</th>\n",
              "      <td>13.75000</td>\n",
              "    </tr>\n",
              "    <tr>\n",
              "      <th>50%</th>\n",
              "      <td>103.00000</td>\n",
              "    </tr>\n",
              "    <tr>\n",
              "      <th>75%</th>\n",
              "      <td>1391.75000</td>\n",
              "    </tr>\n",
              "    <tr>\n",
              "      <th>max</th>\n",
              "      <td>89786.00000</td>\n",
              "    </tr>\n",
              "  </tbody>\n",
              "</table>\n",
              "</div>"
            ],
            "text/plain": [
              "              prd\n",
              "count   216.00000\n",
              "mean   2784.57870\n",
              "std    8437.41097\n",
              "min       1.00000\n",
              "25%      13.75000\n",
              "50%     103.00000\n",
              "75%    1391.75000\n",
              "max   89786.00000"
            ]
          },
          "execution_count": 112,
          "metadata": {},
          "output_type": "execute_result"
        }
      ],
      "source": [
        "# 전체 거래량과 품목량\n",
        "# 비교를 위해 분포 파악\n",
        "# 거래량이 너무 적은 품목은 삭제할 필요성이 있음\n",
        "\n",
        "prd_lst = (df2['prd'].value_counts()).to_frame()\n",
        "prd_lst.describe()"
      ]
    },
    {
      "cell_type": "code",
      "execution_count": 113,
      "metadata": {
        "id": "_qhAf86UEoSv"
      },
      "outputs": [],
      "source": [
        "# 50개 미만 품목은 비교가 힘드므로 삭제\n",
        "# 줄어든 종류만 남기기\n",
        "\n",
        "prd_lst = prd_lst[prd_lst['prd']>=50]\n",
        "prd_lst.reset_index(inplace=True)\n",
        "prd_lst = prd_lst.rename(columns = {'index':'prd','prd':'count'})"
      ]
    },
    {
      "cell_type": "code",
      "execution_count": 114,
      "metadata": {
        "colab": {
          "base_uri": "https://localhost:8080/"
        },
        "id": "WZfTHQDe-jTG",
        "outputId": "7e713769-2413-4b10-db9d-348498e24708"
      },
      "outputs": [
        {
          "data": {
            "text/plain": [
              "복숭아    89786\n",
              "오이     39866\n",
              "고추     37167\n",
              "버섯     32902\n",
              "토마토    24793\n",
              "       ...  \n",
              "키조개       60\n",
              "더덕        58\n",
              "참조기       57\n",
              "참다래       57\n",
              "딸기        51\n",
              "Name: prd, Length: 130, dtype: int64"
            ]
          },
          "execution_count": 114,
          "metadata": {},
          "output_type": "execute_result"
        }
      ],
      "source": [
        "df3 = df2.merge(prd_lst)\n",
        "df3[df3['count']>=50]['prd'].value_counts()"
      ]
    },
    {
      "cell_type": "code",
      "execution_count": 115,
      "metadata": {
        "id": "OnwYlUyTEJdF"
      },
      "outputs": [],
      "source": [
        "# 줄어든 것 확인했으므로 count column은 삭제\n",
        "df3 = df3.drop(columns='count')"
      ]
    },
    {
      "cell_type": "markdown",
      "metadata": {
        "id": "jPcICeSResYh"
      },
      "source": [
        "### scale"
      ]
    },
    {
      "cell_type": "code",
      "execution_count": 116,
      "metadata": {
        "colab": {
          "base_uri": "https://localhost:8080/"
        },
        "id": "4KZLpXuYYTZx",
        "outputId": "f59c1146-fdb9-4483-81a3-a0f51dd08904"
      },
      "outputs": [
        {
          "data": {
            "text/plain": [
              "array([  8.  ,   7.  ,   6.  ,   9.  ,   4.  ,  10.  ,   5.  ,  12.  ,\n",
              "        11.  ,   3.  ,  13.  ,  20.  ,  18.  ,  17.  ,  15.  ,  16.  ,\n",
              "        14.  ,  19.  ,   2.  ,  22.  ,  21.  ,   3.6 ,   2.4 ,   3.2 ,\n",
              "         2.8 ,   2.6 ,   5.2 ,   3.5 ,  25.  ,  24.  ,  23.  ,   1.2 ,\n",
              "         4.4 ,  26.  ,   3.8 ,   3.7 ,   1.8 ,   1.6 ,   2.5 ,   4.8 ,\n",
              "         4.5 ,   4.2 ,   5.5 ,   3.3 ,   1.4 ,   6.5 , 141.  ,   0.5 ,\n",
              "         0.3 ,   1.  ,  41.  ,   0.2 ,   0.4 ,   5.6 ,  11.5 ,  28.  ,\n",
              "         7.2 ,   7.5 ,   0.09,   0.1 ,   0.25,   0.15,   0.05,   0.9 ,\n",
              "         1.7 ,   1.5 , 108.  ,   0.6 ,  15.01,  20.01,  10.01, 109.  ,\n",
              "         5.9 , 200.  ,  60.  ,   7.4 ,   0.8 ,   1.3 ,   9.1 ,   5.8 ,\n",
              "       110.  ,   8.2 ,   6.8 ,   8.8 ,   2.7 ,   2.9 ,  30.  ,   8.5 ,\n",
              "         0.7 ,  27.  ,  12.5 ,  10.5 ,  19.6 ,   8.6 ,   8.16,   2.01,\n",
              "         4.01,   0.75,   5.7 ,   5.4 ,   7.8 ,   9.5 ,   4.7 ,   8.4 ,\n",
              "        11.6 ,   2.3 ,   9.2 ,   5.3 ,   9.6 ,  10.7 ,  11.7 ,  12.3 ,\n",
              "         9.8 ,  13.5 ,   6.2 ,   6.3 ,   6.73,  12.7 ,   8.01,  11.8 ,\n",
              "        10.4 ,  11.2 ,  58.  ,   3.9 ,   3.4 ,   2.25,   2.2 ,   9.4 ,\n",
              "         7.6 ,   8.9 ,   6.6 ,   1.9 ,   7.3 ,  11.4 ,   4.6 ,   9.7 ,\n",
              "         7.9 ,   6.1 ,  10.6 ,   4.9 ,   9.3 ,   3.85,  10.2 ,   4.3 ,\n",
              "         3.1 ,  10.8 ,   6.7 ,   8.7 ,   7.7 ,  10.9 ,   6.4 ,  15.6 ,\n",
              "         0.16,   5.1 ,   2.1 ,  17.2 ,  14.2 , 315.  ,   0.12,   0.03,\n",
              "         0.17,   1.25,  45.  ,  78.  ,  70.5 ,  47.  ,  72.  ,  67.  ,\n",
              "        72.5 ,  59.  ,  82.  ,  36.  ,  38.  ,  74.  ,  76.  ,  66.5 ,\n",
              "        59.5 ,  67.5 ,  30.5 ,  62.  ,  68.5 ,  32.5 ,  33.  ,  38.5 ,\n",
              "        32.  ,  58.5 ,  52.5 ,  51.5 ,  51.  ,  49.  ,  27.5 ,  43.5 ,\n",
              "        41.5 ,  37.  ,  79.5 ,  80.  ,  80.5 ,  81.  ,  83.  ,  77.  ,\n",
              "        75.5 ,  73.  ,  70.  ,  69.  ,  85.5 ,  86.5 ,  88.  ,  15.5 ,\n",
              "        66.  ,  23.5 ,  83.5 ,  16.5 ,  79.  ,  77.5 ,  76.5 ,  68.  ,\n",
              "        42.  ,  34.5 ,  53.  ,   1.1 ,  21.5 ,  22.5 ])"
            ]
          },
          "execution_count": 116,
          "metadata": {},
          "output_type": "execute_result"
        }
      ],
      "source": [
        "np.set_printoptions(precision=2, suppress=True)\n",
        "df3['scale'].unique()"
      ]
    },
    {
      "cell_type": "code",
      "execution_count": 117,
      "metadata": {
        "colab": {
          "base_uri": "https://localhost:8080/",
          "height": 1000
        },
        "id": "-43K_jyN92IZ",
        "outputId": "7b3e92a5-a0eb-4b09-bc6c-36948c74b860"
      },
      "outputs": [
        {
          "data": {
            "text/plain": [
              "array(['수박', '오렌지', '오이', '참외', '감귤', '방울토마토', '수삼'], dtype=object)"
            ]
          },
          "execution_count": 117,
          "metadata": {},
          "output_type": "execute_result"
        }
      ],
      "source": [
        "# 50kg 이상 거래된 건들 이상치라 판단하고 확인 진행\n",
        "df3[df3['scale']>=50]['prd'].unique()"
      ]
    },
    {
      "cell_type": "code",
      "execution_count": 120,
      "metadata": {
        "id": "v1EZDKB59dJp"
      },
      "outputs": [],
      "source": [
        "# 스케일 오표기된 항목 수정\n",
        "\n",
        "# 수삼은 확인 결과 문제 없음\n",
        "# 그 외 항목 삭제\n",
        "df3 = df3.drop(df3[(df3['scale']>=50)&(df3['prd']=='호박')].index)"
      ]
    },
    {
      "cell_type": "code",
      "execution_count": 121,
      "metadata": {},
      "outputs": [
        {
          "data": {
            "text/html": [
              "<div>\n",
              "<style scoped>\n",
              "    .dataframe tbody tr th:only-of-type {\n",
              "        vertical-align: middle;\n",
              "    }\n",
              "\n",
              "    .dataframe tbody tr th {\n",
              "        vertical-align: top;\n",
              "    }\n",
              "\n",
              "    .dataframe thead th {\n",
              "        text-align: right;\n",
              "    }\n",
              "</style>\n",
              "<table border=\"1\" class=\"dataframe\">\n",
              "  <thead>\n",
              "    <tr style=\"text-align: right;\">\n",
              "      <th></th>\n",
              "      <th>prd</th>\n",
              "      <th>scale</th>\n",
              "      <th>price</th>\n",
              "      <th>origin</th>\n",
              "      <th>eco</th>\n",
              "      <th>reg_date</th>\n",
              "      <th>new_class</th>\n",
              "      <th>price_kg</th>\n",
              "    </tr>\n",
              "  </thead>\n",
              "  <tbody>\n",
              "    <tr>\n",
              "      <th>595514</th>\n",
              "      <td>수삼</td>\n",
              "      <td>78.00000</td>\n",
              "      <td>2080000</td>\n",
              "      <td>충남 논산시</td>\n",
              "      <td>normal</td>\n",
              "      <td>2021-07-28</td>\n",
              "      <td>1</td>\n",
              "      <td>26666.67000</td>\n",
              "    </tr>\n",
              "    <tr>\n",
              "      <th>595515</th>\n",
              "      <td>수삼</td>\n",
              "      <td>70.50000</td>\n",
              "      <td>1880000</td>\n",
              "      <td>충남 논산시</td>\n",
              "      <td>normal</td>\n",
              "      <td>2021-07-28</td>\n",
              "      <td>1</td>\n",
              "      <td>26666.67000</td>\n",
              "    </tr>\n",
              "    <tr>\n",
              "      <th>595517</th>\n",
              "      <td>수삼</td>\n",
              "      <td>72.00000</td>\n",
              "      <td>1920000</td>\n",
              "      <td>충남 논산시</td>\n",
              "      <td>normal</td>\n",
              "      <td>2021-07-28</td>\n",
              "      <td>1</td>\n",
              "      <td>26666.67000</td>\n",
              "    </tr>\n",
              "    <tr>\n",
              "      <th>595519</th>\n",
              "      <td>수삼</td>\n",
              "      <td>67.00000</td>\n",
              "      <td>1786667</td>\n",
              "      <td>충남 논산시</td>\n",
              "      <td>normal</td>\n",
              "      <td>2021-07-28</td>\n",
              "      <td>1</td>\n",
              "      <td>26666.67000</td>\n",
              "    </tr>\n",
              "    <tr>\n",
              "      <th>595520</th>\n",
              "      <td>수삼</td>\n",
              "      <td>72.50000</td>\n",
              "      <td>1933333</td>\n",
              "      <td>충남 논산시</td>\n",
              "      <td>normal</td>\n",
              "      <td>2021-07-28</td>\n",
              "      <td>1</td>\n",
              "      <td>26666.66000</td>\n",
              "    </tr>\n",
              "    <tr>\n",
              "      <th>595521</th>\n",
              "      <td>수삼</td>\n",
              "      <td>59.00000</td>\n",
              "      <td>1573333</td>\n",
              "      <td>충남 논산시</td>\n",
              "      <td>normal</td>\n",
              "      <td>2021-07-28</td>\n",
              "      <td>3</td>\n",
              "      <td>26666.66000</td>\n",
              "    </tr>\n",
              "    <tr>\n",
              "      <th>595523</th>\n",
              "      <td>수삼</td>\n",
              "      <td>82.00000</td>\n",
              "      <td>2186667</td>\n",
              "      <td>충남 논산시</td>\n",
              "      <td>normal</td>\n",
              "      <td>2021-07-28</td>\n",
              "      <td>3</td>\n",
              "      <td>26666.67000</td>\n",
              "    </tr>\n",
              "    <tr>\n",
              "      <th>595526</th>\n",
              "      <td>수삼</td>\n",
              "      <td>74.00000</td>\n",
              "      <td>1973333</td>\n",
              "      <td>충남 논산시</td>\n",
              "      <td>normal</td>\n",
              "      <td>2021-07-28</td>\n",
              "      <td>3</td>\n",
              "      <td>26666.66000</td>\n",
              "    </tr>\n",
              "    <tr>\n",
              "      <th>595527</th>\n",
              "      <td>수삼</td>\n",
              "      <td>58.00000</td>\n",
              "      <td>1546667</td>\n",
              "      <td>충남 논산시</td>\n",
              "      <td>normal</td>\n",
              "      <td>2021-07-28</td>\n",
              "      <td>3</td>\n",
              "      <td>26666.67000</td>\n",
              "    </tr>\n",
              "    <tr>\n",
              "      <th>595528</th>\n",
              "      <td>수삼</td>\n",
              "      <td>76.00000</td>\n",
              "      <td>2026667</td>\n",
              "      <td>충남 논산시</td>\n",
              "      <td>normal</td>\n",
              "      <td>2021-07-28</td>\n",
              "      <td>3</td>\n",
              "      <td>26666.67000</td>\n",
              "    </tr>\n",
              "    <tr>\n",
              "      <th>595529</th>\n",
              "      <td>수삼</td>\n",
              "      <td>66.50000</td>\n",
              "      <td>1773333</td>\n",
              "      <td>충남 논산시</td>\n",
              "      <td>normal</td>\n",
              "      <td>2021-07-28</td>\n",
              "      <td>3</td>\n",
              "      <td>26666.66000</td>\n",
              "    </tr>\n",
              "    <tr>\n",
              "      <th>595530</th>\n",
              "      <td>수삼</td>\n",
              "      <td>59.50000</td>\n",
              "      <td>1586667</td>\n",
              "      <td>충남 논산시</td>\n",
              "      <td>normal</td>\n",
              "      <td>2021-07-28</td>\n",
              "      <td>3</td>\n",
              "      <td>26666.67000</td>\n",
              "    </tr>\n",
              "    <tr>\n",
              "      <th>595531</th>\n",
              "      <td>수삼</td>\n",
              "      <td>67.00000</td>\n",
              "      <td>1786667</td>\n",
              "      <td>충남 논산시</td>\n",
              "      <td>normal</td>\n",
              "      <td>2021-07-28</td>\n",
              "      <td>3</td>\n",
              "      <td>26666.67000</td>\n",
              "    </tr>\n",
              "    <tr>\n",
              "      <th>595532</th>\n",
              "      <td>수삼</td>\n",
              "      <td>67.50000</td>\n",
              "      <td>1800000</td>\n",
              "      <td>충남 논산시</td>\n",
              "      <td>normal</td>\n",
              "      <td>2021-07-28</td>\n",
              "      <td>3</td>\n",
              "      <td>26666.67000</td>\n",
              "    </tr>\n",
              "    <tr>\n",
              "      <th>595535</th>\n",
              "      <td>수삼</td>\n",
              "      <td>62.00000</td>\n",
              "      <td>1653333</td>\n",
              "      <td>충남 논산시</td>\n",
              "      <td>normal</td>\n",
              "      <td>2021-07-28</td>\n",
              "      <td>3</td>\n",
              "      <td>26666.66000</td>\n",
              "    </tr>\n",
              "    <tr>\n",
              "      <th>595536</th>\n",
              "      <td>수삼</td>\n",
              "      <td>68.50000</td>\n",
              "      <td>1826667</td>\n",
              "      <td>충남 논산시</td>\n",
              "      <td>normal</td>\n",
              "      <td>2021-07-28</td>\n",
              "      <td>3</td>\n",
              "      <td>26666.67000</td>\n",
              "    </tr>\n",
              "    <tr>\n",
              "      <th>595542</th>\n",
              "      <td>수삼</td>\n",
              "      <td>62.00000</td>\n",
              "      <td>1694667</td>\n",
              "      <td>충남 논산시</td>\n",
              "      <td>normal</td>\n",
              "      <td>2021-07-02</td>\n",
              "      <td>9</td>\n",
              "      <td>27333.34000</td>\n",
              "    </tr>\n",
              "    <tr>\n",
              "      <th>595543</th>\n",
              "      <td>수삼</td>\n",
              "      <td>58.50000</td>\n",
              "      <td>1599000</td>\n",
              "      <td>충남 논산시</td>\n",
              "      <td>normal</td>\n",
              "      <td>2021-07-02</td>\n",
              "      <td>9</td>\n",
              "      <td>27333.33000</td>\n",
              "    </tr>\n",
              "    <tr>\n",
              "      <th>595544</th>\n",
              "      <td>수삼</td>\n",
              "      <td>52.50000</td>\n",
              "      <td>1435000</td>\n",
              "      <td>충남 논산시</td>\n",
              "      <td>normal</td>\n",
              "      <td>2021-07-02</td>\n",
              "      <td>9</td>\n",
              "      <td>27333.33000</td>\n",
              "    </tr>\n",
              "    <tr>\n",
              "      <th>595546</th>\n",
              "      <td>수삼</td>\n",
              "      <td>51.50000</td>\n",
              "      <td>1407667</td>\n",
              "      <td>충남 논산시</td>\n",
              "      <td>normal</td>\n",
              "      <td>2021-07-02</td>\n",
              "      <td>9</td>\n",
              "      <td>27333.34000</td>\n",
              "    </tr>\n",
              "    <tr>\n",
              "      <th>595547</th>\n",
              "      <td>수삼</td>\n",
              "      <td>51.00000</td>\n",
              "      <td>1394000</td>\n",
              "      <td>충남 논산시</td>\n",
              "      <td>normal</td>\n",
              "      <td>2021-07-02</td>\n",
              "      <td>9</td>\n",
              "      <td>27333.33000</td>\n",
              "    </tr>\n",
              "    <tr>\n",
              "      <th>595555</th>\n",
              "      <td>수삼</td>\n",
              "      <td>79.50000</td>\n",
              "      <td>2173000</td>\n",
              "      <td>충남 논산시</td>\n",
              "      <td>normal</td>\n",
              "      <td>2021-07-02</td>\n",
              "      <td>9</td>\n",
              "      <td>27333.33000</td>\n",
              "    </tr>\n",
              "    <tr>\n",
              "      <th>595556</th>\n",
              "      <td>수삼</td>\n",
              "      <td>80.00000</td>\n",
              "      <td>2186667</td>\n",
              "      <td>충남 논산시</td>\n",
              "      <td>normal</td>\n",
              "      <td>2021-07-02</td>\n",
              "      <td>9</td>\n",
              "      <td>27333.34000</td>\n",
              "    </tr>\n",
              "    <tr>\n",
              "      <th>595557</th>\n",
              "      <td>수삼</td>\n",
              "      <td>80.50000</td>\n",
              "      <td>2200333</td>\n",
              "      <td>충남 논산시</td>\n",
              "      <td>normal</td>\n",
              "      <td>2021-07-02</td>\n",
              "      <td>9</td>\n",
              "      <td>27333.33000</td>\n",
              "    </tr>\n",
              "    <tr>\n",
              "      <th>595558</th>\n",
              "      <td>수삼</td>\n",
              "      <td>81.00000</td>\n",
              "      <td>2214000</td>\n",
              "      <td>충남 논산시</td>\n",
              "      <td>normal</td>\n",
              "      <td>2021-07-02</td>\n",
              "      <td>9</td>\n",
              "      <td>27333.33000</td>\n",
              "    </tr>\n",
              "    <tr>\n",
              "      <th>595559</th>\n",
              "      <td>수삼</td>\n",
              "      <td>83.00000</td>\n",
              "      <td>2268667</td>\n",
              "      <td>충남 논산시</td>\n",
              "      <td>normal</td>\n",
              "      <td>2021-07-02</td>\n",
              "      <td>9</td>\n",
              "      <td>27333.34000</td>\n",
              "    </tr>\n",
              "    <tr>\n",
              "      <th>595560</th>\n",
              "      <td>수삼</td>\n",
              "      <td>78.00000</td>\n",
              "      <td>2132000</td>\n",
              "      <td>충남 논산시</td>\n",
              "      <td>normal</td>\n",
              "      <td>2021-07-02</td>\n",
              "      <td>9</td>\n",
              "      <td>27333.33000</td>\n",
              "    </tr>\n",
              "    <tr>\n",
              "      <th>595561</th>\n",
              "      <td>수삼</td>\n",
              "      <td>77.00000</td>\n",
              "      <td>2104667</td>\n",
              "      <td>충남 논산시</td>\n",
              "      <td>normal</td>\n",
              "      <td>2021-07-02</td>\n",
              "      <td>9</td>\n",
              "      <td>27333.34000</td>\n",
              "    </tr>\n",
              "    <tr>\n",
              "      <th>595562</th>\n",
              "      <td>수삼</td>\n",
              "      <td>76.00000</td>\n",
              "      <td>2077333</td>\n",
              "      <td>충남 논산시</td>\n",
              "      <td>normal</td>\n",
              "      <td>2021-07-02</td>\n",
              "      <td>9</td>\n",
              "      <td>27333.33000</td>\n",
              "    </tr>\n",
              "    <tr>\n",
              "      <th>595563</th>\n",
              "      <td>수삼</td>\n",
              "      <td>75.50000</td>\n",
              "      <td>2063667</td>\n",
              "      <td>충남 논산시</td>\n",
              "      <td>normal</td>\n",
              "      <td>2021-07-02</td>\n",
              "      <td>9</td>\n",
              "      <td>27333.34000</td>\n",
              "    </tr>\n",
              "    <tr>\n",
              "      <th>595564</th>\n",
              "      <td>수삼</td>\n",
              "      <td>73.00000</td>\n",
              "      <td>1995333</td>\n",
              "      <td>충남 논산시</td>\n",
              "      <td>normal</td>\n",
              "      <td>2021-07-02</td>\n",
              "      <td>9</td>\n",
              "      <td>27333.33000</td>\n",
              "    </tr>\n",
              "    <tr>\n",
              "      <th>595565</th>\n",
              "      <td>수삼</td>\n",
              "      <td>70.00000</td>\n",
              "      <td>1913333</td>\n",
              "      <td>충남 논산시</td>\n",
              "      <td>normal</td>\n",
              "      <td>2021-07-02</td>\n",
              "      <td>9</td>\n",
              "      <td>27333.33000</td>\n",
              "    </tr>\n",
              "    <tr>\n",
              "      <th>595566</th>\n",
              "      <td>수삼</td>\n",
              "      <td>69.00000</td>\n",
              "      <td>1886000</td>\n",
              "      <td>충남 논산시</td>\n",
              "      <td>normal</td>\n",
              "      <td>2021-07-02</td>\n",
              "      <td>9</td>\n",
              "      <td>27333.33000</td>\n",
              "    </tr>\n",
              "    <tr>\n",
              "      <th>595567</th>\n",
              "      <td>수삼</td>\n",
              "      <td>67.50000</td>\n",
              "      <td>1845000</td>\n",
              "      <td>충남 논산시</td>\n",
              "      <td>normal</td>\n",
              "      <td>2021-07-02</td>\n",
              "      <td>9</td>\n",
              "      <td>27333.33000</td>\n",
              "    </tr>\n",
              "    <tr>\n",
              "      <th>595568</th>\n",
              "      <td>수삼</td>\n",
              "      <td>85.50000</td>\n",
              "      <td>2337000</td>\n",
              "      <td>충남 논산시</td>\n",
              "      <td>normal</td>\n",
              "      <td>2021-07-02</td>\n",
              "      <td>9</td>\n",
              "      <td>27333.33000</td>\n",
              "    </tr>\n",
              "    <tr>\n",
              "      <th>595569</th>\n",
              "      <td>수삼</td>\n",
              "      <td>86.50000</td>\n",
              "      <td>2364333</td>\n",
              "      <td>충남 논산시</td>\n",
              "      <td>normal</td>\n",
              "      <td>2021-07-02</td>\n",
              "      <td>9</td>\n",
              "      <td>27333.33000</td>\n",
              "    </tr>\n",
              "    <tr>\n",
              "      <th>595570</th>\n",
              "      <td>수삼</td>\n",
              "      <td>88.00000</td>\n",
              "      <td>2405333</td>\n",
              "      <td>충남 논산시</td>\n",
              "      <td>normal</td>\n",
              "      <td>2021-07-02</td>\n",
              "      <td>9</td>\n",
              "      <td>27333.33000</td>\n",
              "    </tr>\n",
              "    <tr>\n",
              "      <th>595577</th>\n",
              "      <td>수삼</td>\n",
              "      <td>66.00000</td>\n",
              "      <td>1804000</td>\n",
              "      <td>충남 논산시</td>\n",
              "      <td>normal</td>\n",
              "      <td>2021-07-02</td>\n",
              "      <td>9</td>\n",
              "      <td>27333.33000</td>\n",
              "    </tr>\n",
              "    <tr>\n",
              "      <th>595580</th>\n",
              "      <td>수삼</td>\n",
              "      <td>83.50000</td>\n",
              "      <td>2282333</td>\n",
              "      <td>충남 논산시</td>\n",
              "      <td>normal</td>\n",
              "      <td>2021-07-12</td>\n",
              "      <td>9</td>\n",
              "      <td>27333.33000</td>\n",
              "    </tr>\n",
              "    <tr>\n",
              "      <th>595582</th>\n",
              "      <td>수삼</td>\n",
              "      <td>79.50000</td>\n",
              "      <td>2173000</td>\n",
              "      <td>충남 논산시</td>\n",
              "      <td>normal</td>\n",
              "      <td>2021-07-12</td>\n",
              "      <td>9</td>\n",
              "      <td>27333.33000</td>\n",
              "    </tr>\n",
              "    <tr>\n",
              "      <th>595583</th>\n",
              "      <td>수삼</td>\n",
              "      <td>79.00000</td>\n",
              "      <td>2159333</td>\n",
              "      <td>충남 논산시</td>\n",
              "      <td>normal</td>\n",
              "      <td>2021-07-12</td>\n",
              "      <td>9</td>\n",
              "      <td>27333.33000</td>\n",
              "    </tr>\n",
              "    <tr>\n",
              "      <th>595584</th>\n",
              "      <td>수삼</td>\n",
              "      <td>77.50000</td>\n",
              "      <td>2118333</td>\n",
              "      <td>충남 논산시</td>\n",
              "      <td>normal</td>\n",
              "      <td>2021-07-12</td>\n",
              "      <td>9</td>\n",
              "      <td>27333.33000</td>\n",
              "    </tr>\n",
              "    <tr>\n",
              "      <th>595585</th>\n",
              "      <td>수삼</td>\n",
              "      <td>77.00000</td>\n",
              "      <td>2104667</td>\n",
              "      <td>충남 논산시</td>\n",
              "      <td>normal</td>\n",
              "      <td>2021-07-12</td>\n",
              "      <td>9</td>\n",
              "      <td>27333.34000</td>\n",
              "    </tr>\n",
              "    <tr>\n",
              "      <th>595586</th>\n",
              "      <td>수삼</td>\n",
              "      <td>76.50000</td>\n",
              "      <td>2091000</td>\n",
              "      <td>충남 논산시</td>\n",
              "      <td>normal</td>\n",
              "      <td>2021-07-12</td>\n",
              "      <td>9</td>\n",
              "      <td>27333.33000</td>\n",
              "    </tr>\n",
              "    <tr>\n",
              "      <th>595587</th>\n",
              "      <td>수삼</td>\n",
              "      <td>72.00000</td>\n",
              "      <td>1968000</td>\n",
              "      <td>충남 논산시</td>\n",
              "      <td>normal</td>\n",
              "      <td>2021-07-12</td>\n",
              "      <td>9</td>\n",
              "      <td>27333.33000</td>\n",
              "    </tr>\n",
              "    <tr>\n",
              "      <th>595588</th>\n",
              "      <td>수삼</td>\n",
              "      <td>68.50000</td>\n",
              "      <td>1872333</td>\n",
              "      <td>충남 논산시</td>\n",
              "      <td>normal</td>\n",
              "      <td>2021-07-12</td>\n",
              "      <td>9</td>\n",
              "      <td>27333.33000</td>\n",
              "    </tr>\n",
              "    <tr>\n",
              "      <th>595589</th>\n",
              "      <td>수삼</td>\n",
              "      <td>68.00000</td>\n",
              "      <td>1858667</td>\n",
              "      <td>충남 논산시</td>\n",
              "      <td>normal</td>\n",
              "      <td>2021-07-12</td>\n",
              "      <td>9</td>\n",
              "      <td>27333.34000</td>\n",
              "    </tr>\n",
              "    <tr>\n",
              "      <th>595590</th>\n",
              "      <td>수삼</td>\n",
              "      <td>58.50000</td>\n",
              "      <td>1599000</td>\n",
              "      <td>충남 논산시</td>\n",
              "      <td>normal</td>\n",
              "      <td>2021-07-12</td>\n",
              "      <td>9</td>\n",
              "      <td>27333.33000</td>\n",
              "    </tr>\n",
              "    <tr>\n",
              "      <th>595594</th>\n",
              "      <td>수삼</td>\n",
              "      <td>80.50000</td>\n",
              "      <td>2200333</td>\n",
              "      <td>충남 논산시</td>\n",
              "      <td>normal</td>\n",
              "      <td>2021-07-12</td>\n",
              "      <td>9</td>\n",
              "      <td>27333.33000</td>\n",
              "    </tr>\n",
              "    <tr>\n",
              "      <th>595595</th>\n",
              "      <td>수삼</td>\n",
              "      <td>53.00000</td>\n",
              "      <td>1448667</td>\n",
              "      <td>충남 논산시</td>\n",
              "      <td>normal</td>\n",
              "      <td>2021-07-28</td>\n",
              "      <td>9</td>\n",
              "      <td>27333.34000</td>\n",
              "    </tr>\n",
              "  </tbody>\n",
              "</table>\n",
              "</div>"
            ],
            "text/plain": [
              "       prd    scale    price  origin     eco   reg_date  new_class    price_kg\n",
              "595514  수삼 78.00000  2080000  충남 논산시  normal 2021-07-28          1 26666.67000\n",
              "595515  수삼 70.50000  1880000  충남 논산시  normal 2021-07-28          1 26666.67000\n",
              "595517  수삼 72.00000  1920000  충남 논산시  normal 2021-07-28          1 26666.67000\n",
              "595519  수삼 67.00000  1786667  충남 논산시  normal 2021-07-28          1 26666.67000\n",
              "595520  수삼 72.50000  1933333  충남 논산시  normal 2021-07-28          1 26666.66000\n",
              "595521  수삼 59.00000  1573333  충남 논산시  normal 2021-07-28          3 26666.66000\n",
              "595523  수삼 82.00000  2186667  충남 논산시  normal 2021-07-28          3 26666.67000\n",
              "595526  수삼 74.00000  1973333  충남 논산시  normal 2021-07-28          3 26666.66000\n",
              "595527  수삼 58.00000  1546667  충남 논산시  normal 2021-07-28          3 26666.67000\n",
              "595528  수삼 76.00000  2026667  충남 논산시  normal 2021-07-28          3 26666.67000\n",
              "595529  수삼 66.50000  1773333  충남 논산시  normal 2021-07-28          3 26666.66000\n",
              "595530  수삼 59.50000  1586667  충남 논산시  normal 2021-07-28          3 26666.67000\n",
              "595531  수삼 67.00000  1786667  충남 논산시  normal 2021-07-28          3 26666.67000\n",
              "595532  수삼 67.50000  1800000  충남 논산시  normal 2021-07-28          3 26666.67000\n",
              "595535  수삼 62.00000  1653333  충남 논산시  normal 2021-07-28          3 26666.66000\n",
              "595536  수삼 68.50000  1826667  충남 논산시  normal 2021-07-28          3 26666.67000\n",
              "595542  수삼 62.00000  1694667  충남 논산시  normal 2021-07-02          9 27333.34000\n",
              "595543  수삼 58.50000  1599000  충남 논산시  normal 2021-07-02          9 27333.33000\n",
              "595544  수삼 52.50000  1435000  충남 논산시  normal 2021-07-02          9 27333.33000\n",
              "595546  수삼 51.50000  1407667  충남 논산시  normal 2021-07-02          9 27333.34000\n",
              "595547  수삼 51.00000  1394000  충남 논산시  normal 2021-07-02          9 27333.33000\n",
              "595555  수삼 79.50000  2173000  충남 논산시  normal 2021-07-02          9 27333.33000\n",
              "595556  수삼 80.00000  2186667  충남 논산시  normal 2021-07-02          9 27333.34000\n",
              "595557  수삼 80.50000  2200333  충남 논산시  normal 2021-07-02          9 27333.33000\n",
              "595558  수삼 81.00000  2214000  충남 논산시  normal 2021-07-02          9 27333.33000\n",
              "595559  수삼 83.00000  2268667  충남 논산시  normal 2021-07-02          9 27333.34000\n",
              "595560  수삼 78.00000  2132000  충남 논산시  normal 2021-07-02          9 27333.33000\n",
              "595561  수삼 77.00000  2104667  충남 논산시  normal 2021-07-02          9 27333.34000\n",
              "595562  수삼 76.00000  2077333  충남 논산시  normal 2021-07-02          9 27333.33000\n",
              "595563  수삼 75.50000  2063667  충남 논산시  normal 2021-07-02          9 27333.34000\n",
              "595564  수삼 73.00000  1995333  충남 논산시  normal 2021-07-02          9 27333.33000\n",
              "595565  수삼 70.00000  1913333  충남 논산시  normal 2021-07-02          9 27333.33000\n",
              "595566  수삼 69.00000  1886000  충남 논산시  normal 2021-07-02          9 27333.33000\n",
              "595567  수삼 67.50000  1845000  충남 논산시  normal 2021-07-02          9 27333.33000\n",
              "595568  수삼 85.50000  2337000  충남 논산시  normal 2021-07-02          9 27333.33000\n",
              "595569  수삼 86.50000  2364333  충남 논산시  normal 2021-07-02          9 27333.33000\n",
              "595570  수삼 88.00000  2405333  충남 논산시  normal 2021-07-02          9 27333.33000\n",
              "595577  수삼 66.00000  1804000  충남 논산시  normal 2021-07-02          9 27333.33000\n",
              "595580  수삼 83.50000  2282333  충남 논산시  normal 2021-07-12          9 27333.33000\n",
              "595582  수삼 79.50000  2173000  충남 논산시  normal 2021-07-12          9 27333.33000\n",
              "595583  수삼 79.00000  2159333  충남 논산시  normal 2021-07-12          9 27333.33000\n",
              "595584  수삼 77.50000  2118333  충남 논산시  normal 2021-07-12          9 27333.33000\n",
              "595585  수삼 77.00000  2104667  충남 논산시  normal 2021-07-12          9 27333.34000\n",
              "595586  수삼 76.50000  2091000  충남 논산시  normal 2021-07-12          9 27333.33000\n",
              "595587  수삼 72.00000  1968000  충남 논산시  normal 2021-07-12          9 27333.33000\n",
              "595588  수삼 68.50000  1872333  충남 논산시  normal 2021-07-12          9 27333.33000\n",
              "595589  수삼 68.00000  1858667  충남 논산시  normal 2021-07-12          9 27333.34000\n",
              "595590  수삼 58.50000  1599000  충남 논산시  normal 2021-07-12          9 27333.33000\n",
              "595594  수삼 80.50000  2200333  충남 논산시  normal 2021-07-12          9 27333.33000\n",
              "595595  수삼 53.00000  1448667  충남 논산시  normal 2021-07-28          9 27333.34000"
            ]
          },
          "execution_count": 121,
          "metadata": {},
          "output_type": "execute_result"
        }
      ],
      "source": [
        "df3[df3['scale']>=50]"
      ]
    },
    {
      "cell_type": "markdown",
      "metadata": {
        "id": "5I9D6wZCWDhi"
      },
      "source": [
        "### origin"
      ]
    },
    {
      "cell_type": "code",
      "execution_count": 122,
      "metadata": {
        "colab": {
          "base_uri": "https://localhost:8080/"
        },
        "id": "pI0Ezwn-VgXP",
        "outputId": "8d8f9387-01cb-4c3a-a3c9-e521b970aafb"
      },
      "outputs": [
        {
          "data": {
            "text/plain": [
              "array(['전북 고창군', '전북', '충남', '충북 진천군', '경기', '경기 양평군', '경기 용인시', '경남 의령군',\n",
              "       '전남 광양시', '경남 진주시', '충남 부여군', '경남 밀양시', '경남 함양군', '경남 함안군',\n",
              "       '충북 음성군', '경북 고령군', '경북 영양군', '전북 부안군', '경북 성주군', '충남 논산시',\n",
              "       '대전 중구', '충남 홍성군', '경북 안동시', '경남', '충북', '경기도 양평군', '광주 광산구',\n",
              "       '충남 공주시', '전남 강진군', '제주 제주시', '경북 칠곡군', '충남 서천군', '대구',\n",
              "       '충남 부여군 세도면', '강원 춘천시', '경북 경산시', '경기 여주시', '경기 여주군', '강원 홍천군',\n",
              "       '전남 곡성군', '충남 예산군', '대구시 달성군', '인천시 강화군', '대구 달성군', '충북 청주시 상당구',\n",
              "       '인천', '전북 익산시', '경기 양평군 양동면', '경기 평택시', '경북 봉화군', '충남 논산시 양촌면',\n",
              "       '인천 강화군', '충남 청양군', '강원 양구군', '경북 예천군', '충북 단양군', '충남 당진시',\n",
              "       '전남 담양군', '경북', '경북 봉화군 재산면', '경북 영주시', '충남 보령시', '경기도 용인시',\n",
              "       '경남 하동군', '제주 서귀포시', '경남 고성군', '경남 합천군', '강원 철원군', '경북 영주시 봉현면',\n",
              "       '전남', '전남 함평군', '서울 송파구', '강원', '강원도 양구군', '전북 장수군', '경기 연천군',\n",
              "       '경기 포천시', '전남 나주시', '충남 서산시', '충북 단양군 어상천면', '경남 합천군 가야면',\n",
              "       '부산 강서구', '강원도 철원군', '제주도 제주시', '대구 동구', '경북 경산시 남산면', '제주 북제주군',\n",
              "       '중국', '서울 은평구', '성남시 분당구', '성남시 중원구', '경기도 고양시', '경기도 광명시',\n",
              "       '경기도 파주시', '인천시 계양구', '경기 이천시', '경기 하남시', '경기 광주시', '경기 구리시',\n",
              "       '경기 남양주시', '경기 안성시', '경기 성남시', '충북 충주시', '경기 가평군', '경기 고양시',\n",
              "       '서울시 은평구', '경기 양주시', '경기 고양시일산구', '경기 고양시덕양구', '경기 고양시 덕양구',\n",
              "       '경기 파주시', '강원 평창군', '서울 강동구', '경기 광명시', '인천 남구', '경기 김포시',\n",
              "       '경기 의정부시', '경기도 김포시', '강원 횡성군', '강원도 횡성군', '서울시 강서구', '경기 화성시',\n",
              "       '전북 남원시', '경기도 남양주시', '서울 양천구', '서울시 양천구', '서울 도봉구', '서울 강서구',\n",
              "       '서울 중랑구', '경기도 시흥시', '인천 계양구', '경기 의정부', '세종 세종시', '세종', '페루',\n",
              "       '필리핀', '미국', '수입산 페루', '수입산 미국', '멕시코', '콜롬비아', '태국', '뉴질랜드',\n",
              "       '경북 김천시', '강원 화천군', '강원 인제군', '전남 화순군', '강원 정선군', '강원 삼척시',\n",
              "       '강원 원주시', '충북 청주시', '전남 무안군', '광주 서구', '전남 진도군', '충북 제천시',\n",
              "       '충북 괴산군', '충북청주시상당구', '전남 해남군', '경남 창녕군', '경북 포항시북구', '전북 순창군',\n",
              "       '충북 충주시 가금면', '경북 포항시남구', '충남 당진시 신평면', '충남 태안군', '경북 청송군',\n",
              "       '충북 옥천군', '강원 강릉시', '전남 영광군', '강원 강릉시 강동면', '강원 정선군 임계면',\n",
              "       '강원도 평창군', '강원도 강릉시', '광주시 서구', '수입산 중국', '전남 영암군', '경기도 광주군',\n",
              "       '강원 태백시', '강원도 태백시', '전북 김제시', '서울 동대문구', '충남 금산군', '경기 의왕시',\n",
              "       '경기 시흥시', '경기 안산시', '경기 동두천시', '전남 고흥군', '경남 김해시', '경북 영천시',\n",
              "       '전남 신안군', '경북/문경시', '전북 완주군', '경기도 평택시', '경북 상주시', '경북 군위군',\n",
              "       '경북/상주시', '경북 영주시 단산면', '전북 임실군', '경남 산청군', '전북 정읍시', '서울 중구',\n",
              "       '경북 문경시', '경북/구미시', '충남 서산시 고북면', '서울시 송파구', '전남/무안군', '광주시 남구',\n",
              "       '강원도 인제군', '강원도 홍천군', '경기도 여주군', '경기도 동두천시', '강원도 정선군', '호주',\n",
              "       '수입산 호주', '오스트레일리아', '오스트레일', '기타외국', '경남 사천시', '충남 아산시',\n",
              "       '경기 포천시 영북면', '충남 천안시 동남구', '경기 양주시 백석읍', '충남 천안시', '경기도 안성시',\n",
              "       '경기도 양주군', '경기도 포천군', '충북 청원군', '대전 서구', '강원 철원군 김화읍', '경기 오산시',\n",
              "       '전남 구례군', '전주시 완산구', '전라북도 전주시', '경기 양주군', '충북 진천군 진천읍',\n",
              "       '경기 가평군 북면', '충남 부여군 임천면', '충남 예산군 대흥면', '경기 여주시 가남면', '인천 부평구',\n",
              "       '충북 보은군', '경기 안성시 양성면', '전북 진안군', '경기 이천시 대월면', '충남 천안시 광덕면',\n",
              "       '경기 안성시 금광면', '경기도 부천시', '강원 춘천시 남산면', '전남 보성군', '경남 남해군',\n",
              "       '전남 여수시', '청주시 청원구', '전남 나주시 공산면', '전남 나주시 동강면', '전남 완도군',\n",
              "       '전남 순천시', '제주', '경기 여주시 대신면', '전남 보성군 득량면', '전남 장흥군', '전남 영암군 삼호읍',\n",
              "       '경기 동두천시 동두천', '충북 증평군', '전남 목포시', '강원 영월군', '경남 진주시 금곡면',\n",
              "       '전북 김제시 광활면', '강원 고성군', '경북 의성군', '청주시 상당구', '충북 영동군', '경북 청도군',\n",
              "       '경북 경주시', '경북 구미시', '대구 북구', '충북 충주시 노은면', '경남 창원시', '경기 이천시 설성면',\n",
              "       '남아프리카공화국', '수입산 남아공산', '남아프리카', '베트남', '칠레', '충남 아산시 도고면',\n",
              "       '충남 아산시 신창면', '경기 포천군', '경기 용인시 모현면', '충남 논산시 가야곡면', '전남 고흥군 도화면',\n",
              "       '경기도 하남시', '경기 남양주', '서울', '광주 북구', '대전시 대덕구', '경기 평택시 진위면',\n",
              "       '강원 속초시', '부산 사상구', '경기 수원시', '광주시 광산구', '부산 부산진구', '경기도 화성군',\n",
              "       '제주 서귀포', '부산', '경남 마산시', '부산 북구', '서울특별시 동대문구', '서울 영등포', '서울특별시',\n",
              "       '경기 고양시 일산동구', '서울 구로구', '수입산 필리핀', '수입산 인도네시아', '인도네시아', '타이',\n",
              "       '인천광역시 남구', '인천 옹진군', '인천시 부평구', '인천광역시', '인천 미추홀', '경기 안양시',\n",
              "       '대전 동구', '대전 유성구', '수입산 칠레', '충북 영동군 황간면', '충남 논산시 노성면',\n",
              "       '전북 남원시 금지면', '제주도 서귀포시', '경기도 안산시', '충북 영동군 양산면', '전라북도 남원시',\n",
              "       '경기 화성시 송산면', '경북 김천시 감문면', '가락동', '수입산 멕시코', '충청남도 논산시',\n",
              "       '강원 홍천군 남면', '전라남도 나주시', '충남 천안시 서북구', '경기 의왕시 초평로 1', '경상남도 창원시',\n",
              "       '광주 남구', '경남 밀양시 단장면', '광주', '강원도 화천군', '강원 횡성군 안흥면', '강원 정선군 화암면',\n",
              "       '경기 김포시 고촌읍', '강원 삼척시 가곡면', '서울시 도봉구', '경남 밀양시 무안면', '강원 홍천군 내촌면',\n",
              "       '경기 성남시수정구', '경기 여주시 북내면', '경남 거창군', '전북 전주시', '인천 미추홀구', '인천 남동구',\n",
              "       '수입산 뉴질랜드', '경기도 연천군', '충북 청주시흥덕구', '부산시 강서구', '제주 북제주', '대전 대덕구',\n",
              "       '제주 남제주군', '경기 양주시 광적면', '부산 중구', '경북 영주시 장수면', '전남 영암군 시종면',\n",
              "       '부산 동구', '경남 산청군 신안면', '부산광역시 강서구', '전남 신안군 안좌면', '전남 여수시 남면',\n",
              "       '충북 청주시 없음', '충남 서천군 문산면', '광주 광주', '충남 논산시 연무읍', '경기 안성시 고삼면',\n",
              "       '경남 창원시 의창구', '충남 논산시 광석면', '경남 거제시', '경기 안성시 일죽면', '제주 서귀포시(2)',\n",
              "       '전북 익산시 금마면', '강원 양구군 해안면', '충남 서산시 대산읍', '충남 태안군 남면',\n",
              "       '경기 가평군 가평읍', '경기 평택시 고덕면', '전남 나주시 산포면', '충남 공주시 계룡면',\n",
              "       '전북 익산시 여산면', '경기 부천시', '경기 동두천', '경기 용인시 처인구', '경북 영덕군',\n",
              "       '수입산 베트남', '울산 북구', '경남 김해시 대동면', '경기 이천시 율면', '충남 홍성군 광천읍',\n",
              "       '서울 강남구', '경기 안성시 보개면', '경기 미금시', '경기 남양주시 진건읍', '경기 남양주시 조안면',\n",
              "       '경기 남양주시 와부읍', '충남 논산시 상월면', '경기 화성시 태안읍', '강원 홍천군 내면',\n",
              "       '경기 양평군 지제면', '경북 울진군 온정면', '경남 양산시', '부산 기장군', '경기고양시일산구',\n",
              "       '전북전주시완산구', '경기 안성시 공도읍', '경기 고양시 일산', '경기도 오산시', '전북 무주군',\n",
              "       '인천 중구', '대만', '수입산 태국', '수입산 대만', '브라질', '충북 음성군 금왕읍',\n",
              "       '전남 곡성군 고달면', '경북 경주시 감포읍', '경북 구미시 고아읍', '전남 곡성군 겸면',\n",
              "       '경북 의성군 옥산면', '전라남도 곡성군', '강원도 춘천시', '충남 부여군 규암면', '충북 진천군 덕산면',\n",
              "       '경북 안동시 길안면', '충북 음성군 감곡면', '강원도 영월군', '강원 평창군 진부면', '포항시 북구',\n",
              "       '부천시 오정구', '인천 서구', '경기 부천시오정구', '전남 나주시 노안면', '과테말라', '코스타리카',\n",
              "       '에쿠아도르', '에콰돌', '수입산 에콰도르', '수입산 코스타리카', '수입산 콜롬비아', '수입산 과테말라',\n",
              "       '에콰도르', '전북 익산시 망성면', '인천시 남동구', '경남 합천군 봉산면', '경기 안성시 서운면',\n",
              "       '경북 울진군', '강원도 삼척시', '강원 강릉시 왕산면', '강원 평창군 대관령면', '강원 태백시 황지동',\n",
              "       '강원 평창군 용평면', '강원도 평창', '강원 양양군', '세종시', '청주시 흥덕구', '전북 군산시',\n",
              "       '강원 동해시', '전남 장성군', '전남 순천시 낙안면', '경북 문경시 가은읍', '전라북도 남',\n",
              "       '충북 충주시 금가면', '경기도 이천시', '부산 영도구', '경기 화성시 서신면', '경기 화성시 장안면',\n",
              "       '경기 화성시 봉담읍', '경기 화성시 팔탄면', '충북 영동군 학산면', '전라북도 순창군', '충남 당진시 고대면',\n",
              "       '충남 당진시 석문면', '경기 화성시 동탄면', '충북 영동군 매곡면', '경남 사천시 곤명면', '경북 포항시',\n",
              "       '경북 영천시 화남면', '경북 의성군 금성면', '대구시 동구', '대구시 중구', '경북 영주시 부석면',\n",
              "       '전라북도 익산시', '충남 계룡시', '충남 논산시 성동면', '전라북도 익', '서울 용산구',\n",
              "       '경북 김천시 조마면', '경기 양주시 장흥면', '전북 정읍시 감곡면', '국내산', '수입 노르웨이',\n",
              "       '수입 중국', '수입 영국', '경남 마산(고성,진해)', '경남 통영', '수입 기타', '수입 페루',\n",
              "       '수입 아르헨티나', '충남 태안', '충남 장항(서천)', '수입 칠레', '수입 인도네시아', '전북 군산',\n",
              "       '수입 베트남', '수입 러시아', '경기 강화', '경기 화성(평택)', '경기 인천', '전남 순천(광양)',\n",
              "       '전남 여수', '충남 서산', '경남 삼천포', '전북 부안', '경남 남해', '수입 미국', '제주 제주도',\n",
              "       '수입 세네갈', '수입 말레이지아', '수입 인도', '수입 에콰도르', '수입 캐나다'], dtype=object)"
            ]
          },
          "execution_count": 122,
          "metadata": {},
          "output_type": "execute_result"
        }
      ],
      "source": [
        "# 도,시, 국산, 수입 표기 분류 필요\n",
        "df3['origin'].unique()"
      ]
    },
    {
      "cell_type": "code",
      "execution_count": 123,
      "metadata": {
        "colab": {
          "base_uri": "https://localhost:8080/",
          "height": 423
        },
        "id": "rvX1g3c_Ll2C",
        "outputId": "56330691-579b-46aa-b24a-046112748253"
      },
      "outputs": [
        {
          "data": {
            "text/html": [
              "<div>\n",
              "<style scoped>\n",
              "    .dataframe tbody tr th:only-of-type {\n",
              "        vertical-align: middle;\n",
              "    }\n",
              "\n",
              "    .dataframe tbody tr th {\n",
              "        vertical-align: top;\n",
              "    }\n",
              "\n",
              "    .dataframe thead th {\n",
              "        text-align: right;\n",
              "    }\n",
              "</style>\n",
              "<table border=\"1\" class=\"dataframe\">\n",
              "  <thead>\n",
              "    <tr style=\"text-align: right;\">\n",
              "      <th></th>\n",
              "      <th>prd</th>\n",
              "      <th>scale</th>\n",
              "      <th>price</th>\n",
              "      <th>origin</th>\n",
              "      <th>eco</th>\n",
              "      <th>reg_date</th>\n",
              "      <th>new_class</th>\n",
              "      <th>price_kg</th>\n",
              "      <th>0</th>\n",
              "      <th>1</th>\n",
              "      <th>2</th>\n",
              "      <th>3</th>\n",
              "    </tr>\n",
              "  </thead>\n",
              "  <tbody>\n",
              "    <tr>\n",
              "      <th>0</th>\n",
              "      <td>수박</td>\n",
              "      <td>8.00000</td>\n",
              "      <td>9300</td>\n",
              "      <td>전북 고창군</td>\n",
              "      <td>normal</td>\n",
              "      <td>2021-06-30</td>\n",
              "      <td>1</td>\n",
              "      <td>1162.50000</td>\n",
              "      <td>전북</td>\n",
              "      <td>고창군</td>\n",
              "      <td>NaN</td>\n",
              "      <td>NaN</td>\n",
              "    </tr>\n",
              "    <tr>\n",
              "      <th>1</th>\n",
              "      <td>수박</td>\n",
              "      <td>7.00000</td>\n",
              "      <td>8200</td>\n",
              "      <td>전북 고창군</td>\n",
              "      <td>normal</td>\n",
              "      <td>2021-06-30</td>\n",
              "      <td>1</td>\n",
              "      <td>1171.43000</td>\n",
              "      <td>전북</td>\n",
              "      <td>고창군</td>\n",
              "      <td>NaN</td>\n",
              "      <td>NaN</td>\n",
              "    </tr>\n",
              "    <tr>\n",
              "      <th>2</th>\n",
              "      <td>수박</td>\n",
              "      <td>7.00000</td>\n",
              "      <td>8000</td>\n",
              "      <td>전북 고창군</td>\n",
              "      <td>normal</td>\n",
              "      <td>2021-06-30</td>\n",
              "      <td>1</td>\n",
              "      <td>1142.86000</td>\n",
              "      <td>전북</td>\n",
              "      <td>고창군</td>\n",
              "      <td>NaN</td>\n",
              "      <td>NaN</td>\n",
              "    </tr>\n",
              "    <tr>\n",
              "      <th>3</th>\n",
              "      <td>수박</td>\n",
              "      <td>7.00000</td>\n",
              "      <td>7700</td>\n",
              "      <td>전북 고창군</td>\n",
              "      <td>normal</td>\n",
              "      <td>2021-06-30</td>\n",
              "      <td>1</td>\n",
              "      <td>1100.00000</td>\n",
              "      <td>전북</td>\n",
              "      <td>고창군</td>\n",
              "      <td>NaN</td>\n",
              "      <td>NaN</td>\n",
              "    </tr>\n",
              "    <tr>\n",
              "      <th>4</th>\n",
              "      <td>수박</td>\n",
              "      <td>6.00000</td>\n",
              "      <td>6900</td>\n",
              "      <td>전북 고창군</td>\n",
              "      <td>normal</td>\n",
              "      <td>2021-06-30</td>\n",
              "      <td>1</td>\n",
              "      <td>1150.00000</td>\n",
              "      <td>전북</td>\n",
              "      <td>고창군</td>\n",
              "      <td>NaN</td>\n",
              "      <td>NaN</td>\n",
              "    </tr>\n",
              "    <tr>\n",
              "      <th>...</th>\n",
              "      <td>...</td>\n",
              "      <td>...</td>\n",
              "      <td>...</td>\n",
              "      <td>...</td>\n",
              "      <td>...</td>\n",
              "      <td>...</td>\n",
              "      <td>...</td>\n",
              "      <td>...</td>\n",
              "      <td>...</td>\n",
              "      <td>...</td>\n",
              "      <td>...</td>\n",
              "      <td>...</td>\n",
              "    </tr>\n",
              "    <tr>\n",
              "      <th>600336</th>\n",
              "      <td>소라</td>\n",
              "      <td>10.00000</td>\n",
              "      <td>35000</td>\n",
              "      <td>국내산</td>\n",
              "      <td>normal</td>\n",
              "      <td>2021-07-29</td>\n",
              "      <td>3</td>\n",
              "      <td>3500.00000</td>\n",
              "      <td>국내산</td>\n",
              "      <td>NaN</td>\n",
              "      <td>NaN</td>\n",
              "      <td>NaN</td>\n",
              "    </tr>\n",
              "    <tr>\n",
              "      <th>600337</th>\n",
              "      <td>소라</td>\n",
              "      <td>10.00000</td>\n",
              "      <td>100000</td>\n",
              "      <td>국내산</td>\n",
              "      <td>normal</td>\n",
              "      <td>2021-07-29</td>\n",
              "      <td>3</td>\n",
              "      <td>10000.00000</td>\n",
              "      <td>국내산</td>\n",
              "      <td>NaN</td>\n",
              "      <td>NaN</td>\n",
              "      <td>NaN</td>\n",
              "    </tr>\n",
              "    <tr>\n",
              "      <th>600338</th>\n",
              "      <td>소라</td>\n",
              "      <td>10.00000</td>\n",
              "      <td>50000</td>\n",
              "      <td>국내산</td>\n",
              "      <td>normal</td>\n",
              "      <td>2021-07-30</td>\n",
              "      <td>3</td>\n",
              "      <td>5000.00000</td>\n",
              "      <td>국내산</td>\n",
              "      <td>NaN</td>\n",
              "      <td>NaN</td>\n",
              "      <td>NaN</td>\n",
              "    </tr>\n",
              "    <tr>\n",
              "      <th>600339</th>\n",
              "      <td>소라</td>\n",
              "      <td>10.00000</td>\n",
              "      <td>70000</td>\n",
              "      <td>국내산</td>\n",
              "      <td>normal</td>\n",
              "      <td>2021-07-30</td>\n",
              "      <td>3</td>\n",
              "      <td>7000.00000</td>\n",
              "      <td>국내산</td>\n",
              "      <td>NaN</td>\n",
              "      <td>NaN</td>\n",
              "      <td>NaN</td>\n",
              "    </tr>\n",
              "    <tr>\n",
              "      <th>600340</th>\n",
              "      <td>소라</td>\n",
              "      <td>10.00000</td>\n",
              "      <td>55000</td>\n",
              "      <td>국내산</td>\n",
              "      <td>normal</td>\n",
              "      <td>2021-07-30</td>\n",
              "      <td>3</td>\n",
              "      <td>5500.00000</td>\n",
              "      <td>국내산</td>\n",
              "      <td>NaN</td>\n",
              "      <td>NaN</td>\n",
              "      <td>NaN</td>\n",
              "    </tr>\n",
              "  </tbody>\n",
              "</table>\n",
              "<p>600300 rows × 12 columns</p>\n",
              "</div>"
            ],
            "text/plain": [
              "       prd    scale   price  origin     eco   reg_date  new_class    price_kg  \\\n",
              "0       수박  8.00000    9300  전북 고창군  normal 2021-06-30          1  1162.50000   \n",
              "1       수박  7.00000    8200  전북 고창군  normal 2021-06-30          1  1171.43000   \n",
              "2       수박  7.00000    8000  전북 고창군  normal 2021-06-30          1  1142.86000   \n",
              "3       수박  7.00000    7700  전북 고창군  normal 2021-06-30          1  1100.00000   \n",
              "4       수박  6.00000    6900  전북 고창군  normal 2021-06-30          1  1150.00000   \n",
              "...     ..      ...     ...     ...     ...        ...        ...         ...   \n",
              "600336  소라 10.00000   35000     국내산  normal 2021-07-29          3  3500.00000   \n",
              "600337  소라 10.00000  100000     국내산  normal 2021-07-29          3 10000.00000   \n",
              "600338  소라 10.00000   50000     국내산  normal 2021-07-30          3  5000.00000   \n",
              "600339  소라 10.00000   70000     국내산  normal 2021-07-30          3  7000.00000   \n",
              "600340  소라 10.00000   55000     국내산  normal 2021-07-30          3  5500.00000   \n",
              "\n",
              "          0    1    2    3  \n",
              "0        전북  고창군  NaN  NaN  \n",
              "1        전북  고창군  NaN  NaN  \n",
              "2        전북  고창군  NaN  NaN  \n",
              "3        전북  고창군  NaN  NaN  \n",
              "4        전북  고창군  NaN  NaN  \n",
              "...     ...  ...  ...  ...  \n",
              "600336  국내산  NaN  NaN  NaN  \n",
              "600337  국내산  NaN  NaN  NaN  \n",
              "600338  국내산  NaN  NaN  NaN  \n",
              "600339  국내산  NaN  NaN  NaN  \n",
              "600340  국내산  NaN  NaN  NaN  \n",
              "\n",
              "[600300 rows x 12 columns]"
            ]
          },
          "execution_count": 123,
          "metadata": {},
          "output_type": "execute_result"
        }
      ],
      "source": [
        "# 해당 조건에 맞는 값 추출\n",
        "\n",
        "splits = df3['origin'].str.split(' ')\n",
        "cacul = splits.apply(lambda x: pd.Series(x))\n",
        "df66 = pd.merge(df3,cacul, left_index=True, right_index=True, how='inner')\n",
        "df66"
      ]
    },
    {
      "cell_type": "code",
      "execution_count": 124,
      "metadata": {
        "id": "NVkmVZ7ip9-N"
      },
      "outputs": [],
      "source": [
        "# 세부 카테고리 정리 (state, city 편집 시 여기서 시작)\n",
        "\n",
        "df4 = df66.rename(columns = {0:'state',1:'city'})\n",
        "\n",
        "# 2,3은 필요없는 정보이므로 삭제\n",
        "df4 = df4.drop(columns=[2,3])"
      ]
    },
    {
      "cell_type": "code",
      "execution_count": 125,
      "metadata": {
        "colab": {
          "base_uri": "https://localhost:8080/"
        },
        "id": "JcsSUlI_27J3",
        "outputId": "817067e6-2645-4c9c-c86f-047b1471bb9b"
      },
      "outputs": [
        {
          "data": {
            "text/plain": [
              "array(['전북', '충남', '충북', '경기', '경남', '전남', '경북', '대전', '경기도', '광주', '제주',\n",
              "       '대구', '강원', '대구시', '인천시', '인천', '서울', '강원도', '부산', '제주도', '중국',\n",
              "       '성남시', '서울시', '세종', '페루', '필리핀', '미국', '수입산', '멕시코', '콜롬비아', '태국',\n",
              "       '뉴질랜드', '충북청주시상당구', '광주시', '경북/문경시', '경북/상주시', '경북/구미시', '전남/무안군',\n",
              "       '호주', '오스트레일리아', '오스트레일', '기타외국', '전주시', '전라북도', '청주시', '남아프리카공화국',\n",
              "       '남아프리카', '베트남', '칠레', '대전시', '서울특별시', '인도네시아', '타이', '인천광역시',\n",
              "       '가락동', '충청남도', '전라남도', '경상남도', '부산시', '부산광역시', '울산', '경기고양시일산구',\n",
              "       '전북전주시완산구', '대만', '브라질', '포항시', '부천시', '과테말라', '코스타리카', '에쿠아도르',\n",
              "       '에콰돌', '에콰도르', '세종시', '국내산', '수입'], dtype=object)"
            ]
          },
          "execution_count": 125,
          "metadata": {},
          "output_type": "execute_result"
        }
      ],
      "source": [
        "df4['state'].unique()"
      ]
    },
    {
      "cell_type": "code",
      "execution_count": 126,
      "metadata": {
        "id": "SsvDFEbgqQjD"
      },
      "outputs": [],
      "source": [
        "# 시,도 제거\n",
        "def name_sort(words):\n",
        "  p = re.compile('[^시도]+')\n",
        "  word = re.search(p,str(words))\n",
        "  return word.group()\n",
        "\n",
        "df4[\"state\"] = df4[\"state\"].apply(name_sort)\n",
        "\n",
        "# 오타도 제거\n",
        "\n",
        "def name_sort2(words):\n",
        "  p = re.compile('[^\\t]+')\n",
        "  word = re.search(p,words)\n",
        "  return word.group()\n",
        "\n",
        "df4[\"state\"] = df4[\"state\"].apply(name_sort2)"
      ]
    },
    {
      "cell_type": "code",
      "execution_count": 127,
      "metadata": {
        "colab": {
          "base_uri": "https://localhost:8080/"
        },
        "id": "JeybBf_fqhqh",
        "outputId": "b5542367-86fe-4c6e-deab-f28f7d1ce6f5"
      },
      "outputs": [
        {
          "data": {
            "text/plain": [
              "array(['전북', '충남', '충북', '경기', '경남', '전남', '경북', '대전', '광주', '제주', '대구',\n",
              "       '강원', '인천', '서울', '부산', '중국', '성남', '세종', '페루', '필리핀', '미국', '수입산',\n",
              "       '멕', '콜롬비아', '태국', '뉴질랜드', '충북청주', '경북/문경', '경북/상주', '경북/구미',\n",
              "       '전남/무안군', '호주', '오스트레일리아', '오스트레일', '기타외국', '전주', '전라북', '청주',\n",
              "       '남아프리카공화국', '남아프리카', '베트남', '칠레', '서울특별', '인', '타이', '인천광역', '가락동',\n",
              "       '충청남', '전라남', '경상남', '부산광역', '울산', '경기고양', '전북전주', '대만', '브라질',\n",
              "       '포항', '부천', '과테말라', '코스타리카', '에쿠아', '에콰돌', '에콰', '국내산', '수입'],\n",
              "      dtype=object)"
            ]
          },
          "execution_count": 127,
          "metadata": {},
          "output_type": "execute_result"
        }
      ],
      "source": [
        "df4[\"state\"].unique()"
      ]
    },
    {
      "cell_type": "code",
      "execution_count": 131,
      "metadata": {
        "id": "FDUnVy0e1br6"
      },
      "outputs": [],
      "source": [
        "# state\n",
        "# 특이케이스 제거\n",
        "\n",
        "# 국내\n",
        "df4.loc[df4[\"state\"]==\"국내산\",\"city\"] = \"미상\"\n",
        "df4.loc[df4[\"state\"]==\"국내산\",\"state\"] = \"국산\"\n",
        "df4.loc[df4[\"state\"]==\"원양산\",\"city\"] = \"미상\"\n",
        "\n",
        "## 도단위\n",
        "df4.loc[df4[\"state\"]==\"충청북\",\"state\"] = \"충북\"\n",
        "df4.loc[df4[\"state\"]==\"충청남\",\"state\"] = \"충남\"\n",
        "df4.loc[df4[\"state\"]==\"전라북\",\"state\"] = \"전북\"\n",
        "df4.loc[df4[\"state\"]==\"전라남\",\"state\"] = \"전남\"\n",
        "df4.loc[df4[\"state\"]==\"경상북\",\"state\"] = \"경북\"\n",
        "df4.loc[df4[\"state\"]==\"경상남\",\"state\"] = \"경남\"\n",
        "\n",
        "## 시단위\n",
        "### 광역시\n",
        "\n",
        "df4.loc[df4[\"state\"]==\"대전\",\"city\"] = \"대전\"\n",
        "df4.loc[df4[\"state\"]==\"대구\",\"city\"] = \"대구\"\n",
        "df4.loc[df4[\"state\"]==\"서울특별\",\"city\"] = \"서울\"\n",
        "df4.loc[df4[\"state\"]==\"서울특별\",\"state\"] = \"서울\"\n",
        "df4.loc[df4[\"state\"]==\"인천광역\",\"city\"] = \"인천\"\n",
        "df4.loc[df4[\"state\"]==\"인천광역\",\"state\"] = \"인천\"\n",
        "df4.loc[df4[\"state\"]==\"부산\",\"city\"] = \"부산\"\n",
        "df4.loc[df4[\"state\"]==\"부산광역\",\"city\"] = \"부산\"\n",
        "df4.loc[df4[\"state\"]==\"부산광역\",\"state\"] = \"부산\"\n",
        "df4.loc[df4[\"state\"]==\"가락동\",\"city\"] = \"서울\"\n",
        "df4.loc[df4[\"state\"]==\"가락동\",\"state\"] = \"서울\"\n",
        "df4.loc[df4[\"state\"]==\"세종\",\"city\"] = \"세종\"\n",
        "df4.loc[df4[\"state\"]==\"대전\",\"city\"] = \"대전\"\n",
        "df4.loc[df4[\"state\"]==\"제주\",\"city\"] = \"제주\"\n",
        "df4.loc[df4[\"state\"]==\"제주특별자치\",\"city\"] = \"제주\"\n",
        "df4.loc[df4[\"state\"]==\"제주특별자치\",\"state\"] = \"제주\"\n",
        "df4.loc[df4[\"state\"]==\"제주특별자\",\"city\"] = \"제주\"\n",
        "df4.loc[df4[\"state\"]==\"제주특별자\",\"state\"] = \"제주\"\n",
        "df4.loc[df4[\"state\"]==\"제주/서귀포\",\"city\"] = \"제주\"\n",
        "df4.loc[df4[\"state\"]==\"제주/서귀포\",\"state\"] = \"제주\"\n",
        "df4.loc[df4[\"state\"]==\"세종\",\"city\"] = \"세종\"\n",
        "df4.loc[df4[\"state\"]==\"울산\",\"city\"] = \"울산\"\n",
        "df4.loc[df4[\"state\"]==\"울산\",\"state\"] = \"울산\"\n",
        "\n",
        "### 일반시\n",
        "df4.loc[df4[\"state\"]==\"성남\",\"city\"] = \"성남\"\n",
        "df4.loc[df4[\"state\"]==\"성남\",\"state\"] = \"경기\"\n",
        "df4.loc[df4[\"state\"]==\"전주\",\"city\"] = \"전주\"\n",
        "df4.loc[df4[\"state\"]==\"전주\",\"state\"] = \"전북\"\n",
        "df4.loc[df4[\"state\"]==\"청주\",\"city\"] = \"청주\"\n",
        "df4.loc[df4[\"state\"]==\"청주\",\"state\"] = \"충북\"\n",
        "df4.loc[df4[\"state\"]==\"수원\",\"city\"] = \"수원\"\n",
        "df4.loc[df4[\"state\"]==\"수원\",\"state\"] = \"경기\"\n",
        "df4.loc[df4[\"state\"]==\"부천\",\"city\"] = \"부천\"\n",
        "df4.loc[df4[\"state\"]==\"부천\",\"state\"] = \"경기\"\n",
        "df4.loc[df4[\"state\"]==\"경기고양\",\"city\"] = \"고양\"\n",
        "df4.loc[df4[\"state\"]==\"경기고양\",\"state\"] = \"경기\"\n",
        "df4.loc[df4[\"state\"]==\"충북청주\",\"city\"] = \"청주\"\n",
        "df4.loc[df4[\"state\"]==\"충북청주\",\"state\"] = \"충북\"\n",
        "df4.loc[df4[\"state\"]==\"전북전주\",\"city\"] = \"전주\"\n",
        "df4.loc[df4[\"state\"]==\"전북전주\",\"state\"] = \"전북\"\n",
        "df4.loc[df4[\"state\"]==\"경북/문경\",\"city\"] = \"문경\"\n",
        "df4.loc[df4[\"state\"]==\"경북/문경\",\"state\"] = \"경북\"\n",
        "df4.loc[df4[\"state\"]==\"포항\",\"city\"] = \"포항\"\n",
        "df4.loc[df4[\"state\"]==\"포항\",\"state\"] = \"경북\"\n",
        "df4.loc[df4[\"state\"]==\"경북/안동\",\"city\"] = \"안동\"\n",
        "df4.loc[df4[\"state\"]==\"경북/안동\",\"state\"] = \"경북\"\n",
        "df4.loc[df4[\"state\"]==\"전남/무안군\",\"city\"] = \"전남\"\n",
        "df4.loc[df4[\"state\"]==\"전남/무안군\",\"state\"] = \"무안\"\n",
        "df4.loc[df4[\"state\"]==\"경북/구미\",\"city\"] = \"구미\"\n",
        "df4.loc[df4[\"state\"]==\"경북/구미\",\"state\"] = \"경북\"\n",
        "df4.loc[df4[\"state\"]==\"경북/상주\",\"city\"] = \"상주\"\n",
        "df4.loc[df4[\"state\"]==\"경북/상주\",\"state\"] = \"경북\"\n",
        "df4.loc[df4[\"state\"]==\"무안\",\"state\"] = \"전남\"\n",
        "\n",
        "\n",
        "# 외국\n",
        "## 아시아\n",
        "df4.loc[df4[\"state\"]==\"칠레\",\"city\"] = \"칠레\"\n",
        "df4.loc[df4[\"state\"]==\"칠레\",\"state\"] = \"수입\"\n",
        "df4.loc[df4[\"state\"]==\"일본\",\"city\"] = \"일본\"\n",
        "df4.loc[df4[\"state\"]==\"일본\",\"state\"] = \"수입\"\n",
        "df4.loc[df4[\"state\"]==\"베트남\",\"city\"] = \"베트남\"\n",
        "df4.loc[df4[\"state\"]==\"베트남\",\"state\"] = \"수입\"\n",
        "df4.loc[df4[\"state\"]==\"우즈베크\",\"city\"] = \"우즈베키스탄\"\n",
        "df4.loc[df4[\"state\"]==\"우즈베크\",\"state\"] = \"수입\"\n",
        "df4.loc[df4[\"state\"]==\"이스라엘\",\"city\"] = \"이스라엘\"\n",
        "df4.loc[df4[\"state\"]==\"이스라엘\",\"state\"] = \"수입\"\n",
        "df4.loc[df4[\"state\"]==\"터키\",\"city\"] = \"터키\"\n",
        "df4.loc[df4[\"state\"]==\"터키\",\"state\"] = \"수입\"\n",
        "df4.loc[df4[\"state\"]==\"중국\",\"city\"] = \"중국\"\n",
        "df4.loc[df4[\"state\"]==\"중국\",\"state\"] = \"수입\"\n",
        "df4.loc[df4[\"state\"]==\"타이\",\"city\"] = \"태국\"\n",
        "df4.loc[df4[\"state\"]==\"타이\",\"state\"] = \"수입\"\n",
        "df4.loc[df4[\"state\"]==\"태국\",\"city\"] = \"태국\"\n",
        "df4.loc[df4[\"state\"]==\"태국\",\"state\"] = \"수입\"\n",
        "df4.loc[df4[\"state\"]==\"필리핀\",\"city\"] = \"필리핀\"\n",
        "df4.loc[df4[\"state\"]==\"필리핀\",\"state\"] = \"수입\"\n",
        "df4.loc[df4[\"state\"]==\"우즈베키스탄\",\"city\"] = \"우즈베키스탄\"\n",
        "df4.loc[df4[\"state\"]==\"우즈베키스탄\",\"state\"] = \"수입\"\n",
        "df4.loc[df4[\"state\"]==\"대만\",\"city\"] = \"대만\"\n",
        "df4.loc[df4[\"state\"]==\"대만\",\"state\"] = \"수입\"\n",
        "df4.loc[df4[\"state\"]==\"베트남\",\"city\"] = \"베트남\"\n",
        "df4.loc[df4[\"state\"]==\"베트남\",\"state\"] = \"수입\"\n",
        "df4.loc[df4[\"state\"]==\"이란\",\"city\"] = \"이란\"\n",
        "df4.loc[df4[\"state\"]==\"이란\",\"state\"] = \"수입\"\n",
        "df4.loc[df4[\"state\"]==\"러\",\"city\"] = \"러시아\"\n",
        "df4.loc[df4[\"state\"]==\"러\",\"state\"] = \"수입\"\n",
        "df4.loc[(df4[\"state\"]==\"인\")&(df4[\"origin\"]==\"인도네시아\"),\"city\"] = \"인도네시아\"\n",
        "df4.loc[(df4[\"state\"]==\"인\")&(df4[\"origin\"]==\"인도네시아\"),\"state\"] = \"수입\"\n",
        "df4.loc[(df4[\"state\"]==\"인\")&(df4[\"origin\"]==\"인도\"),\"city\"] = \"인도\"\n",
        "df4.loc[(df4[\"state\"]==\"인\")&(df4[\"origin\"]==\"인도\"),\"state\"] = \"수입\"\n",
        "\n",
        "## 아메리카\n",
        "\n",
        "df4.loc[df4[\"state\"]==\"캘리포니아\",\"city\"] = \"미국\"\n",
        "df4.loc[df4[\"state\"]==\"캘리포니아\",\"state\"] = \"수입\"\n",
        "df4.loc[df4[\"state\"]==\"포클랜드\",\"city\"] = \"영국\"\n",
        "df4.loc[df4[\"state\"]==\"포클랜드\",\"state\"] = \"수입\"\n",
        "df4.loc[df4[\"state\"]==\"콜롬비아\",\"city\"] = \"콜롬비아\"\n",
        "df4.loc[df4[\"state\"]==\"콜롬비아\",\"state\"] = \"수입\"\n",
        "df4.loc[df4[\"state\"]==\"에콰\",\"city\"] = \"에콰도르\"\n",
        "df4.loc[df4[\"state\"]==\"에콰\",\"state\"] = \"수입\"\n",
        "df4.loc[df4[\"state\"]==\"에쿠아\",\"city\"] = \"에콰도르\"\n",
        "df4.loc[df4[\"state\"]==\"에쿠아\",\"state\"] = \"수입\"\n",
        "df4.loc[df4[\"state\"]==\"에콰돌\",\"city\"] = \"에콰도르\"\n",
        "df4.loc[df4[\"state\"]==\"에콰돌\",\"state\"] = \"수입\"\n",
        "df4.loc[df4[\"state\"]==\"과테말라\",\"city\"] = \"과테말라\"\n",
        "df4.loc[df4[\"state\"]==\"과테말라\",\"state\"] = \"수입\"\n",
        "df4.loc[df4[\"state\"]==\"코스타리카\",\"city\"] = \"코스타리카\"\n",
        "df4.loc[df4[\"state\"]==\"코스타리카\",\"state\"] = \"수입\"\n",
        "df4.loc[df4[\"state\"]==\"멕\",\"city\"] = \"멕시코\"\n",
        "df4.loc[df4[\"state\"]==\"멕\",\"state\"] = \"수입\"\n",
        "df4.loc[df4[\"state\"]==\"페루\",\"city\"] = \"페루\"\n",
        "df4.loc[df4[\"state\"]==\"페루\",\"state\"] = \"수입\"\n",
        "df4.loc[df4[\"state\"]==\"미국\",\"city\"] = \"미국\"\n",
        "df4.loc[df4[\"state\"]==\"미국\",\"state\"] = \"수입\"\n",
        "df4.loc[df4[\"state\"]==\"아르헨티나\",\"city\"] = \"아르헨티나\"\n",
        "df4.loc[df4[\"state\"]==\"아르헨티나\",\"state\"] = \"수입\"\n",
        "df4.loc[df4[\"state\"]==\"브라질\",\"city\"] = \"브라질\"\n",
        "df4.loc[df4[\"state\"]==\"브라질\",\"state\"] = \"수입\"\n",
        "\n",
        "## 유럽\n",
        "df4.loc[df4[\"state\"]==\"스페인\",\"city\"] = \"스페인\"\n",
        "df4.loc[df4[\"state\"]==\"스페인\",\"state\"] = \"수입\"\n",
        "df4.loc[df4[\"state\"]==\"우크라이나\",\"city\"] = \"우크라이나\"\n",
        "df4.loc[df4[\"state\"]==\"우크라이나\",\"state\"] = \"수입\"\n",
        "df4.loc[df4[\"state\"]==\"이탈리아\",\"city\"] = \"이탈리아\"\n",
        "df4.loc[df4[\"state\"]==\"이탈리아\",\"state\"] = \"수입\"\n",
        "df4.loc[df4[\"state\"]==\"불가리아\",\"city\"] = \"불가리아\"\n",
        "df4.loc[df4[\"state\"]==\"불가리아\",\"state\"] = \"수입\"\n",
        "\n",
        "## 아프리카\n",
        "df4.loc[df4[\"state\"]==\"남아프리카\",\"city\"] = \"남아공\"\n",
        "df4.loc[df4[\"state\"]==\"남아프리카\",\"state\"] = \"수입\"\n",
        "df4.loc[df4[\"state\"]==\"남아프리카공화국\",\"city\"] = \"남아공\"\n",
        "df4.loc[df4[\"state\"]==\"남아프리카공화국\",\"state\"] = \"수입\"\n",
        "df4.loc[df4[\"state\"]==\"수입남아프리카공화국\",\"city\"] = \"남아공\"\n",
        "df4.loc[df4[\"state\"]==\"수입남아프리카공화국\",\"state\"] = \"수입\"\n",
        "\n",
        "\n",
        "## 오세아니아\n",
        "df4.loc[df4[\"state\"]==\"뉴질랜드\",\"city\"] = \"뉴질랜드\"\n",
        "df4.loc[df4[\"state\"]==\"뉴질랜드\",\"state\"] = \"수입\"\n",
        "df4.loc[df4[\"state\"]==\"오스트레일\",\"city\"] = \"호주\"\n",
        "df4.loc[df4[\"state\"]==\"오스트레일\",\"state\"] = \"수입\"\n",
        "df4.loc[df4[\"state\"]==\"오스트레일리아\",\"city\"] = \"호주\"\n",
        "df4.loc[df4[\"state\"]==\"오스트레일리아\",\"state\"] = \"수입\"\n",
        "df4.loc[df4[\"state\"]==\"호주\",\"city\"] = \"호주\"\n",
        "df4.loc[df4[\"state\"]==\"호주\",\"state\"] = \"수입\"\n",
        "df4.loc[df4[\"state\"]==\"통가\",\"city\"] = \"통가\"\n",
        "df4.loc[df4[\"state\"]==\"통가\",\"state\"] = \"수입\"\n",
        "df4.loc[df4[\"state\"]==\"뉴칼레\",\"city\"] = \"뉴칼레도니아\"\n",
        "df4.loc[df4[\"state\"]==\"뉴칼레\",\"state\"] = \"수입\"\n",
        "df4.loc[df4[\"state\"]==\"뉴\",\"city\"] = \"뉴칼레도니아\"\n",
        "df4.loc[df4[\"state\"]==\"뉴\",\"state\"] = \"수입\"\n",
        "df4.loc[df4[\"state\"]==\"누벨칼레\",\"city\"] = \"뉴칼레도니아\"\n",
        "df4.loc[df4[\"state\"]==\"누벨칼레\",\"state\"] = \"수입\"\n",
        "# 기타\n",
        "df4.loc[df4[\"state\"]==\"수입산\",\"state\"] = \"수입\"\n",
        "df4.loc[df4[\"state\"]==\"기타외국\",\"city\"] = \"미상\"\n",
        "df4.loc[df4[\"state\"]==\"기타외국\",\"state\"] = \"수입\""
      ]
    },
    {
      "cell_type": "code",
      "execution_count": 132,
      "metadata": {
        "colab": {
          "base_uri": "https://localhost:8080/",
          "height": 49
        },
        "id": "3MmvwTRy-BEj",
        "outputId": "cb62e40c-926f-4fdf-c3bf-a44c828d7052"
      },
      "outputs": [
        {
          "data": {
            "text/html": [
              "<div>\n",
              "<style scoped>\n",
              "    .dataframe tbody tr th:only-of-type {\n",
              "        vertical-align: middle;\n",
              "    }\n",
              "\n",
              "    .dataframe tbody tr th {\n",
              "        vertical-align: top;\n",
              "    }\n",
              "\n",
              "    .dataframe thead th {\n",
              "        text-align: right;\n",
              "    }\n",
              "</style>\n",
              "<table border=\"1\" class=\"dataframe\">\n",
              "  <thead>\n",
              "    <tr style=\"text-align: right;\">\n",
              "      <th></th>\n",
              "      <th>prd</th>\n",
              "      <th>scale</th>\n",
              "      <th>price</th>\n",
              "      <th>origin</th>\n",
              "      <th>eco</th>\n",
              "      <th>reg_date</th>\n",
              "      <th>new_class</th>\n",
              "      <th>price_kg</th>\n",
              "      <th>state</th>\n",
              "      <th>city</th>\n",
              "    </tr>\n",
              "  </thead>\n",
              "  <tbody>\n",
              "  </tbody>\n",
              "</table>\n",
              "</div>"
            ],
            "text/plain": [
              "Empty DataFrame\n",
              "Columns: [prd, scale, price, origin, eco, reg_date, new_class, price_kg, state, city]\n",
              "Index: []"
            ]
          },
          "execution_count": 132,
          "metadata": {},
          "output_type": "execute_result"
        }
      ],
      "source": [
        "df4[df4['state']=='nan']"
      ]
    },
    {
      "cell_type": "code",
      "execution_count": 133,
      "metadata": {
        "colab": {
          "base_uri": "https://localhost:8080/"
        },
        "id": "bPMNH6Fz9laX",
        "outputId": "c7ea6abb-e318-4350-9eea-394a56796052"
      },
      "outputs": [
        {
          "data": {
            "text/plain": [
              "array(['전북', '충남', '충북', '경기', '경남', '전남', '경북', '대전', '광주', '제주', '대구',\n",
              "       '강원', '인천', '서울', '부산', '수입', '세종', '울산', '국산'], dtype=object)"
            ]
          },
          "execution_count": 133,
          "metadata": {},
          "output_type": "execute_result"
        }
      ],
      "source": [
        "df4['state'].unique()"
      ]
    },
    {
      "cell_type": "code",
      "execution_count": 134,
      "metadata": {
        "id": "Ih5vw324J-Ed"
      },
      "outputs": [],
      "source": [
        "# city\n",
        "# 우선 결측치 제거\n",
        "df4.loc[df4[\"city\"].isnull(),\"city\"] = \"미상\""
      ]
    },
    {
      "cell_type": "code",
      "execution_count": 135,
      "metadata": {
        "id": "cXY3uABaKSty"
      },
      "outputs": [],
      "source": [
        "# 이후 시,군 등 제거\n",
        "def name_sort(words):\n",
        "  p = re.compile('[^시군]+')\n",
        "  word = re.search(p,words)\n",
        "  return word.group()\n",
        "\n",
        "df4[\"city\"] = df4[\"city\"].apply(name_sort)"
      ]
    },
    {
      "cell_type": "code",
      "execution_count": 136,
      "metadata": {
        "id": "QuyWFOs1R7yP"
      },
      "outputs": [],
      "source": [
        "# \\t 도 제거\n",
        "def name_sort2(words):\n",
        "  p = re.compile('[^\\t]+')\n",
        "  word = re.search(p,words)\n",
        "  return word.group()\n",
        "\n",
        "df4[\"city\"] = df4[\"city\"].apply(name_sort2)"
      ]
    },
    {
      "cell_type": "code",
      "execution_count": 137,
      "metadata": {
        "colab": {
          "base_uri": "https://localhost:8080/"
        },
        "id": "szJvb99ySEPR",
        "outputId": "97ca859c-e684-45b0-f3d0-488abdd6cedf"
      },
      "outputs": [
        {
          "data": {
            "text/plain": [
              "array(['고창', '미상', '진천', '양평', '용인', '의령', '광양', '진주', '부여', '밀양', '함양',\n",
              "       '함안', '음성', '고령', '영양', '부안', '성주', '논산', '대전', '홍성', '안동', '광산구',\n",
              "       '공주', '강진', '제주', '칠곡', '서천', '대구', '춘천', '경산', '여주', '홍천', '곡성',\n",
              "       '예산', '강화', '청주', '익산', '평택', '봉화', '청양', '양구', '예천', '단양', '당진',\n",
              "       '담양', '영주', '보령', '하동', '고성', '합천', '철원', '함평', '송파구', '장수', '연천',\n",
              "       '포천', '나주', '서산', '부산', '중국', '은평구', '성남', '고양', '광명', '파주', '계양구',\n",
              "       '이천', '하남', '광주', '구리', '남양주', '안성', '충주', '가평', '양주', '평창', '강동구',\n",
              "       '남구', '김포', '의정부', '횡성', '강서구', '화성', '남원', '양천구', '도봉구', '중랑구',\n",
              "       '흥', '세종', '페루', '필리핀', '미국', '멕', '콜롬비아', '태국', '뉴질랜드', '김천',\n",
              "       '화천', '인제', '화순', '정선', '삼척', '원주', '무안', '서구', '진도', '제천', '괴산',\n",
              "       '해남', '창녕', '포항', '순창', '태안', '청송', '옥천', '강릉', '영광', '영암', '태백',\n",
              "       '김제', '동대문구', '금산', '의왕', '안산', '동두천', '고흥', '김해', '영천', '신안',\n",
              "       '문경', '완주', '상주', '위', '임실', '산청', '정읍', '중구', '구미', '전남', '호주',\n",
              "       '사천', '아산', '천안', '청원', '오산', '구례', '전주', '부평구', '보은', '진안', '부천',\n",
              "       '보성', '남해', '여수', '완도', '순천', '장흥', '증평', '목포', '영월', '의성', '영동',\n",
              "       '청도', '경주', '창원', '남아공', '남아공산', '베트남', '칠레', '북구', '속초', '수원',\n",
              "       '마산', '서울', '영등포', '구로구', '인도네', '인천', '옹진', '미추홀', '안양', '거창',\n",
              "       '미추홀구', '남동구', '거제', '영덕', '울산', '강남구', '미금', '울진', '양산', '무주',\n",
              "       '대만', '브라질', '과테말라', '코스타리카', '에콰도르', '양양', '산', '동해', '장성', '남',\n",
              "       '계룡', '익', '용산구', '노르웨이', '영국', '마산(고성,진해)', '통영', '기타', '아르헨티나',\n",
              "       '장항(서천)', '러', '화성(평택)', '순천(광양)', '삼천포', '세네갈', '말레이지아', '인도',\n",
              "       '캐나다'], dtype=object)"
            ]
          },
          "execution_count": 137,
          "metadata": {},
          "output_type": "execute_result"
        }
      ],
      "source": [
        "df4['city'].unique()"
      ]
    },
    {
      "cell_type": "code",
      "execution_count": 141,
      "metadata": {
        "id": "MrIoC_BDQ_ic"
      },
      "outputs": [],
      "source": [
        "# 나머지 케이스 정리\n",
        "\n",
        "# 국내\n",
        "df4.loc[df4[\"city\"]==\"기타\",\"city\"] = \"미상\"\n",
        "## 일반시\n",
        "df4.loc[df4[\"city\"]==\"위\",\"city\"] = \"군위\"\n",
        "df4.loc[df4[\"city\"]==\"고흥(나로도)\",\"city\"] = \"고흥\"\n",
        "df4.loc[df4[\"city\"]==\"산\",\"city\"] = \"군산\"\n",
        "df4.loc[df4[\"city\"]==\"장항(서천)\",\"city\"] = \"서천\"\n",
        "df4.loc[df4[\"city\"]==\"삼천포\",\"city\"] = \"사천\"\n",
        "df4.loc[df4[\"city\"]==\"삼천포\",\"city\"] = \"사천\"\n",
        "df4.loc[df4[\"city\"]==\"순천(광양)\",\"city\"] = \"순천\"\n",
        "df4.loc[df4[\"city\"]==\"대천(보령)\",\"city\"] = \"보령\"\n",
        "df4.loc[df4[\"city\"]==\"대천(보령)\",\"city\"] = \"보령\"\n",
        "df4.loc[df4[\"city\"]==\"화성(평택)\",\"city\"] = \"화성\"\n",
        "df4.loc[df4[\"city\"]==\"흥\",\"city\"] = \"시흥\"\n",
        "df4.loc[df4[\"city\"]==\"목포(무안)\",\"city\"] = \"목포\"\n",
        "df4.loc[df4[\"city\"]==\"목포(무안)\",\"state\"] = \"전남\"\n",
        "df4.loc[df4[\"city\"]==\"보성(벌교)\",\"city\"] = \"보성\"\n",
        "df4.loc[df4[\"city\"]==\"울진(후포)\",\"city\"] = \"울진\"\n",
        "df4.loc[df4[\"city\"]==\"논\",\"city\"] = \"논산\"\n",
        "df4.loc[df4[\"city\"]==\"논\",\"city\"] = \"논산\"\n",
        "df4.loc[df4[\"city\"]==\"순\",\"city\"] = \"순창\"\n",
        "df4.loc[df4[\"city\"]==\"익\",\"city\"] = \"익산\"\n",
        "df4.loc[df4[\"city\"]==\"미금\",\"city\"] = \"성남\"\n",
        "df4.loc[df4[\"city\"]==\"주문진\",\"city\"] = \"강릉\"\n",
        "df4.loc[df4[\"city\"]==\"전남\",\"city\"] = \"무안\"\n",
        "df4.loc[(df4[\"state\"]==\"전북\")&(df4[\"city\"]==\"남\"),\"city\"] = \"남원\"\n",
        "df4.loc[(df4['prd']==\"호박\") & (df4['state']=='전북'),\"city\"] = \"전주\"\n",
        "## 광역시\n",
        "df4.loc[df4[\"city\"]==\"강서구\",\"city\"] = \"서울\"\n",
        "df4.loc[df4[\"city\"]==\"은평구\",\"city\"] = \"서울\"\n",
        "df4.loc[df4[\"city\"]==\"강동구\",\"city\"] = \"서울\"\n",
        "df4.loc[df4[\"city\"]==\"마포구\",\"city\"] = \"서울\"\n",
        "df4.loc[df4[\"city\"]==\"중구\",\"city\"] = \"서울\"\n",
        "df4.loc[df4[\"city\"]==\"송파구\",\"city\"] = \"서울\"\n",
        "df4.loc[df4[\"city\"]==\"도봉구\",\"city\"] = \"서울\"\n",
        "df4.loc[df4[\"city\"]==\"중랑구\",\"city\"] = \"서울\"\n",
        "df4.loc[df4[\"city\"]==\"양천구\",\"city\"] = \"서울\"\n",
        "df4.loc[df4[\"city\"]==\"성동구\",\"city\"] = \"서울\"\n",
        "df4.loc[df4[\"city\"]==\"강남구\",\"city\"] = \"서울\"\n",
        "df4.loc[df4[\"city\"]==\"동대문구\",\"city\"] = \"서울\"\n",
        "df4.loc[df4[\"city\"]==\"영등포구\",\"city\"] = \"서울\"\n",
        "df4.loc[df4[\"city\"]==\"영등포\",\"city\"] = \"서울\"\n",
        "df4.loc[df4[\"city\"]==\"서초구\",\"city\"] = \"서울\"\n",
        "df4.loc[df4[\"city\"]==\"구로구\",\"city\"] = \"서울\"\n",
        "df4.loc[df4[\"city\"]==\"동대문\",\"city\"] = \"서울\"\n",
        "df4.loc[df4[\"city\"]==\"금천구\",\"city\"] = \"서울\"\n",
        "df4.loc[df4[\"city\"]==\"동작구\",\"city\"] = \"서울\"\n",
        "df4.loc[df4[\"city\"]==\"용산구\",\"city\"] = \"서울\"\n",
        "\n",
        "df4.loc[df4[\"city\"]==\"광산구\",\"city\"] = \"광주\"\n",
        "df4.loc[(df4[\"state\"]==\"광주\")&(df4[\"city\"]==\"남구\"),\"city\"] = \"광주\"\n",
        "df4.loc[(df4[\"state\"]==\"광주\")&(df4[\"city\"]==\"북구\"),\"city\"] = \"광주\"\n",
        "df4.loc[(df4[\"state\"]==\"광주\")&(df4[\"city\"]==\"서구\"),\"city\"] = \"광주\"\n",
        "df4.loc[df4[\"city\"]==\"동구\",\"city\"] = \"광주\"\n",
        "df4.loc[(df4[\"state\"]==\"인천\")&(df4[\"city\"]==\"남구\"),\"city\"] = \"인천\"\n",
        "df4.loc[(df4[\"state\"]==\"인천\")&(df4[\"city\"]==\"서구\"),\"city\"] = \"인천\"\n",
        "df4.loc[df4[\"city\"]==\"미추홀\",\"city\"] = \"인천\"\n",
        "df4.loc[df4[\"city\"]==\"부평구\",\"city\"] = \"인천\"\n",
        "df4.loc[df4[\"city\"]==\"남동구\",\"city\"] = \"인천\"\n",
        "df4.loc[df4[\"city\"]==\"미추홀구\",\"city\"] = \"인천\"\n",
        "df4.loc[df4[\"city\"]==\"계양구\",\"city\"] = \"인천\"\n",
        "df4.loc[df4[\"city\"]==\"마산(고성,진해)\",\"city\"] = \"창원\"\n",
        "df4.loc[(df4[\"state\"]==\"부산\")&(df4[\"city\"]==\"북구\"),\"city\"] = \"부산\"\n",
        "df4.loc[df4[\"city\"]==\"오포\",\"city\"] = \"부산\"\n",
        "df4.loc[df4[\"city\"]==\"부산진\",\"city\"] = \"부산\"\n",
        "df4.loc[df4[\"city\"]==\"사상구\",\"city\"] = \"부산\"\n",
        "df4.loc[df4[\"city\"]==\"부산진구\",\"city\"] = \"부산\"\n",
        "df4.loc[df4[\"city\"]==\"북제주\",\"city\"] = \"제주\"\n",
        "df4.loc[df4[\"city\"]==\"남제주\",\"city\"] = \"제주\"\n",
        "\n",
        "# 해외\n",
        "## 아시아\n",
        "df4.loc[df4[\"city\"]==\"러\",\"city\"] = \"러시아\"\n",
        "df4.loc[df4[\"city\"]==\"말레이지아\",\"city\"] = \"말레이시아\"\n",
        "df4.loc[df4[\"city\"]==\"타이\",\"city\"] = \"태국\"\n",
        "df4.loc[df4[\"city\"]==\"인도네\",\"city\"] = \"인도네시아\"\n",
        "## 아메리카\n",
        "df4.loc[df4[\"city\"]==\"멕\",\"city\"] = \"멕시코\"\n",
        "## 아프리카\n",
        "df4.loc[df4[\"city\"]==\"남아공산\",\"city\"] = \"남아공\"\n",
        "## 유럽\n",
        "## 오세아니아"
      ]
    },
    {
      "cell_type": "code",
      "execution_count": 142,
      "metadata": {},
      "outputs": [
        {
          "data": {
            "text/plain": [
              "array(['영국'], dtype=object)"
            ]
          },
          "execution_count": 142,
          "metadata": {},
          "output_type": "execute_result"
        }
      ],
      "source": [
        "# 기존 city 리스트와 비교\n",
        "ex_city = pd.read_csv(\"../cities.csv\")\n",
        "df4[~df4['city'].isin(ex_city['city'])]['city'].unique()"
      ]
    },
    {
      "cell_type": "code",
      "execution_count": 143,
      "metadata": {},
      "outputs": [
        {
          "name": "stderr",
          "output_type": "stream",
          "text": [
            "/var/folders/nq/s4zx76p53d11lnr0t1dxpxh00000gn/T/ipykernel_1598/1856950528.py:3: FutureWarning: The frame.append method is deprecated and will be removed from pandas in a future version. Use pandas.concat instead.\n",
            "  cities = ex_city.append(new_city,ignore_index=True)\n"
          ]
        }
      ],
      "source": [
        "# 리스트 최신화\n",
        "new_city = pd.DataFrame(df4['city'].unique(),columns=['city'])\n",
        "cities = ex_city.append(new_city,ignore_index=True)"
      ]
    },
    {
      "cell_type": "code",
      "execution_count": 144,
      "metadata": {},
      "outputs": [],
      "source": [
        "cities.drop(columns=['Unnamed: 0'],inplace=True)\n",
        "cities.drop_duplicates(inplace=True)\n",
        "cities.reset_index(inplace=True,drop=True)"
      ]
    },
    {
      "cell_type": "code",
      "execution_count": 145,
      "metadata": {},
      "outputs": [],
      "source": [
        "cities.to_csv('../cities.csv')"
      ]
    },
    {
      "cell_type": "code",
      "execution_count": 146,
      "metadata": {
        "id": "vi6fJirdV7Gz"
      },
      "outputs": [],
      "source": [
        "# 처리 완료하였으니 df4는 백업으로 두고 df5 활용\n",
        "df5 = df4.drop(columns='origin')"
      ]
    },
    {
      "cell_type": "markdown",
      "metadata": {
        "id": "CoWdniywxHwf"
      },
      "source": [
        "# 전처리 결과"
      ]
    },
    {
      "cell_type": "markdown",
      "metadata": {
        "id": "t709mbs6xMkS"
      },
      "source": [
        "# 파일 저장"
      ]
    },
    {
      "cell_type": "code",
      "execution_count": 147,
      "metadata": {
        "id": "tEfggl4M5rFG"
      },
      "outputs": [],
      "source": [
        "df5.to_csv('../data_proceed/202107_proceed.csv')"
      ]
    }
  ],
  "metadata": {
    "colab": {
      "collapsed_sections": [],
      "name": "pre_processing_2022_06.ipynb",
      "provenance": [],
      "toc_visible": true
    },
    "kernelspec": {
      "display_name": "Python 3.8.13 ('yds')",
      "language": "python",
      "name": "python3"
    },
    "language_info": {
      "codemirror_mode": {
        "name": "ipython",
        "version": 3
      },
      "file_extension": ".py",
      "mimetype": "text/x-python",
      "name": "python",
      "nbconvert_exporter": "python",
      "pygments_lexer": "ipython3",
      "version": "3.8.13"
    },
    "vscode": {
      "interpreter": {
        "hash": "edd2e1eeac16ba0124adb27271db416cf5b91db76e0734afe4505ea0738c76e5"
      }
    }
  },
  "nbformat": 4,
  "nbformat_minor": 0
}
