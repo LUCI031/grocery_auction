{
  "cells": [
    {
      "cell_type": "markdown",
      "metadata": {
        "id": "uhJXKN_71HKz"
      },
      "source": [
        "# 개요"
      ]
    },
    {
      "cell_type": "markdown",
      "metadata": {
        "id": "T02KSzGz1iMO"
      },
      "source": [
        "# Prepare"
      ]
    },
    {
      "cell_type": "markdown",
      "metadata": {
        "id": "bfqE9z4W1JQh"
      },
      "source": [
        "# 1. 초기 세팅"
      ]
    },
    {
      "cell_type": "markdown",
      "metadata": {
        "id": "fG4uSp2B1Ph7"
      },
      "source": [
        "## Library & data load"
      ]
    },
    {
      "cell_type": "code",
      "execution_count": 1,
      "metadata": {
        "id": "c2zXAOvOq96i"
      },
      "outputs": [],
      "source": [
        "import pandas as pd\n",
        "import numpy as np\n",
        "import matplotlib.pyplot as plt\n",
        "import seaborn as sns\n",
        "import re"
      ]
    },
    {
      "cell_type": "code",
      "execution_count": 2,
      "metadata": {
        "id": "N6-se2jYrHsw"
      },
      "outputs": [],
      "source": [
        "# 처리용 df와 오리지널 버전 남겨놓음\n",
        "df = pd.read_csv(\"/Users/luci031/Downloads/auction/data_origin/auction_202109.csv\",encoding='euc_kr')\n",
        "org_df = pd.read_csv(\"/Users/luci031/Downloads/auction/data_origin/auction_202109.csv\",encoding='euc_kr')"
      ]
    },
    {
      "cell_type": "markdown",
      "metadata": {
        "id": "yINECbV-4eRb"
      },
      "source": [
        "# Pre-Processing"
      ]
    },
    {
      "cell_type": "markdown",
      "metadata": {
        "id": "OJuFufVP2War"
      },
      "source": [
        "## Basic info"
      ]
    },
    {
      "cell_type": "code",
      "execution_count": 3,
      "metadata": {
        "colab": {
          "base_uri": "https://localhost:8080/",
          "height": 206
        },
        "id": "EE8feVlFr0To",
        "outputId": "cb918bf3-bd0b-4f09-fd92-73d8670996c9"
      },
      "outputs": [
        {
          "data": {
            "text/html": [
              "<div>\n",
              "<style scoped>\n",
              "    .dataframe tbody tr th:only-of-type {\n",
              "        vertical-align: middle;\n",
              "    }\n",
              "\n",
              "    .dataframe tbody tr th {\n",
              "        vertical-align: top;\n",
              "    }\n",
              "\n",
              "    .dataframe thead th {\n",
              "        text-align: right;\n",
              "    }\n",
              "</style>\n",
              "<table border=\"1\" class=\"dataframe\">\n",
              "  <thead>\n",
              "    <tr style=\"text-align: right;\">\n",
              "      <th></th>\n",
              "      <th>품목명</th>\n",
              "      <th>단위</th>\n",
              "      <th>등급</th>\n",
              "      <th>가격</th>\n",
              "      <th>산지</th>\n",
              "      <th>친환경구분</th>\n",
              "      <th>입력일</th>\n",
              "    </tr>\n",
              "  </thead>\n",
              "  <tbody>\n",
              "    <tr>\n",
              "      <th>0</th>\n",
              "      <td>[복숭아]천도(프레버탑)</td>\n",
              "      <td>10kg</td>\n",
              "      <td>특(1등)</td>\n",
              "      <td>29000</td>\n",
              "      <td>경북 영천시</td>\n",
              "      <td>일반</td>\n",
              "      <td>20210831</td>\n",
              "    </tr>\n",
              "    <tr>\n",
              "      <th>1</th>\n",
              "      <td>[복숭아]천도(프레버탑)</td>\n",
              "      <td>10kg</td>\n",
              "      <td>특(1등)</td>\n",
              "      <td>47000</td>\n",
              "      <td>경북 영천시</td>\n",
              "      <td>일반</td>\n",
              "      <td>20210831</td>\n",
              "    </tr>\n",
              "    <tr>\n",
              "      <th>2</th>\n",
              "      <td>[복숭아]천도(프레버탑)</td>\n",
              "      <td>10kg</td>\n",
              "      <td>특(1등)</td>\n",
              "      <td>14000</td>\n",
              "      <td>경북 영천시</td>\n",
              "      <td>일반</td>\n",
              "      <td>20210831</td>\n",
              "    </tr>\n",
              "    <tr>\n",
              "      <th>3</th>\n",
              "      <td>[복숭아]천도(프레버탑)</td>\n",
              "      <td>10kg</td>\n",
              "      <td>특(1등)</td>\n",
              "      <td>38000</td>\n",
              "      <td>경북 영천시</td>\n",
              "      <td>일반</td>\n",
              "      <td>20210831</td>\n",
              "    </tr>\n",
              "    <tr>\n",
              "      <th>4</th>\n",
              "      <td>[복숭아]천도(프레버탑)</td>\n",
              "      <td>10kg</td>\n",
              "      <td>특(1등)</td>\n",
              "      <td>24000</td>\n",
              "      <td>경북 영천시</td>\n",
              "      <td>일반</td>\n",
              "      <td>20210831</td>\n",
              "    </tr>\n",
              "  </tbody>\n",
              "</table>\n",
              "</div>"
            ],
            "text/plain": [
              "             품목명    단위     등급     가격      산지 친환경구분       입력일\n",
              "0  [복숭아]천도(프레버탑)  10kg  특(1등)  29000  경북 영천시    일반  20210831\n",
              "1  [복숭아]천도(프레버탑)  10kg  특(1등)  47000  경북 영천시    일반  20210831\n",
              "2  [복숭아]천도(프레버탑)  10kg  특(1등)  14000  경북 영천시    일반  20210831\n",
              "3  [복숭아]천도(프레버탑)  10kg  특(1등)  38000  경북 영천시    일반  20210831\n",
              "4  [복숭아]천도(프레버탑)  10kg  특(1등)  24000  경북 영천시    일반  20210831"
            ]
          },
          "execution_count": 3,
          "metadata": {},
          "output_type": "execute_result"
        }
      ],
      "source": [
        "df.head()"
      ]
    },
    {
      "cell_type": "code",
      "execution_count": 4,
      "metadata": {
        "colab": {
          "base_uri": "https://localhost:8080/"
        },
        "id": "Jf03xK1D1p5Z",
        "outputId": "7cc5158f-76c4-4ca6-e80a-cd60949c1049"
      },
      "outputs": [
        {
          "name": "stdout",
          "output_type": "stream",
          "text": [
            "<class 'pandas.core.frame.DataFrame'>\n",
            "RangeIndex: 493035 entries, 0 to 493034\n",
            "Data columns (total 7 columns):\n",
            " #   Column  Non-Null Count   Dtype \n",
            "---  ------  --------------   ----- \n",
            " 0   품목명     493035 non-null  object\n",
            " 1   단위      493035 non-null  object\n",
            " 2   등급      493035 non-null  object\n",
            " 3   가격      493035 non-null  int64 \n",
            " 4   산지      491495 non-null  object\n",
            " 5   친환경구분   493035 non-null  object\n",
            " 6   입력일     493035 non-null  int64 \n",
            "dtypes: int64(2), object(5)\n",
            "memory usage: 26.3+ MB\n"
          ]
        }
      ],
      "source": [
        "df.info()"
      ]
    },
    {
      "cell_type": "code",
      "execution_count": 5,
      "metadata": {
        "colab": {
          "base_uri": "https://localhost:8080/"
        },
        "id": "R3-Xng6M1om2",
        "outputId": "0071ee93-3ebe-436d-910b-aa30c7356468"
      },
      "outputs": [
        {
          "data": {
            "text/plain": [
              "품목명         0\n",
              "단위          0\n",
              "등급          0\n",
              "가격          0\n",
              "산지       1540\n",
              "친환경구분       0\n",
              "입력일         0\n",
              "dtype: int64"
            ]
          },
          "execution_count": 5,
          "metadata": {},
          "output_type": "execute_result"
        }
      ],
      "source": [
        "# 산지 제외하고는 결측치 없는 것으로 확인\n",
        "df.isnull().sum()"
      ]
    },
    {
      "cell_type": "markdown",
      "metadata": {
        "id": "KiwEMLgv-7KL"
      },
      "source": [
        "- 결측치 처리"
      ]
    },
    {
      "cell_type": "code",
      "execution_count": 6,
      "metadata": {
        "id": "y52OV6yt-60b"
      },
      "outputs": [],
      "source": [
        "###\n",
        "# 양이 많지 않으므로 결측치 제거\n",
        "df = df.dropna(axis=0)"
      ]
    },
    {
      "cell_type": "markdown",
      "metadata": {
        "id": "tWVdZUXv7njQ"
      },
      "source": [
        "- 영문명으로 전환"
      ]
    },
    {
      "cell_type": "code",
      "execution_count": 7,
      "metadata": {
        "id": "Cpc_wblh4oLI"
      },
      "outputs": [],
      "source": [
        "df = df.rename(columns = {'품목명':'prd',\n",
        "                          '단위':'scale','등급':'class',\n",
        "                          '가격':'price',\n",
        "                          '산지':'origin',\n",
        "                          '친환경구분':'eco',\n",
        "                          '입력일':'reg_date'})"
      ]
    },
    {
      "cell_type": "markdown",
      "metadata": {
        "id": "6raN15sn8XwE"
      },
      "source": [
        "## column 별 정보"
      ]
    },
    {
      "cell_type": "markdown",
      "metadata": {
        "id": "9blCj1BqBKl9"
      },
      "source": [
        "### class"
      ]
    },
    {
      "cell_type": "code",
      "execution_count": 8,
      "metadata": {
        "colab": {
          "base_uri": "https://localhost:8080/"
        },
        "id": "trRf-DfuBNBL",
        "outputId": "017ef00e-f7ca-476c-e44a-a847d4881695"
      },
      "outputs": [
        {
          "data": {
            "text/plain": [
              "Index(['특(1등)', '상(2등)', '보통(3등)', '9등(등외)', '없음', '4등', '5등', '6등', '7등',\n",
              "       '8등'],\n",
              "      dtype='object')"
            ]
          },
          "execution_count": 8,
          "metadata": {},
          "output_type": "execute_result"
        }
      ],
      "source": [
        "# 이름 모두 영어로 변경\n",
        "# 9등과 없음 모두 9로 변경\n",
        "df['class'].value_counts().index"
      ]
    },
    {
      "cell_type": "code",
      "execution_count": 9,
      "metadata": {
        "id": "Y9aTlhUSBfU9"
      },
      "outputs": [],
      "source": [
        "df111 = pd.DataFrame([['특(1등)', 1], ['상(2등)',2], ['보통(3등)',3], ['9등(등외)',9], ['없음',9], ['5등',5], ['4등',4], ['6등',6], ['7등',7],['8등',8]],columns=['class','new_class'])"
      ]
    },
    {
      "cell_type": "code",
      "execution_count": 10,
      "metadata": {
        "id": "N4LG6ClLC4II"
      },
      "outputs": [],
      "source": [
        "df2 = df.merge(df111)\n",
        "df2 = df2.drop(columns='class')"
      ]
    },
    {
      "cell_type": "code",
      "execution_count": 11,
      "metadata": {
        "colab": {
          "base_uri": "https://localhost:8080/",
          "height": 423
        },
        "id": "w_BncYpbDQGg",
        "outputId": "6482608e-5fcd-4b4d-b921-e720dec1a560"
      },
      "outputs": [
        {
          "data": {
            "text/html": [
              "<div>\n",
              "<style scoped>\n",
              "    .dataframe tbody tr th:only-of-type {\n",
              "        vertical-align: middle;\n",
              "    }\n",
              "\n",
              "    .dataframe tbody tr th {\n",
              "        vertical-align: top;\n",
              "    }\n",
              "\n",
              "    .dataframe thead th {\n",
              "        text-align: right;\n",
              "    }\n",
              "</style>\n",
              "<table border=\"1\" class=\"dataframe\">\n",
              "  <thead>\n",
              "    <tr style=\"text-align: right;\">\n",
              "      <th></th>\n",
              "      <th>prd</th>\n",
              "      <th>scale</th>\n",
              "      <th>price</th>\n",
              "      <th>origin</th>\n",
              "      <th>eco</th>\n",
              "      <th>reg_date</th>\n",
              "      <th>new_class</th>\n",
              "    </tr>\n",
              "  </thead>\n",
              "  <tbody>\n",
              "    <tr>\n",
              "      <th>0</th>\n",
              "      <td>[복숭아]천도(프레버탑)</td>\n",
              "      <td>10kg</td>\n",
              "      <td>29000</td>\n",
              "      <td>경북 영천시</td>\n",
              "      <td>일반</td>\n",
              "      <td>20210831</td>\n",
              "      <td>1</td>\n",
              "    </tr>\n",
              "    <tr>\n",
              "      <th>1</th>\n",
              "      <td>[복숭아]천도(프레버탑)</td>\n",
              "      <td>10kg</td>\n",
              "      <td>47000</td>\n",
              "      <td>경북 영천시</td>\n",
              "      <td>일반</td>\n",
              "      <td>20210831</td>\n",
              "      <td>1</td>\n",
              "    </tr>\n",
              "    <tr>\n",
              "      <th>2</th>\n",
              "      <td>[복숭아]천도(프레버탑)</td>\n",
              "      <td>10kg</td>\n",
              "      <td>14000</td>\n",
              "      <td>경북 영천시</td>\n",
              "      <td>일반</td>\n",
              "      <td>20210831</td>\n",
              "      <td>1</td>\n",
              "    </tr>\n",
              "    <tr>\n",
              "      <th>3</th>\n",
              "      <td>[복숭아]천도(프레버탑)</td>\n",
              "      <td>10kg</td>\n",
              "      <td>38000</td>\n",
              "      <td>경북 영천시</td>\n",
              "      <td>일반</td>\n",
              "      <td>20210831</td>\n",
              "      <td>1</td>\n",
              "    </tr>\n",
              "    <tr>\n",
              "      <th>4</th>\n",
              "      <td>[복숭아]천도(프레버탑)</td>\n",
              "      <td>10kg</td>\n",
              "      <td>24000</td>\n",
              "      <td>경북 영천시</td>\n",
              "      <td>일반</td>\n",
              "      <td>20210831</td>\n",
              "      <td>1</td>\n",
              "    </tr>\n",
              "    <tr>\n",
              "      <th>...</th>\n",
              "      <td>...</td>\n",
              "      <td>...</td>\n",
              "      <td>...</td>\n",
              "      <td>...</td>\n",
              "      <td>...</td>\n",
              "      <td>...</td>\n",
              "      <td>...</td>\n",
              "    </tr>\n",
              "    <tr>\n",
              "      <th>491490</th>\n",
              "      <td>[고구마]고구마(밤)</td>\n",
              "      <td>10kg</td>\n",
              "      <td>14000</td>\n",
              "      <td>충북 충주시</td>\n",
              "      <td>일반</td>\n",
              "      <td>20210928</td>\n",
              "      <td>8</td>\n",
              "    </tr>\n",
              "    <tr>\n",
              "      <th>491491</th>\n",
              "      <td>[기타과채]기타과채(감자)</td>\n",
              "      <td>20kg</td>\n",
              "      <td>20000</td>\n",
              "      <td>충북 충주시</td>\n",
              "      <td>일반</td>\n",
              "      <td>20210928</td>\n",
              "      <td>8</td>\n",
              "    </tr>\n",
              "    <tr>\n",
              "      <th>491492</th>\n",
              "      <td>[기타과채]기타과채(감자)</td>\n",
              "      <td>20kg</td>\n",
              "      <td>28000</td>\n",
              "      <td>강원 홍천군</td>\n",
              "      <td>일반</td>\n",
              "      <td>20210928</td>\n",
              "      <td>8</td>\n",
              "    </tr>\n",
              "    <tr>\n",
              "      <th>491493</th>\n",
              "      <td>[양파]양파(일반)</td>\n",
              "      <td>15kg</td>\n",
              "      <td>11800</td>\n",
              "      <td>전남 무안군</td>\n",
              "      <td>일반</td>\n",
              "      <td>20210929</td>\n",
              "      <td>8</td>\n",
              "    </tr>\n",
              "    <tr>\n",
              "      <th>491494</th>\n",
              "      <td>[기타과채]기타과채(감자)</td>\n",
              "      <td>20kg</td>\n",
              "      <td>32000</td>\n",
              "      <td>강원 홍천군</td>\n",
              "      <td>일반</td>\n",
              "      <td>20210930</td>\n",
              "      <td>8</td>\n",
              "    </tr>\n",
              "  </tbody>\n",
              "</table>\n",
              "<p>491495 rows × 7 columns</p>\n",
              "</div>"
            ],
            "text/plain": [
              "                   prd scale  price  origin eco  reg_date  new_class\n",
              "0        [복숭아]천도(프레버탑)  10kg  29000  경북 영천시  일반  20210831          1\n",
              "1        [복숭아]천도(프레버탑)  10kg  47000  경북 영천시  일반  20210831          1\n",
              "2        [복숭아]천도(프레버탑)  10kg  14000  경북 영천시  일반  20210831          1\n",
              "3        [복숭아]천도(프레버탑)  10kg  38000  경북 영천시  일반  20210831          1\n",
              "4        [복숭아]천도(프레버탑)  10kg  24000  경북 영천시  일반  20210831          1\n",
              "...                ...   ...    ...     ...  ..       ...        ...\n",
              "491490     [고구마]고구마(밤)  10kg  14000  충북 충주시  일반  20210928          8\n",
              "491491  [기타과채]기타과채(감자)  20kg  20000  충북 충주시  일반  20210928          8\n",
              "491492  [기타과채]기타과채(감자)  20kg  28000  강원 홍천군  일반  20210928          8\n",
              "491493      [양파]양파(일반)  15kg  11800  전남 무안군  일반  20210929          8\n",
              "491494  [기타과채]기타과채(감자)  20kg  32000  강원 홍천군  일반  20210930          8\n",
              "\n",
              "[491495 rows x 7 columns]"
            ]
          },
          "execution_count": 11,
          "metadata": {},
          "output_type": "execute_result"
        }
      ],
      "source": [
        "df2"
      ]
    },
    {
      "cell_type": "markdown",
      "metadata": {
        "id": "6QhhnXfKWiQL"
      },
      "source": [
        "### eco"
      ]
    },
    {
      "cell_type": "code",
      "execution_count": 12,
      "metadata": {
        "id": "XPNdAWmbWWjy"
      },
      "outputs": [],
      "source": [
        "# 영문명으로 전환\n",
        "# 전환기 -> 유기농 재배로 전환중\n",
        "df2.loc[df2[\"eco\"]==\"일반\",\"eco\"] = \"normal\"\n",
        "df2.loc[df2[\"eco\"]==\"우수농산물\",\"eco\"] = \"\bgood_prd\"\n",
        "df2.loc[df2[\"eco\"]==\"무농약\",\"eco\"] = \"\becofriendly\"\n",
        "df2.loc[df2[\"eco\"]==\"유기농\",\"eco\"] = \"organic\"\n",
        "df2.loc[df2[\"eco\"]==\"품질인증\",\"eco\"] = \"certified\"\n",
        "df2.loc[df2[\"eco\"]==\"전환기\",\"eco\"] = \"ing\""
      ]
    },
    {
      "cell_type": "code",
      "execution_count": 13,
      "metadata": {
        "colab": {
          "base_uri": "https://localhost:8080/",
          "height": 423
        },
        "id": "SFs64qIjYPqG",
        "outputId": "e1d18001-8e23-4db4-c367-d91e111bf6af"
      },
      "outputs": [
        {
          "data": {
            "text/html": [
              "<div>\n",
              "<style scoped>\n",
              "    .dataframe tbody tr th:only-of-type {\n",
              "        vertical-align: middle;\n",
              "    }\n",
              "\n",
              "    .dataframe tbody tr th {\n",
              "        vertical-align: top;\n",
              "    }\n",
              "\n",
              "    .dataframe thead th {\n",
              "        text-align: right;\n",
              "    }\n",
              "</style>\n",
              "<table border=\"1\" class=\"dataframe\">\n",
              "  <thead>\n",
              "    <tr style=\"text-align: right;\">\n",
              "      <th></th>\n",
              "      <th>prd</th>\n",
              "      <th>scale</th>\n",
              "      <th>price</th>\n",
              "      <th>origin</th>\n",
              "      <th>eco</th>\n",
              "      <th>reg_date</th>\n",
              "      <th>new_class</th>\n",
              "    </tr>\n",
              "  </thead>\n",
              "  <tbody>\n",
              "    <tr>\n",
              "      <th>0</th>\n",
              "      <td>[복숭아]천도(프레버탑)</td>\n",
              "      <td>10kg</td>\n",
              "      <td>29000</td>\n",
              "      <td>경북 영천시</td>\n",
              "      <td>normal</td>\n",
              "      <td>20210831</td>\n",
              "      <td>1</td>\n",
              "    </tr>\n",
              "    <tr>\n",
              "      <th>1</th>\n",
              "      <td>[복숭아]천도(프레버탑)</td>\n",
              "      <td>10kg</td>\n",
              "      <td>47000</td>\n",
              "      <td>경북 영천시</td>\n",
              "      <td>normal</td>\n",
              "      <td>20210831</td>\n",
              "      <td>1</td>\n",
              "    </tr>\n",
              "    <tr>\n",
              "      <th>2</th>\n",
              "      <td>[복숭아]천도(프레버탑)</td>\n",
              "      <td>10kg</td>\n",
              "      <td>14000</td>\n",
              "      <td>경북 영천시</td>\n",
              "      <td>normal</td>\n",
              "      <td>20210831</td>\n",
              "      <td>1</td>\n",
              "    </tr>\n",
              "    <tr>\n",
              "      <th>3</th>\n",
              "      <td>[복숭아]천도(프레버탑)</td>\n",
              "      <td>10kg</td>\n",
              "      <td>38000</td>\n",
              "      <td>경북 영천시</td>\n",
              "      <td>normal</td>\n",
              "      <td>20210831</td>\n",
              "      <td>1</td>\n",
              "    </tr>\n",
              "    <tr>\n",
              "      <th>4</th>\n",
              "      <td>[복숭아]천도(프레버탑)</td>\n",
              "      <td>10kg</td>\n",
              "      <td>24000</td>\n",
              "      <td>경북 영천시</td>\n",
              "      <td>normal</td>\n",
              "      <td>20210831</td>\n",
              "      <td>1</td>\n",
              "    </tr>\n",
              "    <tr>\n",
              "      <th>...</th>\n",
              "      <td>...</td>\n",
              "      <td>...</td>\n",
              "      <td>...</td>\n",
              "      <td>...</td>\n",
              "      <td>...</td>\n",
              "      <td>...</td>\n",
              "      <td>...</td>\n",
              "    </tr>\n",
              "    <tr>\n",
              "      <th>491490</th>\n",
              "      <td>[고구마]고구마(밤)</td>\n",
              "      <td>10kg</td>\n",
              "      <td>14000</td>\n",
              "      <td>충북 충주시</td>\n",
              "      <td>normal</td>\n",
              "      <td>20210928</td>\n",
              "      <td>8</td>\n",
              "    </tr>\n",
              "    <tr>\n",
              "      <th>491491</th>\n",
              "      <td>[기타과채]기타과채(감자)</td>\n",
              "      <td>20kg</td>\n",
              "      <td>20000</td>\n",
              "      <td>충북 충주시</td>\n",
              "      <td>normal</td>\n",
              "      <td>20210928</td>\n",
              "      <td>8</td>\n",
              "    </tr>\n",
              "    <tr>\n",
              "      <th>491492</th>\n",
              "      <td>[기타과채]기타과채(감자)</td>\n",
              "      <td>20kg</td>\n",
              "      <td>28000</td>\n",
              "      <td>강원 홍천군</td>\n",
              "      <td>normal</td>\n",
              "      <td>20210928</td>\n",
              "      <td>8</td>\n",
              "    </tr>\n",
              "    <tr>\n",
              "      <th>491493</th>\n",
              "      <td>[양파]양파(일반)</td>\n",
              "      <td>15kg</td>\n",
              "      <td>11800</td>\n",
              "      <td>전남 무안군</td>\n",
              "      <td>normal</td>\n",
              "      <td>20210929</td>\n",
              "      <td>8</td>\n",
              "    </tr>\n",
              "    <tr>\n",
              "      <th>491494</th>\n",
              "      <td>[기타과채]기타과채(감자)</td>\n",
              "      <td>20kg</td>\n",
              "      <td>32000</td>\n",
              "      <td>강원 홍천군</td>\n",
              "      <td>normal</td>\n",
              "      <td>20210930</td>\n",
              "      <td>8</td>\n",
              "    </tr>\n",
              "  </tbody>\n",
              "</table>\n",
              "<p>491495 rows × 7 columns</p>\n",
              "</div>"
            ],
            "text/plain": [
              "                   prd scale  price  origin     eco  reg_date  new_class\n",
              "0        [복숭아]천도(프레버탑)  10kg  29000  경북 영천시  normal  20210831          1\n",
              "1        [복숭아]천도(프레버탑)  10kg  47000  경북 영천시  normal  20210831          1\n",
              "2        [복숭아]천도(프레버탑)  10kg  14000  경북 영천시  normal  20210831          1\n",
              "3        [복숭아]천도(프레버탑)  10kg  38000  경북 영천시  normal  20210831          1\n",
              "4        [복숭아]천도(프레버탑)  10kg  24000  경북 영천시  normal  20210831          1\n",
              "...                ...   ...    ...     ...     ...       ...        ...\n",
              "491490     [고구마]고구마(밤)  10kg  14000  충북 충주시  normal  20210928          8\n",
              "491491  [기타과채]기타과채(감자)  20kg  20000  충북 충주시  normal  20210928          8\n",
              "491492  [기타과채]기타과채(감자)  20kg  28000  강원 홍천군  normal  20210928          8\n",
              "491493      [양파]양파(일반)  15kg  11800  전남 무안군  normal  20210929          8\n",
              "491494  [기타과채]기타과채(감자)  20kg  32000  강원 홍천군  normal  20210930          8\n",
              "\n",
              "[491495 rows x 7 columns]"
            ]
          },
          "execution_count": 13,
          "metadata": {},
          "output_type": "execute_result"
        }
      ],
      "source": [
        "df2"
      ]
    },
    {
      "cell_type": "markdown",
      "metadata": {
        "id": "ffhjwT57YNLh"
      },
      "source": [
        "### reg_date"
      ]
    },
    {
      "cell_type": "code",
      "execution_count": 14,
      "metadata": {
        "id": "0xEJoswCYUiR"
      },
      "outputs": [],
      "source": [
        "df2['reg_date'] = df2['reg_date'].astype('str')"
      ]
    },
    {
      "cell_type": "code",
      "execution_count": 15,
      "metadata": {
        "id": "7eMsOdHaqa7H"
      },
      "outputs": [],
      "source": [
        "df2['reg_date'] = pd.to_datetime(df2['reg_date'].astype('str'),format='%Y%m%d')"
      ]
    },
    {
      "cell_type": "code",
      "execution_count": 16,
      "metadata": {
        "colab": {
          "base_uri": "https://localhost:8080/",
          "height": 423
        },
        "id": "4OJlA07go6Vm",
        "outputId": "775611cd-2a30-4603-90e5-ac782aea1678"
      },
      "outputs": [
        {
          "data": {
            "text/html": [
              "<div>\n",
              "<style scoped>\n",
              "    .dataframe tbody tr th:only-of-type {\n",
              "        vertical-align: middle;\n",
              "    }\n",
              "\n",
              "    .dataframe tbody tr th {\n",
              "        vertical-align: top;\n",
              "    }\n",
              "\n",
              "    .dataframe thead th {\n",
              "        text-align: right;\n",
              "    }\n",
              "</style>\n",
              "<table border=\"1\" class=\"dataframe\">\n",
              "  <thead>\n",
              "    <tr style=\"text-align: right;\">\n",
              "      <th></th>\n",
              "      <th>prd</th>\n",
              "      <th>scale</th>\n",
              "      <th>price</th>\n",
              "      <th>origin</th>\n",
              "      <th>eco</th>\n",
              "      <th>reg_date</th>\n",
              "      <th>new_class</th>\n",
              "    </tr>\n",
              "  </thead>\n",
              "  <tbody>\n",
              "    <tr>\n",
              "      <th>0</th>\n",
              "      <td>[복숭아]천도(프레버탑)</td>\n",
              "      <td>10kg</td>\n",
              "      <td>29000</td>\n",
              "      <td>경북 영천시</td>\n",
              "      <td>normal</td>\n",
              "      <td>2021-08-31</td>\n",
              "      <td>1</td>\n",
              "    </tr>\n",
              "    <tr>\n",
              "      <th>1</th>\n",
              "      <td>[복숭아]천도(프레버탑)</td>\n",
              "      <td>10kg</td>\n",
              "      <td>47000</td>\n",
              "      <td>경북 영천시</td>\n",
              "      <td>normal</td>\n",
              "      <td>2021-08-31</td>\n",
              "      <td>1</td>\n",
              "    </tr>\n",
              "    <tr>\n",
              "      <th>2</th>\n",
              "      <td>[복숭아]천도(프레버탑)</td>\n",
              "      <td>10kg</td>\n",
              "      <td>14000</td>\n",
              "      <td>경북 영천시</td>\n",
              "      <td>normal</td>\n",
              "      <td>2021-08-31</td>\n",
              "      <td>1</td>\n",
              "    </tr>\n",
              "    <tr>\n",
              "      <th>3</th>\n",
              "      <td>[복숭아]천도(프레버탑)</td>\n",
              "      <td>10kg</td>\n",
              "      <td>38000</td>\n",
              "      <td>경북 영천시</td>\n",
              "      <td>normal</td>\n",
              "      <td>2021-08-31</td>\n",
              "      <td>1</td>\n",
              "    </tr>\n",
              "    <tr>\n",
              "      <th>4</th>\n",
              "      <td>[복숭아]천도(프레버탑)</td>\n",
              "      <td>10kg</td>\n",
              "      <td>24000</td>\n",
              "      <td>경북 영천시</td>\n",
              "      <td>normal</td>\n",
              "      <td>2021-08-31</td>\n",
              "      <td>1</td>\n",
              "    </tr>\n",
              "    <tr>\n",
              "      <th>...</th>\n",
              "      <td>...</td>\n",
              "      <td>...</td>\n",
              "      <td>...</td>\n",
              "      <td>...</td>\n",
              "      <td>...</td>\n",
              "      <td>...</td>\n",
              "      <td>...</td>\n",
              "    </tr>\n",
              "    <tr>\n",
              "      <th>491490</th>\n",
              "      <td>[고구마]고구마(밤)</td>\n",
              "      <td>10kg</td>\n",
              "      <td>14000</td>\n",
              "      <td>충북 충주시</td>\n",
              "      <td>normal</td>\n",
              "      <td>2021-09-28</td>\n",
              "      <td>8</td>\n",
              "    </tr>\n",
              "    <tr>\n",
              "      <th>491491</th>\n",
              "      <td>[기타과채]기타과채(감자)</td>\n",
              "      <td>20kg</td>\n",
              "      <td>20000</td>\n",
              "      <td>충북 충주시</td>\n",
              "      <td>normal</td>\n",
              "      <td>2021-09-28</td>\n",
              "      <td>8</td>\n",
              "    </tr>\n",
              "    <tr>\n",
              "      <th>491492</th>\n",
              "      <td>[기타과채]기타과채(감자)</td>\n",
              "      <td>20kg</td>\n",
              "      <td>28000</td>\n",
              "      <td>강원 홍천군</td>\n",
              "      <td>normal</td>\n",
              "      <td>2021-09-28</td>\n",
              "      <td>8</td>\n",
              "    </tr>\n",
              "    <tr>\n",
              "      <th>491493</th>\n",
              "      <td>[양파]양파(일반)</td>\n",
              "      <td>15kg</td>\n",
              "      <td>11800</td>\n",
              "      <td>전남 무안군</td>\n",
              "      <td>normal</td>\n",
              "      <td>2021-09-29</td>\n",
              "      <td>8</td>\n",
              "    </tr>\n",
              "    <tr>\n",
              "      <th>491494</th>\n",
              "      <td>[기타과채]기타과채(감자)</td>\n",
              "      <td>20kg</td>\n",
              "      <td>32000</td>\n",
              "      <td>강원 홍천군</td>\n",
              "      <td>normal</td>\n",
              "      <td>2021-09-30</td>\n",
              "      <td>8</td>\n",
              "    </tr>\n",
              "  </tbody>\n",
              "</table>\n",
              "<p>491495 rows × 7 columns</p>\n",
              "</div>"
            ],
            "text/plain": [
              "                   prd scale  price  origin     eco   reg_date  new_class\n",
              "0        [복숭아]천도(프레버탑)  10kg  29000  경북 영천시  normal 2021-08-31          1\n",
              "1        [복숭아]천도(프레버탑)  10kg  47000  경북 영천시  normal 2021-08-31          1\n",
              "2        [복숭아]천도(프레버탑)  10kg  14000  경북 영천시  normal 2021-08-31          1\n",
              "3        [복숭아]천도(프레버탑)  10kg  38000  경북 영천시  normal 2021-08-31          1\n",
              "4        [복숭아]천도(프레버탑)  10kg  24000  경북 영천시  normal 2021-08-31          1\n",
              "...                ...   ...    ...     ...     ...        ...        ...\n",
              "491490     [고구마]고구마(밤)  10kg  14000  충북 충주시  normal 2021-09-28          8\n",
              "491491  [기타과채]기타과채(감자)  20kg  20000  충북 충주시  normal 2021-09-28          8\n",
              "491492  [기타과채]기타과채(감자)  20kg  28000  강원 홍천군  normal 2021-09-28          8\n",
              "491493      [양파]양파(일반)  15kg  11800  전남 무안군  normal 2021-09-29          8\n",
              "491494  [기타과채]기타과채(감자)  20kg  32000  강원 홍천군  normal 2021-09-30          8\n",
              "\n",
              "[491495 rows x 7 columns]"
            ]
          },
          "execution_count": 16,
          "metadata": {},
          "output_type": "execute_result"
        }
      ],
      "source": [
        "df2"
      ]
    },
    {
      "cell_type": "markdown",
      "metadata": {
        "id": "VN8Eana_Dbbl"
      },
      "source": [
        "### price"
      ]
    },
    {
      "cell_type": "code",
      "execution_count": 17,
      "metadata": {
        "id": "oZbejw0vewmJ"
      },
      "outputs": [],
      "source": [
        "# 계산을 위해 scale 값 미리 변경\n",
        "# 현재 값들은 string이므로 float 형태로 변환할 필요가 있음\n",
        "# 몇몇 이상치 처리도 진행\n",
        "def scale_checker(scale):\n",
        "  if scale.startswith('.')==True:\n",
        "    return format(float('0'+scale[:-2]),'.2f')\n",
        "  else:\n",
        "    return format(float((scale[:-2])),'.2f')\n",
        "df2['scale'] = df2['scale'].apply(scale_checker)\n",
        "df2['scale'] = df2['scale'].astype('float')\n",
        "# df2['scale'] = format(round(df2['scale'].apply(pd.to_numeric),2),'.2f')"
      ]
    },
    {
      "cell_type": "code",
      "execution_count": 18,
      "metadata": {},
      "outputs": [
        {
          "data": {
            "text/plain": [
              "array([1.000e+01, 4.000e+00, 2.500e+00, 4.500e+00, 2.000e+00, 3.000e+00,\n",
              "       5.000e-01, 1.000e-01, 2.000e-01, 1.100e+01, 1.300e+01, 1.200e+01,\n",
              "       6.000e+00, 8.000e+00, 7.000e+00, 1.000e+00, 1.500e+00, 5.000e+00,\n",
              "       2.000e+01, 1.800e+01, 4.800e+00, 1.800e+00, 7.000e-01, 3.600e+00,\n",
              "       4.000e-01, 9.000e+00, 1.600e+01, 5.400e+00, 1.500e+01, 1.400e+01,\n",
              "       1.700e+01, 1.900e+01, 3.500e+00, 5.500e+00, 5.600e+00, 8.000e-02,\n",
              "       7.500e+00, 2.100e+01, 6.000e-01, 3.000e-01, 8.000e-01, 1.150e+01,\n",
              "       2.010e+00, 4.010e+00, 8.600e+00, 8.200e+00, 9.900e+00, 8.500e+00,\n",
              "       1.230e+01, 7.800e+00, 8.010e+00, 1.040e+01, 9.600e+00, 1.200e+00,\n",
              "       1.600e+00, 1.000e-02, 2.500e-01, 5.000e-02, 2.400e+00, 6.800e+00,\n",
              "       6.000e-02, 1.500e-01, 2.700e+00, 2.200e+00, 3.200e+00, 3.900e+00,\n",
              "       1.350e+01, 5.200e+00, 2.200e-01, 8.910e+01, 7.840e+01, 8.070e+01,\n",
              "       2.400e+01, 1.001e+01, 8.900e+00, 3.400e+00, 8.800e+00, 5.300e+00,\n",
              "       9.200e+00, 9.500e+00, 9.000e-02, 2.300e+01, 7.500e-01, 8.800e+01,\n",
              "       7.200e+00, 3.620e+00, 3.800e+00, 4.300e+00, 2.300e+00, 1.450e+01,\n",
              "       1.200e-01, 1.700e+00, 5.800e+00, 2.800e+00, 3.700e+00, 1.050e+01,\n",
              "       2.900e+00, 2.100e+00, 2.200e+01, 6.500e+00, 2.600e+00, 5.100e+00,\n",
              "       1.720e+01, 3.000e-02, 2.700e+01, 3.300e+00, 4.400e+00, 4.700e+00,\n",
              "       4.600e+00, 9.800e+00, 3.100e+00, 1.700e-01, 8.400e+00, 1.140e+01,\n",
              "       4.000e+01, 7.700e+00, 1.810e+01, 6.300e+00, 1.501e+01, 7.400e+00,\n",
              "       1.550e+00, 7.300e+00, 4.200e+00, 1.420e+01, 9.000e-01, 8.500e+01,\n",
              "       8.350e+01, 7.800e+01, 8.000e+01, 6.400e+00, 2.001e+01, 1.100e+02,\n",
              "       9.400e+00, 1.400e+00, 3.300e+01, 7.600e+00, 2.500e+01, 1.900e+00,\n",
              "       3.000e+01, 2.600e+01, 1.280e+01, 3.500e-01, 1.250e+01, 1.510e+02,\n",
              "       7.100e+00, 8.300e+00, 4.900e+00, 1.300e+00, 5.700e+00, 1.060e+01,\n",
              "       4.100e+00, 9.300e+00, 6.200e+00, 2.800e+01, 1.650e+01, 9.700e+00,\n",
              "       1.600e-01, 2.000e+02, 1.180e+01, 2.900e+01, 6.600e+00, 7.900e+00,\n",
              "       5.200e+01, 7.250e+01, 7.710e+01, 7.363e+01, 7.000e-02, 9.100e+00,\n",
              "       1.100e+00, 6.890e+01, 7.040e+01, 8.810e+01, 1.750e+01, 5.200e+02,\n",
              "       2.150e+01, 2.250e+01, 1.090e+01, 5.010e+02, 1.080e+01, 8.300e+01,\n",
              "       8.100e+01, 7.500e+01, 7.900e+01, 7.550e+01, 1.540e+00, 2.750e+01,\n",
              "       2.160e+00])"
            ]
          },
          "execution_count": 18,
          "metadata": {},
          "output_type": "execute_result"
        }
      ],
      "source": [
        "df2['scale'].unique()"
      ]
    },
    {
      "cell_type": "code",
      "execution_count": 19,
      "metadata": {
        "colab": {
          "base_uri": "https://localhost:8080/"
        },
        "id": "S_OXk_iDDaxM",
        "outputId": "df40b3b5-b8d5-4609-b1d1-d940826ff6bf"
      },
      "outputs": [
        {
          "data": {
            "text/plain": [
              "count     491495.00000\n",
              "mean       23404.20835\n",
              "std       126120.10154\n",
              "min            0.00000\n",
              "25%         9000.00000\n",
              "50%        16000.00000\n",
              "75%        27000.00000\n",
              "max     77464100.00000\n",
              "Name: price, dtype: float64"
            ]
          },
          "execution_count": 19,
          "metadata": {},
          "output_type": "execute_result"
        }
      ],
      "source": [
        "# 1원짜리 거래 발견, 너무 거래값이 작은 값들은 삭제\n",
        "pd.options.display.float_format = '{:.5f}'.format\n",
        "df2['price'].describe()"
      ]
    },
    {
      "cell_type": "code",
      "execution_count": 20,
      "metadata": {
        "id": "PQrLwgHPVsHs"
      },
      "outputs": [],
      "source": [
        "df2 = df2.drop(df2[df2['price']<500].index)"
      ]
    },
    {
      "cell_type": "code",
      "execution_count": 21,
      "metadata": {
        "colab": {
          "base_uri": "https://localhost:8080/",
          "height": 423
        },
        "id": "h8uaY01ADasA",
        "outputId": "228f08e1-3d13-41cf-ae61-c672904e5fc6"
      },
      "outputs": [
        {
          "data": {
            "text/html": [
              "<div>\n",
              "<style scoped>\n",
              "    .dataframe tbody tr th:only-of-type {\n",
              "        vertical-align: middle;\n",
              "    }\n",
              "\n",
              "    .dataframe tbody tr th {\n",
              "        vertical-align: top;\n",
              "    }\n",
              "\n",
              "    .dataframe thead th {\n",
              "        text-align: right;\n",
              "    }\n",
              "</style>\n",
              "<table border=\"1\" class=\"dataframe\">\n",
              "  <thead>\n",
              "    <tr style=\"text-align: right;\">\n",
              "      <th></th>\n",
              "      <th>prd</th>\n",
              "      <th>scale</th>\n",
              "      <th>price</th>\n",
              "      <th>origin</th>\n",
              "      <th>eco</th>\n",
              "      <th>reg_date</th>\n",
              "      <th>new_class</th>\n",
              "    </tr>\n",
              "  </thead>\n",
              "  <tbody>\n",
              "    <tr>\n",
              "      <th>0</th>\n",
              "      <td>[복숭아]천도(프레버탑)</td>\n",
              "      <td>10.00000</td>\n",
              "      <td>29000</td>\n",
              "      <td>경북 영천시</td>\n",
              "      <td>normal</td>\n",
              "      <td>2021-08-31</td>\n",
              "      <td>1</td>\n",
              "    </tr>\n",
              "    <tr>\n",
              "      <th>1</th>\n",
              "      <td>[복숭아]천도(프레버탑)</td>\n",
              "      <td>10.00000</td>\n",
              "      <td>47000</td>\n",
              "      <td>경북 영천시</td>\n",
              "      <td>normal</td>\n",
              "      <td>2021-08-31</td>\n",
              "      <td>1</td>\n",
              "    </tr>\n",
              "    <tr>\n",
              "      <th>2</th>\n",
              "      <td>[복숭아]천도(프레버탑)</td>\n",
              "      <td>10.00000</td>\n",
              "      <td>14000</td>\n",
              "      <td>경북 영천시</td>\n",
              "      <td>normal</td>\n",
              "      <td>2021-08-31</td>\n",
              "      <td>1</td>\n",
              "    </tr>\n",
              "    <tr>\n",
              "      <th>3</th>\n",
              "      <td>[복숭아]천도(프레버탑)</td>\n",
              "      <td>10.00000</td>\n",
              "      <td>38000</td>\n",
              "      <td>경북 영천시</td>\n",
              "      <td>normal</td>\n",
              "      <td>2021-08-31</td>\n",
              "      <td>1</td>\n",
              "    </tr>\n",
              "    <tr>\n",
              "      <th>4</th>\n",
              "      <td>[복숭아]천도(프레버탑)</td>\n",
              "      <td>10.00000</td>\n",
              "      <td>24000</td>\n",
              "      <td>경북 영천시</td>\n",
              "      <td>normal</td>\n",
              "      <td>2021-08-31</td>\n",
              "      <td>1</td>\n",
              "    </tr>\n",
              "    <tr>\n",
              "      <th>...</th>\n",
              "      <td>...</td>\n",
              "      <td>...</td>\n",
              "      <td>...</td>\n",
              "      <td>...</td>\n",
              "      <td>...</td>\n",
              "      <td>...</td>\n",
              "      <td>...</td>\n",
              "    </tr>\n",
              "    <tr>\n",
              "      <th>491490</th>\n",
              "      <td>[고구마]고구마(밤)</td>\n",
              "      <td>10.00000</td>\n",
              "      <td>14000</td>\n",
              "      <td>충북 충주시</td>\n",
              "      <td>normal</td>\n",
              "      <td>2021-09-28</td>\n",
              "      <td>8</td>\n",
              "    </tr>\n",
              "    <tr>\n",
              "      <th>491491</th>\n",
              "      <td>[기타과채]기타과채(감자)</td>\n",
              "      <td>20.00000</td>\n",
              "      <td>20000</td>\n",
              "      <td>충북 충주시</td>\n",
              "      <td>normal</td>\n",
              "      <td>2021-09-28</td>\n",
              "      <td>8</td>\n",
              "    </tr>\n",
              "    <tr>\n",
              "      <th>491492</th>\n",
              "      <td>[기타과채]기타과채(감자)</td>\n",
              "      <td>20.00000</td>\n",
              "      <td>28000</td>\n",
              "      <td>강원 홍천군</td>\n",
              "      <td>normal</td>\n",
              "      <td>2021-09-28</td>\n",
              "      <td>8</td>\n",
              "    </tr>\n",
              "    <tr>\n",
              "      <th>491493</th>\n",
              "      <td>[양파]양파(일반)</td>\n",
              "      <td>15.00000</td>\n",
              "      <td>11800</td>\n",
              "      <td>전남 무안군</td>\n",
              "      <td>normal</td>\n",
              "      <td>2021-09-29</td>\n",
              "      <td>8</td>\n",
              "    </tr>\n",
              "    <tr>\n",
              "      <th>491494</th>\n",
              "      <td>[기타과채]기타과채(감자)</td>\n",
              "      <td>20.00000</td>\n",
              "      <td>32000</td>\n",
              "      <td>강원 홍천군</td>\n",
              "      <td>normal</td>\n",
              "      <td>2021-09-30</td>\n",
              "      <td>8</td>\n",
              "    </tr>\n",
              "  </tbody>\n",
              "</table>\n",
              "<p>490960 rows × 7 columns</p>\n",
              "</div>"
            ],
            "text/plain": [
              "                   prd    scale  price  origin     eco   reg_date  new_class\n",
              "0        [복숭아]천도(프레버탑) 10.00000  29000  경북 영천시  normal 2021-08-31          1\n",
              "1        [복숭아]천도(프레버탑) 10.00000  47000  경북 영천시  normal 2021-08-31          1\n",
              "2        [복숭아]천도(프레버탑) 10.00000  14000  경북 영천시  normal 2021-08-31          1\n",
              "3        [복숭아]천도(프레버탑) 10.00000  38000  경북 영천시  normal 2021-08-31          1\n",
              "4        [복숭아]천도(프레버탑) 10.00000  24000  경북 영천시  normal 2021-08-31          1\n",
              "...                ...      ...    ...     ...     ...        ...        ...\n",
              "491490     [고구마]고구마(밤) 10.00000  14000  충북 충주시  normal 2021-09-28          8\n",
              "491491  [기타과채]기타과채(감자) 20.00000  20000  충북 충주시  normal 2021-09-28          8\n",
              "491492  [기타과채]기타과채(감자) 20.00000  28000  강원 홍천군  normal 2021-09-28          8\n",
              "491493      [양파]양파(일반) 15.00000  11800  전남 무안군  normal 2021-09-29          8\n",
              "491494  [기타과채]기타과채(감자) 20.00000  32000  강원 홍천군  normal 2021-09-30          8\n",
              "\n",
              "[490960 rows x 7 columns]"
            ]
          },
          "execution_count": 21,
          "metadata": {},
          "output_type": "execute_result"
        }
      ],
      "source": [
        "df2"
      ]
    },
    {
      "cell_type": "code",
      "execution_count": 22,
      "metadata": {
        "id": "13Js-KtTBZB5"
      },
      "outputs": [],
      "source": [
        "# kg 당 가격 생성\n",
        "\n",
        "df2['price_kg'] = round((df2['price']/df2['scale']),2)"
      ]
    },
    {
      "cell_type": "markdown",
      "metadata": {
        "id": "FJ4jjRUQ8cB3"
      },
      "source": [
        "### prd\n",
        "- 품목명 정리\n",
        "- 품목 종류 정리"
      ]
    },
    {
      "cell_type": "code",
      "execution_count": 23,
      "metadata": {
        "colab": {
          "base_uri": "https://localhost:8080/"
        },
        "id": "pymqNuDt8qqS",
        "outputId": "1506a365-b491-4b16-f40f-4d63980bc22f"
      },
      "outputs": [
        {
          "data": {
            "text/plain": [
              "[오이]백다다기             12306\n",
              "[호박]애호박              11212\n",
              "[사과]홍로                8927\n",
              "[깻잎]깻잎                8289\n",
              "[배]신고                 5624\n",
              "                     ...  \n",
              "[복숭아]복숭아(미백)             1\n",
              "[기타과실류]기타과실(수입)          1\n",
              "[갓]갓(청)                  1\n",
              "[파인애플(수입)]파인애플(국)        1\n",
              "[논우렁이수입]논우렁이수입           1\n",
              "Name: prd, Length: 1448, dtype: int64"
            ]
          },
          "execution_count": 23,
          "metadata": {},
          "output_type": "execute_result"
        }
      ],
      "source": [
        "# 대부분 [상품 종류]상품명 으로 정리되어 있는걸 알 수 있음\n",
        "df2['prd'].value_counts()"
      ]
    },
    {
      "cell_type": "code",
      "execution_count": 24,
      "metadata": {
        "id": "EKmhi36getHp"
      },
      "outputs": [],
      "source": [
        "# 정리를 위해 상품명 삭제\n",
        "def prd_sort(words):\n",
        "  p = re.compile('[ㄱ-힣]+')\n",
        "  word = re.search(p,words)\n",
        "  return word.group()\n",
        "\n",
        "df2['prd'] = df2['prd'].apply(prd_sort)"
      ]
    },
    {
      "cell_type": "code",
      "execution_count": 25,
      "metadata": {
        "id": "mlsCXSXMekGg"
      },
      "outputs": [],
      "source": [
        "# 기타 품목 삭제\n",
        "df2 = df2.drop(df2[df2['prd']=='기타'].index)"
      ]
    },
    {
      "cell_type": "code",
      "execution_count": 26,
      "metadata": {
        "id": "fZ8b4ETrDv5n"
      },
      "outputs": [],
      "source": [
        "# 국산,수입산,깐,기타 삭제\n",
        "def prd_sort2(words):\n",
        "  p = re.compile('[^국산수입깐기타]+')\n",
        "  word = re.search(p,str(words))\n",
        "  return word.group()\n",
        "\n",
        "df2[\"prd\"] = df2[\"prd\"].apply(prd_sort2)\n"
      ]
    },
    {
      "cell_type": "code",
      "execution_count": 27,
      "metadata": {
        "colab": {
          "base_uri": "https://localhost:8080/"
        },
        "id": "0UO78EhtVlgj",
        "outputId": "08424baf-f96a-4573-d9fc-c6f751228e63"
      },
      "outputs": [
        {
          "name": "stdout",
          "output_type": "stream",
          "text": [
            "가리비 \n",
            "가물치 가오리 가오리채 가자미 가지 각굴 갈치 감 감귤 감말랭이 감자 갑오징어 갓 강낭콩 개조개 \n",
            "건고구마순 건고추 검복 게 게지 겨자 고 고구마 고구마순 고둥 고들빼 고등어 고사리 고추 고추잎 \n",
            "곤달비 골뱅이 곶감 과실류 과일 과일류 과채 과채류 굴 귤 그레이프푸룻 근대 근채류 깻잎 꼬막 \n",
            "꼬시래 꼴뚜 꽁치 꽈리고추 낙지 냉이 논우렁이 눈볼대 느 다래 단감 달래 닭새우 당귀 당근 \n",
            "대구 대구포 대추 대파 더덕 덟은감 도다리 도라지 동부콩 동자개 동죽 두류 두릅 두리안 딸 \n",
            "땅콩 떫은감 라임 람부탄 레드쉬 레몬 리치 마 마늘 만가닥 맛 망고 망고스턴 매생이 머위대 \n",
            "메 메론 멸치 명태 명태곤니 명태포 모과 모시조개 무 무순 무우 무화과 문어바지락 미꾸라지 미나리 \n",
            "미더덕 민들레 민물새우 바나나 바지락 박 밤 방울토마토 방풍 방풍나물 배 배추 백새우 백조 백합 \n",
            "뱀장어 버섯 버섯류 버찌 병어 복숭아 봉지굴 부세 부지갱이 부추 붉은고추 붕어 붕장어 브로커리 브로코리 \n",
            "블루베리 비단멍게 비름 비트 빈스 빨간양배추 사과 삼 삼치 상추 새꼬막 새송이 새싹 새우 새우살 \n",
            "샐러리 생강 생고추 석류 선동오징어 선인장열매 세러리 세트 셀러리 소라 숙주나물 숫꽃게 시금치 실파 쌈채류 \n",
            "쌈추 쑥갓 아귀 아로니아 아보카도 아보카드 아스파라가스 아스파라거스 아욱 알 알배 암꽃게 양배추 양상추 양송이 \n",
            "양채 양채류 양파 얼갈이 얼갈이배추 여주 연근 연어 연어살 열무 염고등어 엽경채류 엽채 엽채류 오렌지 \n",
            "오만둥이 오이 오징어 오징어몸통 오징어원양 오징어채 옥 용과 우렁 우렁쉥이 우렁이 유채 임연 잉어 자두 \n",
            "자몽 장어 재첩 적새우 적채 전복 절단 절단낙지 중하 쪽파 쭈꾸미 참나물 참다래 참외 참조 \n",
            "채소 천도복숭아 청경채 청어 체리 총각무 취나물 치커리 칠게 칼라후라워 칼리플라워 칼리후라워 케일 코다리명태 코라비 \n",
            "코코넛 콩 콩나물 키위 키조개 키조개날개 토란 토란대 토마토 파 파세리 파인애플 파프리카 팥 패류 \n",
            "팽이 팽이버섯 포도 포장바지락 표고 표고버섯 풋고추 풋옥 피망 피뿔고동 피조개 해파리 향나물 향신료 호두 \n",
            "호박 호박잎 홍고추 홍어 홍합 활복오징어 "
          ]
        }
      ],
      "source": [
        "# 몇몇 품목들 정리가 필요\n",
        "a = sorted(df2['prd'].unique())\n",
        "for i in range(len(a)):\n",
        "  if i%15 != 0:\n",
        "    print(a[i],end=' ')\n",
        "  else:\n",
        "    print(a[i],end=' ')\n",
        "    print()"
      ]
    },
    {
      "cell_type": "code",
      "execution_count": 28,
      "metadata": {
        "id": "M2625eg87yCq"
      },
      "outputs": [],
      "source": [
        "### 예시\n",
        "# df2[(df2['prd']=='유채') & (df2['price']==4500)]['prd'].unique()\n",
        "# df2[df2['prd']=='유채']['prd'].unique()"
      ]
    },
    {
      "cell_type": "code",
      "execution_count": 29,
      "metadata": {
        "colab": {
          "base_uri": "https://localhost:8080/"
        },
        "id": "ExIoekH2gcM_",
        "outputId": "5cad26ac-a57e-42b5-85da-19e3591a3493"
      },
      "outputs": [],
      "source": [
        "### 원래 단어 뭐였는지 검색\n",
        "# org_df[org_df['품목명'].str.contains('\u001d느')]['품목명'].unique()"
      ]
    },
    {
      "cell_type": "code",
      "execution_count": 30,
      "metadata": {
        "colab": {
          "base_uri": "https://localhost:8080/",
          "height": 81
        },
        "id": "2uOc31XjjPFL",
        "outputId": "50529553-d06f-4dc6-8759-a11736220df6"
      },
      "outputs": [],
      "source": [
        "### 현재 이름 검색\n",
        "# df2[df2['prd']=='느']"
      ]
    },
    {
      "cell_type": "code",
      "execution_count": 35,
      "metadata": {
        "id": "gbBBjoDqIjR1"
      },
      "outputs": [],
      "source": [
        "###\n",
        "# JG\n",
        "\n",
        "# 고 -> 고수로 변경\n",
        "df2.loc[df2[\"prd\"]==\"고\",\"prd\"] = \"고수\"\n",
        "# 과실류, 과일류, 과채, 채소 -> 과채류로 통합\n",
        "df2.loc[df2[\"prd\"]==\"과실류\",\"prd\"] = \"과채류\"\n",
        "df2.loc[df2[\"prd\"]==\"과일류\",\"prd\"] = \"과채류\"\n",
        "df2.loc[df2[\"prd\"]==\"과일야채류\",\"prd\"] = \"과채류\"\n",
        "df2.loc[df2[\"prd\"]==\"과일과채류\",\"prd\"] = \"과채류\"\n",
        "df2.loc[df2[\"prd\"]==\"과일\",\"prd\"] = \"과채류\"\n",
        "df2.loc[df2[\"prd\"]==\"과채\",\"prd\"] = \"과채류\"\n",
        "df2.loc[df2[\"prd\"]==\"채소\",\"prd\"] = \"과채류\"\n",
        "# 고들빼 -> 고들빼기로 변경\n",
        "df2.loc[df2[\"prd\"]==\"고들빼\",\"prd\"] = \"고들빼기\"\n",
        "# 꼴뚜 -> 꼴두기로 변경\n",
        "df2.loc[df2[\"prd\"]==\"꼴뚜\",\"prd\"] = \"꼴뚜기\"\n",
        "# 그레이프푸룻 -> 자몽으로 통합\n",
        "df2.loc[df2[\"prd\"]==\"그레이프푸룻\",\"prd\"] = \"자몽\"\n",
        "\n",
        "# 느 -> 느타리버섯으로 통합\n",
        "df2.loc[df2[\"prd\"]==\"느\",\"prd\"] = \"느타리버섯\"\n",
        "\n",
        "# 대구 관련 품목들 정리\n",
        "df2.loc[df2[\"prd\"]==\"대구고니\",\"prd\"] = \"대구\"\n",
        "df2.loc[df2[\"prd\"]==\"대구머리\",\"prd\"] = \"대구\"\n",
        "df2.loc[df2[\"prd\"]==\"대구포\",\"prd\"] = \"대구\"\n",
        "# 듀리안 -> 두리안으로 통합\n",
        "df2.loc[df2[\"prd\"]==\"듀리안\",\"prd\"] = \"두리안\"\n",
        "# 딸 -> 딸기로 변경\n",
        "df2.loc[df2[\"prd\"]==\"딸\",\"prd\"] = \"딸기\"\n",
        "\n",
        "# 만가닥 -> 만가닥버섯으로 변경\n",
        "df2.loc[df2[\"prd\"]==\"만가닥\",\"prd\"] = \"만가닥버섯\"\n",
        "# 맛 -> 맛조개로 변경\n",
        "df2.loc[df2[\"prd\"]==\"맛\",\"prd\"] = \"맛조개\"\n",
        "# 망고스턴 -> 망고스틴으로 수정\n",
        "df2.loc[df2[\"prd\"]==\"망고스턴\",\"prd\"] = \"망고스틴\"\n",
        "# 메 -> 메기로 변경\n",
        "df2.loc[df2[\"prd\"]==\"메\",\"prd\"] = \"메기\"\n",
        "# 명태 관련 품목들 정리\n",
        "df2.loc[df2[\"prd\"]==\"명태곤니\",\"prd\"] = \"명태\"\n",
        "df2.loc[df2[\"prd\"]==\"명태알\",\"prd\"] = \"명태\"\n",
        "df2.loc[df2[\"prd\"]==\"명태포\",\"prd\"] = \"명태\"\n",
        "df2.loc[df2[\"prd\"]==\"코다리명태\",\"prd\"] = \"명태\"\n",
        "# 무우 -> 무로 통합\n",
        "df2.loc[df2[\"prd\"]==\"무우\",\"prd\"] = \"무\"\n",
        "\n",
        "# 방풍 -> 방풍나물로 통합\n",
        "df2.loc[df2[\"prd\"]==\"방풍\",\"prd\"] = \"방풍나물\"\n",
        "# 버섯류 -> 버섯으로 변경\n",
        "df2.loc[df2[\"prd\"]==\"버섯\",\"prd\"] = \"버섯\"\n",
        "# 벗,버찌 -> 체리로 통합\n",
        "df2.loc[df2[\"prd\"]==\"벗\",\"prd\"] = \"체리\"\n",
        "df2.loc[df2[\"prd\"]==\"버찌\",\"prd\"] = \"체리\"\n",
        "df2.loc[df2[\"prd\"]==\"벗찌\",\"prd\"] = \"체리\"\n",
        "# 브로커리, 브로코리 -> 브로콜리로 통합\n",
        "df2.loc[df2[\"prd\"]==\"브로커리\",\"prd\"] = \"브로콜리\"\n",
        "df2.loc[df2[\"prd\"]==\"브로코리\",\"prd\"] = \"브로콜리\"\n",
        "\n",
        "# 삼 -> 수삼으로 변경\n",
        "df2.loc[df2[\"prd\"]==\"삼\",\"prd\"] = \"수삼\"\n",
        "# 새우살 -> 새우로 변경\n",
        "df2.loc[df2[\"prd\"]==\"새우살\",\"prd\"] = \"새우\"\n",
        "# 세러리, 셀러리 -> 샐러리로 통합\n",
        "df2.loc[df2[\"prd\"]==\"세러리\",\"prd\"] = \"샐러리\"\n",
        "df2.loc[df2[\"prd\"]==\"셀러리\",\"prd\"] = \"샐러리\"\n",
        "# 생고추 -> 고추로 통합\n",
        "df2.loc[df2[\"prd\"]==\"생고추\",\"prd\"] = \"고추\"\n",
        "\n",
        "# 아보카드 -> 아보카도로 변경\n",
        "df2.loc[df2[\"prd\"]==\"아보카드\",\"prd\"] = \"아보카도\"\n",
        "# 아스파라가스 -> 아스파라거스로 변경\n",
        "df2.loc[df2[\"prd\"]==\"아스파라가스\",\"prd\"] = \"아스파라거스\"\n",
        "# 알 -> 알타리무로 변경\n",
        "df2.loc[df2[\"prd\"]==\"알\",\"prd\"] = \"알타리무\"\n",
        "# 알배 -> 알배기로 변경\n",
        "df2.loc[df2[\"prd\"]==\"알배\",\"prd\"] = \"알배기\"\n",
        "# 양채 -> 양채류로 통합\n",
        "df2.loc[df2[\"prd\"]==\"양채\",\"prd\"] = \"양채류\"\n",
        "# 얼갈이 -> 얼갈이배추로 통합\n",
        "df2.loc[df2[\"prd\"]==\"얼갈이\",\"prd\"] = \"얼갈이배추\"\n",
        "# 엽채류, 엽채 -> 엽경채류로 통합\n",
        "df2.loc[df2[\"prd\"]==\"엽채류\",\"prd\"] = \"엽경채류\"\n",
        "df2.loc[df2[\"prd\"]==\"엽채\",\"prd\"] = \"엽경채류\"\n",
        "# 오징어 관련 품목들 정리\n",
        "df2.loc[df2[\"prd\"]==\"오징어다리\",\"prd\"] = \"오징어\"\n",
        "df2.loc[df2[\"prd\"]==\"오징어원양\",\"prd\"] = \"오징어\"\n",
        "df2.loc[df2[\"prd\"]==\"오징어채\",\"prd\"] = \"오징어\"\n",
        "df2.loc[df2[\"prd\"]==\"활복오징어\",\"prd\"] = \"오징어\"\n",
        "df2.loc[df2[\"prd\"]==\"오징어채원양\",\"prd\"] = \"오징어\"\n",
        "df2.loc[df2[\"prd\"]==\"갑오징어살\",\"prd\"] = \"오징어\"\n",
        "# 옥, 풋옥 -> 옥수수로 정리\n",
        "df2.loc[df2[\"prd\"]==\"옥\",\"prd\"] = \"옥수수\"\n",
        "df2.loc[df2[\"prd\"]==\"풋옥\",\"prd\"] = \"옥수수\"\n",
        "# 임연 -> 임연수어로 정리\n",
        "df2.loc[df2[\"prd\"]==\"임연\",\"prd\"] = \"임연수어\"\n",
        "\n",
        "\n",
        "# 절단 -> 절단쭈꾸미 -> 쭈꾸미로 정리\n",
        "df2.loc[df2[\"prd\"]==\"절단\",\"prd\"] = \"쭈꾸미\"\n",
        "# 조개살 -> 조개로 정리\n",
        "df2.loc[df2[\"prd\"]==\"조개살\",\"prd\"] = \"조개\"\n",
        "\n",
        "# 참조 -> 참조기로 정리\n",
        "df2.loc[df2[\"prd\"]==\"참조\",\"prd\"] = \"참조기\"\n",
        "\n",
        "# 칼라후라워,칼리플라워, 칼리후라워 -> 컬리플라워로 통합\n",
        "df2.loc[df2[\"prd\"]==\"칼라후라워\",\"prd\"] = \"컬리플라워\"\n",
        "df2.loc[df2[\"prd\"]==\"칼리플라워\",\"prd\"] = \"컬리플라워\"\n",
        "df2.loc[df2[\"prd\"]==\"칼리후라워\",\"prd\"] = \"컬리플라워\"\n",
        "# 코라비 -> 콜라비로 통합\n",
        "df2.loc[df2[\"prd\"]==\"코라비\",\"prd\"] = \"콜라비\"\n",
        "# 키조개날개 -> 키조개로 통합\n",
        "df2.loc[df2[\"prd\"]==\"키조개날개\",\"prd\"] = \"키조개\"\n",
        "\n",
        "# 팽이 -> 팽이버섯으로 통합\n",
        "df2.loc[df2[\"prd\"]==\"팽이\",\"prd\"] = \"팽이버섯\"\n",
        "# 파세리 -> 파슬리로 변경\n",
        "df2.loc[df2[\"prd\"]==\"파세리\",\"prd\"] = \"파슬리\"\n",
        "# 표고 -> 표고버섯으로 통합\n",
        "df2.loc[df2[\"prd\"]==\"표고\",\"prd\"] = \"표고버섯\"\n",
        "# 포장바지락 -> 바지락으로 변경\n",
        "df2.loc[df2[\"prd\"]==\"포장바지락\",\"prd\"] = \"바지락\"\n",
        "\n",
        "### 일단 여기까지 실행\n",
        "# JY\n",
        "#각굴 -> 굴로 통합\n",
        "df2.loc[df2[\"prd\"]==\"각굴\",\"prd\"] = \"굴\"\n",
        "#가오리채 -> 가오리로 통합\n",
        "df2.loc[df2[\"prd\"]==\"가오리채\",\"prd\"] = \"가오리\"\n",
        "# 게지 -> 키조개로 통합\n",
        "df2.loc[df2[\"prd\"]==\"게지\",\"prd\"] = \"키조개\"\n",
        "#고 -> 고구마로 통합\n",
        "df2.loc[df2[\"prd\"]==\"고\",\"prd\"] = \"고구마\"\n",
        "#꼴뚜 -> 꼴뚜기로 통합\n",
        "df2.loc[df2[\"prd\"]==\"꼴뚜\",\"prd\"] = \"꼴뚜기\"\n",
        "#돗나물 -> 돌나물로 통합\n",
        "df2.loc[df2[\"prd\"]==\"돗나물\",\"prd\"] = \"돌나물\"\n",
        "#레드쉬 -> 레디쉬로 통합\n",
        "df2.loc[df2[\"prd\"]==\"레드쉬\",\"prd\"] = \"레디쉬\"\n",
        "#만가닥 -> 만가닥버섯으로 통합\n",
        "df2.loc[df2[\"prd\"]==\"만가닥\",\"prd\"] = \"만가닥버섯\"\n",
        "#메 -> 메기로 통합\n",
        "df2.loc[df2[\"prd\"]==\"메\",\"prd\"] = \"메기\"\n",
        "#봄동 -> 봄동배추로 통합\n",
        "df2.loc[df2[\"prd\"]==\"봄동\",\"prd\"] = \"봄동배추\"\n",
        "#봉지굴 -> 굴로 통합\n",
        "df2.loc[df2[\"prd\"]==\"봉지굴\",\"prd\"] = \"굴\"\n",
        "#박 -> 수박으로 통합\n",
        "df2.loc[df2[\"prd\"]==\"박\",\"prd\"] = \"수박\"\n",
        "#백조 -> 조기로 통합 \n",
        "df2.loc[df2[\"prd\"]==\"백조\",\"prd\"] = \"조기\"\n",
        "#벅굴 -> 벚굴로 통합\n",
        "df2.loc[df2[\"prd\"]==\"벅굴\",\"prd\"] = \"벚굴\"\n",
        "#비 -> 비타민으로 통합\n",
        "df2.loc[df2[\"prd\"]==\"비\",\"prd\"] = \"비타민\"\n",
        "#빈스 -> 콩으로 통합\n",
        "df2.loc[df2[\"prd\"]==\"빈스\",\"prd\"] = \"콩\"\n",
        "#삐틀이 -> 고둥으로 통합\n",
        "df2.loc[df2[\"prd\"]==\"삐틀이\",\"prd\"] = \"고둥\"\n",
        "#새송이 -> 새송이버섯으로 통합\n",
        "df2.loc[df2[\"prd\"]==\"새송이\",\"prd\"] = \"새송이버섯\"\n",
        "#세트 -> 과채류로 통합\n",
        "df2.loc[df2[\"prd\"]==\"세트\",\"prd\"] = \"과채류\"\n",
        "#알 -> 알로애로 통합\n",
        "df2.loc[df2[\"prd\"]==\"알\",\"prd\"] = \"알로에\"\n",
        "#엄나무 -> 음나무로 통합\n",
        "df2.loc[df2[\"prd\"]==\"엄나무\",\"prd\"] = \"음나무\"\n",
        "#염고등어 -> 고등어로 통합\n",
        "df2.loc[df2[\"prd\"]==\"염고등어\",\"prd\"] = \"고등어\"\n",
        "#오만둥이 -> 미더덕으로 통합\n",
        "df2.loc[df2[\"prd\"]==\"오만둥이\",\"prd\"] = \"미더덕\"\n",
        "#오징어 관련 품목들 정리\n",
        "df2.loc[df2[\"prd\"]==\"선동오징어\",\"prd\"] = \"오징어\"\n",
        "df2.loc[df2[\"prd\"]==\"오징어몸통\",\"prd\"] = \"오징어\"\n",
        "#우렁쉥이 -> 멍게로 통합\n",
        "df2.loc[df2[\"prd\"]==\"우렁쉥이\",\"prd\"] = \"멍게\"\n",
        "#우뭇가시리 -> 우뭇가사리로 통합\n",
        "df2.loc[df2[\"prd\"]==\"우뭇가시리\",\"prd\"] = \"우뭇가사리\"\n",
        "#적채 -> 적양배추로 통합\n",
        "df2.loc[df2[\"prd\"]==\"적채\",\"prd\"] = \"적양배추\"\n",
        "#절단낙지 -> 낙지로 통합\n",
        "df2.loc[df2[\"prd\"]==\"절단낙지\",\"prd\"] = \"낙지\"\n",
        "#조 -> 조개로 통합\n",
        "df2.loc[df2[\"prd\"]==\"조\",\"prd\"] = \"조개\"\n",
        "#청어원양 -> 청어로 통합\n",
        "df2.loc[df2[\"prd\"]==\"청어원양\",\"prd\"] = \"청어\"\n",
        "#키조개꼭지 -> 키조개로 통합\n",
        "df2.loc[df2[\"prd\"]==\"키조개꼭지\",\"prd\"] = \"키조개\"\n",
        "\n",
        "# 암꽃게, 숫꽃게 -> 꽃게로 통합\n",
        "df2.loc[df2[\"prd\"]==\"암꽃게\",\"prd\"] = \"꽃게\"\n",
        "df2.loc[df2[\"prd\"]==\"숫꽃게\",\"prd\"] = \"꽃게\"\n",
        "# 우렁 -> 우렁이로 통합\n",
        "df2.loc[df2[\"prd\"]==\"우렁\",\"prd\"] = \"우렁이\"\n",
        "# 알로애 -> 알로에로 변경\n",
        "df2.loc[df2[\"prd\"]==\"알로애\",\"prd\"] = \"알로에\"\n",
        "# 피마자잎 -> 피마자로 변경\n",
        "df2.loc[df2[\"prd\"]==\"피미자잎\",\"prd\"] = \"피마자\"\n",
        "# 식용허브 -> 허브로 변경\n",
        "df2.loc[df2[\"prd\"]==\"식용허브\",\"prd\"] = \"허브\"\n",
        "# 선인장열매 -> 선인장으로 변경\n",
        "df2.loc[df2[\"prd\"]==\"선인장열매\",\"prd\"] = \"선인장\"\n",
        "# 쌈추 -> 쌈채류로 변경\n",
        "df2.loc[df2[\"prd\"]==\"쌈추\",\"prd\"] = \"쌈채류\"\n",
        "# 덟은감 -> 감으로 변경\n",
        "df2.loc[df2[\"prd\"]==\"덟은감\",\"prd\"] = \"감\"\n",
        "# 피뿔고동 -> 고둥으로 변경\n",
        "df2.loc[df2[\"prd\"]==\"피뿔고동\",\"prd\"] = \"고둥\"\n",
        "# 꼬시래 -> 꼬시래기으로 변경\n",
        "df2.loc[df2[\"prd\"]==\"꼬시래\",\"prd\"] = \"꼬시래기\"\n",
        "# 연어살 -> 연어로 변경\n",
        "df2.loc[df2[\"prd\"]==\"연어살\",\"prd\"] = \"연어\"\n",
        "# 비단멍게 -> 멍게로 변경\n",
        "df2.loc[df2[\"prd\"]==\"비단멍게\",\"prd\"] = \"멍게\"\n",
        "# 조미제품 삭제\n",
        "df2.drop(df2[df2['prd']=='조미제품'].index,inplace=True)\n",
        "df2.drop(df2[df2['prd']=='어류원양'].index,inplace=True)"
      ]
    },
    {
      "cell_type": "code",
      "execution_count": 36,
      "metadata": {},
      "outputs": [
        {
          "data": {
            "text/plain": [
              "array(['팥', '검복', '꼬시래기'], dtype=object)"
            ]
          },
          "execution_count": 36,
          "metadata": {},
          "output_type": "execute_result"
        }
      ],
      "source": [
        "# 기존 products 리스트와 비교\n",
        "ex_prd = pd.read_csv(\"../products.csv\")\n",
        "df2[~df2['prd'].isin(ex_prd['prd'])]['prd'].unique()"
      ]
    },
    {
      "cell_type": "code",
      "execution_count": 37,
      "metadata": {},
      "outputs": [
        {
          "name": "stderr",
          "output_type": "stream",
          "text": [
            "/var/folders/nq/s4zx76p53d11lnr0t1dxpxh00000gn/T/ipykernel_2184/2619460125.py:4: FutureWarning: The frame.append method is deprecated and will be removed from pandas in a future version. Use pandas.concat instead.\n",
            "  products = ex_prd.append(new_prd,ignore_index=True)\n"
          ]
        }
      ],
      "source": [
        "# 물품 리스트 최신화\n",
        "new_prd = pd.DataFrame(df2['prd'].unique(),columns=['prd'])\n",
        "# products = ex_prd.append(new_prd[~new_prd['prd'].isin(ex_prd['prd'])],ignore_index=True)\n",
        "products = ex_prd.append(new_prd,ignore_index=True)"
      ]
    },
    {
      "cell_type": "code",
      "execution_count": 38,
      "metadata": {},
      "outputs": [],
      "source": [
        "products.drop(columns=['Unnamed: 0'],inplace=True)\n",
        "products.drop_duplicates(inplace=True)\n",
        "products.reset_index(inplace=True,drop=True)"
      ]
    },
    {
      "cell_type": "code",
      "execution_count": 39,
      "metadata": {},
      "outputs": [],
      "source": [
        "# 다음 작업을 위해 저장\n",
        "products.to_csv('../products.csv')"
      ]
    },
    {
      "cell_type": "code",
      "execution_count": 40,
      "metadata": {
        "colab": {
          "base_uri": "https://localhost:8080/",
          "height": 300
        },
        "id": "CxbMB3I59tCZ",
        "outputId": "d29f9bba-e828-4319-9402-7dc24ba1778b"
      },
      "outputs": [
        {
          "data": {
            "text/html": [
              "<div>\n",
              "<style scoped>\n",
              "    .dataframe tbody tr th:only-of-type {\n",
              "        vertical-align: middle;\n",
              "    }\n",
              "\n",
              "    .dataframe tbody tr th {\n",
              "        vertical-align: top;\n",
              "    }\n",
              "\n",
              "    .dataframe thead th {\n",
              "        text-align: right;\n",
              "    }\n",
              "</style>\n",
              "<table border=\"1\" class=\"dataframe\">\n",
              "  <thead>\n",
              "    <tr style=\"text-align: right;\">\n",
              "      <th></th>\n",
              "      <th>prd</th>\n",
              "    </tr>\n",
              "  </thead>\n",
              "  <tbody>\n",
              "    <tr>\n",
              "      <th>count</th>\n",
              "      <td>224.00000</td>\n",
              "    </tr>\n",
              "    <tr>\n",
              "      <th>mean</th>\n",
              "      <td>2191.40625</td>\n",
              "    </tr>\n",
              "    <tr>\n",
              "      <th>std</th>\n",
              "      <td>5603.00026</td>\n",
              "    </tr>\n",
              "    <tr>\n",
              "      <th>min</th>\n",
              "      <td>1.00000</td>\n",
              "    </tr>\n",
              "    <tr>\n",
              "      <th>25%</th>\n",
              "      <td>12.00000</td>\n",
              "    </tr>\n",
              "    <tr>\n",
              "      <th>50%</th>\n",
              "      <td>118.50000</td>\n",
              "    </tr>\n",
              "    <tr>\n",
              "      <th>75%</th>\n",
              "      <td>939.75000</td>\n",
              "    </tr>\n",
              "    <tr>\n",
              "      <th>max</th>\n",
              "      <td>35319.00000</td>\n",
              "    </tr>\n",
              "  </tbody>\n",
              "</table>\n",
              "</div>"
            ],
            "text/plain": [
              "              prd\n",
              "count   224.00000\n",
              "mean   2191.40625\n",
              "std    5603.00026\n",
              "min       1.00000\n",
              "25%      12.00000\n",
              "50%     118.50000\n",
              "75%     939.75000\n",
              "max   35319.00000"
            ]
          },
          "execution_count": 40,
          "metadata": {},
          "output_type": "execute_result"
        }
      ],
      "source": [
        "# 전체 거래량과 품목량\n",
        "# 비교를 위해 분포 파악\n",
        "# 거래량이 너무 적은 품목은 삭제할 필요성이 있음\n",
        "\n",
        "prd_lst = (df2['prd'].value_counts()).to_frame()\n",
        "prd_lst.describe()"
      ]
    },
    {
      "cell_type": "code",
      "execution_count": 41,
      "metadata": {
        "id": "_qhAf86UEoSv"
      },
      "outputs": [],
      "source": [
        "# 50개 미만 품목은 비교가 힘드므로 삭제\n",
        "# 줄어든 종류만 남기기\n",
        "\n",
        "prd_lst = prd_lst[prd_lst['prd']>=50]\n",
        "prd_lst.reset_index(inplace=True)\n",
        "prd_lst = prd_lst.rename(columns = {'index':'prd','prd':'count'})"
      ]
    },
    {
      "cell_type": "code",
      "execution_count": 42,
      "metadata": {
        "colab": {
          "base_uri": "https://localhost:8080/"
        },
        "id": "WZfTHQDe-jTG",
        "outputId": "7e713769-2413-4b10-db9d-348498e24708"
      },
      "outputs": [
        {
          "data": {
            "text/plain": [
              "버섯     35319\n",
              "복숭아    29867\n",
              "포도     28527\n",
              "고추     28427\n",
              "호박     27890\n",
              "       ...  \n",
              "참나물       61\n",
              "유채        57\n",
              "동죽        56\n",
              "갈치        53\n",
              "참다래       50\n",
              "Name: prd, Length: 137, dtype: int64"
            ]
          },
          "execution_count": 42,
          "metadata": {},
          "output_type": "execute_result"
        }
      ],
      "source": [
        "df3 = df2.merge(prd_lst)\n",
        "df3[df3['count']>=50]['prd'].value_counts()"
      ]
    },
    {
      "cell_type": "code",
      "execution_count": 43,
      "metadata": {
        "id": "OnwYlUyTEJdF"
      },
      "outputs": [],
      "source": [
        "# 줄어든 것 확인했으므로 count column은 삭제\n",
        "df3 = df3.drop(columns='count')"
      ]
    },
    {
      "cell_type": "markdown",
      "metadata": {
        "id": "jPcICeSResYh"
      },
      "source": [
        "### scale"
      ]
    },
    {
      "cell_type": "code",
      "execution_count": 44,
      "metadata": {
        "colab": {
          "base_uri": "https://localhost:8080/"
        },
        "id": "4KZLpXuYYTZx",
        "outputId": "f59c1146-fdb9-4483-81a3-a0f51dd08904"
      },
      "outputs": [
        {
          "data": {
            "text/plain": [
              "array([ 10.  ,   4.  ,   2.5 ,   4.5 ,   2.  ,   3.  ,   5.  ,   1.8 ,\n",
              "         6.  ,   8.8 ,   8.  ,   0.5 ,   0.1 ,   0.2 ,   0.3 ,   1.  ,\n",
              "         0.8 ,  11.  ,  13.  ,  12.  ,   3.5 ,   7.  ,   9.  ,   7.4 ,\n",
              "         9.5 ,   7.5 ,   6.5 ,   1.5 ,   1.2 ,  20.  ,   0.6 ,  14.  ,\n",
              "         2.6 ,  15.  ,   3.4 ,  18.  ,   4.8 ,   0.7 ,   3.7 ,  17.  ,\n",
              "         3.6 ,   2.7 ,   3.2 ,   2.9 ,   4.2 ,   0.4 ,  16.  ,  27.  ,\n",
              "         8.4 ,  19.  ,  23.  ,  22.  ,  21.  ,   5.4 ,   2.2 ,   3.9 ,\n",
              "         7.8 ,   5.5 ,   9.2 ,   3.62,   3.8 ,   1.6 ,  10.5 ,   4.3 ,\n",
              "         2.4 ,   3.3 ,   9.8 ,   4.4 ,   2.8 ,   3.1 ,   7.7 ,   8.5 ,\n",
              "         9.4 ,   1.7 ,   4.6 ,   8.6 ,   7.1 ,   4.9 ,   4.7 ,   5.7 ,\n",
              "        11.5 ,   9.3 ,   6.2 ,   8.3 ,  11.8 ,   5.1 ,  12.5 ,   9.6 ,\n",
              "         8.2 ,   7.3 ,   6.6 ,   5.3 ,   5.8 ,  24.  ,  26.  ,  29.  ,\n",
              "         5.6 ,   6.4 ,   0.08,   0.09,   0.25,   0.15,   0.05,   0.07,\n",
              "       151.  ,  14.5 ,  10.01,  20.01,   6.8 ,  25.  ,   2.01,   4.01,\n",
              "         0.75,   1.55,   0.9 ,   1.3 ,   9.9 ,  12.3 ,   8.9 ,  11.4 ,\n",
              "        10.6 ,   9.7 ,   7.9 ,   8.01,  88.  ,   5.2 , 110.  ,   6.3 ,\n",
              "       200.  ,  40.  ,  12.8 ,  10.4 ,   7.2 ,  18.1 ,   1.4 ,   0.16,\n",
              "         2.3 ,   2.1 ,  33.  ,   7.6 ,   1.9 ,   4.1 ,  28.  ,  52.  ,\n",
              "        17.2 ,  13.5 ,  14.2 ,  30.  ,  16.5 ,  27.5 ,  15.01,   0.22,\n",
              "         0.12,   0.03,   0.17,   0.35,  10.8 , 501.  ,   1.1 ,   1.54,\n",
              "        17.5 ,   2.16,  21.5 ,  22.5 ])"
            ]
          },
          "execution_count": 44,
          "metadata": {},
          "output_type": "execute_result"
        }
      ],
      "source": [
        "np.set_printoptions(precision=2, suppress=True)\n",
        "df3['scale'].unique()"
      ]
    },
    {
      "cell_type": "code",
      "execution_count": 45,
      "metadata": {
        "colab": {
          "base_uri": "https://localhost:8080/",
          "height": 1000
        },
        "id": "-43K_jyN92IZ",
        "outputId": "7b3e92a5-a0eb-4b09-bc6c-36948c74b860"
      },
      "outputs": [
        {
          "data": {
            "text/html": [
              "<div>\n",
              "<style scoped>\n",
              "    .dataframe tbody tr th:only-of-type {\n",
              "        vertical-align: middle;\n",
              "    }\n",
              "\n",
              "    .dataframe tbody tr th {\n",
              "        vertical-align: top;\n",
              "    }\n",
              "\n",
              "    .dataframe thead th {\n",
              "        text-align: right;\n",
              "    }\n",
              "</style>\n",
              "<table border=\"1\" class=\"dataframe\">\n",
              "  <thead>\n",
              "    <tr style=\"text-align: right;\">\n",
              "      <th></th>\n",
              "      <th>prd</th>\n",
              "      <th>scale</th>\n",
              "      <th>price</th>\n",
              "      <th>origin</th>\n",
              "      <th>eco</th>\n",
              "      <th>reg_date</th>\n",
              "      <th>new_class</th>\n",
              "      <th>price_kg</th>\n",
              "    </tr>\n",
              "  </thead>\n",
              "  <tbody>\n",
              "    <tr>\n",
              "      <th>151546</th>\n",
              "      <td>연근</td>\n",
              "      <td>151.00000</td>\n",
              "      <td>33000</td>\n",
              "      <td>대구 동구</td>\n",
              "      <td>normal</td>\n",
              "      <td>2021-09-01</td>\n",
              "      <td>2</td>\n",
              "      <td>218.54000</td>\n",
              "    </tr>\n",
              "    <tr>\n",
              "      <th>277492</th>\n",
              "      <td>호박</td>\n",
              "      <td>88.00000</td>\n",
              "      <td>28000</td>\n",
              "      <td>경기 이천시</td>\n",
              "      <td>normal</td>\n",
              "      <td>2021-09-02</td>\n",
              "      <td>1</td>\n",
              "      <td>318.18000</td>\n",
              "    </tr>\n",
              "    <tr>\n",
              "      <th>277493</th>\n",
              "      <td>호박</td>\n",
              "      <td>88.00000</td>\n",
              "      <td>26500</td>\n",
              "      <td>경기 이천시</td>\n",
              "      <td>normal</td>\n",
              "      <td>2021-09-02</td>\n",
              "      <td>1</td>\n",
              "      <td>301.14000</td>\n",
              "    </tr>\n",
              "    <tr>\n",
              "      <th>283537</th>\n",
              "      <td>호박</td>\n",
              "      <td>110.00000</td>\n",
              "      <td>37500</td>\n",
              "      <td>강원 홍천군</td>\n",
              "      <td>normal</td>\n",
              "      <td>2021-09-09</td>\n",
              "      <td>1</td>\n",
              "      <td>340.91000</td>\n",
              "    </tr>\n",
              "    <tr>\n",
              "      <th>294314</th>\n",
              "      <td>호박</td>\n",
              "      <td>200.00000</td>\n",
              "      <td>7600</td>\n",
              "      <td>전남 해남군</td>\n",
              "      <td>normal</td>\n",
              "      <td>2021-09-15</td>\n",
              "      <td>9</td>\n",
              "      <td>38.00000</td>\n",
              "    </tr>\n",
              "    <tr>\n",
              "      <th>297459</th>\n",
              "      <td>호박</td>\n",
              "      <td>110.00000</td>\n",
              "      <td>9000</td>\n",
              "      <td>강원 홍천군</td>\n",
              "      <td>normal</td>\n",
              "      <td>2021-09-09</td>\n",
              "      <td>2</td>\n",
              "      <td>81.82000</td>\n",
              "    </tr>\n",
              "    <tr>\n",
              "      <th>394300</th>\n",
              "      <td>대추</td>\n",
              "      <td>52.00000</td>\n",
              "      <td>260000</td>\n",
              "      <td>경남 창원시</td>\n",
              "      <td>normal</td>\n",
              "      <td>2021-09-28</td>\n",
              "      <td>2</td>\n",
              "      <td>5000.00000</td>\n",
              "    </tr>\n",
              "    <tr>\n",
              "      <th>430515</th>\n",
              "      <td>배</td>\n",
              "      <td>151.00000</td>\n",
              "      <td>32000</td>\n",
              "      <td>경북 상주시</td>\n",
              "      <td>normal</td>\n",
              "      <td>2021-09-15</td>\n",
              "      <td>1</td>\n",
              "      <td>211.92000</td>\n",
              "    </tr>\n",
              "    <tr>\n",
              "      <th>485871</th>\n",
              "      <td>낙지</td>\n",
              "      <td>501.00000</td>\n",
              "      <td>40700</td>\n",
              "      <td>수입 중국</td>\n",
              "      <td>normal</td>\n",
              "      <td>2021-09-07</td>\n",
              "      <td>3</td>\n",
              "      <td>81.24000</td>\n",
              "    </tr>\n",
              "  </tbody>\n",
              "</table>\n",
              "</div>"
            ],
            "text/plain": [
              "       prd     scale   price  origin     eco   reg_date  new_class   price_kg\n",
              "151546  연근 151.00000   33000   대구 동구  normal 2021-09-01          2  218.54000\n",
              "277492  호박  88.00000   28000  경기 이천시  normal 2021-09-02          1  318.18000\n",
              "277493  호박  88.00000   26500  경기 이천시  normal 2021-09-02          1  301.14000\n",
              "283537  호박 110.00000   37500  강원 홍천군  normal 2021-09-09          1  340.91000\n",
              "294314  호박 200.00000    7600  전남 해남군  normal 2021-09-15          9   38.00000\n",
              "297459  호박 110.00000    9000  강원 홍천군  normal 2021-09-09          2   81.82000\n",
              "394300  대추  52.00000  260000  경남 창원시  normal 2021-09-28          2 5000.00000\n",
              "430515   배 151.00000   32000  경북 상주시  normal 2021-09-15          1  211.92000\n",
              "485871  낙지 501.00000   40700   수입 중국  normal 2021-09-07          3   81.24000"
            ]
          },
          "execution_count": 45,
          "metadata": {},
          "output_type": "execute_result"
        }
      ],
      "source": [
        "# 50kg 이상 거래된 건들 이상치라 판단하고 확인 진행\n",
        "df3[df3['scale']>=50]"
      ]
    },
    {
      "cell_type": "code",
      "execution_count": 46,
      "metadata": {
        "id": "v1EZDKB59dJp"
      },
      "outputs": [],
      "source": [
        "# 스케일 오표기된 항목 수정\n",
        "\n",
        "# 이상치 항목 삭제\n",
        "df3 = df3.drop(df3[(df3['scale']>=50)].index)"
      ]
    },
    {
      "cell_type": "code",
      "execution_count": 47,
      "metadata": {},
      "outputs": [
        {
          "data": {
            "text/html": [
              "<div>\n",
              "<style scoped>\n",
              "    .dataframe tbody tr th:only-of-type {\n",
              "        vertical-align: middle;\n",
              "    }\n",
              "\n",
              "    .dataframe tbody tr th {\n",
              "        vertical-align: top;\n",
              "    }\n",
              "\n",
              "    .dataframe thead th {\n",
              "        text-align: right;\n",
              "    }\n",
              "</style>\n",
              "<table border=\"1\" class=\"dataframe\">\n",
              "  <thead>\n",
              "    <tr style=\"text-align: right;\">\n",
              "      <th></th>\n",
              "      <th>prd</th>\n",
              "      <th>scale</th>\n",
              "      <th>price</th>\n",
              "      <th>origin</th>\n",
              "      <th>eco</th>\n",
              "      <th>reg_date</th>\n",
              "      <th>new_class</th>\n",
              "      <th>price_kg</th>\n",
              "    </tr>\n",
              "  </thead>\n",
              "  <tbody>\n",
              "  </tbody>\n",
              "</table>\n",
              "</div>"
            ],
            "text/plain": [
              "Empty DataFrame\n",
              "Columns: [prd, scale, price, origin, eco, reg_date, new_class, price_kg]\n",
              "Index: []"
            ]
          },
          "execution_count": 47,
          "metadata": {},
          "output_type": "execute_result"
        }
      ],
      "source": [
        "df3[df3['scale']>=50]"
      ]
    },
    {
      "cell_type": "markdown",
      "metadata": {
        "id": "5I9D6wZCWDhi"
      },
      "source": [
        "### origin"
      ]
    },
    {
      "cell_type": "code",
      "execution_count": 48,
      "metadata": {
        "colab": {
          "base_uri": "https://localhost:8080/"
        },
        "id": "pI0Ezwn-VgXP",
        "outputId": "8d8f9387-01cb-4c3a-a3c9-e521b970aafb"
      },
      "outputs": [
        {
          "data": {
            "text/plain": [
              "array(['경북 영천시', '충북 음성군', '경기 이천시', '강원 횡성군', '경북 영주시', '충북 충주시',\n",
              "       '충북 충주시 가금면', '강원 춘천시', '충북', '대구 북구', '경북 영주시 순흥면', '경북 영주시 단산면',\n",
              "       '강원 화천군', '경기 가평군', '경북 예천군', '충북 제천시', '대구 동구', '경북 김천시',\n",
              "       '경북 상주시', '경북 성주군', '경북 경산시', '경북 군위군', '경북', '경기 여주군', '충북 옥천군',\n",
              "       '충북 영동군', '청주시 청원구', '강원 양구군', '경북 의성군', '전북 무주군', '강원도 철원군',\n",
              "       '강원 원주시', '충북 괴산군', '경북 문경시', '전북 임실군', '경기 연천군', '강원', '경북 안동시',\n",
              "       '경북 청송군', '경기 여주시', '충남 논산시', '강원 평창군', '경북 영주시 안정면', '경기 안성시',\n",
              "       '강원 영월군', '경북 상주시 외남면', '경북 상주시 공검면', '경북 봉화군', '경북 청도군',\n",
              "       '경북 영천시 화남면', '경북 경주시', '강원 영월군 중동면', '청주시 상당구', '충북 음성군 감곡면',\n",
              "       '경북 경산시 남산면', '충북 청주시 상당구', '충북 충주시 금가면', '서울시 강서구', '경북 영양군',\n",
              "       '서울 중구', '전북 고창군', '경기 파주시', '경기도 이천시', '강원 홍천군', '경기 광주시',\n",
              "       '서울 송파구', '경기 양평군', '경기도 고양시', '경기도 여주군', '경기 구리시', '경기도 김포시',\n",
              "       '서울 강동구', '경기 포천시', '경기 하남시', '경기 오산시', '경기 남양주시', '충남 서천군',\n",
              "       '경기 양주시', '경기 고양시', '경기 양평군 양동면', '경기 양주군', '경기 포천군', '경기 고양시일산구',\n",
              "       '경기 고양시 덕양구', '강원 철원군', '경기', '서울 강서구', '경기도 파주시', '서울시 송파구',\n",
              "       '경기 용인시', '경기도 광명시', '충남 부여군', '경기 평택시', '경남 하동군', '경기 여주시 대신면',\n",
              "       '경기 이천시 대월면', '경기 김포시', '충남 금산군', '충남 당진시', '강원 인제군', '충남 서산시',\n",
              "       '경남 진주시', '전남 나주시', '광주 남구', '경남 밀양시', '수입산 중국', '중국', '수입산 미국',\n",
              "       '미국', '충북 청주시', '전북 진안군', '충남 천안시', '충남 공주시', '수입산 칠레', '충남 예산군',\n",
              "       '칠레', '전남 고흥군', '충남 태안군', '인천 옹진군', '경남 의령군', '인천 강화군', '강원 고성군',\n",
              "       '경기 성남시', '제주 북제주군', '제주 제주시', '충남 보령시', '충남 홍성군', '충남', '충남 아산시',\n",
              "       '강원도 홍천군', '전북 익산시', '경기도 양주군', '전북 장수군', '경남 함양군', '경남 거창군',\n",
              "       '전북 완주군', '강원도 강릉시', '전북', '제주 서귀포시', '전라북도 장수군', '전북 남원시',\n",
              "       '경북 칠곡군', '강원 정선군', '충북 보은군', '경북 영주시 부석면', '강원 삼척시', '충북 단양군',\n",
              "       '강원 강릉시', '충북 진천군', '경북 문경시 가은읍', '충북 영동군 매곡면', '전북 무주군 무풍면',\n",
              "       '경북 영주시 봉현면', '경남 거창군 고제면', '경남 함안군', '경남 거창군 가북면', '경남', '충남 청양군',\n",
              "       '경북 영천시 고경면', '경북 고령군', '강원 태백시 황지동', '전라북도 장', '경북 안동시 남후면',\n",
              "       '경북 안동시 길안면', '성남시 중원구', '경기 광명시', '전라북도 익산시', '인천시 계양구',\n",
              "       '충남 논산시 가야곡면', '경기도 안성시', '충남 논산시 양촌면', '성남시 분당구', '세종', '강원 태백시',\n",
              "       '충남 논산시 연무읍', '세종 세종시', '경남 산청군', '충남 논산시 성동면', '전북 익산시 망성면',\n",
              "       '서울시 양천구', '서울 양천구', '경기 안성시 공도읍', '전라북도 익', '경기도 부천시', '경기 시흥시',\n",
              "       '경기도 시흥시', '충남 계룡시', '충남 논산시 강경읍', '서울 중랑구', '경기도 하남시', '강원도 횡성군',\n",
              "       '경기 안산시', '전남 화순군', '전남 장성군', '전남 함평군', '경북 김천시 조마면', '전남 무안군',\n",
              "       '전남 장흥군', '전남 담양군', '경북 김천시 감문면', '충남 태안군 남면', '광주 광산구', '충남 연기군',\n",
              "       '충북 제천시 금성면', '전북 정읍시 감곡면', '경북 영주시 장수면', '광주 서구', '경남 창원시 의창구',\n",
              "       '전북 정읍시', '전남 곡성군', '경남 창녕군', '전남 영암군', '경남 고성군', '경기 부천시',\n",
              "       '광주 북구', '전남 보성군', '경남 창원시', '서울 강남구', '광주 동구', '강원 홍천군 내촌면',\n",
              "       '경기 포천시 영북면', '전북 부안군', '대구 달성군', '경북 구미시', '충북 음성군 맹동면', '서울',\n",
              "       '강원 철원군 김화읍', '전북 고창군 성송면', '경기 용인시 원삼면', '서울 은평구', '서울시 은평구',\n",
              "       '경기 고양시덕양구', '전라북도 순창군', '경기도 포천군', '전남 신안군', '서울 동대문구', '서울 도봉구',\n",
              "       '서울시 도봉구', '필리핀', '페루', '수입산 페루', '수입산 뉴질랜드', '뉴질랜드', '인천 계양구',\n",
              "       '강원도 평창군', '강원 평창군 대관령면', '강원 강릉시 강동면', '강원도 태백시', '강원도 삼척시',\n",
              "       '전남 해남군', '경기도 광주군', '부산시 강서구', '경기 화성시', '경기 의왕시', '경남 합천군',\n",
              "       '경기 동두천시', '경기 의정부시', '전북 김제시', '경북/문경시', '전남 강진군', '대구 중구',\n",
              "       '경북/상주시', '전남 여수시', '전남 무안군 현경면', '전남 목포시', '전북 군산시', '경남 밀양시 무안면',\n",
              "       '경북/영천시', '경남/합천군', '제주도 제주시', '부산 강서구', '강원도 정선군', '전남 구례군',\n",
              "       '경남 창원시 성산구', '경기 안성시 고삼면', '수입산 호주', '수입산 남아공산', '호주', '오스트레일',\n",
              "       '기타외국', '남아프리카', '오스트레일리아', '남아프리카공화국', '강원 영월군 북면', '경기 의정부',\n",
              "       '충북 청원군', '강원 홍천군 서석면', '경기 가평군 북면', '경기 광주시 퇴촌면', '대전', '대전 중구',\n",
              "       '대전 서구', '경기도 평택시', '경남 사천시', '충북 음성군 생극면', '경기 미금시', '전북 전주시',\n",
              "       '세종시', '경기 이천시 설성면', '경북 예천군 감천면', '경북 영천시 화북면', '경북 영천시 금호읍',\n",
              "       '경북 영주시 문수면', '경북 문경시 문경읍', '경북 문경시 산양면', '경북 영천시 북안면',\n",
              "       '경북 문경시 산북면', '충남 아산시 도고면', '전북 순창군', '경기 양주시 장흥면', '경북 의성군 신평면',\n",
              "       '경기도 남양주시', '경북 성주군 초전면', '경기 용인시 모현면', '전남 고흥군 도화면', '제주',\n",
              "       '충남 부여군 규암면', '경기 용인시 구성읍', '경북 포항시', '전남 곡성군 고달면', '강원 홍천군 내면',\n",
              "       '강원도 춘천시', '강원 고성군 현내면', '서울 동대문', '강원 횡성군 둔내면', '강원 양양군 서면',\n",
              "       '경기 남양주', '수입산 필리핀', '베트남', '인천 남구', '인천', '인천광역시 남구', '인천시 부평구',\n",
              "       '인천광역시', '인천 부평구', '인천 미추홀', '경남 진주시 금곡면', '대전 동구', '경기도 안산시',\n",
              "       '인천시 강화군', '경기 화성시 송산면', '충북 영동군 황간면', '경기 수원시', '충남 천안시 서북구',\n",
              "       '서울특별시 동대문구', '경북 경산시 와촌면', '경북 영천시 대창면', '인천 강화군 양사면',\n",
              "       '경북 김천시 대항면', '전라북도 남원시', '경북 상주시 모동면', '인천 강화군 양도면', '제주도 서귀포시',\n",
              "       '경북 김천시 봉산면', '경북 김천시 개령면', '경북 상주시 사벌면', '강원 홍천군 남면', '전남',\n",
              "       '전남 나주시 문평면', '충남 홍성군 은하면', '전라남도 나주시', '경기 의왕시 초평로 1',\n",
              "       '경기 이천시 모가면', '강원 삼척시 가곡면', '강원 정선군 화암면', '광주시 남구', '경남 밀양시 단장면',\n",
              "       '강원 영월군 김삿갓면', '경기도 연천군', '광주', '전남 나주시 공산면', '광주시 광산구', '전남 영광군',\n",
              "       '충남 공주시 계룡면', '광주시 서구', '인천 미추홀구', '인천 남동구', '서울 구로구', '경남 김해시',\n",
              "       '강원도 화천군', '경기 양주시 남면', '경기 양주시 광적면', '경기 양주시 백석읍', '강원도 인제군',\n",
              "       '일본', '수입산 일본', '전남 해남군 화원면', '부산', '전남 진도군', '부산 중구', '서울 영등포',\n",
              "       '부산 동구', '부산광역시 강서구', '경기 여주시 북내면', '경기 안성시 양성면', '전남 순천시',\n",
              "       '경기 안성시 일죽면', '경기 안성시 금광면', '전남 광양시', '제주 서귀포시(2)', '제주 남제주군',\n",
              "       '제주 서귀포시 남원읍', '제주 서귀포', '제주 남제주', '제주특별자치도 서귀', '제주 북제주',\n",
              "       '경기 평택시 고덕면', '대구 남구', '충북 청주시 없음', '강원 강릉시 왕산면', '경기 고양시 일산동구',\n",
              "       '경기 김포시 고촌읍', '전라북도 완주군', '전라북도 완', '경기 남양주시 진건읍', '멕시코', '경북 영덕군',\n",
              "       '우즈베키스탄', '태국', '수입산 베트남', '경남 양산시 상북면', '경북 고령군 다산면',\n",
              "       '충남 홍성군 갈산면', '경기 남양주시 조안면', '경기 남양주시 와부읍', '경기 양평군 강상면',\n",
              "       '경기도 양평군', '경기도 화성군', '경남 창원시 북면', '전남 곡성군 오곡면', '경상남도 밀양시',\n",
              "       '부산 기장군', '부산시 기장군', '경남 양산시', '부산 북구', '부산 금정구', '부산 사상구',\n",
              "       '충남 부여군 세도면', '강원 평창군 진부면', '경남 함양군 서상면', '강원 평창군 봉평면',\n",
              "       '전남 나주시 산포면', '수입산 멕시코', '인천 중구', '대구', '수입산 태국', '브라질', '수입산 브라질',\n",
              "       '타이', '광주 광주', '경남 남해군', '충북 음성군 금왕읍', '경기 이천시 백사면', '경북 경주시 감포읍',\n",
              "       '경북 구미시 해평면', '전북 남원시 금지면', '충남 논산시 노성면', '경북 포항시남구', '충남 부여군 구룡면',\n",
              "       '전남 영암군 금정면', '전북 고창군 무장면', '경북 구미시 도개면', '전남 신안군 압해면',\n",
              "       '전남 영암군 삼호읍', '가락동', '전남 무안군 몽탄면', '부천시 오정구', '인천 서구', '경기 부천시오정구',\n",
              "       '전남 나주시 노안면', '전북 김제시 금산면', '전주시 덕진구', '에콰도르', '코스타리카', '콜롬비아',\n",
              "       '과테말라', '에쿠아도르', '에콰돌', '수입산 에콰도르', '수입산 코스타리카', '수입산 콜롬비아',\n",
              "       '수입산 과테말라', '수입산 인도네시아', '인도네시아', '전남 순천시 주암면', '인천 강화군 불은면',\n",
              "       '강원 춘천시 남산면', '충남 예산군 덕산면', '세종 특별자치시', '충남 천안시 광덕면', '충남 천안시 동면',\n",
              "       '전남 나주시 세지면', '전남 나주시 금천면', '세종특별자치시', '전북 정읍시 북면', '전남 나주시 봉황면',\n",
              "       '충남 아산시 음봉면', '경북 울진군', '강원도 영월군', '대전 유성구', '강원도 고성군', '강원 양양군',\n",
              "       '청주시 흥덕구', '충북 증평군', '경북 청도군 각남면', '국내산', '수입 베트남', '수입 캐나다',\n",
              "       '수입 에콰도르', '수입 말레이지아', '수입 인도', '수입 페루', '전북 군산', '경남 삼천포',\n",
              "       '수입 중국', '전남 순천(광양)', '전남 보성(벌교)', '수입 노르웨이', '경남 마산(고성,진해)',\n",
              "       '수입 기타', '포클랜드', '충남 장항(서천)', '수입 칠레', '충남 서산', '전남 목포(무안)',\n",
              "       '수입 러시아', '전남 여수', '전북 부안', '경남 남해', '전북 고창', '수입 미국', '수입 세네갈',\n",
              "       '제주 제주도', '서해안', '경남 통영', '경기 인천', '전남 강진'], dtype=object)"
            ]
          },
          "execution_count": 48,
          "metadata": {},
          "output_type": "execute_result"
        }
      ],
      "source": [
        "# 도,시, 국산, 수입 표기 분류 필요\n",
        "df3['origin'].unique()"
      ]
    },
    {
      "cell_type": "code",
      "execution_count": 49,
      "metadata": {
        "colab": {
          "base_uri": "https://localhost:8080/",
          "height": 423
        },
        "id": "rvX1g3c_Ll2C",
        "outputId": "56330691-579b-46aa-b24a-046112748253"
      },
      "outputs": [
        {
          "data": {
            "text/html": [
              "<div>\n",
              "<style scoped>\n",
              "    .dataframe tbody tr th:only-of-type {\n",
              "        vertical-align: middle;\n",
              "    }\n",
              "\n",
              "    .dataframe tbody tr th {\n",
              "        vertical-align: top;\n",
              "    }\n",
              "\n",
              "    .dataframe thead th {\n",
              "        text-align: right;\n",
              "    }\n",
              "</style>\n",
              "<table border=\"1\" class=\"dataframe\">\n",
              "  <thead>\n",
              "    <tr style=\"text-align: right;\">\n",
              "      <th></th>\n",
              "      <th>prd</th>\n",
              "      <th>scale</th>\n",
              "      <th>price</th>\n",
              "      <th>origin</th>\n",
              "      <th>eco</th>\n",
              "      <th>reg_date</th>\n",
              "      <th>new_class</th>\n",
              "      <th>price_kg</th>\n",
              "      <th>0</th>\n",
              "      <th>1</th>\n",
              "      <th>2</th>\n",
              "      <th>3</th>\n",
              "    </tr>\n",
              "  </thead>\n",
              "  <tbody>\n",
              "    <tr>\n",
              "      <th>0</th>\n",
              "      <td>복숭아</td>\n",
              "      <td>10.00000</td>\n",
              "      <td>29000</td>\n",
              "      <td>경북 영천시</td>\n",
              "      <td>normal</td>\n",
              "      <td>2021-08-31</td>\n",
              "      <td>1</td>\n",
              "      <td>2900.00000</td>\n",
              "      <td>경북</td>\n",
              "      <td>영천시</td>\n",
              "      <td>NaN</td>\n",
              "      <td>NaN</td>\n",
              "    </tr>\n",
              "    <tr>\n",
              "      <th>1</th>\n",
              "      <td>복숭아</td>\n",
              "      <td>10.00000</td>\n",
              "      <td>47000</td>\n",
              "      <td>경북 영천시</td>\n",
              "      <td>normal</td>\n",
              "      <td>2021-08-31</td>\n",
              "      <td>1</td>\n",
              "      <td>4700.00000</td>\n",
              "      <td>경북</td>\n",
              "      <td>영천시</td>\n",
              "      <td>NaN</td>\n",
              "      <td>NaN</td>\n",
              "    </tr>\n",
              "    <tr>\n",
              "      <th>2</th>\n",
              "      <td>복숭아</td>\n",
              "      <td>10.00000</td>\n",
              "      <td>14000</td>\n",
              "      <td>경북 영천시</td>\n",
              "      <td>normal</td>\n",
              "      <td>2021-08-31</td>\n",
              "      <td>1</td>\n",
              "      <td>1400.00000</td>\n",
              "      <td>경북</td>\n",
              "      <td>영천시</td>\n",
              "      <td>NaN</td>\n",
              "      <td>NaN</td>\n",
              "    </tr>\n",
              "    <tr>\n",
              "      <th>3</th>\n",
              "      <td>복숭아</td>\n",
              "      <td>10.00000</td>\n",
              "      <td>38000</td>\n",
              "      <td>경북 영천시</td>\n",
              "      <td>normal</td>\n",
              "      <td>2021-08-31</td>\n",
              "      <td>1</td>\n",
              "      <td>3800.00000</td>\n",
              "      <td>경북</td>\n",
              "      <td>영천시</td>\n",
              "      <td>NaN</td>\n",
              "      <td>NaN</td>\n",
              "    </tr>\n",
              "    <tr>\n",
              "      <th>4</th>\n",
              "      <td>복숭아</td>\n",
              "      <td>10.00000</td>\n",
              "      <td>24000</td>\n",
              "      <td>경북 영천시</td>\n",
              "      <td>normal</td>\n",
              "      <td>2021-08-31</td>\n",
              "      <td>1</td>\n",
              "      <td>2400.00000</td>\n",
              "      <td>경북</td>\n",
              "      <td>영천시</td>\n",
              "      <td>NaN</td>\n",
              "      <td>NaN</td>\n",
              "    </tr>\n",
              "    <tr>\n",
              "      <th>...</th>\n",
              "      <td>...</td>\n",
              "      <td>...</td>\n",
              "      <td>...</td>\n",
              "      <td>...</td>\n",
              "      <td>...</td>\n",
              "      <td>...</td>\n",
              "      <td>...</td>\n",
              "      <td>...</td>\n",
              "      <td>...</td>\n",
              "      <td>...</td>\n",
              "      <td>...</td>\n",
              "      <td>...</td>\n",
              "    </tr>\n",
              "    <tr>\n",
              "      <th>489822</th>\n",
              "      <td>미꾸라지</td>\n",
              "      <td>1.00000</td>\n",
              "      <td>9250</td>\n",
              "      <td>국내산</td>\n",
              "      <td>normal</td>\n",
              "      <td>2021-09-29</td>\n",
              "      <td>3</td>\n",
              "      <td>9250.00000</td>\n",
              "      <td>국내산</td>\n",
              "      <td>NaN</td>\n",
              "      <td>NaN</td>\n",
              "      <td>NaN</td>\n",
              "    </tr>\n",
              "    <tr>\n",
              "      <th>489823</th>\n",
              "      <td>미꾸라지</td>\n",
              "      <td>1.00000</td>\n",
              "      <td>7000</td>\n",
              "      <td>수입 중국</td>\n",
              "      <td>normal</td>\n",
              "      <td>2021-09-29</td>\n",
              "      <td>3</td>\n",
              "      <td>7000.00000</td>\n",
              "      <td>수입</td>\n",
              "      <td>중국</td>\n",
              "      <td>NaN</td>\n",
              "      <td>NaN</td>\n",
              "    </tr>\n",
              "    <tr>\n",
              "      <th>489824</th>\n",
              "      <td>미꾸라지</td>\n",
              "      <td>1.00000</td>\n",
              "      <td>4500</td>\n",
              "      <td>수입 중국</td>\n",
              "      <td>normal</td>\n",
              "      <td>2021-09-29</td>\n",
              "      <td>3</td>\n",
              "      <td>4500.00000</td>\n",
              "      <td>수입</td>\n",
              "      <td>중국</td>\n",
              "      <td>NaN</td>\n",
              "      <td>NaN</td>\n",
              "    </tr>\n",
              "    <tr>\n",
              "      <th>489825</th>\n",
              "      <td>미꾸라지</td>\n",
              "      <td>1.00000</td>\n",
              "      <td>9250</td>\n",
              "      <td>국내산</td>\n",
              "      <td>normal</td>\n",
              "      <td>2021-09-30</td>\n",
              "      <td>3</td>\n",
              "      <td>9250.00000</td>\n",
              "      <td>국내산</td>\n",
              "      <td>NaN</td>\n",
              "      <td>NaN</td>\n",
              "      <td>NaN</td>\n",
              "    </tr>\n",
              "    <tr>\n",
              "      <th>489826</th>\n",
              "      <td>미꾸라지</td>\n",
              "      <td>1.00000</td>\n",
              "      <td>7000</td>\n",
              "      <td>수입 중국</td>\n",
              "      <td>normal</td>\n",
              "      <td>2021-09-30</td>\n",
              "      <td>3</td>\n",
              "      <td>7000.00000</td>\n",
              "      <td>수입</td>\n",
              "      <td>중국</td>\n",
              "      <td>NaN</td>\n",
              "      <td>NaN</td>\n",
              "    </tr>\n",
              "  </tbody>\n",
              "</table>\n",
              "<p>489818 rows × 12 columns</p>\n",
              "</div>"
            ],
            "text/plain": [
              "         prd    scale  price  origin     eco   reg_date  new_class   price_kg  \\\n",
              "0        복숭아 10.00000  29000  경북 영천시  normal 2021-08-31          1 2900.00000   \n",
              "1        복숭아 10.00000  47000  경북 영천시  normal 2021-08-31          1 4700.00000   \n",
              "2        복숭아 10.00000  14000  경북 영천시  normal 2021-08-31          1 1400.00000   \n",
              "3        복숭아 10.00000  38000  경북 영천시  normal 2021-08-31          1 3800.00000   \n",
              "4        복숭아 10.00000  24000  경북 영천시  normal 2021-08-31          1 2400.00000   \n",
              "...      ...      ...    ...     ...     ...        ...        ...        ...   \n",
              "489822  미꾸라지  1.00000   9250     국내산  normal 2021-09-29          3 9250.00000   \n",
              "489823  미꾸라지  1.00000   7000   수입 중국  normal 2021-09-29          3 7000.00000   \n",
              "489824  미꾸라지  1.00000   4500   수입 중국  normal 2021-09-29          3 4500.00000   \n",
              "489825  미꾸라지  1.00000   9250     국내산  normal 2021-09-30          3 9250.00000   \n",
              "489826  미꾸라지  1.00000   7000   수입 중국  normal 2021-09-30          3 7000.00000   \n",
              "\n",
              "          0    1    2    3  \n",
              "0        경북  영천시  NaN  NaN  \n",
              "1        경북  영천시  NaN  NaN  \n",
              "2        경북  영천시  NaN  NaN  \n",
              "3        경북  영천시  NaN  NaN  \n",
              "4        경북  영천시  NaN  NaN  \n",
              "...     ...  ...  ...  ...  \n",
              "489822  국내산  NaN  NaN  NaN  \n",
              "489823   수입   중국  NaN  NaN  \n",
              "489824   수입   중국  NaN  NaN  \n",
              "489825  국내산  NaN  NaN  NaN  \n",
              "489826   수입   중국  NaN  NaN  \n",
              "\n",
              "[489818 rows x 12 columns]"
            ]
          },
          "execution_count": 49,
          "metadata": {},
          "output_type": "execute_result"
        }
      ],
      "source": [
        "# 해당 조건에 맞는 값 추출\n",
        "\n",
        "splits = df3['origin'].str.split(' ')\n",
        "cacul = splits.apply(lambda x: pd.Series(x))\n",
        "df66 = pd.merge(df3,cacul, left_index=True, right_index=True, how='inner')\n",
        "df66"
      ]
    },
    {
      "cell_type": "code",
      "execution_count": 50,
      "metadata": {
        "id": "NVkmVZ7ip9-N"
      },
      "outputs": [],
      "source": [
        "# 세부 카테고리 정리 (state, city 편집 시 여기서 시작)\n",
        "\n",
        "df4 = df66.rename(columns = {0:'state',1:'city'})\n",
        "\n",
        "# 2,3은 필요없는 정보이므로 삭제\n",
        "df4 = df4.drop(columns=[2,3])"
      ]
    },
    {
      "cell_type": "code",
      "execution_count": 51,
      "metadata": {
        "colab": {
          "base_uri": "https://localhost:8080/"
        },
        "id": "JcsSUlI_27J3",
        "outputId": "817067e6-2645-4c9c-c86f-047b1471bb9b"
      },
      "outputs": [
        {
          "data": {
            "text/plain": [
              "array(['경북', '충북', '경기', '강원', '대구', '청주시', '전북', '강원도', '충남', '서울시',\n",
              "       '서울', '경기도', '경남', '전남', '광주', '수입산', '중국', '미국', '칠레', '인천', '제주',\n",
              "       '전라북도', '성남시', '인천시', '세종', '필리핀', '페루', '뉴질랜드', '부산시', '경북/문경시',\n",
              "       '경북/상주시', '경북/영천시', '경남/합천군', '제주도', '부산', '호주', '오스트레일', '기타외국',\n",
              "       '남아프리카', '오스트레일리아', '남아프리카공화국', '대전', '세종시', '베트남', '인천광역시',\n",
              "       '서울특별시', '전라남도', '광주시', '일본', '부산광역시', '제주특별자치도', '멕시코', '우즈베키스탄',\n",
              "       '태국', '경상남도', '브라질', '타이', '가락동', '부천시', '전주시', '에콰도르', '코스타리카',\n",
              "       '콜롬비아', '과테말라', '에쿠아도르', '에콰돌', '인도네시아', '세종특별자치시', '국내산', '수입',\n",
              "       '포클랜드', '서해안'], dtype=object)"
            ]
          },
          "execution_count": 51,
          "metadata": {},
          "output_type": "execute_result"
        }
      ],
      "source": [
        "df4['state'].unique()"
      ]
    },
    {
      "cell_type": "code",
      "execution_count": 52,
      "metadata": {
        "id": "SsvDFEbgqQjD"
      },
      "outputs": [],
      "source": [
        "# 시,도 제거\n",
        "def name_sort(words):\n",
        "  p = re.compile('[^시도]+')\n",
        "  word = re.search(p,str(words))\n",
        "  return word.group()\n",
        "\n",
        "df4[\"state\"] = df4[\"state\"].apply(name_sort)\n",
        "\n",
        "# 오타도 제거\n",
        "\n",
        "def name_sort2(words):\n",
        "  p = re.compile('[^\\t]+')\n",
        "  word = re.search(p,words)\n",
        "  return word.group()\n",
        "\n",
        "df4[\"state\"] = df4[\"state\"].apply(name_sort2)"
      ]
    },
    {
      "cell_type": "code",
      "execution_count": 53,
      "metadata": {
        "colab": {
          "base_uri": "https://localhost:8080/"
        },
        "id": "JeybBf_fqhqh",
        "outputId": "b5542367-86fe-4c6e-deab-f28f7d1ce6f5"
      },
      "outputs": [
        {
          "data": {
            "text/plain": [
              "array(['경북', '충북', '경기', '강원', '대구', '청주', '전북', '충남', '서울', '경남', '전남',\n",
              "       '광주', '수입산', '중국', '미국', '칠레', '인천', '제주', '전라북', '성남', '세종',\n",
              "       '필리핀', '페루', '뉴질랜드', '부산', '경북/문경', '경북/상주', '경북/영천', '경남/합천군',\n",
              "       '호주', '오스트레일', '기타외국', '남아프리카', '오스트레일리아', '남아프리카공화국', '대전', '베트남',\n",
              "       '인천광역', '서울특별', '전라남', '일본', '부산광역', '제주특별자치', '멕', '우즈베키스탄', '태국',\n",
              "       '경상남', '브라질', '타이', '가락동', '부천', '전주', '에콰', '코스타리카', '콜롬비아',\n",
              "       '과테말라', '에쿠아', '에콰돌', '인', '세종특별자치', '국내산', '수입', '포클랜드', '서해안'],\n",
              "      dtype=object)"
            ]
          },
          "execution_count": 53,
          "metadata": {},
          "output_type": "execute_result"
        }
      ],
      "source": [
        "df4[\"state\"].unique()"
      ]
    },
    {
      "cell_type": "code",
      "execution_count": 58,
      "metadata": {
        "id": "FDUnVy0e1br6"
      },
      "outputs": [],
      "source": [
        "# state\n",
        "# 특이케이스 제거\n",
        "\n",
        "# 국내\n",
        "df4.loc[df4[\"state\"]==\"국내산\",\"city\"] = \"미상\"\n",
        "df4.loc[df4[\"state\"]==\"국내산\",\"state\"] = \"국산\"\n",
        "df4.loc[df4[\"state\"]==\"원양산\",\"city\"] = \"미상\"\n",
        "\n",
        "## 도단위\n",
        "df4.loc[df4[\"state\"]==\"충청북\",\"state\"] = \"충북\"\n",
        "df4.loc[df4[\"state\"]==\"충청남\",\"state\"] = \"충남\"\n",
        "df4.loc[df4[\"state\"]==\"전라북\",\"state\"] = \"전북\"\n",
        "df4.loc[df4[\"state\"]==\"전라남\",\"state\"] = \"전남\"\n",
        "df4.loc[df4[\"state\"]==\"경상북\",\"state\"] = \"경북\"\n",
        "df4.loc[df4[\"state\"]==\"경상남\",\"state\"] = \"경남\"\n",
        "\n",
        "## 시단위\n",
        "### 광역시\n",
        "\n",
        "df4.loc[df4[\"state\"]==\"대전\",\"city\"] = \"대전\"\n",
        "df4.loc[df4[\"state\"]==\"대구\",\"city\"] = \"대구\"\n",
        "df4.loc[df4[\"state\"]==\"서울특별\",\"city\"] = \"서울\"\n",
        "df4.loc[df4[\"state\"]==\"서울특별\",\"state\"] = \"서울\"\n",
        "df4.loc[df4[\"state\"]==\"인천광역\",\"city\"] = \"인천\"\n",
        "df4.loc[df4[\"state\"]==\"인천광역\",\"state\"] = \"인천\"\n",
        "df4.loc[df4[\"state\"]==\"부산\",\"city\"] = \"부산\"\n",
        "df4.loc[df4[\"state\"]==\"부산광역\",\"city\"] = \"부산\"\n",
        "df4.loc[df4[\"state\"]==\"부산광역\",\"state\"] = \"부산\"\n",
        "df4.loc[df4[\"state\"]==\"가락동\",\"city\"] = \"서울\"\n",
        "df4.loc[df4[\"state\"]==\"가락동\",\"state\"] = \"서울\"\n",
        "df4.loc[df4[\"state\"]==\"세종\",\"city\"] = \"세종\"\n",
        "df4.loc[df4[\"state\"]==\"세종특별자치\",\"city\"] = \"세종\"\n",
        "df4.loc[df4[\"state\"]==\"세종특별자치\",\"state\"] = \"세종\"\n",
        "df4.loc[df4[\"state\"]==\"대전\",\"city\"] = \"대전\"\n",
        "df4.loc[df4[\"state\"]==\"제주\",\"city\"] = \"제주\"\n",
        "df4.loc[df4[\"state\"]==\"제주특별자치\",\"city\"] = \"제주\"\n",
        "df4.loc[df4[\"state\"]==\"제주특별자치\",\"state\"] = \"제주\"\n",
        "df4.loc[df4[\"state\"]==\"제주특별자\",\"city\"] = \"제주\"\n",
        "df4.loc[df4[\"state\"]==\"제주특별자\",\"state\"] = \"제주\"\n",
        "df4.loc[df4[\"state\"]==\"제주/서귀포\",\"city\"] = \"제주\"\n",
        "df4.loc[df4[\"state\"]==\"제주/서귀포\",\"state\"] = \"제주\"\n",
        "df4.loc[df4[\"state\"]==\"세종\",\"city\"] = \"세종\"\n",
        "df4.loc[df4[\"state\"]==\"울산\",\"city\"] = \"울산\"\n",
        "df4.loc[df4[\"state\"]==\"울산\",\"state\"] = \"울산\"\n",
        "\n",
        "### 일반시\n",
        "df4.loc[df4[\"state\"]==\"성남\",\"city\"] = \"성남\"\n",
        "df4.loc[df4[\"state\"]==\"성남\",\"state\"] = \"경기\"\n",
        "df4.loc[df4[\"state\"]==\"전주\",\"city\"] = \"전주\"\n",
        "df4.loc[df4[\"state\"]==\"전주\",\"state\"] = \"전북\"\n",
        "df4.loc[df4[\"state\"]==\"청주\",\"city\"] = \"청주\"\n",
        "df4.loc[df4[\"state\"]==\"청주\",\"state\"] = \"충북\"\n",
        "df4.loc[df4[\"state\"]==\"수원\",\"city\"] = \"수원\"\n",
        "df4.loc[df4[\"state\"]==\"수원\",\"state\"] = \"경기\"\n",
        "df4.loc[df4[\"state\"]==\"부천\",\"city\"] = \"부천\"\n",
        "df4.loc[df4[\"state\"]==\"부천\",\"state\"] = \"경기\"\n",
        "df4.loc[df4[\"state\"]==\"경기고양\",\"city\"] = \"고양\"\n",
        "df4.loc[df4[\"state\"]==\"경기고양\",\"state\"] = \"경기\"\n",
        "df4.loc[df4[\"state\"]==\"충북청주\",\"city\"] = \"청주\"\n",
        "df4.loc[df4[\"state\"]==\"충북청주\",\"state\"] = \"충북\"\n",
        "df4.loc[df4[\"state\"]==\"전북전주\",\"city\"] = \"전주\"\n",
        "df4.loc[df4[\"state\"]==\"전북전주\",\"state\"] = \"전북\"\n",
        "df4.loc[df4[\"state\"]==\"경북/문경\",\"city\"] = \"문경\"\n",
        "df4.loc[df4[\"state\"]==\"경북/문경\",\"state\"] = \"경북\"\n",
        "df4.loc[df4[\"state\"]==\"포항\",\"city\"] = \"포항\"\n",
        "df4.loc[df4[\"state\"]==\"포항\",\"state\"] = \"경북\"\n",
        "df4.loc[df4[\"state\"]==\"경북/안동\",\"city\"] = \"안동\"\n",
        "df4.loc[df4[\"state\"]==\"경북/안동\",\"state\"] = \"경북\"\n",
        "df4.loc[df4[\"state\"]==\"전남/무안군\",\"city\"] = \"전남\"\n",
        "df4.loc[df4[\"state\"]==\"전남/무안군\",\"state\"] = \"무안\"\n",
        "df4.loc[df4[\"state\"]==\"경북/구미\",\"city\"] = \"구미\"\n",
        "df4.loc[df4[\"state\"]==\"경북/구미\",\"state\"] = \"경북\"\n",
        "df4.loc[df4[\"state\"]==\"경북/상주\",\"city\"] = \"상주\"\n",
        "df4.loc[df4[\"state\"]==\"경북/상주\",\"state\"] = \"경북\"\n",
        "df4.loc[df4[\"state\"]==\"경북/영천\",\"city\"] = \"영천\"\n",
        "df4.loc[df4[\"state\"]==\"경북/영천\",\"state\"] = \"경북\"\n",
        "df4.loc[df4[\"state\"]==\"경남/합천군\",\"city\"] = \"합천\"\n",
        "df4.loc[df4[\"state\"]==\"경남/합천군\",\"state\"] = \"경남\"\n",
        "df4.loc[df4[\"state\"]==\"무안\",\"state\"] = \"전남\"\n",
        "df4.loc[df4[\"state\"]==\"서해안\",\"city\"] = \"미상\"\n",
        "df4.loc[df4[\"state\"]==\"서해안\",\"state\"] = \"국산\"\n",
        "\n",
        "\n",
        "# 외국\n",
        "## 아시아\n",
        "df4.loc[df4[\"state\"]==\"칠레\",\"city\"] = \"칠레\"\n",
        "df4.loc[df4[\"state\"]==\"칠레\",\"state\"] = \"수입\"\n",
        "df4.loc[df4[\"state\"]==\"일본\",\"city\"] = \"일본\"\n",
        "df4.loc[df4[\"state\"]==\"일본\",\"state\"] = \"수입\"\n",
        "df4.loc[df4[\"state\"]==\"베트남\",\"city\"] = \"베트남\"\n",
        "df4.loc[df4[\"state\"]==\"베트남\",\"state\"] = \"수입\"\n",
        "df4.loc[df4[\"state\"]==\"우즈베크\",\"city\"] = \"우즈베키스탄\"\n",
        "df4.loc[df4[\"state\"]==\"우즈베크\",\"state\"] = \"수입\"\n",
        "df4.loc[df4[\"state\"]==\"이스라엘\",\"city\"] = \"이스라엘\"\n",
        "df4.loc[df4[\"state\"]==\"이스라엘\",\"state\"] = \"수입\"\n",
        "df4.loc[df4[\"state\"]==\"터키\",\"city\"] = \"터키\"\n",
        "df4.loc[df4[\"state\"]==\"터키\",\"state\"] = \"수입\"\n",
        "df4.loc[df4[\"state\"]==\"중국\",\"city\"] = \"중국\"\n",
        "df4.loc[df4[\"state\"]==\"중국\",\"state\"] = \"수입\"\n",
        "df4.loc[df4[\"state\"]==\"타이\",\"city\"] = \"태국\"\n",
        "df4.loc[df4[\"state\"]==\"타이\",\"state\"] = \"수입\"\n",
        "df4.loc[df4[\"state\"]==\"태국\",\"city\"] = \"태국\"\n",
        "df4.loc[df4[\"state\"]==\"태국\",\"state\"] = \"수입\"\n",
        "df4.loc[df4[\"state\"]==\"필리핀\",\"city\"] = \"필리핀\"\n",
        "df4.loc[df4[\"state\"]==\"필리핀\",\"state\"] = \"수입\"\n",
        "df4.loc[df4[\"state\"]==\"우즈베키스탄\",\"city\"] = \"우즈베키스탄\"\n",
        "df4.loc[df4[\"state\"]==\"우즈베키스탄\",\"state\"] = \"수입\"\n",
        "df4.loc[df4[\"state\"]==\"대만\",\"city\"] = \"대만\"\n",
        "df4.loc[df4[\"state\"]==\"대만\",\"state\"] = \"수입\"\n",
        "df4.loc[df4[\"state\"]==\"베트남\",\"city\"] = \"베트남\"\n",
        "df4.loc[df4[\"state\"]==\"베트남\",\"state\"] = \"수입\"\n",
        "df4.loc[df4[\"state\"]==\"이란\",\"city\"] = \"이란\"\n",
        "df4.loc[df4[\"state\"]==\"이란\",\"state\"] = \"수입\"\n",
        "df4.loc[df4[\"state\"]==\"러\",\"city\"] = \"러시아\"\n",
        "df4.loc[df4[\"state\"]==\"러\",\"state\"] = \"수입\"\n",
        "df4.loc[(df4[\"state\"]==\"인\")&(df4[\"origin\"]==\"인도네시아\"),\"city\"] = \"인도네시아\"\n",
        "df4.loc[(df4[\"state\"]==\"인\")&(df4[\"origin\"]==\"인도네시아\"),\"state\"] = \"수입\"\n",
        "df4.loc[(df4[\"state\"]==\"인\")&(df4[\"origin\"]==\"인도\"),\"city\"] = \"인도\"\n",
        "df4.loc[(df4[\"state\"]==\"인\")&(df4[\"origin\"]==\"인도\"),\"state\"] = \"수입\"\n",
        "\n",
        "## 아메리카\n",
        "\n",
        "df4.loc[df4[\"state\"]==\"캘리포니아\",\"city\"] = \"미국\"\n",
        "df4.loc[df4[\"state\"]==\"캘리포니아\",\"state\"] = \"수입\"\n",
        "df4.loc[df4[\"state\"]==\"포클랜드\",\"city\"] = \"영국\"\n",
        "df4.loc[df4[\"state\"]==\"포클랜드\",\"state\"] = \"수입\"\n",
        "df4.loc[df4[\"state\"]==\"콜롬비아\",\"city\"] = \"콜롬비아\"\n",
        "df4.loc[df4[\"state\"]==\"콜롬비아\",\"state\"] = \"수입\"\n",
        "df4.loc[df4[\"state\"]==\"에콰\",\"city\"] = \"에콰도르\"\n",
        "df4.loc[df4[\"state\"]==\"에콰\",\"state\"] = \"수입\"\n",
        "df4.loc[df4[\"state\"]==\"에쿠아\",\"city\"] = \"에콰도르\"\n",
        "df4.loc[df4[\"state\"]==\"에쿠아\",\"state\"] = \"수입\"\n",
        "df4.loc[df4[\"state\"]==\"에콰돌\",\"city\"] = \"에콰도르\"\n",
        "df4.loc[df4[\"state\"]==\"에콰돌\",\"state\"] = \"수입\"\n",
        "df4.loc[df4[\"state\"]==\"과테말라\",\"city\"] = \"과테말라\"\n",
        "df4.loc[df4[\"state\"]==\"과테말라\",\"state\"] = \"수입\"\n",
        "df4.loc[df4[\"state\"]==\"코스타리카\",\"city\"] = \"코스타리카\"\n",
        "df4.loc[df4[\"state\"]==\"코스타리카\",\"state\"] = \"수입\"\n",
        "df4.loc[df4[\"state\"]==\"멕\",\"city\"] = \"멕시코\"\n",
        "df4.loc[df4[\"state\"]==\"멕\",\"state\"] = \"수입\"\n",
        "df4.loc[df4[\"state\"]==\"페루\",\"city\"] = \"페루\"\n",
        "df4.loc[df4[\"state\"]==\"페루\",\"state\"] = \"수입\"\n",
        "df4.loc[df4[\"state\"]==\"미국\",\"city\"] = \"미국\"\n",
        "df4.loc[df4[\"state\"]==\"미국\",\"state\"] = \"수입\"\n",
        "df4.loc[df4[\"state\"]==\"아르헨티나\",\"city\"] = \"아르헨티나\"\n",
        "df4.loc[df4[\"state\"]==\"아르헨티나\",\"state\"] = \"수입\"\n",
        "df4.loc[df4[\"state\"]==\"브라질\",\"city\"] = \"브라질\"\n",
        "df4.loc[df4[\"state\"]==\"브라질\",\"state\"] = \"수입\"\n",
        "\n",
        "## 유럽\n",
        "df4.loc[df4[\"state\"]==\"스페인\",\"city\"] = \"스페인\"\n",
        "df4.loc[df4[\"state\"]==\"스페인\",\"state\"] = \"수입\"\n",
        "df4.loc[df4[\"state\"]==\"우크라이나\",\"city\"] = \"우크라이나\"\n",
        "df4.loc[df4[\"state\"]==\"우크라이나\",\"state\"] = \"수입\"\n",
        "df4.loc[df4[\"state\"]==\"이탈리아\",\"city\"] = \"이탈리아\"\n",
        "df4.loc[df4[\"state\"]==\"이탈리아\",\"state\"] = \"수입\"\n",
        "df4.loc[df4[\"state\"]==\"불가리아\",\"city\"] = \"불가리아\"\n",
        "df4.loc[df4[\"state\"]==\"불가리아\",\"state\"] = \"수입\"\n",
        "\n",
        "## 아프리카\n",
        "df4.loc[df4[\"state\"]==\"남아프리카\",\"city\"] = \"남아공\"\n",
        "df4.loc[df4[\"state\"]==\"남아프리카\",\"state\"] = \"수입\"\n",
        "df4.loc[df4[\"state\"]==\"남아프리카공화국\",\"city\"] = \"남아공\"\n",
        "df4.loc[df4[\"state\"]==\"남아프리카공화국\",\"state\"] = \"수입\"\n",
        "df4.loc[df4[\"state\"]==\"수입남아프리카공화국\",\"city\"] = \"남아공\"\n",
        "df4.loc[df4[\"state\"]==\"수입남아프리카공화국\",\"state\"] = \"수입\"\n",
        "\n",
        "\n",
        "## 오세아니아\n",
        "df4.loc[df4[\"state\"]==\"뉴질랜드\",\"city\"] = \"뉴질랜드\"\n",
        "df4.loc[df4[\"state\"]==\"뉴질랜드\",\"state\"] = \"수입\"\n",
        "df4.loc[df4[\"state\"]==\"오스트레일\",\"city\"] = \"호주\"\n",
        "df4.loc[df4[\"state\"]==\"오스트레일\",\"state\"] = \"수입\"\n",
        "df4.loc[df4[\"state\"]==\"오스트레일리아\",\"city\"] = \"호주\"\n",
        "df4.loc[df4[\"state\"]==\"오스트레일리아\",\"state\"] = \"수입\"\n",
        "df4.loc[df4[\"state\"]==\"호주\",\"city\"] = \"호주\"\n",
        "df4.loc[df4[\"state\"]==\"호주\",\"state\"] = \"수입\"\n",
        "df4.loc[df4[\"state\"]==\"통가\",\"city\"] = \"통가\"\n",
        "df4.loc[df4[\"state\"]==\"통가\",\"state\"] = \"수입\"\n",
        "df4.loc[df4[\"state\"]==\"뉴칼레\",\"city\"] = \"뉴칼레도니아\"\n",
        "df4.loc[df4[\"state\"]==\"뉴칼레\",\"state\"] = \"수입\"\n",
        "df4.loc[df4[\"state\"]==\"뉴\",\"city\"] = \"뉴칼레도니아\"\n",
        "df4.loc[df4[\"state\"]==\"뉴\",\"state\"] = \"수입\"\n",
        "df4.loc[df4[\"state\"]==\"누벨칼레\",\"city\"] = \"뉴칼레도니아\"\n",
        "df4.loc[df4[\"state\"]==\"누벨칼레\",\"state\"] = \"수입\"\n",
        "# 기타\n",
        "df4.loc[df4[\"state\"]==\"수입산\",\"state\"] = \"수입\"\n",
        "df4.loc[df4[\"state\"]==\"기타외국\",\"city\"] = \"미상\"\n",
        "df4.loc[df4[\"state\"]==\"기타외국\",\"state\"] = \"수입\""
      ]
    },
    {
      "cell_type": "code",
      "execution_count": 59,
      "metadata": {
        "colab": {
          "base_uri": "https://localhost:8080/",
          "height": 49
        },
        "id": "3MmvwTRy-BEj",
        "outputId": "cb62e40c-926f-4fdf-c3bf-a44c828d7052"
      },
      "outputs": [
        {
          "data": {
            "text/html": [
              "<div>\n",
              "<style scoped>\n",
              "    .dataframe tbody tr th:only-of-type {\n",
              "        vertical-align: middle;\n",
              "    }\n",
              "\n",
              "    .dataframe tbody tr th {\n",
              "        vertical-align: top;\n",
              "    }\n",
              "\n",
              "    .dataframe thead th {\n",
              "        text-align: right;\n",
              "    }\n",
              "</style>\n",
              "<table border=\"1\" class=\"dataframe\">\n",
              "  <thead>\n",
              "    <tr style=\"text-align: right;\">\n",
              "      <th></th>\n",
              "      <th>prd</th>\n",
              "      <th>scale</th>\n",
              "      <th>price</th>\n",
              "      <th>origin</th>\n",
              "      <th>eco</th>\n",
              "      <th>reg_date</th>\n",
              "      <th>new_class</th>\n",
              "      <th>price_kg</th>\n",
              "      <th>state</th>\n",
              "      <th>city</th>\n",
              "    </tr>\n",
              "  </thead>\n",
              "  <tbody>\n",
              "  </tbody>\n",
              "</table>\n",
              "</div>"
            ],
            "text/plain": [
              "Empty DataFrame\n",
              "Columns: [prd, scale, price, origin, eco, reg_date, new_class, price_kg, state, city]\n",
              "Index: []"
            ]
          },
          "execution_count": 59,
          "metadata": {},
          "output_type": "execute_result"
        }
      ],
      "source": [
        "df4[df4['state']=='서해안']"
      ]
    },
    {
      "cell_type": "code",
      "execution_count": 60,
      "metadata": {
        "colab": {
          "base_uri": "https://localhost:8080/"
        },
        "id": "bPMNH6Fz9laX",
        "outputId": "c7ea6abb-e318-4350-9eea-394a56796052"
      },
      "outputs": [
        {
          "data": {
            "text/plain": [
              "array(['경북', '충북', '경기', '강원', '대구', '전북', '충남', '서울', '경남', '전남', '광주',\n",
              "       '수입', '인천', '제주', '세종', '부산', '대전', '국산'], dtype=object)"
            ]
          },
          "execution_count": 60,
          "metadata": {},
          "output_type": "execute_result"
        }
      ],
      "source": [
        "df4['state'].unique()"
      ]
    },
    {
      "cell_type": "code",
      "execution_count": 61,
      "metadata": {
        "id": "Ih5vw324J-Ed"
      },
      "outputs": [],
      "source": [
        "# city\n",
        "# 우선 결측치 제거\n",
        "df4.loc[df4[\"city\"].isnull(),\"city\"] = \"미상\""
      ]
    },
    {
      "cell_type": "code",
      "execution_count": 62,
      "metadata": {
        "id": "cXY3uABaKSty"
      },
      "outputs": [],
      "source": [
        "# 이후 시,군 등 제거\n",
        "def name_sort(words):\n",
        "  p = re.compile('[^시군]+')\n",
        "  word = re.search(p,words)\n",
        "  return word.group()\n",
        "\n",
        "df4[\"city\"] = df4[\"city\"].apply(name_sort)"
      ]
    },
    {
      "cell_type": "code",
      "execution_count": 63,
      "metadata": {
        "id": "QuyWFOs1R7yP"
      },
      "outputs": [],
      "source": [
        "# \\t 도 제거\n",
        "def name_sort2(words):\n",
        "  p = re.compile('[^\\t]+')\n",
        "  word = re.search(p,words)\n",
        "  return word.group()\n",
        "\n",
        "df4[\"city\"] = df4[\"city\"].apply(name_sort2)"
      ]
    },
    {
      "cell_type": "code",
      "execution_count": 64,
      "metadata": {
        "colab": {
          "base_uri": "https://localhost:8080/"
        },
        "id": "szJvb99ySEPR",
        "outputId": "97ca859c-e684-45b0-f3d0-488abdd6cedf"
      },
      "outputs": [
        {
          "data": {
            "text/plain": [
              "array(['영천', '음성', '이천', '횡성', '영주', '충주', '춘천', '미상', '대구', '화천', '가평',\n",
              "       '예천', '제천', '김천', '상주', '성주', '경산', '위', '여주', '옥천', '영동', '청주',\n",
              "       '양구', '의성', '무주', '철원', '원주', '괴산', '문경', '임실', '연천', '안동', '청송',\n",
              "       '논산', '평창', '안성', '영월', '봉화', '청도', '경주', '강서구', '영양', '중구', '고창',\n",
              "       '파주', '홍천', '광주', '송파구', '양평', '고양', '구리', '김포', '강동구', '포천', '하남',\n",
              "       '오산', '남양주', '서천', '양주', '용인', '광명', '부여', '평택', '하동', '금산', '당진',\n",
              "       '인제', '서산', '진주', '나주', '남구', '밀양', '중국', '미국', '진안', '천안', '공주',\n",
              "       '칠레', '예산', '고흥', '태안', '옹진', '의령', '강화', '고성', '성남', '제주', '보령',\n",
              "       '홍성', '아산', '익산', '장수', '함양', '거창', '완주', '강릉', '남원', '칠곡', '정선',\n",
              "       '보은', '삼척', '단양', '진천', '함안', '청양', '고령', '태백', '장', '계양구', '세종',\n",
              "       '산청', '양천구', '익', '부천', '흥', '계룡', '중랑구', '안산', '화순', '장성', '함평',\n",
              "       '무안', '장흥', '담양', '광산구', '연기', '정읍', '서구', '창원', '곡성', '창녕', '영암',\n",
              "       '북구', '보성', '강남구', '동구', '부안', '구미', '은평구', '순창', '신안', '동대문구',\n",
              "       '도봉구', '필리핀', '페루', '뉴질랜드', '해남', '부산', '화성', '의왕', '합천', '동두천',\n",
              "       '의정부', '김제', '강진', '여수', '목포', '산', '구례', '호주', '남아공산', '남아공',\n",
              "       '청원', '대전', '사천', '미금', '전주', '포항', '동대문', '양양', '베트남', '인천',\n",
              "       '부평구', '미추홀', '수원', '서울', '영광', '미추홀구', '남동구', '구로구', '김해', '일본',\n",
              "       '진도', '영등포', '순천', '광양', '완', '멕', '영덕', '우즈베키스탄', '태국', '양산',\n",
              "       '브라질', '남해', '에콰도르', '코스타리카', '콜롬비아', '과테말라', '인도네', '울진', '증평',\n",
              "       '캐나다', '말레이지아', '인도', '삼천포', '순천(광양)', '보성(벌교)', '노르웨이',\n",
              "       '마산(고성,진해)', '기타', '영국', '장항(서천)', '목포(무안)', '러', '세네갈', '통영'],\n",
              "      dtype=object)"
            ]
          },
          "execution_count": 64,
          "metadata": {},
          "output_type": "execute_result"
        }
      ],
      "source": [
        "df4['city'].unique()"
      ]
    },
    {
      "cell_type": "code",
      "execution_count": 70,
      "metadata": {
        "id": "MrIoC_BDQ_ic"
      },
      "outputs": [],
      "source": [
        "# 나머지 케이스 정리\n",
        "\n",
        "# 국내\n",
        "df4.loc[df4[\"city\"]==\"기타\",\"city\"] = \"미상\"\n",
        "## 일반시\n",
        "df4.loc[df4[\"city\"]==\"위\",\"city\"] = \"군위\"\n",
        "df4.loc[df4[\"city\"]==\"고흥(나로도)\",\"city\"] = \"고흥\"\n",
        "df4.loc[df4[\"city\"]==\"산\",\"city\"] = \"군산\"\n",
        "df4.loc[df4[\"city\"]==\"장항(서천)\",\"city\"] = \"서천\"\n",
        "df4.loc[df4[\"city\"]==\"삼천포\",\"city\"] = \"사천\"\n",
        "df4.loc[df4[\"city\"]==\"삼천포\",\"city\"] = \"사천\"\n",
        "df4.loc[df4[\"city\"]==\"순천(광양)\",\"city\"] = \"순천\"\n",
        "df4.loc[df4[\"city\"]==\"대천(보령)\",\"city\"] = \"보령\"\n",
        "df4.loc[df4[\"city\"]==\"대천(보령)\",\"city\"] = \"보령\"\n",
        "df4.loc[df4[\"city\"]==\"화성(평택)\",\"city\"] = \"화성\"\n",
        "df4.loc[df4[\"city\"]==\"흥\",\"city\"] = \"시흥\"\n",
        "df4.loc[df4[\"city\"]==\"목포(무안)\",\"city\"] = \"목포\"\n",
        "df4.loc[df4[\"city\"]==\"목포(무안)\",\"state\"] = \"전남\"\n",
        "df4.loc[df4[\"city\"]==\"보성(벌교)\",\"city\"] = \"보성\"\n",
        "df4.loc[df4[\"city\"]==\"울진(후포)\",\"city\"] = \"울진\"\n",
        "df4.loc[df4[\"city\"]==\"논\",\"city\"] = \"논산\"\n",
        "df4.loc[df4[\"city\"]==\"논\",\"city\"] = \"논산\"\n",
        "df4.loc[df4[\"city\"]==\"순\",\"city\"] = \"순창\"\n",
        "df4.loc[df4[\"city\"]==\"익\",\"city\"] = \"익산\"\n",
        "df4.loc[df4[\"city\"]==\"미금\",\"city\"] = \"성남\"\n",
        "df4.loc[df4[\"city\"]==\"주문진\",\"city\"] = \"강릉\"\n",
        "df4.loc[df4[\"city\"]==\"전남\",\"city\"] = \"무안\"\n",
        "df4.loc[df4[\"city\"]==\"장\",\"city\"] = \"장수\"\n",
        "df4.loc[(df4[\"city\"]==\"완\")&(df4[\"state\"]==\"전북\"),\"city\"] = \"완주\"\n",
        "df4.loc[(df4[\"state\"]==\"전북\")&(df4[\"city\"]==\"남\"),\"city\"] = \"남원\"\n",
        "df4.loc[(df4['prd']==\"호박\") & (df4['state']=='전북'),\"city\"] = \"전주\"\n",
        "## 광역시\n",
        "df4.loc[df4[\"city\"]==\"강서구\",\"city\"] = \"서울\"\n",
        "df4.loc[df4[\"city\"]==\"은평구\",\"city\"] = \"서울\"\n",
        "df4.loc[df4[\"city\"]==\"강동구\",\"city\"] = \"서울\"\n",
        "df4.loc[df4[\"city\"]==\"마포구\",\"city\"] = \"서울\"\n",
        "df4.loc[df4[\"city\"]==\"중구\",\"city\"] = \"서울\"\n",
        "df4.loc[df4[\"city\"]==\"송파구\",\"city\"] = \"서울\"\n",
        "df4.loc[df4[\"city\"]==\"도봉구\",\"city\"] = \"서울\"\n",
        "df4.loc[df4[\"city\"]==\"중랑구\",\"city\"] = \"서울\"\n",
        "df4.loc[df4[\"city\"]==\"양천구\",\"city\"] = \"서울\"\n",
        "df4.loc[df4[\"city\"]==\"성동구\",\"city\"] = \"서울\"\n",
        "df4.loc[df4[\"city\"]==\"강남구\",\"city\"] = \"서울\"\n",
        "df4.loc[df4[\"city\"]==\"동대문구\",\"city\"] = \"서울\"\n",
        "df4.loc[df4[\"city\"]==\"영등포구\",\"city\"] = \"서울\"\n",
        "df4.loc[df4[\"city\"]==\"영등포\",\"city\"] = \"서울\"\n",
        "df4.loc[df4[\"city\"]==\"서초구\",\"city\"] = \"서울\"\n",
        "df4.loc[df4[\"city\"]==\"구로구\",\"city\"] = \"서울\"\n",
        "df4.loc[df4[\"city\"]==\"동대문\",\"city\"] = \"서울\"\n",
        "df4.loc[df4[\"city\"]==\"금천구\",\"city\"] = \"서울\"\n",
        "df4.loc[df4[\"city\"]==\"동작구\",\"city\"] = \"서울\"\n",
        "df4.loc[df4[\"city\"]==\"용산구\",\"city\"] = \"서울\"\n",
        "\n",
        "df4.loc[df4[\"city\"]==\"광산구\",\"city\"] = \"광주\"\n",
        "df4.loc[(df4[\"state\"]==\"광주\")&(df4[\"city\"]==\"남구\"),\"city\"] = \"광주\"\n",
        "df4.loc[(df4[\"state\"]==\"광주\")&(df4[\"city\"]==\"북구\"),\"city\"] = \"광주\"\n",
        "df4.loc[(df4[\"state\"]==\"광주\")&(df4[\"city\"]==\"서구\"),\"city\"] = \"광주\"\n",
        "df4.loc[df4[\"city\"]==\"동구\",\"city\"] = \"광주\"\n",
        "df4.loc[(df4[\"state\"]==\"인천\")&(df4[\"city\"]==\"남구\"),\"city\"] = \"인천\"\n",
        "df4.loc[(df4[\"state\"]==\"인천\")&(df4[\"city\"]==\"서구\"),\"city\"] = \"인천\"\n",
        "df4.loc[df4[\"city\"]==\"미추홀\",\"city\"] = \"인천\"\n",
        "df4.loc[df4[\"city\"]==\"부평구\",\"city\"] = \"인천\"\n",
        "df4.loc[df4[\"city\"]==\"남동구\",\"city\"] = \"인천\"\n",
        "df4.loc[df4[\"city\"]==\"미추홀구\",\"city\"] = \"인천\"\n",
        "df4.loc[df4[\"city\"]==\"계양구\",\"city\"] = \"인천\"\n",
        "df4.loc[df4[\"city\"]==\"마산(고성,진해)\",\"city\"] = \"창원\"\n",
        "df4.loc[(df4[\"state\"]==\"부산\")&(df4[\"city\"]==\"북구\"),\"city\"] = \"부산\"\n",
        "df4.loc[df4[\"city\"]==\"오포\",\"city\"] = \"부산\"\n",
        "df4.loc[df4[\"city\"]==\"부산진\",\"city\"] = \"부산\"\n",
        "df4.loc[df4[\"city\"]==\"사상구\",\"city\"] = \"부산\"\n",
        "df4.loc[df4[\"city\"]==\"부산진구\",\"city\"] = \"부산\"\n",
        "df4.loc[df4[\"city\"]==\"북제주\",\"city\"] = \"제주\"\n",
        "df4.loc[df4[\"city\"]==\"남제주\",\"city\"] = \"제주\"\n",
        "\n",
        "# 해외\n",
        "## 아시아\n",
        "df4.loc[df4[\"city\"]==\"러\",\"city\"] = \"러시아\"\n",
        "df4.loc[df4[\"city\"]==\"말레이지아\",\"city\"] = \"말레이시아\"\n",
        "df4.loc[df4[\"city\"]==\"타이\",\"city\"] = \"태국\"\n",
        "df4.loc[df4[\"city\"]==\"인도네\",\"city\"] = \"인도네시아\"\n",
        "## 아메리카\n",
        "df4.loc[df4[\"city\"]==\"멕\",\"city\"] = \"멕시코\"\n",
        "## 아프리카\n",
        "df4.loc[df4[\"city\"]==\"남아공산\",\"city\"] = \"남아공\"\n",
        "## 유럽\n",
        "## 오세아니아"
      ]
    },
    {
      "cell_type": "code",
      "execution_count": 72,
      "metadata": {},
      "outputs": [
        {
          "data": {
            "text/html": [
              "<div>\n",
              "<style scoped>\n",
              "    .dataframe tbody tr th:only-of-type {\n",
              "        vertical-align: middle;\n",
              "    }\n",
              "\n",
              "    .dataframe tbody tr th {\n",
              "        vertical-align: top;\n",
              "    }\n",
              "\n",
              "    .dataframe thead th {\n",
              "        text-align: right;\n",
              "    }\n",
              "</style>\n",
              "<table border=\"1\" class=\"dataframe\">\n",
              "  <thead>\n",
              "    <tr style=\"text-align: right;\">\n",
              "      <th></th>\n",
              "      <th>prd</th>\n",
              "      <th>scale</th>\n",
              "      <th>price</th>\n",
              "      <th>origin</th>\n",
              "      <th>eco</th>\n",
              "      <th>reg_date</th>\n",
              "      <th>new_class</th>\n",
              "      <th>price_kg</th>\n",
              "      <th>state</th>\n",
              "      <th>city</th>\n",
              "    </tr>\n",
              "  </thead>\n",
              "  <tbody>\n",
              "  </tbody>\n",
              "</table>\n",
              "</div>"
            ],
            "text/plain": [
              "Empty DataFrame\n",
              "Columns: [prd, scale, price, origin, eco, reg_date, new_class, price_kg, state, city]\n",
              "Index: []"
            ]
          },
          "execution_count": 72,
          "metadata": {},
          "output_type": "execute_result"
        }
      ],
      "source": [
        "df4[df4[\"city\"]==\"완\"]"
      ]
    },
    {
      "cell_type": "code",
      "execution_count": 73,
      "metadata": {},
      "outputs": [
        {
          "data": {
            "text/plain": [
              "array([], dtype=object)"
            ]
          },
          "execution_count": 73,
          "metadata": {},
          "output_type": "execute_result"
        }
      ],
      "source": [
        "# 기존 city 리스트와 비교\n",
        "ex_city = pd.read_csv(\"../cities.csv\")\n",
        "df4[~df4['city'].isin(ex_city['city'])]['city'].unique()"
      ]
    },
    {
      "cell_type": "code",
      "execution_count": 74,
      "metadata": {},
      "outputs": [
        {
          "name": "stderr",
          "output_type": "stream",
          "text": [
            "/var/folders/nq/s4zx76p53d11lnr0t1dxpxh00000gn/T/ipykernel_2184/1856950528.py:3: FutureWarning: The frame.append method is deprecated and will be removed from pandas in a future version. Use pandas.concat instead.\n",
            "  cities = ex_city.append(new_city,ignore_index=True)\n"
          ]
        }
      ],
      "source": [
        "# 리스트 최신화\n",
        "new_city = pd.DataFrame(df4['city'].unique(),columns=['city'])\n",
        "cities = ex_city.append(new_city,ignore_index=True)"
      ]
    },
    {
      "cell_type": "code",
      "execution_count": 75,
      "metadata": {},
      "outputs": [],
      "source": [
        "cities.drop(columns=['Unnamed: 0'],inplace=True)\n",
        "cities.drop_duplicates(inplace=True)\n",
        "cities.reset_index(inplace=True,drop=True)"
      ]
    },
    {
      "cell_type": "code",
      "execution_count": 76,
      "metadata": {},
      "outputs": [],
      "source": [
        "cities.to_csv('../cities.csv')"
      ]
    },
    {
      "cell_type": "code",
      "execution_count": 77,
      "metadata": {
        "id": "vi6fJirdV7Gz"
      },
      "outputs": [],
      "source": [
        "# 처리 완료하였으니 df4는 백업으로 두고 df5 활용\n",
        "df5 = df4.drop(columns='origin')"
      ]
    },
    {
      "cell_type": "markdown",
      "metadata": {
        "id": "CoWdniywxHwf"
      },
      "source": [
        "# 전처리 결과"
      ]
    },
    {
      "cell_type": "markdown",
      "metadata": {
        "id": "t709mbs6xMkS"
      },
      "source": [
        "# 파일 저장"
      ]
    },
    {
      "cell_type": "code",
      "execution_count": 79,
      "metadata": {
        "id": "tEfggl4M5rFG"
      },
      "outputs": [],
      "source": [
        "df5.to_csv('../data_proceed/202109_proceed.csv')"
      ]
    }
  ],
  "metadata": {
    "colab": {
      "collapsed_sections": [],
      "name": "pre_processing_2022_06.ipynb",
      "provenance": [],
      "toc_visible": true
    },
    "kernelspec": {
      "display_name": "Python 3.8.13 ('yds')",
      "language": "python",
      "name": "python3"
    },
    "language_info": {
      "codemirror_mode": {
        "name": "ipython",
        "version": 3
      },
      "file_extension": ".py",
      "mimetype": "text/x-python",
      "name": "python",
      "nbconvert_exporter": "python",
      "pygments_lexer": "ipython3",
      "version": "3.8.13"
    },
    "vscode": {
      "interpreter": {
        "hash": "edd2e1eeac16ba0124adb27271db416cf5b91db76e0734afe4505ea0738c76e5"
      }
    }
  },
  "nbformat": 4,
  "nbformat_minor": 0
}
