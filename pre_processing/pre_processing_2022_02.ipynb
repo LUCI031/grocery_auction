{
  "cells": [
    {
      "cell_type": "markdown",
      "metadata": {
        "id": "uhJXKN_71HKz"
      },
      "source": [
        "# 개요"
      ]
    },
    {
      "cell_type": "markdown",
      "metadata": {
        "id": "T02KSzGz1iMO"
      },
      "source": [
        "# Prepare"
      ]
    },
    {
      "cell_type": "markdown",
      "metadata": {
        "id": "bfqE9z4W1JQh"
      },
      "source": [
        "# 1. 초기 세팅"
      ]
    },
    {
      "cell_type": "markdown",
      "metadata": {
        "id": "fG4uSp2B1Ph7"
      },
      "source": [
        "## Library & data load"
      ]
    },
    {
      "cell_type": "code",
      "execution_count": 1,
      "metadata": {
        "id": "c2zXAOvOq96i"
      },
      "outputs": [],
      "source": [
        "import pandas as pd\n",
        "import numpy as np\n",
        "import matplotlib.pyplot as plt\n",
        "import seaborn as sns\n",
        "import re"
      ]
    },
    {
      "cell_type": "code",
      "execution_count": 2,
      "metadata": {
        "id": "N6-se2jYrHsw"
      },
      "outputs": [],
      "source": [
        "# 처리용 df와 오리지널 버전 남겨놓음\n",
        "df = pd.read_csv(\"/Users/luci031/Downloads/auction/data_origin/auction_202202.csv\",encoding='euc_kr')\n",
        "org_df = pd.read_csv(\"/Users/luci031/Downloads/auction/data_origin/auction_202202.csv\",encoding='euc_kr')"
      ]
    },
    {
      "cell_type": "markdown",
      "metadata": {
        "id": "yINECbV-4eRb"
      },
      "source": [
        "# Pre-Processing"
      ]
    },
    {
      "cell_type": "markdown",
      "metadata": {
        "id": "OJuFufVP2War"
      },
      "source": [
        "## Basic info"
      ]
    },
    {
      "cell_type": "code",
      "execution_count": 3,
      "metadata": {
        "colab": {
          "base_uri": "https://localhost:8080/",
          "height": 206
        },
        "id": "EE8feVlFr0To",
        "outputId": "cb918bf3-bd0b-4f09-fd92-73d8670996c9"
      },
      "outputs": [
        {
          "data": {
            "text/html": [
              "<div>\n",
              "<style scoped>\n",
              "    .dataframe tbody tr th:only-of-type {\n",
              "        vertical-align: middle;\n",
              "    }\n",
              "\n",
              "    .dataframe tbody tr th {\n",
              "        vertical-align: top;\n",
              "    }\n",
              "\n",
              "    .dataframe thead th {\n",
              "        text-align: right;\n",
              "    }\n",
              "</style>\n",
              "<table border=\"1\" class=\"dataframe\">\n",
              "  <thead>\n",
              "    <tr style=\"text-align: right;\">\n",
              "      <th></th>\n",
              "      <th>품목명</th>\n",
              "      <th>단위</th>\n",
              "      <th>등급</th>\n",
              "      <th>가격</th>\n",
              "      <th>산지</th>\n",
              "      <th>친환경구분</th>\n",
              "      <th>입력일</th>\n",
              "    </tr>\n",
              "  </thead>\n",
              "  <tbody>\n",
              "    <tr>\n",
              "      <th>0</th>\n",
              "      <td>[대파]대파(일반)</td>\n",
              "      <td>1kg</td>\n",
              "      <td>특(1등)</td>\n",
              "      <td>900</td>\n",
              "      <td>전남</td>\n",
              "      <td>일반</td>\n",
              "      <td>20220204</td>\n",
              "    </tr>\n",
              "    <tr>\n",
              "      <th>1</th>\n",
              "      <td>[만감]레드향</td>\n",
              "      <td>5kg</td>\n",
              "      <td>특(1등)</td>\n",
              "      <td>12000</td>\n",
              "      <td>제주</td>\n",
              "      <td>일반</td>\n",
              "      <td>20220204</td>\n",
              "    </tr>\n",
              "    <tr>\n",
              "      <th>2</th>\n",
              "      <td>[무]마대무</td>\n",
              "      <td>20kg</td>\n",
              "      <td>특(1등)</td>\n",
              "      <td>6500</td>\n",
              "      <td>제주</td>\n",
              "      <td>일반</td>\n",
              "      <td>20220204</td>\n",
              "    </tr>\n",
              "    <tr>\n",
              "      <th>3</th>\n",
              "      <td>[무]마대무</td>\n",
              "      <td>20kg</td>\n",
              "      <td>상(2등)</td>\n",
              "      <td>5200</td>\n",
              "      <td>제주</td>\n",
              "      <td>일반</td>\n",
              "      <td>20220204</td>\n",
              "    </tr>\n",
              "    <tr>\n",
              "      <th>4</th>\n",
              "      <td>[무]마대무</td>\n",
              "      <td>20kg</td>\n",
              "      <td>상(2등)</td>\n",
              "      <td>4800</td>\n",
              "      <td>제주</td>\n",
              "      <td>일반</td>\n",
              "      <td>20220204</td>\n",
              "    </tr>\n",
              "  </tbody>\n",
              "</table>\n",
              "</div>"
            ],
            "text/plain": [
              "          품목명    단위     등급     가격  산지 친환경구분       입력일\n",
              "0  [대파]대파(일반)   1kg  특(1등)    900  전남    일반  20220204\n",
              "1     [만감]레드향   5kg  특(1등)  12000  제주    일반  20220204\n",
              "2      [무]마대무  20kg  특(1등)   6500  제주    일반  20220204\n",
              "3      [무]마대무  20kg  상(2등)   5200  제주    일반  20220204\n",
              "4      [무]마대무  20kg  상(2등)   4800  제주    일반  20220204"
            ]
          },
          "execution_count": 3,
          "metadata": {},
          "output_type": "execute_result"
        }
      ],
      "source": [
        "df.head()"
      ]
    },
    {
      "cell_type": "code",
      "execution_count": 4,
      "metadata": {
        "colab": {
          "base_uri": "https://localhost:8080/"
        },
        "id": "Jf03xK1D1p5Z",
        "outputId": "7cc5158f-76c4-4ca6-e80a-cd60949c1049"
      },
      "outputs": [
        {
          "name": "stdout",
          "output_type": "stream",
          "text": [
            "<class 'pandas.core.frame.DataFrame'>\n",
            "RangeIndex: 691646 entries, 0 to 691645\n",
            "Data columns (total 7 columns):\n",
            " #   Column  Non-Null Count   Dtype \n",
            "---  ------  --------------   ----- \n",
            " 0   품목명     691646 non-null  object\n",
            " 1   단위      691646 non-null  object\n",
            " 2   등급      691646 non-null  object\n",
            " 3   가격      691646 non-null  int64 \n",
            " 4   산지      690768 non-null  object\n",
            " 5   친환경구분   691646 non-null  object\n",
            " 6   입력일     691646 non-null  int64 \n",
            "dtypes: int64(2), object(5)\n",
            "memory usage: 36.9+ MB\n"
          ]
        }
      ],
      "source": [
        "df.info()"
      ]
    },
    {
      "cell_type": "code",
      "execution_count": 5,
      "metadata": {
        "colab": {
          "base_uri": "https://localhost:8080/"
        },
        "id": "R3-Xng6M1om2",
        "outputId": "0071ee93-3ebe-436d-910b-aa30c7356468"
      },
      "outputs": [
        {
          "data": {
            "text/plain": [
              "품목명        0\n",
              "단위         0\n",
              "등급         0\n",
              "가격         0\n",
              "산지       878\n",
              "친환경구분      0\n",
              "입력일        0\n",
              "dtype: int64"
            ]
          },
          "execution_count": 5,
          "metadata": {},
          "output_type": "execute_result"
        }
      ],
      "source": [
        "# 산지 제외하고는 결측치 없는 것으로 확인\n",
        "df.isnull().sum()"
      ]
    },
    {
      "cell_type": "markdown",
      "metadata": {
        "id": "KiwEMLgv-7KL"
      },
      "source": [
        "- 결측치 처리"
      ]
    },
    {
      "cell_type": "code",
      "execution_count": 6,
      "metadata": {
        "id": "y52OV6yt-60b"
      },
      "outputs": [],
      "source": [
        "###\n",
        "# 양이 많지 않으므로 결측치 제거\n",
        "df = df.dropna(axis=0)"
      ]
    },
    {
      "cell_type": "markdown",
      "metadata": {
        "id": "tWVdZUXv7njQ"
      },
      "source": [
        "- 영문명으로 전환"
      ]
    },
    {
      "cell_type": "code",
      "execution_count": 7,
      "metadata": {
        "id": "Cpc_wblh4oLI"
      },
      "outputs": [],
      "source": [
        "df = df.rename(columns = {'품목명':'prd',\n",
        "                          '단위':'scale','등급':'class',\n",
        "                          '가격':'price',\n",
        "                          '산지':'origin',\n",
        "                          '친환경구분':'eco',\n",
        "                          '입력일':'reg_date'})"
      ]
    },
    {
      "cell_type": "markdown",
      "metadata": {
        "id": "6raN15sn8XwE"
      },
      "source": [
        "## column 별 정보"
      ]
    },
    {
      "cell_type": "markdown",
      "metadata": {
        "id": "9blCj1BqBKl9"
      },
      "source": [
        "### class"
      ]
    },
    {
      "cell_type": "code",
      "execution_count": 8,
      "metadata": {
        "colab": {
          "base_uri": "https://localhost:8080/"
        },
        "id": "trRf-DfuBNBL",
        "outputId": "017ef00e-f7ca-476c-e44a-a847d4881695"
      },
      "outputs": [
        {
          "data": {
            "text/plain": [
              "Index(['특(1등)', '상(2등)', '보통(3등)', '9등(등외)', '없음', '5등', '4등', '6등', '7등',\n",
              "       '8등'],\n",
              "      dtype='object')"
            ]
          },
          "execution_count": 8,
          "metadata": {},
          "output_type": "execute_result"
        }
      ],
      "source": [
        "# 이름 모두 영어로 변경\n",
        "# 9등과 없음 모두 9로 변경\n",
        "df['class'].value_counts().index"
      ]
    },
    {
      "cell_type": "code",
      "execution_count": 9,
      "metadata": {
        "id": "Y9aTlhUSBfU9"
      },
      "outputs": [],
      "source": [
        "df111 = pd.DataFrame([['특(1등)', 1], ['상(2등)',2], ['보통(3등)',3], ['9등(등외)',9], ['없음',9], ['5등',5], ['4등',4], ['6등',6], ['7등',7],['8등',8]],columns=['class','new_class'])"
      ]
    },
    {
      "cell_type": "code",
      "execution_count": 10,
      "metadata": {
        "id": "N4LG6ClLC4II"
      },
      "outputs": [],
      "source": [
        "df2 = df.merge(df111)\n",
        "df2 = df2.drop(columns='class')"
      ]
    },
    {
      "cell_type": "code",
      "execution_count": 11,
      "metadata": {
        "colab": {
          "base_uri": "https://localhost:8080/",
          "height": 423
        },
        "id": "w_BncYpbDQGg",
        "outputId": "6482608e-5fcd-4b4d-b921-e720dec1a560"
      },
      "outputs": [
        {
          "data": {
            "text/html": [
              "<div>\n",
              "<style scoped>\n",
              "    .dataframe tbody tr th:only-of-type {\n",
              "        vertical-align: middle;\n",
              "    }\n",
              "\n",
              "    .dataframe tbody tr th {\n",
              "        vertical-align: top;\n",
              "    }\n",
              "\n",
              "    .dataframe thead th {\n",
              "        text-align: right;\n",
              "    }\n",
              "</style>\n",
              "<table border=\"1\" class=\"dataframe\">\n",
              "  <thead>\n",
              "    <tr style=\"text-align: right;\">\n",
              "      <th></th>\n",
              "      <th>prd</th>\n",
              "      <th>scale</th>\n",
              "      <th>price</th>\n",
              "      <th>origin</th>\n",
              "      <th>eco</th>\n",
              "      <th>reg_date</th>\n",
              "      <th>new_class</th>\n",
              "    </tr>\n",
              "  </thead>\n",
              "  <tbody>\n",
              "    <tr>\n",
              "      <th>0</th>\n",
              "      <td>[대파]대파(일반)</td>\n",
              "      <td>1kg</td>\n",
              "      <td>900</td>\n",
              "      <td>전남</td>\n",
              "      <td>일반</td>\n",
              "      <td>20220204</td>\n",
              "      <td>1</td>\n",
              "    </tr>\n",
              "    <tr>\n",
              "      <th>1</th>\n",
              "      <td>[만감]레드향</td>\n",
              "      <td>5kg</td>\n",
              "      <td>12000</td>\n",
              "      <td>제주</td>\n",
              "      <td>일반</td>\n",
              "      <td>20220204</td>\n",
              "      <td>1</td>\n",
              "    </tr>\n",
              "    <tr>\n",
              "      <th>2</th>\n",
              "      <td>[무]마대무</td>\n",
              "      <td>20kg</td>\n",
              "      <td>6500</td>\n",
              "      <td>제주</td>\n",
              "      <td>일반</td>\n",
              "      <td>20220204</td>\n",
              "      <td>1</td>\n",
              "    </tr>\n",
              "    <tr>\n",
              "      <th>3</th>\n",
              "      <td>[가지]가지</td>\n",
              "      <td>5kg</td>\n",
              "      <td>14000</td>\n",
              "      <td>경남 밀양시</td>\n",
              "      <td>일반</td>\n",
              "      <td>20220204</td>\n",
              "      <td>1</td>\n",
              "    </tr>\n",
              "    <tr>\n",
              "      <th>4</th>\n",
              "      <td>[감]부유단감</td>\n",
              "      <td>10kg</td>\n",
              "      <td>30000</td>\n",
              "      <td>광주 남구</td>\n",
              "      <td>일반</td>\n",
              "      <td>20220204</td>\n",
              "      <td>1</td>\n",
              "    </tr>\n",
              "    <tr>\n",
              "      <th>...</th>\n",
              "      <td>...</td>\n",
              "      <td>...</td>\n",
              "      <td>...</td>\n",
              "      <td>...</td>\n",
              "      <td>...</td>\n",
              "      <td>...</td>\n",
              "      <td>...</td>\n",
              "    </tr>\n",
              "    <tr>\n",
              "      <th>690763</th>\n",
              "      <td>[호박]늙은호박</td>\n",
              "      <td>8kg</td>\n",
              "      <td>3000</td>\n",
              "      <td>전남 해남군</td>\n",
              "      <td>일반</td>\n",
              "      <td>20220224</td>\n",
              "      <td>8</td>\n",
              "    </tr>\n",
              "    <tr>\n",
              "      <th>690764</th>\n",
              "      <td>[양파]양파(일반)</td>\n",
              "      <td>15kg</td>\n",
              "      <td>3500</td>\n",
              "      <td>전남 무안군</td>\n",
              "      <td>일반</td>\n",
              "      <td>20220225</td>\n",
              "      <td>8</td>\n",
              "    </tr>\n",
              "    <tr>\n",
              "      <th>690765</th>\n",
              "      <td>[양파]양파(일반)</td>\n",
              "      <td>15kg</td>\n",
              "      <td>3500</td>\n",
              "      <td>전남 무안군</td>\n",
              "      <td>일반</td>\n",
              "      <td>20220225</td>\n",
              "      <td>8</td>\n",
              "    </tr>\n",
              "    <tr>\n",
              "      <th>690766</th>\n",
              "      <td>[토마토]대저토마토</td>\n",
              "      <td>2.5kg</td>\n",
              "      <td>6000</td>\n",
              "      <td>경남 김해시</td>\n",
              "      <td>일반</td>\n",
              "      <td>20220226</td>\n",
              "      <td>8</td>\n",
              "    </tr>\n",
              "    <tr>\n",
              "      <th>690767</th>\n",
              "      <td>[토마토]대저토마토</td>\n",
              "      <td>2.5kg</td>\n",
              "      <td>11000</td>\n",
              "      <td>경남 김해시</td>\n",
              "      <td>일반</td>\n",
              "      <td>20220226</td>\n",
              "      <td>8</td>\n",
              "    </tr>\n",
              "  </tbody>\n",
              "</table>\n",
              "<p>690768 rows × 7 columns</p>\n",
              "</div>"
            ],
            "text/plain": [
              "               prd  scale  price  origin eco  reg_date  new_class\n",
              "0       [대파]대파(일반)    1kg    900      전남  일반  20220204          1\n",
              "1          [만감]레드향    5kg  12000      제주  일반  20220204          1\n",
              "2           [무]마대무   20kg   6500      제주  일반  20220204          1\n",
              "3           [가지]가지    5kg  14000  경남 밀양시  일반  20220204          1\n",
              "4          [감]부유단감   10kg  30000   광주 남구  일반  20220204          1\n",
              "...            ...    ...    ...     ...  ..       ...        ...\n",
              "690763    [호박]늙은호박    8kg   3000  전남 해남군  일반  20220224          8\n",
              "690764  [양파]양파(일반)   15kg   3500  전남 무안군  일반  20220225          8\n",
              "690765  [양파]양파(일반)   15kg   3500  전남 무안군  일반  20220225          8\n",
              "690766  [토마토]대저토마토  2.5kg   6000  경남 김해시  일반  20220226          8\n",
              "690767  [토마토]대저토마토  2.5kg  11000  경남 김해시  일반  20220226          8\n",
              "\n",
              "[690768 rows x 7 columns]"
            ]
          },
          "execution_count": 11,
          "metadata": {},
          "output_type": "execute_result"
        }
      ],
      "source": [
        "df2"
      ]
    },
    {
      "cell_type": "markdown",
      "metadata": {
        "id": "6QhhnXfKWiQL"
      },
      "source": [
        "### eco"
      ]
    },
    {
      "cell_type": "code",
      "execution_count": 12,
      "metadata": {
        "id": "XPNdAWmbWWjy"
      },
      "outputs": [],
      "source": [
        "# 영문명으로 전환\n",
        "# 전환기 -> 유기농 재배로 전환중\n",
        "df2.loc[df2[\"eco\"]==\"일반\",\"eco\"] = \"normal\"\n",
        "df2.loc[df2[\"eco\"]==\"우수농산물\",\"eco\"] = \"\bgood_prd\"\n",
        "df2.loc[df2[\"eco\"]==\"무농약\",\"eco\"] = \"\becofriendly\"\n",
        "df2.loc[df2[\"eco\"]==\"유기농\",\"eco\"] = \"organic\"\n",
        "df2.loc[df2[\"eco\"]==\"품질인증\",\"eco\"] = \"certified\"\n",
        "df2.loc[df2[\"eco\"]==\"전환기\",\"eco\"] = \"ing\""
      ]
    },
    {
      "cell_type": "code",
      "execution_count": 13,
      "metadata": {
        "colab": {
          "base_uri": "https://localhost:8080/",
          "height": 423
        },
        "id": "SFs64qIjYPqG",
        "outputId": "e1d18001-8e23-4db4-c367-d91e111bf6af"
      },
      "outputs": [
        {
          "data": {
            "text/html": [
              "<div>\n",
              "<style scoped>\n",
              "    .dataframe tbody tr th:only-of-type {\n",
              "        vertical-align: middle;\n",
              "    }\n",
              "\n",
              "    .dataframe tbody tr th {\n",
              "        vertical-align: top;\n",
              "    }\n",
              "\n",
              "    .dataframe thead th {\n",
              "        text-align: right;\n",
              "    }\n",
              "</style>\n",
              "<table border=\"1\" class=\"dataframe\">\n",
              "  <thead>\n",
              "    <tr style=\"text-align: right;\">\n",
              "      <th></th>\n",
              "      <th>prd</th>\n",
              "      <th>scale</th>\n",
              "      <th>price</th>\n",
              "      <th>origin</th>\n",
              "      <th>eco</th>\n",
              "      <th>reg_date</th>\n",
              "      <th>new_class</th>\n",
              "    </tr>\n",
              "  </thead>\n",
              "  <tbody>\n",
              "    <tr>\n",
              "      <th>0</th>\n",
              "      <td>[대파]대파(일반)</td>\n",
              "      <td>1kg</td>\n",
              "      <td>900</td>\n",
              "      <td>전남</td>\n",
              "      <td>normal</td>\n",
              "      <td>20220204</td>\n",
              "      <td>1</td>\n",
              "    </tr>\n",
              "    <tr>\n",
              "      <th>1</th>\n",
              "      <td>[만감]레드향</td>\n",
              "      <td>5kg</td>\n",
              "      <td>12000</td>\n",
              "      <td>제주</td>\n",
              "      <td>normal</td>\n",
              "      <td>20220204</td>\n",
              "      <td>1</td>\n",
              "    </tr>\n",
              "    <tr>\n",
              "      <th>2</th>\n",
              "      <td>[무]마대무</td>\n",
              "      <td>20kg</td>\n",
              "      <td>6500</td>\n",
              "      <td>제주</td>\n",
              "      <td>normal</td>\n",
              "      <td>20220204</td>\n",
              "      <td>1</td>\n",
              "    </tr>\n",
              "    <tr>\n",
              "      <th>3</th>\n",
              "      <td>[가지]가지</td>\n",
              "      <td>5kg</td>\n",
              "      <td>14000</td>\n",
              "      <td>경남 밀양시</td>\n",
              "      <td>normal</td>\n",
              "      <td>20220204</td>\n",
              "      <td>1</td>\n",
              "    </tr>\n",
              "    <tr>\n",
              "      <th>4</th>\n",
              "      <td>[감]부유단감</td>\n",
              "      <td>10kg</td>\n",
              "      <td>30000</td>\n",
              "      <td>광주 남구</td>\n",
              "      <td>normal</td>\n",
              "      <td>20220204</td>\n",
              "      <td>1</td>\n",
              "    </tr>\n",
              "    <tr>\n",
              "      <th>...</th>\n",
              "      <td>...</td>\n",
              "      <td>...</td>\n",
              "      <td>...</td>\n",
              "      <td>...</td>\n",
              "      <td>...</td>\n",
              "      <td>...</td>\n",
              "      <td>...</td>\n",
              "    </tr>\n",
              "    <tr>\n",
              "      <th>690763</th>\n",
              "      <td>[호박]늙은호박</td>\n",
              "      <td>8kg</td>\n",
              "      <td>3000</td>\n",
              "      <td>전남 해남군</td>\n",
              "      <td>normal</td>\n",
              "      <td>20220224</td>\n",
              "      <td>8</td>\n",
              "    </tr>\n",
              "    <tr>\n",
              "      <th>690764</th>\n",
              "      <td>[양파]양파(일반)</td>\n",
              "      <td>15kg</td>\n",
              "      <td>3500</td>\n",
              "      <td>전남 무안군</td>\n",
              "      <td>normal</td>\n",
              "      <td>20220225</td>\n",
              "      <td>8</td>\n",
              "    </tr>\n",
              "    <tr>\n",
              "      <th>690765</th>\n",
              "      <td>[양파]양파(일반)</td>\n",
              "      <td>15kg</td>\n",
              "      <td>3500</td>\n",
              "      <td>전남 무안군</td>\n",
              "      <td>normal</td>\n",
              "      <td>20220225</td>\n",
              "      <td>8</td>\n",
              "    </tr>\n",
              "    <tr>\n",
              "      <th>690766</th>\n",
              "      <td>[토마토]대저토마토</td>\n",
              "      <td>2.5kg</td>\n",
              "      <td>6000</td>\n",
              "      <td>경남 김해시</td>\n",
              "      <td>normal</td>\n",
              "      <td>20220226</td>\n",
              "      <td>8</td>\n",
              "    </tr>\n",
              "    <tr>\n",
              "      <th>690767</th>\n",
              "      <td>[토마토]대저토마토</td>\n",
              "      <td>2.5kg</td>\n",
              "      <td>11000</td>\n",
              "      <td>경남 김해시</td>\n",
              "      <td>normal</td>\n",
              "      <td>20220226</td>\n",
              "      <td>8</td>\n",
              "    </tr>\n",
              "  </tbody>\n",
              "</table>\n",
              "<p>690768 rows × 7 columns</p>\n",
              "</div>"
            ],
            "text/plain": [
              "               prd  scale  price  origin     eco  reg_date  new_class\n",
              "0       [대파]대파(일반)    1kg    900      전남  normal  20220204          1\n",
              "1          [만감]레드향    5kg  12000      제주  normal  20220204          1\n",
              "2           [무]마대무   20kg   6500      제주  normal  20220204          1\n",
              "3           [가지]가지    5kg  14000  경남 밀양시  normal  20220204          1\n",
              "4          [감]부유단감   10kg  30000   광주 남구  normal  20220204          1\n",
              "...            ...    ...    ...     ...     ...       ...        ...\n",
              "690763    [호박]늙은호박    8kg   3000  전남 해남군  normal  20220224          8\n",
              "690764  [양파]양파(일반)   15kg   3500  전남 무안군  normal  20220225          8\n",
              "690765  [양파]양파(일반)   15kg   3500  전남 무안군  normal  20220225          8\n",
              "690766  [토마토]대저토마토  2.5kg   6000  경남 김해시  normal  20220226          8\n",
              "690767  [토마토]대저토마토  2.5kg  11000  경남 김해시  normal  20220226          8\n",
              "\n",
              "[690768 rows x 7 columns]"
            ]
          },
          "execution_count": 13,
          "metadata": {},
          "output_type": "execute_result"
        }
      ],
      "source": [
        "df2"
      ]
    },
    {
      "cell_type": "markdown",
      "metadata": {
        "id": "ffhjwT57YNLh"
      },
      "source": [
        "### reg_date"
      ]
    },
    {
      "cell_type": "code",
      "execution_count": 14,
      "metadata": {
        "id": "0xEJoswCYUiR"
      },
      "outputs": [],
      "source": [
        "df2['reg_date'] = df2['reg_date'].astype('str')"
      ]
    },
    {
      "cell_type": "code",
      "execution_count": 15,
      "metadata": {
        "id": "7eMsOdHaqa7H"
      },
      "outputs": [],
      "source": [
        "df2['reg_date'] = pd.to_datetime(df2['reg_date'].astype('str'),format='%Y%m%d')"
      ]
    },
    {
      "cell_type": "code",
      "execution_count": 16,
      "metadata": {
        "colab": {
          "base_uri": "https://localhost:8080/",
          "height": 423
        },
        "id": "4OJlA07go6Vm",
        "outputId": "775611cd-2a30-4603-90e5-ac782aea1678"
      },
      "outputs": [
        {
          "data": {
            "text/html": [
              "<div>\n",
              "<style scoped>\n",
              "    .dataframe tbody tr th:only-of-type {\n",
              "        vertical-align: middle;\n",
              "    }\n",
              "\n",
              "    .dataframe tbody tr th {\n",
              "        vertical-align: top;\n",
              "    }\n",
              "\n",
              "    .dataframe thead th {\n",
              "        text-align: right;\n",
              "    }\n",
              "</style>\n",
              "<table border=\"1\" class=\"dataframe\">\n",
              "  <thead>\n",
              "    <tr style=\"text-align: right;\">\n",
              "      <th></th>\n",
              "      <th>prd</th>\n",
              "      <th>scale</th>\n",
              "      <th>price</th>\n",
              "      <th>origin</th>\n",
              "      <th>eco</th>\n",
              "      <th>reg_date</th>\n",
              "      <th>new_class</th>\n",
              "    </tr>\n",
              "  </thead>\n",
              "  <tbody>\n",
              "    <tr>\n",
              "      <th>0</th>\n",
              "      <td>[대파]대파(일반)</td>\n",
              "      <td>1kg</td>\n",
              "      <td>900</td>\n",
              "      <td>전남</td>\n",
              "      <td>normal</td>\n",
              "      <td>2022-02-04</td>\n",
              "      <td>1</td>\n",
              "    </tr>\n",
              "    <tr>\n",
              "      <th>1</th>\n",
              "      <td>[만감]레드향</td>\n",
              "      <td>5kg</td>\n",
              "      <td>12000</td>\n",
              "      <td>제주</td>\n",
              "      <td>normal</td>\n",
              "      <td>2022-02-04</td>\n",
              "      <td>1</td>\n",
              "    </tr>\n",
              "    <tr>\n",
              "      <th>2</th>\n",
              "      <td>[무]마대무</td>\n",
              "      <td>20kg</td>\n",
              "      <td>6500</td>\n",
              "      <td>제주</td>\n",
              "      <td>normal</td>\n",
              "      <td>2022-02-04</td>\n",
              "      <td>1</td>\n",
              "    </tr>\n",
              "    <tr>\n",
              "      <th>3</th>\n",
              "      <td>[가지]가지</td>\n",
              "      <td>5kg</td>\n",
              "      <td>14000</td>\n",
              "      <td>경남 밀양시</td>\n",
              "      <td>normal</td>\n",
              "      <td>2022-02-04</td>\n",
              "      <td>1</td>\n",
              "    </tr>\n",
              "    <tr>\n",
              "      <th>4</th>\n",
              "      <td>[감]부유단감</td>\n",
              "      <td>10kg</td>\n",
              "      <td>30000</td>\n",
              "      <td>광주 남구</td>\n",
              "      <td>normal</td>\n",
              "      <td>2022-02-04</td>\n",
              "      <td>1</td>\n",
              "    </tr>\n",
              "    <tr>\n",
              "      <th>...</th>\n",
              "      <td>...</td>\n",
              "      <td>...</td>\n",
              "      <td>...</td>\n",
              "      <td>...</td>\n",
              "      <td>...</td>\n",
              "      <td>...</td>\n",
              "      <td>...</td>\n",
              "    </tr>\n",
              "    <tr>\n",
              "      <th>690763</th>\n",
              "      <td>[호박]늙은호박</td>\n",
              "      <td>8kg</td>\n",
              "      <td>3000</td>\n",
              "      <td>전남 해남군</td>\n",
              "      <td>normal</td>\n",
              "      <td>2022-02-24</td>\n",
              "      <td>8</td>\n",
              "    </tr>\n",
              "    <tr>\n",
              "      <th>690764</th>\n",
              "      <td>[양파]양파(일반)</td>\n",
              "      <td>15kg</td>\n",
              "      <td>3500</td>\n",
              "      <td>전남 무안군</td>\n",
              "      <td>normal</td>\n",
              "      <td>2022-02-25</td>\n",
              "      <td>8</td>\n",
              "    </tr>\n",
              "    <tr>\n",
              "      <th>690765</th>\n",
              "      <td>[양파]양파(일반)</td>\n",
              "      <td>15kg</td>\n",
              "      <td>3500</td>\n",
              "      <td>전남 무안군</td>\n",
              "      <td>normal</td>\n",
              "      <td>2022-02-25</td>\n",
              "      <td>8</td>\n",
              "    </tr>\n",
              "    <tr>\n",
              "      <th>690766</th>\n",
              "      <td>[토마토]대저토마토</td>\n",
              "      <td>2.5kg</td>\n",
              "      <td>6000</td>\n",
              "      <td>경남 김해시</td>\n",
              "      <td>normal</td>\n",
              "      <td>2022-02-26</td>\n",
              "      <td>8</td>\n",
              "    </tr>\n",
              "    <tr>\n",
              "      <th>690767</th>\n",
              "      <td>[토마토]대저토마토</td>\n",
              "      <td>2.5kg</td>\n",
              "      <td>11000</td>\n",
              "      <td>경남 김해시</td>\n",
              "      <td>normal</td>\n",
              "      <td>2022-02-26</td>\n",
              "      <td>8</td>\n",
              "    </tr>\n",
              "  </tbody>\n",
              "</table>\n",
              "<p>690768 rows × 7 columns</p>\n",
              "</div>"
            ],
            "text/plain": [
              "               prd  scale  price  origin     eco   reg_date  new_class\n",
              "0       [대파]대파(일반)    1kg    900      전남  normal 2022-02-04          1\n",
              "1          [만감]레드향    5kg  12000      제주  normal 2022-02-04          1\n",
              "2           [무]마대무   20kg   6500      제주  normal 2022-02-04          1\n",
              "3           [가지]가지    5kg  14000  경남 밀양시  normal 2022-02-04          1\n",
              "4          [감]부유단감   10kg  30000   광주 남구  normal 2022-02-04          1\n",
              "...            ...    ...    ...     ...     ...        ...        ...\n",
              "690763    [호박]늙은호박    8kg   3000  전남 해남군  normal 2022-02-24          8\n",
              "690764  [양파]양파(일반)   15kg   3500  전남 무안군  normal 2022-02-25          8\n",
              "690765  [양파]양파(일반)   15kg   3500  전남 무안군  normal 2022-02-25          8\n",
              "690766  [토마토]대저토마토  2.5kg   6000  경남 김해시  normal 2022-02-26          8\n",
              "690767  [토마토]대저토마토  2.5kg  11000  경남 김해시  normal 2022-02-26          8\n",
              "\n",
              "[690768 rows x 7 columns]"
            ]
          },
          "execution_count": 16,
          "metadata": {},
          "output_type": "execute_result"
        }
      ],
      "source": [
        "df2"
      ]
    },
    {
      "cell_type": "markdown",
      "metadata": {
        "id": "VN8Eana_Dbbl"
      },
      "source": [
        "### price"
      ]
    },
    {
      "cell_type": "code",
      "execution_count": 17,
      "metadata": {
        "id": "oZbejw0vewmJ"
      },
      "outputs": [],
      "source": [
        "# 계산을 위해 scale 값 미리 변경\n",
        "# 현재 값들은 string이므로 float 형태로 변환할 필요가 있음\n",
        "# 몇몇 이상치 처리도 진행\n",
        "def scale_checker(scale):\n",
        "  if scale.startswith('.')==True:\n",
        "    return format(float('0'+scale[:-2]),'.2f')\n",
        "  else:\n",
        "    return format(float((scale[:-2])),'.2f')\n",
        "df2['scale'] = df2['scale'].apply(scale_checker)\n",
        "df2['scale'] = df2['scale'].astype('float')\n",
        "# df2['scale'] = format(round(df2['scale'].apply(pd.to_numeric),2),'.2f')"
      ]
    },
    {
      "cell_type": "code",
      "execution_count": 18,
      "metadata": {},
      "outputs": [
        {
          "data": {
            "text/plain": [
              "array([1.000e+00, 5.000e+00, 2.000e+01, 1.000e+01, 4.000e+00, 2.000e+00,\n",
              "       1.500e+00, 3.000e+00, 7.000e-01, 3.600e+00, 5.000e-01, 4.500e+00,\n",
              "       7.000e+00, 6.000e+00, 2.500e+00, 2.000e-01, 8.000e+00, 9.000e+00,\n",
              "       4.000e-01, 1.700e+01, 3.000e-01, 2.500e-01, 1.200e+00, 1.400e+01,\n",
              "       1.300e+01, 1.200e+01, 1.100e+01, 8.000e-01, 8.500e+00, 1.150e+01,\n",
              "       8.200e+00, 7.500e+00, 9.000e-01, 1.500e+01, 7.300e+00, 2.500e+01,\n",
              "       1.350e+01, 5.200e+00, 3.500e+00, 1.500e-01, 6.000e-02, 1.800e+01,\n",
              "       5.000e-02, 2.700e+00, 1.700e-01, 1.200e-01, 6.000e-01, 2.010e+00,\n",
              "       1.010e+00, 1.600e+01, 1.900e+01, 2.100e+01, 2.200e+01, 2.300e+01,\n",
              "       8.700e+01, 1.620e+01, 1.440e+01, 1.250e+01, 5.500e+00, 3.800e+00,\n",
              "       1.000e-01, 1.050e+01, 5.010e+00, 3.300e+00, 2.800e+00, 3.700e+00,\n",
              "       5.600e+00, 1.080e+01, 9.600e+00, 9.800e+00, 8.010e+00, 2.400e+00,\n",
              "       3.100e+00, 1.001e+01, 1.400e+00, 1.300e+00, 1.800e+00, 2.800e+01,\n",
              "       5.800e+00, 8.600e+00, 2.200e+00, 4.400e+00, 3.000e-02, 2.400e+01,\n",
              "       7.000e-02, 8.000e-02, 4.800e+00, 8.700e+00, 1.890e+01, 8.300e+00,\n",
              "       3.400e+00, 6.500e+00, 1.600e+00, 3.300e-01, 8.800e+01, 2.600e+00,\n",
              "       1.120e+01, 2.700e+01, 1.600e-01, 1.340e+02, 4.300e+00, 6.500e-01,\n",
              "       3.000e+01, 5.300e+00, 8.800e+00, 5.500e-01, 6.300e+00, 7.400e+00,\n",
              "       6.600e+00, 7.800e+00, 3.200e+00, 3.900e+00, 0.000e+00, 1.010e+02,\n",
              "       1.270e+01, 2.300e+00, 5.400e+00, 1.130e+02, 2.900e+00, 4.600e+00,\n",
              "       4.700e+00, 4.900e+00, 8.000e+01, 8.400e+00, 1.170e+01, 7.200e+00,\n",
              "       4.100e+00, 1.310e+02, 3.750e+00, 1.240e+01, 5.100e+00, 2.070e+01,\n",
              "       1.710e+01, 1.723e+01, 7.500e-01, 1.260e+01, 4.700e+01, 2.450e+00,\n",
              "       2.250e+01, 7.700e+00, 3.800e-01, 3.200e+01, 6.000e+01, 4.200e+00,\n",
              "       8.100e+00, 4.500e+01, 1.070e+01, 5.200e+01, 9.400e+00, 6.700e+00,\n",
              "       9.500e+00, 5.600e+01, 2.970e+01, 2.100e+00, 2.150e+01, 1.700e+00,\n",
              "       9.200e+00, 1.900e+00, 2.900e+01, 1.380e+01, 1.850e+01, 9.100e+00,\n",
              "       1.140e+01, 3.400e+01, 1.340e+01, 1.100e+00, 2.750e+01])"
            ]
          },
          "execution_count": 18,
          "metadata": {},
          "output_type": "execute_result"
        }
      ],
      "source": [
        "df2['scale'].unique()"
      ]
    },
    {
      "cell_type": "code",
      "execution_count": 19,
      "metadata": {
        "colab": {
          "base_uri": "https://localhost:8080/"
        },
        "id": "S_OXk_iDDaxM",
        "outputId": "df40b3b5-b8d5-4609-b1d1-d940826ff6bf"
      },
      "outputs": [
        {
          "data": {
            "text/plain": [
              "count     690768.00000\n",
              "mean       23263.31064\n",
              "std        80599.76642\n",
              "min            0.00000\n",
              "25%         8500.00000\n",
              "50%        15000.00000\n",
              "75%        27000.00000\n",
              "max     36036000.00000\n",
              "Name: price, dtype: float64"
            ]
          },
          "execution_count": 19,
          "metadata": {},
          "output_type": "execute_result"
        }
      ],
      "source": [
        "# 1원짜리 거래 발견, 너무 거래값이 작은 값들은 삭제\n",
        "pd.options.display.float_format = '{:.5f}'.format\n",
        "df2['price'].describe()"
      ]
    },
    {
      "cell_type": "code",
      "execution_count": 20,
      "metadata": {
        "id": "PQrLwgHPVsHs"
      },
      "outputs": [],
      "source": [
        "df2 = df2.drop(df2[df2['price']<500].index)"
      ]
    },
    {
      "cell_type": "code",
      "execution_count": 21,
      "metadata": {
        "colab": {
          "base_uri": "https://localhost:8080/",
          "height": 423
        },
        "id": "h8uaY01ADasA",
        "outputId": "228f08e1-3d13-41cf-ae61-c672904e5fc6"
      },
      "outputs": [
        {
          "data": {
            "text/html": [
              "<div>\n",
              "<style scoped>\n",
              "    .dataframe tbody tr th:only-of-type {\n",
              "        vertical-align: middle;\n",
              "    }\n",
              "\n",
              "    .dataframe tbody tr th {\n",
              "        vertical-align: top;\n",
              "    }\n",
              "\n",
              "    .dataframe thead th {\n",
              "        text-align: right;\n",
              "    }\n",
              "</style>\n",
              "<table border=\"1\" class=\"dataframe\">\n",
              "  <thead>\n",
              "    <tr style=\"text-align: right;\">\n",
              "      <th></th>\n",
              "      <th>prd</th>\n",
              "      <th>scale</th>\n",
              "      <th>price</th>\n",
              "      <th>origin</th>\n",
              "      <th>eco</th>\n",
              "      <th>reg_date</th>\n",
              "      <th>new_class</th>\n",
              "    </tr>\n",
              "  </thead>\n",
              "  <tbody>\n",
              "    <tr>\n",
              "      <th>0</th>\n",
              "      <td>[대파]대파(일반)</td>\n",
              "      <td>1.00000</td>\n",
              "      <td>900</td>\n",
              "      <td>전남</td>\n",
              "      <td>normal</td>\n",
              "      <td>2022-02-04</td>\n",
              "      <td>1</td>\n",
              "    </tr>\n",
              "    <tr>\n",
              "      <th>1</th>\n",
              "      <td>[만감]레드향</td>\n",
              "      <td>5.00000</td>\n",
              "      <td>12000</td>\n",
              "      <td>제주</td>\n",
              "      <td>normal</td>\n",
              "      <td>2022-02-04</td>\n",
              "      <td>1</td>\n",
              "    </tr>\n",
              "    <tr>\n",
              "      <th>2</th>\n",
              "      <td>[무]마대무</td>\n",
              "      <td>20.00000</td>\n",
              "      <td>6500</td>\n",
              "      <td>제주</td>\n",
              "      <td>normal</td>\n",
              "      <td>2022-02-04</td>\n",
              "      <td>1</td>\n",
              "    </tr>\n",
              "    <tr>\n",
              "      <th>3</th>\n",
              "      <td>[가지]가지</td>\n",
              "      <td>5.00000</td>\n",
              "      <td>14000</td>\n",
              "      <td>경남 밀양시</td>\n",
              "      <td>normal</td>\n",
              "      <td>2022-02-04</td>\n",
              "      <td>1</td>\n",
              "    </tr>\n",
              "    <tr>\n",
              "      <th>4</th>\n",
              "      <td>[감]부유단감</td>\n",
              "      <td>10.00000</td>\n",
              "      <td>30000</td>\n",
              "      <td>광주 남구</td>\n",
              "      <td>normal</td>\n",
              "      <td>2022-02-04</td>\n",
              "      <td>1</td>\n",
              "    </tr>\n",
              "    <tr>\n",
              "      <th>...</th>\n",
              "      <td>...</td>\n",
              "      <td>...</td>\n",
              "      <td>...</td>\n",
              "      <td>...</td>\n",
              "      <td>...</td>\n",
              "      <td>...</td>\n",
              "      <td>...</td>\n",
              "    </tr>\n",
              "    <tr>\n",
              "      <th>690763</th>\n",
              "      <td>[호박]늙은호박</td>\n",
              "      <td>8.00000</td>\n",
              "      <td>3000</td>\n",
              "      <td>전남 해남군</td>\n",
              "      <td>normal</td>\n",
              "      <td>2022-02-24</td>\n",
              "      <td>8</td>\n",
              "    </tr>\n",
              "    <tr>\n",
              "      <th>690764</th>\n",
              "      <td>[양파]양파(일반)</td>\n",
              "      <td>15.00000</td>\n",
              "      <td>3500</td>\n",
              "      <td>전남 무안군</td>\n",
              "      <td>normal</td>\n",
              "      <td>2022-02-25</td>\n",
              "      <td>8</td>\n",
              "    </tr>\n",
              "    <tr>\n",
              "      <th>690765</th>\n",
              "      <td>[양파]양파(일반)</td>\n",
              "      <td>15.00000</td>\n",
              "      <td>3500</td>\n",
              "      <td>전남 무안군</td>\n",
              "      <td>normal</td>\n",
              "      <td>2022-02-25</td>\n",
              "      <td>8</td>\n",
              "    </tr>\n",
              "    <tr>\n",
              "      <th>690766</th>\n",
              "      <td>[토마토]대저토마토</td>\n",
              "      <td>2.50000</td>\n",
              "      <td>6000</td>\n",
              "      <td>경남 김해시</td>\n",
              "      <td>normal</td>\n",
              "      <td>2022-02-26</td>\n",
              "      <td>8</td>\n",
              "    </tr>\n",
              "    <tr>\n",
              "      <th>690767</th>\n",
              "      <td>[토마토]대저토마토</td>\n",
              "      <td>2.50000</td>\n",
              "      <td>11000</td>\n",
              "      <td>경남 김해시</td>\n",
              "      <td>normal</td>\n",
              "      <td>2022-02-26</td>\n",
              "      <td>8</td>\n",
              "    </tr>\n",
              "  </tbody>\n",
              "</table>\n",
              "<p>690474 rows × 7 columns</p>\n",
              "</div>"
            ],
            "text/plain": [
              "               prd    scale  price  origin     eco   reg_date  new_class\n",
              "0       [대파]대파(일반)  1.00000    900      전남  normal 2022-02-04          1\n",
              "1          [만감]레드향  5.00000  12000      제주  normal 2022-02-04          1\n",
              "2           [무]마대무 20.00000   6500      제주  normal 2022-02-04          1\n",
              "3           [가지]가지  5.00000  14000  경남 밀양시  normal 2022-02-04          1\n",
              "4          [감]부유단감 10.00000  30000   광주 남구  normal 2022-02-04          1\n",
              "...            ...      ...    ...     ...     ...        ...        ...\n",
              "690763    [호박]늙은호박  8.00000   3000  전남 해남군  normal 2022-02-24          8\n",
              "690764  [양파]양파(일반) 15.00000   3500  전남 무안군  normal 2022-02-25          8\n",
              "690765  [양파]양파(일반) 15.00000   3500  전남 무안군  normal 2022-02-25          8\n",
              "690766  [토마토]대저토마토  2.50000   6000  경남 김해시  normal 2022-02-26          8\n",
              "690767  [토마토]대저토마토  2.50000  11000  경남 김해시  normal 2022-02-26          8\n",
              "\n",
              "[690474 rows x 7 columns]"
            ]
          },
          "execution_count": 21,
          "metadata": {},
          "output_type": "execute_result"
        }
      ],
      "source": [
        "df2"
      ]
    },
    {
      "cell_type": "code",
      "execution_count": 22,
      "metadata": {
        "id": "13Js-KtTBZB5"
      },
      "outputs": [],
      "source": [
        "# kg 당 가격 생성\n",
        "\n",
        "df2['price_kg'] = round((df2['price']/df2['scale']),2)"
      ]
    },
    {
      "cell_type": "markdown",
      "metadata": {
        "id": "FJ4jjRUQ8cB3"
      },
      "source": [
        "### prd\n",
        "- 품목명 정리\n",
        "- 품목 종류 정리"
      ]
    },
    {
      "cell_type": "code",
      "execution_count": 23,
      "metadata": {
        "colab": {
          "base_uri": "https://localhost:8080/"
        },
        "id": "pymqNuDt8qqS",
        "outputId": "1506a365-b491-4b16-f40f-4d63980bc22f"
      },
      "outputs": [
        {
          "data": {
            "text/plain": [
              "[딸기]설향              46789\n",
              "[딸기]설향(딸기)          36798\n",
              "[오이]백다다기            17058\n",
              "[깻잎]깻잎              14024\n",
              "[딸기]딸기(설향)          13073\n",
              "                    ...  \n",
              "[마]마                    1\n",
              "[키조개꼭지국산]키조개꼭지국산        1\n",
              "[부추]호부추(서양부추)           1\n",
              "[피망]오렌지파프리카             1\n",
              "[두류]강낭콩                 1\n",
              "Name: prd, Length: 1158, dtype: int64"
            ]
          },
          "execution_count": 23,
          "metadata": {},
          "output_type": "execute_result"
        }
      ],
      "source": [
        "# 대부분 [상품 종류]상품명 으로 정리되어 있는걸 알 수 있음\n",
        "df2['prd'].value_counts()"
      ]
    },
    {
      "cell_type": "code",
      "execution_count": 24,
      "metadata": {
        "id": "EKmhi36getHp"
      },
      "outputs": [],
      "source": [
        "# 정리를 위해 상품명 삭제\n",
        "def prd_sort(words):\n",
        "  p = re.compile('[ㄱ-힣]+')\n",
        "  word = re.search(p,words)\n",
        "  return word.group()\n",
        "\n",
        "df2['prd'] = df2['prd'].apply(prd_sort)"
      ]
    },
    {
      "cell_type": "code",
      "execution_count": 25,
      "metadata": {
        "id": "mlsCXSXMekGg"
      },
      "outputs": [],
      "source": [
        "# 기타 품목 삭제\n",
        "df2 = df2.drop(df2[df2['prd']=='기타'].index)"
      ]
    },
    {
      "cell_type": "code",
      "execution_count": 26,
      "metadata": {
        "id": "fZ8b4ETrDv5n"
      },
      "outputs": [],
      "source": [
        "# 국산,수입산,깐,기타 삭제\n",
        "def prd_sort2(words):\n",
        "  p = re.compile('[^국산수입깐기타]+')\n",
        "  word = re.search(p,str(words))\n",
        "  return word.group()\n",
        "\n",
        "df2[\"prd\"] = df2[\"prd\"].apply(prd_sort2)\n"
      ]
    },
    {
      "cell_type": "code",
      "execution_count": 27,
      "metadata": {
        "colab": {
          "base_uri": "https://localhost:8080/"
        },
        "id": "0UO78EhtVlgj",
        "outputId": "08424baf-f96a-4573-d9fc-c6f751228e63"
      },
      "outputs": [
        {
          "name": "stdout",
          "output_type": "stream",
          "text": [
            "가리비 \n",
            "가물치 가오리 가자미 가지 각굴 갈치 감 감귤 감말랭이 감자 갑오징어 갓 강낭콩 개조개 건고추 \n",
            "건채류 게 게지 겨자 고 고구마 고구마순 고둥 고들빼 고등어 고사리 고추 곤달비 곤드레나물 골뱅이 \n",
            "곶감 과실류 과일 과일류 과채류 굴 귤 근대 근채류 금감 김 깻잎 꼬막 꼴뚜 꽁치 \n",
            "꽃게살 꽈리고추 낙지 냉이 넙치 논우렁이 눈볼대 느 다래 단감 달래 닭새우 당귀 당근 대구 \n",
            "대구머리 대추 대파 더덕 도다리 도라지 돗나물 동자개 동죽 두류 두릅 두리안 딸 땅콩 람부탄 \n",
            "레몬 리치 마 마늘 만가닥 만감 망고 매생이 머위대 메 메론 명태 명태곤니 명태알 명태포 \n",
            "모시조개 모자반 무 무순 무우 무청 문어 문어바지락 미꾸라지 미나리 미더덕 미역 민들레 민물새우 바나나 \n",
            "바지락 박 밤 방울토마토 방풍 방풍나물 배 배추 백새우 백합 뱀장어 버섯 버섯류 버찌 벅굴 \n",
            "벗 보리 복숭아 봄동 봄동배추 봉지굴 부세 부지갱이 부추 붉은고추 붕어 붕장어 브로커리 브로코리 블루베리 \n",
            "비 비트 빈스 빙어 사과 삼치 상추 새꼬막 새송이 새싹 새우 새우살 새조개 샐러리 생강 \n",
            "생고추 석류 세러리 셀러리 소라 속새 숙주나물 시금치 실파 쌈채류 쌈추 쑥 쑥갓 씀바귀 아귀 \n",
            "아로니아 아보카도 아보카드 아스파라가스 아스파라거스 아욱 알 알배 야자 야콘 양배추 양상추 양송이 양채 양채류 \n",
            "양파 얼갈이 얼갈이배추 연근 연어 열무 염고등어 엽경채류 엽채 엽채류 오렌지 오만둥이 오이 오징어 오징어몸통 \n",
            "오징어채 완두콩 용과 우렁쉥이 우뭇가시리 유채 은행 임연 잉어 자라 자몽 장어 재첩 적근대 적새우 \n",
            "적채 전복 절단 절단낙지 준치 쪽파 쭈꾸미 참꼬막 참나물 참다래 참외 참조 채소 청경채 청어 \n",
            "체리 총각무 취나물 치커리 칠게 칼라후라워 칼리플라워 칼리후라워 케일 코라비 코코넛 콜라비 콩 콩나물 키위 \n",
            "키조개 키조개꼭지 키조개날개 토란 토란대 토마토 톳 파 파래김 파세리 파인애플 파프리카 팥 패류 팽이 \n",
            "팽이버섯 포도 포장바지락 표고 표고버섯 풋고추 피망 피뿔고동 피조개 해삼 해파리 향나물 호두 호박 홍고추 \n",
            "홍어 홍합 활복오징어 "
          ]
        }
      ],
      "source": [
        "# 몇몇 품목들 정리가 필요\n",
        "a = sorted(df2['prd'].unique())\n",
        "for i in range(len(a)):\n",
        "  if i%15 != 0:\n",
        "    print(a[i],end=' ')\n",
        "  else:\n",
        "    print(a[i],end=' ')\n",
        "    print()"
      ]
    },
    {
      "cell_type": "code",
      "execution_count": 28,
      "metadata": {
        "id": "M2625eg87yCq"
      },
      "outputs": [],
      "source": [
        "### 예시\n",
        "# df2[(df2['prd']=='유채') & (df2['price']==4500)]['prd'].unique()\n",
        "# df2[df2['prd']=='유채']['prd'].unique()"
      ]
    },
    {
      "cell_type": "code",
      "execution_count": 29,
      "metadata": {
        "colab": {
          "base_uri": "https://localhost:8080/"
        },
        "id": "ExIoekH2gcM_",
        "outputId": "5cad26ac-a57e-42b5-85da-19e3591a3493"
      },
      "outputs": [],
      "source": [
        "### 원래 단어 뭐였는지 검색\n",
        "# org_df[org_df['품목명'].str.contains('\u001d느')]['품목명'].unique()"
      ]
    },
    {
      "cell_type": "code",
      "execution_count": 30,
      "metadata": {
        "colab": {
          "base_uri": "https://localhost:8080/",
          "height": 81
        },
        "id": "2uOc31XjjPFL",
        "outputId": "50529553-d06f-4dc6-8759-a11736220df6"
      },
      "outputs": [],
      "source": [
        "### 현재 이름 검색\n",
        "# df2[df2['prd']=='느']"
      ]
    },
    {
      "cell_type": "code",
      "execution_count": 33,
      "metadata": {
        "id": "gbBBjoDqIjR1"
      },
      "outputs": [],
      "source": [
        "###\n",
        "# JG\n",
        "\n",
        "# 고 -> 고수로 변경\n",
        "df2.loc[df2[\"prd\"]==\"고\",\"prd\"] = \"고수\"\n",
        "# 과실류, 과일류, 과채, 채소 -> 과채류로 통합\n",
        "df2.loc[df2[\"prd\"]==\"과실류\",\"prd\"] = \"과채류\"\n",
        "df2.loc[df2[\"prd\"]==\"과일류\",\"prd\"] = \"과채류\"\n",
        "df2.loc[df2[\"prd\"]==\"과일야채류\",\"prd\"] = \"과채류\"\n",
        "df2.loc[df2[\"prd\"]==\"과일과채류\",\"prd\"] = \"과채류\"\n",
        "df2.loc[df2[\"prd\"]==\"과일\",\"prd\"] = \"과채류\"\n",
        "df2.loc[df2[\"prd\"]==\"과채\",\"prd\"] = \"과채류\"\n",
        "df2.loc[df2[\"prd\"]==\"채소\",\"prd\"] = \"과채류\"\n",
        "# 고들빼 -> 고들빼기로 변경\n",
        "df2.loc[df2[\"prd\"]==\"고들빼\",\"prd\"] = \"고들빼기\"\n",
        "# 꼴뚜 -> 꼴두기로 변경\n",
        "df2.loc[df2[\"prd\"]==\"꼴뚜\",\"prd\"] = \"꼴뚜기\"\n",
        "# 그레이프푸룻 -> 자몽으로 통합\n",
        "df2.loc[df2[\"prd\"]==\"그레이프푸룻\",\"prd\"] = \"자몽\"\n",
        "\n",
        "# 느 -> 느타리버섯으로 통합\n",
        "df2.loc[df2[\"prd\"]==\"느\",\"prd\"] = \"느타리버섯\"\n",
        "\n",
        "# 대구 관련 품목들 정리\n",
        "df2.loc[df2[\"prd\"]==\"대구고니\",\"prd\"] = \"대구\"\n",
        "df2.loc[df2[\"prd\"]==\"대구머리\",\"prd\"] = \"대구\"\n",
        "df2.loc[df2[\"prd\"]==\"대구포\",\"prd\"] = \"대구\"\n",
        "df2.loc[df2[\"prd\"]==\"대구알\",\"prd\"] = \"대구\"\n",
        "# 듀리안 -> 두리안으로 통합\n",
        "df2.loc[df2[\"prd\"]==\"듀리안\",\"prd\"] = \"두리안\"\n",
        "# 딸 -> 딸기로 변경\n",
        "df2.loc[df2[\"prd\"]==\"딸\",\"prd\"] = \"딸기\"\n",
        "\n",
        "# 만가닥 -> 만가닥버섯으로 변경\n",
        "df2.loc[df2[\"prd\"]==\"만가닥\",\"prd\"] = \"만가닥버섯\"\n",
        "# 맛 -> 맛조개로 변경\n",
        "df2.loc[df2[\"prd\"]==\"맛\",\"prd\"] = \"맛조개\"\n",
        "# 망고스턴 -> 망고스틴으로 수정\n",
        "df2.loc[df2[\"prd\"]==\"망고스턴\",\"prd\"] = \"망고스틴\"\n",
        "# 메 -> 메기로 변경\n",
        "df2.loc[df2[\"prd\"]==\"메\",\"prd\"] = \"메기\"\n",
        "# 명태 관련 품목들 정리\n",
        "df2.loc[df2[\"prd\"]==\"명태곤니\",\"prd\"] = \"명태\"\n",
        "df2.loc[df2[\"prd\"]==\"명태알\",\"prd\"] = \"명태\"\n",
        "df2.loc[df2[\"prd\"]==\"명태포\",\"prd\"] = \"명태\"\n",
        "df2.loc[df2[\"prd\"]==\"코다리명태\",\"prd\"] = \"명태\"\n",
        "# 무우 -> 무로 통합\n",
        "df2.loc[df2[\"prd\"]==\"무우\",\"prd\"] = \"무\"\n",
        "\n",
        "# 방풍 -> 방풍나물로 통합\n",
        "df2.loc[df2[\"prd\"]==\"방풍\",\"prd\"] = \"방풍나물\"\n",
        "# 버섯류 -> 버섯으로 변경\n",
        "df2.loc[df2[\"prd\"]==\"버섯\",\"prd\"] = \"버섯\"\n",
        "# 벗,버찌 -> 체리로 통합\n",
        "df2.loc[df2[\"prd\"]==\"벗\",\"prd\"] = \"체리\"\n",
        "df2.loc[df2[\"prd\"]==\"버찌\",\"prd\"] = \"체리\"\n",
        "df2.loc[df2[\"prd\"]==\"벗찌\",\"prd\"] = \"체리\"\n",
        "# 브로커리, 브로코리 -> 브로콜리로 통합\n",
        "df2.loc[df2[\"prd\"]==\"브로커리\",\"prd\"] = \"브로콜리\"\n",
        "df2.loc[df2[\"prd\"]==\"브로코리\",\"prd\"] = \"브로콜리\"\n",
        "\n",
        "# 삼 -> 수삼으로 변경\n",
        "df2.loc[df2[\"prd\"]==\"삼\",\"prd\"] = \"수삼\"\n",
        "# 새우살 -> 새우로 변경\n",
        "df2.loc[df2[\"prd\"]==\"새우살\",\"prd\"] = \"새우\"\n",
        "# 세러리, 셀러리 -> 샐러리로 통합\n",
        "df2.loc[df2[\"prd\"]==\"세러리\",\"prd\"] = \"샐러리\"\n",
        "df2.loc[df2[\"prd\"]==\"셀러리\",\"prd\"] = \"샐러리\"\n",
        "# 생고추 -> 고추로 통합\n",
        "df2.loc[df2[\"prd\"]==\"생고추\",\"prd\"] = \"고추\"\n",
        "\n",
        "# 아보카드 -> 아보카도로 변경\n",
        "df2.loc[df2[\"prd\"]==\"아보카드\",\"prd\"] = \"아보카도\"\n",
        "# 아스파라가스 -> 아스파라거스로 변경\n",
        "df2.loc[df2[\"prd\"]==\"아스파라가스\",\"prd\"] = \"아스파라거스\"\n",
        "# 알 -> 알타리무로 변경\n",
        "df2.loc[df2[\"prd\"]==\"알\",\"prd\"] = \"알타리무\"\n",
        "# 알배 -> 알배기로 변경\n",
        "df2.loc[df2[\"prd\"]==\"알배\",\"prd\"] = \"알배기\"\n",
        "# 양채 -> 양채류로 통합\n",
        "df2.loc[df2[\"prd\"]==\"양채\",\"prd\"] = \"양채류\"\n",
        "# 얼갈이 -> 얼갈이배추로 통합\n",
        "df2.loc[df2[\"prd\"]==\"얼갈이\",\"prd\"] = \"얼갈이배추\"\n",
        "# 엽채류, 엽채 -> 엽경채류로 통합\n",
        "df2.loc[df2[\"prd\"]==\"엽채류\",\"prd\"] = \"엽경채류\"\n",
        "df2.loc[df2[\"prd\"]==\"엽채\",\"prd\"] = \"엽경채류\"\n",
        "# 오징어 관련 품목들 정리\n",
        "df2.loc[df2[\"prd\"]==\"오징어다리\",\"prd\"] = \"오징어\"\n",
        "df2.loc[df2[\"prd\"]==\"오징어원양\",\"prd\"] = \"오징어\"\n",
        "df2.loc[df2[\"prd\"]==\"오징어채\",\"prd\"] = \"오징어\"\n",
        "df2.loc[df2[\"prd\"]==\"활복오징어\",\"prd\"] = \"오징어\"\n",
        "df2.loc[df2[\"prd\"]==\"오징어채원양\",\"prd\"] = \"오징어\"\n",
        "df2.loc[df2[\"prd\"]==\"갑오징어살\",\"prd\"] = \"오징어\"\n",
        "df2.loc[df2[\"prd\"]==\"갑오징어몸통\",\"prd\"] = \"오징어\"\n",
        "# 옥, 풋옥 -> 옥수수로 정리\n",
        "df2.loc[df2[\"prd\"]==\"옥\",\"prd\"] = \"옥수수\"\n",
        "df2.loc[df2[\"prd\"]==\"풋옥\",\"prd\"] = \"옥수수\"\n",
        "# 임연 -> 임연수어로 정리\n",
        "df2.loc[df2[\"prd\"]==\"임연\",\"prd\"] = \"임연수어\"\n",
        "\n",
        "\n",
        "# 절단 -> 절단쭈꾸미 -> 쭈꾸미로 정리\n",
        "df2.loc[df2[\"prd\"]==\"절단\",\"prd\"] = \"쭈꾸미\"\n",
        "# 조개살 -> 조개로 정리\n",
        "df2.loc[df2[\"prd\"]==\"조개살\",\"prd\"] = \"조개\"\n",
        "\n",
        "# 참조 -> 참조기로 정리\n",
        "df2.loc[df2[\"prd\"]==\"참조\",\"prd\"] = \"참조기\"\n",
        "\n",
        "# 칼라후라워,칼리플라워, 칼리후라워 -> 컬리플라워로 통합\n",
        "df2.loc[df2[\"prd\"]==\"칼라후라워\",\"prd\"] = \"컬리플라워\"\n",
        "df2.loc[df2[\"prd\"]==\"칼리플라워\",\"prd\"] = \"컬리플라워\"\n",
        "df2.loc[df2[\"prd\"]==\"칼리후라워\",\"prd\"] = \"컬리플라워\"\n",
        "# 코라비 -> 콜라비로 통합\n",
        "df2.loc[df2[\"prd\"]==\"코라비\",\"prd\"] = \"콜라비\"\n",
        "# 키조개날개 -> 키조개로 통합\n",
        "df2.loc[df2[\"prd\"]==\"키조개날개\",\"prd\"] = \"키조개\"\n",
        "\n",
        "# 팽이 -> 팽이버섯으로 통합\n",
        "df2.loc[df2[\"prd\"]==\"팽이\",\"prd\"] = \"팽이버섯\"\n",
        "# 파세리 -> 파슬리로 변경\n",
        "df2.loc[df2[\"prd\"]==\"파세리\",\"prd\"] = \"파슬리\"\n",
        "# 표고 -> 표고버섯으로 통합\n",
        "df2.loc[df2[\"prd\"]==\"표고\",\"prd\"] = \"표고버섯\"\n",
        "# 포장바지락 -> 바지락으로 변경\n",
        "df2.loc[df2[\"prd\"]==\"포장바지락\",\"prd\"] = \"바지락\"\n",
        "\n",
        "### 일단 여기까지 실행\n",
        "# JY\n",
        "#각굴 -> 굴로 통합\n",
        "df2.loc[df2[\"prd\"]==\"각굴\",\"prd\"] = \"굴\"\n",
        "#가오리채 -> 가오리로 통합\n",
        "df2.loc[df2[\"prd\"]==\"가오리채\",\"prd\"] = \"가오리\"\n",
        "# 게지 -> 키조개로 통합\n",
        "df2.loc[df2[\"prd\"]==\"게지\",\"prd\"] = \"키조개\"\n",
        "#고 -> 고구마로 통합\n",
        "df2.loc[df2[\"prd\"]==\"고\",\"prd\"] = \"고구마\"\n",
        "#꼴뚜 -> 꼴뚜기로 통합\n",
        "df2.loc[df2[\"prd\"]==\"꼴뚜\",\"prd\"] = \"꼴뚜기\"\n",
        "#돗나물 -> 돌나물로 통합\n",
        "df2.loc[df2[\"prd\"]==\"돗나물\",\"prd\"] = \"돌나물\"\n",
        "#레드쉬 -> 레디쉬로 통합\n",
        "df2.loc[df2[\"prd\"]==\"레드쉬\",\"prd\"] = \"레디쉬\"\n",
        "#만가닥 -> 만가닥버섯으로 통합\n",
        "df2.loc[df2[\"prd\"]==\"만가닥\",\"prd\"] = \"만가닥버섯\"\n",
        "#메 -> 메기로 통합\n",
        "df2.loc[df2[\"prd\"]==\"메\",\"prd\"] = \"메기\"\n",
        "#봄동 -> 봄동배추로 통합\n",
        "df2.loc[df2[\"prd\"]==\"봄동\",\"prd\"] = \"봄동배추\"\n",
        "#봉지굴 -> 굴로 통합\n",
        "df2.loc[df2[\"prd\"]==\"봉지굴\",\"prd\"] = \"굴\"\n",
        "#박 -> 수박으로 통합\n",
        "df2.loc[df2[\"prd\"]==\"박\",\"prd\"] = \"수박\"\n",
        "#백조 -> 조기로 통합 \n",
        "df2.loc[df2[\"prd\"]==\"백조\",\"prd\"] = \"조기\"\n",
        "#벅굴 -> 벚굴로 통합\n",
        "df2.loc[df2[\"prd\"]==\"벅굴\",\"prd\"] = \"벚굴\"\n",
        "#비 -> 비타민으로 통합\n",
        "df2.loc[df2[\"prd\"]==\"비\",\"prd\"] = \"비타민\"\n",
        "#빈스 -> 콩으로 통합\n",
        "df2.loc[df2[\"prd\"]==\"빈스\",\"prd\"] = \"콩\"\n",
        "#삐틀이 -> 고둥으로 통합\n",
        "df2.loc[df2[\"prd\"]==\"삐틀이\",\"prd\"] = \"고둥\"\n",
        "#새송이 -> 새송이버섯으로 통합\n",
        "df2.loc[df2[\"prd\"]==\"새송이\",\"prd\"] = \"새송이버섯\"\n",
        "#세트 -> 과채류로 통합\n",
        "df2.loc[df2[\"prd\"]==\"세트\",\"prd\"] = \"과채류\"\n",
        "#알 -> 알로애로 통합\n",
        "df2.loc[df2[\"prd\"]==\"알\",\"prd\"] = \"알로에\"\n",
        "#엄나무 -> 음나무로 통합\n",
        "df2.loc[df2[\"prd\"]==\"엄나무\",\"prd\"] = \"음나무\"\n",
        "#염고등어 -> 고등어로 통합\n",
        "df2.loc[df2[\"prd\"]==\"염고등어\",\"prd\"] = \"고등어\"\n",
        "#오만둥이 -> 미더덕으로 통합\n",
        "df2.loc[df2[\"prd\"]==\"오만둥이\",\"prd\"] = \"미더덕\"\n",
        "#오징어 관련 품목들 정리\n",
        "df2.loc[df2[\"prd\"]==\"선동오징어\",\"prd\"] = \"오징어\"\n",
        "df2.loc[df2[\"prd\"]==\"오징어몸통\",\"prd\"] = \"오징어\"\n",
        "#우렁쉥이 -> 멍게로 통합\n",
        "df2.loc[df2[\"prd\"]==\"우렁쉥이\",\"prd\"] = \"멍게\"\n",
        "#우뭇가시리 -> 우뭇가사리로 통합\n",
        "df2.loc[df2[\"prd\"]==\"우뭇가시리\",\"prd\"] = \"우뭇가사리\"\n",
        "#적채 -> 적양배추로 통합\n",
        "df2.loc[df2[\"prd\"]==\"적채\",\"prd\"] = \"적양배추\"\n",
        "#절단낙지 -> 낙지로 통합\n",
        "df2.loc[df2[\"prd\"]==\"절단낙지\",\"prd\"] = \"낙지\"\n",
        "#조 -> 조개로 통합\n",
        "df2.loc[df2[\"prd\"]==\"조\",\"prd\"] = \"조개\"\n",
        "#청어원양 -> 청어로 통합\n",
        "df2.loc[df2[\"prd\"]==\"청어원양\",\"prd\"] = \"청어\"\n",
        "#키조개꼭지 -> 키조개로 통합\n",
        "df2.loc[df2[\"prd\"]==\"키조개꼭지\",\"prd\"] = \"키조개\"\n",
        "\n",
        "# 꽃게 관련 꽃게로 통합\n",
        "df2.loc[df2[\"prd\"]==\"암꽃게\",\"prd\"] = \"꽃게\"\n",
        "df2.loc[df2[\"prd\"]==\"숫꽃게\",\"prd\"] = \"꽃게\"\n",
        "df2.loc[df2[\"prd\"]==\"꽃게살\",\"prd\"] = \"꽃게\"\n",
        "# 우렁 -> 우렁이로 통합\n",
        "df2.loc[df2[\"prd\"]==\"우렁\",\"prd\"] = \"우렁이\"\n",
        "# 알로애 -> 알로에로 변경\n",
        "df2.loc[df2[\"prd\"]==\"알로애\",\"prd\"] = \"알로에\"\n",
        "# 피마자잎 -> 피마자로 변경\n",
        "df2.loc[df2[\"prd\"]==\"피미자잎\",\"prd\"] = \"피마자\"\n",
        "# 식용허브 -> 허브로 변경\n",
        "df2.loc[df2[\"prd\"]==\"식용허브\",\"prd\"] = \"허브\"\n",
        "# 선인장열매 -> 선인장으로 변경\n",
        "df2.loc[df2[\"prd\"]==\"선인장열매\",\"prd\"] = \"선인장\"\n",
        "# 쌈추 -> 쌈채류로 변경\n",
        "df2.loc[df2[\"prd\"]==\"쌈추\",\"prd\"] = \"쌈채류\"\n",
        "# 덟은감 -> 감으로 변경\n",
        "df2.loc[df2[\"prd\"]==\"덟은감\",\"prd\"] = \"감\"\n",
        "# 피뿔고동 -> 고둥으로 변경\n",
        "df2.loc[df2[\"prd\"]==\"피뿔고동\",\"prd\"] = \"고둥\"\n",
        "# 꼬시래 -> 꼬시래기으로 변경\n",
        "df2.loc[df2[\"prd\"]==\"꼬시래\",\"prd\"] = \"꼬시래기\"\n",
        "# 연어살 -> 연어로 변경\n",
        "df2.loc[df2[\"prd\"]==\"연어살\",\"prd\"] = \"연어\"\n",
        "# 비단멍게 -> 멍게로 변경\n",
        "df2.loc[df2[\"prd\"]==\"비단멍게\",\"prd\"] = \"멍게\"\n",
        "# 물가자미 -> 가자미로 변경\n",
        "df2.loc[df2[\"prd\"]==\"물가자미\",\"prd\"] = \"가자미\"\n",
        "# 물메 -> 메기로 변경\n",
        "df2.loc[df2[\"prd\"]==\"물메\",\"prd\"] = \"메기\"\n",
        "# 붉은메 -> 메기로 변경\n",
        "df2.loc[df2[\"prd\"]==\"붉은메\",\"prd\"] = \"메기\"\n",
        "# 조미제품 삭제\n",
        "df2.drop(df2[df2['prd']=='조미제품'].index,inplace=True)\n",
        "df2.drop(df2[df2['prd']=='어류원양'].index,inplace=True)\n",
        "df2.drop(df2[df2['prd']=='동물'].index,inplace=True)"
      ]
    },
    {
      "cell_type": "code",
      "execution_count": 34,
      "metadata": {},
      "outputs": [
        {
          "data": {
            "text/plain": [
              "array(['준치'], dtype=object)"
            ]
          },
          "execution_count": 34,
          "metadata": {},
          "output_type": "execute_result"
        }
      ],
      "source": [
        "# 기존 products 리스트와 비교\n",
        "ex_prd = pd.read_csv(\"../products.csv\")\n",
        "df2[~df2['prd'].isin(ex_prd['prd'])]['prd'].unique()"
      ]
    },
    {
      "cell_type": "code",
      "execution_count": 35,
      "metadata": {},
      "outputs": [
        {
          "name": "stderr",
          "output_type": "stream",
          "text": [
            "/var/folders/nq/s4zx76p53d11lnr0t1dxpxh00000gn/T/ipykernel_3570/2619460125.py:4: FutureWarning: The frame.append method is deprecated and will be removed from pandas in a future version. Use pandas.concat instead.\n",
            "  products = ex_prd.append(new_prd,ignore_index=True)\n"
          ]
        }
      ],
      "source": [
        "# 물품 리스트 최신화\n",
        "new_prd = pd.DataFrame(df2['prd'].unique(),columns=['prd'])\n",
        "# products = ex_prd.append(new_prd[~new_prd['prd'].isin(ex_prd['prd'])],ignore_index=True)\n",
        "products = ex_prd.append(new_prd,ignore_index=True)"
      ]
    },
    {
      "cell_type": "code",
      "execution_count": 36,
      "metadata": {},
      "outputs": [],
      "source": [
        "products.drop(columns=['Unnamed: 0'],inplace=True)\n",
        "products.drop_duplicates(inplace=True)\n",
        "products.reset_index(inplace=True,drop=True)"
      ]
    },
    {
      "cell_type": "code",
      "execution_count": 37,
      "metadata": {},
      "outputs": [],
      "source": [
        "# 다음 작업을 위해 저장\n",
        "products.to_csv('../products.csv')"
      ]
    },
    {
      "cell_type": "code",
      "execution_count": 38,
      "metadata": {
        "colab": {
          "base_uri": "https://localhost:8080/",
          "height": 300
        },
        "id": "CxbMB3I59tCZ",
        "outputId": "d29f9bba-e828-4319-9402-7dc24ba1778b"
      },
      "outputs": [
        {
          "data": {
            "text/html": [
              "<div>\n",
              "<style scoped>\n",
              "    .dataframe tbody tr th:only-of-type {\n",
              "        vertical-align: middle;\n",
              "    }\n",
              "\n",
              "    .dataframe tbody tr th {\n",
              "        vertical-align: top;\n",
              "    }\n",
              "\n",
              "    .dataframe thead th {\n",
              "        text-align: right;\n",
              "    }\n",
              "</style>\n",
              "<table border=\"1\" class=\"dataframe\">\n",
              "  <thead>\n",
              "    <tr style=\"text-align: right;\">\n",
              "      <th></th>\n",
              "      <th>prd</th>\n",
              "    </tr>\n",
              "  </thead>\n",
              "  <tbody>\n",
              "    <tr>\n",
              "      <th>count</th>\n",
              "      <td>229.00000</td>\n",
              "    </tr>\n",
              "    <tr>\n",
              "      <th>mean</th>\n",
              "      <td>3015.00437</td>\n",
              "    </tr>\n",
              "    <tr>\n",
              "      <th>std</th>\n",
              "      <td>11207.86402</td>\n",
              "    </tr>\n",
              "    <tr>\n",
              "      <th>min</th>\n",
              "      <td>1.00000</td>\n",
              "    </tr>\n",
              "    <tr>\n",
              "      <th>25%</th>\n",
              "      <td>8.00000</td>\n",
              "    </tr>\n",
              "    <tr>\n",
              "      <th>50%</th>\n",
              "      <td>147.00000</td>\n",
              "    </tr>\n",
              "    <tr>\n",
              "      <th>75%</th>\n",
              "      <td>1372.00000</td>\n",
              "    </tr>\n",
              "    <tr>\n",
              "      <th>max</th>\n",
              "      <td>138668.00000</td>\n",
              "    </tr>\n",
              "  </tbody>\n",
              "</table>\n",
              "</div>"
            ],
            "text/plain": [
              "               prd\n",
              "count    229.00000\n",
              "mean    3015.00437\n",
              "std    11207.86402\n",
              "min        1.00000\n",
              "25%        8.00000\n",
              "50%      147.00000\n",
              "75%     1372.00000\n",
              "max   138668.00000"
            ]
          },
          "execution_count": 38,
          "metadata": {},
          "output_type": "execute_result"
        }
      ],
      "source": [
        "# 전체 거래량과 품목량\n",
        "# 비교를 위해 분포 파악\n",
        "# 거래량이 너무 적은 품목은 삭제할 필요성이 있음\n",
        "\n",
        "prd_lst = (df2['prd'].value_counts()).to_frame()\n",
        "prd_lst.describe()"
      ]
    },
    {
      "cell_type": "code",
      "execution_count": 39,
      "metadata": {
        "id": "_qhAf86UEoSv"
      },
      "outputs": [],
      "source": [
        "# 50개 미만 품목은 비교가 힘드므로 삭제\n",
        "# 줄어든 종류만 남기기\n",
        "\n",
        "prd_lst = prd_lst[prd_lst['prd']>=50]\n",
        "prd_lst.reset_index(inplace=True)\n",
        "prd_lst = prd_lst.rename(columns = {'index':'prd','prd':'count'})"
      ]
    },
    {
      "cell_type": "code",
      "execution_count": 40,
      "metadata": {
        "colab": {
          "base_uri": "https://localhost:8080/"
        },
        "id": "WZfTHQDe-jTG",
        "outputId": "7e713769-2413-4b10-db9d-348498e24708"
      },
      "outputs": [
        {
          "data": {
            "text/plain": [
              "딸기        138668\n",
              "버섯         56794\n",
              "토마토        42232\n",
              "오이         32896\n",
              "깻잎         28072\n",
              "           ...  \n",
              "참나물           68\n",
              "김             67\n",
              "아스파라거스        67\n",
              "뱀장어           57\n",
              "완두콩           57\n",
              "Name: prd, Length: 128, dtype: int64"
            ]
          },
          "execution_count": 40,
          "metadata": {},
          "output_type": "execute_result"
        }
      ],
      "source": [
        "df3 = df2.merge(prd_lst)\n",
        "df3[df3['count']>=50]['prd'].value_counts()"
      ]
    },
    {
      "cell_type": "code",
      "execution_count": 41,
      "metadata": {
        "id": "OnwYlUyTEJdF"
      },
      "outputs": [],
      "source": [
        "# 줄어든 것 확인했으므로 count column은 삭제\n",
        "df3 = df3.drop(columns='count')"
      ]
    },
    {
      "cell_type": "markdown",
      "metadata": {
        "id": "jPcICeSResYh"
      },
      "source": [
        "### scale"
      ]
    },
    {
      "cell_type": "code",
      "execution_count": 42,
      "metadata": {
        "colab": {
          "base_uri": "https://localhost:8080/"
        },
        "id": "4KZLpXuYYTZx",
        "outputId": "f59c1146-fdb9-4483-81a3-a0f51dd08904"
      },
      "outputs": [
        {
          "data": {
            "text/plain": [
              "array([  1.  ,  10.  ,   0.5 ,   5.  ,   3.  ,   4.5 ,   9.  ,   2.  ,\n",
              "         8.  ,   6.3 ,  12.6 ,  20.  ,   4.  ,   0.8 ,  15.  ,   1.3 ,\n",
              "        16.  ,   0.9 ,   6.  ,   0.6 ,   5.01,  14.  ,  13.  ,   0.3 ,\n",
              "        12.  ,  16.2 ,   7.5 ,  14.4 ,  10.8 ,  28.  ,  11.7 ,   4.4 ,\n",
              "        17.  ,   3.7 ,   4.3 ,   2.5 ,   2.7 ,   2.6 ,   1.5 ,   0.7 ,\n",
              "         2.01,   1.01,   1.2 ,   7.  ,   0.33,   0.25,  22.  ,   0.08,\n",
              "         1.4 ,   0.75,  32.  ,   3.5 ,   2.45,   3.6 ,   3.8 ,   3.3 ,\n",
              "        12.5 ,  11.  ,   3.2 ,   4.7 ,   8.5 ,   5.5 ,   0.65,  10.01,\n",
              "         9.6 ,  11.2 ,   4.2 ,   0.2 ,   0.15,   0.05,   0.1 ,  10.5 ,\n",
              "       134.  ,   1.6 ,   0.55,   8.4 ,  25.  ,   6.5 ,   9.5 ,   0.4 ,\n",
              "        18.  ,  17.23,  11.5 ,   5.4 ,   1.8 ,   8.2 ,   7.3 ,   8.6 ,\n",
              "         7.8 ,  21.  ,  19.  ,  13.5 ,   5.2 , 113.  , 131.  ,  60.  ,\n",
              "         4.8 ,  12.4 ,  30.  ,  45.  ,  52.  ,   9.4 ,  56.  ,  27.  ,\n",
              "        11.4 ,  13.4 ,   0.16,   8.01,   0.17,   0.12,  23.  ,   0.03,\n",
              "        24.  ,   3.75,  12.7 ,   9.8 ,  10.7 ,   0.38,   0.  ,   8.7 ,\n",
              "         5.3 ,   8.8 ,   5.1 ,   3.4 ,   4.6 ,   8.1 ,   6.7 ,  87.  ,\n",
              "        88.  ,  80.  ,   2.8 ,   2.4 ,   3.1 ,   2.2 ,   8.3 ,   7.4 ,\n",
              "         6.6 ,   3.9 ,   2.3 ,   2.9 ,   4.9 ,   7.2 ,   4.1 ,   7.7 ,\n",
              "         5.6 ,   0.07,  18.9 ,  20.7 ,  17.1 ,  22.5 ,  29.7 ,   5.8 ,\n",
              "        47.  ,  21.5 ,   1.7 ,   2.1 ,   1.9 ,   1.1 ,   9.2 ])"
            ]
          },
          "execution_count": 42,
          "metadata": {},
          "output_type": "execute_result"
        }
      ],
      "source": [
        "np.set_printoptions(precision=2, suppress=True)\n",
        "df3['scale'].unique()"
      ]
    },
    {
      "cell_type": "code",
      "execution_count": 43,
      "metadata": {},
      "outputs": [
        {
          "data": {
            "text/html": [
              "<div>\n",
              "<style scoped>\n",
              "    .dataframe tbody tr th:only-of-type {\n",
              "        vertical-align: middle;\n",
              "    }\n",
              "\n",
              "    .dataframe tbody tr th {\n",
              "        vertical-align: top;\n",
              "    }\n",
              "\n",
              "    .dataframe thead th {\n",
              "        text-align: right;\n",
              "    }\n",
              "</style>\n",
              "<table border=\"1\" class=\"dataframe\">\n",
              "  <thead>\n",
              "    <tr style=\"text-align: right;\">\n",
              "      <th></th>\n",
              "      <th>prd</th>\n",
              "      <th>scale</th>\n",
              "      <th>price</th>\n",
              "      <th>origin</th>\n",
              "      <th>eco</th>\n",
              "      <th>reg_date</th>\n",
              "      <th>new_class</th>\n",
              "      <th>price_kg</th>\n",
              "    </tr>\n",
              "  </thead>\n",
              "  <tbody>\n",
              "    <tr>\n",
              "      <th>254335</th>\n",
              "      <td>양채류</td>\n",
              "      <td>134.00000</td>\n",
              "      <td>14000</td>\n",
              "      <td>제주 제주시</td>\n",
              "      <td>normal</td>\n",
              "      <td>2022-02-10</td>\n",
              "      <td>1</td>\n",
              "      <td>104.48000</td>\n",
              "    </tr>\n",
              "    <tr>\n",
              "      <th>254336</th>\n",
              "      <td>양채류</td>\n",
              "      <td>134.00000</td>\n",
              "      <td>8500</td>\n",
              "      <td>제주 제주시</td>\n",
              "      <td>normal</td>\n",
              "      <td>2022-02-10</td>\n",
              "      <td>1</td>\n",
              "      <td>63.43000</td>\n",
              "    </tr>\n",
              "    <tr>\n",
              "      <th>254337</th>\n",
              "      <td>양채류</td>\n",
              "      <td>134.00000</td>\n",
              "      <td>14000</td>\n",
              "      <td>제주 제주시</td>\n",
              "      <td>normal</td>\n",
              "      <td>2022-02-10</td>\n",
              "      <td>1</td>\n",
              "      <td>104.48000</td>\n",
              "    </tr>\n",
              "    <tr>\n",
              "      <th>254339</th>\n",
              "      <td>양채류</td>\n",
              "      <td>134.00000</td>\n",
              "      <td>14000</td>\n",
              "      <td>제주 제주시</td>\n",
              "      <td>normal</td>\n",
              "      <td>2022-02-10</td>\n",
              "      <td>1</td>\n",
              "      <td>104.48000</td>\n",
              "    </tr>\n",
              "    <tr>\n",
              "      <th>328924</th>\n",
              "      <td>바나나</td>\n",
              "      <td>113.00000</td>\n",
              "      <td>28000</td>\n",
              "      <td>필리핀</td>\n",
              "      <td>normal</td>\n",
              "      <td>2022-02-15</td>\n",
              "      <td>1</td>\n",
              "      <td>247.79000</td>\n",
              "    </tr>\n",
              "    <tr>\n",
              "      <th>330689</th>\n",
              "      <td>바나나</td>\n",
              "      <td>131.00000</td>\n",
              "      <td>23000</td>\n",
              "      <td>콜롬비아</td>\n",
              "      <td>normal</td>\n",
              "      <td>2022-02-22</td>\n",
              "      <td>1</td>\n",
              "      <td>175.57000</td>\n",
              "    </tr>\n",
              "    <tr>\n",
              "      <th>331754</th>\n",
              "      <td>바나나</td>\n",
              "      <td>60.00000</td>\n",
              "      <td>26000</td>\n",
              "      <td>필리핀</td>\n",
              "      <td>normal</td>\n",
              "      <td>2022-02-26</td>\n",
              "      <td>1</td>\n",
              "      <td>433.33000</td>\n",
              "    </tr>\n",
              "    <tr>\n",
              "      <th>348207</th>\n",
              "      <td>피망</td>\n",
              "      <td>52.00000</td>\n",
              "      <td>296400</td>\n",
              "      <td>경남 진주시</td>\n",
              "      <td>certified</td>\n",
              "      <td>2022-02-15</td>\n",
              "      <td>2</td>\n",
              "      <td>5700.00000</td>\n",
              "    </tr>\n",
              "    <tr>\n",
              "      <th>348643</th>\n",
              "      <td>피망</td>\n",
              "      <td>56.00000</td>\n",
              "      <td>319200</td>\n",
              "      <td>경남 진주시</td>\n",
              "      <td>certified</td>\n",
              "      <td>2022-02-21</td>\n",
              "      <td>2</td>\n",
              "      <td>5700.00000</td>\n",
              "    </tr>\n",
              "    <tr>\n",
              "      <th>494061</th>\n",
              "      <td>브로콜리</td>\n",
              "      <td>87.00000</td>\n",
              "      <td>19000</td>\n",
              "      <td>제주도 제주시</td>\n",
              "      <td>normal</td>\n",
              "      <td>2022-02-04</td>\n",
              "      <td>1</td>\n",
              "      <td>218.39000</td>\n",
              "    </tr>\n",
              "    <tr>\n",
              "      <th>494062</th>\n",
              "      <td>브로콜리</td>\n",
              "      <td>87.00000</td>\n",
              "      <td>13500</td>\n",
              "      <td>제주도 제주시</td>\n",
              "      <td>normal</td>\n",
              "      <td>2022-02-04</td>\n",
              "      <td>1</td>\n",
              "      <td>155.17000</td>\n",
              "    </tr>\n",
              "    <tr>\n",
              "      <th>495416</th>\n",
              "      <td>브로콜리</td>\n",
              "      <td>88.00000</td>\n",
              "      <td>12000</td>\n",
              "      <td>제주도 제주시</td>\n",
              "      <td>normal</td>\n",
              "      <td>2022-02-09</td>\n",
              "      <td>1</td>\n",
              "      <td>136.36000</td>\n",
              "    </tr>\n",
              "    <tr>\n",
              "      <th>495417</th>\n",
              "      <td>브로콜리</td>\n",
              "      <td>88.00000</td>\n",
              "      <td>23000</td>\n",
              "      <td>제주도 제주시</td>\n",
              "      <td>normal</td>\n",
              "      <td>2022-02-09</td>\n",
              "      <td>1</td>\n",
              "      <td>261.36000</td>\n",
              "    </tr>\n",
              "    <tr>\n",
              "      <th>495418</th>\n",
              "      <td>브로콜리</td>\n",
              "      <td>88.00000</td>\n",
              "      <td>13500</td>\n",
              "      <td>제주도 제주시</td>\n",
              "      <td>normal</td>\n",
              "      <td>2022-02-09</td>\n",
              "      <td>1</td>\n",
              "      <td>153.41000</td>\n",
              "    </tr>\n",
              "    <tr>\n",
              "      <th>497573</th>\n",
              "      <td>브로콜리</td>\n",
              "      <td>80.00000</td>\n",
              "      <td>15500</td>\n",
              "      <td>제주도 제주시</td>\n",
              "      <td>normal</td>\n",
              "      <td>2022-02-17</td>\n",
              "      <td>1</td>\n",
              "      <td>193.75000</td>\n",
              "    </tr>\n",
              "  </tbody>\n",
              "</table>\n",
              "</div>"
            ],
            "text/plain": [
              "         prd     scale   price   origin        eco   reg_date  new_class  \\\n",
              "254335   양채류 134.00000   14000   제주 제주시     normal 2022-02-10          1   \n",
              "254336   양채류 134.00000    8500   제주 제주시     normal 2022-02-10          1   \n",
              "254337   양채류 134.00000   14000   제주 제주시     normal 2022-02-10          1   \n",
              "254339   양채류 134.00000   14000   제주 제주시     normal 2022-02-10          1   \n",
              "328924   바나나 113.00000   28000      필리핀     normal 2022-02-15          1   \n",
              "330689   바나나 131.00000   23000     콜롬비아     normal 2022-02-22          1   \n",
              "331754   바나나  60.00000   26000      필리핀     normal 2022-02-26          1   \n",
              "348207    피망  52.00000  296400   경남 진주시  certified 2022-02-15          2   \n",
              "348643    피망  56.00000  319200   경남 진주시  certified 2022-02-21          2   \n",
              "494061  브로콜리  87.00000   19000  제주도 제주시     normal 2022-02-04          1   \n",
              "494062  브로콜리  87.00000   13500  제주도 제주시     normal 2022-02-04          1   \n",
              "495416  브로콜리  88.00000   12000  제주도 제주시     normal 2022-02-09          1   \n",
              "495417  브로콜리  88.00000   23000  제주도 제주시     normal 2022-02-09          1   \n",
              "495418  브로콜리  88.00000   13500  제주도 제주시     normal 2022-02-09          1   \n",
              "497573  브로콜리  80.00000   15500  제주도 제주시     normal 2022-02-17          1   \n",
              "\n",
              "         price_kg  \n",
              "254335  104.48000  \n",
              "254336   63.43000  \n",
              "254337  104.48000  \n",
              "254339  104.48000  \n",
              "328924  247.79000  \n",
              "330689  175.57000  \n",
              "331754  433.33000  \n",
              "348207 5700.00000  \n",
              "348643 5700.00000  \n",
              "494061  218.39000  \n",
              "494062  155.17000  \n",
              "495416  136.36000  \n",
              "495417  261.36000  \n",
              "495418  153.41000  \n",
              "497573  193.75000  "
            ]
          },
          "execution_count": 43,
          "metadata": {},
          "output_type": "execute_result"
        }
      ],
      "source": [
        "df3[df3['scale']>=50]"
      ]
    },
    {
      "cell_type": "code",
      "execution_count": 44,
      "metadata": {
        "colab": {
          "base_uri": "https://localhost:8080/",
          "height": 1000
        },
        "id": "-43K_jyN92IZ",
        "outputId": "7b3e92a5-a0eb-4b09-bc6c-36948c74b860"
      },
      "outputs": [
        {
          "data": {
            "text/plain": [
              "array(['양채류', '바나나', '피망', '브로콜리'], dtype=object)"
            ]
          },
          "execution_count": 44,
          "metadata": {},
          "output_type": "execute_result"
        }
      ],
      "source": [
        "# 50kg 이상 거래된 건들 이상치라 판단하고 확인 진행\n",
        "df3[df3['scale']>=50]['prd'].unique()"
      ]
    },
    {
      "cell_type": "code",
      "execution_count": 53,
      "metadata": {},
      "outputs": [
        {
          "data": {
            "text/html": [
              "<div>\n",
              "<style scoped>\n",
              "    .dataframe tbody tr th:only-of-type {\n",
              "        vertical-align: middle;\n",
              "    }\n",
              "\n",
              "    .dataframe tbody tr th {\n",
              "        vertical-align: top;\n",
              "    }\n",
              "\n",
              "    .dataframe thead th {\n",
              "        text-align: right;\n",
              "    }\n",
              "</style>\n",
              "<table border=\"1\" class=\"dataframe\">\n",
              "  <thead>\n",
              "    <tr style=\"text-align: right;\">\n",
              "      <th></th>\n",
              "      <th>prd</th>\n",
              "      <th>scale</th>\n",
              "      <th>price</th>\n",
              "      <th>origin</th>\n",
              "      <th>eco</th>\n",
              "      <th>reg_date</th>\n",
              "      <th>new_class</th>\n",
              "      <th>price_kg</th>\n",
              "    </tr>\n",
              "  </thead>\n",
              "  <tbody>\n",
              "    <tr>\n",
              "      <th>494061</th>\n",
              "      <td>브로콜리</td>\n",
              "      <td>87.00000</td>\n",
              "      <td>19000</td>\n",
              "      <td>제주도 제주시</td>\n",
              "      <td>normal</td>\n",
              "      <td>2022-02-04</td>\n",
              "      <td>1</td>\n",
              "      <td>218.39000</td>\n",
              "    </tr>\n",
              "    <tr>\n",
              "      <th>494062</th>\n",
              "      <td>브로콜리</td>\n",
              "      <td>87.00000</td>\n",
              "      <td>13500</td>\n",
              "      <td>제주도 제주시</td>\n",
              "      <td>normal</td>\n",
              "      <td>2022-02-04</td>\n",
              "      <td>1</td>\n",
              "      <td>155.17000</td>\n",
              "    </tr>\n",
              "    <tr>\n",
              "      <th>494834</th>\n",
              "      <td>브로콜리</td>\n",
              "      <td>15.00000</td>\n",
              "      <td>14500</td>\n",
              "      <td>제주 제주시</td>\n",
              "      <td>normal</td>\n",
              "      <td>2022-02-07</td>\n",
              "      <td>1</td>\n",
              "      <td>966.67000</td>\n",
              "    </tr>\n",
              "    <tr>\n",
              "      <th>495036</th>\n",
              "      <td>브로콜리</td>\n",
              "      <td>10.00000</td>\n",
              "      <td>34000</td>\n",
              "      <td>강원</td>\n",
              "      <td>certified</td>\n",
              "      <td>2022-02-08</td>\n",
              "      <td>1</td>\n",
              "      <td>3400.00000</td>\n",
              "    </tr>\n",
              "    <tr>\n",
              "      <th>495416</th>\n",
              "      <td>브로콜리</td>\n",
              "      <td>88.00000</td>\n",
              "      <td>12000</td>\n",
              "      <td>제주도 제주시</td>\n",
              "      <td>normal</td>\n",
              "      <td>2022-02-09</td>\n",
              "      <td>1</td>\n",
              "      <td>136.36000</td>\n",
              "    </tr>\n",
              "    <tr>\n",
              "      <th>495417</th>\n",
              "      <td>브로콜리</td>\n",
              "      <td>88.00000</td>\n",
              "      <td>23000</td>\n",
              "      <td>제주도 제주시</td>\n",
              "      <td>normal</td>\n",
              "      <td>2022-02-09</td>\n",
              "      <td>1</td>\n",
              "      <td>261.36000</td>\n",
              "    </tr>\n",
              "    <tr>\n",
              "      <th>495418</th>\n",
              "      <td>브로콜리</td>\n",
              "      <td>88.00000</td>\n",
              "      <td>13500</td>\n",
              "      <td>제주도 제주시</td>\n",
              "      <td>normal</td>\n",
              "      <td>2022-02-09</td>\n",
              "      <td>1</td>\n",
              "      <td>153.41000</td>\n",
              "    </tr>\n",
              "    <tr>\n",
              "      <th>495606</th>\n",
              "      <td>브로콜리</td>\n",
              "      <td>16.00000</td>\n",
              "      <td>22500</td>\n",
              "      <td>제주 제주시</td>\n",
              "      <td>normal</td>\n",
              "      <td>2022-02-10</td>\n",
              "      <td>1</td>\n",
              "      <td>1406.25000</td>\n",
              "    </tr>\n",
              "    <tr>\n",
              "      <th>495623</th>\n",
              "      <td>브로콜리</td>\n",
              "      <td>16.00000</td>\n",
              "      <td>21500</td>\n",
              "      <td>제주 제주시</td>\n",
              "      <td>normal</td>\n",
              "      <td>2022-02-10</td>\n",
              "      <td>1</td>\n",
              "      <td>1343.75000</td>\n",
              "    </tr>\n",
              "    <tr>\n",
              "      <th>495673</th>\n",
              "      <td>브로콜리</td>\n",
              "      <td>16.00000</td>\n",
              "      <td>22500</td>\n",
              "      <td>제주 제주시</td>\n",
              "      <td>normal</td>\n",
              "      <td>2022-02-10</td>\n",
              "      <td>1</td>\n",
              "      <td>1406.25000</td>\n",
              "    </tr>\n",
              "    <tr>\n",
              "      <th>495677</th>\n",
              "      <td>브로콜리</td>\n",
              "      <td>16.00000</td>\n",
              "      <td>22500</td>\n",
              "      <td>제주 제주시</td>\n",
              "      <td>normal</td>\n",
              "      <td>2022-02-10</td>\n",
              "      <td>1</td>\n",
              "      <td>1406.25000</td>\n",
              "    </tr>\n",
              "    <tr>\n",
              "      <th>497573</th>\n",
              "      <td>브로콜리</td>\n",
              "      <td>80.00000</td>\n",
              "      <td>15500</td>\n",
              "      <td>제주도 제주시</td>\n",
              "      <td>normal</td>\n",
              "      <td>2022-02-17</td>\n",
              "      <td>1</td>\n",
              "      <td>193.75000</td>\n",
              "    </tr>\n",
              "    <tr>\n",
              "      <th>498290</th>\n",
              "      <td>브로콜리</td>\n",
              "      <td>15.00000</td>\n",
              "      <td>17500</td>\n",
              "      <td>제주 제주시</td>\n",
              "      <td>normal</td>\n",
              "      <td>2022-02-21</td>\n",
              "      <td>1</td>\n",
              "      <td>1166.67000</td>\n",
              "    </tr>\n",
              "    <tr>\n",
              "      <th>499284</th>\n",
              "      <td>브로콜리</td>\n",
              "      <td>10.00000</td>\n",
              "      <td>36000</td>\n",
              "      <td>강원</td>\n",
              "      <td>certified</td>\n",
              "      <td>2022-02-24</td>\n",
              "      <td>1</td>\n",
              "      <td>3600.00000</td>\n",
              "    </tr>\n",
              "    <tr>\n",
              "      <th>499328</th>\n",
              "      <td>브로콜리</td>\n",
              "      <td>16.00000</td>\n",
              "      <td>20000</td>\n",
              "      <td>제주 제주시</td>\n",
              "      <td>normal</td>\n",
              "      <td>2022-02-24</td>\n",
              "      <td>1</td>\n",
              "      <td>1250.00000</td>\n",
              "    </tr>\n",
              "    <tr>\n",
              "      <th>499603</th>\n",
              "      <td>브로콜리</td>\n",
              "      <td>10.00000</td>\n",
              "      <td>21500</td>\n",
              "      <td>제주 제주시</td>\n",
              "      <td>normal</td>\n",
              "      <td>2022-02-25</td>\n",
              "      <td>1</td>\n",
              "      <td>2150.00000</td>\n",
              "    </tr>\n",
              "    <tr>\n",
              "      <th>499624</th>\n",
              "      <td>브로콜리</td>\n",
              "      <td>16.00000</td>\n",
              "      <td>22000</td>\n",
              "      <td>제주 제주시</td>\n",
              "      <td>normal</td>\n",
              "      <td>2022-02-25</td>\n",
              "      <td>1</td>\n",
              "      <td>1375.00000</td>\n",
              "    </tr>\n",
              "    <tr>\n",
              "      <th>499637</th>\n",
              "      <td>브로콜리</td>\n",
              "      <td>10.00000</td>\n",
              "      <td>15500</td>\n",
              "      <td>제주 제주시</td>\n",
              "      <td>normal</td>\n",
              "      <td>2022-02-25</td>\n",
              "      <td>1</td>\n",
              "      <td>1550.00000</td>\n",
              "    </tr>\n",
              "    <tr>\n",
              "      <th>499639</th>\n",
              "      <td>브로콜리</td>\n",
              "      <td>16.00000</td>\n",
              "      <td>22500</td>\n",
              "      <td>제주 제주시</td>\n",
              "      <td>normal</td>\n",
              "      <td>2022-02-25</td>\n",
              "      <td>1</td>\n",
              "      <td>1406.25000</td>\n",
              "    </tr>\n",
              "  </tbody>\n",
              "</table>\n",
              "</div>"
            ],
            "text/plain": [
              "         prd    scale  price   origin        eco   reg_date  new_class  \\\n",
              "494061  브로콜리 87.00000  19000  제주도 제주시     normal 2022-02-04          1   \n",
              "494062  브로콜리 87.00000  13500  제주도 제주시     normal 2022-02-04          1   \n",
              "494834  브로콜리 15.00000  14500   제주 제주시     normal 2022-02-07          1   \n",
              "495036  브로콜리 10.00000  34000       강원  certified 2022-02-08          1   \n",
              "495416  브로콜리 88.00000  12000  제주도 제주시     normal 2022-02-09          1   \n",
              "495417  브로콜리 88.00000  23000  제주도 제주시     normal 2022-02-09          1   \n",
              "495418  브로콜리 88.00000  13500  제주도 제주시     normal 2022-02-09          1   \n",
              "495606  브로콜리 16.00000  22500   제주 제주시     normal 2022-02-10          1   \n",
              "495623  브로콜리 16.00000  21500   제주 제주시     normal 2022-02-10          1   \n",
              "495673  브로콜리 16.00000  22500   제주 제주시     normal 2022-02-10          1   \n",
              "495677  브로콜리 16.00000  22500   제주 제주시     normal 2022-02-10          1   \n",
              "497573  브로콜리 80.00000  15500  제주도 제주시     normal 2022-02-17          1   \n",
              "498290  브로콜리 15.00000  17500   제주 제주시     normal 2022-02-21          1   \n",
              "499284  브로콜리 10.00000  36000       강원  certified 2022-02-24          1   \n",
              "499328  브로콜리 16.00000  20000   제주 제주시     normal 2022-02-24          1   \n",
              "499603  브로콜리 10.00000  21500   제주 제주시     normal 2022-02-25          1   \n",
              "499624  브로콜리 16.00000  22000   제주 제주시     normal 2022-02-25          1   \n",
              "499637  브로콜리 10.00000  15500   제주 제주시     normal 2022-02-25          1   \n",
              "499639  브로콜리 16.00000  22500   제주 제주시     normal 2022-02-25          1   \n",
              "\n",
              "         price_kg  \n",
              "494061  218.39000  \n",
              "494062  155.17000  \n",
              "494834  966.67000  \n",
              "495036 3400.00000  \n",
              "495416  136.36000  \n",
              "495417  261.36000  \n",
              "495418  153.41000  \n",
              "495606 1406.25000  \n",
              "495623 1343.75000  \n",
              "495673 1406.25000  \n",
              "495677 1406.25000  \n",
              "497573  193.75000  \n",
              "498290 1166.67000  \n",
              "499284 3600.00000  \n",
              "499328 1250.00000  \n",
              "499603 2150.00000  \n",
              "499624 1375.00000  \n",
              "499637 1550.00000  \n",
              "499639 1406.25000  "
            ]
          },
          "execution_count": 53,
          "metadata": {},
          "output_type": "execute_result"
        }
      ],
      "source": [
        "df3[(df3['prd']=='브로콜리')&(df3['scale']>=10)]"
      ]
    },
    {
      "cell_type": "code",
      "execution_count": 54,
      "metadata": {
        "id": "v1EZDKB59dJp"
      },
      "outputs": [],
      "source": [
        "# 스케일 오표기된 항목 수정\n",
        "# 피망은 정상 거래\n",
        "# 이상치 항목 삭제\n",
        "df3 = df3.drop(df3[(df3['scale']>=50)&(df3['prd']!='피망')].index)"
      ]
    },
    {
      "cell_type": "code",
      "execution_count": 55,
      "metadata": {},
      "outputs": [
        {
          "data": {
            "text/html": [
              "<div>\n",
              "<style scoped>\n",
              "    .dataframe tbody tr th:only-of-type {\n",
              "        vertical-align: middle;\n",
              "    }\n",
              "\n",
              "    .dataframe tbody tr th {\n",
              "        vertical-align: top;\n",
              "    }\n",
              "\n",
              "    .dataframe thead th {\n",
              "        text-align: right;\n",
              "    }\n",
              "</style>\n",
              "<table border=\"1\" class=\"dataframe\">\n",
              "  <thead>\n",
              "    <tr style=\"text-align: right;\">\n",
              "      <th></th>\n",
              "      <th>prd</th>\n",
              "      <th>scale</th>\n",
              "      <th>price</th>\n",
              "      <th>origin</th>\n",
              "      <th>eco</th>\n",
              "      <th>reg_date</th>\n",
              "      <th>new_class</th>\n",
              "      <th>price_kg</th>\n",
              "    </tr>\n",
              "  </thead>\n",
              "  <tbody>\n",
              "    <tr>\n",
              "      <th>348207</th>\n",
              "      <td>피망</td>\n",
              "      <td>52.00000</td>\n",
              "      <td>296400</td>\n",
              "      <td>경남 진주시</td>\n",
              "      <td>certified</td>\n",
              "      <td>2022-02-15</td>\n",
              "      <td>2</td>\n",
              "      <td>5700.00000</td>\n",
              "    </tr>\n",
              "    <tr>\n",
              "      <th>348643</th>\n",
              "      <td>피망</td>\n",
              "      <td>56.00000</td>\n",
              "      <td>319200</td>\n",
              "      <td>경남 진주시</td>\n",
              "      <td>certified</td>\n",
              "      <td>2022-02-21</td>\n",
              "      <td>2</td>\n",
              "      <td>5700.00000</td>\n",
              "    </tr>\n",
              "  </tbody>\n",
              "</table>\n",
              "</div>"
            ],
            "text/plain": [
              "       prd    scale   price  origin        eco   reg_date  new_class  \\\n",
              "348207  피망 52.00000  296400  경남 진주시  certified 2022-02-15          2   \n",
              "348643  피망 56.00000  319200  경남 진주시  certified 2022-02-21          2   \n",
              "\n",
              "         price_kg  \n",
              "348207 5700.00000  \n",
              "348643 5700.00000  "
            ]
          },
          "execution_count": 55,
          "metadata": {},
          "output_type": "execute_result"
        }
      ],
      "source": [
        "df3[df3['scale']>=50]"
      ]
    },
    {
      "cell_type": "markdown",
      "metadata": {
        "id": "5I9D6wZCWDhi"
      },
      "source": [
        "### origin"
      ]
    },
    {
      "cell_type": "code",
      "execution_count": 56,
      "metadata": {
        "colab": {
          "base_uri": "https://localhost:8080/"
        },
        "id": "pI0Ezwn-VgXP",
        "outputId": "8d8f9387-01cb-4c3a-a3c9-e521b970aafb"
      },
      "outputs": [
        {
          "data": {
            "text/plain": [
              "array(['전남', '충남 서산시', '전남 신안군', '전남 진도군', '충북 청주시', '충북', '경기', '제주 제주시',\n",
              "       '경기 남양주시', '경기 고양시 덕양구', '강원도 태백시', '경기 양주시', '경기 고양시덕양구',\n",
              "       '인천시 계양구', '경기도 고양시', '제주', '제주 서귀포시(2)', '제주 서귀포시', '제주 남제주군',\n",
              "       '제주도 서귀포시', '제주시 한림읍', '제주특별자치도 서귀', '제주 북제주군', '제주도 제주시',\n",
              "       '제주시 한경면', '전남 무안군', '전남 나주시', '경기 포천시', '서울 도봉구', '경기 성남시',\n",
              "       '경기 안성시', '경기 여주시', '경남 창원시', '경기 광주시', '경기 양평군', '경기 이천시',\n",
              "       '경기 구리시', '경기 파주시', '경기 가평군', '전남 영암군', '경기 고양시', '전남 고흥군',\n",
              "       '경기 용인시', '서울 강동구', '성남시 중원구', '충남', '충남 예산군', '강원 평창군', '충남 당진시',\n",
              "       '경기 의정부시', '제주 서귀포', '제주특별자치', '경남 밀양시', '경남 창녕군', '광주시 광산구',\n",
              "       '경남 김해시', '광주 광산구', '경남 고성군', '경남 함안군', '경북 상주시', '전북 군산시',\n",
              "       '전북 완주군', '전북 임실군', '경기 여주군', '전북 전주시', '경남 진주시', '경남 밀양시 단장면',\n",
              "       '경남 의령군', '경기 안성시 일죽면', '경남 거제시', '경남 창원시 의창구', '충남 부여군', '경북 성주군',\n",
              "       '충북 충주시', '강원 춘천시', '충남 서천군', '경남 진주시 금곡면', '서울시 강서구', '충남 금산군',\n",
              "       '경남', '경남 밀양시 무안면', '광주 남구', '경남 하동군', '경북 청도군', '전남 해남군',\n",
              "       '경남 합천군', '전남 장성군', '경북 김천시', '전남 여수시', '경남 산청군', '대구 중구',\n",
              "       '전북 고창군', '경남 사천시', '전남 담양군', '강원 강릉시', '경북 문경시', '강원 인제군',\n",
              "       '전남 보성군', '경북 영주시', '강원 정선군', '경북 구미시', '가락동', '강원 홍천군', '충북 제천시',\n",
              "       '전남 장흥군', '충남 태안군', '전북 남원시', '전북 부안군', '전남 곡성군', '강원 횡성군',\n",
              "       '경북 고령군', '강원도 홍천군', '강원 양구군', '서울 중구', '전북 김제시', '전북', '충남 논산시',\n",
              "       '경북 칠곡군', '경북 영덕군', '충남 논산시 성동면', '전북 고창군 상하면', '경기 하남시', '충북 음성군',\n",
              "       '경기 광명시', '서울 양천구', '경북', '전라북도 익산시', '충북 진천군', '서울 송파구',\n",
              "       '전라북도 완주군', '경남 함양군', '경남 거창군', '광주 북구', '충남 공주시', '충남 홍성군',\n",
              "       '전북 익산시', '전북 순창군', '충남 보령시', '충청남도 논산시', '전라북도 남원시', '전북 익산시 망성면',\n",
              "       '충남 청양군', '수입산 이집트', '경남 남해군', '경기 안산시', '전남 광양시', '전북 남원시 금지면',\n",
              "       '경기 화성시', '수입산 베트남', '충남 계룡시', '전북 진안군', '수입산 미국', '전북 익산시 금마면',\n",
              "       '충북 영동군', '강원 화천군', '전북 익산시 오산면', '전주시 완산구', '충남 논산시 가야곡면',\n",
              "       '경기 양주시 은현면', '서울', '경상북도 고령군', '경기 평택시', '강원 철원군', '부산 강서구',\n",
              "       '전남 화순군', '경기도 화성군', '전북 정읍시', '경북 경주시', '전남 순천시', '전북 장수군',\n",
              "       '부산 부산진구', '전남 강진군', '부산시 강서구', '강원 속초시', '광주 서구', '세종 세종시',\n",
              "       '강원 고성군', '전북 무주군', '충남 아산시', '부산 중구', '전남 구례군', '서울 강서구',\n",
              "       '전남 함평군', '부산 오포군', '경기 이천시 모가면', '부산', '충북 괴산군', '경기도 광명시',\n",
              "       '경기도 여주군', '경기 김포시', '경기도 광주군', '경기 양평군 지제면', '미국', '경남 창원시 동읍',\n",
              "       '경남 함안군 칠북면', '경상남도 창원시', '전남 완도군', '서울 동대문구', '경기 의왕시', '세종시',\n",
              "       '경북 경산시', '대구 동구', '전남 영광군', '경북 영양군', '서울 중랑구', '대만', '성남시 분당구',\n",
              "       '경북 포항시', '경기 시흥시', '경기도 파주시', '충남 당진시 순성면', '충남 당진시 송악면',\n",
              "       '충남 당진시 대호지면', '충남 서산시 음암면', '인천시 강화군', '인천 강화군', '충남 천안시',\n",
              "       '전북 김제시 황산면', '경기도 이천시', '강원 원주시', '충남 태안군 남면', '충청남도 논', '중국',\n",
              "       '수입산 중국', '멕시코', '수입산 멕시코', '필리핀', '경북 의성군', '대구', '경기도 남양주시',\n",
              "       '베트남', '제주 제주시(2)', '부산광역시', '캄보디아', '페루', '태국', '수입산 페루',\n",
              "       '수입산 태국', '칠레', '타이', '수입산 캄보디아', '강원 영월군 하동면', '충남 논산시 양촌면',\n",
              "       '경북 안동시', '경남 함안군 함안면', '수입산 필리핀', '충남 부여군 세도면', '대구 달성군',\n",
              "       '경남 함안군 대산면', '청주시 상당구', '전라남도 신', '전라남도 진', '인천 남동구', '부산 기장군',\n",
              "       '울산 울주군', '전주시 덕진구', '경남 양산시', '전남 나주시 노안면', '전남 나주시 공산면',\n",
              "       '전북 김제시 금산면', '전남 나주시 산포면', '경남 밀양시 청도면', '인천', '인천 남구',\n",
              "       '인천광역시 남구', '인천시 부평구', '강원도 철원군', '인천 부평구', '경남 진주시 대곡면', '인천 미추홀',\n",
              "       '경북 영천시', '경북 상주시 화동면', '경북 상주시 공검면', '경남 남해군 상주면', '수입산 칠레',\n",
              "       '강원도 횡성군', '강원도 화천군', '강원', '강원 홍천군 남면', '충남 홍성군 은하면',\n",
              "       '전남 나주시 세지면', '충남 천안시 서북구', '경기 의왕시 초평로 1', '경기 남양주시 조안면', '과테말라',\n",
              "       '에콰도르', '코스타리카', '콜롬비아', '에쿠아도르', '에콰돌', '수입산 에콰도르', '수입산 코스타리카',\n",
              "       '수입산 콜롬비아', '수입산 과테말라', '기타외국', '경남 마산시', '광주시 남구', '인천 미추홀구',\n",
              "       '광주시 서구', '경남 하동군 옥종면', '경남 의령군 칠곡면', '충남 논산시 강경읍', '경북 포항시남구',\n",
              "       '경기 성남시중원구', '충남 연기군', '경기 오산시', '경기도 평택시', '경기도 안성시', '경기 수원시',\n",
              "       '충남 아산시 음봉면', '경기 이천시 설성면', '경기 평택시 현덕면', '경기 여주시 가남읍',\n",
              "       '전남 해남군 산이면', '강원 영월군', '수입산 뉴질랜드', '수입산 통가', '뉴질랜드', '충북 청원군',\n",
              "       '전라북도 전주시', '경남 고성군 영오면', '수입산 호주', '강원 양양군', '강원 태백시', '경기도 시흥시',\n",
              "       '청주시 흥덕구', '경기 연천군', '충북 보은군', '충북 증평군', '강원 동해시', '경기도 연천',\n",
              "       '경기도 김포', '충청남도 부', '포항시 북구', '광주', '경기 양평군 양동면', '제주시 애월읍',\n",
              "       '강원 원주시 귀래면', '경기 여주시 대신면', '포항시 남구', '경북 고령군 개진면', '경기 미금시',\n",
              "       '경기 의정부', '서울시 은평구', '서울 은평구', '경기 남양주', '경기 고양시일산구', '울산 북구',\n",
              "       '경기 양주군', '울산 남구', '경남 진주시 지수면', '대전 동구', '충남 금산군 진산면', '강원도 횡성',\n",
              "       '경북 청송군', '경북 봉화군', '경북 문경시 가은읍', '경북 영주시 부석면', '대구 북구', '충북 옥천군',\n",
              "       '경북 예천군', '경북 안동시 길안면', '서울시 양천구', '충남 논산시 연무읍', '충남 당진시 신평면',\n",
              "       '경기도 양주군', '서울시 도봉구', '경기 안성시 금광면', '경기도 김포시', '경기 안성시 양성면',\n",
              "       '충남 논산시 상월면', '경기 양주시 백석읍', '경기도 부천시', '대전 대덕구', '경북 김천시 조마면',\n",
              "       '전남 담양군 무정면', '경북 김천시 농소면', '경북 김천시 부항면', '충북 음성군 생극면',\n",
              "       '경북 영주시 단산면', '전북 정읍시 감곡면', '수입산 대만', '전북 익산시 낭산면', '대구시 달성군',\n",
              "       '전남 신안군 비금면', '충북 음성군 맹동면', '전남 목포시', '경기도 포천군', '경기도 고양',\n",
              "       '인천 계양구', '경기도 평택', '강원도 홍천', '경남 의령군 부림면', '경상남도 의', '경북/문경시',\n",
              "       '경남/합천군', '경기도 안성', '전라남도 함', '강원도 평창군', '대구 남구', '아르헨티나',\n",
              "       '수입산 아르헨티나', '호주', '스페인', '대전 서구', '대전 유성구', '대전', '경기 안성시 고삼면',\n",
              "       '서귀포시 대정읍', '충남 아산시 도고면', '이탈리아', '경남 마산시합포구', '전남 해남군 마산면',\n",
              "       '경북 성주군 초전면', '경기 용인시 모현면', '경기 포천군', '전남 광양시 진상면', '전남 광양시 다압면',\n",
              "       '경남 산청군 신안면', '수입산 그리스', '수입 중국\\t', '국내산\\t', '수입 베트남\\t', '전남 여수\\t',\n",
              "       '전북 군산\\t', '충남 장항(서천)\\t', '경남 통영\\t', '전남 강진\\t', '전남 완도\\t',\n",
              "       '전남 장흥\\t', '전남 순천(광양)\\t', '전남 고흥(나로도)\\t', '수입 러시아\\t', '수입 미국\\t',\n",
              "       '경기 인천\\t', '경남 삼천포\\t', '충남 서산\\t', '전북 부안\\t', '경남 남해\\t',\n",
              "       '경남 마산(고성,진해)', '수입 칠레\\t', '수입 노르웨이\\t', '전남 신안\\t', '수입 에콰도르\\t',\n",
              "       '수입 캐나다\\t', '수입 페루\\t', '수입 기타\\t', '수입 아르헨티나\\t', '수입 뉴질랜드\\t'],\n",
              "      dtype=object)"
            ]
          },
          "execution_count": 56,
          "metadata": {},
          "output_type": "execute_result"
        }
      ],
      "source": [
        "# 도,시, 국산, 수입 표기 분류 필요\n",
        "df3['origin'].unique()"
      ]
    },
    {
      "cell_type": "code",
      "execution_count": 57,
      "metadata": {
        "colab": {
          "base_uri": "https://localhost:8080/",
          "height": 423
        },
        "id": "rvX1g3c_Ll2C",
        "outputId": "56330691-579b-46aa-b24a-046112748253"
      },
      "outputs": [
        {
          "data": {
            "text/html": [
              "<div>\n",
              "<style scoped>\n",
              "    .dataframe tbody tr th:only-of-type {\n",
              "        vertical-align: middle;\n",
              "    }\n",
              "\n",
              "    .dataframe tbody tr th {\n",
              "        vertical-align: top;\n",
              "    }\n",
              "\n",
              "    .dataframe thead th {\n",
              "        text-align: right;\n",
              "    }\n",
              "</style>\n",
              "<table border=\"1\" class=\"dataframe\">\n",
              "  <thead>\n",
              "    <tr style=\"text-align: right;\">\n",
              "      <th></th>\n",
              "      <th>prd</th>\n",
              "      <th>scale</th>\n",
              "      <th>price</th>\n",
              "      <th>origin</th>\n",
              "      <th>eco</th>\n",
              "      <th>reg_date</th>\n",
              "      <th>new_class</th>\n",
              "      <th>price_kg</th>\n",
              "      <th>0</th>\n",
              "      <th>1</th>\n",
              "      <th>2</th>\n",
              "      <th>3</th>\n",
              "    </tr>\n",
              "  </thead>\n",
              "  <tbody>\n",
              "    <tr>\n",
              "      <th>0</th>\n",
              "      <td>대파</td>\n",
              "      <td>1.00000</td>\n",
              "      <td>900</td>\n",
              "      <td>전남</td>\n",
              "      <td>normal</td>\n",
              "      <td>2022-02-04</td>\n",
              "      <td>1</td>\n",
              "      <td>900.00000</td>\n",
              "      <td>전남</td>\n",
              "      <td>NaN</td>\n",
              "      <td>NaN</td>\n",
              "      <td>NaN</td>\n",
              "    </tr>\n",
              "    <tr>\n",
              "      <th>1</th>\n",
              "      <td>대파</td>\n",
              "      <td>10.00000</td>\n",
              "      <td>17600</td>\n",
              "      <td>충남 서산시</td>\n",
              "      <td>normal</td>\n",
              "      <td>2022-02-04</td>\n",
              "      <td>1</td>\n",
              "      <td>1760.00000</td>\n",
              "      <td>충남</td>\n",
              "      <td>서산시</td>\n",
              "      <td>NaN</td>\n",
              "      <td>NaN</td>\n",
              "    </tr>\n",
              "    <tr>\n",
              "      <th>2</th>\n",
              "      <td>대파</td>\n",
              "      <td>10.00000</td>\n",
              "      <td>16800</td>\n",
              "      <td>전남 신안군</td>\n",
              "      <td>normal</td>\n",
              "      <td>2022-02-04</td>\n",
              "      <td>1</td>\n",
              "      <td>1680.00000</td>\n",
              "      <td>전남</td>\n",
              "      <td>신안군</td>\n",
              "      <td>NaN</td>\n",
              "      <td>NaN</td>\n",
              "    </tr>\n",
              "    <tr>\n",
              "      <th>3</th>\n",
              "      <td>대파</td>\n",
              "      <td>1.00000</td>\n",
              "      <td>950</td>\n",
              "      <td>전남 신안군</td>\n",
              "      <td>normal</td>\n",
              "      <td>2022-02-04</td>\n",
              "      <td>1</td>\n",
              "      <td>950.00000</td>\n",
              "      <td>전남</td>\n",
              "      <td>신안군</td>\n",
              "      <td>NaN</td>\n",
              "      <td>NaN</td>\n",
              "    </tr>\n",
              "    <tr>\n",
              "      <th>4</th>\n",
              "      <td>대파</td>\n",
              "      <td>1.00000</td>\n",
              "      <td>950</td>\n",
              "      <td>전남 신안군</td>\n",
              "      <td>normal</td>\n",
              "      <td>2022-02-04</td>\n",
              "      <td>1</td>\n",
              "      <td>950.00000</td>\n",
              "      <td>전남</td>\n",
              "      <td>신안군</td>\n",
              "      <td>NaN</td>\n",
              "      <td>NaN</td>\n",
              "    </tr>\n",
              "    <tr>\n",
              "      <th>...</th>\n",
              "      <td>...</td>\n",
              "      <td>...</td>\n",
              "      <td>...</td>\n",
              "      <td>...</td>\n",
              "      <td>...</td>\n",
              "      <td>...</td>\n",
              "      <td>...</td>\n",
              "      <td>...</td>\n",
              "      <td>...</td>\n",
              "      <td>...</td>\n",
              "      <td>...</td>\n",
              "      <td>...</td>\n",
              "    </tr>\n",
              "    <tr>\n",
              "      <th>689149</th>\n",
              "      <td>쭈꾸미</td>\n",
              "      <td>2.00000</td>\n",
              "      <td>19500</td>\n",
              "      <td>수입 중국\\t</td>\n",
              "      <td>normal</td>\n",
              "      <td>2022-02-26</td>\n",
              "      <td>3</td>\n",
              "      <td>9750.00000</td>\n",
              "      <td>수입</td>\n",
              "      <td>중국\\t</td>\n",
              "      <td>NaN</td>\n",
              "      <td>NaN</td>\n",
              "    </tr>\n",
              "    <tr>\n",
              "      <th>689150</th>\n",
              "      <td>쭈꾸미</td>\n",
              "      <td>2.00000</td>\n",
              "      <td>19500</td>\n",
              "      <td>수입 중국\\t</td>\n",
              "      <td>normal</td>\n",
              "      <td>2022-02-26</td>\n",
              "      <td>3</td>\n",
              "      <td>9750.00000</td>\n",
              "      <td>수입</td>\n",
              "      <td>중국\\t</td>\n",
              "      <td>NaN</td>\n",
              "      <td>NaN</td>\n",
              "    </tr>\n",
              "    <tr>\n",
              "      <th>689151</th>\n",
              "      <td>쭈꾸미</td>\n",
              "      <td>2.00000</td>\n",
              "      <td>19000</td>\n",
              "      <td>수입 중국\\t</td>\n",
              "      <td>normal</td>\n",
              "      <td>2022-02-26</td>\n",
              "      <td>3</td>\n",
              "      <td>9500.00000</td>\n",
              "      <td>수입</td>\n",
              "      <td>중국\\t</td>\n",
              "      <td>NaN</td>\n",
              "      <td>NaN</td>\n",
              "    </tr>\n",
              "    <tr>\n",
              "      <th>689152</th>\n",
              "      <td>쭈꾸미</td>\n",
              "      <td>2.00000</td>\n",
              "      <td>18000</td>\n",
              "      <td>수입 중국\\t</td>\n",
              "      <td>normal</td>\n",
              "      <td>2022-02-26</td>\n",
              "      <td>3</td>\n",
              "      <td>9000.00000</td>\n",
              "      <td>수입</td>\n",
              "      <td>중국\\t</td>\n",
              "      <td>NaN</td>\n",
              "      <td>NaN</td>\n",
              "    </tr>\n",
              "    <tr>\n",
              "      <th>689153</th>\n",
              "      <td>쭈꾸미</td>\n",
              "      <td>2.00000</td>\n",
              "      <td>18000</td>\n",
              "      <td>수입 중국\\t</td>\n",
              "      <td>normal</td>\n",
              "      <td>2022-02-26</td>\n",
              "      <td>3</td>\n",
              "      <td>9000.00000</td>\n",
              "      <td>수입</td>\n",
              "      <td>중국\\t</td>\n",
              "      <td>NaN</td>\n",
              "      <td>NaN</td>\n",
              "    </tr>\n",
              "  </tbody>\n",
              "</table>\n",
              "<p>689141 rows × 12 columns</p>\n",
              "</div>"
            ],
            "text/plain": [
              "        prd    scale  price   origin     eco   reg_date  new_class   price_kg  \\\n",
              "0        대파  1.00000    900       전남  normal 2022-02-04          1  900.00000   \n",
              "1        대파 10.00000  17600   충남 서산시  normal 2022-02-04          1 1760.00000   \n",
              "2        대파 10.00000  16800   전남 신안군  normal 2022-02-04          1 1680.00000   \n",
              "3        대파  1.00000    950   전남 신안군  normal 2022-02-04          1  950.00000   \n",
              "4        대파  1.00000    950   전남 신안군  normal 2022-02-04          1  950.00000   \n",
              "...     ...      ...    ...      ...     ...        ...        ...        ...   \n",
              "689149  쭈꾸미  2.00000  19500  수입 중국\\t  normal 2022-02-26          3 9750.00000   \n",
              "689150  쭈꾸미  2.00000  19500  수입 중국\\t  normal 2022-02-26          3 9750.00000   \n",
              "689151  쭈꾸미  2.00000  19000  수입 중국\\t  normal 2022-02-26          3 9500.00000   \n",
              "689152  쭈꾸미  2.00000  18000  수입 중국\\t  normal 2022-02-26          3 9000.00000   \n",
              "689153  쭈꾸미  2.00000  18000  수입 중국\\t  normal 2022-02-26          3 9000.00000   \n",
              "\n",
              "         0     1    2    3  \n",
              "0       전남   NaN  NaN  NaN  \n",
              "1       충남   서산시  NaN  NaN  \n",
              "2       전남   신안군  NaN  NaN  \n",
              "3       전남   신안군  NaN  NaN  \n",
              "4       전남   신안군  NaN  NaN  \n",
              "...     ..   ...  ...  ...  \n",
              "689149  수입  중국\\t  NaN  NaN  \n",
              "689150  수입  중국\\t  NaN  NaN  \n",
              "689151  수입  중국\\t  NaN  NaN  \n",
              "689152  수입  중국\\t  NaN  NaN  \n",
              "689153  수입  중국\\t  NaN  NaN  \n",
              "\n",
              "[689141 rows x 12 columns]"
            ]
          },
          "execution_count": 57,
          "metadata": {},
          "output_type": "execute_result"
        }
      ],
      "source": [
        "# 해당 조건에 맞는 값 추출\n",
        "\n",
        "splits = df3['origin'].str.split(' ')\n",
        "cacul = splits.apply(lambda x: pd.Series(x))\n",
        "df66 = pd.merge(df3,cacul, left_index=True, right_index=True, how='inner')\n",
        "df66"
      ]
    },
    {
      "cell_type": "code",
      "execution_count": 58,
      "metadata": {
        "id": "NVkmVZ7ip9-N"
      },
      "outputs": [],
      "source": [
        "# 세부 카테고리 정리 (state, city 편집 시 여기서 시작)\n",
        "\n",
        "df4 = df66.rename(columns = {0:'state',1:'city'})\n",
        "\n",
        "# 2,3은 필요없는 정보이므로 삭제\n",
        "df4 = df4.drop(columns=[2,3])"
      ]
    },
    {
      "cell_type": "code",
      "execution_count": 59,
      "metadata": {
        "colab": {
          "base_uri": "https://localhost:8080/"
        },
        "id": "JcsSUlI_27J3",
        "outputId": "817067e6-2645-4c9c-c86f-047b1471bb9b"
      },
      "outputs": [
        {
          "data": {
            "text/plain": [
              "array(['전남', '충남', '충북', '경기', '제주', '강원도', '인천시', '경기도', '제주도', '제주시',\n",
              "       '제주특별자치도', '서울', '경남', '성남시', '강원', '제주특별자치', '광주시', '광주', '경북',\n",
              "       '전북', '서울시', '대구', '가락동', '전라북도', '충청남도', '수입산', '전주시', '경상북도',\n",
              "       '부산', '부산시', '세종', '미국', '경상남도', '세종시', '대만', '인천', '중국', '멕시코',\n",
              "       '필리핀', '베트남', '부산광역시', '캄보디아', '페루', '태국', '칠레', '타이', '청주시',\n",
              "       '전라남도', '울산', '인천광역시', '과테말라', '에콰도르', '코스타리카', '콜롬비아', '에쿠아도르',\n",
              "       '에콰돌', '기타외국', '뉴질랜드', '포항시', '대전', '대구시', '경북/문경시', '경남/합천군',\n",
              "       '아르헨티나', '호주', '스페인', '서귀포시', '이탈리아', '수입', '국내산\\t'], dtype=object)"
            ]
          },
          "execution_count": 59,
          "metadata": {},
          "output_type": "execute_result"
        }
      ],
      "source": [
        "df4['state'].unique()"
      ]
    },
    {
      "cell_type": "code",
      "execution_count": 60,
      "metadata": {
        "id": "SsvDFEbgqQjD"
      },
      "outputs": [],
      "source": [
        "# 시,도 제거\n",
        "def name_sort(words):\n",
        "  p = re.compile('[^시도]+')\n",
        "  word = re.search(p,str(words))\n",
        "  return word.group()\n",
        "\n",
        "df4[\"state\"] = df4[\"state\"].apply(name_sort)\n",
        "\n",
        "# 오타도 제거\n",
        "\n",
        "def name_sort2(words):\n",
        "  p = re.compile('[^\\t]+')\n",
        "  word = re.search(p,words)\n",
        "  return word.group()\n",
        "\n",
        "df4[\"state\"] = df4[\"state\"].apply(name_sort2)"
      ]
    },
    {
      "cell_type": "code",
      "execution_count": 61,
      "metadata": {
        "colab": {
          "base_uri": "https://localhost:8080/"
        },
        "id": "JeybBf_fqhqh",
        "outputId": "b5542367-86fe-4c6e-deab-f28f7d1ce6f5"
      },
      "outputs": [
        {
          "data": {
            "text/plain": [
              "array(['전남', '충남', '충북', '경기', '제주', '강원', '인천', '제주특별자치', '서울', '경남',\n",
              "       '성남', '광주', '경북', '전북', '대구', '가락동', '전라북', '충청남', '수입산', '전주',\n",
              "       '경상북', '부산', '세종', '미국', '경상남', '대만', '중국', '멕', '필리핀', '베트남',\n",
              "       '부산광역', '캄보디아', '페루', '태국', '칠레', '타이', '청주', '전라남', '울산', '인천광역',\n",
              "       '과테말라', '에콰', '코스타리카', '콜롬비아', '에쿠아', '에콰돌', '기타외국', '뉴질랜드', '포항',\n",
              "       '대전', '경북/문경', '경남/합천군', '아르헨티나', '호주', '스페인', '서귀포', '이탈리아', '수입',\n",
              "       '국내산'], dtype=object)"
            ]
          },
          "execution_count": 61,
          "metadata": {},
          "output_type": "execute_result"
        }
      ],
      "source": [
        "df4[\"state\"].unique()"
      ]
    },
    {
      "cell_type": "code",
      "execution_count": 62,
      "metadata": {
        "id": "FDUnVy0e1br6"
      },
      "outputs": [],
      "source": [
        "# state\n",
        "# 특이케이스 제거\n",
        "\n",
        "# 국내\n",
        "df4.loc[df4[\"state\"]==\"국내산\",\"city\"] = \"미상\"\n",
        "df4.loc[df4[\"state\"]==\"국내산\",\"state\"] = \"국산\"\n",
        "df4.loc[df4[\"state\"]==\"원양산\",\"city\"] = \"미상\"\n",
        "\n",
        "## 도단위\n",
        "df4.loc[df4[\"state\"]==\"충청북\",\"state\"] = \"충북\"\n",
        "df4.loc[df4[\"state\"]==\"충청남\",\"state\"] = \"충남\"\n",
        "df4.loc[df4[\"state\"]==\"전라북\",\"state\"] = \"전북\"\n",
        "df4.loc[df4[\"state\"]==\"전라남\",\"state\"] = \"전남\"\n",
        "df4.loc[df4[\"state\"]==\"경상북\",\"state\"] = \"경북\"\n",
        "df4.loc[df4[\"state\"]==\"경상남\",\"state\"] = \"경남\"\n",
        "\n",
        "## 시단위\n",
        "### 광역시\n",
        "\n",
        "df4.loc[df4[\"state\"]==\"대전\",\"city\"] = \"대전\"\n",
        "df4.loc[df4[\"state\"]==\"대구\",\"city\"] = \"대구\"\n",
        "df4.loc[df4[\"state\"]==\"서울특별\",\"city\"] = \"서울\"\n",
        "df4.loc[df4[\"state\"]==\"서울특별\",\"state\"] = \"서울\"\n",
        "df4.loc[df4[\"state\"]==\"인천광역\",\"city\"] = \"인천\"\n",
        "df4.loc[df4[\"state\"]==\"인천광역\",\"state\"] = \"인천\"\n",
        "df4.loc[df4[\"state\"]==\"부산\",\"city\"] = \"부산\"\n",
        "df4.loc[df4[\"state\"]==\"부산광역\",\"city\"] = \"부산\"\n",
        "df4.loc[df4[\"state\"]==\"부산광역\",\"state\"] = \"부산\"\n",
        "df4.loc[df4[\"state\"]==\"가락동\",\"city\"] = \"서울\"\n",
        "df4.loc[df4[\"state\"]==\"가락동\",\"state\"] = \"서울\"\n",
        "df4.loc[df4[\"state\"]==\"세종\",\"city\"] = \"세종\"\n",
        "df4.loc[df4[\"state\"]==\"세종특별자치\",\"city\"] = \"세종\"\n",
        "df4.loc[df4[\"state\"]==\"세종특별자치\",\"state\"] = \"세종\"\n",
        "df4.loc[df4[\"state\"]==\"대전\",\"city\"] = \"대전\"\n",
        "df4.loc[df4[\"state\"]==\"제주\",\"city\"] = \"제주\"\n",
        "df4.loc[df4[\"state\"]==\"제주특별자치\",\"city\"] = \"제주\"\n",
        "df4.loc[df4[\"state\"]==\"제주특별자치\",\"state\"] = \"제주\"\n",
        "df4.loc[df4[\"state\"]==\"제주특별자\",\"city\"] = \"제주\"\n",
        "df4.loc[df4[\"state\"]==\"제주특별자\",\"state\"] = \"제주\"\n",
        "df4.loc[df4[\"state\"]==\"제주/서귀포\",\"city\"] = \"제주\"\n",
        "df4.loc[df4[\"state\"]==\"제주/서귀포\",\"state\"] = \"제주\"\n",
        "df4.loc[df4[\"state\"]==\"서귀포\",\"city\"] = \"제주\"\n",
        "df4.loc[df4[\"state\"]==\"서귀포\",\"state\"] = \"제주\"\n",
        "df4.loc[df4[\"state\"]==\"세종\",\"city\"] = \"세종\"\n",
        "df4.loc[df4[\"state\"]==\"울산\",\"city\"] = \"울산\"\n",
        "df4.loc[df4[\"state\"]==\"울산\",\"state\"] = \"울산\"\n",
        "\n",
        "### 일반시\n",
        "df4.loc[df4[\"state\"]==\"성남\",\"city\"] = \"성남\"\n",
        "df4.loc[df4[\"state\"]==\"성남\",\"state\"] = \"경기\"\n",
        "df4.loc[df4[\"state\"]==\"전주\",\"city\"] = \"전주\"\n",
        "df4.loc[df4[\"state\"]==\"전주\",\"state\"] = \"전북\"\n",
        "df4.loc[df4[\"state\"]==\"청주\",\"city\"] = \"청주\"\n",
        "df4.loc[df4[\"state\"]==\"청주\",\"state\"] = \"충북\"\n",
        "df4.loc[df4[\"state\"]==\"수원\",\"city\"] = \"수원\"\n",
        "df4.loc[df4[\"state\"]==\"수원\",\"state\"] = \"경기\"\n",
        "df4.loc[df4[\"state\"]==\"부천\",\"city\"] = \"부천\"\n",
        "df4.loc[df4[\"state\"]==\"부천\",\"state\"] = \"경기\"\n",
        "df4.loc[df4[\"state\"]==\"경기고양\",\"city\"] = \"고양\"\n",
        "df4.loc[df4[\"state\"]==\"경기고양\",\"state\"] = \"경기\"\n",
        "df4.loc[df4[\"state\"]==\"충북청주\",\"city\"] = \"청주\"\n",
        "df4.loc[df4[\"state\"]==\"충북청주\",\"state\"] = \"충북\"\n",
        "df4.loc[df4[\"state\"]==\"전북전주\",\"city\"] = \"전주\"\n",
        "df4.loc[df4[\"state\"]==\"전북전주\",\"state\"] = \"전북\"\n",
        "df4.loc[df4[\"state\"]==\"경북/문경\",\"city\"] = \"문경\"\n",
        "df4.loc[df4[\"state\"]==\"경북/문경\",\"state\"] = \"경북\"\n",
        "df4.loc[df4[\"state\"]==\"포항\",\"city\"] = \"포항\"\n",
        "df4.loc[df4[\"state\"]==\"포항\",\"state\"] = \"경북\"\n",
        "df4.loc[df4[\"state\"]==\"경북/안동\",\"city\"] = \"안동\"\n",
        "df4.loc[df4[\"state\"]==\"경북/안동\",\"state\"] = \"경북\"\n",
        "df4.loc[df4[\"state\"]==\"전남/무안군\",\"city\"] = \"전남\"\n",
        "df4.loc[df4[\"state\"]==\"전남/무안군\",\"state\"] = \"무안\"\n",
        "df4.loc[df4[\"state\"]==\"경북/구미\",\"city\"] = \"구미\"\n",
        "df4.loc[df4[\"state\"]==\"경북/구미\",\"state\"] = \"경북\"\n",
        "df4.loc[df4[\"state\"]==\"경북/상주\",\"city\"] = \"상주\"\n",
        "df4.loc[df4[\"state\"]==\"경북/상주\",\"state\"] = \"경북\"\n",
        "df4.loc[df4[\"state\"]==\"경북/영천\",\"city\"] = \"영천\"\n",
        "df4.loc[df4[\"state\"]==\"경북/영천\",\"state\"] = \"경북\"\n",
        "df4.loc[df4[\"state\"]==\"경남/합천군\",\"city\"] = \"합천\"\n",
        "df4.loc[df4[\"state\"]==\"경남/합천군\",\"state\"] = \"경남\"\n",
        "df4.loc[df4[\"state\"]==\"전남/고흥군\",\"city\"] = \"고흥\"\n",
        "df4.loc[df4[\"state\"]==\"전남/고흥군\",\"state\"] = \"전남\"\n",
        "df4.loc[df4[\"state\"]==\"무안\",\"state\"] = \"전남\"\n",
        "df4.loc[df4[\"state\"]==\"서해안\",\"city\"] = \"미상\"\n",
        "df4.loc[df4[\"state\"]==\"서해안\",\"state\"] = \"국산\"\n",
        "df4.loc[df4[\"state\"]==\"남해안\",\"city\"] = \"미상\"\n",
        "df4.loc[df4[\"state\"]==\"남해안\",\"state\"] = \"국산\"\n",
        "\n",
        "\n",
        "# 외국\n",
        "## 아시아\n",
        "df4.loc[df4[\"state\"]==\"칠레\",\"city\"] = \"칠레\"\n",
        "df4.loc[df4[\"state\"]==\"칠레\",\"state\"] = \"수입\"\n",
        "df4.loc[df4[\"state\"]==\"일본\",\"city\"] = \"일본\"\n",
        "df4.loc[df4[\"state\"]==\"일본\",\"state\"] = \"수입\"\n",
        "df4.loc[df4[\"state\"]==\"베트남\",\"city\"] = \"베트남\"\n",
        "df4.loc[df4[\"state\"]==\"베트남\",\"state\"] = \"수입\"\n",
        "df4.loc[df4[\"state\"]==\"우즈베크\",\"city\"] = \"우즈베키스탄\"\n",
        "df4.loc[df4[\"state\"]==\"우즈베크\",\"state\"] = \"수입\"\n",
        "df4.loc[df4[\"state\"]==\"이스라엘\",\"city\"] = \"이스라엘\"\n",
        "df4.loc[df4[\"state\"]==\"이스라엘\",\"state\"] = \"수입\"\n",
        "df4.loc[df4[\"state\"]==\"터키\",\"city\"] = \"터키\"\n",
        "df4.loc[df4[\"state\"]==\"터키\",\"state\"] = \"수입\"\n",
        "df4.loc[df4[\"state\"]==\"중국\",\"city\"] = \"중국\"\n",
        "df4.loc[df4[\"state\"]==\"중국\",\"state\"] = \"수입\"\n",
        "df4.loc[df4[\"state\"]==\"타이\",\"city\"] = \"태국\"\n",
        "df4.loc[df4[\"state\"]==\"타이\",\"state\"] = \"수입\"\n",
        "df4.loc[df4[\"state\"]==\"태국\",\"city\"] = \"태국\"\n",
        "df4.loc[df4[\"state\"]==\"태국\",\"state\"] = \"수입\"\n",
        "df4.loc[df4[\"state\"]==\"필리핀\",\"city\"] = \"필리핀\"\n",
        "df4.loc[df4[\"state\"]==\"필리핀\",\"state\"] = \"수입\"\n",
        "df4.loc[df4[\"state\"]==\"우즈베키스탄\",\"city\"] = \"우즈베키스탄\"\n",
        "df4.loc[df4[\"state\"]==\"우즈베키스탄\",\"state\"] = \"수입\"\n",
        "df4.loc[df4[\"state\"]==\"대만\",\"city\"] = \"대만\"\n",
        "df4.loc[df4[\"state\"]==\"대만\",\"state\"] = \"수입\"\n",
        "df4.loc[df4[\"state\"]==\"베트남\",\"city\"] = \"베트남\"\n",
        "df4.loc[df4[\"state\"]==\"베트남\",\"state\"] = \"수입\"\n",
        "df4.loc[df4[\"state\"]==\"이란\",\"city\"] = \"이란\"\n",
        "df4.loc[df4[\"state\"]==\"이란\",\"state\"] = \"수입\"\n",
        "df4.loc[df4[\"state\"]==\"러\",\"city\"] = \"러시아\"\n",
        "df4.loc[df4[\"state\"]==\"러\",\"state\"] = \"수입\"\n",
        "df4.loc[df4[\"state\"]==\"캄보디아\",\"city\"] = \"캄보디아\"\n",
        "df4.loc[df4[\"state\"]==\"캄보디아\",\"state\"] = \"수입\"\n",
        "df4.loc[(df4[\"state\"]==\"인\")&(df4[\"origin\"]==\"인도네시아\"),\"city\"] = \"인도네시아\"\n",
        "df4.loc[(df4[\"state\"]==\"인\")&(df4[\"origin\"]==\"인도네시아\"),\"state\"] = \"수입\"\n",
        "df4.loc[(df4[\"state\"]==\"인\")&(df4[\"origin\"]==\"인도\"),\"city\"] = \"인도\"\n",
        "df4.loc[(df4[\"state\"]==\"인\")&(df4[\"origin\"]==\"인도\"),\"state\"] = \"수입\"\n",
        "\n",
        "## 아메리카\n",
        "\n",
        "df4.loc[df4[\"state\"]==\"캘리포니아\",\"city\"] = \"미국\"\n",
        "df4.loc[df4[\"state\"]==\"캘리포니아\",\"state\"] = \"수입\"\n",
        "df4.loc[df4[\"state\"]==\"포클랜드\",\"city\"] = \"영국\"\n",
        "df4.loc[df4[\"state\"]==\"포클랜드\",\"state\"] = \"수입\"\n",
        "df4.loc[df4[\"state\"]==\"콜롬비아\",\"city\"] = \"콜롬비아\"\n",
        "df4.loc[df4[\"state\"]==\"콜롬비아\",\"state\"] = \"수입\"\n",
        "df4.loc[df4[\"state\"]==\"에콰\",\"city\"] = \"에콰도르\"\n",
        "df4.loc[df4[\"state\"]==\"에콰\",\"state\"] = \"수입\"\n",
        "df4.loc[df4[\"state\"]==\"에쿠아\",\"city\"] = \"에콰도르\"\n",
        "df4.loc[df4[\"state\"]==\"에쿠아\",\"state\"] = \"수입\"\n",
        "df4.loc[df4[\"state\"]==\"에콰돌\",\"city\"] = \"에콰도르\"\n",
        "df4.loc[df4[\"state\"]==\"에콰돌\",\"state\"] = \"수입\"\n",
        "df4.loc[df4[\"state\"]==\"과테말라\",\"city\"] = \"과테말라\"\n",
        "df4.loc[df4[\"state\"]==\"과테말라\",\"state\"] = \"수입\"\n",
        "df4.loc[df4[\"state\"]==\"코스타리카\",\"city\"] = \"코스타리카\"\n",
        "df4.loc[df4[\"state\"]==\"코스타리카\",\"state\"] = \"수입\"\n",
        "df4.loc[df4[\"state\"]==\"멕\",\"city\"] = \"멕시코\"\n",
        "df4.loc[df4[\"state\"]==\"멕\",\"state\"] = \"수입\"\n",
        "df4.loc[df4[\"state\"]==\"페루\",\"city\"] = \"페루\"\n",
        "df4.loc[df4[\"state\"]==\"페루\",\"state\"] = \"수입\"\n",
        "df4.loc[df4[\"state\"]==\"미국\",\"city\"] = \"미국\"\n",
        "df4.loc[df4[\"state\"]==\"미국\",\"state\"] = \"수입\"\n",
        "df4.loc[df4[\"state\"]==\"아르헨티나\",\"city\"] = \"아르헨티나\"\n",
        "df4.loc[df4[\"state\"]==\"아르헨티나\",\"state\"] = \"수입\"\n",
        "df4.loc[df4[\"state\"]==\"브라질\",\"city\"] = \"브라질\"\n",
        "df4.loc[df4[\"state\"]==\"브라질\",\"state\"] = \"수입\"\n",
        "\n",
        "## 유럽\n",
        "df4.loc[df4[\"state\"]==\"스페인\",\"city\"] = \"스페인\"\n",
        "df4.loc[df4[\"state\"]==\"스페인\",\"state\"] = \"수입\"\n",
        "df4.loc[df4[\"state\"]==\"우크라이나\",\"city\"] = \"우크라이나\"\n",
        "df4.loc[df4[\"state\"]==\"우크라이나\",\"state\"] = \"수입\"\n",
        "df4.loc[df4[\"state\"]==\"이탈리아\",\"city\"] = \"이탈리아\"\n",
        "df4.loc[df4[\"state\"]==\"이탈리아\",\"state\"] = \"수입\"\n",
        "df4.loc[df4[\"state\"]==\"불가리아\",\"city\"] = \"불가리아\"\n",
        "df4.loc[df4[\"state\"]==\"불가리아\",\"state\"] = \"수입\"\n",
        "\n",
        "## 아프리카\n",
        "df4.loc[df4[\"state\"]==\"남아프리카\",\"city\"] = \"남아공\"\n",
        "df4.loc[df4[\"state\"]==\"남아프리카\",\"state\"] = \"수입\"\n",
        "df4.loc[df4[\"state\"]==\"남아프리카공화국\",\"city\"] = \"남아공\"\n",
        "df4.loc[df4[\"state\"]==\"남아프리카공화국\",\"state\"] = \"수입\"\n",
        "df4.loc[df4[\"state\"]==\"수입남아프리카공화국\",\"city\"] = \"남아공\"\n",
        "df4.loc[df4[\"state\"]==\"수입남아프리카공화국\",\"state\"] = \"수입\"\n",
        "\n",
        "\n",
        "## 오세아니아\n",
        "df4.loc[df4[\"state\"]==\"뉴질랜드\",\"city\"] = \"뉴질랜드\"\n",
        "df4.loc[df4[\"state\"]==\"뉴질랜드\",\"state\"] = \"수입\"\n",
        "df4.loc[df4[\"state\"]==\"오스트레일\",\"city\"] = \"호주\"\n",
        "df4.loc[df4[\"state\"]==\"오스트레일\",\"state\"] = \"수입\"\n",
        "df4.loc[df4[\"state\"]==\"오스트레일리아\",\"city\"] = \"호주\"\n",
        "df4.loc[df4[\"state\"]==\"오스트레일리아\",\"state\"] = \"수입\"\n",
        "df4.loc[df4[\"state\"]==\"호주\",\"city\"] = \"호주\"\n",
        "df4.loc[df4[\"state\"]==\"호주\",\"state\"] = \"수입\"\n",
        "df4.loc[df4[\"state\"]==\"통가\",\"city\"] = \"통가\"\n",
        "df4.loc[df4[\"state\"]==\"통가\",\"state\"] = \"수입\"\n",
        "df4.loc[df4[\"state\"]==\"뉴칼레\",\"city\"] = \"뉴칼레도니아\"\n",
        "df4.loc[df4[\"state\"]==\"뉴칼레\",\"state\"] = \"수입\"\n",
        "df4.loc[df4[\"state\"]==\"뉴\",\"city\"] = \"뉴칼레도니아\"\n",
        "df4.loc[df4[\"state\"]==\"뉴\",\"state\"] = \"수입\"\n",
        "df4.loc[df4[\"state\"]==\"누벨칼레\",\"city\"] = \"뉴칼레도니아\"\n",
        "df4.loc[df4[\"state\"]==\"누벨칼레\",\"state\"] = \"수입\"\n",
        "# 기타\n",
        "df4.loc[df4[\"state\"]==\"수입산\",\"state\"] = \"수입\"\n",
        "df4.loc[df4[\"state\"]==\"기타외국\",\"city\"] = \"미상\"\n",
        "df4.loc[df4[\"state\"]==\"기타외국\",\"state\"] = \"수입\"\n",
        "df4.drop(df4[df4[\"state\"]==\"미등록\"].index,inplace=True)"
      ]
    },
    {
      "cell_type": "code",
      "execution_count": 63,
      "metadata": {
        "colab": {
          "base_uri": "https://localhost:8080/"
        },
        "id": "bPMNH6Fz9laX",
        "outputId": "c7ea6abb-e318-4350-9eea-394a56796052"
      },
      "outputs": [
        {
          "data": {
            "text/plain": [
              "array(['전남', '충남', '충북', '경기', '제주', '강원', '인천', '서울', '경남', '광주', '경북',\n",
              "       '전북', '대구', '수입', '부산', '세종', '울산', '대전', '국산'], dtype=object)"
            ]
          },
          "execution_count": 63,
          "metadata": {},
          "output_type": "execute_result"
        }
      ],
      "source": [
        "df4['state'].unique()"
      ]
    },
    {
      "cell_type": "code",
      "execution_count": 64,
      "metadata": {
        "id": "Ih5vw324J-Ed"
      },
      "outputs": [],
      "source": [
        "# city\n",
        "# 우선 결측치 제거\n",
        "df4.loc[df4[\"city\"].isnull(),\"city\"] = \"미상\""
      ]
    },
    {
      "cell_type": "code",
      "execution_count": 65,
      "metadata": {
        "id": "cXY3uABaKSty"
      },
      "outputs": [],
      "source": [
        "# 이후 시,군 등 제거\n",
        "def name_sort(words):\n",
        "  p = re.compile('[^시군]+')\n",
        "  word = re.search(p,words)\n",
        "  return word.group()\n",
        "\n",
        "df4[\"city\"] = df4[\"city\"].apply(name_sort)"
      ]
    },
    {
      "cell_type": "code",
      "execution_count": 66,
      "metadata": {
        "id": "QuyWFOs1R7yP"
      },
      "outputs": [],
      "source": [
        "# \\t 도 제거\n",
        "def name_sort2(words):\n",
        "  p = re.compile('[^\\t]+')\n",
        "  word = re.search(p,words)\n",
        "  return word.group()\n",
        "\n",
        "df4[\"city\"] = df4[\"city\"].apply(name_sort2)"
      ]
    },
    {
      "cell_type": "code",
      "execution_count": 67,
      "metadata": {
        "colab": {
          "base_uri": "https://localhost:8080/"
        },
        "id": "szJvb99ySEPR",
        "outputId": "97ca859c-e684-45b0-f3d0-488abdd6cedf"
      },
      "outputs": [
        {
          "data": {
            "text/plain": [
              "array(['미상', '서산', '신안', '진도', '청주', '제주', '남양주', '고양', '태백', '양주', '계양구',\n",
              "       '무안', '나주', '포천', '도봉구', '성남', '안성', '여주', '창원', '광주', '양평', '이천',\n",
              "       '구리', '파주', '가평', '영암', '고흥', '용인', '강동구', '예산', '평창', '당진', '의정부',\n",
              "       '밀양', '창녕', '광산구', '김해', '고성', '함안', '상주', '산', '완주', '임실', '전주',\n",
              "       '진주', '의령', '거제', '부여', '성주', '충주', '춘천', '서천', '강서구', '금산', '남구',\n",
              "       '하동', '청도', '해남', '합천', '장성', '김천', '여수', '산청', '대구', '고창', '사천',\n",
              "       '담양', '강릉', '문경', '인제', '보성', '영주', '정선', '구미', '서울', '홍천', '제천',\n",
              "       '장흥', '태안', '남원', '부안', '곡성', '횡성', '고령', '양구', '중구', '김제', '논산',\n",
              "       '칠곡', '영덕', '하남', '음성', '광명', '양천구', '익산', '진천', '송파구', '함양', '거창',\n",
              "       '북구', '공주', '홍성', '순창', '보령', '청양', '이집트', '남해', '안산', '광양', '화성',\n",
              "       '베트남', '계룡', '진안', '미국', '영동', '화천', '평택', '철원', '부산', '화순', '정읍',\n",
              "       '경주', '순천', '장수', '강진', '속초', '서구', '세종', '무주', '아산', '구례', '함평',\n",
              "       '괴산', '김포', '완도', '동대문구', '의왕', '경산', '영광', '영양', '중랑구', '대만',\n",
              "       '포항', '흥', '강화', '천안', '원주', '논', '중국', '멕', '필리핀', '의성', '캄보디아',\n",
              "       '페루', '태국', '칠레', '영월', '안동', '신', '진', '남동구', '울산', '양산', '인천',\n",
              "       '부평구', '미추홀', '영천', '과테말라', '에콰도르', '코스타리카', '콜롬비아', '마산', '미추홀구',\n",
              "       '연기', '오산', '수원', '뉴질랜드', '통가', '청원', '호주', '양양', '연천', '보은', '증평',\n",
              "       '동해', '부', '미금', '은평구', '대전', '청송', '봉화', '옥천', '예천', '부천', '목포',\n",
              "       '의', '함', '아르헨티나', '스페인', '이탈리아', '그리스', '장항(서천)', '통영', '순천(광양)',\n",
              "       '고흥(나로도)', '러', '삼천포', '마산(고성,진해)', '노르웨이', '캐나다', '기타'],\n",
              "      dtype=object)"
            ]
          },
          "execution_count": 67,
          "metadata": {},
          "output_type": "execute_result"
        }
      ],
      "source": [
        "df4['city'].unique()"
      ]
    },
    {
      "cell_type": "code",
      "execution_count": 75,
      "metadata": {
        "id": "MrIoC_BDQ_ic"
      },
      "outputs": [],
      "source": [
        "# 나머지 케이스 정리\n",
        "\n",
        "# 국내\n",
        "df4.loc[df4[\"city\"]==\"기타\",\"city\"] = \"미상\"\n",
        "## 일반시\n",
        "df4.loc[df4[\"city\"]==\"위\",\"city\"] = \"군위\"\n",
        "df4.loc[df4[\"city\"]==\"고흥(나로도)\",\"city\"] = \"고흥\"\n",
        "df4.loc[df4[\"city\"]==\"산\",\"city\"] = \"군산\"\n",
        "df4.loc[df4[\"city\"]==\"장항(서천)\",\"city\"] = \"서천\"\n",
        "df4.loc[df4[\"city\"]==\"삼천포\",\"city\"] = \"사천\"\n",
        "df4.loc[df4[\"city\"]==\"삼천포\",\"city\"] = \"사천\"\n",
        "df4.loc[df4[\"city\"]==\"순천(광양)\",\"city\"] = \"순천\"\n",
        "df4.loc[df4[\"city\"]==\"대천(보령)\",\"city\"] = \"보령\"\n",
        "df4.loc[df4[\"city\"]==\"대천(보령)\",\"city\"] = \"보령\"\n",
        "df4.loc[df4[\"city\"]==\"화성(평택)\",\"city\"] = \"화성\"\n",
        "df4.loc[df4[\"city\"]==\"흥\",\"city\"] = \"시흥\"\n",
        "df4.loc[df4[\"city\"]==\"목포(무안)\",\"city\"] = \"목포\"\n",
        "df4.loc[df4[\"city\"]==\"목포(무안)\",\"state\"] = \"전남\"\n",
        "df4.loc[df4[\"city\"]==\"보성(벌교)\",\"city\"] = \"보성\"\n",
        "df4.loc[df4[\"city\"]==\"울진(후포)\",\"city\"] = \"울진\"\n",
        "df4.loc[df4[\"city\"]==\"논\",\"city\"] = \"논산\"\n",
        "df4.loc[df4[\"city\"]==\"논\",\"city\"] = \"논산\"\n",
        "df4.loc[df4[\"city\"]==\"순\",\"city\"] = \"순창\"\n",
        "df4.loc[df4[\"city\"]==\"익\",\"city\"] = \"익산\"\n",
        "df4.loc[df4[\"city\"]==\"미금\",\"city\"] = \"성남\"\n",
        "df4.loc[df4[\"city\"]==\"주문진\",\"city\"] = \"강릉\"\n",
        "df4.loc[df4[\"city\"]==\"거제(장승포)\",\"city\"] = \"거제\"\n",
        "df4.loc[(df4[\"city\"]==\"완\")&(df4[\"state\"]==\"전북\"),\"city\"] = \"완주\"\n",
        "df4.loc[(df4[\"state\"]==\"전북\")&(df4[\"city\"]==\"남\"),\"city\"] = \"남원\"\n",
        "df4.loc[(df4['prd']==\"호박\") & (df4['state']=='전북'),\"city\"] = \"전주\"\n",
        "df4.loc[(df4[\"state\"]==\"전남\")&(df4[\"city\"]==\"신\"),\"city\"] = \"신안\"\n",
        "df4.loc[(df4[\"state\"]==\"전북\")&(df4[\"city\"]==\"장\"),\"city\"] = \"장수\"\n",
        "df4.loc[(df4[\"state\"]==\"전남\")&(df4[\"city\"]==\"진\"),\"city\"] = \"진도\"\n",
        "df4.loc[(df4[\"state\"]==\"충남\")&(df4[\"city\"]==\"부\"),\"city\"] = \"부여\"\n",
        "df4.loc[(df4[\"state\"]==\"경남\")&(df4[\"city\"]==\"의\"),\"city\"] = \"의령\"\n",
        "df4.loc[(df4[\"state\"]==\"전남\")&(df4[\"city\"]==\"함\"),\"city\"] = \"함평\"\n",
        "## 광역시\n",
        "df4.loc[df4[\"city\"]==\"강서구\",\"city\"] = \"서울\"\n",
        "df4.loc[df4[\"city\"]==\"은평구\",\"city\"] = \"서울\"\n",
        "df4.loc[df4[\"city\"]==\"강동구\",\"city\"] = \"서울\"\n",
        "df4.loc[df4[\"city\"]==\"마포구\",\"city\"] = \"서울\"\n",
        "df4.loc[df4[\"city\"]==\"중구\",\"city\"] = \"서울\"\n",
        "df4.loc[df4[\"city\"]==\"송파구\",\"city\"] = \"서울\"\n",
        "df4.loc[df4[\"city\"]==\"도봉구\",\"city\"] = \"서울\"\n",
        "df4.loc[df4[\"city\"]==\"중랑구\",\"city\"] = \"서울\"\n",
        "df4.loc[df4[\"city\"]==\"양천구\",\"city\"] = \"서울\"\n",
        "df4.loc[df4[\"city\"]==\"성동구\",\"city\"] = \"서울\"\n",
        "df4.loc[df4[\"city\"]==\"강남구\",\"city\"] = \"서울\"\n",
        "df4.loc[df4[\"city\"]==\"동대문구\",\"city\"] = \"서울\"\n",
        "df4.loc[df4[\"city\"]==\"영등포구\",\"city\"] = \"서울\"\n",
        "df4.loc[df4[\"city\"]==\"영등포\",\"city\"] = \"서울\"\n",
        "df4.loc[df4[\"city\"]==\"서초구\",\"city\"] = \"서울\"\n",
        "df4.loc[df4[\"city\"]==\"구로구\",\"city\"] = \"서울\"\n",
        "df4.loc[df4[\"city\"]==\"동대문\",\"city\"] = \"서울\"\n",
        "df4.loc[df4[\"city\"]==\"금천구\",\"city\"] = \"서울\"\n",
        "df4.loc[df4[\"city\"]==\"동작구\",\"city\"] = \"서울\"\n",
        "df4.loc[df4[\"city\"]==\"용산구\",\"city\"] = \"서울\"\n",
        "df4.loc[df4[\"city\"]==\"광진구\",\"city\"] = \"서울\"\n",
        "df4.loc[df4[\"city\"]==\"종로구\",\"city\"] = \"서울\"\n",
        "\n",
        "df4.loc[df4[\"city\"]==\"광산구\",\"city\"] = \"광주\"\n",
        "df4.loc[(df4[\"state\"]==\"광주\")&(df4[\"city\"]==\"남구\"),\"city\"] = \"광주\"\n",
        "df4.loc[(df4[\"state\"]==\"광주\")&(df4[\"city\"]==\"북구\"),\"city\"] = \"광주\"\n",
        "df4.loc[(df4[\"state\"]==\"광주\")&(df4[\"city\"]==\"서구\"),\"city\"] = \"광주\"\n",
        "df4.loc[df4[\"city\"]==\"동구\",\"city\"] = \"광주\"\n",
        "df4.loc[(df4[\"state\"]==\"인천\")&(df4[\"city\"]==\"남구\"),\"city\"] = \"인천\"\n",
        "df4.loc[(df4[\"state\"]==\"인천\")&(df4[\"city\"]==\"서구\"),\"city\"] = \"인천\"\n",
        "df4.loc[df4[\"city\"]==\"미추홀\",\"city\"] = \"인천\"\n",
        "df4.loc[df4[\"city\"]==\"부평구\",\"city\"] = \"인천\"\n",
        "df4.loc[df4[\"city\"]==\"남동구\",\"city\"] = \"인천\"\n",
        "df4.loc[df4[\"city\"]==\"미추홀구\",\"city\"] = \"인천\"\n",
        "df4.loc[df4[\"city\"]==\"계양구\",\"city\"] = \"인천\"\n",
        "df4.loc[df4[\"city\"]==\"마산(고성,진해)\",\"city\"] = \"창원\"\n",
        "df4.loc[(df4[\"state\"]==\"부산\")&(df4[\"city\"]==\"북구\"),\"city\"] = \"부산\"\n",
        "df4.loc[df4[\"city\"]==\"오포\",\"city\"] = \"부산\"\n",
        "df4.loc[df4[\"city\"]==\"부산진\",\"city\"] = \"부산\"\n",
        "df4.loc[df4[\"city\"]==\"사상구\",\"city\"] = \"부산\"\n",
        "df4.loc[df4[\"city\"]==\"부산진구\",\"city\"] = \"부산\"\n",
        "df4.loc[df4[\"city\"]==\"북제주\",\"city\"] = \"제주\"\n",
        "df4.loc[df4[\"city\"]==\"남제주\",\"city\"] = \"제주\"\n",
        "\n",
        "# 해외\n",
        "## 아시아\n",
        "df4.loc[df4[\"city\"]==\"러\",\"city\"] = \"러시아\"\n",
        "df4.loc[df4[\"city\"]==\"말레이지아\",\"city\"] = \"말레이시아\"\n",
        "df4.loc[df4[\"city\"]==\"타이\",\"city\"] = \"태국\"\n",
        "df4.loc[df4[\"city\"]==\"인도네\",\"city\"] = \"인도네시아\"\n",
        "df4.loc[df4[\"city\"]==\"사우디\",\"city\"] = \"사우디아라비아\"\n",
        "## 아메리카\n",
        "df4.loc[df4[\"city\"]==\"멕\",\"city\"] = \"멕시코\"\n",
        "## 아프리카\n",
        "df4.loc[df4[\"city\"]==\"남아공산\",\"city\"] = \"남아공\"\n",
        "## 유럽\n",
        "## 오세아니아"
      ]
    },
    {
      "cell_type": "code",
      "execution_count": 76,
      "metadata": {},
      "outputs": [
        {
          "data": {
            "text/html": [
              "<div>\n",
              "<style scoped>\n",
              "    .dataframe tbody tr th:only-of-type {\n",
              "        vertical-align: middle;\n",
              "    }\n",
              "\n",
              "    .dataframe tbody tr th {\n",
              "        vertical-align: top;\n",
              "    }\n",
              "\n",
              "    .dataframe thead th {\n",
              "        text-align: right;\n",
              "    }\n",
              "</style>\n",
              "<table border=\"1\" class=\"dataframe\">\n",
              "  <thead>\n",
              "    <tr style=\"text-align: right;\">\n",
              "      <th></th>\n",
              "      <th>prd</th>\n",
              "      <th>scale</th>\n",
              "      <th>price</th>\n",
              "      <th>origin</th>\n",
              "      <th>eco</th>\n",
              "      <th>reg_date</th>\n",
              "      <th>new_class</th>\n",
              "      <th>price_kg</th>\n",
              "      <th>state</th>\n",
              "      <th>city</th>\n",
              "    </tr>\n",
              "  </thead>\n",
              "  <tbody>\n",
              "  </tbody>\n",
              "</table>\n",
              "</div>"
            ],
            "text/plain": [
              "Empty DataFrame\n",
              "Columns: [prd, scale, price, origin, eco, reg_date, new_class, price_kg, state, city]\n",
              "Index: []"
            ]
          },
          "execution_count": 76,
          "metadata": {},
          "output_type": "execute_result"
        }
      ],
      "source": [
        "df4[df4['city']=='함']"
      ]
    },
    {
      "cell_type": "code",
      "execution_count": 77,
      "metadata": {},
      "outputs": [
        {
          "data": {
            "text/plain": [
              "array(['그리스'], dtype=object)"
            ]
          },
          "execution_count": 77,
          "metadata": {},
          "output_type": "execute_result"
        }
      ],
      "source": [
        "# 기존 city 리스트와 비교\n",
        "ex_city = pd.read_csv(\"../cities.csv\")\n",
        "df4[~df4['city'].isin(ex_city['city'])]['city'].unique()"
      ]
    },
    {
      "cell_type": "code",
      "execution_count": 78,
      "metadata": {},
      "outputs": [
        {
          "name": "stderr",
          "output_type": "stream",
          "text": [
            "/var/folders/nq/s4zx76p53d11lnr0t1dxpxh00000gn/T/ipykernel_3570/1856950528.py:3: FutureWarning: The frame.append method is deprecated and will be removed from pandas in a future version. Use pandas.concat instead.\n",
            "  cities = ex_city.append(new_city,ignore_index=True)\n"
          ]
        }
      ],
      "source": [
        "# 리스트 최신화\n",
        "new_city = pd.DataFrame(df4['city'].unique(),columns=['city'])\n",
        "cities = ex_city.append(new_city,ignore_index=True)"
      ]
    },
    {
      "cell_type": "code",
      "execution_count": 79,
      "metadata": {},
      "outputs": [],
      "source": [
        "cities.drop(columns=['Unnamed: 0'],inplace=True)\n",
        "cities.drop_duplicates(inplace=True)\n",
        "cities.reset_index(inplace=True,drop=True)"
      ]
    },
    {
      "cell_type": "code",
      "execution_count": 80,
      "metadata": {},
      "outputs": [],
      "source": [
        "cities.to_csv('../cities.csv')"
      ]
    },
    {
      "cell_type": "code",
      "execution_count": 81,
      "metadata": {
        "id": "vi6fJirdV7Gz"
      },
      "outputs": [],
      "source": [
        "# 처리 완료하였으니 df4는 백업으로 두고 df5 활용\n",
        "df5 = df4.drop(columns='origin')"
      ]
    },
    {
      "cell_type": "markdown",
      "metadata": {
        "id": "CoWdniywxHwf"
      },
      "source": [
        "# 전처리 결과"
      ]
    },
    {
      "cell_type": "markdown",
      "metadata": {
        "id": "t709mbs6xMkS"
      },
      "source": [
        "# 파일 저장"
      ]
    },
    {
      "cell_type": "code",
      "execution_count": 82,
      "metadata": {
        "id": "tEfggl4M5rFG"
      },
      "outputs": [],
      "source": [
        "df5.to_csv('../data_proceed/202202_proceed.csv')"
      ]
    }
  ],
  "metadata": {
    "colab": {
      "collapsed_sections": [],
      "name": "pre_processing_2022_06.ipynb",
      "provenance": [],
      "toc_visible": true
    },
    "kernelspec": {
      "display_name": "Python 3.8.13 ('yds')",
      "language": "python",
      "name": "python3"
    },
    "language_info": {
      "codemirror_mode": {
        "name": "ipython",
        "version": 3
      },
      "file_extension": ".py",
      "mimetype": "text/x-python",
      "name": "python",
      "nbconvert_exporter": "python",
      "pygments_lexer": "ipython3",
      "version": "3.8.13"
    },
    "vscode": {
      "interpreter": {
        "hash": "edd2e1eeac16ba0124adb27271db416cf5b91db76e0734afe4505ea0738c76e5"
      }
    }
  },
  "nbformat": 4,
  "nbformat_minor": 0
}
