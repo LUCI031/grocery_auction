{
  "cells": [
    {
      "cell_type": "markdown",
      "metadata": {
        "id": "uhJXKN_71HKz"
      },
      "source": [
        "# 개요"
      ]
    },
    {
      "cell_type": "markdown",
      "metadata": {
        "id": "T02KSzGz1iMO"
      },
      "source": [
        "# Prepare"
      ]
    },
    {
      "cell_type": "markdown",
      "metadata": {
        "id": "bfqE9z4W1JQh"
      },
      "source": [
        "# 1. 초기 세팅"
      ]
    },
    {
      "cell_type": "markdown",
      "metadata": {
        "id": "fG4uSp2B1Ph7"
      },
      "source": [
        "## Library & data load"
      ]
    },
    {
      "cell_type": "code",
      "execution_count": 152,
      "metadata": {
        "id": "c2zXAOvOq96i"
      },
      "outputs": [],
      "source": [
        "import pandas as pd\n",
        "import numpy as np\n",
        "import matplotlib.pyplot as plt\n",
        "import seaborn as sns\n",
        "import re"
      ]
    },
    {
      "cell_type": "code",
      "execution_count": 153,
      "metadata": {
        "id": "N6-se2jYrHsw"
      },
      "outputs": [],
      "source": [
        "# 처리용 df와 오리지널 버전 남겨놓음\n",
        "df = pd.read_csv(\"/Users/luci031/Downloads/auction/data_origin/auction_202105.csv\",encoding='euc_kr')\n",
        "org_df = pd.read_csv(\"/Users/luci031/Downloads/auction/data_origin/auction_202105.csv\",encoding='euc_kr')"
      ]
    },
    {
      "cell_type": "markdown",
      "metadata": {
        "id": "yINECbV-4eRb"
      },
      "source": [
        "# Pre-Processing"
      ]
    },
    {
      "cell_type": "markdown",
      "metadata": {
        "id": "OJuFufVP2War"
      },
      "source": [
        "## Basic info"
      ]
    },
    {
      "cell_type": "code",
      "execution_count": 154,
      "metadata": {
        "colab": {
          "base_uri": "https://localhost:8080/",
          "height": 206
        },
        "id": "EE8feVlFr0To",
        "outputId": "cb918bf3-bd0b-4f09-fd92-73d8670996c9"
      },
      "outputs": [
        {
          "data": {
            "text/html": [
              "<div>\n",
              "<style scoped>\n",
              "    .dataframe tbody tr th:only-of-type {\n",
              "        vertical-align: middle;\n",
              "    }\n",
              "\n",
              "    .dataframe tbody tr th {\n",
              "        vertical-align: top;\n",
              "    }\n",
              "\n",
              "    .dataframe thead th {\n",
              "        text-align: right;\n",
              "    }\n",
              "</style>\n",
              "<table border=\"1\" class=\"dataframe\">\n",
              "  <thead>\n",
              "    <tr style=\"text-align: right;\">\n",
              "      <th></th>\n",
              "      <th>품목명</th>\n",
              "      <th>단위</th>\n",
              "      <th>등급</th>\n",
              "      <th>가격</th>\n",
              "      <th>산지</th>\n",
              "      <th>친환경구분</th>\n",
              "      <th>입력일</th>\n",
              "    </tr>\n",
              "  </thead>\n",
              "  <tbody>\n",
              "    <tr>\n",
              "      <th>0</th>\n",
              "      <td>[오이]백다다기</td>\n",
              "      <td>8kg</td>\n",
              "      <td>특(1등)</td>\n",
              "      <td>10000</td>\n",
              "      <td>경기 양주시</td>\n",
              "      <td>일반</td>\n",
              "      <td>20210430</td>\n",
              "    </tr>\n",
              "    <tr>\n",
              "      <th>1</th>\n",
              "      <td>[오이]백다다기</td>\n",
              "      <td>8kg</td>\n",
              "      <td>특(1등)</td>\n",
              "      <td>11700</td>\n",
              "      <td>경기 양주시</td>\n",
              "      <td>일반</td>\n",
              "      <td>20210430</td>\n",
              "    </tr>\n",
              "    <tr>\n",
              "      <th>2</th>\n",
              "      <td>[오이]백다다기</td>\n",
              "      <td>18kg</td>\n",
              "      <td>특(1등)</td>\n",
              "      <td>28000</td>\n",
              "      <td>경북 상주시</td>\n",
              "      <td>일반</td>\n",
              "      <td>20210430</td>\n",
              "    </tr>\n",
              "    <tr>\n",
              "      <th>3</th>\n",
              "      <td>[오이]백다다기</td>\n",
              "      <td>18kg</td>\n",
              "      <td>특(1등)</td>\n",
              "      <td>20000</td>\n",
              "      <td>경북 상주시</td>\n",
              "      <td>일반</td>\n",
              "      <td>20210430</td>\n",
              "    </tr>\n",
              "    <tr>\n",
              "      <th>4</th>\n",
              "      <td>[오이]백다다기</td>\n",
              "      <td>8kg</td>\n",
              "      <td>특(1등)</td>\n",
              "      <td>13000</td>\n",
              "      <td>충남 천안시</td>\n",
              "      <td>일반</td>\n",
              "      <td>20210430</td>\n",
              "    </tr>\n",
              "  </tbody>\n",
              "</table>\n",
              "</div>"
            ],
            "text/plain": [
              "        품목명    단위     등급     가격      산지 친환경구분       입력일\n",
              "0  [오이]백다다기   8kg  특(1등)  10000  경기 양주시    일반  20210430\n",
              "1  [오이]백다다기   8kg  특(1등)  11700  경기 양주시    일반  20210430\n",
              "2  [오이]백다다기  18kg  특(1등)  28000  경북 상주시    일반  20210430\n",
              "3  [오이]백다다기  18kg  특(1등)  20000  경북 상주시    일반  20210430\n",
              "4  [오이]백다다기   8kg  특(1등)  13000  충남 천안시    일반  20210430"
            ]
          },
          "execution_count": 154,
          "metadata": {},
          "output_type": "execute_result"
        }
      ],
      "source": [
        "df.head()"
      ]
    },
    {
      "cell_type": "code",
      "execution_count": 155,
      "metadata": {
        "colab": {
          "base_uri": "https://localhost:8080/"
        },
        "id": "Jf03xK1D1p5Z",
        "outputId": "7cc5158f-76c4-4ca6-e80a-cd60949c1049"
      },
      "outputs": [
        {
          "name": "stdout",
          "output_type": "stream",
          "text": [
            "<class 'pandas.core.frame.DataFrame'>\n",
            "RangeIndex: 454109 entries, 0 to 454108\n",
            "Data columns (total 7 columns):\n",
            " #   Column  Non-Null Count   Dtype \n",
            "---  ------  --------------   ----- \n",
            " 0   품목명     454109 non-null  object\n",
            " 1   단위      454109 non-null  object\n",
            " 2   등급      454109 non-null  object\n",
            " 3   가격      454109 non-null  int64 \n",
            " 4   산지      451364 non-null  object\n",
            " 5   친환경구분   454109 non-null  object\n",
            " 6   입력일     454109 non-null  int64 \n",
            "dtypes: int64(2), object(5)\n",
            "memory usage: 24.3+ MB\n"
          ]
        }
      ],
      "source": [
        "df.info()"
      ]
    },
    {
      "cell_type": "code",
      "execution_count": 156,
      "metadata": {
        "colab": {
          "base_uri": "https://localhost:8080/"
        },
        "id": "R3-Xng6M1om2",
        "outputId": "0071ee93-3ebe-436d-910b-aa30c7356468"
      },
      "outputs": [
        {
          "data": {
            "text/plain": [
              "품목명         0\n",
              "단위          0\n",
              "등급          0\n",
              "가격          0\n",
              "산지       2745\n",
              "친환경구분       0\n",
              "입력일         0\n",
              "dtype: int64"
            ]
          },
          "execution_count": 156,
          "metadata": {},
          "output_type": "execute_result"
        }
      ],
      "source": [
        "# 산지 제외하고는 결측치 없는 것으로 확인\n",
        "df.isnull().sum()"
      ]
    },
    {
      "cell_type": "markdown",
      "metadata": {
        "id": "KiwEMLgv-7KL"
      },
      "source": [
        "- 결측치 처리"
      ]
    },
    {
      "cell_type": "code",
      "execution_count": 157,
      "metadata": {
        "id": "y52OV6yt-60b"
      },
      "outputs": [],
      "source": [
        "###\n",
        "# 양이 많지 않으므로 결측치 제거\n",
        "df = df.dropna(axis=0)"
      ]
    },
    {
      "cell_type": "markdown",
      "metadata": {
        "id": "tWVdZUXv7njQ"
      },
      "source": [
        "- 영문명으로 전환"
      ]
    },
    {
      "cell_type": "code",
      "execution_count": 158,
      "metadata": {
        "id": "Cpc_wblh4oLI"
      },
      "outputs": [],
      "source": [
        "df = df.rename(columns = {'품목명':'prd',\n",
        "                          '단위':'scale','등급':'class',\n",
        "                          '가격':'price',\n",
        "                          '산지':'origin',\n",
        "                          '친환경구분':'eco',\n",
        "                          '입력일':'reg_date'})"
      ]
    },
    {
      "cell_type": "markdown",
      "metadata": {
        "id": "6raN15sn8XwE"
      },
      "source": [
        "## column 별 정보"
      ]
    },
    {
      "cell_type": "markdown",
      "metadata": {
        "id": "9blCj1BqBKl9"
      },
      "source": [
        "### class"
      ]
    },
    {
      "cell_type": "code",
      "execution_count": 159,
      "metadata": {
        "colab": {
          "base_uri": "https://localhost:8080/"
        },
        "id": "trRf-DfuBNBL",
        "outputId": "017ef00e-f7ca-476c-e44a-a847d4881695"
      },
      "outputs": [
        {
          "data": {
            "text/plain": [
              "Index(['특(1등)', '상(2등)', '보통(3등)', '9등(등외)', '없음', '5등', '4등', '6등', '7등',\n",
              "       '8등'],\n",
              "      dtype='object')"
            ]
          },
          "execution_count": 159,
          "metadata": {},
          "output_type": "execute_result"
        }
      ],
      "source": [
        "# 이름 모두 영어로 변경\n",
        "# 9등과 없음 모두 9로 변경\n",
        "df['class'].value_counts().index"
      ]
    },
    {
      "cell_type": "code",
      "execution_count": 160,
      "metadata": {
        "id": "Y9aTlhUSBfU9"
      },
      "outputs": [],
      "source": [
        "df111 = pd.DataFrame([['특(1등)', 1], ['상(2등)',2], ['보통(3등)',3], ['9등(등외)',9], ['없음',9], ['5등',5], ['4등',4], ['6등',6], ['7등',7],['8등',8]],columns=['class','new_class'])"
      ]
    },
    {
      "cell_type": "code",
      "execution_count": 161,
      "metadata": {
        "id": "N4LG6ClLC4II"
      },
      "outputs": [],
      "source": [
        "df2 = df.merge(df111)\n",
        "df2 = df2.drop(columns='class')"
      ]
    },
    {
      "cell_type": "code",
      "execution_count": 162,
      "metadata": {
        "colab": {
          "base_uri": "https://localhost:8080/",
          "height": 423
        },
        "id": "w_BncYpbDQGg",
        "outputId": "6482608e-5fcd-4b4d-b921-e720dec1a560"
      },
      "outputs": [
        {
          "data": {
            "text/html": [
              "<div>\n",
              "<style scoped>\n",
              "    .dataframe tbody tr th:only-of-type {\n",
              "        vertical-align: middle;\n",
              "    }\n",
              "\n",
              "    .dataframe tbody tr th {\n",
              "        vertical-align: top;\n",
              "    }\n",
              "\n",
              "    .dataframe thead th {\n",
              "        text-align: right;\n",
              "    }\n",
              "</style>\n",
              "<table border=\"1\" class=\"dataframe\">\n",
              "  <thead>\n",
              "    <tr style=\"text-align: right;\">\n",
              "      <th></th>\n",
              "      <th>prd</th>\n",
              "      <th>scale</th>\n",
              "      <th>price</th>\n",
              "      <th>origin</th>\n",
              "      <th>eco</th>\n",
              "      <th>reg_date</th>\n",
              "      <th>new_class</th>\n",
              "    </tr>\n",
              "  </thead>\n",
              "  <tbody>\n",
              "    <tr>\n",
              "      <th>0</th>\n",
              "      <td>[오이]백다다기</td>\n",
              "      <td>8kg</td>\n",
              "      <td>10000</td>\n",
              "      <td>경기 양주시</td>\n",
              "      <td>일반</td>\n",
              "      <td>20210430</td>\n",
              "      <td>1</td>\n",
              "    </tr>\n",
              "    <tr>\n",
              "      <th>1</th>\n",
              "      <td>[오이]백다다기</td>\n",
              "      <td>8kg</td>\n",
              "      <td>11700</td>\n",
              "      <td>경기 양주시</td>\n",
              "      <td>일반</td>\n",
              "      <td>20210430</td>\n",
              "      <td>1</td>\n",
              "    </tr>\n",
              "    <tr>\n",
              "      <th>2</th>\n",
              "      <td>[오이]백다다기</td>\n",
              "      <td>18kg</td>\n",
              "      <td>28000</td>\n",
              "      <td>경북 상주시</td>\n",
              "      <td>일반</td>\n",
              "      <td>20210430</td>\n",
              "      <td>1</td>\n",
              "    </tr>\n",
              "    <tr>\n",
              "      <th>3</th>\n",
              "      <td>[오이]백다다기</td>\n",
              "      <td>18kg</td>\n",
              "      <td>20000</td>\n",
              "      <td>경북 상주시</td>\n",
              "      <td>일반</td>\n",
              "      <td>20210430</td>\n",
              "      <td>1</td>\n",
              "    </tr>\n",
              "    <tr>\n",
              "      <th>4</th>\n",
              "      <td>[오이]백다다기</td>\n",
              "      <td>8kg</td>\n",
              "      <td>13000</td>\n",
              "      <td>충남 천안시</td>\n",
              "      <td>일반</td>\n",
              "      <td>20210430</td>\n",
              "      <td>1</td>\n",
              "    </tr>\n",
              "    <tr>\n",
              "      <th>...</th>\n",
              "      <td>...</td>\n",
              "      <td>...</td>\n",
              "      <td>...</td>\n",
              "      <td>...</td>\n",
              "      <td>...</td>\n",
              "      <td>...</td>\n",
              "      <td>...</td>\n",
              "    </tr>\n",
              "    <tr>\n",
              "      <th>451359</th>\n",
              "      <td>[양파]양파(일반)</td>\n",
              "      <td>15kg</td>\n",
              "      <td>7700</td>\n",
              "      <td>전남 무안군</td>\n",
              "      <td>일반</td>\n",
              "      <td>20210529</td>\n",
              "      <td>8</td>\n",
              "    </tr>\n",
              "    <tr>\n",
              "      <th>451360</th>\n",
              "      <td>[토마토]대저토마토</td>\n",
              "      <td>2.5kg</td>\n",
              "      <td>4000</td>\n",
              "      <td>경남 김해시</td>\n",
              "      <td>일반</td>\n",
              "      <td>20210529</td>\n",
              "      <td>8</td>\n",
              "    </tr>\n",
              "    <tr>\n",
              "      <th>451361</th>\n",
              "      <td>[토마토]대저토마토</td>\n",
              "      <td>2.5kg</td>\n",
              "      <td>5000</td>\n",
              "      <td>경남 김해시</td>\n",
              "      <td>일반</td>\n",
              "      <td>20210529</td>\n",
              "      <td>8</td>\n",
              "    </tr>\n",
              "    <tr>\n",
              "      <th>451362</th>\n",
              "      <td>[기타근채류]기타근채류(기타)</td>\n",
              "      <td>15kg</td>\n",
              "      <td>7300</td>\n",
              "      <td>경북</td>\n",
              "      <td>일반</td>\n",
              "      <td>20210531</td>\n",
              "      <td>8</td>\n",
              "    </tr>\n",
              "    <tr>\n",
              "      <th>451363</th>\n",
              "      <td>[기타근채류]기타근채류(기타)</td>\n",
              "      <td>15kg</td>\n",
              "      <td>7000</td>\n",
              "      <td>경북</td>\n",
              "      <td>일반</td>\n",
              "      <td>20210531</td>\n",
              "      <td>8</td>\n",
              "    </tr>\n",
              "  </tbody>\n",
              "</table>\n",
              "<p>451364 rows × 7 columns</p>\n",
              "</div>"
            ],
            "text/plain": [
              "                     prd  scale  price  origin eco  reg_date  new_class\n",
              "0               [오이]백다다기    8kg  10000  경기 양주시  일반  20210430          1\n",
              "1               [오이]백다다기    8kg  11700  경기 양주시  일반  20210430          1\n",
              "2               [오이]백다다기   18kg  28000  경북 상주시  일반  20210430          1\n",
              "3               [오이]백다다기   18kg  20000  경북 상주시  일반  20210430          1\n",
              "4               [오이]백다다기    8kg  13000  충남 천안시  일반  20210430          1\n",
              "...                  ...    ...    ...     ...  ..       ...        ...\n",
              "451359        [양파]양파(일반)   15kg   7700  전남 무안군  일반  20210529          8\n",
              "451360        [토마토]대저토마토  2.5kg   4000  경남 김해시  일반  20210529          8\n",
              "451361        [토마토]대저토마토  2.5kg   5000  경남 김해시  일반  20210529          8\n",
              "451362  [기타근채류]기타근채류(기타)   15kg   7300      경북  일반  20210531          8\n",
              "451363  [기타근채류]기타근채류(기타)   15kg   7000      경북  일반  20210531          8\n",
              "\n",
              "[451364 rows x 7 columns]"
            ]
          },
          "execution_count": 162,
          "metadata": {},
          "output_type": "execute_result"
        }
      ],
      "source": [
        "df2"
      ]
    },
    {
      "cell_type": "markdown",
      "metadata": {
        "id": "6QhhnXfKWiQL"
      },
      "source": [
        "### eco"
      ]
    },
    {
      "cell_type": "code",
      "execution_count": 163,
      "metadata": {
        "id": "XPNdAWmbWWjy"
      },
      "outputs": [],
      "source": [
        "# 영문명으로 전환\n",
        "# 전환기 -> 유기농 재배로 전환중\n",
        "df2.loc[df2[\"eco\"]==\"일반\",\"eco\"] = \"normal\"\n",
        "df2.loc[df2[\"eco\"]==\"우수농산물\",\"eco\"] = \"\bgood_prd\"\n",
        "df2.loc[df2[\"eco\"]==\"무농약\",\"eco\"] = \"\becofriendly\"\n",
        "df2.loc[df2[\"eco\"]==\"유기농\",\"eco\"] = \"organic\"\n",
        "df2.loc[df2[\"eco\"]==\"품질인증\",\"eco\"] = \"certified\"\n",
        "df2.loc[df2[\"eco\"]==\"전환기\",\"eco\"] = \"ing\""
      ]
    },
    {
      "cell_type": "code",
      "execution_count": 164,
      "metadata": {
        "colab": {
          "base_uri": "https://localhost:8080/",
          "height": 423
        },
        "id": "SFs64qIjYPqG",
        "outputId": "e1d18001-8e23-4db4-c367-d91e111bf6af"
      },
      "outputs": [
        {
          "data": {
            "text/html": [
              "<div>\n",
              "<style scoped>\n",
              "    .dataframe tbody tr th:only-of-type {\n",
              "        vertical-align: middle;\n",
              "    }\n",
              "\n",
              "    .dataframe tbody tr th {\n",
              "        vertical-align: top;\n",
              "    }\n",
              "\n",
              "    .dataframe thead th {\n",
              "        text-align: right;\n",
              "    }\n",
              "</style>\n",
              "<table border=\"1\" class=\"dataframe\">\n",
              "  <thead>\n",
              "    <tr style=\"text-align: right;\">\n",
              "      <th></th>\n",
              "      <th>prd</th>\n",
              "      <th>scale</th>\n",
              "      <th>price</th>\n",
              "      <th>origin</th>\n",
              "      <th>eco</th>\n",
              "      <th>reg_date</th>\n",
              "      <th>new_class</th>\n",
              "    </tr>\n",
              "  </thead>\n",
              "  <tbody>\n",
              "    <tr>\n",
              "      <th>0</th>\n",
              "      <td>[오이]백다다기</td>\n",
              "      <td>8kg</td>\n",
              "      <td>10000</td>\n",
              "      <td>경기 양주시</td>\n",
              "      <td>normal</td>\n",
              "      <td>20210430</td>\n",
              "      <td>1</td>\n",
              "    </tr>\n",
              "    <tr>\n",
              "      <th>1</th>\n",
              "      <td>[오이]백다다기</td>\n",
              "      <td>8kg</td>\n",
              "      <td>11700</td>\n",
              "      <td>경기 양주시</td>\n",
              "      <td>normal</td>\n",
              "      <td>20210430</td>\n",
              "      <td>1</td>\n",
              "    </tr>\n",
              "    <tr>\n",
              "      <th>2</th>\n",
              "      <td>[오이]백다다기</td>\n",
              "      <td>18kg</td>\n",
              "      <td>28000</td>\n",
              "      <td>경북 상주시</td>\n",
              "      <td>normal</td>\n",
              "      <td>20210430</td>\n",
              "      <td>1</td>\n",
              "    </tr>\n",
              "    <tr>\n",
              "      <th>3</th>\n",
              "      <td>[오이]백다다기</td>\n",
              "      <td>18kg</td>\n",
              "      <td>20000</td>\n",
              "      <td>경북 상주시</td>\n",
              "      <td>normal</td>\n",
              "      <td>20210430</td>\n",
              "      <td>1</td>\n",
              "    </tr>\n",
              "    <tr>\n",
              "      <th>4</th>\n",
              "      <td>[오이]백다다기</td>\n",
              "      <td>8kg</td>\n",
              "      <td>13000</td>\n",
              "      <td>충남 천안시</td>\n",
              "      <td>normal</td>\n",
              "      <td>20210430</td>\n",
              "      <td>1</td>\n",
              "    </tr>\n",
              "    <tr>\n",
              "      <th>...</th>\n",
              "      <td>...</td>\n",
              "      <td>...</td>\n",
              "      <td>...</td>\n",
              "      <td>...</td>\n",
              "      <td>...</td>\n",
              "      <td>...</td>\n",
              "      <td>...</td>\n",
              "    </tr>\n",
              "    <tr>\n",
              "      <th>451359</th>\n",
              "      <td>[양파]양파(일반)</td>\n",
              "      <td>15kg</td>\n",
              "      <td>7700</td>\n",
              "      <td>전남 무안군</td>\n",
              "      <td>normal</td>\n",
              "      <td>20210529</td>\n",
              "      <td>8</td>\n",
              "    </tr>\n",
              "    <tr>\n",
              "      <th>451360</th>\n",
              "      <td>[토마토]대저토마토</td>\n",
              "      <td>2.5kg</td>\n",
              "      <td>4000</td>\n",
              "      <td>경남 김해시</td>\n",
              "      <td>normal</td>\n",
              "      <td>20210529</td>\n",
              "      <td>8</td>\n",
              "    </tr>\n",
              "    <tr>\n",
              "      <th>451361</th>\n",
              "      <td>[토마토]대저토마토</td>\n",
              "      <td>2.5kg</td>\n",
              "      <td>5000</td>\n",
              "      <td>경남 김해시</td>\n",
              "      <td>normal</td>\n",
              "      <td>20210529</td>\n",
              "      <td>8</td>\n",
              "    </tr>\n",
              "    <tr>\n",
              "      <th>451362</th>\n",
              "      <td>[기타근채류]기타근채류(기타)</td>\n",
              "      <td>15kg</td>\n",
              "      <td>7300</td>\n",
              "      <td>경북</td>\n",
              "      <td>normal</td>\n",
              "      <td>20210531</td>\n",
              "      <td>8</td>\n",
              "    </tr>\n",
              "    <tr>\n",
              "      <th>451363</th>\n",
              "      <td>[기타근채류]기타근채류(기타)</td>\n",
              "      <td>15kg</td>\n",
              "      <td>7000</td>\n",
              "      <td>경북</td>\n",
              "      <td>normal</td>\n",
              "      <td>20210531</td>\n",
              "      <td>8</td>\n",
              "    </tr>\n",
              "  </tbody>\n",
              "</table>\n",
              "<p>451364 rows × 7 columns</p>\n",
              "</div>"
            ],
            "text/plain": [
              "                     prd  scale  price  origin     eco  reg_date  new_class\n",
              "0               [오이]백다다기    8kg  10000  경기 양주시  normal  20210430          1\n",
              "1               [오이]백다다기    8kg  11700  경기 양주시  normal  20210430          1\n",
              "2               [오이]백다다기   18kg  28000  경북 상주시  normal  20210430          1\n",
              "3               [오이]백다다기   18kg  20000  경북 상주시  normal  20210430          1\n",
              "4               [오이]백다다기    8kg  13000  충남 천안시  normal  20210430          1\n",
              "...                  ...    ...    ...     ...     ...       ...        ...\n",
              "451359        [양파]양파(일반)   15kg   7700  전남 무안군  normal  20210529          8\n",
              "451360        [토마토]대저토마토  2.5kg   4000  경남 김해시  normal  20210529          8\n",
              "451361        [토마토]대저토마토  2.5kg   5000  경남 김해시  normal  20210529          8\n",
              "451362  [기타근채류]기타근채류(기타)   15kg   7300      경북  normal  20210531          8\n",
              "451363  [기타근채류]기타근채류(기타)   15kg   7000      경북  normal  20210531          8\n",
              "\n",
              "[451364 rows x 7 columns]"
            ]
          },
          "execution_count": 164,
          "metadata": {},
          "output_type": "execute_result"
        }
      ],
      "source": [
        "df2"
      ]
    },
    {
      "cell_type": "markdown",
      "metadata": {
        "id": "ffhjwT57YNLh"
      },
      "source": [
        "### reg_date"
      ]
    },
    {
      "cell_type": "code",
      "execution_count": 165,
      "metadata": {
        "id": "0xEJoswCYUiR"
      },
      "outputs": [],
      "source": [
        "df2['reg_date'] = df2['reg_date'].astype('str')"
      ]
    },
    {
      "cell_type": "code",
      "execution_count": 166,
      "metadata": {
        "id": "7eMsOdHaqa7H"
      },
      "outputs": [],
      "source": [
        "df2['reg_date'] = pd.to_datetime(df2['reg_date'].astype('str'),format='%Y%m%d')"
      ]
    },
    {
      "cell_type": "code",
      "execution_count": 167,
      "metadata": {
        "colab": {
          "base_uri": "https://localhost:8080/",
          "height": 423
        },
        "id": "4OJlA07go6Vm",
        "outputId": "775611cd-2a30-4603-90e5-ac782aea1678"
      },
      "outputs": [
        {
          "data": {
            "text/html": [
              "<div>\n",
              "<style scoped>\n",
              "    .dataframe tbody tr th:only-of-type {\n",
              "        vertical-align: middle;\n",
              "    }\n",
              "\n",
              "    .dataframe tbody tr th {\n",
              "        vertical-align: top;\n",
              "    }\n",
              "\n",
              "    .dataframe thead th {\n",
              "        text-align: right;\n",
              "    }\n",
              "</style>\n",
              "<table border=\"1\" class=\"dataframe\">\n",
              "  <thead>\n",
              "    <tr style=\"text-align: right;\">\n",
              "      <th></th>\n",
              "      <th>prd</th>\n",
              "      <th>scale</th>\n",
              "      <th>price</th>\n",
              "      <th>origin</th>\n",
              "      <th>eco</th>\n",
              "      <th>reg_date</th>\n",
              "      <th>new_class</th>\n",
              "    </tr>\n",
              "  </thead>\n",
              "  <tbody>\n",
              "    <tr>\n",
              "      <th>0</th>\n",
              "      <td>[오이]백다다기</td>\n",
              "      <td>8kg</td>\n",
              "      <td>10000</td>\n",
              "      <td>경기 양주시</td>\n",
              "      <td>normal</td>\n",
              "      <td>2021-04-30</td>\n",
              "      <td>1</td>\n",
              "    </tr>\n",
              "    <tr>\n",
              "      <th>1</th>\n",
              "      <td>[오이]백다다기</td>\n",
              "      <td>8kg</td>\n",
              "      <td>11700</td>\n",
              "      <td>경기 양주시</td>\n",
              "      <td>normal</td>\n",
              "      <td>2021-04-30</td>\n",
              "      <td>1</td>\n",
              "    </tr>\n",
              "    <tr>\n",
              "      <th>2</th>\n",
              "      <td>[오이]백다다기</td>\n",
              "      <td>18kg</td>\n",
              "      <td>28000</td>\n",
              "      <td>경북 상주시</td>\n",
              "      <td>normal</td>\n",
              "      <td>2021-04-30</td>\n",
              "      <td>1</td>\n",
              "    </tr>\n",
              "    <tr>\n",
              "      <th>3</th>\n",
              "      <td>[오이]백다다기</td>\n",
              "      <td>18kg</td>\n",
              "      <td>20000</td>\n",
              "      <td>경북 상주시</td>\n",
              "      <td>normal</td>\n",
              "      <td>2021-04-30</td>\n",
              "      <td>1</td>\n",
              "    </tr>\n",
              "    <tr>\n",
              "      <th>4</th>\n",
              "      <td>[오이]백다다기</td>\n",
              "      <td>8kg</td>\n",
              "      <td>13000</td>\n",
              "      <td>충남 천안시</td>\n",
              "      <td>normal</td>\n",
              "      <td>2021-04-30</td>\n",
              "      <td>1</td>\n",
              "    </tr>\n",
              "    <tr>\n",
              "      <th>...</th>\n",
              "      <td>...</td>\n",
              "      <td>...</td>\n",
              "      <td>...</td>\n",
              "      <td>...</td>\n",
              "      <td>...</td>\n",
              "      <td>...</td>\n",
              "      <td>...</td>\n",
              "    </tr>\n",
              "    <tr>\n",
              "      <th>451359</th>\n",
              "      <td>[양파]양파(일반)</td>\n",
              "      <td>15kg</td>\n",
              "      <td>7700</td>\n",
              "      <td>전남 무안군</td>\n",
              "      <td>normal</td>\n",
              "      <td>2021-05-29</td>\n",
              "      <td>8</td>\n",
              "    </tr>\n",
              "    <tr>\n",
              "      <th>451360</th>\n",
              "      <td>[토마토]대저토마토</td>\n",
              "      <td>2.5kg</td>\n",
              "      <td>4000</td>\n",
              "      <td>경남 김해시</td>\n",
              "      <td>normal</td>\n",
              "      <td>2021-05-29</td>\n",
              "      <td>8</td>\n",
              "    </tr>\n",
              "    <tr>\n",
              "      <th>451361</th>\n",
              "      <td>[토마토]대저토마토</td>\n",
              "      <td>2.5kg</td>\n",
              "      <td>5000</td>\n",
              "      <td>경남 김해시</td>\n",
              "      <td>normal</td>\n",
              "      <td>2021-05-29</td>\n",
              "      <td>8</td>\n",
              "    </tr>\n",
              "    <tr>\n",
              "      <th>451362</th>\n",
              "      <td>[기타근채류]기타근채류(기타)</td>\n",
              "      <td>15kg</td>\n",
              "      <td>7300</td>\n",
              "      <td>경북</td>\n",
              "      <td>normal</td>\n",
              "      <td>2021-05-31</td>\n",
              "      <td>8</td>\n",
              "    </tr>\n",
              "    <tr>\n",
              "      <th>451363</th>\n",
              "      <td>[기타근채류]기타근채류(기타)</td>\n",
              "      <td>15kg</td>\n",
              "      <td>7000</td>\n",
              "      <td>경북</td>\n",
              "      <td>normal</td>\n",
              "      <td>2021-05-31</td>\n",
              "      <td>8</td>\n",
              "    </tr>\n",
              "  </tbody>\n",
              "</table>\n",
              "<p>451364 rows × 7 columns</p>\n",
              "</div>"
            ],
            "text/plain": [
              "                     prd  scale  price  origin     eco   reg_date  new_class\n",
              "0               [오이]백다다기    8kg  10000  경기 양주시  normal 2021-04-30          1\n",
              "1               [오이]백다다기    8kg  11700  경기 양주시  normal 2021-04-30          1\n",
              "2               [오이]백다다기   18kg  28000  경북 상주시  normal 2021-04-30          1\n",
              "3               [오이]백다다기   18kg  20000  경북 상주시  normal 2021-04-30          1\n",
              "4               [오이]백다다기    8kg  13000  충남 천안시  normal 2021-04-30          1\n",
              "...                  ...    ...    ...     ...     ...        ...        ...\n",
              "451359        [양파]양파(일반)   15kg   7700  전남 무안군  normal 2021-05-29          8\n",
              "451360        [토마토]대저토마토  2.5kg   4000  경남 김해시  normal 2021-05-29          8\n",
              "451361        [토마토]대저토마토  2.5kg   5000  경남 김해시  normal 2021-05-29          8\n",
              "451362  [기타근채류]기타근채류(기타)   15kg   7300      경북  normal 2021-05-31          8\n",
              "451363  [기타근채류]기타근채류(기타)   15kg   7000      경북  normal 2021-05-31          8\n",
              "\n",
              "[451364 rows x 7 columns]"
            ]
          },
          "execution_count": 167,
          "metadata": {},
          "output_type": "execute_result"
        }
      ],
      "source": [
        "df2"
      ]
    },
    {
      "cell_type": "markdown",
      "metadata": {
        "id": "VN8Eana_Dbbl"
      },
      "source": [
        "### price"
      ]
    },
    {
      "cell_type": "code",
      "execution_count": 168,
      "metadata": {
        "id": "oZbejw0vewmJ"
      },
      "outputs": [],
      "source": [
        "# 계산을 위해 scale 값 미리 변경\n",
        "# 현재 값들은 string이므로 float 형태로 변환할 필요가 있음\n",
        "# 몇몇 이상치 처리도 진행\n",
        "def scale_checker(scale):\n",
        "  if scale.startswith('.')==True:\n",
        "    return format(float('0'+scale[:-2]),'.2f')\n",
        "  else:\n",
        "    return format(float((scale[:-2])),'.2f')\n",
        "df2['scale'] = df2['scale'].apply(scale_checker)\n",
        "df2['scale'] = df2['scale'].astype('float')\n",
        "# df2['scale'] = format(round(df2['scale'].apply(pd.to_numeric),2),'.2f')"
      ]
    },
    {
      "cell_type": "code",
      "execution_count": 169,
      "metadata": {},
      "outputs": [
        {
          "data": {
            "text/plain": [
              "array([  8.  ,  18.  ,  10.  ,  20.  ,  21.  ,   1.  ,   0.6 ,   4.  ,\n",
              "        15.  ,   2.  ,   5.  ,   1.5 ,  16.  ,  12.  ,  13.  ,   6.  ,\n",
              "         9.6 ,   0.2 ,   3.  ,   3.5 ,   2.5 ,   0.7 ,   0.5 ,   0.3 ,\n",
              "         1.8 ,   1.2 ,  14.  ,  11.  ,   7.  ,   9.  ,   0.8 ,  11.5 ,\n",
              "         8.2 ,   7.3 ,   8.5 ,  17.  ,  19.  ,   3.6 ,   8.01,  23.  ,\n",
              "         4.5 ,   7.5 ,   9.07,   0.25,   0.01,   0.05,   0.13,   0.35,\n",
              "        22.  ,   4.7 ,   2.4 ,   2.8 ,   7.7 ,   5.8 ,  11.3 ,   4.8 ,\n",
              "         5.3 ,   3.2 ,   1.6 ,   1.1 ,   5.5 ,  13.5 ,   5.2 ,   0.12,\n",
              "         0.4 ,   0.1 ,   5.01,  10.4 ,  22.68,   2.9 ,   6.5 ,   0.15,\n",
              "        24.  ,   2.7 ,   2.1 ,   4.2 ,  12.2 ,   1.01,  14.2 , 133.  ,\n",
              "         1.9 ,  28.  ,  15.01, 999.  ,   3.7 ,   3.8 ,   3.3 ,   4.4 ,\n",
              "         1.3 ,  68.5 ,  40.  ,  53.5 ,  32.5 ,  77.  ,  80.5 ,  72.  ,\n",
              "        10.8 ,   2.6 ,   1.4 ,  25.  ,  20.01,   9.7 ,   4.9 ,   6.2 ,\n",
              "         8.3 ,   6.9 ,  88.7 ,  90.4 ,  85.4 ,  89.6 ,   5.6 ,   6.4 ,\n",
              "         9.5 ,   4.6 ,  14.5 ,  55.  ,  54.5 ,   3.1 ,   3.9 ,   5.4 ,\n",
              "         3.4 ,   0.95,   2.2 ,   7.2 ,   0.9 ,  14.8 ,   6.1 ,   1.65,\n",
              "         7.8 ,   6.6 ,  12.5 ,  10.5 ,   8.7 ,   4.3 ,   0.08,   1.95,\n",
              "         2.01,   0.17,   6.7 ,  26.  ,   8.9 ,   7.1 ,   6.3 ,  10.01,\n",
              "         0.75,  15.5 ,  31.  ,  30.  ,  29.  ,  27.  ,   7.6 ,   7.4 ,\n",
              "         8.8 ,  44.  ,   0.03,   0.06,   0.51,  32.  ,   8.6 ,   0.16,\n",
              "         6.8 ,   8.4 ,  11.6 ,   2.3 ,   0.55,  15.8 ,   5.1 ,  11.4 ,\n",
              "         9.4 ,   1.7 ,   9.3 ,  21.5 ,  16.5 ,  22.5 ,  87.  ,  15.4 ,\n",
              "        70.  ,  71.  ,  76.  ,  67.5 ,  49.5 ,  76.5 ,  82.5 ,  77.5 ,\n",
              "        78.  ,  80.  ,  78.5 ,  74.5 ,  13.6 ,  68.4 ,  80.1 ,  70.4 ,\n",
              "        70.1 ,  84.9 ,  78.4 ,   1.73,   1.32,   1.56,  18.6 ,   9.2 ,\n",
              "         4.1 ,  10.1 ,   9.8 ,   0.07,  36.  ,  15.1 ,  19.2 ,  12.4 ,\n",
              "        33.7 ,  20.5 ,  60.5 ,  66.  ,  36.5 ,  46.5 ,  33.5 ,  29.4 ,\n",
              "        33.6 ,  32.2 ,  29.3 ,   5.7 ])"
            ]
          },
          "execution_count": 169,
          "metadata": {},
          "output_type": "execute_result"
        }
      ],
      "source": [
        "df2['scale'].unique()"
      ]
    },
    {
      "cell_type": "code",
      "execution_count": 170,
      "metadata": {
        "colab": {
          "base_uri": "https://localhost:8080/"
        },
        "id": "S_OXk_iDDaxM",
        "outputId": "df40b3b5-b8d5-4609-b1d1-d940826ff6bf"
      },
      "outputs": [
        {
          "data": {
            "text/plain": [
              "count    451364.00000\n",
              "mean      19649.46123\n",
              "std       35343.29549\n",
              "min           0.00000\n",
              "25%        7050.00000\n",
              "50%       13000.00000\n",
              "75%       24000.00000\n",
              "max     9293000.00000\n",
              "Name: price, dtype: float64"
            ]
          },
          "execution_count": 170,
          "metadata": {},
          "output_type": "execute_result"
        }
      ],
      "source": [
        "# 1원짜리 거래 발견, 너무 거래값이 작은 값들은 삭제\n",
        "pd.options.display.float_format = '{:.5f}'.format\n",
        "df2['price'].describe()"
      ]
    },
    {
      "cell_type": "code",
      "execution_count": 171,
      "metadata": {
        "id": "PQrLwgHPVsHs"
      },
      "outputs": [],
      "source": [
        "df2 = df2.drop(df2[df2['price']<500].index)"
      ]
    },
    {
      "cell_type": "code",
      "execution_count": 172,
      "metadata": {
        "colab": {
          "base_uri": "https://localhost:8080/",
          "height": 423
        },
        "id": "h8uaY01ADasA",
        "outputId": "228f08e1-3d13-41cf-ae61-c672904e5fc6"
      },
      "outputs": [
        {
          "data": {
            "text/html": [
              "<div>\n",
              "<style scoped>\n",
              "    .dataframe tbody tr th:only-of-type {\n",
              "        vertical-align: middle;\n",
              "    }\n",
              "\n",
              "    .dataframe tbody tr th {\n",
              "        vertical-align: top;\n",
              "    }\n",
              "\n",
              "    .dataframe thead th {\n",
              "        text-align: right;\n",
              "    }\n",
              "</style>\n",
              "<table border=\"1\" class=\"dataframe\">\n",
              "  <thead>\n",
              "    <tr style=\"text-align: right;\">\n",
              "      <th></th>\n",
              "      <th>prd</th>\n",
              "      <th>scale</th>\n",
              "      <th>price</th>\n",
              "      <th>origin</th>\n",
              "      <th>eco</th>\n",
              "      <th>reg_date</th>\n",
              "      <th>new_class</th>\n",
              "    </tr>\n",
              "  </thead>\n",
              "  <tbody>\n",
              "    <tr>\n",
              "      <th>0</th>\n",
              "      <td>[오이]백다다기</td>\n",
              "      <td>8.00000</td>\n",
              "      <td>10000</td>\n",
              "      <td>경기 양주시</td>\n",
              "      <td>normal</td>\n",
              "      <td>2021-04-30</td>\n",
              "      <td>1</td>\n",
              "    </tr>\n",
              "    <tr>\n",
              "      <th>1</th>\n",
              "      <td>[오이]백다다기</td>\n",
              "      <td>8.00000</td>\n",
              "      <td>11700</td>\n",
              "      <td>경기 양주시</td>\n",
              "      <td>normal</td>\n",
              "      <td>2021-04-30</td>\n",
              "      <td>1</td>\n",
              "    </tr>\n",
              "    <tr>\n",
              "      <th>2</th>\n",
              "      <td>[오이]백다다기</td>\n",
              "      <td>18.00000</td>\n",
              "      <td>28000</td>\n",
              "      <td>경북 상주시</td>\n",
              "      <td>normal</td>\n",
              "      <td>2021-04-30</td>\n",
              "      <td>1</td>\n",
              "    </tr>\n",
              "    <tr>\n",
              "      <th>3</th>\n",
              "      <td>[오이]백다다기</td>\n",
              "      <td>18.00000</td>\n",
              "      <td>20000</td>\n",
              "      <td>경북 상주시</td>\n",
              "      <td>normal</td>\n",
              "      <td>2021-04-30</td>\n",
              "      <td>1</td>\n",
              "    </tr>\n",
              "    <tr>\n",
              "      <th>4</th>\n",
              "      <td>[오이]백다다기</td>\n",
              "      <td>8.00000</td>\n",
              "      <td>13000</td>\n",
              "      <td>충남 천안시</td>\n",
              "      <td>normal</td>\n",
              "      <td>2021-04-30</td>\n",
              "      <td>1</td>\n",
              "    </tr>\n",
              "    <tr>\n",
              "      <th>...</th>\n",
              "      <td>...</td>\n",
              "      <td>...</td>\n",
              "      <td>...</td>\n",
              "      <td>...</td>\n",
              "      <td>...</td>\n",
              "      <td>...</td>\n",
              "      <td>...</td>\n",
              "    </tr>\n",
              "    <tr>\n",
              "      <th>451359</th>\n",
              "      <td>[양파]양파(일반)</td>\n",
              "      <td>15.00000</td>\n",
              "      <td>7700</td>\n",
              "      <td>전남 무안군</td>\n",
              "      <td>normal</td>\n",
              "      <td>2021-05-29</td>\n",
              "      <td>8</td>\n",
              "    </tr>\n",
              "    <tr>\n",
              "      <th>451360</th>\n",
              "      <td>[토마토]대저토마토</td>\n",
              "      <td>2.50000</td>\n",
              "      <td>4000</td>\n",
              "      <td>경남 김해시</td>\n",
              "      <td>normal</td>\n",
              "      <td>2021-05-29</td>\n",
              "      <td>8</td>\n",
              "    </tr>\n",
              "    <tr>\n",
              "      <th>451361</th>\n",
              "      <td>[토마토]대저토마토</td>\n",
              "      <td>2.50000</td>\n",
              "      <td>5000</td>\n",
              "      <td>경남 김해시</td>\n",
              "      <td>normal</td>\n",
              "      <td>2021-05-29</td>\n",
              "      <td>8</td>\n",
              "    </tr>\n",
              "    <tr>\n",
              "      <th>451362</th>\n",
              "      <td>[기타근채류]기타근채류(기타)</td>\n",
              "      <td>15.00000</td>\n",
              "      <td>7300</td>\n",
              "      <td>경북</td>\n",
              "      <td>normal</td>\n",
              "      <td>2021-05-31</td>\n",
              "      <td>8</td>\n",
              "    </tr>\n",
              "    <tr>\n",
              "      <th>451363</th>\n",
              "      <td>[기타근채류]기타근채류(기타)</td>\n",
              "      <td>15.00000</td>\n",
              "      <td>7000</td>\n",
              "      <td>경북</td>\n",
              "      <td>normal</td>\n",
              "      <td>2021-05-31</td>\n",
              "      <td>8</td>\n",
              "    </tr>\n",
              "  </tbody>\n",
              "</table>\n",
              "<p>450625 rows × 7 columns</p>\n",
              "</div>"
            ],
            "text/plain": [
              "                     prd    scale  price  origin     eco   reg_date  new_class\n",
              "0               [오이]백다다기  8.00000  10000  경기 양주시  normal 2021-04-30          1\n",
              "1               [오이]백다다기  8.00000  11700  경기 양주시  normal 2021-04-30          1\n",
              "2               [오이]백다다기 18.00000  28000  경북 상주시  normal 2021-04-30          1\n",
              "3               [오이]백다다기 18.00000  20000  경북 상주시  normal 2021-04-30          1\n",
              "4               [오이]백다다기  8.00000  13000  충남 천안시  normal 2021-04-30          1\n",
              "...                  ...      ...    ...     ...     ...        ...        ...\n",
              "451359        [양파]양파(일반) 15.00000   7700  전남 무안군  normal 2021-05-29          8\n",
              "451360        [토마토]대저토마토  2.50000   4000  경남 김해시  normal 2021-05-29          8\n",
              "451361        [토마토]대저토마토  2.50000   5000  경남 김해시  normal 2021-05-29          8\n",
              "451362  [기타근채류]기타근채류(기타) 15.00000   7300      경북  normal 2021-05-31          8\n",
              "451363  [기타근채류]기타근채류(기타) 15.00000   7000      경북  normal 2021-05-31          8\n",
              "\n",
              "[450625 rows x 7 columns]"
            ]
          },
          "execution_count": 172,
          "metadata": {},
          "output_type": "execute_result"
        }
      ],
      "source": [
        "df2"
      ]
    },
    {
      "cell_type": "code",
      "execution_count": 173,
      "metadata": {
        "id": "13Js-KtTBZB5"
      },
      "outputs": [],
      "source": [
        "# kg 당 가격 생성\n",
        "\n",
        "df2['price_kg'] = round((df2['price']/df2['scale']),2)"
      ]
    },
    {
      "cell_type": "markdown",
      "metadata": {
        "id": "FJ4jjRUQ8cB3"
      },
      "source": [
        "### prd\n",
        "- 품목명 정리\n",
        "- 품목 종류 정리"
      ]
    },
    {
      "cell_type": "code",
      "execution_count": 174,
      "metadata": {
        "colab": {
          "base_uri": "https://localhost:8080/"
        },
        "id": "pymqNuDt8qqS",
        "outputId": "1506a365-b491-4b16-f40f-4d63980bc22f"
      },
      "outputs": [
        {
          "data": {
            "text/plain": [
              "[오이]백다다기              15896\n",
              "[호박]애호박                7374\n",
              "[참외]참외(기타)             6984\n",
              "[딸기]설향                 6772\n",
              "[블루베리]블루베리             6269\n",
              "                      ...  \n",
              "[풋고추]풋고추(기타)              1\n",
              "[무]무말랭이                   1\n",
              "[무]무(순무)                  1\n",
              "[아스파라가스]아스파라거스(일반)        1\n",
              "[기타채소]깻순(바라)              1\n",
              "Name: prd, Length: 1345, dtype: int64"
            ]
          },
          "execution_count": 174,
          "metadata": {},
          "output_type": "execute_result"
        }
      ],
      "source": [
        "# 대부분 [상품 종류]상품명 으로 정리되어 있는걸 알 수 있음\n",
        "df2['prd'].value_counts()"
      ]
    },
    {
      "cell_type": "code",
      "execution_count": 175,
      "metadata": {
        "id": "EKmhi36getHp"
      },
      "outputs": [],
      "source": [
        "# 정리를 위해 상품명 삭제\n",
        "def prd_sort(words):\n",
        "  p = re.compile('[ㄱ-힣]+')\n",
        "  word = re.search(p,words)\n",
        "  return word.group()\n",
        "\n",
        "df2['prd'] = df2['prd'].apply(prd_sort)"
      ]
    },
    {
      "cell_type": "code",
      "execution_count": 176,
      "metadata": {
        "id": "mlsCXSXMekGg"
      },
      "outputs": [],
      "source": [
        "# 기타 품목 삭제\n",
        "df2 = df2.drop(df2[df2['prd']=='기타'].index)"
      ]
    },
    {
      "cell_type": "code",
      "execution_count": 177,
      "metadata": {
        "id": "fZ8b4ETrDv5n"
      },
      "outputs": [],
      "source": [
        "# 국산,수입산,깐,기타 삭제\n",
        "def prd_sort2(words):\n",
        "  p = re.compile('[^국산수입깐기타]+')\n",
        "  word = re.search(p,str(words))\n",
        "  return word.group()\n",
        "\n",
        "df2[\"prd\"] = df2[\"prd\"].apply(prd_sort2)\n"
      ]
    },
    {
      "cell_type": "code",
      "execution_count": 178,
      "metadata": {
        "colab": {
          "base_uri": "https://localhost:8080/"
        },
        "id": "0UO78EhtVlgj",
        "outputId": "08424baf-f96a-4573-d9fc-c6f751228e63"
      },
      "outputs": [
        {
          "name": "stdout",
          "output_type": "stream",
          "text": [
            "가리비 \n",
            "가물치 가오리 가오리채 가자미 가죽나물 가지 간재미 갈치 감 감귤 감자 갑오징어 갓 강낭콩 개조개 \n",
            "갯가재 갯장어 건고구마순 건고추 게 게지 겨자 고 고구마 고구마순 고둥 고들빼 고등어 고사리 고추 \n",
            "고추잎 곤달비 곤드레나물 골뱅이 과실류 과일 과일류 과채 굴 귤 그레이프푸룻 근대 근채류 금감 깻잎 \n",
            "꼴뚜 꽁치 꽈리고추 낙지 냉이 논우렁이 눈볼대 느 다래 다래순 단감 달래 닭새우 당귀 당근 \n",
            "대구 대구포 대추 대파 더덕 도라지 돈나물 돌나물 돗나물 동자개 동죽 두류 두릅 두리안 듀리안 \n",
            "딸 땅콩 람부탄 레몬 리치 마늘 만가닥 만감 맛 망고 망고스턴 망고스틴 매생이 매실 머위대 \n",
            "메 메론 메밀 멸치 명태 명태곤니 명태알 명태포 모시조개 무 무순 무우 문어 문어바지락 미꾸라지 \n",
            "미나리 미더덕 민들레 민물새우 바나나 바지락 박 방울토마토 방풍 방풍나물 배 배추 백새우 백합 뱀장어 \n",
            "버섯 버섯류 버찌 벗 병어 보리 복숭아 봉지굴 부세 부지갱이 부추 붉은고추 붕어 붕장어 브로커리 \n",
            "브로코리 블루베리 비름 비트 빈스 빨간양배추 삐틀이 사과 살구 삼 삼나물 삼치 상어 상추 새꼬막 \n",
            "새송이 새싹 새우 새우살 새조개 샐러리 생강 생고추 생채 서대 석류 선동오징어 세러리 셀러리 소라 \n",
            "속새 숙주나물 시금치 신선초 실파 쌈채류 쑥 쑥갓 씀바귀 아귀 아보카도 아보카드 아스파라가스 아스파라거스 아욱 \n",
            "알 알로애 알배 앵두 야자 양배추 양상추 양송이 양채 양채류 양파 어류 얼갈이 얼갈이배추 엄나무 \n",
            "연근 연어 열무 염고등어 엽경채류 엽채 엽채류 오가피 오디 오렌지 오만둥이 오이 오징어 오징어몸통 오징어원양 \n",
            "오징어채 오징어채원양 오크라 옥 완두콩 용과 우럭조개 우렁 우렁쉥이 우렁이 유채 임연 잉어 자두 자몽 \n",
            "잔대 재첩 적겨자 적근대 적새우 적채 전복 절단 절단낙지 죽순 중하 쪽파 쭈꾸미 참나물 참다래 \n",
            "참당귀 참돔 참외 참조 참죽나무순 채소 청경채 청어 체리 총각무 취나물 치커리 칠게 칼라후라워 칼리플라워 \n",
            "칼리후라워 케일 코라비 코코넛 콜라비 콩 콩나물 키위 키조개 키조개날개 토란 토마토 파 파세리 파인애플 \n",
            "파파야 파프리카 패류 팽이 팽이버섯 포도 포장바지락 표고 표고버섯 풋고추 풋옥 피망 피조개 학꽁치 함초 \n",
            "해삼 해파리 향나물 향신료 향어 호박 호박잎 홍고추 홍어 홍합 활복오징어 황강달이 "
          ]
        }
      ],
      "source": [
        "# 몇몇 품목들 정리가 필요\n",
        "a = sorted(df2['prd'].unique())\n",
        "for i in range(len(a)):\n",
        "  if i%15 != 0:\n",
        "    print(a[i],end=' ')\n",
        "  else:\n",
        "    print(a[i],end=' ')\n",
        "    print()"
      ]
    },
    {
      "cell_type": "code",
      "execution_count": 179,
      "metadata": {
        "id": "M2625eg87yCq"
      },
      "outputs": [],
      "source": [
        "### 예시\n",
        "# df2[(df2['prd']=='유채') & (df2['price']==4500)]['prd'].unique()\n",
        "# df2[df2['prd']=='유채']['prd'].unique()"
      ]
    },
    {
      "cell_type": "code",
      "execution_count": 180,
      "metadata": {
        "colab": {
          "base_uri": "https://localhost:8080/"
        },
        "id": "ExIoekH2gcM_",
        "outputId": "5cad26ac-a57e-42b5-85da-19e3591a3493"
      },
      "outputs": [],
      "source": [
        "### 원래 단어 뭐였는지 검색\n",
        "# org_df[org_df['품목명'].str.contains('\u001d느')]['품목명'].unique()"
      ]
    },
    {
      "cell_type": "code",
      "execution_count": 181,
      "metadata": {
        "colab": {
          "base_uri": "https://localhost:8080/",
          "height": 81
        },
        "id": "2uOc31XjjPFL",
        "outputId": "50529553-d06f-4dc6-8759-a11736220df6"
      },
      "outputs": [],
      "source": [
        "### 현재 이름 검색\n",
        "# df2[df2['prd']=='느']"
      ]
    },
    {
      "cell_type": "code",
      "execution_count": 190,
      "metadata": {
        "id": "gbBBjoDqIjR1"
      },
      "outputs": [],
      "source": [
        "###\n",
        "# JG\n",
        "\n",
        "# 고 -> 고수로 변경\n",
        "df2.loc[df2[\"prd\"]==\"고\",\"prd\"] = \"고수\"\n",
        "# 과실류, 과일류, 과채, 채소 -> 과채류로 통합\n",
        "df2.loc[df2[\"prd\"]==\"과실류\",\"prd\"] = \"과채류\"\n",
        "df2.loc[df2[\"prd\"]==\"과일류\",\"prd\"] = \"과채류\"\n",
        "df2.loc[df2[\"prd\"]==\"과일야채류\",\"prd\"] = \"과채류\"\n",
        "df2.loc[df2[\"prd\"]==\"과일과채류\",\"prd\"] = \"과채류\"\n",
        "df2.loc[df2[\"prd\"]==\"과일\",\"prd\"] = \"과채류\"\n",
        "df2.loc[df2[\"prd\"]==\"과채\",\"prd\"] = \"과채류\"\n",
        "df2.loc[df2[\"prd\"]==\"채소\",\"prd\"] = \"과채류\"\n",
        "# 고들빼 -> 고들빼기로 변경\n",
        "df2.loc[df2[\"prd\"]==\"고들빼\",\"prd\"] = \"고들빼기\"\n",
        "# 꼴뚜 -> 꼴두기로 변경\n",
        "df2.loc[df2[\"prd\"]==\"꼴뚜\",\"prd\"] = \"꼴뚜기\"\n",
        "# 그레이프푸룻 -> 자몽으로 통합\n",
        "df2.loc[df2[\"prd\"]==\"그레이프푸룻\",\"prd\"] = \"자몽\"\n",
        "\n",
        "# 느 -> 느타리버섯으로 통합\n",
        "df2.loc[df2[\"prd\"]==\"느\",\"prd\"] = \"느타리버섯\"\n",
        "\n",
        "# 대구 관련 품목들 정리\n",
        "df2.loc[df2[\"prd\"]==\"대구고니\",\"prd\"] = \"대구\"\n",
        "df2.loc[df2[\"prd\"]==\"대구머리\",\"prd\"] = \"대구\"\n",
        "df2.loc[df2[\"prd\"]==\"대구포\",\"prd\"] = \"대구\"\n",
        "# 듀리안 -> 두리안으로 통합\n",
        "df2.loc[df2[\"prd\"]==\"듀리안\",\"prd\"] = \"두리안\"\n",
        "# 딸 -> 딸기로 변경\n",
        "df2.loc[df2[\"prd\"]==\"딸\",\"prd\"] = \"딸기\"\n",
        "\n",
        "# 만가닥 -> 만가닥버섯으로 변경\n",
        "df2.loc[df2[\"prd\"]==\"만가닥\",\"prd\"] = \"만가닥버섯\"\n",
        "# 맛 -> 맛조개로 변경\n",
        "df2.loc[df2[\"prd\"]==\"맛\",\"prd\"] = \"맛조개\"\n",
        "# 망고스턴 -> 망고스틴으로 수정\n",
        "df2.loc[df2[\"prd\"]==\"망고스턴\",\"prd\"] = \"망고스틴\"\n",
        "# 메 -> 메기로 변경\n",
        "df2.loc[df2[\"prd\"]==\"메\",\"prd\"] = \"메기\"\n",
        "# 명태 관련 품목들 정리\n",
        "df2.loc[df2[\"prd\"]==\"명태곤니\",\"prd\"] = \"명태\"\n",
        "df2.loc[df2[\"prd\"]==\"명태알\",\"prd\"] = \"명태\"\n",
        "df2.loc[df2[\"prd\"]==\"명태포\",\"prd\"] = \"명태\"\n",
        "# 무우 -> 무로 통합\n",
        "df2.loc[df2[\"prd\"]==\"무우\",\"prd\"] = \"무\"\n",
        "\n",
        "# 방풍 -> 방풍나물로 통합\n",
        "df2.loc[df2[\"prd\"]==\"방풍\",\"prd\"] = \"방풍나물\"\n",
        "# 버섯류 -> 버섯으로 변경\n",
        "df2.loc[df2[\"prd\"]==\"버섯\",\"prd\"] = \"버섯\"\n",
        "# 벗,버찌 -> 체리로 통합\n",
        "df2.loc[df2[\"prd\"]==\"벗\",\"prd\"] = \"체리\"\n",
        "df2.loc[df2[\"prd\"]==\"버찌\",\"prd\"] = \"체리\"\n",
        "# 브로커리, 브로코리 -> 브로콜리로 통합\n",
        "df2.loc[df2[\"prd\"]==\"브로커리\",\"prd\"] = \"브로콜리\"\n",
        "df2.loc[df2[\"prd\"]==\"브로코리\",\"prd\"] = \"브로콜리\"\n",
        "\n",
        "# 삼 -> 수삼으로 변경\n",
        "df2.loc[df2[\"prd\"]==\"삼\",\"prd\"] = \"수삼\"\n",
        "# 새우살 -> 새우로 변경\n",
        "df2.loc[df2[\"prd\"]==\"새우살\",\"prd\"] = \"새우\"\n",
        "# 세러리, 셀러리 -> 샐러리로 통합\n",
        "df2.loc[df2[\"prd\"]==\"세러리\",\"prd\"] = \"샐러리\"\n",
        "df2.loc[df2[\"prd\"]==\"셀러리\",\"prd\"] = \"샐러리\"\n",
        "# 생고추 -> 고추로 통합\n",
        "df2.loc[df2[\"prd\"]==\"생고추\",\"prd\"] = \"고추\"\n",
        "\n",
        "# 아보카드 -> 아보카도로 변경\n",
        "df2.loc[df2[\"prd\"]==\"아보카드\",\"prd\"] = \"아보카도\"\n",
        "# 아스파라가스 -> 아스파라거스로 변경\n",
        "df2.loc[df2[\"prd\"]==\"아스파라가스\",\"prd\"] = \"아스파라거스\"\n",
        "# 알 -> 알타리무로 변경\n",
        "df2.loc[df2[\"prd\"]==\"알\",\"prd\"] = \"알타리무\"\n",
        "# 알배 -> 알배기로 변경\n",
        "df2.loc[df2[\"prd\"]==\"알배\",\"prd\"] = \"알배기\"\n",
        "# 양채 -> 양채류로 통합\n",
        "df2.loc[df2[\"prd\"]==\"양채\",\"prd\"] = \"양채류\"\n",
        "# 얼갈이 -> 얼갈이배추로 통합\n",
        "df2.loc[df2[\"prd\"]==\"얼갈이\",\"prd\"] = \"얼갈이배추\"\n",
        "# 엽채류, 엽채 -> 엽경채류로 통합\n",
        "df2.loc[df2[\"prd\"]==\"엽채류\",\"prd\"] = \"엽경채류\"\n",
        "df2.loc[df2[\"prd\"]==\"엽채\",\"prd\"] = \"엽경채류\"\n",
        "# 오징어 관련 품목들 정리\n",
        "df2.loc[df2[\"prd\"]==\"오징어다리\",\"prd\"] = \"오징어\"\n",
        "df2.loc[df2[\"prd\"]==\"오징어원양\",\"prd\"] = \"오징어\"\n",
        "df2.loc[df2[\"prd\"]==\"오징어채\",\"prd\"] = \"오징어\"\n",
        "df2.loc[df2[\"prd\"]==\"활복오징어\",\"prd\"] = \"오징어\"\n",
        "df2.loc[df2[\"prd\"]==\"오징어채원양\",\"prd\"] = \"오징어\"\n",
        "\n",
        "# 옥, 풋옥 -> 옥수수로 정리\n",
        "df2.loc[df2[\"prd\"]==\"옥\",\"prd\"] = \"옥수수\"\n",
        "df2.loc[df2[\"prd\"]==\"풋옥\",\"prd\"] = \"옥수수\"\n",
        "# 임연 -> 임연수어로 정리\n",
        "df2.loc[df2[\"prd\"]==\"임연\",\"prd\"] = \"임연수어\"\n",
        "\n",
        "\n",
        "# 절단 -> 절단쭈꾸미 -> 쭈꾸미로 정리\n",
        "df2.loc[df2[\"prd\"]==\"절단\",\"prd\"] = \"쭈꾸미\"\n",
        "# 조개살 -> 조개로 정리\n",
        "df2.loc[df2[\"prd\"]==\"조개살\",\"prd\"] = \"조개\"\n",
        "\n",
        "# 참조 -> 참조기로 정리\n",
        "df2.loc[df2[\"prd\"]==\"참조\",\"prd\"] = \"참조기\"\n",
        "\n",
        "# 칼라후라워,칼리플라워, 칼리후라워 -> 컬리플라워로 통합\n",
        "df2.loc[df2[\"prd\"]==\"칼라후라워\",\"prd\"] = \"컬리플라워\"\n",
        "df2.loc[df2[\"prd\"]==\"칼리플라워\",\"prd\"] = \"컬리플라워\"\n",
        "df2.loc[df2[\"prd\"]==\"칼리후라워\",\"prd\"] = \"컬리플라워\"\n",
        "# 코라비 -> 콜라비로 통합\n",
        "df2.loc[df2[\"prd\"]==\"코라비\",\"prd\"] = \"콜라비\"\n",
        "# 키조개날개 -> 키조개로 통합\n",
        "df2.loc[df2[\"prd\"]==\"키조개날개\",\"prd\"] = \"키조개\"\n",
        "\n",
        "# 팽이 -> 팽이버섯으로 통합\n",
        "df2.loc[df2[\"prd\"]==\"팽이\",\"prd\"] = \"팽이버섯\"\n",
        "# 파세리 -> 파슬리로 변경\n",
        "df2.loc[df2[\"prd\"]==\"파세리\",\"prd\"] = \"파슬리\"\n",
        "# 표고 -> 표고버섯으로 통합\n",
        "df2.loc[df2[\"prd\"]==\"표고\",\"prd\"] = \"표고버섯\"\n",
        "# 포장바지락 -> 바지락으로 변경\n",
        "df2.loc[df2[\"prd\"]==\"포장바지락\",\"prd\"] = \"바지락\"\n",
        "\n",
        "### 일단 여기까지 실행\n",
        "# JY\n",
        "#각굴 -> 굴로 통합\n",
        "df2.loc[df2[\"prd\"]==\"각굴\",\"prd\"] = \"굴\"\n",
        "#가오리채 -> 가오리로 통합\n",
        "df2.loc[df2[\"prd\"]==\"가오리채\",\"prd\"] = \"가오리\"\n",
        "# 게지 -> 키조개로 통합\n",
        "df2.loc[df2[\"prd\"]==\"게지\",\"prd\"] = \"키조개\"\n",
        "#고 -> 고구마로 통합\n",
        "df2.loc[df2[\"prd\"]==\"고\",\"prd\"] = \"고구마\"\n",
        "#꼴뚜 -> 꼴뚜기로 통합\n",
        "df2.loc[df2[\"prd\"]==\"꼴뚜\",\"prd\"] = \"꼴뚜기\"\n",
        "#돗나물 -> 돌나물로 통합\n",
        "df2.loc[df2[\"prd\"]==\"돗나물\",\"prd\"] = \"돌나물\"\n",
        "#레드쉬 -> 레디쉬로 통합\n",
        "df2.loc[df2[\"prd\"]==\"레드쉬\",\"prd\"] = \"레디쉬\"\n",
        "#만가닥 -> 만가닥버섯으로 통합\n",
        "df2.loc[df2[\"prd\"]==\"만가닥\",\"prd\"] = \"만가닥버섯\"\n",
        "#메 -> 메기로 통합\n",
        "df2.loc[df2[\"prd\"]==\"메\",\"prd\"] = \"메기\"\n",
        "#봄동 -> 봄동배추로 통합\n",
        "df2.loc[df2[\"prd\"]==\"봄동\",\"prd\"] = \"봄동배추\"\n",
        "#봉지굴 -> 굴로 통합\n",
        "df2.loc[df2[\"prd\"]==\"봉지굴\",\"prd\"] = \"굴\"\n",
        "#박 -> 수박으로 통합\n",
        "df2.loc[df2[\"prd\"]==\"박\",\"prd\"] = \"수박\"\n",
        "#백조 -> 조기로 통합 \n",
        "df2.loc[df2[\"prd\"]==\"백조\",\"prd\"] = \"조기\"\n",
        "#벅굴 -> 벚굴로 통합\n",
        "df2.loc[df2[\"prd\"]==\"벅굴\",\"prd\"] = \"벚굴\"\n",
        "#비 -> 비타민으로 통합\n",
        "df2.loc[df2[\"prd\"]==\"비\",\"prd\"] = \"비타민\"\n",
        "#빈스 -> 콩으로 통합\n",
        "df2.loc[df2[\"prd\"]==\"빈스\",\"prd\"] = \"콩\"\n",
        "#삐틀이 -> 고둥으로 통합\n",
        "df2.loc[df2[\"prd\"]==\"삐틀이\",\"prd\"] = \"고둥\"\n",
        "#새송이 -> 새송이버섯으로 통합\n",
        "df2.loc[df2[\"prd\"]==\"새송이\",\"prd\"] = \"새송이버섯\"\n",
        "#세트 -> 과채류로 통합\n",
        "df2.loc[df2[\"prd\"]==\"세트\",\"prd\"] = \"과채류\"\n",
        "#알 -> 알로애로 통합\n",
        "df2.loc[df2[\"prd\"]==\"알\",\"prd\"] = \"알로에\"\n",
        "#엄나무 -> 음나무로 통합\n",
        "df2.loc[df2[\"prd\"]==\"엄나무\",\"prd\"] = \"음나무\"\n",
        "#염고등어 -> 고등어로 통합\n",
        "df2.loc[df2[\"prd\"]==\"염고등어\",\"prd\"] = \"고등어\"\n",
        "#오만둥이 -> 미더덕으로 통합\n",
        "df2.loc[df2[\"prd\"]==\"오만둥이\",\"prd\"] = \"미더덕\"\n",
        "#오징어 관련 품목들 정리\n",
        "df2.loc[df2[\"prd\"]==\"선동오징어\",\"prd\"] = \"오징어\"\n",
        "df2.loc[df2[\"prd\"]==\"오징어몸통\",\"prd\"] = \"오징어\"\n",
        "#우렁쉥이 -> 멍게로 통합\n",
        "df2.loc[df2[\"prd\"]==\"우렁쉥이\",\"prd\"] = \"멍게\"\n",
        "#우뭇가시리 -> 우뭇가사리로 통합\n",
        "df2.loc[df2[\"prd\"]==\"우뭇가시리\",\"prd\"] = \"우뭇가사리\"\n",
        "#적채 -> 적양배추로 통합\n",
        "df2.loc[df2[\"prd\"]==\"적채\",\"prd\"] = \"적양배추\"\n",
        "#절단낙지 -> 낙지로 통합\n",
        "df2.loc[df2[\"prd\"]==\"절단낙지\",\"prd\"] = \"낙지\"\n",
        "#조 -> 조개로 통합\n",
        "df2.loc[df2[\"prd\"]==\"조\",\"prd\"] = \"조개\"\n",
        "#청어원양 -> 청어로 통합\n",
        "df2.loc[df2[\"prd\"]==\"청어원양\",\"prd\"] = \"청어\"\n",
        "#키조개꼭지 -> 키조개로 통합\n",
        "df2.loc[df2[\"prd\"]==\"키조개꼭지\",\"prd\"] = \"키조개\"\n",
        "\n",
        "# 암꽃게, 숫꽃게 -> 꽃게로 통합\n",
        "df2.loc[df2[\"prd\"]==\"암꽃게\",\"prd\"] = \"꽃게\"\n",
        "df2.loc[df2[\"prd\"]==\"숫꽃게\",\"prd\"] = \"꽃게\"\n",
        "# 우렁 -> 우렁이로 통합\n",
        "df2.loc[df2[\"prd\"]==\"우렁\",\"prd\"] = \"우렁이\"\n",
        "# 알로애 -> 알로에로 변경\n",
        "df2.loc[df2[\"prd\"]==\"알로애\",\"prd\"] = \"알로에\"\n",
        "# 피마자잎 -> 피마자로 변경\n",
        "df2.loc[df2[\"prd\"]==\"피미자잎\",\"prd\"] = \"피마자\"\n",
        "# 조미제품 삭제\n",
        "df2.drop(df2[df2['prd']=='조미제품'].index,inplace=True)"
      ]
    },
    {
      "cell_type": "code",
      "execution_count": 191,
      "metadata": {},
      "outputs": [
        {
          "data": {
            "text/plain": [
              "array(['매실', '향신료', '옥수수', '건고구마순', '향나물', '오크라', '함초', '갯장어', '멸치', '상어',\n",
              "       '학꽁치', '황강달이', '서대'], dtype=object)"
            ]
          },
          "execution_count": 191,
          "metadata": {},
          "output_type": "execute_result"
        }
      ],
      "source": [
        "# 기존 products 리스트와 비교\n",
        "ex_prd = pd.read_csv(\"../products.csv\")\n",
        "df2[~df2['prd'].isin(ex_prd['prd'])]['prd'].unique()"
      ]
    },
    {
      "cell_type": "code",
      "execution_count": 192,
      "metadata": {},
      "outputs": [
        {
          "name": "stderr",
          "output_type": "stream",
          "text": [
            "/var/folders/nq/s4zx76p53d11lnr0t1dxpxh00000gn/T/ipykernel_8897/2619460125.py:4: FutureWarning: The frame.append method is deprecated and will be removed from pandas in a future version. Use pandas.concat instead.\n",
            "  products = ex_prd.append(new_prd,ignore_index=True)\n"
          ]
        }
      ],
      "source": [
        "# 물품 리스트 최신화\n",
        "new_prd = pd.DataFrame(df2['prd'].unique(),columns=['prd'])\n",
        "# products = ex_prd.append(new_prd[~new_prd['prd'].isin(ex_prd['prd'])],ignore_index=True)\n",
        "products = ex_prd.append(new_prd,ignore_index=True)"
      ]
    },
    {
      "cell_type": "code",
      "execution_count": 193,
      "metadata": {},
      "outputs": [],
      "source": [
        "products.drop(columns=['Unnamed: 0'],inplace=True)\n",
        "products.drop_duplicates(inplace=True)\n",
        "products.reset_index(inplace=True,drop=True)"
      ]
    },
    {
      "cell_type": "code",
      "execution_count": 194,
      "metadata": {},
      "outputs": [],
      "source": [
        "# 다음 작업을 위해 저장\n",
        "products.to_csv('../products.csv')"
      ]
    },
    {
      "cell_type": "code",
      "execution_count": 195,
      "metadata": {
        "colab": {
          "base_uri": "https://localhost:8080/",
          "height": 300
        },
        "id": "CxbMB3I59tCZ",
        "outputId": "d29f9bba-e828-4319-9402-7dc24ba1778b"
      },
      "outputs": [
        {
          "data": {
            "text/html": [
              "<div>\n",
              "<style scoped>\n",
              "    .dataframe tbody tr th:only-of-type {\n",
              "        vertical-align: middle;\n",
              "    }\n",
              "\n",
              "    .dataframe tbody tr th {\n",
              "        vertical-align: top;\n",
              "    }\n",
              "\n",
              "    .dataframe thead th {\n",
              "        text-align: right;\n",
              "    }\n",
              "</style>\n",
              "<table border=\"1\" class=\"dataframe\">\n",
              "  <thead>\n",
              "    <tr style=\"text-align: right;\">\n",
              "      <th></th>\n",
              "      <th>prd</th>\n",
              "    </tr>\n",
              "  </thead>\n",
              "  <tbody>\n",
              "    <tr>\n",
              "      <th>count</th>\n",
              "      <td>247.00000</td>\n",
              "    </tr>\n",
              "    <tr>\n",
              "      <th>mean</th>\n",
              "      <td>1823.82591</td>\n",
              "    </tr>\n",
              "    <tr>\n",
              "      <th>std</th>\n",
              "      <td>4771.89276</td>\n",
              "    </tr>\n",
              "    <tr>\n",
              "      <th>min</th>\n",
              "      <td>1.00000</td>\n",
              "    </tr>\n",
              "    <tr>\n",
              "      <th>25%</th>\n",
              "      <td>11.50000</td>\n",
              "    </tr>\n",
              "    <tr>\n",
              "      <th>50%</th>\n",
              "      <td>97.00000</td>\n",
              "    </tr>\n",
              "    <tr>\n",
              "      <th>75%</th>\n",
              "      <td>1021.50000</td>\n",
              "    </tr>\n",
              "    <tr>\n",
              "      <th>max</th>\n",
              "      <td>34365.00000</td>\n",
              "    </tr>\n",
              "  </tbody>\n",
              "</table>\n",
              "</div>"
            ],
            "text/plain": [
              "              prd\n",
              "count   247.00000\n",
              "mean   1823.82591\n",
              "std    4771.89276\n",
              "min       1.00000\n",
              "25%      11.50000\n",
              "50%      97.00000\n",
              "75%    1021.50000\n",
              "max   34365.00000"
            ]
          },
          "execution_count": 195,
          "metadata": {},
          "output_type": "execute_result"
        }
      ],
      "source": [
        "# 전체 거래량과 품목량\n",
        "# 비교를 위해 분포 파악\n",
        "# 거래량이 너무 적은 품목은 삭제할 필요성이 있음\n",
        "\n",
        "prd_lst = (df2['prd'].value_counts()).to_frame()\n",
        "prd_lst.describe()"
      ]
    },
    {
      "cell_type": "code",
      "execution_count": 196,
      "metadata": {
        "id": "_qhAf86UEoSv"
      },
      "outputs": [],
      "source": [
        "# 50개 미만 품목은 비교가 힘드므로 삭제\n",
        "# 줄어든 종류만 남기기\n",
        "\n",
        "prd_lst = prd_lst[prd_lst['prd']>=50]\n",
        "prd_lst.reset_index(inplace=True)\n",
        "prd_lst = prd_lst.rename(columns = {'index':'prd','prd':'count'})"
      ]
    },
    {
      "cell_type": "code",
      "execution_count": 197,
      "metadata": {
        "colab": {
          "base_uri": "https://localhost:8080/"
        },
        "id": "WZfTHQDe-jTG",
        "outputId": "7e713769-2413-4b10-db9d-348498e24708"
      },
      "outputs": [
        {
          "data": {
            "text/plain": [
              "버섯     34365\n",
              "오이     27714\n",
              "토마토    26159\n",
              "고추     22702\n",
              "딸기     22564\n",
              "       ...  \n",
              "알배기       56\n",
              "고추잎       55\n",
              "용과        50\n",
              "자몽        50\n",
              "겨자        50\n",
              "Name: prd, Length: 148, dtype: int64"
            ]
          },
          "execution_count": 197,
          "metadata": {},
          "output_type": "execute_result"
        }
      ],
      "source": [
        "df3 = df2.merge(prd_lst)\n",
        "df3[df3['count']>=50]['prd'].value_counts()"
      ]
    },
    {
      "cell_type": "code",
      "execution_count": 198,
      "metadata": {
        "id": "OnwYlUyTEJdF"
      },
      "outputs": [],
      "source": [
        "# 줄어든 것 확인했으므로 count column은 삭제\n",
        "df3 = df3.drop(columns='count')"
      ]
    },
    {
      "cell_type": "markdown",
      "metadata": {
        "id": "jPcICeSResYh"
      },
      "source": [
        "### scale"
      ]
    },
    {
      "cell_type": "code",
      "execution_count": 199,
      "metadata": {
        "colab": {
          "base_uri": "https://localhost:8080/"
        },
        "id": "4KZLpXuYYTZx",
        "outputId": "f59c1146-fdb9-4483-81a3-a0f51dd08904"
      },
      "outputs": [
        {
          "data": {
            "text/plain": [
              "array([  8.  ,  18.  ,  10.  ,  20.  ,  21.  ,   1.  ,   0.6 ,   4.  ,\n",
              "        15.  ,  16.  ,  15.01,  20.01,  55.  ,  24.  ,  40.  ,  10.01,\n",
              "        27.  ,  32.  ,  13.  ,   5.  ,   2.  ,   7.  ,   6.  ,   3.5 ,\n",
              "         3.  ,   4.5 ,   1.5 ,   0.3 ,   2.5 ,   5.5 ,   0.5 ,  14.  ,\n",
              "        17.  ,  12.  ,  11.  ,   9.  ,   5.8 ,   9.6 ,  10.8 ,   0.2 ,\n",
              "         0.15,   0.1 ,   1.6 ,   8.5 ,   0.25,  22.  ,  19.  ,  23.  ,\n",
              "         2.8 ,   0.7 ,   1.8 ,   1.2 ,   0.8 ,  10.5 ,  25.  ,  26.  ,\n",
              "        11.5 ,   8.2 ,   7.3 , 999.  ,  54.5 ,   0.4 ,   7.2 ,   8.6 ,\n",
              "         3.6 ,   7.5 ,   4.8 ,   6.4 ,   5.2 ,   6.5 ,   9.5 ,   7.4 ,\n",
              "         4.4 ,  12.5 ,   5.1 ,   6.7 ,   6.6 ,  11.6 ,   6.3 ,  11.4 ,\n",
              "        13.6 ,   8.01,  14.8 ,  13.5 ,  15.8 ,   9.4 ,   5.01,  10.4 ,\n",
              "        22.68,  30.  ,  44.  ,   4.2 ,   3.8 ,   5.3 ,   4.9 ,   3.2 ,\n",
              "         1.9 ,   3.7 ,   4.7 ,  14.5 ,   1.4 ,   3.1 ,   2.7 ,   3.3 ,\n",
              "         4.6 ,   3.9 ,   2.4 ,   2.2 ,   2.9 ,   2.6 ,   4.3 ,  15.5 ,\n",
              "         3.4 ,   2.3 ,   2.1 ,   1.3 ,   5.7 ,   9.07,   0.08,   0.13,\n",
              "         0.05,   1.95,   0.35,   0.16,   7.7 ,  11.3 ,  12.2 ,   9.7 ,\n",
              "         6.2 ,   8.3 ,   6.9 ,   5.4 ,   6.1 ,   1.65,   7.8 ,   8.7 ,\n",
              "         8.9 ,   7.1 ,   7.6 ,   8.8 ,   6.8 ,   8.4 ,   1.1 ,   1.01,\n",
              "         0.95,   2.01,   0.75,   0.55,  14.2 , 133.  ,   0.12,   0.17,\n",
              "        31.  ,  29.  ,  28.  ,   0.03,   0.9 ,  72.  ,   1.7 ,  16.5 ,\n",
              "        19.2 ,   9.8 ,  21.5 ,  22.5 ,  36.  ,   1.73,   1.32,   1.56,\n",
              "         4.1 ])"
            ]
          },
          "execution_count": 199,
          "metadata": {},
          "output_type": "execute_result"
        }
      ],
      "source": [
        "np.set_printoptions(precision=2, suppress=True)\n",
        "df3['scale'].unique()"
      ]
    },
    {
      "cell_type": "code",
      "execution_count": 200,
      "metadata": {
        "colab": {
          "base_uri": "https://localhost:8080/",
          "height": 1000
        },
        "id": "-43K_jyN92IZ",
        "outputId": "7b3e92a5-a0eb-4b09-bc6c-36948c74b860"
      },
      "outputs": [
        {
          "data": {
            "text/html": [
              "<div>\n",
              "<style scoped>\n",
              "    .dataframe tbody tr th:only-of-type {\n",
              "        vertical-align: middle;\n",
              "    }\n",
              "\n",
              "    .dataframe tbody tr th {\n",
              "        vertical-align: top;\n",
              "    }\n",
              "\n",
              "    .dataframe thead th {\n",
              "        text-align: right;\n",
              "    }\n",
              "</style>\n",
              "<table border=\"1\" class=\"dataframe\">\n",
              "  <thead>\n",
              "    <tr style=\"text-align: right;\">\n",
              "      <th></th>\n",
              "      <th>prd</th>\n",
              "      <th>scale</th>\n",
              "      <th>price</th>\n",
              "      <th>origin</th>\n",
              "      <th>eco</th>\n",
              "      <th>reg_date</th>\n",
              "      <th>new_class</th>\n",
              "      <th>price_kg</th>\n",
              "    </tr>\n",
              "  </thead>\n",
              "  <tbody>\n",
              "    <tr>\n",
              "      <th>3884</th>\n",
              "      <td>오이</td>\n",
              "      <td>55.00000</td>\n",
              "      <td>121000</td>\n",
              "      <td>경남 진주시</td>\n",
              "      <td>certified</td>\n",
              "      <td>2021-05-07</td>\n",
              "      <td>1</td>\n",
              "      <td>2200.00000</td>\n",
              "    </tr>\n",
              "    <tr>\n",
              "      <th>93287</th>\n",
              "      <td>포도</td>\n",
              "      <td>999.00000</td>\n",
              "      <td>48000</td>\n",
              "      <td>칠레</td>\n",
              "      <td>normal</td>\n",
              "      <td>2021-05-03</td>\n",
              "      <td>1</td>\n",
              "      <td>48.05000</td>\n",
              "    </tr>\n",
              "    <tr>\n",
              "      <th>93589</th>\n",
              "      <td>포도</td>\n",
              "      <td>54.50000</td>\n",
              "      <td>36000</td>\n",
              "      <td>수입산 호주</td>\n",
              "      <td>normal</td>\n",
              "      <td>2021-05-07</td>\n",
              "      <td>1</td>\n",
              "      <td>660.55000</td>\n",
              "    </tr>\n",
              "    <tr>\n",
              "      <th>93765</th>\n",
              "      <td>포도</td>\n",
              "      <td>999.00000</td>\n",
              "      <td>48000</td>\n",
              "      <td>칠레</td>\n",
              "      <td>normal</td>\n",
              "      <td>2021-05-12</td>\n",
              "      <td>1</td>\n",
              "      <td>48.05000</td>\n",
              "    </tr>\n",
              "    <tr>\n",
              "      <th>93978</th>\n",
              "      <td>포도</td>\n",
              "      <td>999.00000</td>\n",
              "      <td>28000</td>\n",
              "      <td>칠레</td>\n",
              "      <td>normal</td>\n",
              "      <td>2021-05-17</td>\n",
              "      <td>1</td>\n",
              "      <td>28.03000</td>\n",
              "    </tr>\n",
              "    <tr>\n",
              "      <th>94279</th>\n",
              "      <td>포도</td>\n",
              "      <td>999.00000</td>\n",
              "      <td>50000</td>\n",
              "      <td>칠레</td>\n",
              "      <td>normal</td>\n",
              "      <td>2021-05-21</td>\n",
              "      <td>1</td>\n",
              "      <td>50.05000</td>\n",
              "    </tr>\n",
              "    <tr>\n",
              "      <th>94828</th>\n",
              "      <td>포도</td>\n",
              "      <td>999.00000</td>\n",
              "      <td>46000</td>\n",
              "      <td>칠레</td>\n",
              "      <td>normal</td>\n",
              "      <td>2021-05-29</td>\n",
              "      <td>1</td>\n",
              "      <td>46.05000</td>\n",
              "    </tr>\n",
              "    <tr>\n",
              "      <th>295866</th>\n",
              "      <td>바나나</td>\n",
              "      <td>133.00000</td>\n",
              "      <td>23000</td>\n",
              "      <td>수입산 에콰도르</td>\n",
              "      <td>normal</td>\n",
              "      <td>2021-05-03</td>\n",
              "      <td>1</td>\n",
              "      <td>172.93000</td>\n",
              "    </tr>\n",
              "    <tr>\n",
              "      <th>441039</th>\n",
              "      <td>오렌지</td>\n",
              "      <td>72.00000</td>\n",
              "      <td>40000</td>\n",
              "      <td>미국</td>\n",
              "      <td>normal</td>\n",
              "      <td>2021-05-04</td>\n",
              "      <td>1</td>\n",
              "      <td>555.56000</td>\n",
              "    </tr>\n",
              "  </tbody>\n",
              "</table>\n",
              "</div>"
            ],
            "text/plain": [
              "        prd     scale   price    origin        eco   reg_date  new_class  \\\n",
              "3884     오이  55.00000  121000    경남 진주시  certified 2021-05-07          1   \n",
              "93287    포도 999.00000   48000        칠레     normal 2021-05-03          1   \n",
              "93589    포도  54.50000   36000    수입산 호주     normal 2021-05-07          1   \n",
              "93765    포도 999.00000   48000        칠레     normal 2021-05-12          1   \n",
              "93978    포도 999.00000   28000        칠레     normal 2021-05-17          1   \n",
              "94279    포도 999.00000   50000        칠레     normal 2021-05-21          1   \n",
              "94828    포도 999.00000   46000        칠레     normal 2021-05-29          1   \n",
              "295866  바나나 133.00000   23000  수입산 에콰도르     normal 2021-05-03          1   \n",
              "441039  오렌지  72.00000   40000        미국     normal 2021-05-04          1   \n",
              "\n",
              "         price_kg  \n",
              "3884   2200.00000  \n",
              "93287    48.05000  \n",
              "93589   660.55000  \n",
              "93765    48.05000  \n",
              "93978    28.03000  \n",
              "94279    50.05000  \n",
              "94828    46.05000  \n",
              "295866  172.93000  \n",
              "441039  555.56000  "
            ]
          },
          "execution_count": 200,
          "metadata": {},
          "output_type": "execute_result"
        }
      ],
      "source": [
        "# 50kg 이상 거래된 건들 이상치라 판단하고 확인 진행\n",
        "df3[df3['scale']>=50]"
      ]
    },
    {
      "cell_type": "code",
      "execution_count": 201,
      "metadata": {},
      "outputs": [
        {
          "data": {
            "text/html": [
              "<div>\n",
              "<style scoped>\n",
              "    .dataframe tbody tr th:only-of-type {\n",
              "        vertical-align: middle;\n",
              "    }\n",
              "\n",
              "    .dataframe tbody tr th {\n",
              "        vertical-align: top;\n",
              "    }\n",
              "\n",
              "    .dataframe thead th {\n",
              "        text-align: right;\n",
              "    }\n",
              "</style>\n",
              "<table border=\"1\" class=\"dataframe\">\n",
              "  <thead>\n",
              "    <tr style=\"text-align: right;\">\n",
              "      <th></th>\n",
              "      <th>prd</th>\n",
              "      <th>scale</th>\n",
              "      <th>price</th>\n",
              "      <th>origin</th>\n",
              "      <th>eco</th>\n",
              "      <th>reg_date</th>\n",
              "      <th>new_class</th>\n",
              "      <th>price_kg</th>\n",
              "    </tr>\n",
              "  </thead>\n",
              "  <tbody>\n",
              "    <tr>\n",
              "      <th>440858</th>\n",
              "      <td>오렌지</td>\n",
              "      <td>18.00000</td>\n",
              "      <td>1000</td>\n",
              "      <td>수입산 미국</td>\n",
              "      <td>normal</td>\n",
              "      <td>2021-05-01</td>\n",
              "      <td>1</td>\n",
              "      <td>55.56000</td>\n",
              "    </tr>\n",
              "    <tr>\n",
              "      <th>440867</th>\n",
              "      <td>오렌지</td>\n",
              "      <td>17.00000</td>\n",
              "      <td>1000</td>\n",
              "      <td>수입산 미국</td>\n",
              "      <td>normal</td>\n",
              "      <td>2021-05-01</td>\n",
              "      <td>1</td>\n",
              "      <td>58.82000</td>\n",
              "    </tr>\n",
              "    <tr>\n",
              "      <th>440958</th>\n",
              "      <td>오렌지</td>\n",
              "      <td>18.00000</td>\n",
              "      <td>1000</td>\n",
              "      <td>미국</td>\n",
              "      <td>normal</td>\n",
              "      <td>2021-05-03</td>\n",
              "      <td>1</td>\n",
              "      <td>55.56000</td>\n",
              "    </tr>\n",
              "    <tr>\n",
              "      <th>441107</th>\n",
              "      <td>오렌지</td>\n",
              "      <td>17.00000</td>\n",
              "      <td>1000</td>\n",
              "      <td>수입산 미국</td>\n",
              "      <td>normal</td>\n",
              "      <td>2021-05-05</td>\n",
              "      <td>1</td>\n",
              "      <td>58.82000</td>\n",
              "    </tr>\n",
              "    <tr>\n",
              "      <th>441208</th>\n",
              "      <td>오렌지</td>\n",
              "      <td>17.00000</td>\n",
              "      <td>1000</td>\n",
              "      <td>수입산 미국</td>\n",
              "      <td>normal</td>\n",
              "      <td>2021-05-06</td>\n",
              "      <td>1</td>\n",
              "      <td>58.82000</td>\n",
              "    </tr>\n",
              "    <tr>\n",
              "      <th>441240</th>\n",
              "      <td>오렌지</td>\n",
              "      <td>18.00000</td>\n",
              "      <td>1000</td>\n",
              "      <td>미국</td>\n",
              "      <td>normal</td>\n",
              "      <td>2021-05-06</td>\n",
              "      <td>1</td>\n",
              "      <td>55.56000</td>\n",
              "    </tr>\n",
              "    <tr>\n",
              "      <th>441410</th>\n",
              "      <td>오렌지</td>\n",
              "      <td>17.00000</td>\n",
              "      <td>5000</td>\n",
              "      <td>수입산 미국</td>\n",
              "      <td>normal</td>\n",
              "      <td>2021-05-10</td>\n",
              "      <td>1</td>\n",
              "      <td>294.12000</td>\n",
              "    </tr>\n",
              "    <tr>\n",
              "      <th>441458</th>\n",
              "      <td>오렌지</td>\n",
              "      <td>18.00000</td>\n",
              "      <td>1000</td>\n",
              "      <td>미국</td>\n",
              "      <td>normal</td>\n",
              "      <td>2021-05-10</td>\n",
              "      <td>1</td>\n",
              "      <td>55.56000</td>\n",
              "    </tr>\n",
              "    <tr>\n",
              "      <th>441806</th>\n",
              "      <td>오렌지</td>\n",
              "      <td>17.00000</td>\n",
              "      <td>1000</td>\n",
              "      <td>수입산 미국</td>\n",
              "      <td>normal</td>\n",
              "      <td>2021-05-20</td>\n",
              "      <td>1</td>\n",
              "      <td>58.82000</td>\n",
              "    </tr>\n",
              "    <tr>\n",
              "      <th>441950</th>\n",
              "      <td>오렌지</td>\n",
              "      <td>17.00000</td>\n",
              "      <td>1000</td>\n",
              "      <td>수입산 미국</td>\n",
              "      <td>normal</td>\n",
              "      <td>2021-05-25</td>\n",
              "      <td>1</td>\n",
              "      <td>58.82000</td>\n",
              "    </tr>\n",
              "    <tr>\n",
              "      <th>441989</th>\n",
              "      <td>오렌지</td>\n",
              "      <td>17.00000</td>\n",
              "      <td>1000</td>\n",
              "      <td>수입산 미국</td>\n",
              "      <td>normal</td>\n",
              "      <td>2021-05-26</td>\n",
              "      <td>1</td>\n",
              "      <td>58.82000</td>\n",
              "    </tr>\n",
              "    <tr>\n",
              "      <th>442111</th>\n",
              "      <td>오렌지</td>\n",
              "      <td>17.00000</td>\n",
              "      <td>1000</td>\n",
              "      <td>미국</td>\n",
              "      <td>normal</td>\n",
              "      <td>2021-05-14</td>\n",
              "      <td>9</td>\n",
              "      <td>58.82000</td>\n",
              "    </tr>\n",
              "  </tbody>\n",
              "</table>\n",
              "</div>"
            ],
            "text/plain": [
              "        prd    scale  price  origin     eco   reg_date  new_class  price_kg\n",
              "440858  오렌지 18.00000   1000  수입산 미국  normal 2021-05-01          1  55.56000\n",
              "440867  오렌지 17.00000   1000  수입산 미국  normal 2021-05-01          1  58.82000\n",
              "440958  오렌지 18.00000   1000      미국  normal 2021-05-03          1  55.56000\n",
              "441107  오렌지 17.00000   1000  수입산 미국  normal 2021-05-05          1  58.82000\n",
              "441208  오렌지 17.00000   1000  수입산 미국  normal 2021-05-06          1  58.82000\n",
              "441240  오렌지 18.00000   1000      미국  normal 2021-05-06          1  55.56000\n",
              "441410  오렌지 17.00000   5000  수입산 미국  normal 2021-05-10          1 294.12000\n",
              "441458  오렌지 18.00000   1000      미국  normal 2021-05-10          1  55.56000\n",
              "441806  오렌지 17.00000   1000  수입산 미국  normal 2021-05-20          1  58.82000\n",
              "441950  오렌지 17.00000   1000  수입산 미국  normal 2021-05-25          1  58.82000\n",
              "441989  오렌지 17.00000   1000  수입산 미국  normal 2021-05-26          1  58.82000\n",
              "442111  오렌지 17.00000   1000      미국  normal 2021-05-14          9  58.82000"
            ]
          },
          "execution_count": 201,
          "metadata": {},
          "output_type": "execute_result"
        }
      ],
      "source": [
        "df3[(df3['prd']=='오렌지')&(df3['price_kg']<500)]"
      ]
    },
    {
      "cell_type": "code",
      "execution_count": 202,
      "metadata": {
        "id": "v1EZDKB59dJp"
      },
      "outputs": [],
      "source": [
        "# 스케일 오표기된 항목 수정\n",
        "\n",
        "# 다른 품목은 확인 결과 문제 없음\n",
        "# 포도 & 호박만 이상치로 판단하고 모두 삭제\n",
        "df3 = df3.drop(df3[(df3['scale']>=50)&(df3['prd']=='호박')].index)\n",
        "df3 = df3.drop(df3[(df3['scale']>=50)&(df3['prd']=='포도')].index)"
      ]
    },
    {
      "cell_type": "code",
      "execution_count": 203,
      "metadata": {},
      "outputs": [
        {
          "data": {
            "text/html": [
              "<div>\n",
              "<style scoped>\n",
              "    .dataframe tbody tr th:only-of-type {\n",
              "        vertical-align: middle;\n",
              "    }\n",
              "\n",
              "    .dataframe tbody tr th {\n",
              "        vertical-align: top;\n",
              "    }\n",
              "\n",
              "    .dataframe thead th {\n",
              "        text-align: right;\n",
              "    }\n",
              "</style>\n",
              "<table border=\"1\" class=\"dataframe\">\n",
              "  <thead>\n",
              "    <tr style=\"text-align: right;\">\n",
              "      <th></th>\n",
              "      <th>prd</th>\n",
              "      <th>scale</th>\n",
              "      <th>price</th>\n",
              "      <th>origin</th>\n",
              "      <th>eco</th>\n",
              "      <th>reg_date</th>\n",
              "      <th>new_class</th>\n",
              "      <th>price_kg</th>\n",
              "    </tr>\n",
              "  </thead>\n",
              "  <tbody>\n",
              "    <tr>\n",
              "      <th>3884</th>\n",
              "      <td>오이</td>\n",
              "      <td>55.00000</td>\n",
              "      <td>121000</td>\n",
              "      <td>경남 진주시</td>\n",
              "      <td>certified</td>\n",
              "      <td>2021-05-07</td>\n",
              "      <td>1</td>\n",
              "      <td>2200.00000</td>\n",
              "    </tr>\n",
              "    <tr>\n",
              "      <th>295866</th>\n",
              "      <td>바나나</td>\n",
              "      <td>133.00000</td>\n",
              "      <td>23000</td>\n",
              "      <td>수입산 에콰도르</td>\n",
              "      <td>normal</td>\n",
              "      <td>2021-05-03</td>\n",
              "      <td>1</td>\n",
              "      <td>172.93000</td>\n",
              "    </tr>\n",
              "    <tr>\n",
              "      <th>441039</th>\n",
              "      <td>오렌지</td>\n",
              "      <td>72.00000</td>\n",
              "      <td>40000</td>\n",
              "      <td>미국</td>\n",
              "      <td>normal</td>\n",
              "      <td>2021-05-04</td>\n",
              "      <td>1</td>\n",
              "      <td>555.56000</td>\n",
              "    </tr>\n",
              "  </tbody>\n",
              "</table>\n",
              "</div>"
            ],
            "text/plain": [
              "        prd     scale   price    origin        eco   reg_date  new_class  \\\n",
              "3884     오이  55.00000  121000    경남 진주시  certified 2021-05-07          1   \n",
              "295866  바나나 133.00000   23000  수입산 에콰도르     normal 2021-05-03          1   \n",
              "441039  오렌지  72.00000   40000        미국     normal 2021-05-04          1   \n",
              "\n",
              "         price_kg  \n",
              "3884   2200.00000  \n",
              "295866  172.93000  \n",
              "441039  555.56000  "
            ]
          },
          "execution_count": 203,
          "metadata": {},
          "output_type": "execute_result"
        }
      ],
      "source": [
        "df3[df3['scale']>=50]"
      ]
    },
    {
      "cell_type": "markdown",
      "metadata": {
        "id": "5I9D6wZCWDhi"
      },
      "source": [
        "### origin"
      ]
    },
    {
      "cell_type": "code",
      "execution_count": 204,
      "metadata": {
        "colab": {
          "base_uri": "https://localhost:8080/"
        },
        "id": "pI0Ezwn-VgXP",
        "outputId": "8d8f9387-01cb-4c3a-a3c9-e521b970aafb"
      },
      "outputs": [
        {
          "data": {
            "text/plain": [
              "array(['경기 양주시', '경북 상주시', '충남 천안시', '경기 안성시', '경기 여주시', '경기 연천군',\n",
              "       '경기 남양주시', '충북 진천군', '충북 청원군', '충남 논산시', '충남 부여군', '충남 공주시',\n",
              "       '서울 도봉구', '전남 고흥군', '경기 여주군', '경기 이천시', '대전 동구', '대전 서구', '충북 청주시',\n",
              "       '경기', '충북 음성군', '충남 보령시', '충남 아산시', '경북 문경시', '세종', '경기 평택시',\n",
              "       '경남 창녕군', '강원 춘천시', '경기 안산시', '충남 서천군', '충남 예산군', '전남 광양시',\n",
              "       '전남 순천시', '강원 철원군', '전남 구례군', '전북 진안군', '전북 남원시', '전남 나주시',\n",
              "       '전남 보성군', '서울', '경남 진주시', '경남 고성군', '전남 강진군', '전남 장흥군', '강원 홍천군',\n",
              "       '경기 양주시 광적면', '충남 천안시 동남구', '경기 파주시', '광주 광산구', '인천 강화군', '충남',\n",
              "       '경기 양주군', '경기도 안성시', '경기도 양주군', '경기도 평택시', '강원도 철원군', '경기도 고양시',\n",
              "       '경기도 남양주시', '경기 포천시', '서울 강동구', '경기 의정부', '서울시 도봉구', '충남 천안시 광덕면',\n",
              "       '경남 합천군', '대전 대덕구', '경기 고양시', '경기도 광명시', '경남 밀양시', '경기 양주시 백석읍',\n",
              "       '충북 충주시', '충남 부여군 임천면', '전북 임실군', '충남 부여군 세도면', '충남 서산시', '경기 양평군',\n",
              "       '경기 하남시', '강원 화천군', '인천 강화군 불은면', '경기 광주시', '경기 김포시', '강원 양구군',\n",
              "       '전북 익산시', '전북 전주시', '경기 안성시 양성면', '전주시 완산구', '강원 횡성군',\n",
              "       '충남 논산시 가야곡면', '경기 안성시 고삼면', '경기 남양주', '경기 포천시 영북면', '경북 군위군',\n",
              "       '충남 당진시', '전남 여수시', '전남 나주시 공산면', '전라북도 순창군', '전남', '전남 여수시 돌산읍',\n",
              "       '경남 남해군', '강원 양양군', '전라북도 순', '전남 진도군', '경기 평택시 고덕면', '전남 여수시 남면',\n",
              "       '전남 나주시 산포면', '충남 태안군', '충남 홍성군', '광주 남구', '광주시 광산구', '광주시 남구',\n",
              "       '광주 광주', '대전시 대덕구', '충남 보령시 남포면', '전남 고흥군 도화면', '전북 순창군',\n",
              "       '수입산 베트남', '필리핀', '베트남', '미국', '서울 송파구', '경기 남양주시 진건읍', '경북 영천시',\n",
              "       '충북 영동군', '경북 김천시', '경북 경산시 와촌면', '대구 북구', '경남 밀양시 부북면', '경남 함안군',\n",
              "       '경남 함양군', '경북 경산시', '수입산 미국', '제주 제주시', '경남 의령군', '제주 서귀포시',\n",
              "       '전남 무안군', '충북 제천시', '경남 하동군', '강원 평창군', '경북 구미시', '충남 아산시 도고면',\n",
              "       '강원 인제군', '제주', '제주도 제주시', '전북 고창군', '서울시 강서구', '충남 아산시 신창면',\n",
              "       '뉴질랜드', '대구', '경북 성주군', '경북 칠곡군', '경북 고령군', '경북 안동시', '대구 달성군',\n",
              "       '경북', '경남 남해군 고현면', '전남 해남군', '전남 신안군', '경남', '강원 영월군 하동면',\n",
              "       '경남 하동군 금남면', '경기도 여주군', '경기 용인시', '경기도 파주시', '칠레', '페루', '대구 동구',\n",
              "       '경북 경주시', '우즈베크', '전남 영암군', '경기 화성시', '전북 부안군', '충남 청양군', '전북 완주군',\n",
              "       '경기도 광주군', '전남 광양시 다압면', '전남 완도군', '경기 양평군 양동면', '제주 북제주군',\n",
              "       '강원 태백시', '경기 구리시', '충남 논산시 양촌면', '경기 김포시 양촌면', '인천 계양구',\n",
              "       '서울시 양천구', '경기도 하남시', '경기 안성시 일죽면', '경기도 부천시', '충북 괴산군', '충북',\n",
              "       '충북 음성군 맹동면', '경기 성남시', '제주 남제주군', '충남 논산시 부적면', '전북',\n",
              "       '경남 산청군 신안면', '충남 금산군', '광주 북구', '중국', '부산 강서구', '전남 담양군',\n",
              "       '경남 산청군', '전남 영광군', '충북 옥천군', '전북 군산시', '전남 화순군', '강원 춘천시 남산면',\n",
              "       '경남 사천시', '부산시 강서구', '경남 김해시', '전북 정읍시', '강원', '제주 서귀포', '전북 장수군',\n",
              "       '전북 김제시', '전남 함평군', '광주 서구', '강원 춘천시 신북읍', '강원도 춘천시', '경기도 가평군',\n",
              "       '경남 마산시', '경남 창원시', '전남 장성군', '부산 부산진구', '부산', '경북 청도군',\n",
              "       '경상남도 창원시', '강원 고성군', '부산 중구', '경남 창원시 성산구', '경기 오산시', '서울 영등포구',\n",
              "       '경기 가평군', '경기 고양시덕양구', '전북 무주군', '강원 철원군 김화읍', '인천', '서울 중구',\n",
              "       '경북 예천군', '서울 강서구', '서울 은평구', '인천 남구', '청주시 상당구', '인천 남동구',\n",
              "       '세종 특별자치시', '경기 고양시 일산동구', '전주시 덕진구', '서울 양천구', '경기 의정부시',\n",
              "       '성남시 중원구', '경기 광명시', '인도네시아', '수입산 필리핀', '수입산 인도네시아', '서울 강남구',\n",
              "       '수입산 코스타리카', '인천광역시 남구', '인천 옹진군', '인천시 부평구', '경남 진주시 금곡면',\n",
              "       '인천 부평구', '경남 함안군 가야읍', '전북 익산시 춘포면', '경남 진주시 대곡면', '강원 철원군 갈말읍',\n",
              "       '호주', '수입산 칠레', '수입산 호주', '수입산 페루', '오스트레일', '대전시 동구', '대전 유성구',\n",
              "       '태국', '강원 홍천군 남면', '인천시 계양구', '충남 홍성군 은하면', '경기 이천시 대월면',\n",
              "       '전라남도 나주시', '충남 천안시 서북구', '경기 의왕시 초평로 1', '경기 용인시 구성읍',\n",
              "       '충남 논산시 연산면', '경남 밀양시 단장면', '전남 곡성군', '광주', '광주시 서구', '강원 강릉시',\n",
              "       '인천 미추홀구', '경기 미금시', '수입산 뉴질랜드', '경기도 포천군', '경남 거제시', '전북 전주시덕진구',\n",
              "       '경남 고성군 영오면', '경기도 김포시', '전라북도 전주시', '전라북도 전', '충북 청주시흥덕구',\n",
              "       '충북 청주시 없음', '경기 고양시일산구', '경남 창원시 의창구', '서울시 강동구', '제주도 서귀포시',\n",
              "       '제주특별자치도 서귀', '제주 서귀포시(2)', '강원 정선군', '전라북도 부안군', '강원도 평창군',\n",
              "       '경북 안동시 도산면', '경북 의성군', '경남 밀양시 무안면', '경북 영주시', '경북 봉화군', '세종시',\n",
              "       '경기 여주시 가남면', '대구 달서구', '경북 영덕군', '경남 고성군 개천면', '전남 영암군 군서면',\n",
              "       '세종 세종시', '부산 사상구', '전남 보성군 득량면', '전남 보성군 회천면', '인천시 강화군',\n",
              "       '강원 홍천군 내면', '충남 서산시 부석면', '충남 당진시 신평면', '강원 원주시', '충남 당진시 순성면',\n",
              "       '경기 부천시', '전남 목포시', '전북 김제시 황산면', '서울시 은평구', '경기 고양시 덕양구',\n",
              "       '경기 안양시동안구', '전라북도 익산시', '가락동', '충남 태안군 남면', '경기 포천군', '서울 중랑구',\n",
              "       '경기도 시흥시', '멕시코', '우즈베키스탄', '경남 김해시 대동면', '경북 김천시 조마면', '서울 동대문구',\n",
              "       '경기 의왕시', '경기 시흥시', '대구 달성군 논공읍', '경북 영양군', '경기 동두천시', '서울 서초구',\n",
              "       '울산 북구', '포항시 북구', '성남시 분당구', '포항시 남구', '광주시 북구', '경기 남양주시 와부읍',\n",
              "       '경기도 양평군', '경기 양평군 청운면', '수입산 중국', '경남 창원시 대산면', '부산 기장군', '부산 북구',\n",
              "       '경남 양산시', '경기고양시일산구', '전북전주시완산구', '충북청주시상당구', '경기 고양시 일산',\n",
              "       '경남 거창군', '전라북도 남원시', '충청남도 논산시', '부산시 북구', '전라북도 남', '충청남도 논',\n",
              "       '경남 하동군 진교면', '수입산 멕시코', '제주 북제주', '서울시 송파구', '서울 동작구', '인천 서구',\n",
              "       '제주 남제주', '타이', '수입산 태국', '수입산 캄보디아', '브라질', '수입산 브라질', '수입산 대만',\n",
              "       '대만', '전남 순천시 서면', '경기 가평군 북면', '전라남도 곡성군', '충북 음성군 금왕읍',\n",
              "       '제주 제주시(2)', '부산시 기장군', '전남 나주시 노안면', '부천시 오정구', '경기 부천시오정구',\n",
              "       '경남 밀양시 청도면', '콜롬비아', '과테말라', '에콰도르', '코스타리카', '에쿠아도르', '에콰돌',\n",
              "       '수입산 과테말라', '수입산 에콰도르', '수입산 콜롬비아', '기타외국', '경기 수원시', '전북 익산시 망성면',\n",
              "       '경북 포항시', '경기 성남시수정구', '경기 이천시 장호원읍', '경기 여주시 가남읍', '경기 이천시 설성면',\n",
              "       '강원 영월군', '경북 울진군', '경기 평택시 안중읍', '경북 문경시 농암면', '강원 삼척시',\n",
              "       '청주시 흥덕구', '충북 증평군', '경기 안양시', '강원 동해시', '경남 통영시', '충북 영동군 매곡면',\n",
              "       '전북 순창군 구림면', '경남 사천시 곤명면', '서울 구로구', '경북 청송군', '경북 영주시 부석면',\n",
              "       '경북 영천시 화남면', '충북 보은군', '대구시 동구', '경북 안동시 풍산읍', '경북 영주시 단산면',\n",
              "       '경북 안동시 길안면', '경북 문경시 가은읍', '대구시 중구', '대구 남구', '충남 논산시 성동면',\n",
              "       '충남 계룡시', '충남 논산시 연무읍', '강원 속초시', '부산 서구', '강원도 횡성군', '전북 정읍시 감곡면',\n",
              "       '충남 당진시 송악면', '충남 태안군 태안읍', '대구시 달성군', '대구 달성군 옥포면', '대구시 달서구',\n",
              "       '충남 공주시 정안면', '경기 동두천시 동두천', '경북 구미시 고아읍', '제주 제주시 애월읍', '경북/문경시',\n",
              "       '경북/안동시', '서울 영등포', '경기도 동두천시', '캘리포니아', '수입 중국', '원양산', '수입 페루',\n",
              "       '수입 칠레', '국내산', '경북 울진(후포)', '전북 군산', '수입 베트남', '수입 아르헨티나',\n",
              "       '경남 통영', '수입 타이', '전남 여수', '전남 목포(무안)', '제주 제주도', '전남 영광',\n",
              "       '전남 순천(광양)', '경기 화성(평택)', '경기 인천', '경기 강화', '충남 장항(서천)', '충남 서산',\n",
              "       '경남 삼천포', '경남 마산(고성,진해)', '전남 진도', '전북 부안', '경남 남해', '수입 뉴질랜드',\n",
              "       '수입 러시아', '수입 미국', '수입 기타', '수입 세네갈', '수입 모로코', '전남 고흥(나로도)',\n",
              "       '수입 말레이지아', '충남 태안', '수입 바레인', '수입 노르웨이', '수입 인도네시아', '전남 보성(벌교)',\n",
              "       '수입 에콰도르', '수입 인도'], dtype=object)"
            ]
          },
          "execution_count": 204,
          "metadata": {},
          "output_type": "execute_result"
        }
      ],
      "source": [
        "# 도,시, 국산, 수입 표기 분류 필요\n",
        "df3['origin'].unique()"
      ]
    },
    {
      "cell_type": "code",
      "execution_count": 205,
      "metadata": {
        "colab": {
          "base_uri": "https://localhost:8080/",
          "height": 423
        },
        "id": "rvX1g3c_Ll2C",
        "outputId": "56330691-579b-46aa-b24a-046112748253"
      },
      "outputs": [
        {
          "data": {
            "text/html": [
              "<div>\n",
              "<style scoped>\n",
              "    .dataframe tbody tr th:only-of-type {\n",
              "        vertical-align: middle;\n",
              "    }\n",
              "\n",
              "    .dataframe tbody tr th {\n",
              "        vertical-align: top;\n",
              "    }\n",
              "\n",
              "    .dataframe thead th {\n",
              "        text-align: right;\n",
              "    }\n",
              "</style>\n",
              "<table border=\"1\" class=\"dataframe\">\n",
              "  <thead>\n",
              "    <tr style=\"text-align: right;\">\n",
              "      <th></th>\n",
              "      <th>prd</th>\n",
              "      <th>scale</th>\n",
              "      <th>price</th>\n",
              "      <th>origin</th>\n",
              "      <th>eco</th>\n",
              "      <th>reg_date</th>\n",
              "      <th>new_class</th>\n",
              "      <th>price_kg</th>\n",
              "      <th>0</th>\n",
              "      <th>1</th>\n",
              "      <th>2</th>\n",
              "      <th>3</th>\n",
              "    </tr>\n",
              "  </thead>\n",
              "  <tbody>\n",
              "    <tr>\n",
              "      <th>0</th>\n",
              "      <td>오이</td>\n",
              "      <td>8.00000</td>\n",
              "      <td>10000</td>\n",
              "      <td>경기 양주시</td>\n",
              "      <td>normal</td>\n",
              "      <td>2021-04-30</td>\n",
              "      <td>1</td>\n",
              "      <td>1250.00000</td>\n",
              "      <td>경기</td>\n",
              "      <td>양주시</td>\n",
              "      <td>NaN</td>\n",
              "      <td>NaN</td>\n",
              "    </tr>\n",
              "    <tr>\n",
              "      <th>1</th>\n",
              "      <td>오이</td>\n",
              "      <td>8.00000</td>\n",
              "      <td>11700</td>\n",
              "      <td>경기 양주시</td>\n",
              "      <td>normal</td>\n",
              "      <td>2021-04-30</td>\n",
              "      <td>1</td>\n",
              "      <td>1462.50000</td>\n",
              "      <td>경기</td>\n",
              "      <td>양주시</td>\n",
              "      <td>NaN</td>\n",
              "      <td>NaN</td>\n",
              "    </tr>\n",
              "    <tr>\n",
              "      <th>2</th>\n",
              "      <td>오이</td>\n",
              "      <td>18.00000</td>\n",
              "      <td>28000</td>\n",
              "      <td>경북 상주시</td>\n",
              "      <td>normal</td>\n",
              "      <td>2021-04-30</td>\n",
              "      <td>1</td>\n",
              "      <td>1555.56000</td>\n",
              "      <td>경북</td>\n",
              "      <td>상주시</td>\n",
              "      <td>NaN</td>\n",
              "      <td>NaN</td>\n",
              "    </tr>\n",
              "    <tr>\n",
              "      <th>3</th>\n",
              "      <td>오이</td>\n",
              "      <td>18.00000</td>\n",
              "      <td>20000</td>\n",
              "      <td>경북 상주시</td>\n",
              "      <td>normal</td>\n",
              "      <td>2021-04-30</td>\n",
              "      <td>1</td>\n",
              "      <td>1111.11000</td>\n",
              "      <td>경북</td>\n",
              "      <td>상주시</td>\n",
              "      <td>NaN</td>\n",
              "      <td>NaN</td>\n",
              "    </tr>\n",
              "    <tr>\n",
              "      <th>4</th>\n",
              "      <td>오이</td>\n",
              "      <td>8.00000</td>\n",
              "      <td>13000</td>\n",
              "      <td>충남 천안시</td>\n",
              "      <td>normal</td>\n",
              "      <td>2021-04-30</td>\n",
              "      <td>1</td>\n",
              "      <td>1625.00000</td>\n",
              "      <td>충남</td>\n",
              "      <td>천안시</td>\n",
              "      <td>NaN</td>\n",
              "      <td>NaN</td>\n",
              "    </tr>\n",
              "    <tr>\n",
              "      <th>...</th>\n",
              "      <td>...</td>\n",
              "      <td>...</td>\n",
              "      <td>...</td>\n",
              "      <td>...</td>\n",
              "      <td>...</td>\n",
              "      <td>...</td>\n",
              "      <td>...</td>\n",
              "      <td>...</td>\n",
              "      <td>...</td>\n",
              "      <td>...</td>\n",
              "      <td>...</td>\n",
              "      <td>...</td>\n",
              "    </tr>\n",
              "    <tr>\n",
              "      <th>449218</th>\n",
              "      <td>소라</td>\n",
              "      <td>10.00000</td>\n",
              "      <td>65000</td>\n",
              "      <td>국내산</td>\n",
              "      <td>normal</td>\n",
              "      <td>2021-05-27</td>\n",
              "      <td>3</td>\n",
              "      <td>6500.00000</td>\n",
              "      <td>국내산</td>\n",
              "      <td>NaN</td>\n",
              "      <td>NaN</td>\n",
              "      <td>NaN</td>\n",
              "    </tr>\n",
              "    <tr>\n",
              "      <th>449219</th>\n",
              "      <td>소라</td>\n",
              "      <td>10.00000</td>\n",
              "      <td>50000</td>\n",
              "      <td>국내산</td>\n",
              "      <td>normal</td>\n",
              "      <td>2021-05-27</td>\n",
              "      <td>3</td>\n",
              "      <td>5000.00000</td>\n",
              "      <td>국내산</td>\n",
              "      <td>NaN</td>\n",
              "      <td>NaN</td>\n",
              "      <td>NaN</td>\n",
              "    </tr>\n",
              "    <tr>\n",
              "      <th>449220</th>\n",
              "      <td>소라</td>\n",
              "      <td>10.00000</td>\n",
              "      <td>50000</td>\n",
              "      <td>국내산</td>\n",
              "      <td>normal</td>\n",
              "      <td>2021-05-28</td>\n",
              "      <td>3</td>\n",
              "      <td>5000.00000</td>\n",
              "      <td>국내산</td>\n",
              "      <td>NaN</td>\n",
              "      <td>NaN</td>\n",
              "      <td>NaN</td>\n",
              "    </tr>\n",
              "    <tr>\n",
              "      <th>449221</th>\n",
              "      <td>소라</td>\n",
              "      <td>10.00000</td>\n",
              "      <td>107000</td>\n",
              "      <td>전북 군산</td>\n",
              "      <td>normal</td>\n",
              "      <td>2021-05-29</td>\n",
              "      <td>3</td>\n",
              "      <td>10700.00000</td>\n",
              "      <td>전북</td>\n",
              "      <td>군산</td>\n",
              "      <td>NaN</td>\n",
              "      <td>NaN</td>\n",
              "    </tr>\n",
              "    <tr>\n",
              "      <th>449222</th>\n",
              "      <td>소라</td>\n",
              "      <td>10.00000</td>\n",
              "      <td>117000</td>\n",
              "      <td>전북 군산</td>\n",
              "      <td>normal</td>\n",
              "      <td>2021-05-29</td>\n",
              "      <td>3</td>\n",
              "      <td>11700.00000</td>\n",
              "      <td>전북</td>\n",
              "      <td>군산</td>\n",
              "      <td>NaN</td>\n",
              "      <td>NaN</td>\n",
              "    </tr>\n",
              "  </tbody>\n",
              "</table>\n",
              "<p>449217 rows × 12 columns</p>\n",
              "</div>"
            ],
            "text/plain": [
              "       prd    scale   price  origin     eco   reg_date  new_class    price_kg  \\\n",
              "0       오이  8.00000   10000  경기 양주시  normal 2021-04-30          1  1250.00000   \n",
              "1       오이  8.00000   11700  경기 양주시  normal 2021-04-30          1  1462.50000   \n",
              "2       오이 18.00000   28000  경북 상주시  normal 2021-04-30          1  1555.56000   \n",
              "3       오이 18.00000   20000  경북 상주시  normal 2021-04-30          1  1111.11000   \n",
              "4       오이  8.00000   13000  충남 천안시  normal 2021-04-30          1  1625.00000   \n",
              "...     ..      ...     ...     ...     ...        ...        ...         ...   \n",
              "449218  소라 10.00000   65000     국내산  normal 2021-05-27          3  6500.00000   \n",
              "449219  소라 10.00000   50000     국내산  normal 2021-05-27          3  5000.00000   \n",
              "449220  소라 10.00000   50000     국내산  normal 2021-05-28          3  5000.00000   \n",
              "449221  소라 10.00000  107000   전북 군산  normal 2021-05-29          3 10700.00000   \n",
              "449222  소라 10.00000  117000   전북 군산  normal 2021-05-29          3 11700.00000   \n",
              "\n",
              "          0    1    2    3  \n",
              "0        경기  양주시  NaN  NaN  \n",
              "1        경기  양주시  NaN  NaN  \n",
              "2        경북  상주시  NaN  NaN  \n",
              "3        경북  상주시  NaN  NaN  \n",
              "4        충남  천안시  NaN  NaN  \n",
              "...     ...  ...  ...  ...  \n",
              "449218  국내산  NaN  NaN  NaN  \n",
              "449219  국내산  NaN  NaN  NaN  \n",
              "449220  국내산  NaN  NaN  NaN  \n",
              "449221   전북   군산  NaN  NaN  \n",
              "449222   전북   군산  NaN  NaN  \n",
              "\n",
              "[449217 rows x 12 columns]"
            ]
          },
          "execution_count": 205,
          "metadata": {},
          "output_type": "execute_result"
        }
      ],
      "source": [
        "# 해당 조건에 맞는 값 추출\n",
        "\n",
        "splits = df3['origin'].str.split(' ')\n",
        "cacul = splits.apply(lambda x: pd.Series(x))\n",
        "df66 = pd.merge(df3,cacul, left_index=True, right_index=True, how='inner')\n",
        "df66"
      ]
    },
    {
      "cell_type": "code",
      "execution_count": 206,
      "metadata": {
        "id": "NVkmVZ7ip9-N"
      },
      "outputs": [],
      "source": [
        "# 세부 카테고리 정리 (state, city 편집 시 여기서 시작)\n",
        "\n",
        "df4 = df66.rename(columns = {0:'state',1:'city'})\n",
        "\n",
        "# 2,3은 필요없는 정보이므로 삭제\n",
        "df4 = df4.drop(columns=[2,3])"
      ]
    },
    {
      "cell_type": "code",
      "execution_count": 207,
      "metadata": {
        "colab": {
          "base_uri": "https://localhost:8080/"
        },
        "id": "JcsSUlI_27J3",
        "outputId": "817067e6-2645-4c9c-c86f-047b1471bb9b"
      },
      "outputs": [
        {
          "data": {
            "text/plain": [
              "array(['경기', '경북', '충남', '충북', '서울', '전남', '대전', '세종', '경남', '강원', '전북',\n",
              "       '광주', '인천', '경기도', '강원도', '서울시', '전주시', '전라북도', '광주시', '대전시',\n",
              "       '수입산', '필리핀', '베트남', '미국', '대구', '제주', '제주도', '뉴질랜드', '칠레', '페루',\n",
              "       '우즈베크', '중국', '부산', '부산시', '경상남도', '청주시', '성남시', '인도네시아', '인천광역시',\n",
              "       '인천시', '호주', '오스트레일', '태국', '전라남도', '제주특별자치도', '세종시', '가락동', '멕시코',\n",
              "       '우즈베키스탄', '울산', '포항시', '경기고양시일산구', '전북전주시완산구', '충북청주시상당구', '충청남도',\n",
              "       '타이', '브라질', '대만', '부천시', '콜롬비아', '과테말라', '에콰도르', '코스타리카', '에쿠아도르',\n",
              "       '에콰돌', '기타외국', '대구시', '경북/문경시', '경북/안동시', '캘리포니아', '수입', '원양산',\n",
              "       '국내산'], dtype=object)"
            ]
          },
          "execution_count": 207,
          "metadata": {},
          "output_type": "execute_result"
        }
      ],
      "source": [
        "df4['state'].unique()"
      ]
    },
    {
      "cell_type": "code",
      "execution_count": 208,
      "metadata": {
        "id": "SsvDFEbgqQjD"
      },
      "outputs": [],
      "source": [
        "# 시,도 제거\n",
        "def name_sort(words):\n",
        "  p = re.compile('[^시도]+')\n",
        "  word = re.search(p,str(words))\n",
        "  return word.group()\n",
        "\n",
        "df4[\"state\"] = df4[\"state\"].apply(name_sort)\n",
        "\n",
        "# 오타도 제거\n",
        "\n",
        "def name_sort2(words):\n",
        "  p = re.compile('[^\\t]+')\n",
        "  word = re.search(p,words)\n",
        "  return word.group()\n",
        "\n",
        "df4[\"state\"] = df4[\"state\"].apply(name_sort2)"
      ]
    },
    {
      "cell_type": "code",
      "execution_count": 209,
      "metadata": {
        "colab": {
          "base_uri": "https://localhost:8080/"
        },
        "id": "JeybBf_fqhqh",
        "outputId": "b5542367-86fe-4c6e-deab-f28f7d1ce6f5"
      },
      "outputs": [
        {
          "data": {
            "text/plain": [
              "array(['경기', '경북', '충남', '충북', '서울', '전남', '대전', '세종', '경남', '강원', '전북',\n",
              "       '광주', '인천', '전주', '전라북', '수입산', '필리핀', '베트남', '미국', '대구', '제주',\n",
              "       '뉴질랜드', '칠레', '페루', '우즈베크', '중국', '부산', '경상남', '청주', '성남', '인',\n",
              "       '인천광역', '호주', '오스트레일', '태국', '전라남', '제주특별자치', '가락동', '멕', '우즈베키스탄',\n",
              "       '울산', '포항', '경기고양', '전북전주', '충북청주', '충청남', '타이', '브라질', '대만', '부천',\n",
              "       '콜롬비아', '과테말라', '에콰', '코스타리카', '에쿠아', '에콰돌', '기타외국', '경북/문경',\n",
              "       '경북/안동', '캘리포니아', '수입', '원양산', '국내산'], dtype=object)"
            ]
          },
          "execution_count": 209,
          "metadata": {},
          "output_type": "execute_result"
        }
      ],
      "source": [
        "df4[\"state\"].unique()"
      ]
    },
    {
      "cell_type": "code",
      "execution_count": 210,
      "metadata": {
        "id": "FDUnVy0e1br6"
      },
      "outputs": [],
      "source": [
        "# state\n",
        "# 특이케이스 제거\n",
        "\n",
        "# 국내\n",
        "df4.loc[df4[\"state\"]==\"국내산\",\"city\"] = \"미상\"\n",
        "df4.loc[df4[\"state\"]==\"국내산\",\"state\"] = \"국산\"\n",
        "df4.loc[df4[\"state\"]==\"원양산\",\"city\"] = \"미상\"\n",
        "\n",
        "## 도단위\n",
        "df4.loc[df4[\"state\"]==\"충청북\",\"state\"] = \"충북\"\n",
        "df4.loc[df4[\"state\"]==\"충청남\",\"state\"] = \"충남\"\n",
        "df4.loc[df4[\"state\"]==\"전라북\",\"state\"] = \"전북\"\n",
        "df4.loc[df4[\"state\"]==\"전라남\",\"state\"] = \"전남\"\n",
        "df4.loc[df4[\"state\"]==\"경상북\",\"state\"] = \"경북\"\n",
        "df4.loc[df4[\"state\"]==\"경상남\",\"state\"] = \"경남\"\n",
        "\n",
        "## 시단위\n",
        "### 광역시\n",
        "\n",
        "df4.loc[df4[\"state\"]==\"대전\",\"city\"] = \"대전\"\n",
        "df4.loc[df4[\"state\"]==\"대구\",\"city\"] = \"대구\"\n",
        "df4.loc[df4[\"state\"]==\"서울특별\",\"city\"] = \"서울\"\n",
        "df4.loc[df4[\"state\"]==\"서울특별\",\"state\"] = \"서울\"\n",
        "df4.loc[df4[\"state\"]==\"인천광역\",\"city\"] = \"인천\"\n",
        "df4.loc[df4[\"state\"]==\"인천광역\",\"state\"] = \"인천\"\n",
        "df4.loc[df4[\"state\"]==\"부산\",\"city\"] = \"부산\"\n",
        "df4.loc[df4[\"state\"]==\"가락동\",\"city\"] = \"서울\"\n",
        "df4.loc[df4[\"state\"]==\"가락동\",\"state\"] = \"서울\"\n",
        "df4.loc[df4[\"state\"]==\"세종\",\"city\"] = \"세종\"\n",
        "df4.loc[df4[\"state\"]==\"대전\",\"city\"] = \"대전\"\n",
        "df4.loc[df4[\"state\"]==\"제주\",\"city\"] = \"제주\"\n",
        "df4.loc[df4[\"state\"]==\"제주특별자치\",\"city\"] = \"제주\"\n",
        "df4.loc[df4[\"state\"]==\"제주특별자치\",\"state\"] = \"제주\"\n",
        "df4.loc[df4[\"state\"]==\"제주특별자\",\"city\"] = \"제주\"\n",
        "df4.loc[df4[\"state\"]==\"제주특별자\",\"state\"] = \"제주\"\n",
        "df4.loc[df4[\"state\"]==\"제주/서귀포\",\"city\"] = \"제주\"\n",
        "df4.loc[df4[\"state\"]==\"제주/서귀포\",\"state\"] = \"제주\"\n",
        "df4.loc[df4[\"state\"]==\"세종\",\"city\"] = \"세종\"\n",
        "df4.loc[df4[\"state\"]==\"울산\",\"city\"] = \"울산\"\n",
        "df4.loc[df4[\"state\"]==\"울산\",\"state\"] = \"울산\"\n",
        "\n",
        "### 일반시\n",
        "df4.loc[df4[\"state\"]==\"성남\",\"city\"] = \"성남\"\n",
        "df4.loc[df4[\"state\"]==\"성남\",\"state\"] = \"경기\"\n",
        "df4.loc[df4[\"state\"]==\"전주\",\"city\"] = \"전주\"\n",
        "df4.loc[df4[\"state\"]==\"전주\",\"state\"] = \"전북\"\n",
        "df4.loc[df4[\"state\"]==\"청주\",\"city\"] = \"청주\"\n",
        "df4.loc[df4[\"state\"]==\"청주\",\"state\"] = \"충북\"\n",
        "df4.loc[df4[\"state\"]==\"수원\",\"city\"] = \"수원\"\n",
        "df4.loc[df4[\"state\"]==\"수원\",\"state\"] = \"경기\"\n",
        "df4.loc[df4[\"state\"]==\"부천\",\"city\"] = \"부천\"\n",
        "df4.loc[df4[\"state\"]==\"부천\",\"state\"] = \"경기\"\n",
        "df4.loc[df4[\"state\"]==\"경기고양\",\"city\"] = \"고양\"\n",
        "df4.loc[df4[\"state\"]==\"경기고양\",\"state\"] = \"경기\"\n",
        "df4.loc[df4[\"state\"]==\"충북청주\",\"city\"] = \"청주\"\n",
        "df4.loc[df4[\"state\"]==\"충북청주\",\"state\"] = \"충북\"\n",
        "df4.loc[df4[\"state\"]==\"전북전주\",\"city\"] = \"전주\"\n",
        "df4.loc[df4[\"state\"]==\"전북전주\",\"state\"] = \"전북\"\n",
        "df4.loc[df4[\"state\"]==\"경북/문경\",\"city\"] = \"문경\"\n",
        "df4.loc[df4[\"state\"]==\"경북/문경\",\"state\"] = \"경북\"\n",
        "df4.loc[df4[\"state\"]==\"포항\",\"city\"] = \"포항\"\n",
        "df4.loc[df4[\"state\"]==\"포항\",\"state\"] = \"경북\"\n",
        "df4.loc[df4[\"state\"]==\"경북/안동\",\"city\"] = \"안동\"\n",
        "df4.loc[df4[\"state\"]==\"경북/안동\",\"state\"] = \"경북\"\n",
        "\n",
        "\n",
        "# 외국\n",
        "## 아시아\n",
        "df4.loc[df4[\"state\"]==\"칠레\",\"city\"] = \"칠레\"\n",
        "df4.loc[df4[\"state\"]==\"칠레\",\"state\"] = \"수입\"\n",
        "df4.loc[df4[\"state\"]==\"일본\",\"city\"] = \"일본\"\n",
        "df4.loc[df4[\"state\"]==\"일본\",\"state\"] = \"수입\"\n",
        "df4.loc[df4[\"state\"]==\"베트남\",\"city\"] = \"베트남\"\n",
        "df4.loc[df4[\"state\"]==\"베트남\",\"state\"] = \"수입\"\n",
        "df4.loc[df4[\"state\"]==\"우즈베크\",\"city\"] = \"우즈베키스탄\"\n",
        "df4.loc[df4[\"state\"]==\"우즈베크\",\"state\"] = \"수입\"\n",
        "df4.loc[df4[\"state\"]==\"이스라엘\",\"city\"] = \"이스라엘\"\n",
        "df4.loc[df4[\"state\"]==\"이스라엘\",\"state\"] = \"수입\"\n",
        "df4.loc[df4[\"state\"]==\"터키\",\"city\"] = \"터키\"\n",
        "df4.loc[df4[\"state\"]==\"터키\",\"state\"] = \"수입\"\n",
        "df4.loc[df4[\"state\"]==\"중국\",\"city\"] = \"중국\"\n",
        "df4.loc[df4[\"state\"]==\"중국\",\"state\"] = \"수입\"\n",
        "df4.loc[df4[\"state\"]==\"타이\",\"city\"] = \"태국\"\n",
        "df4.loc[df4[\"state\"]==\"타이\",\"state\"] = \"수입\"\n",
        "df4.loc[df4[\"state\"]==\"태국\",\"city\"] = \"태국\"\n",
        "df4.loc[df4[\"state\"]==\"태국\",\"state\"] = \"수입\"\n",
        "df4.loc[df4[\"state\"]==\"필리핀\",\"city\"] = \"필리핀\"\n",
        "df4.loc[df4[\"state\"]==\"필리핀\",\"state\"] = \"수입\"\n",
        "df4.loc[df4[\"state\"]==\"우즈베키스탄\",\"city\"] = \"우즈베키스탄\"\n",
        "df4.loc[df4[\"state\"]==\"우즈베키스탄\",\"state\"] = \"수입\"\n",
        "df4.loc[df4[\"state\"]==\"대만\",\"city\"] = \"대만\"\n",
        "df4.loc[df4[\"state\"]==\"대만\",\"state\"] = \"수입\"\n",
        "df4.loc[df4[\"state\"]==\"베트남\",\"city\"] = \"베트남\"\n",
        "df4.loc[df4[\"state\"]==\"베트남\",\"state\"] = \"수입\"\n",
        "df4.loc[df4[\"state\"]==\"이란\",\"city\"] = \"이란\"\n",
        "df4.loc[df4[\"state\"]==\"이란\",\"state\"] = \"수입\"\n",
        "df4.loc[df4[\"state\"]==\"러\",\"city\"] = \"러시아\"\n",
        "df4.loc[df4[\"state\"]==\"러\",\"state\"] = \"수입\"\n",
        "df4.loc[(df4[\"state\"]==\"인\")&(df4[\"origin\"]==\"인도네시아\"),\"city\"] = \"인도네시아\"\n",
        "df4.loc[(df4[\"state\"]==\"인\")&(df4[\"origin\"]==\"인도네시아\"),\"state\"] = \"수입\"\n",
        "df4.loc[(df4[\"state\"]==\"인\")&(df4[\"origin\"]==\"인도\"),\"city\"] = \"인도\"\n",
        "df4.loc[(df4[\"state\"]==\"인\")&(df4[\"origin\"]==\"인도\"),\"state\"] = \"수입\"\n",
        "\n",
        "## 아메리카\n",
        "\n",
        "df4.loc[df4[\"state\"]==\"캘리포니아\",\"city\"] = \"미국\"\n",
        "df4.loc[df4[\"state\"]==\"캘리포니아\",\"state\"] = \"수입\"\n",
        "df4.loc[df4[\"state\"]==\"포클랜드\",\"city\"] = \"영국\"\n",
        "df4.loc[df4[\"state\"]==\"포클랜드\",\"state\"] = \"수입\"\n",
        "df4.loc[df4[\"state\"]==\"콜롬비아\",\"city\"] = \"콜롬비아\"\n",
        "df4.loc[df4[\"state\"]==\"콜롬비아\",\"state\"] = \"수입\"\n",
        "df4.loc[df4[\"state\"]==\"에콰\",\"city\"] = \"에콰도르\"\n",
        "df4.loc[df4[\"state\"]==\"에콰\",\"state\"] = \"수입\"\n",
        "df4.loc[df4[\"state\"]==\"에쿠아\",\"city\"] = \"에콰도르\"\n",
        "df4.loc[df4[\"state\"]==\"에쿠아\",\"state\"] = \"수입\"\n",
        "df4.loc[df4[\"state\"]==\"에콰돌\",\"city\"] = \"에콰도르\"\n",
        "df4.loc[df4[\"state\"]==\"에콰돌\",\"state\"] = \"수입\"\n",
        "df4.loc[df4[\"state\"]==\"과테말라\",\"city\"] = \"과테말라\"\n",
        "df4.loc[df4[\"state\"]==\"과테말라\",\"state\"] = \"수입\"\n",
        "df4.loc[df4[\"state\"]==\"코스타리카\",\"city\"] = \"코스타리카\"\n",
        "df4.loc[df4[\"state\"]==\"코스타리카\",\"state\"] = \"수입\"\n",
        "df4.loc[df4[\"state\"]==\"멕\",\"city\"] = \"멕시코\"\n",
        "df4.loc[df4[\"state\"]==\"멕\",\"state\"] = \"수입\"\n",
        "df4.loc[df4[\"state\"]==\"페루\",\"city\"] = \"페루\"\n",
        "df4.loc[df4[\"state\"]==\"페루\",\"state\"] = \"수입\"\n",
        "df4.loc[df4[\"state\"]==\"미국\",\"city\"] = \"미국\"\n",
        "df4.loc[df4[\"state\"]==\"미국\",\"state\"] = \"수입\"\n",
        "df4.loc[df4[\"state\"]==\"아르헨티나\",\"city\"] = \"아르헨티나\"\n",
        "df4.loc[df4[\"state\"]==\"아르헨티나\",\"state\"] = \"수입\"\n",
        "df4.loc[df4[\"state\"]==\"브라질\",\"city\"] = \"브라질\"\n",
        "df4.loc[df4[\"state\"]==\"브라질\",\"state\"] = \"수입\"\n",
        "\n",
        "## 유럽\n",
        "df4.loc[df4[\"state\"]==\"스페인\",\"city\"] = \"스페인\"\n",
        "df4.loc[df4[\"state\"]==\"스페인\",\"state\"] = \"수입\"\n",
        "df4.loc[df4[\"state\"]==\"우크라이나\",\"city\"] = \"우크라이나\"\n",
        "df4.loc[df4[\"state\"]==\"우크라이나\",\"state\"] = \"수입\"\n",
        "df4.loc[df4[\"state\"]==\"이탈리아\",\"city\"] = \"이탈리아\"\n",
        "df4.loc[df4[\"state\"]==\"이탈리아\",\"state\"] = \"수입\"\n",
        "df4.loc[df4[\"state\"]==\"불가리아\",\"city\"] = \"불가리아\"\n",
        "df4.loc[df4[\"state\"]==\"불가리아\",\"state\"] = \"수입\"\n",
        "\n",
        "## 아프리카\n",
        "df4.loc[df4[\"state\"]==\"남아프리카\",\"city\"] = \"남아공\"\n",
        "df4.loc[df4[\"state\"]==\"남아프리카\",\"state\"] = \"수입\"\n",
        "df4.loc[df4[\"state\"]==\"남아프리카공화국\",\"city\"] = \"남아공\"\n",
        "df4.loc[df4[\"state\"]==\"남아프리카공화국\",\"state\"] = \"수입\"\n",
        "df4.loc[df4[\"state\"]==\"수입남아프리카공화국\",\"city\"] = \"남아공\"\n",
        "df4.loc[df4[\"state\"]==\"수입남아프리카공화국\",\"state\"] = \"수입\"\n",
        "\n",
        "\n",
        "## 오세아니아\n",
        "df4.loc[df4[\"state\"]==\"뉴질랜드\",\"city\"] = \"뉴질랜드\"\n",
        "df4.loc[df4[\"state\"]==\"뉴질랜드\",\"state\"] = \"수입\"\n",
        "df4.loc[df4[\"state\"]==\"오스트레일\",\"city\"] = \"호주\"\n",
        "df4.loc[df4[\"state\"]==\"오스트레일\",\"state\"] = \"수입\"\n",
        "df4.loc[df4[\"state\"]==\"오스트레일리아\",\"city\"] = \"호주\"\n",
        "df4.loc[df4[\"state\"]==\"오스트레일리아\",\"state\"] = \"수입\"\n",
        "df4.loc[df4[\"state\"]==\"호주\",\"city\"] = \"호주\"\n",
        "df4.loc[df4[\"state\"]==\"호주\",\"state\"] = \"수입\"\n",
        "df4.loc[df4[\"state\"]==\"통가\",\"city\"] = \"통가\"\n",
        "df4.loc[df4[\"state\"]==\"통가\",\"state\"] = \"수입\"\n",
        "df4.loc[df4[\"state\"]==\"뉴칼레\",\"city\"] = \"뉴칼레도니아\"\n",
        "df4.loc[df4[\"state\"]==\"뉴칼레\",\"state\"] = \"수입\"\n",
        "df4.loc[df4[\"state\"]==\"뉴\",\"city\"] = \"뉴칼레도니아\"\n",
        "df4.loc[df4[\"state\"]==\"뉴\",\"state\"] = \"수입\"\n",
        "df4.loc[df4[\"state\"]==\"누벨칼레\",\"city\"] = \"뉴칼레도니아\"\n",
        "df4.loc[df4[\"state\"]==\"누벨칼레\",\"state\"] = \"수입\"\n",
        "# 기타\n",
        "df4.loc[df4[\"state\"]==\"수입산\",\"state\"] = \"수입\"\n",
        "df4.loc[df4[\"state\"]==\"기타외국\",\"city\"] = \"미상\"\n",
        "df4.loc[df4[\"state\"]==\"기타외국\",\"state\"] = \"수입\""
      ]
    },
    {
      "cell_type": "code",
      "execution_count": 211,
      "metadata": {
        "colab": {
          "base_uri": "https://localhost:8080/",
          "height": 49
        },
        "id": "3MmvwTRy-BEj",
        "outputId": "cb62e40c-926f-4fdf-c3bf-a44c828d7052"
      },
      "outputs": [
        {
          "data": {
            "text/html": [
              "<div>\n",
              "<style scoped>\n",
              "    .dataframe tbody tr th:only-of-type {\n",
              "        vertical-align: middle;\n",
              "    }\n",
              "\n",
              "    .dataframe tbody tr th {\n",
              "        vertical-align: top;\n",
              "    }\n",
              "\n",
              "    .dataframe thead th {\n",
              "        text-align: right;\n",
              "    }\n",
              "</style>\n",
              "<table border=\"1\" class=\"dataframe\">\n",
              "  <thead>\n",
              "    <tr style=\"text-align: right;\">\n",
              "      <th></th>\n",
              "      <th>prd</th>\n",
              "      <th>scale</th>\n",
              "      <th>price</th>\n",
              "      <th>origin</th>\n",
              "      <th>eco</th>\n",
              "      <th>reg_date</th>\n",
              "      <th>new_class</th>\n",
              "      <th>price_kg</th>\n",
              "      <th>state</th>\n",
              "      <th>city</th>\n",
              "    </tr>\n",
              "  </thead>\n",
              "  <tbody>\n",
              "  </tbody>\n",
              "</table>\n",
              "</div>"
            ],
            "text/plain": [
              "Empty DataFrame\n",
              "Columns: [prd, scale, price, origin, eco, reg_date, new_class, price_kg, state, city]\n",
              "Index: []"
            ]
          },
          "execution_count": 211,
          "metadata": {},
          "output_type": "execute_result"
        }
      ],
      "source": [
        "df4[df4['state']=='nan']"
      ]
    },
    {
      "cell_type": "code",
      "execution_count": 212,
      "metadata": {
        "colab": {
          "base_uri": "https://localhost:8080/"
        },
        "id": "bPMNH6Fz9laX",
        "outputId": "c7ea6abb-e318-4350-9eea-394a56796052"
      },
      "outputs": [
        {
          "data": {
            "text/plain": [
              "array(['경기', '경북', '충남', '충북', '서울', '전남', '대전', '세종', '경남', '강원', '전북',\n",
              "       '광주', '인천', '수입', '대구', '제주', '부산', '울산', '원양산', '국산'],\n",
              "      dtype=object)"
            ]
          },
          "execution_count": 212,
          "metadata": {},
          "output_type": "execute_result"
        }
      ],
      "source": [
        "df4['state'].unique()"
      ]
    },
    {
      "cell_type": "code",
      "execution_count": 213,
      "metadata": {
        "id": "Ih5vw324J-Ed"
      },
      "outputs": [],
      "source": [
        "# city\n",
        "# 우선 결측치 제거\n",
        "df4.loc[df4[\"city\"].isnull(),\"city\"] = \"미상\""
      ]
    },
    {
      "cell_type": "code",
      "execution_count": 214,
      "metadata": {
        "id": "cXY3uABaKSty"
      },
      "outputs": [],
      "source": [
        "# 이후 시,군 등 제거\n",
        "def name_sort(words):\n",
        "  p = re.compile('[^시군]+')\n",
        "  word = re.search(p,words)\n",
        "  return word.group()\n",
        "\n",
        "df4[\"city\"] = df4[\"city\"].apply(name_sort)"
      ]
    },
    {
      "cell_type": "code",
      "execution_count": 215,
      "metadata": {
        "id": "QuyWFOs1R7yP"
      },
      "outputs": [],
      "source": [
        "# \\t 도 제거\n",
        "def name_sort2(words):\n",
        "  p = re.compile('[^\\t]+')\n",
        "  word = re.search(p,words)\n",
        "  return word.group()\n",
        "\n",
        "df4[\"city\"] = df4[\"city\"].apply(name_sort2)"
      ]
    },
    {
      "cell_type": "code",
      "execution_count": 216,
      "metadata": {
        "colab": {
          "base_uri": "https://localhost:8080/"
        },
        "id": "szJvb99ySEPR",
        "outputId": "97ca859c-e684-45b0-f3d0-488abdd6cedf"
      },
      "outputs": [
        {
          "data": {
            "text/plain": [
              "array(['양주', '상주', '천안', '안성', '여주', '연천', '남양주', '진천', '청원', '논산', '부여',\n",
              "       '공주', '도봉구', '고흥', '이천', '대전', '청주', '미상', '음성', '보령', '아산', '문경',\n",
              "       '세종', '평택', '창녕', '춘천', '안산', '서천', '예산', '광양', '순천', '철원', '구례',\n",
              "       '진안', '남원', '나주', '보성', '진주', '고성', '강진', '장흥', '홍천', '파주', '광산구',\n",
              "       '강화', '고양', '포천', '강동구', '의정부', '합천', '광명', '밀양', '충주', '임실', '서산',\n",
              "       '양평', '하남', '화천', '광주', '김포', '양구', '익산', '전주', '횡성', '위', '당진',\n",
              "       '여수', '순창', '남해', '양양', '순', '진도', '태안', '홍성', '남구', '베트남', '필리핀',\n",
              "       '미국', '송파구', '영천', '영동', '김천', '경산', '대구', '함안', '함양', '제주', '의령',\n",
              "       '무안', '제천', '하동', '평창', '구미', '인제', '고창', '강서구', '뉴질랜드', '성주',\n",
              "       '칠곡', '고령', '안동', '해남', '신안', '영월', '용인', '칠레', '페루', '경주',\n",
              "       '우즈베키스탄', '영암', '화성', '부안', '청양', '완주', '완도', '태백', '구리', '계양구',\n",
              "       '양천구', '부천', '괴산', '성남', '산청', '금산', '북구', '중국', '부산', '담양', '영광',\n",
              "       '옥천', '산', '화순', '사천', '김해', '정읍', '장수', '김제', '함평', '서구', '가평',\n",
              "       '마산', '창원', '장성', '청도', '오산', '영등포구', '무주', '중구', '예천', '은평구',\n",
              "       '남동구', '인도네', '강남구', '코스타리카', '인천', '옹진', '부평구', '호주', '태국', '의왕',\n",
              "       '곡성', '강릉', '미추홀구', '미금', '거제', '전', '정선', '의성', '영주', '봉화', '영덕',\n",
              "       '원주', '목포', '안양', '서울', '중랑구', '흥', '멕', '동대문구', '영양', '동두천',\n",
              "       '서초구', '울산', '포항', '양산', '거창', '남', '논', '동작구', '캄보디아', '브라질',\n",
              "       '대만', '콜롬비아', '과테말라', '에콰도르', '수원', '울진', '삼척', '증평', '동해', '통영',\n",
              "       '구로구', '청송', '보은', '계룡', '속초', '영등포', '울진(후포)', '아르헨티나', '타이',\n",
              "       '목포(무안)', '순천(광양)', '화성(평택)', '장항(서천)', '삼천포', '마산(고성,진해)', '러',\n",
              "       '기타', '세네갈', '모로코', '고흥(나로도)', '말레이지아', '바레인', '노르웨이', '보성(벌교)',\n",
              "       '인도'], dtype=object)"
            ]
          },
          "execution_count": 216,
          "metadata": {},
          "output_type": "execute_result"
        }
      ],
      "source": [
        "df4['city'].unique()"
      ]
    },
    {
      "cell_type": "code",
      "execution_count": 217,
      "metadata": {
        "id": "MrIoC_BDQ_ic"
      },
      "outputs": [],
      "source": [
        "# 나머지 케이스 정리\n",
        "\n",
        "# 국내\n",
        "df4.loc[df4[\"city\"]==\"기타\",\"city\"] = \"미상\"\n",
        "## 일반시\n",
        "df4.loc[df4[\"city\"]==\"위\",\"city\"] = \"군위\"\n",
        "df4.loc[df4[\"city\"]==\"고흥(나로도)\",\"city\"] = \"고흥\"\n",
        "df4.loc[df4[\"city\"]==\"산\",\"city\"] = \"군산\"\n",
        "df4.loc[df4[\"city\"]==\"장항(서천)\",\"city\"] = \"서천\"\n",
        "df4.loc[df4[\"city\"]==\"삼천포\",\"city\"] = \"사천\"\n",
        "df4.loc[df4[\"city\"]==\"삼천포\",\"city\"] = \"사천\"\n",
        "df4.loc[df4[\"city\"]==\"순천(광양)\",\"city\"] = \"순천\"\n",
        "df4.loc[df4[\"city\"]==\"대천(보령)\",\"city\"] = \"보령\"\n",
        "df4.loc[df4[\"city\"]==\"대천(보령)\",\"city\"] = \"보령\"\n",
        "df4.loc[df4[\"city\"]==\"화성(평택)\",\"city\"] = \"화성\"\n",
        "df4.loc[df4[\"city\"]==\"흥\",\"city\"] = \"시흥\"\n",
        "df4.loc[df4[\"city\"]==\"목포(무안)\",\"city\"] = \"목포\"\n",
        "df4.loc[df4[\"city\"]==\"목포(무안)\",\"state\"] = \"전남\"\n",
        "df4.loc[df4[\"city\"]==\"보성(벌교)\",\"city\"] = \"보성\"\n",
        "df4.loc[df4[\"city\"]==\"울진(후포)\",\"city\"] = \"울진\"\n",
        "df4.loc[df4[\"city\"]==\"논\",\"city\"] = \"논산\"\n",
        "df4.loc[df4[\"city\"]==\"논\",\"city\"] = \"논산\"\n",
        "df4.loc[df4[\"city\"]==\"순\",\"city\"] = \"순창\"\n",
        "df4.loc[df4[\"city\"]==\"미금\",\"city\"] = \"성남\"\n",
        "df4.loc[(df4[\"state\"]==\"전북\")&(df4[\"city\"]==\"남\"),\"city\"] = \"남원\"\n",
        "df4.loc[(df4['prd']==\"호박\") & (df4['state']=='전북'),\"city\"] = \"전주\"\n",
        "## 광역시\n",
        "df4.loc[df4[\"city\"]==\"강서구\",\"city\"] = \"서울\"\n",
        "df4.loc[df4[\"city\"]==\"은평구\",\"city\"] = \"서울\"\n",
        "df4.loc[df4[\"city\"]==\"강동구\",\"city\"] = \"서울\"\n",
        "df4.loc[df4[\"city\"]==\"마포구\",\"city\"] = \"서울\"\n",
        "df4.loc[df4[\"city\"]==\"중구\",\"city\"] = \"서울\"\n",
        "df4.loc[df4[\"city\"]==\"송파구\",\"city\"] = \"서울\"\n",
        "df4.loc[df4[\"city\"]==\"도봉구\",\"city\"] = \"서울\"\n",
        "df4.loc[df4[\"city\"]==\"중랑구\",\"city\"] = \"서울\"\n",
        "df4.loc[df4[\"city\"]==\"양천구\",\"city\"] = \"서울\"\n",
        "df4.loc[df4[\"city\"]==\"성동구\",\"city\"] = \"서울\"\n",
        "df4.loc[df4[\"city\"]==\"강남구\",\"city\"] = \"서울\"\n",
        "df4.loc[df4[\"city\"]==\"동대문구\",\"city\"] = \"서울\"\n",
        "df4.loc[df4[\"city\"]==\"영등포구\",\"city\"] = \"서울\"\n",
        "df4.loc[df4[\"city\"]==\"영등포\",\"city\"] = \"서울\"\n",
        "df4.loc[df4[\"city\"]==\"서초구\",\"city\"] = \"서울\"\n",
        "df4.loc[df4[\"city\"]==\"구로구\",\"city\"] = \"서울\"\n",
        "df4.loc[df4[\"city\"]==\"동대문\",\"city\"] = \"서울\"\n",
        "df4.loc[df4[\"city\"]==\"금천구\",\"city\"] = \"서울\"\n",
        "df4.loc[df4[\"city\"]==\"동작구\",\"city\"] = \"서울\"\n",
        "\n",
        "df4.loc[df4[\"city\"]==\"광산구\",\"city\"] = \"광주\"\n",
        "df4.loc[(df4[\"state\"]==\"광주\")&(df4[\"city\"]==\"남구\"),\"city\"] = \"광주\"\n",
        "df4.loc[(df4[\"state\"]==\"광주\")&(df4[\"city\"]==\"북구\"),\"city\"] = \"광주\"\n",
        "df4.loc[(df4[\"state\"]==\"광주\")&(df4[\"city\"]==\"서구\"),\"city\"] = \"광주\"\n",
        "df4.loc[df4[\"city\"]==\"동구\",\"city\"] = \"광주\"\n",
        "df4.loc[(df4[\"state\"]==\"인천\")&(df4[\"city\"]==\"남구\"),\"city\"] = \"인천\"\n",
        "df4.loc[(df4[\"state\"]==\"인천\")&(df4[\"city\"]==\"서구\"),\"city\"] = \"인천\"\n",
        "df4.loc[df4[\"city\"]==\"미추홀\",\"city\"] = \"인천\"\n",
        "df4.loc[df4[\"city\"]==\"부평구\",\"city\"] = \"인천\"\n",
        "df4.loc[df4[\"city\"]==\"남동구\",\"city\"] = \"인천\"\n",
        "df4.loc[df4[\"city\"]==\"미추홀구\",\"city\"] = \"인천\"\n",
        "df4.loc[df4[\"city\"]==\"계양구\",\"city\"] = \"인천\"\n",
        "df4.loc[df4[\"city\"]==\"마산(고성,진해)\",\"city\"] = \"창원\"\n",
        "df4.loc[(df4[\"state\"]==\"부산\")&(df4[\"city\"]==\"북구\"),\"city\"] = \"부산\"\n",
        "df4.loc[df4[\"city\"]==\"오포\",\"city\"] = \"부산\"\n",
        "df4.loc[df4[\"city\"]==\"부산진\",\"city\"] = \"부산\"\n",
        "df4.loc[df4[\"city\"]==\"사상구\",\"city\"] = \"부산\"\n",
        "df4.loc[df4[\"city\"]==\"부산진구\",\"city\"] = \"부산\"\n",
        "df4.loc[df4[\"city\"]==\"북제주\",\"city\"] = \"제주\"\n",
        "df4.loc[df4[\"city\"]==\"남제주\",\"city\"] = \"제주\"\n",
        "\n",
        "# 해외\n",
        "## 아시아\n",
        "df4.loc[df4[\"city\"]==\"러\",\"city\"] = \"러시아\"\n",
        "df4.loc[df4[\"city\"]==\"말레이지아\",\"city\"] = \"말레이시아\"\n",
        "df4.loc[df4[\"city\"]==\"타이\",\"city\"] = \"태국\"\n",
        "df4.loc[df4[\"city\"]==\"인도네\",\"city\"] = \"인도네시아\"\n",
        "## 아메리카\n",
        "df4.loc[df4[\"city\"]==\"멕\",\"city\"] = \"멕시코\"\n",
        "## 아프리카\n",
        "df4.loc[df4[\"city\"]==\"남아공산\",\"city\"] = \"남아공\"\n",
        "## 유럽\n",
        "## 오세아니아"
      ]
    },
    {
      "cell_type": "code",
      "execution_count": 218,
      "metadata": {},
      "outputs": [
        {
          "data": {
            "text/plain": [
              "array(['우즈베키스탄', '브라질', '말레이시아'], dtype=object)"
            ]
          },
          "execution_count": 218,
          "metadata": {},
          "output_type": "execute_result"
        }
      ],
      "source": [
        "# 기존 city 리스트와 비교\n",
        "ex_city = pd.read_csv(\"../cities.csv\")\n",
        "df4[~df4['city'].isin(ex_city['city'])]['city'].unique()"
      ]
    },
    {
      "cell_type": "code",
      "execution_count": 219,
      "metadata": {},
      "outputs": [
        {
          "name": "stderr",
          "output_type": "stream",
          "text": [
            "/var/folders/nq/s4zx76p53d11lnr0t1dxpxh00000gn/T/ipykernel_8897/1856950528.py:3: FutureWarning: The frame.append method is deprecated and will be removed from pandas in a future version. Use pandas.concat instead.\n",
            "  cities = ex_city.append(new_city,ignore_index=True)\n"
          ]
        }
      ],
      "source": [
        "# 리스트 최신화\n",
        "new_city = pd.DataFrame(df4['city'].unique(),columns=['city'])\n",
        "cities = ex_city.append(new_city,ignore_index=True)"
      ]
    },
    {
      "cell_type": "code",
      "execution_count": 220,
      "metadata": {},
      "outputs": [],
      "source": [
        "cities.drop(columns=['Unnamed: 0'],inplace=True)\n",
        "cities.drop_duplicates(inplace=True)\n",
        "cities.reset_index(inplace=True,drop=True)"
      ]
    },
    {
      "cell_type": "code",
      "execution_count": 221,
      "metadata": {},
      "outputs": [],
      "source": [
        "cities.to_csv('../cities.csv')"
      ]
    },
    {
      "cell_type": "code",
      "execution_count": 222,
      "metadata": {
        "id": "vi6fJirdV7Gz"
      },
      "outputs": [],
      "source": [
        "# 처리 완료하였으니 df4는 백업으로 두고 df5 활용\n",
        "df5 = df4.drop(columns='origin')"
      ]
    },
    {
      "cell_type": "markdown",
      "metadata": {
        "id": "CoWdniywxHwf"
      },
      "source": [
        "# 전처리 결과"
      ]
    },
    {
      "cell_type": "markdown",
      "metadata": {
        "id": "t709mbs6xMkS"
      },
      "source": [
        "# 파일 저장"
      ]
    },
    {
      "cell_type": "code",
      "execution_count": 223,
      "metadata": {
        "id": "tEfggl4M5rFG"
      },
      "outputs": [],
      "source": [
        "df5.to_csv('../data_proceed/202105_proceed.csv')"
      ]
    }
  ],
  "metadata": {
    "colab": {
      "collapsed_sections": [],
      "name": "pre_processing_2022_06.ipynb",
      "provenance": [],
      "toc_visible": true
    },
    "kernelspec": {
      "display_name": "Python 3.8.13 ('yds')",
      "language": "python",
      "name": "python3"
    },
    "language_info": {
      "codemirror_mode": {
        "name": "ipython",
        "version": 3
      },
      "file_extension": ".py",
      "mimetype": "text/x-python",
      "name": "python",
      "nbconvert_exporter": "python",
      "pygments_lexer": "ipython3",
      "version": "3.8.13"
    },
    "vscode": {
      "interpreter": {
        "hash": "edd2e1eeac16ba0124adb27271db416cf5b91db76e0734afe4505ea0738c76e5"
      }
    }
  },
  "nbformat": 4,
  "nbformat_minor": 0
}
