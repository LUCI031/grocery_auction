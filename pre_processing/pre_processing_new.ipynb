{
  "cells": [
    {
      "cell_type": "markdown",
      "metadata": {
        "id": "uhJXKN_71HKz"
      },
      "source": [
        "# 개요"
      ]
    },
    {
      "cell_type": "markdown",
      "metadata": {
        "id": "T02KSzGz1iMO"
      },
      "source": [
        "# Prepare"
      ]
    },
    {
      "cell_type": "markdown",
      "metadata": {
        "id": "bfqE9z4W1JQh"
      },
      "source": [
        "# 1. 초기 세팅"
      ]
    },
    {
      "cell_type": "markdown",
      "metadata": {
        "id": "fG4uSp2B1Ph7"
      },
      "source": [
        "## Library & data load"
      ]
    },
    {
      "cell_type": "code",
      "execution_count": 1,
      "metadata": {
        "id": "c2zXAOvOq96i"
      },
      "outputs": [],
      "source": [
        "import pandas as pd\n",
        "import numpy as np\n",
        "import matplotlib.pyplot as plt\n",
        "import seaborn as sns\n",
        "import datetime as dt\n",
        "import re"
      ]
    },
    {
      "cell_type": "code",
      "execution_count": 2,
      "metadata": {},
      "outputs": [],
      "source": [
        "# 보기 옵션\n",
        "pd.set_option('display.max_columns', 500)\n",
        "pd.set_option('display.max_rows', 500)"
      ]
    },
    {
      "cell_type": "code",
      "execution_count": 3,
      "metadata": {},
      "outputs": [
        {
          "name": "stderr",
          "output_type": "stream",
          "text": [
            "/var/folders/nq/s4zx76p53d11lnr0t1dxpxh00000gn/T/ipykernel_3212/1682752174.py:8: DtypeWarning: Columns (3) have mixed types. Specify dtype option on import or set low_memory=False.\n",
            "  a = pd.read_csv(address,encoding='euc_kr',sep=',')\n"
          ]
        }
      ],
      "source": [
        "# 데이터 불러오기\n",
        "# 2018~2019\n",
        "df_lst = []\n",
        "names = ['2018','201901_06','201907_12']\n",
        "for name in names:\n",
        "    address = \"/Users/luci031/Desktop/Coding/g_auction/data_origin/auction_\"+name+\".csv\"\n",
        "    if name == '201907_12':\n",
        "        a = pd.read_csv(address,encoding='euc_kr',sep=',')\n",
        "    else:\n",
        "        a = pd.read_csv(address,encoding='euc_kr',sep=';')\n",
        "    df_lst.append(a)\n",
        "\n",
        "# 2020~    \n",
        "for year in range(2020,2023):\n",
        "    if year < 2022: lim = 13 \n",
        "    else: lim = 12\n",
        "    for i in range(1,lim):\n",
        "        if i < 13:\n",
        "            if i < 10:\n",
        "                df_name = \"auction_\"+str(year)+\"0\"+str(i)\n",
        "            else:\n",
        "                df_name = \"auction_\"+str(year)+str(i)\n",
        "        a = pd.read_csv(\"/Users/luci031/Desktop/Coding/g_auction/data_origin/\"+df_name+\".csv\",encoding='euc_kr')\n",
        "        df_lst.append(a)\n",
        "\n",
        "    # 데이터 전처리\n",
        "for df in df_lst:\n",
        "    df.reset_index(inplace=True,drop=True)\n",
        "    if 'Unnamed: 0' in df.columns:\n",
        "        df.drop(columns=['Unnamed: 0'],inplace=True)\n",
        "\n",
        "# 모든 데이터 통합\n",
        "df = df_lst[0]\n",
        "for dfs in df_lst[1:]:\n",
        "    df = pd.concat([df,dfs])\n",
        "\n",
        "df.reset_index(inplace=True,drop=True)"
      ]
    },
    {
      "cell_type": "markdown",
      "metadata": {
        "id": "yINECbV-4eRb"
      },
      "source": [
        "# Pre-Processing"
      ]
    },
    {
      "cell_type": "code",
      "execution_count": 4,
      "metadata": {},
      "outputs": [
        {
          "data": {
            "text/html": [
              "<div>\n",
              "<style scoped>\n",
              "    .dataframe tbody tr th:only-of-type {\n",
              "        vertical-align: middle;\n",
              "    }\n",
              "\n",
              "    .dataframe tbody tr th {\n",
              "        vertical-align: top;\n",
              "    }\n",
              "\n",
              "    .dataframe thead th {\n",
              "        text-align: right;\n",
              "    }\n",
              "</style>\n",
              "<table border=\"1\" class=\"dataframe\">\n",
              "  <thead>\n",
              "    <tr style=\"text-align: right;\">\n",
              "      <th></th>\n",
              "      <th>품목명</th>\n",
              "      <th>단위</th>\n",
              "      <th>등급</th>\n",
              "      <th>가격</th>\n",
              "      <th>산지</th>\n",
              "      <th>친환경구분</th>\n",
              "      <th>입력일</th>\n",
              "    </tr>\n",
              "  </thead>\n",
              "  <tbody>\n",
              "    <tr>\n",
              "      <th>0</th>\n",
              "      <td>[깻잎]깻잎(찹)</td>\n",
              "      <td>2kg</td>\n",
              "      <td>특(1등)</td>\n",
              "      <td>11500</td>\n",
              "      <td>대구</td>\n",
              "      <td>일반</td>\n",
              "      <td>20180622</td>\n",
              "    </tr>\n",
              "    <tr>\n",
              "      <th>1</th>\n",
              "      <td>[깻잎]깻잎(찹)</td>\n",
              "      <td>4kg</td>\n",
              "      <td>특(1등)</td>\n",
              "      <td>15500</td>\n",
              "      <td>대구</td>\n",
              "      <td>일반</td>\n",
              "      <td>20180622</td>\n",
              "    </tr>\n",
              "    <tr>\n",
              "      <th>2</th>\n",
              "      <td>[무]열무</td>\n",
              "      <td>8kg</td>\n",
              "      <td>특(1등)</td>\n",
              "      <td>3300</td>\n",
              "      <td>경기 포천시</td>\n",
              "      <td>일반</td>\n",
              "      <td>20180622</td>\n",
              "    </tr>\n",
              "    <tr>\n",
              "      <th>3</th>\n",
              "      <td>[무]열무</td>\n",
              "      <td>4kg</td>\n",
              "      <td>특(1등)</td>\n",
              "      <td>6900</td>\n",
              "      <td>경기 포천시</td>\n",
              "      <td>일반</td>\n",
              "      <td>20180622</td>\n",
              "    </tr>\n",
              "    <tr>\n",
              "      <th>4</th>\n",
              "      <td>[무]열무</td>\n",
              "      <td>4kg</td>\n",
              "      <td>특(1등)</td>\n",
              "      <td>5300</td>\n",
              "      <td>경기 포천시</td>\n",
              "      <td>일반</td>\n",
              "      <td>20180622</td>\n",
              "    </tr>\n",
              "    <tr>\n",
              "      <th>...</th>\n",
              "      <td>...</td>\n",
              "      <td>...</td>\n",
              "      <td>...</td>\n",
              "      <td>...</td>\n",
              "      <td>...</td>\n",
              "      <td>...</td>\n",
              "      <td>...</td>\n",
              "    </tr>\n",
              "    <tr>\n",
              "      <th>28840955</th>\n",
              "      <td>[홍합국산]홍합국산</td>\n",
              "      <td>10kg</td>\n",
              "      <td>보통(3등)</td>\n",
              "      <td>15000</td>\n",
              "      <td>경남 마산(고성,진해)</td>\n",
              "      <td>일반</td>\n",
              "      <td>20221130</td>\n",
              "    </tr>\n",
              "    <tr>\n",
              "      <th>28840956</th>\n",
              "      <td>[홍합국산]홍합국산</td>\n",
              "      <td>10kg</td>\n",
              "      <td>보통(3등)</td>\n",
              "      <td>12000</td>\n",
              "      <td>경남 마산(고성,진해)</td>\n",
              "      <td>일반</td>\n",
              "      <td>20221130</td>\n",
              "    </tr>\n",
              "    <tr>\n",
              "      <th>28840957</th>\n",
              "      <td>[홍합국산]홍합국산</td>\n",
              "      <td>10kg</td>\n",
              "      <td>보통(3등)</td>\n",
              "      <td>15000</td>\n",
              "      <td>경남 마산(고성,진해)</td>\n",
              "      <td>일반</td>\n",
              "      <td>20221130</td>\n",
              "    </tr>\n",
              "    <tr>\n",
              "      <th>28840958</th>\n",
              "      <td>[홍합국산]홍합국산</td>\n",
              "      <td>10kg</td>\n",
              "      <td>보통(3등)</td>\n",
              "      <td>10000</td>\n",
              "      <td>전남 여수\\t</td>\n",
              "      <td>일반</td>\n",
              "      <td>20221130</td>\n",
              "    </tr>\n",
              "    <tr>\n",
              "      <th>28840959</th>\n",
              "      <td>[홍합국산]홍합국산</td>\n",
              "      <td>10kg</td>\n",
              "      <td>보통(3등)</td>\n",
              "      <td>15000</td>\n",
              "      <td>경남 마산(고성,진해)</td>\n",
              "      <td>일반</td>\n",
              "      <td>20221130</td>\n",
              "    </tr>\n",
              "  </tbody>\n",
              "</table>\n",
              "<p>28840960 rows × 7 columns</p>\n",
              "</div>"
            ],
            "text/plain": [
              "                 품목명    단위      등급     가격            산지 친환경구분       입력일\n",
              "0          [깻잎]깻잎(찹)   2kg   특(1등)  11500            대구    일반  20180622\n",
              "1          [깻잎]깻잎(찹)   4kg   특(1등)  15500            대구    일반  20180622\n",
              "2              [무]열무   8kg   특(1등)   3300        경기 포천시    일반  20180622\n",
              "3              [무]열무   4kg   특(1등)   6900        경기 포천시    일반  20180622\n",
              "4              [무]열무   4kg   특(1등)   5300        경기 포천시    일반  20180622\n",
              "...              ...   ...     ...    ...           ...   ...       ...\n",
              "28840955  [홍합국산]홍합국산  10kg  보통(3등)  15000  경남 마산(고성,진해)    일반  20221130\n",
              "28840956  [홍합국산]홍합국산  10kg  보통(3등)  12000  경남 마산(고성,진해)    일반  20221130\n",
              "28840957  [홍합국산]홍합국산  10kg  보통(3등)  15000  경남 마산(고성,진해)    일반  20221130\n",
              "28840958  [홍합국산]홍합국산  10kg  보통(3등)  10000       전남 여수\\t    일반  20221130\n",
              "28840959  [홍합국산]홍합국산  10kg  보통(3등)  15000  경남 마산(고성,진해)    일반  20221130\n",
              "\n",
              "[28840960 rows x 7 columns]"
            ]
          },
          "execution_count": 4,
          "metadata": {},
          "output_type": "execute_result"
        }
      ],
      "source": [
        "df"
      ]
    },
    {
      "cell_type": "code",
      "execution_count": 5,
      "metadata": {
        "colab": {
          "base_uri": "https://localhost:8080/"
        },
        "id": "R3-Xng6M1om2",
        "outputId": "0071ee93-3ebe-436d-910b-aa30c7356468"
      },
      "outputs": [
        {
          "data": {
            "text/plain": [
              "품목명          0\n",
              "단위           0\n",
              "등급           0\n",
              "가격        4426\n",
              "산지       98280\n",
              "친환경구분        0\n",
              "입력일          0\n",
              "dtype: int64"
            ]
          },
          "execution_count": 5,
          "metadata": {},
          "output_type": "execute_result"
        }
      ],
      "source": [
        "# 결측치 확인\n",
        "df.isnull().sum()"
      ]
    },
    {
      "cell_type": "markdown",
      "metadata": {
        "id": "KiwEMLgv-7KL"
      },
      "source": [
        "- 결측치 처리"
      ]
    },
    {
      "cell_type": "code",
      "execution_count": 6,
      "metadata": {
        "id": "y52OV6yt-60b"
      },
      "outputs": [],
      "source": [
        "# 결측치 제거\n",
        "df = df.dropna(axis=0)"
      ]
    },
    {
      "cell_type": "markdown",
      "metadata": {
        "id": "tWVdZUXv7njQ"
      },
      "source": [
        "- 영문명으로 전환"
      ]
    },
    {
      "cell_type": "code",
      "execution_count": 7,
      "metadata": {
        "id": "Cpc_wblh4oLI"
      },
      "outputs": [],
      "source": [
        "df = df.rename(columns = {'품목명':'prd',\n",
        "                          '단위':'scale','등급':'class',\n",
        "                          '가격':'price',\n",
        "                          '산지':'origin',\n",
        "                          '친환경구분':'eco',\n",
        "                          '입력일':'reg_date'})"
      ]
    },
    {
      "cell_type": "markdown",
      "metadata": {
        "id": "6raN15sn8XwE"
      },
      "source": [
        "## column 별 정보"
      ]
    },
    {
      "cell_type": "markdown",
      "metadata": {
        "id": "9blCj1BqBKl9"
      },
      "source": [
        "### class"
      ]
    },
    {
      "cell_type": "code",
      "execution_count": 8,
      "metadata": {
        "id": "Y9aTlhUSBfU9"
      },
      "outputs": [],
      "source": [
        "# 등급명 변환\n",
        "df111 = pd.DataFrame([['특(1등)', 1], ['상(2등)',2], ['보통(3등)',3], ['9등(등외)',9], ['없음',9], ['5등',5], ['4등',4], ['6등',6], ['7등',7],['8등',8]],columns=['class','new_class'])\n",
        "df2 = df.merge(df111)\n",
        "df2 = df2.drop(columns='class')"
      ]
    },
    {
      "cell_type": "code",
      "execution_count": 9,
      "metadata": {},
      "outputs": [],
      "source": [
        "df2 = df2.rename(columns={'new_class':'class'})"
      ]
    },
    {
      "cell_type": "code",
      "execution_count": 10,
      "metadata": {},
      "outputs": [
        {
          "data": {
            "text/plain": [
              "1    22161720\n",
              "2     2859730\n",
              "3     1198526\n",
              "9     1147905\n",
              "4      124849\n",
              "5      121071\n",
              "6       37422\n",
              "7       13401\n",
              "8        3887\n",
              "Name: class, dtype: int64"
            ]
          },
          "execution_count": 10,
          "metadata": {},
          "output_type": "execute_result"
        }
      ],
      "source": [
        "df2['class'].value_counts()"
      ]
    },
    {
      "cell_type": "markdown",
      "metadata": {
        "id": "6QhhnXfKWiQL"
      },
      "source": [
        "### eco"
      ]
    },
    {
      "cell_type": "code",
      "execution_count": 11,
      "metadata": {
        "id": "XPNdAWmbWWjy"
      },
      "outputs": [],
      "source": [
        "# 영문명으로 전환\n",
        "# 전환기 -> 유기농 재배로 전환중\n",
        "df2.loc[df2[\"eco\"]==\"일반\",\"eco\"] = \"normal\"\n",
        "df2.loc[df2[\"eco\"]==\"우수농산물\",\"eco\"] = \"good_prd\"\n",
        "df2.loc[df2[\"eco\"]==\"무농약\",\"eco\"] = \"ecofriendly\"\n",
        "df2.loc[df2[\"eco\"]==\"유기농\",\"eco\"] = \"organic\"\n",
        "df2.loc[df2[\"eco\"]==\"품질인증\",\"eco\"] = \"certified\"\n",
        "df2.loc[df2[\"eco\"]==\"전환기\",\"eco\"] = \"ing\"\n",
        "df2.loc[df2[\"eco\"]==\"저농약\",\"eco\"] = \"low\"\n",
        "df2.loc[df2[\"eco\"]==\"산지안전성\",\"eco\"] = \"safe\""
      ]
    },
    {
      "cell_type": "code",
      "execution_count": 12,
      "metadata": {},
      "outputs": [
        {
          "data": {
            "text/plain": [
              "normal         24559890\n",
              "good_prd        1809195\n",
              "ecofriendly     1009148\n",
              "certified        200418\n",
              "ing               50144\n",
              "organic           28013\n",
              "low               11682\n",
              "safe                 21\n",
              "Name: eco, dtype: int64"
            ]
          },
          "execution_count": 12,
          "metadata": {},
          "output_type": "execute_result"
        }
      ],
      "source": [
        "df2['eco'].value_counts()"
      ]
    },
    {
      "cell_type": "markdown",
      "metadata": {
        "id": "ffhjwT57YNLh"
      },
      "source": [
        "### reg_date"
      ]
    },
    {
      "cell_type": "code",
      "execution_count": 13,
      "metadata": {
        "id": "0xEJoswCYUiR"
      },
      "outputs": [],
      "source": [
        "df2['reg_date'] = df2['reg_date'].astype('str')\n",
        "df2['reg_date'] = pd.to_datetime(df2['reg_date'].astype('str'),format='%Y%m%d')"
      ]
    },
    {
      "cell_type": "markdown",
      "metadata": {
        "id": "VN8Eana_Dbbl"
      },
      "source": [
        "### price"
      ]
    },
    {
      "cell_type": "code",
      "execution_count": 14,
      "metadata": {
        "id": "oZbejw0vewmJ"
      },
      "outputs": [],
      "source": [
        "# 계산을 위해 scale 값 미리 변경\n",
        "# 현재 값들은 string이므로 float 형태로 변환할 필요가 있음\n",
        "# 몇몇 이상치 처리도 진행\n",
        "def scale_checker(scale):\n",
        "  if scale.startswith('.')==True:\n",
        "    return format(float('0'+scale[:-2]),'.2f')\n",
        "  else:\n",
        "    return format(float((scale[:-2])),'.2f')\n",
        "df2['scale'] = df2['scale'].apply(scale_checker)\n",
        "df2['scale'] = df2['scale'].astype('float')\n",
        "# df2['scale'] = format(round(df2['scale'].apply(pd.to_numeric),2),'.2f')"
      ]
    },
    {
      "cell_type": "code",
      "execution_count": 15,
      "metadata": {},
      "outputs": [],
      "source": [
        "df2['price'] = pd.to_numeric(df2['price'])"
      ]
    },
    {
      "cell_type": "code",
      "execution_count": 16,
      "metadata": {},
      "outputs": [
        {
          "data": {
            "text/html": [
              "<div>\n",
              "<style scoped>\n",
              "    .dataframe tbody tr th:only-of-type {\n",
              "        vertical-align: middle;\n",
              "    }\n",
              "\n",
              "    .dataframe tbody tr th {\n",
              "        vertical-align: top;\n",
              "    }\n",
              "\n",
              "    .dataframe thead th {\n",
              "        text-align: right;\n",
              "    }\n",
              "</style>\n",
              "<table border=\"1\" class=\"dataframe\">\n",
              "  <thead>\n",
              "    <tr style=\"text-align: right;\">\n",
              "      <th></th>\n",
              "      <th>prd</th>\n",
              "      <th>scale</th>\n",
              "      <th>price</th>\n",
              "      <th>origin</th>\n",
              "      <th>eco</th>\n",
              "      <th>reg_date</th>\n",
              "      <th>class</th>\n",
              "    </tr>\n",
              "  </thead>\n",
              "  <tbody>\n",
              "    <tr>\n",
              "      <th>8099973</th>\n",
              "      <td>[버섯]버섯(표고버섯)</td>\n",
              "      <td>8.0</td>\n",
              "      <td>-56000</td>\n",
              "      <td>경기 연천군</td>\n",
              "      <td>normal</td>\n",
              "      <td>2020-09-29</td>\n",
              "      <td>1</td>\n",
              "    </tr>\n",
              "    <tr>\n",
              "      <th>8117334</th>\n",
              "      <td>[버섯]버섯(표고버섯)</td>\n",
              "      <td>8.0</td>\n",
              "      <td>-56000</td>\n",
              "      <td>경기 연천군</td>\n",
              "      <td>normal</td>\n",
              "      <td>2020-09-30</td>\n",
              "      <td>1</td>\n",
              "    </tr>\n",
              "  </tbody>\n",
              "</table>\n",
              "</div>"
            ],
            "text/plain": [
              "                  prd  scale  price  origin     eco   reg_date  class\n",
              "8099973  [버섯]버섯(표고버섯)    8.0 -56000  경기 연천군  normal 2020-09-29      1\n",
              "8117334  [버섯]버섯(표고버섯)    8.0 -56000  경기 연천군  normal 2020-09-30      1"
            ]
          },
          "execution_count": 16,
          "metadata": {},
          "output_type": "execute_result"
        }
      ],
      "source": [
        "df2[df2['price']<0]"
      ]
    },
    {
      "cell_type": "code",
      "execution_count": 17,
      "metadata": {
        "colab": {
          "base_uri": "https://localhost:8080/"
        },
        "id": "S_OXk_iDDaxM",
        "outputId": "df40b3b5-b8d5-4609-b1d1-d940826ff6bf"
      },
      "outputs": [
        {
          "data": {
            "text/plain": [
              "count   27668511.00000\n",
              "mean       23176.35811\n",
              "std       138459.47081\n",
              "min       -56000.00000\n",
              "25%         7800.00000\n",
              "50%        14000.00000\n",
              "75%        25500.00000\n",
              "max     99999999.00000\n",
              "Name: price, dtype: float64"
            ]
          },
          "execution_count": 17,
          "metadata": {},
          "output_type": "execute_result"
        }
      ],
      "source": [
        "# 1원짜리 거래 발견, 너무 거래값이 작은 값들은 삭제\n",
        "pd.options.display.float_format = '{:.5f}'.format\n",
        "df2['price'].describe()"
      ]
    },
    {
      "cell_type": "code",
      "execution_count": 18,
      "metadata": {
        "id": "PQrLwgHPVsHs"
      },
      "outputs": [],
      "source": [
        "df2 = df2.drop(df2[df2['price']<500].index)\n",
        "df2 = df2.drop(df2[df2['scale']==0].index)"
      ]
    },
    {
      "cell_type": "code",
      "execution_count": 22,
      "metadata": {},
      "outputs": [],
      "source": [
        "df2 = df2.groupby(['prd','origin','eco','reg_date','class']).sum().reset_index()"
      ]
    },
    {
      "cell_type": "code",
      "execution_count": 23,
      "metadata": {
        "id": "13Js-KtTBZB5"
      },
      "outputs": [],
      "source": [
        "# kg 당 가격 생성\n",
        "df2['price_kg'] = round((df2['price']/df2['scale']),2)"
      ]
    },
    {
      "cell_type": "markdown",
      "metadata": {
        "id": "FJ4jjRUQ8cB3"
      },
      "source": [
        "### prd\n",
        "- 품목명 정리\n",
        "- 품목 종류 정리"
      ]
    },
    {
      "cell_type": "code",
      "execution_count": 24,
      "metadata": {},
      "outputs": [
        {
          "data": {
            "text/plain": [
              "count   4661413.00000\n",
              "mean       3537.35906\n",
              "std        8203.07026\n",
              "min           0.08000\n",
              "25%        1250.00000\n",
              "50%        2266.67000\n",
              "75%        4064.71000\n",
              "max     7757360.00000\n",
              "Name: price_kg, dtype: float64"
            ]
          },
          "execution_count": 24,
          "metadata": {},
          "output_type": "execute_result"
        }
      ],
      "source": [
        "df2['price_kg'].describe()"
      ]
    },
    {
      "cell_type": "code",
      "execution_count": 25,
      "metadata": {
        "colab": {
          "base_uri": "https://localhost:8080/"
        },
        "id": "pymqNuDt8qqS",
        "outputId": "1506a365-b491-4b16-f40f-4d63980bc22f"
      },
      "outputs": [
        {
          "data": {
            "text/plain": [
              "[오이]백다다기           87711\n",
              "[호박]애호박            62329\n",
              "[가지]가지             57377\n",
              "[버섯]새송이            41021\n",
              "[딸기]설향             36352\n",
              "                   ...  \n",
              "[복숭아]복숭아(대박황도)         1\n",
              "[토마토]토마토(송이토마토)        1\n",
              "[복숭아]복숭아(대구보)          1\n",
              "[기타채소]새싹채소(일반)         1\n",
              "[기타엽채]청겨자              1\n",
              "Name: prd, Length: 3688, dtype: int64"
            ]
          },
          "execution_count": 25,
          "metadata": {},
          "output_type": "execute_result"
        }
      ],
      "source": [
        "# 대부분 [상품 종류]상품명 으로 정리되어 있는걸 알 수 있음\n",
        "df2['prd'].value_counts()"
      ]
    },
    {
      "cell_type": "code",
      "execution_count": 26,
      "metadata": {
        "id": "EKmhi36getHp"
      },
      "outputs": [],
      "source": [
        "# 정리를 위해 상품명 삭제\n",
        "def prd_sort(words):\n",
        "  p = re.compile('[ㄱ-힣]+')\n",
        "  word = re.search(p,words)\n",
        "  return word.group()\n",
        "\n",
        "df2['prd'] = df2['prd'].apply(prd_sort)"
      ]
    },
    {
      "cell_type": "code",
      "execution_count": 27,
      "metadata": {
        "id": "mlsCXSXMekGg"
      },
      "outputs": [],
      "source": [
        "# 기타 품목 삭제\n",
        "df2 = df2.drop(df2[df2['prd']=='기타'].index)"
      ]
    },
    {
      "cell_type": "code",
      "execution_count": 28,
      "metadata": {
        "id": "fZ8b4ETrDv5n"
      },
      "outputs": [],
      "source": [
        "# 국산,수입산,깐,기타 삭제\n",
        "def prd_sort2(words):\n",
        "  p = re.compile('[^국산수입깐기타]+')\n",
        "  word = re.search(p,str(words))\n",
        "  return word.group()\n",
        "\n",
        "df2[\"prd\"] = df2[\"prd\"].apply(prd_sort2)\n"
      ]
    },
    {
      "cell_type": "code",
      "execution_count": 29,
      "metadata": {},
      "outputs": [],
      "source": [
        "###\n",
        "df2.loc[df2[\"prd\"]==\"감말랭이\",\"prd\"] = \"감\"\n",
        "df2.loc[df2[\"prd\"]==\"떫은감\",\"prd\"] = \"감\"\n",
        "\n",
        "# 고 -> 고수로 변경\n",
        "df2.loc[df2[\"prd\"]==\"고\",\"prd\"] = \"고수\"\n",
        "# 과실류, 과일류, 과채, 채소 -> 과채류로 통합\n",
        "df2.loc[df2[\"prd\"]==\"과실류\",\"prd\"] = \"과채류\"\n",
        "df2.loc[df2[\"prd\"]==\"과일류\",\"prd\"] = \"과채류\"\n",
        "df2.loc[df2[\"prd\"]==\"과일야채류\",\"prd\"] = \"과채류\"\n",
        "df2.loc[df2[\"prd\"]==\"과일과채류\",\"prd\"] = \"과채류\"\n",
        "df2.loc[df2[\"prd\"]==\"과일\",\"prd\"] = \"과채류\"\n",
        "df2.loc[df2[\"prd\"]==\"과채\",\"prd\"] = \"과채류\"\n",
        "df2.loc[df2[\"prd\"]==\"채소\",\"prd\"] = \"과채류\"\n",
        "df2.loc[df2[\"prd\"]==\"건채류\",\"prd\"] = \"과채류\"\n",
        "df2.loc[df2[\"prd\"]==\"근채류\",\"prd\"] = \"과채류\"\n",
        "df2.loc[df2[\"prd\"]==\"쌈용채소\",\"prd\"] = \"과채류\"\n",
        "df2.loc[df2[\"prd\"]==\"쌈채류\",\"prd\"] = \"과채류\"\n",
        "df2.loc[df2[\"prd\"]==\"양채류\",\"prd\"] = \"과채류\"\n",
        "df2.loc[df2[\"prd\"]==\"엽경채류\",\"prd\"] = \"과채류\"\n",
        "df2.loc[df2[\"prd\"]==\"채류\",\"prd\"] = \"과채류\"\n",
        "df2.loc[df2[\"prd\"]==\"채소류\",\"prd\"] = \"과채류\"\n",
        "# 고들빼 -> 고들빼기로 변경\n",
        "df2.loc[df2[\"prd\"]==\"고들빼\",\"prd\"] = \"고들빼기\"\n",
        "\n",
        "df2.loc[df2[\"prd\"]==\"금감\",\"prd\"] = \"귤\"\n",
        "df2.loc[df2[\"prd\"]==\"만감\",\"prd\"] = \"귤\"\n",
        "\n",
        "df2.loc[df2[\"prd\"]==\"검복\",\"prd\"] = \"복어\"\n",
        "# 꼴뚜 -> 꼴두기로 변경\n",
        "df2.loc[df2[\"prd\"]==\"꼴뚜\",\"prd\"] = \"꼴뚜기\"\n",
        "# 그레이프푸룻 -> 자몽으로 통합\n",
        "df2.loc[df2[\"prd\"]==\"그레이프푸룻\",\"prd\"] = \"자몽\"\n",
        "\n",
        "# 느 -> 느타리버섯으로 통합\n",
        "df2.loc[df2[\"prd\"]==\"느\",\"prd\"] = \"느타리버섯\"\n",
        "\n",
        "# 대구 관련 품목들 정리\n",
        "df2.loc[df2[\"prd\"]==\"대구고니\",\"prd\"] = \"대구\"\n",
        "df2.loc[df2[\"prd\"]==\"대구머리\",\"prd\"] = \"대구\"\n",
        "df2.loc[df2[\"prd\"]==\"대구포\",\"prd\"] = \"대구\"\n",
        "df2.loc[df2[\"prd\"]==\"대구알\",\"prd\"] = \"대구\"\n",
        "df2.loc[df2[\"prd\"]==\"대구원양\",\"prd\"] = \"대구\"\n",
        "\n",
        "# 듀리안 -> 두리안으로 통합\n",
        "df2.loc[df2[\"prd\"]==\"듀리안\",\"prd\"] = \"두리안\"\n",
        "# 딸 -> 딸기로 변경\n",
        "df2.loc[df2[\"prd\"]==\"딸\",\"prd\"] = \"딸기\"\n",
        "\n",
        "# 로케트 -> 루꼴라로 변경\n",
        "df2.loc[df2[\"prd\"]==\"로케트\",\"prd\"] = \"루꼴라\"\n",
        "\n",
        "# 만가닥 -> 만가닥버섯으로 변경\n",
        "df2.loc[df2[\"prd\"]==\"만가닥\",\"prd\"] = \"만가닥버섯\"\n",
        "# 맛 -> 맛조개로 변경\n",
        "df2.loc[df2[\"prd\"]==\"맛\",\"prd\"] = \"맛조개\"\n",
        "# 망고스턴 -> 망고스틴으로 수정\n",
        "df2.loc[df2[\"prd\"]==\"망고스턴\",\"prd\"] = \"망고스틴\"\n",
        "# 메 -> 메기로 변경\n",
        "df2.loc[df2[\"prd\"]==\"메\",\"prd\"] = \"메기\"\n",
        "# 명태 관련 품목들 정리\n",
        "df2.loc[df2[\"prd\"]==\"명태곤니\",\"prd\"] = \"명태\"\n",
        "df2.loc[df2[\"prd\"]==\"명태알\",\"prd\"] = \"명태\"\n",
        "df2.loc[df2[\"prd\"]==\"명태포\",\"prd\"] = \"명태\"\n",
        "df2.loc[df2[\"prd\"]==\"코다리명태\",\"prd\"] = \"명태\"\n",
        "# 무우 -> 무로 통합\n",
        "df2.loc[df2[\"prd\"]==\"무우\",\"prd\"] = \"무\"\n",
        "\n",
        "# 방풍 -> 방풍나물로 통합\n",
        "df2.loc[df2[\"prd\"]==\"방풍\",\"prd\"] = \"방풍나물\"\n",
        "# 버섯류 -> 버섯으로 변경\n",
        "df2.loc[df2[\"prd\"]==\"버섯류\",\"prd\"] = \"버섯\"\n",
        "# 벗,버찌 -> 체리로 통합\n",
        "df2.loc[df2[\"prd\"]==\"벗\",\"prd\"] = \"체리\"\n",
        "df2.loc[df2[\"prd\"]==\"버찌\",\"prd\"] = \"체리\"\n",
        "df2.loc[df2[\"prd\"]==\"벗찌\",\"prd\"] = \"체리\"\n",
        "# 브로커리, 브로코리 -> 브로콜리로 통합\n",
        "df2.loc[df2[\"prd\"]==\"브로커리\",\"prd\"] = \"브로콜리\"\n",
        "df2.loc[df2[\"prd\"]==\"브로코리\",\"prd\"] = \"브로콜리\"\n",
        "\n",
        "# 삼 -> 수삼으로 변경\n",
        "df2.loc[df2[\"prd\"]==\"삼\",\"prd\"] = \"수삼\"\n",
        "# 새우살 -> 새우로 변경\n",
        "df2.loc[df2[\"prd\"]==\"새우살\",\"prd\"] = \"새우\"\n",
        "df2.loc[df2[\"prd\"]==\"남빙양새우\",\"prd\"] = \"새우\"\n",
        "df2.loc[df2[\"prd\"]==\"닭새우\",\"prd\"] = \"새우\"\n",
        "df2.loc[df2[\"prd\"]==\"대하\",\"prd\"] = \"새우\"\n",
        "df2.loc[df2[\"prd\"]==\"동백하새우\",\"prd\"] = \"새우\"\n",
        "df2.loc[df2[\"prd\"]==\"백새우\",\"prd\"] = \"새우\"\n",
        "df2.loc[df2[\"prd\"]==\"보리새우\",\"prd\"] = \"새우\"\n",
        "df2.loc[df2[\"prd\"]==\"적새우\",\"prd\"] = \"새우\"\n",
        "df2.loc[df2[\"prd\"]==\"젓새우\",\"prd\"] = \"새우\"\n",
        "df2.loc[df2[\"prd\"]==\"중하\",\"prd\"] = \"새우\"\n",
        "# 세러리, 셀러리 -> 샐러리로 통합\n",
        "df2.loc[df2[\"prd\"]==\"세러리\",\"prd\"] = \"샐러리\"\n",
        "df2.loc[df2[\"prd\"]==\"셀러리\",\"prd\"] = \"샐러리\"\n",
        "# 생고추 -> 고추로 통합\n",
        "df2.loc[df2[\"prd\"]==\"생고추\",\"prd\"] = \"고추\"\n",
        "df2.loc[df2[\"prd\"]==\"건고추\",\"prd\"] = \"고추\"\n",
        "df2.loc[df2[\"prd\"]==\"고추잎\",\"prd\"] = \"고추\"\n",
        "df2.loc[df2[\"prd\"]==\"붉은고추\",\"prd\"] = \"고추\"\n",
        "df2.loc[df2[\"prd\"]==\"풋고추\",\"prd\"] = \"고추\"\n",
        "\n",
        "# 아보카드 -> 아보카도로 변경\n",
        "df2.loc[df2[\"prd\"]==\"아보카드\",\"prd\"] = \"아보카도\"\n",
        "# 아스파라가스 -> 아스파라거스로 변경\n",
        "df2.loc[df2[\"prd\"]==\"아스파라가스\",\"prd\"] = \"아스파라거스\"\n",
        "# 알 -> 알타리무로 변경\n",
        "df2.loc[df2[\"prd\"]==\"알\",\"prd\"] = \"알타리무\"\n",
        "# 알배 -> 알배기로 변경\n",
        "df2.loc[df2[\"prd\"]==\"알배\",\"prd\"] = \"알배기\"\n",
        "# 양채 -> 양채류로 통합\n",
        "df2.loc[df2[\"prd\"]==\"양채\",\"prd\"] = \"양채류\"\n",
        "# 얼갈이 -> 얼갈이배추로 통합\n",
        "df2.loc[df2[\"prd\"]==\"얼갈이\",\"prd\"] = \"얼갈이배추\"\n",
        "# 엽채류, 엽채 -> 엽경채류로 통합\n",
        "df2.loc[df2[\"prd\"]==\"엽채류\",\"prd\"] = \"엽경채류\"\n",
        "df2.loc[df2[\"prd\"]==\"엽채\",\"prd\"] = \"엽경채류\"\n",
        "# 오징어 관련 품목들 정리\n",
        "df2.loc[df2[\"prd\"]==\"오징어다리\",\"prd\"] = \"오징어\"\n",
        "df2.loc[df2[\"prd\"]==\"오징어원양\",\"prd\"] = \"오징어\"\n",
        "df2.loc[df2[\"prd\"]==\"오징어채\",\"prd\"] = \"오징어\"\n",
        "df2.loc[df2[\"prd\"]==\"활복오징어\",\"prd\"] = \"오징어\"\n",
        "df2.loc[df2[\"prd\"]==\"오징어채원양\",\"prd\"] = \"오징어\"\n",
        "df2.loc[df2[\"prd\"]==\"갑오징어살\",\"prd\"] = \"오징어\"\n",
        "df2.loc[df2[\"prd\"]==\"갑오징어몸통\",\"prd\"] = \"오징어\"\n",
        "df2.loc[df2[\"prd\"]==\"갑오징어다리\",\"prd\"] = \"오징어\"\n",
        "df2.loc[df2[\"prd\"]==\"갑오징어\",\"prd\"] = \"오징어\"\n",
        "df2.loc[df2[\"prd\"]==\"활복오징어원양\",\"prd\"] = \"오징어\"\n",
        "df2.loc[df2[\"prd\"]==\"오징어살\",\"prd\"] = \"오징어\"\n",
        "# 옥, 풋옥 -> 옥수수로 정리\n",
        "df2.loc[df2[\"prd\"]==\"옥\",\"prd\"] = \"옥수수\"\n",
        "df2.loc[df2[\"prd\"]==\"풋옥\",\"prd\"] = \"옥수수\"\n",
        "# 임연 -> 임연수어로 정리\n",
        "df2.loc[df2[\"prd\"]==\"임연\",\"prd\"] = \"임연수어\"\n",
        "\n",
        "\n",
        "# 절단 -> 절단쭈꾸미 -> 쭈꾸미로 정리\n",
        "df2.loc[df2[\"prd\"]==\"절단\",\"prd\"] = \"쭈꾸미\"\n",
        "# 조개살 -> 조개로 정리\n",
        "df2.loc[df2[\"prd\"]==\"조개살\",\"prd\"] = \"조개\"\n",
        "df2.loc[df2[\"prd\"]==\"민들조개\",\"prd\"] = \"조개\"\n",
        "df2.loc[df2[\"prd\"]==\"북방대합조개\",\"prd\"] = \"조개\"\n",
        "\n",
        "# 참조 -> 참조기로 정리\n",
        "df2.loc[df2[\"prd\"]==\"참조\",\"prd\"] = \"참조기\"\n",
        "\n",
        "# 칼라후라워,칼리플라워, 칼리후라워 -> 컬리플라워로 통합\n",
        "df2.loc[df2[\"prd\"]==\"칼라후라워\",\"prd\"] = \"컬리플라워\"\n",
        "df2.loc[df2[\"prd\"]==\"칼리플라워\",\"prd\"] = \"컬리플라워\"\n",
        "df2.loc[df2[\"prd\"]==\"칼리후라워\",\"prd\"] = \"컬리플라워\"\n",
        "# 코라비 -> 콜라비로 통합\n",
        "df2.loc[df2[\"prd\"]==\"코라비\",\"prd\"] = \"콜라비\"\n",
        "# 키조개날개 -> 키조개로 통합\n",
        "df2.loc[df2[\"prd\"]==\"키조개날개\",\"prd\"] = \"키조개\"\n",
        "\n",
        "# 팽이 -> 팽이버섯으로 통합\n",
        "df2.loc[df2[\"prd\"]==\"팽이\",\"prd\"] = \"팽이버섯\"\n",
        "# 파세리 -> 파슬리로 변경\n",
        "df2.loc[df2[\"prd\"]==\"파세리\",\"prd\"] = \"파슬리\"\n",
        "# 표고 -> 표고버섯으로 통합\n",
        "df2.loc[df2[\"prd\"]==\"표고\",\"prd\"] = \"표고버섯\"\n",
        "# 포장바지락 -> 바지락으로 변경\n",
        "df2.loc[df2[\"prd\"]==\"포장바지락\",\"prd\"] = \"바지락\"\n",
        "df2.loc[df2[\"prd\"]==\"문어바지락\",\"prd\"] = \"바지락\"\n",
        "\n",
        "### 일단 여기까지 실행\n",
        "\n",
        "df2.loc[df2[\"prd\"]==\"갈치포\",\"prd\"] = \"갈치\"\n",
        "\n",
        "#각굴 -> 굴로 통합\n",
        "df2.loc[df2[\"prd\"]==\"각굴\",\"prd\"] = \"굴\"\n",
        "\n",
        "#가오리채 -> 가오리로 통합\n",
        "df2.loc[df2[\"prd\"]==\"가오리채\",\"prd\"] = \"가오리\"\n",
        "df2.loc[df2[\"prd\"]==\"가오리포\",\"prd\"] = \"가오리\"\n",
        "df2.loc[df2[\"prd\"]==\"간재미\",\"prd\"] = \"가오리\"\n",
        "# 게지 -> 키조개로 통합\n",
        "df2.loc[df2[\"prd\"]==\"게지\",\"prd\"] = \"키조개\"\n",
        "#고 -> 고구마로 통합\n",
        "df2.loc[df2[\"prd\"]==\"고\",\"prd\"] = \"고구마\"\n",
        "df2.loc[df2[\"prd\"]==\"고구마순\",\"prd\"] = \"고구마\"\n",
        "#꼴뚜 -> 꼴뚜기로 통합\n",
        "df2.loc[df2[\"prd\"]==\"꼴뚜\",\"prd\"] = \"꼴뚜기\"\n",
        "\n",
        "df2.loc[df2[\"prd\"]==\"꽁치원양\",\"prd\"] = \"꽁치\"\n",
        "\n",
        "df2.loc[df2[\"prd\"]==\"놀래\",\"prd\"] = \"노래미\"\n",
        "\n",
        "df2.loc[df2[\"prd\"]==\"능성어원양\",\"prd\"] = \"능성어\"\n",
        "\n",
        "df2.loc[df2[\"prd\"]==\"다래순\",\"prd\"] = \"다래\"\n",
        "\n",
        "df2.loc[df2[\"prd\"]==\"다슬\",\"prd\"] = \"다슬기\"\n",
        "#돗나물 -> 돌나물로 통합\n",
        "df2.loc[df2[\"prd\"]==\"돗나물\",\"prd\"] = \"돌나물\"\n",
        "\n",
        "df2.loc[df2[\"prd\"]==\"동죽살\",\"prd\"] = \"동죽\"\n",
        "#레드쉬 -> 레디쉬로 통합\n",
        "df2.loc[df2[\"prd\"]==\"레드쉬\",\"prd\"] = \"레디쉬\"\n",
        "#만가닥 -> 만가닥버섯으로 통합\n",
        "df2.loc[df2[\"prd\"]==\"만가닥\",\"prd\"] = \"만가닥버섯\"\n",
        "\n",
        "df2.loc[df2[\"prd\"]==\"머위대\",\"prd\"] = \"머위\"\n",
        "#메 -> 메기로 통합\n",
        "df2.loc[df2[\"prd\"]==\"메\",\"prd\"] = \"메기\"\n",
        "\n",
        "df2.loc[df2[\"prd\"]==\"민물새우원양\",\"prd\"] = \"민물새우\"\n",
        "#봄동 -> 봄동배추로 통합\n",
        "df2.loc[df2[\"prd\"]==\"봄동\",\"prd\"] = \"봄동배추\"\n",
        "#봉지굴 -> 굴로 통합\n",
        "df2.loc[df2[\"prd\"]==\"봉지굴\",\"prd\"] = \"굴\"\n",
        "#박 -> 수박으로 통합\n",
        "df2.loc[df2[\"prd\"]==\"박\",\"prd\"] = \"수박\"\n",
        "#백조 -> 조기로 통합 \n",
        "df2.loc[df2[\"prd\"]==\"백조\",\"prd\"] = \"조기\"\n",
        "#벅굴 -> 벚굴로 통합\n",
        "df2.loc[df2[\"prd\"]==\"벅굴\",\"prd\"] = \"벚굴\"\n",
        "\n",
        "df2.loc[df2[\"prd\"]==\"병어살\",\"prd\"] = \"병어\"\n",
        "\n",
        "df2.loc[df2[\"prd\"]==\"보리멸원양\",\"prd\"] = \"보리멸\"\n",
        "\n",
        "df2.loc[df2[\"prd\"]==\"부지갱이\",\"prd\"] = \"부지깽이\"\n",
        "\n",
        "#비 -> 비타민으로 통합\n",
        "df2.loc[df2[\"prd\"]==\"비\",\"prd\"] = \"비타민\"\n",
        "#빈스 -> 콩으로 통합\n",
        "df2.loc[df2[\"prd\"]==\"빈스\",\"prd\"] = \"콩\"\n",
        "#삐틀이 -> 고둥으로 통합\n",
        "df2.loc[df2[\"prd\"]==\"삐틀이\",\"prd\"] = \"고둥\"\n",
        "#새송이 -> 새송이버섯으로 통합\n",
        "df2.loc[df2[\"prd\"]==\"새송이\",\"prd\"] = \"새송이버섯\"\n",
        "\n",
        "df2.loc[df2[\"prd\"]==\"새싹\",\"prd\"] = \"새싹채소\"\n",
        "\n",
        "df2.loc[df2[\"prd\"]==\"새치\",\"prd\"] = \"황새치\"\n",
        "#세트 -> 과채류로 통합\n",
        "df2.loc[df2[\"prd\"]==\"세트\",\"prd\"] = \"과채류\"\n",
        "#알 -> 알로애로 통합\n",
        "df2.loc[df2[\"prd\"]==\"알\",\"prd\"] = \"알로에\"\n",
        "\n",
        "df2.loc[df2[\"prd\"]==\"양조\",\"prd\"] = \"양조기\"\n",
        "#엄나무 -> 음나무로 통합\n",
        "df2.loc[df2[\"prd\"]==\"엄나무\",\"prd\"] = \"음나무\"\n",
        "#염고등어 -> 고등어로 통합\n",
        "df2.loc[df2[\"prd\"]==\"염고등어\",\"prd\"] = \"고등어\"\n",
        "#오만둥이 -> 미더덕으로 통합\n",
        "df2.loc[df2[\"prd\"]==\"오만둥이\",\"prd\"] = \"미더덕\"\n",
        "#오징어 관련 품목들 정리\n",
        "df2.loc[df2[\"prd\"]==\"선동오징어\",\"prd\"] = \"오징어\"\n",
        "df2.loc[df2[\"prd\"]==\"오징어몸통\",\"prd\"] = \"오징어\"\n",
        "#우렁쉥이 -> 멍게로 통합\n",
        "df2.loc[df2[\"prd\"]==\"우렁쉥이\",\"prd\"] = \"멍게\"\n",
        "#우뭇가시리 -> 우뭇가사리로 통합\n",
        "df2.loc[df2[\"prd\"]==\"우뭇가시리\",\"prd\"] = \"우뭇가사리\"\n",
        "#적채 -> 적양배추로 통합\n",
        "df2.loc[df2[\"prd\"]==\"적채\",\"prd\"] = \"적양배추\"\n",
        "df2.loc[df2[\"prd\"]==\"빨간양배추\",\"prd\"] = \"적양배추\"\n",
        "#절단낙지 -> 낙지로 통합\n",
        "df2.loc[df2[\"prd\"]==\"절단낙지\",\"prd\"] = \"낙지\"\n",
        "#조 -> 조개로 통합\n",
        "df2.loc[df2[\"prd\"]==\"조\",\"prd\"] = \"조개\"\n",
        "df2.loc[df2[\"prd\"]==\"개량조개\",\"prd\"] = \"조개\"\n",
        "#청어원양 -> 청어로 통합\n",
        "df2.loc[df2[\"prd\"]==\"청어원양\",\"prd\"] = \"청어\"\n",
        "#키조개꼭지 -> 키조개로 통합\n",
        "df2.loc[df2[\"prd\"]==\"키조개꼭지\",\"prd\"] = \"키조개\"\n",
        "\n",
        "# 꽃게 관련 꽃게로 통합\n",
        "df2.loc[df2[\"prd\"]==\"암꽃게\",\"prd\"] = \"꽃게\"\n",
        "df2.loc[df2[\"prd\"]==\"숫꽃게\",\"prd\"] = \"꽃게\"\n",
        "df2.loc[df2[\"prd\"]==\"꽃게살\",\"prd\"] = \"꽃게\"\n",
        "# 우렁 -> 우렁이로 통합\n",
        "df2.loc[df2[\"prd\"]==\"우렁\",\"prd\"] = \"우렁이\"\n",
        "df2.loc[df2[\"prd\"]==\"논우렁이\",\"prd\"] = \"우렁이\"\n",
        "# 알로애 -> 알로에로 변경\n",
        "df2.loc[df2[\"prd\"]==\"알로애\",\"prd\"] = \"알로에\"\n",
        "\n",
        "df2.loc[df2[\"prd\"]==\"영지버섯\",\"prd\"] = \"영지\"\n",
        "\n",
        "df2.loc[df2[\"prd\"]==\"자연\",\"prd\"] = \"송이\"\n",
        "\n",
        "df2.loc[df2[\"prd\"]==\"적근대\",\"prd\"] = \"근대\"\n",
        "\n",
        "df2.loc[df2[\"prd\"]==\"적겨자\",\"prd\"] = \"겨자\"\n",
        "\n",
        "df2.loc[df2[\"prd\"]==\"줄삼치\",\"prd\"] = \"삼치\"\n",
        "\n",
        "df2.loc[df2[\"prd\"]==\"참꼬막\",\"prd\"] = \"꼬막\"\n",
        "\n",
        "df2.loc[df2[\"prd\"]==\"참다래\",\"prd\"] = \"다래\"\n",
        "\n",
        "df2.loc[df2[\"prd\"]==\"참당귀\",\"prd\"] = \"당귀\"\n",
        "\n",
        "df2.loc[df2[\"prd\"]==\"참조기\",\"prd\"] = \"조기\"\n",
        "\n",
        "df2.loc[df2[\"prd\"]==\"청겨자\",\"prd\"] = \"겨자\"\n",
        "# 피마자잎 -> 피마자로 변경\n",
        "df2.loc[df2[\"prd\"]==\"피미자잎\",\"prd\"] = \"피마자\"\n",
        "df2.loc[df2[\"prd\"]==\"피마자잎\",\"prd\"] = \"피마자\"\n",
        "# 식용허브 -> 허브로 변경\n",
        "df2.loc[df2[\"prd\"]==\"식용허브\",\"prd\"] = \"허브\"\n",
        "# 선인장열매 -> 선인장으로 변경\n",
        "df2.loc[df2[\"prd\"]==\"선인장열매\",\"prd\"] = \"선인장\"\n",
        "# 쌈추 -> 쌈채류로 변경\n",
        "df2.loc[df2[\"prd\"]==\"쌈추\",\"prd\"] = \"쌈채류\"\n",
        "# 덟은감 -> 감으로 변경\n",
        "df2.loc[df2[\"prd\"]==\"덟은감\",\"prd\"] = \"감\"\n",
        "\n",
        "df2.loc[df2[\"prd\"]==\"파래김\",\"prd\"] = \"파래\"\n",
        "\n",
        "df2.loc[df2[\"prd\"]==\"패션푸룻\",\"prd\"] = \"패션후르츠\"\n",
        "# 피뿔고동 -> 고둥으로 변경\n",
        "df2.loc[df2[\"prd\"]==\"피뿔고동\",\"prd\"] = \"고둥\"\n",
        "# 꼬시래 -> 꼬시래기으로 변경\n",
        "df2.loc[df2[\"prd\"]==\"꼬시래\",\"prd\"] = \"꼬시래기\"\n",
        "# 연어살 -> 연어로 변경\n",
        "df2.loc[df2[\"prd\"]==\"연어살\",\"prd\"] = \"연어\"\n",
        "# 비단멍게 -> 멍게로 변경\n",
        "df2.loc[df2[\"prd\"]==\"비단멍게\",\"prd\"] = \"멍게\"\n",
        "# 물가자미 -> 가자미로 변경\n",
        "df2.loc[df2[\"prd\"]==\"물가자미\",\"prd\"] = \"가자미\"\n",
        "# 물메 -> 메기로 변경\n",
        "df2.loc[df2[\"prd\"]==\"물메\",\"prd\"] = \"메기\"\n",
        "# 붉은메 -> 메기로 변경\n",
        "df2.loc[df2[\"prd\"]==\"붉은메\",\"prd\"] = \"메기\"\n",
        "# 무우 -> 무로 통합\n",
        "df2.loc[df2[\"prd\"]==\"무우\",\"prd\"] = \"무\"\n",
        "\n",
        "#각굴 -> 굴로 통합\n",
        "df2.loc[df2[\"prd\"]==\"각굴\",\"prd\"] = \"굴\"\n",
        "df2.loc[df2[\"prd\"]==\"봉지굴\",\"prd\"] = \"굴\"\n",
        "df2.loc[df2[\"prd\"]==\"벅굴\",\"prd\"] = \"굴\"\n",
        "\n",
        "# 배추 관련 품목들 정리\n",
        "df2.loc[df2[\"prd\"]==\"봄동배추\",\"prd\"] = \"배추\"\n",
        "df2.loc[df2[\"prd\"]==\"얼갈이배추\",\"prd\"] = \"배추\"\n",
        "df2.loc[df2['prd'].str.contains('알배'),\"prd\"] = \"배추\"\n",
        "\n",
        "# 조미제품 삭제\n",
        "df2.drop(df2[df2['prd']=='조미제품'].index,inplace=True)\n",
        "df2.drop(df2[df2['prd']=='어류원양'].index,inplace=True)\n",
        "df2.drop(df2[df2['prd']=='동물'].index,inplace=True)\n",
        "df2.drop(df2[df2['prd']=='깔게'].index,inplace=True)\n",
        "df2.drop(df2[df2['prd']=='맛살'].index,inplace=True)\n",
        "df2.drop(df2[df2['prd']=='서류'].index,inplace=True)\n",
        "df2.drop(df2[df2['prd']=='시바'].index,inplace=True)\n",
        "df2.drop(df2[df2['prd']=='양조'].index,inplace=True)\n",
        "df2.drop(df2[df2['prd']=='어류'].index,inplace=True)\n",
        "df2.drop(df2[df2['prd']=='절임'].index,inplace=True)\n",
        "df2.drop(df2[df2['prd']=='춘채'].index,inplace=True)\n",
        "df2.drop(df2[df2['prd']=='패류'].index,inplace=True)\n",
        "df2.drop(df2[df2['prd'].str.contains('조미')].index,inplace=True)"
      ]
    },
    {
      "cell_type": "code",
      "execution_count": 30,
      "metadata": {},
      "outputs": [],
      "source": [
        "#df[df['prd'].str.contains('패류')]#['prd'].unique()"
      ]
    },
    {
      "cell_type": "code",
      "execution_count": 31,
      "metadata": {},
      "outputs": [
        {
          "name": "stdout",
          "output_type": "stream",
          "text": [
            "가리비 \n",
            "가물치 가오리 가자미 가재 가죽나물 가지 갈치 감 감귤 감자 갓 강낭콩 개불 개암 개조개 \n",
            "갯가재 갯장어 건고구마순 게 겨자 고구마 고니 고둥 고들빼기 고등어 고비 고사리 고수 고추 곤달비 \n",
            "곤드레나물 골뱅이 곶감 과채류 굴 귤 그린빈스 근대 김 깻잎 꼬막 꼬시래기 꼴뚜기 꽁치 꽃게 \n",
            "꽈리고추 낙지 날치알 냉이 넙치 노래미 노루궁뎅이버섯 농어 눈볼대 느타리버섯 능성어 다랑어 다래 다슬기 다시마 \n",
            "단감 달래 당귀 당근 대구 대추 대파 더덕 도다리 도라지 도루묵 도토리 돈나물 돌게 돌나물 \n",
            "돔 동부콩 동자개 동죽 두류 두릅 두리안 딸기 땅콩 라임 람부탄 레디쉬 레몬 루꼴라 리치 \n",
            "마 마늘 만가닥버섯 맛조개 망고 망고스틴 망둥어 매생이 매실 머루 머위 멍게 메기 메론 메밀 \n",
            "멸치 명이나물 명태 모과 모시조개 모자반 목이 무 무순 무청 무화과 문어 미꾸라지 미나리 미더덕 \n",
            "미역 민들레 민물돔 민물새우 민어 바나나 바다가재 바지락 박대 밤 방어 방울토마토 방풍나물 배 배추 \n",
            "백합 밴댕이 뱀장어 뱅어 버섯 벚굴 병어 보리 보리멸 복분자 복숭아 복어 볼락 부세 부지깽이 \n",
            "부추 붕어 붕장어 브로콜리 블루베리 비단조개 비름 비타민 비트 빙어 사과 살구 삼나물 삼치 상어 \n",
            "상추 상황버섯 새꼬막 새송이버섯 새싹채소 새우 새조개 샐러리 생강 생채 서대 석류 선인장 세발나물 소라 \n",
            "속새 솔잎 송이 수박 수삼 숙주나물 순무 시금치 신선초 실파 쌈채류 쑥 쑥갓 씀바귀 아귀 \n",
            "아로니아 아보카도 아스파라거스 아욱 알로에 알타리무 앵두 야자 야콘 양미리 양배추 양상추 양송이 양조기 양채류 \n",
            "양태 양파 여주 연근 연어 열무 엽경채류 영지 오가피 오디 오렌지 오이 오징어 오징어알 오크라 \n",
            "옥돔 옥수수 완두콩 용과 우럭조개 우렁이 우뭇가사리 우엉 우엉대 원추리 위소라 유자 유채 으름 은어 \n",
            "은행 음나무 임연수어 잉어 자두 자라 자리돔 자몽 잔대 잣 장어 재첩 적양배추 전갱이 전복 \n",
            "전어 조개 조기 조피볼락 죽순 죽합 준치 질경이 쪽파 쭈꾸미 참깨 참나물 참돔 참외 참죽나무순 \n",
            "천도복숭아 청각 청경채 청어 체리 총각무 취나물 치커리 칠게 칼조개 컬리플라워 케일 코코넛 콜라비 콩 \n",
            "콩나물 콩잎 키위 키조개 토란 토란대 토마토 톳 파 파래 파슬리 파인애플 파파야 파프리카 팥 \n",
            "패션후르츠 팽이버섯 포도 표고버섯 피마자 피망 피문어 피조개 학꽁치 한치 함초 해삼 해파리 향나물 향신료 \n",
            "향어 허브 호두 호박 호박잎 홍게 홍고추 홍어 홍합 황강달이 황새치 흑돔 "
          ]
        }
      ],
      "source": [
        "a = sorted(df2['prd'].unique())\n",
        "for i in range(len(a)):\n",
        "  if i%15 != 0:\n",
        "    print(a[i],end=' ')\n",
        "  else:\n",
        "    print(a[i],end=' ')\n",
        "    print()"
      ]
    },
    {
      "cell_type": "code",
      "execution_count": 32,
      "metadata": {},
      "outputs": [
        {
          "data": {
            "text/plain": [
              "array([], dtype=object)"
            ]
          },
          "execution_count": 32,
          "metadata": {},
          "output_type": "execute_result"
        }
      ],
      "source": [
        "# 기존 products 리스트와 비교\n",
        "ex_prd = pd.read_csv(\"../products.csv\")\n",
        "df2[~df2['prd'].isin(ex_prd['prd'])]['prd'].unique()"
      ]
    },
    {
      "cell_type": "code",
      "execution_count": 33,
      "metadata": {},
      "outputs": [
        {
          "name": "stderr",
          "output_type": "stream",
          "text": [
            "/var/folders/nq/s4zx76p53d11lnr0t1dxpxh00000gn/T/ipykernel_3212/1564971174.py:2: FutureWarning: The frame.append method is deprecated and will be removed from pandas in a future version. Use pandas.concat instead.\n",
            "  products = ex_prd.append(new_prd[~new_prd['prd'].isin(ex_prd['prd'])],ignore_index=True)\n",
            "/var/folders/nq/s4zx76p53d11lnr0t1dxpxh00000gn/T/ipykernel_3212/1564971174.py:3: FutureWarning: The frame.append method is deprecated and will be removed from pandas in a future version. Use pandas.concat instead.\n",
            "  products = ex_prd.append(new_prd,ignore_index=True)\n"
          ]
        }
      ],
      "source": [
        "new_prd = pd.DataFrame(df2['prd'].unique(),columns=['prd'])\n",
        "products = ex_prd.append(new_prd[~new_prd['prd'].isin(ex_prd['prd'])],ignore_index=True)\n",
        "products = ex_prd.append(new_prd,ignore_index=True)"
      ]
    },
    {
      "cell_type": "code",
      "execution_count": 43,
      "metadata": {},
      "outputs": [],
      "source": [
        "# 저장\n",
        "# products.to_csv('../products.csv')"
      ]
    },
    {
      "cell_type": "code",
      "execution_count": 34,
      "metadata": {},
      "outputs": [
        {
          "data": {
            "text/html": [
              "<div>\n",
              "<style scoped>\n",
              "    .dataframe tbody tr th:only-of-type {\n",
              "        vertical-align: middle;\n",
              "    }\n",
              "\n",
              "    .dataframe tbody tr th {\n",
              "        vertical-align: top;\n",
              "    }\n",
              "\n",
              "    .dataframe thead th {\n",
              "        text-align: right;\n",
              "    }\n",
              "</style>\n",
              "<table border=\"1\" class=\"dataframe\">\n",
              "  <thead>\n",
              "    <tr style=\"text-align: right;\">\n",
              "      <th></th>\n",
              "      <th>prd</th>\n",
              "    </tr>\n",
              "  </thead>\n",
              "  <tbody>\n",
              "    <tr>\n",
              "      <th>count</th>\n",
              "      <td>328.00000</td>\n",
              "    </tr>\n",
              "    <tr>\n",
              "      <th>mean</th>\n",
              "      <td>14207.85671</td>\n",
              "    </tr>\n",
              "    <tr>\n",
              "      <th>std</th>\n",
              "      <td>41660.03693</td>\n",
              "    </tr>\n",
              "    <tr>\n",
              "      <th>min</th>\n",
              "      <td>1.00000</td>\n",
              "    </tr>\n",
              "    <tr>\n",
              "      <th>25%</th>\n",
              "      <td>45.75000</td>\n",
              "    </tr>\n",
              "    <tr>\n",
              "      <th>50%</th>\n",
              "      <td>785.00000</td>\n",
              "    </tr>\n",
              "    <tr>\n",
              "      <th>75%</th>\n",
              "      <td>6503.50000</td>\n",
              "    </tr>\n",
              "    <tr>\n",
              "      <th>max</th>\n",
              "      <td>388684.00000</td>\n",
              "    </tr>\n",
              "  </tbody>\n",
              "</table>\n",
              "</div>"
            ],
            "text/plain": [
              "               prd\n",
              "count    328.00000\n",
              "mean   14207.85671\n",
              "std    41660.03693\n",
              "min        1.00000\n",
              "25%       45.75000\n",
              "50%      785.00000\n",
              "75%     6503.50000\n",
              "max   388684.00000"
            ]
          },
          "execution_count": 34,
          "metadata": {},
          "output_type": "execute_result"
        }
      ],
      "source": [
        "# 전체 거래량과 품목량\n",
        "# 비교를 위해 분포 파악\n",
        "# 거래량이 너무 적은 품목은 삭제할 필요성이 있음\n",
        "\n",
        "prd_lst = (df2['prd'].value_counts()).to_frame()\n",
        "prd_lst.describe()"
      ]
    },
    {
      "cell_type": "code",
      "execution_count": 55,
      "metadata": {},
      "outputs": [],
      "source": [
        "# 500개 미만 품목은 비교가 힘드므로 삭제\n",
        "# 줄어든 종류만 남기기\n",
        "\n",
        "# prd_lst = prd_lst[prd_lst['prd']>=500]\n",
        "# prd_lst.reset_index(inplace=True)\n",
        "# prd_lst = prd_lst.rename(columns = {'index':'prd','prd':'count'})\n",
        "# df3 = df2.merge(prd_lst)\n",
        "# df3[df3['count']>=500]['prd'].value_counts()"
      ]
    },
    {
      "cell_type": "code",
      "execution_count": null,
      "metadata": {},
      "outputs": [],
      "source": [
        "# 확인 완료했으므로 count는 drop\n",
        "\n",
        "# df3.drop('count',axis=1,inplace=True)"
      ]
    },
    {
      "cell_type": "code",
      "execution_count": 31,
      "metadata": {},
      "outputs": [],
      "source": [
        "# df2 = df2[(df2['prd'].str.contains('굴')) | \n",
        "#     (df2['prd'].str.contains('생강')) | \n",
        "#     (df2['prd'].str.contains('마늘')) | \n",
        "#     (df2['prd'].str.contains('양파')) | \n",
        "#     (df2['prd'].str.contains('사과')) | \n",
        "#     (df2['prd'].str.contains('배')) | \n",
        "#     (df2['prd'].str.contains('배추')) | \n",
        "#     (df2['prd'].str.contains('무')) | \n",
        "#     (df2['prd'].str.contains('총각무')) | \n",
        "#     (df2['prd'].str.contains('쪽파')) | \n",
        "#     (df2['prd'].str.contains('갓')) | \n",
        "#     (df2['prd'].str.contains('미나리'))]"
      ]
    },
    {
      "cell_type": "code",
      "execution_count": 32,
      "metadata": {},
      "outputs": [],
      "source": [
        "# 김장 품목 선택\n",
        "# df2 = df2[(df2['prd']=='굴') | \n",
        "#     (df2['prd']=='생강') | \n",
        "#     (df2['prd']=='마늘') | \n",
        "#     (df2['prd']=='양파') | \n",
        "#     (df2['prd']=='사과') | \n",
        "#     (df2['prd']=='배') | \n",
        "#     (df2['prd']=='배추') | \n",
        "#     (df2['prd']=='무') | \n",
        "#     (df2['prd']=='열무') | \n",
        "#     (df2['prd']=='총각무') | \n",
        "#     (df2['prd']=='쪽파') | \n",
        "#     (df2['prd']=='갓') | \n",
        "#     (df2['prd']=='미나리')]"
      ]
    },
    {
      "cell_type": "markdown",
      "metadata": {
        "id": "jPcICeSResYh"
      },
      "source": [
        "### scale"
      ]
    },
    {
      "cell_type": "code",
      "execution_count": 36,
      "metadata": {
        "colab": {
          "base_uri": "https://localhost:8080/"
        },
        "id": "4KZLpXuYYTZx",
        "outputId": "f59c1146-fdb9-4483-81a3-a0f51dd08904"
      },
      "outputs": [
        {
          "data": {
            "text/plain": [
              "array([ 10.  ,   5.  ,  20.  , ..., 370.01,  49.19,  26.85])"
            ]
          },
          "execution_count": 36,
          "metadata": {},
          "output_type": "execute_result"
        }
      ],
      "source": [
        "df3 = df2\n",
        "np.set_printoptions(precision=2, suppress=True)\n",
        "df3['scale'].unique()"
      ]
    },
    {
      "cell_type": "code",
      "execution_count": 37,
      "metadata": {},
      "outputs": [
        {
          "data": {
            "text/html": [
              "<div>\n",
              "<style scoped>\n",
              "    .dataframe tbody tr th:only-of-type {\n",
              "        vertical-align: middle;\n",
              "    }\n",
              "\n",
              "    .dataframe tbody tr th {\n",
              "        vertical-align: top;\n",
              "    }\n",
              "\n",
              "    .dataframe thead th {\n",
              "        text-align: right;\n",
              "    }\n",
              "</style>\n",
              "<table border=\"1\" class=\"dataframe\">\n",
              "  <thead>\n",
              "    <tr style=\"text-align: right;\">\n",
              "      <th></th>\n",
              "      <th>prd</th>\n",
              "      <th>origin</th>\n",
              "      <th>eco</th>\n",
              "      <th>reg_date</th>\n",
              "      <th>class</th>\n",
              "      <th>scale</th>\n",
              "      <th>price</th>\n",
              "      <th>price_kg</th>\n",
              "    </tr>\n",
              "  </thead>\n",
              "  <tbody>\n",
              "    <tr>\n",
              "      <th>416</th>\n",
              "      <td>가리비</td>\n",
              "      <td>경남 남해\\t</td>\n",
              "      <td>normal</td>\n",
              "      <td>2022-10-14</td>\n",
              "      <td>3</td>\n",
              "      <td>50.00000</td>\n",
              "      <td>227000</td>\n",
              "      <td>4540.00000</td>\n",
              "    </tr>\n",
              "    <tr>\n",
              "      <th>420</th>\n",
              "      <td>가리비</td>\n",
              "      <td>경남 남해\\t</td>\n",
              "      <td>normal</td>\n",
              "      <td>2022-10-21</td>\n",
              "      <td>3</td>\n",
              "      <td>55.00000</td>\n",
              "      <td>250000</td>\n",
              "      <td>4545.45000</td>\n",
              "    </tr>\n",
              "    <tr>\n",
              "      <th>421</th>\n",
              "      <td>가리비</td>\n",
              "      <td>경남 남해\\t</td>\n",
              "      <td>normal</td>\n",
              "      <td>2022-10-22</td>\n",
              "      <td>3</td>\n",
              "      <td>50.00000</td>\n",
              "      <td>225000</td>\n",
              "      <td>4500.00000</td>\n",
              "    </tr>\n",
              "    <tr>\n",
              "      <th>427</th>\n",
              "      <td>가리비</td>\n",
              "      <td>경남 남해\\t</td>\n",
              "      <td>normal</td>\n",
              "      <td>2022-10-29</td>\n",
              "      <td>3</td>\n",
              "      <td>50.00000</td>\n",
              "      <td>225000</td>\n",
              "      <td>4500.00000</td>\n",
              "    </tr>\n",
              "    <tr>\n",
              "      <th>428</th>\n",
              "      <td>가리비</td>\n",
              "      <td>경남 남해\\t</td>\n",
              "      <td>normal</td>\n",
              "      <td>2022-10-31</td>\n",
              "      <td>3</td>\n",
              "      <td>60.00000</td>\n",
              "      <td>273000</td>\n",
              "      <td>4550.00000</td>\n",
              "    </tr>\n",
              "    <tr>\n",
              "      <th>...</th>\n",
              "      <td>...</td>\n",
              "      <td>...</td>\n",
              "      <td>...</td>\n",
              "      <td>...</td>\n",
              "      <td>...</td>\n",
              "      <td>...</td>\n",
              "      <td>...</td>\n",
              "      <td>...</td>\n",
              "    </tr>\n",
              "    <tr>\n",
              "      <th>4660581</th>\n",
              "      <td>홍합</td>\n",
              "      <td>전남 여수\\t</td>\n",
              "      <td>normal</td>\n",
              "      <td>2022-11-25</td>\n",
              "      <td>3</td>\n",
              "      <td>130.00000</td>\n",
              "      <td>132000</td>\n",
              "      <td>1015.38000</td>\n",
              "    </tr>\n",
              "    <tr>\n",
              "      <th>4660582</th>\n",
              "      <td>홍합</td>\n",
              "      <td>전남 여수\\t</td>\n",
              "      <td>normal</td>\n",
              "      <td>2022-11-26</td>\n",
              "      <td>3</td>\n",
              "      <td>130.00000</td>\n",
              "      <td>149000</td>\n",
              "      <td>1146.15000</td>\n",
              "    </tr>\n",
              "    <tr>\n",
              "      <th>4660583</th>\n",
              "      <td>홍합</td>\n",
              "      <td>전남 여수\\t</td>\n",
              "      <td>normal</td>\n",
              "      <td>2022-11-28</td>\n",
              "      <td>3</td>\n",
              "      <td>110.00000</td>\n",
              "      <td>126000</td>\n",
              "      <td>1145.45000</td>\n",
              "    </tr>\n",
              "    <tr>\n",
              "      <th>4660584</th>\n",
              "      <td>홍합</td>\n",
              "      <td>전남 여수\\t</td>\n",
              "      <td>normal</td>\n",
              "      <td>2022-11-29</td>\n",
              "      <td>3</td>\n",
              "      <td>120.00000</td>\n",
              "      <td>118000</td>\n",
              "      <td>983.33000</td>\n",
              "    </tr>\n",
              "    <tr>\n",
              "      <th>4660585</th>\n",
              "      <td>홍합</td>\n",
              "      <td>전남 여수\\t</td>\n",
              "      <td>normal</td>\n",
              "      <td>2022-11-30</td>\n",
              "      <td>3</td>\n",
              "      <td>110.00000</td>\n",
              "      <td>125000</td>\n",
              "      <td>1136.36000</td>\n",
              "    </tr>\n",
              "  </tbody>\n",
              "</table>\n",
              "<p>955406 rows × 8 columns</p>\n",
              "</div>"
            ],
            "text/plain": [
              "         prd   origin     eco   reg_date  class     scale   price   price_kg\n",
              "416      가리비  경남 남해\\t  normal 2022-10-14      3  50.00000  227000 4540.00000\n",
              "420      가리비  경남 남해\\t  normal 2022-10-21      3  55.00000  250000 4545.45000\n",
              "421      가리비  경남 남해\\t  normal 2022-10-22      3  50.00000  225000 4500.00000\n",
              "427      가리비  경남 남해\\t  normal 2022-10-29      3  50.00000  225000 4500.00000\n",
              "428      가리비  경남 남해\\t  normal 2022-10-31      3  60.00000  273000 4550.00000\n",
              "...      ...      ...     ...        ...    ...       ...     ...        ...\n",
              "4660581   홍합  전남 여수\\t  normal 2022-11-25      3 130.00000  132000 1015.38000\n",
              "4660582   홍합  전남 여수\\t  normal 2022-11-26      3 130.00000  149000 1146.15000\n",
              "4660583   홍합  전남 여수\\t  normal 2022-11-28      3 110.00000  126000 1145.45000\n",
              "4660584   홍합  전남 여수\\t  normal 2022-11-29      3 120.00000  118000  983.33000\n",
              "4660585   홍합  전남 여수\\t  normal 2022-11-30      3 110.00000  125000 1136.36000\n",
              "\n",
              "[955406 rows x 8 columns]"
            ]
          },
          "execution_count": 37,
          "metadata": {},
          "output_type": "execute_result"
        }
      ],
      "source": [
        "df3[df3['scale']>=50]"
      ]
    },
    {
      "cell_type": "code",
      "execution_count": 60,
      "metadata": {
        "colab": {
          "base_uri": "https://localhost:8080/",
          "height": 1000
        },
        "id": "-43K_jyN92IZ",
        "outputId": "7b3e92a5-a0eb-4b09-bc6c-36948c74b860"
      },
      "outputs": [
        {
          "data": {
            "text/plain": [
              "array(['깻잎', '무', '오이', '파', '자두', '적양배추', '쪽파', '다래', '참외', '가지', '토마토',\n",
              "       '감귤', '감자', '홍고추', '호박', '파인애플', '파프리카', '포도', '표고버섯', '갓', '고추',\n",
              "       '고구마', '피망', '곤달비', '귤', '과채류', '당근', '대파', '딸기', '마늘', '매실', '메론',\n",
              "       '미나리', '바나나', '방울토마토', '배', '배추', '버섯', '복숭아', '브로콜리', '블루베리',\n",
              "       '비트', '사과', '생강', '수박', '시금치', '실파', '쑥갓', '양배추', '양상추', '양파',\n",
              "       '연근', '열무', '오렌지', '알타리무', '도라지', '밤', '대추', '수삼', '바지락', '감',\n",
              "       '단감', '굴', '새우', '낙지', '명태', '꽁치', '모시조개', '뱀장어', '부세', '새꼬막'],\n",
              "      dtype=object)"
            ]
          },
          "execution_count": 60,
          "metadata": {},
          "output_type": "execute_result"
        }
      ],
      "source": [
        "# 50kg 이상 거래된 건들 이상치라 판단하고 확인 진행\n",
        "df3[df3['scale']>=50]['prd'].unique()"
      ]
    },
    {
      "cell_type": "code",
      "execution_count": 37,
      "metadata": {},
      "outputs": [],
      "source": [
        "# 배추\n",
        "# display(df3[(df3['prd']=='배추')]['price_kg'].describe())\n",
        "# display(df3[(df3['scale']>=50) & (df3['prd']=='배추')]['price_kg'].describe())\n",
        "# display(df3[(df3['scale']>=50) & (df3['prd']=='배추')]['scale'].sum())\n",
        "# display(df3[(df3['prd']=='배추')]['scale'].sum())\n",
        "# df3 = df3.drop(df3[(df3['scale']>=50)&(df3['prd']=='배추')].index)"
      ]
    },
    {
      "cell_type": "code",
      "execution_count": 38,
      "metadata": {},
      "outputs": [],
      "source": [
        "# 중간 저장\n",
        "address2 = \"/Users/luci031/Desktop/Coding/g_auction/data_ingredients/auction_mid2.parquet\"\n",
        "df3.to_parquet(address2,engine=\"pyarrow\", compression='gzip')\n",
        "# df3.to_csv(\"/Users/luci031/Desktop/Coding/g_auction/data_proceed/auction_total.csv\")"
      ]
    },
    {
      "cell_type": "markdown",
      "metadata": {},
      "source": [
        "# 여기서 다시 시작"
      ]
    },
    {
      "cell_type": "code",
      "execution_count": 39,
      "metadata": {},
      "outputs": [],
      "source": [
        "address2 = \"/Users/luci031/Desktop/Coding/g_auction/data_ingredients/auction_mid2.parquet\"\n",
        "df3 = pd.read_parquet(address2)"
      ]
    },
    {
      "cell_type": "markdown",
      "metadata": {
        "id": "5I9D6wZCWDhi"
      },
      "source": [
        "### origin"
      ]
    },
    {
      "cell_type": "code",
      "execution_count": 40,
      "metadata": {},
      "outputs": [
        {
          "data": {
            "text/html": [
              "<div>\n",
              "<style scoped>\n",
              "    .dataframe tbody tr th:only-of-type {\n",
              "        vertical-align: middle;\n",
              "    }\n",
              "\n",
              "    .dataframe tbody tr th {\n",
              "        vertical-align: top;\n",
              "    }\n",
              "\n",
              "    .dataframe thead th {\n",
              "        text-align: right;\n",
              "    }\n",
              "</style>\n",
              "<table border=\"1\" class=\"dataframe\">\n",
              "  <thead>\n",
              "    <tr style=\"text-align: right;\">\n",
              "      <th></th>\n",
              "      <th>prd</th>\n",
              "      <th>origin</th>\n",
              "      <th>eco</th>\n",
              "      <th>reg_date</th>\n",
              "      <th>class</th>\n",
              "      <th>scale</th>\n",
              "      <th>price</th>\n",
              "      <th>price_kg</th>\n",
              "    </tr>\n",
              "  </thead>\n",
              "  <tbody>\n",
              "    <tr>\n",
              "      <th>0</th>\n",
              "      <td>가리비</td>\n",
              "      <td>경남 거제(장승포)</td>\n",
              "      <td>normal</td>\n",
              "      <td>2018-10-11</td>\n",
              "      <td>3</td>\n",
              "      <td>10.00000</td>\n",
              "      <td>19000</td>\n",
              "      <td>1900.00000</td>\n",
              "    </tr>\n",
              "    <tr>\n",
              "      <th>1</th>\n",
              "      <td>가리비</td>\n",
              "      <td>경남 거제(장승포)</td>\n",
              "      <td>normal</td>\n",
              "      <td>2018-10-12</td>\n",
              "      <td>3</td>\n",
              "      <td>5.00000</td>\n",
              "      <td>20000</td>\n",
              "      <td>4000.00000</td>\n",
              "    </tr>\n",
              "    <tr>\n",
              "      <th>2</th>\n",
              "      <td>가리비</td>\n",
              "      <td>경남 거제(장승포)</td>\n",
              "      <td>normal</td>\n",
              "      <td>2018-10-15</td>\n",
              "      <td>3</td>\n",
              "      <td>5.00000</td>\n",
              "      <td>20000</td>\n",
              "      <td>4000.00000</td>\n",
              "    </tr>\n",
              "    <tr>\n",
              "      <th>3</th>\n",
              "      <td>가리비</td>\n",
              "      <td>경남 거제(장승포)</td>\n",
              "      <td>normal</td>\n",
              "      <td>2018-10-16</td>\n",
              "      <td>3</td>\n",
              "      <td>5.00000</td>\n",
              "      <td>19000</td>\n",
              "      <td>3800.00000</td>\n",
              "    </tr>\n",
              "    <tr>\n",
              "      <th>4</th>\n",
              "      <td>가리비</td>\n",
              "      <td>경남 거제(장승포)</td>\n",
              "      <td>normal</td>\n",
              "      <td>2018-10-22</td>\n",
              "      <td>3</td>\n",
              "      <td>5.00000</td>\n",
              "      <td>18000</td>\n",
              "      <td>3600.00000</td>\n",
              "    </tr>\n",
              "    <tr>\n",
              "      <th>...</th>\n",
              "      <td>...</td>\n",
              "      <td>...</td>\n",
              "      <td>...</td>\n",
              "      <td>...</td>\n",
              "      <td>...</td>\n",
              "      <td>...</td>\n",
              "      <td>...</td>\n",
              "      <td>...</td>\n",
              "    </tr>\n",
              "    <tr>\n",
              "      <th>4661408</th>\n",
              "      <td>황강달이</td>\n",
              "      <td>전남 신안</td>\n",
              "      <td>normal</td>\n",
              "      <td>2021-05-26</td>\n",
              "      <td>3</td>\n",
              "      <td>20.00000</td>\n",
              "      <td>47000</td>\n",
              "      <td>2350.00000</td>\n",
              "    </tr>\n",
              "    <tr>\n",
              "      <th>4661409</th>\n",
              "      <td>황강달이</td>\n",
              "      <td>전남 신안</td>\n",
              "      <td>normal</td>\n",
              "      <td>2021-05-27</td>\n",
              "      <td>3</td>\n",
              "      <td>40.00000</td>\n",
              "      <td>94000</td>\n",
              "      <td>2350.00000</td>\n",
              "    </tr>\n",
              "    <tr>\n",
              "      <th>4661410</th>\n",
              "      <td>황새치</td>\n",
              "      <td>전북 군산\\t</td>\n",
              "      <td>normal</td>\n",
              "      <td>2022-06-09</td>\n",
              "      <td>3</td>\n",
              "      <td>4.00000</td>\n",
              "      <td>6000</td>\n",
              "      <td>1500.00000</td>\n",
              "    </tr>\n",
              "    <tr>\n",
              "      <th>4661411</th>\n",
              "      <td>흑돔</td>\n",
              "      <td>국내산</td>\n",
              "      <td>normal</td>\n",
              "      <td>2021-03-30</td>\n",
              "      <td>3</td>\n",
              "      <td>10.00000</td>\n",
              "      <td>26700</td>\n",
              "      <td>2670.00000</td>\n",
              "    </tr>\n",
              "    <tr>\n",
              "      <th>4661412</th>\n",
              "      <td>흑돔</td>\n",
              "      <td>전남 목포(무안)</td>\n",
              "      <td>normal</td>\n",
              "      <td>2018-11-23</td>\n",
              "      <td>3</td>\n",
              "      <td>40.00000</td>\n",
              "      <td>255000</td>\n",
              "      <td>6375.00000</td>\n",
              "    </tr>\n",
              "  </tbody>\n",
              "</table>\n",
              "<p>4660177 rows × 8 columns</p>\n",
              "</div>"
            ],
            "text/plain": [
              "          prd      origin     eco   reg_date  class    scale   price  \\\n",
              "0         가리비  경남 거제(장승포)  normal 2018-10-11      3 10.00000   19000   \n",
              "1         가리비  경남 거제(장승포)  normal 2018-10-12      3  5.00000   20000   \n",
              "2         가리비  경남 거제(장승포)  normal 2018-10-15      3  5.00000   20000   \n",
              "3         가리비  경남 거제(장승포)  normal 2018-10-16      3  5.00000   19000   \n",
              "4         가리비  경남 거제(장승포)  normal 2018-10-22      3  5.00000   18000   \n",
              "...       ...         ...     ...        ...    ...      ...     ...   \n",
              "4661408  황강달이       전남 신안  normal 2021-05-26      3 20.00000   47000   \n",
              "4661409  황강달이       전남 신안  normal 2021-05-27      3 40.00000   94000   \n",
              "4661410   황새치     전북 군산\\t  normal 2022-06-09      3  4.00000    6000   \n",
              "4661411    흑돔         국내산  normal 2021-03-30      3 10.00000   26700   \n",
              "4661412    흑돔   전남 목포(무안)  normal 2018-11-23      3 40.00000  255000   \n",
              "\n",
              "          price_kg  \n",
              "0       1900.00000  \n",
              "1       4000.00000  \n",
              "2       4000.00000  \n",
              "3       3800.00000  \n",
              "4       3600.00000  \n",
              "...            ...  \n",
              "4661408 2350.00000  \n",
              "4661409 2350.00000  \n",
              "4661410 1500.00000  \n",
              "4661411 2670.00000  \n",
              "4661412 6375.00000  \n",
              "\n",
              "[4660177 rows x 8 columns]"
            ]
          },
          "execution_count": 40,
          "metadata": {},
          "output_type": "execute_result"
        }
      ],
      "source": [
        "df3"
      ]
    },
    {
      "cell_type": "code",
      "execution_count": 41,
      "metadata": {
        "colab": {
          "base_uri": "https://localhost:8080/"
        },
        "id": "pI0Ezwn-VgXP",
        "outputId": "8d8f9387-01cb-4c3a-a3c9-e521b970aafb"
      },
      "outputs": [
        {
          "data": {
            "text/plain": [
              "array(['경남 거제(장승포)', '경남 남해', '경남 남해\\t', ..., '충북 보은군 수한면', '전남 순천시 황전면',\n",
              "       '충남 서천군 문산면'], dtype=object)"
            ]
          },
          "execution_count": 41,
          "metadata": {},
          "output_type": "execute_result"
        }
      ],
      "source": [
        "# 도,시, 국산, 수입 표기 분류 필요\n",
        "df3['origin'].unique()"
      ]
    },
    {
      "cell_type": "code",
      "execution_count": 42,
      "metadata": {},
      "outputs": [],
      "source": [
        "a = pd.DataFrame(df3['origin'].unique())"
      ]
    },
    {
      "cell_type": "code",
      "execution_count": 43,
      "metadata": {
        "colab": {
          "base_uri": "https://localhost:8080/",
          "height": 423
        },
        "id": "rvX1g3c_Ll2C",
        "outputId": "56330691-579b-46aa-b24a-046112748253"
      },
      "outputs": [
        {
          "data": {
            "text/html": [
              "<div>\n",
              "<style scoped>\n",
              "    .dataframe tbody tr th:only-of-type {\n",
              "        vertical-align: middle;\n",
              "    }\n",
              "\n",
              "    .dataframe tbody tr th {\n",
              "        vertical-align: top;\n",
              "    }\n",
              "\n",
              "    .dataframe thead th {\n",
              "        text-align: right;\n",
              "    }\n",
              "</style>\n",
              "<table border=\"1\" class=\"dataframe\">\n",
              "  <thead>\n",
              "    <tr style=\"text-align: right;\">\n",
              "      <th></th>\n",
              "      <th>0_x</th>\n",
              "      <th>0_y</th>\n",
              "      <th>1</th>\n",
              "      <th>2</th>\n",
              "      <th>3</th>\n",
              "    </tr>\n",
              "  </thead>\n",
              "  <tbody>\n",
              "    <tr>\n",
              "      <th>0</th>\n",
              "      <td>경남 거제(장승포)</td>\n",
              "      <td>경남</td>\n",
              "      <td>거제(장승포)</td>\n",
              "      <td>NaN</td>\n",
              "      <td>NaN</td>\n",
              "    </tr>\n",
              "    <tr>\n",
              "      <th>1</th>\n",
              "      <td>경남 남해</td>\n",
              "      <td>경남</td>\n",
              "      <td>남해</td>\n",
              "      <td>NaN</td>\n",
              "      <td>NaN</td>\n",
              "    </tr>\n",
              "    <tr>\n",
              "      <th>2</th>\n",
              "      <td>경남 남해\\t</td>\n",
              "      <td>경남</td>\n",
              "      <td>남해\\t</td>\n",
              "      <td>NaN</td>\n",
              "      <td>NaN</td>\n",
              "    </tr>\n",
              "    <tr>\n",
              "      <th>3</th>\n",
              "      <td>경남 마산(고성,진해)</td>\n",
              "      <td>경남</td>\n",
              "      <td>마산(고성,진해)</td>\n",
              "      <td>NaN</td>\n",
              "      <td>NaN</td>\n",
              "    </tr>\n",
              "    <tr>\n",
              "      <th>4</th>\n",
              "      <td>경남 사천</td>\n",
              "      <td>경남</td>\n",
              "      <td>사천</td>\n",
              "      <td>NaN</td>\n",
              "      <td>NaN</td>\n",
              "    </tr>\n",
              "    <tr>\n",
              "      <th>...</th>\n",
              "      <td>...</td>\n",
              "      <td>...</td>\n",
              "      <td>...</td>\n",
              "      <td>...</td>\n",
              "      <td>...</td>\n",
              "    </tr>\n",
              "    <tr>\n",
              "      <th>1650</th>\n",
              "      <td>경남 의령군 용덕면</td>\n",
              "      <td>경남</td>\n",
              "      <td>의령군</td>\n",
              "      <td>용덕면</td>\n",
              "      <td>NaN</td>\n",
              "    </tr>\n",
              "    <tr>\n",
              "      <th>1651</th>\n",
              "      <td>충남 부여군 홍산면</td>\n",
              "      <td>충남</td>\n",
              "      <td>부여군</td>\n",
              "      <td>홍산면</td>\n",
              "      <td>NaN</td>\n",
              "    </tr>\n",
              "    <tr>\n",
              "      <th>1652</th>\n",
              "      <td>충북 보은군 수한면</td>\n",
              "      <td>충북</td>\n",
              "      <td>보은군</td>\n",
              "      <td>수한면</td>\n",
              "      <td>NaN</td>\n",
              "    </tr>\n",
              "    <tr>\n",
              "      <th>1653</th>\n",
              "      <td>전남 순천시 황전면</td>\n",
              "      <td>전남</td>\n",
              "      <td>순천시</td>\n",
              "      <td>황전면</td>\n",
              "      <td>NaN</td>\n",
              "    </tr>\n",
              "    <tr>\n",
              "      <th>1654</th>\n",
              "      <td>충남 서천군 문산면</td>\n",
              "      <td>충남</td>\n",
              "      <td>서천군</td>\n",
              "      <td>문산면</td>\n",
              "      <td>NaN</td>\n",
              "    </tr>\n",
              "  </tbody>\n",
              "</table>\n",
              "<p>1655 rows × 5 columns</p>\n",
              "</div>"
            ],
            "text/plain": [
              "               0_x 0_y          1    2    3\n",
              "0       경남 거제(장승포)  경남    거제(장승포)  NaN  NaN\n",
              "1            경남 남해  경남         남해  NaN  NaN\n",
              "2          경남 남해\\t  경남       남해\\t  NaN  NaN\n",
              "3     경남 마산(고성,진해)  경남  마산(고성,진해)  NaN  NaN\n",
              "4            경남 사천  경남         사천  NaN  NaN\n",
              "...            ...  ..        ...  ...  ...\n",
              "1650    경남 의령군 용덕면  경남        의령군  용덕면  NaN\n",
              "1651    충남 부여군 홍산면  충남        부여군  홍산면  NaN\n",
              "1652    충북 보은군 수한면  충북        보은군  수한면  NaN\n",
              "1653    전남 순천시 황전면  전남        순천시  황전면  NaN\n",
              "1654    충남 서천군 문산면  충남        서천군  문산면  NaN\n",
              "\n",
              "[1655 rows x 5 columns]"
            ]
          },
          "execution_count": 43,
          "metadata": {},
          "output_type": "execute_result"
        }
      ],
      "source": [
        "splits = a[0].str.split(' ')\n",
        "cacul = splits.apply(lambda x: pd.Series(x))\n",
        "df66 = pd.merge(a,cacul, left_index=True, right_index=True, how='inner')\n",
        "df66"
      ]
    },
    {
      "cell_type": "code",
      "execution_count": 44,
      "metadata": {
        "id": "NVkmVZ7ip9-N"
      },
      "outputs": [],
      "source": [
        "# 세부 카테고리 정리 (state, city 편집 시 여기서 시작)\n",
        "\n",
        "df4 = df66.rename(columns = {'0_x':'origin','0_y':'state',1:'city'})\n",
        "\n",
        "# 2,3은 필요없는 정보이므로 삭제\n",
        "df4 = df4.drop(columns=[2,3])"
      ]
    },
    {
      "cell_type": "code",
      "execution_count": 45,
      "metadata": {},
      "outputs": [
        {
          "data": {
            "text/html": [
              "<div>\n",
              "<style scoped>\n",
              "    .dataframe tbody tr th:only-of-type {\n",
              "        vertical-align: middle;\n",
              "    }\n",
              "\n",
              "    .dataframe tbody tr th {\n",
              "        vertical-align: top;\n",
              "    }\n",
              "\n",
              "    .dataframe thead th {\n",
              "        text-align: right;\n",
              "    }\n",
              "</style>\n",
              "<table border=\"1\" class=\"dataframe\">\n",
              "  <thead>\n",
              "    <tr style=\"text-align: right;\">\n",
              "      <th></th>\n",
              "      <th>origin</th>\n",
              "      <th>state</th>\n",
              "      <th>city</th>\n",
              "    </tr>\n",
              "  </thead>\n",
              "  <tbody>\n",
              "    <tr>\n",
              "      <th>0</th>\n",
              "      <td>경남 거제(장승포)</td>\n",
              "      <td>경남</td>\n",
              "      <td>거제(장승포)</td>\n",
              "    </tr>\n",
              "  </tbody>\n",
              "</table>\n",
              "</div>"
            ],
            "text/plain": [
              "       origin state     city\n",
              "0  경남 거제(장승포)    경남  거제(장승포)"
            ]
          },
          "execution_count": 45,
          "metadata": {},
          "output_type": "execute_result"
        }
      ],
      "source": [
        "df4.head(1)"
      ]
    },
    {
      "cell_type": "code",
      "execution_count": 46,
      "metadata": {
        "colab": {
          "base_uri": "https://localhost:8080/"
        },
        "id": "JcsSUlI_27J3",
        "outputId": "817067e6-2645-4c9c-c86f-047b1471bb9b"
      },
      "outputs": [
        {
          "data": {
            "text/plain": [
              "array(['경남', '국내산', '전남', '전북', '수입', '국내산\\t', '제주', '충남', '강원', '경기',\n",
              "       '경북', '서울', '전라북도', '강원도', '경기도', '경상남도', '경상북도', '광주', '광주광역시',\n",
              "       '광주시', '대구', '대전', '부산', '서울시', '성남시', '세종', '전주시', '충북', '충청남도',\n",
              "       '인천', '전라남도', '수입남아프리카공화국', '충청북도', '제주도', '제주자치도', '수입산',\n",
              "       '제주특별자치', '서울특별시', '제주시', '제주특별자', '제주특별자치도', '미국', '제주/서귀포',\n",
              "       '대구시', '부산시', '인천시', '가락동', '오스트레일리아', '호주', '세종시', '중국', '공통출하처',\n",
              "       '없음', '청주시', '인천광역시', '대전시', '서해안', '미등록', '남해안', '멕시코', '베트남',\n",
              "       '태국', '필리핀', '칠레', '남아프리카', '이스라엘', '페루', '해외', '서귀포시', '미국(US)',\n",
              "       '불가리아', '인도네시아', '타이', '울산', '뉴질랜드', '우즈베키스탄', '기타국', '이란',\n",
              "       '남아프리카공화국', '러시아', '북한산', '대구광역시', '대만', '포항시', '대전광역시', '원양산',\n",
              "       '그리스', '네델란드', '이탈리아', '기타외국', '부산광역시', '중국(CN)', '전북전주시완산구',\n",
              "       '충북청주시상당구', '경기고양시덕양구', '경기고양시일산구', '경기성남시수정구', '충북청주시흥덕구', '이집트',\n",
              "       '에콰도르', '캘리포니아', '국산', '해당사항없', '경남/남해군', '전남/고흥군', '충남/홍성군',\n",
              "       '브라질', '오스트레일', '인도', '인디아', '캄보디아', '필리핀(PH)', '부천시', '울산광역시',\n",
              "       '남인도양', '과테말라', '코스타리카', '콜롬비아', '미얀마', '아르헨티나', '우크라이나', '파나마',\n",
              "       '에쿠아도르', '에콰돌', '수입산(기타)', '이시원', '세종자치시', '세종특별자치시', '수원시',\n",
              "       '충남/아산시', '터키', '캐나다', '우즈베크', '우즈베키스', '일본', '경북/구미시', '경북/문경시',\n",
              "       '경북/상주시', '경북/안동시', '전남/무안군', '경남/합천군', '경북/영천시', '스페인', '남아공',\n",
              "       '동해안', '포클랜드', '포클랜드\\t', '북대서양\\t', '뉴질랜드(NZ', '이태리', '우편번호오류',\n",
              "       '말레이지아', '통가', '누벨칼레도니', '뉴', '뉴칼레도니아', '파푸아', '프랑스'], dtype=object)"
            ]
          },
          "execution_count": 46,
          "metadata": {},
          "output_type": "execute_result"
        }
      ],
      "source": [
        "df4['state'].unique()"
      ]
    },
    {
      "cell_type": "code",
      "execution_count": 47,
      "metadata": {
        "id": "SsvDFEbgqQjD"
      },
      "outputs": [],
      "source": [
        "# 시,도 제거\n",
        "def name_sort(words):\n",
        "  p = re.compile('[^시도]+')\n",
        "  word = re.search(p,str(words))\n",
        "  return word.group()\n",
        "\n",
        "df4[\"state\"] = df4[\"state\"].apply(name_sort)\n",
        "\n",
        "# 오타도 제거\n",
        "\n",
        "def name_sort2(words):\n",
        "  p = re.compile('[^\\t]+')\n",
        "  word = re.search(p,words)\n",
        "  return word.group()\n",
        "\n",
        "df4[\"state\"] = df4[\"state\"].apply(name_sort2)"
      ]
    },
    {
      "cell_type": "code",
      "execution_count": 48,
      "metadata": {
        "colab": {
          "base_uri": "https://localhost:8080/"
        },
        "id": "JeybBf_fqhqh",
        "outputId": "b5542367-86fe-4c6e-deab-f28f7d1ce6f5"
      },
      "outputs": [
        {
          "data": {
            "text/plain": [
              "array(['경남', '국내산', '전남', '전북', '수입', '제주', '충남', '강원', '경기', '경북', '서울',\n",
              "       '전라북', '경상남', '경상북', '광주', '광주광역', '대구', '대전', '부산', '성남', '세종',\n",
              "       '전주', '충북', '충청남', '인천', '전라남', '수입남아프리카공화국', '충청북', '제주자치', '수입산',\n",
              "       '제주특별자치', '서울특별', '제주특별자', '미국', '제주/서귀포', '가락동', '오스트레일리아', '호주',\n",
              "       '중국', '공통출하처', '없음', '청주', '인천광역', '서해안', '미등록', '남해안', '멕', '베트남',\n",
              "       '태국', '필리핀', '칠레', '남아프리카', '이스라엘', '페루', '해외', '서귀포', '미국(US)',\n",
              "       '불가리아', '인', '타이', '울산', '뉴질랜드', '우즈베키스탄', '기타국', '이란', '남아프리카공화국',\n",
              "       '러', '북한산', '대구광역', '대만', '포항', '대전광역', '원양산', '그리스', '네델란드',\n",
              "       '이탈리아', '기타외국', '부산광역', '중국(CN)', '전북전주', '충북청주', '경기고양', '경기성남',\n",
              "       '이집트', '에콰', '캘리포니아', '국산', '해당사항없', '경남/남해군', '전남/고흥군', '충남/홍성군',\n",
              "       '브라질', '오스트레일', '인디아', '캄보디아', '필리핀(PH)', '부천', '울산광역', '남인',\n",
              "       '과테말라', '코스타리카', '콜롬비아', '미얀마', '아르헨티나', '우크라이나', '파나마', '에쿠아',\n",
              "       '에콰돌', '수입산(기타)', '이', '세종자치', '세종특별자치', '수원', '충남/아산', '터키',\n",
              "       '캐나다', '우즈베크', '우즈베키스', '일본', '경북/구미', '경북/문경', '경북/상주', '경북/안동',\n",
              "       '전남/무안군', '경남/합천군', '경북/영천', '스페인', '남아공', '동해안', '포클랜드', '북대서양',\n",
              "       '뉴질랜드(NZ', '이태리', '우편번호오류', '말레이지아', '통가', '누벨칼레', '뉴', '뉴칼레',\n",
              "       '파푸아', '프랑스'], dtype=object)"
            ]
          },
          "execution_count": 48,
          "metadata": {},
          "output_type": "execute_result"
        }
      ],
      "source": [
        "df4[\"state\"].unique()"
      ]
    },
    {
      "cell_type": "code",
      "execution_count": 49,
      "metadata": {
        "id": "FDUnVy0e1br6"
      },
      "outputs": [],
      "source": [
        "# state\n",
        "# 특이케이스 제거\n",
        "\n",
        "# 국내\n",
        "df4.loc[df4[\"state\"]==\"국내산\",\"city\"] = \"미상\"\n",
        "df4.loc[df4[\"state\"]==\"국내산\",\"state\"] = \"국산\"\n",
        "df4.loc[df4[\"state\"]==\"원양산\",\"city\"] = \"미상\"\n",
        "df4.loc[df4[\"state\"]==\"원양산\",\"state\"] = \"국산\"\n",
        "df4.loc[df4[\"state\"]==\"동해안\",\"city\"] = \"미상\"\n",
        "df4.loc[df4[\"state\"]==\"동해안\",\"state\"] = \"국산\"\n",
        "df4.loc[df4[\"state\"]==\"공통출하처\",\"city\"] = \"미상\"\n",
        "df4.loc[df4[\"state\"]==\"공통출하처\",\"state\"] = \"국산\"\n",
        "\n",
        "## 도단위\n",
        "df4.loc[df4[\"state\"]==\"충청북\",\"state\"] = \"충북\"\n",
        "df4.loc[df4[\"state\"]==\"충청남\",\"state\"] = \"충남\"\n",
        "df4.loc[df4[\"state\"]==\"전라북\",\"state\"] = \"전북\"\n",
        "df4.loc[df4[\"state\"]==\"전라남\",\"state\"] = \"전남\"\n",
        "df4.loc[df4[\"state\"]==\"경상북\",\"state\"] = \"경북\"\n",
        "df4.loc[df4[\"state\"]==\"경상남\",\"state\"] = \"경남\"\n",
        "\n",
        "## 시단위\n",
        "### 광역시\n",
        "\n",
        "df4.loc[df4[\"state\"]==\"대전\",\"city\"] = \"대전\"\n",
        "df4.loc[df4[\"state\"]==\"대구\",\"city\"] = \"대구\"\n",
        "df4.loc[df4[\"state\"]==\"서울특별\",\"city\"] = \"서울\"\n",
        "df4.loc[df4[\"state\"]==\"서울특별\",\"state\"] = \"서울\"\n",
        "df4.loc[df4[\"state\"]==\"인천광역\",\"city\"] = \"인천\"\n",
        "df4.loc[df4[\"state\"]==\"인천광역\",\"state\"] = \"인천\"\n",
        "df4.loc[df4[\"state\"]==\"부산\",\"city\"] = \"부산\"\n",
        "df4.loc[df4[\"state\"]==\"부산광역\",\"city\"] = \"부산\"\n",
        "df4.loc[df4[\"state\"]==\"부산광역\",\"state\"] = \"부산\"\n",
        "df4.loc[df4[\"state\"]==\"가락동\",\"city\"] = \"서울\"\n",
        "df4.loc[df4[\"state\"]==\"가락동\",\"state\"] = \"서울\"\n",
        "df4.loc[df4[\"state\"]==\"세종\",\"city\"] = \"세종\"\n",
        "df4.loc[df4[\"state\"]==\"세종특별자치\",\"city\"] = \"세종\"\n",
        "df4.loc[df4[\"state\"]==\"세종특별자치\",\"state\"] = \"세종\"\n",
        "df4.loc[df4[\"state\"]==\"세종자치\",\"state\"] = \"세종\"\n",
        "df4.loc[df4[\"state\"]==\"세종자치\",\"city\"] = \"세종\"\n",
        "df4.loc[df4[\"state\"]==\"대전\",\"city\"] = \"대전\"\n",
        "df4.loc[df4[\"state\"]==\"제주\",\"city\"] = \"제주\"\n",
        "df4.loc[df4[\"state\"]==\"제주특별자치\",\"city\"] = \"제주\"\n",
        "df4.loc[df4[\"state\"]==\"제주특별자치\",\"state\"] = \"제주\"\n",
        "df4.loc[df4[\"state\"]==\"제주특별자\",\"city\"] = \"제주\"\n",
        "df4.loc[df4[\"state\"]==\"제주특별자\",\"state\"] = \"제주\"\n",
        "df4.loc[df4[\"state\"]==\"제주자치\",\"state\"] = \"제주\"\n",
        "df4.loc[df4[\"state\"]==\"제주자치\",\"city\"] = \"제주\"\n",
        "df4.loc[df4[\"state\"]==\"제주/서귀포\",\"city\"] = \"제주\"\n",
        "df4.loc[df4[\"state\"]==\"제주/서귀포\",\"state\"] = \"제주\"\n",
        "df4.loc[df4[\"state\"]==\"서귀포\",\"city\"] = \"제주\"\n",
        "df4.loc[df4[\"state\"]==\"서귀포\",\"state\"] = \"제주\"\n",
        "df4.loc[df4[\"state\"]==\"세종\",\"city\"] = \"세종\"\n",
        "df4.loc[df4[\"state\"]==\"울산\",\"city\"] = \"울산\"\n",
        "df4.loc[df4[\"state\"]==\"울산\",\"state\"] = \"울산\"\n",
        "df4.loc[df4[\"state\"]==\"광주광역\",\"state\"] = \"광주\"\n",
        "df4.loc[df4[\"state\"]==\"광주광역\",\"city\"] = \"광주\"\n",
        "df4.loc[df4[\"state\"]==\"대전광역\",\"state\"] = \"대전\"\n",
        "df4.loc[df4[\"state\"]==\"대전광역\",\"city\"] = \"대전\"\n",
        "df4.loc[df4[\"state\"]==\"대구광역\",\"state\"] = \"대구\"\n",
        "df4.loc[df4[\"state\"]==\"대구광역\",\"city\"] = \"대구\"\n",
        "df4.loc[df4[\"state\"]==\"울산광역\",\"state\"] = \"울산\"\n",
        "df4.loc[df4[\"state\"]==\"울산광역\",\"city\"] = \"울산\"\n",
        "\n",
        "### 일반시\n",
        "df4.loc[df4[\"state\"]==\"성남\",\"city\"] = \"성남\"\n",
        "df4.loc[df4[\"state\"]==\"성남\",\"state\"] = \"경기\"\n",
        "df4.loc[df4[\"state\"]==\"경기성남\",\"city\"] = \"성남\"\n",
        "df4.loc[df4[\"state\"]==\"경기성남\",\"state\"] = \"경기\"\n",
        "df4.loc[df4[\"state\"]==\"전주\",\"city\"] = \"전주\"\n",
        "df4.loc[df4[\"state\"]==\"전주\",\"state\"] = \"전북\"\n",
        "df4.loc[df4[\"state\"]==\"청주\",\"city\"] = \"청주\"\n",
        "df4.loc[df4[\"state\"]==\"청주\",\"state\"] = \"충북\"\n",
        "df4.loc[df4[\"state\"]==\"수원\",\"city\"] = \"수원\"\n",
        "df4.loc[df4[\"state\"]==\"수원\",\"state\"] = \"경기\"\n",
        "df4.loc[df4[\"state\"]==\"부천\",\"city\"] = \"부천\"\n",
        "df4.loc[df4[\"state\"]==\"부천\",\"state\"] = \"경기\"\n",
        "df4.loc[df4[\"state\"]==\"경기고양\",\"city\"] = \"고양\"\n",
        "df4.loc[df4[\"state\"]==\"경기고양\",\"state\"] = \"경기\"\n",
        "df4.loc[df4[\"state\"]==\"충북청주\",\"city\"] = \"청주\"\n",
        "df4.loc[df4[\"state\"]==\"충북청주\",\"state\"] = \"충북\"\n",
        "df4.loc[df4[\"state\"]==\"충북청주시흥덕구\",\"city\"] = \"청주\"\n",
        "df4.loc[df4[\"state\"]==\"충북청주시흥덕구\",\"state\"] = \"충북\"\n",
        "df4.loc[df4[\"state\"]==\"전북전주\",\"city\"] = \"전주\"\n",
        "df4.loc[df4[\"state\"]==\"전북전주\",\"state\"] = \"전북\"\n",
        "df4.loc[df4[\"state\"]==\"경북/문경\",\"city\"] = \"문경\"\n",
        "df4.loc[df4[\"state\"]==\"경북/문경\",\"state\"] = \"경북\"\n",
        "df4.loc[df4[\"state\"]==\"포항\",\"city\"] = \"포항\"\n",
        "df4.loc[df4[\"state\"]==\"포항\",\"state\"] = \"경북\"\n",
        "df4.loc[df4[\"state\"]==\"경북/안동\",\"city\"] = \"안동\"\n",
        "df4.loc[df4[\"state\"]==\"경북/안동\",\"state\"] = \"경북\"\n",
        "df4.loc[df4[\"state\"]==\"전남/무안군\",\"state\"] = \"전남\"\n",
        "df4.loc[df4[\"state\"]==\"전남/무안군\",\"city\"] = \"무안\"\n",
        "df4.loc[df4[\"state\"]==\"무안\",\"state\"] = \"전남\"\n",
        "df4.loc[df4[\"state\"]==\"무안\",\"city\"] = \"무안\"\n",
        "df4.loc[df4[\"state\"]==\"경북/구미\",\"city\"] = \"구미\"\n",
        "df4.loc[df4[\"state\"]==\"경북/구미\",\"state\"] = \"경북\"\n",
        "df4.loc[df4[\"state\"]==\"경북/상주\",\"city\"] = \"상주\"\n",
        "df4.loc[df4[\"state\"]==\"경북/상주\",\"state\"] = \"경북\"\n",
        "df4.loc[df4[\"state\"]==\"경북/영천\",\"city\"] = \"영천\"\n",
        "df4.loc[df4[\"state\"]==\"경북/영천\",\"state\"] = \"경북\"\n",
        "df4.loc[df4[\"state\"]==\"경남/합천군\",\"city\"] = \"합천\"\n",
        "df4.loc[df4[\"state\"]==\"경남/합천군\",\"state\"] = \"경남\"\n",
        "df4.loc[df4[\"state\"]==\"전남/고흥군\",\"city\"] = \"고흥\"\n",
        "df4.loc[df4[\"state\"]==\"전남/고흥군\",\"state\"] = \"전남\"\n",
        "df4.loc[df4[\"state\"]==\"경남/남해군\",\"state\"] = \"경남\"\n",
        "df4.loc[df4[\"state\"]==\"경남/남해군\",\"city\"] = \"남해\"\n",
        "df4.loc[df4[\"state\"]==\"충남/아산\",\"state\"] = \"충남\"\n",
        "df4.loc[df4[\"state\"]==\"충남/아산\",\"city\"] = \"아산\"\n",
        "df4.loc[df4[\"state\"]==\"충남/홍성군\",\"state\"] = \"충남\"\n",
        "df4.loc[df4[\"state\"]==\"충남/홍성군\",\"city\"] = \"아산\"\n",
        "df4.loc[df4[\"state\"]==\"서해안\",\"city\"] = \"미상\"\n",
        "df4.loc[df4[\"state\"]==\"서해안\",\"state\"] = \"국산\"\n",
        "df4.loc[df4[\"state\"]==\"남해안\",\"city\"] = \"미상\"\n",
        "df4.loc[df4[\"state\"]==\"남해안\",\"state\"] = \"국산\"\n",
        "\n",
        "\n",
        "# 외국\n",
        "## 아시아\n",
        "df4.loc[df4[\"state\"]==\"칠레\",\"city\"] = \"칠레\"\n",
        "df4.loc[df4[\"state\"]==\"칠레\",\"state\"] = \"수입\"\n",
        "df4.loc[df4[\"state\"]==\"북한산\",\"city\"] = \"북한\"\n",
        "df4.loc[df4[\"state\"]==\"북한산\",\"state\"] = \"수입\"\n",
        "df4.loc[df4[\"state\"]==\"일본\",\"city\"] = \"일본\"\n",
        "df4.loc[df4[\"state\"]==\"일본\",\"state\"] = \"수입\"\n",
        "df4.loc[df4[\"state\"]==\"베트남\",\"city\"] = \"베트남\"\n",
        "df4.loc[df4[\"state\"]==\"베트남\",\"state\"] = \"수입\"\n",
        "df4.loc[df4[\"state\"]==\"우즈베크\",\"city\"] = \"우즈베키스탄\"\n",
        "df4.loc[df4[\"state\"]==\"우즈베크\",\"state\"] = \"수입\"\n",
        "df4.loc[df4[\"state\"]==\"이스라엘\",\"city\"] = \"이스라엘\"\n",
        "df4.loc[df4[\"state\"]==\"이스라엘\",\"state\"] = \"수입\"\n",
        "df4.loc[df4[\"state\"]==\"터키\",\"city\"] = \"터키\"\n",
        "df4.loc[df4[\"state\"]==\"터키\",\"state\"] = \"수입\"\n",
        "df4.loc[df4[\"state\"]==\"중국\",\"city\"] = \"중국\"\n",
        "df4.loc[df4[\"state\"]==\"중국\",\"state\"] = \"수입\"\n",
        "df4.loc[df4[\"state\"]==\"중국(CN)\",\"city\"] = \"중국\"\n",
        "df4.loc[df4[\"state\"]==\"중국(CN)\",\"state\"] = \"수입\"\n",
        "df4.loc[df4[\"state\"]==\"타이\",\"city\"] = \"태국\"\n",
        "df4.loc[df4[\"state\"]==\"타이\",\"state\"] = \"수입\"\n",
        "df4.loc[df4[\"state\"]==\"태국\",\"city\"] = \"태국\"\n",
        "df4.loc[df4[\"state\"]==\"태국\",\"state\"] = \"수입\"\n",
        "df4.loc[df4[\"state\"]==\"필리핀\",\"city\"] = \"필리핀\"\n",
        "df4.loc[df4[\"state\"]==\"필리핀\",\"state\"] = \"수입\"\n",
        "df4.loc[df4[\"state\"]==\"필리핀(PH)\",\"city\"] = \"필리핀\"\n",
        "df4.loc[df4[\"state\"]==\"필리핀(PH)\",\"state\"] = \"수입\"\n",
        "df4.loc[df4[\"state\"]==\"우즈베키스탄\",\"city\"] = \"우즈베키스탄\"\n",
        "df4.loc[df4[\"state\"]==\"우즈베키스탄\",\"state\"] = \"수입\"\n",
        "df4.loc[df4[\"state\"]==\"말레이지아\",\"city\"] = \"말레이시아\"\n",
        "df4.loc[df4[\"state\"]==\"말레이지아\",\"state\"] = \"수입\"\n",
        "df4.loc[df4[\"state\"]==\"대만\",\"city\"] = \"대만\"\n",
        "df4.loc[df4[\"state\"]==\"대만\",\"state\"] = \"수입\"\n",
        "df4.loc[df4[\"state\"]==\"베트남\",\"city\"] = \"베트남\"\n",
        "df4.loc[df4[\"state\"]==\"베트남\",\"state\"] = \"수입\"\n",
        "df4.loc[df4[\"state\"]==\"이란\",\"city\"] = \"이란\"\n",
        "df4.loc[df4[\"state\"]==\"이란\",\"state\"] = \"수입\"\n",
        "df4.loc[df4[\"state\"]==\"러\",\"city\"] = \"러시아\"\n",
        "df4.loc[df4[\"state\"]==\"러\",\"state\"] = \"수입\"\n",
        "df4.loc[df4[\"state\"]==\"캄보디아\",\"city\"] = \"캄보디아\"\n",
        "df4.loc[df4[\"state\"]==\"캄보디아\",\"state\"] = \"수입\"\n",
        "df4.loc[df4[\"state\"]==\"이집트\",\"city\"] = \"이집트\"\n",
        "df4.loc[df4[\"state\"]==\"이집트\",\"state\"] = \"수입\"\n",
        "df4.loc[df4[\"state\"]==\"인디아\",\"city\"] = \"인도\"\n",
        "df4.loc[df4[\"state\"]==\"인디아\",\"state\"] = \"수입\"\n",
        "df4.loc[df4[\"state\"]==\"미얀마\",\"city\"] = \"미얀마\"\n",
        "df4.loc[df4[\"state\"]==\"미얀마\",\"state\"] = \"수입\"\n",
        "df4.loc[(df4[\"state\"]==\"인\")&(df4[\"origin\"]==\"인도네시아\"),\"city\"] = \"인도네시아\"\n",
        "df4.loc[(df4[\"state\"]==\"인\")&(df4[\"origin\"]==\"인도네시아\"),\"state\"] = \"수입\"\n",
        "df4.loc[(df4[\"state\"]==\"인\")&(df4[\"origin\"]==\"인도\"),\"city\"] = \"인도\"\n",
        "df4.loc[(df4[\"state\"]==\"인\")&(df4[\"origin\"]==\"인도\"),\"state\"] = \"수입\"\n",
        "\n",
        "## 아메리카\n",
        "\n",
        "df4.loc[df4[\"state\"]==\"캘리포니아\",\"city\"] = \"미국\"\n",
        "df4.loc[df4[\"state\"]==\"캘리포니아\",\"state\"] = \"수입\"\n",
        "df4.loc[df4[\"state\"]==\"포클랜드\",\"city\"] = \"영국\"\n",
        "df4.loc[df4[\"state\"]==\"포클랜드\",\"state\"] = \"수입\"\n",
        "df4.loc[df4[\"state\"]==\"콜롬비아\",\"city\"] = \"콜롬비아\"\n",
        "df4.loc[df4[\"state\"]==\"콜롬비아\",\"state\"] = \"수입\"\n",
        "df4.loc[df4[\"state\"]==\"에콰\",\"city\"] = \"에콰도르\"\n",
        "df4.loc[df4[\"state\"]==\"에콰\",\"state\"] = \"수입\"\n",
        "df4.loc[df4[\"state\"]==\"에쿠아\",\"city\"] = \"에콰도르\"\n",
        "df4.loc[df4[\"state\"]==\"에쿠아\",\"state\"] = \"수입\"\n",
        "df4.loc[df4[\"state\"]==\"에콰돌\",\"city\"] = \"에콰도르\"\n",
        "df4.loc[df4[\"state\"]==\"에콰돌\",\"state\"] = \"수입\"\n",
        "df4.loc[df4[\"state\"]==\"과테말라\",\"city\"] = \"과테말라\"\n",
        "df4.loc[df4[\"state\"]==\"과테말라\",\"state\"] = \"수입\"\n",
        "df4.loc[df4[\"state\"]==\"코스타리카\",\"city\"] = \"코스타리카\"\n",
        "df4.loc[df4[\"state\"]==\"코스타리카\",\"state\"] = \"수입\"\n",
        "df4.loc[df4[\"state\"]==\"멕\",\"city\"] = \"멕시코\"\n",
        "df4.loc[df4[\"state\"]==\"멕\",\"state\"] = \"수입\"\n",
        "df4.loc[df4[\"state\"]==\"페루\",\"city\"] = \"페루\"\n",
        "df4.loc[df4[\"state\"]==\"페루\",\"state\"] = \"수입\"\n",
        "df4.loc[df4[\"state\"]==\"미국\",\"city\"] = \"미국\"\n",
        "df4.loc[df4[\"state\"]==\"미국\",\"state\"] = \"수입\"\n",
        "df4.loc[df4[\"state\"]==\"미국(US)\",\"city\"] = \"미국\"\n",
        "df4.loc[df4[\"state\"]==\"미국(US)\",\"state\"] = \"수입\"\n",
        "df4.loc[df4[\"state\"]==\"아르헨티나\",\"city\"] = \"아르헨티나\"\n",
        "df4.loc[df4[\"state\"]==\"아르헨티나\",\"state\"] = \"수입\"\n",
        "df4.loc[df4[\"state\"]==\"브라질\",\"city\"] = \"브라질\"\n",
        "df4.loc[df4[\"state\"]==\"브라질\",\"state\"] = \"수입\"\n",
        "df4.loc[df4[\"state\"]==\"캐나다\",\"city\"] = \"캐나다\"\n",
        "df4.loc[df4[\"state\"]==\"캐나다\",\"state\"] = \"수입\"\n",
        "df4.loc[df4[\"state\"]==\"파나마\",\"city\"] = \"파나마\"\n",
        "df4.loc[df4[\"state\"]==\"파나마\",\"state\"] = \"수입\"\n",
        "df4.loc[df4[\"state\"]==\"우즈베키스\",\"city\"] = \"우즈베키스탄\"\n",
        "df4.loc[df4[\"state\"]==\"우즈베키스\",\"state\"] = \"수입\"\n",
        "\n",
        "## 유럽\n",
        "df4.loc[df4[\"state\"]==\"스페인\",\"city\"] = \"스페인\"\n",
        "df4.loc[df4[\"state\"]==\"스페인\",\"state\"] = \"수입\"\n",
        "df4.loc[df4[\"state\"]==\"우크라이나\",\"city\"] = \"우크라이나\"\n",
        "df4.loc[df4[\"state\"]==\"우크라이나\",\"state\"] = \"수입\"\n",
        "df4.loc[df4[\"state\"]==\"이탈리아\",\"city\"] = \"이탈리아\"\n",
        "df4.loc[df4[\"state\"]==\"이탈리아\",\"state\"] = \"수입\"\n",
        "df4.loc[df4[\"state\"]==\"이태리\",\"city\"] = \"이탈리아\"\n",
        "df4.loc[df4[\"state\"]==\"이태리\",\"state\"] = \"수입\"\n",
        "df4.loc[df4[\"state\"]==\"불가리아\",\"city\"] = \"불가리아\"\n",
        "df4.loc[df4[\"state\"]==\"불가리아\",\"state\"] = \"수입\"\n",
        "df4.loc[df4[\"state\"]==\"그리스\",\"city\"] = \"그리스\"\n",
        "df4.loc[df4[\"state\"]==\"그리스\",\"state\"] = \"수입\"\n",
        "df4.loc[df4[\"state\"]==\"네델란드\",\"city\"] = \"네덜란드\"\n",
        "df4.loc[df4[\"state\"]==\"네델란드\",\"state\"] = \"수입\"\n",
        "df4.loc[df4[\"state\"]==\"프랑스\",\"city\"] = \"프랑스\"\n",
        "df4.loc[df4[\"state\"]==\"프랑스\",\"state\"] = \"수입\"\n",
        "\n",
        "## 아프리카\n",
        "df4.loc[df4[\"state\"]==\"남아프리카\",\"city\"] = \"남아공\"\n",
        "df4.loc[df4[\"state\"]==\"남아프리카\",\"state\"] = \"수입\"\n",
        "df4.loc[df4[\"state\"]==\"남아프리카공화국\",\"city\"] = \"남아공\"\n",
        "df4.loc[df4[\"state\"]==\"남아프리카공화국\",\"state\"] = \"수입\"\n",
        "df4.loc[df4[\"state\"]==\"수입남아프리카공화국\",\"city\"] = \"남아공\"\n",
        "df4.loc[df4[\"state\"]==\"수입남아프리카공화국\",\"state\"] = \"수입\"\n",
        "df4.loc[df4[\"state\"]==\"남아공\",\"city\"] = \"남아공\"\n",
        "df4.loc[df4[\"state\"]==\"남아공\",\"state\"] = \"수입\"\n",
        "\n",
        "\n",
        "## 오세아니아\n",
        "df4.loc[df4[\"state\"]==\"뉴질랜드\",\"city\"] = \"뉴질랜드\"\n",
        "df4.loc[df4[\"state\"]==\"뉴질랜드\",\"state\"] = \"수입\"\n",
        "df4.loc[df4[\"state\"]==\"뉴질랜드(NZ\",\"city\"] = \"뉴질랜드\"\n",
        "df4.loc[df4[\"state\"]==\"뉴질랜드(NZ\",\"state\"] = \"수입\"\n",
        "df4.loc[df4[\"state\"]==\"오스트레일\",\"city\"] = \"호주\"\n",
        "df4.loc[df4[\"state\"]==\"오스트레일\",\"state\"] = \"수입\"\n",
        "df4.loc[df4[\"state\"]==\"오스트레일리아\",\"city\"] = \"호주\"\n",
        "df4.loc[df4[\"state\"]==\"오스트레일리아\",\"state\"] = \"수입\"\n",
        "df4.loc[df4[\"state\"]==\"호주\",\"city\"] = \"호주\"\n",
        "df4.loc[df4[\"state\"]==\"호주\",\"state\"] = \"수입\"\n",
        "df4.loc[df4[\"state\"]==\"통가\",\"city\"] = \"통가\"\n",
        "df4.loc[df4[\"state\"]==\"통가\",\"state\"] = \"수입\"\n",
        "df4.loc[df4[\"state\"]==\"뉴칼레\",\"city\"] = \"뉴칼레도니아\"\n",
        "df4.loc[df4[\"state\"]==\"뉴칼레\",\"state\"] = \"수입\"\n",
        "df4.loc[df4[\"state\"]==\"뉴\",\"city\"] = \"뉴칼레도니아\"\n",
        "df4.loc[df4[\"state\"]==\"뉴\",\"state\"] = \"수입\"\n",
        "df4.loc[df4[\"state\"]==\"누벨칼레\",\"city\"] = \"뉴칼레도니아\"\n",
        "df4.loc[df4[\"state\"]==\"누벨칼레\",\"state\"] = \"수입\"\n",
        "df4.loc[df4[\"state\"]==\"파푸아\",\"city\"] = \"파푸아뉴기니\"\n",
        "df4.loc[df4[\"state\"]==\"파푸아\",\"state\"] = \"수입\"\n",
        "# 기타\n",
        "df4.loc[df4[\"state\"]==\"수입산\",\"state\"] = \"수입\"\n",
        "df4.loc[df4[\"state\"]==\"기타국\",\"state\"] = \"수입\"\n",
        "df4.loc[df4[\"state\"]==\"기타외국\",\"city\"] = \"미상\"\n",
        "df4.loc[df4[\"state\"]==\"기타외국\",\"state\"] = \"수입\"\n",
        "df4.loc[df4[\"state\"]==\"해외\",\"state\"] = \"수입\"\n"
      ]
    },
    {
      "cell_type": "code",
      "execution_count": 50,
      "metadata": {},
      "outputs": [],
      "source": [
        "# df4 = df4.drop(df4[(df4['state']=='없음')].index)\n",
        "# df4 = df4.drop(df4[(df4['state']=='해당사항없')].index)\n",
        "# df4.drop(df4[df4[\"state\"]==\"미등록\"].index,inplace=True)\n",
        "# df4.drop(df4[df4[\"state\"]==\"우편번호오류\"].index,inplace=True)\n",
        "# df4.drop(df4[df4[\"state\"]==\"수입산(기타)\"].index,inplace=True)\n",
        "# df4.drop(df4[df4[\"state\"]==\"기타국\"].index,inplace=True)\n",
        "# df4.drop(df4[df4[\"state\"]==\"해외\"].index,inplace=True)\n",
        "# df4.drop(df4[df4[\"state\"]==\"북대서양\"].index,inplace=True)\n",
        "# df4.drop(df4[df4[\"state\"]==\"남인\"].index,inplace=True)\n",
        "# df4 = df4.drop(df4[(df4['origin']=='이시원')].index)"
      ]
    },
    {
      "cell_type": "code",
      "execution_count": 51,
      "metadata": {
        "colab": {
          "base_uri": "https://localhost:8080/"
        },
        "id": "bPMNH6Fz9laX",
        "outputId": "c7ea6abb-e318-4350-9eea-394a56796052"
      },
      "outputs": [
        {
          "data": {
            "text/plain": [
              "array(['경남', '국산', '전남', '전북', '수입', '제주', '충남', '강원', '경기', '경북', '서울',\n",
              "       '광주', '대구', '대전', '부산', '세종', '충북', '인천', '없음', '미등록', '울산',\n",
              "       '해당사항없', '남인', '수입산(기타)', '이', '북대서양', '우편번호오류'], dtype=object)"
            ]
          },
          "execution_count": 51,
          "metadata": {},
          "output_type": "execute_result"
        }
      ],
      "source": [
        "df4['state'].unique()"
      ]
    },
    {
      "cell_type": "code",
      "execution_count": 52,
      "metadata": {},
      "outputs": [],
      "source": [
        "# df4[df4['state']=='남인']"
      ]
    },
    {
      "cell_type": "code",
      "execution_count": 53,
      "metadata": {
        "id": "Ih5vw324J-Ed"
      },
      "outputs": [],
      "source": [
        "# city\n",
        "# 우선 결측치 제거\n",
        "df4.loc[df4[\"city\"].isnull(),\"city\"] = \"미상\""
      ]
    },
    {
      "cell_type": "code",
      "execution_count": 54,
      "metadata": {},
      "outputs": [
        {
          "data": {
            "text/plain": [
              "0"
            ]
          },
          "execution_count": 54,
          "metadata": {},
          "output_type": "execute_result"
        }
      ],
      "source": [
        "df4['city'].isnull().sum()"
      ]
    },
    {
      "cell_type": "code",
      "execution_count": 55,
      "metadata": {},
      "outputs": [],
      "source": [
        "df4.loc[df4['city']=='시',\"city\"] = \"삭제\""
      ]
    },
    {
      "cell_type": "code",
      "execution_count": 56,
      "metadata": {
        "id": "cXY3uABaKSty"
      },
      "outputs": [],
      "source": [
        "# 이후 시,군 등 제거\n",
        "def name_sort(words):\n",
        "  p = re.compile('[^시군]+')\n",
        "  word = re.search(p,words)\n",
        "  return word.group()\n",
        "\n",
        "df4[\"city\"] = df4[\"city\"].apply(name_sort)"
      ]
    },
    {
      "cell_type": "code",
      "execution_count": 57,
      "metadata": {
        "id": "QuyWFOs1R7yP"
      },
      "outputs": [],
      "source": [
        "# \\t 도 제거\n",
        "def name_sort2(words):\n",
        "  p = re.compile('[^\\t]+')\n",
        "  word = re.search(p,words)\n",
        "  return word.group()\n",
        "\n",
        "df4[\"city\"] = df4[\"city\"].apply(name_sort2)"
      ]
    },
    {
      "cell_type": "code",
      "execution_count": 58,
      "metadata": {
        "colab": {
          "base_uri": "https://localhost:8080/"
        },
        "id": "szJvb99ySEPR",
        "outputId": "97ca859c-e684-45b0-f3d0-488abdd6cedf"
      },
      "outputs": [
        {
          "data": {
            "text/plain": [
              "array(['거제(장승포)', '남해', '마산(고성,진해)', '사천', '삼천포', '통영', '미상', '고흥(나로도)',\n",
              "       '여수', '산', '러', '미국', '베트남', '일본', '중국', '목포(무안)', '기타', '브라질',\n",
              "       '아르헨티나', '칠레', '캐나다', '제주', '서산', '장항(서천)', '노르웨이', '대만', '영월',\n",
              "       '광주', '여주', '이천', '고성', '밀양', '진주', '창녕', '하동', '함안', '함양', '문경',\n",
              "       '상주', '청도', '송파구', '곡성', '광양', '구례', '담양', '보성', '순천', '해남', '남원',\n",
              "       '순창', '고창', '논산', '당진', '보령', '부여', '서천', '청양', '태안', '홍성', '강릉',\n",
              "       '양구', '원주', '인제', '철원', '춘천', '태백', '평창', '홍천', '화천', '횡성', '고양',\n",
              "       '광명', '구리', '남양주', '성남', '안성', '양주', '양평', '연천', '용인', '평택', '포천',\n",
              "       '하남', '화성', '김포', '파주', '거제', '김해', '의령', '진해', '창원', '합천', '경산',\n",
              "       '고령', '위', '성주', '영주', '의성', '광산구', '남구', '북구', '대구', '대전', '부산',\n",
              "       '강동구', '도봉구', '강서구', '동대문구', '세종', '고흥', '나주', '무안', '화순', '임실',\n",
              "       '전주', '완주', '익산', '공주', '금산', '아산', '예산', '천안', '괴산', '음성', '제천',\n",
              "       '진천', '충주', '청주', '정선', '가평', '봉화', '창', '강화', '인천', '강진', '완도',\n",
              "       '모로코', '모리타니아', '세네갈', '스페인', '아랍에미레이트', '오만', '파키스탄', '페루', '남아공',\n",
              "       '영암', '산청', '김천', '예천', '장성', '영동', '영천', '영광', '정읍', '함', '동대문',\n",
              "       '김', '서구', '함평', '부안', '청', '청송', '거창', '구미', '성북구', '중구', '옥천',\n",
              "       '삭제', '마산', '영양', '칠곡', '안동', '서귀포', '영등포구', '서울', '강남구', '진안',\n",
              "       '양산', '장흥', '장수', '보은', '용산구', '김제', '단양', '영덕', '부천', '포항', '양천구',\n",
              "       '은평구', '계양구', '무주', '의왕', '신안', '청원', '진도', '흥', '남동구', '증평', '호주',\n",
              "       '연기', '과천', '삼척', '수원', '안산', '오산', '경주', '부', '순', '목포', '보성(벌교)',\n",
              "       '순천(광양)', '타이', '인도네', '말레이지아', '인도', '의정부', '서대문', '여', '중랑구',\n",
              "       '동두천', '서대문구', '안양', '계룡', '대천(보령)', '동작구', '멕', '바누아투', '바레인',\n",
              "       '방글라데', '에콰도르', '장항', '논', '완', '익', '화성(평택)', '동구', '네덜란드',\n",
              "       '아일랜드', '영국', '양양', '옹진', '예', '미얀마', '서초구', '진', '영등포', '영',\n",
              "       '광진구', '성동구', '무', '속초(아야진)', '아이슬란드', '태국', '필리핀', '고성(거진,대진)',\n",
              "       '이스라엘', '국가', '불가리아', '울산', '뉴질랜드', '우즈베키스탄', '이란', '구로구', '장',\n",
              "       '울진', '북한', '울릉', '미금', '에라리온', '터키', '밀', '대덕구', '나', '부평구',\n",
              "       '싱가포르', '포루투갈', '그리스', '이탈리아', '동해', '속초', '이집트', '남', '남아공산',\n",
              "       '남양', '캄보디아', '콜롬비아', '금천구', '고', '강북구', '주문진', '울주', '과테말라',\n",
              "       '코스타리카', '우크라이나', '파나마', '불령리유니온', '아', '관악구', '의', '포', '전',\n",
              "       '마포구', '충', '안', '거', '그린란드', '사우디', '미추홀구', '울릉도', '보', '노원구',\n",
              "       '서', '그린랜드', '합', '프랑스', '남아프리카공', '아르메니아', '달성', '유성구', '울진(후포)',\n",
              "       '미국령', '연수구', '신', '종로구', '말레이', '코스', '미추홀', '몬트세라트', '통가',\n",
              "       '뉴칼레도니아', '파푸아뉴기니'], dtype=object)"
            ]
          },
          "execution_count": 58,
          "metadata": {},
          "output_type": "execute_result"
        }
      ],
      "source": [
        "df4['city'].unique()"
      ]
    },
    {
      "cell_type": "code",
      "execution_count": 59,
      "metadata": {
        "id": "MrIoC_BDQ_ic"
      },
      "outputs": [],
      "source": [
        "# 나머지 케이스 정리\n",
        "\n",
        "# 국내\n",
        "df4.loc[df4[\"city\"]==\"기타\",\"city\"] = \"미상\"\n",
        "## 일반시\n",
        "df4.loc[df4[\"city\"]==\"위\",\"city\"] = \"군위\"\n",
        "df4.loc[df4[\"city\"]==\"포\",\"city\"] = \"군포\"\n",
        "df4.loc[df4[\"city\"]==\"고흥(나로도)\",\"city\"] = \"고흥\"\n",
        "df4.loc[df4[\"city\"]==\"산\",\"city\"] = \"군산\"\n",
        "df4.loc[df4[\"city\"]==\"장항(서천)\",\"city\"] = \"서천\"\n",
        "df4.loc[df4[\"city\"]==\"삼천포\",\"city\"] = \"사천\"\n",
        "df4.loc[df4[\"city\"]==\"삼천포\",\"city\"] = \"사천\"\n",
        "df4.loc[df4[\"city\"]==\"순천(광양)\",\"city\"] = \"순천\"\n",
        "df4.loc[df4[\"city\"]==\"대천(보령)\",\"city\"] = \"보령\"\n",
        "df4.loc[df4[\"city\"]==\"대천(보령)\",\"city\"] = \"보령\"\n",
        "df4.loc[df4[\"city\"]==\"화성(평택)\",\"city\"] = \"화성\"\n",
        "df4.loc[df4[\"city\"]==\"흥\",\"city\"] = \"시흥\"\n",
        "df4.loc[df4[\"city\"]==\"목포(무안)\",\"city\"] = \"목포\"\n",
        "df4.loc[df4[\"city\"]==\"목포(무안)\",\"state\"] = \"전남\"\n",
        "df4.loc[df4[\"city\"]==\"보성(벌교)\",\"city\"] = \"보성\"\n",
        "df4.loc[df4[\"city\"]==\"울진(후포)\",\"city\"] = \"울진\"\n",
        "df4.loc[df4[\"city\"]==\"논\",\"city\"] = \"논산\"\n",
        "df4.loc[df4[\"city\"]==\"논\",\"city\"] = \"논산\"\n",
        "df4.loc[df4[\"city\"]==\"순\",\"city\"] = \"순창\"\n",
        "df4.loc[df4[\"city\"]==\"익\",\"city\"] = \"익산\"\n",
        "df4.loc[df4[\"city\"]==\"미금\",\"city\"] = \"성남\"\n",
        "df4.loc[df4[\"city\"]==\"주문진\",\"city\"] = \"강릉\"\n",
        "df4.loc[df4[\"city\"]==\"울릉도\",\"city\"] = \"울릉\"\n",
        "df4.loc[df4[\"city\"]==\"거제(장승포)\",\"city\"] = \"거제\"\n",
        "df4.loc[df4[\"city\"]==\"남양\",\"city\"] = \"남양주\"\n",
        "df4.loc[df4[\"city\"]==\"밀\",\"city\"] = \"밀양\"\n",
        "df4.loc[df4[\"city\"]==\"예\",\"city\"] = \"예산\"\n",
        "df4.loc[df4[\"city\"]==\"속초(아야진)\",\"city\"] = \"속초\"\n",
        "df4.loc[(df4[\"city\"]==\"완\")&(df4[\"state\"]==\"전북\"),\"city\"] = \"완주\"\n",
        "df4.loc[(df4[\"state\"]==\"전북\")&(df4[\"city\"]==\"남\"),\"city\"] = \"남원\"\n",
        "#df4.loc[(df4['prd']==\"호박\") & (df4['state']=='전북'),\"city\"] = \"전주\"\n",
        "df4.loc[(df4[\"state\"]==\"전남\")&(df4[\"city\"]==\"신\"),\"city\"] = \"신안\"\n",
        "df4.loc[(df4[\"state\"]==\"전북\")&(df4[\"city\"]==\"장\"),\"city\"] = \"장수\"\n",
        "df4.loc[(df4[\"state\"]==\"전남\")&(df4[\"city\"]==\"진\"),\"city\"] = \"진도\"\n",
        "df4.loc[(df4[\"state\"]==\"충북\")&(df4[\"city\"]==\"충\"),\"city\"] = \"충주\"\n",
        "df4.loc[(df4[\"state\"]==\"충북\")&(df4[\"city\"]==\"청\"),\"city\"] = \"청주\"\n",
        "df4.loc[(df4[\"state\"]==\"충남\")&(df4[\"city\"]==\"부\"),\"city\"] = \"부여\"\n",
        "df4.loc[(df4[\"state\"]==\"충남\")&(df4[\"city\"]==\"예\"),\"city\"] = \"예산\"\n",
        "df4.loc[(df4[\"state\"]==\"충남\")&(df4[\"city\"]==\"청\"),\"city\"] = \"청양\"\n",
        "df4.loc[(df4[\"state\"]==\"충남\")&(df4[\"city\"]==\"보\"),\"city\"] = \"보령\"\n",
        "df4.loc[(df4[\"state\"]==\"충남\")&(df4[\"city\"]==\"서\"),\"city\"] = \"서산\"\n",
        "df4.loc[(df4[\"state\"]==\"경남\")&(df4[\"city\"]==\"의\"),\"city\"] = \"의령\"\n",
        "df4.loc[(df4[\"state\"]==\"전남\")&(df4[\"city\"]==\"함\"),\"city\"] = \"함평\"\n",
        "df4.loc[(df4[\"state\"]==\"경북\")&(df4[\"city\"]==\"영\"),\"city\"] = \"영주\"\n",
        "df4.loc[(df4[\"state\"]==\"경북\")&(df4[\"city\"]==\"안\"),\"city\"] = \"안동\"\n",
        "df4.loc[(df4[\"state\"]==\"경남\")&(df4[\"city\"]==\"거\"),\"city\"] = \"거창\"\n",
        "df4.loc[(df4[\"state\"]==\"경남\")&(df4[\"city\"]==\"합\"),\"city\"] = \"합천\"\n",
        "df4.loc[(df4[\"state\"]==\"경남\")&(df4[\"city\"]==\"밀\"),\"city\"] = \"밀양\"\n",
        "df4.loc[(df4[\"state\"]==\"경남\")&(df4[\"city\"]==\"고\"),\"city\"] = \"고성\"\n",
        "df4.loc[(df4[\"state\"]==\"경남\")&(df4[\"city\"]==\"진\"),\"city\"] = \"진주\"\n",
        "df4.loc[(df4[\"state\"]==\"경남\")&(df4[\"city\"]==\"함\"),\"city\"] = \"함양\"\n",
        "df4.loc[(df4[\"state\"]==\"전북\")&(df4[\"city\"]==\"김\"),\"city\"] = \"김제\"\n",
        "df4.loc[(df4[\"state\"]==\"전북\")&(df4[\"city\"]==\"전\"),\"city\"] = \"전주\"\n",
        "df4.loc[(df4[\"state\"]==\"충남\")&(df4[\"city\"]==\"아\"),\"city\"] = \"아산\"\n",
        "df4.loc[(df4[\"state\"]==\"전남\")&(df4[\"city\"]==\"여\"),\"city\"] = \"여수\"\n",
        "df4.loc[(df4[\"state\"]==\"전남\")&(df4[\"city\"]==\"나\"),\"city\"] = \"나주\"\n",
        "df4.loc[(df4[\"state\"]==\"전북\")&(df4[\"city\"]==\"고\"),\"city\"] = \"고창\"\n",
        "df4.loc[(df4[\"state\"]==\"전북\")&(df4[\"city\"]==\"부\"),\"city\"] = \"부안\"\n",
        "df4.loc[(df4[\"state\"]==\"전남\")&(df4[\"city\"]==\"무\"),\"city\"] = \"무안\"\n",
        "df4.loc[(df4[\"state\"]==\"전남\")&(df4[\"city\"]==\"고\"),\"city\"] = \"고흥\"\n",
        "df4.loc[(df4[\"state\"]==\"경북\")&(df4[\"city\"]==\"김\"),\"city\"] = \"김천\"\n",
        "df4.loc[(df4[\"state\"]==\"경북\")&(df4[\"city\"]==\"청\"),\"city\"] = \"청도\"\n",
        "# 전라남도 장 -> 장흥, 장성 두개 있으므로 구분 불가, 삭제\n",
        "\n",
        "\n",
        "## 광역시\n",
        "df4.loc[df4[\"city\"]==\"강서구\",\"city\"] = \"서울\"\n",
        "df4.loc[df4[\"city\"]==\"은평구\",\"city\"] = \"서울\"\n",
        "df4.loc[df4[\"city\"]==\"강동구\",\"city\"] = \"서울\"\n",
        "df4.loc[df4[\"city\"]==\"마포구\",\"city\"] = \"서울\"\n",
        "df4.loc[df4[\"city\"]==\"중구\",\"city\"] = \"서울\"\n",
        "df4.loc[df4[\"city\"]==\"송파구\",\"city\"] = \"서울\"\n",
        "df4.loc[df4[\"city\"]==\"도봉구\",\"city\"] = \"서울\"\n",
        "df4.loc[df4[\"city\"]==\"중랑구\",\"city\"] = \"서울\"\n",
        "df4.loc[df4[\"city\"]==\"양천구\",\"city\"] = \"서울\"\n",
        "df4.loc[df4[\"city\"]==\"성동구\",\"city\"] = \"서울\"\n",
        "df4.loc[df4[\"city\"]==\"강남구\",\"city\"] = \"서울\"\n",
        "df4.loc[df4[\"city\"]==\"동대문구\",\"city\"] = \"서울\"\n",
        "df4.loc[df4[\"city\"]==\"영등포구\",\"city\"] = \"서울\"\n",
        "df4.loc[df4[\"city\"]==\"영등포\",\"city\"] = \"서울\"\n",
        "df4.loc[df4[\"city\"]==\"서초구\",\"city\"] = \"서울\"\n",
        "df4.loc[df4[\"city\"]==\"구로구\",\"city\"] = \"서울\"\n",
        "df4.loc[df4[\"city\"]==\"동대문\",\"city\"] = \"서울\"\n",
        "df4.loc[df4[\"city\"]==\"금천구\",\"city\"] = \"서울\"\n",
        "df4.loc[df4[\"city\"]==\"동작구\",\"city\"] = \"서울\"\n",
        "df4.loc[df4[\"city\"]==\"용산구\",\"city\"] = \"서울\"\n",
        "df4.loc[df4[\"city\"]==\"광진구\",\"city\"] = \"서울\"\n",
        "df4.loc[df4[\"city\"]==\"종로구\",\"city\"] = \"서울\"\n",
        "df4.loc[df4[\"city\"]==\"서대문구\",\"city\"] = \"서울\"\n",
        "df4.loc[df4[\"city\"]==\"서대문\",\"city\"] = \"서울\"\n",
        "df4.loc[df4[\"city\"]==\"성북구\",\"city\"] = \"서울\"\n",
        "df4.loc[df4[\"city\"]==\"관악구\",\"city\"] = \"서울\"\n",
        "df4.loc[df4[\"city\"]==\"강북구\",\"city\"] = \"서울\"\n",
        "df4.loc[df4[\"city\"]==\"노원구\",\"city\"] = \"서울\"\n",
        "\n",
        "df4.loc[df4[\"city\"]==\"광산구\",\"city\"] = \"광주\"\n",
        "df4.loc[(df4[\"state\"]==\"광주\")&(df4[\"city\"]==\"남구\"),\"city\"] = \"광주\"\n",
        "df4.loc[(df4[\"state\"]==\"광주\")&(df4[\"city\"]==\"북구\"),\"city\"] = \"광주\"\n",
        "df4.loc[(df4[\"state\"]==\"광주\")&(df4[\"city\"]==\"서구\"),\"city\"] = \"광주\"\n",
        "df4.loc[df4[\"city\"]==\"동구\",\"city\"] = \"광주\"\n",
        "df4.loc[(df4[\"state\"]==\"인천\")&(df4[\"city\"]==\"남구\"),\"city\"] = \"인천\"\n",
        "df4.loc[(df4[\"state\"]==\"인천\")&(df4[\"city\"]==\"서구\"),\"city\"] = \"인천\"\n",
        "df4.loc[df4[\"city\"]==\"미추홀\",\"city\"] = \"인천\"\n",
        "df4.loc[df4[\"city\"]==\"부평구\",\"city\"] = \"인천\"\n",
        "df4.loc[df4[\"city\"]==\"남동구\",\"city\"] = \"인천\"\n",
        "df4.loc[df4[\"city\"]==\"미추홀구\",\"city\"] = \"인천\"\n",
        "df4.loc[df4[\"city\"]==\"계양구\",\"city\"] = \"인천\"\n",
        "df4.loc[df4[\"city\"]==\"연수구\",\"city\"] = \"인천\"\n",
        "df4.loc[df4[\"city\"]==\"마산(고성,진해)\",\"city\"] = \"창원\"\n",
        "df4.loc[(df4[\"state\"]==\"경남\")&(df4[\"city\"]==\"창\"),\"city\"] = \"창원\"\n",
        "df4.loc[(df4[\"state\"]==\"부산\")&(df4[\"city\"]==\"북구\"),\"city\"] = \"부산\"\n",
        "df4.loc[df4[\"city\"]==\"오포\",\"city\"] = \"부산\"\n",
        "df4.loc[df4[\"city\"]==\"부산진\",\"city\"] = \"부산\"\n",
        "df4.loc[df4[\"city\"]==\"사상구\",\"city\"] = \"부산\"\n",
        "df4.loc[df4[\"city\"]==\"부산진구\",\"city\"] = \"부산\"\n",
        "df4.loc[df4[\"city\"]==\"북제주\",\"city\"] = \"제주\"\n",
        "df4.loc[df4[\"city\"]==\"남제주\",\"city\"] = \"제주\"\n",
        "df4.loc[df4[\"city\"]==\"서귀포\",\"city\"] = \"제주\"\n",
        "df4.loc[(df4[\"state\"]==\"대구\")&(df4[\"city\"]==\"남구\"),\"city\"] = \"대구\"\n",
        "df4.loc[(df4[\"state\"]==\"대구\")&(df4[\"city\"]==\"북구\"),\"city\"] = \"대구\"\n",
        "df4.loc[df4[\"city\"]==\"달성\",\"city\"] = \"대구\"\n",
        "df4.loc[df4[\"city\"]==\"고성(거진,대진)\",\"city\"] = \"고성\"\n",
        "df4.loc[df4[\"city\"]==\"연기\",\"state\"] = \"세종\"\n",
        "df4.loc[df4[\"city\"]==\"연기\",\"city\"] = \"세종\"\n",
        "df4.loc[df4[\"city\"]==\"대덕구\",\"city\"] = \"대전\"\n",
        "df4.loc[df4[\"city\"]==\"유성구\",\"city\"] = \"대전\"\n",
        "df4.loc[df4[\"city\"]==\"울주\",\"city\"] = \"울산\"\n",
        "\n",
        "# 해외\n",
        "## 아시아\n",
        "df4.loc[df4[\"city\"]==\"러\",\"city\"] = \"러시아\"\n",
        "df4.loc[df4[\"city\"]==\"말레이지아\",\"city\"] = \"말레이시아\"\n",
        "df4.loc[df4[\"city\"]==\"말레이\",\"city\"] = \"말레이시아\"\n",
        "df4.loc[df4[\"city\"]==\"타이\",\"city\"] = \"태국\"\n",
        "df4.loc[df4[\"city\"]==\"인도네\",\"city\"] = \"인도네시아\"\n",
        "df4.loc[df4[\"city\"]==\"사우디\",\"city\"] = \"사우디아라비아\"\n",
        "df4.loc[df4[\"city\"]==\"미국령\",\"city\"] = \"미국\"\n",
        "df4.loc[df4[\"city\"]==\"코스\",\"city\"] = \"오스트레일리아\"\n",
        "df4.loc[df4[\"city\"]==\"몬트세라트\",\"city\"] = \"스페인\"\n",
        "df4.loc[df4[\"city\"]==\"그린랜드\",\"city\"] = \"그린란드\"\n",
        "df4.loc[df4[\"city\"]==\"방글라데\",\"city\"] = \"방글라데시\"\n",
        "df4.loc[df4[\"city\"]==\"모리타니아\",\"city\"] = \"모리타니\"\n",
        "df4.loc[df4[\"city\"]==\"포루투갈\",\"city\"] = \"포르투갈\"\n",
        "## 아메리카\n",
        "df4.loc[df4[\"city\"]==\"멕\",\"city\"] = \"멕시코\"\n",
        "## 아프리카\n",
        "df4.loc[df4[\"city\"]==\"남아공산\",\"city\"] = \"남아공\"\n",
        "df4.loc[df4[\"city\"]==\"남아프리카공\",\"city\"] = \"남아공\"\n",
        "df4.loc[df4[\"city\"]==\"국가\",\"city\"] = \"삭제\"\n",
        "## 유럽\n",
        "## 오세아니아"
      ]
    },
    {
      "cell_type": "code",
      "execution_count": 60,
      "metadata": {},
      "outputs": [],
      "source": [
        "#df4.drop(df4[([df4['state']=='전남'])&(df4[\"city\"]==\"영\")].index,inplace=True)\n",
        "#df4.drop(df4[([df4['state']=='경북'])&(df4[\"city\"]==\"청\")].index,inplace=True)\n",
        "# df4.drop(df4[df4[\"city\"]==\"불령리유니온\"].index,inplace=True)"
      ]
    },
    {
      "cell_type": "code",
      "execution_count": 61,
      "metadata": {},
      "outputs": [],
      "source": [
        "#df2[(df2['prd']=='양파') & (df2['price']==23000) & (df2['scale']==15)]['origin'].unique()"
      ]
    },
    {
      "cell_type": "code",
      "execution_count": 62,
      "metadata": {},
      "outputs": [],
      "source": [
        "#df3[df3['origin']=='전라남도 영']"
      ]
    },
    {
      "cell_type": "code",
      "execution_count": 63,
      "metadata": {},
      "outputs": [],
      "source": [
        "#df4[df4['city']=='청']['origin'].unique()"
      ]
    },
    {
      "cell_type": "code",
      "execution_count": 64,
      "metadata": {},
      "outputs": [
        {
          "data": {
            "text/plain": [
              "array(['속초(아야진)', '에라리온', '장'], dtype=object)"
            ]
          },
          "execution_count": 64,
          "metadata": {},
          "output_type": "execute_result"
        }
      ],
      "source": [
        "# 기존 city 리스트와 비교\n",
        "ex_city = pd.read_csv(\"../cities.csv\")\n",
        "df4[~df4['city'].isin(ex_city['city'])]['city'].unique()"
      ]
    },
    {
      "cell_type": "code",
      "execution_count": 65,
      "metadata": {},
      "outputs": [
        {
          "name": "stderr",
          "output_type": "stream",
          "text": [
            "/var/folders/nq/s4zx76p53d11lnr0t1dxpxh00000gn/T/ipykernel_3212/1856950528.py:3: FutureWarning: The frame.append method is deprecated and will be removed from pandas in a future version. Use pandas.concat instead.\n",
            "  cities = ex_city.append(new_city,ignore_index=True)\n"
          ]
        }
      ],
      "source": [
        "# 리스트 최신화\n",
        "new_city = pd.DataFrame(df4['city'].unique(),columns=['city'])\n",
        "cities = ex_city.append(new_city,ignore_index=True)"
      ]
    },
    {
      "cell_type": "code",
      "execution_count": 66,
      "metadata": {},
      "outputs": [],
      "source": [
        "cities.drop(columns=['Unnamed: 0'],inplace=True)\n",
        "cities.drop_duplicates(inplace=True)\n",
        "cities.reset_index(inplace=True,drop=True)"
      ]
    },
    {
      "cell_type": "code",
      "execution_count": 65,
      "metadata": {},
      "outputs": [],
      "source": [
        "#cities.to_csv('../cities.csv')"
      ]
    },
    {
      "cell_type": "code",
      "execution_count": 66,
      "metadata": {
        "id": "vi6fJirdV7Gz"
      },
      "outputs": [],
      "source": [
        "# 처리 완료하였으니 df4는 백업으로 두고 df5 활용\n",
        "#df5 = df4.drop(columns='origin')"
      ]
    },
    {
      "cell_type": "markdown",
      "metadata": {},
      "source": [
        "# 여기서 다시 시작"
      ]
    },
    {
      "cell_type": "markdown",
      "metadata": {},
      "source": [
        "- origin 키로 써서 머지로 합치기\n",
        "- 합친 뒤에 state, city 드랍하기\n",
        "- 위에서 처리 안된 부분 확인하고 처리\n",
        "- 파일도 새로 만들기"
      ]
    },
    {
      "cell_type": "code",
      "execution_count": 67,
      "metadata": {},
      "outputs": [
        {
          "data": {
            "text/html": [
              "<div>\n",
              "<style scoped>\n",
              "    .dataframe tbody tr th:only-of-type {\n",
              "        vertical-align: middle;\n",
              "    }\n",
              "\n",
              "    .dataframe tbody tr th {\n",
              "        vertical-align: top;\n",
              "    }\n",
              "\n",
              "    .dataframe thead th {\n",
              "        text-align: right;\n",
              "    }\n",
              "</style>\n",
              "<table border=\"1\" class=\"dataframe\">\n",
              "  <thead>\n",
              "    <tr style=\"text-align: right;\">\n",
              "      <th></th>\n",
              "      <th>prd</th>\n",
              "      <th>origin</th>\n",
              "      <th>eco</th>\n",
              "      <th>reg_date</th>\n",
              "      <th>class</th>\n",
              "      <th>scale</th>\n",
              "      <th>price</th>\n",
              "      <th>price_kg</th>\n",
              "    </tr>\n",
              "  </thead>\n",
              "  <tbody>\n",
              "    <tr>\n",
              "      <th>0</th>\n",
              "      <td>가리비</td>\n",
              "      <td>경남 거제(장승포)</td>\n",
              "      <td>normal</td>\n",
              "      <td>2018-10-11</td>\n",
              "      <td>3</td>\n",
              "      <td>10.00000</td>\n",
              "      <td>19000</td>\n",
              "      <td>1900.00000</td>\n",
              "    </tr>\n",
              "    <tr>\n",
              "      <th>1</th>\n",
              "      <td>가리비</td>\n",
              "      <td>경남 거제(장승포)</td>\n",
              "      <td>normal</td>\n",
              "      <td>2018-10-12</td>\n",
              "      <td>3</td>\n",
              "      <td>5.00000</td>\n",
              "      <td>20000</td>\n",
              "      <td>4000.00000</td>\n",
              "    </tr>\n",
              "    <tr>\n",
              "      <th>2</th>\n",
              "      <td>가리비</td>\n",
              "      <td>경남 거제(장승포)</td>\n",
              "      <td>normal</td>\n",
              "      <td>2018-10-15</td>\n",
              "      <td>3</td>\n",
              "      <td>5.00000</td>\n",
              "      <td>20000</td>\n",
              "      <td>4000.00000</td>\n",
              "    </tr>\n",
              "    <tr>\n",
              "      <th>3</th>\n",
              "      <td>가리비</td>\n",
              "      <td>경남 거제(장승포)</td>\n",
              "      <td>normal</td>\n",
              "      <td>2018-10-16</td>\n",
              "      <td>3</td>\n",
              "      <td>5.00000</td>\n",
              "      <td>19000</td>\n",
              "      <td>3800.00000</td>\n",
              "    </tr>\n",
              "    <tr>\n",
              "      <th>4</th>\n",
              "      <td>가리비</td>\n",
              "      <td>경남 거제(장승포)</td>\n",
              "      <td>normal</td>\n",
              "      <td>2018-10-22</td>\n",
              "      <td>3</td>\n",
              "      <td>5.00000</td>\n",
              "      <td>18000</td>\n",
              "      <td>3600.00000</td>\n",
              "    </tr>\n",
              "    <tr>\n",
              "      <th>...</th>\n",
              "      <td>...</td>\n",
              "      <td>...</td>\n",
              "      <td>...</td>\n",
              "      <td>...</td>\n",
              "      <td>...</td>\n",
              "      <td>...</td>\n",
              "      <td>...</td>\n",
              "      <td>...</td>\n",
              "    </tr>\n",
              "    <tr>\n",
              "      <th>4661408</th>\n",
              "      <td>황강달이</td>\n",
              "      <td>전남 신안</td>\n",
              "      <td>normal</td>\n",
              "      <td>2021-05-26</td>\n",
              "      <td>3</td>\n",
              "      <td>20.00000</td>\n",
              "      <td>47000</td>\n",
              "      <td>2350.00000</td>\n",
              "    </tr>\n",
              "    <tr>\n",
              "      <th>4661409</th>\n",
              "      <td>황강달이</td>\n",
              "      <td>전남 신안</td>\n",
              "      <td>normal</td>\n",
              "      <td>2021-05-27</td>\n",
              "      <td>3</td>\n",
              "      <td>40.00000</td>\n",
              "      <td>94000</td>\n",
              "      <td>2350.00000</td>\n",
              "    </tr>\n",
              "    <tr>\n",
              "      <th>4661410</th>\n",
              "      <td>황새치</td>\n",
              "      <td>전북 군산\\t</td>\n",
              "      <td>normal</td>\n",
              "      <td>2022-06-09</td>\n",
              "      <td>3</td>\n",
              "      <td>4.00000</td>\n",
              "      <td>6000</td>\n",
              "      <td>1500.00000</td>\n",
              "    </tr>\n",
              "    <tr>\n",
              "      <th>4661411</th>\n",
              "      <td>흑돔</td>\n",
              "      <td>국내산</td>\n",
              "      <td>normal</td>\n",
              "      <td>2021-03-30</td>\n",
              "      <td>3</td>\n",
              "      <td>10.00000</td>\n",
              "      <td>26700</td>\n",
              "      <td>2670.00000</td>\n",
              "    </tr>\n",
              "    <tr>\n",
              "      <th>4661412</th>\n",
              "      <td>흑돔</td>\n",
              "      <td>전남 목포(무안)</td>\n",
              "      <td>normal</td>\n",
              "      <td>2018-11-23</td>\n",
              "      <td>3</td>\n",
              "      <td>40.00000</td>\n",
              "      <td>255000</td>\n",
              "      <td>6375.00000</td>\n",
              "    </tr>\n",
              "  </tbody>\n",
              "</table>\n",
              "<p>4660177 rows × 8 columns</p>\n",
              "</div>"
            ],
            "text/plain": [
              "          prd      origin     eco   reg_date  class    scale   price  \\\n",
              "0         가리비  경남 거제(장승포)  normal 2018-10-11      3 10.00000   19000   \n",
              "1         가리비  경남 거제(장승포)  normal 2018-10-12      3  5.00000   20000   \n",
              "2         가리비  경남 거제(장승포)  normal 2018-10-15      3  5.00000   20000   \n",
              "3         가리비  경남 거제(장승포)  normal 2018-10-16      3  5.00000   19000   \n",
              "4         가리비  경남 거제(장승포)  normal 2018-10-22      3  5.00000   18000   \n",
              "...       ...         ...     ...        ...    ...      ...     ...   \n",
              "4661408  황강달이       전남 신안  normal 2021-05-26      3 20.00000   47000   \n",
              "4661409  황강달이       전남 신안  normal 2021-05-27      3 40.00000   94000   \n",
              "4661410   황새치     전북 군산\\t  normal 2022-06-09      3  4.00000    6000   \n",
              "4661411    흑돔         국내산  normal 2021-03-30      3 10.00000   26700   \n",
              "4661412    흑돔   전남 목포(무안)  normal 2018-11-23      3 40.00000  255000   \n",
              "\n",
              "          price_kg  \n",
              "0       1900.00000  \n",
              "1       4000.00000  \n",
              "2       4000.00000  \n",
              "3       3800.00000  \n",
              "4       3600.00000  \n",
              "...            ...  \n",
              "4661408 2350.00000  \n",
              "4661409 2350.00000  \n",
              "4661410 1500.00000  \n",
              "4661411 2670.00000  \n",
              "4661412 6375.00000  \n",
              "\n",
              "[4660177 rows x 8 columns]"
            ]
          },
          "execution_count": 67,
          "metadata": {},
          "output_type": "execute_result"
        }
      ],
      "source": [
        "df3"
      ]
    },
    {
      "cell_type": "code",
      "execution_count": 69,
      "metadata": {},
      "outputs": [
        {
          "data": {
            "text/html": [
              "<div>\n",
              "<style scoped>\n",
              "    .dataframe tbody tr th:only-of-type {\n",
              "        vertical-align: middle;\n",
              "    }\n",
              "\n",
              "    .dataframe tbody tr th {\n",
              "        vertical-align: top;\n",
              "    }\n",
              "\n",
              "    .dataframe thead th {\n",
              "        text-align: right;\n",
              "    }\n",
              "</style>\n",
              "<table border=\"1\" class=\"dataframe\">\n",
              "  <thead>\n",
              "    <tr style=\"text-align: right;\">\n",
              "      <th></th>\n",
              "      <th>origin</th>\n",
              "      <th>state</th>\n",
              "      <th>city</th>\n",
              "      <th>prd</th>\n",
              "      <th>eco</th>\n",
              "      <th>reg_date</th>\n",
              "      <th>class</th>\n",
              "      <th>scale</th>\n",
              "      <th>price</th>\n",
              "      <th>price_kg</th>\n",
              "    </tr>\n",
              "  </thead>\n",
              "  <tbody>\n",
              "    <tr>\n",
              "      <th>0</th>\n",
              "      <td>경남 거제(장승포)</td>\n",
              "      <td>경남</td>\n",
              "      <td>거제</td>\n",
              "      <td>가리비</td>\n",
              "      <td>normal</td>\n",
              "      <td>2018-10-11</td>\n",
              "      <td>3</td>\n",
              "      <td>10.00000</td>\n",
              "      <td>19000</td>\n",
              "      <td>1900.00000</td>\n",
              "    </tr>\n",
              "    <tr>\n",
              "      <th>1</th>\n",
              "      <td>경남 거제(장승포)</td>\n",
              "      <td>경남</td>\n",
              "      <td>거제</td>\n",
              "      <td>가리비</td>\n",
              "      <td>normal</td>\n",
              "      <td>2018-10-12</td>\n",
              "      <td>3</td>\n",
              "      <td>5.00000</td>\n",
              "      <td>20000</td>\n",
              "      <td>4000.00000</td>\n",
              "    </tr>\n",
              "    <tr>\n",
              "      <th>2</th>\n",
              "      <td>경남 거제(장승포)</td>\n",
              "      <td>경남</td>\n",
              "      <td>거제</td>\n",
              "      <td>가리비</td>\n",
              "      <td>normal</td>\n",
              "      <td>2018-10-15</td>\n",
              "      <td>3</td>\n",
              "      <td>5.00000</td>\n",
              "      <td>20000</td>\n",
              "      <td>4000.00000</td>\n",
              "    </tr>\n",
              "    <tr>\n",
              "      <th>3</th>\n",
              "      <td>경남 거제(장승포)</td>\n",
              "      <td>경남</td>\n",
              "      <td>거제</td>\n",
              "      <td>가리비</td>\n",
              "      <td>normal</td>\n",
              "      <td>2018-10-16</td>\n",
              "      <td>3</td>\n",
              "      <td>5.00000</td>\n",
              "      <td>19000</td>\n",
              "      <td>3800.00000</td>\n",
              "    </tr>\n",
              "    <tr>\n",
              "      <th>4</th>\n",
              "      <td>경남 거제(장승포)</td>\n",
              "      <td>경남</td>\n",
              "      <td>거제</td>\n",
              "      <td>가리비</td>\n",
              "      <td>normal</td>\n",
              "      <td>2018-10-22</td>\n",
              "      <td>3</td>\n",
              "      <td>5.00000</td>\n",
              "      <td>18000</td>\n",
              "      <td>3600.00000</td>\n",
              "    </tr>\n",
              "    <tr>\n",
              "      <th>...</th>\n",
              "      <td>...</td>\n",
              "      <td>...</td>\n",
              "      <td>...</td>\n",
              "      <td>...</td>\n",
              "      <td>...</td>\n",
              "      <td>...</td>\n",
              "      <td>...</td>\n",
              "      <td>...</td>\n",
              "      <td>...</td>\n",
              "      <td>...</td>\n",
              "    </tr>\n",
              "    <tr>\n",
              "      <th>4660172</th>\n",
              "      <td>경남 의령군 용덕면</td>\n",
              "      <td>경남</td>\n",
              "      <td>의령</td>\n",
              "      <td>호박</td>\n",
              "      <td>normal</td>\n",
              "      <td>2019-12-11</td>\n",
              "      <td>1</td>\n",
              "      <td>10.00000</td>\n",
              "      <td>15500</td>\n",
              "      <td>1550.00000</td>\n",
              "    </tr>\n",
              "    <tr>\n",
              "      <th>4660173</th>\n",
              "      <td>충남 부여군 홍산면</td>\n",
              "      <td>충남</td>\n",
              "      <td>부여</td>\n",
              "      <td>호박</td>\n",
              "      <td>normal</td>\n",
              "      <td>2019-04-05</td>\n",
              "      <td>1</td>\n",
              "      <td>10.00000</td>\n",
              "      <td>4500</td>\n",
              "      <td>450.00000</td>\n",
              "    </tr>\n",
              "    <tr>\n",
              "      <th>4660174</th>\n",
              "      <td>충북 보은군 수한면</td>\n",
              "      <td>충북</td>\n",
              "      <td>보은</td>\n",
              "      <td>호박</td>\n",
              "      <td>normal</td>\n",
              "      <td>2020-06-05</td>\n",
              "      <td>1</td>\n",
              "      <td>10.00000</td>\n",
              "      <td>5500</td>\n",
              "      <td>550.00000</td>\n",
              "    </tr>\n",
              "    <tr>\n",
              "      <th>4660175</th>\n",
              "      <td>전남 순천시 황전면</td>\n",
              "      <td>전남</td>\n",
              "      <td>순천</td>\n",
              "      <td>홍고추</td>\n",
              "      <td>normal</td>\n",
              "      <td>2019-11-29</td>\n",
              "      <td>1</td>\n",
              "      <td>10.00000</td>\n",
              "      <td>33000</td>\n",
              "      <td>3300.00000</td>\n",
              "    </tr>\n",
              "    <tr>\n",
              "      <th>4660176</th>\n",
              "      <td>충남 서천군 문산면</td>\n",
              "      <td>충남</td>\n",
              "      <td>서천</td>\n",
              "      <td>홍고추</td>\n",
              "      <td>normal</td>\n",
              "      <td>2021-07-14</td>\n",
              "      <td>1</td>\n",
              "      <td>10.00000</td>\n",
              "      <td>53000</td>\n",
              "      <td>5300.00000</td>\n",
              "    </tr>\n",
              "  </tbody>\n",
              "</table>\n",
              "<p>4660177 rows × 10 columns</p>\n",
              "</div>"
            ],
            "text/plain": [
              "             origin state city  prd     eco   reg_date  class    scale  price  \\\n",
              "0        경남 거제(장승포)    경남   거제  가리비  normal 2018-10-11      3 10.00000  19000   \n",
              "1        경남 거제(장승포)    경남   거제  가리비  normal 2018-10-12      3  5.00000  20000   \n",
              "2        경남 거제(장승포)    경남   거제  가리비  normal 2018-10-15      3  5.00000  20000   \n",
              "3        경남 거제(장승포)    경남   거제  가리비  normal 2018-10-16      3  5.00000  19000   \n",
              "4        경남 거제(장승포)    경남   거제  가리비  normal 2018-10-22      3  5.00000  18000   \n",
              "...             ...   ...  ...  ...     ...        ...    ...      ...    ...   \n",
              "4660172  경남 의령군 용덕면    경남   의령   호박  normal 2019-12-11      1 10.00000  15500   \n",
              "4660173  충남 부여군 홍산면    충남   부여   호박  normal 2019-04-05      1 10.00000   4500   \n",
              "4660174  충북 보은군 수한면    충북   보은   호박  normal 2020-06-05      1 10.00000   5500   \n",
              "4660175  전남 순천시 황전면    전남   순천  홍고추  normal 2019-11-29      1 10.00000  33000   \n",
              "4660176  충남 서천군 문산면    충남   서천  홍고추  normal 2021-07-14      1 10.00000  53000   \n",
              "\n",
              "          price_kg  \n",
              "0       1900.00000  \n",
              "1       4000.00000  \n",
              "2       4000.00000  \n",
              "3       3800.00000  \n",
              "4       3600.00000  \n",
              "...            ...  \n",
              "4660172 1550.00000  \n",
              "4660173  450.00000  \n",
              "4660174  550.00000  \n",
              "4660175 3300.00000  \n",
              "4660176 5300.00000  \n",
              "\n",
              "[4660177 rows x 10 columns]"
            ]
          },
          "execution_count": 69,
          "metadata": {},
          "output_type": "execute_result"
        }
      ],
      "source": [
        "df5 = df4.merge(df3,on='origin')\n",
        "# 카운트 안지워진 파일이면 드랍하고 진행\n",
        "#df5.drop('count',axis=1,inplace=True)\n",
        "df5"
      ]
    },
    {
      "cell_type": "code",
      "execution_count": 70,
      "metadata": {},
      "outputs": [],
      "source": [
        "# state, city 중 문제 항목들 drop\n",
        "# state\n",
        "df5 = df5.drop(df5[(df5['state']=='없음')].index)\n",
        "df5 = df5.drop(df5[(df5['state']=='해당사항없')].index)\n",
        "df5.drop(df5[df5[\"state\"]==\"미등록\"].index,inplace=True)\n",
        "df5.drop(df5[df5[\"state\"]==\"우편번호오류\"].index,inplace=True)\n",
        "df5.drop(df5[df5[\"state\"]==\"수입산(기타)\"].index,inplace=True)\n",
        "df5.drop(df5[df5[\"state\"]==\"기타국\"].index,inplace=True)\n",
        "df5.drop(df5[df5[\"state\"]==\"해외\"].index,inplace=True)\n",
        "df5.drop(df5[df5[\"state\"]==\"북대서양\"].index,inplace=True)\n",
        "df5.drop(df5[df5[\"state\"]==\"남인\"].index,inplace=True)\n",
        "df5 = df5.drop(df5[(df5['origin']=='이시원')].index)\n",
        "# city\n",
        "#df5.drop(df5[([df5['state']=='전남'])&(df5[\"city\"]==\"영\")].index,inplace=True)\n",
        "#df5.drop(df5[([df5['state']=='경북'])&(df5[\"city\"]==\"청\")].index,inplace=True)\n",
        "df5.drop(df5[(df5[\"city\"]==\"장\")&(df5[\"state\"]==\"전남\")].index,inplace=True)\n",
        "df5.drop(df5[df5[\"city\"]==\"불령리유니온\"].index,inplace=True)"
      ]
    },
    {
      "cell_type": "code",
      "execution_count": 72,
      "metadata": {},
      "outputs": [],
      "source": [
        "# origin 드랍\n",
        "df5.drop('origin',axis=1,inplace=True)"
      ]
    },
    {
      "cell_type": "code",
      "execution_count": 78,
      "metadata": {},
      "outputs": [
        {
          "data": {
            "text/html": [
              "<div>\n",
              "<style scoped>\n",
              "    .dataframe tbody tr th:only-of-type {\n",
              "        vertical-align: middle;\n",
              "    }\n",
              "\n",
              "    .dataframe tbody tr th {\n",
              "        vertical-align: top;\n",
              "    }\n",
              "\n",
              "    .dataframe thead th {\n",
              "        text-align: right;\n",
              "    }\n",
              "</style>\n",
              "<table border=\"1\" class=\"dataframe\">\n",
              "  <thead>\n",
              "    <tr style=\"text-align: right;\">\n",
              "      <th></th>\n",
              "      <th>state</th>\n",
              "      <th>city</th>\n",
              "      <th>prd</th>\n",
              "      <th>eco</th>\n",
              "      <th>reg_date</th>\n",
              "      <th>class</th>\n",
              "      <th>scale</th>\n",
              "      <th>price</th>\n",
              "      <th>price_kg</th>\n",
              "    </tr>\n",
              "  </thead>\n",
              "  <tbody>\n",
              "    <tr>\n",
              "      <th>4551012</th>\n",
              "      <td>강원</td>\n",
              "      <td>속초(아야진)</td>\n",
              "      <td>골뱅이</td>\n",
              "      <td>normal</td>\n",
              "      <td>2021-08-25</td>\n",
              "      <td>3</td>\n",
              "      <td>6.00000</td>\n",
              "      <td>44000</td>\n",
              "      <td>7333.33000</td>\n",
              "    </tr>\n",
              "  </tbody>\n",
              "</table>\n",
              "</div>"
            ],
            "text/plain": [
              "        state     city  prd     eco   reg_date  class   scale  price  \\\n",
              "4551012    강원  속초(아야진)  골뱅이  normal 2021-08-25      3 6.00000  44000   \n",
              "\n",
              "          price_kg  \n",
              "4551012 7333.33000  "
            ]
          },
          "execution_count": 78,
          "metadata": {},
          "output_type": "execute_result"
        }
      ],
      "source": [
        "df5[df5['city']=='속초(아야진)']"
      ]
    },
    {
      "cell_type": "markdown",
      "metadata": {
        "id": "CoWdniywxHwf"
      },
      "source": [
        "# 전처리 결과"
      ]
    },
    {
      "cell_type": "code",
      "execution_count": 73,
      "metadata": {},
      "outputs": [
        {
          "data": {
            "text/html": [
              "<div>\n",
              "<style scoped>\n",
              "    .dataframe tbody tr th:only-of-type {\n",
              "        vertical-align: middle;\n",
              "    }\n",
              "\n",
              "    .dataframe tbody tr th {\n",
              "        vertical-align: top;\n",
              "    }\n",
              "\n",
              "    .dataframe thead th {\n",
              "        text-align: right;\n",
              "    }\n",
              "</style>\n",
              "<table border=\"1\" class=\"dataframe\">\n",
              "  <thead>\n",
              "    <tr style=\"text-align: right;\">\n",
              "      <th></th>\n",
              "      <th>state</th>\n",
              "      <th>city</th>\n",
              "      <th>prd</th>\n",
              "      <th>eco</th>\n",
              "      <th>reg_date</th>\n",
              "      <th>class</th>\n",
              "      <th>scale</th>\n",
              "      <th>price</th>\n",
              "      <th>price_kg</th>\n",
              "    </tr>\n",
              "  </thead>\n",
              "  <tbody>\n",
              "    <tr>\n",
              "      <th>0</th>\n",
              "      <td>경남</td>\n",
              "      <td>거제</td>\n",
              "      <td>가리비</td>\n",
              "      <td>normal</td>\n",
              "      <td>2018-10-11</td>\n",
              "      <td>3</td>\n",
              "      <td>10.00000</td>\n",
              "      <td>19000</td>\n",
              "      <td>1900.00000</td>\n",
              "    </tr>\n",
              "    <tr>\n",
              "      <th>1</th>\n",
              "      <td>경남</td>\n",
              "      <td>거제</td>\n",
              "      <td>가리비</td>\n",
              "      <td>normal</td>\n",
              "      <td>2018-10-12</td>\n",
              "      <td>3</td>\n",
              "      <td>5.00000</td>\n",
              "      <td>20000</td>\n",
              "      <td>4000.00000</td>\n",
              "    </tr>\n",
              "    <tr>\n",
              "      <th>2</th>\n",
              "      <td>경남</td>\n",
              "      <td>거제</td>\n",
              "      <td>가리비</td>\n",
              "      <td>normal</td>\n",
              "      <td>2018-10-15</td>\n",
              "      <td>3</td>\n",
              "      <td>5.00000</td>\n",
              "      <td>20000</td>\n",
              "      <td>4000.00000</td>\n",
              "    </tr>\n",
              "    <tr>\n",
              "      <th>3</th>\n",
              "      <td>경남</td>\n",
              "      <td>거제</td>\n",
              "      <td>가리비</td>\n",
              "      <td>normal</td>\n",
              "      <td>2018-10-16</td>\n",
              "      <td>3</td>\n",
              "      <td>5.00000</td>\n",
              "      <td>19000</td>\n",
              "      <td>3800.00000</td>\n",
              "    </tr>\n",
              "    <tr>\n",
              "      <th>4</th>\n",
              "      <td>경남</td>\n",
              "      <td>거제</td>\n",
              "      <td>가리비</td>\n",
              "      <td>normal</td>\n",
              "      <td>2018-10-22</td>\n",
              "      <td>3</td>\n",
              "      <td>5.00000</td>\n",
              "      <td>18000</td>\n",
              "      <td>3600.00000</td>\n",
              "    </tr>\n",
              "  </tbody>\n",
              "</table>\n",
              "</div>"
            ],
            "text/plain": [
              "  state city  prd     eco   reg_date  class    scale  price   price_kg\n",
              "0    경남   거제  가리비  normal 2018-10-11      3 10.00000  19000 1900.00000\n",
              "1    경남   거제  가리비  normal 2018-10-12      3  5.00000  20000 4000.00000\n",
              "2    경남   거제  가리비  normal 2018-10-15      3  5.00000  20000 4000.00000\n",
              "3    경남   거제  가리비  normal 2018-10-16      3  5.00000  19000 3800.00000\n",
              "4    경남   거제  가리비  normal 2018-10-22      3  5.00000  18000 3600.00000"
            ]
          },
          "execution_count": 73,
          "metadata": {},
          "output_type": "execute_result"
        }
      ],
      "source": [
        "df5.head()"
      ]
    },
    {
      "cell_type": "code",
      "execution_count": 74,
      "metadata": {},
      "outputs": [
        {
          "name": "stdout",
          "output_type": "stream",
          "text": [
            "<class 'pandas.core.frame.DataFrame'>\n",
            "Int64Index: 4659958 entries, 0 to 4660176\n",
            "Data columns (total 9 columns):\n",
            " #   Column    Dtype         \n",
            "---  ------    -----         \n",
            " 0   state     object        \n",
            " 1   city      object        \n",
            " 2   prd       object        \n",
            " 3   eco       object        \n",
            " 4   reg_date  datetime64[ns]\n",
            " 5   class     int64         \n",
            " 6   scale     float64       \n",
            " 7   price     int64         \n",
            " 8   price_kg  float64       \n",
            "dtypes: datetime64[ns](1), float64(2), int64(2), object(4)\n",
            "memory usage: 355.5+ MB\n"
          ]
        }
      ],
      "source": [
        "df5.info()"
      ]
    },
    {
      "cell_type": "code",
      "execution_count": 75,
      "metadata": {},
      "outputs": [
        {
          "data": {
            "text/plain": [
              "state       0\n",
              "city        0\n",
              "prd         0\n",
              "eco         0\n",
              "reg_date    0\n",
              "class       0\n",
              "scale       0\n",
              "price       0\n",
              "price_kg    0\n",
              "dtype: int64"
            ]
          },
          "execution_count": 75,
          "metadata": {},
          "output_type": "execute_result"
        }
      ],
      "source": [
        "df5.isnull().sum()"
      ]
    },
    {
      "cell_type": "code",
      "execution_count": 76,
      "metadata": {},
      "outputs": [
        {
          "data": {
            "text/plain": [
              "array(['경남', '국산', '전남', '전북', '수입', '제주', '충남', '강원', '경기', '경북', '서울',\n",
              "       '광주', '대구', '대전', '부산', '세종', '충북', '인천', '울산'], dtype=object)"
            ]
          },
          "execution_count": 76,
          "metadata": {},
          "output_type": "execute_result"
        }
      ],
      "source": [
        "df5['state'].unique()"
      ]
    },
    {
      "cell_type": "code",
      "execution_count": 77,
      "metadata": {},
      "outputs": [
        {
          "data": {
            "text/plain": [
              "array(['거제', '남해', '창원', '사천', '통영', '미상', '고흥', '여수', '군산', '러시아', '미국',\n",
              "       '베트남', '일본', '중국', '목포', '브라질', '아르헨티나', '칠레', '캐나다', '제주', '서산',\n",
              "       '서천', '노르웨이', '대만', '영월', '광주', '여주', '이천', '고성', '밀양', '진주', '창녕',\n",
              "       '하동', '함안', '함양', '문경', '상주', '청도', '서울', '곡성', '광양', '구례', '담양',\n",
              "       '보성', '순천', '해남', '남원', '순창', '고창', '논산', '당진', '보령', '부여', '청양',\n",
              "       '태안', '홍성', '강릉', '양구', '원주', '인제', '철원', '춘천', '태백', '평창', '홍천',\n",
              "       '화천', '횡성', '고양', '광명', '구리', '남양주', '성남', '안성', '양주', '양평', '연천',\n",
              "       '용인', '평택', '포천', '하남', '화성', '김포', '파주', '김해', '의령', '진해', '합천',\n",
              "       '경산', '고령', '군위', '성주', '영주', '의성', '대구', '대전', '부산', '세종', '나주',\n",
              "       '무안', '화순', '임실', '전주', '완주', '익산', '공주', '금산', '아산', '예산', '천안',\n",
              "       '괴산', '음성', '제천', '진천', '충주', '청주', '정선', '가평', '봉화', '강화', '인천',\n",
              "       '강진', '완도', '모로코', '모리타니', '세네갈', '스페인', '아랍에미레이트', '오만', '파키스탄',\n",
              "       '페루', '남아공', '영암', '산청', '김천', '예천', '장성', '영동', '영천', '영광', '정읍',\n",
              "       '함평', '부안', '청송', '거창', '구미', '옥천', '삭제', '마산', '영양', '칠곡', '안동',\n",
              "       '진안', '양산', '장흥', '장수', '보은', '김제', '단양', '영덕', '부천', '포항', '무주',\n",
              "       '의왕', '신안', '청원', '진도', '시흥', '증평', '호주', '과천', '삼척', '수원', '안산',\n",
              "       '오산', '경주', '태국', '인도네시아', '말레이시아', '인도', '의정부', '동두천', '안양', '계룡',\n",
              "       '멕시코', '바누아투', '바레인', '방글라데시', '에콰도르', '장항', '네덜란드', '아일랜드', '영국',\n",
              "       '양양', '옹진', '미얀마', '영', '속초(아야진)', '아이슬란드', '필리핀', '이스라엘', '불가리아',\n",
              "       '울산', '뉴질랜드', '우즈베키스탄', '이란', '울진', '북한', '울릉', '에라리온', '터키',\n",
              "       '싱가포르', '포르투갈', '그리스', '이탈리아', '동해', '속초', '이집트', '캄보디아', '콜롬비아',\n",
              "       '과테말라', '코스타리카', '우크라이나', '파나마', '군포', '그린란드', '사우디아라비아', '프랑스',\n",
              "       '아르메니아', '오스트레일리아', '통가', '뉴칼레도니아', '파푸아뉴기니'], dtype=object)"
            ]
          },
          "execution_count": 77,
          "metadata": {},
          "output_type": "execute_result"
        }
      ],
      "source": [
        "df5['city'].unique()"
      ]
    },
    {
      "cell_type": "markdown",
      "metadata": {
        "id": "t709mbs6xMkS"
      },
      "source": [
        "# 파일 저장"
      ]
    },
    {
      "cell_type": "code",
      "execution_count": 83,
      "metadata": {},
      "outputs": [
        {
          "data": {
            "text/html": [
              "<div>\n",
              "<style scoped>\n",
              "    .dataframe tbody tr th:only-of-type {\n",
              "        vertical-align: middle;\n",
              "    }\n",
              "\n",
              "    .dataframe tbody tr th {\n",
              "        vertical-align: top;\n",
              "    }\n",
              "\n",
              "    .dataframe thead th {\n",
              "        text-align: right;\n",
              "    }\n",
              "</style>\n",
              "<table border=\"1\" class=\"dataframe\">\n",
              "  <thead>\n",
              "    <tr style=\"text-align: right;\">\n",
              "      <th></th>\n",
              "      <th>state</th>\n",
              "      <th>city</th>\n",
              "      <th>prd</th>\n",
              "      <th>scale</th>\n",
              "      <th>price</th>\n",
              "      <th>eco</th>\n",
              "      <th>reg_date</th>\n",
              "      <th>class</th>\n",
              "      <th>price_kg</th>\n",
              "    </tr>\n",
              "  </thead>\n",
              "  <tbody>\n",
              "    <tr>\n",
              "      <th>9525783</th>\n",
              "      <td>경기</td>\n",
              "      <td>포천</td>\n",
              "      <td>갓</td>\n",
              "      <td>8.0</td>\n",
              "      <td>10100</td>\n",
              "      <td>normal</td>\n",
              "      <td>2020-02-13</td>\n",
              "      <td>1</td>\n",
              "      <td>1262.5</td>\n",
              "    </tr>\n",
              "    <tr>\n",
              "      <th>9525784</th>\n",
              "      <td>경기</td>\n",
              "      <td>포천</td>\n",
              "      <td>갓</td>\n",
              "      <td>8.0</td>\n",
              "      <td>9500</td>\n",
              "      <td>normal</td>\n",
              "      <td>2020-02-13</td>\n",
              "      <td>1</td>\n",
              "      <td>1187.5</td>\n",
              "    </tr>\n",
              "    <tr>\n",
              "      <th>15743300</th>\n",
              "      <td>전남</td>\n",
              "      <td>무안</td>\n",
              "      <td>갓</td>\n",
              "      <td>10.0</td>\n",
              "      <td>11000</td>\n",
              "      <td>normal</td>\n",
              "      <td>2020-02-13</td>\n",
              "      <td>1</td>\n",
              "      <td>1100.0</td>\n",
              "    </tr>\n",
              "    <tr>\n",
              "      <th>15743301</th>\n",
              "      <td>전남</td>\n",
              "      <td>무안</td>\n",
              "      <td>갓</td>\n",
              "      <td>10.0</td>\n",
              "      <td>13000</td>\n",
              "      <td>normal</td>\n",
              "      <td>2020-02-13</td>\n",
              "      <td>1</td>\n",
              "      <td>1300.0</td>\n",
              "    </tr>\n",
              "  </tbody>\n",
              "</table>\n",
              "</div>"
            ],
            "text/plain": [
              "         state city prd  scale  price     eco   reg_date  class  price_kg\n",
              "9525783     경기   포천   갓    8.0  10100  normal 2020-02-13      1    1262.5\n",
              "9525784     경기   포천   갓    8.0   9500  normal 2020-02-13      1    1187.5\n",
              "15743300    전남   무안   갓   10.0  11000  normal 2020-02-13      1    1100.0\n",
              "15743301    전남   무안   갓   10.0  13000  normal 2020-02-13      1    1300.0"
            ]
          },
          "execution_count": 83,
          "metadata": {},
          "output_type": "execute_result"
        }
      ],
      "source": [
        "df5[(df5['prd'].str.contains('갓')) & (df5['reg_date']==dt.datetime(2020,2,13))]"
      ]
    },
    {
      "cell_type": "code",
      "execution_count": 84,
      "metadata": {
        "id": "tEfggl4M5rFG"
      },
      "outputs": [],
      "source": [
        "address2 = \"/Users/luci031/Desktop/Coding/g_auction/data_ingredients/auction_total2.parquet\"\n",
        "df5.to_parquet(address2,engine=\"pyarrow\", compression='gzip')\n",
        "df5.to_csv(\"/Users/luci031/Desktop/Coding/g_auction/data_proceed/auction_total2.csv\")"
      ]
    }
  ],
  "metadata": {
    "colab": {
      "collapsed_sections": [],
      "name": "pre_processing_2022_06.ipynb",
      "provenance": [],
      "toc_visible": true
    },
    "kernelspec": {
      "display_name": "Python 3.8.13 ('yds')",
      "language": "python",
      "name": "python3"
    },
    "language_info": {
      "codemirror_mode": {
        "name": "ipython",
        "version": 3
      },
      "file_extension": ".py",
      "mimetype": "text/x-python",
      "name": "python",
      "nbconvert_exporter": "python",
      "pygments_lexer": "ipython3",
      "version": "3.8.13"
    },
    "vscode": {
      "interpreter": {
        "hash": "edd2e1eeac16ba0124adb27271db416cf5b91db76e0734afe4505ea0738c76e5"
      }
    }
  },
  "nbformat": 4,
  "nbformat_minor": 0
}
