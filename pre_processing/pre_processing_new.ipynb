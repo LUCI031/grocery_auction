{
  "cells": [
    {
      "cell_type": "markdown",
      "metadata": {
        "id": "uhJXKN_71HKz"
      },
      "source": [
        "# 개요"
      ]
    },
    {
      "cell_type": "markdown",
      "metadata": {
        "id": "T02KSzGz1iMO"
      },
      "source": [
        "# Prepare"
      ]
    },
    {
      "cell_type": "markdown",
      "metadata": {
        "id": "bfqE9z4W1JQh"
      },
      "source": [
        "# 1. 초기 세팅"
      ]
    },
    {
      "cell_type": "markdown",
      "metadata": {
        "id": "fG4uSp2B1Ph7"
      },
      "source": [
        "## Library & data load"
      ]
    },
    {
      "cell_type": "code",
      "execution_count": 574,
      "metadata": {
        "id": "c2zXAOvOq96i"
      },
      "outputs": [],
      "source": [
        "import pandas as pd\n",
        "import numpy as np\n",
        "import matplotlib.pyplot as plt\n",
        "import seaborn as sns\n",
        "import re"
      ]
    },
    {
      "cell_type": "code",
      "execution_count": 885,
      "metadata": {},
      "outputs": [],
      "source": [
        "# 2020, 2021 데이터 합치기\n",
        "# 데이터 불러오기\n",
        "df_lst = []\n",
        "for i in range(1,11):\n",
        "    if i < 13:\n",
        "        if i < 10:\n",
        "            name = \"auction_20220\"+str(i)\n",
        "            df_name = \"auction_20220\"+str(i)\n",
        "        else:\n",
        "            name = \"auction_2022\"+str(i)\n",
        "            df_name = \"auction_2022\"+str(i)\n",
        "    name = pd.read_csv(\"/Users/luci031/Desktop/Coding/g_auction/data_origin/\"+df_name+\".csv\",encoding='euc_kr')\n",
        "    df_lst.append(name)\n",
        "\n",
        "    # 데이터 전처리\n",
        "for df in df_lst:\n",
        "    df.reset_index(inplace=True,drop=True)\n",
        "    if 'Unnamed: 0' in df.columns:\n",
        "        df.drop(columns=['Unnamed: 0'],inplace=True)\n",
        "\n",
        "# 모든 데이터 통합\n",
        "df = df_lst[0]\n",
        "for dfs in df_lst[1:]:\n",
        "    df = pd.concat([df,dfs])\n",
        "df.reset_index(inplace=True,drop=True)"
      ]
    },
    {
      "cell_type": "code",
      "execution_count": 886,
      "metadata": {
        "id": "N6-se2jYrHsw"
      },
      "outputs": [],
      "source": [
        "# 처리용 df와 오리지널 버전 남겨놓음\n",
        "# names = '2017'\n",
        "# address = \"/Users/luci031/Desktop/Coding/g_auction/data_origin/auction_\"+names+\".csv\"\n",
        "# df = pd.read_csv(address,encoding='euc_kr',sep=';')\n",
        "# org_df = pd.read_csv(address,encoding='euc_kr',sep=';')"
      ]
    },
    {
      "cell_type": "markdown",
      "metadata": {
        "id": "yINECbV-4eRb"
      },
      "source": [
        "# Pre-Processing"
      ]
    },
    {
      "cell_type": "code",
      "execution_count": 887,
      "metadata": {},
      "outputs": [
        {
          "data": {
            "text/html": [
              "<div>\n",
              "<style scoped>\n",
              "    .dataframe tbody tr th:only-of-type {\n",
              "        vertical-align: middle;\n",
              "    }\n",
              "\n",
              "    .dataframe tbody tr th {\n",
              "        vertical-align: top;\n",
              "    }\n",
              "\n",
              "    .dataframe thead th {\n",
              "        text-align: right;\n",
              "    }\n",
              "</style>\n",
              "<table border=\"1\" class=\"dataframe\">\n",
              "  <thead>\n",
              "    <tr style=\"text-align: right;\">\n",
              "      <th></th>\n",
              "      <th>품목명</th>\n",
              "      <th>단위</th>\n",
              "      <th>등급</th>\n",
              "      <th>가격</th>\n",
              "      <th>산지</th>\n",
              "      <th>친환경구분</th>\n",
              "      <th>입력일</th>\n",
              "    </tr>\n",
              "  </thead>\n",
              "  <tbody>\n",
              "    <tr>\n",
              "      <th>0</th>\n",
              "      <td>[감귤]감귤(기타)</td>\n",
              "      <td>5kg</td>\n",
              "      <td>4등</td>\n",
              "      <td>5000</td>\n",
              "      <td>제주</td>\n",
              "      <td>일반</td>\n",
              "      <td>20220103</td>\n",
              "    </tr>\n",
              "    <tr>\n",
              "      <th>1</th>\n",
              "      <td>[감귤]감귤(기타)</td>\n",
              "      <td>5kg</td>\n",
              "      <td>6등</td>\n",
              "      <td>4500</td>\n",
              "      <td>제주</td>\n",
              "      <td>일반</td>\n",
              "      <td>20220103</td>\n",
              "    </tr>\n",
              "    <tr>\n",
              "      <th>2</th>\n",
              "      <td>[감귤]감귤(기타)</td>\n",
              "      <td>5kg</td>\n",
              "      <td>상(2등)</td>\n",
              "      <td>7000</td>\n",
              "      <td>제주특별자치도 서귀</td>\n",
              "      <td>일반</td>\n",
              "      <td>20220103</td>\n",
              "    </tr>\n",
              "    <tr>\n",
              "      <th>3</th>\n",
              "      <td>[감귤]감귤(기타)</td>\n",
              "      <td>5kg</td>\n",
              "      <td>특(1등)</td>\n",
              "      <td>5000</td>\n",
              "      <td>제주 서귀포시</td>\n",
              "      <td>일반</td>\n",
              "      <td>20220103</td>\n",
              "    </tr>\n",
              "    <tr>\n",
              "      <th>4</th>\n",
              "      <td>[감귤]감귤(기타)</td>\n",
              "      <td>5kg</td>\n",
              "      <td>6등</td>\n",
              "      <td>4500</td>\n",
              "      <td>제주</td>\n",
              "      <td>일반</td>\n",
              "      <td>20220103</td>\n",
              "    </tr>\n",
              "    <tr>\n",
              "      <th>...</th>\n",
              "      <td>...</td>\n",
              "      <td>...</td>\n",
              "      <td>...</td>\n",
              "      <td>...</td>\n",
              "      <td>...</td>\n",
              "      <td>...</td>\n",
              "      <td>...</td>\n",
              "    </tr>\n",
              "    <tr>\n",
              "      <th>9644183</th>\n",
              "      <td>[홍합국산]홍합국산</td>\n",
              "      <td>10kg</td>\n",
              "      <td>보통(3등)</td>\n",
              "      <td>14750</td>\n",
              "      <td>전남 여수\\t</td>\n",
              "      <td>일반</td>\n",
              "      <td>20221031</td>\n",
              "    </tr>\n",
              "    <tr>\n",
              "      <th>9644184</th>\n",
              "      <td>[홍합국산]홍합국산</td>\n",
              "      <td>10kg</td>\n",
              "      <td>보통(3등)</td>\n",
              "      <td>15000</td>\n",
              "      <td>경남 마산(고성,진해)</td>\n",
              "      <td>일반</td>\n",
              "      <td>20221031</td>\n",
              "    </tr>\n",
              "    <tr>\n",
              "      <th>9644185</th>\n",
              "      <td>[홍합국산]홍합국산</td>\n",
              "      <td>10kg</td>\n",
              "      <td>보통(3등)</td>\n",
              "      <td>27000</td>\n",
              "      <td>경남 마산(고성,진해)</td>\n",
              "      <td>일반</td>\n",
              "      <td>20221031</td>\n",
              "    </tr>\n",
              "    <tr>\n",
              "      <th>9644186</th>\n",
              "      <td>[홍합국산]홍합국산</td>\n",
              "      <td>10kg</td>\n",
              "      <td>보통(3등)</td>\n",
              "      <td>14750</td>\n",
              "      <td>전남 여수\\t</td>\n",
              "      <td>일반</td>\n",
              "      <td>20221031</td>\n",
              "    </tr>\n",
              "    <tr>\n",
              "      <th>9644187</th>\n",
              "      <td>[홍합국산]홍합국산</td>\n",
              "      <td>10kg</td>\n",
              "      <td>보통(3등)</td>\n",
              "      <td>15000</td>\n",
              "      <td>경남 마산(고성,진해)</td>\n",
              "      <td>일반</td>\n",
              "      <td>20221031</td>\n",
              "    </tr>\n",
              "  </tbody>\n",
              "</table>\n",
              "<p>9644188 rows × 7 columns</p>\n",
              "</div>"
            ],
            "text/plain": [
              "                품목명    단위      등급     가격            산지 친환경구분       입력일\n",
              "0        [감귤]감귤(기타)   5kg      4등   5000            제주    일반  20220103\n",
              "1        [감귤]감귤(기타)   5kg      6등   4500            제주    일반  20220103\n",
              "2        [감귤]감귤(기타)   5kg   상(2등)   7000    제주특별자치도 서귀    일반  20220103\n",
              "3        [감귤]감귤(기타)   5kg   특(1등)   5000       제주 서귀포시    일반  20220103\n",
              "4        [감귤]감귤(기타)   5kg      6등   4500            제주    일반  20220103\n",
              "...             ...   ...     ...    ...           ...   ...       ...\n",
              "9644183  [홍합국산]홍합국산  10kg  보통(3등)  14750       전남 여수\\t    일반  20221031\n",
              "9644184  [홍합국산]홍합국산  10kg  보통(3등)  15000  경남 마산(고성,진해)    일반  20221031\n",
              "9644185  [홍합국산]홍합국산  10kg  보통(3등)  27000  경남 마산(고성,진해)    일반  20221031\n",
              "9644186  [홍합국산]홍합국산  10kg  보통(3등)  14750       전남 여수\\t    일반  20221031\n",
              "9644187  [홍합국산]홍합국산  10kg  보통(3등)  15000  경남 마산(고성,진해)    일반  20221031\n",
              "\n",
              "[9644188 rows x 7 columns]"
            ]
          },
          "execution_count": 887,
          "metadata": {},
          "output_type": "execute_result"
        }
      ],
      "source": [
        "df"
      ]
    },
    {
      "cell_type": "code",
      "execution_count": 888,
      "metadata": {
        "colab": {
          "base_uri": "https://localhost:8080/"
        },
        "id": "R3-Xng6M1om2",
        "outputId": "0071ee93-3ebe-436d-910b-aa30c7356468"
      },
      "outputs": [
        {
          "data": {
            "text/plain": [
              "품목명          0\n",
              "단위           0\n",
              "등급           0\n",
              "가격           0\n",
              "산지       14240\n",
              "친환경구분        0\n",
              "입력일          0\n",
              "dtype: int64"
            ]
          },
          "execution_count": 888,
          "metadata": {},
          "output_type": "execute_result"
        }
      ],
      "source": [
        "# 결측치 확인\n",
        "df.isnull().sum()"
      ]
    },
    {
      "cell_type": "markdown",
      "metadata": {
        "id": "KiwEMLgv-7KL"
      },
      "source": [
        "- 결측치 처리"
      ]
    },
    {
      "cell_type": "code",
      "execution_count": 889,
      "metadata": {
        "id": "y52OV6yt-60b"
      },
      "outputs": [],
      "source": [
        "# 결측치 제거\n",
        "df = df.dropna(axis=0)"
      ]
    },
    {
      "cell_type": "markdown",
      "metadata": {
        "id": "tWVdZUXv7njQ"
      },
      "source": [
        "- 영문명으로 전환"
      ]
    },
    {
      "cell_type": "code",
      "execution_count": 890,
      "metadata": {
        "id": "Cpc_wblh4oLI"
      },
      "outputs": [],
      "source": [
        "df = df.rename(columns = {'품목명':'prd',\n",
        "                          '단위':'scale','등급':'class',\n",
        "                          '가격':'price',\n",
        "                          '산지':'origin',\n",
        "                          '친환경구분':'eco',\n",
        "                          '입력일':'reg_date'})"
      ]
    },
    {
      "cell_type": "markdown",
      "metadata": {
        "id": "6raN15sn8XwE"
      },
      "source": [
        "## column 별 정보"
      ]
    },
    {
      "cell_type": "markdown",
      "metadata": {
        "id": "9blCj1BqBKl9"
      },
      "source": [
        "### class"
      ]
    },
    {
      "cell_type": "code",
      "execution_count": 891,
      "metadata": {
        "id": "Y9aTlhUSBfU9"
      },
      "outputs": [],
      "source": [
        "# 등급명 변환\n",
        "df111 = pd.DataFrame([['특(1등)', 1], ['상(2등)',2], ['보통(3등)',3], ['9등(등외)',9], ['없음',9], ['5등',5], ['4등',4], ['6등',6], ['7등',7],['8등',8]],columns=['class','new_class'])\n",
        "df2 = df.merge(df111)\n",
        "df2 = df2.drop(columns='class')"
      ]
    },
    {
      "cell_type": "code",
      "execution_count": 892,
      "metadata": {},
      "outputs": [
        {
          "data": {
            "text/plain": [
              "1    7769805\n",
              "2     975235\n",
              "9     423646\n",
              "3     378178\n",
              "5      38244\n",
              "4      32669\n",
              "6       8439\n",
              "7       2749\n",
              "8        983\n",
              "Name: new_class, dtype: int64"
            ]
          },
          "execution_count": 892,
          "metadata": {},
          "output_type": "execute_result"
        }
      ],
      "source": [
        "df2['new_class'].value_counts()"
      ]
    },
    {
      "cell_type": "markdown",
      "metadata": {
        "id": "6QhhnXfKWiQL"
      },
      "source": [
        "### eco"
      ]
    },
    {
      "cell_type": "code",
      "execution_count": 893,
      "metadata": {
        "id": "XPNdAWmbWWjy"
      },
      "outputs": [],
      "source": [
        "# 영문명으로 전환\n",
        "# 전환기 -> 유기농 재배로 전환중\n",
        "df2.loc[df2[\"eco\"]==\"일반\",\"eco\"] = \"normal\"\n",
        "df2.loc[df2[\"eco\"]==\"우수농산물\",\"eco\"] = \"good_prd\"\n",
        "df2.loc[df2[\"eco\"]==\"무농약\",\"eco\"] = \"ecofriendly\"\n",
        "df2.loc[df2[\"eco\"]==\"유기농\",\"eco\"] = \"organic\"\n",
        "df2.loc[df2[\"eco\"]==\"품질인증\",\"eco\"] = \"certified\"\n",
        "df2.loc[df2[\"eco\"]==\"전환기\",\"eco\"] = \"ing\"\n",
        "df2.loc[df2[\"eco\"]==\"저농약\",\"eco\"] = \"low\"\n",
        "df2.loc[df2[\"eco\"]==\"산지안전성\",\"eco\"] = \"safe\""
      ]
    },
    {
      "cell_type": "code",
      "execution_count": 894,
      "metadata": {},
      "outputs": [
        {
          "data": {
            "text/plain": [
              "normal         8216554\n",
              "good_prd        896677\n",
              "ecofriendly     396561\n",
              "certified        85824\n",
              "ing              17004\n",
              "organic           8835\n",
              "low               8493\n",
              "Name: eco, dtype: int64"
            ]
          },
          "execution_count": 894,
          "metadata": {},
          "output_type": "execute_result"
        }
      ],
      "source": [
        "df2['eco'].value_counts()"
      ]
    },
    {
      "cell_type": "markdown",
      "metadata": {
        "id": "ffhjwT57YNLh"
      },
      "source": [
        "### reg_date"
      ]
    },
    {
      "cell_type": "code",
      "execution_count": 895,
      "metadata": {
        "id": "0xEJoswCYUiR"
      },
      "outputs": [],
      "source": [
        "df2['reg_date'] = df2['reg_date'].astype('str')\n",
        "df2['reg_date'] = pd.to_datetime(df2['reg_date'].astype('str'),format='%Y%m%d')"
      ]
    },
    {
      "cell_type": "markdown",
      "metadata": {
        "id": "VN8Eana_Dbbl"
      },
      "source": [
        "### price"
      ]
    },
    {
      "cell_type": "code",
      "execution_count": 896,
      "metadata": {
        "id": "oZbejw0vewmJ"
      },
      "outputs": [],
      "source": [
        "# 계산을 위해 scale 값 미리 변경\n",
        "# 현재 값들은 string이므로 float 형태로 변환할 필요가 있음\n",
        "# 몇몇 이상치 처리도 진행\n",
        "def scale_checker(scale):\n",
        "  if scale.startswith('.')==True:\n",
        "    return format(float('0'+scale[:-2]),'.2f')\n",
        "  else:\n",
        "    return format(float((scale[:-2])),'.2f')\n",
        "df2['scale'] = df2['scale'].apply(scale_checker)\n",
        "df2['scale'] = df2['scale'].astype('float')\n",
        "# df2['scale'] = format(round(df2['scale'].apply(pd.to_numeric),2),'.2f')"
      ]
    },
    {
      "cell_type": "code",
      "execution_count": 897,
      "metadata": {},
      "outputs": [],
      "source": [
        "df2['price'] = pd.to_numeric(df2['price'])"
      ]
    },
    {
      "cell_type": "code",
      "execution_count": 898,
      "metadata": {},
      "outputs": [
        {
          "data": {
            "text/html": [
              "<div>\n",
              "<style scoped>\n",
              "    .dataframe tbody tr th:only-of-type {\n",
              "        vertical-align: middle;\n",
              "    }\n",
              "\n",
              "    .dataframe tbody tr th {\n",
              "        vertical-align: top;\n",
              "    }\n",
              "\n",
              "    .dataframe thead th {\n",
              "        text-align: right;\n",
              "    }\n",
              "</style>\n",
              "<table border=\"1\" class=\"dataframe\">\n",
              "  <thead>\n",
              "    <tr style=\"text-align: right;\">\n",
              "      <th></th>\n",
              "      <th>prd</th>\n",
              "      <th>scale</th>\n",
              "      <th>price</th>\n",
              "      <th>origin</th>\n",
              "      <th>eco</th>\n",
              "      <th>reg_date</th>\n",
              "      <th>new_class</th>\n",
              "    </tr>\n",
              "  </thead>\n",
              "  <tbody>\n",
              "  </tbody>\n",
              "</table>\n",
              "</div>"
            ],
            "text/plain": [
              "Empty DataFrame\n",
              "Columns: [prd, scale, price, origin, eco, reg_date, new_class]\n",
              "Index: []"
            ]
          },
          "execution_count": 898,
          "metadata": {},
          "output_type": "execute_result"
        }
      ],
      "source": [
        "df2[df2['price']<0]"
      ]
    },
    {
      "cell_type": "code",
      "execution_count": 899,
      "metadata": {
        "colab": {
          "base_uri": "https://localhost:8080/"
        },
        "id": "S_OXk_iDDaxM",
        "outputId": "df40b3b5-b8d5-4609-b1d1-d940826ff6bf"
      },
      "outputs": [
        {
          "data": {
            "text/plain": [
              "count    9629948.00000\n",
              "mean       22492.11791\n",
              "std        85709.59148\n",
              "min            0.00000\n",
              "25%         9000.00000\n",
              "50%        15000.00000\n",
              "75%        26500.00000\n",
              "max     99999999.00000\n",
              "Name: price, dtype: float64"
            ]
          },
          "execution_count": 899,
          "metadata": {},
          "output_type": "execute_result"
        }
      ],
      "source": [
        "# 1원짜리 거래 발견, 너무 거래값이 작은 값들은 삭제\n",
        "pd.options.display.float_format = '{:.5f}'.format\n",
        "df2['price'].describe()"
      ]
    },
    {
      "cell_type": "code",
      "execution_count": 900,
      "metadata": {
        "id": "PQrLwgHPVsHs"
      },
      "outputs": [],
      "source": [
        "df2 = df2.drop(df2[df2['price']<500].index)\n",
        "df2 = df2.drop(df2[df2['scale']==0].index)"
      ]
    },
    {
      "cell_type": "code",
      "execution_count": 901,
      "metadata": {
        "id": "13Js-KtTBZB5"
      },
      "outputs": [],
      "source": [
        "# kg 당 가격 생성\n",
        "df2['price_kg'] = round((df2['price']/df2['scale']),2)"
      ]
    },
    {
      "cell_type": "markdown",
      "metadata": {
        "id": "FJ4jjRUQ8cB3"
      },
      "source": [
        "### prd\n",
        "- 품목명 정리\n",
        "- 품목 종류 정리"
      ]
    },
    {
      "cell_type": "code",
      "execution_count": 902,
      "metadata": {},
      "outputs": [
        {
          "data": {
            "text/plain": [
              "count    9623537.00000\n",
              "mean        4323.13788\n",
              "std        23577.69666\n",
              "min            1.00000\n",
              "25%         1650.00000\n",
              "50%         2900.00000\n",
              "75%         5200.00000\n",
              "max     49999999.50000\n",
              "Name: price_kg, dtype: float64"
            ]
          },
          "execution_count": 902,
          "metadata": {},
          "output_type": "execute_result"
        }
      ],
      "source": [
        "df2['price_kg'].describe()"
      ]
    },
    {
      "cell_type": "code",
      "execution_count": 903,
      "metadata": {
        "colab": {
          "base_uri": "https://localhost:8080/"
        },
        "id": "pymqNuDt8qqS",
        "outputId": "1506a365-b491-4b16-f40f-4d63980bc22f"
      },
      "outputs": [
        {
          "data": {
            "text/plain": [
              "[오이]백다다기            285265\n",
              "[참외]참외              232587\n",
              "[깻잎]깻잎              206628\n",
              "[호박]애호박             203596\n",
              "[딸기]설향              188415\n",
              "                     ...  \n",
              "[바나나(수입)]바나나(몽키)         1\n",
              "[참돔국산]참돔국산               1\n",
              "[대추]선추(대추)               1\n",
              "[민어국산]민어국산               1\n",
              "[건고추]건고추(수입)             1\n",
              "Name: prd, Length: 2849, dtype: int64"
            ]
          },
          "execution_count": 903,
          "metadata": {},
          "output_type": "execute_result"
        }
      ],
      "source": [
        "# 대부분 [상품 종류]상품명 으로 정리되어 있는걸 알 수 있음\n",
        "df2['prd'].value_counts()"
      ]
    },
    {
      "cell_type": "code",
      "execution_count": 904,
      "metadata": {
        "id": "EKmhi36getHp"
      },
      "outputs": [],
      "source": [
        "# 정리를 위해 상품명 삭제\n",
        "def prd_sort(words):\n",
        "  p = re.compile('[ㄱ-힣]+')\n",
        "  word = re.search(p,words)\n",
        "  return word.group()\n",
        "\n",
        "df2['prd'] = df2['prd'].apply(prd_sort)"
      ]
    },
    {
      "cell_type": "code",
      "execution_count": 905,
      "metadata": {
        "id": "mlsCXSXMekGg"
      },
      "outputs": [],
      "source": [
        "# 기타 품목 삭제\n",
        "df2 = df2.drop(df2[df2['prd']=='기타'].index)"
      ]
    },
    {
      "cell_type": "code",
      "execution_count": 906,
      "metadata": {
        "id": "fZ8b4ETrDv5n"
      },
      "outputs": [],
      "source": [
        "# 국산,수입산,깐,기타 삭제\n",
        "def prd_sort2(words):\n",
        "  p = re.compile('[^국산수입깐기타]+')\n",
        "  word = re.search(p,str(words))\n",
        "  return word.group()\n",
        "\n",
        "df2[\"prd\"] = df2[\"prd\"].apply(prd_sort2)\n"
      ]
    },
    {
      "cell_type": "code",
      "execution_count": 907,
      "metadata": {
        "id": "gbBBjoDqIjR1"
      },
      "outputs": [],
      "source": [
        "# 무우 -> 무로 통합\n",
        "df2.loc[df2[\"prd\"]==\"무우\",\"prd\"] = \"무\"\n",
        "#각굴 -> 굴로 통합\n",
        "df2.loc[df2[\"prd\"]==\"각굴\",\"prd\"] = \"굴\"\n",
        "df2.loc[df2[\"prd\"]==\"봉지굴\",\"prd\"] = \"굴\""
      ]
    },
    {
      "cell_type": "code",
      "execution_count": 908,
      "metadata": {},
      "outputs": [],
      "source": [
        "# 김장 품목 선택\n",
        "df2 = df2[(df2['prd']=='굴') | \n",
        "    (df2['prd']=='생강') | \n",
        "    (df2['prd']=='마늘') | \n",
        "    (df2['prd']=='양파') | \n",
        "    (df2['prd']=='사과') | \n",
        "    (df2['prd']=='배') | \n",
        "    (df2['prd']=='배추') | \n",
        "    (df2['prd']=='총각무') | \n",
        "    (df2['prd']=='쪽파') | \n",
        "    (df2['prd']=='갓') | \n",
        "    (df2['prd']=='미나리')]"
      ]
    },
    {
      "cell_type": "code",
      "execution_count": 909,
      "metadata": {},
      "outputs": [
        {
          "data": {
            "text/plain": [
              "사과     204315\n",
              "배추     189478\n",
              "양파     123323\n",
              "배       82337\n",
              "미나리     54308\n",
              "마늘      45827\n",
              "쪽파      40456\n",
              "굴       14345\n",
              "갓        8061\n",
              "생강       6708\n",
              "총각무      1394\n",
              "Name: prd, dtype: int64"
            ]
          },
          "execution_count": 909,
          "metadata": {},
          "output_type": "execute_result"
        }
      ],
      "source": [
        "df2['prd'].value_counts()"
      ]
    },
    {
      "cell_type": "code",
      "execution_count": 910,
      "metadata": {
        "colab": {
          "base_uri": "https://localhost:8080/"
        },
        "id": "WZfTHQDe-jTG",
        "outputId": "7e713769-2413-4b10-db9d-348498e24708"
      },
      "outputs": [],
      "source": [
        "df3 = df2"
      ]
    },
    {
      "cell_type": "markdown",
      "metadata": {
        "id": "jPcICeSResYh"
      },
      "source": [
        "### scale"
      ]
    },
    {
      "cell_type": "code",
      "execution_count": 911,
      "metadata": {
        "colab": {
          "base_uri": "https://localhost:8080/"
        },
        "id": "4KZLpXuYYTZx",
        "outputId": "f59c1146-fdb9-4483-81a3-a0f51dd08904"
      },
      "outputs": [
        {
          "data": {
            "text/plain": [
              "array([  20.  ,   15.  ,   10.  ,    8.  ,   12.  ,    5.  ,    3.  ,\n",
              "          4.  ,    2.  ,    6.  ,    2.5 ,    0.2 ,    1.  ,    7.5 ,\n",
              "         18.  ,    1.6 ,  107.1 ,   11.  ,   17.  ,   14.  ,    2.6 ,\n",
              "         13.  ,    2.2 ,    4.5 ,    6.5 ,    4.2 ,    5.8 ,    9.  ,\n",
              "          4.7 ,    8.1 ,    8.2 ,    0.5 ,    3.2 ,    4.8 ,   15.01,\n",
              "        142.  ,   19.  ,    2.7 ,    0.3 ,    1.2 ,    1.5 ,   25.  ,\n",
              "         30.  ,    0.25,    1.8 ,    1.3 ,   32.  ,   26.  ,    0.7 ,\n",
              "         35.  ,    0.4 ,   28.  ,   21.  ,    3.5 ,   23.  ,    7.  ,\n",
              "         27.  ,   16.  ,   24.  ,   51.  ,    0.9 ,    3.7 ,    0.8 ,\n",
              "          0.6 ,    5.5 ,    3.6 ,   10.01,   22.  ,    3.8 ,   15.03,\n",
              "         15.02,   29.  ,    2.8 ,    7.4 ,    6.2 , 1000.  ,    5.3 ,\n",
              "          5.2 ,    1.1 ,    2.3 ,    6.1 ,    9.2 ,    1.4 ,    1.32,\n",
              "          6.4 ,    2.4 ,    9.6 ,    8.3 ,    0.1 ,    8.5 ,    9.5 ,\n",
              "          7.6 ,    0.46,  155.  ,    4.1 ,   63.  ,    5.6 ])"
            ]
          },
          "execution_count": 911,
          "metadata": {},
          "output_type": "execute_result"
        }
      ],
      "source": [
        "np.set_printoptions(precision=2, suppress=True)\n",
        "df3['scale'].unique()"
      ]
    },
    {
      "cell_type": "code",
      "execution_count": 912,
      "metadata": {},
      "outputs": [
        {
          "data": {
            "text/html": [
              "<div>\n",
              "<style scoped>\n",
              "    .dataframe tbody tr th:only-of-type {\n",
              "        vertical-align: middle;\n",
              "    }\n",
              "\n",
              "    .dataframe tbody tr th {\n",
              "        vertical-align: top;\n",
              "    }\n",
              "\n",
              "    .dataframe thead th {\n",
              "        text-align: right;\n",
              "    }\n",
              "</style>\n",
              "<table border=\"1\" class=\"dataframe\">\n",
              "  <thead>\n",
              "    <tr style=\"text-align: right;\">\n",
              "      <th></th>\n",
              "      <th>prd</th>\n",
              "      <th>scale</th>\n",
              "      <th>price</th>\n",
              "      <th>origin</th>\n",
              "      <th>eco</th>\n",
              "      <th>reg_date</th>\n",
              "      <th>new_class</th>\n",
              "      <th>price_kg</th>\n",
              "    </tr>\n",
              "  </thead>\n",
              "  <tbody>\n",
              "    <tr>\n",
              "      <th>78984</th>\n",
              "      <td>배</td>\n",
              "      <td>107.10000</td>\n",
              "      <td>37000</td>\n",
              "      <td>경기 안성시</td>\n",
              "      <td>normal</td>\n",
              "      <td>2022-01-19</td>\n",
              "      <td>2</td>\n",
              "      <td>345.47000</td>\n",
              "    </tr>\n",
              "    <tr>\n",
              "      <th>990129</th>\n",
              "      <td>배추</td>\n",
              "      <td>142.00000</td>\n",
              "      <td>3600</td>\n",
              "      <td>경기도 평택시</td>\n",
              "      <td>normal</td>\n",
              "      <td>2022-10-22</td>\n",
              "      <td>2</td>\n",
              "      <td>25.35000</td>\n",
              "    </tr>\n",
              "    <tr>\n",
              "      <th>990130</th>\n",
              "      <td>배추</td>\n",
              "      <td>142.00000</td>\n",
              "      <td>3060</td>\n",
              "      <td>경기도 평택시</td>\n",
              "      <td>normal</td>\n",
              "      <td>2022-10-22</td>\n",
              "      <td>2</td>\n",
              "      <td>21.55000</td>\n",
              "    </tr>\n",
              "    <tr>\n",
              "      <th>1377973</th>\n",
              "      <td>사과</td>\n",
              "      <td>51.00000</td>\n",
              "      <td>24000</td>\n",
              "      <td>충남 서산시</td>\n",
              "      <td>normal</td>\n",
              "      <td>2022-01-18</td>\n",
              "      <td>1</td>\n",
              "      <td>470.59000</td>\n",
              "    </tr>\n",
              "    <tr>\n",
              "      <th>1377981</th>\n",
              "      <td>사과</td>\n",
              "      <td>51.00000</td>\n",
              "      <td>17000</td>\n",
              "      <td>충남 서산시</td>\n",
              "      <td>normal</td>\n",
              "      <td>2022-01-18</td>\n",
              "      <td>1</td>\n",
              "      <td>333.33000</td>\n",
              "    </tr>\n",
              "    <tr>\n",
              "      <th>1377982</th>\n",
              "      <td>사과</td>\n",
              "      <td>51.00000</td>\n",
              "      <td>24000</td>\n",
              "      <td>충남 서산시</td>\n",
              "      <td>normal</td>\n",
              "      <td>2022-01-18</td>\n",
              "      <td>1</td>\n",
              "      <td>470.59000</td>\n",
              "    </tr>\n",
              "    <tr>\n",
              "      <th>1377983</th>\n",
              "      <td>사과</td>\n",
              "      <td>51.00000</td>\n",
              "      <td>17000</td>\n",
              "      <td>충남 서산시</td>\n",
              "      <td>normal</td>\n",
              "      <td>2022-01-18</td>\n",
              "      <td>1</td>\n",
              "      <td>333.33000</td>\n",
              "    </tr>\n",
              "    <tr>\n",
              "      <th>5160035</th>\n",
              "      <td>양파</td>\n",
              "      <td>1000.00000</td>\n",
              "      <td>800000</td>\n",
              "      <td>경북 김천시</td>\n",
              "      <td>normal</td>\n",
              "      <td>2022-06-18</td>\n",
              "      <td>1</td>\n",
              "      <td>800.00000</td>\n",
              "    </tr>\n",
              "    <tr>\n",
              "      <th>5403841</th>\n",
              "      <td>양파</td>\n",
              "      <td>1000.00000</td>\n",
              "      <td>800000</td>\n",
              "      <td>경북 김천시</td>\n",
              "      <td>normal</td>\n",
              "      <td>2022-06-27</td>\n",
              "      <td>1</td>\n",
              "      <td>800.00000</td>\n",
              "    </tr>\n",
              "    <tr>\n",
              "      <th>8560362</th>\n",
              "      <td>배추</td>\n",
              "      <td>142.00000</td>\n",
              "      <td>6000</td>\n",
              "      <td>경기도 평택시</td>\n",
              "      <td>normal</td>\n",
              "      <td>2022-10-22</td>\n",
              "      <td>1</td>\n",
              "      <td>42.25000</td>\n",
              "    </tr>\n",
              "    <tr>\n",
              "      <th>8560363</th>\n",
              "      <td>배추</td>\n",
              "      <td>142.00000</td>\n",
              "      <td>5100</td>\n",
              "      <td>경기도 평택시</td>\n",
              "      <td>normal</td>\n",
              "      <td>2022-10-22</td>\n",
              "      <td>1</td>\n",
              "      <td>35.92000</td>\n",
              "    </tr>\n",
              "    <tr>\n",
              "      <th>8560364</th>\n",
              "      <td>배추</td>\n",
              "      <td>142.00000</td>\n",
              "      <td>2550</td>\n",
              "      <td>경기도 평택시</td>\n",
              "      <td>normal</td>\n",
              "      <td>2022-10-22</td>\n",
              "      <td>1</td>\n",
              "      <td>17.96000</td>\n",
              "    </tr>\n",
              "    <tr>\n",
              "      <th>8560365</th>\n",
              "      <td>배추</td>\n",
              "      <td>142.00000</td>\n",
              "      <td>3000</td>\n",
              "      <td>경기도 평택시</td>\n",
              "      <td>normal</td>\n",
              "      <td>2022-10-22</td>\n",
              "      <td>1</td>\n",
              "      <td>21.13000</td>\n",
              "    </tr>\n",
              "    <tr>\n",
              "      <th>8795146</th>\n",
              "      <td>배</td>\n",
              "      <td>155.00000</td>\n",
              "      <td>30000</td>\n",
              "      <td>경기 안성시</td>\n",
              "      <td>normal</td>\n",
              "      <td>2022-01-07</td>\n",
              "      <td>3</td>\n",
              "      <td>193.55000</td>\n",
              "    </tr>\n",
              "    <tr>\n",
              "      <th>8795149</th>\n",
              "      <td>배</td>\n",
              "      <td>155.00000</td>\n",
              "      <td>25000</td>\n",
              "      <td>경기 안성시</td>\n",
              "      <td>normal</td>\n",
              "      <td>2022-01-07</td>\n",
              "      <td>3</td>\n",
              "      <td>161.29000</td>\n",
              "    </tr>\n",
              "    <tr>\n",
              "      <th>9127502</th>\n",
              "      <td>사과</td>\n",
              "      <td>63.00000</td>\n",
              "      <td>20000</td>\n",
              "      <td>경북 상주시</td>\n",
              "      <td>normal</td>\n",
              "      <td>2022-09-29</td>\n",
              "      <td>3</td>\n",
              "      <td>317.46000</td>\n",
              "    </tr>\n",
              "    <tr>\n",
              "      <th>9127503</th>\n",
              "      <td>사과</td>\n",
              "      <td>63.00000</td>\n",
              "      <td>21000</td>\n",
              "      <td>경북 상주시</td>\n",
              "      <td>normal</td>\n",
              "      <td>2022-09-29</td>\n",
              "      <td>3</td>\n",
              "      <td>333.33000</td>\n",
              "    </tr>\n",
              "    <tr>\n",
              "      <th>9127504</th>\n",
              "      <td>사과</td>\n",
              "      <td>63.00000</td>\n",
              "      <td>18000</td>\n",
              "      <td>경북 상주시</td>\n",
              "      <td>normal</td>\n",
              "      <td>2022-09-29</td>\n",
              "      <td>3</td>\n",
              "      <td>285.71000</td>\n",
              "    </tr>\n",
              "  </tbody>\n",
              "</table>\n",
              "</div>"
            ],
            "text/plain": [
              "        prd      scale   price   origin     eco   reg_date  new_class  \\\n",
              "78984     배  107.10000   37000   경기 안성시  normal 2022-01-19          2   \n",
              "990129   배추  142.00000    3600  경기도 평택시  normal 2022-10-22          2   \n",
              "990130   배추  142.00000    3060  경기도 평택시  normal 2022-10-22          2   \n",
              "1377973  사과   51.00000   24000   충남 서산시  normal 2022-01-18          1   \n",
              "1377981  사과   51.00000   17000   충남 서산시  normal 2022-01-18          1   \n",
              "1377982  사과   51.00000   24000   충남 서산시  normal 2022-01-18          1   \n",
              "1377983  사과   51.00000   17000   충남 서산시  normal 2022-01-18          1   \n",
              "5160035  양파 1000.00000  800000   경북 김천시  normal 2022-06-18          1   \n",
              "5403841  양파 1000.00000  800000   경북 김천시  normal 2022-06-27          1   \n",
              "8560362  배추  142.00000    6000  경기도 평택시  normal 2022-10-22          1   \n",
              "8560363  배추  142.00000    5100  경기도 평택시  normal 2022-10-22          1   \n",
              "8560364  배추  142.00000    2550  경기도 평택시  normal 2022-10-22          1   \n",
              "8560365  배추  142.00000    3000  경기도 평택시  normal 2022-10-22          1   \n",
              "8795146   배  155.00000   30000   경기 안성시  normal 2022-01-07          3   \n",
              "8795149   배  155.00000   25000   경기 안성시  normal 2022-01-07          3   \n",
              "9127502  사과   63.00000   20000   경북 상주시  normal 2022-09-29          3   \n",
              "9127503  사과   63.00000   21000   경북 상주시  normal 2022-09-29          3   \n",
              "9127504  사과   63.00000   18000   경북 상주시  normal 2022-09-29          3   \n",
              "\n",
              "         price_kg  \n",
              "78984   345.47000  \n",
              "990129   25.35000  \n",
              "990130   21.55000  \n",
              "1377973 470.59000  \n",
              "1377981 333.33000  \n",
              "1377982 470.59000  \n",
              "1377983 333.33000  \n",
              "5160035 800.00000  \n",
              "5403841 800.00000  \n",
              "8560362  42.25000  \n",
              "8560363  35.92000  \n",
              "8560364  17.96000  \n",
              "8560365  21.13000  \n",
              "8795146 193.55000  \n",
              "8795149 161.29000  \n",
              "9127502 317.46000  \n",
              "9127503 333.33000  \n",
              "9127504 285.71000  "
            ]
          },
          "execution_count": 912,
          "metadata": {},
          "output_type": "execute_result"
        }
      ],
      "source": [
        "df3[df3['scale']>=50]"
      ]
    },
    {
      "cell_type": "code",
      "execution_count": 913,
      "metadata": {
        "colab": {
          "base_uri": "https://localhost:8080/",
          "height": 1000
        },
        "id": "-43K_jyN92IZ",
        "outputId": "7b3e92a5-a0eb-4b09-bc6c-36948c74b860"
      },
      "outputs": [
        {
          "data": {
            "text/plain": [
              "array(['배', '배추', '사과', '양파'], dtype=object)"
            ]
          },
          "execution_count": 913,
          "metadata": {},
          "output_type": "execute_result"
        }
      ],
      "source": [
        "# 50kg 이상 거래된 건들 이상치라 판단하고 확인 진행\n",
        "df3[df3['scale']>=50]['prd'].unique()"
      ]
    },
    {
      "cell_type": "code",
      "execution_count": 856,
      "metadata": {},
      "outputs": [
        {
          "data": {
            "text/plain": [
              "count   137685.00000\n",
              "mean      1304.96790\n",
              "std       2785.24340\n",
              "min         41.67000\n",
              "25%        650.00000\n",
              "50%       1112.50000\n",
              "75%       1650.00000\n",
              "max     625675.00000\n",
              "Name: price_kg, dtype: float64"
            ]
          },
          "execution_count": 856,
          "metadata": {},
          "output_type": "execute_result"
        }
      ],
      "source": [
        "df3[df3['prd']=='배추']['price_kg'].describe()"
      ]
    },
    {
      "cell_type": "code",
      "execution_count": 914,
      "metadata": {
        "id": "v1EZDKB59dJp"
      },
      "outputs": [],
      "source": [
        "# 스케일 오표기된 항목 수정\n",
        "# 양파,호박 정상 거래\n",
        "# 이상치 항목 삭제\n",
        "df3 = df3.drop(df3[(df3['scale']>=50)&(df3['prd']!='양파')].index)\n",
        "# df3[(df3['prd']=='바나나')&(df3['scale']>=10)]\n"
      ]
    },
    {
      "cell_type": "code",
      "execution_count": 915,
      "metadata": {},
      "outputs": [
        {
          "data": {
            "text/html": [
              "<div>\n",
              "<style scoped>\n",
              "    .dataframe tbody tr th:only-of-type {\n",
              "        vertical-align: middle;\n",
              "    }\n",
              "\n",
              "    .dataframe tbody tr th {\n",
              "        vertical-align: top;\n",
              "    }\n",
              "\n",
              "    .dataframe thead th {\n",
              "        text-align: right;\n",
              "    }\n",
              "</style>\n",
              "<table border=\"1\" class=\"dataframe\">\n",
              "  <thead>\n",
              "    <tr style=\"text-align: right;\">\n",
              "      <th></th>\n",
              "      <th>prd</th>\n",
              "      <th>scale</th>\n",
              "      <th>price</th>\n",
              "      <th>origin</th>\n",
              "      <th>eco</th>\n",
              "      <th>reg_date</th>\n",
              "      <th>new_class</th>\n",
              "      <th>price_kg</th>\n",
              "    </tr>\n",
              "  </thead>\n",
              "  <tbody>\n",
              "    <tr>\n",
              "      <th>5160035</th>\n",
              "      <td>양파</td>\n",
              "      <td>1000.00000</td>\n",
              "      <td>800000</td>\n",
              "      <td>경북 김천시</td>\n",
              "      <td>normal</td>\n",
              "      <td>2022-06-18</td>\n",
              "      <td>1</td>\n",
              "      <td>800.00000</td>\n",
              "    </tr>\n",
              "    <tr>\n",
              "      <th>5403841</th>\n",
              "      <td>양파</td>\n",
              "      <td>1000.00000</td>\n",
              "      <td>800000</td>\n",
              "      <td>경북 김천시</td>\n",
              "      <td>normal</td>\n",
              "      <td>2022-06-27</td>\n",
              "      <td>1</td>\n",
              "      <td>800.00000</td>\n",
              "    </tr>\n",
              "  </tbody>\n",
              "</table>\n",
              "</div>"
            ],
            "text/plain": [
              "        prd      scale   price  origin     eco   reg_date  new_class  price_kg\n",
              "5160035  양파 1000.00000  800000  경북 김천시  normal 2022-06-18          1 800.00000\n",
              "5403841  양파 1000.00000  800000  경북 김천시  normal 2022-06-27          1 800.00000"
            ]
          },
          "execution_count": 915,
          "metadata": {},
          "output_type": "execute_result"
        }
      ],
      "source": [
        "df3[df3['scale']>=50]"
      ]
    },
    {
      "cell_type": "markdown",
      "metadata": {
        "id": "5I9D6wZCWDhi"
      },
      "source": [
        "### origin"
      ]
    },
    {
      "cell_type": "code",
      "execution_count": 916,
      "metadata": {
        "colab": {
          "base_uri": "https://localhost:8080/"
        },
        "id": "pI0Ezwn-VgXP",
        "outputId": "8d8f9387-01cb-4c3a-a3c9-e521b970aafb"
      },
      "outputs": [
        {
          "data": {
            "text/plain": [
              "array(['전남 무안군', '전북 임실군', '전남 영암군', '경북', '전남 해남군', '전남 함평군', '전남 신안군',\n",
              "       '충남 태안군', '전남 진도군', '전남 나주시', '제주', '제주 서귀포시(2)', '경기 안성시',\n",
              "       '전남 고흥군', '충남 당진시', '강원 평창군', '경기 이천시', '충남 예산군', '강원 홍천군',\n",
              "       '전북 완주군', '경남 함양군', '강원 인제군', '충남 홍성군', '충남 서산시', '경기 화성시',\n",
              "       '전북 김제시', '전북 부안군', '강원 정선군', '경남 창녕군', '대구 남구', '강원 태백시',\n",
              "       '충남 천안시', '경북 구미시', '경북 경산시', '경북 영양군', '경북 영천시', '경남 합천군',\n",
              "       '경기 여주시 가남읍', '경기 이천시 장호원읍', '경기 평택시', '경기 안성시 서운면', '경기 여주군',\n",
              "       '충남 아산시', '경기도 남양주시', '충남', '경기도 평택시', '경기 여주시', '충북 진천군',\n",
              "       '경북 영덕군', '광주 서구', '충북 음성군', '충북 보은군', '경북 청송군', '경북 봉화군',\n",
              "       '경북 의성군', '대구 달성군', '경북 영주시', '경북 김천시', '전남/고흥군', '충남 부여군',\n",
              "       '경기 남양주시', '충남 연기군', '충북 충주시', '경북 안동시', '경남 거창군', '전북', '경북 고령군',\n",
              "       '충북 영동군', '충북', '경기', '경기 평택시 현덕면', '전북 무주군', '전북 고창군', '경기도 안성시',\n",
              "       '경기 김포시', '경북 상주시', '경기 구리시', '전남 완도군', '전남 장흥군', '충북 단양군',\n",
              "       '전북 장수군', '제주 북제주군', '충북 제천시', '경기 평택시 안중읍', '경북 문경시 가은읍',\n",
              "       '경기도 김포시', '전남', '제주 서귀포시', '강원 횡성군', '대구 동구', '경기 평택시 고덕면',\n",
              "       '세종 특별자치시', '전남 보성군', '광주 남구', '경기도 파주시', '서울 송파구', '경북 영주시 부석면',\n",
              "       '강원 양구군', '경기 포천시', '경북 청도군', '대구 북구', '경북 문경시', '충남 공주시',\n",
              "       '경남 산청군', '경북 안동시 길안면', '경남 밀양시 무안면', '경기도 양평군', '전남 나주시 반남면',\n",
              "       '서울 강동구', '대구시 동구', '광주 광산구', '경기 용인시', '경북 예천군', '제주 제주시',\n",
              "       '경남 의령군', '경북 군위군', '제주 남제주군', '충남 아산시 신창면', '충남 서천군', '경기 성남시',\n",
              "       '충남 논산시', '경기 오산시', '충남 천안시 서북구', '경기 양평군', '제주 서귀포', '경기 하남시',\n",
              "       '강원 철원군', '경기 고양시', '제주도 제주시', '인천 서구', '경기 광주시', '경남 함안군',\n",
              "       '대구시 달성군', '전남 곡성군', '충북 괴산군', '경북 울진군', '강원도 평창군', '충남 아산시 도고면',\n",
              "       '전남 해남군 북평면', '충남 태안군 원북면', '경남 남해군', '충북청주시상당구', '경북 문경시 농암면',\n",
              "       '충북 청원군 미원면', '충남 아산시 배방읍', '충북 청주시', '경북 칠곡군', '전북 정읍시', '강원 영월군',\n",
              "       '충북 청주시 없음', '경기 연천군', '서울', '충남 아산시 염치읍', '경기도 연천군', '경기 평택시 서탄면',\n",
              "       '청주시 상당구', '경기도 여주군', '강원 삼척시', '경남 밀양시', '충청남도 아산시', '서울시 강서구',\n",
              "       '강원도 화천군', '경기 파주시', '경북 청도군 각남면', '강원 춘천시', '강원도 횡성군', '강원도 영월군',\n",
              "       '강원도 영월', '충남 청양군', '강원 화천군', '충북 제천시 금성면', '경북 성주군', '강원도 춘천',\n",
              "       '강원 횡성군 안흥면', '전북 남원시', '충남 서산시 부석면', '강원도 평창', '대구시 중구',\n",
              "       '충남 서산시 대산읍', '강원도 횡성', '강원도 정선군', '강원도 양양군', '강원 태백시 황지동',\n",
              "       '충남 보령시', '서울 마포구', '서울 중랑구', '강원도 태백시', '강원 강릉시', '강원 삼척시 가곡면',\n",
              "       '강원 평창군 대관령면', '충북 옥천군', '경북 영주시 안정면', '충남 태안군 남면', '강원도 삼척시',\n",
              "       '강원도 삼척', '강원 고성군', '강원 강릉시 왕산면', '강원도 강릉시', '강원', '전남 구례군',\n",
              "       '경북 영주시 단산면', '강원도 홍천군', '전남 목포시', '세종 세종시', '경기 안양시', '경기 가평군',\n",
              "       '세종특별자치시', '경기 양주시 장흥면', '강원도 강릉', '경남', '강원도 태백', '경남 하동군',\n",
              "       '전라북도 장수군', '서울 도봉구', '강원 평창군 봉평면', '강원 정선군 임계면', '전남 나주시 봉황면',\n",
              "       '전북 익산시', '전남 보성군 회천면', '전북 진안군', '강원도 홍천', '전남 나주시 공산면',\n",
              "       '경남 하동군 고전면', '경기도 여주시 점동면', '강원도 인제군', '충북 충주시 가금면', '경기도 포천군',\n",
              "       '충남 금산군', '전라북도 남원시', '강원도 철원군', '경기 연천군 장남면', '대구 중구', '강원도 철원',\n",
              "       '경남/남해군', '강원도 춘천시', '경북 상주시 공검면', '경상북도 영주시', '경남 고성군', '전남 순천시',\n",
              "       '전북 전주시', '경남 양산시', '부산 강서구', '부산 기장군', '울산 울주군', '전주시 완산구',\n",
              "       '전남 나주시 노안면', '경기 이천시 설성면', '경북 포항시', '경기 양주시', '부산시 강서구',\n",
              "       '경남 창원시', '중국', '서울 은평구', '수입산 중국', '대구', '경북 영천시 고경면', '경남 진주시',\n",
              "       '경북/문경시', '경기 고양시 덕양구', '경북 경주시', '전북 순창군', '광주시 광산구', '서울 중구',\n",
              "       '전주시 덕진구', '경기도 고양시', '인천 강화군', '수원시 권선구', '경남 창원시 의창구',\n",
              "       '경기 여주시 가남면', '경기 수원시', '전남 광양시 다압면', '충남 서산시 팔봉면', '경북 영주시 순흥면',\n",
              "       '전북 익산시 망성면', '경기 안성시 고삼면', '충남 천안시 풍세면', '전북 익산시 여산면',\n",
              "       '충북 충주시 산척면', '충남 예산군 오가면', '가락동', '경남 김해시', '제주도 서귀포시', '경기 포천군',\n",
              "       '광주시 남구', '경남 밀양시 청도면', '경남 밀양시 단장면', '전남 해남군 산이면', '제주시 한경면',\n",
              "       '성남시 중원구', '경기 고양시덕양구', '전북 김제시 금산면', '전남 나주시 산포면', '인천 남동구',\n",
              "       '충남 아산시 음봉면', '전남 영광군', '경남/합천군', '전북 김제시 황산면', '경기도 안성',\n",
              "       '전북 정읍시 감곡면', '경기 안산시', '경기 시흥시', '전북 고창군 고창읍', '전남 여수시',\n",
              "       '전남 여수시 돌산읍', '제주 남제주', '경기도 부천시', '경기 부천시오정구', '경기 부천시', '전남 담양군',\n",
              "       '충남 논산시 양촌면', '전남 순천시 해룡면', '부천시 오정구', '서귀포시 대정읍', '제주 제주시(2)',\n",
              "       '강원 홍천군 내면', '경남 사천시 사천읍', '경기 광명시', '경기 의정부시', '경기 양주군', '제주시 한경',\n",
              "       '강원 양양군', '전남 강진군', '제주 서귀포시 대정읍', '제주/서귀포', '경기 양평군 양동면',\n",
              "       '전남 화순군', '전라남도 장성군', '인천시 계양구', '서울 강서구', '서울시 은평구', '전남 장성군',\n",
              "       '경기 고양시 일산', '서울 동대문구', '전남 광양시', '경기 고양시일산구', '충남 공주시 계룡면',\n",
              "       '경기 이천시 대월면', '경남 밀양시 상동면', '성남시 분당구', '서울 구로구', '경기 여주시 북내면',\n",
              "       '광주 북구', '경남 밀양시 부북면', '전남 해남군 옥천면', '대구시 서구', '충남 태안군 고남면',\n",
              "       '경북 안동시 남후면', '경기 여주시 여주읍', '경기 고양시 일산동구', '전남 무안군 망운면',\n",
              "       '경북 청도군 각북면', '강원 횡성군 둔내면', '강원 원주시', '세종', '충남 서산시 고북면',\n",
              "       '전북 정읍시 북면', '충남/아산시', '경기도 광명시', '충청남도 논산시', '강원 삼척시 원덕읍',\n",
              "       '경북 상주시 공성면', '서울 용산구', '경북 안동시 북후면', '충북 옥천군 청산면', '경남 진주시 금곡면',\n",
              "       '경기도 시흥시', '경기 안성시 일죽면', '경남 사천시', '서울시 양천구', '서울 영등포구', '부천시 소사구',\n",
              "       '서울시 중랑구', '전남 여수시 남면', '경기도 여주시 능서면', '충남 당진시 송악면', '경기 연천군 신서면',\n",
              "       '경기 화성시 향남읍', '경기도 이천시', '강원도 화천', '경기도 고양', '전라남도 여', '광주광역시',\n",
              "       '경상북도 영', '서울특별시 은평구', '전라남도 여수시', '광주광역시 광산구', '대전 유성구',\n",
              "       '경상북도 김천시', '충청남도 천안시', '경기도 포천시', '충남/홍성군', '충남 서산시 음암면', '인천',\n",
              "       '경북 영주시 문수면', '경남 통영\\t', '경남 마산(고성,진해)', '국내산\\t', '경남 남해\\t',\n",
              "       '전남 고흥(나로도)\\t', '전남 여수\\t', '경남 삼천포\\t', '전북 군산\\t', '수입 중국\\t',\n",
              "       '충남 서산\\t', '전라남도 무안군', '전라북도 완주군', '전라남도 함', '전라남도 진', '강원도 양구',\n",
              "       '인천시 강화군', '대전 서구', '이시원', '강원도 정선', '전라남도 무', '경상북도 안', '경상남도 거',\n",
              "       '경상남도 합', '부산광역시', '전라북도 전주시', '경상남도 거창군', '경상북도 안동시', '경상남도 합천군',\n",
              "       '충청북도 충주시', '경상남도 함양군', '부산광역시 강서구', '전라남도 나주시', '경북 김천시 구성면'],\n",
              "      dtype=object)"
            ]
          },
          "execution_count": 916,
          "metadata": {},
          "output_type": "execute_result"
        }
      ],
      "source": [
        "# 도,시, 국산, 수입 표기 분류 필요\n",
        "df3['origin'].unique()"
      ]
    },
    {
      "cell_type": "code",
      "execution_count": 917,
      "metadata": {
        "colab": {
          "base_uri": "https://localhost:8080/",
          "height": 423
        },
        "id": "rvX1g3c_Ll2C",
        "outputId": "56330691-579b-46aa-b24a-046112748253"
      },
      "outputs": [
        {
          "data": {
            "text/html": [
              "<div>\n",
              "<style scoped>\n",
              "    .dataframe tbody tr th:only-of-type {\n",
              "        vertical-align: middle;\n",
              "    }\n",
              "\n",
              "    .dataframe tbody tr th {\n",
              "        vertical-align: top;\n",
              "    }\n",
              "\n",
              "    .dataframe thead th {\n",
              "        text-align: right;\n",
              "    }\n",
              "</style>\n",
              "<table border=\"1\" class=\"dataframe\">\n",
              "  <thead>\n",
              "    <tr style=\"text-align: right;\">\n",
              "      <th></th>\n",
              "      <th>prd</th>\n",
              "      <th>scale</th>\n",
              "      <th>price</th>\n",
              "      <th>origin</th>\n",
              "      <th>eco</th>\n",
              "      <th>reg_date</th>\n",
              "      <th>new_class</th>\n",
              "      <th>price_kg</th>\n",
              "      <th>0</th>\n",
              "      <th>1</th>\n",
              "      <th>2</th>\n",
              "    </tr>\n",
              "  </thead>\n",
              "  <tbody>\n",
              "    <tr>\n",
              "      <th>102</th>\n",
              "      <td>마늘</td>\n",
              "      <td>20.00000</td>\n",
              "      <td>154650</td>\n",
              "      <td>전남 무안군</td>\n",
              "      <td>normal</td>\n",
              "      <td>2022-01-03</td>\n",
              "      <td>4</td>\n",
              "      <td>7732.50000</td>\n",
              "      <td>전남</td>\n",
              "      <td>무안군</td>\n",
              "      <td>NaN</td>\n",
              "    </tr>\n",
              "    <tr>\n",
              "      <th>103</th>\n",
              "      <td>마늘</td>\n",
              "      <td>20.00000</td>\n",
              "      <td>154650</td>\n",
              "      <td>전남 무안군</td>\n",
              "      <td>normal</td>\n",
              "      <td>2022-01-03</td>\n",
              "      <td>4</td>\n",
              "      <td>7732.50000</td>\n",
              "      <td>전남</td>\n",
              "      <td>무안군</td>\n",
              "      <td>NaN</td>\n",
              "    </tr>\n",
              "    <tr>\n",
              "      <th>104</th>\n",
              "      <td>마늘</td>\n",
              "      <td>20.00000</td>\n",
              "      <td>154650</td>\n",
              "      <td>전남 무안군</td>\n",
              "      <td>normal</td>\n",
              "      <td>2022-01-03</td>\n",
              "      <td>4</td>\n",
              "      <td>7732.50000</td>\n",
              "      <td>전남</td>\n",
              "      <td>무안군</td>\n",
              "      <td>NaN</td>\n",
              "    </tr>\n",
              "    <tr>\n",
              "      <th>105</th>\n",
              "      <td>마늘</td>\n",
              "      <td>20.00000</td>\n",
              "      <td>154650</td>\n",
              "      <td>전남 무안군</td>\n",
              "      <td>normal</td>\n",
              "      <td>2022-01-03</td>\n",
              "      <td>4</td>\n",
              "      <td>7732.50000</td>\n",
              "      <td>전남</td>\n",
              "      <td>무안군</td>\n",
              "      <td>NaN</td>\n",
              "    </tr>\n",
              "    <tr>\n",
              "      <th>107</th>\n",
              "      <td>마늘</td>\n",
              "      <td>20.00000</td>\n",
              "      <td>154650</td>\n",
              "      <td>전남 무안군</td>\n",
              "      <td>normal</td>\n",
              "      <td>2022-01-03</td>\n",
              "      <td>4</td>\n",
              "      <td>7732.50000</td>\n",
              "      <td>전남</td>\n",
              "      <td>무안군</td>\n",
              "      <td>NaN</td>\n",
              "    </tr>\n",
              "    <tr>\n",
              "      <th>...</th>\n",
              "      <td>...</td>\n",
              "      <td>...</td>\n",
              "      <td>...</td>\n",
              "      <td>...</td>\n",
              "      <td>...</td>\n",
              "      <td>...</td>\n",
              "      <td>...</td>\n",
              "      <td>...</td>\n",
              "      <td>...</td>\n",
              "      <td>...</td>\n",
              "      <td>...</td>\n",
              "    </tr>\n",
              "    <tr>\n",
              "      <th>9629932</th>\n",
              "      <td>양파</td>\n",
              "      <td>15.00000</td>\n",
              "      <td>11000</td>\n",
              "      <td>전남 무안군</td>\n",
              "      <td>normal</td>\n",
              "      <td>2022-10-27</td>\n",
              "      <td>8</td>\n",
              "      <td>733.33000</td>\n",
              "      <td>전남</td>\n",
              "      <td>무안군</td>\n",
              "      <td>NaN</td>\n",
              "    </tr>\n",
              "    <tr>\n",
              "      <th>9629933</th>\n",
              "      <td>양파</td>\n",
              "      <td>15.00000</td>\n",
              "      <td>11000</td>\n",
              "      <td>전남 무안군</td>\n",
              "      <td>normal</td>\n",
              "      <td>2022-10-27</td>\n",
              "      <td>8</td>\n",
              "      <td>733.33000</td>\n",
              "      <td>전남</td>\n",
              "      <td>무안군</td>\n",
              "      <td>NaN</td>\n",
              "    </tr>\n",
              "    <tr>\n",
              "      <th>9629936</th>\n",
              "      <td>양파</td>\n",
              "      <td>15.00000</td>\n",
              "      <td>17000</td>\n",
              "      <td>전남 무안군</td>\n",
              "      <td>normal</td>\n",
              "      <td>2022-10-28</td>\n",
              "      <td>8</td>\n",
              "      <td>1133.33000</td>\n",
              "      <td>전남</td>\n",
              "      <td>무안군</td>\n",
              "      <td>NaN</td>\n",
              "    </tr>\n",
              "    <tr>\n",
              "      <th>9629937</th>\n",
              "      <td>양파</td>\n",
              "      <td>15.00000</td>\n",
              "      <td>17000</td>\n",
              "      <td>전남 무안군</td>\n",
              "      <td>normal</td>\n",
              "      <td>2022-10-28</td>\n",
              "      <td>8</td>\n",
              "      <td>1133.33000</td>\n",
              "      <td>전남</td>\n",
              "      <td>무안군</td>\n",
              "      <td>NaN</td>\n",
              "    </tr>\n",
              "    <tr>\n",
              "      <th>9629938</th>\n",
              "      <td>양파</td>\n",
              "      <td>15.00000</td>\n",
              "      <td>9000</td>\n",
              "      <td>전남 무안군</td>\n",
              "      <td>normal</td>\n",
              "      <td>2022-10-28</td>\n",
              "      <td>8</td>\n",
              "      <td>600.00000</td>\n",
              "      <td>전남</td>\n",
              "      <td>무안군</td>\n",
              "      <td>NaN</td>\n",
              "    </tr>\n",
              "  </tbody>\n",
              "</table>\n",
              "<p>770536 rows × 11 columns</p>\n",
              "</div>"
            ],
            "text/plain": [
              "        prd    scale   price  origin     eco   reg_date  new_class   price_kg  \\\n",
              "102      마늘 20.00000  154650  전남 무안군  normal 2022-01-03          4 7732.50000   \n",
              "103      마늘 20.00000  154650  전남 무안군  normal 2022-01-03          4 7732.50000   \n",
              "104      마늘 20.00000  154650  전남 무안군  normal 2022-01-03          4 7732.50000   \n",
              "105      마늘 20.00000  154650  전남 무안군  normal 2022-01-03          4 7732.50000   \n",
              "107      마늘 20.00000  154650  전남 무안군  normal 2022-01-03          4 7732.50000   \n",
              "...      ..      ...     ...     ...     ...        ...        ...        ...   \n",
              "9629932  양파 15.00000   11000  전남 무안군  normal 2022-10-27          8  733.33000   \n",
              "9629933  양파 15.00000   11000  전남 무안군  normal 2022-10-27          8  733.33000   \n",
              "9629936  양파 15.00000   17000  전남 무안군  normal 2022-10-28          8 1133.33000   \n",
              "9629937  양파 15.00000   17000  전남 무안군  normal 2022-10-28          8 1133.33000   \n",
              "9629938  양파 15.00000    9000  전남 무안군  normal 2022-10-28          8  600.00000   \n",
              "\n",
              "          0    1    2  \n",
              "102      전남  무안군  NaN  \n",
              "103      전남  무안군  NaN  \n",
              "104      전남  무안군  NaN  \n",
              "105      전남  무안군  NaN  \n",
              "107      전남  무안군  NaN  \n",
              "...      ..  ...  ...  \n",
              "9629932  전남  무안군  NaN  \n",
              "9629933  전남  무안군  NaN  \n",
              "9629936  전남  무안군  NaN  \n",
              "9629937  전남  무안군  NaN  \n",
              "9629938  전남  무안군  NaN  \n",
              "\n",
              "[770536 rows x 11 columns]"
            ]
          },
          "execution_count": 917,
          "metadata": {},
          "output_type": "execute_result"
        }
      ],
      "source": [
        "# 해당 조건에 맞는 값 추출\n",
        "\n",
        "splits = df3['origin'].str.split(' ')\n",
        "cacul = splits.apply(lambda x: pd.Series(x))\n",
        "df66 = pd.merge(df3,cacul, left_index=True, right_index=True, how='inner')\n",
        "df66"
      ]
    },
    {
      "cell_type": "code",
      "execution_count": 918,
      "metadata": {
        "id": "NVkmVZ7ip9-N"
      },
      "outputs": [],
      "source": [
        "# 세부 카테고리 정리 (state, city 편집 시 여기서 시작)\n",
        "\n",
        "df4 = df66.rename(columns = {0:'state',1:'city'})\n",
        "\n",
        "# 2,3은 필요없는 정보이므로 삭제\n",
        "df4 = df4.drop(columns=2)"
      ]
    },
    {
      "cell_type": "code",
      "execution_count": 919,
      "metadata": {},
      "outputs": [
        {
          "data": {
            "text/html": [
              "<div>\n",
              "<style scoped>\n",
              "    .dataframe tbody tr th:only-of-type {\n",
              "        vertical-align: middle;\n",
              "    }\n",
              "\n",
              "    .dataframe tbody tr th {\n",
              "        vertical-align: top;\n",
              "    }\n",
              "\n",
              "    .dataframe thead th {\n",
              "        text-align: right;\n",
              "    }\n",
              "</style>\n",
              "<table border=\"1\" class=\"dataframe\">\n",
              "  <thead>\n",
              "    <tr style=\"text-align: right;\">\n",
              "      <th></th>\n",
              "      <th>prd</th>\n",
              "      <th>scale</th>\n",
              "      <th>price</th>\n",
              "      <th>origin</th>\n",
              "      <th>eco</th>\n",
              "      <th>reg_date</th>\n",
              "      <th>new_class</th>\n",
              "      <th>price_kg</th>\n",
              "      <th>state</th>\n",
              "      <th>city</th>\n",
              "    </tr>\n",
              "  </thead>\n",
              "  <tbody>\n",
              "    <tr>\n",
              "      <th>102</th>\n",
              "      <td>마늘</td>\n",
              "      <td>20.00000</td>\n",
              "      <td>154650</td>\n",
              "      <td>전남 무안군</td>\n",
              "      <td>normal</td>\n",
              "      <td>2022-01-03</td>\n",
              "      <td>4</td>\n",
              "      <td>7732.50000</td>\n",
              "      <td>전남</td>\n",
              "      <td>무안군</td>\n",
              "    </tr>\n",
              "  </tbody>\n",
              "</table>\n",
              "</div>"
            ],
            "text/plain": [
              "    prd    scale   price  origin     eco   reg_date  new_class   price_kg  \\\n",
              "102  마늘 20.00000  154650  전남 무안군  normal 2022-01-03          4 7732.50000   \n",
              "\n",
              "    state city  \n",
              "102    전남  무안군  "
            ]
          },
          "execution_count": 919,
          "metadata": {},
          "output_type": "execute_result"
        }
      ],
      "source": [
        "df4.head(1)"
      ]
    },
    {
      "cell_type": "code",
      "execution_count": 920,
      "metadata": {
        "colab": {
          "base_uri": "https://localhost:8080/"
        },
        "id": "JcsSUlI_27J3",
        "outputId": "817067e6-2645-4c9c-c86f-047b1471bb9b"
      },
      "outputs": [
        {
          "data": {
            "text/plain": [
              "array(['전남', '전북', '경북', '충남', '제주', '경기', '강원', '경남', '대구', '경기도', '충북',\n",
              "       '광주', '전남/고흥군', '세종', '서울', '대구시', '제주도', '인천', '강원도', '충북청주시상당구',\n",
              "       '청주시', '충청남도', '서울시', '세종특별자치시', '전라북도', '경남/남해군', '경상북도', '부산',\n",
              "       '울산', '전주시', '부산시', '중국', '수입산', '경북/문경시', '광주시', '수원시', '가락동',\n",
              "       '제주시', '성남시', '경남/합천군', '부천시', '서귀포시', '제주/서귀포', '전라남도', '인천시',\n",
              "       '충남/아산시', '광주광역시', '서울특별시', '대전', '충남/홍성군', '국내산\\t', '수입', '이시원',\n",
              "       '경상남도', '부산광역시', '충청북도'], dtype=object)"
            ]
          },
          "execution_count": 920,
          "metadata": {},
          "output_type": "execute_result"
        }
      ],
      "source": [
        "df4['state'].unique()"
      ]
    },
    {
      "cell_type": "code",
      "execution_count": 921,
      "metadata": {
        "id": "SsvDFEbgqQjD"
      },
      "outputs": [],
      "source": [
        "# 시,도 제거\n",
        "def name_sort(words):\n",
        "  p = re.compile('[^시도]+')\n",
        "  word = re.search(p,str(words))\n",
        "  return word.group()\n",
        "\n",
        "df4[\"state\"] = df4[\"state\"].apply(name_sort)\n",
        "\n",
        "# 오타도 제거\n",
        "\n",
        "def name_sort2(words):\n",
        "  p = re.compile('[^\\t]+')\n",
        "  word = re.search(p,words)\n",
        "  return word.group()\n",
        "\n",
        "df4[\"state\"] = df4[\"state\"].apply(name_sort2)"
      ]
    },
    {
      "cell_type": "code",
      "execution_count": 922,
      "metadata": {
        "colab": {
          "base_uri": "https://localhost:8080/"
        },
        "id": "JeybBf_fqhqh",
        "outputId": "b5542367-86fe-4c6e-deab-f28f7d1ce6f5"
      },
      "outputs": [
        {
          "data": {
            "text/plain": [
              "array(['전남', '전북', '경북', '충남', '제주', '경기', '강원', '경남', '대구', '충북', '광주',\n",
              "       '전남/고흥군', '세종', '서울', '인천', '충북청주', '청주', '충청남', '세종특별자치', '전라북',\n",
              "       '경남/남해군', '경상북', '부산', '울산', '전주', '중국', '수입산', '경북/문경', '수원',\n",
              "       '가락동', '성남', '경남/합천군', '부천', '서귀포', '제주/서귀포', '전라남', '충남/아산',\n",
              "       '광주광역', '서울특별', '대전', '충남/홍성군', '국내산', '수입', '이', '경상남', '부산광역',\n",
              "       '충청북'], dtype=object)"
            ]
          },
          "execution_count": 922,
          "metadata": {},
          "output_type": "execute_result"
        }
      ],
      "source": [
        "df4[\"state\"].unique()"
      ]
    },
    {
      "cell_type": "code",
      "execution_count": 923,
      "metadata": {},
      "outputs": [
        {
          "data": {
            "text/html": [
              "<div>\n",
              "<style scoped>\n",
              "    .dataframe tbody tr th:only-of-type {\n",
              "        vertical-align: middle;\n",
              "    }\n",
              "\n",
              "    .dataframe tbody tr th {\n",
              "        vertical-align: top;\n",
              "    }\n",
              "\n",
              "    .dataframe thead th {\n",
              "        text-align: right;\n",
              "    }\n",
              "</style>\n",
              "<table border=\"1\" class=\"dataframe\">\n",
              "  <thead>\n",
              "    <tr style=\"text-align: right;\">\n",
              "      <th></th>\n",
              "      <th>prd</th>\n",
              "      <th>scale</th>\n",
              "      <th>price</th>\n",
              "      <th>origin</th>\n",
              "      <th>eco</th>\n",
              "      <th>reg_date</th>\n",
              "      <th>new_class</th>\n",
              "      <th>price_kg</th>\n",
              "      <th>state</th>\n",
              "      <th>city</th>\n",
              "    </tr>\n",
              "  </thead>\n",
              "  <tbody>\n",
              "  </tbody>\n",
              "</table>\n",
              "</div>"
            ],
            "text/plain": [
              "Empty DataFrame\n",
              "Columns: [prd, scale, price, origin, eco, reg_date, new_class, price_kg, state, city]\n",
              "Index: []"
            ]
          },
          "execution_count": 923,
          "metadata": {},
          "output_type": "execute_result"
        }
      ],
      "source": [
        "df4[df4['state']=='공통출하처']"
      ]
    },
    {
      "cell_type": "code",
      "execution_count": 924,
      "metadata": {
        "id": "FDUnVy0e1br6"
      },
      "outputs": [],
      "source": [
        "# state\n",
        "# 특이케이스 제거\n",
        "df4 = df4.drop(df4[(df4['state']>='없음')].index)\n",
        "df4 = df4.drop(df4[(df4['state']>='해당사항없')].index)\n",
        "\n",
        "# 국내\n",
        "df4.loc[df4[\"state\"]==\"국내산\",\"city\"] = \"미상\"\n",
        "df4.loc[df4[\"state\"]==\"국내산\",\"state\"] = \"국산\"\n",
        "df4.loc[df4[\"state\"]==\"원양산\",\"city\"] = \"미상\"\n",
        "df4.loc[df4[\"state\"]==\"공통출하처\",\"city\"] = \"미상\"\n",
        "df4.loc[df4[\"state\"]==\"공통출하처\",\"state\"] = \"국산\"\n",
        "\n",
        "## 도단위\n",
        "df4.loc[df4[\"state\"]==\"충청북\",\"state\"] = \"충북\"\n",
        "df4.loc[df4[\"state\"]==\"충청남\",\"state\"] = \"충남\"\n",
        "df4.loc[df4[\"state\"]==\"전라북\",\"state\"] = \"전북\"\n",
        "df4.loc[df4[\"state\"]==\"전라남\",\"state\"] = \"전남\"\n",
        "df4.loc[df4[\"state\"]==\"경상북\",\"state\"] = \"경북\"\n",
        "df4.loc[df4[\"state\"]==\"경상남\",\"state\"] = \"경남\"\n",
        "\n",
        "## 시단위\n",
        "### 광역시\n",
        "\n",
        "df4.loc[df4[\"state\"]==\"대전\",\"city\"] = \"대전\"\n",
        "df4.loc[df4[\"state\"]==\"대구\",\"city\"] = \"대구\"\n",
        "df4.loc[df4[\"state\"]==\"서울특별\",\"city\"] = \"서울\"\n",
        "df4.loc[df4[\"state\"]==\"서울특별\",\"state\"] = \"서울\"\n",
        "df4.loc[df4[\"state\"]==\"인천광역\",\"city\"] = \"인천\"\n",
        "df4.loc[df4[\"state\"]==\"인천광역\",\"state\"] = \"인천\"\n",
        "df4.loc[df4[\"state\"]==\"부산\",\"city\"] = \"부산\"\n",
        "df4.loc[df4[\"state\"]==\"부산광역\",\"city\"] = \"부산\"\n",
        "df4.loc[df4[\"state\"]==\"부산광역\",\"state\"] = \"부산\"\n",
        "df4.loc[df4[\"state\"]==\"가락동\",\"city\"] = \"서울\"\n",
        "df4.loc[df4[\"state\"]==\"가락동\",\"state\"] = \"서울\"\n",
        "df4.loc[df4[\"state\"]==\"세종\",\"city\"] = \"세종\"\n",
        "df4.loc[df4[\"state\"]==\"세종특별자치\",\"city\"] = \"세종\"\n",
        "df4.loc[df4[\"state\"]==\"세종특별자치\",\"state\"] = \"세종\"\n",
        "df4.loc[df4[\"state\"]==\"대전\",\"city\"] = \"대전\"\n",
        "df4.loc[df4[\"state\"]==\"제주\",\"city\"] = \"제주\"\n",
        "df4.loc[df4[\"state\"]==\"제주특별자치\",\"city\"] = \"제주\"\n",
        "df4.loc[df4[\"state\"]==\"제주특별자치\",\"state\"] = \"제주\"\n",
        "df4.loc[df4[\"state\"]==\"제주특별자\",\"city\"] = \"제주\"\n",
        "df4.loc[df4[\"state\"]==\"제주특별자\",\"state\"] = \"제주\"\n",
        "df4.loc[df4[\"state\"]==\"제주/서귀포\",\"city\"] = \"제주\"\n",
        "df4.loc[df4[\"state\"]==\"제주/서귀포\",\"state\"] = \"제주\"\n",
        "df4.loc[df4[\"state\"]==\"서귀포\",\"city\"] = \"제주\"\n",
        "df4.loc[df4[\"state\"]==\"서귀포\",\"state\"] = \"제주\"\n",
        "df4.loc[df4[\"state\"]==\"세종\",\"city\"] = \"세종\"\n",
        "df4.loc[df4[\"state\"]==\"울산\",\"city\"] = \"울산\"\n",
        "df4.loc[df4[\"state\"]==\"울산\",\"state\"] = \"울산\"\n",
        "df4.loc[df4[\"state\"]==\"광주광역\",\"state\"] = \"광주\"\n",
        "df4.loc[df4[\"state\"]==\"광주광역\",\"city\"] = \"광주\"\n",
        "\n",
        "### 일반시\n",
        "df4.loc[df4[\"state\"]==\"성남\",\"city\"] = \"성남\"\n",
        "df4.loc[df4[\"state\"]==\"성남\",\"state\"] = \"경기\"\n",
        "df4.loc[df4[\"state\"]==\"경기성남\",\"city\"] = \"성남\"\n",
        "df4.loc[df4[\"state\"]==\"경기성남\",\"state\"] = \"경기\"\n",
        "df4.loc[df4[\"state\"]==\"전주\",\"city\"] = \"전주\"\n",
        "df4.loc[df4[\"state\"]==\"전주\",\"state\"] = \"전북\"\n",
        "df4.loc[df4[\"state\"]==\"청주\",\"city\"] = \"청주\"\n",
        "df4.loc[df4[\"state\"]==\"청주\",\"state\"] = \"충북\"\n",
        "df4.loc[df4[\"state\"]==\"수원\",\"city\"] = \"수원\"\n",
        "df4.loc[df4[\"state\"]==\"수원\",\"state\"] = \"경기\"\n",
        "df4.loc[df4[\"state\"]==\"부천\",\"city\"] = \"부천\"\n",
        "df4.loc[df4[\"state\"]==\"부천\",\"state\"] = \"경기\"\n",
        "df4.loc[df4[\"state\"]==\"경기고양\",\"city\"] = \"고양\"\n",
        "df4.loc[df4[\"state\"]==\"경기고양\",\"state\"] = \"경기\"\n",
        "df4.loc[df4[\"state\"]==\"충북청주\",\"city\"] = \"청주\"\n",
        "df4.loc[df4[\"state\"]==\"충북청주\",\"state\"] = \"충북\"\n",
        "df4.loc[df4[\"state\"]==\"충북청주시흥덕구\",\"city\"] = \"청주\"\n",
        "df4.loc[df4[\"state\"]==\"충북청주시흥덕구\",\"state\"] = \"충북\"\n",
        "df4.loc[df4[\"state\"]==\"전북전주\",\"city\"] = \"전주\"\n",
        "df4.loc[df4[\"state\"]==\"전북전주\",\"state\"] = \"전북\"\n",
        "df4.loc[df4[\"state\"]==\"경북/문경\",\"city\"] = \"문경\"\n",
        "df4.loc[df4[\"state\"]==\"경북/문경\",\"state\"] = \"경북\"\n",
        "df4.loc[df4[\"state\"]==\"포항\",\"city\"] = \"포항\"\n",
        "df4.loc[df4[\"state\"]==\"포항\",\"state\"] = \"경북\"\n",
        "df4.loc[df4[\"state\"]==\"경북/안동\",\"city\"] = \"안동\"\n",
        "df4.loc[df4[\"state\"]==\"경북/안동\",\"state\"] = \"경북\"\n",
        "df4.loc[df4[\"state\"]==\"전남/무안군\",\"city\"] = \"전남\"\n",
        "df4.loc[df4[\"state\"]==\"전남/무안군\",\"state\"] = \"무안\"\n",
        "df4.loc[df4[\"state\"]==\"경북/구미\",\"city\"] = \"구미\"\n",
        "df4.loc[df4[\"state\"]==\"경북/구미\",\"state\"] = \"경북\"\n",
        "df4.loc[df4[\"state\"]==\"경북/상주\",\"city\"] = \"상주\"\n",
        "df4.loc[df4[\"state\"]==\"경북/상주\",\"state\"] = \"경북\"\n",
        "df4.loc[df4[\"state\"]==\"경북/영천\",\"city\"] = \"영천\"\n",
        "df4.loc[df4[\"state\"]==\"경북/영천\",\"state\"] = \"경북\"\n",
        "df4.loc[df4[\"state\"]==\"경남/합천군\",\"city\"] = \"합천\"\n",
        "df4.loc[df4[\"state\"]==\"경남/합천군\",\"state\"] = \"경남\"\n",
        "df4.loc[df4[\"state\"]==\"전남/고흥군\",\"city\"] = \"고흥\"\n",
        "df4.loc[df4[\"state\"]==\"전남/고흥군\",\"state\"] = \"전남\"\n",
        "df4.loc[df4[\"state\"]==\"경남/남해군\",\"state\"] = \"경남\"\n",
        "df4.loc[df4[\"state\"]==\"경남/남해군\",\"city\"] = \"남해\"\n",
        "df4.loc[df4[\"state\"]==\"무안\",\"state\"] = \"전남\"\n",
        "df4.loc[df4[\"state\"]==\"서해안\",\"city\"] = \"미상\"\n",
        "df4.loc[df4[\"state\"]==\"서해안\",\"state\"] = \"국산\"\n",
        "df4.loc[df4[\"state\"]==\"남해안\",\"city\"] = \"미상\"\n",
        "df4.loc[df4[\"state\"]==\"남해안\",\"state\"] = \"국산\"\n",
        "\n",
        "\n",
        "# 외국\n",
        "## 아시아\n",
        "df4.loc[df4[\"state\"]==\"칠레\",\"city\"] = \"칠레\"\n",
        "df4.loc[df4[\"state\"]==\"칠레\",\"state\"] = \"수입\"\n",
        "df4.loc[df4[\"state\"]==\"일본\",\"city\"] = \"일본\"\n",
        "df4.loc[df4[\"state\"]==\"일본\",\"state\"] = \"수입\"\n",
        "df4.loc[df4[\"state\"]==\"베트남\",\"city\"] = \"베트남\"\n",
        "df4.loc[df4[\"state\"]==\"베트남\",\"state\"] = \"수입\"\n",
        "df4.loc[df4[\"state\"]==\"우즈베크\",\"city\"] = \"우즈베키스탄\"\n",
        "df4.loc[df4[\"state\"]==\"우즈베크\",\"state\"] = \"수입\"\n",
        "df4.loc[df4[\"state\"]==\"이스라엘\",\"city\"] = \"이스라엘\"\n",
        "df4.loc[df4[\"state\"]==\"이스라엘\",\"state\"] = \"수입\"\n",
        "df4.loc[df4[\"state\"]==\"터키\",\"city\"] = \"터키\"\n",
        "df4.loc[df4[\"state\"]==\"터키\",\"state\"] = \"수입\"\n",
        "df4.loc[df4[\"state\"]==\"중국\",\"city\"] = \"중국\"\n",
        "df4.loc[df4[\"state\"]==\"중국\",\"state\"] = \"수입\"\n",
        "df4.loc[df4[\"state\"]==\"중국(CN)\",\"city\"] = \"중국\"\n",
        "df4.loc[df4[\"state\"]==\"중국(CN)\",\"state\"] = \"수입\"\n",
        "df4.loc[df4[\"state\"]==\"타이\",\"city\"] = \"태국\"\n",
        "df4.loc[df4[\"state\"]==\"타이\",\"state\"] = \"수입\"\n",
        "df4.loc[df4[\"state\"]==\"태국\",\"city\"] = \"태국\"\n",
        "df4.loc[df4[\"state\"]==\"태국\",\"state\"] = \"수입\"\n",
        "df4.loc[df4[\"state\"]==\"필리핀\",\"city\"] = \"필리핀\"\n",
        "df4.loc[df4[\"state\"]==\"필리핀\",\"state\"] = \"수입\"\n",
        "df4.loc[df4[\"state\"]==\"우즈베키스탄\",\"city\"] = \"우즈베키스탄\"\n",
        "df4.loc[df4[\"state\"]==\"우즈베키스탄\",\"state\"] = \"수입\"\n",
        "df4.loc[df4[\"state\"]==\"대만\",\"city\"] = \"대만\"\n",
        "df4.loc[df4[\"state\"]==\"대만\",\"state\"] = \"수입\"\n",
        "df4.loc[df4[\"state\"]==\"베트남\",\"city\"] = \"베트남\"\n",
        "df4.loc[df4[\"state\"]==\"베트남\",\"state\"] = \"수입\"\n",
        "df4.loc[df4[\"state\"]==\"이란\",\"city\"] = \"이란\"\n",
        "df4.loc[df4[\"state\"]==\"이란\",\"state\"] = \"수입\"\n",
        "df4.loc[df4[\"state\"]==\"러\",\"city\"] = \"러시아\"\n",
        "df4.loc[df4[\"state\"]==\"러\",\"state\"] = \"수입\"\n",
        "df4.loc[df4[\"state\"]==\"캄보디아\",\"city\"] = \"캄보디아\"\n",
        "df4.loc[df4[\"state\"]==\"캄보디아\",\"state\"] = \"수입\"\n",
        "df4.loc[(df4[\"state\"]==\"인\")&(df4[\"origin\"]==\"인도네시아\"),\"city\"] = \"인도네시아\"\n",
        "df4.loc[(df4[\"state\"]==\"인\")&(df4[\"origin\"]==\"인도네시아\"),\"state\"] = \"수입\"\n",
        "df4.loc[(df4[\"state\"]==\"인\")&(df4[\"origin\"]==\"인도\"),\"city\"] = \"인도\"\n",
        "df4.loc[(df4[\"state\"]==\"인\")&(df4[\"origin\"]==\"인도\"),\"state\"] = \"수입\"\n",
        "\n",
        "## 아메리카\n",
        "\n",
        "df4.loc[df4[\"state\"]==\"캘리포니아\",\"city\"] = \"미국\"\n",
        "df4.loc[df4[\"state\"]==\"캘리포니아\",\"state\"] = \"수입\"\n",
        "df4.loc[df4[\"state\"]==\"포클랜드\",\"city\"] = \"영국\"\n",
        "df4.loc[df4[\"state\"]==\"포클랜드\",\"state\"] = \"수입\"\n",
        "df4.loc[df4[\"state\"]==\"콜롬비아\",\"city\"] = \"콜롬비아\"\n",
        "df4.loc[df4[\"state\"]==\"콜롬비아\",\"state\"] = \"수입\"\n",
        "df4.loc[df4[\"state\"]==\"에콰\",\"city\"] = \"에콰도르\"\n",
        "df4.loc[df4[\"state\"]==\"에콰\",\"state\"] = \"수입\"\n",
        "df4.loc[df4[\"state\"]==\"에쿠아\",\"city\"] = \"에콰도르\"\n",
        "df4.loc[df4[\"state\"]==\"에쿠아\",\"state\"] = \"수입\"\n",
        "df4.loc[df4[\"state\"]==\"에콰돌\",\"city\"] = \"에콰도르\"\n",
        "df4.loc[df4[\"state\"]==\"에콰돌\",\"state\"] = \"수입\"\n",
        "df4.loc[df4[\"state\"]==\"과테말라\",\"city\"] = \"과테말라\"\n",
        "df4.loc[df4[\"state\"]==\"과테말라\",\"state\"] = \"수입\"\n",
        "df4.loc[df4[\"state\"]==\"코스타리카\",\"city\"] = \"코스타리카\"\n",
        "df4.loc[df4[\"state\"]==\"코스타리카\",\"state\"] = \"수입\"\n",
        "df4.loc[df4[\"state\"]==\"멕\",\"city\"] = \"멕시코\"\n",
        "df4.loc[df4[\"state\"]==\"멕\",\"state\"] = \"수입\"\n",
        "df4.loc[df4[\"state\"]==\"페루\",\"city\"] = \"페루\"\n",
        "df4.loc[df4[\"state\"]==\"페루\",\"state\"] = \"수입\"\n",
        "df4.loc[df4[\"state\"]==\"미국\",\"city\"] = \"미국\"\n",
        "df4.loc[df4[\"state\"]==\"미국\",\"state\"] = \"수입\"\n",
        "df4.loc[df4[\"state\"]==\"아르헨티나\",\"city\"] = \"아르헨티나\"\n",
        "df4.loc[df4[\"state\"]==\"아르헨티나\",\"state\"] = \"수입\"\n",
        "df4.loc[df4[\"state\"]==\"브라질\",\"city\"] = \"브라질\"\n",
        "df4.loc[df4[\"state\"]==\"브라질\",\"state\"] = \"수입\"\n",
        "\n",
        "## 유럽\n",
        "df4.loc[df4[\"state\"]==\"스페인\",\"city\"] = \"스페인\"\n",
        "df4.loc[df4[\"state\"]==\"스페인\",\"state\"] = \"수입\"\n",
        "df4.loc[df4[\"state\"]==\"우크라이나\",\"city\"] = \"우크라이나\"\n",
        "df4.loc[df4[\"state\"]==\"우크라이나\",\"state\"] = \"수입\"\n",
        "df4.loc[df4[\"state\"]==\"이탈리아\",\"city\"] = \"이탈리아\"\n",
        "df4.loc[df4[\"state\"]==\"이탈리아\",\"state\"] = \"수입\"\n",
        "df4.loc[df4[\"state\"]==\"불가리아\",\"city\"] = \"불가리아\"\n",
        "df4.loc[df4[\"state\"]==\"불가리아\",\"state\"] = \"수입\"\n",
        "df4.loc[df4[\"state\"]==\"그리스\",\"city\"] = \"그리스\"\n",
        "df4.loc[df4[\"state\"]==\"그리스\",\"state\"] = \"수입\"\n",
        "\n",
        "## 아프리카\n",
        "df4.loc[df4[\"state\"]==\"남아프리카\",\"city\"] = \"남아공\"\n",
        "df4.loc[df4[\"state\"]==\"남아프리카\",\"state\"] = \"수입\"\n",
        "df4.loc[df4[\"state\"]==\"남아프리카공화국\",\"city\"] = \"남아공\"\n",
        "df4.loc[df4[\"state\"]==\"남아프리카공화국\",\"state\"] = \"수입\"\n",
        "df4.loc[df4[\"state\"]==\"수입남아프리카공화국\",\"city\"] = \"남아공\"\n",
        "df4.loc[df4[\"state\"]==\"수입남아프리카공화국\",\"state\"] = \"수입\"\n",
        "\n",
        "\n",
        "## 오세아니아\n",
        "df4.loc[df4[\"state\"]==\"뉴질랜드\",\"city\"] = \"뉴질랜드\"\n",
        "df4.loc[df4[\"state\"]==\"뉴질랜드\",\"state\"] = \"수입\"\n",
        "df4.loc[df4[\"state\"]==\"오스트레일\",\"city\"] = \"호주\"\n",
        "df4.loc[df4[\"state\"]==\"오스트레일\",\"state\"] = \"수입\"\n",
        "df4.loc[df4[\"state\"]==\"오스트레일리아\",\"city\"] = \"호주\"\n",
        "df4.loc[df4[\"state\"]==\"오스트레일리아\",\"state\"] = \"수입\"\n",
        "df4.loc[df4[\"state\"]==\"호주\",\"city\"] = \"호주\"\n",
        "df4.loc[df4[\"state\"]==\"호주\",\"state\"] = \"수입\"\n",
        "df4.loc[df4[\"state\"]==\"통가\",\"city\"] = \"통가\"\n",
        "df4.loc[df4[\"state\"]==\"통가\",\"state\"] = \"수입\"\n",
        "df4.loc[df4[\"state\"]==\"뉴칼레\",\"city\"] = \"뉴칼레도니아\"\n",
        "df4.loc[df4[\"state\"]==\"뉴칼레\",\"state\"] = \"수입\"\n",
        "df4.loc[df4[\"state\"]==\"뉴\",\"city\"] = \"뉴칼레도니아\"\n",
        "df4.loc[df4[\"state\"]==\"뉴\",\"state\"] = \"수입\"\n",
        "df4.loc[df4[\"state\"]==\"누벨칼레\",\"city\"] = \"뉴칼레도니아\"\n",
        "df4.loc[df4[\"state\"]==\"누벨칼레\",\"state\"] = \"수입\"\n",
        "# 기타\n",
        "df4.loc[df4[\"state\"]==\"수입산\",\"state\"] = \"수입\"\n",
        "df4.loc[df4[\"state\"]==\"기타외국\",\"city\"] = \"미상\"\n",
        "df4.loc[df4[\"state\"]==\"기타외국\",\"state\"] = \"수입\"\n",
        "df4.drop(df4[df4[\"state\"]==\"미등록\"].index,inplace=True)"
      ]
    },
    {
      "cell_type": "code",
      "execution_count": 925,
      "metadata": {
        "colab": {
          "base_uri": "https://localhost:8080/"
        },
        "id": "bPMNH6Fz9laX",
        "outputId": "c7ea6abb-e318-4350-9eea-394a56796052"
      },
      "outputs": [
        {
          "data": {
            "text/plain": [
              "array(['경북', '경기', '강원', '경남', '대구', '광주', '세종', '서울', '부산', '수입', '제주',\n",
              "       '대전', '국산'], dtype=object)"
            ]
          },
          "execution_count": 925,
          "metadata": {},
          "output_type": "execute_result"
        }
      ],
      "source": [
        "df4['state'].unique()"
      ]
    },
    {
      "cell_type": "code",
      "execution_count": 926,
      "metadata": {
        "id": "Ih5vw324J-Ed"
      },
      "outputs": [],
      "source": [
        "# city\n",
        "# 우선 결측치 제거\n",
        "df4.loc[df4[\"city\"].isnull(),\"city\"] = \"미상\""
      ]
    },
    {
      "cell_type": "code",
      "execution_count": 927,
      "metadata": {
        "id": "cXY3uABaKSty"
      },
      "outputs": [],
      "source": [
        "# 이후 시,군 등 제거\n",
        "def name_sort(words):\n",
        "  p = re.compile('[^시군]+')\n",
        "  word = re.search(p,words)\n",
        "  return word.group()\n",
        "\n",
        "df4[\"city\"] = df4[\"city\"].apply(name_sort)"
      ]
    },
    {
      "cell_type": "code",
      "execution_count": 928,
      "metadata": {
        "id": "QuyWFOs1R7yP"
      },
      "outputs": [],
      "source": [
        "# \\t 도 제거\n",
        "def name_sort2(words):\n",
        "  p = re.compile('[^\\t]+')\n",
        "  word = re.search(p,words)\n",
        "  return word.group()\n",
        "\n",
        "df4[\"city\"] = df4[\"city\"].apply(name_sort2)"
      ]
    },
    {
      "cell_type": "code",
      "execution_count": 929,
      "metadata": {
        "colab": {
          "base_uri": "https://localhost:8080/"
        },
        "id": "szJvb99ySEPR",
        "outputId": "97ca859c-e684-45b0-f3d0-488abdd6cedf"
      },
      "outputs": [
        {
          "data": {
            "text/plain": [
              "array(['미상', '안성', '평창', '이천', '홍천', '함양', '인제', '화성', '정선', '창녕', '대구',\n",
              "       '태백', '구미', '경산', '영양', '영천', '합천', '여주', '평택', '남양주', '영덕', '서구',\n",
              "       '청송', '봉화', '의성', '영주', '김천', '안동', '거창', '고령', '김포', '상주', '구리',\n",
              "       '문경', '횡성', '세종', '남구', '파주', '송파구', '양구', '포천', '청도', '산청', '밀양',\n",
              "       '양평', '강동구', '광산구', '용인', '예천', '의령', '위', '성남', '오산', '하남', '철원',\n",
              "       '고양', '광주', '함안', '울진', '남해', '칠곡', '영월', '연천', '삼척', '강서구', '화천',\n",
              "       '춘천', '성주', '양양', '마포구', '중랑구', '강릉', '고성', '안양', '가평', '양주', '하동',\n",
              "       '도봉구', '양산', '부산', '포항', '창원', '은평구', '중국', '진주', '경주', '중구', '수원',\n",
              "       '서울', '김해', '안산', '흥', '부천', '제주', '사천', '광명', '의정부', '동대문구',\n",
              "       '구로구', '북구', '원주', '용산구', '양천구', '영등포구', '영', '대전', '통영',\n",
              "       '마산(고성,진해)', '삼천포', '안', '거', '합'], dtype=object)"
            ]
          },
          "execution_count": 929,
          "metadata": {},
          "output_type": "execute_result"
        }
      ],
      "source": [
        "df4['city'].unique()"
      ]
    },
    {
      "cell_type": "code",
      "execution_count": 930,
      "metadata": {
        "id": "MrIoC_BDQ_ic"
      },
      "outputs": [],
      "source": [
        "# 나머지 케이스 정리\n",
        "\n",
        "# 국내\n",
        "df4.loc[df4[\"city\"]==\"기타\",\"city\"] = \"미상\"\n",
        "## 일반시\n",
        "df4.loc[df4[\"city\"]==\"위\",\"city\"] = \"군위\"\n",
        "df4.loc[df4[\"city\"]==\"포\",\"city\"] = \"군포\"\n",
        "df4.loc[df4[\"city\"]==\"고흥(나로도)\",\"city\"] = \"고흥\"\n",
        "df4.loc[df4[\"city\"]==\"산\",\"city\"] = \"군산\"\n",
        "df4.loc[df4[\"city\"]==\"장항(서천)\",\"city\"] = \"서천\"\n",
        "df4.loc[df4[\"city\"]==\"삼천포\",\"city\"] = \"사천\"\n",
        "df4.loc[df4[\"city\"]==\"삼천포\",\"city\"] = \"사천\"\n",
        "df4.loc[df4[\"city\"]==\"순천(광양)\",\"city\"] = \"순천\"\n",
        "df4.loc[df4[\"city\"]==\"대천(보령)\",\"city\"] = \"보령\"\n",
        "df4.loc[df4[\"city\"]==\"대천(보령)\",\"city\"] = \"보령\"\n",
        "df4.loc[df4[\"city\"]==\"화성(평택)\",\"city\"] = \"화성\"\n",
        "df4.loc[df4[\"city\"]==\"흥\",\"city\"] = \"시흥\"\n",
        "df4.loc[df4[\"city\"]==\"목포(무안)\",\"city\"] = \"목포\"\n",
        "df4.loc[df4[\"city\"]==\"목포(무안)\",\"state\"] = \"전남\"\n",
        "df4.loc[df4[\"city\"]==\"보성(벌교)\",\"city\"] = \"보성\"\n",
        "df4.loc[df4[\"city\"]==\"울진(후포)\",\"city\"] = \"울진\"\n",
        "df4.loc[df4[\"city\"]==\"논\",\"city\"] = \"논산\"\n",
        "df4.loc[df4[\"city\"]==\"논\",\"city\"] = \"논산\"\n",
        "df4.loc[df4[\"city\"]==\"순\",\"city\"] = \"순창\"\n",
        "df4.loc[df4[\"city\"]==\"익\",\"city\"] = \"익산\"\n",
        "df4.loc[df4[\"city\"]==\"미금\",\"city\"] = \"성남\"\n",
        "df4.loc[df4[\"city\"]==\"주문진\",\"city\"] = \"강릉\"\n",
        "df4.loc[df4[\"city\"]==\"울릉도\",\"city\"] = \"울릉\"\n",
        "df4.loc[df4[\"city\"]==\"거제(장승포)\",\"city\"] = \"거제\"\n",
        "df4.loc[df4[\"city\"]==\"남양\",\"city\"] = \"남양주\"\n",
        "df4.loc[(df4[\"city\"]==\"완\")&(df4[\"state\"]==\"전북\"),\"city\"] = \"완주\"\n",
        "df4.loc[(df4[\"state\"]==\"전북\")&(df4[\"city\"]==\"남\"),\"city\"] = \"남원\"\n",
        "df4.loc[(df4['prd']==\"호박\") & (df4['state']=='전북'),\"city\"] = \"전주\"\n",
        "df4.loc[(df4[\"state\"]==\"전남\")&(df4[\"city\"]==\"신\"),\"city\"] = \"신안\"\n",
        "df4.loc[(df4[\"state\"]==\"전북\")&(df4[\"city\"]==\"장\"),\"city\"] = \"장수\"\n",
        "df4.loc[(df4[\"state\"]==\"전남\")&(df4[\"city\"]==\"진\"),\"city\"] = \"진도\"\n",
        "df4.loc[(df4[\"state\"]==\"충남\")&(df4[\"city\"]==\"부\"),\"city\"] = \"부여\"\n",
        "df4.loc[(df4[\"state\"]==\"경남\")&(df4[\"city\"]==\"의\"),\"city\"] = \"의령\"\n",
        "df4.loc[(df4[\"state\"]==\"전남\")&(df4[\"city\"]==\"함\"),\"city\"] = \"함평\"\n",
        "df4.loc[(df4[\"state\"]==\"경북\")&(df4[\"city\"]==\"영\"),\"city\"] = \"영주\"\n",
        "df4.loc[(df4[\"state\"]==\"경북\")&(df4[\"city\"]==\"안\"),\"city\"] = \"안동\"\n",
        "df4.loc[(df4[\"state\"]==\"경남\")&(df4[\"city\"]==\"거\"),\"city\"] = \"거창\"\n",
        "df4.loc[(df4[\"state\"]==\"경남\")&(df4[\"city\"]==\"합\"),\"city\"] = \"합천\"\n",
        "# 전라남도 장 -> 장흥, 장성 두개 있으므로 구분 불가, 삭제\n",
        "df4.drop(df4[(df4[\"city\"]==\"장\")&(df4[\"state\"]==\"전남\")].index,inplace=True)\n",
        "\n",
        "## 광역시\n",
        "df4.loc[df4[\"city\"]==\"강서구\",\"city\"] = \"서울\"\n",
        "df4.loc[df4[\"city\"]==\"은평구\",\"city\"] = \"서울\"\n",
        "df4.loc[df4[\"city\"]==\"강동구\",\"city\"] = \"서울\"\n",
        "df4.loc[df4[\"city\"]==\"마포구\",\"city\"] = \"서울\"\n",
        "df4.loc[df4[\"city\"]==\"중구\",\"city\"] = \"서울\"\n",
        "df4.loc[df4[\"city\"]==\"송파구\",\"city\"] = \"서울\"\n",
        "df4.loc[df4[\"city\"]==\"도봉구\",\"city\"] = \"서울\"\n",
        "df4.loc[df4[\"city\"]==\"중랑구\",\"city\"] = \"서울\"\n",
        "df4.loc[df4[\"city\"]==\"양천구\",\"city\"] = \"서울\"\n",
        "df4.loc[df4[\"city\"]==\"성동구\",\"city\"] = \"서울\"\n",
        "df4.loc[df4[\"city\"]==\"강남구\",\"city\"] = \"서울\"\n",
        "df4.loc[df4[\"city\"]==\"동대문구\",\"city\"] = \"서울\"\n",
        "df4.loc[df4[\"city\"]==\"영등포구\",\"city\"] = \"서울\"\n",
        "df4.loc[df4[\"city\"]==\"영등포\",\"city\"] = \"서울\"\n",
        "df4.loc[df4[\"city\"]==\"서초구\",\"city\"] = \"서울\"\n",
        "df4.loc[df4[\"city\"]==\"구로구\",\"city\"] = \"서울\"\n",
        "df4.loc[df4[\"city\"]==\"동대문\",\"city\"] = \"서울\"\n",
        "df4.loc[df4[\"city\"]==\"금천구\",\"city\"] = \"서울\"\n",
        "df4.loc[df4[\"city\"]==\"동작구\",\"city\"] = \"서울\"\n",
        "df4.loc[df4[\"city\"]==\"용산구\",\"city\"] = \"서울\"\n",
        "df4.loc[df4[\"city\"]==\"광진구\",\"city\"] = \"서울\"\n",
        "df4.loc[df4[\"city\"]==\"종로구\",\"city\"] = \"서울\"\n",
        "df4.loc[df4[\"city\"]==\"서대문구\",\"city\"] = \"서울\"\n",
        "df4.loc[df4[\"city\"]==\"서대문\",\"city\"] = \"서울\"\n",
        "df4.loc[df4[\"city\"]==\"성북구\",\"city\"] = \"서울\"\n",
        "df4.loc[df4[\"city\"]==\"관악구\",\"city\"] = \"서울\"\n",
        "\n",
        "df4.loc[df4[\"city\"]==\"광산구\",\"city\"] = \"광주\"\n",
        "df4.loc[(df4[\"state\"]==\"광주\")&(df4[\"city\"]==\"남구\"),\"city\"] = \"광주\"\n",
        "df4.loc[(df4[\"state\"]==\"광주\")&(df4[\"city\"]==\"북구\"),\"city\"] = \"광주\"\n",
        "df4.loc[(df4[\"state\"]==\"광주\")&(df4[\"city\"]==\"서구\"),\"city\"] = \"광주\"\n",
        "df4.loc[df4[\"city\"]==\"동구\",\"city\"] = \"광주\"\n",
        "df4.loc[(df4[\"state\"]==\"인천\")&(df4[\"city\"]==\"남구\"),\"city\"] = \"인천\"\n",
        "df4.loc[(df4[\"state\"]==\"인천\")&(df4[\"city\"]==\"서구\"),\"city\"] = \"인천\"\n",
        "df4.loc[df4[\"city\"]==\"미추홀\",\"city\"] = \"인천\"\n",
        "df4.loc[df4[\"city\"]==\"부평구\",\"city\"] = \"인천\"\n",
        "df4.loc[df4[\"city\"]==\"남동구\",\"city\"] = \"인천\"\n",
        "df4.loc[df4[\"city\"]==\"미추홀구\",\"city\"] = \"인천\"\n",
        "df4.loc[df4[\"city\"]==\"계양구\",\"city\"] = \"인천\"\n",
        "df4.loc[df4[\"city\"]==\"마산(고성,진해)\",\"city\"] = \"창원\"\n",
        "df4.loc[(df4[\"state\"]==\"부산\")&(df4[\"city\"]==\"북구\"),\"city\"] = \"부산\"\n",
        "df4.loc[df4[\"city\"]==\"오포\",\"city\"] = \"부산\"\n",
        "df4.loc[df4[\"city\"]==\"부산진\",\"city\"] = \"부산\"\n",
        "df4.loc[df4[\"city\"]==\"사상구\",\"city\"] = \"부산\"\n",
        "df4.loc[df4[\"city\"]==\"부산진구\",\"city\"] = \"부산\"\n",
        "df4.loc[df4[\"city\"]==\"북제주\",\"city\"] = \"제주\"\n",
        "df4.loc[df4[\"city\"]==\"남제주\",\"city\"] = \"제주\"\n",
        "df4.loc[df4[\"city\"]==\"고성(거진,대진)\",\"city\"] = \"고성\"\n",
        "\n",
        "# 해외\n",
        "## 아시아\n",
        "df4.loc[df4[\"city\"]==\"러\",\"city\"] = \"러시아\"\n",
        "df4.loc[df4[\"city\"]==\"말레이지아\",\"city\"] = \"말레이시아\"\n",
        "df4.loc[df4[\"city\"]==\"타이\",\"city\"] = \"태국\"\n",
        "df4.loc[df4[\"city\"]==\"인도네\",\"city\"] = \"인도네시아\"\n",
        "df4.loc[df4[\"city\"]==\"사우디\",\"city\"] = \"사우디아라비아\"\n",
        "## 아메리카\n",
        "df4.loc[df4[\"city\"]==\"멕\",\"city\"] = \"멕시코\"\n",
        "## 아프리카\n",
        "df4.loc[df4[\"city\"]==\"남아공산\",\"city\"] = \"남아공\"\n",
        "## 유럽\n",
        "## 오세아니아"
      ]
    },
    {
      "cell_type": "code",
      "execution_count": 931,
      "metadata": {},
      "outputs": [],
      "source": [
        "#df2[(df2['prd']=='양파') & (df2['price']==23000) & (df2['scale']==15)]['origin'].unique()"
      ]
    },
    {
      "cell_type": "code",
      "execution_count": 932,
      "metadata": {},
      "outputs": [
        {
          "data": {
            "text/plain": [
              "array(['미상', '안성', '평창', '이천', '홍천', '함양', '인제', '화성', '정선', '창녕', '대구',\n",
              "       '태백', '구미', '경산', '영양', '영천', '합천', '여주', '평택', '남양주', '영덕', '광주',\n",
              "       '청송', '봉화', '의성', '영주', '김천', '안동', '거창', '고령', '김포', '상주', '구리',\n",
              "       '문경', '횡성', '세종', '파주', '서울', '양구', '포천', '청도', '산청', '밀양', '양평',\n",
              "       '용인', '예천', '의령', '군위', '성남', '오산', '하남', '철원', '고양', '함안', '울진',\n",
              "       '남해', '칠곡', '영월', '연천', '삼척', '화천', '춘천', '성주', '양양', '강릉', '고성',\n",
              "       '안양', '가평', '양주', '하동', '양산', '부산', '포항', '창원', '중국', '진주', '경주',\n",
              "       '수원', '김해', '안산', '시흥', '부천', '제주', '사천', '광명', '의정부', '원주', '대전',\n",
              "       '통영'], dtype=object)"
            ]
          },
          "execution_count": 932,
          "metadata": {},
          "output_type": "execute_result"
        }
      ],
      "source": [
        "df4['city'].unique()"
      ]
    },
    {
      "cell_type": "code",
      "execution_count": 933,
      "metadata": {},
      "outputs": [
        {
          "data": {
            "text/plain": [
              "array([], dtype=object)"
            ]
          },
          "execution_count": 933,
          "metadata": {},
          "output_type": "execute_result"
        }
      ],
      "source": [
        "# 기존 city 리스트와 비교\n",
        "ex_city = pd.read_csv(\"../cities.csv\")\n",
        "df4[~df4['city'].isin(ex_city['city'])]['city'].unique()"
      ]
    },
    {
      "cell_type": "code",
      "execution_count": 934,
      "metadata": {},
      "outputs": [
        {
          "name": "stderr",
          "output_type": "stream",
          "text": [
            "/var/folders/nq/s4zx76p53d11lnr0t1dxpxh00000gn/T/ipykernel_6955/1856950528.py:3: FutureWarning: The frame.append method is deprecated and will be removed from pandas in a future version. Use pandas.concat instead.\n",
            "  cities = ex_city.append(new_city,ignore_index=True)\n"
          ]
        }
      ],
      "source": [
        "# 리스트 최신화\n",
        "new_city = pd.DataFrame(df4['city'].unique(),columns=['city'])\n",
        "cities = ex_city.append(new_city,ignore_index=True)"
      ]
    },
    {
      "cell_type": "code",
      "execution_count": 935,
      "metadata": {},
      "outputs": [],
      "source": [
        "cities.drop(columns=['Unnamed: 0'],inplace=True)\n",
        "cities.drop_duplicates(inplace=True)\n",
        "cities.reset_index(inplace=True,drop=True)"
      ]
    },
    {
      "cell_type": "code",
      "execution_count": 936,
      "metadata": {},
      "outputs": [],
      "source": [
        "cities.to_csv('../cities.csv')"
      ]
    },
    {
      "cell_type": "code",
      "execution_count": 937,
      "metadata": {
        "id": "vi6fJirdV7Gz"
      },
      "outputs": [],
      "source": [
        "# 처리 완료하였으니 df4는 백업으로 두고 df5 활용\n",
        "df5 = df4.drop(columns='origin')"
      ]
    },
    {
      "cell_type": "markdown",
      "metadata": {
        "id": "CoWdniywxHwf"
      },
      "source": [
        "# 전처리 결과"
      ]
    },
    {
      "cell_type": "markdown",
      "metadata": {
        "id": "t709mbs6xMkS"
      },
      "source": [
        "# 파일 저장"
      ]
    },
    {
      "cell_type": "code",
      "execution_count": 938,
      "metadata": {},
      "outputs": [
        {
          "name": "stdout",
          "output_type": "stream",
          "text": [
            "<class 'pandas.core.frame.DataFrame'>\n",
            "Int64Index: 417837 entries, 651 to 9626302\n",
            "Data columns (total 9 columns):\n",
            " #   Column     Non-Null Count   Dtype         \n",
            "---  ------     --------------   -----         \n",
            " 0   prd        417837 non-null  object        \n",
            " 1   scale      417837 non-null  float64       \n",
            " 2   price      417837 non-null  int64         \n",
            " 3   eco        417837 non-null  object        \n",
            " 4   reg_date   417837 non-null  datetime64[ns]\n",
            " 5   new_class  417837 non-null  int64         \n",
            " 6   price_kg   417837 non-null  float64       \n",
            " 7   state      417837 non-null  object        \n",
            " 8   city       417837 non-null  object        \n",
            "dtypes: datetime64[ns](1), float64(2), int64(2), object(4)\n",
            "memory usage: 31.9+ MB\n"
          ]
        }
      ],
      "source": [
        "# parquet 파일로 변환하여 용량 줄이기\n",
        "df5.info()"
      ]
    },
    {
      "cell_type": "code",
      "execution_count": 939,
      "metadata": {},
      "outputs": [
        {
          "data": {
            "text/plain": [
              "651        4\n",
              "652        4\n",
              "1160       4\n",
              "1161       4\n",
              "1162       4\n",
              "          ..\n",
              "9624666    9\n",
              "9625873    9\n",
              "9625874    9\n",
              "9626264    7\n",
              "9626302    7\n",
              "Name: new_class, Length: 417837, dtype: int64"
            ]
          },
          "execution_count": 939,
          "metadata": {},
          "output_type": "execute_result"
        }
      ],
      "source": [
        "df5['new_class']"
      ]
    },
    {
      "cell_type": "code",
      "execution_count": 940,
      "metadata": {
        "id": "tEfggl4M5rFG"
      },
      "outputs": [],
      "source": [
        "address2 = \"/Users/luci031/Desktop/Coding/g_auction/data_ingredients/auction_\"+\"202201_10\"+\".parquet\"\n",
        "df5.to_parquet(address2,engine=\"pyarrow\", compression='gzip')"
      ]
    }
  ],
  "metadata": {
    "colab": {
      "collapsed_sections": [],
      "name": "pre_processing_2022_06.ipynb",
      "provenance": [],
      "toc_visible": true
    },
    "kernelspec": {
      "display_name": "Python 3.8.13 ('yds')",
      "language": "python",
      "name": "python3"
    },
    "language_info": {
      "codemirror_mode": {
        "name": "ipython",
        "version": 3
      },
      "file_extension": ".py",
      "mimetype": "text/x-python",
      "name": "python",
      "nbconvert_exporter": "python",
      "pygments_lexer": "ipython3",
      "version": "3.8.13"
    },
    "vscode": {
      "interpreter": {
        "hash": "edd2e1eeac16ba0124adb27271db416cf5b91db76e0734afe4505ea0738c76e5"
      }
    }
  },
  "nbformat": 4,
  "nbformat_minor": 0
}
