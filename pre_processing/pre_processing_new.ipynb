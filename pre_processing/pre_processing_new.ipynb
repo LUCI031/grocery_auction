{
  "cells": [
    {
      "cell_type": "markdown",
      "metadata": {
        "id": "uhJXKN_71HKz"
      },
      "source": [
        "# 개요"
      ]
    },
    {
      "cell_type": "markdown",
      "metadata": {
        "id": "T02KSzGz1iMO"
      },
      "source": [
        "# Prepare"
      ]
    },
    {
      "cell_type": "markdown",
      "metadata": {
        "id": "bfqE9z4W1JQh"
      },
      "source": [
        "# 1. 초기 세팅"
      ]
    },
    {
      "cell_type": "markdown",
      "metadata": {
        "id": "fG4uSp2B1Ph7"
      },
      "source": [
        "## Library & data load"
      ]
    },
    {
      "cell_type": "code",
      "execution_count": 1,
      "metadata": {
        "id": "c2zXAOvOq96i"
      },
      "outputs": [],
      "source": [
        "import pandas as pd\n",
        "import numpy as np\n",
        "import matplotlib.pyplot as plt\n",
        "import seaborn as sns\n",
        "import datetime as dt\n",
        "import re"
      ]
    },
    {
      "cell_type": "code",
      "execution_count": 250,
      "metadata": {},
      "outputs": [
        {
          "name": "stderr",
          "output_type": "stream",
          "text": [
            "/var/folders/nq/s4zx76p53d11lnr0t1dxpxh00000gn/T/ipykernel_6298/1118558165.py:8: DtypeWarning: Columns (3) have mixed types. Specify dtype option on import or set low_memory=False.\n",
            "  a = pd.read_csv(address,encoding='euc_kr',sep=',')\n"
          ]
        }
      ],
      "source": [
        "# 데이터 불러오기\n",
        "# 2017~2019\n",
        "df_lst = []\n",
        "names = ['2017','2018','201901_06','201907_12']\n",
        "for name in names:\n",
        "    address = \"/Users/luci031/Desktop/Coding/g_auction/data_origin/auction_\"+name+\".csv\"\n",
        "    if name == '201907_12':\n",
        "        a = pd.read_csv(address,encoding='euc_kr',sep=',')\n",
        "    else:\n",
        "        a = pd.read_csv(address,encoding='euc_kr',sep=';')\n",
        "    df_lst.append(a)\n",
        "\n",
        "# 2020~    \n",
        "for year in range(2020,2023):\n",
        "    if year < 2022: lim = 13 \n",
        "    else: lim = 11\n",
        "    for i in range(1,lim):\n",
        "        if i < 13:\n",
        "            if i < 10:\n",
        "                df_name = \"auction_\"+str(year)+\"0\"+str(i)\n",
        "            else:\n",
        "                df_name = \"auction_\"+str(year)+str(i)\n",
        "        a = pd.read_csv(\"/Users/luci031/Desktop/Coding/g_auction/data_origin/\"+df_name+\".csv\",encoding='euc_kr')\n",
        "        df_lst.append(a)\n",
        "\n",
        "    # 데이터 전처리\n",
        "for df in df_lst:\n",
        "    df.reset_index(inplace=True,drop=True)\n",
        "    if 'Unnamed: 0' in df.columns:\n",
        "        df.drop(columns=['Unnamed: 0'],inplace=True)\n",
        "\n",
        "# 모든 데이터 통합\n",
        "df = df_lst[0]\n",
        "for dfs in df_lst[1:]:\n",
        "    df = pd.concat([df,dfs])\n",
        "\n",
        "df.reset_index(inplace=True,drop=True)"
      ]
    },
    {
      "cell_type": "markdown",
      "metadata": {
        "id": "yINECbV-4eRb"
      },
      "source": [
        "# Pre-Processing"
      ]
    },
    {
      "cell_type": "code",
      "execution_count": 3,
      "metadata": {},
      "outputs": [
        {
          "ename": "ParserError",
          "evalue": "Error tokenizing data. C error: Expected 1 fields in line 3850, saw 2\n",
          "output_type": "error",
          "traceback": [
            "\u001b[0;31m---------------------------------------------------------------------------\u001b[0m",
            "\u001b[0;31mParserError\u001b[0m                               Traceback (most recent call last)",
            "\u001b[1;32m/Users/luci031/Desktop/Coding/g_auction/pre_processing/pre_processing_new.ipynb 셀 8\u001b[0m in \u001b[0;36m<cell line: 1>\u001b[0;34m()\u001b[0m\n\u001b[0;32m----> <a href='vscode-notebook-cell:/Users/luci031/Desktop/Coding/g_auction/pre_processing/pre_processing_new.ipynb#Y155sZmlsZQ%3D%3D?line=0'>1</a>\u001b[0m df \u001b[39m=\u001b[39m pd\u001b[39m.\u001b[39;49mread_csv(\u001b[39m\"\u001b[39;49m\u001b[39m/Users/luci031/Downloads/농수산물_경매_2018.csv\u001b[39;49m\u001b[39m\"\u001b[39;49m,encoding\u001b[39m=\u001b[39;49m\u001b[39m\"\u001b[39;49m\u001b[39meuc_kr\u001b[39;49m\u001b[39m\"\u001b[39;49m)\n",
            "File \u001b[0;32m~/miniforge3/envs/yds/lib/python3.8/site-packages/pandas/util/_decorators.py:311\u001b[0m, in \u001b[0;36mdeprecate_nonkeyword_arguments.<locals>.decorate.<locals>.wrapper\u001b[0;34m(*args, **kwargs)\u001b[0m\n\u001b[1;32m    305\u001b[0m \u001b[39mif\u001b[39;00m \u001b[39mlen\u001b[39m(args) \u001b[39m>\u001b[39m num_allow_args:\n\u001b[1;32m    306\u001b[0m     warnings\u001b[39m.\u001b[39mwarn(\n\u001b[1;32m    307\u001b[0m         msg\u001b[39m.\u001b[39mformat(arguments\u001b[39m=\u001b[39marguments),\n\u001b[1;32m    308\u001b[0m         \u001b[39mFutureWarning\u001b[39;00m,\n\u001b[1;32m    309\u001b[0m         stacklevel\u001b[39m=\u001b[39mstacklevel,\n\u001b[1;32m    310\u001b[0m     )\n\u001b[0;32m--> 311\u001b[0m \u001b[39mreturn\u001b[39;00m func(\u001b[39m*\u001b[39;49margs, \u001b[39m*\u001b[39;49m\u001b[39m*\u001b[39;49mkwargs)\n",
            "File \u001b[0;32m~/miniforge3/envs/yds/lib/python3.8/site-packages/pandas/io/parsers/readers.py:680\u001b[0m, in \u001b[0;36mread_csv\u001b[0;34m(filepath_or_buffer, sep, delimiter, header, names, index_col, usecols, squeeze, prefix, mangle_dupe_cols, dtype, engine, converters, true_values, false_values, skipinitialspace, skiprows, skipfooter, nrows, na_values, keep_default_na, na_filter, verbose, skip_blank_lines, parse_dates, infer_datetime_format, keep_date_col, date_parser, dayfirst, cache_dates, iterator, chunksize, compression, thousands, decimal, lineterminator, quotechar, quoting, doublequote, escapechar, comment, encoding, encoding_errors, dialect, error_bad_lines, warn_bad_lines, on_bad_lines, delim_whitespace, low_memory, memory_map, float_precision, storage_options)\u001b[0m\n\u001b[1;32m    665\u001b[0m kwds_defaults \u001b[39m=\u001b[39m _refine_defaults_read(\n\u001b[1;32m    666\u001b[0m     dialect,\n\u001b[1;32m    667\u001b[0m     delimiter,\n\u001b[0;32m   (...)\u001b[0m\n\u001b[1;32m    676\u001b[0m     defaults\u001b[39m=\u001b[39m{\u001b[39m\"\u001b[39m\u001b[39mdelimiter\u001b[39m\u001b[39m\"\u001b[39m: \u001b[39m\"\u001b[39m\u001b[39m,\u001b[39m\u001b[39m\"\u001b[39m},\n\u001b[1;32m    677\u001b[0m )\n\u001b[1;32m    678\u001b[0m kwds\u001b[39m.\u001b[39mupdate(kwds_defaults)\n\u001b[0;32m--> 680\u001b[0m \u001b[39mreturn\u001b[39;00m _read(filepath_or_buffer, kwds)\n",
            "File \u001b[0;32m~/miniforge3/envs/yds/lib/python3.8/site-packages/pandas/io/parsers/readers.py:581\u001b[0m, in \u001b[0;36m_read\u001b[0;34m(filepath_or_buffer, kwds)\u001b[0m\n\u001b[1;32m    578\u001b[0m     \u001b[39mreturn\u001b[39;00m parser\n\u001b[1;32m    580\u001b[0m \u001b[39mwith\u001b[39;00m parser:\n\u001b[0;32m--> 581\u001b[0m     \u001b[39mreturn\u001b[39;00m parser\u001b[39m.\u001b[39;49mread(nrows)\n",
            "File \u001b[0;32m~/miniforge3/envs/yds/lib/python3.8/site-packages/pandas/io/parsers/readers.py:1255\u001b[0m, in \u001b[0;36mTextFileReader.read\u001b[0;34m(self, nrows)\u001b[0m\n\u001b[1;32m   1253\u001b[0m nrows \u001b[39m=\u001b[39m validate_integer(\u001b[39m\"\u001b[39m\u001b[39mnrows\u001b[39m\u001b[39m\"\u001b[39m, nrows)\n\u001b[1;32m   1254\u001b[0m \u001b[39mtry\u001b[39;00m:\n\u001b[0;32m-> 1255\u001b[0m     index, columns, col_dict \u001b[39m=\u001b[39m \u001b[39mself\u001b[39;49m\u001b[39m.\u001b[39;49m_engine\u001b[39m.\u001b[39;49mread(nrows)\n\u001b[1;32m   1256\u001b[0m \u001b[39mexcept\u001b[39;00m \u001b[39mException\u001b[39;00m:\n\u001b[1;32m   1257\u001b[0m     \u001b[39mself\u001b[39m\u001b[39m.\u001b[39mclose()\n",
            "File \u001b[0;32m~/miniforge3/envs/yds/lib/python3.8/site-packages/pandas/io/parsers/c_parser_wrapper.py:225\u001b[0m, in \u001b[0;36mCParserWrapper.read\u001b[0;34m(self, nrows)\u001b[0m\n\u001b[1;32m    223\u001b[0m \u001b[39mtry\u001b[39;00m:\n\u001b[1;32m    224\u001b[0m     \u001b[39mif\u001b[39;00m \u001b[39mself\u001b[39m\u001b[39m.\u001b[39mlow_memory:\n\u001b[0;32m--> 225\u001b[0m         chunks \u001b[39m=\u001b[39m \u001b[39mself\u001b[39;49m\u001b[39m.\u001b[39;49m_reader\u001b[39m.\u001b[39;49mread_low_memory(nrows)\n\u001b[1;32m    226\u001b[0m         \u001b[39m# destructive to chunks\u001b[39;00m\n\u001b[1;32m    227\u001b[0m         data \u001b[39m=\u001b[39m _concatenate_chunks(chunks)\n",
            "File \u001b[0;32m~/miniforge3/envs/yds/lib/python3.8/site-packages/pandas/_libs/parsers.pyx:805\u001b[0m, in \u001b[0;36mpandas._libs.parsers.TextReader.read_low_memory\u001b[0;34m()\u001b[0m\n",
            "File \u001b[0;32m~/miniforge3/envs/yds/lib/python3.8/site-packages/pandas/_libs/parsers.pyx:861\u001b[0m, in \u001b[0;36mpandas._libs.parsers.TextReader._read_rows\u001b[0;34m()\u001b[0m\n",
            "File \u001b[0;32m~/miniforge3/envs/yds/lib/python3.8/site-packages/pandas/_libs/parsers.pyx:847\u001b[0m, in \u001b[0;36mpandas._libs.parsers.TextReader._tokenize_rows\u001b[0;34m()\u001b[0m\n",
            "File \u001b[0;32m~/miniforge3/envs/yds/lib/python3.8/site-packages/pandas/_libs/parsers.pyx:1960\u001b[0m, in \u001b[0;36mpandas._libs.parsers.raise_parser_error\u001b[0;34m()\u001b[0m\n",
            "\u001b[0;31mParserError\u001b[0m: Error tokenizing data. C error: Expected 1 fields in line 3850, saw 2\n"
          ]
        }
      ],
      "source": [
        "df = pd.read_csv(\"/Users/luci031/Downloads/농수산물_경매_2018.csv\",encoding=\"euc_kr\")"
      ]
    },
    {
      "cell_type": "code",
      "execution_count": 254,
      "metadata": {},
      "outputs": [
        {
          "data": {
            "text/html": [
              "<div>\n",
              "<style scoped>\n",
              "    .dataframe tbody tr th:only-of-type {\n",
              "        vertical-align: middle;\n",
              "    }\n",
              "\n",
              "    .dataframe tbody tr th {\n",
              "        vertical-align: top;\n",
              "    }\n",
              "\n",
              "    .dataframe thead th {\n",
              "        text-align: right;\n",
              "    }\n",
              "</style>\n",
              "<table border=\"1\" class=\"dataframe\">\n",
              "  <thead>\n",
              "    <tr style=\"text-align: right;\">\n",
              "      <th></th>\n",
              "      <th>품목명</th>\n",
              "      <th>단위</th>\n",
              "      <th>등급</th>\n",
              "      <th>가격</th>\n",
              "      <th>산지</th>\n",
              "      <th>친환경구분</th>\n",
              "      <th>입력일</th>\n",
              "    </tr>\n",
              "  </thead>\n",
              "  <tbody>\n",
              "    <tr>\n",
              "      <th>9232754</th>\n",
              "      <td>[갓]돌갓</td>\n",
              "      <td>8kg</td>\n",
              "      <td>특(1등)</td>\n",
              "      <td>10100</td>\n",
              "      <td>경기 포천시</td>\n",
              "      <td>일반</td>\n",
              "      <td>20200213</td>\n",
              "    </tr>\n",
              "    <tr>\n",
              "      <th>9232755</th>\n",
              "      <td>[갓]돌갓</td>\n",
              "      <td>8kg</td>\n",
              "      <td>특(1등)</td>\n",
              "      <td>9500</td>\n",
              "      <td>경기 포천시</td>\n",
              "      <td>일반</td>\n",
              "      <td>20200213</td>\n",
              "    </tr>\n",
              "    <tr>\n",
              "      <th>9232756</th>\n",
              "      <td>[갓]갓</td>\n",
              "      <td>10kg</td>\n",
              "      <td>특(1등)</td>\n",
              "      <td>11000</td>\n",
              "      <td>전남 무안군</td>\n",
              "      <td>일반</td>\n",
              "      <td>20200213</td>\n",
              "    </tr>\n",
              "    <tr>\n",
              "      <th>9232757</th>\n",
              "      <td>[갓]갓</td>\n",
              "      <td>10kg</td>\n",
              "      <td>특(1등)</td>\n",
              "      <td>13000</td>\n",
              "      <td>전남 무안군</td>\n",
              "      <td>일반</td>\n",
              "      <td>20200213</td>\n",
              "    </tr>\n",
              "  </tbody>\n",
              "</table>\n",
              "</div>"
            ],
            "text/plain": [
              "           품목명    단위     등급     가격      산지 친환경구분       입력일\n",
              "9232754  [갓]돌갓   8kg  특(1등)  10100  경기 포천시    일반  20200213\n",
              "9232755  [갓]돌갓   8kg  특(1등)   9500  경기 포천시    일반  20200213\n",
              "9232756   [갓]갓  10kg  특(1등)  11000  전남 무안군    일반  20200213\n",
              "9232757   [갓]갓  10kg  특(1등)  13000  전남 무안군    일반  20200213"
            ]
          },
          "execution_count": 254,
          "metadata": {},
          "output_type": "execute_result"
        }
      ],
      "source": [
        "df[(df['품목명'].str.contains('갓')) & (df['입력일']==20200213)]"
      ]
    },
    {
      "cell_type": "code",
      "execution_count": 255,
      "metadata": {},
      "outputs": [
        {
          "data": {
            "text/html": [
              "<div>\n",
              "<style scoped>\n",
              "    .dataframe tbody tr th:only-of-type {\n",
              "        vertical-align: middle;\n",
              "    }\n",
              "\n",
              "    .dataframe tbody tr th {\n",
              "        vertical-align: top;\n",
              "    }\n",
              "\n",
              "    .dataframe thead th {\n",
              "        text-align: right;\n",
              "    }\n",
              "</style>\n",
              "<table border=\"1\" class=\"dataframe\">\n",
              "  <thead>\n",
              "    <tr style=\"text-align: right;\">\n",
              "      <th></th>\n",
              "      <th>품목명</th>\n",
              "      <th>단위</th>\n",
              "      <th>등급</th>\n",
              "      <th>가격</th>\n",
              "      <th>산지</th>\n",
              "      <th>친환경구분</th>\n",
              "      <th>입력일</th>\n",
              "    </tr>\n",
              "  </thead>\n",
              "  <tbody>\n",
              "    <tr>\n",
              "      <th>0</th>\n",
              "      <td>[포도]샤인마스캇</td>\n",
              "      <td>4kg</td>\n",
              "      <td>특(1등)</td>\n",
              "      <td>33000</td>\n",
              "      <td>충북 영동군</td>\n",
              "      <td>일반</td>\n",
              "      <td>20171101</td>\n",
              "    </tr>\n",
              "    <tr>\n",
              "      <th>1</th>\n",
              "      <td>[감]감(대봉)</td>\n",
              "      <td>10kg</td>\n",
              "      <td>특(1등)</td>\n",
              "      <td>7500</td>\n",
              "      <td>경남 진주시</td>\n",
              "      <td>일반</td>\n",
              "      <td>20171101</td>\n",
              "    </tr>\n",
              "    <tr>\n",
              "      <th>2</th>\n",
              "      <td>[포도]샤인마스캇</td>\n",
              "      <td>2kg</td>\n",
              "      <td>특(1등)</td>\n",
              "      <td>18000</td>\n",
              "      <td>충북 영동군</td>\n",
              "      <td>일반</td>\n",
              "      <td>20171101</td>\n",
              "    </tr>\n",
              "    <tr>\n",
              "      <th>3</th>\n",
              "      <td>[감]감(대봉)</td>\n",
              "      <td>10kg</td>\n",
              "      <td>특(1등)</td>\n",
              "      <td>7500</td>\n",
              "      <td>경남 진주시</td>\n",
              "      <td>일반</td>\n",
              "      <td>20171101</td>\n",
              "    </tr>\n",
              "    <tr>\n",
              "      <th>4</th>\n",
              "      <td>[포도]샤인마스캇</td>\n",
              "      <td>2kg</td>\n",
              "      <td>특(1등)</td>\n",
              "      <td>15000</td>\n",
              "      <td>충북 영동군</td>\n",
              "      <td>일반</td>\n",
              "      <td>20171101</td>\n",
              "    </tr>\n",
              "    <tr>\n",
              "      <th>...</th>\n",
              "      <td>...</td>\n",
              "      <td>...</td>\n",
              "      <td>...</td>\n",
              "      <td>...</td>\n",
              "      <td>...</td>\n",
              "      <td>...</td>\n",
              "      <td>...</td>\n",
              "    </tr>\n",
              "    <tr>\n",
              "      <th>29325549</th>\n",
              "      <td>[홍합국산]홍합국산</td>\n",
              "      <td>10kg</td>\n",
              "      <td>보통(3등)</td>\n",
              "      <td>14750</td>\n",
              "      <td>전남 여수\\t</td>\n",
              "      <td>일반</td>\n",
              "      <td>20221031</td>\n",
              "    </tr>\n",
              "    <tr>\n",
              "      <th>29325550</th>\n",
              "      <td>[홍합국산]홍합국산</td>\n",
              "      <td>10kg</td>\n",
              "      <td>보통(3등)</td>\n",
              "      <td>15000</td>\n",
              "      <td>경남 마산(고성,진해)</td>\n",
              "      <td>일반</td>\n",
              "      <td>20221031</td>\n",
              "    </tr>\n",
              "    <tr>\n",
              "      <th>29325551</th>\n",
              "      <td>[홍합국산]홍합국산</td>\n",
              "      <td>10kg</td>\n",
              "      <td>보통(3등)</td>\n",
              "      <td>27000</td>\n",
              "      <td>경남 마산(고성,진해)</td>\n",
              "      <td>일반</td>\n",
              "      <td>20221031</td>\n",
              "    </tr>\n",
              "    <tr>\n",
              "      <th>29325552</th>\n",
              "      <td>[홍합국산]홍합국산</td>\n",
              "      <td>10kg</td>\n",
              "      <td>보통(3등)</td>\n",
              "      <td>14750</td>\n",
              "      <td>전남 여수\\t</td>\n",
              "      <td>일반</td>\n",
              "      <td>20221031</td>\n",
              "    </tr>\n",
              "    <tr>\n",
              "      <th>29325553</th>\n",
              "      <td>[홍합국산]홍합국산</td>\n",
              "      <td>10kg</td>\n",
              "      <td>보통(3등)</td>\n",
              "      <td>15000</td>\n",
              "      <td>경남 마산(고성,진해)</td>\n",
              "      <td>일반</td>\n",
              "      <td>20221031</td>\n",
              "    </tr>\n",
              "  </tbody>\n",
              "</table>\n",
              "<p>29325554 rows × 7 columns</p>\n",
              "</div>"
            ],
            "text/plain": [
              "                 품목명    단위      등급     가격            산지 친환경구분       입력일\n",
              "0          [포도]샤인마스캇   4kg   특(1등)  33000        충북 영동군    일반  20171101\n",
              "1           [감]감(대봉)  10kg   특(1등)   7500        경남 진주시    일반  20171101\n",
              "2          [포도]샤인마스캇   2kg   특(1등)  18000        충북 영동군    일반  20171101\n",
              "3           [감]감(대봉)  10kg   특(1등)   7500        경남 진주시    일반  20171101\n",
              "4          [포도]샤인마스캇   2kg   특(1등)  15000        충북 영동군    일반  20171101\n",
              "...              ...   ...     ...    ...           ...   ...       ...\n",
              "29325549  [홍합국산]홍합국산  10kg  보통(3등)  14750       전남 여수\\t    일반  20221031\n",
              "29325550  [홍합국산]홍합국산  10kg  보통(3등)  15000  경남 마산(고성,진해)    일반  20221031\n",
              "29325551  [홍합국산]홍합국산  10kg  보통(3등)  27000  경남 마산(고성,진해)    일반  20221031\n",
              "29325552  [홍합국산]홍합국산  10kg  보통(3등)  14750       전남 여수\\t    일반  20221031\n",
              "29325553  [홍합국산]홍합국산  10kg  보통(3등)  15000  경남 마산(고성,진해)    일반  20221031\n",
              "\n",
              "[29325554 rows x 7 columns]"
            ]
          },
          "execution_count": 255,
          "metadata": {},
          "output_type": "execute_result"
        }
      ],
      "source": [
        "df"
      ]
    },
    {
      "cell_type": "code",
      "execution_count": 256,
      "metadata": {
        "colab": {
          "base_uri": "https://localhost:8080/"
        },
        "id": "R3-Xng6M1om2",
        "outputId": "0071ee93-3ebe-436d-910b-aa30c7356468"
      },
      "outputs": [
        {
          "data": {
            "text/plain": [
              "품목명           0\n",
              "단위            0\n",
              "등급            0\n",
              "가격         4426\n",
              "산지       114353\n",
              "친환경구분         0\n",
              "입력일           0\n",
              "dtype: int64"
            ]
          },
          "execution_count": 256,
          "metadata": {},
          "output_type": "execute_result"
        }
      ],
      "source": [
        "# 결측치 확인\n",
        "df.isnull().sum()"
      ]
    },
    {
      "cell_type": "markdown",
      "metadata": {
        "id": "KiwEMLgv-7KL"
      },
      "source": [
        "- 결측치 처리"
      ]
    },
    {
      "cell_type": "code",
      "execution_count": 257,
      "metadata": {
        "id": "y52OV6yt-60b"
      },
      "outputs": [],
      "source": [
        "# 결측치 제거\n",
        "df = df.dropna(axis=0)"
      ]
    },
    {
      "cell_type": "markdown",
      "metadata": {
        "id": "tWVdZUXv7njQ"
      },
      "source": [
        "- 영문명으로 전환"
      ]
    },
    {
      "cell_type": "code",
      "execution_count": 258,
      "metadata": {
        "id": "Cpc_wblh4oLI"
      },
      "outputs": [],
      "source": [
        "df = df.rename(columns = {'품목명':'prd',\n",
        "                          '단위':'scale','등급':'class',\n",
        "                          '가격':'price',\n",
        "                          '산지':'origin',\n",
        "                          '친환경구분':'eco',\n",
        "                          '입력일':'reg_date'})"
      ]
    },
    {
      "cell_type": "markdown",
      "metadata": {
        "id": "6raN15sn8XwE"
      },
      "source": [
        "## column 별 정보"
      ]
    },
    {
      "cell_type": "markdown",
      "metadata": {
        "id": "9blCj1BqBKl9"
      },
      "source": [
        "### class"
      ]
    },
    {
      "cell_type": "code",
      "execution_count": 259,
      "metadata": {
        "id": "Y9aTlhUSBfU9"
      },
      "outputs": [],
      "source": [
        "# 등급명 변환\n",
        "df111 = pd.DataFrame([['특(1등)', 1], ['상(2등)',2], ['보통(3등)',3], ['9등(등외)',9], ['없음',9], ['5등',5], ['4등',4], ['6등',6], ['7등',7],['8등',8]],columns=['class','new_class'])\n",
        "df2 = df.merge(df111)\n",
        "df2 = df2.drop(columns='class')"
      ]
    },
    {
      "cell_type": "code",
      "execution_count": 260,
      "metadata": {},
      "outputs": [
        {
          "data": {
            "text/plain": [
              "1    22548594\n",
              "2     2897390\n",
              "3     1232321\n",
              "9     1151580\n",
              "4      127163\n",
              "5      123190\n",
              "6       39093\n",
              "7       13723\n",
              "8        3978\n",
              "Name: new_class, dtype: int64"
            ]
          },
          "execution_count": 260,
          "metadata": {},
          "output_type": "execute_result"
        }
      ],
      "source": [
        "df2['new_class'].value_counts()"
      ]
    },
    {
      "cell_type": "markdown",
      "metadata": {
        "id": "6QhhnXfKWiQL"
      },
      "source": [
        "### eco"
      ]
    },
    {
      "cell_type": "code",
      "execution_count": 261,
      "metadata": {
        "id": "XPNdAWmbWWjy"
      },
      "outputs": [],
      "source": [
        "# 영문명으로 전환\n",
        "# 전환기 -> 유기농 재배로 전환중\n",
        "df2.loc[df2[\"eco\"]==\"일반\",\"eco\"] = \"normal\"\n",
        "df2.loc[df2[\"eco\"]==\"우수농산물\",\"eco\"] = \"good_prd\"\n",
        "df2.loc[df2[\"eco\"]==\"무농약\",\"eco\"] = \"ecofriendly\"\n",
        "df2.loc[df2[\"eco\"]==\"유기농\",\"eco\"] = \"organic\"\n",
        "df2.loc[df2[\"eco\"]==\"품질인증\",\"eco\"] = \"certified\"\n",
        "df2.loc[df2[\"eco\"]==\"전환기\",\"eco\"] = \"ing\"\n",
        "df2.loc[df2[\"eco\"]==\"저농약\",\"eco\"] = \"low\"\n",
        "df2.loc[df2[\"eco\"]==\"산지안전성\",\"eco\"] = \"safe\""
      ]
    },
    {
      "cell_type": "code",
      "execution_count": 262,
      "metadata": {},
      "outputs": [
        {
          "data": {
            "text/plain": [
              "normal         25049097\n",
              "good_prd        1771161\n",
              "ecofriendly     1028131\n",
              "certified        199744\n",
              "ing               51764\n",
              "organic           28511\n",
              "low                8601\n",
              "safe                 23\n",
              "Name: eco, dtype: int64"
            ]
          },
          "execution_count": 262,
          "metadata": {},
          "output_type": "execute_result"
        }
      ],
      "source": [
        "df2['eco'].value_counts()"
      ]
    },
    {
      "cell_type": "markdown",
      "metadata": {
        "id": "ffhjwT57YNLh"
      },
      "source": [
        "### reg_date"
      ]
    },
    {
      "cell_type": "code",
      "execution_count": 263,
      "metadata": {
        "id": "0xEJoswCYUiR"
      },
      "outputs": [],
      "source": [
        "df2['reg_date'] = df2['reg_date'].astype('str')\n",
        "df2['reg_date'] = pd.to_datetime(df2['reg_date'].astype('str'),format='%Y%m%d')"
      ]
    },
    {
      "cell_type": "markdown",
      "metadata": {
        "id": "VN8Eana_Dbbl"
      },
      "source": [
        "### price"
      ]
    },
    {
      "cell_type": "code",
      "execution_count": 264,
      "metadata": {
        "id": "oZbejw0vewmJ"
      },
      "outputs": [],
      "source": [
        "# 계산을 위해 scale 값 미리 변경\n",
        "# 현재 값들은 string이므로 float 형태로 변환할 필요가 있음\n",
        "# 몇몇 이상치 처리도 진행\n",
        "def scale_checker(scale):\n",
        "  if scale.startswith('.')==True:\n",
        "    return format(float('0'+scale[:-2]),'.2f')\n",
        "  else:\n",
        "    return format(float((scale[:-2])),'.2f')\n",
        "df2['scale'] = df2['scale'].apply(scale_checker)\n",
        "df2['scale'] = df2['scale'].astype('float')\n",
        "# df2['scale'] = format(round(df2['scale'].apply(pd.to_numeric),2),'.2f')"
      ]
    },
    {
      "cell_type": "code",
      "execution_count": 265,
      "metadata": {},
      "outputs": [],
      "source": [
        "df2['price'] = pd.to_numeric(df2['price'])"
      ]
    },
    {
      "cell_type": "code",
      "execution_count": 266,
      "metadata": {},
      "outputs": [
        {
          "data": {
            "text/html": [
              "<div>\n",
              "<style scoped>\n",
              "    .dataframe tbody tr th:only-of-type {\n",
              "        vertical-align: middle;\n",
              "    }\n",
              "\n",
              "    .dataframe tbody tr th {\n",
              "        vertical-align: top;\n",
              "    }\n",
              "\n",
              "    .dataframe thead th {\n",
              "        text-align: right;\n",
              "    }\n",
              "</style>\n",
              "<table border=\"1\" class=\"dataframe\">\n",
              "  <thead>\n",
              "    <tr style=\"text-align: right;\">\n",
              "      <th></th>\n",
              "      <th>prd</th>\n",
              "      <th>scale</th>\n",
              "      <th>price</th>\n",
              "      <th>origin</th>\n",
              "      <th>eco</th>\n",
              "      <th>reg_date</th>\n",
              "      <th>new_class</th>\n",
              "    </tr>\n",
              "  </thead>\n",
              "  <tbody>\n",
              "    <tr>\n",
              "      <th>9206255</th>\n",
              "      <td>[버섯]버섯(표고버섯)</td>\n",
              "      <td>8.00000</td>\n",
              "      <td>-56000</td>\n",
              "      <td>경기 연천군</td>\n",
              "      <td>normal</td>\n",
              "      <td>2020-09-29</td>\n",
              "      <td>1</td>\n",
              "    </tr>\n",
              "    <tr>\n",
              "      <th>9223616</th>\n",
              "      <td>[버섯]버섯(표고버섯)</td>\n",
              "      <td>8.00000</td>\n",
              "      <td>-56000</td>\n",
              "      <td>경기 연천군</td>\n",
              "      <td>normal</td>\n",
              "      <td>2020-09-30</td>\n",
              "      <td>1</td>\n",
              "    </tr>\n",
              "  </tbody>\n",
              "</table>\n",
              "</div>"
            ],
            "text/plain": [
              "                  prd   scale  price  origin     eco   reg_date  new_class\n",
              "9206255  [버섯]버섯(표고버섯) 8.00000 -56000  경기 연천군  normal 2020-09-29          1\n",
              "9223616  [버섯]버섯(표고버섯) 8.00000 -56000  경기 연천군  normal 2020-09-30          1"
            ]
          },
          "execution_count": 266,
          "metadata": {},
          "output_type": "execute_result"
        }
      ],
      "source": [
        "df2[df2['price']<0]"
      ]
    },
    {
      "cell_type": "code",
      "execution_count": 267,
      "metadata": {
        "colab": {
          "base_uri": "https://localhost:8080/"
        },
        "id": "S_OXk_iDDaxM",
        "outputId": "df40b3b5-b8d5-4609-b1d1-d940826ff6bf"
      },
      "outputs": [
        {
          "data": {
            "text/plain": [
              "count   28137032.00000\n",
              "mean       22981.54938\n",
              "std       135193.20269\n",
              "min       -56000.00000\n",
              "25%         7700.00000\n",
              "50%        14000.00000\n",
              "75%        25000.00000\n",
              "max     99999999.00000\n",
              "Name: price, dtype: float64"
            ]
          },
          "execution_count": 267,
          "metadata": {},
          "output_type": "execute_result"
        }
      ],
      "source": [
        "# 1원짜리 거래 발견, 너무 거래값이 작은 값들은 삭제\n",
        "pd.options.display.float_format = '{:.5f}'.format\n",
        "df2['price'].describe()"
      ]
    },
    {
      "cell_type": "code",
      "execution_count": 268,
      "metadata": {
        "id": "PQrLwgHPVsHs"
      },
      "outputs": [],
      "source": [
        "df2 = df2.drop(df2[df2['price']<500].index)\n",
        "df2 = df2.drop(df2[df2['scale']==0].index)"
      ]
    },
    {
      "cell_type": "code",
      "execution_count": 269,
      "metadata": {
        "id": "13Js-KtTBZB5"
      },
      "outputs": [],
      "source": [
        "# kg 당 가격 생성\n",
        "df2['price_kg'] = round((df2['price']/df2['scale']),2)"
      ]
    },
    {
      "cell_type": "markdown",
      "metadata": {
        "id": "FJ4jjRUQ8cB3"
      },
      "source": [
        "### prd\n",
        "- 품목명 정리\n",
        "- 품목 종류 정리"
      ]
    },
    {
      "cell_type": "code",
      "execution_count": 270,
      "metadata": {},
      "outputs": [
        {
          "data": {
            "text/plain": [
              "count   28075568.00000\n",
              "mean        3870.47820\n",
              "std        21322.20984\n",
              "min            0.08000\n",
              "25%         1400.00000\n",
              "50%         2500.00000\n",
              "75%         4600.00000\n",
              "max     49999999.50000\n",
              "Name: price_kg, dtype: float64"
            ]
          },
          "execution_count": 270,
          "metadata": {},
          "output_type": "execute_result"
        }
      ],
      "source": [
        "df2['price_kg'].describe()"
      ]
    },
    {
      "cell_type": "code",
      "execution_count": 271,
      "metadata": {
        "colab": {
          "base_uri": "https://localhost:8080/"
        },
        "id": "pymqNuDt8qqS",
        "outputId": "1506a365-b491-4b16-f40f-4d63980bc22f"
      },
      "outputs": [
        {
          "data": {
            "text/plain": [
              "[오이]백다다기           790983\n",
              "[호박]애호박            493104\n",
              "[깻잎]깻잎             463782\n",
              "[딸기]설향             419273\n",
              "[버섯]표고버섯           389057\n",
              "                    ...  \n",
              "[기타양채]기타양채(레드쉬)         1\n",
              "[취나물]취나물(참취나물)          1\n",
              "[기타엽채]열무(엽채)            1\n",
              "[부추]조선부추                1\n",
              "[황새치국산]황새치국산            1\n",
              "Name: prd, Length: 3700, dtype: int64"
            ]
          },
          "execution_count": 271,
          "metadata": {},
          "output_type": "execute_result"
        }
      ],
      "source": [
        "# 대부분 [상품 종류]상품명 으로 정리되어 있는걸 알 수 있음\n",
        "df2['prd'].value_counts()"
      ]
    },
    {
      "cell_type": "code",
      "execution_count": 272,
      "metadata": {
        "id": "EKmhi36getHp"
      },
      "outputs": [],
      "source": [
        "# 정리를 위해 상품명 삭제\n",
        "def prd_sort(words):\n",
        "  p = re.compile('[ㄱ-힣]+')\n",
        "  word = re.search(p,words)\n",
        "  return word.group()\n",
        "\n",
        "df2['prd'] = df2['prd'].apply(prd_sort)"
      ]
    },
    {
      "cell_type": "code",
      "execution_count": 273,
      "metadata": {
        "id": "mlsCXSXMekGg"
      },
      "outputs": [],
      "source": [
        "# 기타 품목 삭제\n",
        "df2 = df2.drop(df2[df2['prd']=='기타'].index)"
      ]
    },
    {
      "cell_type": "code",
      "execution_count": 274,
      "metadata": {
        "id": "fZ8b4ETrDv5n"
      },
      "outputs": [],
      "source": [
        "# 국산,수입산,깐,기타 삭제\n",
        "def prd_sort2(words):\n",
        "  p = re.compile('[^국산수입깐기타]+')\n",
        "  word = re.search(p,str(words))\n",
        "  return word.group()\n",
        "\n",
        "df2[\"prd\"] = df2[\"prd\"].apply(prd_sort2)\n"
      ]
    },
    {
      "cell_type": "code",
      "execution_count": 275,
      "metadata": {},
      "outputs": [],
      "source": [
        "df2 = df2[(df2['prd'].str.contains('굴')) | \n",
        "    (df2['prd'].str.contains('생강')) | \n",
        "    (df2['prd'].str.contains('마늘')) | \n",
        "    (df2['prd'].str.contains('양파')) | \n",
        "    (df2['prd'].str.contains('사과')) | \n",
        "    (df2['prd'].str.contains('배')) | \n",
        "    (df2['prd'].str.contains('배추')) | \n",
        "    (df2['prd'].str.contains('무')) | \n",
        "    (df2['prd'].str.contains('총각무')) | \n",
        "    (df2['prd'].str.contains('쪽파')) | \n",
        "    (df2['prd'].str.contains('갓')) | \n",
        "    (df2['prd'].str.contains('미나리'))]"
      ]
    },
    {
      "cell_type": "code",
      "execution_count": 276,
      "metadata": {},
      "outputs": [
        {
          "data": {
            "text/plain": [
              "array(['[배추]알배기배추', '[배추]알배기', '[얼갈이배추]알배기배추', '[배추]배추(알배기)',\n",
              "       '[알배기]알배기(알배기)', '[기타엽채]기타엽채(알배기)'], dtype=object)"
            ]
          },
          "execution_count": 276,
          "metadata": {},
          "output_type": "execute_result"
        }
      ],
      "source": [
        "df[df['prd'].str.contains('알배')]['prd'].unique()"
      ]
    },
    {
      "cell_type": "code",
      "execution_count": 277,
      "metadata": {},
      "outputs": [
        {
          "data": {
            "text/plain": [
              "array(['총각무', '양파', '쪽파', '무', '갓', '무우', '무청', '무화과', '배', '배추', '순무',\n",
              "       '사과', '빨간양배추', '양배추', '마늘', '쑥갓', '생강', '미나리', '얼갈이배추', '열무',\n",
              "       '봄동배추', '무순', '알배', '엄나무', '참죽나무순', '각굴', '굴', '봉지굴', '벅굴'],\n",
              "      dtype=object)"
            ]
          },
          "execution_count": 277,
          "metadata": {},
          "output_type": "execute_result"
        }
      ],
      "source": [
        "df2['prd'].unique()"
      ]
    },
    {
      "cell_type": "code",
      "execution_count": 278,
      "metadata": {
        "id": "gbBBjoDqIjR1"
      },
      "outputs": [],
      "source": [
        "# 무우 -> 무로 통합\n",
        "df2.loc[df2[\"prd\"]==\"무우\",\"prd\"] = \"무\"\n",
        "\n",
        "#각굴 -> 굴로 통합\n",
        "df2.loc[df2[\"prd\"]==\"각굴\",\"prd\"] = \"굴\"\n",
        "df2.loc[df2[\"prd\"]==\"봉지굴\",\"prd\"] = \"굴\"\n",
        "df2.loc[df2[\"prd\"]==\"벅굴\",\"prd\"] = \"굴\"\n",
        "\n",
        "# 배추 관련 품목들 정리\n",
        "df2.loc[df2[\"prd\"]==\"봄동배추\",\"prd\"] = \"배추\"\n",
        "df2.loc[df2[\"prd\"]==\"얼갈이배추\",\"prd\"] = \"배추\"\n",
        "df2.loc[df2['prd'].str.contains('알배'),\"prd\"] = \"배추\""
      ]
    },
    {
      "cell_type": "code",
      "execution_count": 279,
      "metadata": {},
      "outputs": [],
      "source": [
        "# 김장 품목 선택\n",
        "df2 = df2[(df2['prd']=='굴') | \n",
        "    (df2['prd']=='생강') | \n",
        "    (df2['prd']=='마늘') | \n",
        "    (df2['prd']=='양파') | \n",
        "    (df2['prd']=='사과') | \n",
        "    (df2['prd']=='배') | \n",
        "    (df2['prd']=='배추') | \n",
        "    (df2['prd']=='무') | \n",
        "    (df2['prd']=='열무') | \n",
        "    (df2['prd']=='총각무') | \n",
        "    (df2['prd']=='쪽파') | \n",
        "    (df2['prd']=='갓') | \n",
        "    (df2['prd']=='미나리')]"
      ]
    },
    {
      "cell_type": "code",
      "execution_count": 280,
      "metadata": {},
      "outputs": [
        {
          "data": {
            "text/plain": [
              "사과     729651\n",
              "배추     694845\n",
              "무      504028\n",
              "양파     399728\n",
              "배      295816\n",
              "미나리    195944\n",
              "쪽파     150484\n",
              "마늘     125506\n",
              "갓       74244\n",
              "생강      56172\n",
              "열무      49924\n",
              "굴       45507\n",
              "총각무     11405\n",
              "Name: prd, dtype: int64"
            ]
          },
          "execution_count": 280,
          "metadata": {},
          "output_type": "execute_result"
        }
      ],
      "source": [
        "df2['prd'].value_counts()"
      ]
    },
    {
      "cell_type": "code",
      "execution_count": 281,
      "metadata": {
        "colab": {
          "base_uri": "https://localhost:8080/"
        },
        "id": "WZfTHQDe-jTG",
        "outputId": "7e713769-2413-4b10-db9d-348498e24708"
      },
      "outputs": [],
      "source": [
        "df3 = df2"
      ]
    },
    {
      "cell_type": "markdown",
      "metadata": {
        "id": "jPcICeSResYh"
      },
      "source": [
        "### scale"
      ]
    },
    {
      "cell_type": "code",
      "execution_count": 282,
      "metadata": {
        "colab": {
          "base_uri": "https://localhost:8080/"
        },
        "id": "4KZLpXuYYTZx",
        "outputId": "f59c1146-fdb9-4483-81a3-a0f51dd08904"
      },
      "outputs": [
        {
          "data": {
            "text/plain": [
              "array([    2.  ,    15.  ,    10.  ,     1.  ,    12.  ,     4.  ,\n",
              "           8.  ,    30.  ,    20.  ,     1.5 ,     0.5 ,    25.  ,\n",
              "          18.  ,  8000.  ,     5.  ,  5000.  ,  6000.  ,  3000.  ,\n",
              "           6.  ,     1.3 ,     3.  ,    21.  ,     7.  ,     0.2 ,\n",
              "          11.  ,    14.  ,    27.  ,    13.  ,    17.  ,     6.5 ,\n",
              "          24.  ,     9.  ,     0.4 ,    16.  ,    22.  ,  1000.  ,\n",
              "           8.5 ,     3.5 ,    35.  , 10000.  ,     7.5 ,     2.5 ,\n",
              "           0.8 ,     0.6 ,    19.  , 10320.  ,    41.  ,    23.  ,\n",
              "          31.  ,    28.  ,    99.  ,     9.5 ,    16.5 ,     4.5 ,\n",
              "       11000.  ,     4.8 ,    32.  ,    26.  , 60000.  ,     0.45,\n",
              "           5.7 ,    29.  ,    12.5 , 10500.  ,     0.1 ,    33.  ,\n",
              "           0.9 ,     0.3 ,     1.8 ,    37.  ,     2.7 ,     3.9 ,\n",
              "         820.  ,     2.2 ,     9.2 ,     4.7 ,     1.2 ,     7.8 ,\n",
              "           3.2 ,     0.7 ,    74.5 ,     7.2 ,    14.1 ,     5.5 ,\n",
              "           6.4 ,    34.  ,  2000.  ,    42.  ,  4000.  ,    38.  ,\n",
              "          14.9 ,     6.7 ,    11.5 ,   800.  ,     8.6 ,   200.  ,\n",
              "           8.7 ,    10.01,    23.5 ,    50.  ,    14.3 ,    40.  ,\n",
              "        7000.  ,     9.4 ,    11.7 ,  2500.  ,    10.5 ,    22.5 ,\n",
              "          36.  ,     3.7 ,     2.4 ,     2.8 ,     3.8 ,   101.  ,\n",
              "          75.  ,    12.6 ,    18.5 ,    15.01,     3.75,     0.18,\n",
              "           4.3 , 10050.  ,    15.02,     7.3 ,     1.58,     7.1 ,\n",
              "           0.75,  1500.  ,     1.4 ,    10.9 ,    12.8 ,     2.1 ,\n",
              "           2.3 ,    20.5 ,     5.6 ,    13.5 ,     7.53,     1.6 ,\n",
              "       12000.  ,     7.54,     8.9 ,    10.2 ,    15.5 ,    10.4 ,\n",
              "          13.7 ,   100.  ,   140.  ,     7.9 ,     8.8 ,    28.5 ,\n",
              "           6.6 ,   125.  ,    47.  ,     1.7 ,     3.6 ,     2.6 ,\n",
              "           2.72,     7.52,     6.3 ,    15.1 ,     9.08,    13.56,\n",
              "           6.8 ,     0.66,     0.55,     5.8 ,     5.2 ,     8.25,\n",
              "           7.58,     5.4 ,     0.25,     4.9 ,    11.2 ,     9.6 ,\n",
              "           1.1 ,  3500.  ,     3.3 ,    17.5 ,   110.  ,    11.4 ,\n",
              "           7.4 , 18000.  , 20000.  ,     1.9 , 15000.  ,  1215.  ,\n",
              "           6.2 ,     8.4 ,   112.  ,  1300.  , 14000.  ,    14.4 ,\n",
              "          45.  ,     7.25,    55.  , 10550.  ,    13.6 ,  6978.  ,\n",
              "        2880.  ,  5920.  ,    10.8 ,     4.2 ,    44.  ,     9.8 ,\n",
              "           7.7 ,     4.4 ,    15.4 ,   151.  ,     8.01,     5.3 ,\n",
              "         210.  ,    52.  ,    51.  ,   201.  ,    15.03,     8.2 ,\n",
              "           6.1 ,     1.32,     8.3 ,   142.  ,     7.6 ,     0.46,\n",
              "         170.  ,   121.  ,   120.  ,   107.1 ,     8.1 ,     2.9 ,\n",
              "           3.1 ,     4.1 ,   155.  ,    63.  ])"
            ]
          },
          "execution_count": 282,
          "metadata": {},
          "output_type": "execute_result"
        }
      ],
      "source": [
        "np.set_printoptions(precision=2, suppress=True)\n",
        "df3['scale'].unique()"
      ]
    },
    {
      "cell_type": "code",
      "execution_count": 283,
      "metadata": {},
      "outputs": [
        {
          "data": {
            "text/html": [
              "<div>\n",
              "<style scoped>\n",
              "    .dataframe tbody tr th:only-of-type {\n",
              "        vertical-align: middle;\n",
              "    }\n",
              "\n",
              "    .dataframe tbody tr th {\n",
              "        vertical-align: top;\n",
              "    }\n",
              "\n",
              "    .dataframe thead th {\n",
              "        text-align: right;\n",
              "    }\n",
              "</style>\n",
              "<table border=\"1\" class=\"dataframe\">\n",
              "  <thead>\n",
              "    <tr style=\"text-align: right;\">\n",
              "      <th></th>\n",
              "      <th>prd</th>\n",
              "      <th>scale</th>\n",
              "      <th>price</th>\n",
              "      <th>origin</th>\n",
              "      <th>eco</th>\n",
              "      <th>reg_date</th>\n",
              "      <th>new_class</th>\n",
              "      <th>price_kg</th>\n",
              "    </tr>\n",
              "  </thead>\n",
              "  <tbody>\n",
              "    <tr>\n",
              "      <th>1797</th>\n",
              "      <td>무</td>\n",
              "      <td>8000.00000</td>\n",
              "      <td>3500000</td>\n",
              "      <td>전북 고창군</td>\n",
              "      <td>normal</td>\n",
              "      <td>2017-11-01</td>\n",
              "      <td>1</td>\n",
              "      <td>437.50000</td>\n",
              "    </tr>\n",
              "    <tr>\n",
              "      <th>1799</th>\n",
              "      <td>무</td>\n",
              "      <td>8000.00000</td>\n",
              "      <td>2700000</td>\n",
              "      <td>충남 당진시</td>\n",
              "      <td>normal</td>\n",
              "      <td>2017-11-01</td>\n",
              "      <td>1</td>\n",
              "      <td>337.50000</td>\n",
              "    </tr>\n",
              "    <tr>\n",
              "      <th>5065</th>\n",
              "      <td>무</td>\n",
              "      <td>8000.00000</td>\n",
              "      <td>3000000</td>\n",
              "      <td>제주</td>\n",
              "      <td>normal</td>\n",
              "      <td>2017-11-01</td>\n",
              "      <td>1</td>\n",
              "      <td>375.00000</td>\n",
              "    </tr>\n",
              "    <tr>\n",
              "      <th>5067</th>\n",
              "      <td>무</td>\n",
              "      <td>5000.00000</td>\n",
              "      <td>3800000</td>\n",
              "      <td>충남 당진시</td>\n",
              "      <td>normal</td>\n",
              "      <td>2017-11-01</td>\n",
              "      <td>1</td>\n",
              "      <td>760.00000</td>\n",
              "    </tr>\n",
              "    <tr>\n",
              "      <th>5069</th>\n",
              "      <td>무</td>\n",
              "      <td>5000.00000</td>\n",
              "      <td>2700000</td>\n",
              "      <td>충남 당진시</td>\n",
              "      <td>normal</td>\n",
              "      <td>2017-11-01</td>\n",
              "      <td>1</td>\n",
              "      <td>540.00000</td>\n",
              "    </tr>\n",
              "    <tr>\n",
              "      <th>...</th>\n",
              "      <td>...</td>\n",
              "      <td>...</td>\n",
              "      <td>...</td>\n",
              "      <td>...</td>\n",
              "      <td>...</td>\n",
              "      <td>...</td>\n",
              "      <td>...</td>\n",
              "      <td>...</td>\n",
              "    </tr>\n",
              "    <tr>\n",
              "      <th>27750151</th>\n",
              "      <td>배</td>\n",
              "      <td>155.00000</td>\n",
              "      <td>30000</td>\n",
              "      <td>경기 안성시</td>\n",
              "      <td>normal</td>\n",
              "      <td>2022-01-07</td>\n",
              "      <td>3</td>\n",
              "      <td>193.55000</td>\n",
              "    </tr>\n",
              "    <tr>\n",
              "      <th>27750154</th>\n",
              "      <td>배</td>\n",
              "      <td>155.00000</td>\n",
              "      <td>25000</td>\n",
              "      <td>경기 안성시</td>\n",
              "      <td>normal</td>\n",
              "      <td>2022-01-07</td>\n",
              "      <td>3</td>\n",
              "      <td>161.29000</td>\n",
              "    </tr>\n",
              "    <tr>\n",
              "      <th>28082507</th>\n",
              "      <td>사과</td>\n",
              "      <td>63.00000</td>\n",
              "      <td>20000</td>\n",
              "      <td>경북 상주시</td>\n",
              "      <td>normal</td>\n",
              "      <td>2022-09-29</td>\n",
              "      <td>3</td>\n",
              "      <td>317.46000</td>\n",
              "    </tr>\n",
              "    <tr>\n",
              "      <th>28082508</th>\n",
              "      <td>사과</td>\n",
              "      <td>63.00000</td>\n",
              "      <td>21000</td>\n",
              "      <td>경북 상주시</td>\n",
              "      <td>normal</td>\n",
              "      <td>2022-09-29</td>\n",
              "      <td>3</td>\n",
              "      <td>333.33000</td>\n",
              "    </tr>\n",
              "    <tr>\n",
              "      <th>28082509</th>\n",
              "      <td>사과</td>\n",
              "      <td>63.00000</td>\n",
              "      <td>18000</td>\n",
              "      <td>경북 상주시</td>\n",
              "      <td>normal</td>\n",
              "      <td>2022-09-29</td>\n",
              "      <td>3</td>\n",
              "      <td>285.71000</td>\n",
              "    </tr>\n",
              "  </tbody>\n",
              "</table>\n",
              "<p>11636 rows × 8 columns</p>\n",
              "</div>"
            ],
            "text/plain": [
              "         prd      scale    price  origin     eco   reg_date  new_class  \\\n",
              "1797       무 8000.00000  3500000  전북 고창군  normal 2017-11-01          1   \n",
              "1799       무 8000.00000  2700000  충남 당진시  normal 2017-11-01          1   \n",
              "5065       무 8000.00000  3000000      제주  normal 2017-11-01          1   \n",
              "5067       무 5000.00000  3800000  충남 당진시  normal 2017-11-01          1   \n",
              "5069       무 5000.00000  2700000  충남 당진시  normal 2017-11-01          1   \n",
              "...       ..        ...      ...     ...     ...        ...        ...   \n",
              "27750151   배  155.00000    30000  경기 안성시  normal 2022-01-07          3   \n",
              "27750154   배  155.00000    25000  경기 안성시  normal 2022-01-07          3   \n",
              "28082507  사과   63.00000    20000  경북 상주시  normal 2022-09-29          3   \n",
              "28082508  사과   63.00000    21000  경북 상주시  normal 2022-09-29          3   \n",
              "28082509  사과   63.00000    18000  경북 상주시  normal 2022-09-29          3   \n",
              "\n",
              "          price_kg  \n",
              "1797     437.50000  \n",
              "1799     337.50000  \n",
              "5065     375.00000  \n",
              "5067     760.00000  \n",
              "5069     540.00000  \n",
              "...            ...  \n",
              "27750151 193.55000  \n",
              "27750154 161.29000  \n",
              "28082507 317.46000  \n",
              "28082508 333.33000  \n",
              "28082509 285.71000  \n",
              "\n",
              "[11636 rows x 8 columns]"
            ]
          },
          "execution_count": 283,
          "metadata": {},
          "output_type": "execute_result"
        }
      ],
      "source": [
        "df3[df3['scale']>=50]"
      ]
    },
    {
      "cell_type": "code",
      "execution_count": 284,
      "metadata": {
        "colab": {
          "base_uri": "https://localhost:8080/",
          "height": 1000
        },
        "id": "-43K_jyN92IZ",
        "outputId": "7b3e92a5-a0eb-4b09-bc6c-36948c74b860"
      },
      "outputs": [
        {
          "data": {
            "text/plain": [
              "array(['무', '배추', '생강', '배', '갓', '마늘', '쪽파', '양파', '사과', '열무', '미나리',\n",
              "       '굴'], dtype=object)"
            ]
          },
          "execution_count": 284,
          "metadata": {},
          "output_type": "execute_result"
        }
      ],
      "source": [
        "# 50kg 이상 거래된 건들 이상치라 판단하고 확인 진행\n",
        "df3[df3['scale']>=50]['prd'].unique()"
      ]
    },
    {
      "cell_type": "code",
      "execution_count": 285,
      "metadata": {},
      "outputs": [
        {
          "data": {
            "text/plain": [
              "count    504028.00000\n",
              "mean       1187.21926\n",
              "std       12738.34314\n",
              "min           0.35000\n",
              "25%         460.00000\n",
              "50%         818.75000\n",
              "75%        1390.00000\n",
              "max     5555500.00000\n",
              "Name: price_kg, dtype: float64"
            ]
          },
          "metadata": {},
          "output_type": "display_data"
        },
        {
          "data": {
            "text/plain": [
              "count   11541.00000\n",
              "mean      607.58608\n",
              "std       494.41976\n",
              "min         0.35000\n",
              "25%       346.00000\n",
              "50%       500.00000\n",
              "75%       762.00000\n",
              "max     30000.00000\n",
              "Name: price_kg, dtype: float64"
            ]
          },
          "metadata": {},
          "output_type": "display_data"
        }
      ],
      "source": [
        "# 무\n",
        "display(df3[(df3['prd']=='무')]['price_kg'].describe())\n",
        "display(df3[(df3['scale']>=50) & (df3['prd']=='무')]['price_kg'].describe())\n",
        "df3 = df3.drop(df3[(df3['scale']>=50)&(df3['prd']=='무')&(df3['price_kg']<346)].index)"
      ]
    },
    {
      "cell_type": "code",
      "execution_count": 286,
      "metadata": {},
      "outputs": [
        {
          "data": {
            "text/plain": [
              "count     694845.00000\n",
              "mean        1366.58065\n",
              "std        26649.03051\n",
              "min            1.33000\n",
              "25%          625.00000\n",
              "50%         1037.50000\n",
              "75%         1687.50000\n",
              "max     22001375.00000\n",
              "Name: price_kg, dtype: float64"
            ]
          },
          "metadata": {},
          "output_type": "display_data"
        },
        {
          "data": {
            "text/plain": [
              "count    30.00000\n",
              "mean    124.84300\n",
              "std     191.27653\n",
              "min       1.33000\n",
              "25%      31.70250\n",
              "50%      37.88000\n",
              "75%     109.09500\n",
              "max     600.00000\n",
              "Name: price_kg, dtype: float64"
            ]
          },
          "metadata": {},
          "output_type": "display_data"
        },
        {
          "data": {
            "text/plain": [
              "42200.0"
            ]
          },
          "metadata": {},
          "output_type": "display_data"
        },
        {
          "data": {
            "text/plain": [
              "5219394.8999999985"
            ]
          },
          "metadata": {},
          "output_type": "display_data"
        }
      ],
      "source": [
        "# 배추\n",
        "display(df3[(df3['prd']=='배추')]['price_kg'].describe())\n",
        "display(df3[(df3['scale']>=50) & (df3['prd']=='배추')]['price_kg'].describe())\n",
        "display(df3[(df3['scale']>=50) & (df3['prd']=='배추')]['scale'].sum())\n",
        "display(df3[(df3['prd']=='배추')]['scale'].sum())\n",
        "df3 = df3.drop(df3[(df3['scale']>=50)&(df3['prd']=='배추')].index)"
      ]
    },
    {
      "cell_type": "code",
      "execution_count": 287,
      "metadata": {},
      "outputs": [
        {
          "data": {
            "text/plain": [
              "count    56172.00000\n",
              "mean      3523.93706\n",
              "std       3056.19623\n",
              "min        100.00000\n",
              "25%       2000.00000\n",
              "50%       3200.00000\n",
              "75%       4650.00000\n",
              "max     500000.00000\n",
              "Name: price_kg, dtype: float64"
            ]
          },
          "metadata": {},
          "output_type": "display_data"
        },
        {
          "data": {
            "text/plain": [
              "count     3.00000\n",
              "mean    312.95000\n",
              "std     169.70926\n",
              "min     117.07000\n",
              "25%     261.50500\n",
              "50%     405.94000\n",
              "75%     410.89000\n",
              "max     415.84000\n",
              "Name: price_kg, dtype: float64"
            ]
          },
          "metadata": {},
          "output_type": "display_data"
        },
        {
          "data": {
            "text/plain": [
              "1022.0"
            ]
          },
          "metadata": {},
          "output_type": "display_data"
        },
        {
          "data": {
            "text/plain": [
              "660629.3"
            ]
          },
          "metadata": {},
          "output_type": "display_data"
        }
      ],
      "source": [
        "# 생강\n",
        "display(df3[(df3['prd']=='생강')]['price_kg'].describe())\n",
        "display(df3[(df3['scale']>=50) & (df3['prd']=='생강')]['price_kg'].describe())\n",
        "display(df3[(df3['scale']>=50) & (df3['prd']=='생강')]['scale'].sum())\n",
        "display(df3[(df3['prd']=='생강')]['scale'].sum())\n",
        "df3 = df3.drop(df3[(df3['scale']>=50)&(df3['prd']=='생강')].index)"
      ]
    },
    {
      "cell_type": "code",
      "execution_count": 288,
      "metadata": {},
      "outputs": [
        {
          "data": {
            "text/plain": [
              "count   295816.00000\n",
              "mean      2370.51845\n",
              "std       1633.54394\n",
              "min         66.67000\n",
              "25%       1466.67000\n",
              "50%       2133.33000\n",
              "75%       3066.67000\n",
              "max     400000.00000\n",
              "Name: price_kg, dtype: float64"
            ]
          },
          "metadata": {},
          "output_type": "display_data"
        },
        {
          "data": {
            "text/plain": [
              "count    14.00000\n",
              "mean    270.71643\n",
              "std      84.00039\n",
              "min     161.29000\n",
              "25%     203.98500\n",
              "50%     248.00000\n",
              "75%     342.00000\n",
              "max     416.00000\n",
              "Name: price_kg, dtype: float64"
            ]
          },
          "metadata": {},
          "output_type": "display_data"
        },
        {
          "data": {
            "text/plain": [
              "1717.1"
            ]
          },
          "metadata": {},
          "output_type": "display_data"
        },
        {
          "data": {
            "text/plain": [
              "4059159.2799999984"
            ]
          },
          "metadata": {},
          "output_type": "display_data"
        }
      ],
      "source": [
        "# 배\n",
        "display(df3[(df3['prd']=='배')]['price_kg'].describe())\n",
        "display(df3[(df3['scale']>=50) & (df3['prd']=='배')]['price_kg'].describe())\n",
        "display(df3[(df3['scale']>=50) & (df3['prd']=='배')]['scale'].sum())\n",
        "display(df3[(df3['prd']=='배')]['scale'].sum())\n",
        "df3 = df3.drop(df3[(df3['scale']>=50)&(df3['prd']=='배')].index)"
      ]
    },
    {
      "cell_type": "code",
      "execution_count": 289,
      "metadata": {},
      "outputs": [
        {
          "data": {
            "text/plain": [
              "count     74244.00000\n",
              "mean       1654.29313\n",
              "std        8299.33113\n",
              "min          25.00000\n",
              "25%         800.00000\n",
              "50%        1200.00000\n",
              "75%        1980.00000\n",
              "max     2158468.75000\n",
              "Name: price_kg, dtype: float64"
            ]
          },
          "metadata": {},
          "output_type": "display_data"
        },
        {
          "data": {
            "text/plain": [
              "count      1.00000\n",
              "mean    1200.00000\n",
              "std            NaN\n",
              "min     1200.00000\n",
              "25%     1200.00000\n",
              "50%     1200.00000\n",
              "75%     1200.00000\n",
              "max     1200.00000\n",
              "Name: price_kg, dtype: float64"
            ]
          },
          "metadata": {},
          "output_type": "display_data"
        },
        {
          "data": {
            "text/plain": [
              "50.0"
            ]
          },
          "metadata": {},
          "output_type": "display_data"
        },
        {
          "data": {
            "text/plain": [
              "986918.6"
            ]
          },
          "metadata": {},
          "output_type": "display_data"
        }
      ],
      "source": [
        "# 갓\n",
        "display(df3[(df3['prd']=='갓')]['price_kg'].describe())\n",
        "display(df3[(df3['scale']>=50) & (df3['prd']=='갓')]['price_kg'].describe())\n",
        "display(df3[(df3['scale']>=50) & (df3['prd']=='갓')]['scale'].sum())\n",
        "display(df3[(df3['prd']=='갓')]['scale'].sum())"
      ]
    },
    {
      "cell_type": "code",
      "execution_count": 290,
      "metadata": {},
      "outputs": [
        {
          "data": {
            "text/plain": [
              "count    125506.00000\n",
              "mean       4666.49539\n",
              "std        6502.31461\n",
              "min          50.00000\n",
              "25%        2533.33000\n",
              "50%        4000.00000\n",
              "75%        6713.50000\n",
              "max     2002800.00000\n",
              "Name: price_kg, dtype: float64"
            ]
          },
          "metadata": {},
          "output_type": "display_data"
        },
        {
          "data": {
            "text/plain": [
              "count     2.00000\n",
              "mean    118.00000\n",
              "std      31.11270\n",
              "min      96.00000\n",
              "25%     107.00000\n",
              "50%     118.00000\n",
              "75%     129.00000\n",
              "max     140.00000\n",
              "Name: price_kg, dtype: float64"
            ]
          },
          "metadata": {},
          "output_type": "display_data"
        },
        {
          "data": {
            "text/plain": [
              "100.0"
            ]
          },
          "metadata": {},
          "output_type": "display_data"
        },
        {
          "data": {
            "text/plain": [
              "1621715.36"
            ]
          },
          "metadata": {},
          "output_type": "display_data"
        }
      ],
      "source": [
        "# 마늘\n",
        "display(df3[(df3['prd']=='마늘')]['price_kg'].describe())\n",
        "display(df3[(df3['scale']>=50) & (df3['prd']=='마늘')]['price_kg'].describe())\n",
        "display(df3[(df3['scale']>=50) & (df3['prd']=='마늘')]['scale'].sum())\n",
        "display(df3[(df3['prd']=='마늘')]['scale'].sum())\n",
        "df3 = df3.drop(df3[(df3['scale']>=50)&(df3['prd']=='마늘')].index)"
      ]
    },
    {
      "cell_type": "code",
      "execution_count": 291,
      "metadata": {},
      "outputs": [
        {
          "data": {
            "text/plain": [
              "count    150484.00000\n",
              "mean       4462.82200\n",
              "std        8167.04007\n",
              "min          60.00000\n",
              "25%        2500.00000\n",
              "50%        3700.00000\n",
              "75%        5500.00000\n",
              "max     2300000.00000\n",
              "Name: price_kg, dtype: float64"
            ]
          },
          "metadata": {},
          "output_type": "display_data"
        },
        {
          "data": {
            "text/plain": [
              "count     3.00000\n",
              "mean    259.07333\n",
              "std      32.96448\n",
              "min     237.62000\n",
              "25%     240.09500\n",
              "50%     242.57000\n",
              "75%     269.80000\n",
              "max     297.03000\n",
              "Name: price_kg, dtype: float64"
            ]
          },
          "metadata": {},
          "output_type": "display_data"
        },
        {
          "data": {
            "text/plain": [
              "303.0"
            ]
          },
          "metadata": {},
          "output_type": "display_data"
        },
        {
          "data": {
            "text/plain": [
              "1402985.1599999997"
            ]
          },
          "metadata": {},
          "output_type": "display_data"
        }
      ],
      "source": [
        "# 쪽파\n",
        "display(df3[(df3['prd']=='쪽파')]['price_kg'].describe())\n",
        "display(df3[(df3['scale']>=50) & (df3['prd']=='쪽파')]['price_kg'].describe())\n",
        "display(df3[(df3['scale']>=50) & (df3['prd']=='쪽파')]['scale'].sum())\n",
        "display(df3[(df3['prd']=='쪽파')]['scale'].sum())\n",
        "df3 = df3.drop(df3[(df3['scale']>=50)&(df3['prd']=='쪽파')].index)"
      ]
    },
    {
      "cell_type": "code",
      "execution_count": 292,
      "metadata": {},
      "outputs": [
        {
          "data": {
            "text/plain": [
              "count    399728.00000\n",
              "mean        839.35066\n",
              "std        8752.96356\n",
              "min          25.00000\n",
              "25%         480.00000\n",
              "50%         720.00000\n",
              "75%        1058.33000\n",
              "max     4216786.11000\n",
              "Name: price_kg, dtype: float64"
            ]
          },
          "metadata": {},
          "output_type": "display_data"
        },
        {
          "data": {
            "text/plain": [
              "count     8.00000\n",
              "mean    231.33375\n",
              "std     351.49011\n",
              "min      27.20000\n",
              "25%      33.20000\n",
              "50%      35.60000\n",
              "75%     265.00250\n",
              "max     800.00000\n",
              "Name: price_kg, dtype: float64"
            ]
          },
          "metadata": {},
          "output_type": "display_data"
        },
        {
          "data": {
            "text/plain": [
              "2700.0"
            ]
          },
          "metadata": {},
          "output_type": "display_data"
        },
        {
          "data": {
            "text/plain": [
              "5551775.9"
            ]
          },
          "metadata": {},
          "output_type": "display_data"
        }
      ],
      "source": [
        "# 양파\n",
        "display(df3[(df3['prd']=='양파')]['price_kg'].describe())\n",
        "display(df3[(df3['scale']>=50) & (df3['prd']=='양파')]['price_kg'].describe())\n",
        "display(df3[(df3['scale']>=50) & (df3['prd']=='양파')]['scale'].sum())\n",
        "display(df3[(df3['prd']=='양파')]['scale'].sum())\n",
        "df3 = df3.drop(df3[(df3['scale']>=50)&(df3['prd']=='양파')&(df3['price_kg']<700)].index)"
      ]
    },
    {
      "cell_type": "code",
      "execution_count": 293,
      "metadata": {},
      "outputs": [
        {
          "data": {
            "text/plain": [
              "count   729651.00000\n",
              "mean      2612.13274\n",
              "std       2968.56554\n",
              "min         35.71000\n",
              "25%       1500.00000\n",
              "50%       2300.00000\n",
              "75%       3300.00000\n",
              "max     999999.90000\n",
              "Name: price_kg, dtype: float64"
            ]
          },
          "metadata": {},
          "output_type": "display_data"
        },
        {
          "data": {
            "text/plain": [
              "count    23.00000\n",
              "mean    301.77739\n",
              "std     171.04528\n",
              "min      35.71000\n",
              "25%     195.45500\n",
              "50%     285.71000\n",
              "75%     390.91000\n",
              "max     781.82000\n",
              "Name: price_kg, dtype: float64"
            ]
          },
          "metadata": {},
          "output_type": "display_data"
        },
        {
          "data": {
            "text/plain": [
              "2163.0"
            ]
          },
          "metadata": {},
          "output_type": "display_data"
        },
        {
          "data": {
            "text/plain": [
              "7088901.419999999"
            ]
          },
          "metadata": {},
          "output_type": "display_data"
        }
      ],
      "source": [
        "# 사과\n",
        "display(df3[(df3['prd']=='사과')]['price_kg'].describe())\n",
        "display(df3[(df3['scale']>=50) & (df3['prd']=='사과')]['price_kg'].describe())\n",
        "display(df3[(df3['scale']>=50) & (df3['prd']=='사과')]['scale'].sum())\n",
        "display(df3[(df3['prd']=='사과')]['scale'].sum())\n",
        "df3 = df3.drop(df3[(df3['scale']>=50)&(df3['prd']=='사과')].index)"
      ]
    },
    {
      "cell_type": "code",
      "execution_count": 294,
      "metadata": {},
      "outputs": [
        {
          "data": {
            "text/plain": [
              "count     49924.00000\n",
              "mean       1037.03078\n",
              "std        9591.13641\n",
              "min          40.00000\n",
              "25%         600.00000\n",
              "50%         850.00000\n",
              "75%        1250.00000\n",
              "max     2125300.00000\n",
              "Name: price_kg, dtype: float64"
            ]
          },
          "metadata": {},
          "output_type": "display_data"
        },
        {
          "data": {
            "text/plain": [
              "count    1.00000\n",
              "mean    60.00000\n",
              "std          NaN\n",
              "min     60.00000\n",
              "25%     60.00000\n",
              "50%     60.00000\n",
              "75%     60.00000\n",
              "max     60.00000\n",
              "Name: price_kg, dtype: float64"
            ]
          },
          "metadata": {},
          "output_type": "display_data"
        }
      ],
      "source": [
        "# 열무\n",
        "display(df3[(df3['prd']=='열무')]['price_kg'].describe())\n",
        "display(df3[(df3['scale']>=50) & (df3['prd']=='열무')]['price_kg'].describe())\n",
        "df3 = df3.drop(df3[(df3['scale']>=50)&(df3['prd']=='열무')].index)"
      ]
    },
    {
      "cell_type": "code",
      "execution_count": 295,
      "metadata": {},
      "outputs": [
        {
          "data": {
            "text/plain": [
              "count    195944.00000\n",
              "mean       3868.71495\n",
              "std        4472.85467\n",
              "min          14.29000\n",
              "25%        1866.67000\n",
              "50%        3225.00000\n",
              "75%        5200.00000\n",
              "max     1200000.00000\n",
              "Name: price_kg, dtype: float64"
            ]
          },
          "metadata": {},
          "output_type": "display_data"
        },
        {
          "data": {
            "text/plain": [
              "count     8.00000\n",
              "mean    400.83375\n",
              "std     177.13600\n",
              "min     120.00000\n",
              "25%     302.50000\n",
              "50%     460.00000\n",
              "75%     517.50000\n",
              "max     586.67000\n",
              "Name: price_kg, dtype: float64"
            ]
          },
          "metadata": {},
          "output_type": "display_data"
        },
        {
          "data": {
            "text/plain": [
              "725.0"
            ]
          },
          "metadata": {},
          "output_type": "display_data"
        },
        {
          "data": {
            "text/plain": [
              "1487927.4"
            ]
          },
          "metadata": {},
          "output_type": "display_data"
        }
      ],
      "source": [
        "# 미나리\n",
        "display(df3[(df3['prd']=='미나리')]['price_kg'].describe())\n",
        "display(df3[(df3['scale']>=50) & (df3['prd']=='미나리')]['price_kg'].describe())\n",
        "display(df3[(df3['scale']>=50) & (df3['prd']=='미나리')]['scale'].sum())\n",
        "display(df3[(df3['prd']=='미나리')]['scale'].sum())\n",
        "df3 = df3.drop(df3[(df3['scale']>=50)&(df3['prd']=='미나리')].index)"
      ]
    },
    {
      "cell_type": "code",
      "execution_count": 296,
      "metadata": {},
      "outputs": [
        {
          "data": {
            "text/plain": [
              "count   45507.00000\n",
              "mean     8326.07913\n",
              "std      3669.92385\n",
              "min       100.00000\n",
              "25%      6400.00000\n",
              "50%      8000.00000\n",
              "75%     10000.00000\n",
              "max     67650.00000\n",
              "Name: price_kg, dtype: float64"
            ]
          },
          "metadata": {},
          "output_type": "display_data"
        },
        {
          "data": {
            "text/plain": [
              "count     2.00000\n",
              "mean    310.00000\n",
              "std      14.14214\n",
              "min     300.00000\n",
              "25%     305.00000\n",
              "50%     310.00000\n",
              "75%     315.00000\n",
              "max     320.00000\n",
              "Name: price_kg, dtype: float64"
            ]
          },
          "metadata": {},
          "output_type": "display_data"
        },
        {
          "data": {
            "text/plain": [
              "100.0"
            ]
          },
          "metadata": {},
          "output_type": "display_data"
        },
        {
          "data": {
            "text/plain": [
              "164583.4"
            ]
          },
          "metadata": {},
          "output_type": "display_data"
        }
      ],
      "source": [
        "# 굴\n",
        "display(df3[(df3['prd']=='굴')]['price_kg'].describe())\n",
        "display(df3[(df3['scale']>=50) & (df3['prd']=='굴')]['price_kg'].describe())\n",
        "display(df3[(df3['scale']>=50) & (df3['prd']=='굴')]['scale'].sum())\n",
        "display(df3[(df3['prd']=='굴')]['scale'].sum())\n",
        "df3 = df3.drop(df3[(df3['scale']>=50)&(df3['prd']=='굴')].index)"
      ]
    },
    {
      "cell_type": "markdown",
      "metadata": {
        "id": "5I9D6wZCWDhi"
      },
      "source": [
        "### origin"
      ]
    },
    {
      "cell_type": "code",
      "execution_count": 297,
      "metadata": {
        "colab": {
          "base_uri": "https://localhost:8080/"
        },
        "id": "pI0Ezwn-VgXP",
        "outputId": "8d8f9387-01cb-4c3a-a3c9-e521b970aafb"
      },
      "outputs": [
        {
          "data": {
            "text/plain": [
              "array(['경기 평택시', '경기 화성시', '충남 태안군', '충남 천안시', '충남 서산시', '전북 고창군',\n",
              "       '전남 영암군', '중국', '수입산 중국', '중국(CN)', '제주도 제주시', '충남 예산군', '경기도 김포시',\n",
              "       '경기도 남양주시', '충남 홍성군', '경기 남양주', '충남 서천군', '충남 아산시', '경기 포천시',\n",
              "       '경기 구리시', '경기 동두천시', '경기 성남시', '경기 고양시', '경기 고양시 일산서구', '경기 남양주시',\n",
              "       '경기 안성시', '경기도 고양시', '서울시 은평구', '전남 여수시', '서울 은평구', '서울', '경북 영주시',\n",
              "       '전남 무안군', '강원 평창군', '강원 홍천군', '충남 당진시', '경기 가평군', '경기 파주시', '세종',\n",
              "       '경북 상주시', '세종 세종시', '전남 보성군', '강원 횡성군', '경기 연천군', '충남 보령시',\n",
              "       '전북 완주군', '전남 함평군', '전남 신안군', '전북 장수군', '전북 무주군', '경북 청송군',\n",
              "       '경북 의성군', '충북 충주시', '충북 단양군', '경북 김천시', '전남 나주시', '서울 중랑구',\n",
              "       '경기 여주군', '경기 여주시', '전북 부안군', '제주', '강원 영월군', '강원 춘천시', '경기 이천시',\n",
              "       '충남 청양군', '경북 영천시', '충북 영동군', '경북 안동시', '대구 북구', '서울 송파구',\n",
              "       '경북 봉화군', '경북 청도군', '충북 괴산군', '충북 제천시', '경북 문경시', '경남 거창군',\n",
              "       '서울 도봉구', '경기 양평군', '강원 철원군', '충남 연기군', '전북 전주시', '경기 양주시',\n",
              "       '경기 하남시', '강원 원주시', '경기 광명시', '경기 광주시', '경기 용인시', '경남 창녕군',\n",
              "       '전남 해남군', '제주 제주시', '강원 양구군', '기타외국', '경기 김포시', '충남 금산군', '충남 논산시',\n",
              "       '충남 공주시', '서울 강동구', '충북 음성군', '강원 인제군', '충남 부여군', '광주', '경북 영양군',\n",
              "       '경남 밀양시', '충남 당진군', '경남 함양군', '경남 합천군', '강원도 평창군', '전북 임실군',\n",
              "       '강원 화천군', '전북 진안군', '강원도 철원군', '강원 강릉시', '경기도 양주군', '강원 정선군',\n",
              "       '전남 완도군', '전북 김제시', '경남 양산시', '인천', '인천 서구', '부산 기장군', '광주 광산구',\n",
              "       '경남 의령군', '경기 시흥시', '광주 서구', '경기 안산시', '경기 부천시', '경북 군위군',\n",
              "       '제주 북제주', '경남 산청군', '전북 남원시', '인천시 계양구', '경기도 파주시', '경기도 광명시',\n",
              "       '경북 영덕군', '전남 장성군', '전남 고흥군', '부산', '강원도 춘천시', '경남 남해군', '경기도 여주군',\n",
              "       '강원 삼척시', '전남 영광군', '인천 남구', '전남 진도군', '세종 특별자치시', '경기 오산시',\n",
              "       '강원도 횡성군', '전남 곡성군', '강원도', '울산 울주군', '울산', '경기도 안성시', '전북 익산시',\n",
              "       '강원도 영월군', '경북 예천군', '경기도 동두천시', '서울 강서구', '강원도 홍천군', '전북 정읍시',\n",
              "       '없음', '해당사항없', '충북 청주시', '경기도 이천시', '서울시 강서구', '광주시 광산구',\n",
              "       '충북청주시상당구', '서울시 중랑구', '경기도 평택시', '경기도 양평군', '충북 청원군', '인천시 강화군',\n",
              "       '대전 유성구', '광주 남구', '전라북도 김', '경기도 포천군', '경남 진주시', '울산 남구',\n",
              "       '전남 장흥군', '전라북도 전', '경북 구미시', '강원 태백시', '충남', '부산 강서구', '충청남도 아',\n",
              "       '경기 수원시', '인천 강화군', '제주 서귀포시', '충북청주시흥덕구', '강원도 강릉시', '경북 경주시',\n",
              "       '대구 달성군', '전남 강진군', '경기도 안양시', '경남', '충북 보은군', '서울시 도봉구',\n",
              "       '경기도 부천시', '전남 목포시', '서울시 양천구', '전남 광양시', '충북 진천군', '경기 동두천',\n",
              "       '경남 김해시', '광주 동구', '경남 고성군', '경북 경산시', '전북 순창군', '전남 순천시',\n",
              "       '광주시 서구', '경남 함안군', '강원도 삼척시', '전라북도 장', '대구 중구', '서울특별시',\n",
              "       '경기 군포시', '대전', '가락동', '경기 의정부시', '경북 고령군', '인천 계양구', '경기도 화성군',\n",
              "       '광주 북구', '서울 양천구', '제주 서귀포', '대구 동구', '대구시 동구', '충북 옥천군',\n",
              "       '대구시 달성군', '경북', '경기 의정부', '서울특별시 송파구 양', '경북 울진군', '대구 북구 매천동',\n",
              "       '전라북도 전주시', '경기 고양시덕양구', '경기 포천군', '인천 중구', '경기도 연천군', '서울 동대문구',\n",
              "       '대전 동구', '대구시 중구', '충청남도 아산시', '경기도 남양', '서울 송파구 가락동', '경북 성주군',\n",
              "       '경남 밀양시 무안면', '경북 칠곡군', '대구 달서구 두류1동', '강원도 태백시', '강원 고성군',\n",
              "       '강원도 정선군', '경기도 시흥시', '경기고양시일산구', '경북 포항시', '서울 서초구', '강원도 인제군',\n",
              "       '제주도 서귀포시', '충남 계룡시', '전북 군산시', '전남 구례군', '전라북도 남원시', '부산 수영구',\n",
              "       '충남 천안시 서북구', '강원도 양구군', '경기 양주군', '대구 남구', '경남 하동군', '전북', '대구',\n",
              "       '서울시 영등포구', '세종시', '강원 홍천군 내면', '전라북도 순창군', '국산', '대구 달서구', '충북',\n",
              "       '공통출하처', '경상북도 영주시', '부산시 북구', '광주시 북구', '전라북도 정읍시', '경기 과천시',\n",
              "       '경기 여주군 흥천면', '강원', '경남 창원시', '강원 평창군 방림면', '경북 안동시 길안면',\n",
              "       '경북 영주시 단산면', '경북 청송군 부동면', '경북 안동시 남후면', '경기도 의정부시', '전북 김제시 금산면',\n",
              "       '경남 밀양시 상동면', '경북 경산시 남산면', '경기', '충남 홍성군 금마면', '강원 속초시',\n",
              "       '충남 서산시 고북면', '전북 임실군 오수면', '경남 밀양시 부북면', '경남 밀양시 청도면',\n",
              "       '전남 보성군 벌교읍', '충남 예산군 고덕면', '서울시 송파구', '전라북도 익', '충북 제천시 덕산면',\n",
              "       '서울특별시 송파구', '서울 중구', '전남 해남군 문내면', '충남 서산시 팔봉면', '전라북도 김제시',\n",
              "       '충남 천안시 광덕면', '경기 이천시 장호원읍', '전북 무주군 무풍면', '경북 의성군 금성면',\n",
              "       '경기 여주군 강천면', '전남 담양군', '경기 양평군 강상면', '경기 평택시 고덕면', '전남 나주시 노안면',\n",
              "       '충남 당진시 합덕읍', '전남 광양시 다압면', '경북 청송군 현서면', '경북 김천시 감문면',\n",
              "       '경북 영천시 화남면', '경기 안성시 일죽면', '충남 서산시 인지면', '전남 강진군 도암면', '대구 서구',\n",
              "       '경기 이천시 설성면', '경기 남양주시 와부읍', '서울 서대문구', '경북 영천시 금호읍', '충남 태안군 근흥면',\n",
              "       '경기 이천시 대월면', '부산 해운대구', '강원 동해시', '충남 태안군 태안읍', '충남 당진시 당진읍',\n",
              "       '제주 북제주군', '제주 남제주', '전남 나주시 공산면', '충남 서산시 운산면', '충북 괴산군 장연면',\n",
              "       '충북 충주시 신니면', '충북 충주시 가금면', '경기 평택시 안중읍', '강원 영월군 북면',\n",
              "       '전남 나주시 금천면', '경북 영천시 신녕면', '부산시 금정구', '전남 곡성군 고달면', '충남 당진시 신평면',\n",
              "       '강원 횡성군 안흥면', '경기 고양시일산구', '경기 고양시 덕양구', '충남 서산시 부석면',\n",
              "       '전북 부안군 줄포면', '경북 영주시 문수면', '부산 중구', '부산시 강서구', '경기 여주군 북내면',\n",
              "       '경기 안성시 미양면', '전남 무안군 해제면', '충북 청원군 미원면', '강원 홍천군 서석면',\n",
              "       '충남 아산시 둔포면', '경기도 용인시', '충북 제천시 금성면', '전북 고창군 대산면', '경기 포천시 일동면',\n",
              "       '경기 포천군 포천군', '경북 문경시 농암면', '충남 아산시 도고면', '전남 해남군 계곡면', '전라북도 부안군',\n",
              "       '경기 안성시 양성면', '경북 문경시 가은읍', '전남', '경북 영주시 부석면', '경기 이천시 호법면',\n",
              "       '경북 영주시 봉현면', '경기 김포시 고촌면', '전남 무안군 운남면', '경기 안성시 고삼면',\n",
              "       '경북 영천시 고경면', '경기도 하남시', '충남 공주시 계룡면', '제주 남제주군', '전남 나주시 산포면',\n",
              "       '경북 의성군 구천면', '경북 안동시 북후면', '경북 영천시 화산면', '제주 제주시 한림읍',\n",
              "       '제주 제주시(2)', '제주 서귀포시 안덕면', '경남 밀양시 단장면', '경남 창녕군 유어면',\n",
              "       '경북 청송군 부남면', '경북 문경시 문경읍', '경기 용인시 모현면', '대구 수성구', '광주시 남구',\n",
              "       '충북 충주시 살미면', '수입산 칠레', '전남 여수시 돌산읍', '제주 서귀포시 대정읍', '충남 부여군 구룡면',\n",
              "       '충남 계룡시 남서면', '부산 북구', '전남 여수시 남면', '전남 화순군', '수입산 미국',\n",
              "       '제주 서귀포시 남원읍', '경기 고양시 일산', '전북 임실군 신평면', '수입산 뉴질랜드', '충북 충주시 산척면',\n",
              "       '충남 서천군 판교면', '전남 신안군 압해면', '경기 이천시 모가면', '경기 여주군 가남면',\n",
              "       '경기 이천시 부발읍', '경기 이천시 율면', '강원 영월군 하동면', '광주 광주', '전북 정읍시 감곡면',\n",
              "       '경북 안동시 풍산읍', '전남 진도군 군내면', '대전시 중구', '전남 보성군 득량면', '경기 평택시 서탄면',\n",
              "       '전남 영암군 시종면', '경북 영주시 안정면', '전북 무주군 무주읍', '전남 진도군 지산면',\n",
              "       '충남 천안시 성남면', '경북 봉화군 명호면', '수입산 베트남', '경북 상주시 모동면', '경기 여주시 가남읍',\n",
              "       '경북 상주시 공검면', '충남 부여군 장암면', '강원 철원군 김화읍', '전남 나주시 다도면', '전라북도 익산시',\n",
              "       '충남 부여군 세도면', '경기도 수원시', '경북 문경시 산북면', '경기 양주시 장흥면', '강원도 원주시',\n",
              "       '강원 원주시 귀래면', '충북 음성군 맹동면', '전남 장흥군 관산읍', '강원 강릉시 왕산면',\n",
              "       '충남 당진시 순성면', '충남 논산시 가야곡면', '경북 구미시 도개면', '전북 김제시 광활면',\n",
              "       '경기성남시수정구', '충남 논산시 연무읍', '강원 춘천시 남산면', '경기 양주시 백석읍', '강원 철원군 갈말읍',\n",
              "       '전북 전주시덕진구', '강원 강릉시 강동면', '전남 해남군 화원면', '충북 청주시 없음', '충남 아산시 배방면',\n",
              "       '전남 광양시 봉강면', '전북 고창군 부안면', '충남 당진시 송악면', '충청남도', '충남 서산시 성연면',\n",
              "       '전북 고창군 신림면', '경남 진해시', '강원 원주시 신림면', '경북 구미시 선산읍', '경기 양평군 양평읍',\n",
              "       '충남 홍성군 광천읍', '강원 평창군 봉평면', '충북 괴산군 연풍면', '경북 구미시 고아읍',\n",
              "       '전북 부안군 변산면', '충남 태안군 남면', '전남 해남군 송지면', '경기 남양주시 진접읍',\n",
              "       '충남 당진시 대호지면', '강원 강릉시 주문진읍', '강원 평창군 대화면', '충남 아산시 음봉면',\n",
              "       '강원 홍천군 내촌면', '전북 완주군 고산면', '충남 서산시 대산읍', '경기 포천시 영북면',\n",
              "       '충남 아산시 배방읍', '충남 서천군 종천면', '강원 평창군 진부면', '충북 괴산군 청천면',\n",
              "       '강원 횡성군 둔내면', '강원 춘천시 사북면', '전남 신안군 압해읍', '강원 양양군', '강원 양구군 해안면',\n",
              "       '경기 용인시 원삼면', '강원 홍천군 남면', '충북 단양군 어상천면', '전남 함평군 손불면',\n",
              "       '대구 달성군 구지면', '경북 김천시 조마면', '강원 홍천군 동면', '강원 평창군 대관령면',\n",
              "       '충남 서천군 기산면', '전라북도 장수군', '경북 안동시 녹전면', '경기 파주시 파평면', '강원 삼척시 가곡면',\n",
              "       '충북 제천시 백운면', '경기 화성시 태안읍', '강원 태백시 황지동', '강원 정선군 임계면',\n",
              "       '충남 아산시 염치읍', '전북 진안군 동향면', '전남 함평군 엄다면', '경북 영주시 장수면',\n",
              "       '전남 나주시 봉황면', '강원 삼척시 원덕읍', '강원 강릉시 옥계면', '경기도 안산시', '전라남도 영광군',\n",
              "       '강원 정선군 사북읍', '경북 경주시 감포읍', '충남 당진시 석문면', '경남 남해군 상주면',\n",
              "       '충북 괴산군 감물면', '전남 함평군 월야면', '충남 연기군 전동면', '강원 정선군 남면',\n",
              "       '강원 삼척시 노곡면', '서울 영등포구', '경남 함양군 함양읍', '경북 포항시남구', '경북 의성군 가음면',\n",
              "       '대구 달성군 가창면', '제주 제주시 구좌읍', '전북 김제시 백산면', '충남 천안시 수신면',\n",
              "       '경기 안성시 공도읍', '경기 광주시 초월면', '경남 밀양시 산내면', '충북 충주시 금가면', '부천시 오정구',\n",
              "       '성남시 중원구', '충남 홍성군 갈산면', '경기 부천시오정구', '전주시 덕진구', '서울 성북구',\n",
              "       '전주시 완산구', '성남시 분당구', '뉴질랜드', '부천시 소사구', '경기 안성시 서운면',\n",
              "       '전남 해남군 북평면', '경기 여주시 북내면', '전북 고창군 무장면', '충북 청주시상당구', '서울시 구로구',\n",
              "       '경북/문경시', '전북 익산시 여산면', '충남 논산시 광석면', '경북 성주군 가천면', '대전 대덕구',\n",
              "       '경기 미금시', '충북 영동군 황간면', '충북 청주시흥덕구', '강원 정선군 여량면', '세종특별자치시',\n",
              "       '전남 나주시 반남면', '경기 양주시 광적면', '전라북도 완주군', '서울 강북구', '경남 거제시',\n",
              "       '서울 서대문', '충남 아산시 신창면', '충남 보령시 남포면', '미국', '서울 강남구', '경북 청송군 안덕면',\n",
              "       '충남 아산시 송악면', '부산 금정구', '강원 춘천시 북산면', '전남 순천시 낙안면', '울산 북구',\n",
              "       '충북 제천시 송학면', '서울 구로구', '경남 사천시', '전남 영광군 법성면', '경기 가평군 가평읍',\n",
              "       '충남 천안시 동남구', '경기 용인시 기흥구', '경북 상주시 화남면', '대전 중구', '서울특별시 은평구',\n",
              "       '전라북도 고창군', '전라남도 영암군', '충청남도 예산군', '전라남도 해남군', '경상남도 거창군',\n",
              "       '경상북도 안동시', '충청북도 충주시', '전라남도 진도군', '전라남도 보성군', '충남 보령시 웅천읍',\n",
              "       '경기 안양시', '충북 증평군 증평읍', '충북 증평군', '경남 양산시 동면', '경남 통영',\n",
              "       '충남 논산시 양촌면', '인천 남동구', '경기 김포시 양촌면', '수입산 일본', '충남 천안시 풍세면',\n",
              "       '전남 진도군 임회면', '경기 남양주시 진건읍', '베트남', '경남 진주시 금곡면', '대만',\n",
              "       '경기 용인시 구성읍', '태국', '경기 여주시 가남면', '수입산 태국', '대전 서구', '경기 평택시 현덕면',\n",
              "       '경기 양평군 양동면', '경기 고양시 일산동구', '호주', '인천 부평구', '제주/서귀포', '경상남도 창원시',\n",
              "       '제주 제주시 애월읍', '부산시 기장군', '서울 동작구', '서울 영등포', '청주시 상당구', '경북/안동시',\n",
              "       '전남/무안군', '경북/구미시', '전북 익산시 망성면', '인천 동구', '전남 무안군 몽탄면', '경북/상주시',\n",
              "       '전북 익산시 금마면', '강원 평창군 용평면', '포항시 북구', '충남 천안시 동면', '전남 나주시 세지면',\n",
              "       '전남 무안군 현경면', '충북 청주시 상당구', '전북 정읍시 북면', '충북 영동군 매곡면',\n",
              "       '경남 거창군 고제면', '경북 의성군 신평면', '경남 거창군 가북면', '강원 정선군 화암면',\n",
              "       '강원 영월군 중동면', '경북/영천시', '강원도 고성군', '경남/합천군', '전남 나주시 동강면',\n",
              "       '강원도 화천군', '서울특별시 강남구', '전남 완도군 청산면', '청주시 흥덕구', '강원 영월군 남면',\n",
              "       '제주시 한경면', '경기도 가평군', '경북 안동시 남선면', '수원시 권선구', '경남 창원시 의창구',\n",
              "       '경북 영주시 순흥면', '충남 예산군 오가면', '전남 해남군 산이면', '전북 김제시 황산면', '경기도 안성',\n",
              "       '강원도 홍천', '전북 고창군 고창읍', '제주 서귀포시(2)', '경북 청도군 각남면', '전남 순천시 해룡면',\n",
              "       '서귀포시 대정읍', '제주 제주시 한경면', '경남 사천시 사천읍', '제주시 한경', '전라남도 장성군',\n",
              "       '서울 마포구', '경남 밀양시 하남읍', '전남 해남군 옥천면', '대구시 서구', '충남 태안군 원북면',\n",
              "       '경기 안산시 상록구', '강원도 횡성', '충남 태안군 고남면', '강원도 평창', '강원도 춘천',\n",
              "       '경기도 여주시 능서면', '경기 여주시 여주읍', '강원도 영월', '전남 무안군 망운면', '경북 청도군 각북면',\n",
              "       '강원도 양양군', '강원도 인제', '강원도 원주', '강원도 정선', '강원도 태백', '강원도 삼척',\n",
              "       '강원도 고성', '강원도 양구', '강원도 강릉', '충남/아산시', '충청남도 논산시', '경북 상주시 공성면',\n",
              "       '서울 용산구', '경북 영천시 화북면', '충북 옥천군 청산면', '전남 보성군 회천면', '경기도 여주시 점동면',\n",
              "       '경남 하동군 고전면', '경기 연천군 신서면', '강원도 철원', '경기 화성시 향남읍', '강원도 화천',\n",
              "       '경남/남해군', '경기도 고양', '전라남도 여', '전라북도 고', '광주광역시', '경상북도 영', '인천광역시',\n",
              "       '전라남도 여수시', '광주광역시 광산구', '인천광역시 계양구', '경상북도 김천시', '충청남도 천안시',\n",
              "       '경기도 포천시', '충남/홍성군', '충남 서산시 음암면', '충남 공주시 우성면', '전남 강진군 작천면',\n",
              "       '경북 구미시 장천면', '서울 관악구', '전라남도 무안군', '충북 충주시 노은면', '강원 춘천시 신북읍',\n",
              "       '전남/고흥군', '경기 연천군 장남면', '경북 김천시 감천면', '일본', '경북 김천시 구성면', '서울 동대문',\n",
              "       '경기 화성군', '전라남도 함', '제주특별자치', '전라남도 진', '이시원', '전라남도 무', '경상북도 안',\n",
              "       '경상남도 거', '경상남도 합', '부산광역시', '경상남도 합천군', '인천광역시 강화군', '경상남도 함양군',\n",
              "       '부산광역시 강서구', '전라남도 나주시', '경남 마산(고성,진해)', '경남 삼천포', '경남 남해',\n",
              "       '전남 여수', '전남 고흥(나로도)', '국내산', '경남 사천', '충남 태안', '전남 강진',\n",
              "       '전남 순천(광양)', '전북 군산', '충남 서산', '경남 하동', '수입 중국', '경기 강화', '경기 인천',\n",
              "       '경남 거창', '전남 완도', '강원 고성(거진,대진)', '충남 당진', '경남 통영\\t', '국내산\\t',\n",
              "       '경남 남해\\t', '전남 고흥(나로도)\\t', '전남 여수\\t', '경남 삼천포\\t', '전남 순천(광양)\\t',\n",
              "       '전북 군산\\t', '수입 중국\\t', '충남 서산\\t'], dtype=object)"
            ]
          },
          "execution_count": 297,
          "metadata": {},
          "output_type": "execute_result"
        }
      ],
      "source": [
        "# 도,시, 국산, 수입 표기 분류 필요\n",
        "df3['origin'].unique()"
      ]
    },
    {
      "cell_type": "code",
      "execution_count": 298,
      "metadata": {
        "colab": {
          "base_uri": "https://localhost:8080/",
          "height": 423
        },
        "id": "rvX1g3c_Ll2C",
        "outputId": "56330691-579b-46aa-b24a-046112748253"
      },
      "outputs": [
        {
          "data": {
            "text/html": [
              "<div>\n",
              "<style scoped>\n",
              "    .dataframe tbody tr th:only-of-type {\n",
              "        vertical-align: middle;\n",
              "    }\n",
              "\n",
              "    .dataframe tbody tr th {\n",
              "        vertical-align: top;\n",
              "    }\n",
              "\n",
              "    .dataframe thead th {\n",
              "        text-align: right;\n",
              "    }\n",
              "</style>\n",
              "<table border=\"1\" class=\"dataframe\">\n",
              "  <thead>\n",
              "    <tr style=\"text-align: right;\">\n",
              "      <th></th>\n",
              "      <th>prd</th>\n",
              "      <th>scale</th>\n",
              "      <th>price</th>\n",
              "      <th>origin</th>\n",
              "      <th>eco</th>\n",
              "      <th>reg_date</th>\n",
              "      <th>new_class</th>\n",
              "      <th>price_kg</th>\n",
              "      <th>0</th>\n",
              "      <th>1</th>\n",
              "      <th>2</th>\n",
              "    </tr>\n",
              "  </thead>\n",
              "  <tbody>\n",
              "    <tr>\n",
              "      <th>280</th>\n",
              "      <td>총각무</td>\n",
              "      <td>2.00000</td>\n",
              "      <td>1700</td>\n",
              "      <td>경기 평택시</td>\n",
              "      <td>normal</td>\n",
              "      <td>2017-11-01</td>\n",
              "      <td>1</td>\n",
              "      <td>850.00000</td>\n",
              "      <td>경기</td>\n",
              "      <td>평택시</td>\n",
              "      <td>NaN</td>\n",
              "    </tr>\n",
              "    <tr>\n",
              "      <th>282</th>\n",
              "      <td>총각무</td>\n",
              "      <td>2.00000</td>\n",
              "      <td>1500</td>\n",
              "      <td>경기 평택시</td>\n",
              "      <td>normal</td>\n",
              "      <td>2017-11-01</td>\n",
              "      <td>1</td>\n",
              "      <td>750.00000</td>\n",
              "      <td>경기</td>\n",
              "      <td>평택시</td>\n",
              "      <td>NaN</td>\n",
              "    </tr>\n",
              "    <tr>\n",
              "      <th>284</th>\n",
              "      <td>총각무</td>\n",
              "      <td>2.00000</td>\n",
              "      <td>1800</td>\n",
              "      <td>경기 평택시</td>\n",
              "      <td>normal</td>\n",
              "      <td>2017-11-01</td>\n",
              "      <td>1</td>\n",
              "      <td>900.00000</td>\n",
              "      <td>경기</td>\n",
              "      <td>평택시</td>\n",
              "      <td>NaN</td>\n",
              "    </tr>\n",
              "    <tr>\n",
              "      <th>286</th>\n",
              "      <td>총각무</td>\n",
              "      <td>2.00000</td>\n",
              "      <td>1200</td>\n",
              "      <td>경기 평택시</td>\n",
              "      <td>normal</td>\n",
              "      <td>2017-11-01</td>\n",
              "      <td>1</td>\n",
              "      <td>600.00000</td>\n",
              "      <td>경기</td>\n",
              "      <td>평택시</td>\n",
              "      <td>NaN</td>\n",
              "    </tr>\n",
              "    <tr>\n",
              "      <th>288</th>\n",
              "      <td>총각무</td>\n",
              "      <td>2.00000</td>\n",
              "      <td>1100</td>\n",
              "      <td>경기 화성시</td>\n",
              "      <td>normal</td>\n",
              "      <td>2017-11-01</td>\n",
              "      <td>1</td>\n",
              "      <td>550.00000</td>\n",
              "      <td>경기</td>\n",
              "      <td>화성시</td>\n",
              "      <td>NaN</td>\n",
              "    </tr>\n",
              "    <tr>\n",
              "      <th>...</th>\n",
              "      <td>...</td>\n",
              "      <td>...</td>\n",
              "      <td>...</td>\n",
              "      <td>...</td>\n",
              "      <td>...</td>\n",
              "      <td>...</td>\n",
              "      <td>...</td>\n",
              "      <td>...</td>\n",
              "      <td>...</td>\n",
              "      <td>...</td>\n",
              "      <td>...</td>\n",
              "    </tr>\n",
              "    <tr>\n",
              "      <th>28137016</th>\n",
              "      <td>양파</td>\n",
              "      <td>15.00000</td>\n",
              "      <td>11000</td>\n",
              "      <td>전남 무안군</td>\n",
              "      <td>normal</td>\n",
              "      <td>2022-10-27</td>\n",
              "      <td>8</td>\n",
              "      <td>733.33000</td>\n",
              "      <td>전남</td>\n",
              "      <td>무안군</td>\n",
              "      <td>NaN</td>\n",
              "    </tr>\n",
              "    <tr>\n",
              "      <th>28137017</th>\n",
              "      <td>양파</td>\n",
              "      <td>15.00000</td>\n",
              "      <td>11000</td>\n",
              "      <td>전남 무안군</td>\n",
              "      <td>normal</td>\n",
              "      <td>2022-10-27</td>\n",
              "      <td>8</td>\n",
              "      <td>733.33000</td>\n",
              "      <td>전남</td>\n",
              "      <td>무안군</td>\n",
              "      <td>NaN</td>\n",
              "    </tr>\n",
              "    <tr>\n",
              "      <th>28137020</th>\n",
              "      <td>양파</td>\n",
              "      <td>15.00000</td>\n",
              "      <td>17000</td>\n",
              "      <td>전남 무안군</td>\n",
              "      <td>normal</td>\n",
              "      <td>2022-10-28</td>\n",
              "      <td>8</td>\n",
              "      <td>1133.33000</td>\n",
              "      <td>전남</td>\n",
              "      <td>무안군</td>\n",
              "      <td>NaN</td>\n",
              "    </tr>\n",
              "    <tr>\n",
              "      <th>28137021</th>\n",
              "      <td>양파</td>\n",
              "      <td>15.00000</td>\n",
              "      <td>17000</td>\n",
              "      <td>전남 무안군</td>\n",
              "      <td>normal</td>\n",
              "      <td>2022-10-28</td>\n",
              "      <td>8</td>\n",
              "      <td>1133.33000</td>\n",
              "      <td>전남</td>\n",
              "      <td>무안군</td>\n",
              "      <td>NaN</td>\n",
              "    </tr>\n",
              "    <tr>\n",
              "      <th>28137022</th>\n",
              "      <td>양파</td>\n",
              "      <td>15.00000</td>\n",
              "      <td>9000</td>\n",
              "      <td>전남 무안군</td>\n",
              "      <td>normal</td>\n",
              "      <td>2022-10-28</td>\n",
              "      <td>8</td>\n",
              "      <td>600.00000</td>\n",
              "      <td>전남</td>\n",
              "      <td>무안군</td>\n",
              "      <td>NaN</td>\n",
              "    </tr>\n",
              "  </tbody>\n",
              "</table>\n",
              "<p>3330278 rows × 11 columns</p>\n",
              "</div>"
            ],
            "text/plain": [
              "          prd    scale  price  origin     eco   reg_date  new_class  \\\n",
              "280       총각무  2.00000   1700  경기 평택시  normal 2017-11-01          1   \n",
              "282       총각무  2.00000   1500  경기 평택시  normal 2017-11-01          1   \n",
              "284       총각무  2.00000   1800  경기 평택시  normal 2017-11-01          1   \n",
              "286       총각무  2.00000   1200  경기 평택시  normal 2017-11-01          1   \n",
              "288       총각무  2.00000   1100  경기 화성시  normal 2017-11-01          1   \n",
              "...       ...      ...    ...     ...     ...        ...        ...   \n",
              "28137016   양파 15.00000  11000  전남 무안군  normal 2022-10-27          8   \n",
              "28137017   양파 15.00000  11000  전남 무안군  normal 2022-10-27          8   \n",
              "28137020   양파 15.00000  17000  전남 무안군  normal 2022-10-28          8   \n",
              "28137021   양파 15.00000  17000  전남 무안군  normal 2022-10-28          8   \n",
              "28137022   양파 15.00000   9000  전남 무안군  normal 2022-10-28          8   \n",
              "\n",
              "           price_kg   0    1    2  \n",
              "280       850.00000  경기  평택시  NaN  \n",
              "282       750.00000  경기  평택시  NaN  \n",
              "284       900.00000  경기  평택시  NaN  \n",
              "286       600.00000  경기  평택시  NaN  \n",
              "288       550.00000  경기  화성시  NaN  \n",
              "...             ...  ..  ...  ...  \n",
              "28137016  733.33000  전남  무안군  NaN  \n",
              "28137017  733.33000  전남  무안군  NaN  \n",
              "28137020 1133.33000  전남  무안군  NaN  \n",
              "28137021 1133.33000  전남  무안군  NaN  \n",
              "28137022  600.00000  전남  무안군  NaN  \n",
              "\n",
              "[3330278 rows x 11 columns]"
            ]
          },
          "execution_count": 298,
          "metadata": {},
          "output_type": "execute_result"
        }
      ],
      "source": [
        "# 해당 조건에 맞는 값 추출\n",
        "\n",
        "splits = df3['origin'].str.split(' ')\n",
        "cacul = splits.apply(lambda x: pd.Series(x))\n",
        "df66 = pd.merge(df3,cacul, left_index=True, right_index=True, how='inner')\n",
        "df66"
      ]
    },
    {
      "cell_type": "code",
      "execution_count": 299,
      "metadata": {
        "id": "NVkmVZ7ip9-N"
      },
      "outputs": [],
      "source": [
        "# 세부 카테고리 정리 (state, city 편집 시 여기서 시작)\n",
        "\n",
        "df4 = df66.rename(columns = {0:'state',1:'city'})\n",
        "\n",
        "# 2,3은 필요없는 정보이므로 삭제\n",
        "df4 = df4.drop(columns=2)"
      ]
    },
    {
      "cell_type": "code",
      "execution_count": 300,
      "metadata": {},
      "outputs": [
        {
          "data": {
            "text/html": [
              "<div>\n",
              "<style scoped>\n",
              "    .dataframe tbody tr th:only-of-type {\n",
              "        vertical-align: middle;\n",
              "    }\n",
              "\n",
              "    .dataframe tbody tr th {\n",
              "        vertical-align: top;\n",
              "    }\n",
              "\n",
              "    .dataframe thead th {\n",
              "        text-align: right;\n",
              "    }\n",
              "</style>\n",
              "<table border=\"1\" class=\"dataframe\">\n",
              "  <thead>\n",
              "    <tr style=\"text-align: right;\">\n",
              "      <th></th>\n",
              "      <th>prd</th>\n",
              "      <th>scale</th>\n",
              "      <th>price</th>\n",
              "      <th>origin</th>\n",
              "      <th>eco</th>\n",
              "      <th>reg_date</th>\n",
              "      <th>new_class</th>\n",
              "      <th>price_kg</th>\n",
              "      <th>state</th>\n",
              "      <th>city</th>\n",
              "    </tr>\n",
              "  </thead>\n",
              "  <tbody>\n",
              "    <tr>\n",
              "      <th>280</th>\n",
              "      <td>총각무</td>\n",
              "      <td>2.00000</td>\n",
              "      <td>1700</td>\n",
              "      <td>경기 평택시</td>\n",
              "      <td>normal</td>\n",
              "      <td>2017-11-01</td>\n",
              "      <td>1</td>\n",
              "      <td>850.00000</td>\n",
              "      <td>경기</td>\n",
              "      <td>평택시</td>\n",
              "    </tr>\n",
              "  </tbody>\n",
              "</table>\n",
              "</div>"
            ],
            "text/plain": [
              "     prd   scale  price  origin     eco   reg_date  new_class  price_kg state  \\\n",
              "280  총각무 2.00000   1700  경기 평택시  normal 2017-11-01          1 850.00000    경기   \n",
              "\n",
              "    city  \n",
              "280  평택시  "
            ]
          },
          "execution_count": 300,
          "metadata": {},
          "output_type": "execute_result"
        }
      ],
      "source": [
        "df4.head(1)"
      ]
    },
    {
      "cell_type": "code",
      "execution_count": 301,
      "metadata": {
        "colab": {
          "base_uri": "https://localhost:8080/"
        },
        "id": "JcsSUlI_27J3",
        "outputId": "817067e6-2645-4c9c-c86f-047b1471bb9b"
      },
      "outputs": [
        {
          "data": {
            "text/plain": [
              "array(['경기', '충남', '전북', '전남', '중국', '수입산', '중국(CN)', '제주도', '경기도', '서울시',\n",
              "       '서울', '경북', '강원', '세종', '충북', '제주', '대구', '경남', '기타외국', '광주',\n",
              "       '강원도', '인천', '부산', '인천시', '울산', '없음', '해당사항없', '광주시', '충북청주시상당구',\n",
              "       '대전', '전라북도', '충청남도', '충북청주시흥덕구', '서울특별시', '가락동', '대구시',\n",
              "       '경기고양시일산구', '세종시', '국산', '공통출하처', '경상북도', '부산시', '대전시', '경기성남시수정구',\n",
              "       '전라남도', '부천시', '성남시', '전주시', '뉴질랜드', '경북/문경시', '세종특별자치시', '미국',\n",
              "       '경상남도', '충청북도', '베트남', '대만', '태국', '호주', '제주/서귀포', '청주시', '경북/안동시',\n",
              "       '전남/무안군', '경북/구미시', '경북/상주시', '포항시', '경북/영천시', '경남/합천군', '제주시',\n",
              "       '수원시', '서귀포시', '충남/아산시', '경남/남해군', '광주광역시', '인천광역시', '충남/홍성군',\n",
              "       '전남/고흥군', '일본', '제주특별자치', '이시원', '부산광역시', '국내산', '수입', '국내산\\t'],\n",
              "      dtype=object)"
            ]
          },
          "execution_count": 301,
          "metadata": {},
          "output_type": "execute_result"
        }
      ],
      "source": [
        "df4['state'].unique()"
      ]
    },
    {
      "cell_type": "code",
      "execution_count": 302,
      "metadata": {
        "id": "SsvDFEbgqQjD"
      },
      "outputs": [],
      "source": [
        "# 시,도 제거\n",
        "def name_sort(words):\n",
        "  p = re.compile('[^시도]+')\n",
        "  word = re.search(p,str(words))\n",
        "  return word.group()\n",
        "\n",
        "df4[\"state\"] = df4[\"state\"].apply(name_sort)\n",
        "\n",
        "# 오타도 제거\n",
        "\n",
        "def name_sort2(words):\n",
        "  p = re.compile('[^\\t]+')\n",
        "  word = re.search(p,words)\n",
        "  return word.group()\n",
        "\n",
        "df4[\"state\"] = df4[\"state\"].apply(name_sort2)"
      ]
    },
    {
      "cell_type": "code",
      "execution_count": 303,
      "metadata": {
        "colab": {
          "base_uri": "https://localhost:8080/"
        },
        "id": "JeybBf_fqhqh",
        "outputId": "b5542367-86fe-4c6e-deab-f28f7d1ce6f5"
      },
      "outputs": [
        {
          "data": {
            "text/plain": [
              "array(['경기', '충남', '전북', '전남', '중국', '수입산', '중국(CN)', '제주', '서울', '경북',\n",
              "       '강원', '세종', '충북', '대구', '경남', '기타외국', '광주', '인천', '부산', '울산', '없음',\n",
              "       '해당사항없', '충북청주', '대전', '전라북', '충청남', '서울특별', '가락동', '경기고양', '국산',\n",
              "       '공통출하처', '경상북', '경기성남', '전라남', '부천', '성남', '전주', '뉴질랜드', '경북/문경',\n",
              "       '세종특별자치', '미국', '경상남', '충청북', '베트남', '대만', '태국', '호주', '제주/서귀포',\n",
              "       '청주', '경북/안동', '전남/무안군', '경북/구미', '경북/상주', '포항', '경북/영천', '경남/합천군',\n",
              "       '수원', '서귀포', '충남/아산', '경남/남해군', '광주광역', '인천광역', '충남/홍성군', '전남/고흥군',\n",
              "       '일본', '제주특별자치', '이', '부산광역', '국내산', '수입'], dtype=object)"
            ]
          },
          "execution_count": 303,
          "metadata": {},
          "output_type": "execute_result"
        }
      ],
      "source": [
        "df4[\"state\"].unique()"
      ]
    },
    {
      "cell_type": "code",
      "execution_count": 304,
      "metadata": {
        "id": "FDUnVy0e1br6"
      },
      "outputs": [],
      "source": [
        "# state\n",
        "# 특이케이스 제거\n",
        "df4 = df4.drop(df4[(df4['state']=='없음')].index)\n",
        "df4 = df4.drop(df4[(df4['state']=='해당사항없')].index)\n",
        "\n",
        "# 국내\n",
        "df4.loc[df4[\"state\"]==\"국내산\",\"city\"] = \"미상\"\n",
        "df4.loc[df4[\"state\"]==\"국내산\",\"state\"] = \"국산\"\n",
        "df4.loc[df4[\"state\"]==\"원양산\",\"city\"] = \"미상\"\n",
        "df4.loc[df4[\"state\"]==\"공통출하처\",\"city\"] = \"미상\"\n",
        "df4.loc[df4[\"state\"]==\"공통출하처\",\"state\"] = \"국산\"\n",
        "\n",
        "## 도단위\n",
        "df4.loc[df4[\"state\"]==\"충청북\",\"state\"] = \"충북\"\n",
        "df4.loc[df4[\"state\"]==\"충청남\",\"state\"] = \"충남\"\n",
        "df4.loc[df4[\"state\"]==\"전라북\",\"state\"] = \"전북\"\n",
        "df4.loc[df4[\"state\"]==\"전라남\",\"state\"] = \"전남\"\n",
        "df4.loc[df4[\"state\"]==\"경상북\",\"state\"] = \"경북\"\n",
        "df4.loc[df4[\"state\"]==\"경상남\",\"state\"] = \"경남\"\n",
        "\n",
        "## 시단위\n",
        "### 광역시\n",
        "\n",
        "df4.loc[df4[\"state\"]==\"대전\",\"city\"] = \"대전\"\n",
        "df4.loc[df4[\"state\"]==\"대구\",\"city\"] = \"대구\"\n",
        "df4.loc[df4[\"state\"]==\"서울특별\",\"city\"] = \"서울\"\n",
        "df4.loc[df4[\"state\"]==\"서울특별\",\"state\"] = \"서울\"\n",
        "df4.loc[df4[\"state\"]==\"인천광역\",\"city\"] = \"인천\"\n",
        "df4.loc[df4[\"state\"]==\"인천광역\",\"state\"] = \"인천\"\n",
        "df4.loc[df4[\"state\"]==\"부산\",\"city\"] = \"부산\"\n",
        "df4.loc[df4[\"state\"]==\"부산광역\",\"city\"] = \"부산\"\n",
        "df4.loc[df4[\"state\"]==\"부산광역\",\"state\"] = \"부산\"\n",
        "df4.loc[df4[\"state\"]==\"가락동\",\"city\"] = \"서울\"\n",
        "df4.loc[df4[\"state\"]==\"가락동\",\"state\"] = \"서울\"\n",
        "df4.loc[df4[\"state\"]==\"세종\",\"city\"] = \"세종\"\n",
        "df4.loc[df4[\"state\"]==\"세종특별자치\",\"city\"] = \"세종\"\n",
        "df4.loc[df4[\"state\"]==\"세종특별자치\",\"state\"] = \"세종\"\n",
        "df4.loc[df4[\"state\"]==\"대전\",\"city\"] = \"대전\"\n",
        "df4.loc[df4[\"state\"]==\"제주\",\"city\"] = \"제주\"\n",
        "df4.loc[df4[\"state\"]==\"제주특별자치\",\"city\"] = \"제주\"\n",
        "df4.loc[df4[\"state\"]==\"제주특별자치\",\"state\"] = \"제주\"\n",
        "df4.loc[df4[\"state\"]==\"제주특별자\",\"city\"] = \"제주\"\n",
        "df4.loc[df4[\"state\"]==\"제주특별자\",\"state\"] = \"제주\"\n",
        "df4.loc[df4[\"state\"]==\"제주/서귀포\",\"city\"] = \"제주\"\n",
        "df4.loc[df4[\"state\"]==\"제주/서귀포\",\"state\"] = \"제주\"\n",
        "df4.loc[df4[\"state\"]==\"서귀포\",\"city\"] = \"제주\"\n",
        "df4.loc[df4[\"state\"]==\"서귀포\",\"state\"] = \"제주\"\n",
        "df4.loc[df4[\"state\"]==\"세종\",\"city\"] = \"세종\"\n",
        "df4.loc[df4[\"state\"]==\"울산\",\"city\"] = \"울산\"\n",
        "df4.loc[df4[\"state\"]==\"울산\",\"state\"] = \"울산\"\n",
        "df4.loc[df4[\"state\"]==\"광주광역\",\"state\"] = \"광주\"\n",
        "df4.loc[df4[\"state\"]==\"광주광역\",\"city\"] = \"광주\"\n",
        "\n",
        "### 일반시\n",
        "df4.loc[df4[\"state\"]==\"성남\",\"city\"] = \"성남\"\n",
        "df4.loc[df4[\"state\"]==\"성남\",\"state\"] = \"경기\"\n",
        "df4.loc[df4[\"state\"]==\"경기성남\",\"city\"] = \"성남\"\n",
        "df4.loc[df4[\"state\"]==\"경기성남\",\"state\"] = \"경기\"\n",
        "df4.loc[df4[\"state\"]==\"전주\",\"city\"] = \"전주\"\n",
        "df4.loc[df4[\"state\"]==\"전주\",\"state\"] = \"전북\"\n",
        "df4.loc[df4[\"state\"]==\"청주\",\"city\"] = \"청주\"\n",
        "df4.loc[df4[\"state\"]==\"청주\",\"state\"] = \"충북\"\n",
        "df4.loc[df4[\"state\"]==\"수원\",\"city\"] = \"수원\"\n",
        "df4.loc[df4[\"state\"]==\"수원\",\"state\"] = \"경기\"\n",
        "df4.loc[df4[\"state\"]==\"부천\",\"city\"] = \"부천\"\n",
        "df4.loc[df4[\"state\"]==\"부천\",\"state\"] = \"경기\"\n",
        "df4.loc[df4[\"state\"]==\"경기고양\",\"city\"] = \"고양\"\n",
        "df4.loc[df4[\"state\"]==\"경기고양\",\"state\"] = \"경기\"\n",
        "df4.loc[df4[\"state\"]==\"충북청주\",\"city\"] = \"청주\"\n",
        "df4.loc[df4[\"state\"]==\"충북청주\",\"state\"] = \"충북\"\n",
        "df4.loc[df4[\"state\"]==\"충북청주시흥덕구\",\"city\"] = \"청주\"\n",
        "df4.loc[df4[\"state\"]==\"충북청주시흥덕구\",\"state\"] = \"충북\"\n",
        "df4.loc[df4[\"state\"]==\"전북전주\",\"city\"] = \"전주\"\n",
        "df4.loc[df4[\"state\"]==\"전북전주\",\"state\"] = \"전북\"\n",
        "df4.loc[df4[\"state\"]==\"경북/문경\",\"city\"] = \"문경\"\n",
        "df4.loc[df4[\"state\"]==\"경북/문경\",\"state\"] = \"경북\"\n",
        "df4.loc[df4[\"state\"]==\"포항\",\"city\"] = \"포항\"\n",
        "df4.loc[df4[\"state\"]==\"포항\",\"state\"] = \"경북\"\n",
        "df4.loc[df4[\"state\"]==\"경북/안동\",\"city\"] = \"안동\"\n",
        "df4.loc[df4[\"state\"]==\"경북/안동\",\"state\"] = \"경북\"\n",
        "df4.loc[df4[\"state\"]==\"전남/무안군\",\"state\"] = \"전남\"\n",
        "df4.loc[df4[\"state\"]==\"전남/무안군\",\"city\"] = \"무안\"\n",
        "df4.loc[df4[\"state\"]==\"무안\",\"state\"] = \"전남\"\n",
        "df4.loc[df4[\"state\"]==\"무안\",\"city\"] = \"무안\"\n",
        "df4.loc[df4[\"state\"]==\"경북/구미\",\"city\"] = \"구미\"\n",
        "df4.loc[df4[\"state\"]==\"경북/구미\",\"state\"] = \"경북\"\n",
        "df4.loc[df4[\"state\"]==\"경북/상주\",\"city\"] = \"상주\"\n",
        "df4.loc[df4[\"state\"]==\"경북/상주\",\"state\"] = \"경북\"\n",
        "df4.loc[df4[\"state\"]==\"경북/영천\",\"city\"] = \"영천\"\n",
        "df4.loc[df4[\"state\"]==\"경북/영천\",\"state\"] = \"경북\"\n",
        "df4.loc[df4[\"state\"]==\"경남/합천군\",\"city\"] = \"합천\"\n",
        "df4.loc[df4[\"state\"]==\"경남/합천군\",\"state\"] = \"경남\"\n",
        "df4.loc[df4[\"state\"]==\"전남/고흥군\",\"city\"] = \"고흥\"\n",
        "df4.loc[df4[\"state\"]==\"전남/고흥군\",\"state\"] = \"전남\"\n",
        "df4.loc[df4[\"state\"]==\"경남/남해군\",\"state\"] = \"경남\"\n",
        "df4.loc[df4[\"state\"]==\"경남/남해군\",\"city\"] = \"남해\"\n",
        "df4.loc[df4[\"state\"]==\"충남/아산\",\"state\"] = \"충남\"\n",
        "df4.loc[df4[\"state\"]==\"충남/아산\",\"city\"] = \"아산\"\n",
        "df4.loc[df4[\"state\"]==\"충남/홍성군\",\"state\"] = \"충남\"\n",
        "df4.loc[df4[\"state\"]==\"충남/홍성군\",\"city\"] = \"아산\"\n",
        "df4.loc[df4[\"state\"]==\"서해안\",\"city\"] = \"미상\"\n",
        "df4.loc[df4[\"state\"]==\"서해안\",\"state\"] = \"국산\"\n",
        "df4.loc[df4[\"state\"]==\"남해안\",\"city\"] = \"미상\"\n",
        "df4.loc[df4[\"state\"]==\"남해안\",\"state\"] = \"국산\"\n",
        "\n",
        "\n",
        "# 외국\n",
        "## 아시아\n",
        "df4.loc[df4[\"state\"]==\"칠레\",\"city\"] = \"칠레\"\n",
        "df4.loc[df4[\"state\"]==\"칠레\",\"state\"] = \"수입\"\n",
        "df4.loc[df4[\"state\"]==\"일본\",\"city\"] = \"일본\"\n",
        "df4.loc[df4[\"state\"]==\"일본\",\"state\"] = \"수입\"\n",
        "df4.loc[df4[\"state\"]==\"베트남\",\"city\"] = \"베트남\"\n",
        "df4.loc[df4[\"state\"]==\"베트남\",\"state\"] = \"수입\"\n",
        "df4.loc[df4[\"state\"]==\"우즈베크\",\"city\"] = \"우즈베키스탄\"\n",
        "df4.loc[df4[\"state\"]==\"우즈베크\",\"state\"] = \"수입\"\n",
        "df4.loc[df4[\"state\"]==\"이스라엘\",\"city\"] = \"이스라엘\"\n",
        "df4.loc[df4[\"state\"]==\"이스라엘\",\"state\"] = \"수입\"\n",
        "df4.loc[df4[\"state\"]==\"터키\",\"city\"] = \"터키\"\n",
        "df4.loc[df4[\"state\"]==\"터키\",\"state\"] = \"수입\"\n",
        "df4.loc[df4[\"state\"]==\"중국\",\"city\"] = \"중국\"\n",
        "df4.loc[df4[\"state\"]==\"중국\",\"state\"] = \"수입\"\n",
        "df4.loc[df4[\"state\"]==\"중국(CN)\",\"city\"] = \"중국\"\n",
        "df4.loc[df4[\"state\"]==\"중국(CN)\",\"state\"] = \"수입\"\n",
        "df4.loc[df4[\"state\"]==\"타이\",\"city\"] = \"태국\"\n",
        "df4.loc[df4[\"state\"]==\"타이\",\"state\"] = \"수입\"\n",
        "df4.loc[df4[\"state\"]==\"태국\",\"city\"] = \"태국\"\n",
        "df4.loc[df4[\"state\"]==\"태국\",\"state\"] = \"수입\"\n",
        "df4.loc[df4[\"state\"]==\"필리핀\",\"city\"] = \"필리핀\"\n",
        "df4.loc[df4[\"state\"]==\"필리핀\",\"state\"] = \"수입\"\n",
        "df4.loc[df4[\"state\"]==\"우즈베키스탄\",\"city\"] = \"우즈베키스탄\"\n",
        "df4.loc[df4[\"state\"]==\"우즈베키스탄\",\"state\"] = \"수입\"\n",
        "df4.loc[df4[\"state\"]==\"대만\",\"city\"] = \"대만\"\n",
        "df4.loc[df4[\"state\"]==\"대만\",\"state\"] = \"수입\"\n",
        "df4.loc[df4[\"state\"]==\"베트남\",\"city\"] = \"베트남\"\n",
        "df4.loc[df4[\"state\"]==\"베트남\",\"state\"] = \"수입\"\n",
        "df4.loc[df4[\"state\"]==\"이란\",\"city\"] = \"이란\"\n",
        "df4.loc[df4[\"state\"]==\"이란\",\"state\"] = \"수입\"\n",
        "df4.loc[df4[\"state\"]==\"러\",\"city\"] = \"러시아\"\n",
        "df4.loc[df4[\"state\"]==\"러\",\"state\"] = \"수입\"\n",
        "df4.loc[df4[\"state\"]==\"캄보디아\",\"city\"] = \"캄보디아\"\n",
        "df4.loc[df4[\"state\"]==\"캄보디아\",\"state\"] = \"수입\"\n",
        "df4.loc[(df4[\"state\"]==\"인\")&(df4[\"origin\"]==\"인도네시아\"),\"city\"] = \"인도네시아\"\n",
        "df4.loc[(df4[\"state\"]==\"인\")&(df4[\"origin\"]==\"인도네시아\"),\"state\"] = \"수입\"\n",
        "df4.loc[(df4[\"state\"]==\"인\")&(df4[\"origin\"]==\"인도\"),\"city\"] = \"인도\"\n",
        "df4.loc[(df4[\"state\"]==\"인\")&(df4[\"origin\"]==\"인도\"),\"state\"] = \"수입\"\n",
        "\n",
        "## 아메리카\n",
        "\n",
        "df4.loc[df4[\"state\"]==\"캘리포니아\",\"city\"] = \"미국\"\n",
        "df4.loc[df4[\"state\"]==\"캘리포니아\",\"state\"] = \"수입\"\n",
        "df4.loc[df4[\"state\"]==\"포클랜드\",\"city\"] = \"영국\"\n",
        "df4.loc[df4[\"state\"]==\"포클랜드\",\"state\"] = \"수입\"\n",
        "df4.loc[df4[\"state\"]==\"콜롬비아\",\"city\"] = \"콜롬비아\"\n",
        "df4.loc[df4[\"state\"]==\"콜롬비아\",\"state\"] = \"수입\"\n",
        "df4.loc[df4[\"state\"]==\"에콰\",\"city\"] = \"에콰도르\"\n",
        "df4.loc[df4[\"state\"]==\"에콰\",\"state\"] = \"수입\"\n",
        "df4.loc[df4[\"state\"]==\"에쿠아\",\"city\"] = \"에콰도르\"\n",
        "df4.loc[df4[\"state\"]==\"에쿠아\",\"state\"] = \"수입\"\n",
        "df4.loc[df4[\"state\"]==\"에콰돌\",\"city\"] = \"에콰도르\"\n",
        "df4.loc[df4[\"state\"]==\"에콰돌\",\"state\"] = \"수입\"\n",
        "df4.loc[df4[\"state\"]==\"과테말라\",\"city\"] = \"과테말라\"\n",
        "df4.loc[df4[\"state\"]==\"과테말라\",\"state\"] = \"수입\"\n",
        "df4.loc[df4[\"state\"]==\"코스타리카\",\"city\"] = \"코스타리카\"\n",
        "df4.loc[df4[\"state\"]==\"코스타리카\",\"state\"] = \"수입\"\n",
        "df4.loc[df4[\"state\"]==\"멕\",\"city\"] = \"멕시코\"\n",
        "df4.loc[df4[\"state\"]==\"멕\",\"state\"] = \"수입\"\n",
        "df4.loc[df4[\"state\"]==\"페루\",\"city\"] = \"페루\"\n",
        "df4.loc[df4[\"state\"]==\"페루\",\"state\"] = \"수입\"\n",
        "df4.loc[df4[\"state\"]==\"미국\",\"city\"] = \"미국\"\n",
        "df4.loc[df4[\"state\"]==\"미국\",\"state\"] = \"수입\"\n",
        "df4.loc[df4[\"state\"]==\"아르헨티나\",\"city\"] = \"아르헨티나\"\n",
        "df4.loc[df4[\"state\"]==\"아르헨티나\",\"state\"] = \"수입\"\n",
        "df4.loc[df4[\"state\"]==\"브라질\",\"city\"] = \"브라질\"\n",
        "df4.loc[df4[\"state\"]==\"브라질\",\"state\"] = \"수입\"\n",
        "\n",
        "## 유럽\n",
        "df4.loc[df4[\"state\"]==\"스페인\",\"city\"] = \"스페인\"\n",
        "df4.loc[df4[\"state\"]==\"스페인\",\"state\"] = \"수입\"\n",
        "df4.loc[df4[\"state\"]==\"우크라이나\",\"city\"] = \"우크라이나\"\n",
        "df4.loc[df4[\"state\"]==\"우크라이나\",\"state\"] = \"수입\"\n",
        "df4.loc[df4[\"state\"]==\"이탈리아\",\"city\"] = \"이탈리아\"\n",
        "df4.loc[df4[\"state\"]==\"이탈리아\",\"state\"] = \"수입\"\n",
        "df4.loc[df4[\"state\"]==\"불가리아\",\"city\"] = \"불가리아\"\n",
        "df4.loc[df4[\"state\"]==\"불가리아\",\"state\"] = \"수입\"\n",
        "df4.loc[df4[\"state\"]==\"그리스\",\"city\"] = \"그리스\"\n",
        "df4.loc[df4[\"state\"]==\"그리스\",\"state\"] = \"수입\"\n",
        "\n",
        "## 아프리카\n",
        "df4.loc[df4[\"state\"]==\"남아프리카\",\"city\"] = \"남아공\"\n",
        "df4.loc[df4[\"state\"]==\"남아프리카\",\"state\"] = \"수입\"\n",
        "df4.loc[df4[\"state\"]==\"남아프리카공화국\",\"city\"] = \"남아공\"\n",
        "df4.loc[df4[\"state\"]==\"남아프리카공화국\",\"state\"] = \"수입\"\n",
        "df4.loc[df4[\"state\"]==\"수입남아프리카공화국\",\"city\"] = \"남아공\"\n",
        "df4.loc[df4[\"state\"]==\"수입남아프리카공화국\",\"state\"] = \"수입\"\n",
        "\n",
        "\n",
        "## 오세아니아\n",
        "df4.loc[df4[\"state\"]==\"뉴질랜드\",\"city\"] = \"뉴질랜드\"\n",
        "df4.loc[df4[\"state\"]==\"뉴질랜드\",\"state\"] = \"수입\"\n",
        "df4.loc[df4[\"state\"]==\"오스트레일\",\"city\"] = \"호주\"\n",
        "df4.loc[df4[\"state\"]==\"오스트레일\",\"state\"] = \"수입\"\n",
        "df4.loc[df4[\"state\"]==\"오스트레일리아\",\"city\"] = \"호주\"\n",
        "df4.loc[df4[\"state\"]==\"오스트레일리아\",\"state\"] = \"수입\"\n",
        "df4.loc[df4[\"state\"]==\"호주\",\"city\"] = \"호주\"\n",
        "df4.loc[df4[\"state\"]==\"호주\",\"state\"] = \"수입\"\n",
        "df4.loc[df4[\"state\"]==\"통가\",\"city\"] = \"통가\"\n",
        "df4.loc[df4[\"state\"]==\"통가\",\"state\"] = \"수입\"\n",
        "df4.loc[df4[\"state\"]==\"뉴칼레\",\"city\"] = \"뉴칼레도니아\"\n",
        "df4.loc[df4[\"state\"]==\"뉴칼레\",\"state\"] = \"수입\"\n",
        "df4.loc[df4[\"state\"]==\"뉴\",\"city\"] = \"뉴칼레도니아\"\n",
        "df4.loc[df4[\"state\"]==\"뉴\",\"state\"] = \"수입\"\n",
        "df4.loc[df4[\"state\"]==\"누벨칼레\",\"city\"] = \"뉴칼레도니아\"\n",
        "df4.loc[df4[\"state\"]==\"누벨칼레\",\"state\"] = \"수입\"\n",
        "# 기타\n",
        "df4.loc[df4[\"state\"]==\"수입산\",\"state\"] = \"수입\"\n",
        "df4.loc[df4[\"state\"]==\"기타외국\",\"city\"] = \"미상\"\n",
        "df4.loc[df4[\"state\"]==\"기타외국\",\"state\"] = \"수입\"\n",
        "df4.drop(df4[df4[\"state\"]==\"미등록\"].index,inplace=True)"
      ]
    },
    {
      "cell_type": "code",
      "execution_count": 305,
      "metadata": {},
      "outputs": [
        {
          "data": {
            "text/html": [
              "<div>\n",
              "<style scoped>\n",
              "    .dataframe tbody tr th:only-of-type {\n",
              "        vertical-align: middle;\n",
              "    }\n",
              "\n",
              "    .dataframe tbody tr th {\n",
              "        vertical-align: top;\n",
              "    }\n",
              "\n",
              "    .dataframe thead th {\n",
              "        text-align: right;\n",
              "    }\n",
              "</style>\n",
              "<table border=\"1\" class=\"dataframe\">\n",
              "  <thead>\n",
              "    <tr style=\"text-align: right;\">\n",
              "      <th></th>\n",
              "      <th>prd</th>\n",
              "      <th>scale</th>\n",
              "      <th>price</th>\n",
              "      <th>origin</th>\n",
              "      <th>eco</th>\n",
              "      <th>reg_date</th>\n",
              "      <th>new_class</th>\n",
              "      <th>price_kg</th>\n",
              "      <th>state</th>\n",
              "      <th>city</th>\n",
              "    </tr>\n",
              "  </thead>\n",
              "  <tbody>\n",
              "    <tr>\n",
              "      <th>7360116</th>\n",
              "      <td>갓</td>\n",
              "      <td>8.00000</td>\n",
              "      <td>10100</td>\n",
              "      <td>경기 포천시</td>\n",
              "      <td>normal</td>\n",
              "      <td>2020-02-13</td>\n",
              "      <td>1</td>\n",
              "      <td>1262.50000</td>\n",
              "      <td>경기</td>\n",
              "      <td>포천시</td>\n",
              "    </tr>\n",
              "    <tr>\n",
              "      <th>7360117</th>\n",
              "      <td>갓</td>\n",
              "      <td>8.00000</td>\n",
              "      <td>9500</td>\n",
              "      <td>경기 포천시</td>\n",
              "      <td>normal</td>\n",
              "      <td>2020-02-13</td>\n",
              "      <td>1</td>\n",
              "      <td>1187.50000</td>\n",
              "      <td>경기</td>\n",
              "      <td>포천시</td>\n",
              "    </tr>\n",
              "    <tr>\n",
              "      <th>7360118</th>\n",
              "      <td>갓</td>\n",
              "      <td>10.00000</td>\n",
              "      <td>11000</td>\n",
              "      <td>전남 무안군</td>\n",
              "      <td>normal</td>\n",
              "      <td>2020-02-13</td>\n",
              "      <td>1</td>\n",
              "      <td>1100.00000</td>\n",
              "      <td>전남</td>\n",
              "      <td>무안군</td>\n",
              "    </tr>\n",
              "    <tr>\n",
              "      <th>7360119</th>\n",
              "      <td>갓</td>\n",
              "      <td>10.00000</td>\n",
              "      <td>13000</td>\n",
              "      <td>전남 무안군</td>\n",
              "      <td>normal</td>\n",
              "      <td>2020-02-13</td>\n",
              "      <td>1</td>\n",
              "      <td>1300.00000</td>\n",
              "      <td>전남</td>\n",
              "      <td>무안군</td>\n",
              "    </tr>\n",
              "  </tbody>\n",
              "</table>\n",
              "</div>"
            ],
            "text/plain": [
              "        prd    scale  price  origin     eco   reg_date  new_class   price_kg  \\\n",
              "7360116   갓  8.00000  10100  경기 포천시  normal 2020-02-13          1 1262.50000   \n",
              "7360117   갓  8.00000   9500  경기 포천시  normal 2020-02-13          1 1187.50000   \n",
              "7360118   갓 10.00000  11000  전남 무안군  normal 2020-02-13          1 1100.00000   \n",
              "7360119   갓 10.00000  13000  전남 무안군  normal 2020-02-13          1 1300.00000   \n",
              "\n",
              "        state city  \n",
              "7360116    경기  포천시  \n",
              "7360117    경기  포천시  \n",
              "7360118    전남  무안군  \n",
              "7360119    전남  무안군  "
            ]
          },
          "execution_count": 305,
          "metadata": {},
          "output_type": "execute_result"
        }
      ],
      "source": [
        "df4[(df4['prd'].str.contains('갓')) & (df4['reg_date']==dt.datetime(2020,2,13))]"
      ]
    },
    {
      "cell_type": "code",
      "execution_count": 306,
      "metadata": {},
      "outputs": [],
      "source": [
        "df4 = df4.drop(df4[(df4['origin']=='이시원')].index)"
      ]
    },
    {
      "cell_type": "code",
      "execution_count": 307,
      "metadata": {
        "colab": {
          "base_uri": "https://localhost:8080/"
        },
        "id": "bPMNH6Fz9laX",
        "outputId": "c7ea6abb-e318-4350-9eea-394a56796052"
      },
      "outputs": [
        {
          "data": {
            "text/plain": [
              "array(['경기', '충남', '전북', '전남', '수입', '제주', '서울', '경북', '강원', '세종', '충북',\n",
              "       '대구', '경남', '광주', '인천', '부산', '울산', '대전', '국산'], dtype=object)"
            ]
          },
          "execution_count": 307,
          "metadata": {},
          "output_type": "execute_result"
        }
      ],
      "source": [
        "df4['state'].unique()"
      ]
    },
    {
      "cell_type": "code",
      "execution_count": 308,
      "metadata": {
        "id": "Ih5vw324J-Ed"
      },
      "outputs": [],
      "source": [
        "# city\n",
        "# 우선 결측치 제거\n",
        "df4.loc[df4[\"city\"].isnull(),\"city\"] = \"미상\""
      ]
    },
    {
      "cell_type": "code",
      "execution_count": 309,
      "metadata": {
        "id": "cXY3uABaKSty"
      },
      "outputs": [],
      "source": [
        "# 이후 시,군 등 제거\n",
        "def name_sort(words):\n",
        "  p = re.compile('[^시군]+')\n",
        "  word = re.search(p,words)\n",
        "  return word.group()\n",
        "\n",
        "df4[\"city\"] = df4[\"city\"].apply(name_sort)"
      ]
    },
    {
      "cell_type": "code",
      "execution_count": 310,
      "metadata": {
        "id": "QuyWFOs1R7yP"
      },
      "outputs": [],
      "source": [
        "# \\t 도 제거\n",
        "def name_sort2(words):\n",
        "  p = re.compile('[^\\t]+')\n",
        "  word = re.search(p,words)\n",
        "  return word.group()\n",
        "\n",
        "df4[\"city\"] = df4[\"city\"].apply(name_sort2)"
      ]
    },
    {
      "cell_type": "code",
      "execution_count": 311,
      "metadata": {
        "colab": {
          "base_uri": "https://localhost:8080/"
        },
        "id": "szJvb99ySEPR",
        "outputId": "97ca859c-e684-45b0-f3d0-488abdd6cedf"
      },
      "outputs": [
        {
          "data": {
            "text/plain": [
              "array(['평택', '화성', '태안', '천안', '서산', '고창', '영암', '중국', '제주', '예산', '김포',\n",
              "       '남양주', '홍성', '서천', '아산', '포천', '구리', '동두천', '성남', '고양', '안성',\n",
              "       '은평구', '여수', '미상', '영주', '무안', '평창', '홍천', '당진', '가평', '파주', '세종',\n",
              "       '상주', '보성', '횡성', '연천', '보령', '완주', '함평', '신안', '장수', '무주', '청송',\n",
              "       '의성', '충주', '단양', '김천', '나주', '중랑구', '여주', '부안', '영월', '춘천', '이천',\n",
              "       '청양', '영천', '영동', '안동', '대구', '송파구', '봉화', '청도', '괴산', '제천', '문경',\n",
              "       '거창', '도봉구', '양평', '철원', '연기', '전주', '양주', '하남', '원주', '광명', '광주',\n",
              "       '용인', '창녕', '해남', '양구', '금산', '논산', '공주', '강동구', '음성', '인제', '부여',\n",
              "       '영양', '밀양', '함양', '합천', '임실', '화천', '진안', '강릉', '정선', '완도', '김제',\n",
              "       '양산', '서구', '부산', '광산구', '의령', '흥', '안산', '부천', '위', '산청', '남원',\n",
              "       '계양구', '영덕', '장성', '고흥', '남해', '삼척', '영광', '남구', '진도', '오산', '곡성',\n",
              "       '울산', '익산', '예천', '강서구', '정읍', '청주', '청원', '강화', '대전', '김', '진주',\n",
              "       '장흥', '전', '구미', '태백', '아', '수원', '경주', '강진', '안양', '보은', '목포',\n",
              "       '양천구', '광양', '진천', '김해', '동구', '고성', '경산', '순창', '순천', '함안', '장',\n",
              "       '서울', '포', '의정부', '고령', '북구', '옥천', '울진', '중구', '동대문구', '남양', '성주',\n",
              "       '칠곡', '포항', '서초구', '계룡', '산', '구례', '하동', '영등포구', '과천', '창원', '속초',\n",
              "       '익', '담양', '서대문구', '동해', '칠레', '화순', '미국', '뉴질랜드', '베트남', '진해',\n",
              "       '양양', '성북구', '구로구', '미금', '강북구', '거제', '서대문', '강남구', '사천', '증평',\n",
              "       '통영', '남동구', '일본', '대만', '태국', '호주', '부평구', '동작구', '영등포', '마포구',\n",
              "       '용산구', '여', '고', '영', '인천', '관악구', '동대문', '함', '진', '무', '안', '거',\n",
              "       '합', '마산(고성,진해)', '삼천포', '고흥(나로도)', '순천(광양)', '고성(거진,대진)'],\n",
              "      dtype=object)"
            ]
          },
          "execution_count": 311,
          "metadata": {},
          "output_type": "execute_result"
        }
      ],
      "source": [
        "df4['city'].unique()"
      ]
    },
    {
      "cell_type": "code",
      "execution_count": 312,
      "metadata": {
        "id": "MrIoC_BDQ_ic"
      },
      "outputs": [],
      "source": [
        "# 나머지 케이스 정리\n",
        "\n",
        "# 국내\n",
        "df4.loc[df4[\"city\"]==\"기타\",\"city\"] = \"미상\"\n",
        "## 일반시\n",
        "df4.loc[df4[\"city\"]==\"위\",\"city\"] = \"군위\"\n",
        "df4.loc[df4[\"city\"]==\"포\",\"city\"] = \"군포\"\n",
        "df4.loc[df4[\"city\"]==\"고흥(나로도)\",\"city\"] = \"고흥\"\n",
        "df4.loc[df4[\"city\"]==\"산\",\"city\"] = \"군산\"\n",
        "df4.loc[df4[\"city\"]==\"장항(서천)\",\"city\"] = \"서천\"\n",
        "df4.loc[df4[\"city\"]==\"삼천포\",\"city\"] = \"사천\"\n",
        "df4.loc[df4[\"city\"]==\"삼천포\",\"city\"] = \"사천\"\n",
        "df4.loc[df4[\"city\"]==\"순천(광양)\",\"city\"] = \"순천\"\n",
        "df4.loc[df4[\"city\"]==\"대천(보령)\",\"city\"] = \"보령\"\n",
        "df4.loc[df4[\"city\"]==\"대천(보령)\",\"city\"] = \"보령\"\n",
        "df4.loc[df4[\"city\"]==\"화성(평택)\",\"city\"] = \"화성\"\n",
        "df4.loc[df4[\"city\"]==\"흥\",\"city\"] = \"시흥\"\n",
        "df4.loc[df4[\"city\"]==\"목포(무안)\",\"city\"] = \"목포\"\n",
        "df4.loc[df4[\"city\"]==\"목포(무안)\",\"state\"] = \"전남\"\n",
        "df4.loc[df4[\"city\"]==\"보성(벌교)\",\"city\"] = \"보성\"\n",
        "df4.loc[df4[\"city\"]==\"울진(후포)\",\"city\"] = \"울진\"\n",
        "df4.loc[df4[\"city\"]==\"논\",\"city\"] = \"논산\"\n",
        "df4.loc[df4[\"city\"]==\"논\",\"city\"] = \"논산\"\n",
        "df4.loc[df4[\"city\"]==\"순\",\"city\"] = \"순창\"\n",
        "df4.loc[df4[\"city\"]==\"익\",\"city\"] = \"익산\"\n",
        "df4.loc[df4[\"city\"]==\"미금\",\"city\"] = \"성남\"\n",
        "df4.loc[df4[\"city\"]==\"주문진\",\"city\"] = \"강릉\"\n",
        "df4.loc[df4[\"city\"]==\"울릉도\",\"city\"] = \"울릉\"\n",
        "df4.loc[df4[\"city\"]==\"거제(장승포)\",\"city\"] = \"거제\"\n",
        "df4.loc[df4[\"city\"]==\"남양\",\"city\"] = \"남양주\"\n",
        "df4.loc[(df4[\"city\"]==\"완\")&(df4[\"state\"]==\"전북\"),\"city\"] = \"완주\"\n",
        "df4.loc[(df4[\"state\"]==\"전북\")&(df4[\"city\"]==\"남\"),\"city\"] = \"남원\"\n",
        "df4.loc[(df4['prd']==\"호박\") & (df4['state']=='전북'),\"city\"] = \"전주\"\n",
        "df4.loc[(df4[\"state\"]==\"전남\")&(df4[\"city\"]==\"신\"),\"city\"] = \"신안\"\n",
        "df4.loc[(df4[\"state\"]==\"전북\")&(df4[\"city\"]==\"장\"),\"city\"] = \"장수\"\n",
        "df4.loc[(df4[\"state\"]==\"전남\")&(df4[\"city\"]==\"진\"),\"city\"] = \"진도\"\n",
        "df4.loc[(df4[\"state\"]==\"충남\")&(df4[\"city\"]==\"부\"),\"city\"] = \"부여\"\n",
        "df4.loc[(df4[\"state\"]==\"경남\")&(df4[\"city\"]==\"의\"),\"city\"] = \"의령\"\n",
        "df4.loc[(df4[\"state\"]==\"전남\")&(df4[\"city\"]==\"함\"),\"city\"] = \"함평\"\n",
        "df4.loc[(df4[\"state\"]==\"경북\")&(df4[\"city\"]==\"영\"),\"city\"] = \"영주\"\n",
        "df4.loc[(df4[\"state\"]==\"경북\")&(df4[\"city\"]==\"안\"),\"city\"] = \"안동\"\n",
        "df4.loc[(df4[\"state\"]==\"경남\")&(df4[\"city\"]==\"거\"),\"city\"] = \"거창\"\n",
        "df4.loc[(df4[\"state\"]==\"경남\")&(df4[\"city\"]==\"합\"),\"city\"] = \"합천\"\n",
        "df4.loc[(df4[\"state\"]==\"전북\")&(df4[\"city\"]==\"김\"),\"city\"] = \"김제\"\n",
        "df4.loc[(df4[\"state\"]==\"전북\")&(df4[\"city\"]==\"전\"),\"city\"] = \"전주\"\n",
        "df4.loc[(df4[\"state\"]==\"충남\")&(df4[\"city\"]==\"아\"),\"city\"] = \"아산\"\n",
        "df4.loc[(df4[\"state\"]==\"전남\")&(df4[\"city\"]==\"여\"),\"city\"] = \"여수\"\n",
        "df4.loc[(df4[\"state\"]==\"전북\")&(df4[\"city\"]==\"고\"),\"city\"] = \"고창\"\n",
        "df4.loc[(df4[\"state\"]==\"전남\")&(df4[\"city\"]==\"무\"),\"city\"] = \"무안\"\n",
        "# 전라남도 장 -> 장흥, 장성 두개 있으므로 구분 불가, 삭제\n",
        "df4.drop(df4[(df4[\"city\"]==\"장\")&(df4[\"state\"]==\"전남\")].index,inplace=True)\n",
        "\n",
        "## 광역시\n",
        "df4.loc[df4[\"city\"]==\"강서구\",\"city\"] = \"서울\"\n",
        "df4.loc[df4[\"city\"]==\"은평구\",\"city\"] = \"서울\"\n",
        "df4.loc[df4[\"city\"]==\"강동구\",\"city\"] = \"서울\"\n",
        "df4.loc[df4[\"city\"]==\"마포구\",\"city\"] = \"서울\"\n",
        "df4.loc[df4[\"city\"]==\"중구\",\"city\"] = \"서울\"\n",
        "df4.loc[df4[\"city\"]==\"송파구\",\"city\"] = \"서울\"\n",
        "df4.loc[df4[\"city\"]==\"도봉구\",\"city\"] = \"서울\"\n",
        "df4.loc[df4[\"city\"]==\"중랑구\",\"city\"] = \"서울\"\n",
        "df4.loc[df4[\"city\"]==\"양천구\",\"city\"] = \"서울\"\n",
        "df4.loc[df4[\"city\"]==\"성동구\",\"city\"] = \"서울\"\n",
        "df4.loc[df4[\"city\"]==\"강남구\",\"city\"] = \"서울\"\n",
        "df4.loc[df4[\"city\"]==\"동대문구\",\"city\"] = \"서울\"\n",
        "df4.loc[df4[\"city\"]==\"영등포구\",\"city\"] = \"서울\"\n",
        "df4.loc[df4[\"city\"]==\"영등포\",\"city\"] = \"서울\"\n",
        "df4.loc[df4[\"city\"]==\"서초구\",\"city\"] = \"서울\"\n",
        "df4.loc[df4[\"city\"]==\"구로구\",\"city\"] = \"서울\"\n",
        "df4.loc[df4[\"city\"]==\"동대문\",\"city\"] = \"서울\"\n",
        "df4.loc[df4[\"city\"]==\"금천구\",\"city\"] = \"서울\"\n",
        "df4.loc[df4[\"city\"]==\"동작구\",\"city\"] = \"서울\"\n",
        "df4.loc[df4[\"city\"]==\"용산구\",\"city\"] = \"서울\"\n",
        "df4.loc[df4[\"city\"]==\"광진구\",\"city\"] = \"서울\"\n",
        "df4.loc[df4[\"city\"]==\"종로구\",\"city\"] = \"서울\"\n",
        "df4.loc[df4[\"city\"]==\"서대문구\",\"city\"] = \"서울\"\n",
        "df4.loc[df4[\"city\"]==\"서대문\",\"city\"] = \"서울\"\n",
        "df4.loc[df4[\"city\"]==\"성북구\",\"city\"] = \"서울\"\n",
        "df4.loc[df4[\"city\"]==\"관악구\",\"city\"] = \"서울\"\n",
        "df4.loc[df4[\"city\"]==\"강북구\",\"city\"] = \"서울\"\n",
        "\n",
        "df4.loc[df4[\"city\"]==\"광산구\",\"city\"] = \"광주\"\n",
        "df4.loc[(df4[\"state\"]==\"광주\")&(df4[\"city\"]==\"남구\"),\"city\"] = \"광주\"\n",
        "df4.loc[(df4[\"state\"]==\"광주\")&(df4[\"city\"]==\"북구\"),\"city\"] = \"광주\"\n",
        "df4.loc[(df4[\"state\"]==\"광주\")&(df4[\"city\"]==\"서구\"),\"city\"] = \"광주\"\n",
        "df4.loc[df4[\"city\"]==\"동구\",\"city\"] = \"광주\"\n",
        "df4.loc[(df4[\"state\"]==\"인천\")&(df4[\"city\"]==\"남구\"),\"city\"] = \"인천\"\n",
        "df4.loc[(df4[\"state\"]==\"인천\")&(df4[\"city\"]==\"서구\"),\"city\"] = \"인천\"\n",
        "df4.loc[df4[\"city\"]==\"미추홀\",\"city\"] = \"인천\"\n",
        "df4.loc[df4[\"city\"]==\"부평구\",\"city\"] = \"인천\"\n",
        "df4.loc[df4[\"city\"]==\"남동구\",\"city\"] = \"인천\"\n",
        "df4.loc[df4[\"city\"]==\"미추홀구\",\"city\"] = \"인천\"\n",
        "df4.loc[df4[\"city\"]==\"계양구\",\"city\"] = \"인천\"\n",
        "df4.loc[df4[\"city\"]==\"마산(고성,진해)\",\"city\"] = \"창원\"\n",
        "df4.loc[(df4[\"state\"]==\"부산\")&(df4[\"city\"]==\"북구\"),\"city\"] = \"부산\"\n",
        "df4.loc[df4[\"city\"]==\"오포\",\"city\"] = \"부산\"\n",
        "df4.loc[df4[\"city\"]==\"부산진\",\"city\"] = \"부산\"\n",
        "df4.loc[df4[\"city\"]==\"사상구\",\"city\"] = \"부산\"\n",
        "df4.loc[df4[\"city\"]==\"부산진구\",\"city\"] = \"부산\"\n",
        "df4.loc[df4[\"city\"]==\"북제주\",\"city\"] = \"제주\"\n",
        "df4.loc[df4[\"city\"]==\"남제주\",\"city\"] = \"제주\"\n",
        "df4.loc[df4[\"city\"]==\"고성(거진,대진)\",\"city\"] = \"고성\"\n",
        "df4.loc[df4[\"city\"]==\"연기\",\"state\"] = \"세종\"\n",
        "df4.loc[df4[\"city\"]==\"연기\",\"city\"] = \"세종\"\n",
        "\n",
        "# 해외\n",
        "## 아시아\n",
        "df4.loc[df4[\"city\"]==\"러\",\"city\"] = \"러시아\"\n",
        "df4.loc[df4[\"city\"]==\"말레이지아\",\"city\"] = \"말레이시아\"\n",
        "df4.loc[df4[\"city\"]==\"타이\",\"city\"] = \"태국\"\n",
        "df4.loc[df4[\"city\"]==\"인도네\",\"city\"] = \"인도네시아\"\n",
        "df4.loc[df4[\"city\"]==\"사우디\",\"city\"] = \"사우디아라비아\"\n",
        "## 아메리카\n",
        "df4.loc[df4[\"city\"]==\"멕\",\"city\"] = \"멕시코\"\n",
        "## 아프리카\n",
        "df4.loc[df4[\"city\"]==\"남아공산\",\"city\"] = \"남아공\"\n",
        "## 유럽\n",
        "## 오세아니아"
      ]
    },
    {
      "cell_type": "code",
      "execution_count": 313,
      "metadata": {},
      "outputs": [],
      "source": [
        "#df2[(df2['prd']=='양파') & (df2['price']==23000) & (df2['scale']==15)]['origin'].unique()"
      ]
    },
    {
      "cell_type": "code",
      "execution_count": 314,
      "metadata": {},
      "outputs": [
        {
          "data": {
            "text/plain": [
              "array([], dtype=object)"
            ]
          },
          "execution_count": 314,
          "metadata": {},
          "output_type": "execute_result"
        }
      ],
      "source": [
        "df4[df4['city']=='무']['origin'].unique()"
      ]
    },
    {
      "cell_type": "code",
      "execution_count": 315,
      "metadata": {},
      "outputs": [
        {
          "data": {
            "text/plain": [
              "array(['평택', '화성', '태안', '천안', '서산', '고창', '영암', '중국', '제주', '예산', '김포',\n",
              "       '남양주', '홍성', '서천', '아산', '포천', '구리', '동두천', '성남', '고양', '안성', '서울',\n",
              "       '여수', '미상', '영주', '무안', '평창', '홍천', '당진', '가평', '파주', '세종', '상주',\n",
              "       '보성', '횡성', '연천', '보령', '완주', '함평', '신안', '장수', '무주', '청송', '의성',\n",
              "       '충주', '단양', '김천', '나주', '여주', '부안', '영월', '춘천', '이천', '청양', '영천',\n",
              "       '영동', '안동', '대구', '봉화', '청도', '괴산', '제천', '문경', '거창', '양평', '철원',\n",
              "       '전주', '양주', '하남', '원주', '광명', '광주', '용인', '창녕', '해남', '양구', '금산',\n",
              "       '논산', '공주', '음성', '인제', '부여', '영양', '밀양', '함양', '합천', '임실', '화천',\n",
              "       '진안', '강릉', '정선', '완도', '김제', '양산', '인천', '부산', '의령', '시흥', '안산',\n",
              "       '부천', '군위', '산청', '남원', '영덕', '장성', '고흥', '남해', '삼척', '영광', '진도',\n",
              "       '오산', '곡성', '울산', '익산', '예천', '정읍', '청주', '청원', '강화', '대전', '진주',\n",
              "       '장흥', '구미', '태백', '수원', '경주', '강진', '안양', '보은', '목포', '광양', '진천',\n",
              "       '김해', '고성', '경산', '순창', '순천', '함안', '군포', '의정부', '고령', '옥천', '울진',\n",
              "       '성주', '칠곡', '포항', '계룡', '군산', '구례', '하동', '과천', '창원', '속초', '담양',\n",
              "       '동해', '칠레', '화순', '미국', '뉴질랜드', '베트남', '진해', '양양', '거제', '사천',\n",
              "       '증평', '통영', '일본', '대만', '태국', '호주'], dtype=object)"
            ]
          },
          "execution_count": 315,
          "metadata": {},
          "output_type": "execute_result"
        }
      ],
      "source": [
        "df4['city'].unique()"
      ]
    },
    {
      "cell_type": "code",
      "execution_count": 316,
      "metadata": {},
      "outputs": [
        {
          "data": {
            "text/plain": [
              "array([], dtype=object)"
            ]
          },
          "execution_count": 316,
          "metadata": {},
          "output_type": "execute_result"
        }
      ],
      "source": [
        "# 기존 city 리스트와 비교\n",
        "ex_city = pd.read_csv(\"../cities.csv\")\n",
        "df4[~df4['city'].isin(ex_city['city'])]['city'].unique()"
      ]
    },
    {
      "cell_type": "code",
      "execution_count": 317,
      "metadata": {},
      "outputs": [
        {
          "name": "stderr",
          "output_type": "stream",
          "text": [
            "/var/folders/nq/s4zx76p53d11lnr0t1dxpxh00000gn/T/ipykernel_6298/1856950528.py:3: FutureWarning: The frame.append method is deprecated and will be removed from pandas in a future version. Use pandas.concat instead.\n",
            "  cities = ex_city.append(new_city,ignore_index=True)\n"
          ]
        }
      ],
      "source": [
        "# 리스트 최신화\n",
        "new_city = pd.DataFrame(df4['city'].unique(),columns=['city'])\n",
        "cities = ex_city.append(new_city,ignore_index=True)"
      ]
    },
    {
      "cell_type": "code",
      "execution_count": 318,
      "metadata": {},
      "outputs": [],
      "source": [
        "cities.drop(columns=['Unnamed: 0'],inplace=True)\n",
        "cities.drop_duplicates(inplace=True)\n",
        "cities.reset_index(inplace=True,drop=True)"
      ]
    },
    {
      "cell_type": "code",
      "execution_count": 319,
      "metadata": {},
      "outputs": [],
      "source": [
        "cities.to_csv('../cities.csv')"
      ]
    },
    {
      "cell_type": "code",
      "execution_count": 320,
      "metadata": {
        "id": "vi6fJirdV7Gz"
      },
      "outputs": [],
      "source": [
        "# 처리 완료하였으니 df4는 백업으로 두고 df5 활용\n",
        "df5 = df4.drop(columns='origin')"
      ]
    },
    {
      "cell_type": "markdown",
      "metadata": {
        "id": "CoWdniywxHwf"
      },
      "source": [
        "# 전처리 결과"
      ]
    },
    {
      "cell_type": "markdown",
      "metadata": {
        "id": "t709mbs6xMkS"
      },
      "source": [
        "# 파일 저장"
      ]
    },
    {
      "cell_type": "code",
      "execution_count": 321,
      "metadata": {},
      "outputs": [
        {
          "name": "stdout",
          "output_type": "stream",
          "text": [
            "<class 'pandas.core.frame.DataFrame'>\n",
            "Int64Index: 3329675 entries, 280 to 28137022\n",
            "Data columns (total 9 columns):\n",
            " #   Column     Dtype         \n",
            "---  ------     -----         \n",
            " 0   prd        object        \n",
            " 1   scale      float64       \n",
            " 2   price      int64         \n",
            " 3   eco        object        \n",
            " 4   reg_date   datetime64[ns]\n",
            " 5   new_class  int64         \n",
            " 6   price_kg   float64       \n",
            " 7   state      object        \n",
            " 8   city       object        \n",
            "dtypes: datetime64[ns](1), float64(2), int64(2), object(4)\n",
            "memory usage: 254.0+ MB\n"
          ]
        }
      ],
      "source": [
        "# parquet 파일로 변환하여 용량 줄이기\n",
        "df5.info()"
      ]
    },
    {
      "cell_type": "code",
      "execution_count": 323,
      "metadata": {},
      "outputs": [
        {
          "data": {
            "text/html": [
              "<div>\n",
              "<style scoped>\n",
              "    .dataframe tbody tr th:only-of-type {\n",
              "        vertical-align: middle;\n",
              "    }\n",
              "\n",
              "    .dataframe tbody tr th {\n",
              "        vertical-align: top;\n",
              "    }\n",
              "\n",
              "    .dataframe thead th {\n",
              "        text-align: right;\n",
              "    }\n",
              "</style>\n",
              "<table border=\"1\" class=\"dataframe\">\n",
              "  <thead>\n",
              "    <tr style=\"text-align: right;\">\n",
              "      <th></th>\n",
              "      <th>prd</th>\n",
              "      <th>scale</th>\n",
              "      <th>price</th>\n",
              "      <th>eco</th>\n",
              "      <th>reg_date</th>\n",
              "      <th>new_class</th>\n",
              "      <th>price_kg</th>\n",
              "      <th>state</th>\n",
              "      <th>city</th>\n",
              "    </tr>\n",
              "  </thead>\n",
              "  <tbody>\n",
              "    <tr>\n",
              "      <th>7360116</th>\n",
              "      <td>갓</td>\n",
              "      <td>8.00000</td>\n",
              "      <td>10100</td>\n",
              "      <td>normal</td>\n",
              "      <td>2020-02-13</td>\n",
              "      <td>1</td>\n",
              "      <td>1262.50000</td>\n",
              "      <td>경기</td>\n",
              "      <td>포천</td>\n",
              "    </tr>\n",
              "    <tr>\n",
              "      <th>7360117</th>\n",
              "      <td>갓</td>\n",
              "      <td>8.00000</td>\n",
              "      <td>9500</td>\n",
              "      <td>normal</td>\n",
              "      <td>2020-02-13</td>\n",
              "      <td>1</td>\n",
              "      <td>1187.50000</td>\n",
              "      <td>경기</td>\n",
              "      <td>포천</td>\n",
              "    </tr>\n",
              "    <tr>\n",
              "      <th>7360118</th>\n",
              "      <td>갓</td>\n",
              "      <td>10.00000</td>\n",
              "      <td>11000</td>\n",
              "      <td>normal</td>\n",
              "      <td>2020-02-13</td>\n",
              "      <td>1</td>\n",
              "      <td>1100.00000</td>\n",
              "      <td>전남</td>\n",
              "      <td>무안</td>\n",
              "    </tr>\n",
              "    <tr>\n",
              "      <th>7360119</th>\n",
              "      <td>갓</td>\n",
              "      <td>10.00000</td>\n",
              "      <td>13000</td>\n",
              "      <td>normal</td>\n",
              "      <td>2020-02-13</td>\n",
              "      <td>1</td>\n",
              "      <td>1300.00000</td>\n",
              "      <td>전남</td>\n",
              "      <td>무안</td>\n",
              "    </tr>\n",
              "  </tbody>\n",
              "</table>\n",
              "</div>"
            ],
            "text/plain": [
              "        prd    scale  price     eco   reg_date  new_class   price_kg state  \\\n",
              "7360116   갓  8.00000  10100  normal 2020-02-13          1 1262.50000    경기   \n",
              "7360117   갓  8.00000   9500  normal 2020-02-13          1 1187.50000    경기   \n",
              "7360118   갓 10.00000  11000  normal 2020-02-13          1 1100.00000    전남   \n",
              "7360119   갓 10.00000  13000  normal 2020-02-13          1 1300.00000    전남   \n",
              "\n",
              "        city  \n",
              "7360116   포천  \n",
              "7360117   포천  \n",
              "7360118   무안  \n",
              "7360119   무안  "
            ]
          },
          "execution_count": 323,
          "metadata": {},
          "output_type": "execute_result"
        }
      ],
      "source": [
        "df5[(df5['prd'].str.contains('갓')) & (df5['reg_date']==dt.datetime(2020,2,13))]"
      ]
    },
    {
      "cell_type": "code",
      "execution_count": 322,
      "metadata": {
        "id": "tEfggl4M5rFG"
      },
      "outputs": [],
      "source": [
        "address2 = \"/Users/luci031/Desktop/Coding/g_auction/data_ingredients/auction_total.parquet\"\n",
        "df5.to_parquet(address2,engine=\"pyarrow\", compression='gzip')\n",
        "df5.to_csv(\"/Users/luci031/Desktop/Coding/g_auction/data_proceed/auction_total.csv\")"
      ]
    }
  ],
  "metadata": {
    "colab": {
      "collapsed_sections": [],
      "name": "pre_processing_2022_06.ipynb",
      "provenance": [],
      "toc_visible": true
    },
    "kernelspec": {
      "display_name": "Python 3.8.13 ('yds')",
      "language": "python",
      "name": "python3"
    },
    "language_info": {
      "codemirror_mode": {
        "name": "ipython",
        "version": 3
      },
      "file_extension": ".py",
      "mimetype": "text/x-python",
      "name": "python",
      "nbconvert_exporter": "python",
      "pygments_lexer": "ipython3",
      "version": "3.8.13"
    },
    "vscode": {
      "interpreter": {
        "hash": "edd2e1eeac16ba0124adb27271db416cf5b91db76e0734afe4505ea0738c76e5"
      }
    }
  },
  "nbformat": 4,
  "nbformat_minor": 0
}
