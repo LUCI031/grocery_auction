{
  "cells": [
    {
      "cell_type": "markdown",
      "metadata": {
        "id": "uhJXKN_71HKz"
      },
      "source": [
        "# 개요"
      ]
    },
    {
      "cell_type": "markdown",
      "metadata": {
        "id": "T02KSzGz1iMO"
      },
      "source": [
        "# Prepare"
      ]
    },
    {
      "cell_type": "markdown",
      "metadata": {
        "id": "bfqE9z4W1JQh"
      },
      "source": [
        "# 1. 초기 세팅"
      ]
    },
    {
      "cell_type": "markdown",
      "metadata": {
        "id": "fG4uSp2B1Ph7"
      },
      "source": [
        "## Library & data load"
      ]
    },
    {
      "cell_type": "code",
      "execution_count": 289,
      "metadata": {
        "id": "c2zXAOvOq96i"
      },
      "outputs": [],
      "source": [
        "import pandas as pd\n",
        "import numpy as np\n",
        "import matplotlib.pyplot as plt\n",
        "import seaborn as sns\n",
        "import re"
      ]
    },
    {
      "cell_type": "code",
      "execution_count": 290,
      "metadata": {
        "id": "N6-se2jYrHsw"
      },
      "outputs": [],
      "source": [
        "# 처리용 df와 오리지널 버전 남겨놓음\n",
        "df = pd.read_csv(\"/Users/luci031/Downloads/auction/data_origin/auction_202103.csv\",encoding='euc_kr')\n",
        "org_df = pd.read_csv(\"/Users/luci031/Downloads/auction/data_origin/auction_202103.csv\",encoding='euc_kr')"
      ]
    },
    {
      "cell_type": "markdown",
      "metadata": {
        "id": "yINECbV-4eRb"
      },
      "source": [
        "# Pre-Processing"
      ]
    },
    {
      "cell_type": "markdown",
      "metadata": {
        "id": "OJuFufVP2War"
      },
      "source": [
        "## Basic info"
      ]
    },
    {
      "cell_type": "code",
      "execution_count": 291,
      "metadata": {
        "colab": {
          "base_uri": "https://localhost:8080/",
          "height": 206
        },
        "id": "EE8feVlFr0To",
        "outputId": "cb918bf3-bd0b-4f09-fd92-73d8670996c9"
      },
      "outputs": [
        {
          "data": {
            "text/html": [
              "<div>\n",
              "<style scoped>\n",
              "    .dataframe tbody tr th:only-of-type {\n",
              "        vertical-align: middle;\n",
              "    }\n",
              "\n",
              "    .dataframe tbody tr th {\n",
              "        vertical-align: top;\n",
              "    }\n",
              "\n",
              "    .dataframe thead th {\n",
              "        text-align: right;\n",
              "    }\n",
              "</style>\n",
              "<table border=\"1\" class=\"dataframe\">\n",
              "  <thead>\n",
              "    <tr style=\"text-align: right;\">\n",
              "      <th></th>\n",
              "      <th>품목명</th>\n",
              "      <th>단위</th>\n",
              "      <th>등급</th>\n",
              "      <th>가격</th>\n",
              "      <th>산지</th>\n",
              "      <th>친환경구분</th>\n",
              "      <th>입력일</th>\n",
              "    </tr>\n",
              "  </thead>\n",
              "  <tbody>\n",
              "    <tr>\n",
              "      <th>0</th>\n",
              "      <td>[가리비국산]가리비국산</td>\n",
              "      <td>5kg</td>\n",
              "      <td>보통(3등)</td>\n",
              "      <td>23000</td>\n",
              "      <td>경남 남해</td>\n",
              "      <td>일반</td>\n",
              "      <td>20210301</td>\n",
              "    </tr>\n",
              "    <tr>\n",
              "      <th>1</th>\n",
              "      <td>[가리비국산]가리비국산</td>\n",
              "      <td>5kg</td>\n",
              "      <td>보통(3등)</td>\n",
              "      <td>25000</td>\n",
              "      <td>경남 마산(고성,진해)</td>\n",
              "      <td>일반</td>\n",
              "      <td>20210301</td>\n",
              "    </tr>\n",
              "    <tr>\n",
              "      <th>2</th>\n",
              "      <td>[가리비국산]가리비국산</td>\n",
              "      <td>5kg</td>\n",
              "      <td>보통(3등)</td>\n",
              "      <td>24000</td>\n",
              "      <td>경남 마산(고성,진해)</td>\n",
              "      <td>일반</td>\n",
              "      <td>20210301</td>\n",
              "    </tr>\n",
              "    <tr>\n",
              "      <th>3</th>\n",
              "      <td>[가오리수입]가오리수입</td>\n",
              "      <td>10kg</td>\n",
              "      <td>보통(3등)</td>\n",
              "      <td>51230</td>\n",
              "      <td>수입 아르헨티나</td>\n",
              "      <td>일반</td>\n",
              "      <td>20210301</td>\n",
              "    </tr>\n",
              "    <tr>\n",
              "      <th>4</th>\n",
              "      <td>[가자미국산]가자미국산</td>\n",
              "      <td>15kg</td>\n",
              "      <td>보통(3등)</td>\n",
              "      <td>162000</td>\n",
              "      <td>국내산</td>\n",
              "      <td>일반</td>\n",
              "      <td>20210301</td>\n",
              "    </tr>\n",
              "  </tbody>\n",
              "</table>\n",
              "</div>"
            ],
            "text/plain": [
              "            품목명    단위      등급      가격            산지 친환경구분       입력일\n",
              "0  [가리비국산]가리비국산   5kg  보통(3등)   23000         경남 남해    일반  20210301\n",
              "1  [가리비국산]가리비국산   5kg  보통(3등)   25000  경남 마산(고성,진해)    일반  20210301\n",
              "2  [가리비국산]가리비국산   5kg  보통(3등)   24000  경남 마산(고성,진해)    일반  20210301\n",
              "3  [가오리수입]가오리수입  10kg  보통(3등)   51230      수입 아르헨티나    일반  20210301\n",
              "4  [가자미국산]가자미국산  15kg  보통(3등)  162000           국내산    일반  20210301"
            ]
          },
          "execution_count": 291,
          "metadata": {},
          "output_type": "execute_result"
        }
      ],
      "source": [
        "df.head()"
      ]
    },
    {
      "cell_type": "code",
      "execution_count": 292,
      "metadata": {
        "colab": {
          "base_uri": "https://localhost:8080/"
        },
        "id": "Jf03xK1D1p5Z",
        "outputId": "7cc5158f-76c4-4ca6-e80a-cd60949c1049"
      },
      "outputs": [
        {
          "name": "stdout",
          "output_type": "stream",
          "text": [
            "<class 'pandas.core.frame.DataFrame'>\n",
            "RangeIndex: 490992 entries, 0 to 490991\n",
            "Data columns (total 7 columns):\n",
            " #   Column  Non-Null Count   Dtype \n",
            "---  ------  --------------   ----- \n",
            " 0   품목명     490992 non-null  object\n",
            " 1   단위      490992 non-null  object\n",
            " 2   등급      490992 non-null  object\n",
            " 3   가격      490992 non-null  int64 \n",
            " 4   산지      489074 non-null  object\n",
            " 5   친환경구분   490992 non-null  object\n",
            " 6   입력일     490992 non-null  int64 \n",
            "dtypes: int64(2), object(5)\n",
            "memory usage: 26.2+ MB\n"
          ]
        }
      ],
      "source": [
        "df.info()"
      ]
    },
    {
      "cell_type": "code",
      "execution_count": 293,
      "metadata": {
        "colab": {
          "base_uri": "https://localhost:8080/"
        },
        "id": "R3-Xng6M1om2",
        "outputId": "0071ee93-3ebe-436d-910b-aa30c7356468"
      },
      "outputs": [
        {
          "data": {
            "text/plain": [
              "품목명         0\n",
              "단위          0\n",
              "등급          0\n",
              "가격          0\n",
              "산지       1918\n",
              "친환경구분       0\n",
              "입력일         0\n",
              "dtype: int64"
            ]
          },
          "execution_count": 293,
          "metadata": {},
          "output_type": "execute_result"
        }
      ],
      "source": [
        "# 산지 제외하고는 결측치 없는 것으로 확인\n",
        "df.isnull().sum()"
      ]
    },
    {
      "cell_type": "markdown",
      "metadata": {
        "id": "KiwEMLgv-7KL"
      },
      "source": [
        "- 결측치 처리"
      ]
    },
    {
      "cell_type": "code",
      "execution_count": 294,
      "metadata": {
        "id": "y52OV6yt-60b"
      },
      "outputs": [],
      "source": [
        "###\n",
        "# 양이 많지 않으므로 결측치 제거\n",
        "df = df.dropna(axis=0)"
      ]
    },
    {
      "cell_type": "markdown",
      "metadata": {
        "id": "tWVdZUXv7njQ"
      },
      "source": [
        "- 영문명으로 전환"
      ]
    },
    {
      "cell_type": "code",
      "execution_count": 295,
      "metadata": {
        "id": "Cpc_wblh4oLI"
      },
      "outputs": [],
      "source": [
        "df = df.rename(columns = {'품목명':'prd',\n",
        "                          '단위':'scale','등급':'class',\n",
        "                          '가격':'price',\n",
        "                          '산지':'origin',\n",
        "                          '친환경구분':'eco',\n",
        "                          '입력일':'reg_date'})"
      ]
    },
    {
      "cell_type": "markdown",
      "metadata": {
        "id": "6raN15sn8XwE"
      },
      "source": [
        "## column 별 정보"
      ]
    },
    {
      "cell_type": "markdown",
      "metadata": {
        "id": "9blCj1BqBKl9"
      },
      "source": [
        "### class"
      ]
    },
    {
      "cell_type": "code",
      "execution_count": 296,
      "metadata": {
        "colab": {
          "base_uri": "https://localhost:8080/"
        },
        "id": "trRf-DfuBNBL",
        "outputId": "017ef00e-f7ca-476c-e44a-a847d4881695"
      },
      "outputs": [
        {
          "data": {
            "text/plain": [
              "Index(['특(1등)', '상(2등)', '보통(3등)', '9등(등외)', '없음', '5등', '4등', '6등', '7등',\n",
              "       '8등'],\n",
              "      dtype='object')"
            ]
          },
          "execution_count": 296,
          "metadata": {},
          "output_type": "execute_result"
        }
      ],
      "source": [
        "# 이름 모두 영어로 변경\n",
        "# 9등과 없음 모두 9로 변경\n",
        "df['class'].value_counts().index"
      ]
    },
    {
      "cell_type": "code",
      "execution_count": 297,
      "metadata": {
        "id": "Y9aTlhUSBfU9"
      },
      "outputs": [],
      "source": [
        "df111 = pd.DataFrame([['특(1등)', 1], ['상(2등)',2], ['보통(3등)',3], ['9등(등외)',9], ['없음',9], ['5등',5], ['4등',4], ['6등',6], ['7등',7],['8등',8]],columns=['class','new_class'])"
      ]
    },
    {
      "cell_type": "code",
      "execution_count": 298,
      "metadata": {
        "id": "N4LG6ClLC4II"
      },
      "outputs": [],
      "source": [
        "df2 = df.merge(df111)\n",
        "df2 = df2.drop(columns='class')"
      ]
    },
    {
      "cell_type": "code",
      "execution_count": 299,
      "metadata": {
        "colab": {
          "base_uri": "https://localhost:8080/",
          "height": 423
        },
        "id": "w_BncYpbDQGg",
        "outputId": "6482608e-5fcd-4b4d-b921-e720dec1a560"
      },
      "outputs": [
        {
          "data": {
            "text/html": [
              "<div>\n",
              "<style scoped>\n",
              "    .dataframe tbody tr th:only-of-type {\n",
              "        vertical-align: middle;\n",
              "    }\n",
              "\n",
              "    .dataframe tbody tr th {\n",
              "        vertical-align: top;\n",
              "    }\n",
              "\n",
              "    .dataframe thead th {\n",
              "        text-align: right;\n",
              "    }\n",
              "</style>\n",
              "<table border=\"1\" class=\"dataframe\">\n",
              "  <thead>\n",
              "    <tr style=\"text-align: right;\">\n",
              "      <th></th>\n",
              "      <th>prd</th>\n",
              "      <th>scale</th>\n",
              "      <th>price</th>\n",
              "      <th>origin</th>\n",
              "      <th>eco</th>\n",
              "      <th>reg_date</th>\n",
              "      <th>new_class</th>\n",
              "    </tr>\n",
              "  </thead>\n",
              "  <tbody>\n",
              "    <tr>\n",
              "      <th>0</th>\n",
              "      <td>[가리비국산]가리비국산</td>\n",
              "      <td>5kg</td>\n",
              "      <td>23000</td>\n",
              "      <td>경남 남해</td>\n",
              "      <td>일반</td>\n",
              "      <td>20210301</td>\n",
              "      <td>3</td>\n",
              "    </tr>\n",
              "    <tr>\n",
              "      <th>1</th>\n",
              "      <td>[가리비국산]가리비국산</td>\n",
              "      <td>5kg</td>\n",
              "      <td>25000</td>\n",
              "      <td>경남 마산(고성,진해)</td>\n",
              "      <td>일반</td>\n",
              "      <td>20210301</td>\n",
              "      <td>3</td>\n",
              "    </tr>\n",
              "    <tr>\n",
              "      <th>2</th>\n",
              "      <td>[가리비국산]가리비국산</td>\n",
              "      <td>5kg</td>\n",
              "      <td>24000</td>\n",
              "      <td>경남 마산(고성,진해)</td>\n",
              "      <td>일반</td>\n",
              "      <td>20210301</td>\n",
              "      <td>3</td>\n",
              "    </tr>\n",
              "    <tr>\n",
              "      <th>3</th>\n",
              "      <td>[가오리수입]가오리수입</td>\n",
              "      <td>10kg</td>\n",
              "      <td>51230</td>\n",
              "      <td>수입 아르헨티나</td>\n",
              "      <td>일반</td>\n",
              "      <td>20210301</td>\n",
              "      <td>3</td>\n",
              "    </tr>\n",
              "    <tr>\n",
              "      <th>4</th>\n",
              "      <td>[가자미국산]가자미국산</td>\n",
              "      <td>15kg</td>\n",
              "      <td>162000</td>\n",
              "      <td>국내산</td>\n",
              "      <td>일반</td>\n",
              "      <td>20210301</td>\n",
              "      <td>3</td>\n",
              "    </tr>\n",
              "    <tr>\n",
              "      <th>...</th>\n",
              "      <td>...</td>\n",
              "      <td>...</td>\n",
              "      <td>...</td>\n",
              "      <td>...</td>\n",
              "      <td>...</td>\n",
              "      <td>...</td>\n",
              "      <td>...</td>\n",
              "    </tr>\n",
              "    <tr>\n",
              "      <th>489069</th>\n",
              "      <td>[토마토]토마토(기타)</td>\n",
              "      <td>2.5kg</td>\n",
              "      <td>5500</td>\n",
              "      <td>부산 강서구</td>\n",
              "      <td>일반</td>\n",
              "      <td>20210330</td>\n",
              "      <td>7</td>\n",
              "    </tr>\n",
              "    <tr>\n",
              "      <th>489070</th>\n",
              "      <td>[감귤]감귤(금귤)</td>\n",
              "      <td>.5kg</td>\n",
              "      <td>1100</td>\n",
              "      <td>제주 서귀포</td>\n",
              "      <td>일반</td>\n",
              "      <td>20210331</td>\n",
              "      <td>7</td>\n",
              "    </tr>\n",
              "    <tr>\n",
              "      <th>489071</th>\n",
              "      <td>[감귤]감귤(금귤)</td>\n",
              "      <td>10kg</td>\n",
              "      <td>14000</td>\n",
              "      <td>제주 서귀포</td>\n",
              "      <td>일반</td>\n",
              "      <td>20210331</td>\n",
              "      <td>7</td>\n",
              "    </tr>\n",
              "    <tr>\n",
              "      <th>489072</th>\n",
              "      <td>[당근]당근(당근)</td>\n",
              "      <td>20kg</td>\n",
              "      <td>9000</td>\n",
              "      <td>제주 제주시</td>\n",
              "      <td>일반</td>\n",
              "      <td>20210331</td>\n",
              "      <td>7</td>\n",
              "    </tr>\n",
              "    <tr>\n",
              "      <th>489073</th>\n",
              "      <td>[오이]오이(백다다기)</td>\n",
              "      <td>18kg</td>\n",
              "      <td>26000</td>\n",
              "      <td>경기 평택시</td>\n",
              "      <td>일반</td>\n",
              "      <td>20210331</td>\n",
              "      <td>7</td>\n",
              "    </tr>\n",
              "  </tbody>\n",
              "</table>\n",
              "<p>489074 rows × 7 columns</p>\n",
              "</div>"
            ],
            "text/plain": [
              "                 prd  scale   price        origin eco  reg_date  new_class\n",
              "0       [가리비국산]가리비국산    5kg   23000         경남 남해  일반  20210301          3\n",
              "1       [가리비국산]가리비국산    5kg   25000  경남 마산(고성,진해)  일반  20210301          3\n",
              "2       [가리비국산]가리비국산    5kg   24000  경남 마산(고성,진해)  일반  20210301          3\n",
              "3       [가오리수입]가오리수입   10kg   51230      수입 아르헨티나  일반  20210301          3\n",
              "4       [가자미국산]가자미국산   15kg  162000           국내산  일반  20210301          3\n",
              "...              ...    ...     ...           ...  ..       ...        ...\n",
              "489069  [토마토]토마토(기타)  2.5kg    5500        부산 강서구  일반  20210330          7\n",
              "489070    [감귤]감귤(금귤)   .5kg    1100        제주 서귀포  일반  20210331          7\n",
              "489071    [감귤]감귤(금귤)   10kg   14000        제주 서귀포  일반  20210331          7\n",
              "489072    [당근]당근(당근)   20kg    9000        제주 제주시  일반  20210331          7\n",
              "489073  [오이]오이(백다다기)   18kg   26000        경기 평택시  일반  20210331          7\n",
              "\n",
              "[489074 rows x 7 columns]"
            ]
          },
          "execution_count": 299,
          "metadata": {},
          "output_type": "execute_result"
        }
      ],
      "source": [
        "df2"
      ]
    },
    {
      "cell_type": "markdown",
      "metadata": {
        "id": "6QhhnXfKWiQL"
      },
      "source": [
        "### eco"
      ]
    },
    {
      "cell_type": "code",
      "execution_count": 300,
      "metadata": {
        "id": "XPNdAWmbWWjy"
      },
      "outputs": [],
      "source": [
        "# 영문명으로 전환\n",
        "# 전환기 -> 유기농 재배로 전환중\n",
        "df2.loc[df2[\"eco\"]==\"일반\",\"eco\"] = \"normal\"\n",
        "df2.loc[df2[\"eco\"]==\"우수농산물\",\"eco\"] = \"\bgood_prd\"\n",
        "df2.loc[df2[\"eco\"]==\"무농약\",\"eco\"] = \"\becofriendly\"\n",
        "df2.loc[df2[\"eco\"]==\"유기농\",\"eco\"] = \"organic\"\n",
        "df2.loc[df2[\"eco\"]==\"품질인증\",\"eco\"] = \"certified\"\n",
        "df2.loc[df2[\"eco\"]==\"전환기\",\"eco\"] = \"ing\""
      ]
    },
    {
      "cell_type": "code",
      "execution_count": 301,
      "metadata": {
        "colab": {
          "base_uri": "https://localhost:8080/",
          "height": 423
        },
        "id": "SFs64qIjYPqG",
        "outputId": "e1d18001-8e23-4db4-c367-d91e111bf6af"
      },
      "outputs": [
        {
          "data": {
            "text/html": [
              "<div>\n",
              "<style scoped>\n",
              "    .dataframe tbody tr th:only-of-type {\n",
              "        vertical-align: middle;\n",
              "    }\n",
              "\n",
              "    .dataframe tbody tr th {\n",
              "        vertical-align: top;\n",
              "    }\n",
              "\n",
              "    .dataframe thead th {\n",
              "        text-align: right;\n",
              "    }\n",
              "</style>\n",
              "<table border=\"1\" class=\"dataframe\">\n",
              "  <thead>\n",
              "    <tr style=\"text-align: right;\">\n",
              "      <th></th>\n",
              "      <th>prd</th>\n",
              "      <th>scale</th>\n",
              "      <th>price</th>\n",
              "      <th>origin</th>\n",
              "      <th>eco</th>\n",
              "      <th>reg_date</th>\n",
              "      <th>new_class</th>\n",
              "    </tr>\n",
              "  </thead>\n",
              "  <tbody>\n",
              "    <tr>\n",
              "      <th>0</th>\n",
              "      <td>[가리비국산]가리비국산</td>\n",
              "      <td>5kg</td>\n",
              "      <td>23000</td>\n",
              "      <td>경남 남해</td>\n",
              "      <td>normal</td>\n",
              "      <td>20210301</td>\n",
              "      <td>3</td>\n",
              "    </tr>\n",
              "    <tr>\n",
              "      <th>1</th>\n",
              "      <td>[가리비국산]가리비국산</td>\n",
              "      <td>5kg</td>\n",
              "      <td>25000</td>\n",
              "      <td>경남 마산(고성,진해)</td>\n",
              "      <td>normal</td>\n",
              "      <td>20210301</td>\n",
              "      <td>3</td>\n",
              "    </tr>\n",
              "    <tr>\n",
              "      <th>2</th>\n",
              "      <td>[가리비국산]가리비국산</td>\n",
              "      <td>5kg</td>\n",
              "      <td>24000</td>\n",
              "      <td>경남 마산(고성,진해)</td>\n",
              "      <td>normal</td>\n",
              "      <td>20210301</td>\n",
              "      <td>3</td>\n",
              "    </tr>\n",
              "    <tr>\n",
              "      <th>3</th>\n",
              "      <td>[가오리수입]가오리수입</td>\n",
              "      <td>10kg</td>\n",
              "      <td>51230</td>\n",
              "      <td>수입 아르헨티나</td>\n",
              "      <td>normal</td>\n",
              "      <td>20210301</td>\n",
              "      <td>3</td>\n",
              "    </tr>\n",
              "    <tr>\n",
              "      <th>4</th>\n",
              "      <td>[가자미국산]가자미국산</td>\n",
              "      <td>15kg</td>\n",
              "      <td>162000</td>\n",
              "      <td>국내산</td>\n",
              "      <td>normal</td>\n",
              "      <td>20210301</td>\n",
              "      <td>3</td>\n",
              "    </tr>\n",
              "    <tr>\n",
              "      <th>...</th>\n",
              "      <td>...</td>\n",
              "      <td>...</td>\n",
              "      <td>...</td>\n",
              "      <td>...</td>\n",
              "      <td>...</td>\n",
              "      <td>...</td>\n",
              "      <td>...</td>\n",
              "    </tr>\n",
              "    <tr>\n",
              "      <th>489069</th>\n",
              "      <td>[토마토]토마토(기타)</td>\n",
              "      <td>2.5kg</td>\n",
              "      <td>5500</td>\n",
              "      <td>부산 강서구</td>\n",
              "      <td>normal</td>\n",
              "      <td>20210330</td>\n",
              "      <td>7</td>\n",
              "    </tr>\n",
              "    <tr>\n",
              "      <th>489070</th>\n",
              "      <td>[감귤]감귤(금귤)</td>\n",
              "      <td>.5kg</td>\n",
              "      <td>1100</td>\n",
              "      <td>제주 서귀포</td>\n",
              "      <td>normal</td>\n",
              "      <td>20210331</td>\n",
              "      <td>7</td>\n",
              "    </tr>\n",
              "    <tr>\n",
              "      <th>489071</th>\n",
              "      <td>[감귤]감귤(금귤)</td>\n",
              "      <td>10kg</td>\n",
              "      <td>14000</td>\n",
              "      <td>제주 서귀포</td>\n",
              "      <td>normal</td>\n",
              "      <td>20210331</td>\n",
              "      <td>7</td>\n",
              "    </tr>\n",
              "    <tr>\n",
              "      <th>489072</th>\n",
              "      <td>[당근]당근(당근)</td>\n",
              "      <td>20kg</td>\n",
              "      <td>9000</td>\n",
              "      <td>제주 제주시</td>\n",
              "      <td>normal</td>\n",
              "      <td>20210331</td>\n",
              "      <td>7</td>\n",
              "    </tr>\n",
              "    <tr>\n",
              "      <th>489073</th>\n",
              "      <td>[오이]오이(백다다기)</td>\n",
              "      <td>18kg</td>\n",
              "      <td>26000</td>\n",
              "      <td>경기 평택시</td>\n",
              "      <td>normal</td>\n",
              "      <td>20210331</td>\n",
              "      <td>7</td>\n",
              "    </tr>\n",
              "  </tbody>\n",
              "</table>\n",
              "<p>489074 rows × 7 columns</p>\n",
              "</div>"
            ],
            "text/plain": [
              "                 prd  scale   price        origin     eco  reg_date  new_class\n",
              "0       [가리비국산]가리비국산    5kg   23000         경남 남해  normal  20210301          3\n",
              "1       [가리비국산]가리비국산    5kg   25000  경남 마산(고성,진해)  normal  20210301          3\n",
              "2       [가리비국산]가리비국산    5kg   24000  경남 마산(고성,진해)  normal  20210301          3\n",
              "3       [가오리수입]가오리수입   10kg   51230      수입 아르헨티나  normal  20210301          3\n",
              "4       [가자미국산]가자미국산   15kg  162000           국내산  normal  20210301          3\n",
              "...              ...    ...     ...           ...     ...       ...        ...\n",
              "489069  [토마토]토마토(기타)  2.5kg    5500        부산 강서구  normal  20210330          7\n",
              "489070    [감귤]감귤(금귤)   .5kg    1100        제주 서귀포  normal  20210331          7\n",
              "489071    [감귤]감귤(금귤)   10kg   14000        제주 서귀포  normal  20210331          7\n",
              "489072    [당근]당근(당근)   20kg    9000        제주 제주시  normal  20210331          7\n",
              "489073  [오이]오이(백다다기)   18kg   26000        경기 평택시  normal  20210331          7\n",
              "\n",
              "[489074 rows x 7 columns]"
            ]
          },
          "execution_count": 301,
          "metadata": {},
          "output_type": "execute_result"
        }
      ],
      "source": [
        "df2"
      ]
    },
    {
      "cell_type": "markdown",
      "metadata": {
        "id": "ffhjwT57YNLh"
      },
      "source": [
        "### reg_date"
      ]
    },
    {
      "cell_type": "code",
      "execution_count": 302,
      "metadata": {
        "id": "0xEJoswCYUiR"
      },
      "outputs": [],
      "source": [
        "df2['reg_date'] = df2['reg_date'].astype('str')"
      ]
    },
    {
      "cell_type": "code",
      "execution_count": 303,
      "metadata": {
        "id": "7eMsOdHaqa7H"
      },
      "outputs": [],
      "source": [
        "df2['reg_date'] = pd.to_datetime(df2['reg_date'].astype('str'),format='%Y%m%d')"
      ]
    },
    {
      "cell_type": "code",
      "execution_count": 304,
      "metadata": {
        "colab": {
          "base_uri": "https://localhost:8080/",
          "height": 423
        },
        "id": "4OJlA07go6Vm",
        "outputId": "775611cd-2a30-4603-90e5-ac782aea1678"
      },
      "outputs": [
        {
          "data": {
            "text/html": [
              "<div>\n",
              "<style scoped>\n",
              "    .dataframe tbody tr th:only-of-type {\n",
              "        vertical-align: middle;\n",
              "    }\n",
              "\n",
              "    .dataframe tbody tr th {\n",
              "        vertical-align: top;\n",
              "    }\n",
              "\n",
              "    .dataframe thead th {\n",
              "        text-align: right;\n",
              "    }\n",
              "</style>\n",
              "<table border=\"1\" class=\"dataframe\">\n",
              "  <thead>\n",
              "    <tr style=\"text-align: right;\">\n",
              "      <th></th>\n",
              "      <th>prd</th>\n",
              "      <th>scale</th>\n",
              "      <th>price</th>\n",
              "      <th>origin</th>\n",
              "      <th>eco</th>\n",
              "      <th>reg_date</th>\n",
              "      <th>new_class</th>\n",
              "    </tr>\n",
              "  </thead>\n",
              "  <tbody>\n",
              "    <tr>\n",
              "      <th>0</th>\n",
              "      <td>[가리비국산]가리비국산</td>\n",
              "      <td>5kg</td>\n",
              "      <td>23000</td>\n",
              "      <td>경남 남해</td>\n",
              "      <td>normal</td>\n",
              "      <td>2021-03-01</td>\n",
              "      <td>3</td>\n",
              "    </tr>\n",
              "    <tr>\n",
              "      <th>1</th>\n",
              "      <td>[가리비국산]가리비국산</td>\n",
              "      <td>5kg</td>\n",
              "      <td>25000</td>\n",
              "      <td>경남 마산(고성,진해)</td>\n",
              "      <td>normal</td>\n",
              "      <td>2021-03-01</td>\n",
              "      <td>3</td>\n",
              "    </tr>\n",
              "    <tr>\n",
              "      <th>2</th>\n",
              "      <td>[가리비국산]가리비국산</td>\n",
              "      <td>5kg</td>\n",
              "      <td>24000</td>\n",
              "      <td>경남 마산(고성,진해)</td>\n",
              "      <td>normal</td>\n",
              "      <td>2021-03-01</td>\n",
              "      <td>3</td>\n",
              "    </tr>\n",
              "    <tr>\n",
              "      <th>3</th>\n",
              "      <td>[가오리수입]가오리수입</td>\n",
              "      <td>10kg</td>\n",
              "      <td>51230</td>\n",
              "      <td>수입 아르헨티나</td>\n",
              "      <td>normal</td>\n",
              "      <td>2021-03-01</td>\n",
              "      <td>3</td>\n",
              "    </tr>\n",
              "    <tr>\n",
              "      <th>4</th>\n",
              "      <td>[가자미국산]가자미국산</td>\n",
              "      <td>15kg</td>\n",
              "      <td>162000</td>\n",
              "      <td>국내산</td>\n",
              "      <td>normal</td>\n",
              "      <td>2021-03-01</td>\n",
              "      <td>3</td>\n",
              "    </tr>\n",
              "    <tr>\n",
              "      <th>...</th>\n",
              "      <td>...</td>\n",
              "      <td>...</td>\n",
              "      <td>...</td>\n",
              "      <td>...</td>\n",
              "      <td>...</td>\n",
              "      <td>...</td>\n",
              "      <td>...</td>\n",
              "    </tr>\n",
              "    <tr>\n",
              "      <th>489069</th>\n",
              "      <td>[토마토]토마토(기타)</td>\n",
              "      <td>2.5kg</td>\n",
              "      <td>5500</td>\n",
              "      <td>부산 강서구</td>\n",
              "      <td>normal</td>\n",
              "      <td>2021-03-30</td>\n",
              "      <td>7</td>\n",
              "    </tr>\n",
              "    <tr>\n",
              "      <th>489070</th>\n",
              "      <td>[감귤]감귤(금귤)</td>\n",
              "      <td>.5kg</td>\n",
              "      <td>1100</td>\n",
              "      <td>제주 서귀포</td>\n",
              "      <td>normal</td>\n",
              "      <td>2021-03-31</td>\n",
              "      <td>7</td>\n",
              "    </tr>\n",
              "    <tr>\n",
              "      <th>489071</th>\n",
              "      <td>[감귤]감귤(금귤)</td>\n",
              "      <td>10kg</td>\n",
              "      <td>14000</td>\n",
              "      <td>제주 서귀포</td>\n",
              "      <td>normal</td>\n",
              "      <td>2021-03-31</td>\n",
              "      <td>7</td>\n",
              "    </tr>\n",
              "    <tr>\n",
              "      <th>489072</th>\n",
              "      <td>[당근]당근(당근)</td>\n",
              "      <td>20kg</td>\n",
              "      <td>9000</td>\n",
              "      <td>제주 제주시</td>\n",
              "      <td>normal</td>\n",
              "      <td>2021-03-31</td>\n",
              "      <td>7</td>\n",
              "    </tr>\n",
              "    <tr>\n",
              "      <th>489073</th>\n",
              "      <td>[오이]오이(백다다기)</td>\n",
              "      <td>18kg</td>\n",
              "      <td>26000</td>\n",
              "      <td>경기 평택시</td>\n",
              "      <td>normal</td>\n",
              "      <td>2021-03-31</td>\n",
              "      <td>7</td>\n",
              "    </tr>\n",
              "  </tbody>\n",
              "</table>\n",
              "<p>489074 rows × 7 columns</p>\n",
              "</div>"
            ],
            "text/plain": [
              "                 prd  scale   price        origin     eco   reg_date  \\\n",
              "0       [가리비국산]가리비국산    5kg   23000         경남 남해  normal 2021-03-01   \n",
              "1       [가리비국산]가리비국산    5kg   25000  경남 마산(고성,진해)  normal 2021-03-01   \n",
              "2       [가리비국산]가리비국산    5kg   24000  경남 마산(고성,진해)  normal 2021-03-01   \n",
              "3       [가오리수입]가오리수입   10kg   51230      수입 아르헨티나  normal 2021-03-01   \n",
              "4       [가자미국산]가자미국산   15kg  162000           국내산  normal 2021-03-01   \n",
              "...              ...    ...     ...           ...     ...        ...   \n",
              "489069  [토마토]토마토(기타)  2.5kg    5500        부산 강서구  normal 2021-03-30   \n",
              "489070    [감귤]감귤(금귤)   .5kg    1100        제주 서귀포  normal 2021-03-31   \n",
              "489071    [감귤]감귤(금귤)   10kg   14000        제주 서귀포  normal 2021-03-31   \n",
              "489072    [당근]당근(당근)   20kg    9000        제주 제주시  normal 2021-03-31   \n",
              "489073  [오이]오이(백다다기)   18kg   26000        경기 평택시  normal 2021-03-31   \n",
              "\n",
              "        new_class  \n",
              "0               3  \n",
              "1               3  \n",
              "2               3  \n",
              "3               3  \n",
              "4               3  \n",
              "...           ...  \n",
              "489069          7  \n",
              "489070          7  \n",
              "489071          7  \n",
              "489072          7  \n",
              "489073          7  \n",
              "\n",
              "[489074 rows x 7 columns]"
            ]
          },
          "execution_count": 304,
          "metadata": {},
          "output_type": "execute_result"
        }
      ],
      "source": [
        "df2"
      ]
    },
    {
      "cell_type": "markdown",
      "metadata": {
        "id": "VN8Eana_Dbbl"
      },
      "source": [
        "### price"
      ]
    },
    {
      "cell_type": "code",
      "execution_count": 305,
      "metadata": {
        "id": "oZbejw0vewmJ"
      },
      "outputs": [],
      "source": [
        "# 계산을 위해 scale 값 미리 변경\n",
        "# 현재 값들은 string이므로 float 형태로 변환할 필요가 있음\n",
        "# 몇몇 이상치 처리도 진행\n",
        "def scale_checker(scale):\n",
        "  if scale.startswith('.')==True:\n",
        "    return format(float('0'+scale[:-2]),'.2f')\n",
        "  else:\n",
        "    return format(float((scale[:-2])),'.2f')\n",
        "df2['scale'] = df2['scale'].apply(scale_checker)\n",
        "df2['scale'] = df2['scale'].astype('float')\n",
        "# df2['scale'] = format(round(df2['scale'].apply(pd.to_numeric),2),'.2f')"
      ]
    },
    {
      "cell_type": "code",
      "execution_count": 306,
      "metadata": {},
      "outputs": [
        {
          "data": {
            "text/plain": [
              "array([   5.  ,   10.  ,   15.  ,    8.  ,    5.01,   20.  ,    2.4 ,\n",
              "          6.  ,    2.  ,    3.  ,    0.05,    0.2 ,    0.9 ,    1.  ,\n",
              "          0.8 ,    0.7 ,    4.  ,    1.7 ,    1.8 ,    0.5 ,   23.  ,\n",
              "          7.5 ,    4.5 ,    9.  ,    1.6 ,    1.2 ,    1.5 ,    1.4 ,\n",
              "         19.  ,   12.  ,    1.9 ,   18.  ,    3.5 ,    2.5 ,    9.58,\n",
              "          7.  ,    5.4 ,    2.2 ,    2.1 ,    5.1 ,    3.4 ,    3.3 ,\n",
              "          3.8 ,    4.2 ,    9.6 ,    2.7 ,   11.  ,    2.3 ,    9.51,\n",
              "         21.5 ,    1.3 ,    5.6 ,    2.6 ,    9.5 ,   16.  ,    0.15,\n",
              "          1.1 ,   21.  ,   22.5 ,    2.8 ,   13.  ,   13.5 ,   11.3 ,\n",
              "          3.2 ,    3.7 ,    9.9 ,    6.5 ,    9.1 ,    3.6 ,    8.5 ,\n",
              "         24.  ,   25.  ,   73.5 ,   67.5 ,   69.  ,   69.5 ,   53.  ,\n",
              "         89.5 ,   48.5 ,   45.  ,   82.  ,   85.  ,   10.5 ,   14.  ,\n",
              "          0.4 ,   12.3 ,   16.5 ,   17.  ,    3.9 ,    9.8 ,    0.78,\n",
              "          9.3 ,   40.  ,    4.6 ,    7.8 ,    4.4 ,    0.25,   13.3 ,\n",
              "          4.7 ,    4.9 ,   46.  ,   14.2 ,    4.8 ,    7.7 ,   12.5 ,\n",
              "         65.7 ,   77.1 ,   12.6 ,   13.8 ,   16.17,   13.9 ,   14.8 ,\n",
              "         15.8 ,   12.58,   11.39,   10.19,    8.82,    0.13,   22.  ,\n",
              "          4.3 ,    6.8 ,    8.7 ,    0.75,    1.01,   10.9 ,    0.03,\n",
              "          0.3 ,   29.  ,    0.1 ,   10.8 ,   11.5 ,    8.2 ,   18.5 ,\n",
              "          6.75,    5.2 ,   26.  ,    0.6 ,   10.01,   14.5 ,    8.01,\n",
              "         11.2 ,    0.01,    5.5 ,    3.1 ,    0.17,    7.3 ,   65.  ,\n",
              "          3.75, 6978.  , 2880.  , 5920.  ,   56.  ,   72.  ,   14.4 ,\n",
              "         10.2 ,    2.9 ,   18.01,   57.  ,  198.  ,    8.8 ,    8.6 ,\n",
              "          8.3 ,   66.  ,   72.5 ,   33.5 ,   85.5 ,   10.02,   50.  ,\n",
              "          4.32,    6.7 ,    0.12,    5.7 ,  100.  ,   51.  ,    7.2 ,\n",
              "         11.4 ,    3.25,   22.7 ,    0.65,   22.3 ,   13.2 ,    6.3 ,\n",
              "         28.  ,   87.  ,   27.  ,    5.04,    6.2 ,    2.01,   30.  ,\n",
              "        140.  ,   89.  ,    0.59,   15.01,    9.7 ,    6.6 ,    7.1 ,\n",
              "          6.4 ,    5.9 ,  110.  ,   49.  ,   63.7 ,   59.7 ,   68.7 ,\n",
              "        108.  ,    7.6 ,    7.58,   10.4 ,   11.8 ,    7.4 ,  105.  ,\n",
              "          5.3 ,    2.58,   50.5 ,   83.5 ,   74.1 ,   70.4 ])"
            ]
          },
          "execution_count": 306,
          "metadata": {},
          "output_type": "execute_result"
        }
      ],
      "source": [
        "df2['scale'].unique()"
      ]
    },
    {
      "cell_type": "code",
      "execution_count": 307,
      "metadata": {
        "colab": {
          "base_uri": "https://localhost:8080/"
        },
        "id": "S_OXk_iDDaxM",
        "outputId": "df40b3b5-b8d5-4609-b1d1-d940826ff6bf"
      },
      "outputs": [
        {
          "data": {
            "text/plain": [
              "count     489074.00000\n",
              "mean       24203.24418\n",
              "std       158542.65704\n",
              "min            0.00000\n",
              "25%         7750.00000\n",
              "50%        16000.00000\n",
              "75%        32000.00000\n",
              "max     88005500.00000\n",
              "Name: price, dtype: float64"
            ]
          },
          "execution_count": 307,
          "metadata": {},
          "output_type": "execute_result"
        }
      ],
      "source": [
        "# 1원짜리 거래 발견, 너무 거래값이 작은 값들은 삭제\n",
        "pd.options.display.float_format = '{:.5f}'.format\n",
        "df2['price'].describe()"
      ]
    },
    {
      "cell_type": "code",
      "execution_count": 308,
      "metadata": {
        "id": "PQrLwgHPVsHs"
      },
      "outputs": [],
      "source": [
        "df2 = df2.drop(df2[df2['price']<500].index)"
      ]
    },
    {
      "cell_type": "code",
      "execution_count": 309,
      "metadata": {
        "colab": {
          "base_uri": "https://localhost:8080/",
          "height": 423
        },
        "id": "h8uaY01ADasA",
        "outputId": "228f08e1-3d13-41cf-ae61-c672904e5fc6"
      },
      "outputs": [
        {
          "data": {
            "text/html": [
              "<div>\n",
              "<style scoped>\n",
              "    .dataframe tbody tr th:only-of-type {\n",
              "        vertical-align: middle;\n",
              "    }\n",
              "\n",
              "    .dataframe tbody tr th {\n",
              "        vertical-align: top;\n",
              "    }\n",
              "\n",
              "    .dataframe thead th {\n",
              "        text-align: right;\n",
              "    }\n",
              "</style>\n",
              "<table border=\"1\" class=\"dataframe\">\n",
              "  <thead>\n",
              "    <tr style=\"text-align: right;\">\n",
              "      <th></th>\n",
              "      <th>prd</th>\n",
              "      <th>scale</th>\n",
              "      <th>price</th>\n",
              "      <th>origin</th>\n",
              "      <th>eco</th>\n",
              "      <th>reg_date</th>\n",
              "      <th>new_class</th>\n",
              "    </tr>\n",
              "  </thead>\n",
              "  <tbody>\n",
              "    <tr>\n",
              "      <th>0</th>\n",
              "      <td>[가리비국산]가리비국산</td>\n",
              "      <td>5.00000</td>\n",
              "      <td>23000</td>\n",
              "      <td>경남 남해</td>\n",
              "      <td>normal</td>\n",
              "      <td>2021-03-01</td>\n",
              "      <td>3</td>\n",
              "    </tr>\n",
              "    <tr>\n",
              "      <th>1</th>\n",
              "      <td>[가리비국산]가리비국산</td>\n",
              "      <td>5.00000</td>\n",
              "      <td>25000</td>\n",
              "      <td>경남 마산(고성,진해)</td>\n",
              "      <td>normal</td>\n",
              "      <td>2021-03-01</td>\n",
              "      <td>3</td>\n",
              "    </tr>\n",
              "    <tr>\n",
              "      <th>2</th>\n",
              "      <td>[가리비국산]가리비국산</td>\n",
              "      <td>5.00000</td>\n",
              "      <td>24000</td>\n",
              "      <td>경남 마산(고성,진해)</td>\n",
              "      <td>normal</td>\n",
              "      <td>2021-03-01</td>\n",
              "      <td>3</td>\n",
              "    </tr>\n",
              "    <tr>\n",
              "      <th>3</th>\n",
              "      <td>[가오리수입]가오리수입</td>\n",
              "      <td>10.00000</td>\n",
              "      <td>51230</td>\n",
              "      <td>수입 아르헨티나</td>\n",
              "      <td>normal</td>\n",
              "      <td>2021-03-01</td>\n",
              "      <td>3</td>\n",
              "    </tr>\n",
              "    <tr>\n",
              "      <th>4</th>\n",
              "      <td>[가자미국산]가자미국산</td>\n",
              "      <td>15.00000</td>\n",
              "      <td>162000</td>\n",
              "      <td>국내산</td>\n",
              "      <td>normal</td>\n",
              "      <td>2021-03-01</td>\n",
              "      <td>3</td>\n",
              "    </tr>\n",
              "    <tr>\n",
              "      <th>...</th>\n",
              "      <td>...</td>\n",
              "      <td>...</td>\n",
              "      <td>...</td>\n",
              "      <td>...</td>\n",
              "      <td>...</td>\n",
              "      <td>...</td>\n",
              "      <td>...</td>\n",
              "    </tr>\n",
              "    <tr>\n",
              "      <th>489069</th>\n",
              "      <td>[토마토]토마토(기타)</td>\n",
              "      <td>2.50000</td>\n",
              "      <td>5500</td>\n",
              "      <td>부산 강서구</td>\n",
              "      <td>normal</td>\n",
              "      <td>2021-03-30</td>\n",
              "      <td>7</td>\n",
              "    </tr>\n",
              "    <tr>\n",
              "      <th>489070</th>\n",
              "      <td>[감귤]감귤(금귤)</td>\n",
              "      <td>0.50000</td>\n",
              "      <td>1100</td>\n",
              "      <td>제주 서귀포</td>\n",
              "      <td>normal</td>\n",
              "      <td>2021-03-31</td>\n",
              "      <td>7</td>\n",
              "    </tr>\n",
              "    <tr>\n",
              "      <th>489071</th>\n",
              "      <td>[감귤]감귤(금귤)</td>\n",
              "      <td>10.00000</td>\n",
              "      <td>14000</td>\n",
              "      <td>제주 서귀포</td>\n",
              "      <td>normal</td>\n",
              "      <td>2021-03-31</td>\n",
              "      <td>7</td>\n",
              "    </tr>\n",
              "    <tr>\n",
              "      <th>489072</th>\n",
              "      <td>[당근]당근(당근)</td>\n",
              "      <td>20.00000</td>\n",
              "      <td>9000</td>\n",
              "      <td>제주 제주시</td>\n",
              "      <td>normal</td>\n",
              "      <td>2021-03-31</td>\n",
              "      <td>7</td>\n",
              "    </tr>\n",
              "    <tr>\n",
              "      <th>489073</th>\n",
              "      <td>[오이]오이(백다다기)</td>\n",
              "      <td>18.00000</td>\n",
              "      <td>26000</td>\n",
              "      <td>경기 평택시</td>\n",
              "      <td>normal</td>\n",
              "      <td>2021-03-31</td>\n",
              "      <td>7</td>\n",
              "    </tr>\n",
              "  </tbody>\n",
              "</table>\n",
              "<p>488215 rows × 7 columns</p>\n",
              "</div>"
            ],
            "text/plain": [
              "                 prd    scale   price        origin     eco   reg_date  \\\n",
              "0       [가리비국산]가리비국산  5.00000   23000         경남 남해  normal 2021-03-01   \n",
              "1       [가리비국산]가리비국산  5.00000   25000  경남 마산(고성,진해)  normal 2021-03-01   \n",
              "2       [가리비국산]가리비국산  5.00000   24000  경남 마산(고성,진해)  normal 2021-03-01   \n",
              "3       [가오리수입]가오리수입 10.00000   51230      수입 아르헨티나  normal 2021-03-01   \n",
              "4       [가자미국산]가자미국산 15.00000  162000           국내산  normal 2021-03-01   \n",
              "...              ...      ...     ...           ...     ...        ...   \n",
              "489069  [토마토]토마토(기타)  2.50000    5500        부산 강서구  normal 2021-03-30   \n",
              "489070    [감귤]감귤(금귤)  0.50000    1100        제주 서귀포  normal 2021-03-31   \n",
              "489071    [감귤]감귤(금귤) 10.00000   14000        제주 서귀포  normal 2021-03-31   \n",
              "489072    [당근]당근(당근) 20.00000    9000        제주 제주시  normal 2021-03-31   \n",
              "489073  [오이]오이(백다다기) 18.00000   26000        경기 평택시  normal 2021-03-31   \n",
              "\n",
              "        new_class  \n",
              "0               3  \n",
              "1               3  \n",
              "2               3  \n",
              "3               3  \n",
              "4               3  \n",
              "...           ...  \n",
              "489069          7  \n",
              "489070          7  \n",
              "489071          7  \n",
              "489072          7  \n",
              "489073          7  \n",
              "\n",
              "[488215 rows x 7 columns]"
            ]
          },
          "execution_count": 309,
          "metadata": {},
          "output_type": "execute_result"
        }
      ],
      "source": [
        "df2"
      ]
    },
    {
      "cell_type": "code",
      "execution_count": 310,
      "metadata": {
        "id": "13Js-KtTBZB5"
      },
      "outputs": [],
      "source": [
        "# kg 당 가격 생성\n",
        "\n",
        "df2['price_kg'] = round((df2['price']/df2['scale']),2)"
      ]
    },
    {
      "cell_type": "markdown",
      "metadata": {
        "id": "FJ4jjRUQ8cB3"
      },
      "source": [
        "### prd\n",
        "- 품목명 정리\n",
        "- 품목 종류 정리"
      ]
    },
    {
      "cell_type": "code",
      "execution_count": 311,
      "metadata": {
        "colab": {
          "base_uri": "https://localhost:8080/"
        },
        "id": "pymqNuDt8qqS",
        "outputId": "1506a365-b491-4b16-f40f-4d63980bc22f"
      },
      "outputs": [
        {
          "data": {
            "text/plain": [
              "[딸기]설향              16384\n",
              "[오이]백다다기            13533\n",
              "[딸기]설향(딸기)           8638\n",
              "[시금치]시금치             7244\n",
              "[딸기]딸기(설향)           6387\n",
              "                    ...  \n",
              "[생강]생강(기타)              1\n",
              "[기타엽채]머우대               1\n",
              "[기타엽채]기타엽채(얼갈이솎음        1\n",
              "[포도]포도(기타)              1\n",
              "[석류(수입)]석류(수입)          1\n",
              "Name: prd, Length: 1237, dtype: int64"
            ]
          },
          "execution_count": 311,
          "metadata": {},
          "output_type": "execute_result"
        }
      ],
      "source": [
        "# 대부분 [상품 종류]상품명 으로 정리되어 있는걸 알 수 있음\n",
        "df2['prd'].value_counts()"
      ]
    },
    {
      "cell_type": "code",
      "execution_count": 312,
      "metadata": {
        "id": "EKmhi36getHp"
      },
      "outputs": [],
      "source": [
        "# 정리를 위해 상품명 삭제\n",
        "def prd_sort(words):\n",
        "  p = re.compile('[ㄱ-힣]+')\n",
        "  word = re.search(p,words)\n",
        "  return word.group()\n",
        "\n",
        "df2['prd'] = df2['prd'].apply(prd_sort)"
      ]
    },
    {
      "cell_type": "code",
      "execution_count": 313,
      "metadata": {
        "id": "mlsCXSXMekGg"
      },
      "outputs": [],
      "source": [
        "# 기타 품목 삭제\n",
        "df2 = df2.drop(df2[df2['prd']=='기타'].index)"
      ]
    },
    {
      "cell_type": "code",
      "execution_count": 314,
      "metadata": {
        "id": "fZ8b4ETrDv5n"
      },
      "outputs": [],
      "source": [
        "# 국산,수입산,깐,기타 삭제\n",
        "def prd_sort2(words):\n",
        "  p = re.compile('[^국산수입깐기타]+')\n",
        "  word = re.search(p,str(words))\n",
        "  return word.group()\n",
        "\n",
        "df2[\"prd\"] = df2[\"prd\"].apply(prd_sort2)\n"
      ]
    },
    {
      "cell_type": "code",
      "execution_count": 315,
      "metadata": {
        "colab": {
          "base_uri": "https://localhost:8080/"
        },
        "id": "0UO78EhtVlgj",
        "outputId": "08424baf-f96a-4573-d9fc-c6f751228e63"
      },
      "outputs": [
        {
          "name": "stdout",
          "output_type": "stream",
          "text": [
            "가리비 \n",
            "가물치 가오리 가오리채 가자미 가지 각굴 갈치 감 감귤 감말랭이 감자 갑오징어 갓 개량조개 개조개 \n",
            "갯가재 건고추 건채류 게 게지 겨자 고 고구마 고둥 고들빼 고등어 고사리 고추 고추잎 곤달비 \n",
            "골뱅이 곶감 과실류 과일 과일과채류 과일류 과채 굴 귤 그레이프푸룻 근대 근채류 금감 깻잎 꼴뚜 \n",
            "꽁치 꽈리고추 낙지 날치알 냉이 논우렁이 눈볼대 느 다랑어 다래 단감 달래 닭새우 당귀 당근 \n",
            "대구 대추 대파 더덕 도라지 돈나물 돔 돗나물 동자개 동죽 두릅 두리안 딸 땅콩 라임 \n",
            "람부탄 레몬 리치 마 마늘 만가닥 만감 맛 망고 망고스턴 망고스틴 매생이 머위대 메 메론 \n",
            "메밀 명태 명태곤니 명태알 명태포 모시조개 모자반 무 무순 무우 문어바지락 미꾸라지 미나리 미더덕 미역 \n",
            "민들레 민물새우 민어 바나나 바지락 박 밤 방울토마토 방풍 방풍나물 배 배추 백새우 백합 뱀장어 \n",
            "뱅어 버섯 버섯류 버찌 벅굴 벗 병어 봄동 봄동배추 봉지굴 부세 부지갱이 부추 붉은고추 붕어 \n",
            "붕장어 브로커리 브로코리 블루베리 비름 비트 빈스 빨간양배추 삐틀이 사과 삼 삼나물 삼치 상추 새꼬막 \n",
            "새송이 새싹 새우 새우살 새조개 샐러리 생강 생고추 석류 선동오징어 세러리 세발나물 셀러리 소라 속새 \n",
            "숙주나물 숫꽃게 시금치 신선초 실파 쌈채류 쑥 쑥갓 씀바귀 아귀 아보카도 아보카드 아스파라가스 아스파라거스 아욱 \n",
            "알 알배 야자 양배추 양상추 양송이 양채 양채류 양파 어류 얼갈이 얼갈이배추 엄나무 연근 연어 \n",
            "열무 염고등어 엽경채류 엽채 엽채류 오렌지 오만둥이 오이 오징어 오징어몸통 오징어원양 오징어채 완두콩 용과 우럭조개 \n",
            "우렁 우렁쉥이 우렁이 우뭇가시리 우엉 원추리 유채 은어 임연 잉어 자몽 재첩 적겨자 적근대 적새우 \n",
            "적채 전복 절단 절단낙지 조 조개 조개살 죽순 중하 쪽파 쭈꾸미 참나물 참다래 참외 참조 \n",
            "채소 청경채 청어 체리 총각무 취나물 치커리 칠게 칼라후라워 칼리플라워 칼리후라워 케일 코라비 코코넛 콜라비 \n",
            "콩 콩나물 키위 키조개 키조개꼭지 키조개날개 토마토 톳 파 파래김 파세리 파인애플 파프리카 패류 팽이 \n",
            "팽이버섯 포도 포장바지락 표고 표고버섯 풋고추 피망 피조개 해삼 해파리 향어 호두 호박 홍고추 홍어 \n",
            "홍합 활복오징어 흑돔 "
          ]
        }
      ],
      "source": [
        "# 몇몇 품목들 정리가 필요\n",
        "a = sorted(df2['prd'].unique())\n",
        "for i in range(len(a)):\n",
        "  if i%15 != 0:\n",
        "    print(a[i],end=' ')\n",
        "  else:\n",
        "    print(a[i],end=' ')\n",
        "    print()"
      ]
    },
    {
      "cell_type": "code",
      "execution_count": 316,
      "metadata": {
        "id": "M2625eg87yCq"
      },
      "outputs": [],
      "source": [
        "### 예시\n",
        "# df2[(df2['prd']=='유채') & (df2['price']==4500)]['prd'].unique()\n",
        "# df2[df2['prd']=='유채']['prd'].unique()"
      ]
    },
    {
      "cell_type": "code",
      "execution_count": 317,
      "metadata": {
        "colab": {
          "base_uri": "https://localhost:8080/"
        },
        "id": "ExIoekH2gcM_",
        "outputId": "5cad26ac-a57e-42b5-85da-19e3591a3493"
      },
      "outputs": [],
      "source": [
        "### 원래 단어 뭐였는지 검색\n",
        "# org_df[org_df['품목명'].str.contains('\u001d느')]['품목명'].unique()"
      ]
    },
    {
      "cell_type": "code",
      "execution_count": 318,
      "metadata": {
        "colab": {
          "base_uri": "https://localhost:8080/",
          "height": 81
        },
        "id": "2uOc31XjjPFL",
        "outputId": "50529553-d06f-4dc6-8759-a11736220df6"
      },
      "outputs": [],
      "source": [
        "### 현재 이름 검색\n",
        "# df2[df2['prd']=='느']"
      ]
    },
    {
      "cell_type": "code",
      "execution_count": 319,
      "metadata": {
        "id": "gbBBjoDqIjR1"
      },
      "outputs": [],
      "source": [
        "###\n",
        "# JG\n",
        "\n",
        "# 고 -> 고수로 변경\n",
        "df2.loc[df2[\"prd\"]==\"고\",\"prd\"] = \"고수\"\n",
        "# 과실류, 과일류, 과채, 채소 -> 과채류로 통합\n",
        "df2.loc[df2[\"prd\"]==\"과실류\",\"prd\"] = \"과채류\"\n",
        "df2.loc[df2[\"prd\"]==\"과일류\",\"prd\"] = \"과채류\"\n",
        "df2.loc[df2[\"prd\"]==\"과일야채류\",\"prd\"] = \"과채류\"\n",
        "df2.loc[df2[\"prd\"]==\"과일과채류\",\"prd\"] = \"과채류\"\n",
        "df2.loc[df2[\"prd\"]==\"과일\",\"prd\"] = \"과채류\"\n",
        "df2.loc[df2[\"prd\"]==\"과채\",\"prd\"] = \"과채류\"\n",
        "df2.loc[df2[\"prd\"]==\"채소\",\"prd\"] = \"과채류\"\n",
        "# 고들빼 -> 고들빼기로 변경\n",
        "df2.loc[df2[\"prd\"]==\"고들빼\",\"prd\"] = \"고들빼기\"\n",
        "# 꼴뚜 -> 꼴두기로 변경\n",
        "df2.loc[df2[\"prd\"]==\"꼴뚜\",\"prd\"] = \"꼴뚜기\"\n",
        "# 그레이프푸룻 -> 자몽으로 통합\n",
        "df2.loc[df2[\"prd\"]==\"그레이프푸룻\",\"prd\"] = \"자몽\"\n",
        "\n",
        "# 느 -> 느타리버섯으로 통합\n",
        "df2.loc[df2[\"prd\"]==\"느\",\"prd\"] = \"느타리버섯\"\n",
        "\n",
        "# 대구 관련 품목들 정리\n",
        "df2.loc[df2[\"prd\"]==\"대구고니\",\"prd\"] = \"대구\"\n",
        "df2.loc[df2[\"prd\"]==\"대구머리\",\"prd\"] = \"대구\"\n",
        "df2.loc[df2[\"prd\"]==\"대구포\",\"prd\"] = \"대구\"\n",
        "# 듀리안 -> 두리안으로 통합\n",
        "df2.loc[df2[\"prd\"]==\"듀리안\",\"prd\"] = \"두리안\"\n",
        "# 딸 -> 딸기로 변경\n",
        "df2.loc[df2[\"prd\"]==\"딸\",\"prd\"] = \"딸기\"\n",
        "\n",
        "# 만가닥 -> 만가닥버섯으로 변경\n",
        "df2.loc[df2[\"prd\"]==\"만가닥\",\"prd\"] = \"만가닥버섯\"\n",
        "# 맛 -> 맛조개로 변경\n",
        "df2.loc[df2[\"prd\"]==\"맛\",\"prd\"] = \"맛조개\"\n",
        "# 망고스턴 -> 망고스틴으로 수정\n",
        "df2.loc[df2[\"prd\"]==\"망고스턴\",\"prd\"] = \"망고스틴\"\n",
        "# 메 -> 메기로 변경\n",
        "df2.loc[df2[\"prd\"]==\"메\",\"prd\"] = \"메기\"\n",
        "# 명태 관련 품목들 정리\n",
        "df2.loc[df2[\"prd\"]==\"명태곤니\",\"prd\"] = \"명태\"\n",
        "df2.loc[df2[\"prd\"]==\"명태알\",\"prd\"] = \"명태\"\n",
        "df2.loc[df2[\"prd\"]==\"명태포\",\"prd\"] = \"명태\"\n",
        "# 무우 -> 무로 통합\n",
        "df2.loc[df2[\"prd\"]==\"무우\",\"prd\"] = \"무\"\n",
        "\n",
        "# 방풍 -> 방풍나물로 통합\n",
        "df2.loc[df2[\"prd\"]==\"방풍\",\"prd\"] = \"방풍나물\"\n",
        "# 버섯류 -> 버섯으로 변경\n",
        "df2.loc[df2[\"prd\"]==\"버섯\",\"prd\"] = \"버섯\"\n",
        "# 벗,버찌 -> 체리로 통합\n",
        "df2.loc[df2[\"prd\"]==\"벗\",\"prd\"] = \"체리\"\n",
        "df2.loc[df2[\"prd\"]==\"버찌\",\"prd\"] = \"체리\"\n",
        "# 브로커리, 브로코리 -> 브로콜리로 통합\n",
        "df2.loc[df2[\"prd\"]==\"브로커리\",\"prd\"] = \"브로콜리\"\n",
        "df2.loc[df2[\"prd\"]==\"브로코리\",\"prd\"] = \"브로콜리\"\n",
        "\n",
        "# 삼 -> 수삼으로 변경\n",
        "df2.loc[df2[\"prd\"]==\"삼\",\"prd\"] = \"수삼\"\n",
        "# 새우살 -> 새우로 변경\n",
        "df2.loc[df2[\"prd\"]==\"새우살\",\"prd\"] = \"새우\"\n",
        "# 세러리, 셀러리 -> 샐러리로 통합\n",
        "df2.loc[df2[\"prd\"]==\"세러리\",\"prd\"] = \"샐러리\"\n",
        "df2.loc[df2[\"prd\"]==\"셀러리\",\"prd\"] = \"샐러리\"\n",
        "# 생고추 -> 고추로 통합\n",
        "df2.loc[df2[\"prd\"]==\"생고추\",\"prd\"] = \"고추\"\n",
        "\n",
        "# 아보카드 -> 아보카도로 변경\n",
        "df2.loc[df2[\"prd\"]==\"아보카드\",\"prd\"] = \"아보카도\"\n",
        "# 아스파라가스 -> 아스파라거스로 변경\n",
        "df2.loc[df2[\"prd\"]==\"아스파라가스\",\"prd\"] = \"아스파라거스\"\n",
        "# 알 -> 알타리무로 변경\n",
        "df2.loc[df2[\"prd\"]==\"알\",\"prd\"] = \"알타리무\"\n",
        "# 알배 -> 알배기로 변경\n",
        "df2.loc[df2[\"prd\"]==\"알배\",\"prd\"] = \"알배기\"\n",
        "# 양채 -> 양채류로 통합\n",
        "df2.loc[df2[\"prd\"]==\"양채\",\"prd\"] = \"양채류\"\n",
        "# 얼갈이 -> 얼갈이배추로 통합\n",
        "df2.loc[df2[\"prd\"]==\"얼갈이\",\"prd\"] = \"얼갈이배추\"\n",
        "# 엽채류, 엽채 -> 엽경채류로 통합\n",
        "df2.loc[df2[\"prd\"]==\"엽채류\",\"prd\"] = \"엽경채류\"\n",
        "df2.loc[df2[\"prd\"]==\"엽채\",\"prd\"] = \"엽경채류\"\n",
        "# 오징어 관련 품목들 정리\n",
        "df2.loc[df2[\"prd\"]==\"오징어다리\",\"prd\"] = \"오징어\"\n",
        "df2.loc[df2[\"prd\"]==\"오징어원양\",\"prd\"] = \"오징어\"\n",
        "df2.loc[df2[\"prd\"]==\"오징어채\",\"prd\"] = \"오징어\"\n",
        "df2.loc[df2[\"prd\"]==\"활복오징어\",\"prd\"] = \"오징어\"\n",
        "# 옥, 풋옥 -> 옥수수로 정리\n",
        "df2.loc[df2[\"prd\"]==\"옥\",\"prd\"] = \"옥수수\"\n",
        "df2.loc[df2[\"prd\"]==\"풋옥\",\"prd\"] = \"옥수수\"\n",
        "# 임연 -> 임연수어로 정리\n",
        "df2.loc[df2[\"prd\"]==\"임연\",\"prd\"] = \"임연수어\"\n",
        "\n",
        "\n",
        "# 절단 -> 절단쭈꾸미 -> 쭈꾸미로 정리\n",
        "df2.loc[df2[\"prd\"]==\"절단\",\"prd\"] = \"쭈꾸미\"\n",
        "# 조개살 -> 조개로 정리\n",
        "df2.loc[df2[\"prd\"]==\"조개살\",\"prd\"] = \"조개\"\n",
        "\n",
        "# 참조 -> 참조기로 정리\n",
        "df2.loc[df2[\"prd\"]==\"참조\",\"prd\"] = \"참조기\"\n",
        "\n",
        "# 칼라후라워,칼리플라워, 칼리후라워 -> 컬리플라워로 통합\n",
        "df2.loc[df2[\"prd\"]==\"칼라후라워\",\"prd\"] = \"컬리플라워\"\n",
        "df2.loc[df2[\"prd\"]==\"칼리플라워\",\"prd\"] = \"컬리플라워\"\n",
        "df2.loc[df2[\"prd\"]==\"칼리후라워\",\"prd\"] = \"컬리플라워\"\n",
        "# 코라비 -> 콜라비로 통합\n",
        "df2.loc[df2[\"prd\"]==\"코라비\",\"prd\"] = \"콜라비\"\n",
        "# 키조개날개 -> 키조개로 통합\n",
        "df2.loc[df2[\"prd\"]==\"키조개날개\",\"prd\"] = \"키조개\"\n",
        "\n",
        "# 팽이 -> 팽이버섯으로 통합\n",
        "df2.loc[df2[\"prd\"]==\"팽이\",\"prd\"] = \"팽이버섯\"\n",
        "# 파세리 -> 파슬리로 변경\n",
        "df2.loc[df2[\"prd\"]==\"파세리\",\"prd\"] = \"파슬리\"\n",
        "# 표고 -> 표고버섯으로 통합\n",
        "df2.loc[df2[\"prd\"]==\"표고\",\"prd\"] = \"표고버섯\"\n",
        "# 포장바지락 -> 바지락으로 변경\n",
        "df2.loc[df2[\"prd\"]==\"포장바지락\",\"prd\"] = \"바지락\"\n",
        "\n",
        "### 일단 여기까지 실행\n",
        "# JY\n",
        "#각굴 -> 굴로 통합\n",
        "df2.loc[df2[\"prd\"]==\"각굴\",\"prd\"] = \"굴\"\n",
        "#가오리채 -> 가오리로 통합\n",
        "df2.loc[df2[\"prd\"]==\"가오리채\",\"prd\"] = \"가오리\"\n",
        "# 게지 -> 키조개로 통합\n",
        "df2.loc[df2[\"prd\"]==\"게지\",\"prd\"] = \"키조개\"\n",
        "#고 -> 고구마로 통합\n",
        "df2.loc[df2[\"prd\"]==\"고\",\"prd\"] = \"고구마\"\n",
        "#꼴뚜 -> 꼴뚜기로 통합\n",
        "df2.loc[df2[\"prd\"]==\"꼴뚜\",\"prd\"] = \"꼴뚜기\"\n",
        "#돗나물 -> 돌나물로 통합\n",
        "df2.loc[df2[\"prd\"]==\"돗나물\",\"prd\"] = \"돌나물\"\n",
        "#레드쉬 -> 레디쉬로 통합\n",
        "df2.loc[df2[\"prd\"]==\"레드쉬\",\"prd\"] = \"레디쉬\"\n",
        "#만가닥 -> 만가닥버섯으로 통합\n",
        "df2.loc[df2[\"prd\"]==\"만가닥\",\"prd\"] = \"만가닥버섯\"\n",
        "#메 -> 메기로 통합\n",
        "df2.loc[df2[\"prd\"]==\"메\",\"prd\"] = \"메기\"\n",
        "#봄동 -> 봄동배추로 통합\n",
        "df2.loc[df2[\"prd\"]==\"봄동\",\"prd\"] = \"봄동배추\"\n",
        "#봉지굴 -> 굴로 통합\n",
        "df2.loc[df2[\"prd\"]==\"봉지굴\",\"prd\"] = \"굴\"\n",
        "#박 -> 수박으로 통합\n",
        "df2.loc[df2[\"prd\"]==\"박\",\"prd\"] = \"수박\"\n",
        "#백조 -> 조기로 통합 \n",
        "df2.loc[df2[\"prd\"]==\"백조\",\"prd\"] = \"조기\"\n",
        "#벅굴 -> 벚굴로 통합\n",
        "df2.loc[df2[\"prd\"]==\"벅굴\",\"prd\"] = \"벚굴\"\n",
        "#비 -> 비타민으로 통합\n",
        "df2.loc[df2[\"prd\"]==\"비\",\"prd\"] = \"비타민\"\n",
        "#빈스 -> 콩으로 통합\n",
        "df2.loc[df2[\"prd\"]==\"빈스\",\"prd\"] = \"콩\"\n",
        "#삐틀이 -> 고둥으로 통합\n",
        "df2.loc[df2[\"prd\"]==\"삐틀이\",\"prd\"] = \"고둥\"\n",
        "#새송이 -> 새송이버섯으로 통합\n",
        "df2.loc[df2[\"prd\"]==\"새송이\",\"prd\"] = \"새송이버섯\"\n",
        "#세트 -> 과채류로 통합\n",
        "df2.loc[df2[\"prd\"]==\"세트\",\"prd\"] = \"과채류\"\n",
        "#알 -> 알로애로 통합\n",
        "df2.loc[df2[\"prd\"]==\"알\",\"prd\"] = \"알로에\"\n",
        "#엄나무 -> 음나무로 통합\n",
        "df2.loc[df2[\"prd\"]==\"엄나무\",\"prd\"] = \"음나무\"\n",
        "#염고등어 -> 고등어로 통합\n",
        "df2.loc[df2[\"prd\"]==\"염고등어\",\"prd\"] = \"고등어\"\n",
        "#오만둥이 -> 미더덕으로 통합\n",
        "df2.loc[df2[\"prd\"]==\"오만둥이\",\"prd\"] = \"미더덕\"\n",
        "#오징어 관련 품목들 정리\n",
        "df2.loc[df2[\"prd\"]==\"선동오징어\",\"prd\"] = \"오징어\"\n",
        "df2.loc[df2[\"prd\"]==\"오징어몸통\",\"prd\"] = \"오징어\"\n",
        "#우렁쉥이 -> 멍게로 통합\n",
        "df2.loc[df2[\"prd\"]==\"우렁쉥이\",\"prd\"] = \"멍게\"\n",
        "#우뭇가시리 -> 우뭇가사리로 통합\n",
        "df2.loc[df2[\"prd\"]==\"우뭇가시리\",\"prd\"] = \"우뭇가사리\"\n",
        "#적채 -> 적양배추로 통합\n",
        "df2.loc[df2[\"prd\"]==\"적채\",\"prd\"] = \"적양배추\"\n",
        "#절단낙지 -> 낙지로 통합\n",
        "df2.loc[df2[\"prd\"]==\"절단낙지\",\"prd\"] = \"낙지\"\n",
        "#조 -> 조개로 통합\n",
        "df2.loc[df2[\"prd\"]==\"조\",\"prd\"] = \"조개\"\n",
        "#청어원양 -> 청어로 통합\n",
        "df2.loc[df2[\"prd\"]==\"청어원양\",\"prd\"] = \"청어\"\n",
        "#키조개꼭지 -> 키조개로 통합\n",
        "df2.loc[df2[\"prd\"]==\"키조개꼭지\",\"prd\"] = \"키조개\"\n",
        "\n",
        "# 암꽃게, 숫꽃게 -> 꽃게로 통합\n",
        "df2.loc[df2[\"prd\"]==\"암꽃게\",\"prd\"] = \"꽃게\"\n",
        "df2.loc[df2[\"prd\"]==\"숫꽃게\",\"prd\"] = \"꽃게\"\n",
        "# 우렁 -> 우렁이로 통합\n",
        "df2.loc[df2[\"prd\"]==\"우렁\",\"prd\"] = \"우렁이\"\n",
        "# 알로애 -> 알로에로 변경\n",
        "df2.loc[df2[\"prd\"]==\"알로애\",\"prd\"] = \"알로에\"\n",
        "# 피마자잎 -> 피마자로 변경\n",
        "df2.loc[df2[\"prd\"]==\"피미자잎\",\"prd\"] = \"피마자\"\n",
        "# 조미제품 삭제\n",
        "df2.drop(df2[df2['prd']=='조미제품'].index,inplace=True)"
      ]
    },
    {
      "cell_type": "code",
      "execution_count": 320,
      "metadata": {},
      "outputs": [
        {
          "data": {
            "text/plain": [
              "array([], dtype=object)"
            ]
          },
          "execution_count": 320,
          "metadata": {},
          "output_type": "execute_result"
        }
      ],
      "source": [
        "# 기존 products 리스트와 비교\n",
        "ex_prd = pd.read_csv(\"../products.csv\")\n",
        "df2[~df2['prd'].isin(ex_prd['prd'])]['prd'].unique()"
      ]
    },
    {
      "cell_type": "code",
      "execution_count": 321,
      "metadata": {},
      "outputs": [
        {
          "name": "stderr",
          "output_type": "stream",
          "text": [
            "/var/folders/nq/s4zx76p53d11lnr0t1dxpxh00000gn/T/ipykernel_8411/2619460125.py:4: FutureWarning: The frame.append method is deprecated and will be removed from pandas in a future version. Use pandas.concat instead.\n",
            "  products = ex_prd.append(new_prd,ignore_index=True)\n"
          ]
        }
      ],
      "source": [
        "# 물품 리스트 최신화\n",
        "new_prd = pd.DataFrame(df2['prd'].unique(),columns=['prd'])\n",
        "# products = ex_prd.append(new_prd[~new_prd['prd'].isin(ex_prd['prd'])],ignore_index=True)\n",
        "products = ex_prd.append(new_prd,ignore_index=True)"
      ]
    },
    {
      "cell_type": "code",
      "execution_count": 322,
      "metadata": {},
      "outputs": [],
      "source": [
        "products.drop(columns=['Unnamed: 0'],inplace=True)\n",
        "products.drop_duplicates(inplace=True)\n",
        "products.reset_index(inplace=True,drop=True)"
      ]
    },
    {
      "cell_type": "code",
      "execution_count": 323,
      "metadata": {},
      "outputs": [],
      "source": [
        "# 다음 작업을 위해 저장\n",
        "products.to_csv('../products.csv')"
      ]
    },
    {
      "cell_type": "code",
      "execution_count": 324,
      "metadata": {
        "colab": {
          "base_uri": "https://localhost:8080/",
          "height": 300
        },
        "id": "CxbMB3I59tCZ",
        "outputId": "d29f9bba-e828-4319-9402-7dc24ba1778b"
      },
      "outputs": [
        {
          "data": {
            "text/html": [
              "<div>\n",
              "<style scoped>\n",
              "    .dataframe tbody tr th:only-of-type {\n",
              "        vertical-align: middle;\n",
              "    }\n",
              "\n",
              "    .dataframe tbody tr th {\n",
              "        vertical-align: top;\n",
              "    }\n",
              "\n",
              "    .dataframe thead th {\n",
              "        text-align: right;\n",
              "    }\n",
              "</style>\n",
              "<table border=\"1\" class=\"dataframe\">\n",
              "  <thead>\n",
              "    <tr style=\"text-align: right;\">\n",
              "      <th></th>\n",
              "      <th>prd</th>\n",
              "    </tr>\n",
              "  </thead>\n",
              "  <tbody>\n",
              "    <tr>\n",
              "      <th>count</th>\n",
              "      <td>237.00000</td>\n",
              "    </tr>\n",
              "    <tr>\n",
              "      <th>mean</th>\n",
              "      <td>2059.81013</td>\n",
              "    </tr>\n",
              "    <tr>\n",
              "      <th>std</th>\n",
              "      <td>5799.91850</td>\n",
              "    </tr>\n",
              "    <tr>\n",
              "      <th>min</th>\n",
              "      <td>1.00000</td>\n",
              "    </tr>\n",
              "    <tr>\n",
              "      <th>25%</th>\n",
              "      <td>10.00000</td>\n",
              "    </tr>\n",
              "    <tr>\n",
              "      <th>50%</th>\n",
              "      <td>98.00000</td>\n",
              "    </tr>\n",
              "    <tr>\n",
              "      <th>75%</th>\n",
              "      <td>1182.00000</td>\n",
              "    </tr>\n",
              "    <tr>\n",
              "      <th>max</th>\n",
              "      <td>54439.00000</td>\n",
              "    </tr>\n",
              "  </tbody>\n",
              "</table>\n",
              "</div>"
            ],
            "text/plain": [
              "              prd\n",
              "count   237.00000\n",
              "mean   2059.81013\n",
              "std    5799.91850\n",
              "min       1.00000\n",
              "25%      10.00000\n",
              "50%      98.00000\n",
              "75%    1182.00000\n",
              "max   54439.00000"
            ]
          },
          "execution_count": 324,
          "metadata": {},
          "output_type": "execute_result"
        }
      ],
      "source": [
        "# 전체 거래량과 품목량\n",
        "# 비교를 위해 분포 파악\n",
        "# 거래량이 너무 적은 품목은 삭제할 필요성이 있음\n",
        "\n",
        "prd_lst = (df2['prd'].value_counts()).to_frame()\n",
        "prd_lst.describe()"
      ]
    },
    {
      "cell_type": "code",
      "execution_count": 325,
      "metadata": {
        "id": "_qhAf86UEoSv"
      },
      "outputs": [],
      "source": [
        "# 50개 미만 품목은 비교가 힘드므로 삭제\n",
        "# 줄어든 종류만 남기기\n",
        "\n",
        "prd_lst = prd_lst[prd_lst['prd']>=50]\n",
        "prd_lst.reset_index(inplace=True)\n",
        "prd_lst = prd_lst.rename(columns = {'index':'prd','prd':'count'})"
      ]
    },
    {
      "cell_type": "code",
      "execution_count": 326,
      "metadata": {
        "colab": {
          "base_uri": "https://localhost:8080/"
        },
        "id": "WZfTHQDe-jTG",
        "outputId": "7e713769-2413-4b10-db9d-348498e24708"
      },
      "outputs": [
        {
          "data": {
            "text/plain": [
              "딸기     54439\n",
              "버섯     39031\n",
              "오이     26789\n",
              "토마토    24571\n",
              "양채류    19021\n",
              "       ...  \n",
              "콩나물       58\n",
              "알배기       54\n",
              "개조개       52\n",
              "겨자        52\n",
              "자몽        50\n",
              "Name: prd, Length: 139, dtype: int64"
            ]
          },
          "execution_count": 326,
          "metadata": {},
          "output_type": "execute_result"
        }
      ],
      "source": [
        "df3 = df2.merge(prd_lst)\n",
        "df3[df3['count']>=50]['prd'].value_counts()"
      ]
    },
    {
      "cell_type": "code",
      "execution_count": 327,
      "metadata": {
        "id": "OnwYlUyTEJdF"
      },
      "outputs": [],
      "source": [
        "# 줄어든 것 확인했으므로 count column은 삭제\n",
        "df3 = df3.drop(columns='count')"
      ]
    },
    {
      "cell_type": "markdown",
      "metadata": {
        "id": "jPcICeSResYh"
      },
      "source": [
        "### scale"
      ]
    },
    {
      "cell_type": "code",
      "execution_count": 328,
      "metadata": {
        "colab": {
          "base_uri": "https://localhost:8080/"
        },
        "id": "4KZLpXuYYTZx",
        "outputId": "f59c1146-fdb9-4483-81a3-a0f51dd08904"
      },
      "outputs": [
        {
          "data": {
            "text/plain": [
              "array([   5.  ,   10.  ,   15.  ,    4.  ,    4.5 ,   18.  ,   16.  ,\n",
              "          8.  ,    5.01,   13.  ,   65.  ,   57.  ,    0.4 ,   28.  ,\n",
              "          7.  ,   12.  ,   24.  ,   49.  ,    3.  ,    2.  ,    9.  ,\n",
              "         20.  ,    6.  ,    7.5 ,    1.  ,    0.5 ,    1.5 ,    0.8 ,\n",
              "          2.5 ,    9.5 ,   11.2 ,    4.2 ,    9.6 ,    4.8 ,    3.75,\n",
              "         10.2 ,    5.04,   23.  ,   22.3 ,   17.  ,    2.4 ,    1.7 ,\n",
              "          1.2 ,    5.4 ,   40.  ,   46.  ,    3.5 ,   11.  ,    3.6 ,\n",
              "          0.2 ,    6.75,    0.3 ,    0.1 ,   14.  ,   12.5 ,    8.6 ,\n",
              "          3.9 ,    5.1 ,    8.5 ,    4.3 ,    9.7 ,    6.7 ,    1.6 ,\n",
              "          6.5 ,    7.2 ,    4.6 ,    4.9 ,    5.3 ,    5.6 ,    7.1 ,\n",
              "          0.05,    0.25,    0.13,   10.5 ,   51.  ,    0.15,    0.7 ,\n",
              "         22.  ,   19.  ,   26.  ,    8.3 ,   21.  ,    5.5 ,    0.9 ,\n",
              "          2.3 ,    1.1 ,    3.4 ,    3.7 ,    4.4 ,    4.7 ,    1.8 ,\n",
              "          2.2 ,    1.9 ,    2.1 ,    0.78,    2.8 ,    3.8 ,    3.2 ,\n",
              "          2.7 ,    1.3 ,    1.4 ,    0.6 ,    0.75,    1.01,  100.  ,\n",
              "          2.01,   15.01,   16.5 ,    3.3 ,    2.6 ,   21.5 ,   22.5 ,\n",
              "          9.8 ,   10.9 , 6978.  , 2880.  , 5920.  ,   45.  ,    0.03,\n",
              "         25.  ,    0.17,  198.  ,    0.12,   27.  ,   50.  ,   10.01,\n",
              "         10.02,  110.  ,   18.01,    9.9 ,   10.8 ,   14.4 ,    7.6 ,\n",
              "         13.5 ,   14.2 ,    2.58,    8.8 ,   11.5 ,   11.4 ,    6.3 ,\n",
              "          6.6 ,    9.58,   12.3 ,    7.8 ,    7.7 ,    7.3 ,    7.58,\n",
              "         10.4 ,   11.8 ,    7.4 ,    6.8 ,    8.01,   89.  ,   13.2 ,\n",
              "         14.5 ,    8.2 ,  140.  ,    2.9 ,   30.  ,  105.  ,    4.32,\n",
              "         22.7 ,   18.5 ,   12.6 ,   13.8 ,   16.17,   13.9 ,   14.8 ,\n",
              "         15.8 ,   12.58,   11.39,   10.19,    8.82,    8.7 ,    3.1 ,\n",
              "          5.7 ,    3.25,   87.  ,    6.2 ,    6.4 ,    5.9 ,    0.65,\n",
              "          0.59,    5.2 ,   29.  ,   56.  ,   72.  ,  108.  ])"
            ]
          },
          "execution_count": 328,
          "metadata": {},
          "output_type": "execute_result"
        }
      ],
      "source": [
        "np.set_printoptions(precision=2, suppress=True)\n",
        "df3['scale'].unique()"
      ]
    },
    {
      "cell_type": "code",
      "execution_count": 329,
      "metadata": {
        "colab": {
          "base_uri": "https://localhost:8080/",
          "height": 1000
        },
        "id": "-43K_jyN92IZ",
        "outputId": "7b3e92a5-a0eb-4b09-bc6c-36948c74b860"
      },
      "outputs": [
        {
          "data": {
            "text/html": [
              "<div>\n",
              "<style scoped>\n",
              "    .dataframe tbody tr th:only-of-type {\n",
              "        vertical-align: middle;\n",
              "    }\n",
              "\n",
              "    .dataframe tbody tr th {\n",
              "        vertical-align: top;\n",
              "    }\n",
              "\n",
              "    .dataframe thead th {\n",
              "        text-align: right;\n",
              "    }\n",
              "</style>\n",
              "<table border=\"1\" class=\"dataframe\">\n",
              "  <thead>\n",
              "    <tr style=\"text-align: right;\">\n",
              "      <th></th>\n",
              "      <th>prd</th>\n",
              "      <th>scale</th>\n",
              "      <th>price</th>\n",
              "      <th>origin</th>\n",
              "      <th>eco</th>\n",
              "      <th>reg_date</th>\n",
              "      <th>new_class</th>\n",
              "      <th>price_kg</th>\n",
              "    </tr>\n",
              "  </thead>\n",
              "  <tbody>\n",
              "    <tr>\n",
              "      <th>1850</th>\n",
              "      <td>가지</td>\n",
              "      <td>65.00000</td>\n",
              "      <td>377000</td>\n",
              "      <td>경남 진주시</td>\n",
              "      <td>certified</td>\n",
              "      <td>2021-03-05</td>\n",
              "      <td>1</td>\n",
              "      <td>5800.00000</td>\n",
              "    </tr>\n",
              "    <tr>\n",
              "      <th>2043</th>\n",
              "      <td>가지</td>\n",
              "      <td>57.00000</td>\n",
              "      <td>330600</td>\n",
              "      <td>경남 진주시</td>\n",
              "      <td>certified</td>\n",
              "      <td>2021-03-08</td>\n",
              "      <td>1</td>\n",
              "      <td>5800.00000</td>\n",
              "    </tr>\n",
              "    <tr>\n",
              "      <th>65793</th>\n",
              "      <td>양채류</td>\n",
              "      <td>51.00000</td>\n",
              "      <td>10500</td>\n",
              "      <td>제주 제주시</td>\n",
              "      <td>normal</td>\n",
              "      <td>2021-03-13</td>\n",
              "      <td>1</td>\n",
              "      <td>205.88000</td>\n",
              "    </tr>\n",
              "    <tr>\n",
              "      <th>65802</th>\n",
              "      <td>양채류</td>\n",
              "      <td>51.00000</td>\n",
              "      <td>12500</td>\n",
              "      <td>제주 제주시</td>\n",
              "      <td>normal</td>\n",
              "      <td>2021-03-13</td>\n",
              "      <td>1</td>\n",
              "      <td>245.10000</td>\n",
              "    </tr>\n",
              "    <tr>\n",
              "      <th>117997</th>\n",
              "      <td>딸기</td>\n",
              "      <td>100.00000</td>\n",
              "      <td>11000</td>\n",
              "      <td>충남 논산시</td>\n",
              "      <td>normal</td>\n",
              "      <td>2021-03-12</td>\n",
              "      <td>1</td>\n",
              "      <td>110.00000</td>\n",
              "    </tr>\n",
              "    <tr>\n",
              "      <th>117999</th>\n",
              "      <td>딸기</td>\n",
              "      <td>100.00000</td>\n",
              "      <td>7000</td>\n",
              "      <td>충남 논산시</td>\n",
              "      <td>normal</td>\n",
              "      <td>2021-03-12</td>\n",
              "      <td>1</td>\n",
              "      <td>70.00000</td>\n",
              "    </tr>\n",
              "    <tr>\n",
              "      <th>176369</th>\n",
              "      <td>배추</td>\n",
              "      <td>6978.00000</td>\n",
              "      <td>4186800</td>\n",
              "      <td>전남 완도군</td>\n",
              "      <td>normal</td>\n",
              "      <td>2021-03-05</td>\n",
              "      <td>1</td>\n",
              "      <td>600.00000</td>\n",
              "    </tr>\n",
              "    <tr>\n",
              "      <th>176370</th>\n",
              "      <td>배추</td>\n",
              "      <td>2880.00000</td>\n",
              "      <td>1728000</td>\n",
              "      <td>전남 완도군</td>\n",
              "      <td>normal</td>\n",
              "      <td>2021-03-05</td>\n",
              "      <td>1</td>\n",
              "      <td>600.00000</td>\n",
              "    </tr>\n",
              "    <tr>\n",
              "      <th>176371</th>\n",
              "      <td>배추</td>\n",
              "      <td>5920.00000</td>\n",
              "      <td>3552000</td>\n",
              "      <td>전남 해남군</td>\n",
              "      <td>normal</td>\n",
              "      <td>2021-03-05</td>\n",
              "      <td>1</td>\n",
              "      <td>600.00000</td>\n",
              "    </tr>\n",
              "    <tr>\n",
              "      <th>194555</th>\n",
              "      <td>버섯</td>\n",
              "      <td>198.00000</td>\n",
              "      <td>643500</td>\n",
              "      <td>충남 보령시</td>\n",
              "      <td>normal</td>\n",
              "      <td>2021-03-08</td>\n",
              "      <td>1</td>\n",
              "      <td>3250.00000</td>\n",
              "    </tr>\n",
              "    <tr>\n",
              "      <th>226877</th>\n",
              "      <td>브로콜리</td>\n",
              "      <td>50.00000</td>\n",
              "      <td>18000</td>\n",
              "      <td>제주 제주시</td>\n",
              "      <td>normal</td>\n",
              "      <td>2021-03-12</td>\n",
              "      <td>1</td>\n",
              "      <td>360.00000</td>\n",
              "    </tr>\n",
              "    <tr>\n",
              "      <th>261274</th>\n",
              "      <td>시금치</td>\n",
              "      <td>110.00000</td>\n",
              "      <td>8000</td>\n",
              "      <td>전남 무안군</td>\n",
              "      <td>normal</td>\n",
              "      <td>2021-03-30</td>\n",
              "      <td>1</td>\n",
              "      <td>72.73000</td>\n",
              "    </tr>\n",
              "    <tr>\n",
              "      <th>288078</th>\n",
              "      <td>오이</td>\n",
              "      <td>100.00000</td>\n",
              "      <td>21000</td>\n",
              "      <td>경북 군위군</td>\n",
              "      <td>normal</td>\n",
              "      <td>2021-03-24</td>\n",
              "      <td>1</td>\n",
              "      <td>210.00000</td>\n",
              "    </tr>\n",
              "    <tr>\n",
              "      <th>288079</th>\n",
              "      <td>오이</td>\n",
              "      <td>100.00000</td>\n",
              "      <td>22000</td>\n",
              "      <td>경북 군위군</td>\n",
              "      <td>normal</td>\n",
              "      <td>2021-03-24</td>\n",
              "      <td>1</td>\n",
              "      <td>220.00000</td>\n",
              "    </tr>\n",
              "    <tr>\n",
              "      <th>297839</th>\n",
              "      <td>오이</td>\n",
              "      <td>100.00000</td>\n",
              "      <td>14000</td>\n",
              "      <td>경북 군위군</td>\n",
              "      <td>normal</td>\n",
              "      <td>2021-03-24</td>\n",
              "      <td>2</td>\n",
              "      <td>140.00000</td>\n",
              "    </tr>\n",
              "    <tr>\n",
              "      <th>329117</th>\n",
              "      <td>토마토</td>\n",
              "      <td>100.00000</td>\n",
              "      <td>7000</td>\n",
              "      <td>전남 보성군</td>\n",
              "      <td>normal</td>\n",
              "      <td>2021-03-24</td>\n",
              "      <td>1</td>\n",
              "      <td>70.00000</td>\n",
              "    </tr>\n",
              "    <tr>\n",
              "      <th>363751</th>\n",
              "      <td>호박</td>\n",
              "      <td>89.00000</td>\n",
              "      <td>14500</td>\n",
              "      <td>충북 청원군</td>\n",
              "      <td>normal</td>\n",
              "      <td>2021-03-23</td>\n",
              "      <td>1</td>\n",
              "      <td>162.92000</td>\n",
              "    </tr>\n",
              "    <tr>\n",
              "      <th>363754</th>\n",
              "      <td>호박</td>\n",
              "      <td>89.00000</td>\n",
              "      <td>17500</td>\n",
              "      <td>충북 청원군</td>\n",
              "      <td>normal</td>\n",
              "      <td>2021-03-23</td>\n",
              "      <td>1</td>\n",
              "      <td>196.63000</td>\n",
              "    </tr>\n",
              "    <tr>\n",
              "      <th>406776</th>\n",
              "      <td>파</td>\n",
              "      <td>140.00000</td>\n",
              "      <td>32000</td>\n",
              "      <td>제주 제주시</td>\n",
              "      <td>normal</td>\n",
              "      <td>2021-03-23</td>\n",
              "      <td>1</td>\n",
              "      <td>228.57000</td>\n",
              "    </tr>\n",
              "    <tr>\n",
              "      <th>425042</th>\n",
              "      <td>연근</td>\n",
              "      <td>105.00000</td>\n",
              "      <td>30000</td>\n",
              "      <td>대구 동구</td>\n",
              "      <td>normal</td>\n",
              "      <td>2021-03-15</td>\n",
              "      <td>2</td>\n",
              "      <td>285.71000</td>\n",
              "    </tr>\n",
              "    <tr>\n",
              "      <th>446507</th>\n",
              "      <td>깻잎</td>\n",
              "      <td>87.00000</td>\n",
              "      <td>358875</td>\n",
              "      <td>경남 밀양시</td>\n",
              "      <td>normal</td>\n",
              "      <td>2021-03-22</td>\n",
              "      <td>1</td>\n",
              "      <td>4125.00000</td>\n",
              "    </tr>\n",
              "    <tr>\n",
              "      <th>477055</th>\n",
              "      <td>알배기</td>\n",
              "      <td>50.00000</td>\n",
              "      <td>7500</td>\n",
              "      <td>강원 홍천군</td>\n",
              "      <td>normal</td>\n",
              "      <td>2021-03-09</td>\n",
              "      <td>1</td>\n",
              "      <td>150.00000</td>\n",
              "    </tr>\n",
              "    <tr>\n",
              "      <th>477075</th>\n",
              "      <td>알배기</td>\n",
              "      <td>50.00000</td>\n",
              "      <td>5500</td>\n",
              "      <td>강원 홍천군</td>\n",
              "      <td>normal</td>\n",
              "      <td>2021-03-09</td>\n",
              "      <td>2</td>\n",
              "      <td>110.00000</td>\n",
              "    </tr>\n",
              "    <tr>\n",
              "      <th>480312</th>\n",
              "      <td>오렌지</td>\n",
              "      <td>56.00000</td>\n",
              "      <td>42000</td>\n",
              "      <td>미국</td>\n",
              "      <td>normal</td>\n",
              "      <td>2021-03-05</td>\n",
              "      <td>1</td>\n",
              "      <td>750.00000</td>\n",
              "    </tr>\n",
              "    <tr>\n",
              "      <th>480316</th>\n",
              "      <td>오렌지</td>\n",
              "      <td>72.00000</td>\n",
              "      <td>40000</td>\n",
              "      <td>미국</td>\n",
              "      <td>normal</td>\n",
              "      <td>2021-03-05</td>\n",
              "      <td>1</td>\n",
              "      <td>555.56000</td>\n",
              "    </tr>\n",
              "    <tr>\n",
              "      <th>481791</th>\n",
              "      <td>오렌지</td>\n",
              "      <td>72.00000</td>\n",
              "      <td>36000</td>\n",
              "      <td>미국</td>\n",
              "      <td>normal</td>\n",
              "      <td>2021-03-26</td>\n",
              "      <td>1</td>\n",
              "      <td>500.00000</td>\n",
              "    </tr>\n",
              "    <tr>\n",
              "      <th>481792</th>\n",
              "      <td>오렌지</td>\n",
              "      <td>56.00000</td>\n",
              "      <td>38000</td>\n",
              "      <td>미국</td>\n",
              "      <td>normal</td>\n",
              "      <td>2021-03-26</td>\n",
              "      <td>1</td>\n",
              "      <td>678.57000</td>\n",
              "    </tr>\n",
              "    <tr>\n",
              "      <th>481850</th>\n",
              "      <td>오렌지</td>\n",
              "      <td>72.00000</td>\n",
              "      <td>36000</td>\n",
              "      <td>미국</td>\n",
              "      <td>normal</td>\n",
              "      <td>2021-03-27</td>\n",
              "      <td>1</td>\n",
              "      <td>500.00000</td>\n",
              "    </tr>\n",
              "    <tr>\n",
              "      <th>482139</th>\n",
              "      <td>오렌지</td>\n",
              "      <td>108.00000</td>\n",
              "      <td>42000</td>\n",
              "      <td>미국</td>\n",
              "      <td>normal</td>\n",
              "      <td>2021-03-31</td>\n",
              "      <td>1</td>\n",
              "      <td>388.89000</td>\n",
              "    </tr>\n",
              "    <tr>\n",
              "      <th>482149</th>\n",
              "      <td>오렌지</td>\n",
              "      <td>108.00000</td>\n",
              "      <td>34000</td>\n",
              "      <td>미국</td>\n",
              "      <td>normal</td>\n",
              "      <td>2021-03-31</td>\n",
              "      <td>1</td>\n",
              "      <td>314.81000</td>\n",
              "    </tr>\n",
              "    <tr>\n",
              "      <th>482151</th>\n",
              "      <td>오렌지</td>\n",
              "      <td>108.00000</td>\n",
              "      <td>36000</td>\n",
              "      <td>미국</td>\n",
              "      <td>normal</td>\n",
              "      <td>2021-03-31</td>\n",
              "      <td>1</td>\n",
              "      <td>333.33000</td>\n",
              "    </tr>\n",
              "    <tr>\n",
              "      <th>482154</th>\n",
              "      <td>오렌지</td>\n",
              "      <td>108.00000</td>\n",
              "      <td>32000</td>\n",
              "      <td>미국</td>\n",
              "      <td>normal</td>\n",
              "      <td>2021-03-31</td>\n",
              "      <td>1</td>\n",
              "      <td>296.30000</td>\n",
              "    </tr>\n",
              "  </tbody>\n",
              "</table>\n",
              "</div>"
            ],
            "text/plain": [
              "         prd      scale    price  origin        eco   reg_date  new_class  \\\n",
              "1850      가지   65.00000   377000  경남 진주시  certified 2021-03-05          1   \n",
              "2043      가지   57.00000   330600  경남 진주시  certified 2021-03-08          1   \n",
              "65793    양채류   51.00000    10500  제주 제주시     normal 2021-03-13          1   \n",
              "65802    양채류   51.00000    12500  제주 제주시     normal 2021-03-13          1   \n",
              "117997    딸기  100.00000    11000  충남 논산시     normal 2021-03-12          1   \n",
              "117999    딸기  100.00000     7000  충남 논산시     normal 2021-03-12          1   \n",
              "176369    배추 6978.00000  4186800  전남 완도군     normal 2021-03-05          1   \n",
              "176370    배추 2880.00000  1728000  전남 완도군     normal 2021-03-05          1   \n",
              "176371    배추 5920.00000  3552000  전남 해남군     normal 2021-03-05          1   \n",
              "194555    버섯  198.00000   643500  충남 보령시     normal 2021-03-08          1   \n",
              "226877  브로콜리   50.00000    18000  제주 제주시     normal 2021-03-12          1   \n",
              "261274   시금치  110.00000     8000  전남 무안군     normal 2021-03-30          1   \n",
              "288078    오이  100.00000    21000  경북 군위군     normal 2021-03-24          1   \n",
              "288079    오이  100.00000    22000  경북 군위군     normal 2021-03-24          1   \n",
              "297839    오이  100.00000    14000  경북 군위군     normal 2021-03-24          2   \n",
              "329117   토마토  100.00000     7000  전남 보성군     normal 2021-03-24          1   \n",
              "363751    호박   89.00000    14500  충북 청원군     normal 2021-03-23          1   \n",
              "363754    호박   89.00000    17500  충북 청원군     normal 2021-03-23          1   \n",
              "406776     파  140.00000    32000  제주 제주시     normal 2021-03-23          1   \n",
              "425042    연근  105.00000    30000   대구 동구     normal 2021-03-15          2   \n",
              "446507    깻잎   87.00000   358875  경남 밀양시     normal 2021-03-22          1   \n",
              "477055   알배기   50.00000     7500  강원 홍천군     normal 2021-03-09          1   \n",
              "477075   알배기   50.00000     5500  강원 홍천군     normal 2021-03-09          2   \n",
              "480312   오렌지   56.00000    42000      미국     normal 2021-03-05          1   \n",
              "480316   오렌지   72.00000    40000      미국     normal 2021-03-05          1   \n",
              "481791   오렌지   72.00000    36000      미국     normal 2021-03-26          1   \n",
              "481792   오렌지   56.00000    38000      미국     normal 2021-03-26          1   \n",
              "481850   오렌지   72.00000    36000      미국     normal 2021-03-27          1   \n",
              "482139   오렌지  108.00000    42000      미국     normal 2021-03-31          1   \n",
              "482149   오렌지  108.00000    34000      미국     normal 2021-03-31          1   \n",
              "482151   오렌지  108.00000    36000      미국     normal 2021-03-31          1   \n",
              "482154   오렌지  108.00000    32000      미국     normal 2021-03-31          1   \n",
              "\n",
              "         price_kg  \n",
              "1850   5800.00000  \n",
              "2043   5800.00000  \n",
              "65793   205.88000  \n",
              "65802   245.10000  \n",
              "117997  110.00000  \n",
              "117999   70.00000  \n",
              "176369  600.00000  \n",
              "176370  600.00000  \n",
              "176371  600.00000  \n",
              "194555 3250.00000  \n",
              "226877  360.00000  \n",
              "261274   72.73000  \n",
              "288078  210.00000  \n",
              "288079  220.00000  \n",
              "297839  140.00000  \n",
              "329117   70.00000  \n",
              "363751  162.92000  \n",
              "363754  196.63000  \n",
              "406776  228.57000  \n",
              "425042  285.71000  \n",
              "446507 4125.00000  \n",
              "477055  150.00000  \n",
              "477075  110.00000  \n",
              "480312  750.00000  \n",
              "480316  555.56000  \n",
              "481791  500.00000  \n",
              "481792  678.57000  \n",
              "481850  500.00000  \n",
              "482139  388.89000  \n",
              "482149  314.81000  \n",
              "482151  333.33000  \n",
              "482154  296.30000  "
            ]
          },
          "execution_count": 329,
          "metadata": {},
          "output_type": "execute_result"
        }
      ],
      "source": [
        "# 50kg 이상 거래된 건들 이상치라 판단하고 확인 진행\n",
        "df3[df3['scale']>=50]"
      ]
    },
    {
      "cell_type": "code",
      "execution_count": 330,
      "metadata": {},
      "outputs": [
        {
          "data": {
            "text/html": [
              "<div>\n",
              "<style scoped>\n",
              "    .dataframe tbody tr th:only-of-type {\n",
              "        vertical-align: middle;\n",
              "    }\n",
              "\n",
              "    .dataframe tbody tr th {\n",
              "        vertical-align: top;\n",
              "    }\n",
              "\n",
              "    .dataframe thead th {\n",
              "        text-align: right;\n",
              "    }\n",
              "</style>\n",
              "<table border=\"1\" class=\"dataframe\">\n",
              "  <thead>\n",
              "    <tr style=\"text-align: right;\">\n",
              "      <th></th>\n",
              "      <th>prd</th>\n",
              "      <th>scale</th>\n",
              "      <th>price</th>\n",
              "      <th>origin</th>\n",
              "      <th>eco</th>\n",
              "      <th>reg_date</th>\n",
              "      <th>new_class</th>\n",
              "      <th>price_kg</th>\n",
              "    </tr>\n",
              "  </thead>\n",
              "  <tbody>\n",
              "    <tr>\n",
              "      <th>1850</th>\n",
              "      <td>가지</td>\n",
              "      <td>65.00000</td>\n",
              "      <td>377000</td>\n",
              "      <td>경남 진주시</td>\n",
              "      <td>certified</td>\n",
              "      <td>2021-03-05</td>\n",
              "      <td>1</td>\n",
              "      <td>5800.00000</td>\n",
              "    </tr>\n",
              "    <tr>\n",
              "      <th>2043</th>\n",
              "      <td>가지</td>\n",
              "      <td>57.00000</td>\n",
              "      <td>330600</td>\n",
              "      <td>경남 진주시</td>\n",
              "      <td>certified</td>\n",
              "      <td>2021-03-08</td>\n",
              "      <td>1</td>\n",
              "      <td>5800.00000</td>\n",
              "    </tr>\n",
              "    <tr>\n",
              "      <th>4106</th>\n",
              "      <td>가지</td>\n",
              "      <td>49.00000</td>\n",
              "      <td>284200</td>\n",
              "      <td>경남 진주시</td>\n",
              "      <td>certified</td>\n",
              "      <td>2021-03-31</td>\n",
              "      <td>1</td>\n",
              "      <td>5800.00000</td>\n",
              "    </tr>\n",
              "  </tbody>\n",
              "</table>\n",
              "</div>"
            ],
            "text/plain": [
              "     prd    scale   price  origin        eco   reg_date  new_class   price_kg\n",
              "1850  가지 65.00000  377000  경남 진주시  certified 2021-03-05          1 5800.00000\n",
              "2043  가지 57.00000  330600  경남 진주시  certified 2021-03-08          1 5800.00000\n",
              "4106  가지 49.00000  284200  경남 진주시  certified 2021-03-31          1 5800.00000"
            ]
          },
          "execution_count": 330,
          "metadata": {},
          "output_type": "execute_result"
        }
      ],
      "source": [
        "df3[(df3['prd']=='가지')&(df3['scale']>30)]"
      ]
    },
    {
      "cell_type": "code",
      "execution_count": 331,
      "metadata": {
        "id": "v1EZDKB59dJp"
      },
      "outputs": [],
      "source": [
        "# 스케일 오표기된 항목 수정\n",
        "# 가지는 가격이 평균보다 비싸긴 하나 거래 불가능한 정도는 아니라 판단\n",
        "\n",
        "\n",
        "# 나머지는 이상치로 판단하고 모두 삭제\n",
        "df3 = df3.drop(df3[(df3['scale']>=50)&(df3['prd']!='가지')].index)"
      ]
    },
    {
      "cell_type": "code",
      "execution_count": 332,
      "metadata": {},
      "outputs": [
        {
          "data": {
            "text/html": [
              "<div>\n",
              "<style scoped>\n",
              "    .dataframe tbody tr th:only-of-type {\n",
              "        vertical-align: middle;\n",
              "    }\n",
              "\n",
              "    .dataframe tbody tr th {\n",
              "        vertical-align: top;\n",
              "    }\n",
              "\n",
              "    .dataframe thead th {\n",
              "        text-align: right;\n",
              "    }\n",
              "</style>\n",
              "<table border=\"1\" class=\"dataframe\">\n",
              "  <thead>\n",
              "    <tr style=\"text-align: right;\">\n",
              "      <th></th>\n",
              "      <th>prd</th>\n",
              "      <th>scale</th>\n",
              "      <th>price</th>\n",
              "      <th>origin</th>\n",
              "      <th>eco</th>\n",
              "      <th>reg_date</th>\n",
              "      <th>new_class</th>\n",
              "      <th>price_kg</th>\n",
              "    </tr>\n",
              "  </thead>\n",
              "  <tbody>\n",
              "    <tr>\n",
              "      <th>1850</th>\n",
              "      <td>가지</td>\n",
              "      <td>65.00000</td>\n",
              "      <td>377000</td>\n",
              "      <td>경남 진주시</td>\n",
              "      <td>certified</td>\n",
              "      <td>2021-03-05</td>\n",
              "      <td>1</td>\n",
              "      <td>5800.00000</td>\n",
              "    </tr>\n",
              "    <tr>\n",
              "      <th>2043</th>\n",
              "      <td>가지</td>\n",
              "      <td>57.00000</td>\n",
              "      <td>330600</td>\n",
              "      <td>경남 진주시</td>\n",
              "      <td>certified</td>\n",
              "      <td>2021-03-08</td>\n",
              "      <td>1</td>\n",
              "      <td>5800.00000</td>\n",
              "    </tr>\n",
              "  </tbody>\n",
              "</table>\n",
              "</div>"
            ],
            "text/plain": [
              "     prd    scale   price  origin        eco   reg_date  new_class   price_kg\n",
              "1850  가지 65.00000  377000  경남 진주시  certified 2021-03-05          1 5800.00000\n",
              "2043  가지 57.00000  330600  경남 진주시  certified 2021-03-08          1 5800.00000"
            ]
          },
          "execution_count": 332,
          "metadata": {},
          "output_type": "execute_result"
        }
      ],
      "source": [
        "df3[df3['scale']>=50]"
      ]
    },
    {
      "cell_type": "markdown",
      "metadata": {
        "id": "5I9D6wZCWDhi"
      },
      "source": [
        "### origin"
      ]
    },
    {
      "cell_type": "code",
      "execution_count": 333,
      "metadata": {
        "colab": {
          "base_uri": "https://localhost:8080/"
        },
        "id": "pI0Ezwn-VgXP",
        "outputId": "8d8f9387-01cb-4c3a-a3c9-e521b970aafb"
      },
      "outputs": [
        {
          "data": {
            "text/plain": [
              "array(['경남 남해', '경남 마산(고성,진해)', '전남 여수', '경남 통영', '국내산', '수입 러시아',\n",
              "       '전북 군산', '수입 미국', '제주 제주도', '대구 달성군', '전북 군산시', '경기 여주시', '경남 김해시',\n",
              "       '경남 밀양시', '광주시 광산구', '경남 진주시', '경남 창원시 의창구', '경남 고성군', '경남 창녕군',\n",
              "       '경남 함안군', '경북 고령군', '경북 상주시', '경북 성주군', '광주 광산구', '전남 나주시',\n",
              "       '경기 여주군', '전북 임실군', '경남 거제시', '전북 익산시', '경기 안성시 일죽면', '경기 하남시',\n",
              "       '경기 이천시', '경기 용인시', '경기도 하남시', '경기 양평군', '전북 전주시', '충남 부여군',\n",
              "       '경남 창원시', '전남 광양시', '서울', '경남', '충남 금산군', '경기 광주시', '경남 의령군',\n",
              "       '경남 밀양시 단장면', '전북 완주군', '경남 진주시 금곡면', '경기 안성시 고삼면', '전북 군산시 개정면',\n",
              "       '경기 안성시', '충남 예산군', '서울 강동구', '전남 고흥(나로도)', '경남 삼천포', '충남 서산',\n",
              "       '수입 세네갈', '수입 기타', '수입 중국', '제주', '제주 서귀포시', '제주 제주시', '제주 서귀포',\n",
              "       '제주 남제주군', '제주특별자치도 서귀', '제주도 서귀포시', '서울시 강서구', '제주 북제주군',\n",
              "       '전남 담양군', '전남 고흥군', '제주도 제주시', '경남 산청군', '전남 해남군', '제주 서귀포시(2)',\n",
              "       '제주 남제주', '수입산 미국', '충남 논산시', '경기 평택시 고덕면', '전남 무안군', '제주특별자치도 제주',\n",
              "       '미국', '서울특별시 강남구', '부산시 기장군', '강원 평창군', '강원 홍천군', '경북 예천군',\n",
              "       '충남 당진시', '강원 정선군', '전북 남원시', '전북 부안군', '전남 보성군', '충남 태안군',\n",
              "       '강원 강릉시', '강원 화천군', '충남 홍성군', '전남 구례군', '전남 순천시 낙안면', '강원도 평창군',\n",
              "       '충남 천안시', '충남 서산시', '경기 포천시', '경남 거창군', '경북 구미시', '전북 김제시',\n",
              "       '광주 남구', '전남 곡성군', '경북 김천시', '강원 횡성군', '전라북도 부안군', '충남', '경북 영천시',\n",
              "       '부산 강서구', '강원 인제군', '경북 영주시', '강원 춘천시', '충남 서천군', '강원', '경남 합천군',\n",
              "       '강원 원주시', '충남 공주시', '경기 남양주시', '강원도 횡성군', '경북 안동시', '수입산 중국',\n",
              "       '서울 중구', '경북 봉화군', '충남 청양군', '경남 밀양시 무안면', '전남 영암군', '충북 충주시',\n",
              "       '경북 칠곡군', '경북 문경시', '전북 남원시 인월면', '서울 송파구', '수입 베트남', '충남 장항(서천)',\n",
              "       '수입 바레인', '인천시 강화군', '전북 고창군', '충남 아산시', '충북 음성군', '인천 강화군',\n",
              "       '충남 태안군 남면', '전라북도 익산시', '경기 고양시', '전북 익산시 황등면', '충남 태안군 안면읍',\n",
              "       '경남 마산시', '광주 서구', '경남 하동군', '전북 진안군', '강원 고성군', '충북 영동군',\n",
              "       '전남 강진군', '전남 장성군', '인천 미추홀구', '가락동', '경기 성남시', '충북 제천시', '경기 시흥시',\n",
              "       '경기 양주시', '경기 광명시', '경기 안산시', '서울 중랑구', '서울 도봉구', '경기 구리시',\n",
              "       '서울 동대문구', '충북 진천군', '서울 양천구', '경기 의왕시', '대구 동구', '경북 경산시',\n",
              "       '성남시 중원구', '중국', '충북 괴산군', '경기 의정부시', '경기 화성시', '경기 파주시', '전남 신안군',\n",
              "       '전남 순천시', '전남 영광군', '성남시 분당구', '경기 평택시', '강원 철원군', '경북 영양군',\n",
              "       '경북 청도군', '전남 여수시', '대만', '경북 포항시', '경남 김해시 대동면', '경북 영덕군',\n",
              "       '포항시 북구', '경기도 고양시', '경기도 광주군', '전남 여수시 남면', '전남 진도군', '광주', '경기',\n",
              "       '전남 광양시 봉강면', '전북', '전남 함평군', '전남 목포시', '경남 함양군', '전남 화순군',\n",
              "       '전북 순창군', '충남 보령시', '광주 광주', '전남', '경기 양평군 양동면', '전남 영광군 군남면',\n",
              "       '경남 남해군', '충남 보령시 웅천읍', '경남 함양군 서상면', '충남 당진시 순성면', '강원 양양군',\n",
              "       '경기 김포시', '전북 부안', '전남 순천(광양)', '경남 밀양시 부북면', '수입 타이', '경남 창원시 동읍',\n",
              "       '서울특별시 동대문구', '대전 동구', '경남 사천시', '전북 장수군', '수입산 베트남', '베트남',\n",
              "       '경북 김천시 감문면', '경남 양산시', '경기 인천', '전라북도 순창군', '전북 순창군 구림면',\n",
              "       '강원 양구군', '전남 완도군', '경기 안성시 공도읍', '전남 광양시 다압면', '경기 양주시 장흥면',\n",
              "       '전남 여수시 돌산읍', '전라북도 남원시', '광주 북구', '충청남도 논산시', '충남 논산시 가야곡면',\n",
              "       '수입산 칠레', '경기도 남양주시', '경북 의성군', '충남 천안시 풍세면', '인천 중구',\n",
              "       '충남 천안시 광덕면', '경기 용인시 구성읍', '전남 강진', '전남 장흥', '전남 완도', '필리핀',\n",
              "       '수입산 필리핀', '전라남도 곡성군', '경북', '경상남도 진주시', '전남 나주시 세지면', '서울 은평구',\n",
              "       '경기 고양시 덕양구', '서울 강서구', '수입 대만', '전남 장흥군', '강원도 철원군', '전북 익산시 금마면',\n",
              "       '전북 익산시 망성면', '경기 성남시수정구', '경기 포천군', '경북 포항시남구', '경기 포천시 가산면',\n",
              "       '경기도 평택시', '충남 연기군', '경기도 안성시', '경기도 파주시', '경기 오산시', '경기 이천시 설성면',\n",
              "       '경기 수원시', '경기 여주시 가남읍', '경기 이천시 장호원읍', '경기 여주시 가남면', '경기 안성시 서운면',\n",
              "       '경기 가평군', '충북 청주시', '전남 진도군 임회면', '인천 남동구', '전북 정읍시', '강원 영월군',\n",
              "       '청주시 흥덕구', '충북 청원군', '충북 보은군', '세종시', '충북 옥천군', '경기 연천군', '강원 태백시',\n",
              "       '인천 계양구', '청주시 상당구', '강원 동해시', '대전 서구', '경기도 김포시', '경기도 광명시',\n",
              "       '서울시 양천구', '경기도 부천시', '충남 계룡시', '경기도 양주군', '충남 논산시 성동면', '경기 양주군',\n",
              "       '강원 속초시', '서울시 도봉구', '대전 대덕구', '경기 고양시일산구', '충남 논산시 상월면',\n",
              "       '경북 김천시 조마면', '수입 에콰도르', '수입 페루', '수입 인도', '수입 노르웨이', '수입 캐나다',\n",
              "       '충북 진천군 덕산면', '경북 영덕군 영해면 3', '인천시 계양구', '경북 경주시', '서울시 은평구',\n",
              "       '경기 고양시덕양구', '경기 양평군 청운면', '충북 음성군 맹동면', '충북 진천군 이월면',\n",
              "       '경북 경주시 감포읍', '경기도 포천군', '수입산 대만', '경북/문경시', '경북 영천시 고경면', '대구 중구',\n",
              "       '태국', '수입산 태국', '경북 경산시 남산면', '대전 유성구', '강원 철원군 김화읍', '세종 특별자치시',\n",
              "       '경북 군위군', '충남 천안시 동남구', '강원 횡성군 갑천면', '대전', '세종 세종시', '세종',\n",
              "       '경북 칠곡군 왜관읍', '원양산', '수입 칠레', '경북 성주군 초전면', '경상남도 창원시', '부산',\n",
              "       '부산시 강서구', '부산 북구', '서울특별시 영등포구', '부산 부산진구', '경기도 화성군', '부산 중구',\n",
              "       '부산 기장군', '전북 무주군', '서울 동대문', '인천', '인천시 부평구', '인천 남구', '인천광역시 남구',\n",
              "       '인천 부평구', '경기 남양주', '광주시 남구', '전라북도 전주시', '전남 해남군 계곡면', '충북 단양군',\n",
              "       '전라북도 전', '수입산 뉴질랜드', '뉴질랜드', '경남 고성군 영오면', '울산 북구', '경북 청송군',\n",
              "       '대구시 동구', '충북', '경북 안동시 길안면', '경북 영천시 화남면', '경북 영주시 부석면',\n",
              "       '경북 상주시 화남면', '경북 영주시 단산면', '부산 금정구', '충남 논산시 양촌면', '전남 고흥군 도화면',\n",
              "       '칠레', '수입산 페루', '페루', '수입산 호주', '호주', '오스트레일', '서울 서초구', '전주시 덕진구',\n",
              "       '인천 서구', '서울 구로구', '충남 부여군 구룡면', '전북 남원시 금지면', '충남 서산시 팔봉면',\n",
              "       '충남 아산시 신창면', '충남 아산시 도고면', '전남 나주시 공산면', '대구 북구', '부산 동구', '불가리아',\n",
              "       '멕시코', '강원 홍천군 남면', '충남 홍성군 은하면', '충남 천안시 서북구', '경기 이천시 대월면',\n",
              "       '경기 의왕시 초평로 1', '충남 논산시 연산면', '경기도 여주군', '이탈리아', '충북청주시상당구',\n",
              "       '전남 신안군 임자면', '전북전주시완산구', '전남 신안군 자은면', '수입산 멕시코', '인천 옹진군',\n",
              "       '수입산 캄보디아', '타이', '전주시 완산구', '경남 밀양시 청도면', '전남 나주시 노안면',\n",
              "       '경기 부천시오정구', '부천시 오정구', '경기 부천시', '강원 영월군 하동면', '과테말라', '콜롬비아',\n",
              "       '에쿠아도르', '인도네시아', '에콰돌', '수입산 과테말라', '수입산 에콰도르', '수입산 인도네시아',\n",
              "       '수입산 콜롬비아', '에콰도르', '수입산 코스타리카', '기타외국', '코스타리카', '대구 남구',\n",
              "       '경기 안성시 양성면', '경남 함안군 대산면', '경기 의정부', '강원 삼척시', '경기 남양주시 진건읍',\n",
              "       '강원도 정선군', '강원도 영월군', '스페인', '서울 강남구', '이스라엘', '수입산 이스라엘',\n",
              "       '경기도 용인시', '전남 보성군 조성면', '경기 용인시 모현면', '수입산 이탈리아'], dtype=object)"
            ]
          },
          "execution_count": 333,
          "metadata": {},
          "output_type": "execute_result"
        }
      ],
      "source": [
        "# 도,시, 국산, 수입 표기 분류 필요\n",
        "df3['origin'].unique()"
      ]
    },
    {
      "cell_type": "code",
      "execution_count": 334,
      "metadata": {
        "colab": {
          "base_uri": "https://localhost:8080/",
          "height": 423
        },
        "id": "rvX1g3c_Ll2C",
        "outputId": "56330691-579b-46aa-b24a-046112748253"
      },
      "outputs": [
        {
          "data": {
            "text/html": [
              "<div>\n",
              "<style scoped>\n",
              "    .dataframe tbody tr th:only-of-type {\n",
              "        vertical-align: middle;\n",
              "    }\n",
              "\n",
              "    .dataframe tbody tr th {\n",
              "        vertical-align: top;\n",
              "    }\n",
              "\n",
              "    .dataframe thead th {\n",
              "        text-align: right;\n",
              "    }\n",
              "</style>\n",
              "<table border=\"1\" class=\"dataframe\">\n",
              "  <thead>\n",
              "    <tr style=\"text-align: right;\">\n",
              "      <th></th>\n",
              "      <th>prd</th>\n",
              "      <th>scale</th>\n",
              "      <th>price</th>\n",
              "      <th>origin</th>\n",
              "      <th>eco</th>\n",
              "      <th>reg_date</th>\n",
              "      <th>new_class</th>\n",
              "      <th>price_kg</th>\n",
              "      <th>0</th>\n",
              "      <th>1</th>\n",
              "      <th>2</th>\n",
              "      <th>3</th>\n",
              "    </tr>\n",
              "  </thead>\n",
              "  <tbody>\n",
              "    <tr>\n",
              "      <th>0</th>\n",
              "      <td>가리비</td>\n",
              "      <td>5.00000</td>\n",
              "      <td>23000</td>\n",
              "      <td>경남 남해</td>\n",
              "      <td>normal</td>\n",
              "      <td>2021-03-01</td>\n",
              "      <td>3</td>\n",
              "      <td>4600.00000</td>\n",
              "      <td>경남</td>\n",
              "      <td>남해</td>\n",
              "      <td>NaN</td>\n",
              "      <td>NaN</td>\n",
              "    </tr>\n",
              "    <tr>\n",
              "      <th>1</th>\n",
              "      <td>가리비</td>\n",
              "      <td>5.00000</td>\n",
              "      <td>25000</td>\n",
              "      <td>경남 마산(고성,진해)</td>\n",
              "      <td>normal</td>\n",
              "      <td>2021-03-01</td>\n",
              "      <td>3</td>\n",
              "      <td>5000.00000</td>\n",
              "      <td>경남</td>\n",
              "      <td>마산(고성,진해)</td>\n",
              "      <td>NaN</td>\n",
              "      <td>NaN</td>\n",
              "    </tr>\n",
              "    <tr>\n",
              "      <th>2</th>\n",
              "      <td>가리비</td>\n",
              "      <td>5.00000</td>\n",
              "      <td>24000</td>\n",
              "      <td>경남 마산(고성,진해)</td>\n",
              "      <td>normal</td>\n",
              "      <td>2021-03-01</td>\n",
              "      <td>3</td>\n",
              "      <td>4800.00000</td>\n",
              "      <td>경남</td>\n",
              "      <td>마산(고성,진해)</td>\n",
              "      <td>NaN</td>\n",
              "      <td>NaN</td>\n",
              "    </tr>\n",
              "    <tr>\n",
              "      <th>3</th>\n",
              "      <td>가리비</td>\n",
              "      <td>5.00000</td>\n",
              "      <td>25000</td>\n",
              "      <td>전남 여수</td>\n",
              "      <td>normal</td>\n",
              "      <td>2021-03-02</td>\n",
              "      <td>3</td>\n",
              "      <td>5000.00000</td>\n",
              "      <td>전남</td>\n",
              "      <td>여수</td>\n",
              "      <td>NaN</td>\n",
              "      <td>NaN</td>\n",
              "    </tr>\n",
              "    <tr>\n",
              "      <th>4</th>\n",
              "      <td>가리비</td>\n",
              "      <td>5.00000</td>\n",
              "      <td>23000</td>\n",
              "      <td>경남 남해</td>\n",
              "      <td>normal</td>\n",
              "      <td>2021-03-02</td>\n",
              "      <td>3</td>\n",
              "      <td>4600.00000</td>\n",
              "      <td>경남</td>\n",
              "      <td>남해</td>\n",
              "      <td>NaN</td>\n",
              "      <td>NaN</td>\n",
              "    </tr>\n",
              "    <tr>\n",
              "      <th>...</th>\n",
              "      <td>...</td>\n",
              "      <td>...</td>\n",
              "      <td>...</td>\n",
              "      <td>...</td>\n",
              "      <td>...</td>\n",
              "      <td>...</td>\n",
              "      <td>...</td>\n",
              "      <td>...</td>\n",
              "      <td>...</td>\n",
              "      <td>...</td>\n",
              "      <td>...</td>\n",
              "      <td>...</td>\n",
              "    </tr>\n",
              "    <tr>\n",
              "      <th>486894</th>\n",
              "      <td>쑥</td>\n",
              "      <td>5.00000</td>\n",
              "      <td>8000</td>\n",
              "      <td>전남 신안군</td>\n",
              "      <td>normal</td>\n",
              "      <td>2021-03-31</td>\n",
              "      <td>1</td>\n",
              "      <td>1600.00000</td>\n",
              "      <td>전남</td>\n",
              "      <td>신안군</td>\n",
              "      <td>NaN</td>\n",
              "      <td>NaN</td>\n",
              "    </tr>\n",
              "    <tr>\n",
              "      <th>486895</th>\n",
              "      <td>쑥</td>\n",
              "      <td>6.00000</td>\n",
              "      <td>40500</td>\n",
              "      <td>충남 보령시</td>\n",
              "      <td>normal</td>\n",
              "      <td>2021-03-31</td>\n",
              "      <td>1</td>\n",
              "      <td>6750.00000</td>\n",
              "      <td>충남</td>\n",
              "      <td>보령시</td>\n",
              "      <td>NaN</td>\n",
              "      <td>NaN</td>\n",
              "    </tr>\n",
              "    <tr>\n",
              "      <th>486896</th>\n",
              "      <td>쑥</td>\n",
              "      <td>5.00000</td>\n",
              "      <td>32500</td>\n",
              "      <td>충남 태안군</td>\n",
              "      <td>normal</td>\n",
              "      <td>2021-03-31</td>\n",
              "      <td>1</td>\n",
              "      <td>6500.00000</td>\n",
              "      <td>충남</td>\n",
              "      <td>태안군</td>\n",
              "      <td>NaN</td>\n",
              "      <td>NaN</td>\n",
              "    </tr>\n",
              "    <tr>\n",
              "      <th>486897</th>\n",
              "      <td>쑥</td>\n",
              "      <td>4.00000</td>\n",
              "      <td>32000</td>\n",
              "      <td>충남 당진시</td>\n",
              "      <td>normal</td>\n",
              "      <td>2021-03-31</td>\n",
              "      <td>1</td>\n",
              "      <td>8000.00000</td>\n",
              "      <td>충남</td>\n",
              "      <td>당진시</td>\n",
              "      <td>NaN</td>\n",
              "      <td>NaN</td>\n",
              "    </tr>\n",
              "    <tr>\n",
              "      <th>486898</th>\n",
              "      <td>쑥</td>\n",
              "      <td>3.00000</td>\n",
              "      <td>18750</td>\n",
              "      <td>충남 태안군</td>\n",
              "      <td>normal</td>\n",
              "      <td>2021-03-31</td>\n",
              "      <td>1</td>\n",
              "      <td>6250.00000</td>\n",
              "      <td>충남</td>\n",
              "      <td>태안군</td>\n",
              "      <td>NaN</td>\n",
              "      <td>NaN</td>\n",
              "    </tr>\n",
              "  </tbody>\n",
              "</table>\n",
              "<p>486869 rows × 12 columns</p>\n",
              "</div>"
            ],
            "text/plain": [
              "        prd   scale  price        origin     eco   reg_date  new_class  \\\n",
              "0       가리비 5.00000  23000         경남 남해  normal 2021-03-01          3   \n",
              "1       가리비 5.00000  25000  경남 마산(고성,진해)  normal 2021-03-01          3   \n",
              "2       가리비 5.00000  24000  경남 마산(고성,진해)  normal 2021-03-01          3   \n",
              "3       가리비 5.00000  25000         전남 여수  normal 2021-03-02          3   \n",
              "4       가리비 5.00000  23000         경남 남해  normal 2021-03-02          3   \n",
              "...     ...     ...    ...           ...     ...        ...        ...   \n",
              "486894    쑥 5.00000   8000        전남 신안군  normal 2021-03-31          1   \n",
              "486895    쑥 6.00000  40500        충남 보령시  normal 2021-03-31          1   \n",
              "486896    쑥 5.00000  32500        충남 태안군  normal 2021-03-31          1   \n",
              "486897    쑥 4.00000  32000        충남 당진시  normal 2021-03-31          1   \n",
              "486898    쑥 3.00000  18750        충남 태안군  normal 2021-03-31          1   \n",
              "\n",
              "         price_kg   0          1    2    3  \n",
              "0      4600.00000  경남         남해  NaN  NaN  \n",
              "1      5000.00000  경남  마산(고성,진해)  NaN  NaN  \n",
              "2      4800.00000  경남  마산(고성,진해)  NaN  NaN  \n",
              "3      5000.00000  전남         여수  NaN  NaN  \n",
              "4      4600.00000  경남         남해  NaN  NaN  \n",
              "...           ...  ..        ...  ...  ...  \n",
              "486894 1600.00000  전남        신안군  NaN  NaN  \n",
              "486895 6750.00000  충남        보령시  NaN  NaN  \n",
              "486896 6500.00000  충남        태안군  NaN  NaN  \n",
              "486897 8000.00000  충남        당진시  NaN  NaN  \n",
              "486898 6250.00000  충남        태안군  NaN  NaN  \n",
              "\n",
              "[486869 rows x 12 columns]"
            ]
          },
          "execution_count": 334,
          "metadata": {},
          "output_type": "execute_result"
        }
      ],
      "source": [
        "# 해당 조건에 맞는 값 추출\n",
        "\n",
        "splits = df3['origin'].str.split(' ')\n",
        "cacul = splits.apply(lambda x: pd.Series(x))\n",
        "df66 = pd.merge(df3,cacul, left_index=True, right_index=True, how='inner')\n",
        "df66"
      ]
    },
    {
      "cell_type": "code",
      "execution_count": 335,
      "metadata": {
        "id": "NVkmVZ7ip9-N"
      },
      "outputs": [],
      "source": [
        "# 세부 카테고리 정리 (state, city 편집 시 여기서 시작)\n",
        "\n",
        "df4 = df66.rename(columns = {0:'state',1:'city'})\n",
        "\n",
        "# 2,3은 필요없는 정보이므로 삭제\n",
        "df4 = df4.drop(columns=[2,3])"
      ]
    },
    {
      "cell_type": "code",
      "execution_count": 336,
      "metadata": {
        "colab": {
          "base_uri": "https://localhost:8080/"
        },
        "id": "JcsSUlI_27J3",
        "outputId": "817067e6-2645-4c9c-c86f-047b1471bb9b"
      },
      "outputs": [
        {
          "data": {
            "text/plain": [
              "array(['경남', '전남', '국내산', '수입', '전북', '제주', '대구', '경기', '광주시', '경북', '광주',\n",
              "       '경기도', '충남', '서울', '제주특별자치도', '제주도', '서울시', '수입산', '미국', '서울특별시',\n",
              "       '부산시', '강원', '강원도', '전라북도', '부산', '충북', '인천시', '인천', '가락동', '성남시',\n",
              "       '중국', '대만', '포항시', '대전', '베트남', '충청남도', '필리핀', '전라남도', '경상남도',\n",
              "       '청주시', '세종시', '경북/문경시', '태국', '세종', '원양산', '인천광역시', '뉴질랜드', '울산',\n",
              "       '대구시', '칠레', '페루', '호주', '오스트레일', '전주시', '불가리아', '멕시코', '이탈리아',\n",
              "       '충북청주시상당구', '전북전주시완산구', '타이', '부천시', '과테말라', '콜롬비아', '에쿠아도르',\n",
              "       '인도네시아', '에콰돌', '에콰도르', '기타외국', '코스타리카', '스페인', '이스라엘'],\n",
              "      dtype=object)"
            ]
          },
          "execution_count": 336,
          "metadata": {},
          "output_type": "execute_result"
        }
      ],
      "source": [
        "df4['state'].unique()"
      ]
    },
    {
      "cell_type": "code",
      "execution_count": 337,
      "metadata": {
        "id": "SsvDFEbgqQjD"
      },
      "outputs": [],
      "source": [
        "# 시,도 제거\n",
        "def name_sort(words):\n",
        "  p = re.compile('[^시도]+')\n",
        "  word = re.search(p,str(words))\n",
        "  return word.group()\n",
        "\n",
        "df4[\"state\"] = df4[\"state\"].apply(name_sort)\n",
        "\n",
        "# 오타도 제거\n",
        "\n",
        "def name_sort2(words):\n",
        "  p = re.compile('[^\\t]+')\n",
        "  word = re.search(p,words)\n",
        "  return word.group()\n",
        "\n",
        "df4[\"state\"] = df4[\"state\"].apply(name_sort2)"
      ]
    },
    {
      "cell_type": "code",
      "execution_count": 338,
      "metadata": {
        "colab": {
          "base_uri": "https://localhost:8080/"
        },
        "id": "JeybBf_fqhqh",
        "outputId": "b5542367-86fe-4c6e-deab-f28f7d1ce6f5"
      },
      "outputs": [
        {
          "data": {
            "text/plain": [
              "array(['경남', '전남', '국내산', '수입', '전북', '제주', '대구', '경기', '광주', '경북', '충남',\n",
              "       '서울', '제주특별자치', '수입산', '미국', '서울특별', '부산', '강원', '전라북', '충북', '인천',\n",
              "       '가락동', '성남', '중국', '대만', '포항', '대전', '베트남', '충청남', '필리핀', '전라남',\n",
              "       '경상남', '청주', '세종', '경북/문경', '태국', '원양산', '인천광역', '뉴질랜드', '울산',\n",
              "       '칠레', '페루', '호주', '오스트레일', '전주', '불가리아', '멕', '이탈리아', '충북청주',\n",
              "       '전북전주', '타이', '부천', '과테말라', '콜롬비아', '에쿠아', '인', '에콰돌', '에콰',\n",
              "       '기타외국', '코스타리카', '스페인', '이스라엘'], dtype=object)"
            ]
          },
          "execution_count": 338,
          "metadata": {},
          "output_type": "execute_result"
        }
      ],
      "source": [
        "df4[\"state\"].unique()"
      ]
    },
    {
      "cell_type": "code",
      "execution_count": 339,
      "metadata": {
        "id": "FDUnVy0e1br6"
      },
      "outputs": [],
      "source": [
        "# state\n",
        "# 특이케이스 제거\n",
        "\n",
        "# 국내\n",
        "df4.loc[df4[\"state\"]==\"국내산\",\"city\"] = \"미상\"\n",
        "df4.loc[df4[\"state\"]==\"국내산\",\"state\"] = \"국산\"\n",
        "df4.loc[df4[\"state\"]==\"원양산\",\"city\"] = \"미상\"\n",
        "\n",
        "## 도단위\n",
        "df4.loc[df4[\"state\"]==\"충청북\",\"state\"] = \"충북\"\n",
        "df4.loc[df4[\"state\"]==\"충청남\",\"state\"] = \"충남\"\n",
        "df4.loc[df4[\"state\"]==\"전라북\",\"state\"] = \"전북\"\n",
        "df4.loc[df4[\"state\"]==\"전라남\",\"state\"] = \"전남\"\n",
        "df4.loc[df4[\"state\"]==\"경상북\",\"state\"] = \"경북\"\n",
        "df4.loc[df4[\"state\"]==\"경상남\",\"state\"] = \"경남\"\n",
        "\n",
        "## 시단위\n",
        "### 광역시\n",
        "\n",
        "df4.loc[df4[\"state\"]==\"대전\",\"city\"] = \"대전\"\n",
        "df4.loc[df4[\"state\"]==\"대구\",\"city\"] = \"대구\"\n",
        "df4.loc[df4[\"state\"]==\"서울특별\",\"city\"] = \"서울\"\n",
        "df4.loc[df4[\"state\"]==\"서울특별\",\"state\"] = \"서울\"\n",
        "df4.loc[df4[\"state\"]==\"인천광역\",\"city\"] = \"인천\"\n",
        "df4.loc[df4[\"state\"]==\"인천광역\",\"state\"] = \"인천\"\n",
        "df4.loc[df4[\"state\"]==\"부산\",\"city\"] = \"부산\"\n",
        "df4.loc[df4[\"state\"]==\"가락동\",\"city\"] = \"서울\"\n",
        "df4.loc[df4[\"state\"]==\"가락동\",\"state\"] = \"서울\"\n",
        "df4.loc[df4[\"state\"]==\"세종\",\"city\"] = \"세종\"\n",
        "df4.loc[df4[\"state\"]==\"대전\",\"city\"] = \"대전\"\n",
        "df4.loc[df4[\"state\"]==\"제주\",\"city\"] = \"제주\"\n",
        "df4.loc[df4[\"state\"]==\"제주특별자치\",\"city\"] = \"제주\"\n",
        "df4.loc[df4[\"state\"]==\"제주특별자치\",\"state\"] = \"제주\"\n",
        "df4.loc[df4[\"state\"]==\"제주특별자\",\"city\"] = \"제주\"\n",
        "df4.loc[df4[\"state\"]==\"제주특별자\",\"state\"] = \"제주\"\n",
        "df4.loc[df4[\"state\"]==\"세종\",\"city\"] = \"세종\"\n",
        "df4.loc[df4[\"state\"]==\"울산\",\"city\"] = \"울산\"\n",
        "df4.loc[df4[\"state\"]==\"울산\",\"state\"] = \"울산\"\n",
        "\n",
        "### 일반시\n",
        "df4.loc[df4[\"state\"]==\"성남\",\"city\"] = \"성남\"\n",
        "df4.loc[df4[\"state\"]==\"성남\",\"state\"] = \"경기\"\n",
        "df4.loc[df4[\"state\"]==\"전주\",\"city\"] = \"전주\"\n",
        "df4.loc[df4[\"state\"]==\"전주\",\"state\"] = \"전북\"\n",
        "df4.loc[df4[\"state\"]==\"청주\",\"city\"] = \"청주\"\n",
        "df4.loc[df4[\"state\"]==\"청주\",\"state\"] = \"충북\"\n",
        "df4.loc[df4[\"state\"]==\"수원\",\"city\"] = \"수원\"\n",
        "df4.loc[df4[\"state\"]==\"수원\",\"state\"] = \"경기\"\n",
        "df4.loc[df4[\"state\"]==\"부천\",\"city\"] = \"부천\"\n",
        "df4.loc[df4[\"state\"]==\"부천\",\"state\"] = \"경기\"\n",
        "df4.loc[df4[\"state\"]==\"경기고양\",\"city\"] = \"고양\"\n",
        "df4.loc[df4[\"state\"]==\"경기고양\",\"state\"] = \"경기\"\n",
        "df4.loc[df4[\"state\"]==\"충북청주\",\"city\"] = \"청주\"\n",
        "df4.loc[df4[\"state\"]==\"충북청주\",\"state\"] = \"충북\"\n",
        "df4.loc[df4[\"state\"]==\"전북전주\",\"city\"] = \"전주\"\n",
        "df4.loc[df4[\"state\"]==\"전북전주\",\"state\"] = \"전북\"\n",
        "df4.loc[df4[\"state\"]==\"경북/문경\",\"city\"] = \"문경\"\n",
        "df4.loc[df4[\"state\"]==\"경북/문경\",\"state\"] = \"경북\"\n",
        "df4.loc[df4[\"state\"]==\"포항\",\"city\"] = \"포항\"\n",
        "df4.loc[df4[\"state\"]==\"포항\",\"state\"] = \"경북\"\n",
        "\n",
        "\n",
        "# 외국\n",
        "## 아시아\n",
        "df4.loc[df4[\"state\"]==\"칠레\",\"city\"] = \"칠레\"\n",
        "df4.loc[df4[\"state\"]==\"칠레\",\"state\"] = \"수입\"\n",
        "df4.loc[df4[\"state\"]==\"일본\",\"city\"] = \"일본\"\n",
        "df4.loc[df4[\"state\"]==\"일본\",\"state\"] = \"수입\"\n",
        "df4.loc[df4[\"state\"]==\"베트남\",\"city\"] = \"베트남\"\n",
        "df4.loc[df4[\"state\"]==\"베트남\",\"state\"] = \"수입\"\n",
        "df4.loc[df4[\"state\"]==\"우즈베크\",\"city\"] = \"우즈베키스탄\"\n",
        "df4.loc[df4[\"state\"]==\"우즈베크\",\"state\"] = \"수입\"\n",
        "df4.loc[df4[\"state\"]==\"이스라엘\",\"city\"] = \"이스라엘\"\n",
        "df4.loc[df4[\"state\"]==\"이스라엘\",\"state\"] = \"수입\"\n",
        "df4.loc[df4[\"state\"]==\"터키\",\"city\"] = \"터키\"\n",
        "df4.loc[df4[\"state\"]==\"터키\",\"state\"] = \"수입\"\n",
        "df4.loc[df4[\"state\"]==\"중국\",\"city\"] = \"중국\"\n",
        "df4.loc[df4[\"state\"]==\"중국\",\"state\"] = \"수입\"\n",
        "df4.loc[df4[\"state\"]==\"타이\",\"city\"] = \"태국\"\n",
        "df4.loc[df4[\"state\"]==\"타이\",\"state\"] = \"수입\"\n",
        "df4.loc[df4[\"state\"]==\"태국\",\"city\"] = \"태국\"\n",
        "df4.loc[df4[\"state\"]==\"태국\",\"state\"] = \"수입\"\n",
        "df4.loc[df4[\"state\"]==\"필리핀\",\"city\"] = \"필리핀\"\n",
        "df4.loc[df4[\"state\"]==\"필리핀\",\"state\"] = \"수입\"\n",
        "df4.loc[df4[\"state\"]==\"우즈베키스탄\",\"city\"] = \"우즈베키스탄\"\n",
        "df4.loc[df4[\"state\"]==\"우즈베키스탄\",\"state\"] = \"수입\"\n",
        "df4.loc[df4[\"state\"]==\"대만\",\"city\"] = \"대만\"\n",
        "df4.loc[df4[\"state\"]==\"대만\",\"state\"] = \"수입\"\n",
        "df4.loc[df4[\"state\"]==\"베트남\",\"city\"] = \"베트남\"\n",
        "df4.loc[df4[\"state\"]==\"베트남\",\"state\"] = \"수입\"\n",
        "df4.loc[df4[\"state\"]==\"이란\",\"city\"] = \"이란\"\n",
        "df4.loc[df4[\"state\"]==\"이란\",\"state\"] = \"수입\"\n",
        "df4.loc[df4[\"state\"]==\"러\",\"city\"] = \"러시아\"\n",
        "df4.loc[df4[\"state\"]==\"러\",\"state\"] = \"수입\"\n",
        "df4.loc[(df4[\"state\"]==\"인\")&(df4[\"origin\"]==\"인도네시아\"),\"city\"] = \"인도네시아\"\n",
        "df4.loc[(df4[\"state\"]==\"인\")&(df4[\"origin\"]==\"인도네시아\"),\"state\"] = \"수입\"\n",
        "df4.loc[(df4[\"state\"]==\"인\")&(df4[\"origin\"]==\"인도\"),\"city\"] = \"인도\"\n",
        "df4.loc[(df4[\"state\"]==\"인\")&(df4[\"origin\"]==\"인도\"),\"state\"] = \"수입\"\n",
        "\n",
        "## 아메리카\n",
        "\n",
        "df4.loc[df4[\"state\"]==\"캘리포니아\",\"city\"] = \"미국\"\n",
        "df4.loc[df4[\"state\"]==\"캘리포니아\",\"state\"] = \"수입\"\n",
        "df4.loc[df4[\"state\"]==\"포클랜드\",\"city\"] = \"영국\"\n",
        "df4.loc[df4[\"state\"]==\"포클랜드\",\"state\"] = \"수입\"\n",
        "df4.loc[df4[\"state\"]==\"콜롬비아\",\"city\"] = \"콜롬비아\"\n",
        "df4.loc[df4[\"state\"]==\"콜롬비아\",\"state\"] = \"수입\"\n",
        "df4.loc[df4[\"state\"]==\"에콰\",\"city\"] = \"에콰도르\"\n",
        "df4.loc[df4[\"state\"]==\"에콰\",\"state\"] = \"수입\"\n",
        "df4.loc[df4[\"state\"]==\"에쿠아\",\"city\"] = \"에콰도르\"\n",
        "df4.loc[df4[\"state\"]==\"에쿠아\",\"state\"] = \"수입\"\n",
        "df4.loc[df4[\"state\"]==\"에콰돌\",\"city\"] = \"에콰도르\"\n",
        "df4.loc[df4[\"state\"]==\"에콰돌\",\"state\"] = \"수입\"\n",
        "df4.loc[df4[\"state\"]==\"과테말라\",\"city\"] = \"과테말라\"\n",
        "df4.loc[df4[\"state\"]==\"과테말라\",\"state\"] = \"수입\"\n",
        "df4.loc[df4[\"state\"]==\"코스타리카\",\"city\"] = \"코스타리카\"\n",
        "df4.loc[df4[\"state\"]==\"코스타리카\",\"state\"] = \"수입\"\n",
        "df4.loc[df4[\"state\"]==\"멕\",\"city\"] = \"멕시코\"\n",
        "df4.loc[df4[\"state\"]==\"멕\",\"state\"] = \"수입\"\n",
        "df4.loc[df4[\"state\"]==\"페루\",\"city\"] = \"페루\"\n",
        "df4.loc[df4[\"state\"]==\"페루\",\"state\"] = \"수입\"\n",
        "df4.loc[df4[\"state\"]==\"미국\",\"city\"] = \"미국\"\n",
        "df4.loc[df4[\"state\"]==\"미국\",\"state\"] = \"수입\"\n",
        "df4.loc[df4[\"state\"]==\"아르헨티나\",\"city\"] = \"아르헨티나\"\n",
        "df4.loc[df4[\"state\"]==\"아르헨티나\",\"state\"] = \"수입\"\n",
        "\n",
        "## 유럽\n",
        "df4.loc[df4[\"state\"]==\"스페인\",\"city\"] = \"스페인\"\n",
        "df4.loc[df4[\"state\"]==\"스페인\",\"state\"] = \"수입\"\n",
        "df4.loc[df4[\"state\"]==\"우크라이나\",\"city\"] = \"우크라이나\"\n",
        "df4.loc[df4[\"state\"]==\"우크라이나\",\"state\"] = \"수입\"\n",
        "df4.loc[df4[\"state\"]==\"이탈리아\",\"city\"] = \"이탈리아\"\n",
        "df4.loc[df4[\"state\"]==\"이탈리아\",\"state\"] = \"수입\"\n",
        "df4.loc[df4[\"state\"]==\"불가리아\",\"city\"] = \"불가리아\"\n",
        "df4.loc[df4[\"state\"]==\"불가리아\",\"state\"] = \"수입\"\n",
        "\n",
        "## 아프리카\n",
        "df4.loc[df4[\"state\"]==\"남아프리카\",\"city\"] = \"남아공\"\n",
        "df4.loc[df4[\"state\"]==\"남아프리카\",\"state\"] = \"수입\"\n",
        "df4.loc[df4[\"state\"]==\"남아프리카공화국\",\"city\"] = \"남아공\"\n",
        "df4.loc[df4[\"state\"]==\"남아프리카공화국\",\"state\"] = \"수입\"\n",
        "df4.loc[df4[\"state\"]==\"수입남아프리카공화국\",\"city\"] = \"남아공\"\n",
        "df4.loc[df4[\"state\"]==\"수입남아프리카공화국\",\"state\"] = \"수입\"\n",
        "\n",
        "\n",
        "## 오세아니아\n",
        "df4.loc[df4[\"state\"]==\"뉴질랜드\",\"city\"] = \"뉴질랜드\"\n",
        "df4.loc[df4[\"state\"]==\"뉴질랜드\",\"state\"] = \"수입\"\n",
        "df4.loc[df4[\"state\"]==\"오스트레일\",\"city\"] = \"호주\"\n",
        "df4.loc[df4[\"state\"]==\"오스트레일\",\"state\"] = \"수입\"\n",
        "df4.loc[df4[\"state\"]==\"오스트레일리아\",\"city\"] = \"호주\"\n",
        "df4.loc[df4[\"state\"]==\"오스트레일리아\",\"state\"] = \"수입\"\n",
        "df4.loc[df4[\"state\"]==\"호주\",\"city\"] = \"호주\"\n",
        "df4.loc[df4[\"state\"]==\"호주\",\"state\"] = \"수입\"\n",
        "df4.loc[df4[\"state\"]==\"통가\",\"city\"] = \"통가\"\n",
        "df4.loc[df4[\"state\"]==\"통가\",\"state\"] = \"수입\"\n",
        "df4.loc[df4[\"state\"]==\"뉴칼레\",\"city\"] = \"뉴칼레도니아\"\n",
        "df4.loc[df4[\"state\"]==\"뉴칼레\",\"state\"] = \"수입\"\n",
        "df4.loc[df4[\"state\"]==\"뉴\",\"city\"] = \"뉴칼레도니아\"\n",
        "df4.loc[df4[\"state\"]==\"뉴\",\"state\"] = \"수입\"\n",
        "df4.loc[df4[\"state\"]==\"누벨칼레\",\"city\"] = \"뉴칼레도니아\"\n",
        "df4.loc[df4[\"state\"]==\"누벨칼레\",\"state\"] = \"수입\"\n",
        "# 기타\n",
        "df4.loc[df4[\"state\"]==\"수입산\",\"state\"] = \"수입\"\n",
        "df4.loc[df4[\"state\"]==\"기타외국\",\"city\"] = \"미상\"\n",
        "df4.loc[df4[\"state\"]==\"기타외국\",\"state\"] = \"수입\""
      ]
    },
    {
      "cell_type": "code",
      "execution_count": 340,
      "metadata": {
        "colab": {
          "base_uri": "https://localhost:8080/"
        },
        "id": "bPMNH6Fz9laX",
        "outputId": "c7ea6abb-e318-4350-9eea-394a56796052"
      },
      "outputs": [
        {
          "data": {
            "text/plain": [
              "array(['경남', '전남', '국산', '수입', '전북', '제주', '대구', '경기', '광주', '경북', '충남',\n",
              "       '서울', '부산', '강원', '충북', '인천', '대전', '세종', '원양산', '울산'],\n",
              "      dtype=object)"
            ]
          },
          "execution_count": 340,
          "metadata": {},
          "output_type": "execute_result"
        }
      ],
      "source": [
        "df4['state'].unique()"
      ]
    },
    {
      "cell_type": "code",
      "execution_count": 341,
      "metadata": {
        "id": "Ih5vw324J-Ed"
      },
      "outputs": [],
      "source": [
        "# city\n",
        "# 우선 결측치 제거\n",
        "df4.loc[df4[\"city\"].isnull(),\"city\"] = \"미상\""
      ]
    },
    {
      "cell_type": "code",
      "execution_count": 342,
      "metadata": {
        "id": "cXY3uABaKSty"
      },
      "outputs": [],
      "source": [
        "# 이후 시,군 등 제거\n",
        "def name_sort(words):\n",
        "  p = re.compile('[^시군]+')\n",
        "  word = re.search(p,words)\n",
        "  return word.group()\n",
        "\n",
        "df4[\"city\"] = df4[\"city\"].apply(name_sort)"
      ]
    },
    {
      "cell_type": "code",
      "execution_count": 343,
      "metadata": {
        "id": "QuyWFOs1R7yP"
      },
      "outputs": [],
      "source": [
        "# \\t 도 제거\n",
        "def name_sort2(words):\n",
        "  p = re.compile('[^\\t]+')\n",
        "  word = re.search(p,words)\n",
        "  return word.group()\n",
        "\n",
        "df4[\"city\"] = df4[\"city\"].apply(name_sort2)"
      ]
    },
    {
      "cell_type": "code",
      "execution_count": 344,
      "metadata": {
        "colab": {
          "base_uri": "https://localhost:8080/"
        },
        "id": "szJvb99ySEPR",
        "outputId": "97ca859c-e684-45b0-f3d0-488abdd6cedf"
      },
      "outputs": [
        {
          "data": {
            "text/plain": [
              "array(['남해', '마산(고성,진해)', '여수', '통영', '미상', '러', '산', '미국', '제주', '대구',\n",
              "       '여주', '김해', '밀양', '광산구', '진주', '창원', '고성', '창녕', '함안', '고령', '상주',\n",
              "       '성주', '나주', '임실', '거제', '익산', '안성', '하남', '이천', '용인', '양평', '전주',\n",
              "       '부여', '광양', '금산', '광주', '의령', '완주', '예산', '강동구', '고흥(나로도)', '삼천포',\n",
              "       '서산', '세네갈', '기타', '중국', '강서구', '담양', '고흥', '산청', '해남', '논산', '평택',\n",
              "       '무안', '서울', '부산', '평창', '홍천', '예천', '당진', '정선', '남원', '부안', '보성',\n",
              "       '태안', '강릉', '화천', '홍성', '구례', '순천', '천안', '포천', '거창', '구미', '김제',\n",
              "       '남구', '곡성', '김천', '횡성', '영천', '인제', '영주', '춘천', '서천', '합천', '원주',\n",
              "       '공주', '남양주', '안동', '중구', '봉화', '청양', '영암', '충주', '칠곡', '문경', '송파구',\n",
              "       '베트남', '장항(서천)', '바레인', '강화', '고창', '아산', '음성', '고양', '마산', '서구',\n",
              "       '하동', '진안', '영동', '강진', '장성', '미추홀구', '성남', '제천', '흥', '양주', '광명',\n",
              "       '안산', '중랑구', '도봉구', '구리', '동대문구', '진천', '양천구', '의왕', '경산', '괴산',\n",
              "       '의정부', '화성', '파주', '신안', '영광', '철원', '영양', '청도', '대만', '포항', '영덕',\n",
              "       '진도', '함평', '목포', '함양', '화순', '순창', '보령', '양양', '김포', '순천(광양)',\n",
              "       '타이', '대전', '사천', '장수', '양산', '인천', '양구', '완도', '북구', '칠레', '의성',\n",
              "       '장흥', '필리핀', '은평구', '연기', '오산', '수원', '가평', '청주', '남동구', '정읍',\n",
              "       '영월', '청원', '보은', '세종', '옥천', '연천', '태백', '계양구', '동해', '부천', '계룡',\n",
              "       '속초', '에콰도르', '페루', '인도', '노르웨이', '캐나다', '경주', '태국', '위', '무주',\n",
              "       '동대문', '부평구', '단양', '전', '뉴질랜드', '울산', '청송', '호주', '서초구', '구로구',\n",
              "       '불가리아', '멕', '이탈리아', '옹진', '캄보디아', '과테말라', '콜롬비아', '인도네', '코스타리카',\n",
              "       '삼척', '스페인', '강남구', '이스라엘'], dtype=object)"
            ]
          },
          "execution_count": 344,
          "metadata": {},
          "output_type": "execute_result"
        }
      ],
      "source": [
        "df4['city'].unique()"
      ]
    },
    {
      "cell_type": "code",
      "execution_count": 345,
      "metadata": {
        "id": "MrIoC_BDQ_ic"
      },
      "outputs": [],
      "source": [
        "# 나머지 케이스 정리\n",
        "\n",
        "# 국내\n",
        "df4.loc[df4[\"city\"]==\"기타\",\"city\"] = \"미상\"\n",
        "## 일반시\n",
        "df4.loc[df4[\"city\"]==\"위\",\"city\"] = \"군위\"\n",
        "df4.loc[df4[\"city\"]==\"고흥(나로도)\",\"city\"] = \"고흥\"\n",
        "df4.loc[df4[\"city\"]==\"산\",\"city\"] = \"군산\"\n",
        "df4.loc[df4[\"city\"]==\"장항(서천)\",\"city\"] = \"서천\"\n",
        "df4.loc[df4[\"city\"]==\"삼천포\",\"city\"] = \"사천\"\n",
        "df4.loc[df4[\"city\"]==\"삼천포\",\"city\"] = \"사천\"\n",
        "df4.loc[df4[\"city\"]==\"순천(광양)\",\"city\"] = \"순천\"\n",
        "df4.loc[df4[\"city\"]==\"대천(보령)\",\"city\"] = \"보령\"\n",
        "df4.loc[df4[\"city\"]==\"대천(보령)\",\"city\"] = \"보령\"\n",
        "df4.loc[df4[\"city\"]==\"화성(평택)\",\"city\"] = \"화성\"\n",
        "df4.loc[df4[\"city\"]==\"흥\",\"city\"] = \"시흥\"\n",
        "df4.loc[df4[\"city\"]==\"목포(무안)\",\"city\"] = \"목포\"\n",
        "df4.loc[df4[\"city\"]==\"목포(무안)\",\"state\"] = \"전남\"\n",
        "df4.loc[df4[\"city\"]==\"미금\",\"city\"] = \"성남\"\n",
        "df4.loc[(df4[\"state\"]==\"전북\")&(df4[\"city\"]==\"남\"),\"city\"] = \"남원\"\n",
        "df4.loc[(df4['prd']==\"호박\") & (df4['state']=='전북'),\"city\"] = \"전주\"\n",
        "## 광역시\n",
        "df4.loc[df4[\"city\"]==\"강서구\",\"city\"] = \"서울\"\n",
        "df4.loc[df4[\"city\"]==\"은평구\",\"city\"] = \"서울\"\n",
        "df4.loc[df4[\"city\"]==\"강동구\",\"city\"] = \"서울\"\n",
        "df4.loc[df4[\"city\"]==\"마포구\",\"city\"] = \"서울\"\n",
        "df4.loc[df4[\"city\"]==\"중구\",\"city\"] = \"서울\"\n",
        "df4.loc[df4[\"city\"]==\"송파구\",\"city\"] = \"서울\"\n",
        "df4.loc[df4[\"city\"]==\"도봉구\",\"city\"] = \"서울\"\n",
        "df4.loc[df4[\"city\"]==\"중랑구\",\"city\"] = \"서울\"\n",
        "df4.loc[df4[\"city\"]==\"양천구\",\"city\"] = \"서울\"\n",
        "df4.loc[df4[\"city\"]==\"성동구\",\"city\"] = \"서울\"\n",
        "df4.loc[df4[\"city\"]==\"강남구\",\"city\"] = \"서울\"\n",
        "df4.loc[df4[\"city\"]==\"동대문구\",\"city\"] = \"서울\"\n",
        "df4.loc[df4[\"city\"]==\"영등포구\",\"city\"] = \"서울\"\n",
        "df4.loc[df4[\"city\"]==\"영등포\",\"city\"] = \"서울\"\n",
        "df4.loc[df4[\"city\"]==\"서초구\",\"city\"] = \"서울\"\n",
        "df4.loc[df4[\"city\"]==\"구로구\",\"city\"] = \"서울\"\n",
        "df4.loc[df4[\"city\"]==\"동대문\",\"city\"] = \"서울\"\n",
        "df4.loc[df4[\"city\"]==\"금천구\",\"city\"] = \"서울\"\n",
        "\n",
        "df4.loc[df4[\"city\"]==\"광산구\",\"city\"] = \"광주\"\n",
        "df4.loc[(df4[\"state\"]==\"광주\")&(df4[\"city\"]==\"남구\"),\"city\"] = \"광주\"\n",
        "df4.loc[(df4[\"state\"]==\"광주\")&(df4[\"city\"]==\"북구\"),\"city\"] = \"광주\"\n",
        "df4.loc[(df4[\"state\"]==\"광주\")&(df4[\"city\"]==\"서구\"),\"city\"] = \"광주\"\n",
        "df4.loc[df4[\"city\"]==\"동구\",\"city\"] = \"광주\"\n",
        "df4.loc[(df4[\"state\"]==\"인천\")&(df4[\"city\"]==\"남구\"),\"city\"] = \"인천\"\n",
        "df4.loc[(df4[\"state\"]==\"인천\")&(df4[\"city\"]==\"서구\"),\"city\"] = \"인천\"\n",
        "df4.loc[df4[\"city\"]==\"미추홀\",\"city\"] = \"인천\"\n",
        "df4.loc[df4[\"city\"]==\"부평구\",\"city\"] = \"인천\"\n",
        "df4.loc[df4[\"city\"]==\"남동구\",\"city\"] = \"인천\"\n",
        "df4.loc[df4[\"city\"]==\"미추홀구\",\"city\"] = \"인천\"\n",
        "df4.loc[df4[\"city\"]==\"계양구\",\"city\"] = \"인천\"\n",
        "df4.loc[df4[\"city\"]==\"마산(고성,진해)\",\"city\"] = \"창원\"\n",
        "df4.loc[(df4[\"state\"]==\"부산\")&(df4[\"city\"]==\"북구\"),\"city\"] = \"부산\"\n",
        "df4.loc[df4[\"city\"]==\"오포\",\"city\"] = \"부산\"\n",
        "df4.loc[df4[\"city\"]==\"부산진\",\"city\"] = \"부산\"\n",
        "df4.loc[df4[\"city\"]==\"사상구\",\"city\"] = \"부산\"\n",
        "df4.loc[df4[\"city\"]==\"부산진구\",\"city\"] = \"부산\"\n",
        "df4.loc[df4[\"city\"]==\"북제주\",\"city\"] = \"제주\"\n",
        "df4.loc[df4[\"city\"]==\"남제주\",\"city\"] = \"제주\"\n",
        "\n",
        "# 해외\n",
        "## 아시아\n",
        "df4.loc[df4[\"city\"]==\"러\",\"city\"] = \"러시아\"\n",
        "df4.loc[df4[\"city\"]==\"말레이지아\",\"city\"] = \"말레이시아\"\n",
        "df4.loc[df4[\"city\"]==\"타이\",\"city\"] = \"태국\"\n",
        "df4.loc[df4[\"city\"]==\"인도네\",\"city\"] = \"인도네시아\"\n",
        "## 아메리카\n",
        "df4.loc[df4[\"city\"]==\"멕\",\"city\"] = \"멕시코\"\n",
        "## 아프리카\n",
        "df4.loc[df4[\"city\"]==\"남아공산\",\"city\"] = \"남아공\"\n",
        "## 유럽\n",
        "## 오세아니아"
      ]
    },
    {
      "cell_type": "code",
      "execution_count": 346,
      "metadata": {},
      "outputs": [
        {
          "data": {
            "text/plain": [
              "array(['불가리아'], dtype=object)"
            ]
          },
          "execution_count": 346,
          "metadata": {},
          "output_type": "execute_result"
        }
      ],
      "source": [
        "# 기존 city 리스트와 비교\n",
        "ex_city = pd.read_csv(\"../cities.csv\")\n",
        "df4[~df4['city'].isin(ex_city['city'])]['city'].unique()"
      ]
    },
    {
      "cell_type": "code",
      "execution_count": 347,
      "metadata": {},
      "outputs": [
        {
          "name": "stderr",
          "output_type": "stream",
          "text": [
            "/var/folders/nq/s4zx76p53d11lnr0t1dxpxh00000gn/T/ipykernel_8411/1856950528.py:3: FutureWarning: The frame.append method is deprecated and will be removed from pandas in a future version. Use pandas.concat instead.\n",
            "  cities = ex_city.append(new_city,ignore_index=True)\n"
          ]
        }
      ],
      "source": [
        "# 리스트 최신화\n",
        "new_city = pd.DataFrame(df4['city'].unique(),columns=['city'])\n",
        "cities = ex_city.append(new_city,ignore_index=True)"
      ]
    },
    {
      "cell_type": "code",
      "execution_count": 348,
      "metadata": {},
      "outputs": [],
      "source": [
        "cities.drop(columns=['Unnamed: 0'],inplace=True)\n",
        "cities.drop_duplicates(inplace=True)\n",
        "cities.reset_index(inplace=True,drop=True)"
      ]
    },
    {
      "cell_type": "code",
      "execution_count": 349,
      "metadata": {},
      "outputs": [
        {
          "data": {
            "text/html": [
              "<div>\n",
              "<style scoped>\n",
              "    .dataframe tbody tr th:only-of-type {\n",
              "        vertical-align: middle;\n",
              "    }\n",
              "\n",
              "    .dataframe tbody tr th {\n",
              "        vertical-align: top;\n",
              "    }\n",
              "\n",
              "    .dataframe thead th {\n",
              "        text-align: right;\n",
              "    }\n",
              "</style>\n",
              "<table border=\"1\" class=\"dataframe\">\n",
              "  <thead>\n",
              "    <tr style=\"text-align: right;\">\n",
              "      <th></th>\n",
              "      <th>city</th>\n",
              "    </tr>\n",
              "  </thead>\n",
              "  <tbody>\n",
              "    <tr>\n",
              "      <th>0</th>\n",
              "      <td>남해</td>\n",
              "    </tr>\n",
              "    <tr>\n",
              "      <th>1</th>\n",
              "      <td>창원</td>\n",
              "    </tr>\n",
              "    <tr>\n",
              "      <th>2</th>\n",
              "      <td>중국</td>\n",
              "    </tr>\n",
              "    <tr>\n",
              "      <th>3</th>\n",
              "      <td>통영</td>\n",
              "    </tr>\n",
              "    <tr>\n",
              "      <th>4</th>\n",
              "      <td>여수</td>\n",
              "    </tr>\n",
              "    <tr>\n",
              "      <th>...</th>\n",
              "      <td>...</td>\n",
              "    </tr>\n",
              "    <tr>\n",
              "      <th>192</th>\n",
              "      <td>연천</td>\n",
              "    </tr>\n",
              "    <tr>\n",
              "      <th>193</th>\n",
              "      <td>칠곡</td>\n",
              "    </tr>\n",
              "    <tr>\n",
              "      <th>194</th>\n",
              "      <td>옹진</td>\n",
              "    </tr>\n",
              "    <tr>\n",
              "      <th>195</th>\n",
              "      <td>캄보디아</td>\n",
              "    </tr>\n",
              "    <tr>\n",
              "      <th>196</th>\n",
              "      <td>불가리아</td>\n",
              "    </tr>\n",
              "  </tbody>\n",
              "</table>\n",
              "<p>197 rows × 1 columns</p>\n",
              "</div>"
            ],
            "text/plain": [
              "     city\n",
              "0      남해\n",
              "1      창원\n",
              "2      중국\n",
              "3      통영\n",
              "4      여수\n",
              "..    ...\n",
              "192    연천\n",
              "193    칠곡\n",
              "194    옹진\n",
              "195  캄보디아\n",
              "196  불가리아\n",
              "\n",
              "[197 rows x 1 columns]"
            ]
          },
          "execution_count": 349,
          "metadata": {},
          "output_type": "execute_result"
        }
      ],
      "source": [
        "cities"
      ]
    },
    {
      "cell_type": "code",
      "execution_count": 350,
      "metadata": {},
      "outputs": [],
      "source": [
        "cities.to_csv('../cities.csv')"
      ]
    },
    {
      "cell_type": "code",
      "execution_count": 351,
      "metadata": {
        "id": "vi6fJirdV7Gz"
      },
      "outputs": [],
      "source": [
        "# 처리 완료하였으니 df4는 백업으로 두고 df5 활용\n",
        "df5 = df4.drop(columns='origin')"
      ]
    },
    {
      "cell_type": "markdown",
      "metadata": {
        "id": "CoWdniywxHwf"
      },
      "source": [
        "# 전처리 결과"
      ]
    },
    {
      "cell_type": "markdown",
      "metadata": {
        "id": "t709mbs6xMkS"
      },
      "source": [
        "# 파일 저장"
      ]
    },
    {
      "cell_type": "code",
      "execution_count": 352,
      "metadata": {
        "id": "tEfggl4M5rFG"
      },
      "outputs": [],
      "source": [
        "df5.to_csv('../data_proceed/202103_proceed.csv')"
      ]
    }
  ],
  "metadata": {
    "colab": {
      "collapsed_sections": [],
      "name": "pre_processing_2022_06.ipynb",
      "provenance": [],
      "toc_visible": true
    },
    "kernelspec": {
      "display_name": "Python 3.8.13 ('yds')",
      "language": "python",
      "name": "python3"
    },
    "language_info": {
      "codemirror_mode": {
        "name": "ipython",
        "version": 3
      },
      "file_extension": ".py",
      "mimetype": "text/x-python",
      "name": "python",
      "nbconvert_exporter": "python",
      "pygments_lexer": "ipython3",
      "version": "3.8.13"
    },
    "vscode": {
      "interpreter": {
        "hash": "edd2e1eeac16ba0124adb27271db416cf5b91db76e0734afe4505ea0738c76e5"
      }
    }
  },
  "nbformat": 4,
  "nbformat_minor": 0
}
