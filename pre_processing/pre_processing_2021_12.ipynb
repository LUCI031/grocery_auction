{
  "cells": [
    {
      "cell_type": "markdown",
      "metadata": {
        "id": "uhJXKN_71HKz"
      },
      "source": [
        "# 개요"
      ]
    },
    {
      "cell_type": "markdown",
      "metadata": {
        "id": "T02KSzGz1iMO"
      },
      "source": [
        "# Prepare"
      ]
    },
    {
      "cell_type": "markdown",
      "metadata": {
        "id": "bfqE9z4W1JQh"
      },
      "source": [
        "# 1. 초기 세팅"
      ]
    },
    {
      "cell_type": "markdown",
      "metadata": {
        "id": "fG4uSp2B1Ph7"
      },
      "source": [
        "## Library & data load"
      ]
    },
    {
      "cell_type": "code",
      "execution_count": 75,
      "metadata": {
        "id": "c2zXAOvOq96i"
      },
      "outputs": [],
      "source": [
        "import pandas as pd\n",
        "import numpy as np\n",
        "import matplotlib.pyplot as plt\n",
        "import seaborn as sns\n",
        "import re"
      ]
    },
    {
      "cell_type": "code",
      "execution_count": 76,
      "metadata": {
        "id": "N6-se2jYrHsw"
      },
      "outputs": [],
      "source": [
        "# 처리용 df와 오리지널 버전 남겨놓음\n",
        "df = pd.read_csv(\"/Users/luci031/Downloads/auction/data_origin/auction_202112.csv\",encoding='euc_kr')\n",
        "org_df = pd.read_csv(\"/Users/luci031/Downloads/auction/data_origin/auction_202112.csv\",encoding='euc_kr')"
      ]
    },
    {
      "cell_type": "markdown",
      "metadata": {
        "id": "yINECbV-4eRb"
      },
      "source": [
        "# Pre-Processing"
      ]
    },
    {
      "cell_type": "markdown",
      "metadata": {
        "id": "OJuFufVP2War"
      },
      "source": [
        "## Basic info"
      ]
    },
    {
      "cell_type": "code",
      "execution_count": 77,
      "metadata": {
        "colab": {
          "base_uri": "https://localhost:8080/",
          "height": 206
        },
        "id": "EE8feVlFr0To",
        "outputId": "cb918bf3-bd0b-4f09-fd92-73d8670996c9"
      },
      "outputs": [
        {
          "data": {
            "text/html": [
              "<div>\n",
              "<style scoped>\n",
              "    .dataframe tbody tr th:only-of-type {\n",
              "        vertical-align: middle;\n",
              "    }\n",
              "\n",
              "    .dataframe tbody tr th {\n",
              "        vertical-align: top;\n",
              "    }\n",
              "\n",
              "    .dataframe thead th {\n",
              "        text-align: right;\n",
              "    }\n",
              "</style>\n",
              "<table border=\"1\" class=\"dataframe\">\n",
              "  <thead>\n",
              "    <tr style=\"text-align: right;\">\n",
              "      <th></th>\n",
              "      <th>품목명</th>\n",
              "      <th>단위</th>\n",
              "      <th>등급</th>\n",
              "      <th>가격</th>\n",
              "      <th>산지</th>\n",
              "      <th>친환경구분</th>\n",
              "      <th>입력일</th>\n",
              "    </tr>\n",
              "  </thead>\n",
              "  <tbody>\n",
              "    <tr>\n",
              "      <th>0</th>\n",
              "      <td>[버섯]버섯(새송이)</td>\n",
              "      <td>2kg</td>\n",
              "      <td>특(1등)</td>\n",
              "      <td>9500</td>\n",
              "      <td>경북 문경시</td>\n",
              "      <td>무농약</td>\n",
              "      <td>20211130</td>\n",
              "    </tr>\n",
              "    <tr>\n",
              "      <th>1</th>\n",
              "      <td>[버섯]버섯(새송이)</td>\n",
              "      <td>2kg</td>\n",
              "      <td>특(1등)</td>\n",
              "      <td>3000</td>\n",
              "      <td>경북 상주시</td>\n",
              "      <td>무농약</td>\n",
              "      <td>20211130</td>\n",
              "    </tr>\n",
              "    <tr>\n",
              "      <th>2</th>\n",
              "      <td>[버섯]버섯(새송이)</td>\n",
              "      <td>4kg</td>\n",
              "      <td>특(1등)</td>\n",
              "      <td>10000</td>\n",
              "      <td>경북 성주군</td>\n",
              "      <td>무농약</td>\n",
              "      <td>20211130</td>\n",
              "    </tr>\n",
              "    <tr>\n",
              "      <th>3</th>\n",
              "      <td>[버섯]버섯(새송이)</td>\n",
              "      <td>4kg</td>\n",
              "      <td>특(1등)</td>\n",
              "      <td>11000</td>\n",
              "      <td>경북 문경시</td>\n",
              "      <td>무농약</td>\n",
              "      <td>20211130</td>\n",
              "    </tr>\n",
              "    <tr>\n",
              "      <th>4</th>\n",
              "      <td>[버섯]버섯(새송이)</td>\n",
              "      <td>2kg</td>\n",
              "      <td>특(1등)</td>\n",
              "      <td>1500</td>\n",
              "      <td>경북 문경시</td>\n",
              "      <td>무농약</td>\n",
              "      <td>20211130</td>\n",
              "    </tr>\n",
              "  </tbody>\n",
              "</table>\n",
              "</div>"
            ],
            "text/plain": [
              "           품목명   단위     등급     가격      산지 친환경구분       입력일\n",
              "0  [버섯]버섯(새송이)  2kg  특(1등)   9500  경북 문경시   무농약  20211130\n",
              "1  [버섯]버섯(새송이)  2kg  특(1등)   3000  경북 상주시   무농약  20211130\n",
              "2  [버섯]버섯(새송이)  4kg  특(1등)  10000  경북 성주군   무농약  20211130\n",
              "3  [버섯]버섯(새송이)  4kg  특(1등)  11000  경북 문경시   무농약  20211130\n",
              "4  [버섯]버섯(새송이)  2kg  특(1등)   1500  경북 문경시   무농약  20211130"
            ]
          },
          "execution_count": 77,
          "metadata": {},
          "output_type": "execute_result"
        }
      ],
      "source": [
        "df.head()"
      ]
    },
    {
      "cell_type": "code",
      "execution_count": 78,
      "metadata": {
        "colab": {
          "base_uri": "https://localhost:8080/"
        },
        "id": "Jf03xK1D1p5Z",
        "outputId": "7cc5158f-76c4-4ca6-e80a-cd60949c1049"
      },
      "outputs": [
        {
          "name": "stdout",
          "output_type": "stream",
          "text": [
            "<class 'pandas.core.frame.DataFrame'>\n",
            "RangeIndex: 455278 entries, 0 to 455277\n",
            "Data columns (total 7 columns):\n",
            " #   Column  Non-Null Count   Dtype \n",
            "---  ------  --------------   ----- \n",
            " 0   품목명     455278 non-null  object\n",
            " 1   단위      455278 non-null  object\n",
            " 2   등급      455278 non-null  object\n",
            " 3   가격      455278 non-null  int64 \n",
            " 4   산지      453936 non-null  object\n",
            " 5   친환경구분   455278 non-null  object\n",
            " 6   입력일     455278 non-null  int64 \n",
            "dtypes: int64(2), object(5)\n",
            "memory usage: 24.3+ MB\n"
          ]
        }
      ],
      "source": [
        "df.info()"
      ]
    },
    {
      "cell_type": "code",
      "execution_count": 79,
      "metadata": {
        "colab": {
          "base_uri": "https://localhost:8080/"
        },
        "id": "R3-Xng6M1om2",
        "outputId": "0071ee93-3ebe-436d-910b-aa30c7356468"
      },
      "outputs": [
        {
          "data": {
            "text/plain": [
              "품목명         0\n",
              "단위          0\n",
              "등급          0\n",
              "가격          0\n",
              "산지       1342\n",
              "친환경구분       0\n",
              "입력일         0\n",
              "dtype: int64"
            ]
          },
          "execution_count": 79,
          "metadata": {},
          "output_type": "execute_result"
        }
      ],
      "source": [
        "# 산지 제외하고는 결측치 없는 것으로 확인\n",
        "df.isnull().sum()"
      ]
    },
    {
      "cell_type": "markdown",
      "metadata": {
        "id": "KiwEMLgv-7KL"
      },
      "source": [
        "- 결측치 처리"
      ]
    },
    {
      "cell_type": "code",
      "execution_count": 80,
      "metadata": {
        "id": "y52OV6yt-60b"
      },
      "outputs": [],
      "source": [
        "###\n",
        "# 양이 많지 않으므로 결측치 제거\n",
        "df = df.dropna(axis=0)"
      ]
    },
    {
      "cell_type": "markdown",
      "metadata": {
        "id": "tWVdZUXv7njQ"
      },
      "source": [
        "- 영문명으로 전환"
      ]
    },
    {
      "cell_type": "code",
      "execution_count": 81,
      "metadata": {
        "id": "Cpc_wblh4oLI"
      },
      "outputs": [],
      "source": [
        "df = df.rename(columns = {'품목명':'prd',\n",
        "                          '단위':'scale','등급':'class',\n",
        "                          '가격':'price',\n",
        "                          '산지':'origin',\n",
        "                          '친환경구분':'eco',\n",
        "                          '입력일':'reg_date'})"
      ]
    },
    {
      "cell_type": "markdown",
      "metadata": {
        "id": "6raN15sn8XwE"
      },
      "source": [
        "## column 별 정보"
      ]
    },
    {
      "cell_type": "markdown",
      "metadata": {
        "id": "9blCj1BqBKl9"
      },
      "source": [
        "### class"
      ]
    },
    {
      "cell_type": "code",
      "execution_count": 82,
      "metadata": {
        "colab": {
          "base_uri": "https://localhost:8080/"
        },
        "id": "trRf-DfuBNBL",
        "outputId": "017ef00e-f7ca-476c-e44a-a847d4881695"
      },
      "outputs": [
        {
          "data": {
            "text/plain": [
              "Index(['특(1등)', '상(2등)', '보통(3등)', '9등(등외)', '없음', '4등', '5등', '6등', '7등',\n",
              "       '8등'],\n",
              "      dtype='object')"
            ]
          },
          "execution_count": 82,
          "metadata": {},
          "output_type": "execute_result"
        }
      ],
      "source": [
        "# 이름 모두 영어로 변경\n",
        "# 9등과 없음 모두 9로 변경\n",
        "df['class'].value_counts().index"
      ]
    },
    {
      "cell_type": "code",
      "execution_count": 83,
      "metadata": {
        "id": "Y9aTlhUSBfU9"
      },
      "outputs": [],
      "source": [
        "df111 = pd.DataFrame([['특(1등)', 1], ['상(2등)',2], ['보통(3등)',3], ['9등(등외)',9], ['없음',9], ['5등',5], ['4등',4], ['6등',6], ['7등',7],['8등',8]],columns=['class','new_class'])"
      ]
    },
    {
      "cell_type": "code",
      "execution_count": 84,
      "metadata": {
        "id": "N4LG6ClLC4II"
      },
      "outputs": [],
      "source": [
        "df2 = df.merge(df111)\n",
        "df2 = df2.drop(columns='class')"
      ]
    },
    {
      "cell_type": "code",
      "execution_count": 85,
      "metadata": {
        "colab": {
          "base_uri": "https://localhost:8080/",
          "height": 423
        },
        "id": "w_BncYpbDQGg",
        "outputId": "6482608e-5fcd-4b4d-b921-e720dec1a560"
      },
      "outputs": [
        {
          "data": {
            "text/html": [
              "<div>\n",
              "<style scoped>\n",
              "    .dataframe tbody tr th:only-of-type {\n",
              "        vertical-align: middle;\n",
              "    }\n",
              "\n",
              "    .dataframe tbody tr th {\n",
              "        vertical-align: top;\n",
              "    }\n",
              "\n",
              "    .dataframe thead th {\n",
              "        text-align: right;\n",
              "    }\n",
              "</style>\n",
              "<table border=\"1\" class=\"dataframe\">\n",
              "  <thead>\n",
              "    <tr style=\"text-align: right;\">\n",
              "      <th></th>\n",
              "      <th>prd</th>\n",
              "      <th>scale</th>\n",
              "      <th>price</th>\n",
              "      <th>origin</th>\n",
              "      <th>eco</th>\n",
              "      <th>reg_date</th>\n",
              "      <th>new_class</th>\n",
              "    </tr>\n",
              "  </thead>\n",
              "  <tbody>\n",
              "    <tr>\n",
              "      <th>0</th>\n",
              "      <td>[버섯]버섯(새송이)</td>\n",
              "      <td>2kg</td>\n",
              "      <td>9500</td>\n",
              "      <td>경북 문경시</td>\n",
              "      <td>무농약</td>\n",
              "      <td>20211130</td>\n",
              "      <td>1</td>\n",
              "    </tr>\n",
              "    <tr>\n",
              "      <th>1</th>\n",
              "      <td>[버섯]버섯(새송이)</td>\n",
              "      <td>2kg</td>\n",
              "      <td>3000</td>\n",
              "      <td>경북 상주시</td>\n",
              "      <td>무농약</td>\n",
              "      <td>20211130</td>\n",
              "      <td>1</td>\n",
              "    </tr>\n",
              "    <tr>\n",
              "      <th>2</th>\n",
              "      <td>[버섯]버섯(새송이)</td>\n",
              "      <td>4kg</td>\n",
              "      <td>10000</td>\n",
              "      <td>경북 성주군</td>\n",
              "      <td>무농약</td>\n",
              "      <td>20211130</td>\n",
              "      <td>1</td>\n",
              "    </tr>\n",
              "    <tr>\n",
              "      <th>3</th>\n",
              "      <td>[버섯]버섯(새송이)</td>\n",
              "      <td>4kg</td>\n",
              "      <td>11000</td>\n",
              "      <td>경북 문경시</td>\n",
              "      <td>무농약</td>\n",
              "      <td>20211130</td>\n",
              "      <td>1</td>\n",
              "    </tr>\n",
              "    <tr>\n",
              "      <th>4</th>\n",
              "      <td>[버섯]버섯(새송이)</td>\n",
              "      <td>2kg</td>\n",
              "      <td>1500</td>\n",
              "      <td>경북 문경시</td>\n",
              "      <td>무농약</td>\n",
              "      <td>20211130</td>\n",
              "      <td>1</td>\n",
              "    </tr>\n",
              "    <tr>\n",
              "      <th>...</th>\n",
              "      <td>...</td>\n",
              "      <td>...</td>\n",
              "      <td>...</td>\n",
              "      <td>...</td>\n",
              "      <td>...</td>\n",
              "      <td>...</td>\n",
              "      <td>...</td>\n",
              "    </tr>\n",
              "    <tr>\n",
              "      <th>453931</th>\n",
              "      <td>[호박]늙은호박</td>\n",
              "      <td>10kg</td>\n",
              "      <td>1000</td>\n",
              "      <td>전남 해남군</td>\n",
              "      <td>일반</td>\n",
              "      <td>20211223</td>\n",
              "      <td>8</td>\n",
              "    </tr>\n",
              "    <tr>\n",
              "      <th>453932</th>\n",
              "      <td>[양파]양파(일반)</td>\n",
              "      <td>15kg</td>\n",
              "      <td>6300</td>\n",
              "      <td>전남 무안군</td>\n",
              "      <td>일반</td>\n",
              "      <td>20211224</td>\n",
              "      <td>8</td>\n",
              "    </tr>\n",
              "    <tr>\n",
              "      <th>453933</th>\n",
              "      <td>[토마토]대저토마토</td>\n",
              "      <td>2.5kg</td>\n",
              "      <td>6000</td>\n",
              "      <td>경남 김해시</td>\n",
              "      <td>일반</td>\n",
              "      <td>20211225</td>\n",
              "      <td>8</td>\n",
              "    </tr>\n",
              "    <tr>\n",
              "      <th>453934</th>\n",
              "      <td>[토마토]대저토마토</td>\n",
              "      <td>2.5kg</td>\n",
              "      <td>9000</td>\n",
              "      <td>경남 김해시</td>\n",
              "      <td>일반</td>\n",
              "      <td>20211228</td>\n",
              "      <td>8</td>\n",
              "    </tr>\n",
              "    <tr>\n",
              "      <th>453935</th>\n",
              "      <td>[양파]양파(일반)</td>\n",
              "      <td>15kg</td>\n",
              "      <td>6600</td>\n",
              "      <td>전남 무안군</td>\n",
              "      <td>일반</td>\n",
              "      <td>20211229</td>\n",
              "      <td>8</td>\n",
              "    </tr>\n",
              "  </tbody>\n",
              "</table>\n",
              "<p>453936 rows × 7 columns</p>\n",
              "</div>"
            ],
            "text/plain": [
              "                prd  scale  price  origin  eco  reg_date  new_class\n",
              "0       [버섯]버섯(새송이)    2kg   9500  경북 문경시  무농약  20211130          1\n",
              "1       [버섯]버섯(새송이)    2kg   3000  경북 상주시  무농약  20211130          1\n",
              "2       [버섯]버섯(새송이)    4kg  10000  경북 성주군  무농약  20211130          1\n",
              "3       [버섯]버섯(새송이)    4kg  11000  경북 문경시  무농약  20211130          1\n",
              "4       [버섯]버섯(새송이)    2kg   1500  경북 문경시  무농약  20211130          1\n",
              "...             ...    ...    ...     ...  ...       ...        ...\n",
              "453931     [호박]늙은호박   10kg   1000  전남 해남군   일반  20211223          8\n",
              "453932   [양파]양파(일반)   15kg   6300  전남 무안군   일반  20211224          8\n",
              "453933   [토마토]대저토마토  2.5kg   6000  경남 김해시   일반  20211225          8\n",
              "453934   [토마토]대저토마토  2.5kg   9000  경남 김해시   일반  20211228          8\n",
              "453935   [양파]양파(일반)   15kg   6600  전남 무안군   일반  20211229          8\n",
              "\n",
              "[453936 rows x 7 columns]"
            ]
          },
          "execution_count": 85,
          "metadata": {},
          "output_type": "execute_result"
        }
      ],
      "source": [
        "df2"
      ]
    },
    {
      "cell_type": "markdown",
      "metadata": {
        "id": "6QhhnXfKWiQL"
      },
      "source": [
        "### eco"
      ]
    },
    {
      "cell_type": "code",
      "execution_count": 86,
      "metadata": {
        "id": "XPNdAWmbWWjy"
      },
      "outputs": [],
      "source": [
        "# 영문명으로 전환\n",
        "# 전환기 -> 유기농 재배로 전환중\n",
        "df2.loc[df2[\"eco\"]==\"일반\",\"eco\"] = \"normal\"\n",
        "df2.loc[df2[\"eco\"]==\"우수농산물\",\"eco\"] = \"\bgood_prd\"\n",
        "df2.loc[df2[\"eco\"]==\"무농약\",\"eco\"] = \"\becofriendly\"\n",
        "df2.loc[df2[\"eco\"]==\"유기농\",\"eco\"] = \"organic\"\n",
        "df2.loc[df2[\"eco\"]==\"품질인증\",\"eco\"] = \"certified\"\n",
        "df2.loc[df2[\"eco\"]==\"전환기\",\"eco\"] = \"ing\""
      ]
    },
    {
      "cell_type": "code",
      "execution_count": 87,
      "metadata": {
        "colab": {
          "base_uri": "https://localhost:8080/",
          "height": 423
        },
        "id": "SFs64qIjYPqG",
        "outputId": "e1d18001-8e23-4db4-c367-d91e111bf6af"
      },
      "outputs": [
        {
          "data": {
            "text/html": [
              "<div>\n",
              "<style scoped>\n",
              "    .dataframe tbody tr th:only-of-type {\n",
              "        vertical-align: middle;\n",
              "    }\n",
              "\n",
              "    .dataframe tbody tr th {\n",
              "        vertical-align: top;\n",
              "    }\n",
              "\n",
              "    .dataframe thead th {\n",
              "        text-align: right;\n",
              "    }\n",
              "</style>\n",
              "<table border=\"1\" class=\"dataframe\">\n",
              "  <thead>\n",
              "    <tr style=\"text-align: right;\">\n",
              "      <th></th>\n",
              "      <th>prd</th>\n",
              "      <th>scale</th>\n",
              "      <th>price</th>\n",
              "      <th>origin</th>\n",
              "      <th>eco</th>\n",
              "      <th>reg_date</th>\n",
              "      <th>new_class</th>\n",
              "    </tr>\n",
              "  </thead>\n",
              "  <tbody>\n",
              "    <tr>\n",
              "      <th>0</th>\n",
              "      <td>[버섯]버섯(새송이)</td>\n",
              "      <td>2kg</td>\n",
              "      <td>9500</td>\n",
              "      <td>경북 문경시</td>\n",
              "      <td>\becofriendly</td>\n",
              "      <td>20211130</td>\n",
              "      <td>1</td>\n",
              "    </tr>\n",
              "    <tr>\n",
              "      <th>1</th>\n",
              "      <td>[버섯]버섯(새송이)</td>\n",
              "      <td>2kg</td>\n",
              "      <td>3000</td>\n",
              "      <td>경북 상주시</td>\n",
              "      <td>\becofriendly</td>\n",
              "      <td>20211130</td>\n",
              "      <td>1</td>\n",
              "    </tr>\n",
              "    <tr>\n",
              "      <th>2</th>\n",
              "      <td>[버섯]버섯(새송이)</td>\n",
              "      <td>4kg</td>\n",
              "      <td>10000</td>\n",
              "      <td>경북 성주군</td>\n",
              "      <td>\becofriendly</td>\n",
              "      <td>20211130</td>\n",
              "      <td>1</td>\n",
              "    </tr>\n",
              "    <tr>\n",
              "      <th>3</th>\n",
              "      <td>[버섯]버섯(새송이)</td>\n",
              "      <td>4kg</td>\n",
              "      <td>11000</td>\n",
              "      <td>경북 문경시</td>\n",
              "      <td>\becofriendly</td>\n",
              "      <td>20211130</td>\n",
              "      <td>1</td>\n",
              "    </tr>\n",
              "    <tr>\n",
              "      <th>4</th>\n",
              "      <td>[버섯]버섯(새송이)</td>\n",
              "      <td>2kg</td>\n",
              "      <td>1500</td>\n",
              "      <td>경북 문경시</td>\n",
              "      <td>\becofriendly</td>\n",
              "      <td>20211130</td>\n",
              "      <td>1</td>\n",
              "    </tr>\n",
              "    <tr>\n",
              "      <th>...</th>\n",
              "      <td>...</td>\n",
              "      <td>...</td>\n",
              "      <td>...</td>\n",
              "      <td>...</td>\n",
              "      <td>...</td>\n",
              "      <td>...</td>\n",
              "      <td>...</td>\n",
              "    </tr>\n",
              "    <tr>\n",
              "      <th>453931</th>\n",
              "      <td>[호박]늙은호박</td>\n",
              "      <td>10kg</td>\n",
              "      <td>1000</td>\n",
              "      <td>전남 해남군</td>\n",
              "      <td>normal</td>\n",
              "      <td>20211223</td>\n",
              "      <td>8</td>\n",
              "    </tr>\n",
              "    <tr>\n",
              "      <th>453932</th>\n",
              "      <td>[양파]양파(일반)</td>\n",
              "      <td>15kg</td>\n",
              "      <td>6300</td>\n",
              "      <td>전남 무안군</td>\n",
              "      <td>normal</td>\n",
              "      <td>20211224</td>\n",
              "      <td>8</td>\n",
              "    </tr>\n",
              "    <tr>\n",
              "      <th>453933</th>\n",
              "      <td>[토마토]대저토마토</td>\n",
              "      <td>2.5kg</td>\n",
              "      <td>6000</td>\n",
              "      <td>경남 김해시</td>\n",
              "      <td>normal</td>\n",
              "      <td>20211225</td>\n",
              "      <td>8</td>\n",
              "    </tr>\n",
              "    <tr>\n",
              "      <th>453934</th>\n",
              "      <td>[토마토]대저토마토</td>\n",
              "      <td>2.5kg</td>\n",
              "      <td>9000</td>\n",
              "      <td>경남 김해시</td>\n",
              "      <td>normal</td>\n",
              "      <td>20211228</td>\n",
              "      <td>8</td>\n",
              "    </tr>\n",
              "    <tr>\n",
              "      <th>453935</th>\n",
              "      <td>[양파]양파(일반)</td>\n",
              "      <td>15kg</td>\n",
              "      <td>6600</td>\n",
              "      <td>전남 무안군</td>\n",
              "      <td>normal</td>\n",
              "      <td>20211229</td>\n",
              "      <td>8</td>\n",
              "    </tr>\n",
              "  </tbody>\n",
              "</table>\n",
              "<p>453936 rows × 7 columns</p>\n",
              "</div>"
            ],
            "text/plain": [
              "                prd  scale  price  origin           eco  reg_date  new_class\n",
              "0       [버섯]버섯(새송이)    2kg   9500  경북 문경시  \becofriendly  20211130          1\n",
              "1       [버섯]버섯(새송이)    2kg   3000  경북 상주시  \becofriendly  20211130          1\n",
              "2       [버섯]버섯(새송이)    4kg  10000  경북 성주군  \becofriendly  20211130          1\n",
              "3       [버섯]버섯(새송이)    4kg  11000  경북 문경시  \becofriendly  20211130          1\n",
              "4       [버섯]버섯(새송이)    2kg   1500  경북 문경시  \becofriendly  20211130          1\n",
              "...             ...    ...    ...     ...           ...       ...        ...\n",
              "453931     [호박]늙은호박   10kg   1000  전남 해남군        normal  20211223          8\n",
              "453932   [양파]양파(일반)   15kg   6300  전남 무안군        normal  20211224          8\n",
              "453933   [토마토]대저토마토  2.5kg   6000  경남 김해시        normal  20211225          8\n",
              "453934   [토마토]대저토마토  2.5kg   9000  경남 김해시        normal  20211228          8\n",
              "453935   [양파]양파(일반)   15kg   6600  전남 무안군        normal  20211229          8\n",
              "\n",
              "[453936 rows x 7 columns]"
            ]
          },
          "execution_count": 87,
          "metadata": {},
          "output_type": "execute_result"
        }
      ],
      "source": [
        "df2"
      ]
    },
    {
      "cell_type": "markdown",
      "metadata": {
        "id": "ffhjwT57YNLh"
      },
      "source": [
        "### reg_date"
      ]
    },
    {
      "cell_type": "code",
      "execution_count": 88,
      "metadata": {
        "id": "0xEJoswCYUiR"
      },
      "outputs": [],
      "source": [
        "df2['reg_date'] = df2['reg_date'].astype('str')"
      ]
    },
    {
      "cell_type": "code",
      "execution_count": 89,
      "metadata": {
        "id": "7eMsOdHaqa7H"
      },
      "outputs": [],
      "source": [
        "df2['reg_date'] = pd.to_datetime(df2['reg_date'].astype('str'),format='%Y%m%d')"
      ]
    },
    {
      "cell_type": "code",
      "execution_count": 90,
      "metadata": {
        "colab": {
          "base_uri": "https://localhost:8080/",
          "height": 423
        },
        "id": "4OJlA07go6Vm",
        "outputId": "775611cd-2a30-4603-90e5-ac782aea1678"
      },
      "outputs": [
        {
          "data": {
            "text/html": [
              "<div>\n",
              "<style scoped>\n",
              "    .dataframe tbody tr th:only-of-type {\n",
              "        vertical-align: middle;\n",
              "    }\n",
              "\n",
              "    .dataframe tbody tr th {\n",
              "        vertical-align: top;\n",
              "    }\n",
              "\n",
              "    .dataframe thead th {\n",
              "        text-align: right;\n",
              "    }\n",
              "</style>\n",
              "<table border=\"1\" class=\"dataframe\">\n",
              "  <thead>\n",
              "    <tr style=\"text-align: right;\">\n",
              "      <th></th>\n",
              "      <th>prd</th>\n",
              "      <th>scale</th>\n",
              "      <th>price</th>\n",
              "      <th>origin</th>\n",
              "      <th>eco</th>\n",
              "      <th>reg_date</th>\n",
              "      <th>new_class</th>\n",
              "    </tr>\n",
              "  </thead>\n",
              "  <tbody>\n",
              "    <tr>\n",
              "      <th>0</th>\n",
              "      <td>[버섯]버섯(새송이)</td>\n",
              "      <td>2kg</td>\n",
              "      <td>9500</td>\n",
              "      <td>경북 문경시</td>\n",
              "      <td>\becofriendly</td>\n",
              "      <td>2021-11-30</td>\n",
              "      <td>1</td>\n",
              "    </tr>\n",
              "    <tr>\n",
              "      <th>1</th>\n",
              "      <td>[버섯]버섯(새송이)</td>\n",
              "      <td>2kg</td>\n",
              "      <td>3000</td>\n",
              "      <td>경북 상주시</td>\n",
              "      <td>\becofriendly</td>\n",
              "      <td>2021-11-30</td>\n",
              "      <td>1</td>\n",
              "    </tr>\n",
              "    <tr>\n",
              "      <th>2</th>\n",
              "      <td>[버섯]버섯(새송이)</td>\n",
              "      <td>4kg</td>\n",
              "      <td>10000</td>\n",
              "      <td>경북 성주군</td>\n",
              "      <td>\becofriendly</td>\n",
              "      <td>2021-11-30</td>\n",
              "      <td>1</td>\n",
              "    </tr>\n",
              "    <tr>\n",
              "      <th>3</th>\n",
              "      <td>[버섯]버섯(새송이)</td>\n",
              "      <td>4kg</td>\n",
              "      <td>11000</td>\n",
              "      <td>경북 문경시</td>\n",
              "      <td>\becofriendly</td>\n",
              "      <td>2021-11-30</td>\n",
              "      <td>1</td>\n",
              "    </tr>\n",
              "    <tr>\n",
              "      <th>4</th>\n",
              "      <td>[버섯]버섯(새송이)</td>\n",
              "      <td>2kg</td>\n",
              "      <td>1500</td>\n",
              "      <td>경북 문경시</td>\n",
              "      <td>\becofriendly</td>\n",
              "      <td>2021-11-30</td>\n",
              "      <td>1</td>\n",
              "    </tr>\n",
              "    <tr>\n",
              "      <th>...</th>\n",
              "      <td>...</td>\n",
              "      <td>...</td>\n",
              "      <td>...</td>\n",
              "      <td>...</td>\n",
              "      <td>...</td>\n",
              "      <td>...</td>\n",
              "      <td>...</td>\n",
              "    </tr>\n",
              "    <tr>\n",
              "      <th>453931</th>\n",
              "      <td>[호박]늙은호박</td>\n",
              "      <td>10kg</td>\n",
              "      <td>1000</td>\n",
              "      <td>전남 해남군</td>\n",
              "      <td>normal</td>\n",
              "      <td>2021-12-23</td>\n",
              "      <td>8</td>\n",
              "    </tr>\n",
              "    <tr>\n",
              "      <th>453932</th>\n",
              "      <td>[양파]양파(일반)</td>\n",
              "      <td>15kg</td>\n",
              "      <td>6300</td>\n",
              "      <td>전남 무안군</td>\n",
              "      <td>normal</td>\n",
              "      <td>2021-12-24</td>\n",
              "      <td>8</td>\n",
              "    </tr>\n",
              "    <tr>\n",
              "      <th>453933</th>\n",
              "      <td>[토마토]대저토마토</td>\n",
              "      <td>2.5kg</td>\n",
              "      <td>6000</td>\n",
              "      <td>경남 김해시</td>\n",
              "      <td>normal</td>\n",
              "      <td>2021-12-25</td>\n",
              "      <td>8</td>\n",
              "    </tr>\n",
              "    <tr>\n",
              "      <th>453934</th>\n",
              "      <td>[토마토]대저토마토</td>\n",
              "      <td>2.5kg</td>\n",
              "      <td>9000</td>\n",
              "      <td>경남 김해시</td>\n",
              "      <td>normal</td>\n",
              "      <td>2021-12-28</td>\n",
              "      <td>8</td>\n",
              "    </tr>\n",
              "    <tr>\n",
              "      <th>453935</th>\n",
              "      <td>[양파]양파(일반)</td>\n",
              "      <td>15kg</td>\n",
              "      <td>6600</td>\n",
              "      <td>전남 무안군</td>\n",
              "      <td>normal</td>\n",
              "      <td>2021-12-29</td>\n",
              "      <td>8</td>\n",
              "    </tr>\n",
              "  </tbody>\n",
              "</table>\n",
              "<p>453936 rows × 7 columns</p>\n",
              "</div>"
            ],
            "text/plain": [
              "                prd  scale  price  origin           eco   reg_date  new_class\n",
              "0       [버섯]버섯(새송이)    2kg   9500  경북 문경시  \becofriendly 2021-11-30          1\n",
              "1       [버섯]버섯(새송이)    2kg   3000  경북 상주시  \becofriendly 2021-11-30          1\n",
              "2       [버섯]버섯(새송이)    4kg  10000  경북 성주군  \becofriendly 2021-11-30          1\n",
              "3       [버섯]버섯(새송이)    4kg  11000  경북 문경시  \becofriendly 2021-11-30          1\n",
              "4       [버섯]버섯(새송이)    2kg   1500  경북 문경시  \becofriendly 2021-11-30          1\n",
              "...             ...    ...    ...     ...           ...        ...        ...\n",
              "453931     [호박]늙은호박   10kg   1000  전남 해남군        normal 2021-12-23          8\n",
              "453932   [양파]양파(일반)   15kg   6300  전남 무안군        normal 2021-12-24          8\n",
              "453933   [토마토]대저토마토  2.5kg   6000  경남 김해시        normal 2021-12-25          8\n",
              "453934   [토마토]대저토마토  2.5kg   9000  경남 김해시        normal 2021-12-28          8\n",
              "453935   [양파]양파(일반)   15kg   6600  전남 무안군        normal 2021-12-29          8\n",
              "\n",
              "[453936 rows x 7 columns]"
            ]
          },
          "execution_count": 90,
          "metadata": {},
          "output_type": "execute_result"
        }
      ],
      "source": [
        "df2"
      ]
    },
    {
      "cell_type": "markdown",
      "metadata": {
        "id": "VN8Eana_Dbbl"
      },
      "source": [
        "### price"
      ]
    },
    {
      "cell_type": "code",
      "execution_count": 91,
      "metadata": {
        "id": "oZbejw0vewmJ"
      },
      "outputs": [],
      "source": [
        "# 계산을 위해 scale 값 미리 변경\n",
        "# 현재 값들은 string이므로 float 형태로 변환할 필요가 있음\n",
        "# 몇몇 이상치 처리도 진행\n",
        "def scale_checker(scale):\n",
        "  if scale.startswith('.')==True:\n",
        "    return format(float('0'+scale[:-2]),'.2f')\n",
        "  else:\n",
        "    return format(float((scale[:-2])),'.2f')\n",
        "df2['scale'] = df2['scale'].apply(scale_checker)\n",
        "df2['scale'] = df2['scale'].astype('float')\n",
        "# df2['scale'] = format(round(df2['scale'].apply(pd.to_numeric),2),'.2f')"
      ]
    },
    {
      "cell_type": "code",
      "execution_count": 92,
      "metadata": {},
      "outputs": [
        {
          "data": {
            "text/plain": [
              "array([    2.  ,     4.  ,     1.5 ,     0.5 ,     0.15,     5.  ,\n",
              "           8.  ,     3.  ,     9.  ,    20.  ,    17.  ,    10.  ,\n",
              "          19.  ,    18.  ,    11.  ,     7.  ,    15.  ,    16.  ,\n",
              "          21.  ,    12.  ,    14.  ,     1.  ,     0.9 ,    13.  ,\n",
              "          22.  ,     0.2 ,     6.  ,     1.2 ,     0.7 ,     2.5 ,\n",
              "           1.8 ,     0.4 ,     3.6 ,    75.  ,    71.6 ,    87.34,\n",
              "           3.5 ,     9.7 ,     0.3 ,    25.  ,     0.25,     0.1 ,\n",
              "           0.6 ,     5.6 ,     0.8 ,    11.5 ,     1.6 ,     8.6 ,\n",
              "           8.2 ,     5.01,    10.4 ,     4.5 ,    11.2 ,     7.5 ,\n",
              "          32.  ,    33.  ,    14.4 ,     3.8 ,     0.06,     0.05,\n",
              "           3.2 ,     2.4 ,     4.6 ,     2.01,     1.01, 10000.  ,\n",
              "          13.5 ,     5.2 ,    28.  ,    47.  ,     8.5 ,     9.5 ,\n",
              "          16.8 ,     9.6 ,     8.75,    22.4 ,    23.  ,     2.7 ,\n",
              "           2.6 ,    10.01,     6.4 ,     4.8 ,     0.16,     3.7 ,\n",
              "           5.5 ,     8.01,    24.  ,    27.  ,    30.  ,    17.23,\n",
              "           2.8 ,     3.4 ,     4.9 ,     0.72,     0.62,     6.5 ,\n",
              "           0.12,     1.3 ,     7.2 ,     4.3 ,    12.5 ,    17.5 ,\n",
              "           2.3 ,     4.7 ,     2.2 ,     2.1 ,    10.5 ,     5.7 ,\n",
              "           4.4 ,     7.6 ,    11.25,     3.1 ,     3.9 ,    12.4 ,\n",
              "          13.3 ,    11.7 ,     0.01,     5.1 ,     5.8 ,     0.07,\n",
              "           8.8 ,    26.  ,     5.4 ,    11.4 ,     9.8 ,    40.  ,\n",
              "          13.4 ,    11.6 ,     3.3 ,     5.3 ,     2.9 ,     0.85,\n",
              "         100.  ,    12.75,  5000.  ,     2.79,     3.39,    15.5 ,\n",
              "          16.64,    16.6 ,    13.2 ,     7.3 ,    17.2 ,    17.6 ,\n",
              "          43.  ,    10.8 ,    24.8 ,    18.4 ,    14.8 ,     0.03,\n",
              "          19.6 ,    13.7 ,    15.3 ,    13.75,    13.6 ,    83.  ,\n",
              "          52.  ,    14.08,    12.8 ,     9.75,    58.  ,     8.4 ,\n",
              "           0.75,    65.  ,    14.85,    19.2 ,    14.25,     1.25,\n",
              "          11.3 ,     6.3 ,     9.2 ,    18.9 ,     3.67,     6.7 ,\n",
              "           0.08,    35.  ,    10.2 ,    13.1 ,     6.6 ,     1.7 ,\n",
              "           6.9 ,    88.4 ,    76.5 ,    87.5 ,    78.9 ,    38.  ,\n",
              "           0.35,     0.59,    15.6 ,    69.7 ,    66.1 ,    84.1 ,\n",
              "          70.9 ,    80.4 ,    71.1 ,     9.1 ,    21.5 ,    22.5 ,\n",
              "           1.1 ,     1.9 ,    57.7 ,     2.16,     1.4 ,     1.54,\n",
              "           7.8 ,    76.  ,     9.3 ,    12.6 ,     0.78,    13.8 ,\n",
              "          30.2 ,    30.3 ,     3.56,    18.5 ,    59.9 ,     4.2 ,\n",
              "          60.  ,     4.35,    25.5 ,    24.5 ,    33.8 ,    10.7 ,\n",
              "          70.4 ,    75.4 ,    78.1 ,    66.9 ,    31.  ,     4.1 ,\n",
              "           2.56,     9.19,    14.5 ,     6.8 ,     6.2 ])"
            ]
          },
          "execution_count": 92,
          "metadata": {},
          "output_type": "execute_result"
        }
      ],
      "source": [
        "df2['scale'].unique()"
      ]
    },
    {
      "cell_type": "code",
      "execution_count": 93,
      "metadata": {
        "colab": {
          "base_uri": "https://localhost:8080/"
        },
        "id": "S_OXk_iDDaxM",
        "outputId": "df40b3b5-b8d5-4609-b1d1-d940826ff6bf"
      },
      "outputs": [
        {
          "data": {
            "text/plain": [
              "count     453936.00000\n",
              "mean       28328.56650\n",
              "std       162798.82192\n",
              "min           43.00000\n",
              "25%         9000.00000\n",
              "50%        17500.00000\n",
              "75%        30500.00000\n",
              "max     57960000.00000\n",
              "Name: price, dtype: float64"
            ]
          },
          "execution_count": 93,
          "metadata": {},
          "output_type": "execute_result"
        }
      ],
      "source": [
        "# 1원짜리 거래 발견, 너무 거래값이 작은 값들은 삭제\n",
        "pd.options.display.float_format = '{:.5f}'.format\n",
        "df2['price'].describe()"
      ]
    },
    {
      "cell_type": "code",
      "execution_count": 94,
      "metadata": {
        "id": "PQrLwgHPVsHs"
      },
      "outputs": [],
      "source": [
        "df2 = df2.drop(df2[df2['price']<500].index)"
      ]
    },
    {
      "cell_type": "code",
      "execution_count": 95,
      "metadata": {
        "colab": {
          "base_uri": "https://localhost:8080/",
          "height": 423
        },
        "id": "h8uaY01ADasA",
        "outputId": "228f08e1-3d13-41cf-ae61-c672904e5fc6"
      },
      "outputs": [
        {
          "data": {
            "text/html": [
              "<div>\n",
              "<style scoped>\n",
              "    .dataframe tbody tr th:only-of-type {\n",
              "        vertical-align: middle;\n",
              "    }\n",
              "\n",
              "    .dataframe tbody tr th {\n",
              "        vertical-align: top;\n",
              "    }\n",
              "\n",
              "    .dataframe thead th {\n",
              "        text-align: right;\n",
              "    }\n",
              "</style>\n",
              "<table border=\"1\" class=\"dataframe\">\n",
              "  <thead>\n",
              "    <tr style=\"text-align: right;\">\n",
              "      <th></th>\n",
              "      <th>prd</th>\n",
              "      <th>scale</th>\n",
              "      <th>price</th>\n",
              "      <th>origin</th>\n",
              "      <th>eco</th>\n",
              "      <th>reg_date</th>\n",
              "      <th>new_class</th>\n",
              "    </tr>\n",
              "  </thead>\n",
              "  <tbody>\n",
              "    <tr>\n",
              "      <th>0</th>\n",
              "      <td>[버섯]버섯(새송이)</td>\n",
              "      <td>2.00000</td>\n",
              "      <td>9500</td>\n",
              "      <td>경북 문경시</td>\n",
              "      <td>\becofriendly</td>\n",
              "      <td>2021-11-30</td>\n",
              "      <td>1</td>\n",
              "    </tr>\n",
              "    <tr>\n",
              "      <th>1</th>\n",
              "      <td>[버섯]버섯(새송이)</td>\n",
              "      <td>2.00000</td>\n",
              "      <td>3000</td>\n",
              "      <td>경북 상주시</td>\n",
              "      <td>\becofriendly</td>\n",
              "      <td>2021-11-30</td>\n",
              "      <td>1</td>\n",
              "    </tr>\n",
              "    <tr>\n",
              "      <th>2</th>\n",
              "      <td>[버섯]버섯(새송이)</td>\n",
              "      <td>4.00000</td>\n",
              "      <td>10000</td>\n",
              "      <td>경북 성주군</td>\n",
              "      <td>\becofriendly</td>\n",
              "      <td>2021-11-30</td>\n",
              "      <td>1</td>\n",
              "    </tr>\n",
              "    <tr>\n",
              "      <th>3</th>\n",
              "      <td>[버섯]버섯(새송이)</td>\n",
              "      <td>4.00000</td>\n",
              "      <td>11000</td>\n",
              "      <td>경북 문경시</td>\n",
              "      <td>\becofriendly</td>\n",
              "      <td>2021-11-30</td>\n",
              "      <td>1</td>\n",
              "    </tr>\n",
              "    <tr>\n",
              "      <th>4</th>\n",
              "      <td>[버섯]버섯(새송이)</td>\n",
              "      <td>2.00000</td>\n",
              "      <td>1500</td>\n",
              "      <td>경북 문경시</td>\n",
              "      <td>\becofriendly</td>\n",
              "      <td>2021-11-30</td>\n",
              "      <td>1</td>\n",
              "    </tr>\n",
              "    <tr>\n",
              "      <th>...</th>\n",
              "      <td>...</td>\n",
              "      <td>...</td>\n",
              "      <td>...</td>\n",
              "      <td>...</td>\n",
              "      <td>...</td>\n",
              "      <td>...</td>\n",
              "      <td>...</td>\n",
              "    </tr>\n",
              "    <tr>\n",
              "      <th>453931</th>\n",
              "      <td>[호박]늙은호박</td>\n",
              "      <td>10.00000</td>\n",
              "      <td>1000</td>\n",
              "      <td>전남 해남군</td>\n",
              "      <td>normal</td>\n",
              "      <td>2021-12-23</td>\n",
              "      <td>8</td>\n",
              "    </tr>\n",
              "    <tr>\n",
              "      <th>453932</th>\n",
              "      <td>[양파]양파(일반)</td>\n",
              "      <td>15.00000</td>\n",
              "      <td>6300</td>\n",
              "      <td>전남 무안군</td>\n",
              "      <td>normal</td>\n",
              "      <td>2021-12-24</td>\n",
              "      <td>8</td>\n",
              "    </tr>\n",
              "    <tr>\n",
              "      <th>453933</th>\n",
              "      <td>[토마토]대저토마토</td>\n",
              "      <td>2.50000</td>\n",
              "      <td>6000</td>\n",
              "      <td>경남 김해시</td>\n",
              "      <td>normal</td>\n",
              "      <td>2021-12-25</td>\n",
              "      <td>8</td>\n",
              "    </tr>\n",
              "    <tr>\n",
              "      <th>453934</th>\n",
              "      <td>[토마토]대저토마토</td>\n",
              "      <td>2.50000</td>\n",
              "      <td>9000</td>\n",
              "      <td>경남 김해시</td>\n",
              "      <td>normal</td>\n",
              "      <td>2021-12-28</td>\n",
              "      <td>8</td>\n",
              "    </tr>\n",
              "    <tr>\n",
              "      <th>453935</th>\n",
              "      <td>[양파]양파(일반)</td>\n",
              "      <td>15.00000</td>\n",
              "      <td>6600</td>\n",
              "      <td>전남 무안군</td>\n",
              "      <td>normal</td>\n",
              "      <td>2021-12-29</td>\n",
              "      <td>8</td>\n",
              "    </tr>\n",
              "  </tbody>\n",
              "</table>\n",
              "<p>453487 rows × 7 columns</p>\n",
              "</div>"
            ],
            "text/plain": [
              "                prd    scale  price  origin           eco   reg_date  \\\n",
              "0       [버섯]버섯(새송이)  2.00000   9500  경북 문경시  \becofriendly 2021-11-30   \n",
              "1       [버섯]버섯(새송이)  2.00000   3000  경북 상주시  \becofriendly 2021-11-30   \n",
              "2       [버섯]버섯(새송이)  4.00000  10000  경북 성주군  \becofriendly 2021-11-30   \n",
              "3       [버섯]버섯(새송이)  4.00000  11000  경북 문경시  \becofriendly 2021-11-30   \n",
              "4       [버섯]버섯(새송이)  2.00000   1500  경북 문경시  \becofriendly 2021-11-30   \n",
              "...             ...      ...    ...     ...           ...        ...   \n",
              "453931     [호박]늙은호박 10.00000   1000  전남 해남군        normal 2021-12-23   \n",
              "453932   [양파]양파(일반) 15.00000   6300  전남 무안군        normal 2021-12-24   \n",
              "453933   [토마토]대저토마토  2.50000   6000  경남 김해시        normal 2021-12-25   \n",
              "453934   [토마토]대저토마토  2.50000   9000  경남 김해시        normal 2021-12-28   \n",
              "453935   [양파]양파(일반) 15.00000   6600  전남 무안군        normal 2021-12-29   \n",
              "\n",
              "        new_class  \n",
              "0               1  \n",
              "1               1  \n",
              "2               1  \n",
              "3               1  \n",
              "4               1  \n",
              "...           ...  \n",
              "453931          8  \n",
              "453932          8  \n",
              "453933          8  \n",
              "453934          8  \n",
              "453935          8  \n",
              "\n",
              "[453487 rows x 7 columns]"
            ]
          },
          "execution_count": 95,
          "metadata": {},
          "output_type": "execute_result"
        }
      ],
      "source": [
        "df2"
      ]
    },
    {
      "cell_type": "code",
      "execution_count": 96,
      "metadata": {
        "id": "13Js-KtTBZB5"
      },
      "outputs": [],
      "source": [
        "# kg 당 가격 생성\n",
        "\n",
        "df2['price_kg'] = round((df2['price']/df2['scale']),2)"
      ]
    },
    {
      "cell_type": "markdown",
      "metadata": {
        "id": "FJ4jjRUQ8cB3"
      },
      "source": [
        "### prd\n",
        "- 품목명 정리\n",
        "- 품목 종류 정리"
      ]
    },
    {
      "cell_type": "code",
      "execution_count": 97,
      "metadata": {
        "colab": {
          "base_uri": "https://localhost:8080/"
        },
        "id": "pymqNuDt8qqS",
        "outputId": "1506a365-b491-4b16-f40f-4d63980bc22f"
      },
      "outputs": [
        {
          "data": {
            "text/plain": [
              "[딸기]설향              13630\n",
              "[오이]백다다기            10755\n",
              "[딸기]설향(딸기)           8593\n",
              "[호박]애호박              7704\n",
              "[깻잎]깻잎               6633\n",
              "                    ...  \n",
              "[취나물]돗나물(일반)            1\n",
              "[기타양채]청콜라비              1\n",
              "[피망(단고추)]파프리카(청)        1\n",
              "[피망]파프리카(기타)            1\n",
              "[버섯]건목이버섯               1\n",
              "Name: prd, Length: 1273, dtype: int64"
            ]
          },
          "execution_count": 97,
          "metadata": {},
          "output_type": "execute_result"
        }
      ],
      "source": [
        "# 대부분 [상품 종류]상품명 으로 정리되어 있는걸 알 수 있음\n",
        "df2['prd'].value_counts()"
      ]
    },
    {
      "cell_type": "code",
      "execution_count": 98,
      "metadata": {
        "id": "EKmhi36getHp"
      },
      "outputs": [],
      "source": [
        "# 정리를 위해 상품명 삭제\n",
        "def prd_sort(words):\n",
        "  p = re.compile('[ㄱ-힣]+')\n",
        "  word = re.search(p,words)\n",
        "  return word.group()\n",
        "\n",
        "df2['prd'] = df2['prd'].apply(prd_sort)"
      ]
    },
    {
      "cell_type": "code",
      "execution_count": 99,
      "metadata": {
        "id": "mlsCXSXMekGg"
      },
      "outputs": [],
      "source": [
        "# 기타 품목 삭제\n",
        "df2 = df2.drop(df2[df2['prd']=='기타'].index)"
      ]
    },
    {
      "cell_type": "code",
      "execution_count": 100,
      "metadata": {
        "id": "fZ8b4ETrDv5n"
      },
      "outputs": [],
      "source": [
        "# 국산,수입산,깐,기타 삭제\n",
        "def prd_sort2(words):\n",
        "  p = re.compile('[^국산수입깐기타]+')\n",
        "  word = re.search(p,str(words))\n",
        "  return word.group()\n",
        "\n",
        "df2[\"prd\"] = df2[\"prd\"].apply(prd_sort2)\n"
      ]
    },
    {
      "cell_type": "code",
      "execution_count": 101,
      "metadata": {
        "colab": {
          "base_uri": "https://localhost:8080/"
        },
        "id": "0UO78EhtVlgj",
        "outputId": "08424baf-f96a-4573-d9fc-c6f751228e63"
      },
      "outputs": [
        {
          "name": "stdout",
          "output_type": "stream",
          "text": [
            "가리비 \n",
            "가물치 가오리 가오리채 가자미 가지 각굴 갈치 감 감귤 감말랭이 감자 갑오징어 갓 강낭콩 개불 \n",
            "개조개 갯가재 갯장어 건고추 게 게지 겨자 고 고구마 고구마순 고둥 고들빼 고등어 고추 고추잎 \n",
            "곤달비 골뱅이 곶감 과실류 과일 과일류 과채 굴 귤 그레이프푸룻 근대 근채류 금감 김 깻잎 \n",
            "꼬막 꼴뚜 꽁치 꽈리고추 낙지 냉이 논우렁이 눈볼대 느 다래 단감 달래 닭새우 당귀 당근 \n",
            "대구 대구고니 대구머리 대구알 대구포 대추 대파 더덕 덟은감 도다리 도라지 도루묵 돔 돗나물 동백하새우 \n",
            "동자개 동죽 두류 두릅 두리안 딸 땅콩 떫은감 라임 람부탄 레드쉬 레몬 리치 마 마늘 \n",
            "만가닥 만감 맛 망고 매생이 머위대 메 메론 명태 명태곤니 명태알 명태포 모과 모시조개 모자반 \n",
            "무 무순 무우 무청 무화과 문어 문어바지락 물메 미꾸라지 미나리 미더덕 미역 민들레 민물새우 바나나 \n",
            "바다가재 바지락 박 밤 방울토마토 방풍 방풍나물 배 배추 백새우 백합 뱀장어 버섯 버섯류 버찌 \n",
            "벅굴 벗 봄동 봄동배추 봉지굴 부세 부지갱이 부추 붉은고추 붉은메 붕어 붕장어 브로커리 브로코리 블루베리 \n",
            "비트 빈스 빙어 삐틀이 사과 삼 삼치 상추 새꼬막 새송이 새싹 새우 새우살 샐러리 생강 \n",
            "생고추 석류 선동오징어 선인장열매 세러리 셀러리 소라 속새 숙주나물 순무 숫꽃게 시금치 실파 쌈채류 쑥 \n",
            "쑥갓 씀바귀 아귀 아로니아 아보카도 아보카드 아스파라거스 아욱 알 알배 야자 야콘 양배추 양상추 양송이 \n",
            "양채 양채류 양파 얼갈이 얼갈이배추 연근 연어 열무 염고등어 엽경채류 엽채 엽채류 오렌지 오만둥이 오이 \n",
            "오징어 오징어다리 오징어몸통 오징어원양 오징어채 완두콩 용과 우렁 우렁쉥이 우렁이 우뭇가시리 우엉 유자 유채 은어 \n",
            "은행 임연 잉어 자몽 재첩 적근대 적새우 적채 전복 절단 절단낙지 젓새우 조개살 중하 쪽파 \n",
            "쭈꾸미 참나물 참다래 참당귀 참외 참조 채소 청경채 청어 체리 총각무 취나물 치커리 칠게 칼라후라워 \n",
            "칼리플라워 칼리후라워 케일 코다리명태 코라비 코코넛 콜라비 콩 콩나물 키위 키조개 키조개꼭지 키조개날개 토란 토마토 \n",
            "톳 파 파래 파래김 파세리 파인애플 파프리카 팥 패류 팽이 팽이버섯 포도 포장바지락 표고 표고버섯 \n",
            "풋고추 피망 피뿔고동 피조개 해삼 해파리 향나물 호박 홍고추 홍어 홍합 활복오징어 "
          ]
        }
      ],
      "source": [
        "# 몇몇 품목들 정리가 필요\n",
        "a = sorted(df2['prd'].unique())\n",
        "for i in range(len(a)):\n",
        "  if i%15 != 0:\n",
        "    print(a[i],end=' ')\n",
        "  else:\n",
        "    print(a[i],end=' ')\n",
        "    print()"
      ]
    },
    {
      "cell_type": "code",
      "execution_count": 102,
      "metadata": {
        "id": "M2625eg87yCq"
      },
      "outputs": [],
      "source": [
        "### 예시\n",
        "# df2[(df2['prd']=='유채') & (df2['price']==4500)]['prd'].unique()\n",
        "# df2[df2['prd']=='유채']['prd'].unique()"
      ]
    },
    {
      "cell_type": "code",
      "execution_count": 103,
      "metadata": {
        "colab": {
          "base_uri": "https://localhost:8080/"
        },
        "id": "ExIoekH2gcM_",
        "outputId": "5cad26ac-a57e-42b5-85da-19e3591a3493"
      },
      "outputs": [],
      "source": [
        "### 원래 단어 뭐였는지 검색\n",
        "# org_df[org_df['품목명'].str.contains('\u001d느')]['품목명'].unique()"
      ]
    },
    {
      "cell_type": "code",
      "execution_count": 104,
      "metadata": {
        "colab": {
          "base_uri": "https://localhost:8080/",
          "height": 81
        },
        "id": "2uOc31XjjPFL",
        "outputId": "50529553-d06f-4dc6-8759-a11736220df6"
      },
      "outputs": [],
      "source": [
        "### 현재 이름 검색\n",
        "# df2[df2['prd']=='느']"
      ]
    },
    {
      "cell_type": "code",
      "execution_count": 105,
      "metadata": {
        "id": "gbBBjoDqIjR1"
      },
      "outputs": [],
      "source": [
        "###\n",
        "# JG\n",
        "\n",
        "# 고 -> 고수로 변경\n",
        "df2.loc[df2[\"prd\"]==\"고\",\"prd\"] = \"고수\"\n",
        "# 과실류, 과일류, 과채, 채소 -> 과채류로 통합\n",
        "df2.loc[df2[\"prd\"]==\"과실류\",\"prd\"] = \"과채류\"\n",
        "df2.loc[df2[\"prd\"]==\"과일류\",\"prd\"] = \"과채류\"\n",
        "df2.loc[df2[\"prd\"]==\"과일야채류\",\"prd\"] = \"과채류\"\n",
        "df2.loc[df2[\"prd\"]==\"과일과채류\",\"prd\"] = \"과채류\"\n",
        "df2.loc[df2[\"prd\"]==\"과일\",\"prd\"] = \"과채류\"\n",
        "df2.loc[df2[\"prd\"]==\"과채\",\"prd\"] = \"과채류\"\n",
        "df2.loc[df2[\"prd\"]==\"채소\",\"prd\"] = \"과채류\"\n",
        "# 고들빼 -> 고들빼기로 변경\n",
        "df2.loc[df2[\"prd\"]==\"고들빼\",\"prd\"] = \"고들빼기\"\n",
        "# 꼴뚜 -> 꼴두기로 변경\n",
        "df2.loc[df2[\"prd\"]==\"꼴뚜\",\"prd\"] = \"꼴뚜기\"\n",
        "# 그레이프푸룻 -> 자몽으로 통합\n",
        "df2.loc[df2[\"prd\"]==\"그레이프푸룻\",\"prd\"] = \"자몽\"\n",
        "\n",
        "# 느 -> 느타리버섯으로 통합\n",
        "df2.loc[df2[\"prd\"]==\"느\",\"prd\"] = \"느타리버섯\"\n",
        "\n",
        "# 대구 관련 품목들 정리\n",
        "df2.loc[df2[\"prd\"]==\"대구고니\",\"prd\"] = \"대구\"\n",
        "df2.loc[df2[\"prd\"]==\"대구머리\",\"prd\"] = \"대구\"\n",
        "df2.loc[df2[\"prd\"]==\"대구포\",\"prd\"] = \"대구\"\n",
        "df2.loc[df2[\"prd\"]==\"대구알\",\"prd\"] = \"대구\"\n",
        "# 듀리안 -> 두리안으로 통합\n",
        "df2.loc[df2[\"prd\"]==\"듀리안\",\"prd\"] = \"두리안\"\n",
        "# 딸 -> 딸기로 변경\n",
        "df2.loc[df2[\"prd\"]==\"딸\",\"prd\"] = \"딸기\"\n",
        "\n",
        "# 만가닥 -> 만가닥버섯으로 변경\n",
        "df2.loc[df2[\"prd\"]==\"만가닥\",\"prd\"] = \"만가닥버섯\"\n",
        "# 맛 -> 맛조개로 변경\n",
        "df2.loc[df2[\"prd\"]==\"맛\",\"prd\"] = \"맛조개\"\n",
        "# 망고스턴 -> 망고스틴으로 수정\n",
        "df2.loc[df2[\"prd\"]==\"망고스턴\",\"prd\"] = \"망고스틴\"\n",
        "# 메 -> 메기로 변경\n",
        "df2.loc[df2[\"prd\"]==\"메\",\"prd\"] = \"메기\"\n",
        "# 명태 관련 품목들 정리\n",
        "df2.loc[df2[\"prd\"]==\"명태곤니\",\"prd\"] = \"명태\"\n",
        "df2.loc[df2[\"prd\"]==\"명태알\",\"prd\"] = \"명태\"\n",
        "df2.loc[df2[\"prd\"]==\"명태포\",\"prd\"] = \"명태\"\n",
        "df2.loc[df2[\"prd\"]==\"코다리명태\",\"prd\"] = \"명태\"\n",
        "# 무우 -> 무로 통합\n",
        "df2.loc[df2[\"prd\"]==\"무우\",\"prd\"] = \"무\"\n",
        "\n",
        "# 방풍 -> 방풍나물로 통합\n",
        "df2.loc[df2[\"prd\"]==\"방풍\",\"prd\"] = \"방풍나물\"\n",
        "# 버섯류 -> 버섯으로 변경\n",
        "df2.loc[df2[\"prd\"]==\"버섯\",\"prd\"] = \"버섯\"\n",
        "# 벗,버찌 -> 체리로 통합\n",
        "df2.loc[df2[\"prd\"]==\"벗\",\"prd\"] = \"체리\"\n",
        "df2.loc[df2[\"prd\"]==\"버찌\",\"prd\"] = \"체리\"\n",
        "df2.loc[df2[\"prd\"]==\"벗찌\",\"prd\"] = \"체리\"\n",
        "# 브로커리, 브로코리 -> 브로콜리로 통합\n",
        "df2.loc[df2[\"prd\"]==\"브로커리\",\"prd\"] = \"브로콜리\"\n",
        "df2.loc[df2[\"prd\"]==\"브로코리\",\"prd\"] = \"브로콜리\"\n",
        "\n",
        "# 삼 -> 수삼으로 변경\n",
        "df2.loc[df2[\"prd\"]==\"삼\",\"prd\"] = \"수삼\"\n",
        "# 새우살 -> 새우로 변경\n",
        "df2.loc[df2[\"prd\"]==\"새우살\",\"prd\"] = \"새우\"\n",
        "# 세러리, 셀러리 -> 샐러리로 통합\n",
        "df2.loc[df2[\"prd\"]==\"세러리\",\"prd\"] = \"샐러리\"\n",
        "df2.loc[df2[\"prd\"]==\"셀러리\",\"prd\"] = \"샐러리\"\n",
        "# 생고추 -> 고추로 통합\n",
        "df2.loc[df2[\"prd\"]==\"생고추\",\"prd\"] = \"고추\"\n",
        "\n",
        "# 아보카드 -> 아보카도로 변경\n",
        "df2.loc[df2[\"prd\"]==\"아보카드\",\"prd\"] = \"아보카도\"\n",
        "# 아스파라가스 -> 아스파라거스로 변경\n",
        "df2.loc[df2[\"prd\"]==\"아스파라가스\",\"prd\"] = \"아스파라거스\"\n",
        "# 알 -> 알타리무로 변경\n",
        "df2.loc[df2[\"prd\"]==\"알\",\"prd\"] = \"알타리무\"\n",
        "# 알배 -> 알배기로 변경\n",
        "df2.loc[df2[\"prd\"]==\"알배\",\"prd\"] = \"알배기\"\n",
        "# 양채 -> 양채류로 통합\n",
        "df2.loc[df2[\"prd\"]==\"양채\",\"prd\"] = \"양채류\"\n",
        "# 얼갈이 -> 얼갈이배추로 통합\n",
        "df2.loc[df2[\"prd\"]==\"얼갈이\",\"prd\"] = \"얼갈이배추\"\n",
        "# 엽채류, 엽채 -> 엽경채류로 통합\n",
        "df2.loc[df2[\"prd\"]==\"엽채류\",\"prd\"] = \"엽경채류\"\n",
        "df2.loc[df2[\"prd\"]==\"엽채\",\"prd\"] = \"엽경채류\"\n",
        "# 오징어 관련 품목들 정리\n",
        "df2.loc[df2[\"prd\"]==\"오징어다리\",\"prd\"] = \"오징어\"\n",
        "df2.loc[df2[\"prd\"]==\"오징어원양\",\"prd\"] = \"오징어\"\n",
        "df2.loc[df2[\"prd\"]==\"오징어채\",\"prd\"] = \"오징어\"\n",
        "df2.loc[df2[\"prd\"]==\"활복오징어\",\"prd\"] = \"오징어\"\n",
        "df2.loc[df2[\"prd\"]==\"오징어채원양\",\"prd\"] = \"오징어\"\n",
        "df2.loc[df2[\"prd\"]==\"갑오징어살\",\"prd\"] = \"오징어\"\n",
        "df2.loc[df2[\"prd\"]==\"갑오징어몸통\",\"prd\"] = \"오징어\"\n",
        "# 옥, 풋옥 -> 옥수수로 정리\n",
        "df2.loc[df2[\"prd\"]==\"옥\",\"prd\"] = \"옥수수\"\n",
        "df2.loc[df2[\"prd\"]==\"풋옥\",\"prd\"] = \"옥수수\"\n",
        "# 임연 -> 임연수어로 정리\n",
        "df2.loc[df2[\"prd\"]==\"임연\",\"prd\"] = \"임연수어\"\n",
        "\n",
        "\n",
        "# 절단 -> 절단쭈꾸미 -> 쭈꾸미로 정리\n",
        "df2.loc[df2[\"prd\"]==\"절단\",\"prd\"] = \"쭈꾸미\"\n",
        "# 조개살 -> 조개로 정리\n",
        "df2.loc[df2[\"prd\"]==\"조개살\",\"prd\"] = \"조개\"\n",
        "\n",
        "# 참조 -> 참조기로 정리\n",
        "df2.loc[df2[\"prd\"]==\"참조\",\"prd\"] = \"참조기\"\n",
        "\n",
        "# 칼라후라워,칼리플라워, 칼리후라워 -> 컬리플라워로 통합\n",
        "df2.loc[df2[\"prd\"]==\"칼라후라워\",\"prd\"] = \"컬리플라워\"\n",
        "df2.loc[df2[\"prd\"]==\"칼리플라워\",\"prd\"] = \"컬리플라워\"\n",
        "df2.loc[df2[\"prd\"]==\"칼리후라워\",\"prd\"] = \"컬리플라워\"\n",
        "# 코라비 -> 콜라비로 통합\n",
        "df2.loc[df2[\"prd\"]==\"코라비\",\"prd\"] = \"콜라비\"\n",
        "# 키조개날개 -> 키조개로 통합\n",
        "df2.loc[df2[\"prd\"]==\"키조개날개\",\"prd\"] = \"키조개\"\n",
        "\n",
        "# 팽이 -> 팽이버섯으로 통합\n",
        "df2.loc[df2[\"prd\"]==\"팽이\",\"prd\"] = \"팽이버섯\"\n",
        "# 파세리 -> 파슬리로 변경\n",
        "df2.loc[df2[\"prd\"]==\"파세리\",\"prd\"] = \"파슬리\"\n",
        "# 표고 -> 표고버섯으로 통합\n",
        "df2.loc[df2[\"prd\"]==\"표고\",\"prd\"] = \"표고버섯\"\n",
        "# 포장바지락 -> 바지락으로 변경\n",
        "df2.loc[df2[\"prd\"]==\"포장바지락\",\"prd\"] = \"바지락\"\n",
        "\n",
        "### 일단 여기까지 실행\n",
        "# JY\n",
        "#각굴 -> 굴로 통합\n",
        "df2.loc[df2[\"prd\"]==\"각굴\",\"prd\"] = \"굴\"\n",
        "#가오리채 -> 가오리로 통합\n",
        "df2.loc[df2[\"prd\"]==\"가오리채\",\"prd\"] = \"가오리\"\n",
        "# 게지 -> 키조개로 통합\n",
        "df2.loc[df2[\"prd\"]==\"게지\",\"prd\"] = \"키조개\"\n",
        "#고 -> 고구마로 통합\n",
        "df2.loc[df2[\"prd\"]==\"고\",\"prd\"] = \"고구마\"\n",
        "#꼴뚜 -> 꼴뚜기로 통합\n",
        "df2.loc[df2[\"prd\"]==\"꼴뚜\",\"prd\"] = \"꼴뚜기\"\n",
        "#돗나물 -> 돌나물로 통합\n",
        "df2.loc[df2[\"prd\"]==\"돗나물\",\"prd\"] = \"돌나물\"\n",
        "#레드쉬 -> 레디쉬로 통합\n",
        "df2.loc[df2[\"prd\"]==\"레드쉬\",\"prd\"] = \"레디쉬\"\n",
        "#만가닥 -> 만가닥버섯으로 통합\n",
        "df2.loc[df2[\"prd\"]==\"만가닥\",\"prd\"] = \"만가닥버섯\"\n",
        "#메 -> 메기로 통합\n",
        "df2.loc[df2[\"prd\"]==\"메\",\"prd\"] = \"메기\"\n",
        "#봄동 -> 봄동배추로 통합\n",
        "df2.loc[df2[\"prd\"]==\"봄동\",\"prd\"] = \"봄동배추\"\n",
        "#봉지굴 -> 굴로 통합\n",
        "df2.loc[df2[\"prd\"]==\"봉지굴\",\"prd\"] = \"굴\"\n",
        "#박 -> 수박으로 통합\n",
        "df2.loc[df2[\"prd\"]==\"박\",\"prd\"] = \"수박\"\n",
        "#백조 -> 조기로 통합 \n",
        "df2.loc[df2[\"prd\"]==\"백조\",\"prd\"] = \"조기\"\n",
        "#벅굴 -> 벚굴로 통합\n",
        "df2.loc[df2[\"prd\"]==\"벅굴\",\"prd\"] = \"벚굴\"\n",
        "#비 -> 비타민으로 통합\n",
        "df2.loc[df2[\"prd\"]==\"비\",\"prd\"] = \"비타민\"\n",
        "#빈스 -> 콩으로 통합\n",
        "df2.loc[df2[\"prd\"]==\"빈스\",\"prd\"] = \"콩\"\n",
        "#삐틀이 -> 고둥으로 통합\n",
        "df2.loc[df2[\"prd\"]==\"삐틀이\",\"prd\"] = \"고둥\"\n",
        "#새송이 -> 새송이버섯으로 통합\n",
        "df2.loc[df2[\"prd\"]==\"새송이\",\"prd\"] = \"새송이버섯\"\n",
        "#세트 -> 과채류로 통합\n",
        "df2.loc[df2[\"prd\"]==\"세트\",\"prd\"] = \"과채류\"\n",
        "#알 -> 알로애로 통합\n",
        "df2.loc[df2[\"prd\"]==\"알\",\"prd\"] = \"알로에\"\n",
        "#엄나무 -> 음나무로 통합\n",
        "df2.loc[df2[\"prd\"]==\"엄나무\",\"prd\"] = \"음나무\"\n",
        "#염고등어 -> 고등어로 통합\n",
        "df2.loc[df2[\"prd\"]==\"염고등어\",\"prd\"] = \"고등어\"\n",
        "#오만둥이 -> 미더덕으로 통합\n",
        "df2.loc[df2[\"prd\"]==\"오만둥이\",\"prd\"] = \"미더덕\"\n",
        "#오징어 관련 품목들 정리\n",
        "df2.loc[df2[\"prd\"]==\"선동오징어\",\"prd\"] = \"오징어\"\n",
        "df2.loc[df2[\"prd\"]==\"오징어몸통\",\"prd\"] = \"오징어\"\n",
        "#우렁쉥이 -> 멍게로 통합\n",
        "df2.loc[df2[\"prd\"]==\"우렁쉥이\",\"prd\"] = \"멍게\"\n",
        "#우뭇가시리 -> 우뭇가사리로 통합\n",
        "df2.loc[df2[\"prd\"]==\"우뭇가시리\",\"prd\"] = \"우뭇가사리\"\n",
        "#적채 -> 적양배추로 통합\n",
        "df2.loc[df2[\"prd\"]==\"적채\",\"prd\"] = \"적양배추\"\n",
        "#절단낙지 -> 낙지로 통합\n",
        "df2.loc[df2[\"prd\"]==\"절단낙지\",\"prd\"] = \"낙지\"\n",
        "#조 -> 조개로 통합\n",
        "df2.loc[df2[\"prd\"]==\"조\",\"prd\"] = \"조개\"\n",
        "#청어원양 -> 청어로 통합\n",
        "df2.loc[df2[\"prd\"]==\"청어원양\",\"prd\"] = \"청어\"\n",
        "#키조개꼭지 -> 키조개로 통합\n",
        "df2.loc[df2[\"prd\"]==\"키조개꼭지\",\"prd\"] = \"키조개\"\n",
        "\n",
        "# 암꽃게, 숫꽃게 -> 꽃게로 통합\n",
        "df2.loc[df2[\"prd\"]==\"암꽃게\",\"prd\"] = \"꽃게\"\n",
        "df2.loc[df2[\"prd\"]==\"숫꽃게\",\"prd\"] = \"꽃게\"\n",
        "# 우렁 -> 우렁이로 통합\n",
        "df2.loc[df2[\"prd\"]==\"우렁\",\"prd\"] = \"우렁이\"\n",
        "# 알로애 -> 알로에로 변경\n",
        "df2.loc[df2[\"prd\"]==\"알로애\",\"prd\"] = \"알로에\"\n",
        "# 피마자잎 -> 피마자로 변경\n",
        "df2.loc[df2[\"prd\"]==\"피미자잎\",\"prd\"] = \"피마자\"\n",
        "# 식용허브 -> 허브로 변경\n",
        "df2.loc[df2[\"prd\"]==\"식용허브\",\"prd\"] = \"허브\"\n",
        "# 선인장열매 -> 선인장으로 변경\n",
        "df2.loc[df2[\"prd\"]==\"선인장열매\",\"prd\"] = \"선인장\"\n",
        "# 쌈추 -> 쌈채류로 변경\n",
        "df2.loc[df2[\"prd\"]==\"쌈추\",\"prd\"] = \"쌈채류\"\n",
        "# 덟은감 -> 감으로 변경\n",
        "df2.loc[df2[\"prd\"]==\"덟은감\",\"prd\"] = \"감\"\n",
        "# 피뿔고동 -> 고둥으로 변경\n",
        "df2.loc[df2[\"prd\"]==\"피뿔고동\",\"prd\"] = \"고둥\"\n",
        "# 꼬시래 -> 꼬시래기으로 변경\n",
        "df2.loc[df2[\"prd\"]==\"꼬시래\",\"prd\"] = \"꼬시래기\"\n",
        "# 연어살 -> 연어로 변경\n",
        "df2.loc[df2[\"prd\"]==\"연어살\",\"prd\"] = \"연어\"\n",
        "# 비단멍게 -> 멍게로 변경\n",
        "df2.loc[df2[\"prd\"]==\"비단멍게\",\"prd\"] = \"멍게\"\n",
        "# 물가자미 -> 가자미로 변경\n",
        "df2.loc[df2[\"prd\"]==\"물가자미\",\"prd\"] = \"가자미\"\n",
        "# 물메 -> 메기로 변경\n",
        "df2.loc[df2[\"prd\"]==\"물메\",\"prd\"] = \"메기\"\n",
        "# 붉은메 -> 메기로 변경\n",
        "df2.loc[df2[\"prd\"]==\"붉은메\",\"prd\"] = \"메기\"\n",
        "# 조미제품 삭제\n",
        "df2.drop(df2[df2['prd']=='조미제품'].index,inplace=True)\n",
        "df2.drop(df2[df2['prd']=='어류원양'].index,inplace=True)"
      ]
    },
    {
      "cell_type": "code",
      "execution_count": 106,
      "metadata": {},
      "outputs": [
        {
          "data": {
            "text/plain": [
              "array([], dtype=object)"
            ]
          },
          "execution_count": 106,
          "metadata": {},
          "output_type": "execute_result"
        }
      ],
      "source": [
        "# 기존 products 리스트와 비교\n",
        "ex_prd = pd.read_csv(\"../products.csv\")\n",
        "df2[~df2['prd'].isin(ex_prd['prd'])]['prd'].unique()"
      ]
    },
    {
      "cell_type": "code",
      "execution_count": 107,
      "metadata": {},
      "outputs": [
        {
          "name": "stderr",
          "output_type": "stream",
          "text": [
            "/var/folders/nq/s4zx76p53d11lnr0t1dxpxh00000gn/T/ipykernel_3151/2619460125.py:4: FutureWarning: The frame.append method is deprecated and will be removed from pandas in a future version. Use pandas.concat instead.\n",
            "  products = ex_prd.append(new_prd,ignore_index=True)\n"
          ]
        }
      ],
      "source": [
        "# 물품 리스트 최신화\n",
        "new_prd = pd.DataFrame(df2['prd'].unique(),columns=['prd'])\n",
        "# products = ex_prd.append(new_prd[~new_prd['prd'].isin(ex_prd['prd'])],ignore_index=True)\n",
        "products = ex_prd.append(new_prd,ignore_index=True)"
      ]
    },
    {
      "cell_type": "code",
      "execution_count": 108,
      "metadata": {},
      "outputs": [],
      "source": [
        "products.drop(columns=['Unnamed: 0'],inplace=True)\n",
        "products.drop_duplicates(inplace=True)\n",
        "products.reset_index(inplace=True,drop=True)"
      ]
    },
    {
      "cell_type": "code",
      "execution_count": 109,
      "metadata": {},
      "outputs": [],
      "source": [
        "# 다음 작업을 위해 저장\n",
        "products.to_csv('../products.csv')"
      ]
    },
    {
      "cell_type": "code",
      "execution_count": 110,
      "metadata": {
        "colab": {
          "base_uri": "https://localhost:8080/",
          "height": 300
        },
        "id": "CxbMB3I59tCZ",
        "outputId": "d29f9bba-e828-4319-9402-7dc24ba1778b"
      },
      "outputs": [
        {
          "data": {
            "text/html": [
              "<div>\n",
              "<style scoped>\n",
              "    .dataframe tbody tr th:only-of-type {\n",
              "        vertical-align: middle;\n",
              "    }\n",
              "\n",
              "    .dataframe tbody tr th {\n",
              "        vertical-align: top;\n",
              "    }\n",
              "\n",
              "    .dataframe thead th {\n",
              "        text-align: right;\n",
              "    }\n",
              "</style>\n",
              "<table border=\"1\" class=\"dataframe\">\n",
              "  <thead>\n",
              "    <tr style=\"text-align: right;\">\n",
              "      <th></th>\n",
              "      <th>prd</th>\n",
              "    </tr>\n",
              "  </thead>\n",
              "  <tbody>\n",
              "    <tr>\n",
              "      <th>count</th>\n",
              "      <td>241.00000</td>\n",
              "    </tr>\n",
              "    <tr>\n",
              "      <th>mean</th>\n",
              "      <td>1881.36515</td>\n",
              "    </tr>\n",
              "    <tr>\n",
              "      <th>std</th>\n",
              "      <td>5084.25674</td>\n",
              "    </tr>\n",
              "    <tr>\n",
              "      <th>min</th>\n",
              "      <td>1.00000</td>\n",
              "    </tr>\n",
              "    <tr>\n",
              "      <th>25%</th>\n",
              "      <td>15.00000</td>\n",
              "    </tr>\n",
              "    <tr>\n",
              "      <th>50%</th>\n",
              "      <td>104.00000</td>\n",
              "    </tr>\n",
              "    <tr>\n",
              "      <th>75%</th>\n",
              "      <td>911.00000</td>\n",
              "    </tr>\n",
              "    <tr>\n",
              "      <th>max</th>\n",
              "      <td>42039.00000</td>\n",
              "    </tr>\n",
              "  </tbody>\n",
              "</table>\n",
              "</div>"
            ],
            "text/plain": [
              "              prd\n",
              "count   241.00000\n",
              "mean   1881.36515\n",
              "std    5084.25674\n",
              "min       1.00000\n",
              "25%      15.00000\n",
              "50%     104.00000\n",
              "75%     911.00000\n",
              "max   42039.00000"
            ]
          },
          "execution_count": 110,
          "metadata": {},
          "output_type": "execute_result"
        }
      ],
      "source": [
        "# 전체 거래량과 품목량\n",
        "# 비교를 위해 분포 파악\n",
        "# 거래량이 너무 적은 품목은 삭제할 필요성이 있음\n",
        "\n",
        "prd_lst = (df2['prd'].value_counts()).to_frame()\n",
        "prd_lst.describe()"
      ]
    },
    {
      "cell_type": "code",
      "execution_count": 111,
      "metadata": {
        "id": "_qhAf86UEoSv"
      },
      "outputs": [],
      "source": [
        "# 50개 미만 품목은 비교가 힘드므로 삭제\n",
        "# 줄어든 종류만 남기기\n",
        "\n",
        "prd_lst = prd_lst[prd_lst['prd']>=50]\n",
        "prd_lst.reset_index(inplace=True)\n",
        "prd_lst = prd_lst.rename(columns = {'index':'prd','prd':'count'})"
      ]
    },
    {
      "cell_type": "code",
      "execution_count": 112,
      "metadata": {
        "colab": {
          "base_uri": "https://localhost:8080/"
        },
        "id": "WZfTHQDe-jTG",
        "outputId": "7e713769-2413-4b10-db9d-348498e24708"
      },
      "outputs": [
        {
          "data": {
            "text/plain": [
              "딸기     42039\n",
              "버섯     34997\n",
              "오이     22053\n",
              "양채류    19911\n",
              "호박     19838\n",
              "       ...  \n",
              "개조개       56\n",
              "두릅        56\n",
              "아귀        56\n",
              "해삼        54\n",
              "동죽        50\n",
              "Name: prd, Length: 136, dtype: int64"
            ]
          },
          "execution_count": 112,
          "metadata": {},
          "output_type": "execute_result"
        }
      ],
      "source": [
        "df3 = df2.merge(prd_lst)\n",
        "df3[df3['count']>=50]['prd'].value_counts()"
      ]
    },
    {
      "cell_type": "code",
      "execution_count": 113,
      "metadata": {
        "id": "OnwYlUyTEJdF"
      },
      "outputs": [],
      "source": [
        "# 줄어든 것 확인했으므로 count column은 삭제\n",
        "df3 = df3.drop(columns='count')"
      ]
    },
    {
      "cell_type": "markdown",
      "metadata": {
        "id": "jPcICeSResYh"
      },
      "source": [
        "### scale"
      ]
    },
    {
      "cell_type": "code",
      "execution_count": 114,
      "metadata": {
        "colab": {
          "base_uri": "https://localhost:8080/"
        },
        "id": "4KZLpXuYYTZx",
        "outputId": "f59c1146-fdb9-4483-81a3-a0f51dd08904"
      },
      "outputs": [
        {
          "data": {
            "text/plain": [
              "array([    2.  ,     4.  ,     1.5 ,     0.5 ,     0.15,     5.  ,\n",
              "           8.  ,     3.  ,     9.  ,    20.  ,    17.  ,    10.  ,\n",
              "          19.  ,    18.  ,    11.  ,     7.  ,    15.  ,    16.  ,\n",
              "          21.  ,    12.  ,    14.  ,     1.  ,     0.9 ,    13.  ,\n",
              "          22.  ,     0.3 ,     6.  ,     0.6 ,    23.  ,     4.6 ,\n",
              "           0.12,     1.3 ,    24.  ,    26.  ,     1.6 ,     0.03,\n",
              "           4.5 ,     0.4 ,     2.5 ,     0.2 ,     0.85,     7.5 ,\n",
              "           3.5 ,     3.7 ,     0.8 ,     1.2 ,     1.25,     0.7 ,\n",
              "           1.8 ,    30.  ,    28.  ,     3.6 ,     0.1 ,     8.5 ,\n",
              "           4.3 ,    12.5 ,     2.1 ,     4.7 ,     5.4 ,     6.5 ,\n",
              "           9.5 ,     2.6 ,     3.2 ,     5.3 ,     8.4 ,    11.3 ,\n",
              "           3.4 ,     3.8 ,     5.5 ,    14.5 ,     9.2 ,     5.7 ,\n",
              "          13.5 ,     6.3 ,     9.7 ,    10.01,     5.6 ,    25.  ,\n",
              "           4.8 ,     4.4 ,    10.5 ,     0.25,     0.08,     0.07,\n",
              "           0.05,    17.23,    47.  ,     5.8 ,     2.8 ,     7.2 ,\n",
              "          11.5 ,     3.1 ,     8.6 ,     8.2 ,     9.6 ,     7.3 ,\n",
              "           8.8 ,     7.6 ,    43.  ,    58.  ,    65.  ,    38.  ,\n",
              "           5.2 ,     9.3 ,    13.3 ,     8.01,     9.19,     5.01,\n",
              "          10.4 ,    11.2 ,    16.8 ,     3.9 ,     9.8 ,    11.6 ,\n",
              "          19.6 ,    10.8 ,     9.75,   100.  ,    32.  ,    33.  ,\n",
              "          27.  ,    35.  ,     6.4 ,    14.4 ,     8.75,    22.4 ,\n",
              "          17.5 ,    11.25,    12.4 ,    11.7 ,    11.4 ,    13.4 ,\n",
              "          12.75,     2.79,     3.39,    15.5 ,    16.64,    16.6 ,\n",
              "          13.2 ,    17.2 ,    17.6 ,    24.8 ,    18.4 ,    14.8 ,\n",
              "          13.7 ,    15.3 ,    13.75,    13.6 ,    14.08,    12.8 ,\n",
              "           2.3 ,    14.85,    19.2 ,    14.25,    18.9 ,    10.2 ,\n",
              "          13.1 ,     2.4 ,     2.2 ,     3.3 ,    15.6 ,     2.9 ,\n",
              "           4.9 ,     3.67,    83.  ,     0.16,     2.7 ,     5.1 ,\n",
              "           6.7 ,     1.7 ,     6.9 ,     6.8 ,     6.2 ,     6.6 ,\n",
              "           0.72,     0.62,     0.59,     2.01,     1.01,     0.75,\n",
              "       10000.  ,  5000.  ,    40.  ,    52.  ,     7.8 ,    12.6 ,\n",
              "           1.1 ,     1.9 ,     1.4 ,     2.56,     0.78,     1.54,\n",
              "           2.16,     3.56,     4.2 ,     4.1 ,    21.5 ,    22.5 ,\n",
              "          18.5 ])"
            ]
          },
          "execution_count": 114,
          "metadata": {},
          "output_type": "execute_result"
        }
      ],
      "source": [
        "np.set_printoptions(precision=2, suppress=True)\n",
        "df3['scale'].unique()"
      ]
    },
    {
      "cell_type": "code",
      "execution_count": 115,
      "metadata": {
        "colab": {
          "base_uri": "https://localhost:8080/",
          "height": 1000
        },
        "id": "-43K_jyN92IZ",
        "outputId": "7b3e92a5-a0eb-4b09-bc6c-36948c74b860"
      },
      "outputs": [
        {
          "data": {
            "text/plain": [
              "array(['피망', '감귤', '엽경채류', '무', '배추'], dtype=object)"
            ]
          },
          "execution_count": 115,
          "metadata": {},
          "output_type": "execute_result"
        }
      ],
      "source": [
        "# 50kg 이상 거래된 건들 이상치라 판단하고 확인 진행\n",
        "df3[df3['scale']>=50]['prd'].unique()"
      ]
    },
    {
      "cell_type": "code",
      "execution_count": 129,
      "metadata": {},
      "outputs": [
        {
          "data": {
            "text/html": [
              "<div>\n",
              "<style scoped>\n",
              "    .dataframe tbody tr th:only-of-type {\n",
              "        vertical-align: middle;\n",
              "    }\n",
              "\n",
              "    .dataframe tbody tr th {\n",
              "        vertical-align: top;\n",
              "    }\n",
              "\n",
              "    .dataframe thead th {\n",
              "        text-align: right;\n",
              "    }\n",
              "</style>\n",
              "<table border=\"1\" class=\"dataframe\">\n",
              "  <thead>\n",
              "    <tr style=\"text-align: right;\">\n",
              "      <th></th>\n",
              "      <th>prd</th>\n",
              "      <th>scale</th>\n",
              "      <th>price</th>\n",
              "      <th>origin</th>\n",
              "      <th>eco</th>\n",
              "      <th>reg_date</th>\n",
              "      <th>new_class</th>\n",
              "      <th>price_kg</th>\n",
              "    </tr>\n",
              "  </thead>\n",
              "  <tbody>\n",
              "    <tr>\n",
              "      <th>438365</th>\n",
              "      <td>배추</td>\n",
              "      <td>52.00000</td>\n",
              "      <td>6800</td>\n",
              "      <td>전남 해남군</td>\n",
              "      <td>normal</td>\n",
              "      <td>2021-12-17</td>\n",
              "      <td>1</td>\n",
              "      <td>130.77000</td>\n",
              "    </tr>\n",
              "  </tbody>\n",
              "</table>\n",
              "</div>"
            ],
            "text/plain": [
              "       prd    scale  price  origin     eco   reg_date  new_class  price_kg\n",
              "438365  배추 52.00000   6800  전남 해남군  normal 2021-12-17          1 130.77000"
            ]
          },
          "execution_count": 129,
          "metadata": {},
          "output_type": "execute_result"
        }
      ],
      "source": [
        "df3[(df3['prd']=='배추')&(df3['scale']>50)]"
      ]
    },
    {
      "cell_type": "code",
      "execution_count": null,
      "metadata": {},
      "outputs": [],
      "source": []
    },
    {
      "cell_type": "code",
      "execution_count": 130,
      "metadata": {
        "id": "v1EZDKB59dJp"
      },
      "outputs": [],
      "source": [
        "# 스케일 오표기된 항목 수정\n",
        "# 무, 피망 거래중 하나는 이상치 아닌 것으로 확인\n",
        "# 이상치 항목 삭제\n",
        "df3 = df3.drop(df3[(df3['scale']==65)&(df3['prd']=='피망')].index)\n",
        "df3 = df3.drop(df3[(df3['scale']>=50)&(df3['prd']=='감귤')].index)\n",
        "df3 = df3.drop(df3[(df3['scale']>=50)&(df3['prd']=='엽경채류')].index)\n",
        "df3 = df3.drop(df3[(df3['scale']>=50)&(df3['prd']=='배추')].index)"
      ]
    },
    {
      "cell_type": "code",
      "execution_count": 131,
      "metadata": {},
      "outputs": [
        {
          "data": {
            "text/html": [
              "<div>\n",
              "<style scoped>\n",
              "    .dataframe tbody tr th:only-of-type {\n",
              "        vertical-align: middle;\n",
              "    }\n",
              "\n",
              "    .dataframe tbody tr th {\n",
              "        vertical-align: top;\n",
              "    }\n",
              "\n",
              "    .dataframe thead th {\n",
              "        text-align: right;\n",
              "    }\n",
              "</style>\n",
              "<table border=\"1\" class=\"dataframe\">\n",
              "  <thead>\n",
              "    <tr style=\"text-align: right;\">\n",
              "      <th></th>\n",
              "      <th>prd</th>\n",
              "      <th>scale</th>\n",
              "      <th>price</th>\n",
              "      <th>origin</th>\n",
              "      <th>eco</th>\n",
              "      <th>reg_date</th>\n",
              "      <th>new_class</th>\n",
              "      <th>price_kg</th>\n",
              "    </tr>\n",
              "  </thead>\n",
              "  <tbody>\n",
              "    <tr>\n",
              "      <th>225994</th>\n",
              "      <td>피망</td>\n",
              "      <td>58.00000</td>\n",
              "      <td>162400</td>\n",
              "      <td>경남 진주시</td>\n",
              "      <td>certified</td>\n",
              "      <td>2021-12-18</td>\n",
              "      <td>1</td>\n",
              "      <td>2800.00000</td>\n",
              "    </tr>\n",
              "    <tr>\n",
              "      <th>411926</th>\n",
              "      <td>무</td>\n",
              "      <td>10000.00000</td>\n",
              "      <td>1100000</td>\n",
              "      <td>전북 고창군</td>\n",
              "      <td>normal</td>\n",
              "      <td>2021-12-01</td>\n",
              "      <td>1</td>\n",
              "      <td>110.00000</td>\n",
              "    </tr>\n",
              "    <tr>\n",
              "      <th>411928</th>\n",
              "      <td>무</td>\n",
              "      <td>10000.00000</td>\n",
              "      <td>1610000</td>\n",
              "      <td>전남 영암군</td>\n",
              "      <td>normal</td>\n",
              "      <td>2021-12-01</td>\n",
              "      <td>1</td>\n",
              "      <td>161.00000</td>\n",
              "    </tr>\n",
              "    <tr>\n",
              "      <th>411929</th>\n",
              "      <td>무</td>\n",
              "      <td>10000.00000</td>\n",
              "      <td>1010000</td>\n",
              "      <td>전북 고창군</td>\n",
              "      <td>normal</td>\n",
              "      <td>2021-12-01</td>\n",
              "      <td>1</td>\n",
              "      <td>101.00000</td>\n",
              "    </tr>\n",
              "    <tr>\n",
              "      <th>411930</th>\n",
              "      <td>무</td>\n",
              "      <td>10000.00000</td>\n",
              "      <td>2260000</td>\n",
              "      <td>전남 영암군</td>\n",
              "      <td>normal</td>\n",
              "      <td>2021-12-01</td>\n",
              "      <td>1</td>\n",
              "      <td>226.00000</td>\n",
              "    </tr>\n",
              "    <tr>\n",
              "      <th>...</th>\n",
              "      <td>...</td>\n",
              "      <td>...</td>\n",
              "      <td>...</td>\n",
              "      <td>...</td>\n",
              "      <td>...</td>\n",
              "      <td>...</td>\n",
              "      <td>...</td>\n",
              "      <td>...</td>\n",
              "    </tr>\n",
              "    <tr>\n",
              "      <th>416776</th>\n",
              "      <td>무</td>\n",
              "      <td>10000.00000</td>\n",
              "      <td>1780000</td>\n",
              "      <td>전북 고창군</td>\n",
              "      <td>normal</td>\n",
              "      <td>2021-12-30</td>\n",
              "      <td>1</td>\n",
              "      <td>178.00000</td>\n",
              "    </tr>\n",
              "    <tr>\n",
              "      <th>416777</th>\n",
              "      <td>무</td>\n",
              "      <td>10000.00000</td>\n",
              "      <td>1890000</td>\n",
              "      <td>전북 고창군</td>\n",
              "      <td>normal</td>\n",
              "      <td>2021-12-30</td>\n",
              "      <td>1</td>\n",
              "      <td>189.00000</td>\n",
              "    </tr>\n",
              "    <tr>\n",
              "      <th>416778</th>\n",
              "      <td>무</td>\n",
              "      <td>10000.00000</td>\n",
              "      <td>2510000</td>\n",
              "      <td>전북 고창군</td>\n",
              "      <td>normal</td>\n",
              "      <td>2021-12-30</td>\n",
              "      <td>1</td>\n",
              "      <td>251.00000</td>\n",
              "    </tr>\n",
              "    <tr>\n",
              "      <th>416780</th>\n",
              "      <td>무</td>\n",
              "      <td>10000.00000</td>\n",
              "      <td>1810000</td>\n",
              "      <td>전북 고창군</td>\n",
              "      <td>normal</td>\n",
              "      <td>2021-12-30</td>\n",
              "      <td>1</td>\n",
              "      <td>181.00000</td>\n",
              "    </tr>\n",
              "    <tr>\n",
              "      <th>416781</th>\n",
              "      <td>무</td>\n",
              "      <td>10000.00000</td>\n",
              "      <td>1000000</td>\n",
              "      <td>전북 고창군</td>\n",
              "      <td>normal</td>\n",
              "      <td>2021-12-30</td>\n",
              "      <td>1</td>\n",
              "      <td>100.00000</td>\n",
              "    </tr>\n",
              "  </tbody>\n",
              "</table>\n",
              "<p>525 rows × 8 columns</p>\n",
              "</div>"
            ],
            "text/plain": [
              "       prd       scale    price  origin        eco   reg_date  new_class  \\\n",
              "225994  피망    58.00000   162400  경남 진주시  certified 2021-12-18          1   \n",
              "411926   무 10000.00000  1100000  전북 고창군     normal 2021-12-01          1   \n",
              "411928   무 10000.00000  1610000  전남 영암군     normal 2021-12-01          1   \n",
              "411929   무 10000.00000  1010000  전북 고창군     normal 2021-12-01          1   \n",
              "411930   무 10000.00000  2260000  전남 영암군     normal 2021-12-01          1   \n",
              "...     ..         ...      ...     ...        ...        ...        ...   \n",
              "416776   무 10000.00000  1780000  전북 고창군     normal 2021-12-30          1   \n",
              "416777   무 10000.00000  1890000  전북 고창군     normal 2021-12-30          1   \n",
              "416778   무 10000.00000  2510000  전북 고창군     normal 2021-12-30          1   \n",
              "416780   무 10000.00000  1810000  전북 고창군     normal 2021-12-30          1   \n",
              "416781   무 10000.00000  1000000  전북 고창군     normal 2021-12-30          1   \n",
              "\n",
              "         price_kg  \n",
              "225994 2800.00000  \n",
              "411926  110.00000  \n",
              "411928  161.00000  \n",
              "411929  101.00000  \n",
              "411930  226.00000  \n",
              "...           ...  \n",
              "416776  178.00000  \n",
              "416777  189.00000  \n",
              "416778  251.00000  \n",
              "416780  181.00000  \n",
              "416781  100.00000  \n",
              "\n",
              "[525 rows x 8 columns]"
            ]
          },
          "execution_count": 131,
          "metadata": {},
          "output_type": "execute_result"
        }
      ],
      "source": [
        "df3[df3['scale']>=50]"
      ]
    },
    {
      "cell_type": "markdown",
      "metadata": {
        "id": "5I9D6wZCWDhi"
      },
      "source": [
        "### origin"
      ]
    },
    {
      "cell_type": "code",
      "execution_count": 132,
      "metadata": {
        "colab": {
          "base_uri": "https://localhost:8080/"
        },
        "id": "pI0Ezwn-VgXP",
        "outputId": "8d8f9387-01cb-4c3a-a3c9-e521b970aafb"
      },
      "outputs": [
        {
          "data": {
            "text/plain": [
              "array(['경북 문경시', '경북 상주시', '경북 성주군', '경기 이천시', '경북 김천시', '충남 부여군',\n",
              "       '경기 양평군', '충북 음성군', '충남 보령시', '경기 여주시', '경기 안성시', '경북 청도군',\n",
              "       '전남 무안군', '전남 나주시', '경기 포천시', '충북 충주시', '충북 청주시', '강원 고성군',\n",
              "       '충남 천안시', '경북 예천군', '충북 청원군', '청주시 흥덕구', '충남 공주시', '중국', '강원 평창군',\n",
              "       '전북 남원시', '경기 용인시', '전남 장흥군', '충남 청양군', '경기 가평군', '경기 파주시',\n",
              "       '충남 논산시', '충남 당진시', '강원 홍천군', '경기 평택시', '전남 보성군', '전남 곡성군',\n",
              "       '전남 함평군', '수입산 중국', '경기 화성시', '충남 서천군', '충남 예산군', '인천 강화군',\n",
              "       '경남 진주시', '전남 해남군', '충남 아산시', '강원 양양군', '충남 서산시', '충북 진천군', '세종시',\n",
              "       '경남 산청군', '경기도 시흥시', '충남 홍성군', '경남 함양군', '경기 의정부', '경북 안동시',\n",
              "       '청주시 상당구', '경기 고양시', '전북 정읍시', '충북 괴산군', '경기 성남시', '전남 강진군',\n",
              "       '강원 인제군', '강원 동해시', '경기 광주시', '충북 영동군', '전북 부안군', '전남 여수시',\n",
              "       '강원 춘천시', '충북 보은군', '경기 의왕시', '강원 원주시', '전북 군산시', '전남 담양군',\n",
              "       '제주 제주시', '경남 창녕군', '전북 고창군', '전남 장성군', '강원 화천군', '기타외국', '전남 고흥군',\n",
              "       '경기 양주시', '경기 의정부시', '강원 철원군', '경남 의령군', '경기 연천군', '경기 시흥시',\n",
              "       '전북 김제시', '강원 태백시', '전북 순창군', '경기 김포시', '칠레', '미국', '수입산 미국',\n",
              "       '전남 진도군', '전남 완도군', '서울 송파구', '부산', '경남 함안군', '경남 고성군', '포항시 북구',\n",
              "       '경북 포항시', '경남 하동군', '경북 경주시', '경남 사천시', '서울 도봉구', '경기 양주군',\n",
              "       '경남 진주시 금곡면', '울산 북구', '대전 동구', '경남 밀양시', '경남 진주시 지수면', '경기 여주군',\n",
              "       '경기 오산시', '경남', '충남 금산군 진산면', '가락동', '경기 남양주시', '경북 영덕군',\n",
              "       '경북 포항시남구', '광주 광산구', '광주 남구', '제주 서귀포시', '충북 제천시', '강원 횡성군',\n",
              "       '제주 서귀포', '제주시 한경면', '제주시 애월읍', '제주 북제주군', '제주도 제주시', '강원',\n",
              "       '전남 신안군', '제주시 한림읍', '제주 남제주군', '서울시 강서구', '충북', '제주', '수입산 칠레',\n",
              "       '필리핀', '페루', '베트남', '서울 강동구', '강원 삼척시', '전북 익산시', '강원 영월군',\n",
              "       '충북 진천군 덕산면', '인천시 계양구', '경북 영주시', '전남 화순군', '강원도 횡성군', '전남 광양시',\n",
              "       '전남 순천시', '경북 청송군', '대구 북구', '경북 영천시', '경남 거창군', '경북 영주시 부석면',\n",
              "       '경북 영양군', '전북 무주군', '경북', '강원 강릉시', '경북 의성군', '전북 완주군', '경북 봉화군',\n",
              "       '경북 고령군', '강원 양구군', '경북 영천시 고경면', '전북 장수군', '전북', '경북 경산시',\n",
              "       '경북 안동시 길안면', '경북 영주시 단산면', '대구 동구', '대구 달성군', '충북 옥천군', '경기 구리시',\n",
              "       '경기 하남시', '서울시 양천구', '경기도 광명시', '경기도 고양시', '경기도 파주시', '충남 논산시 성동면',\n",
              "       '성남시 분당구', '성남시 중원구', '경기도 양주군', '전북 익산시 망성면', '충남 논산시 가야곡면',\n",
              "       '충남 논산시 연무읍', '충남 논산시 부적면', '경기도 김포시', '서울 중랑구', '충남', '경기 고양시일산구',\n",
              "       '충남 논산시 양촌면', '전라북도 익산시', '경기도 부천시', '세종 세종시', '충남 금산군', '서울 양천구',\n",
              "       '경기도 남양주시', '충남 논산시 상월면', '경기 고양시덕양구', '서울 서초구', '서울시 도봉구',\n",
              "       '경기 광명시', '충남 논산시 강경읍', '경기', '경북 김천시 조마면', '전남 담양군 무정면', '전남',\n",
              "       '충북 음성군 생극면', '경북 김천시 남면', '충남 태안군', '전북 임실군', '경기 포천군',\n",
              "       '경기 이천시 대월면', '전남 영암군', '경북 안동시 남선면', '경남 창원시 의창구', '경남 창원시',\n",
              "       '광주 서구', '세종', '경남 마산시', '경남 김해시', '강원 정선군', '수입산 이란', '이란',\n",
              "       '경기 안성시 양성면', '경기도 광주군', '경기 안성시 금광면', '경남 남해군', '전남 신안군 비금면',\n",
              "       '경기도 여주군', '서울시 은평구', '서울 은평구', '충북 음성군 맹동면', '서울 강서구', '인천시 강화군',\n",
              "       '경기 고양시 덕양구', '대전 대덕구', '부산 강서구', '서울 동대문구', '인천 계양구',\n",
              "       '경기 이천시 장호원읍', '멕시코', '수입산 뉴질랜드', '수입산 멕시코', '뉴질랜드', '수입산 페루',\n",
              "       '전북 전주시', '경기 여주시 가남읍', '경남 합천군', '전남 영광군', '부산시 강서구', '경북/문경시',\n",
              "       '서울 중구', '경북 군위군', '광주시 광산구', '강원도 홍천군', '강원도 평창군', '경기도 평택시',\n",
              "       '강원도 철원군', '경기 안성시 고삼면', '대구 남구', '경북 구미시', '대구 중구', '호주', '오스트레일',\n",
              "       '수입산 아르헨티나', '수입산 호주', '오스트레일리아', '아르헨티나', '수입산 남아공산', '경기도 안성시',\n",
              "       '대전 서구', '대전 유성구', '전남 구례군', '전북 진안군', '전주시 완산구', '대전', '세종 특별자치시',\n",
              "       '대전 대전', '전남 고흥군 도화면', '경기 남양주시 진건읍', '이스라엘', '남아프리카공화국', '남아프리카',\n",
              "       '수입산 이스라엘', '경기도 포천군', '광주시 남구', '강원 영월군 하동면', '경기 용인시 모현면',\n",
              "       '경기 양주시 백석읍', '대구', '경기 남양주', '경남 양산시', '부산 북구', '강원 속초시',\n",
              "       '경기 이천시 모가면', '광주 북구', '경기 수원시', '경남 창원시 성산구', '부산 부산진구',\n",
              "       '강원 춘천시 남산면', '강원 철원군 김화읍', '서울 종로구', '서울 영등포', '경북 칠곡군',\n",
              "       '수입산 필리핀', '과테말라', '인천시 부평구', '인천 남구', '인천', '인천광역시 남구', '경기도 하남시',\n",
              "       '강원도 철원', '인천 부평구', '인천 미추홀', '경기 남양주시 화도읍', '경남 진주시 대곡면',\n",
              "       '경상북도 영천시', '대구 달서구', '강원 홍천군 남면', '충남 천안시 서북구', '경기 양평군 양동면',\n",
              "       '강원 원주시 부론면', '경기 의왕시 초평로 1', '전남 나주시 공산면', '경상남도 창원시', '전라북도 김제시',\n",
              "       '광주', '충남 부여군 장암면', '경남 창녕군 남지읍', '경남 밀양시 단장면', '경남 창녕군 길곡면',\n",
              "       '인천 미추홀구', '인천 남동구', '서울', '수입산 통가', '통가', '뉴칼레도니아', '수입산 뉴칼레도니아',\n",
              "       '충남 공주시 계룡면', '경기도 양평군', '부산 중구', '충남 천안시 광덕면', '경남 거제시',\n",
              "       '뉴 칼레도니아', '전남 곡성군 겸면', '누벨칼레도니', '경북 영주시 장수면', '부산 동구',\n",
              "       '부산광역시 강서구', '광주 광주', '경기 안성시 일죽면', '서울 동대문', '제주도 서귀포시',\n",
              "       '제주특별자치도 서귀', '제주 서귀포시(2)', '제주 서귀포시 상효동', '전남 보성군 회천면', '강원도 강릉시',\n",
              "       '대구 수성구', '강원도 정선군', '전남 여수시 돌산읍', '충남 태안군 남면', '경기 여주시 능서면',\n",
              "       '전북 고창군 신림면', '경북 청도군 매전면', '경북 상주시 공검면', '전남 나주시 산포면',\n",
              "       '경북 고령군 다산면', '제주 제주시(2)', '경기도 이천시', '경기 화성시 태안읍', '충남 당진시 순성면',\n",
              "       '충남 예산군 봉산면', '경기 양평군 강상면', '강원 태백시 황지동', '경남 창원시 동읍',\n",
              "       '경남 함안군 칠북면', '경남 창원시 북면', '전남 순천시 승주읍', '경남 창원시 대산면',\n",
              "       '경남 밀양시 초동면', '경남 창녕군 부곡면', '인천 중구', '제주시 구좌읍', '충북 청주시흥덕구',\n",
              "       '충남 홍성군 광천읍', '전북전주시완산구', '경기 양주시 장흥면', '충북청주시상당구', '전남 신안군 임자면',\n",
              "       '전라북도 남원시', '전북 익산시 오산면', '충청남도 논산시', '전북 익산시 금마면', '수입산 이집트',\n",
              "       '전남 영암군 금정면', '경남 하동군 악양면', '전남 나주시 금천면', '전남/고흥군', '충북 충주시 가금면',\n",
              "       '수입산 캄보디아', '태국', '수입산 베트남', '수입산 태국', '수입산 브라질', '충남 부여군 세도면',\n",
              "       '경기도 연천군', '제주 서귀포시 대정읍', '경기 안산시', '전주시 덕진구', '부산 기장군', '울산 울주군',\n",
              "       '인천 서구', '전남 나주시 노안면', '경남 밀양시 청도면', '경남 양산시 동면', '코스타리카', '에콰도르',\n",
              "       '콜롬비아', '에쿠아도르', '에콰돌', '수입산 코스타리카', '수입산 에콰도르', '수입산 콜롬비아',\n",
              "       '수입산 과테말라', '전남 순천시 서면', '전남 순천시 낙안면', '충남 공주시 정안면', '서울특별시 영등포구',\n",
              "       '인천시 중구', '경기 평택시 서탄면', '충남 연기군', '경기도 가평군', '경기 이천시 설성면',\n",
              "       '경기 평택시 고덕면', '경기 안성시 서운면', '경북 울진군', '경남 통영', '경남 마산(고성,진해)',\n",
              "       '국내산', '전남 여수', '전남 고흥(나로도)', '경남 남해', '전남 완도', '전남 강진', '충남 서산',\n",
              "       '수입 중국', '경남 삼천포', '전남 순천(광양)', '경기 인천', '수입 말레이지아', '수입 에콰도르',\n",
              "       '수입 인도네시아', '수입 베트남', '수입 인도', '수입 캐나다', '전북 군산', '전남 목포(무안)',\n",
              "       '수입 노르웨이', '수입 러시아', '수입 기타', '수입 칠레', '포클랜드', '수입 페루', '수입 아르헨티나',\n",
              "       '충남 장항(서천)', '수입 타이', '충남 당진', '전북 부안', '수입 미국', '수입 세네갈',\n",
              "       '제주 제주도', '경기 강화', '수입 파키스탄', '수입 바레인', '전남 장흥'], dtype=object)"
            ]
          },
          "execution_count": 132,
          "metadata": {},
          "output_type": "execute_result"
        }
      ],
      "source": [
        "# 도,시, 국산, 수입 표기 분류 필요\n",
        "df3['origin'].unique()"
      ]
    },
    {
      "cell_type": "code",
      "execution_count": 133,
      "metadata": {
        "colab": {
          "base_uri": "https://localhost:8080/",
          "height": 423
        },
        "id": "rvX1g3c_Ll2C",
        "outputId": "56330691-579b-46aa-b24a-046112748253"
      },
      "outputs": [
        {
          "data": {
            "text/html": [
              "<div>\n",
              "<style scoped>\n",
              "    .dataframe tbody tr th:only-of-type {\n",
              "        vertical-align: middle;\n",
              "    }\n",
              "\n",
              "    .dataframe tbody tr th {\n",
              "        vertical-align: top;\n",
              "    }\n",
              "\n",
              "    .dataframe thead th {\n",
              "        text-align: right;\n",
              "    }\n",
              "</style>\n",
              "<table border=\"1\" class=\"dataframe\">\n",
              "  <thead>\n",
              "    <tr style=\"text-align: right;\">\n",
              "      <th></th>\n",
              "      <th>prd</th>\n",
              "      <th>scale</th>\n",
              "      <th>price</th>\n",
              "      <th>origin</th>\n",
              "      <th>eco</th>\n",
              "      <th>reg_date</th>\n",
              "      <th>new_class</th>\n",
              "      <th>price_kg</th>\n",
              "      <th>0</th>\n",
              "      <th>1</th>\n",
              "      <th>2</th>\n",
              "      <th>3</th>\n",
              "    </tr>\n",
              "  </thead>\n",
              "  <tbody>\n",
              "    <tr>\n",
              "      <th>0</th>\n",
              "      <td>버섯</td>\n",
              "      <td>2.00000</td>\n",
              "      <td>9500</td>\n",
              "      <td>경북 문경시</td>\n",
              "      <td>\becofriendly</td>\n",
              "      <td>2021-11-30</td>\n",
              "      <td>1</td>\n",
              "      <td>4750.00000</td>\n",
              "      <td>경북</td>\n",
              "      <td>문경시</td>\n",
              "      <td>NaN</td>\n",
              "      <td>NaN</td>\n",
              "    </tr>\n",
              "    <tr>\n",
              "      <th>1</th>\n",
              "      <td>버섯</td>\n",
              "      <td>2.00000</td>\n",
              "      <td>3000</td>\n",
              "      <td>경북 상주시</td>\n",
              "      <td>\becofriendly</td>\n",
              "      <td>2021-11-30</td>\n",
              "      <td>1</td>\n",
              "      <td>1500.00000</td>\n",
              "      <td>경북</td>\n",
              "      <td>상주시</td>\n",
              "      <td>NaN</td>\n",
              "      <td>NaN</td>\n",
              "    </tr>\n",
              "    <tr>\n",
              "      <th>2</th>\n",
              "      <td>버섯</td>\n",
              "      <td>4.00000</td>\n",
              "      <td>10000</td>\n",
              "      <td>경북 성주군</td>\n",
              "      <td>\becofriendly</td>\n",
              "      <td>2021-11-30</td>\n",
              "      <td>1</td>\n",
              "      <td>2500.00000</td>\n",
              "      <td>경북</td>\n",
              "      <td>성주군</td>\n",
              "      <td>NaN</td>\n",
              "      <td>NaN</td>\n",
              "    </tr>\n",
              "    <tr>\n",
              "      <th>3</th>\n",
              "      <td>버섯</td>\n",
              "      <td>4.00000</td>\n",
              "      <td>11000</td>\n",
              "      <td>경북 문경시</td>\n",
              "      <td>\becofriendly</td>\n",
              "      <td>2021-11-30</td>\n",
              "      <td>1</td>\n",
              "      <td>2750.00000</td>\n",
              "      <td>경북</td>\n",
              "      <td>문경시</td>\n",
              "      <td>NaN</td>\n",
              "      <td>NaN</td>\n",
              "    </tr>\n",
              "    <tr>\n",
              "      <th>4</th>\n",
              "      <td>버섯</td>\n",
              "      <td>2.00000</td>\n",
              "      <td>1500</td>\n",
              "      <td>경북 문경시</td>\n",
              "      <td>\becofriendly</td>\n",
              "      <td>2021-11-30</td>\n",
              "      <td>1</td>\n",
              "      <td>750.00000</td>\n",
              "      <td>경북</td>\n",
              "      <td>문경시</td>\n",
              "      <td>NaN</td>\n",
              "      <td>NaN</td>\n",
              "    </tr>\n",
              "    <tr>\n",
              "      <th>...</th>\n",
              "      <td>...</td>\n",
              "      <td>...</td>\n",
              "      <td>...</td>\n",
              "      <td>...</td>\n",
              "      <td>...</td>\n",
              "      <td>...</td>\n",
              "      <td>...</td>\n",
              "      <td>...</td>\n",
              "      <td>...</td>\n",
              "      <td>...</td>\n",
              "      <td>...</td>\n",
              "      <td>...</td>\n",
              "    </tr>\n",
              "    <tr>\n",
              "      <th>451892</th>\n",
              "      <td>개조개</td>\n",
              "      <td>5.00000</td>\n",
              "      <td>47500</td>\n",
              "      <td>전남 여수</td>\n",
              "      <td>normal</td>\n",
              "      <td>2021-12-30</td>\n",
              "      <td>3</td>\n",
              "      <td>9500.00000</td>\n",
              "      <td>전남</td>\n",
              "      <td>여수</td>\n",
              "      <td>NaN</td>\n",
              "      <td>NaN</td>\n",
              "    </tr>\n",
              "    <tr>\n",
              "      <th>451893</th>\n",
              "      <td>개조개</td>\n",
              "      <td>5.00000</td>\n",
              "      <td>44000</td>\n",
              "      <td>전남 여수</td>\n",
              "      <td>normal</td>\n",
              "      <td>2021-12-30</td>\n",
              "      <td>3</td>\n",
              "      <td>8800.00000</td>\n",
              "      <td>전남</td>\n",
              "      <td>여수</td>\n",
              "      <td>NaN</td>\n",
              "      <td>NaN</td>\n",
              "    </tr>\n",
              "    <tr>\n",
              "      <th>451894</th>\n",
              "      <td>개조개</td>\n",
              "      <td>5.00000</td>\n",
              "      <td>46000</td>\n",
              "      <td>전남 여수</td>\n",
              "      <td>normal</td>\n",
              "      <td>2021-12-30</td>\n",
              "      <td>3</td>\n",
              "      <td>9200.00000</td>\n",
              "      <td>전남</td>\n",
              "      <td>여수</td>\n",
              "      <td>NaN</td>\n",
              "      <td>NaN</td>\n",
              "    </tr>\n",
              "    <tr>\n",
              "      <th>451895</th>\n",
              "      <td>개조개</td>\n",
              "      <td>10.00000</td>\n",
              "      <td>105000</td>\n",
              "      <td>수입 중국</td>\n",
              "      <td>normal</td>\n",
              "      <td>2021-12-30</td>\n",
              "      <td>3</td>\n",
              "      <td>10500.00000</td>\n",
              "      <td>수입</td>\n",
              "      <td>중국</td>\n",
              "      <td>NaN</td>\n",
              "      <td>NaN</td>\n",
              "    </tr>\n",
              "    <tr>\n",
              "      <th>451896</th>\n",
              "      <td>개조개</td>\n",
              "      <td>5.00000</td>\n",
              "      <td>44000</td>\n",
              "      <td>전남 여수</td>\n",
              "      <td>normal</td>\n",
              "      <td>2021-12-31</td>\n",
              "      <td>3</td>\n",
              "      <td>8800.00000</td>\n",
              "      <td>전남</td>\n",
              "      <td>여수</td>\n",
              "      <td>NaN</td>\n",
              "      <td>NaN</td>\n",
              "    </tr>\n",
              "  </tbody>\n",
              "</table>\n",
              "<p>451888 rows × 12 columns</p>\n",
              "</div>"
            ],
            "text/plain": [
              "        prd    scale   price  origin           eco   reg_date  new_class  \\\n",
              "0        버섯  2.00000    9500  경북 문경시  \becofriendly 2021-11-30          1   \n",
              "1        버섯  2.00000    3000  경북 상주시  \becofriendly 2021-11-30          1   \n",
              "2        버섯  4.00000   10000  경북 성주군  \becofriendly 2021-11-30          1   \n",
              "3        버섯  4.00000   11000  경북 문경시  \becofriendly 2021-11-30          1   \n",
              "4        버섯  2.00000    1500  경북 문경시  \becofriendly 2021-11-30          1   \n",
              "...     ...      ...     ...     ...           ...        ...        ...   \n",
              "451892  개조개  5.00000   47500   전남 여수        normal 2021-12-30          3   \n",
              "451893  개조개  5.00000   44000   전남 여수        normal 2021-12-30          3   \n",
              "451894  개조개  5.00000   46000   전남 여수        normal 2021-12-30          3   \n",
              "451895  개조개 10.00000  105000   수입 중국        normal 2021-12-30          3   \n",
              "451896  개조개  5.00000   44000   전남 여수        normal 2021-12-31          3   \n",
              "\n",
              "          price_kg   0    1    2    3  \n",
              "0       4750.00000  경북  문경시  NaN  NaN  \n",
              "1       1500.00000  경북  상주시  NaN  NaN  \n",
              "2       2500.00000  경북  성주군  NaN  NaN  \n",
              "3       2750.00000  경북  문경시  NaN  NaN  \n",
              "4        750.00000  경북  문경시  NaN  NaN  \n",
              "...            ...  ..  ...  ...  ...  \n",
              "451892  9500.00000  전남   여수  NaN  NaN  \n",
              "451893  8800.00000  전남   여수  NaN  NaN  \n",
              "451894  9200.00000  전남   여수  NaN  NaN  \n",
              "451895 10500.00000  수입   중국  NaN  NaN  \n",
              "451896  8800.00000  전남   여수  NaN  NaN  \n",
              "\n",
              "[451888 rows x 12 columns]"
            ]
          },
          "execution_count": 133,
          "metadata": {},
          "output_type": "execute_result"
        }
      ],
      "source": [
        "# 해당 조건에 맞는 값 추출\n",
        "\n",
        "splits = df3['origin'].str.split(' ')\n",
        "cacul = splits.apply(lambda x: pd.Series(x))\n",
        "df66 = pd.merge(df3,cacul, left_index=True, right_index=True, how='inner')\n",
        "df66"
      ]
    },
    {
      "cell_type": "code",
      "execution_count": 134,
      "metadata": {
        "id": "NVkmVZ7ip9-N"
      },
      "outputs": [],
      "source": [
        "# 세부 카테고리 정리 (state, city 편집 시 여기서 시작)\n",
        "\n",
        "df4 = df66.rename(columns = {0:'state',1:'city'})\n",
        "\n",
        "# 2,3은 필요없는 정보이므로 삭제\n",
        "df4 = df4.drop(columns=[2,3])"
      ]
    },
    {
      "cell_type": "code",
      "execution_count": 135,
      "metadata": {
        "colab": {
          "base_uri": "https://localhost:8080/"
        },
        "id": "JcsSUlI_27J3",
        "outputId": "817067e6-2645-4c9c-c86f-047b1471bb9b"
      },
      "outputs": [
        {
          "data": {
            "text/plain": [
              "array(['경북', '경기', '충남', '충북', '전남', '강원', '청주시', '중국', '전북', '수입산', '인천',\n",
              "       '경남', '세종시', '경기도', '제주', '기타외국', '칠레', '미국', '서울', '부산', '포항시',\n",
              "       '울산', '대전', '가락동', '광주', '제주시', '제주도', '서울시', '필리핀', '페루', '베트남',\n",
              "       '인천시', '강원도', '대구', '성남시', '전라북도', '세종', '이란', '멕시코', '뉴질랜드',\n",
              "       '부산시', '경북/문경시', '광주시', '호주', '오스트레일', '오스트레일리아', '아르헨티나', '전주시',\n",
              "       '이스라엘', '남아프리카공화국', '남아프리카', '과테말라', '인천광역시', '경상북도', '경상남도', '통가',\n",
              "       '뉴칼레도니아', '뉴', '누벨칼레도니', '부산광역시', '제주특별자치도', '전북전주시완산구',\n",
              "       '충북청주시상당구', '충청남도', '전남/고흥군', '태국', '코스타리카', '에콰도르', '콜롬비아',\n",
              "       '에쿠아도르', '에콰돌', '서울특별시', '국내산', '수입', '포클랜드'], dtype=object)"
            ]
          },
          "execution_count": 135,
          "metadata": {},
          "output_type": "execute_result"
        }
      ],
      "source": [
        "df4['state'].unique()"
      ]
    },
    {
      "cell_type": "code",
      "execution_count": 136,
      "metadata": {
        "id": "SsvDFEbgqQjD"
      },
      "outputs": [],
      "source": [
        "# 시,도 제거\n",
        "def name_sort(words):\n",
        "  p = re.compile('[^시도]+')\n",
        "  word = re.search(p,str(words))\n",
        "  return word.group()\n",
        "\n",
        "df4[\"state\"] = df4[\"state\"].apply(name_sort)\n",
        "\n",
        "# 오타도 제거\n",
        "\n",
        "def name_sort2(words):\n",
        "  p = re.compile('[^\\t]+')\n",
        "  word = re.search(p,words)\n",
        "  return word.group()\n",
        "\n",
        "df4[\"state\"] = df4[\"state\"].apply(name_sort2)"
      ]
    },
    {
      "cell_type": "code",
      "execution_count": 137,
      "metadata": {
        "colab": {
          "base_uri": "https://localhost:8080/"
        },
        "id": "JeybBf_fqhqh",
        "outputId": "b5542367-86fe-4c6e-deab-f28f7d1ce6f5"
      },
      "outputs": [
        {
          "data": {
            "text/plain": [
              "array(['경북', '경기', '충남', '충북', '전남', '강원', '청주', '중국', '전북', '수입산', '인천',\n",
              "       '경남', '세종', '제주', '기타외국', '칠레', '미국', '서울', '부산', '포항', '울산', '대전',\n",
              "       '가락동', '광주', '필리핀', '페루', '베트남', '대구', '성남', '전라북', '이란', '멕',\n",
              "       '뉴질랜드', '경북/문경', '호주', '오스트레일', '오스트레일리아', '아르헨티나', '전주', '이스라엘',\n",
              "       '남아프리카공화국', '남아프리카', '과테말라', '인천광역', '경상북', '경상남', '통가', '뉴칼레',\n",
              "       '뉴', '누벨칼레', '부산광역', '제주특별자치', '전북전주', '충북청주', '충청남', '전남/고흥군',\n",
              "       '태국', '코스타리카', '에콰', '콜롬비아', '에쿠아', '에콰돌', '서울특별', '국내산', '수입',\n",
              "       '포클랜드'], dtype=object)"
            ]
          },
          "execution_count": 137,
          "metadata": {},
          "output_type": "execute_result"
        }
      ],
      "source": [
        "df4[\"state\"].unique()"
      ]
    },
    {
      "cell_type": "code",
      "execution_count": 138,
      "metadata": {
        "id": "FDUnVy0e1br6"
      },
      "outputs": [],
      "source": [
        "# state\n",
        "# 특이케이스 제거\n",
        "\n",
        "# 국내\n",
        "df4.loc[df4[\"state\"]==\"국내산\",\"city\"] = \"미상\"\n",
        "df4.loc[df4[\"state\"]==\"국내산\",\"state\"] = \"국산\"\n",
        "df4.loc[df4[\"state\"]==\"원양산\",\"city\"] = \"미상\"\n",
        "\n",
        "## 도단위\n",
        "df4.loc[df4[\"state\"]==\"충청북\",\"state\"] = \"충북\"\n",
        "df4.loc[df4[\"state\"]==\"충청남\",\"state\"] = \"충남\"\n",
        "df4.loc[df4[\"state\"]==\"전라북\",\"state\"] = \"전북\"\n",
        "df4.loc[df4[\"state\"]==\"전라남\",\"state\"] = \"전남\"\n",
        "df4.loc[df4[\"state\"]==\"경상북\",\"state\"] = \"경북\"\n",
        "df4.loc[df4[\"state\"]==\"경상남\",\"state\"] = \"경남\"\n",
        "\n",
        "## 시단위\n",
        "### 광역시\n",
        "\n",
        "df4.loc[df4[\"state\"]==\"대전\",\"city\"] = \"대전\"\n",
        "df4.loc[df4[\"state\"]==\"대구\",\"city\"] = \"대구\"\n",
        "df4.loc[df4[\"state\"]==\"서울특별\",\"city\"] = \"서울\"\n",
        "df4.loc[df4[\"state\"]==\"서울특별\",\"state\"] = \"서울\"\n",
        "df4.loc[df4[\"state\"]==\"인천광역\",\"city\"] = \"인천\"\n",
        "df4.loc[df4[\"state\"]==\"인천광역\",\"state\"] = \"인천\"\n",
        "df4.loc[df4[\"state\"]==\"부산\",\"city\"] = \"부산\"\n",
        "df4.loc[df4[\"state\"]==\"부산광역\",\"city\"] = \"부산\"\n",
        "df4.loc[df4[\"state\"]==\"부산광역\",\"state\"] = \"부산\"\n",
        "df4.loc[df4[\"state\"]==\"가락동\",\"city\"] = \"서울\"\n",
        "df4.loc[df4[\"state\"]==\"가락동\",\"state\"] = \"서울\"\n",
        "df4.loc[df4[\"state\"]==\"세종\",\"city\"] = \"세종\"\n",
        "df4.loc[df4[\"state\"]==\"세종특별자치\",\"city\"] = \"세종\"\n",
        "df4.loc[df4[\"state\"]==\"세종특별자치\",\"state\"] = \"세종\"\n",
        "df4.loc[df4[\"state\"]==\"대전\",\"city\"] = \"대전\"\n",
        "df4.loc[df4[\"state\"]==\"제주\",\"city\"] = \"제주\"\n",
        "df4.loc[df4[\"state\"]==\"제주특별자치\",\"city\"] = \"제주\"\n",
        "df4.loc[df4[\"state\"]==\"제주특별자치\",\"state\"] = \"제주\"\n",
        "df4.loc[df4[\"state\"]==\"제주특별자\",\"city\"] = \"제주\"\n",
        "df4.loc[df4[\"state\"]==\"제주특별자\",\"state\"] = \"제주\"\n",
        "df4.loc[df4[\"state\"]==\"제주/서귀포\",\"city\"] = \"제주\"\n",
        "df4.loc[df4[\"state\"]==\"제주/서귀포\",\"state\"] = \"제주\"\n",
        "df4.loc[df4[\"state\"]==\"서귀포\",\"city\"] = \"제주\"\n",
        "df4.loc[df4[\"state\"]==\"서귀포\",\"state\"] = \"제주\"\n",
        "df4.loc[df4[\"state\"]==\"세종\",\"city\"] = \"세종\"\n",
        "df4.loc[df4[\"state\"]==\"울산\",\"city\"] = \"울산\"\n",
        "df4.loc[df4[\"state\"]==\"울산\",\"state\"] = \"울산\"\n",
        "\n",
        "### 일반시\n",
        "df4.loc[df4[\"state\"]==\"성남\",\"city\"] = \"성남\"\n",
        "df4.loc[df4[\"state\"]==\"성남\",\"state\"] = \"경기\"\n",
        "df4.loc[df4[\"state\"]==\"전주\",\"city\"] = \"전주\"\n",
        "df4.loc[df4[\"state\"]==\"전주\",\"state\"] = \"전북\"\n",
        "df4.loc[df4[\"state\"]==\"청주\",\"city\"] = \"청주\"\n",
        "df4.loc[df4[\"state\"]==\"청주\",\"state\"] = \"충북\"\n",
        "df4.loc[df4[\"state\"]==\"수원\",\"city\"] = \"수원\"\n",
        "df4.loc[df4[\"state\"]==\"수원\",\"state\"] = \"경기\"\n",
        "df4.loc[df4[\"state\"]==\"부천\",\"city\"] = \"부천\"\n",
        "df4.loc[df4[\"state\"]==\"부천\",\"state\"] = \"경기\"\n",
        "df4.loc[df4[\"state\"]==\"경기고양\",\"city\"] = \"고양\"\n",
        "df4.loc[df4[\"state\"]==\"경기고양\",\"state\"] = \"경기\"\n",
        "df4.loc[df4[\"state\"]==\"충북청주\",\"city\"] = \"청주\"\n",
        "df4.loc[df4[\"state\"]==\"충북청주\",\"state\"] = \"충북\"\n",
        "df4.loc[df4[\"state\"]==\"전북전주\",\"city\"] = \"전주\"\n",
        "df4.loc[df4[\"state\"]==\"전북전주\",\"state\"] = \"전북\"\n",
        "df4.loc[df4[\"state\"]==\"경북/문경\",\"city\"] = \"문경\"\n",
        "df4.loc[df4[\"state\"]==\"경북/문경\",\"state\"] = \"경북\"\n",
        "df4.loc[df4[\"state\"]==\"포항\",\"city\"] = \"포항\"\n",
        "df4.loc[df4[\"state\"]==\"포항\",\"state\"] = \"경북\"\n",
        "df4.loc[df4[\"state\"]==\"경북/안동\",\"city\"] = \"안동\"\n",
        "df4.loc[df4[\"state\"]==\"경북/안동\",\"state\"] = \"경북\"\n",
        "df4.loc[df4[\"state\"]==\"전남/무안군\",\"city\"] = \"전남\"\n",
        "df4.loc[df4[\"state\"]==\"전남/무안군\",\"state\"] = \"무안\"\n",
        "df4.loc[df4[\"state\"]==\"경북/구미\",\"city\"] = \"구미\"\n",
        "df4.loc[df4[\"state\"]==\"경북/구미\",\"state\"] = \"경북\"\n",
        "df4.loc[df4[\"state\"]==\"경북/상주\",\"city\"] = \"상주\"\n",
        "df4.loc[df4[\"state\"]==\"경북/상주\",\"state\"] = \"경북\"\n",
        "df4.loc[df4[\"state\"]==\"경북/영천\",\"city\"] = \"영천\"\n",
        "df4.loc[df4[\"state\"]==\"경북/영천\",\"state\"] = \"경북\"\n",
        "df4.loc[df4[\"state\"]==\"경남/합천군\",\"city\"] = \"합천\"\n",
        "df4.loc[df4[\"state\"]==\"경남/합천군\",\"state\"] = \"경남\"\n",
        "df4.loc[df4[\"state\"]==\"전남/고흥군\",\"city\"] = \"고흥\"\n",
        "df4.loc[df4[\"state\"]==\"전남/고흥군\",\"state\"] = \"전남\"\n",
        "df4.loc[df4[\"state\"]==\"무안\",\"state\"] = \"전남\"\n",
        "df4.loc[df4[\"state\"]==\"서해안\",\"city\"] = \"미상\"\n",
        "df4.loc[df4[\"state\"]==\"서해안\",\"state\"] = \"국산\"\n",
        "df4.loc[df4[\"state\"]==\"남해안\",\"city\"] = \"미상\"\n",
        "df4.loc[df4[\"state\"]==\"남해안\",\"state\"] = \"국산\"\n",
        "\n",
        "\n",
        "# 외국\n",
        "## 아시아\n",
        "df4.loc[df4[\"state\"]==\"칠레\",\"city\"] = \"칠레\"\n",
        "df4.loc[df4[\"state\"]==\"칠레\",\"state\"] = \"수입\"\n",
        "df4.loc[df4[\"state\"]==\"일본\",\"city\"] = \"일본\"\n",
        "df4.loc[df4[\"state\"]==\"일본\",\"state\"] = \"수입\"\n",
        "df4.loc[df4[\"state\"]==\"베트남\",\"city\"] = \"베트남\"\n",
        "df4.loc[df4[\"state\"]==\"베트남\",\"state\"] = \"수입\"\n",
        "df4.loc[df4[\"state\"]==\"우즈베크\",\"city\"] = \"우즈베키스탄\"\n",
        "df4.loc[df4[\"state\"]==\"우즈베크\",\"state\"] = \"수입\"\n",
        "df4.loc[df4[\"state\"]==\"이스라엘\",\"city\"] = \"이스라엘\"\n",
        "df4.loc[df4[\"state\"]==\"이스라엘\",\"state\"] = \"수입\"\n",
        "df4.loc[df4[\"state\"]==\"터키\",\"city\"] = \"터키\"\n",
        "df4.loc[df4[\"state\"]==\"터키\",\"state\"] = \"수입\"\n",
        "df4.loc[df4[\"state\"]==\"중국\",\"city\"] = \"중국\"\n",
        "df4.loc[df4[\"state\"]==\"중국\",\"state\"] = \"수입\"\n",
        "df4.loc[df4[\"state\"]==\"타이\",\"city\"] = \"태국\"\n",
        "df4.loc[df4[\"state\"]==\"타이\",\"state\"] = \"수입\"\n",
        "df4.loc[df4[\"state\"]==\"태국\",\"city\"] = \"태국\"\n",
        "df4.loc[df4[\"state\"]==\"태국\",\"state\"] = \"수입\"\n",
        "df4.loc[df4[\"state\"]==\"필리핀\",\"city\"] = \"필리핀\"\n",
        "df4.loc[df4[\"state\"]==\"필리핀\",\"state\"] = \"수입\"\n",
        "df4.loc[df4[\"state\"]==\"우즈베키스탄\",\"city\"] = \"우즈베키스탄\"\n",
        "df4.loc[df4[\"state\"]==\"우즈베키스탄\",\"state\"] = \"수입\"\n",
        "df4.loc[df4[\"state\"]==\"대만\",\"city\"] = \"대만\"\n",
        "df4.loc[df4[\"state\"]==\"대만\",\"state\"] = \"수입\"\n",
        "df4.loc[df4[\"state\"]==\"베트남\",\"city\"] = \"베트남\"\n",
        "df4.loc[df4[\"state\"]==\"베트남\",\"state\"] = \"수입\"\n",
        "df4.loc[df4[\"state\"]==\"이란\",\"city\"] = \"이란\"\n",
        "df4.loc[df4[\"state\"]==\"이란\",\"state\"] = \"수입\"\n",
        "df4.loc[df4[\"state\"]==\"러\",\"city\"] = \"러시아\"\n",
        "df4.loc[df4[\"state\"]==\"러\",\"state\"] = \"수입\"\n",
        "df4.loc[(df4[\"state\"]==\"인\")&(df4[\"origin\"]==\"인도네시아\"),\"city\"] = \"인도네시아\"\n",
        "df4.loc[(df4[\"state\"]==\"인\")&(df4[\"origin\"]==\"인도네시아\"),\"state\"] = \"수입\"\n",
        "df4.loc[(df4[\"state\"]==\"인\")&(df4[\"origin\"]==\"인도\"),\"city\"] = \"인도\"\n",
        "df4.loc[(df4[\"state\"]==\"인\")&(df4[\"origin\"]==\"인도\"),\"state\"] = \"수입\"\n",
        "\n",
        "## 아메리카\n",
        "\n",
        "df4.loc[df4[\"state\"]==\"캘리포니아\",\"city\"] = \"미국\"\n",
        "df4.loc[df4[\"state\"]==\"캘리포니아\",\"state\"] = \"수입\"\n",
        "df4.loc[df4[\"state\"]==\"포클랜드\",\"city\"] = \"영국\"\n",
        "df4.loc[df4[\"state\"]==\"포클랜드\",\"state\"] = \"수입\"\n",
        "df4.loc[df4[\"state\"]==\"콜롬비아\",\"city\"] = \"콜롬비아\"\n",
        "df4.loc[df4[\"state\"]==\"콜롬비아\",\"state\"] = \"수입\"\n",
        "df4.loc[df4[\"state\"]==\"에콰\",\"city\"] = \"에콰도르\"\n",
        "df4.loc[df4[\"state\"]==\"에콰\",\"state\"] = \"수입\"\n",
        "df4.loc[df4[\"state\"]==\"에쿠아\",\"city\"] = \"에콰도르\"\n",
        "df4.loc[df4[\"state\"]==\"에쿠아\",\"state\"] = \"수입\"\n",
        "df4.loc[df4[\"state\"]==\"에콰돌\",\"city\"] = \"에콰도르\"\n",
        "df4.loc[df4[\"state\"]==\"에콰돌\",\"state\"] = \"수입\"\n",
        "df4.loc[df4[\"state\"]==\"과테말라\",\"city\"] = \"과테말라\"\n",
        "df4.loc[df4[\"state\"]==\"과테말라\",\"state\"] = \"수입\"\n",
        "df4.loc[df4[\"state\"]==\"코스타리카\",\"city\"] = \"코스타리카\"\n",
        "df4.loc[df4[\"state\"]==\"코스타리카\",\"state\"] = \"수입\"\n",
        "df4.loc[df4[\"state\"]==\"멕\",\"city\"] = \"멕시코\"\n",
        "df4.loc[df4[\"state\"]==\"멕\",\"state\"] = \"수입\"\n",
        "df4.loc[df4[\"state\"]==\"페루\",\"city\"] = \"페루\"\n",
        "df4.loc[df4[\"state\"]==\"페루\",\"state\"] = \"수입\"\n",
        "df4.loc[df4[\"state\"]==\"미국\",\"city\"] = \"미국\"\n",
        "df4.loc[df4[\"state\"]==\"미국\",\"state\"] = \"수입\"\n",
        "df4.loc[df4[\"state\"]==\"아르헨티나\",\"city\"] = \"아르헨티나\"\n",
        "df4.loc[df4[\"state\"]==\"아르헨티나\",\"state\"] = \"수입\"\n",
        "df4.loc[df4[\"state\"]==\"브라질\",\"city\"] = \"브라질\"\n",
        "df4.loc[df4[\"state\"]==\"브라질\",\"state\"] = \"수입\"\n",
        "\n",
        "## 유럽\n",
        "df4.loc[df4[\"state\"]==\"스페인\",\"city\"] = \"스페인\"\n",
        "df4.loc[df4[\"state\"]==\"스페인\",\"state\"] = \"수입\"\n",
        "df4.loc[df4[\"state\"]==\"우크라이나\",\"city\"] = \"우크라이나\"\n",
        "df4.loc[df4[\"state\"]==\"우크라이나\",\"state\"] = \"수입\"\n",
        "df4.loc[df4[\"state\"]==\"이탈리아\",\"city\"] = \"이탈리아\"\n",
        "df4.loc[df4[\"state\"]==\"이탈리아\",\"state\"] = \"수입\"\n",
        "df4.loc[df4[\"state\"]==\"불가리아\",\"city\"] = \"불가리아\"\n",
        "df4.loc[df4[\"state\"]==\"불가리아\",\"state\"] = \"수입\"\n",
        "\n",
        "## 아프리카\n",
        "df4.loc[df4[\"state\"]==\"남아프리카\",\"city\"] = \"남아공\"\n",
        "df4.loc[df4[\"state\"]==\"남아프리카\",\"state\"] = \"수입\"\n",
        "df4.loc[df4[\"state\"]==\"남아프리카공화국\",\"city\"] = \"남아공\"\n",
        "df4.loc[df4[\"state\"]==\"남아프리카공화국\",\"state\"] = \"수입\"\n",
        "df4.loc[df4[\"state\"]==\"수입남아프리카공화국\",\"city\"] = \"남아공\"\n",
        "df4.loc[df4[\"state\"]==\"수입남아프리카공화국\",\"state\"] = \"수입\"\n",
        "\n",
        "\n",
        "## 오세아니아\n",
        "df4.loc[df4[\"state\"]==\"뉴질랜드\",\"city\"] = \"뉴질랜드\"\n",
        "df4.loc[df4[\"state\"]==\"뉴질랜드\",\"state\"] = \"수입\"\n",
        "df4.loc[df4[\"state\"]==\"오스트레일\",\"city\"] = \"호주\"\n",
        "df4.loc[df4[\"state\"]==\"오스트레일\",\"state\"] = \"수입\"\n",
        "df4.loc[df4[\"state\"]==\"오스트레일리아\",\"city\"] = \"호주\"\n",
        "df4.loc[df4[\"state\"]==\"오스트레일리아\",\"state\"] = \"수입\"\n",
        "df4.loc[df4[\"state\"]==\"호주\",\"city\"] = \"호주\"\n",
        "df4.loc[df4[\"state\"]==\"호주\",\"state\"] = \"수입\"\n",
        "df4.loc[df4[\"state\"]==\"통가\",\"city\"] = \"통가\"\n",
        "df4.loc[df4[\"state\"]==\"통가\",\"state\"] = \"수입\"\n",
        "df4.loc[df4[\"state\"]==\"뉴칼레\",\"city\"] = \"뉴칼레도니아\"\n",
        "df4.loc[df4[\"state\"]==\"뉴칼레\",\"state\"] = \"수입\"\n",
        "df4.loc[df4[\"state\"]==\"뉴\",\"city\"] = \"뉴칼레도니아\"\n",
        "df4.loc[df4[\"state\"]==\"뉴\",\"state\"] = \"수입\"\n",
        "df4.loc[df4[\"state\"]==\"누벨칼레\",\"city\"] = \"뉴칼레도니아\"\n",
        "df4.loc[df4[\"state\"]==\"누벨칼레\",\"state\"] = \"수입\"\n",
        "# 기타\n",
        "df4.loc[df4[\"state\"]==\"수입산\",\"state\"] = \"수입\"\n",
        "df4.loc[df4[\"state\"]==\"기타외국\",\"city\"] = \"미상\"\n",
        "df4.loc[df4[\"state\"]==\"기타외국\",\"state\"] = \"수입\""
      ]
    },
    {
      "cell_type": "code",
      "execution_count": 139,
      "metadata": {},
      "outputs": [
        {
          "data": {
            "text/html": [
              "<div>\n",
              "<style scoped>\n",
              "    .dataframe tbody tr th:only-of-type {\n",
              "        vertical-align: middle;\n",
              "    }\n",
              "\n",
              "    .dataframe tbody tr th {\n",
              "        vertical-align: top;\n",
              "    }\n",
              "\n",
              "    .dataframe thead th {\n",
              "        text-align: right;\n",
              "    }\n",
              "</style>\n",
              "<table border=\"1\" class=\"dataframe\">\n",
              "  <thead>\n",
              "    <tr style=\"text-align: right;\">\n",
              "      <th></th>\n",
              "      <th>prd</th>\n",
              "      <th>scale</th>\n",
              "      <th>price</th>\n",
              "      <th>origin</th>\n",
              "      <th>eco</th>\n",
              "      <th>reg_date</th>\n",
              "      <th>new_class</th>\n",
              "      <th>price_kg</th>\n",
              "      <th>state</th>\n",
              "      <th>city</th>\n",
              "    </tr>\n",
              "  </thead>\n",
              "  <tbody>\n",
              "  </tbody>\n",
              "</table>\n",
              "</div>"
            ],
            "text/plain": [
              "Empty DataFrame\n",
              "Columns: [prd, scale, price, origin, eco, reg_date, new_class, price_kg, state, city]\n",
              "Index: []"
            ]
          },
          "execution_count": 139,
          "metadata": {},
          "output_type": "execute_result"
        }
      ],
      "source": [
        "df4[df4['state']=='남해안']"
      ]
    },
    {
      "cell_type": "code",
      "execution_count": 140,
      "metadata": {
        "colab": {
          "base_uri": "https://localhost:8080/"
        },
        "id": "bPMNH6Fz9laX",
        "outputId": "c7ea6abb-e318-4350-9eea-394a56796052"
      },
      "outputs": [
        {
          "data": {
            "text/plain": [
              "array(['경북', '경기', '충남', '충북', '전남', '강원', '수입', '전북', '인천', '경남', '세종',\n",
              "       '제주', '서울', '부산', '울산', '대전', '광주', '대구', '국산'], dtype=object)"
            ]
          },
          "execution_count": 140,
          "metadata": {},
          "output_type": "execute_result"
        }
      ],
      "source": [
        "df4['state'].unique()"
      ]
    },
    {
      "cell_type": "code",
      "execution_count": 141,
      "metadata": {
        "id": "Ih5vw324J-Ed"
      },
      "outputs": [],
      "source": [
        "# city\n",
        "# 우선 결측치 제거\n",
        "df4.loc[df4[\"city\"].isnull(),\"city\"] = \"미상\""
      ]
    },
    {
      "cell_type": "code",
      "execution_count": 142,
      "metadata": {
        "id": "cXY3uABaKSty"
      },
      "outputs": [],
      "source": [
        "# 이후 시,군 등 제거\n",
        "def name_sort(words):\n",
        "  p = re.compile('[^시군]+')\n",
        "  word = re.search(p,words)\n",
        "  return word.group()\n",
        "\n",
        "df4[\"city\"] = df4[\"city\"].apply(name_sort)"
      ]
    },
    {
      "cell_type": "code",
      "execution_count": 143,
      "metadata": {
        "id": "QuyWFOs1R7yP"
      },
      "outputs": [],
      "source": [
        "# \\t 도 제거\n",
        "def name_sort2(words):\n",
        "  p = re.compile('[^\\t]+')\n",
        "  word = re.search(p,words)\n",
        "  return word.group()\n",
        "\n",
        "df4[\"city\"] = df4[\"city\"].apply(name_sort2)"
      ]
    },
    {
      "cell_type": "code",
      "execution_count": 144,
      "metadata": {
        "colab": {
          "base_uri": "https://localhost:8080/"
        },
        "id": "szJvb99ySEPR",
        "outputId": "97ca859c-e684-45b0-f3d0-488abdd6cedf"
      },
      "outputs": [
        {
          "data": {
            "text/plain": [
              "array(['문경', '상주', '성주', '이천', '김천', '부여', '양평', '음성', '보령', '여주', '안성',\n",
              "       '청도', '무안', '나주', '포천', '충주', '청주', '고성', '천안', '예천', '청원', '공주',\n",
              "       '중국', '평창', '남원', '용인', '장흥', '청양', '가평', '파주', '논산', '당진', '홍천',\n",
              "       '평택', '보성', '곡성', '함평', '화성', '서천', '예산', '강화', '진주', '해남', '아산',\n",
              "       '양양', '서산', '진천', '세종', '산청', '흥', '홍성', '함양', '의정부', '안동', '고양',\n",
              "       '정읍', '괴산', '성남', '강진', '인제', '동해', '광주', '영동', '부안', '여수', '춘천',\n",
              "       '보은', '의왕', '원주', '산', '담양', '제주', '창녕', '고창', '장성', '화천', '미상',\n",
              "       '고흥', '양주', '철원', '의령', '연천', '김제', '태백', '순창', '김포', '칠레', '미국',\n",
              "       '진도', '완도', '송파구', '부산', '함안', '포항', '하동', '경주', '사천', '도봉구', '울산',\n",
              "       '대전', '밀양', '오산', '금산', '서울', '남양주', '영덕', '광산구', '남구', '제천', '횡성',\n",
              "       '신안', '강서구', '필리핀', '페루', '베트남', '강동구', '삼척', '익산', '영월', '계양구',\n",
              "       '영주', '화순', '광양', '순천', '청송', '대구', '영천', '거창', '영양', '무주', '강릉',\n",
              "       '의성', '완주', '봉화', '고령', '양구', '장수', '경산', '옥천', '구리', '하남', '양천구',\n",
              "       '광명', '중랑구', '부천', '서초구', '태안', '임실', '영암', '창원', '서구', '마산', '김해',\n",
              "       '정선', '이란', '남해', '은평구', '동대문구', '멕', '뉴질랜드', '전주', '합천', '영광',\n",
              "       '중구', '위', '구미', '호주', '아르헨티나', '남아공산', '구례', '진안', '이스라엘', '남아공',\n",
              "       '양산', '속초', '북구', '수원', '종로구', '영등포', '칠곡', '과테말라', '부평구', '인천',\n",
              "       '미추홀', '미추홀구', '남동구', '통가', '뉴칼레도니아', '거제', '동대문', '이집트', '캄보디아',\n",
              "       '태국', '브라질', '안산', '코스타리카', '에콰도르', '콜롬비아', '연기', '울진', '통영',\n",
              "       '마산(고성,진해)', '고흥(나로도)', '삼천포', '순천(광양)', '말레이지아', '인도네', '인도',\n",
              "       '캐나다', '목포(무안)', '노르웨이', '러', '기타', '영국', '장항(서천)', '타이', '세네갈',\n",
              "       '파키스탄', '바레인'], dtype=object)"
            ]
          },
          "execution_count": 144,
          "metadata": {},
          "output_type": "execute_result"
        }
      ],
      "source": [
        "df4['city'].unique()"
      ]
    },
    {
      "cell_type": "code",
      "execution_count": 145,
      "metadata": {
        "id": "MrIoC_BDQ_ic"
      },
      "outputs": [],
      "source": [
        "# 나머지 케이스 정리\n",
        "\n",
        "# 국내\n",
        "df4.loc[df4[\"city\"]==\"기타\",\"city\"] = \"미상\"\n",
        "## 일반시\n",
        "df4.loc[df4[\"city\"]==\"위\",\"city\"] = \"군위\"\n",
        "df4.loc[df4[\"city\"]==\"고흥(나로도)\",\"city\"] = \"고흥\"\n",
        "df4.loc[df4[\"city\"]==\"산\",\"city\"] = \"군산\"\n",
        "df4.loc[df4[\"city\"]==\"장항(서천)\",\"city\"] = \"서천\"\n",
        "df4.loc[df4[\"city\"]==\"삼천포\",\"city\"] = \"사천\"\n",
        "df4.loc[df4[\"city\"]==\"삼천포\",\"city\"] = \"사천\"\n",
        "df4.loc[df4[\"city\"]==\"순천(광양)\",\"city\"] = \"순천\"\n",
        "df4.loc[df4[\"city\"]==\"대천(보령)\",\"city\"] = \"보령\"\n",
        "df4.loc[df4[\"city\"]==\"대천(보령)\",\"city\"] = \"보령\"\n",
        "df4.loc[df4[\"city\"]==\"화성(평택)\",\"city\"] = \"화성\"\n",
        "df4.loc[df4[\"city\"]==\"흥\",\"city\"] = \"시흥\"\n",
        "df4.loc[df4[\"city\"]==\"목포(무안)\",\"city\"] = \"목포\"\n",
        "df4.loc[df4[\"city\"]==\"목포(무안)\",\"state\"] = \"전남\"\n",
        "df4.loc[df4[\"city\"]==\"보성(벌교)\",\"city\"] = \"보성\"\n",
        "df4.loc[df4[\"city\"]==\"울진(후포)\",\"city\"] = \"울진\"\n",
        "df4.loc[df4[\"city\"]==\"논\",\"city\"] = \"논산\"\n",
        "df4.loc[df4[\"city\"]==\"논\",\"city\"] = \"논산\"\n",
        "df4.loc[df4[\"city\"]==\"순\",\"city\"] = \"순창\"\n",
        "df4.loc[df4[\"city\"]==\"익\",\"city\"] = \"익산\"\n",
        "df4.loc[df4[\"city\"]==\"미금\",\"city\"] = \"성남\"\n",
        "df4.loc[df4[\"city\"]==\"주문진\",\"city\"] = \"강릉\"\n",
        "df4.loc[df4[\"city\"]==\"전남\",\"city\"] = \"무안\"\n",
        "df4.loc[df4[\"city\"]==\"장\",\"city\"] = \"장수\"\n",
        "df4.loc[df4[\"city\"]==\"거제(장승포)\",\"city\"] = \"거제\"\n",
        "df4.loc[(df4[\"city\"]==\"완\")&(df4[\"state\"]==\"전북\"),\"city\"] = \"완주\"\n",
        "df4.loc[(df4[\"state\"]==\"전북\")&(df4[\"city\"]==\"남\"),\"city\"] = \"남원\"\n",
        "df4.loc[(df4['prd']==\"호박\") & (df4['state']=='전북'),\"city\"] = \"전주\"\n",
        "## 광역시\n",
        "df4.loc[df4[\"city\"]==\"강서구\",\"city\"] = \"서울\"\n",
        "df4.loc[df4[\"city\"]==\"은평구\",\"city\"] = \"서울\"\n",
        "df4.loc[df4[\"city\"]==\"강동구\",\"city\"] = \"서울\"\n",
        "df4.loc[df4[\"city\"]==\"마포구\",\"city\"] = \"서울\"\n",
        "df4.loc[df4[\"city\"]==\"중구\",\"city\"] = \"서울\"\n",
        "df4.loc[df4[\"city\"]==\"송파구\",\"city\"] = \"서울\"\n",
        "df4.loc[df4[\"city\"]==\"도봉구\",\"city\"] = \"서울\"\n",
        "df4.loc[df4[\"city\"]==\"중랑구\",\"city\"] = \"서울\"\n",
        "df4.loc[df4[\"city\"]==\"양천구\",\"city\"] = \"서울\"\n",
        "df4.loc[df4[\"city\"]==\"성동구\",\"city\"] = \"서울\"\n",
        "df4.loc[df4[\"city\"]==\"강남구\",\"city\"] = \"서울\"\n",
        "df4.loc[df4[\"city\"]==\"동대문구\",\"city\"] = \"서울\"\n",
        "df4.loc[df4[\"city\"]==\"영등포구\",\"city\"] = \"서울\"\n",
        "df4.loc[df4[\"city\"]==\"영등포\",\"city\"] = \"서울\"\n",
        "df4.loc[df4[\"city\"]==\"서초구\",\"city\"] = \"서울\"\n",
        "df4.loc[df4[\"city\"]==\"구로구\",\"city\"] = \"서울\"\n",
        "df4.loc[df4[\"city\"]==\"동대문\",\"city\"] = \"서울\"\n",
        "df4.loc[df4[\"city\"]==\"금천구\",\"city\"] = \"서울\"\n",
        "df4.loc[df4[\"city\"]==\"동작구\",\"city\"] = \"서울\"\n",
        "df4.loc[df4[\"city\"]==\"용산구\",\"city\"] = \"서울\"\n",
        "df4.loc[df4[\"city\"]==\"광진구\",\"city\"] = \"서울\"\n",
        "df4.loc[df4[\"city\"]==\"종로구\",\"city\"] = \"서울\"\n",
        "\n",
        "df4.loc[df4[\"city\"]==\"광산구\",\"city\"] = \"광주\"\n",
        "df4.loc[(df4[\"state\"]==\"광주\")&(df4[\"city\"]==\"남구\"),\"city\"] = \"광주\"\n",
        "df4.loc[(df4[\"state\"]==\"광주\")&(df4[\"city\"]==\"북구\"),\"city\"] = \"광주\"\n",
        "df4.loc[(df4[\"state\"]==\"광주\")&(df4[\"city\"]==\"서구\"),\"city\"] = \"광주\"\n",
        "df4.loc[df4[\"city\"]==\"동구\",\"city\"] = \"광주\"\n",
        "df4.loc[(df4[\"state\"]==\"인천\")&(df4[\"city\"]==\"남구\"),\"city\"] = \"인천\"\n",
        "df4.loc[(df4[\"state\"]==\"인천\")&(df4[\"city\"]==\"서구\"),\"city\"] = \"인천\"\n",
        "df4.loc[df4[\"city\"]==\"미추홀\",\"city\"] = \"인천\"\n",
        "df4.loc[df4[\"city\"]==\"부평구\",\"city\"] = \"인천\"\n",
        "df4.loc[df4[\"city\"]==\"남동구\",\"city\"] = \"인천\"\n",
        "df4.loc[df4[\"city\"]==\"미추홀구\",\"city\"] = \"인천\"\n",
        "df4.loc[df4[\"city\"]==\"계양구\",\"city\"] = \"인천\"\n",
        "df4.loc[df4[\"city\"]==\"마산(고성,진해)\",\"city\"] = \"창원\"\n",
        "df4.loc[(df4[\"state\"]==\"부산\")&(df4[\"city\"]==\"북구\"),\"city\"] = \"부산\"\n",
        "df4.loc[df4[\"city\"]==\"오포\",\"city\"] = \"부산\"\n",
        "df4.loc[df4[\"city\"]==\"부산진\",\"city\"] = \"부산\"\n",
        "df4.loc[df4[\"city\"]==\"사상구\",\"city\"] = \"부산\"\n",
        "df4.loc[df4[\"city\"]==\"부산진구\",\"city\"] = \"부산\"\n",
        "df4.loc[df4[\"city\"]==\"북제주\",\"city\"] = \"제주\"\n",
        "df4.loc[df4[\"city\"]==\"남제주\",\"city\"] = \"제주\"\n",
        "\n",
        "# 해외\n",
        "## 아시아\n",
        "df4.loc[df4[\"city\"]==\"러\",\"city\"] = \"러시아\"\n",
        "df4.loc[df4[\"city\"]==\"말레이지아\",\"city\"] = \"말레이시아\"\n",
        "df4.loc[df4[\"city\"]==\"타이\",\"city\"] = \"태국\"\n",
        "df4.loc[df4[\"city\"]==\"인도네\",\"city\"] = \"인도네시아\"\n",
        "df4.loc[df4[\"city\"]==\"사우디\",\"city\"] = \"사우디아라비아\"\n",
        "## 아메리카\n",
        "df4.loc[df4[\"city\"]==\"멕\",\"city\"] = \"멕시코\"\n",
        "## 아프리카\n",
        "df4.loc[df4[\"city\"]==\"남아공산\",\"city\"] = \"남아공\"\n",
        "## 유럽\n",
        "## 오세아니아"
      ]
    },
    {
      "cell_type": "code",
      "execution_count": 146,
      "metadata": {},
      "outputs": [
        {
          "data": {
            "text/plain": [
              "array([], dtype=object)"
            ]
          },
          "execution_count": 146,
          "metadata": {},
          "output_type": "execute_result"
        }
      ],
      "source": [
        "# 기존 city 리스트와 비교\n",
        "ex_city = pd.read_csv(\"../cities.csv\")\n",
        "df4[~df4['city'].isin(ex_city['city'])]['city'].unique()"
      ]
    },
    {
      "cell_type": "code",
      "execution_count": 147,
      "metadata": {},
      "outputs": [
        {
          "name": "stderr",
          "output_type": "stream",
          "text": [
            "/var/folders/nq/s4zx76p53d11lnr0t1dxpxh00000gn/T/ipykernel_3151/1856950528.py:3: FutureWarning: The frame.append method is deprecated and will be removed from pandas in a future version. Use pandas.concat instead.\n",
            "  cities = ex_city.append(new_city,ignore_index=True)\n"
          ]
        }
      ],
      "source": [
        "# 리스트 최신화\n",
        "new_city = pd.DataFrame(df4['city'].unique(),columns=['city'])\n",
        "cities = ex_city.append(new_city,ignore_index=True)"
      ]
    },
    {
      "cell_type": "code",
      "execution_count": 148,
      "metadata": {},
      "outputs": [],
      "source": [
        "cities.drop(columns=['Unnamed: 0'],inplace=True)\n",
        "cities.drop_duplicates(inplace=True)\n",
        "cities.reset_index(inplace=True,drop=True)"
      ]
    },
    {
      "cell_type": "code",
      "execution_count": 149,
      "metadata": {},
      "outputs": [],
      "source": [
        "cities.to_csv('../cities.csv')"
      ]
    },
    {
      "cell_type": "code",
      "execution_count": 150,
      "metadata": {
        "id": "vi6fJirdV7Gz"
      },
      "outputs": [],
      "source": [
        "# 처리 완료하였으니 df4는 백업으로 두고 df5 활용\n",
        "df5 = df4.drop(columns='origin')"
      ]
    },
    {
      "cell_type": "markdown",
      "metadata": {
        "id": "CoWdniywxHwf"
      },
      "source": [
        "# 전처리 결과"
      ]
    },
    {
      "cell_type": "markdown",
      "metadata": {
        "id": "t709mbs6xMkS"
      },
      "source": [
        "# 파일 저장"
      ]
    },
    {
      "cell_type": "code",
      "execution_count": 151,
      "metadata": {
        "id": "tEfggl4M5rFG"
      },
      "outputs": [],
      "source": [
        "df5.to_csv('../data_proceed/202112_proceed.csv')"
      ]
    }
  ],
  "metadata": {
    "colab": {
      "collapsed_sections": [],
      "name": "pre_processing_2022_06.ipynb",
      "provenance": [],
      "toc_visible": true
    },
    "kernelspec": {
      "display_name": "Python 3.8.13 ('yds')",
      "language": "python",
      "name": "python3"
    },
    "language_info": {
      "codemirror_mode": {
        "name": "ipython",
        "version": 3
      },
      "file_extension": ".py",
      "mimetype": "text/x-python",
      "name": "python",
      "nbconvert_exporter": "python",
      "pygments_lexer": "ipython3",
      "version": "3.8.13"
    },
    "vscode": {
      "interpreter": {
        "hash": "edd2e1eeac16ba0124adb27271db416cf5b91db76e0734afe4505ea0738c76e5"
      }
    }
  },
  "nbformat": 4,
  "nbformat_minor": 0
}
